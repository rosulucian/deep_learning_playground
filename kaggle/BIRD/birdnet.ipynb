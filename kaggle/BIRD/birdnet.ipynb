{
 "cells": [
  {
   "cell_type": "code",
   "execution_count": 1,
   "id": "e89f1539-504c-4eb3-bf62-1af7ae748ab2",
   "metadata": {},
   "outputs": [],
   "source": [
    "%load_ext autoreload\n",
    "%autoreload 2"
   ]
  },
  {
   "cell_type": "code",
   "execution_count": 35,
   "id": "2c6ad60d-1375-4bd1-b8ae-8655afac0512",
   "metadata": {},
   "outputs": [],
   "source": [
    "import numpy as np # linear algebra\n",
    "import pandas as pd # data processing, CSV file I/O (e.g. pd.read_csv)\n",
    "\n",
    "import os\n",
    "import torchaudio\n",
    "import soundfile as sf\n",
    "import seaborn as sns\n",
    "\n",
    "from pathlib import Path\n",
    "import plotly.express as px\n",
    "import matplotlib.pyplot as plt\n",
    "from IPython.display import Audio\n",
    "\n",
    "from birdnetlib import Recording\n",
    "from birdnetlib.analyzer import Analyzer\n",
    "from birdnetlib.batch import DirectoryMultiProcessingAnalyzer"
   ]
  },
  {
   "cell_type": "code",
   "execution_count": 11,
   "id": "cf6d65c8-8a71-41d5-9aa3-beec063b3303",
   "metadata": {},
   "outputs": [],
   "source": [
    "train_dir = Path('E:\\data\\BirdCLEF')\n",
    "\n",
    "class CFG:\n",
    "    random_seed = 42\n",
    "    \n",
    "    ROOT_FOLDER = train_dir\n",
    "    AUDIO_FOLDER = train_dir / 'train_audio'\n",
    "    DATA_DIR = train_dir / 'spectros'\n",
    "    TRAIN_CSV = train_dir / 'train_metadata.csv'\n",
    "    RESULTS_DIR = train_dir / 'results'\n",
    "    CKPT_DIR = RESULTS_DIR / 'ckpt'\n",
    "    bird20223 = train_dir / 'bird2023.csv'"
   ]
  },
  {
   "cell_type": "code",
   "execution_count": 36,
   "id": "529968c9-ed07-450a-8f84-8e3edd424b17",
   "metadata": {},
   "outputs": [
    {
     "data": {
      "text/plain": [
       "((16941, 12), (16941, 12))"
      ]
     },
     "execution_count": 36,
     "metadata": {},
     "output_type": "execute_result"
    }
   ],
   "source": [
    "meta_df = pd.read_csv(CFG.TRAIN_CSV)\n",
    "df_23 = pd.read_csv(CFG.bird20223)\n",
    "df_23.shape, df_23.shape"
   ]
  },
  {
   "cell_type": "code",
   "execution_count": 78,
   "id": "605b0eb3-5e44-41a4-80e4-f36075d4fb86",
   "metadata": {
    "scrolled": true
   },
   "outputs": [
    {
     "data": {
      "text/plain": [
       "(182, 'E:\\\\data\\\\BirdCLEF\\\\train_audio\\\\asbfly')"
      ]
     },
     "execution_count": 78,
     "metadata": {},
     "output_type": "execute_result"
    }
   ],
   "source": [
    "directories = meta_df.primary_label.unique().tolist()\n",
    "directories = [str(CFG.AUDIO_FOLDER / d) for d in directories]\n",
    "len(directories), directories[0]"
   ]
  },
  {
   "cell_type": "code",
   "execution_count": 42,
   "id": "cc25c051-beb7-4b4b-82d5-66eb71da759b",
   "metadata": {},
   "outputs": [],
   "source": [
    "meta_df['filename'] = f'{str(CFG.AUDIO_FOLDER)}\\\\' + meta_df['filename']"
   ]
  },
  {
   "cell_type": "code",
   "execution_count": 43,
   "id": "fcd41dda-7b41-488b-932f-cc4a4b857fc8",
   "metadata": {},
   "outputs": [
    {
     "data": {
      "text/html": [
       "<div>\n",
       "<style scoped>\n",
       "    .dataframe tbody tr th:only-of-type {\n",
       "        vertical-align: middle;\n",
       "    }\n",
       "\n",
       "    .dataframe tbody tr th {\n",
       "        vertical-align: top;\n",
       "    }\n",
       "\n",
       "    .dataframe thead th {\n",
       "        text-align: right;\n",
       "    }\n",
       "</style>\n",
       "<table border=\"1\" class=\"dataframe\">\n",
       "  <thead>\n",
       "    <tr style=\"text-align: right;\">\n",
       "      <th></th>\n",
       "      <th>primary_label</th>\n",
       "      <th>secondary_labels</th>\n",
       "      <th>type</th>\n",
       "      <th>latitude</th>\n",
       "      <th>longitude</th>\n",
       "      <th>scientific_name</th>\n",
       "      <th>common_name</th>\n",
       "      <th>author</th>\n",
       "      <th>license</th>\n",
       "      <th>rating</th>\n",
       "      <th>url</th>\n",
       "      <th>filename</th>\n",
       "    </tr>\n",
       "  </thead>\n",
       "  <tbody>\n",
       "    <tr>\n",
       "      <th>0</th>\n",
       "      <td>asbfly</td>\n",
       "      <td>[]</td>\n",
       "      <td>['call']</td>\n",
       "      <td>39.2297</td>\n",
       "      <td>118.1987</td>\n",
       "      <td>Muscicapa dauurica</td>\n",
       "      <td>Asian Brown Flycatcher</td>\n",
       "      <td>Matt Slaymaker</td>\n",
       "      <td>Creative Commons Attribution-NonCommercial-Sha...</td>\n",
       "      <td>5.0</td>\n",
       "      <td>https://www.xeno-canto.org/134896</td>\n",
       "      <td>E:\\data\\BirdCLEF\\train_audio\\asbfly/XC134896.ogg</td>\n",
       "    </tr>\n",
       "    <tr>\n",
       "      <th>1</th>\n",
       "      <td>asbfly</td>\n",
       "      <td>[]</td>\n",
       "      <td>['song']</td>\n",
       "      <td>51.4030</td>\n",
       "      <td>104.6401</td>\n",
       "      <td>Muscicapa dauurica</td>\n",
       "      <td>Asian Brown Flycatcher</td>\n",
       "      <td>Magnus Hellström</td>\n",
       "      <td>Creative Commons Attribution-NonCommercial-Sha...</td>\n",
       "      <td>2.5</td>\n",
       "      <td>https://www.xeno-canto.org/164848</td>\n",
       "      <td>E:\\data\\BirdCLEF\\train_audio\\asbfly/XC164848.ogg</td>\n",
       "    </tr>\n",
       "  </tbody>\n",
       "</table>\n",
       "</div>"
      ],
      "text/plain": [
       "  primary_label secondary_labels      type  latitude  longitude  \\\n",
       "0        asbfly               []  ['call']   39.2297   118.1987   \n",
       "1        asbfly               []  ['song']   51.4030   104.6401   \n",
       "\n",
       "      scientific_name             common_name            author  \\\n",
       "0  Muscicapa dauurica  Asian Brown Flycatcher    Matt Slaymaker   \n",
       "1  Muscicapa dauurica  Asian Brown Flycatcher  Magnus Hellström   \n",
       "\n",
       "                                             license  rating  \\\n",
       "0  Creative Commons Attribution-NonCommercial-Sha...     5.0   \n",
       "1  Creative Commons Attribution-NonCommercial-Sha...     2.5   \n",
       "\n",
       "                                 url  \\\n",
       "0  https://www.xeno-canto.org/134896   \n",
       "1  https://www.xeno-canto.org/164848   \n",
       "\n",
       "                                           filename  \n",
       "0  E:\\data\\BirdCLEF\\train_audio\\asbfly/XC134896.ogg  \n",
       "1  E:\\data\\BirdCLEF\\train_audio\\asbfly/XC164848.ogg  "
      ]
     },
     "execution_count": 43,
     "metadata": {},
     "output_type": "execute_result"
    }
   ],
   "source": [
    "meta_df.head(2)"
   ]
  },
  {
   "cell_type": "code",
   "execution_count": 44,
   "id": "803d11fb-c886-478b-a3c5-e1f12e98c421",
   "metadata": {},
   "outputs": [
    {
     "data": {
      "text/plain": [
       "(22567, 12)"
      ]
     },
     "execution_count": 44,
     "metadata": {},
     "output_type": "execute_result"
    }
   ],
   "source": [
    "prim_df = meta_df[meta_df['secondary_labels'] == '[]']\n",
    "prim_df.shape"
   ]
  },
  {
   "cell_type": "code",
   "execution_count": null,
   "id": "5b965b03-2659-475b-bdab-0d3b98bfa026",
   "metadata": {},
   "outputs": [],
   "source": []
  },
  {
   "cell_type": "markdown",
   "id": "1667eda5-adb7-47fb-a89e-fa6d16f272f2",
   "metadata": {},
   "source": [
    "### Analyze"
   ]
  },
  {
   "cell_type": "code",
   "execution_count": 45,
   "id": "8e7ecb33-62fc-4e67-93eb-5d2d968e6d4b",
   "metadata": {},
   "outputs": [
    {
     "data": {
      "text/plain": [
       "primary_label                                                  asbfly\n",
       "secondary_labels                                                   []\n",
       "type                                                         ['call']\n",
       "latitude                                                      39.2297\n",
       "longitude                                                    118.1987\n",
       "scientific_name                                    Muscicapa dauurica\n",
       "common_name                                    Asian Brown Flycatcher\n",
       "author                                                 Matt Slaymaker\n",
       "license             Creative Commons Attribution-NonCommercial-Sha...\n",
       "rating                                                            5.0\n",
       "url                                 https://www.xeno-canto.org/134896\n",
       "filename             E:\\data\\BirdCLEF\\train_audio\\asbfly/XC134896.ogg\n",
       "Name: 0, dtype: object"
      ]
     },
     "execution_count": 45,
     "metadata": {},
     "output_type": "execute_result"
    }
   ],
   "source": [
    "prim_df.iloc[0]"
   ]
  },
  {
   "cell_type": "code",
   "execution_count": 46,
   "id": "8e9a9141-c0ff-44e2-9491-b60646c64fb8",
   "metadata": {},
   "outputs": [
    {
     "data": {
      "text/plain": [
       "'E:\\\\data\\\\BirdCLEF\\\\train_audio\\\\asbfly/XC134896.ogg'"
      ]
     },
     "execution_count": 46,
     "metadata": {},
     "output_type": "execute_result"
    }
   ],
   "source": [
    "filename = prim_df.iloc[0].filename\n",
    "filename"
   ]
  },
  {
   "cell_type": "code",
   "execution_count": 47,
   "id": "d80d1fad-3ad4-4cd7-ae37-0b3962ddd4c7",
   "metadata": {},
   "outputs": [
    {
     "name": "stdout",
     "output_type": "stream",
     "text": [
      "Labels loaded.\n",
      "load model True\n",
      "Model loaded.\n",
      "Labels loaded.\n",
      "load_species_list_model\n",
      "Meta model loaded.\n",
      "read_audio_data\n",
      "read_audio_data: complete, read  9 chunks.\n",
      "analyze_recording XC134896.ogg\n"
     ]
    },
    {
     "data": {
      "text/plain": [
       "6"
      ]
     },
     "execution_count": 47,
     "metadata": {},
     "output_type": "execute_result"
    }
   ],
   "source": [
    "# Load and initialize the BirdNET-Analyzer models.\n",
    "analyzer = Analyzer()\n",
    "\n",
    "recording = Recording(\n",
    "    analyzer,\n",
    "    filename,\n",
    "    # lat=35.4244,\n",
    "    # lon=-120.7463,\n",
    "    # date=datetime(year=2022, month=5, day=10), # use date or week_48\n",
    "    min_conf=0.5,\n",
    ")\n",
    "recording.analyze()\n",
    "len(recording.detections)"
   ]
  },
  {
   "cell_type": "code",
   "execution_count": 54,
   "id": "270fb35d-a6bc-4ea0-b889-0f797467adcb",
   "metadata": {},
   "outputs": [
    {
     "data": {
      "text/plain": [
       "('E:\\\\data\\\\BirdCLEF\\\\train_audio\\\\asbfly/XC134896.ogg', 'asbfly')"
      ]
     },
     "execution_count": 54,
     "metadata": {},
     "output_type": "execute_result"
    }
   ],
   "source": [
    "recording.path, recording.path.split('/')[0].split('\\\\')[-1]"
   ]
  },
  {
   "cell_type": "code",
   "execution_count": 48,
   "id": "8e8980ac-576b-43d3-9a85-90cd8e37bf8f",
   "metadata": {
    "scrolled": true
   },
   "outputs": [
    {
     "data": {
      "text/plain": [
       "[{'common_name': 'Asian Brown Flycatcher',\n",
       "  'scientific_name': 'Muscicapa dauurica',\n",
       "  'start_time': 0.0,\n",
       "  'end_time': 3.0,\n",
       "  'confidence': 0.9642523527145386,\n",
       "  'label': 'Muscicapa dauurica_Asian Brown Flycatcher'},\n",
       " {'common_name': 'Asian Brown Flycatcher',\n",
       "  'scientific_name': 'Muscicapa dauurica',\n",
       "  'start_time': 6.0,\n",
       "  'end_time': 9.0,\n",
       "  'confidence': 0.9933910369873047,\n",
       "  'label': 'Muscicapa dauurica_Asian Brown Flycatcher'},\n",
       " {'common_name': 'Asian Brown Flycatcher',\n",
       "  'scientific_name': 'Muscicapa dauurica',\n",
       "  'start_time': 9.0,\n",
       "  'end_time': 12.0,\n",
       "  'confidence': 0.9805001020431519,\n",
       "  'label': 'Muscicapa dauurica_Asian Brown Flycatcher'},\n",
       " {'common_name': 'Asian Brown Flycatcher',\n",
       "  'scientific_name': 'Muscicapa dauurica',\n",
       "  'start_time': 15.0,\n",
       "  'end_time': 18.0,\n",
       "  'confidence': 0.9784349203109741,\n",
       "  'label': 'Muscicapa dauurica_Asian Brown Flycatcher'},\n",
       " {'common_name': 'Asian Brown Flycatcher',\n",
       "  'scientific_name': 'Muscicapa dauurica',\n",
       "  'start_time': 18.0,\n",
       "  'end_time': 21.0,\n",
       "  'confidence': 0.9692810773849487,\n",
       "  'label': 'Muscicapa dauurica_Asian Brown Flycatcher'},\n",
       " {'common_name': 'Asian Brown Flycatcher',\n",
       "  'scientific_name': 'Muscicapa dauurica',\n",
       "  'start_time': 24.0,\n",
       "  'end_time': 27.0,\n",
       "  'confidence': 0.9978938698768616,\n",
       "  'label': 'Muscicapa dauurica_Asian Brown Flycatcher'}]"
      ]
     },
     "execution_count": 48,
     "metadata": {},
     "output_type": "execute_result"
    }
   ],
   "source": [
    "recording.detections"
   ]
  },
  {
   "cell_type": "code",
   "execution_count": 59,
   "id": "1b6fd5d5-a8d3-40d7-9910-03e0450066b2",
   "metadata": {},
   "outputs": [
    {
     "data": {
      "text/plain": [
       "('asbfly', 0.0, 3.0)"
      ]
     },
     "execution_count": 59,
     "metadata": {},
     "output_type": "execute_result"
    }
   ],
   "source": [
    "label = recording.path.split('/')[0].split('\\\\')[-1]\n",
    "\n",
    "# for det in recording.detections:\n",
    "#     print(det['start_time'])\n",
    "data = [(label, x['start_time'], x['end_time']) for x in recording.detections]\n",
    "\n",
    "data[0]"
   ]
  },
  {
   "cell_type": "code",
   "execution_count": 103,
   "id": "dcaa75b4-860d-4fa4-9603-ece269545f92",
   "metadata": {},
   "outputs": [],
   "source": [
    "def on_analyze_directory_complete(recordings, file=train_dir / \"bird_preds.csv\"):\n",
    "    detections = []\n",
    "    \n",
    "    for rec in recordings:\n",
    "        if rec.error:\n",
    "            print(f'{rec.error_message} in {rec.path}')\n",
    "        else:\n",
    "            filename= rec.path.split('\\\\')[-1]\n",
    "            label = rec.path.split('\\\\')[-2]\n",
    "            \n",
    "            # print(filename, label)\n",
    "            \n",
    "            data = [(filename, label, x['start_time'], x['end_time']) for x in recording.detections]\n",
    "            detections.append(pd.DataFrame(data, columns = ['filename', 'label', 'start', 'end']))\n",
    "\n",
    "    print(len(detections))\n",
    "\n",
    "    results_df = pd.concat(detections, axis=0)\n",
    "\n",
    "    results_df.to_csv(file, index=False)    \n",
    "    \n",
    "    # return detections"
   ]
  },
  {
   "cell_type": "code",
   "execution_count": 104,
   "id": "c67bc238-fa8a-43c9-8b9c-8735af1a60c9",
   "metadata": {},
   "outputs": [
    {
     "name": "stdout",
     "output_type": "stream",
     "text": [
      "E:\\data\\BirdCLEF\\train_audio\n"
     ]
    }
   ],
   "source": [
    "directory = directories[1]\n",
    "directory = CFG.AUDIO_FOLDER\n",
    "print(directory)\n",
    "\n",
    "batch = DirectoryMultiProcessingAnalyzer(\n",
    "    directory,\n",
    "    analyzers=[analyzer],\n",
    "    patterns=[\"*/*.ogg\"],\n",
    "    # lon=-120.7463,\n",
    "    # lat=35.4244,\n",
    "    # # date=datetime(year=2022, month=5, day=10),\n",
    "    min_conf=0.8,\n",
    ")\n",
    "\n",
    "batch.on_analyze_directory_complete = on_analyze_directory_complete"
   ]
  },
  {
   "cell_type": "code",
   "execution_count": 105,
   "id": "b8b7b7a9-aaa0-44a6-870a-c2129fc9b3fe",
   "metadata": {
    "scrolled": true
   },
   "outputs": [
    {
     "name": "stdout",
     "output_type": "stream",
     "text": [
      "24459\n"
     ]
    }
   ],
   "source": [
    "batch.process()"
   ]
  },
  {
   "cell_type": "code",
   "execution_count": null,
   "id": "ae2c1a18-4887-4f62-918f-e83bc1ebca9e",
   "metadata": {},
   "outputs": [],
   "source": []
  }
 ],
 "metadata": {
  "kernelspec": {
   "display_name": "Python 3 (ipykernel)",
   "language": "python",
   "name": "python3"
  },
  "language_info": {
   "codemirror_mode": {
    "name": "ipython",
    "version": 3
   },
   "file_extension": ".py",
   "mimetype": "text/x-python",
   "name": "python",
   "nbconvert_exporter": "python",
   "pygments_lexer": "ipython3",
   "version": "3.10.14"
  }
 },
 "nbformat": 4,
 "nbformat_minor": 5
}
