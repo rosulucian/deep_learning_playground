{
 "cells": [
  {
   "cell_type": "code",
   "execution_count": 1,
   "id": "511f8c98-bad6-44a5-936d-0410be5623eb",
   "metadata": {},
   "outputs": [],
   "source": [
    "import pandas as pd\n",
    "import numpy as np"
   ]
  },
  {
   "cell_type": "code",
   "execution_count": 17,
   "id": "b5930347-9061-4ae8-9cc1-640a5e75ceb9",
   "metadata": {},
   "outputs": [],
   "source": [
    "df_path = \"E:\\data\\BirdCLEF\\submission.csv\"\n",
    "sub_path = 'E:\\data\\BirdCLEF\\sample_submission.csv'"
   ]
  },
  {
   "cell_type": "code",
   "execution_count": 18,
   "id": "a29d1b53-a424-4142-b661-dbee058744a7",
   "metadata": {},
   "outputs": [
    {
     "data": {
      "text/plain": [
       "(405312, 5)"
      ]
     },
     "execution_count": 18,
     "metadata": {},
     "output_type": "execute_result"
    }
   ],
   "source": [
    "df = pd.read_csv(df_path)\n",
    "sample_submission = pd.read_csv(sub_path)\n",
    "df.shape"
   ]
  },
  {
   "cell_type": "code",
   "execution_count": 20,
   "id": "91e3bb5f-a865-4849-ae9c-1a683024bada",
   "metadata": {},
   "outputs": [],
   "source": [
    "target_columns = sample_submission.columns[1:].tolist()\n",
    "num_classes = len(target_columns)\n",
    "bird2id = {b: i for i, b in enumerate(target_columns)}"
   ]
  },
  {
   "cell_type": "code",
   "execution_count": 1,
   "id": "588b3b80-376e-4cbb-81c3-7e12a68c4ea4",
   "metadata": {},
   "outputs": [],
   "source": [
    "# bird2id['magrob']"
   ]
  },
  {
   "cell_type": "code",
   "execution_count": null,
   "id": "31152d96-2b20-4b22-bc19-3862ffa69c1d",
   "metadata": {},
   "outputs": [],
   "source": []
  },
  {
   "cell_type": "code",
   "execution_count": null,
   "id": "ed346783-9ec5-4984-9ad9-7a9b6299513b",
   "metadata": {},
   "outputs": [],
   "source": []
  },
  {
   "cell_type": "code",
   "execution_count": 27,
   "id": "f531f67f-dec6-49ef-9ca6-71b2a05ec186",
   "metadata": {},
   "outputs": [],
   "source": [
    "df['name'] = df.label.apply(lambda row: target_columns[row])"
   ]
  },
  {
   "cell_type": "code",
   "execution_count": 28,
   "id": "8d9eb6b2-c8df-4e2b-a83d-993b89d77e55",
   "metadata": {},
   "outputs": [
    {
     "data": {
      "text/html": [
       "<div>\n",
       "<style scoped>\n",
       "    .dataframe tbody tr th:only-of-type {\n",
       "        vertical-align: middle;\n",
       "    }\n",
       "\n",
       "    .dataframe tbody tr th {\n",
       "        vertical-align: top;\n",
       "    }\n",
       "\n",
       "    .dataframe thead th {\n",
       "        text-align: right;\n",
       "    }\n",
       "</style>\n",
       "<table border=\"1\" class=\"dataframe\">\n",
       "  <thead>\n",
       "    <tr style=\"text-align: right;\">\n",
       "      <th></th>\n",
       "      <th>file</th>\n",
       "      <th>range</th>\n",
       "      <th>row_id</th>\n",
       "      <th>score</th>\n",
       "      <th>label</th>\n",
       "      <th>name</th>\n",
       "    </tr>\n",
       "  </thead>\n",
       "  <tbody>\n",
       "    <tr>\n",
       "      <th>0</th>\n",
       "      <td>1000170626.ogg</td>\n",
       "      <td>5</td>\n",
       "      <td>1000170626.ogg_5</td>\n",
       "      <td>0.414911</td>\n",
       "      <td>30</td>\n",
       "      <td>brwowl1</td>\n",
       "    </tr>\n",
       "    <tr>\n",
       "      <th>1</th>\n",
       "      <td>1000170626.ogg</td>\n",
       "      <td>10</td>\n",
       "      <td>1000170626.ogg_10</td>\n",
       "      <td>0.451443</td>\n",
       "      <td>1</td>\n",
       "      <td>ashdro1</td>\n",
       "    </tr>\n",
       "    <tr>\n",
       "      <th>2</th>\n",
       "      <td>1000170626.ogg</td>\n",
       "      <td>15</td>\n",
       "      <td>1000170626.ogg_15</td>\n",
       "      <td>0.465684</td>\n",
       "      <td>177</td>\n",
       "      <td>woosan</td>\n",
       "    </tr>\n",
       "    <tr>\n",
       "      <th>3</th>\n",
       "      <td>1000170626.ogg</td>\n",
       "      <td>20</td>\n",
       "      <td>1000170626.ogg_20</td>\n",
       "      <td>0.345637</td>\n",
       "      <td>98</td>\n",
       "      <td>kenplo1</td>\n",
       "    </tr>\n",
       "    <tr>\n",
       "      <th>4</th>\n",
       "      <td>1000170626.ogg</td>\n",
       "      <td>25</td>\n",
       "      <td>1000170626.ogg_25</td>\n",
       "      <td>0.430506</td>\n",
       "      <td>30</td>\n",
       "      <td>brwowl1</td>\n",
       "    </tr>\n",
       "  </tbody>\n",
       "</table>\n",
       "</div>"
      ],
      "text/plain": [
       "             file  range             row_id     score  label     name\n",
       "0  1000170626.ogg      5   1000170626.ogg_5  0.414911     30  brwowl1\n",
       "1  1000170626.ogg     10  1000170626.ogg_10  0.451443      1  ashdro1\n",
       "2  1000170626.ogg     15  1000170626.ogg_15  0.465684    177   woosan\n",
       "3  1000170626.ogg     20  1000170626.ogg_20  0.345637     98  kenplo1\n",
       "4  1000170626.ogg     25  1000170626.ogg_25  0.430506     30  brwowl1"
      ]
     },
     "execution_count": 28,
     "metadata": {},
     "output_type": "execute_result"
    }
   ],
   "source": [
    "df.head()"
   ]
  },
  {
   "cell_type": "markdown",
   "id": "23b5515b-8a1e-4bb1-9893-afb3d2cce536",
   "metadata": {},
   "source": [
    "### Most detected labels"
   ]
  },
  {
   "cell_type": "code",
   "execution_count": 24,
   "id": "220d8d58-7472-4c65-ba16-cc3a4c3df1ae",
   "metadata": {},
   "outputs": [
    {
     "data": {
      "text/plain": [
       "(49186, 5)"
      ]
     },
     "execution_count": 24,
     "metadata": {},
     "output_type": "execute_result"
    }
   ],
   "source": [
    "most_certain = df[df['score'] > 0.99]\n",
    "most_certain.shape"
   ]
  },
  {
   "cell_type": "code",
   "execution_count": 25,
   "id": "7c2649e0-da57-4a85-9ad9-f72a100bfb5b",
   "metadata": {},
   "outputs": [
    {
     "data": {
      "text/plain": [
       "(129,\n",
       " label\n",
       " 173    11929\n",
       " 39      9598\n",
       " 73      3396\n",
       " 136     2358\n",
       " 64      1622\n",
       "        ...  \n",
       " 106        1\n",
       " 94         1\n",
       " 137        1\n",
       " 65         1\n",
       " 69         1\n",
       " Name: count, Length: 129, dtype: int64)"
      ]
     },
     "execution_count": 25,
     "metadata": {},
     "output_type": "execute_result"
    }
   ],
   "source": [
    "most_certain.label.nunique(), most_certain.label.value_counts()"
   ]
  },
  {
   "cell_type": "markdown",
   "id": "3b4e5231-9127-4e8e-91af-0046b5ecb872",
   "metadata": {},
   "source": [
    "### Find nocall"
   ]
  },
  {
   "cell_type": "code",
   "execution_count": 29,
   "id": "327867bd-5f90-4f32-9ca6-e0eaa5532de5",
   "metadata": {},
   "outputs": [
    {
     "data": {
      "text/plain": [
       "(253, 6)"
      ]
     },
     "execution_count": 29,
     "metadata": {},
     "output_type": "execute_result"
    }
   ],
   "source": [
    "no_call = df[df['score'] < 0.1]\n",
    "no_call.shape"
   ]
  },
  {
   "cell_type": "code",
   "execution_count": 30,
   "id": "9991f45b-4694-4ef5-b616-91966cff9360",
   "metadata": {},
   "outputs": [
    {
     "data": {
      "text/html": [
       "<div>\n",
       "<style scoped>\n",
       "    .dataframe tbody tr th:only-of-type {\n",
       "        vertical-align: middle;\n",
       "    }\n",
       "\n",
       "    .dataframe tbody tr th {\n",
       "        vertical-align: top;\n",
       "    }\n",
       "\n",
       "    .dataframe thead th {\n",
       "        text-align: right;\n",
       "    }\n",
       "</style>\n",
       "<table border=\"1\" class=\"dataframe\">\n",
       "  <thead>\n",
       "    <tr style=\"text-align: right;\">\n",
       "      <th></th>\n",
       "      <th>file</th>\n",
       "      <th>range</th>\n",
       "      <th>row_id</th>\n",
       "      <th>score</th>\n",
       "      <th>label</th>\n",
       "      <th>name</th>\n",
       "    </tr>\n",
       "  </thead>\n",
       "  <tbody>\n",
       "    <tr>\n",
       "      <th>76</th>\n",
       "      <td>1000308629.ogg</td>\n",
       "      <td>145</td>\n",
       "      <td>1000308629.ogg_145</td>\n",
       "      <td>0.088034</td>\n",
       "      <td>136</td>\n",
       "      <td>putbab1</td>\n",
       "    </tr>\n",
       "    <tr>\n",
       "      <th>82</th>\n",
       "      <td>1000308629.ogg</td>\n",
       "      <td>175</td>\n",
       "      <td>1000308629.ogg_175</td>\n",
       "      <td>0.098005</td>\n",
       "      <td>50</td>\n",
       "      <td>crseag1</td>\n",
       "    </tr>\n",
       "    <tr>\n",
       "      <th>89</th>\n",
       "      <td>1000308629.ogg</td>\n",
       "      <td>210</td>\n",
       "      <td>1000308629.ogg_210</td>\n",
       "      <td>0.090077</td>\n",
       "      <td>136</td>\n",
       "      <td>putbab1</td>\n",
       "    </tr>\n",
       "    <tr>\n",
       "      <th>315</th>\n",
       "      <td>100065465.ogg</td>\n",
       "      <td>140</td>\n",
       "      <td>100065465.ogg_140</td>\n",
       "      <td>0.096109</td>\n",
       "      <td>50</td>\n",
       "      <td>crseag1</td>\n",
       "    </tr>\n",
       "    <tr>\n",
       "      <th>891</th>\n",
       "      <td>1003294151.ogg</td>\n",
       "      <td>140</td>\n",
       "      <td>1003294151.ogg_140</td>\n",
       "      <td>0.085670</td>\n",
       "      <td>146</td>\n",
       "      <td>ruftre2</td>\n",
       "    </tr>\n",
       "  </tbody>\n",
       "</table>\n",
       "</div>"
      ],
      "text/plain": [
       "               file  range              row_id     score  label     name\n",
       "76   1000308629.ogg    145  1000308629.ogg_145  0.088034    136  putbab1\n",
       "82   1000308629.ogg    175  1000308629.ogg_175  0.098005     50  crseag1\n",
       "89   1000308629.ogg    210  1000308629.ogg_210  0.090077    136  putbab1\n",
       "315   100065465.ogg    140   100065465.ogg_140  0.096109     50  crseag1\n",
       "891  1003294151.ogg    140  1003294151.ogg_140  0.085670    146  ruftre2"
      ]
     },
     "execution_count": 30,
     "metadata": {},
     "output_type": "execute_result"
    }
   ],
   "source": [
    "no_call.head()"
   ]
  },
  {
   "cell_type": "code",
   "execution_count": null,
   "id": "10064cb6-9f30-4c2e-96ef-985aa382b52b",
   "metadata": {},
   "outputs": [],
   "source": []
  },
  {
   "cell_type": "code",
   "execution_count": null,
   "id": "263f96d7-7465-42c2-905f-3d517d4de836",
   "metadata": {},
   "outputs": [],
   "source": []
  }
 ],
 "metadata": {
  "kernelspec": {
   "display_name": "Python 3 (ipykernel)",
   "language": "python",
   "name": "python3"
  },
  "language_info": {
   "codemirror_mode": {
    "name": "ipython",
    "version": 3
   },
   "file_extension": ".py",
   "mimetype": "text/x-python",
   "name": "python",
   "nbconvert_exporter": "python",
   "pygments_lexer": "ipython3",
   "version": "3.10.14"
  }
 },
 "nbformat": 4,
 "nbformat_minor": 5
}
