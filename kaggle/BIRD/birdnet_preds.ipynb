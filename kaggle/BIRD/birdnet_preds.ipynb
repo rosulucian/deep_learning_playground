{
 "cells": [
  {
   "cell_type": "code",
   "execution_count": 86,
   "id": "43af72db-54ec-4b5f-b25d-7cb45896126d",
   "metadata": {},
   "outputs": [
    {
     "name": "stdout",
     "output_type": "stream",
     "text": [
      "The autoreload extension is already loaded. To reload it, use:\n",
      "  %reload_ext autoreload\n"
     ]
    }
   ],
   "source": [
    "%load_ext autoreload\n",
    "%autoreload 2"
   ]
  },
  {
   "cell_type": "code",
   "execution_count": 87,
   "id": "3d6fd889-d421-4861-8a00-fa72b2597cc1",
   "metadata": {},
   "outputs": [],
   "source": [
    "import numpy as np # linear algebra\n",
    "import pandas as pd # data processing, CSV file I/O (e.g. pd.read_csv)\n",
    "\n",
    "import os\n",
    "import torchaudio\n",
    "import soundfile as sf\n",
    "import seaborn as sns\n",
    "\n",
    "from pathlib import Path\n",
    "import plotly.express as px\n",
    "import matplotlib.pyplot as plt\n",
    "from IPython.display import Audio\n",
    "\n",
    "from birdnetlib import Recording\n",
    "from birdnetlib.analyzer import Analyzer\n",
    "from birdnetlib.batch import DirectoryMultiProcessingAnalyzer"
   ]
  },
  {
   "cell_type": "markdown",
   "id": "af0a48a8-3a4f-457c-aec1-372aa3a89b37",
   "metadata": {},
   "source": [
    "### Config"
   ]
  },
  {
   "cell_type": "code",
   "execution_count": 88,
   "id": "4b833114-9468-492f-8254-7692f5022c40",
   "metadata": {},
   "outputs": [],
   "source": [
    "train_dir = Path('E:\\data\\BirdCLEF')\n",
    "\n",
    "class CFG:\n",
    "    random_seed = 42\n",
    "\n",
    "    include_ul = True\n",
    "    \n",
    "    split_fraction = 0.95\n",
    "    \n",
    "    ROOT_FOLDER = train_dir\n",
    "    AUDIO_FOLDER = train_dir / 'train_audio'\n",
    "    DATA_DIR = train_dir / 'spectros'\n",
    "    TRAIN_CSV = train_dir / 'train_metadata.csv'\n",
    "    RESULTS_DIR = train_dir / 'results'\n",
    "    CKPT_DIR = RESULTS_DIR / 'ckpt'\n",
    "    bird20223 = train_dir / 'bird2023.csv'\n",
    "    UNLABELED_FOLDER = train_dir / 'unlabeled_soundscapes'\n",
    "\n",
    "    bird_preds_csv = train_dir / 'bird_preds.csv'\n",
    "    unlabeled_preds_csv = train_dir / 'unlabeled_preds.csv'\n",
    "    taxonomy_csv = train_dir / 'eBird_Taxonomy_v2021.csv'"
   ]
  },
  {
   "cell_type": "code",
   "execution_count": 89,
   "id": "aa192b18-c5f4-4b51-8f98-6442d7a93c4f",
   "metadata": {},
   "outputs": [
    {
     "data": {
      "text/plain": [
       "182"
      ]
     },
     "execution_count": 89,
     "metadata": {},
     "output_type": "execute_result"
    }
   ],
   "source": [
    "sec_labels = ['lotshr1', 'orhthr1', 'magrob', 'indwhe1', 'bltmun1', 'asfblu1']\n",
    "\n",
    "sample_submission = pd.read_csv(train_dir / 'sample_submission.csv')\n",
    "\n",
    "# Set labels\n",
    "CFG.LABELS = sample_submission.columns[1:].tolist()\n",
    "bird2id = {b: i for i, b in enumerate(CFG.LABELS)}\n",
    "\n",
    "len(CFG.LABELS)"
   ]
  },
  {
   "cell_type": "code",
   "execution_count": 184,
   "id": "6dcae961-572c-48b0-a2b9-f58c60218279",
   "metadata": {},
   "outputs": [
    {
     "data": {
      "text/plain": [
       "((16941, 12), (254, 7), (27203, 5), (16753, 9))"
      ]
     },
     "execution_count": 184,
     "metadata": {},
     "output_type": "execute_result"
    }
   ],
   "source": [
    "meta_df = pd.read_csv(CFG.TRAIN_CSV)\n",
    "df_23 = pd.read_csv(CFG.bird20223)\n",
    "bird_preds_df = pd.read_csv(CFG.bird_preds_csv)\n",
    "unlabeled_preds_df = pd.read_csv(CFG.unlabeled_preds_csv)\n",
    "taxonomy_df = pd.read_csv(CFG.taxonomy_csv)\n",
    "\n",
    "df_23.shape, bird_preds_df.shape, unlabeled_preds_df.shape, taxonomy_df.shape"
   ]
  },
  {
   "cell_type": "code",
   "execution_count": 160,
   "id": "94e4c252-46c9-4ac8-81ee-ceb19162f9e6",
   "metadata": {},
   "outputs": [
    {
     "name": "stdout",
     "output_type": "stream",
     "text": [
      "0\n"
     ]
    }
   ],
   "source": [
    "print(meta_df.filename.duplicated().sum())\n",
    "meta_df['file'] = meta_df.apply(lambda row: row.filename.split('/')[-1], axis=1)"
   ]
  },
  {
   "cell_type": "code",
   "execution_count": 176,
   "id": "b27c6a4c-4300-423a-8de2-66e14e1a4d34",
   "metadata": {},
   "outputs": [
    {
     "data": {
      "text/plain": [
       "24459"
      ]
     },
     "execution_count": 176,
     "metadata": {},
     "output_type": "execute_result"
    }
   ],
   "source": [
    "all_files = meta_df.filename.unique().tolist()\n",
    "len(all_files)"
   ]
  },
  {
   "cell_type": "code",
   "execution_count": 178,
   "id": "0ddd9add-2feb-4d95-99a9-c2b7d1472f2f",
   "metadata": {},
   "outputs": [],
   "source": [
    "# durations = {}\n",
    "# for f in all_files:\n",
    "#     filename = CFG.AUDIO_FOLDER / f\n",
    "#     info = torchaudio.info(filename)\n",
    "#     duration = int(info.num_frames / info.sample_rate )\n",
    "\n",
    "#     durations[f] = duration\n",
    "\n",
    "# meta_df['duration'] = meta_df.apply(lambda row: durations[row['filename']], axis=1)\n",
    "\n",
    "# meta_df.to_csv(CFG.TRAIN_CSV, index=False) "
   ]
  },
  {
   "cell_type": "code",
   "execution_count": 218,
   "id": "48ae52ba-1784-47e0-825e-dbfc2e045c5a",
   "metadata": {},
   "outputs": [
    {
     "data": {
      "text/plain": [
       "((4021, 14), 5964)"
      ]
     },
     "execution_count": 218,
     "metadata": {},
     "output_type": "execute_result"
    }
   ],
   "source": [
    "meta_df[meta_df['duration'] > 60].shape, meta_df['duration'].max()"
   ]
  },
  {
   "cell_type": "code",
   "execution_count": 227,
   "id": "da62b339-df4d-4e03-ab41-c3554b8f42f4",
   "metadata": {},
   "outputs": [
    {
     "data": {
      "text/plain": [
       "((2678, 14), 170)"
      ]
     },
     "execution_count": 227,
     "metadata": {},
     "output_type": "execute_result"
    }
   ],
   "source": [
    "meta_df[meta_df['duration'] < 7].shape, meta_df[meta_df['duration'] < 7].primary_label.nunique()"
   ]
  },
  {
   "cell_type": "code",
   "execution_count": 225,
   "id": "f14fe912-bc07-4cd2-8339-674b6077e172",
   "metadata": {},
   "outputs": [
    {
     "data": {
      "text/plain": [
       "170"
      ]
     },
     "execution_count": 225,
     "metadata": {},
     "output_type": "execute_result"
    }
   ],
   "source": [
    "meta_df[(meta_df['duration'] < 7) & (meta_df['secondary_labels'] == '[]')].primary_label.nunique()"
   ]
  },
  {
   "cell_type": "code",
   "execution_count": 226,
   "id": "29c34c88-0431-4871-8470-6bfa3b0a63b1",
   "metadata": {},
   "outputs": [
    {
     "data": {
      "text/html": [
       "<div>\n",
       "<style scoped>\n",
       "    .dataframe tbody tr th:only-of-type {\n",
       "        vertical-align: middle;\n",
       "    }\n",
       "\n",
       "    .dataframe tbody tr th {\n",
       "        vertical-align: top;\n",
       "    }\n",
       "\n",
       "    .dataframe thead th {\n",
       "        text-align: right;\n",
       "    }\n",
       "</style>\n",
       "<table border=\"1\" class=\"dataframe\">\n",
       "  <thead>\n",
       "    <tr style=\"text-align: right;\">\n",
       "      <th></th>\n",
       "      <th>primary_label</th>\n",
       "      <th>secondary_labels</th>\n",
       "      <th>type</th>\n",
       "      <th>latitude</th>\n",
       "      <th>longitude</th>\n",
       "      <th>scientific_name</th>\n",
       "      <th>common_name</th>\n",
       "      <th>author</th>\n",
       "      <th>license</th>\n",
       "      <th>rating</th>\n",
       "      <th>url</th>\n",
       "      <th>filename</th>\n",
       "      <th>file</th>\n",
       "      <th>duration</th>\n",
       "    </tr>\n",
       "  </thead>\n",
       "  <tbody>\n",
       "    <tr>\n",
       "      <th>10542</th>\n",
       "      <td>graher1</td>\n",
       "      <td>[]</td>\n",
       "      <td>['flight call', 'nocturnal flight call']</td>\n",
       "      <td>52.1638</td>\n",
       "      <td>106.3710</td>\n",
       "      <td>Ardea cinerea</td>\n",
       "      <td>Gray Heron</td>\n",
       "      <td>Stanislas Wroza</td>\n",
       "      <td>Creative Commons Attribution-NonCommercial-Sha...</td>\n",
       "      <td>0.0</td>\n",
       "      <td>https://www.xeno-canto.org/487206</td>\n",
       "      <td>graher1/XC487206.ogg</td>\n",
       "      <td>XC487206.ogg</td>\n",
       "      <td>6</td>\n",
       "    </tr>\n",
       "    <tr>\n",
       "      <th>23273</th>\n",
       "      <td>whtkin2</td>\n",
       "      <td>[]</td>\n",
       "      <td>['alarm call', 'call', 'flight call']</td>\n",
       "      <td>21.0491</td>\n",
       "      <td>75.8634</td>\n",
       "      <td>Halcyon smyrnensis</td>\n",
       "      <td>White-throated Kingfisher</td>\n",
       "      <td>Lakshmikant Rajaram Neve</td>\n",
       "      <td>Creative Commons Attribution-NonCommercial-Sha...</td>\n",
       "      <td>5.0</td>\n",
       "      <td>https://www.xeno-canto.org/392132</td>\n",
       "      <td>whtkin2/XC392132.ogg</td>\n",
       "      <td>XC392132.ogg</td>\n",
       "      <td>4</td>\n",
       "    </tr>\n",
       "  </tbody>\n",
       "</table>\n",
       "</div>"
      ],
      "text/plain": [
       "      primary_label secondary_labels  \\\n",
       "10542       graher1               []   \n",
       "23273       whtkin2               []   \n",
       "\n",
       "                                           type  latitude  longitude  \\\n",
       "10542  ['flight call', 'nocturnal flight call']   52.1638   106.3710   \n",
       "23273     ['alarm call', 'call', 'flight call']   21.0491    75.8634   \n",
       "\n",
       "          scientific_name                common_name  \\\n",
       "10542       Ardea cinerea                 Gray Heron   \n",
       "23273  Halcyon smyrnensis  White-throated Kingfisher   \n",
       "\n",
       "                         author  \\\n",
       "10542           Stanislas Wroza   \n",
       "23273  Lakshmikant Rajaram Neve   \n",
       "\n",
       "                                                 license  rating  \\\n",
       "10542  Creative Commons Attribution-NonCommercial-Sha...     0.0   \n",
       "23273  Creative Commons Attribution-NonCommercial-Sha...     5.0   \n",
       "\n",
       "                                     url              filename          file  \\\n",
       "10542  https://www.xeno-canto.org/487206  graher1/XC487206.ogg  XC487206.ogg   \n",
       "23273  https://www.xeno-canto.org/392132  whtkin2/XC392132.ogg  XC392132.ogg   \n",
       "\n",
       "       duration  \n",
       "10542         6  \n",
       "23273         4  "
      ]
     },
     "execution_count": 226,
     "metadata": {},
     "output_type": "execute_result"
    }
   ],
   "source": [
    "meta_df[meta_df['duration'] < 7].sample(2)"
   ]
  },
  {
   "cell_type": "code",
   "execution_count": 208,
   "id": "e93b0bac-d9eb-4424-8e78-9d112f719ca5",
   "metadata": {},
   "outputs": [
    {
     "data": {
      "text/html": [
       "<div>\n",
       "<style scoped>\n",
       "    .dataframe tbody tr th:only-of-type {\n",
       "        vertical-align: middle;\n",
       "    }\n",
       "\n",
       "    .dataframe tbody tr th {\n",
       "        vertical-align: top;\n",
       "    }\n",
       "\n",
       "    .dataframe thead th {\n",
       "        text-align: right;\n",
       "    }\n",
       "</style>\n",
       "<table border=\"1\" class=\"dataframe\">\n",
       "  <thead>\n",
       "    <tr style=\"text-align: right;\">\n",
       "      <th></th>\n",
       "      <th>primary_label</th>\n",
       "      <th>secondary_labels</th>\n",
       "      <th>type</th>\n",
       "      <th>latitude</th>\n",
       "      <th>longitude</th>\n",
       "      <th>scientific_name</th>\n",
       "      <th>common_name</th>\n",
       "      <th>author</th>\n",
       "      <th>license</th>\n",
       "      <th>rating</th>\n",
       "      <th>url</th>\n",
       "      <th>filename</th>\n",
       "      <th>file</th>\n",
       "      <th>duration</th>\n",
       "    </tr>\n",
       "  </thead>\n",
       "  <tbody>\n",
       "    <tr>\n",
       "      <th>0</th>\n",
       "      <td>asbfly</td>\n",
       "      <td>[]</td>\n",
       "      <td>['call']</td>\n",
       "      <td>39.2297</td>\n",
       "      <td>118.1987</td>\n",
       "      <td>Muscicapa dauurica</td>\n",
       "      <td>Asian Brown Flycatcher</td>\n",
       "      <td>Matt Slaymaker</td>\n",
       "      <td>Creative Commons Attribution-NonCommercial-Sha...</td>\n",
       "      <td>5.0</td>\n",
       "      <td>https://www.xeno-canto.org/134896</td>\n",
       "      <td>asbfly/XC134896.ogg</td>\n",
       "      <td>XC134896.ogg</td>\n",
       "      <td>27</td>\n",
       "    </tr>\n",
       "    <tr>\n",
       "      <th>1</th>\n",
       "      <td>asbfly</td>\n",
       "      <td>[]</td>\n",
       "      <td>['song']</td>\n",
       "      <td>51.4030</td>\n",
       "      <td>104.6401</td>\n",
       "      <td>Muscicapa dauurica</td>\n",
       "      <td>Asian Brown Flycatcher</td>\n",
       "      <td>Magnus Hellström</td>\n",
       "      <td>Creative Commons Attribution-NonCommercial-Sha...</td>\n",
       "      <td>2.5</td>\n",
       "      <td>https://www.xeno-canto.org/164848</td>\n",
       "      <td>asbfly/XC164848.ogg</td>\n",
       "      <td>XC164848.ogg</td>\n",
       "      <td>15</td>\n",
       "    </tr>\n",
       "  </tbody>\n",
       "</table>\n",
       "</div>"
      ],
      "text/plain": [
       "  primary_label secondary_labels      type  latitude  longitude  \\\n",
       "0        asbfly               []  ['call']   39.2297   118.1987   \n",
       "1        asbfly               []  ['song']   51.4030   104.6401   \n",
       "\n",
       "      scientific_name             common_name            author  \\\n",
       "0  Muscicapa dauurica  Asian Brown Flycatcher    Matt Slaymaker   \n",
       "1  Muscicapa dauurica  Asian Brown Flycatcher  Magnus Hellström   \n",
       "\n",
       "                                             license  rating  \\\n",
       "0  Creative Commons Attribution-NonCommercial-Sha...     5.0   \n",
       "1  Creative Commons Attribution-NonCommercial-Sha...     2.5   \n",
       "\n",
       "                                 url             filename          file  \\\n",
       "0  https://www.xeno-canto.org/134896  asbfly/XC134896.ogg  XC134896.ogg   \n",
       "1  https://www.xeno-canto.org/164848  asbfly/XC164848.ogg  XC164848.ogg   \n",
       "\n",
       "   duration  \n",
       "0        27  \n",
       "1        15  "
      ]
     },
     "execution_count": 208,
     "metadata": {},
     "output_type": "execute_result"
    }
   ],
   "source": [
    "meta_df.head(2)"
   ]
  },
  {
   "cell_type": "code",
   "execution_count": 162,
   "id": "6996ab1e-33a8-4b1b-9c5a-f4e31f610c5b",
   "metadata": {},
   "outputs": [
    {
     "data": {
      "text/html": [
       "<div>\n",
       "<style scoped>\n",
       "    .dataframe tbody tr th:only-of-type {\n",
       "        vertical-align: middle;\n",
       "    }\n",
       "\n",
       "    .dataframe tbody tr th {\n",
       "        vertical-align: top;\n",
       "    }\n",
       "\n",
       "    .dataframe thead th {\n",
       "        text-align: right;\n",
       "    }\n",
       "</style>\n",
       "<table border=\"1\" class=\"dataframe\">\n",
       "  <thead>\n",
       "    <tr style=\"text-align: right;\">\n",
       "      <th></th>\n",
       "      <th>TAXON_ORDER</th>\n",
       "      <th>CATEGORY</th>\n",
       "      <th>SPECIES_CODE</th>\n",
       "      <th>PRIMARY_COM_NAME</th>\n",
       "      <th>SCI_NAME</th>\n",
       "      <th>ORDER1</th>\n",
       "      <th>FAMILY</th>\n",
       "      <th>SPECIES_GROUP</th>\n",
       "      <th>REPORT_AS</th>\n",
       "    </tr>\n",
       "  </thead>\n",
       "  <tbody>\n",
       "    <tr>\n",
       "      <th>0</th>\n",
       "      <td>1</td>\n",
       "      <td>species</td>\n",
       "      <td>ostric2</td>\n",
       "      <td>Common Ostrich</td>\n",
       "      <td>Struthio camelus</td>\n",
       "      <td>Struthioniformes</td>\n",
       "      <td>Struthionidae (Ostriches)</td>\n",
       "      <td>Ostriches</td>\n",
       "      <td>NaN</td>\n",
       "    </tr>\n",
       "    <tr>\n",
       "      <th>1</th>\n",
       "      <td>6</td>\n",
       "      <td>species</td>\n",
       "      <td>ostric3</td>\n",
       "      <td>Somali Ostrich</td>\n",
       "      <td>Struthio molybdophanes</td>\n",
       "      <td>Struthioniformes</td>\n",
       "      <td>Struthionidae (Ostriches)</td>\n",
       "      <td>NaN</td>\n",
       "      <td>NaN</td>\n",
       "    </tr>\n",
       "  </tbody>\n",
       "</table>\n",
       "</div>"
      ],
      "text/plain": [
       "   TAXON_ORDER CATEGORY SPECIES_CODE PRIMARY_COM_NAME                SCI_NAME  \\\n",
       "0            1  species      ostric2   Common Ostrich        Struthio camelus   \n",
       "1            6  species      ostric3   Somali Ostrich  Struthio molybdophanes   \n",
       "\n",
       "             ORDER1                     FAMILY SPECIES_GROUP REPORT_AS  \n",
       "0  Struthioniformes  Struthionidae (Ostriches)     Ostriches       NaN  \n",
       "1  Struthioniformes  Struthionidae (Ostriches)           NaN       NaN  "
      ]
     },
     "execution_count": 162,
     "metadata": {},
     "output_type": "execute_result"
    }
   ],
   "source": [
    "taxonomy_df.head(2)"
   ]
  },
  {
   "cell_type": "code",
   "execution_count": 163,
   "id": "3f9d6559-5b0f-41a5-bd9e-f72a03e36ddd",
   "metadata": {},
   "outputs": [],
   "source": [
    "all_birds = taxonomy_df.SCI_NAME.unique().tolist()\n",
    "bird_codes = taxonomy_df.SPECIES_CODE.unique().tolist()\n",
    "\n",
    "sci2code = {b: c for b, c in zip(all_birds, bird_codes)}\n",
    "code2sci = {c:b for b, c in zip(all_birds, bird_codes)}"
   ]
  },
  {
   "cell_type": "code",
   "execution_count": 164,
   "id": "396ef419-dc4b-4155-80f6-8be1b059e570",
   "metadata": {
    "scrolled": true
   },
   "outputs": [
    {
     "data": {
      "text/plain": [
       "('ostric2', 'Struthio camelus')"
      ]
     },
     "execution_count": 164,
     "metadata": {},
     "output_type": "execute_result"
    }
   ],
   "source": [
    "sci2code['Struthio camelus'], code2sci['ostric2']"
   ]
  },
  {
   "cell_type": "code",
   "execution_count": null,
   "id": "68f29cde-9eaf-4bfb-a65a-b440859f4a55",
   "metadata": {},
   "outputs": [],
   "source": []
  },
  {
   "cell_type": "markdown",
   "id": "70158320-bbfa-4ffd-89dd-d0304c7c811e",
   "metadata": {},
   "source": [
    "### BirdNet train predictions"
   ]
  },
  {
   "cell_type": "code",
   "execution_count": 165,
   "id": "d3c99131-d541-45ab-b5c0-361cb1b1d106",
   "metadata": {},
   "outputs": [
    {
     "data": {
      "text/html": [
       "<div>\n",
       "<style scoped>\n",
       "    .dataframe tbody tr th:only-of-type {\n",
       "        vertical-align: middle;\n",
       "    }\n",
       "\n",
       "    .dataframe tbody tr th {\n",
       "        vertical-align: top;\n",
       "    }\n",
       "\n",
       "    .dataframe thead th {\n",
       "        text-align: right;\n",
       "    }\n",
       "</style>\n",
       "<table border=\"1\" class=\"dataframe\">\n",
       "  <thead>\n",
       "    <tr style=\"text-align: right;\">\n",
       "      <th></th>\n",
       "      <th>filename</th>\n",
       "      <th>label</th>\n",
       "      <th>name</th>\n",
       "      <th>start</th>\n",
       "      <th>end</th>\n",
       "      <th>duration</th>\n",
       "      <th>confidence</th>\n",
       "    </tr>\n",
       "  </thead>\n",
       "  <tbody>\n",
       "    <tr>\n",
       "      <th>218</th>\n",
       "      <td>XC839572.ogg</td>\n",
       "      <td>asbfly</td>\n",
       "      <td>Muscicapa dauurica</td>\n",
       "      <td>81.0</td>\n",
       "      <td>84.0</td>\n",
       "      <td>-1</td>\n",
       "      <td>0.984935</td>\n",
       "    </tr>\n",
       "    <tr>\n",
       "      <th>182</th>\n",
       "      <td>XC825177.ogg</td>\n",
       "      <td>asbfly</td>\n",
       "      <td>Muscicapa dauurica</td>\n",
       "      <td>36.0</td>\n",
       "      <td>39.0</td>\n",
       "      <td>-1</td>\n",
       "      <td>0.985808</td>\n",
       "    </tr>\n",
       "  </tbody>\n",
       "</table>\n",
       "</div>"
      ],
      "text/plain": [
       "         filename   label                name  start   end  duration  \\\n",
       "218  XC839572.ogg  asbfly  Muscicapa dauurica   81.0  84.0        -1   \n",
       "182  XC825177.ogg  asbfly  Muscicapa dauurica   36.0  39.0        -1   \n",
       "\n",
       "     confidence  \n",
       "218    0.984935  \n",
       "182    0.985808  "
      ]
     },
     "execution_count": 165,
     "metadata": {},
     "output_type": "execute_result"
    }
   ],
   "source": [
    "bird_preds_df.sample(2)"
   ]
  },
  {
   "cell_type": "code",
   "execution_count": 166,
   "id": "e70a4e0c-351d-4b4f-9940-ba367cd49efc",
   "metadata": {},
   "outputs": [],
   "source": [
    "# bird_preds_df['path'] = fr'{str(CFG.AUDIO_FOLDER)}/' + bird_preds_df['label'] + '/' + bird_preds_df['filename']"
   ]
  },
  {
   "cell_type": "code",
   "execution_count": 167,
   "id": "312bef63-a4d7-4020-8208-dc45752a80e3",
   "metadata": {},
   "outputs": [],
   "source": [
    "# bird_preds_df[bird_preds_df['filename'] == 'XC496054.ogg']"
   ]
  },
  {
   "cell_type": "code",
   "execution_count": 168,
   "id": "0b2cc477-f694-4f12-ae65-3cf8555a68b6",
   "metadata": {},
   "outputs": [
    {
     "data": {
      "text/html": [
       "<div>\n",
       "<style scoped>\n",
       "    .dataframe tbody tr th:only-of-type {\n",
       "        vertical-align: middle;\n",
       "    }\n",
       "\n",
       "    .dataframe tbody tr th {\n",
       "        vertical-align: top;\n",
       "    }\n",
       "\n",
       "    .dataframe thead th {\n",
       "        text-align: right;\n",
       "    }\n",
       "</style>\n",
       "<table border=\"1\" class=\"dataframe\">\n",
       "  <thead>\n",
       "    <tr style=\"text-align: right;\">\n",
       "      <th></th>\n",
       "      <th>filename</th>\n",
       "      <th>label</th>\n",
       "      <th>name</th>\n",
       "      <th>start</th>\n",
       "      <th>end</th>\n",
       "      <th>duration</th>\n",
       "      <th>confidence</th>\n",
       "    </tr>\n",
       "  </thead>\n",
       "  <tbody>\n",
       "    <tr>\n",
       "      <th>44</th>\n",
       "      <td>XC376509.ogg</td>\n",
       "      <td>asbfly</td>\n",
       "      <td>Coccothraustes coccothraustes</td>\n",
       "      <td>33.0</td>\n",
       "      <td>36.0</td>\n",
       "      <td>-1</td>\n",
       "      <td>0.812402</td>\n",
       "    </tr>\n",
       "    <tr>\n",
       "      <th>251</th>\n",
       "      <td>XC858110.ogg</td>\n",
       "      <td>asbfly</td>\n",
       "      <td>Muscicapa dauurica</td>\n",
       "      <td>30.0</td>\n",
       "      <td>33.0</td>\n",
       "      <td>-1</td>\n",
       "      <td>0.994005</td>\n",
       "    </tr>\n",
       "    <tr>\n",
       "      <th>192</th>\n",
       "      <td>XC827640.ogg</td>\n",
       "      <td>asbfly</td>\n",
       "      <td>Muscicapa dauurica</td>\n",
       "      <td>21.0</td>\n",
       "      <td>24.0</td>\n",
       "      <td>-1</td>\n",
       "      <td>0.833466</td>\n",
       "    </tr>\n",
       "    <tr>\n",
       "      <th>183</th>\n",
       "      <td>XC825177.ogg</td>\n",
       "      <td>asbfly</td>\n",
       "      <td>Muscicapa dauurica</td>\n",
       "      <td>42.0</td>\n",
       "      <td>45.0</td>\n",
       "      <td>-1</td>\n",
       "      <td>0.955030</td>\n",
       "    </tr>\n",
       "  </tbody>\n",
       "</table>\n",
       "</div>"
      ],
      "text/plain": [
       "         filename   label                           name  start   end  \\\n",
       "44   XC376509.ogg  asbfly  Coccothraustes coccothraustes   33.0  36.0   \n",
       "251  XC858110.ogg  asbfly             Muscicapa dauurica   30.0  33.0   \n",
       "192  XC827640.ogg  asbfly             Muscicapa dauurica   21.0  24.0   \n",
       "183  XC825177.ogg  asbfly             Muscicapa dauurica   42.0  45.0   \n",
       "\n",
       "     duration  confidence  \n",
       "44         -1    0.812402  \n",
       "251        -1    0.994005  \n",
       "192        -1    0.833466  \n",
       "183        -1    0.955030  "
      ]
     },
     "execution_count": 168,
     "metadata": {},
     "output_type": "execute_result"
    }
   ],
   "source": [
    "bird_preds_df.sample(4)"
   ]
  },
  {
   "cell_type": "code",
   "execution_count": 169,
   "id": "f1eff12e-91f5-4a9e-9427-0c6c8025c8cf",
   "metadata": {},
   "outputs": [],
   "source": [
    "bird_preds_df['pred_code'] = bird_preds_df.apply(lambda row: sci2code[row['name']] if row['name'] in sci2code.keys() else '', axis=1)\n",
    "bird_preds_df['ood'] = bird_preds_df.apply(lambda row: False if row['pred_code'] in bird2id.keys() else True, axis=1)"
   ]
  },
  {
   "cell_type": "code",
   "execution_count": 170,
   "id": "be168ee7-8c28-42f2-aa59-d0436dbaab76",
   "metadata": {
    "scrolled": true
   },
   "outputs": [
    {
     "data": {
      "text/plain": [
       "((254, 9), (0, 9))"
      ]
     },
     "execution_count": 170,
     "metadata": {},
     "output_type": "execute_result"
    }
   ],
   "source": [
    "bird_preds_df.shape, bird_preds_df[bird_preds_df['pred_code'] == ''].shape"
   ]
  },
  {
   "cell_type": "code",
   "execution_count": 171,
   "id": "a3bea094-7723-4154-8e38-a4aac3d2db1b",
   "metadata": {
    "scrolled": true
   },
   "outputs": [
    {
     "data": {
      "text/plain": [
       "(23, 9)"
      ]
     },
     "execution_count": 171,
     "metadata": {},
     "output_type": "execute_result"
    }
   ],
   "source": [
    "bird_preds_df[bird_preds_df['ood'] == True].shape"
   ]
  },
  {
   "cell_type": "code",
   "execution_count": 172,
   "id": "95412e62-92f3-4d60-b871-0fcf0df6410e",
   "metadata": {
    "scrolled": true
   },
   "outputs": [
    {
     "data": {
      "text/plain": [
       "15"
      ]
     },
     "execution_count": 172,
     "metadata": {},
     "output_type": "execute_result"
    }
   ],
   "source": [
    "ood_list = bird_preds_df[bird_preds_df['ood'] == True].pred_code.unique().tolist()\n",
    "len(ood_list)"
   ]
  },
  {
   "cell_type": "code",
   "execution_count": 174,
   "id": "f42c8329-2321-4a6f-a391-33c9c9c50f44",
   "metadata": {},
   "outputs": [
    {
     "data": {
      "text/html": [
       "<div>\n",
       "<style scoped>\n",
       "    .dataframe tbody tr th:only-of-type {\n",
       "        vertical-align: middle;\n",
       "    }\n",
       "\n",
       "    .dataframe tbody tr th {\n",
       "        vertical-align: top;\n",
       "    }\n",
       "\n",
       "    .dataframe thead th {\n",
       "        text-align: right;\n",
       "    }\n",
       "</style>\n",
       "<table border=\"1\" class=\"dataframe\">\n",
       "  <thead>\n",
       "    <tr style=\"text-align: right;\">\n",
       "      <th></th>\n",
       "      <th>filename</th>\n",
       "      <th>label</th>\n",
       "      <th>name</th>\n",
       "      <th>start</th>\n",
       "      <th>end</th>\n",
       "      <th>duration</th>\n",
       "      <th>confidence</th>\n",
       "      <th>pred_code</th>\n",
       "      <th>ood</th>\n",
       "    </tr>\n",
       "  </thead>\n",
       "  <tbody>\n",
       "  </tbody>\n",
       "</table>\n",
       "</div>"
      ],
      "text/plain": [
       "Empty DataFrame\n",
       "Columns: [filename, label, name, start, end, duration, confidence, pred_code, ood]\n",
       "Index: []"
      ]
     },
     "execution_count": 174,
     "metadata": {},
     "output_type": "execute_result"
    }
   ],
   "source": [
    "bird_preds_df[bird_preds_df['duration'] != -1]"
   ]
  },
  {
   "cell_type": "code",
   "execution_count": 173,
   "id": "990cd292-865b-499b-9841-8d12a5c7a6ca",
   "metadata": {},
   "outputs": [
    {
     "data": {
      "text/html": [
       "<div>\n",
       "<style scoped>\n",
       "    .dataframe tbody tr th:only-of-type {\n",
       "        vertical-align: middle;\n",
       "    }\n",
       "\n",
       "    .dataframe tbody tr th {\n",
       "        vertical-align: top;\n",
       "    }\n",
       "\n",
       "    .dataframe thead th {\n",
       "        text-align: right;\n",
       "    }\n",
       "</style>\n",
       "<table border=\"1\" class=\"dataframe\">\n",
       "  <thead>\n",
       "    <tr style=\"text-align: right;\">\n",
       "      <th></th>\n",
       "      <th>filename</th>\n",
       "      <th>label</th>\n",
       "      <th>name</th>\n",
       "      <th>start</th>\n",
       "      <th>end</th>\n",
       "      <th>duration</th>\n",
       "      <th>confidence</th>\n",
       "      <th>pred_code</th>\n",
       "      <th>ood</th>\n",
       "    </tr>\n",
       "  </thead>\n",
       "  <tbody>\n",
       "    <tr>\n",
       "      <th>241</th>\n",
       "      <td>XC858110.ogg</td>\n",
       "      <td>asbfly</td>\n",
       "      <td>Muscicapa dauurica</td>\n",
       "      <td>0.0</td>\n",
       "      <td>3.0</td>\n",
       "      <td>-1</td>\n",
       "      <td>0.995944</td>\n",
       "      <td>asbfly</td>\n",
       "      <td>False</td>\n",
       "    </tr>\n",
       "    <tr>\n",
       "      <th>178</th>\n",
       "      <td>XC825177.ogg</td>\n",
       "      <td>asbfly</td>\n",
       "      <td>Muscicapa dauurica</td>\n",
       "      <td>12.0</td>\n",
       "      <td>15.0</td>\n",
       "      <td>-1</td>\n",
       "      <td>0.979883</td>\n",
       "      <td>asbfly</td>\n",
       "      <td>False</td>\n",
       "    </tr>\n",
       "  </tbody>\n",
       "</table>\n",
       "</div>"
      ],
      "text/plain": [
       "         filename   label                name  start   end  duration  \\\n",
       "241  XC858110.ogg  asbfly  Muscicapa dauurica    0.0   3.0        -1   \n",
       "178  XC825177.ogg  asbfly  Muscicapa dauurica   12.0  15.0        -1   \n",
       "\n",
       "     confidence pred_code    ood  \n",
       "241    0.995944    asbfly  False  \n",
       "178    0.979883    asbfly  False  "
      ]
     },
     "execution_count": 173,
     "metadata": {},
     "output_type": "execute_result"
    }
   ],
   "source": [
    "bird_preds_df.sample(2)"
   ]
  },
  {
   "cell_type": "code",
   "execution_count": 105,
   "id": "73325f25-27f0-467a-b9a6-b1814007956b",
   "metadata": {
    "scrolled": true
   },
   "outputs": [
    {
     "data": {
      "text/plain": [
       "label\n",
       "blrwar1    13281\n",
       "hoopoe      6506\n",
       "comros      4259\n",
       "grewar3     4117\n",
       "bkwsti      3751\n",
       "eucdov      3539\n",
       "barswa      3340\n",
       "zitcis1     2713\n",
       "comgre      2400\n",
       "rorpar      2357\n",
       "comsan      2335\n",
       "woosan      2311\n",
       "graher1     2231\n",
       "grywag      2230\n",
       "lirplo      2111\n",
       "Name: count, dtype: int64"
      ]
     },
     "execution_count": 105,
     "metadata": {},
     "output_type": "execute_result"
    }
   ],
   "source": [
    "bird_preds_df.label.value_counts()[:15]"
   ]
  },
  {
   "cell_type": "markdown",
   "id": "0ea46dbf-d1b8-4f6d-bf0d-f87b177529ff",
   "metadata": {},
   "source": [
    "### Unlabeled soundscapes"
   ]
  },
  {
   "cell_type": "code",
   "execution_count": 106,
   "id": "7916569e-8582-45e5-8379-845f7dda905e",
   "metadata": {},
   "outputs": [
    {
     "data": {
      "text/html": [
       "<div>\n",
       "<style scoped>\n",
       "    .dataframe tbody tr th:only-of-type {\n",
       "        vertical-align: middle;\n",
       "    }\n",
       "\n",
       "    .dataframe tbody tr th {\n",
       "        vertical-align: top;\n",
       "    }\n",
       "\n",
       "    .dataframe thead th {\n",
       "        text-align: right;\n",
       "    }\n",
       "</style>\n",
       "<table border=\"1\" class=\"dataframe\">\n",
       "  <thead>\n",
       "    <tr style=\"text-align: right;\">\n",
       "      <th></th>\n",
       "      <th>filename</th>\n",
       "      <th>name</th>\n",
       "      <th>start</th>\n",
       "      <th>end</th>\n",
       "      <th>confidence</th>\n",
       "    </tr>\n",
       "  </thead>\n",
       "  <tbody>\n",
       "    <tr>\n",
       "      <th>25580</th>\n",
       "      <td>899208617.ogg</td>\n",
       "      <td>Irena puella</td>\n",
       "      <td>45.0</td>\n",
       "      <td>48.0</td>\n",
       "      <td>0.862166</td>\n",
       "    </tr>\n",
       "    <tr>\n",
       "      <th>10925</th>\n",
       "      <td>1774227206.ogg</td>\n",
       "      <td>Leptocoma minima</td>\n",
       "      <td>222.0</td>\n",
       "      <td>225.0</td>\n",
       "      <td>0.993479</td>\n",
       "    </tr>\n",
       "  </tbody>\n",
       "</table>\n",
       "</div>"
      ],
      "text/plain": [
       "             filename              name  start    end  confidence\n",
       "25580   899208617.ogg      Irena puella   45.0   48.0    0.862166\n",
       "10925  1774227206.ogg  Leptocoma minima  222.0  225.0    0.993479"
      ]
     },
     "execution_count": 106,
     "metadata": {},
     "output_type": "execute_result"
    }
   ],
   "source": [
    "unlabeled_preds_df.sample(2)"
   ]
  },
  {
   "cell_type": "code",
   "execution_count": 107,
   "id": "e6fc32a0-8e4b-48db-b020-42fc42314849",
   "metadata": {},
   "outputs": [],
   "source": [
    "unlabeled_preds_df['pred_code'] = unlabeled_preds_df.apply(lambda row: sci2code[row['name']] if row['name'] in sci2code.keys() else '', axis=1)\n",
    "unlabeled_preds_df['label'] = unlabeled_preds_df['pred_code']\n",
    "unlabeled_preds_df['ood'] = unlabeled_preds_df.apply(lambda row: False if row['pred_code'] in bird2id.keys() else True, axis=1)"
   ]
  },
  {
   "cell_type": "code",
   "execution_count": 108,
   "id": "f01248f6-3a70-41df-92fe-d60f110685c2",
   "metadata": {},
   "outputs": [],
   "source": [
    "unlabeled_preds_df['path'] = fr'{str(CFG.UNLABELED_FOLDER)}/' + unlabeled_preds_df['filename']"
   ]
  },
  {
   "cell_type": "code",
   "execution_count": 109,
   "id": "8d773716-1ed0-4f4c-b087-9e78578d062e",
   "metadata": {},
   "outputs": [
    {
     "data": {
      "text/html": [
       "<div>\n",
       "<style scoped>\n",
       "    .dataframe tbody tr th:only-of-type {\n",
       "        vertical-align: middle;\n",
       "    }\n",
       "\n",
       "    .dataframe tbody tr th {\n",
       "        vertical-align: top;\n",
       "    }\n",
       "\n",
       "    .dataframe thead th {\n",
       "        text-align: right;\n",
       "    }\n",
       "</style>\n",
       "<table border=\"1\" class=\"dataframe\">\n",
       "  <thead>\n",
       "    <tr style=\"text-align: right;\">\n",
       "      <th></th>\n",
       "      <th>filename</th>\n",
       "      <th>name</th>\n",
       "      <th>start</th>\n",
       "      <th>end</th>\n",
       "      <th>confidence</th>\n",
       "      <th>pred_code</th>\n",
       "      <th>label</th>\n",
       "      <th>ood</th>\n",
       "      <th>path</th>\n",
       "    </tr>\n",
       "  </thead>\n",
       "  <tbody>\n",
       "    <tr>\n",
       "      <th>3719</th>\n",
       "      <td>1273762750.ogg</td>\n",
       "      <td>Myophonus horsfieldii</td>\n",
       "      <td>81.0</td>\n",
       "      <td>84.0</td>\n",
       "      <td>0.958053</td>\n",
       "      <td>mawthr1</td>\n",
       "      <td>mawthr1</td>\n",
       "      <td>False</td>\n",
       "      <td>E:\\data\\BirdCLEF\\unlabeled_soundscapes/1273762...</td>\n",
       "    </tr>\n",
       "    <tr>\n",
       "      <th>10014</th>\n",
       "      <td>1697952212.ogg</td>\n",
       "      <td>Alcippe poioicephala</td>\n",
       "      <td>48.0</td>\n",
       "      <td>51.0</td>\n",
       "      <td>0.789011</td>\n",
       "      <td>brcful1</td>\n",
       "      <td>brcful1</td>\n",
       "      <td>False</td>\n",
       "      <td>E:\\data\\BirdCLEF\\unlabeled_soundscapes/1697952...</td>\n",
       "    </tr>\n",
       "  </tbody>\n",
       "</table>\n",
       "</div>"
      ],
      "text/plain": [
       "             filename                   name  start   end  confidence  \\\n",
       "3719   1273762750.ogg  Myophonus horsfieldii   81.0  84.0    0.958053   \n",
       "10014  1697952212.ogg   Alcippe poioicephala   48.0  51.0    0.789011   \n",
       "\n",
       "      pred_code    label    ood  \\\n",
       "3719    mawthr1  mawthr1  False   \n",
       "10014   brcful1  brcful1  False   \n",
       "\n",
       "                                                    path  \n",
       "3719   E:\\data\\BirdCLEF\\unlabeled_soundscapes/1273762...  \n",
       "10014  E:\\data\\BirdCLEF\\unlabeled_soundscapes/1697952...  "
      ]
     },
     "execution_count": 109,
     "metadata": {},
     "output_type": "execute_result"
    }
   ],
   "source": [
    "unlabeled_preds_df.sample(2)"
   ]
  },
  {
   "cell_type": "code",
   "execution_count": 110,
   "id": "d6a28da3-d240-4560-bba2-3bf0646c3fca",
   "metadata": {},
   "outputs": [
    {
     "data": {
      "text/plain": [
       "((27203, 9), (351, 9))"
      ]
     },
     "execution_count": 110,
     "metadata": {},
     "output_type": "execute_result"
    }
   ],
   "source": [
    "unlabeled_preds_df.shape, unlabeled_preds_df[unlabeled_preds_df['pred_code'] == ''].shape"
   ]
  },
  {
   "cell_type": "code",
   "execution_count": 111,
   "id": "a2ccf09a-83f1-4a17-adc4-840bbac7ab83",
   "metadata": {},
   "outputs": [
    {
     "data": {
      "text/plain": [
       "(18295, 9)"
      ]
     },
     "execution_count": 111,
     "metadata": {},
     "output_type": "execute_result"
    }
   ],
   "source": [
    "unlabeled_preds_df[unlabeled_preds_df['ood'] == False].shape"
   ]
  },
  {
   "cell_type": "code",
   "execution_count": null,
   "id": "5ffed490-bb98-4122-9a95-b162ef391a69",
   "metadata": {},
   "outputs": [],
   "source": []
  },
  {
   "cell_type": "code",
   "execution_count": 112,
   "id": "de08e21e-ba07-44fa-ad27-87ef5391819e",
   "metadata": {},
   "outputs": [
    {
     "data": {
      "text/html": [
       "<div>\n",
       "<style scoped>\n",
       "    .dataframe tbody tr th:only-of-type {\n",
       "        vertical-align: middle;\n",
       "    }\n",
       "\n",
       "    .dataframe tbody tr th {\n",
       "        vertical-align: top;\n",
       "    }\n",
       "\n",
       "    .dataframe thead th {\n",
       "        text-align: right;\n",
       "    }\n",
       "</style>\n",
       "<table border=\"1\" class=\"dataframe\">\n",
       "  <thead>\n",
       "    <tr style=\"text-align: right;\">\n",
       "      <th></th>\n",
       "      <th>filename</th>\n",
       "      <th>name</th>\n",
       "      <th>start</th>\n",
       "      <th>end</th>\n",
       "      <th>confidence</th>\n",
       "      <th>pred_code</th>\n",
       "      <th>label</th>\n",
       "      <th>ood</th>\n",
       "      <th>path</th>\n",
       "    </tr>\n",
       "  </thead>\n",
       "  <tbody>\n",
       "    <tr>\n",
       "      <th>1754</th>\n",
       "      <td>1132499652.ogg</td>\n",
       "      <td>Leptocoma minima</td>\n",
       "      <td>144.0</td>\n",
       "      <td>147.0</td>\n",
       "      <td>0.756498</td>\n",
       "      <td>crbsun2</td>\n",
       "      <td>crbsun2</td>\n",
       "      <td>False</td>\n",
       "      <td>E:\\data\\BirdCLEF\\unlabeled_soundscapes/1132499...</td>\n",
       "    </tr>\n",
       "    <tr>\n",
       "      <th>6746</th>\n",
       "      <td>1495694736.ogg</td>\n",
       "      <td>Pomatorhinus horsfieldii</td>\n",
       "      <td>99.0</td>\n",
       "      <td>102.0</td>\n",
       "      <td>0.974305</td>\n",
       "      <td>insbab1</td>\n",
       "      <td>insbab1</td>\n",
       "      <td>False</td>\n",
       "      <td>E:\\data\\BirdCLEF\\unlabeled_soundscapes/1495694...</td>\n",
       "    </tr>\n",
       "    <tr>\n",
       "      <th>2668</th>\n",
       "      <td>1212125127.ogg</td>\n",
       "      <td>Gracula indica</td>\n",
       "      <td>24.0</td>\n",
       "      <td>27.0</td>\n",
       "      <td>0.999774</td>\n",
       "      <td>sohmyn1</td>\n",
       "      <td>sohmyn1</td>\n",
       "      <td>False</td>\n",
       "      <td>E:\\data\\BirdCLEF\\unlabeled_soundscapes/1212125...</td>\n",
       "    </tr>\n",
       "    <tr>\n",
       "      <th>16855</th>\n",
       "      <td>269289125.ogg</td>\n",
       "      <td>Gallus sonneratii</td>\n",
       "      <td>45.0</td>\n",
       "      <td>48.0</td>\n",
       "      <td>0.865619</td>\n",
       "      <td>grejun2</td>\n",
       "      <td>grejun2</td>\n",
       "      <td>False</td>\n",
       "      <td>E:\\data\\BirdCLEF\\unlabeled_soundscapes/2692891...</td>\n",
       "    </tr>\n",
       "  </tbody>\n",
       "</table>\n",
       "</div>"
      ],
      "text/plain": [
       "             filename                      name  start    end  confidence  \\\n",
       "1754   1132499652.ogg          Leptocoma minima  144.0  147.0    0.756498   \n",
       "6746   1495694736.ogg  Pomatorhinus horsfieldii   99.0  102.0    0.974305   \n",
       "2668   1212125127.ogg            Gracula indica   24.0   27.0    0.999774   \n",
       "16855   269289125.ogg         Gallus sonneratii   45.0   48.0    0.865619   \n",
       "\n",
       "      pred_code    label    ood  \\\n",
       "1754    crbsun2  crbsun2  False   \n",
       "6746    insbab1  insbab1  False   \n",
       "2668    sohmyn1  sohmyn1  False   \n",
       "16855   grejun2  grejun2  False   \n",
       "\n",
       "                                                    path  \n",
       "1754   E:\\data\\BirdCLEF\\unlabeled_soundscapes/1132499...  \n",
       "6746   E:\\data\\BirdCLEF\\unlabeled_soundscapes/1495694...  \n",
       "2668   E:\\data\\BirdCLEF\\unlabeled_soundscapes/1212125...  \n",
       "16855  E:\\data\\BirdCLEF\\unlabeled_soundscapes/2692891...  "
      ]
     },
     "execution_count": 112,
     "metadata": {},
     "output_type": "execute_result"
    }
   ],
   "source": [
    "unlabeled_preds_df[unlabeled_preds_df['ood'] == False].sample(4)"
   ]
  },
  {
   "cell_type": "code",
   "execution_count": null,
   "id": "eb279021-18e6-4982-bd44-a67eecdeb0a2",
   "metadata": {},
   "outputs": [],
   "source": []
  },
  {
   "cell_type": "markdown",
   "id": "8dabae7e-3556-4a4c-ab53-06272c339519",
   "metadata": {},
   "source": [
    "### Low freq classes"
   ]
  },
  {
   "cell_type": "code",
   "execution_count": 113,
   "id": "9821ad5c-aca4-4ea4-a337-959a1e95ae8e",
   "metadata": {},
   "outputs": [
    {
     "data": {
      "text/plain": [
       "(1180, 4, 1002)"
      ]
     },
     "execution_count": 113,
     "metadata": {},
     "output_type": "execute_result"
    }
   ],
   "source": [
    "labels_pred = bird_preds_df.pred_code.unique().tolist()\n",
    "\n",
    "missing = list(set(CFG.LABELS) - set(labels_pred))\n",
    "extra = list(set(labels_pred) - set(CFG.LABELS))\n",
    "\n",
    "len(labels_pred), len(missing), len(extra)"
   ]
  },
  {
   "cell_type": "code",
   "execution_count": 114,
   "id": "67049aab-7dbc-4cfd-9e52-6f480600d7d0",
   "metadata": {},
   "outputs": [
    {
     "data": {
      "text/plain": [
       "0"
      ]
     },
     "execution_count": 114,
     "metadata": {},
     "output_type": "execute_result"
    }
   ],
   "source": [
    "labels_pred = bird_preds_df[bird_preds_df['ood'] == False].pred_code.unique().tolist()\n",
    "\n",
    "extra = list(set(labels_pred) - set(CFG.LABELS))\n",
    "len(extra)"
   ]
  },
  {
   "cell_type": "code",
   "execution_count": 115,
   "id": "aacb6432-6f09-41c3-8a66-5daa3f4d8ec0",
   "metadata": {},
   "outputs": [
    {
     "data": {
      "text/plain": [
       "['inpher1', 'darter2', 'niwpig1', 'brfowl1']"
      ]
     },
     "execution_count": 115,
     "metadata": {},
     "output_type": "execute_result"
    }
   ],
   "source": [
    "missing"
   ]
  },
  {
   "cell_type": "code",
   "execution_count": 116,
   "id": "ec808257-2621-4d48-ab41-c19b01dde0f0",
   "metadata": {},
   "outputs": [
    {
     "data": {
      "text/plain": [
       "False"
      ]
     },
     "execution_count": 116,
     "metadata": {},
     "output_type": "execute_result"
    }
   ],
   "source": [
    "'darter2' in labels_pred"
   ]
  },
  {
   "cell_type": "code",
   "execution_count": 117,
   "id": "f08eca3f-f802-41fb-a2af-f36277ef2f7a",
   "metadata": {
    "scrolled": true
   },
   "outputs": [
    {
     "data": {
      "text/plain": [
       "(29, 30, 179)"
      ]
     },
     "execution_count": 117,
     "metadata": {},
     "output_type": "execute_result"
    }
   ],
   "source": [
    "counts = bird_preds_df.label.value_counts()\n",
    "# bird_preds_df.label.isin(counts[counts < 1000]).index.tolist()\n",
    "counts[counts > 1000].count(), counts[counts < 50].count(), counts.count()"
   ]
  },
  {
   "cell_type": "code",
   "execution_count": 118,
   "id": "3bdb8ca6-fd17-4561-9c15-cd559fcd56df",
   "metadata": {},
   "outputs": [
    {
     "data": {
      "text/plain": [
       "(29, 999, 817, 182)"
      ]
     },
     "execution_count": 118,
     "metadata": {},
     "output_type": "execute_result"
    }
   ],
   "source": [
    "counts = bird_preds_df.pred_code.value_counts()\n",
    "counts[counts > 1000].count(), counts[counts < 50].count(), counts[counts < 10].count(), len(CFG.LABELS)"
   ]
  },
  {
   "cell_type": "code",
   "execution_count": 119,
   "id": "98918c6c-80bb-440e-98f9-66ffe7afc124",
   "metadata": {},
   "outputs": [
    {
     "data": {
      "text/plain": [
       "(29, 31, 8, 182)"
      ]
     },
     "execution_count": 119,
     "metadata": {},
     "output_type": "execute_result"
    }
   ],
   "source": [
    "ood_df = bird_preds_df[bird_preds_df['ood'] == False]\n",
    "counts = ood_df.pred_code.value_counts()\n",
    "counts[counts > 1000].count(), counts[counts < 50].count(), counts[counts < 10].count(), len(CFG.LABELS)"
   ]
  },
  {
   "cell_type": "code",
   "execution_count": 120,
   "id": "ed9f44c2-d884-4a33-91c8-d5b288b11fdc",
   "metadata": {},
   "outputs": [
    {
     "data": {
      "text/plain": [
       "((123023, 8), (114336, 8))"
      ]
     },
     "execution_count": 120,
     "metadata": {},
     "output_type": "execute_result"
    }
   ],
   "source": [
    "bird_preds_df.shape,  ood_df.shape"
   ]
  },
  {
   "cell_type": "code",
   "execution_count": 121,
   "id": "f01fbb14-7605-4393-ba2f-a7d156008e67",
   "metadata": {
    "scrolled": true
   },
   "outputs": [],
   "source": [
    "# bird_preds_df.label.value_counts()[-20:]"
   ]
  },
  {
   "cell_type": "code",
   "execution_count": 122,
   "id": "bc26efbe-b860-4c0c-8444-381ff9dd132d",
   "metadata": {},
   "outputs": [
    {
     "data": {
      "text/html": [
       "<div>\n",
       "<style scoped>\n",
       "    .dataframe tbody tr th:only-of-type {\n",
       "        vertical-align: middle;\n",
       "    }\n",
       "\n",
       "    .dataframe tbody tr th {\n",
       "        vertical-align: top;\n",
       "    }\n",
       "\n",
       "    .dataframe thead th {\n",
       "        text-align: right;\n",
       "    }\n",
       "</style>\n",
       "<table border=\"1\" class=\"dataframe\">\n",
       "  <thead>\n",
       "    <tr style=\"text-align: right;\">\n",
       "      <th></th>\n",
       "      <th>filename</th>\n",
       "      <th>label</th>\n",
       "      <th>name</th>\n",
       "      <th>start</th>\n",
       "      <th>end</th>\n",
       "      <th>confidence</th>\n",
       "      <th>pred_code</th>\n",
       "      <th>ood</th>\n",
       "    </tr>\n",
       "  </thead>\n",
       "  <tbody>\n",
       "  </tbody>\n",
       "</table>\n",
       "</div>"
      ],
      "text/plain": [
       "Empty DataFrame\n",
       "Columns: [filename, label, name, start, end, confidence, pred_code, ood]\n",
       "Index: []"
      ]
     },
     "execution_count": 122,
     "metadata": {},
     "output_type": "execute_result"
    }
   ],
   "source": [
    "bird_preds_df[bird_preds_df['filename'] == 'XC49755.ogg']"
   ]
  },
  {
   "cell_type": "code",
   "execution_count": 123,
   "id": "9f76f874-ed18-4707-bb95-8c6899728442",
   "metadata": {},
   "outputs": [
    {
     "data": {
      "text/html": [
       "<div>\n",
       "<style scoped>\n",
       "    .dataframe tbody tr th:only-of-type {\n",
       "        vertical-align: middle;\n",
       "    }\n",
       "\n",
       "    .dataframe tbody tr th {\n",
       "        vertical-align: top;\n",
       "    }\n",
       "\n",
       "    .dataframe thead th {\n",
       "        text-align: right;\n",
       "    }\n",
       "</style>\n",
       "<table border=\"1\" class=\"dataframe\">\n",
       "  <thead>\n",
       "    <tr style=\"text-align: right;\">\n",
       "      <th></th>\n",
       "      <th>filename</th>\n",
       "      <th>label</th>\n",
       "      <th>name</th>\n",
       "      <th>start</th>\n",
       "      <th>end</th>\n",
       "      <th>confidence</th>\n",
       "      <th>pred_code</th>\n",
       "      <th>ood</th>\n",
       "    </tr>\n",
       "  </thead>\n",
       "  <tbody>\n",
       "    <tr>\n",
       "      <th>8</th>\n",
       "      <td>XC209218.ogg</td>\n",
       "      <td>asbfly</td>\n",
       "      <td>Muscicapa striata</td>\n",
       "      <td>30.0</td>\n",
       "      <td>33.0</td>\n",
       "      <td>0.818781</td>\n",
       "      <td>spofly1</td>\n",
       "      <td>True</td>\n",
       "    </tr>\n",
       "    <tr>\n",
       "      <th>9</th>\n",
       "      <td>XC267683.ogg</td>\n",
       "      <td>asbfly</td>\n",
       "      <td>Cyanoptila cyanomelana</td>\n",
       "      <td>0.0</td>\n",
       "      <td>3.0</td>\n",
       "      <td>0.907427</td>\n",
       "      <td>bawfly2</td>\n",
       "      <td>True</td>\n",
       "    </tr>\n",
       "    <tr>\n",
       "      <th>32</th>\n",
       "      <td>XC313835.ogg</td>\n",
       "      <td>asbfly</td>\n",
       "      <td>Horornis fortipes</td>\n",
       "      <td>3.0</td>\n",
       "      <td>6.0</td>\n",
       "      <td>0.961619</td>\n",
       "      <td>bfbwar1</td>\n",
       "      <td>True</td>\n",
       "    </tr>\n",
       "    <tr>\n",
       "      <th>33</th>\n",
       "      <td>XC313835.ogg</td>\n",
       "      <td>asbfly</td>\n",
       "      <td>Horornis fortipes</td>\n",
       "      <td>12.0</td>\n",
       "      <td>15.0</td>\n",
       "      <td>0.853916</td>\n",
       "      <td>bfbwar1</td>\n",
       "      <td>True</td>\n",
       "    </tr>\n",
       "    <tr>\n",
       "      <th>35</th>\n",
       "      <td>XC342037.ogg</td>\n",
       "      <td>asbfly</td>\n",
       "      <td>Phylloscopus borealis</td>\n",
       "      <td>51.0</td>\n",
       "      <td>54.0</td>\n",
       "      <td>0.885017</td>\n",
       "      <td>arcwar1</td>\n",
       "      <td>True</td>\n",
       "    </tr>\n",
       "    <tr>\n",
       "      <th>...</th>\n",
       "      <td>...</td>\n",
       "      <td>...</td>\n",
       "      <td>...</td>\n",
       "      <td>...</td>\n",
       "      <td>...</td>\n",
       "      <td>...</td>\n",
       "      <td>...</td>\n",
       "      <td>...</td>\n",
       "    </tr>\n",
       "    <tr>\n",
       "      <th>122990</th>\n",
       "      <td>XC839550.ogg</td>\n",
       "      <td>zitcis1</td>\n",
       "      <td>Helopsaltes pryeri</td>\n",
       "      <td>24.0</td>\n",
       "      <td>27.0</td>\n",
       "      <td>0.925592</td>\n",
       "      <td>margra1</td>\n",
       "      <td>True</td>\n",
       "    </tr>\n",
       "    <tr>\n",
       "      <th>122994</th>\n",
       "      <td>XC844802.ogg</td>\n",
       "      <td>zitcis1</td>\n",
       "      <td>Corvus monedula</td>\n",
       "      <td>3.0</td>\n",
       "      <td>6.0</td>\n",
       "      <td>0.929795</td>\n",
       "      <td>eurjac</td>\n",
       "      <td>True</td>\n",
       "    </tr>\n",
       "    <tr>\n",
       "      <th>122995</th>\n",
       "      <td>XC844802.ogg</td>\n",
       "      <td>zitcis1</td>\n",
       "      <td>Corvus monedula</td>\n",
       "      <td>9.0</td>\n",
       "      <td>12.0</td>\n",
       "      <td>0.904496</td>\n",
       "      <td>eurjac</td>\n",
       "      <td>True</td>\n",
       "    </tr>\n",
       "    <tr>\n",
       "      <th>122999</th>\n",
       "      <td>XC845747.ogg</td>\n",
       "      <td>zitcis1</td>\n",
       "      <td>Himantopus himantopus</td>\n",
       "      <td>0.0</td>\n",
       "      <td>3.0</td>\n",
       "      <td>0.918337</td>\n",
       "      <td>bkwsti</td>\n",
       "      <td>False</td>\n",
       "    </tr>\n",
       "    <tr>\n",
       "      <th>123002</th>\n",
       "      <td>XC845747.ogg</td>\n",
       "      <td>zitcis1</td>\n",
       "      <td>Phoenicopterus roseus</td>\n",
       "      <td>6.0</td>\n",
       "      <td>9.0</td>\n",
       "      <td>0.816145</td>\n",
       "      <td>grefla3</td>\n",
       "      <td>True</td>\n",
       "    </tr>\n",
       "  </tbody>\n",
       "</table>\n",
       "<p>11088 rows × 8 columns</p>\n",
       "</div>"
      ],
      "text/plain": [
       "            filename    label                    name  start   end  \\\n",
       "8       XC209218.ogg   asbfly       Muscicapa striata   30.0  33.0   \n",
       "9       XC267683.ogg   asbfly  Cyanoptila cyanomelana    0.0   3.0   \n",
       "32      XC313835.ogg   asbfly       Horornis fortipes    3.0   6.0   \n",
       "33      XC313835.ogg   asbfly       Horornis fortipes   12.0  15.0   \n",
       "35      XC342037.ogg   asbfly   Phylloscopus borealis   51.0  54.0   \n",
       "...              ...      ...                     ...    ...   ...   \n",
       "122990  XC839550.ogg  zitcis1      Helopsaltes pryeri   24.0  27.0   \n",
       "122994  XC844802.ogg  zitcis1         Corvus monedula    3.0   6.0   \n",
       "122995  XC844802.ogg  zitcis1         Corvus monedula    9.0  12.0   \n",
       "122999  XC845747.ogg  zitcis1   Himantopus himantopus    0.0   3.0   \n",
       "123002  XC845747.ogg  zitcis1   Phoenicopterus roseus    6.0   9.0   \n",
       "\n",
       "        confidence pred_code    ood  \n",
       "8         0.818781   spofly1   True  \n",
       "9         0.907427   bawfly2   True  \n",
       "32        0.961619   bfbwar1   True  \n",
       "33        0.853916   bfbwar1   True  \n",
       "35        0.885017   arcwar1   True  \n",
       "...            ...       ...    ...  \n",
       "122990    0.925592   margra1   True  \n",
       "122994    0.929795    eurjac   True  \n",
       "122995    0.904496    eurjac   True  \n",
       "122999    0.918337    bkwsti  False  \n",
       "123002    0.816145   grefla3   True  \n",
       "\n",
       "[11088 rows x 8 columns]"
      ]
     },
     "execution_count": 123,
     "metadata": {},
     "output_type": "execute_result"
    }
   ],
   "source": [
    "bird_preds_df[bird_preds_df['label'] != bird_preds_df['pred_code']]"
   ]
  },
  {
   "cell_type": "code",
   "execution_count": 124,
   "id": "62c123c9-c6c7-49cc-a2be-4d92e37c7d2f",
   "metadata": {
    "scrolled": true
   },
   "outputs": [],
   "source": [
    "# meta_df[meta_df['secondary_labels'] == '[]'].primary_label.value_counts()"
   ]
  },
  {
   "cell_type": "markdown",
   "id": "aa45c744-f94a-4b7a-bbfc-1d78fe015e11",
   "metadata": {},
   "source": [
    "### Post process predictions"
   ]
  },
  {
   "cell_type": "code",
   "execution_count": 125,
   "id": "a8b4c64b-c30b-4cd8-b857-82913f1605b7",
   "metadata": {},
   "outputs": [],
   "source": [
    "from utils import cat_feature_dist, downsample_data, upsample_data"
   ]
  },
  {
   "cell_type": "code",
   "execution_count": 126,
   "id": "281ba210-5221-4807-98f8-37d92a528855",
   "metadata": {},
   "outputs": [
    {
     "data": {
      "application/vnd.plotly.v1+json": {
       "config": {
        "plotlyServerURL": "https://plot.ly"
       },
       "data": [
        {
         "alignmentgroup": "True",
         "hovertemplate": "x=%{x}<br>y=%{y}<extra></extra>",
         "legendgroup": "",
         "marker": {
          "color": "#636efa",
          "pattern": {
           "shape": ""
          }
         },
         "name": "",
         "offsetgroup": "",
         "orientation": "h",
         "showlegend": false,
         "textposition": "auto",
         "type": "bar",
         "x": [
          1,
          2,
          5,
          6,
          8,
          9,
          10,
          10,
          14,
          18,
          18,
          19,
          24,
          24,
          26,
          27,
          27,
          28,
          29,
          29,
          31,
          34,
          34,
          38,
          38,
          44,
          47,
          48,
          49,
          49,
          52,
          53,
          56,
          59,
          67,
          69,
          71,
          73,
          75,
          75,
          76,
          81,
          82,
          83,
          86,
          89,
          90,
          91,
          91,
          96,
          96,
          101,
          102,
          102,
          103,
          106,
          107,
          107,
          120,
          122,
          124,
          125,
          127,
          133,
          143,
          154,
          154,
          157,
          160,
          164,
          166,
          167,
          174,
          179,
          183,
          183,
          185,
          193,
          201,
          202,
          215,
          220,
          227,
          228,
          231,
          239,
          240,
          254,
          262,
          264,
          269,
          272,
          273,
          276,
          277,
          282,
          285,
          299,
          317,
          319,
          323,
          330,
          340,
          345,
          347,
          349,
          369,
          380,
          384,
          411,
          424,
          429,
          431,
          445,
          447,
          450,
          452,
          457,
          466,
          479,
          482,
          534,
          562,
          597,
          608,
          614,
          652,
          660,
          675,
          680,
          681,
          701,
          713,
          736,
          746,
          780,
          785,
          803,
          815,
          832,
          837,
          852,
          861,
          870,
          911,
          921,
          958,
          965,
          974,
          996,
          1126,
          1184,
          1312,
          1437,
          1495,
          1679,
          1680,
          1736,
          1750,
          1822,
          1833,
          1835,
          1886,
          2058,
          2111,
          2230,
          2231,
          2311,
          2335,
          2357,
          2400,
          2713,
          3340,
          3539,
          3751,
          4117,
          4259,
          6506,
          13281
         ],
         "xaxis": "x",
         "y": [
          "asiope1",
          "niwpig1",
          "bncwoo3",
          "brfowl1",
          "indtit1",
          "wbbfly1",
          "wynlau1",
          "blaeag1",
          "junmyn1",
          "kerlau2",
          "nilfly2",
          "rutfly6",
          "isbduc1",
          "brwjac1",
          "brasta1",
          "paisto1",
          "pomgrp2",
          "malwoo1",
          "smamin1",
          "plaflo1",
          "scamin3",
          "comfla1",
          "bkrfla1",
          "rufwoo2",
          "chbeat1",
          "dafbab1",
          "spepic1",
          "redspu1",
          "crfbar1",
          "maltro1",
          "eurbla2",
          "bwfshr1",
          "sqtbul1",
          "vefnut1",
          "forwag1",
          "vehpar1",
          "sbeowl1",
          "whbtre1",
          "moipig1",
          "purswa3",
          "heswoo1",
          "lobsun2",
          "indrol2",
          "spoowl1",
          "cregos1",
          "whrmun",
          "sttwoo1",
          "aspfly1",
          "brakit1",
          "brwowl1",
          "gloibi",
          "aspswi1",
          "lesyel1",
          "malpar1",
          "bkcbul1",
          "jerbus2",
          "tilwar1",
          "orihob2",
          "goflea1",
          "ingori1",
          "crbsun2",
          "rufbab3",
          "whbbul2",
          "compea",
          "yebbab1",
          "barfly1",
          "brodro1",
          "grynig2",
          "whbsho3",
          "plhpar1",
          "whbwag1",
          "marsan",
          "grbeat1",
          "indrob1",
          "gryfra",
          "pursun3",
          "piebus1",
          "pabflo1",
          "lewduc1",
          "yebbul3",
          "insowl1",
          "maghor2",
          "ashwoo2",
          "ashdro1",
          "oripip1",
          "whcbar1",
          "grenig1",
          "asbfly",
          "mawthr1",
          "grejun2",
          "grehor1",
          "bladro1",
          "junowl1",
          "placuc3",
          "btbeat1",
          "purher1",
          "inbrob1",
          "grefla1",
          "comior1",
          "piekin1",
          "indpit1",
          "shikra1",
          "revbul",
          "tibfly3",
          "crseag1",
          "emedov2",
          "kenplo1",
          "grecou1",
          "grtdro1",
          "brcful1",
          "sohmyn1",
          "insbab1",
          "pursun4",
          "houcro1",
          "greegr",
          "gargan",
          "ashpri1",
          "plapri1",
          "blhori1",
          "lblwar1",
          "nutman",
          "brnshr",
          "copbar1",
          "whbwoo2",
          "gybpri1",
          "ruftre2",
          "rossta2",
          "rewbul",
          "commyn",
          "blakit1",
          "blnmon1",
          "litegr",
          "junbab2",
          "litswi1",
          "laudov1",
          "labcro1",
          "litspi1",
          "thbwar1",
          "rocpig",
          "spodov",
          "comtai1",
          "cohcuc1",
          "stbkin1",
          "litgre1",
          "rewlap1",
          "grnwar1",
          "wemhar1",
          "whtkin2",
          "brnhao1",
          "rerswa1",
          "commoo3",
          "gyhcaf1",
          "asikoe2",
          "whbwat1",
          "putbab1",
          "eurcoo",
          "houspa",
          "eaywag1",
          "categr",
          "bkskit1",
          "comkin1",
          "bcnher",
          "whiter2",
          "grnsan",
          "lirplo",
          "grywag",
          "graher1",
          "woosan",
          "comsan",
          "rorpar",
          "comgre",
          "zitcis1",
          "barswa",
          "eucdov",
          "bkwsti",
          "grewar3",
          "comros",
          "hoopoe",
          "blrwar1"
         ],
         "yaxis": "y"
        }
       ],
       "layout": {
        "autosize": true,
        "barmode": "group",
        "font": {
         "color": "#E1B12D",
         "size": 16
        },
        "legend": {
         "tracegroupgap": 0
        },
        "margin": {
         "t": 60
        },
        "paper_bgcolor": "#1C1D20",
        "plot_bgcolor": "#1C1D20",
        "showlegend": false,
        "template": {
         "data": {
          "bar": [
           {
            "error_x": {
             "color": "#2a3f5f"
            },
            "error_y": {
             "color": "#2a3f5f"
            },
            "marker": {
             "line": {
              "color": "#E5ECF6",
              "width": 0.5
             },
             "pattern": {
              "fillmode": "overlay",
              "size": 10,
              "solidity": 0.2
             }
            },
            "type": "bar"
           }
          ],
          "barpolar": [
           {
            "marker": {
             "line": {
              "color": "#E5ECF6",
              "width": 0.5
             },
             "pattern": {
              "fillmode": "overlay",
              "size": 10,
              "solidity": 0.2
             }
            },
            "type": "barpolar"
           }
          ],
          "carpet": [
           {
            "aaxis": {
             "endlinecolor": "#2a3f5f",
             "gridcolor": "white",
             "linecolor": "white",
             "minorgridcolor": "white",
             "startlinecolor": "#2a3f5f"
            },
            "baxis": {
             "endlinecolor": "#2a3f5f",
             "gridcolor": "white",
             "linecolor": "white",
             "minorgridcolor": "white",
             "startlinecolor": "#2a3f5f"
            },
            "type": "carpet"
           }
          ],
          "choropleth": [
           {
            "colorbar": {
             "outlinewidth": 0,
             "ticks": ""
            },
            "type": "choropleth"
           }
          ],
          "contour": [
           {
            "colorbar": {
             "outlinewidth": 0,
             "ticks": ""
            },
            "colorscale": [
             [
              0,
              "#0d0887"
             ],
             [
              0.1111111111111111,
              "#46039f"
             ],
             [
              0.2222222222222222,
              "#7201a8"
             ],
             [
              0.3333333333333333,
              "#9c179e"
             ],
             [
              0.4444444444444444,
              "#bd3786"
             ],
             [
              0.5555555555555556,
              "#d8576b"
             ],
             [
              0.6666666666666666,
              "#ed7953"
             ],
             [
              0.7777777777777778,
              "#fb9f3a"
             ],
             [
              0.8888888888888888,
              "#fdca26"
             ],
             [
              1,
              "#f0f921"
             ]
            ],
            "type": "contour"
           }
          ],
          "contourcarpet": [
           {
            "colorbar": {
             "outlinewidth": 0,
             "ticks": ""
            },
            "type": "contourcarpet"
           }
          ],
          "heatmap": [
           {
            "colorbar": {
             "outlinewidth": 0,
             "ticks": ""
            },
            "colorscale": [
             [
              0,
              "#0d0887"
             ],
             [
              0.1111111111111111,
              "#46039f"
             ],
             [
              0.2222222222222222,
              "#7201a8"
             ],
             [
              0.3333333333333333,
              "#9c179e"
             ],
             [
              0.4444444444444444,
              "#bd3786"
             ],
             [
              0.5555555555555556,
              "#d8576b"
             ],
             [
              0.6666666666666666,
              "#ed7953"
             ],
             [
              0.7777777777777778,
              "#fb9f3a"
             ],
             [
              0.8888888888888888,
              "#fdca26"
             ],
             [
              1,
              "#f0f921"
             ]
            ],
            "type": "heatmap"
           }
          ],
          "heatmapgl": [
           {
            "colorbar": {
             "outlinewidth": 0,
             "ticks": ""
            },
            "colorscale": [
             [
              0,
              "#0d0887"
             ],
             [
              0.1111111111111111,
              "#46039f"
             ],
             [
              0.2222222222222222,
              "#7201a8"
             ],
             [
              0.3333333333333333,
              "#9c179e"
             ],
             [
              0.4444444444444444,
              "#bd3786"
             ],
             [
              0.5555555555555556,
              "#d8576b"
             ],
             [
              0.6666666666666666,
              "#ed7953"
             ],
             [
              0.7777777777777778,
              "#fb9f3a"
             ],
             [
              0.8888888888888888,
              "#fdca26"
             ],
             [
              1,
              "#f0f921"
             ]
            ],
            "type": "heatmapgl"
           }
          ],
          "histogram": [
           {
            "marker": {
             "pattern": {
              "fillmode": "overlay",
              "size": 10,
              "solidity": 0.2
             }
            },
            "type": "histogram"
           }
          ],
          "histogram2d": [
           {
            "colorbar": {
             "outlinewidth": 0,
             "ticks": ""
            },
            "colorscale": [
             [
              0,
              "#0d0887"
             ],
             [
              0.1111111111111111,
              "#46039f"
             ],
             [
              0.2222222222222222,
              "#7201a8"
             ],
             [
              0.3333333333333333,
              "#9c179e"
             ],
             [
              0.4444444444444444,
              "#bd3786"
             ],
             [
              0.5555555555555556,
              "#d8576b"
             ],
             [
              0.6666666666666666,
              "#ed7953"
             ],
             [
              0.7777777777777778,
              "#fb9f3a"
             ],
             [
              0.8888888888888888,
              "#fdca26"
             ],
             [
              1,
              "#f0f921"
             ]
            ],
            "type": "histogram2d"
           }
          ],
          "histogram2dcontour": [
           {
            "colorbar": {
             "outlinewidth": 0,
             "ticks": ""
            },
            "colorscale": [
             [
              0,
              "#0d0887"
             ],
             [
              0.1111111111111111,
              "#46039f"
             ],
             [
              0.2222222222222222,
              "#7201a8"
             ],
             [
              0.3333333333333333,
              "#9c179e"
             ],
             [
              0.4444444444444444,
              "#bd3786"
             ],
             [
              0.5555555555555556,
              "#d8576b"
             ],
             [
              0.6666666666666666,
              "#ed7953"
             ],
             [
              0.7777777777777778,
              "#fb9f3a"
             ],
             [
              0.8888888888888888,
              "#fdca26"
             ],
             [
              1,
              "#f0f921"
             ]
            ],
            "type": "histogram2dcontour"
           }
          ],
          "mesh3d": [
           {
            "colorbar": {
             "outlinewidth": 0,
             "ticks": ""
            },
            "type": "mesh3d"
           }
          ],
          "parcoords": [
           {
            "line": {
             "colorbar": {
              "outlinewidth": 0,
              "ticks": ""
             }
            },
            "type": "parcoords"
           }
          ],
          "pie": [
           {
            "automargin": true,
            "type": "pie"
           }
          ],
          "scatter": [
           {
            "fillpattern": {
             "fillmode": "overlay",
             "size": 10,
             "solidity": 0.2
            },
            "type": "scatter"
           }
          ],
          "scatter3d": [
           {
            "line": {
             "colorbar": {
              "outlinewidth": 0,
              "ticks": ""
             }
            },
            "marker": {
             "colorbar": {
              "outlinewidth": 0,
              "ticks": ""
             }
            },
            "type": "scatter3d"
           }
          ],
          "scattercarpet": [
           {
            "marker": {
             "colorbar": {
              "outlinewidth": 0,
              "ticks": ""
             }
            },
            "type": "scattercarpet"
           }
          ],
          "scattergeo": [
           {
            "marker": {
             "colorbar": {
              "outlinewidth": 0,
              "ticks": ""
             }
            },
            "type": "scattergeo"
           }
          ],
          "scattergl": [
           {
            "marker": {
             "colorbar": {
              "outlinewidth": 0,
              "ticks": ""
             }
            },
            "type": "scattergl"
           }
          ],
          "scattermapbox": [
           {
            "marker": {
             "colorbar": {
              "outlinewidth": 0,
              "ticks": ""
             }
            },
            "type": "scattermapbox"
           }
          ],
          "scatterpolar": [
           {
            "marker": {
             "colorbar": {
              "outlinewidth": 0,
              "ticks": ""
             }
            },
            "type": "scatterpolar"
           }
          ],
          "scatterpolargl": [
           {
            "marker": {
             "colorbar": {
              "outlinewidth": 0,
              "ticks": ""
             }
            },
            "type": "scatterpolargl"
           }
          ],
          "scatterternary": [
           {
            "marker": {
             "colorbar": {
              "outlinewidth": 0,
              "ticks": ""
             }
            },
            "type": "scatterternary"
           }
          ],
          "surface": [
           {
            "colorbar": {
             "outlinewidth": 0,
             "ticks": ""
            },
            "colorscale": [
             [
              0,
              "#0d0887"
             ],
             [
              0.1111111111111111,
              "#46039f"
             ],
             [
              0.2222222222222222,
              "#7201a8"
             ],
             [
              0.3333333333333333,
              "#9c179e"
             ],
             [
              0.4444444444444444,
              "#bd3786"
             ],
             [
              0.5555555555555556,
              "#d8576b"
             ],
             [
              0.6666666666666666,
              "#ed7953"
             ],
             [
              0.7777777777777778,
              "#fb9f3a"
             ],
             [
              0.8888888888888888,
              "#fdca26"
             ],
             [
              1,
              "#f0f921"
             ]
            ],
            "type": "surface"
           }
          ],
          "table": [
           {
            "cells": {
             "fill": {
              "color": "#EBF0F8"
             },
             "line": {
              "color": "white"
             }
            },
            "header": {
             "fill": {
              "color": "#C8D4E3"
             },
             "line": {
              "color": "white"
             }
            },
            "type": "table"
           }
          ]
         },
         "layout": {
          "annotationdefaults": {
           "arrowcolor": "#2a3f5f",
           "arrowhead": 0,
           "arrowwidth": 1
          },
          "autotypenumbers": "strict",
          "coloraxis": {
           "colorbar": {
            "outlinewidth": 0,
            "ticks": ""
           }
          },
          "colorscale": {
           "diverging": [
            [
             0,
             "#8e0152"
            ],
            [
             0.1,
             "#c51b7d"
            ],
            [
             0.2,
             "#de77ae"
            ],
            [
             0.3,
             "#f1b6da"
            ],
            [
             0.4,
             "#fde0ef"
            ],
            [
             0.5,
             "#f7f7f7"
            ],
            [
             0.6,
             "#e6f5d0"
            ],
            [
             0.7,
             "#b8e186"
            ],
            [
             0.8,
             "#7fbc41"
            ],
            [
             0.9,
             "#4d9221"
            ],
            [
             1,
             "#276419"
            ]
           ],
           "sequential": [
            [
             0,
             "#0d0887"
            ],
            [
             0.1111111111111111,
             "#46039f"
            ],
            [
             0.2222222222222222,
             "#7201a8"
            ],
            [
             0.3333333333333333,
             "#9c179e"
            ],
            [
             0.4444444444444444,
             "#bd3786"
            ],
            [
             0.5555555555555556,
             "#d8576b"
            ],
            [
             0.6666666666666666,
             "#ed7953"
            ],
            [
             0.7777777777777778,
             "#fb9f3a"
            ],
            [
             0.8888888888888888,
             "#fdca26"
            ],
            [
             1,
             "#f0f921"
            ]
           ],
           "sequentialminus": [
            [
             0,
             "#0d0887"
            ],
            [
             0.1111111111111111,
             "#46039f"
            ],
            [
             0.2222222222222222,
             "#7201a8"
            ],
            [
             0.3333333333333333,
             "#9c179e"
            ],
            [
             0.4444444444444444,
             "#bd3786"
            ],
            [
             0.5555555555555556,
             "#d8576b"
            ],
            [
             0.6666666666666666,
             "#ed7953"
            ],
            [
             0.7777777777777778,
             "#fb9f3a"
            ],
            [
             0.8888888888888888,
             "#fdca26"
            ],
            [
             1,
             "#f0f921"
            ]
           ]
          },
          "colorway": [
           "#636efa",
           "#EF553B",
           "#00cc96",
           "#ab63fa",
           "#FFA15A",
           "#19d3f3",
           "#FF6692",
           "#B6E880",
           "#FF97FF",
           "#FECB52"
          ],
          "font": {
           "color": "#2a3f5f"
          },
          "geo": {
           "bgcolor": "white",
           "lakecolor": "white",
           "landcolor": "#E5ECF6",
           "showlakes": true,
           "showland": true,
           "subunitcolor": "white"
          },
          "hoverlabel": {
           "align": "left"
          },
          "hovermode": "closest",
          "mapbox": {
           "style": "light"
          },
          "paper_bgcolor": "white",
          "plot_bgcolor": "#E5ECF6",
          "polar": {
           "angularaxis": {
            "gridcolor": "white",
            "linecolor": "white",
            "ticks": ""
           },
           "bgcolor": "#E5ECF6",
           "radialaxis": {
            "gridcolor": "white",
            "linecolor": "white",
            "ticks": ""
           }
          },
          "scene": {
           "xaxis": {
            "backgroundcolor": "#E5ECF6",
            "gridcolor": "white",
            "gridwidth": 2,
            "linecolor": "white",
            "showbackground": true,
            "ticks": "",
            "zerolinecolor": "white"
           },
           "yaxis": {
            "backgroundcolor": "#E5ECF6",
            "gridcolor": "white",
            "gridwidth": 2,
            "linecolor": "white",
            "showbackground": true,
            "ticks": "",
            "zerolinecolor": "white"
           },
           "zaxis": {
            "backgroundcolor": "#E5ECF6",
            "gridcolor": "white",
            "gridwidth": 2,
            "linecolor": "white",
            "showbackground": true,
            "ticks": "",
            "zerolinecolor": "white"
           }
          },
          "shapedefaults": {
           "line": {
            "color": "#2a3f5f"
           }
          },
          "ternary": {
           "aaxis": {
            "gridcolor": "white",
            "linecolor": "white",
            "ticks": ""
           },
           "baxis": {
            "gridcolor": "white",
            "linecolor": "white",
            "ticks": ""
           },
           "bgcolor": "#E5ECF6",
           "caxis": {
            "gridcolor": "white",
            "linecolor": "white",
            "ticks": ""
           }
          },
          "title": {
           "x": 0.05
          },
          "xaxis": {
           "automargin": true,
           "gridcolor": "white",
           "linecolor": "white",
           "ticks": "",
           "title": {
            "standoff": 15
           },
           "zerolinecolor": "white",
           "zerolinewidth": 2
          },
          "yaxis": {
           "automargin": true,
           "gridcolor": "white",
           "linecolor": "white",
           "ticks": "",
           "title": {
            "standoff": 15
           },
           "zerolinecolor": "white",
           "zerolinewidth": 2
          }
         }
        },
        "title": {
         "text": "Distribution of 'label'"
        },
        "xaxis": {
         "anchor": "y",
         "autorange": true,
         "domain": [
          0,
          1
         ],
         "range": [
          0,
          13980
         ],
         "title": {
          "text": "Count"
         },
         "type": "linear"
        },
        "yaxis": {
         "anchor": "x",
         "autorange": true,
         "domain": [
          0,
          1
         ],
         "range": [
          -0.5,
          178.5
         ],
         "title": {
          "text": ""
         },
         "type": "category"
        }
       }
      },
      "image/png": "[encoded data removed]",
      "text/html": [
       "<div>                            <div id=\"f97770a1-6d7a-4b70-b8bc-0363722cbcbf\" class=\"plotly-graph-div\" style=\"height:525px; width:100%;\"></div>            <script type=\"text/javascript\">                require([\"plotly\"], function(Plotly) {                    window.PLOTLYENV=window.PLOTLYENV || {};                                    if (document.getElementById(\"f97770a1-6d7a-4b70-b8bc-0363722cbcbf\")) {                    Plotly.newPlot(                        \"f97770a1-6d7a-4b70-b8bc-0363722cbcbf\",                        [{\"alignmentgroup\":\"True\",\"hovertemplate\":\"x=%{x}\\u003cbr\\u003ey=%{y}\\u003cextra\\u003e\\u003c\\u002fextra\\u003e\",\"legendgroup\":\"\",\"marker\":{\"color\":\"#636efa\",\"pattern\":{\"shape\":\"\"}},\"name\":\"\",\"offsetgroup\":\"\",\"orientation\":\"h\",\"showlegend\":false,\"textposition\":\"auto\",\"x\":[1,2,5,6,8,9,10,10,14,18,18,19,24,24,26,27,27,28,29,29,31,34,34,38,38,44,47,48,49,49,52,53,56,59,67,69,71,73,75,75,76,81,82,83,86,89,90,91,91,96,96,101,102,102,103,106,107,107,120,122,124,125,127,133,143,154,154,157,160,164,166,167,174,179,183,183,185,193,201,202,215,220,227,228,231,239,240,254,262,264,269,272,273,276,277,282,285,299,317,319,323,330,340,345,347,349,369,380,384,411,424,429,431,445,447,450,452,457,466,479,482,534,562,597,608,614,652,660,675,680,681,701,713,736,746,780,785,803,815,832,837,852,861,870,911,921,958,965,974,996,1126,1184,1312,1437,1495,1679,1680,1736,1750,1822,1833,1835,1886,2058,2111,2230,2231,2311,2335,2357,2400,2713,3340,3539,3751,4117,4259,6506,13281],\"xaxis\":\"x\",\"y\":[\"asiope1\",\"niwpig1\",\"bncwoo3\",\"brfowl1\",\"indtit1\",\"wbbfly1\",\"wynlau1\",\"blaeag1\",\"junmyn1\",\"kerlau2\",\"nilfly2\",\"rutfly6\",\"isbduc1\",\"brwjac1\",\"brasta1\",\"paisto1\",\"pomgrp2\",\"malwoo1\",\"smamin1\",\"plaflo1\",\"scamin3\",\"comfla1\",\"bkrfla1\",\"rufwoo2\",\"chbeat1\",\"dafbab1\",\"spepic1\",\"redspu1\",\"crfbar1\",\"maltro1\",\"eurbla2\",\"bwfshr1\",\"sqtbul1\",\"vefnut1\",\"forwag1\",\"vehpar1\",\"sbeowl1\",\"whbtre1\",\"moipig1\",\"purswa3\",\"heswoo1\",\"lobsun2\",\"indrol2\",\"spoowl1\",\"cregos1\",\"whrmun\",\"sttwoo1\",\"aspfly1\",\"brakit1\",\"brwowl1\",\"gloibi\",\"aspswi1\",\"lesyel1\",\"malpar1\",\"bkcbul1\",\"jerbus2\",\"tilwar1\",\"orihob2\",\"goflea1\",\"ingori1\",\"crbsun2\",\"rufbab3\",\"whbbul2\",\"compea\",\"yebbab1\",\"barfly1\",\"brodro1\",\"grynig2\",\"whbsho3\",\"plhpar1\",\"whbwag1\",\"marsan\",\"grbeat1\",\"indrob1\",\"gryfra\",\"pursun3\",\"piebus1\",\"pabflo1\",\"lewduc1\",\"yebbul3\",\"insowl1\",\"maghor2\",\"ashwoo2\",\"ashdro1\",\"oripip1\",\"whcbar1\",\"grenig1\",\"asbfly\",\"mawthr1\",\"grejun2\",\"grehor1\",\"bladro1\",\"junowl1\",\"placuc3\",\"btbeat1\",\"purher1\",\"inbrob1\",\"grefla1\",\"comior1\",\"piekin1\",\"indpit1\",\"shikra1\",\"revbul\",\"tibfly3\",\"crseag1\",\"emedov2\",\"kenplo1\",\"grecou1\",\"grtdro1\",\"brcful1\",\"sohmyn1\",\"insbab1\",\"pursun4\",\"houcro1\",\"greegr\",\"gargan\",\"ashpri1\",\"plapri1\",\"blhori1\",\"lblwar1\",\"nutman\",\"brnshr\",\"copbar1\",\"whbwoo2\",\"gybpri1\",\"ruftre2\",\"rossta2\",\"rewbul\",\"commyn\",\"blakit1\",\"blnmon1\",\"litegr\",\"junbab2\",\"litswi1\",\"laudov1\",\"labcro1\",\"litspi1\",\"thbwar1\",\"rocpig\",\"spodov\",\"comtai1\",\"cohcuc1\",\"stbkin1\",\"litgre1\",\"rewlap1\",\"grnwar1\",\"wemhar1\",\"whtkin2\",\"brnhao1\",\"rerswa1\",\"commoo3\",\"gyhcaf1\",\"asikoe2\",\"whbwat1\",\"putbab1\",\"eurcoo\",\"houspa\",\"eaywag1\",\"categr\",\"bkskit1\",\"comkin1\",\"bcnher\",\"whiter2\",\"grnsan\",\"lirplo\",\"grywag\",\"graher1\",\"woosan\",\"comsan\",\"rorpar\",\"comgre\",\"zitcis1\",\"barswa\",\"eucdov\",\"bkwsti\",\"grewar3\",\"comros\",\"hoopoe\",\"blrwar1\"],\"yaxis\":\"y\",\"type\":\"bar\"}],                        {\"template\":{\"data\":{\"histogram2dcontour\":[{\"type\":\"histogram2dcontour\",\"colorbar\":{\"outlinewidth\":0,\"ticks\":\"\"},\"colorscale\":[[0.0,\"#0d0887\"],[0.1111111111111111,\"#46039f\"],[0.2222222222222222,\"#7201a8\"],[0.3333333333333333,\"#9c179e\"],[0.4444444444444444,\"#bd3786\"],[0.5555555555555556,\"#d8576b\"],[0.6666666666666666,\"#ed7953\"],[0.7777777777777778,\"#fb9f3a\"],[0.8888888888888888,\"#fdca26\"],[1.0,\"#f0f921\"]]}],\"choropleth\":[{\"type\":\"choropleth\",\"colorbar\":{\"outlinewidth\":0,\"ticks\":\"\"}}],\"histogram2d\":[{\"type\":\"histogram2d\",\"colorbar\":{\"outlinewidth\":0,\"ticks\":\"\"},\"colorscale\":[[0.0,\"#0d0887\"],[0.1111111111111111,\"#46039f\"],[0.2222222222222222,\"#7201a8\"],[0.3333333333333333,\"#9c179e\"],[0.4444444444444444,\"#bd3786\"],[0.5555555555555556,\"#d8576b\"],[0.6666666666666666,\"#ed7953\"],[0.7777777777777778,\"#fb9f3a\"],[0.8888888888888888,\"#fdca26\"],[1.0,\"#f0f921\"]]}],\"heatmap\":[{\"type\":\"heatmap\",\"colorbar\":{\"outlinewidth\":0,\"ticks\":\"\"},\"colorscale\":[[0.0,\"#0d0887\"],[0.1111111111111111,\"#46039f\"],[0.2222222222222222,\"#7201a8\"],[0.3333333333333333,\"#9c179e\"],[0.4444444444444444,\"#bd3786\"],[0.5555555555555556,\"#d8576b\"],[0.6666666666666666,\"#ed7953\"],[0.7777777777777778,\"#fb9f3a\"],[0.8888888888888888,\"#fdca26\"],[1.0,\"#f0f921\"]]}],\"heatmapgl\":[{\"type\":\"heatmapgl\",\"colorbar\":{\"outlinewidth\":0,\"ticks\":\"\"},\"colorscale\":[[0.0,\"#0d0887\"],[0.1111111111111111,\"#46039f\"],[0.2222222222222222,\"#7201a8\"],[0.3333333333333333,\"#9c179e\"],[0.4444444444444444,\"#bd3786\"],[0.5555555555555556,\"#d8576b\"],[0.6666666666666666,\"#ed7953\"],[0.7777777777777778,\"#fb9f3a\"],[0.8888888888888888,\"#fdca26\"],[1.0,\"#f0f921\"]]}],\"contourcarpet\":[{\"type\":\"contourcarpet\",\"colorbar\":{\"outlinewidth\":0,\"ticks\":\"\"}}],\"contour\":[{\"type\":\"contour\",\"colorbar\":{\"outlinewidth\":0,\"ticks\":\"\"},\"colorscale\":[[0.0,\"#0d0887\"],[0.1111111111111111,\"#46039f\"],[0.2222222222222222,\"#7201a8\"],[0.3333333333333333,\"#9c179e\"],[0.4444444444444444,\"#bd3786\"],[0.5555555555555556,\"#d8576b\"],[0.6666666666666666,\"#ed7953\"],[0.7777777777777778,\"#fb9f3a\"],[0.8888888888888888,\"#fdca26\"],[1.0,\"#f0f921\"]]}],\"surface\":[{\"type\":\"surface\",\"colorbar\":{\"outlinewidth\":0,\"ticks\":\"\"},\"colorscale\":[[0.0,\"#0d0887\"],[0.1111111111111111,\"#46039f\"],[0.2222222222222222,\"#7201a8\"],[0.3333333333333333,\"#9c179e\"],[0.4444444444444444,\"#bd3786\"],[0.5555555555555556,\"#d8576b\"],[0.6666666666666666,\"#ed7953\"],[0.7777777777777778,\"#fb9f3a\"],[0.8888888888888888,\"#fdca26\"],[1.0,\"#f0f921\"]]}],\"mesh3d\":[{\"type\":\"mesh3d\",\"colorbar\":{\"outlinewidth\":0,\"ticks\":\"\"}}],\"scatter\":[{\"fillpattern\":{\"fillmode\":\"overlay\",\"size\":10,\"solidity\":0.2},\"type\":\"scatter\"}],\"parcoords\":[{\"type\":\"parcoords\",\"line\":{\"colorbar\":{\"outlinewidth\":0,\"ticks\":\"\"}}}],\"scatterpolargl\":[{\"type\":\"scatterpolargl\",\"marker\":{\"colorbar\":{\"outlinewidth\":0,\"ticks\":\"\"}}}],\"bar\":[{\"error_x\":{\"color\":\"#2a3f5f\"},\"error_y\":{\"color\":\"#2a3f5f\"},\"marker\":{\"line\":{\"color\":\"#E5ECF6\",\"width\":0.5},\"pattern\":{\"fillmode\":\"overlay\",\"size\":10,\"solidity\":0.2}},\"type\":\"bar\"}],\"scattergeo\":[{\"type\":\"scattergeo\",\"marker\":{\"colorbar\":{\"outlinewidth\":0,\"ticks\":\"\"}}}],\"scatterpolar\":[{\"type\":\"scatterpolar\",\"marker\":{\"colorbar\":{\"outlinewidth\":0,\"ticks\":\"\"}}}],\"histogram\":[{\"marker\":{\"pattern\":{\"fillmode\":\"overlay\",\"size\":10,\"solidity\":0.2}},\"type\":\"histogram\"}],\"scattergl\":[{\"type\":\"scattergl\",\"marker\":{\"colorbar\":{\"outlinewidth\":0,\"ticks\":\"\"}}}],\"scatter3d\":[{\"type\":\"scatter3d\",\"line\":{\"colorbar\":{\"outlinewidth\":0,\"ticks\":\"\"}},\"marker\":{\"colorbar\":{\"outlinewidth\":0,\"ticks\":\"\"}}}],\"scattermapbox\":[{\"type\":\"scattermapbox\",\"marker\":{\"colorbar\":{\"outlinewidth\":0,\"ticks\":\"\"}}}],\"scatterternary\":[{\"type\":\"scatterternary\",\"marker\":{\"colorbar\":{\"outlinewidth\":0,\"ticks\":\"\"}}}],\"scattercarpet\":[{\"type\":\"scattercarpet\",\"marker\":{\"colorbar\":{\"outlinewidth\":0,\"ticks\":\"\"}}}],\"carpet\":[{\"aaxis\":{\"endlinecolor\":\"#2a3f5f\",\"gridcolor\":\"white\",\"linecolor\":\"white\",\"minorgridcolor\":\"white\",\"startlinecolor\":\"#2a3f5f\"},\"baxis\":{\"endlinecolor\":\"#2a3f5f\",\"gridcolor\":\"white\",\"linecolor\":\"white\",\"minorgridcolor\":\"white\",\"startlinecolor\":\"#2a3f5f\"},\"type\":\"carpet\"}],\"table\":[{\"cells\":{\"fill\":{\"color\":\"#EBF0F8\"},\"line\":{\"color\":\"white\"}},\"header\":{\"fill\":{\"color\":\"#C8D4E3\"},\"line\":{\"color\":\"white\"}},\"type\":\"table\"}],\"barpolar\":[{\"marker\":{\"line\":{\"color\":\"#E5ECF6\",\"width\":0.5},\"pattern\":{\"fillmode\":\"overlay\",\"size\":10,\"solidity\":0.2}},\"type\":\"barpolar\"}],\"pie\":[{\"automargin\":true,\"type\":\"pie\"}]},\"layout\":{\"autotypenumbers\":\"strict\",\"colorway\":[\"#636efa\",\"#EF553B\",\"#00cc96\",\"#ab63fa\",\"#FFA15A\",\"#19d3f3\",\"#FF6692\",\"#B6E880\",\"#FF97FF\",\"#FECB52\"],\"font\":{\"color\":\"#2a3f5f\"},\"hovermode\":\"closest\",\"hoverlabel\":{\"align\":\"left\"},\"paper_bgcolor\":\"white\",\"plot_bgcolor\":\"#E5ECF6\",\"polar\":{\"bgcolor\":\"#E5ECF6\",\"angularaxis\":{\"gridcolor\":\"white\",\"linecolor\":\"white\",\"ticks\":\"\"},\"radialaxis\":{\"gridcolor\":\"white\",\"linecolor\":\"white\",\"ticks\":\"\"}},\"ternary\":{\"bgcolor\":\"#E5ECF6\",\"aaxis\":{\"gridcolor\":\"white\",\"linecolor\":\"white\",\"ticks\":\"\"},\"baxis\":{\"gridcolor\":\"white\",\"linecolor\":\"white\",\"ticks\":\"\"},\"caxis\":{\"gridcolor\":\"white\",\"linecolor\":\"white\",\"ticks\":\"\"}},\"coloraxis\":{\"colorbar\":{\"outlinewidth\":0,\"ticks\":\"\"}},\"colorscale\":{\"sequential\":[[0.0,\"#0d0887\"],[0.1111111111111111,\"#46039f\"],[0.2222222222222222,\"#7201a8\"],[0.3333333333333333,\"#9c179e\"],[0.4444444444444444,\"#bd3786\"],[0.5555555555555556,\"#d8576b\"],[0.6666666666666666,\"#ed7953\"],[0.7777777777777778,\"#fb9f3a\"],[0.8888888888888888,\"#fdca26\"],[1.0,\"#f0f921\"]],\"sequentialminus\":[[0.0,\"#0d0887\"],[0.1111111111111111,\"#46039f\"],[0.2222222222222222,\"#7201a8\"],[0.3333333333333333,\"#9c179e\"],[0.4444444444444444,\"#bd3786\"],[0.5555555555555556,\"#d8576b\"],[0.6666666666666666,\"#ed7953\"],[0.7777777777777778,\"#fb9f3a\"],[0.8888888888888888,\"#fdca26\"],[1.0,\"#f0f921\"]],\"diverging\":[[0,\"#8e0152\"],[0.1,\"#c51b7d\"],[0.2,\"#de77ae\"],[0.3,\"#f1b6da\"],[0.4,\"#fde0ef\"],[0.5,\"#f7f7f7\"],[0.6,\"#e6f5d0\"],[0.7,\"#b8e186\"],[0.8,\"#7fbc41\"],[0.9,\"#4d9221\"],[1,\"#276419\"]]},\"xaxis\":{\"gridcolor\":\"white\",\"linecolor\":\"white\",\"ticks\":\"\",\"title\":{\"standoff\":15},\"zerolinecolor\":\"white\",\"automargin\":true,\"zerolinewidth\":2},\"yaxis\":{\"gridcolor\":\"white\",\"linecolor\":\"white\",\"ticks\":\"\",\"title\":{\"standoff\":15},\"zerolinecolor\":\"white\",\"automargin\":true,\"zerolinewidth\":2},\"scene\":{\"xaxis\":{\"backgroundcolor\":\"#E5ECF6\",\"gridcolor\":\"white\",\"linecolor\":\"white\",\"showbackground\":true,\"ticks\":\"\",\"zerolinecolor\":\"white\",\"gridwidth\":2},\"yaxis\":{\"backgroundcolor\":\"#E5ECF6\",\"gridcolor\":\"white\",\"linecolor\":\"white\",\"showbackground\":true,\"ticks\":\"\",\"zerolinecolor\":\"white\",\"gridwidth\":2},\"zaxis\":{\"backgroundcolor\":\"#E5ECF6\",\"gridcolor\":\"white\",\"linecolor\":\"white\",\"showbackground\":true,\"ticks\":\"\",\"zerolinecolor\":\"white\",\"gridwidth\":2}},\"shapedefaults\":{\"line\":{\"color\":\"#2a3f5f\"}},\"annotationdefaults\":{\"arrowcolor\":\"#2a3f5f\",\"arrowhead\":0,\"arrowwidth\":1},\"geo\":{\"bgcolor\":\"white\",\"landcolor\":\"#E5ECF6\",\"subunitcolor\":\"white\",\"showland\":true,\"showlakes\":true,\"lakecolor\":\"white\"},\"title\":{\"x\":0.05},\"mapbox\":{\"style\":\"light\"}}},\"xaxis\":{\"anchor\":\"y\",\"domain\":[0.0,1.0],\"title\":{\"text\":\"Count\"}},\"yaxis\":{\"anchor\":\"x\",\"domain\":[0.0,1.0],\"title\":{\"text\":\"\"}},\"legend\":{\"tracegroupgap\":0},\"margin\":{\"t\":60},\"barmode\":\"group\",\"font\":{\"size\":16,\"color\":\"#E1B12D\"},\"title\":{\"text\":\"Distribution of 'label'\"},\"showlegend\":false,\"plot_bgcolor\":\"#1C1D20\",\"paper_bgcolor\":\"#1C1D20\"},                        {\"responsive\": true}                    ).then(function(){\n",
       "                            \n",
       "var gd = document.getElementById('f97770a1-6d7a-4b70-b8bc-0363722cbcbf');\n",
       "var x = new MutationObserver(function (mutations, observer) {{\n",
       "        var display = window.getComputedStyle(gd).display;\n",
       "        if (!display || display === 'none') {{\n",
       "            console.log([gd, 'removed!']);\n",
       "            Plotly.purge(gd);\n",
       "            observer.disconnect();\n",
       "        }}\n",
       "}});\n",
       "\n",
       "// Listen for the removal of the full notebook cells\n",
       "var notebookContainer = gd.closest('#notebook-container');\n",
       "if (notebookContainer) {{\n",
       "    x.observe(notebookContainer, {childList: true});\n",
       "}}\n",
       "\n",
       "// Listen for the clearing of the current output cell\n",
       "var outputEl = gd.closest('.output');\n",
       "if (outputEl) {{\n",
       "    x.observe(outputEl, {childList: true});\n",
       "}}\n",
       "\n",
       "                        })                };                });            </script>        </div>"
      ]
     },
     "metadata": {},
     "output_type": "display_data"
    },
    {
     "name": "stdout",
     "output_type": "stream",
     "text": [
      "\n",
      "Total unique values in 'label'are: 179\n",
      "\n",
      "Top 5 values: label\n",
      "blrwar1    13281\n",
      "hoopoe      6506\n",
      "comros      4259\n",
      "grewar3     4117\n",
      "bkwsti      3751\n",
      "Name: count, dtype: int64\n",
      "\n",
      "Bottom 5 values: label\n",
      "indtit1    8\n",
      "brfowl1    6\n",
      "bncwoo3    5\n",
      "niwpig1    2\n",
      "asiope1    1\n",
      "Name: count, dtype: int64\n"
     ]
    }
   ],
   "source": [
    "cat_feature_dist(bird_preds_df, 'label')"
   ]
  },
  {
   "cell_type": "code",
   "execution_count": 127,
   "id": "2bed19bd-5411-465a-85a0-f4bbb4fd2db6",
   "metadata": {},
   "outputs": [
    {
     "data": {
      "application/vnd.plotly.v1+json": {
       "config": {
        "plotlyServerURL": "https://plot.ly"
       },
       "data": [
        {
         "alignmentgroup": "True",
         "hovertemplate": "x=%{x}<br>y=%{y}<extra></extra>",
         "legendgroup": "",
         "marker": {
          "color": "#636efa",
          "pattern": {
           "shape": ""
          }
         },
         "name": "",
         "offsetgroup": "",
         "orientation": "h",
         "showlegend": false,
         "textposition": "auto",
         "type": "bar",
         "x": [
          1,
          1,
          1,
          1,
          1,
          1,
          1,
          1,
          1,
          1,
          1,
          1,
          1,
          1,
          1,
          1,
          1,
          1,
          1,
          1,
          1,
          1,
          1,
          1,
          1,
          1,
          1,
          1,
          1,
          1,
          1,
          1,
          1,
          1,
          1,
          1,
          1,
          1,
          1,
          1,
          1,
          1,
          1,
          1,
          1,
          1,
          1,
          1,
          1,
          1,
          1,
          1,
          1,
          1,
          1,
          1,
          1,
          1,
          1,
          1,
          1,
          1,
          1,
          1,
          1,
          1,
          1,
          1,
          1,
          1,
          1,
          1,
          1,
          1,
          1,
          1,
          1,
          1,
          1,
          1,
          1,
          1,
          1,
          1,
          1,
          1,
          1,
          1,
          1,
          1,
          1,
          1,
          1,
          1,
          1,
          1,
          1,
          1,
          1,
          1,
          1,
          1,
          1,
          1,
          1,
          1,
          1,
          1,
          1,
          1,
          1,
          1,
          1,
          1,
          1,
          1,
          1,
          1,
          1,
          1,
          1,
          1,
          1,
          1,
          1,
          1,
          1,
          1,
          1,
          1,
          1,
          1,
          1,
          1,
          1,
          1,
          1,
          1,
          1,
          1,
          1,
          1,
          1,
          1,
          1,
          1,
          1,
          1,
          1,
          1,
          1,
          1,
          1,
          1,
          1,
          1,
          1,
          1,
          1,
          1,
          1,
          1,
          1,
          1,
          1,
          1,
          1,
          1,
          1,
          1,
          1,
          1,
          1,
          1,
          1,
          1,
          1,
          1,
          1,
          1,
          1,
          1,
          1,
          1,
          1,
          1,
          1,
          1,
          1,
          1,
          1,
          1,
          1,
          1,
          1,
          1,
          1,
          1,
          1,
          1,
          1,
          1,
          1,
          1,
          1,
          1,
          1,
          1,
          1,
          1,
          1,
          1,
          1,
          1,
          1,
          1,
          1,
          1,
          1,
          1,
          1,
          1,
          1,
          1,
          1,
          1,
          1,
          1,
          1,
          1,
          1,
          1,
          1,
          1,
          1,
          1,
          1,
          1,
          1,
          1,
          1,
          1,
          1,
          1,
          1,
          1,
          1,
          1,
          1,
          1,
          1,
          1,
          1,
          1,
          1,
          1,
          1,
          1,
          1,
          1,
          1,
          1,
          1,
          1,
          1,
          1,
          1,
          1,
          1,
          1,
          1,
          1,
          1,
          1,
          1,
          1,
          1,
          1,
          1,
          1,
          1,
          1,
          1,
          1,
          1,
          1,
          1,
          1,
          1,
          1,
          1,
          1,
          1,
          1,
          1,
          1,
          1,
          1,
          1,
          1,
          1,
          1,
          1,
          1,
          1,
          1,
          1,
          1,
          1,
          1,
          1,
          1,
          1,
          1,
          1,
          1,
          1,
          1,
          1,
          1,
          1,
          1,
          1,
          1,
          1,
          1,
          1,
          1,
          1,
          1,
          1,
          1,
          1,
          1,
          1,
          1,
          1,
          1,
          1,
          1,
          1,
          1,
          1,
          1,
          1,
          1,
          1,
          1,
          1,
          1,
          1,
          1,
          1,
          1,
          1,
          1,
          1,
          1,
          1,
          1,
          1,
          1,
          1,
          1,
          1,
          1,
          1,
          1,
          1,
          1,
          1,
          1,
          1,
          1,
          1,
          1,
          1,
          1,
          1,
          1,
          1,
          1,
          1,
          1,
          1,
          1,
          1,
          1,
          1,
          1,
          1,
          1,
          1,
          1,
          1,
          1,
          1,
          1,
          1,
          1,
          1,
          1,
          1,
          1,
          1,
          1,
          1,
          1,
          1,
          1,
          1,
          1,
          1,
          1,
          1,
          1,
          1,
          1,
          2,
          2,
          2,
          2,
          2,
          2,
          2,
          2,
          2,
          2,
          2,
          2,
          2,
          2,
          2,
          2,
          2,
          2,
          2,
          2,
          2,
          2,
          2,
          2,
          2,
          2,
          2,
          2,
          2,
          2,
          2,
          2,
          2,
          2,
          2,
          2,
          2,
          2,
          2,
          2,
          2,
          2,
          2,
          2,
          2,
          2,
          2,
          2,
          2,
          2,
          2,
          2,
          2,
          2,
          2,
          2,
          2,
          2,
          2,
          2,
          2,
          2,
          2,
          2,
          2,
          2,
          2,
          2,
          2,
          2,
          2,
          2,
          2,
          2,
          2,
          2,
          2,
          2,
          2,
          2,
          2,
          2,
          2,
          2,
          2,
          2,
          2,
          2,
          2,
          2,
          2,
          2,
          2,
          2,
          2,
          2,
          2,
          2,
          2,
          2,
          2,
          2,
          2,
          2,
          2,
          2,
          2,
          2,
          2,
          2,
          2,
          2,
          2,
          2,
          2,
          2,
          2,
          2,
          2,
          2,
          2,
          2,
          2,
          2,
          2,
          2,
          2,
          2,
          2,
          2,
          2,
          2,
          2,
          2,
          2,
          2,
          2,
          2,
          2,
          2,
          2,
          2,
          2,
          2,
          2,
          2,
          2,
          2,
          3,
          3,
          3,
          3,
          3,
          3,
          3,
          3,
          3,
          3,
          3,
          3,
          3,
          3,
          3,
          3,
          3,
          3,
          3,
          3,
          3,
          3,
          3,
          3,
          3,
          3,
          3,
          3,
          3,
          3,
          3,
          3,
          3,
          3,
          3,
          3,
          3,
          3,
          3,
          3,
          3,
          3,
          3,
          3,
          3,
          3,
          3,
          3,
          3,
          3,
          3,
          3,
          3,
          3,
          3,
          3,
          3,
          3,
          3,
          3,
          3,
          3,
          3,
          3,
          3,
          3,
          3,
          3,
          3,
          3,
          4,
          4,
          4,
          4,
          4,
          4,
          4,
          4,
          4,
          4,
          4,
          4,
          4,
          4,
          4,
          4,
          4,
          4,
          4,
          4,
          4,
          4,
          4,
          4,
          4,
          4,
          4,
          4,
          4,
          4,
          4,
          4,
          4,
          4,
          4,
          4,
          4,
          4,
          4,
          4,
          4,
          4,
          4,
          4,
          4,
          4,
          4,
          4,
          4,
          4,
          4,
          4,
          4,
          4,
          4,
          4,
          4,
          4,
          4,
          4,
          4,
          4,
          4,
          5,
          5,
          5,
          5,
          5,
          5,
          5,
          5,
          5,
          5,
          5,
          5,
          5,
          5,
          5,
          5,
          5,
          5,
          5,
          5,
          5,
          5,
          5,
          5,
          5,
          5,
          5,
          5,
          5,
          5,
          5,
          5,
          5,
          5,
          5,
          5,
          5,
          5,
          5,
          5,
          5,
          5,
          6,
          6,
          6,
          6,
          6,
          6,
          6,
          6,
          6,
          6,
          6,
          6,
          6,
          6,
          6,
          6,
          6,
          6,
          6,
          6,
          6,
          6,
          6,
          6,
          6,
          6,
          6,
          6,
          7,
          7,
          7,
          7,
          7,
          7,
          7,
          7,
          7,
          7,
          7,
          7,
          7,
          7,
          7,
          7,
          7,
          8,
          8,
          8,
          8,
          8,
          8,
          8,
          8,
          8,
          8,
          8,
          9,
          9,
          9,
          9,
          9,
          9,
          9,
          9,
          9,
          9,
          9,
          9,
          9,
          9,
          9,
          9,
          9,
          9,
          9,
          9,
          10,
          10,
          10,
          10,
          10,
          10,
          10,
          10,
          10,
          10,
          10,
          10,
          10,
          10,
          10,
          10,
          10,
          10,
          11,
          11,
          11,
          11,
          11,
          11,
          11,
          11,
          11,
          11,
          11,
          11,
          11,
          11,
          12,
          12,
          12,
          12,
          12,
          12,
          12,
          13,
          13,
          13,
          13,
          13,
          13,
          13,
          13,
          14,
          14,
          14,
          14,
          14,
          14,
          14,
          14,
          14,
          14,
          14,
          15,
          15,
          15,
          15,
          15,
          15,
          15,
          16,
          16,
          16,
          16,
          16,
          16,
          16,
          16,
          16,
          16,
          17,
          17,
          17,
          18,
          18,
          18,
          19,
          19,
          19,
          19,
          19,
          19,
          19,
          19,
          20,
          20,
          20,
          20,
          20,
          20,
          21,
          21,
          21,
          22,
          22,
          22,
          22,
          22,
          23,
          23,
          23,
          23,
          23,
          24,
          24,
          24,
          24,
          24,
          24,
          25,
          25,
          25,
          25,
          25,
          25,
          25,
          26,
          26,
          26,
          26,
          27,
          27,
          27,
          27,
          28,
          28,
          28,
          28,
          28,
          29,
          29,
          29,
          29,
          30,
          30,
          31,
          31,
          32,
          32,
          32,
          32,
          33,
          33,
          33,
          34,
          34,
          34,
          35,
          37,
          37,
          37,
          37,
          38,
          39,
          39,
          39,
          39,
          39,
          39,
          40,
          40,
          41,
          42,
          42,
          43,
          44,
          44,
          45,
          46,
          47,
          47,
          47,
          47,
          48,
          48,
          48,
          49,
          50,
          50,
          50,
          50,
          51,
          51,
          51,
          51,
          52,
          54,
          54,
          54,
          55,
          56,
          56,
          57,
          58,
          58,
          58,
          58,
          61,
          62,
          63,
          63,
          63,
          64,
          65,
          66,
          69,
          70,
          70,
          73,
          74,
          75,
          76,
          78,
          78,
          79,
          80,
          81,
          82,
          87,
          87,
          88,
          88,
          90,
          91,
          93,
          93,
          97,
          98,
          98,
          99,
          99,
          102,
          102,
          104,
          109,
          118,
          122,
          134,
          138,
          142,
          142,
          143,
          147,
          155,
          159,
          165,
          167,
          169,
          169,
          169,
          175,
          178,
          183,
          188,
          191,
          200,
          208,
          210,
          212,
          215,
          215,
          220,
          222,
          231,
          231,
          236,
          239,
          240,
          242,
          244,
          245,
          249,
          250,
          257,
          269,
          278,
          278,
          282,
          288,
          289,
          296,
          305,
          309,
          316,
          327,
          327,
          328,
          351,
          353,
          380,
          384,
          393,
          402,
          410,
          415,
          416,
          427,
          430,
          445,
          453,
          460,
          466,
          467,
          541,
          557,
          586,
          600,
          606,
          627,
          631,
          641,
          672,
          679,
          693,
          705,
          719,
          738,
          743,
          771,
          775,
          790,
          800,
          843,
          847,
          876,
          934,
          942,
          944,
          973,
          1092,
          1142,
          1153,
          1270,
          1402,
          1499,
          1510,
          1579,
          1641,
          1693,
          1748,
          1748,
          1808,
          1996,
          1998,
          2020,
          2132,
          2242,
          2255,
          2288,
          2290,
          2619,
          3275,
          3333,
          3575,
          3727,
          4148,
          6233,
          12071
         ],
         "xaxis": "x",
         "y": [
          "blnori1",
          "ausgre1",
          "subwar6",
          "padwar1",
          "dusant1",
          "sinwre1",
          "eaptyr1",
          "pacblf1",
          "ruwphi2",
          "placuc1",
          "spebul1",
          "apowre1",
          "blacra1",
          "acowoo",
          "foxspa",
          "attwoo1",
          "yebcac1",
          "asiope1",
          "resflo1",
          "mouwre1",
          "ausmag2",
          "afrpip1",
          "crheag1",
          "hazgro1",
          "hamfly",
          "dasfly",
          "blhsal1",
          "banlap1",
          "rivlap1",
          "lessts1",
          "pabfly2",
          "maslap1",
          "larnil1",
          "orgthr1",
          "cabgre1",
          "bogcuc1",
          "tabowl1",
          "chcant2",
          "grgowl",
          "cbsfin",
          "rattre2",
          "crfbar3",
          "olbsun3",
          "abhori1",
          "whrsan",
          "plupig2",
          "creowl1",
          "gobmag1",
          "bacant1",
          "rufgle1",
          "moucac1",
          "recowl1",
          "sirnee1",
          "pasfly",
          "nutfly",
          "sonthr1",
          "yebfly",
          "norwhe",
          "cogwar1",
          "blfbun1",
          "lotros1",
          "whwcro",
          "sykwar2",
          "whhwoo",
          "rtbcoc1",
          "roahaw",
          "crehon2",
          "whwbec1",
          "masyel1",
          "lobtai1",
          "plbspa1",
          "ropbus1",
          "rucmot1",
          "winwre3",
          "gamqua",
          "chvnut1",
          "pattyr2",
          "whcred1",
          "plured1",
          "ivbpit1",
          "ocetap1",
          "phihao1",
          "amerob",
          "japspa1",
          "strwoo1",
          "blrpit1",
          "laypar1",
          "sultit1",
          "siemes1",
          "livtur1",
          "busflu1",
          "wilplo",
          "comyel",
          "bawpri1",
          "plsvir",
          "subfly",
          "hilpri2",
          "orisal1",
          "brsrob1",
          "rusbir1",
          "spemon1",
          "ocbfly1",
          "blnpit1",
          "amekes",
          "sohbul1",
          "phicou1",
          "amegfi",
          "whbwhe3",
          "blfbul1",
          "yefgul",
          "grtsun1",
          "laufal1",
          "whbful1",
          "eugplo",
          "ocrant1",
          "scatan",
          "dunlin",
          "bawfly2",
          "bktgna",
          "mugfly",
          "syrwoo1",
          "whwgro1",
          "somgre1",
          "amahum1",
          "rawant1",
          "eswdov1",
          "pygsun2",
          "rutbuh1",
          "afrwar1",
          "beasun2",
          "retcar2",
          "fulant1",
          "swahar1",
          "triher",
          "afpwag1",
          "gycyel",
          "placha",
          "yebfin1",
          "piefan1",
          "marmur",
          "bostib1",
          "pingro",
          "eacwar1",
          "hoocro1",
          "blkrai",
          "afrgos1",
          "mexjay4",
          "ccfgle1",
          "suifly1",
          "whbwoo1",
          "yelgul1",
          "gbbgul",
          "norboo1",
          "atlpuf",
          "bufowl1",
          "squher1",
          "lacwoo1",
          "thelar1",
          "slbpar1",
          "afmdov1",
          "gstlar1",
          "ltgsta1",
          "mouwar1",
          "strgra1",
          "pincoc1",
          "plaflo2",
          "ausfig1",
          "spvear1",
          "blhbun1",
          "marspi2",
          "bushti",
          "strtho1",
          "lemdov2",
          "bncbab1",
          "vesspa",
          "pigdov1",
          "tabbab1",
          "mapfly2",
          "tromoc",
          "chbtou1",
          "robgro",
          "whcsee2",
          "indcha1",
          "limpki",
          "baffal1",
          "bnhnut",
          "blhbul1",
          "bcptyr1",
          "angswa1",
          "amewoo",
          "bongul",
          "latsni1",
          "norjac",
          "blbbar5",
          "citfin1",
          "phimar1",
          "spwbab1",
          "uplpip1",
          "louwat",
          "rivter1",
          "afdfly1",
          "brtcur",
          "rucfly1",
          "batpig1",
          "metsta1",
          "yebbar1",
          "guicuc1",
          "relthr1",
          "veery",
          "scbflo1",
          "grawar",
          "tribla",
          "reblei",
          "varlau1",
          "wesowl1",
          "golphe",
          "whbred1",
          "swtkit",
          "scrbla1",
          "whtspa",
          "whwsno1",
          "blflau1",
          "dumant3",
          "palcro2",
          "punsun1",
          "orbflo1",
          "falduc",
          "cotfly1",
          "snakit",
          "rennig1",
          "grpchi",
          "bkhgro",
          "uraowl1",
          "gyhspa1",
          "hrshaw",
          "bonpet",
          "bruwat1",
          "dowwoo",
          "whbwar2",
          "gowwar",
          "afmwea",
          "lobgna5",
          "blckin1",
          "easmah1",
          "moubab1",
          "rindov",
          "grpsni1",
          "chacha1",
          "rattre1",
          "astfly",
          "yebshr1",
          "chbowl1",
          "sctman1",
          "apostl1",
          "dollar1",
          "pinspi1",
          "finnig1",
          "knohor1",
          "corshe",
          "blfmal1",
          "andcou1",
          "wookin1",
          "cinfly2",
          "mewgul",
          "dusfly",
          "kebtou1",
          "ettwoo1",
          "palwar5",
          "sltred",
          "smowar1",
          "gysbuw1",
          "ybbwar1",
          "yerwar",
          "smabut2",
          "styfin1",
          "yebkin1",
          "slabri1",
          "whiauk",
          "margod",
          "blaplo1",
          "whnwoo1",
          "fitbar1",
          "rufhor2",
          "brbmot1",
          "blkpho",
          "abetow",
          "rucgre1",
          "rutsha2",
          "borbar1",
          "hoatzi1",
          "flsjay",
          "afpfly1",
          "combab3",
          "anhing",
          "brtpar1",
          "aquwar1",
          "palhar1",
          "compoc",
          "yelrai",
          "grfdov1",
          "hypoco1",
          "spobuw1",
          "morepo2",
          "wooduc",
          "esmant1",
          "perfal",
          "blksco1",
          "yeofly1",
          "grypep2",
          "flfbar1",
          "neocor",
          "purswa2",
          "drasee1",
          "yeejun",
          "elllau1",
          "reccor",
          "simspa1",
          "grwsal1",
          "gbwwre1",
          "cornut1",
          "spgsta1",
          "blcman1",
          "grsvir1",
          "bufowl2",
          "tuftit",
          "gycful5",
          "litbar1",
          "grycur1",
          "jernig1",
          "buhshr1",
          "isashr1",
          "yecspi2",
          "shshaw",
          "rettro",
          "besra1",
          "bbwduc",
          "bulpet",
          "ycnher",
          "motowl",
          "sbctyr1",
          "scthon1",
          "spbwre1",
          "wlswar",
          "whtdov",
          "easkin",
          "mouqua",
          "blcgna1",
          "lstlar2",
          "retpip",
          "rubwhi1",
          "rutant2",
          "sancra",
          "orheag1",
          "eacsun1",
          "gybtes1",
          "blttit2",
          "bubgro2",
          "moywar1",
          "blcbab1",
          "rocpar2",
          "yelfly1",
          "bawwar",
          "helgui",
          "cantow",
          "grebow1",
          "litgul",
          "commer",
          "stther2",
          "fireth1",
          "rehman1",
          "rocwre",
          "wincis3",
          "yebgro1",
          "rubowl3",
          "orhthr1",
          "grnwoo3",
          "gianut1",
          "eurnut1",
          "pitwhy",
          "chtant1",
          "gycher1",
          "turjay1",
          "blgdov1",
          "hilmyn",
          "orblea1",
          "fatwar",
          "citcaf1",
          "whbant4",
          "blypip1",
          "olwbul1",
          "ariwoo",
          "whtsco1",
          "grtcha1",
          "librol2",
          "sora",
          "chbwre1",
          "spobuw3",
          "norcar",
          "purmar",
          "brwhaw",
          "brosic1",
          "sttant1",
          "banmyn1",
          "capwhe2",
          "moccha1",
          "wilwag1",
          "salwar1",
          "bllcis1",
          "whtspa1",
          "whteag",
          "coohaw",
          "grypar",
          "fatrav1",
          "bthhue1",
          "benthr",
          "wbswea1",
          "phaino",
          "wesblu",
          "batnig1",
          "japfly1",
          "oliela1",
          "lotpar2",
          "spbant6",
          "chbchi",
          "scamyz1",
          "reedov1",
          "pacwre1",
          "picpig2",
          "larcus1",
          "blypaf1",
          "davlew1",
          "mexpar1",
          "brbrol1",
          "hadibi1",
          "eurkes",
          "gotbar2",
          "moutai2",
          "truswa",
          "gyebul1",
          "whoswa",
          "nezbel1",
          "stelio1",
          "lotmyn1",
          "diatro1",
          "ibechi2",
          "varthr",
          "harlew1",
          "blylew1",
          "malnig1",
          "bkcchi",
          "susowl1",
          "willet1",
          "cheant2",
          "soulap1",
          "rinouz1",
          "cursan",
          "killde",
          "andlap1",
          "egygoo",
          "vitpar1",
          "whtlap1",
          "himcuc1",
          "canwre",
          "whbnut",
          "sbwrai1",
          "baleag",
          "wrenti",
          "colplo1",
          "ricpip1",
          "btbeat2",
          "integr",
          "eurgri1",
          "eutkne1",
          "rengre",
          "horlar",
          "retloo",
          "towsol",
          "viocuc1",
          "wilpta",
          "chibar1",
          "chptit1",
          "blucra2",
          "redava",
          "fabtan1",
          "pibgre",
          "shtgro",
          "chwcuc1",
          "belkin1",
          "gbesta1",
          "oltpar1",
          "blhwea1",
          "pilwoo",
          "indflo1",
          "cbsbab1",
          "leabit",
          "ytbcoc1",
          "cratan1",
          "litcra1",
          "rumgua1",
          "shtbab1",
          "eurnig1",
          "rufwar1",
          "botgra",
          "gycful1",
          "dulgua1",
          "manwhi1",
          "blnter1",
          "lesgol",
          "yebcuc",
          "stebul2",
          "marori2",
          "bicthr",
          "lucwar",
          "madbul1",
          "norful",
          "rufsib1",
          "ausbus2",
          "crehon",
          "bewwre",
          "comred",
          "litbun",
          "gremag1",
          "colspa1",
          "yetvir",
          "rutfla1",
          "litbit1",
          "batwhi1",
          "indbus3",
          "moubar2",
          "patmoc1",
          "gyhtof1",
          "manbuw1",
          "orsowl",
          "lanwar",
          "rertin1",
          "yeebab1",
          "semfly1",
          "cosowl1",
          "grnjay",
          "whbcha2",
          "aspsta2",
          "tricis1",
          "nswowl",
          "calqua",
          "margra1",
          "grswoo1",
          "norfli",
          "thbvir",
          "aupowl1",
          "lanmon1",
          "blsrob1",
          "yebmag1",
          "solsan",
          "corfly",
          "gobger1",
          "gyfwoo1",
          "subwar4",
          "comeid",
          "oliwhi1",
          "houfin",
          "tawgra3",
          "blbsib1",
          "clishb1",
          "jabwar",
          "bkcvir1",
          "arcwar2",
          "twite1",
          "stopar1",
          "redjun",
          "sposan",
          "gretit2",
          "colowl1",
          "gilfli",
          "combul2",
          "fepowl",
          "indbus2",
          "whtfan1",
          "coffal1",
          "inghor2",
          "sirmal1",
          "piecuc1",
          "bubwar1",
          "trokin",
          "tobcat2",
          "carchi",
          "blacuc1",
          "grseag1",
          "welswa1",
          "grhgul",
          "vigswa",
          "cliswa",
          "grswar2",
          "oricuc2",
          "recpar",
          "whvmyn",
          "mabphi2",
          "saypho",
          "rudkin1",
          "comwea1",
          "comshe",
          "bkcwhi1",
          "brebla",
          "cacwre",
          "hooori",
          "rebwoo",
          "gybtai1",
          "orbtro2",
          "spepig1",
          "asgsta1",
          "chcbab1",
          "fotdro5",
          "baicra1",
          "reshaw",
          "besbab1",
          "bearee1",
          "ruttai1",
          "aurwar1",
          "eurwry",
          "bkcdon",
          "royter1",
          "euhbuz1",
          "strfly1",
          "bncwoo3",
          "gyhbul1",
          "wiltur",
          "callar1",
          "hergul",
          "btweye1",
          "norhar2",
          "orimag1",
          "comnig",
          "miswoo1",
          "y00839",
          "daured1",
          "gycwoo1",
          "wfwduc1",
          "whisto1",
          "bucbab1",
          "whtkit",
          "lesnig",
          "bagcot1",
          "bkbplo",
          "grbcam1",
          "lotshr1",
          "gohcis1",
          "butfly1",
          "rebnut",
          "pvttyr1",
          "spwlap1",
          "gockin",
          "comgal1",
          "soashe1",
          "greior2",
          "harqua1",
          "camwar",
          "gretit4",
          "latlar1",
          "lagbab2",
          "potpal1",
          "olbpip",
          "spadro1",
          "andsha1",
          "refmou1",
          "refblu",
          "tunswa",
          "blyshb1",
          "webwar1",
          "noimin1",
          "strspi1",
          "rudshe",
          "larhac2",
          "temsti",
          "brucuc1",
          "carwre",
          "slbgul1",
          "greyel1",
          "eastow",
          "blagro1",
          "wiltit1",
          "screup1",
          "chibla1",
          "rebpar4",
          "brnhao3",
          "rubpep1",
          "carcha1",
          "banwoo2",
          "macwar",
          "cangoo",
          "cehpar1",
          "aukpar1",
          "comgra",
          "bohwax",
          "eurtre1",
          "ortbun1",
          "smapra1",
          "paired",
          "bnhcow",
          "junpri1",
          "rucwar",
          "asidrc2",
          "souboo8",
          "pllwar1",
          "lobplo1",
          "blctit4",
          "litbus1",
          "grytre1",
          "batbel1",
          "woolar1",
          "asidrc3",
          "blheag1",
          "orphor1",
          "ferfly1",
          "brtbar1",
          "evegro",
          "pltsun2",
          "moctap1",
          "crefin1",
          "verfly4",
          "amepip",
          "meabun1",
          "stodov1",
          "woothr",
          "eurwar1",
          "coatit2",
          "tersan",
          "amecro",
          "leagre",
          "comrav",
          "lescou1",
          "baywea1",
          "oaktit",
          "flaowl",
          "rethaw",
          "piecro1",
          "asikoe3",
          "fibflo2",
          "rinphe",
          "austhr1",
          "blbsan1",
          "corbun1",
          "blabul1",
          "pygnut",
          "buthum",
          "yellow2",
          "gybshr1",
          "verdin",
          "swaspa",
          "whbwoo4",
          "indtit1",
          "comloo",
          "whhmun1",
          "watpip1",
          "wescap1",
          "brebul1",
          "gycwar1",
          "corcra",
          "bcbeat1",
          "bktgod",
          "dusful1",
          "taifly1",
          "slbtes1",
          "caskin",
          "puaioh",
          "rcsbab1",
          "orrwar1",
          "bltbar2",
          "lizbuz1",
          "mouchi2",
          "whblau1",
          "tigshr1",
          "rugdov",
          "babcuc2",
          "bargoo",
          "whwter",
          "runlar1",
          "indcuc1",
          "norsho",
          "hoopit2",
          "sarwar1",
          "chebul1",
          "wynlau1",
          "slbcro1",
          "houbun3",
          "comwax",
          "palswi3",
          "rebcho1",
          "whtpta1",
          "senpar",
          "firecr1",
          "purswa1",
          "relpar1",
          "rocpip1",
          "arcter",
          "werher",
          "grswoo",
          "bicant3",
          "blaeag1",
          "nilfly2",
          "wooshr1",
          "blcbul2",
          "hutvir",
          "orisky1",
          "recpoc",
          "wbbfly1",
          "lobdow",
          "eugwoo2",
          "magrob",
          "azwmag2",
          "nopowl",
          "indwhe1",
          "fiscro",
          "santer1",
          "clrwar1",
          "whwdov",
          "eurspa1",
          "cirbun1",
          "amedip",
          "railor5",
          "brnowl",
          "medgul1",
          "leswoo1",
          "sposta1",
          "bbrwar1",
          "eurjay1",
          "apapan",
          "litsti",
          "snoegr",
          "javtes1",
          "gubter1",
          "colfly1",
          "mosowl2",
          "goldcr1",
          "yevbul1",
          "rnwrai1",
          "ashtai1",
          "grebit1",
          "linbar1",
          "grapri1",
          "ceymyn1",
          "dantai1",
          "rocpet1",
          "parcro2",
          "colkin1",
          "blawoo1",
          "brdowl",
          "banswa",
          "ortdov",
          "maswhe3",
          "caster1",
          "carcro1",
          "gnwtea",
          "scamin1",
          "whsbul1",
          "crebar1",
          "bfbwar1",
          "corplo",
          "eursco1",
          "skylar",
          "fieldf",
          "sibrob",
          "euroys1",
          "greyel",
          "mowowl1",
          "eursta",
          "eurwig",
          "duswar",
          "kerlau2",
          "sibrub",
          "meapip1",
          "eaowar1",
          "grynig1",
          "osprey",
          "norlap",
          "spocra1",
          "martit2",
          "karpri1",
          "bubbab1",
          "bkhgul",
          "cretit2",
          "borowl",
          "lottit1",
          "isbduc1",
          "monhar1",
          "weowar1",
          "scamin3",
          "rutfly6",
          "combuz1",
          "brhbar1",
          "gadwal",
          "grewar2",
          "itaspa1",
          "junmyn1",
          "litowl1",
          "rufpri1",
          "eurrol1",
          "comcra",
          "redkit1",
          "litter1",
          "eurspo1",
          "whtdip1",
          "blueth",
          "eaywag",
          "grhowl",
          "pywbab1",
          "melwar1",
          "comter",
          "whcbul2",
          "redwin",
          "comfla1",
          "swiwhe1",
          "smamin1",
          "monpar",
          "brambl",
          "arcwar1",
          "norgos",
          "shttre1",
          "maphor1",
          "blebar1",
          "taibar2",
          "spofly1",
          "bkcsta1",
          "mallar3",
          "eurbla",
          "olbsun4",
          "brasta1",
          "trepip",
          "plaflo1",
          "pomgrp2",
          "blackc1",
          "reebun",
          "alplew1",
          "leswhi4",
          "stonec4",
          "blkter",
          "gragoo",
          "eurwoo",
          "rhihor1",
          "eupfly1",
          "alepar2",
          "hawfin",
          "paisto1",
          "eurwar2",
          "chbeat1",
          "whimbr",
          "grrwar1",
          "torcro2",
          "malwoo1",
          "grecor",
          "spored",
          "comchi1",
          "citwag",
          "savwar1",
          "sedwar1",
          "rufwoo2",
          "lesyel",
          "crelar2",
          "yebpri1",
          "bkrfla1",
          "humwar1",
          "comsni",
          "forwag1",
          "brwjac1",
          "blared1",
          "euptit1",
          "leskes1",
          "wlwwar",
          "woowar",
          "comqua1",
          "grewhi1",
          "eueowl1",
          "cowpig1",
          "eurbul",
          "spepic1",
          "comcuc",
          "azwmag3",
          "gretit1",
          "livbul1",
          "rebfly",
          "asfblu1",
          "eurrob1",
          "sttbab1",
          "watrai1",
          "latnig2",
          "eurcur",
          "gloibi",
          "dunnoc1",
          "yebwar3",
          "whinch1",
          "blutit",
          "maltro1",
          "eurnut2",
          "eurbla2",
          "zebdov",
          "eurgre1",
          "bwfshr1",
          "cetwar1",
          "redspu1",
          "eurser1",
          "",
          "moipig1",
          "dafbab1",
          "crfbar1",
          "tawowl1",
          "eurlin1",
          "comcha",
          "comred2",
          "eubeat1",
          "misthr1",
          "garwar1",
          "whbsho3",
          "ingori1",
          "sqtbul1",
          "eursis",
          "vefnut1",
          "pieavo1",
          "lobsun2",
          "bknsti",
          "comswi",
          "rook1",
          "grcgre1",
          "heswoo1",
          "brwowl1",
          "whbtre1",
          "sbeowl1",
          "winwre4",
          "eugori2",
          "purswa3",
          "indrol2",
          "thrnig1",
          "eutdov",
          "vehpar1",
          "cregos1",
          "comred1",
          "marsan",
          "eurmag1",
          "sttyuh1",
          "lesyel1",
          "spoowl1",
          "tilwar1",
          "whrmun",
          "eutspa",
          "sttwoo1",
          "brakit1",
          "grefla3",
          "aspfly1",
          "goflea1",
          "comnig1",
          "brodro1",
          "orihob2",
          "malpar1",
          "ictwar1",
          "aspswi1",
          "purher1",
          "bkcbul1",
          "marwar3",
          "rebshr1",
          "jerbus2",
          "whbbul2",
          "cohmar1",
          "compea",
          "yebbab1",
          "crbsun2",
          "whiwag",
          "rufbab3",
          "redfod1",
          "grynig2",
          "eurgol",
          "whbwag1",
          "spaspa1",
          "pursun3",
          "grbeat1",
          "plhpar1",
          "indrob1",
          "gryfra",
          "piebus1",
          "maghor2",
          "pabflo1",
          "lewduc1",
          "commyn",
          "comior1",
          "yebbul3",
          "ashwoo2",
          "insowl1",
          "oripip1",
          "barfly1",
          "asbfly",
          "grenig1",
          "bladro1",
          "ashdro1",
          "inbrob1",
          "grehor1",
          "whcbar1",
          "grtdro1",
          "grbher3",
          "eurjac",
          "mawthr1",
          "junowl1",
          "grejun2",
          "piekin1",
          "placuc3",
          "btbeat1",
          "revbul",
          "grefla1",
          "kenplo1",
          "crseag1",
          "indpit1",
          "tibfly3",
          "ausibi1",
          "shikra1",
          "emedov2",
          "grecou1",
          "plapri1",
          "brcful1",
          "greegr",
          "gargan",
          "pursun4",
          "sohmyn1",
          "brnshr",
          "insbab1",
          "ashpri1",
          "rewbul",
          "blhori1",
          "nutman",
          "lblwar1",
          "houcro1",
          "copbar1",
          "litegr",
          "whbwoo2",
          "blakit1",
          "ruftre2",
          "gybpri1",
          "rossta2",
          "blnmon1",
          "labcro1",
          "litswi1",
          "thbwar1",
          "junbab2",
          "laudov1",
          "wemhar1",
          "litgre1",
          "comtai1",
          "rocpig",
          "litspi1",
          "spodov",
          "stbkin1",
          "cohcuc1",
          "rewlap1",
          "rerswa1",
          "brnhao1",
          "grnwar1",
          "whtkin2",
          "commoo3",
          "houspa",
          "gyhcaf1",
          "asikoe2",
          "whbwat1",
          "eaywag1",
          "putbab1",
          "categr",
          "eurcoo",
          "comkin1",
          "bcnher",
          "bkskit1",
          "whiter2",
          "graher1",
          "lirplo",
          "grnsan",
          "grywag",
          "rorpar",
          "woosan",
          "comgre",
          "comsan",
          "zitcis1",
          "barswa",
          "eucdov",
          "bkwsti",
          "grewar3",
          "comros",
          "hoopoe",
          "blrwar1"
         ],
         "yaxis": "y"
        }
       ],
       "layout": {
        "autosize": true,
        "barmode": "group",
        "font": {
         "color": "#E1B12D",
         "size": 16
        },
        "legend": {
         "tracegroupgap": 0
        },
        "margin": {
         "t": 60
        },
        "paper_bgcolor": "#1C1D20",
        "plot_bgcolor": "#1C1D20",
        "showlegend": false,
        "template": {
         "data": {
          "bar": [
           {
            "error_x": {
             "color": "#2a3f5f"
            },
            "error_y": {
             "color": "#2a3f5f"
            },
            "marker": {
             "line": {
              "color": "#E5ECF6",
              "width": 0.5
             },
             "pattern": {
              "fillmode": "overlay",
              "size": 10,
              "solidity": 0.2
             }
            },
            "type": "bar"
           }
          ],
          "barpolar": [
           {
            "marker": {
             "line": {
              "color": "#E5ECF6",
              "width": 0.5
             },
             "pattern": {
              "fillmode": "overlay",
              "size": 10,
              "solidity": 0.2
             }
            },
            "type": "barpolar"
           }
          ],
          "carpet": [
           {
            "aaxis": {
             "endlinecolor": "#2a3f5f",
             "gridcolor": "white",
             "linecolor": "white",
             "minorgridcolor": "white",
             "startlinecolor": "#2a3f5f"
            },
            "baxis": {
             "endlinecolor": "#2a3f5f",
             "gridcolor": "white",
             "linecolor": "white",
             "minorgridcolor": "white",
             "startlinecolor": "#2a3f5f"
            },
            "type": "carpet"
           }
          ],
          "choropleth": [
           {
            "colorbar": {
             "outlinewidth": 0,
             "ticks": ""
            },
            "type": "choropleth"
           }
          ],
          "contour": [
           {
            "colorbar": {
             "outlinewidth": 0,
             "ticks": ""
            },
            "colorscale": [
             [
              0,
              "#0d0887"
             ],
             [
              0.1111111111111111,
              "#46039f"
             ],
             [
              0.2222222222222222,
              "#7201a8"
             ],
             [
              0.3333333333333333,
              "#9c179e"
             ],
             [
              0.4444444444444444,
              "#bd3786"
             ],
             [
              0.5555555555555556,
              "#d8576b"
             ],
             [
              0.6666666666666666,
              "#ed7953"
             ],
             [
              0.7777777777777778,
              "#fb9f3a"
             ],
             [
              0.8888888888888888,
              "#fdca26"
             ],
             [
              1,
              "#f0f921"
             ]
            ],
            "type": "contour"
           }
          ],
          "contourcarpet": [
           {
            "colorbar": {
             "outlinewidth": 0,
             "ticks": ""
            },
            "type": "contourcarpet"
           }
          ],
          "heatmap": [
           {
            "colorbar": {
             "outlinewidth": 0,
             "ticks": ""
            },
            "colorscale": [
             [
              0,
              "#0d0887"
             ],
             [
              0.1111111111111111,
              "#46039f"
             ],
             [
              0.2222222222222222,
              "#7201a8"
             ],
             [
              0.3333333333333333,
              "#9c179e"
             ],
             [
              0.4444444444444444,
              "#bd3786"
             ],
             [
              0.5555555555555556,
              "#d8576b"
             ],
             [
              0.6666666666666666,
              "#ed7953"
             ],
             [
              0.7777777777777778,
              "#fb9f3a"
             ],
             [
              0.8888888888888888,
              "#fdca26"
             ],
             [
              1,
              "#f0f921"
             ]
            ],
            "type": "heatmap"
           }
          ],
          "heatmapgl": [
           {
            "colorbar": {
             "outlinewidth": 0,
             "ticks": ""
            },
            "colorscale": [
             [
              0,
              "#0d0887"
             ],
             [
              0.1111111111111111,
              "#46039f"
             ],
             [
              0.2222222222222222,
              "#7201a8"
             ],
             [
              0.3333333333333333,
              "#9c179e"
             ],
             [
              0.4444444444444444,
              "#bd3786"
             ],
             [
              0.5555555555555556,
              "#d8576b"
             ],
             [
              0.6666666666666666,
              "#ed7953"
             ],
             [
              0.7777777777777778,
              "#fb9f3a"
             ],
             [
              0.8888888888888888,
              "#fdca26"
             ],
             [
              1,
              "#f0f921"
             ]
            ],
            "type": "heatmapgl"
           }
          ],
          "histogram": [
           {
            "marker": {
             "pattern": {
              "fillmode": "overlay",
              "size": 10,
              "solidity": 0.2
             }
            },
            "type": "histogram"
           }
          ],
          "histogram2d": [
           {
            "colorbar": {
             "outlinewidth": 0,
             "ticks": ""
            },
            "colorscale": [
             [
              0,
              "#0d0887"
             ],
             [
              0.1111111111111111,
              "#46039f"
             ],
             [
              0.2222222222222222,
              "#7201a8"
             ],
             [
              0.3333333333333333,
              "#9c179e"
             ],
             [
              0.4444444444444444,
              "#bd3786"
             ],
             [
              0.5555555555555556,
              "#d8576b"
             ],
             [
              0.6666666666666666,
              "#ed7953"
             ],
             [
              0.7777777777777778,
              "#fb9f3a"
             ],
             [
              0.8888888888888888,
              "#fdca26"
             ],
             [
              1,
              "#f0f921"
             ]
            ],
            "type": "histogram2d"
           }
          ],
          "histogram2dcontour": [
           {
            "colorbar": {
             "outlinewidth": 0,
             "ticks": ""
            },
            "colorscale": [
             [
              0,
              "#0d0887"
             ],
             [
              0.1111111111111111,
              "#46039f"
             ],
             [
              0.2222222222222222,
              "#7201a8"
             ],
             [
              0.3333333333333333,
              "#9c179e"
             ],
             [
              0.4444444444444444,
              "#bd3786"
             ],
             [
              0.5555555555555556,
              "#d8576b"
             ],
             [
              0.6666666666666666,
              "#ed7953"
             ],
             [
              0.7777777777777778,
              "#fb9f3a"
             ],
             [
              0.8888888888888888,
              "#fdca26"
             ],
             [
              1,
              "#f0f921"
             ]
            ],
            "type": "histogram2dcontour"
           }
          ],
          "mesh3d": [
           {
            "colorbar": {
             "outlinewidth": 0,
             "ticks": ""
            },
            "type": "mesh3d"
           }
          ],
          "parcoords": [
           {
            "line": {
             "colorbar": {
              "outlinewidth": 0,
              "ticks": ""
             }
            },
            "type": "parcoords"
           }
          ],
          "pie": [
           {
            "automargin": true,
            "type": "pie"
           }
          ],
          "scatter": [
           {
            "fillpattern": {
             "fillmode": "overlay",
             "size": 10,
             "solidity": 0.2
            },
            "type": "scatter"
           }
          ],
          "scatter3d": [
           {
            "line": {
             "colorbar": {
              "outlinewidth": 0,
              "ticks": ""
             }
            },
            "marker": {
             "colorbar": {
              "outlinewidth": 0,
              "ticks": ""
             }
            },
            "type": "scatter3d"
           }
          ],
          "scattercarpet": [
           {
            "marker": {
             "colorbar": {
              "outlinewidth": 0,
              "ticks": ""
             }
            },
            "type": "scattercarpet"
           }
          ],
          "scattergeo": [
           {
            "marker": {
             "colorbar": {
              "outlinewidth": 0,
              "ticks": ""
             }
            },
            "type": "scattergeo"
           }
          ],
          "scattergl": [
           {
            "marker": {
             "colorbar": {
              "outlinewidth": 0,
              "ticks": ""
             }
            },
            "type": "scattergl"
           }
          ],
          "scattermapbox": [
           {
            "marker": {
             "colorbar": {
              "outlinewidth": 0,
              "ticks": ""
             }
            },
            "type": "scattermapbox"
           }
          ],
          "scatterpolar": [
           {
            "marker": {
             "colorbar": {
              "outlinewidth": 0,
              "ticks": ""
             }
            },
            "type": "scatterpolar"
           }
          ],
          "scatterpolargl": [
           {
            "marker": {
             "colorbar": {
              "outlinewidth": 0,
              "ticks": ""
             }
            },
            "type": "scatterpolargl"
           }
          ],
          "scatterternary": [
           {
            "marker": {
             "colorbar": {
              "outlinewidth": 0,
              "ticks": ""
             }
            },
            "type": "scatterternary"
           }
          ],
          "surface": [
           {
            "colorbar": {
             "outlinewidth": 0,
             "ticks": ""
            },
            "colorscale": [
             [
              0,
              "#0d0887"
             ],
             [
              0.1111111111111111,
              "#46039f"
             ],
             [
              0.2222222222222222,
              "#7201a8"
             ],
             [
              0.3333333333333333,
              "#9c179e"
             ],
             [
              0.4444444444444444,
              "#bd3786"
             ],
             [
              0.5555555555555556,
              "#d8576b"
             ],
             [
              0.6666666666666666,
              "#ed7953"
             ],
             [
              0.7777777777777778,
              "#fb9f3a"
             ],
             [
              0.8888888888888888,
              "#fdca26"
             ],
             [
              1,
              "#f0f921"
             ]
            ],
            "type": "surface"
           }
          ],
          "table": [
           {
            "cells": {
             "fill": {
              "color": "#EBF0F8"
             },
             "line": {
              "color": "white"
             }
            },
            "header": {
             "fill": {
              "color": "#C8D4E3"
             },
             "line": {
              "color": "white"
             }
            },
            "type": "table"
           }
          ]
         },
         "layout": {
          "annotationdefaults": {
           "arrowcolor": "#2a3f5f",
           "arrowhead": 0,
           "arrowwidth": 1
          },
          "autotypenumbers": "strict",
          "coloraxis": {
           "colorbar": {
            "outlinewidth": 0,
            "ticks": ""
           }
          },
          "colorscale": {
           "diverging": [
            [
             0,
             "#8e0152"
            ],
            [
             0.1,
             "#c51b7d"
            ],
            [
             0.2,
             "#de77ae"
            ],
            [
             0.3,
             "#f1b6da"
            ],
            [
             0.4,
             "#fde0ef"
            ],
            [
             0.5,
             "#f7f7f7"
            ],
            [
             0.6,
             "#e6f5d0"
            ],
            [
             0.7,
             "#b8e186"
            ],
            [
             0.8,
             "#7fbc41"
            ],
            [
             0.9,
             "#4d9221"
            ],
            [
             1,
             "#276419"
            ]
           ],
           "sequential": [
            [
             0,
             "#0d0887"
            ],
            [
             0.1111111111111111,
             "#46039f"
            ],
            [
             0.2222222222222222,
             "#7201a8"
            ],
            [
             0.3333333333333333,
             "#9c179e"
            ],
            [
             0.4444444444444444,
             "#bd3786"
            ],
            [
             0.5555555555555556,
             "#d8576b"
            ],
            [
             0.6666666666666666,
             "#ed7953"
            ],
            [
             0.7777777777777778,
             "#fb9f3a"
            ],
            [
             0.8888888888888888,
             "#fdca26"
            ],
            [
             1,
             "#f0f921"
            ]
           ],
           "sequentialminus": [
            [
             0,
             "#0d0887"
            ],
            [
             0.1111111111111111,
             "#46039f"
            ],
            [
             0.2222222222222222,
             "#7201a8"
            ],
            [
             0.3333333333333333,
             "#9c179e"
            ],
            [
             0.4444444444444444,
             "#bd3786"
            ],
            [
             0.5555555555555556,
             "#d8576b"
            ],
            [
             0.6666666666666666,
             "#ed7953"
            ],
            [
             0.7777777777777778,
             "#fb9f3a"
            ],
            [
             0.8888888888888888,
             "#fdca26"
            ],
            [
             1,
             "#f0f921"
            ]
           ]
          },
          "colorway": [
           "#636efa",
           "#EF553B",
           "#00cc96",
           "#ab63fa",
           "#FFA15A",
           "#19d3f3",
           "#FF6692",
           "#B6E880",
           "#FF97FF",
           "#FECB52"
          ],
          "font": {
           "color": "#2a3f5f"
          },
          "geo": {
           "bgcolor": "white",
           "lakecolor": "white",
           "landcolor": "#E5ECF6",
           "showlakes": true,
           "showland": true,
           "subunitcolor": "white"
          },
          "hoverlabel": {
           "align": "left"
          },
          "hovermode": "closest",
          "mapbox": {
           "style": "light"
          },
          "paper_bgcolor": "white",
          "plot_bgcolor": "#E5ECF6",
          "polar": {
           "angularaxis": {
            "gridcolor": "white",
            "linecolor": "white",
            "ticks": ""
           },
           "bgcolor": "#E5ECF6",
           "radialaxis": {
            "gridcolor": "white",
            "linecolor": "white",
            "ticks": ""
           }
          },
          "scene": {
           "xaxis": {
            "backgroundcolor": "#E5ECF6",
            "gridcolor": "white",
            "gridwidth": 2,
            "linecolor": "white",
            "showbackground": true,
            "ticks": "",
            "zerolinecolor": "white"
           },
           "yaxis": {
            "backgroundcolor": "#E5ECF6",
            "gridcolor": "white",
            "gridwidth": 2,
            "linecolor": "white",
            "showbackground": true,
            "ticks": "",
            "zerolinecolor": "white"
           },
           "zaxis": {
            "backgroundcolor": "#E5ECF6",
            "gridcolor": "white",
            "gridwidth": 2,
            "linecolor": "white",
            "showbackground": true,
            "ticks": "",
            "zerolinecolor": "white"
           }
          },
          "shapedefaults": {
           "line": {
            "color": "#2a3f5f"
           }
          },
          "ternary": {
           "aaxis": {
            "gridcolor": "white",
            "linecolor": "white",
            "ticks": ""
           },
           "baxis": {
            "gridcolor": "white",
            "linecolor": "white",
            "ticks": ""
           },
           "bgcolor": "#E5ECF6",
           "caxis": {
            "gridcolor": "white",
            "linecolor": "white",
            "ticks": ""
           }
          },
          "title": {
           "x": 0.05
          },
          "xaxis": {
           "automargin": true,
           "gridcolor": "white",
           "linecolor": "white",
           "ticks": "",
           "title": {
            "standoff": 15
           },
           "zerolinecolor": "white",
           "zerolinewidth": 2
          },
          "yaxis": {
           "automargin": true,
           "gridcolor": "white",
           "linecolor": "white",
           "ticks": "",
           "title": {
            "standoff": 15
           },
           "zerolinecolor": "white",
           "zerolinewidth": 2
          }
         }
        },
        "title": {
         "text": "Distribution of 'pred_code'"
        },
        "xaxis": {
         "anchor": "y",
         "autorange": true,
         "domain": [
          0,
          1
         ],
         "range": [
          0,
          12706.315789473683
         ],
         "title": {
          "text": "Count"
         },
         "type": "linear"
        },
        "yaxis": {
         "anchor": "x",
         "autorange": true,
         "domain": [
          0,
          1
         ],
         "range": [
          -0.5,
          1179.5
         ],
         "title": {
          "text": ""
         },
         "type": "category"
        }
       }
      },
      "image/png": "[encoded data removed]",
      "text/html": [
       "<div>                            <div id=\"0eb23aa2-d4c0-4169-823f-907fb7c84dfd\" class=\"plotly-graph-div\" style=\"height:525px; width:100%;\"></div>            <script type=\"text/javascript\">                require([\"plotly\"], function(Plotly) {                    window.PLOTLYENV=window.PLOTLYENV || {};                                    if (document.getElementById(\"0eb23aa2-d4c0-4169-823f-907fb7c84dfd\")) {                    Plotly.newPlot(                        \"0eb23aa2-d4c0-4169-823f-907fb7c84dfd\",                        [{\"alignmentgroup\":\"True\",\"hovertemplate\":\"x=%{x}\\u003cbr\\u003ey=%{y}\\u003cextra\\u003e\\u003c\\u002fextra\\u003e\",\"legendgroup\":\"\",\"marker\":{\"color\":\"#636efa\",\"pattern\":{\"shape\":\"\"}},\"name\":\"\",\"offsetgroup\":\"\",\"orientation\":\"h\",\"showlegend\":false,\"textposition\":\"auto\",\"x\":[1,1,1,1,1,1,1,1,1,1,1,1,1,1,1,1,1,1,1,1,1,1,1,1,1,1,1,1,1,1,1,1,1,1,1,1,1,1,1,1,1,1,1,1,1,1,1,1,1,1,1,1,1,1,1,1,1,1,1,1,1,1,1,1,1,1,1,1,1,1,1,1,1,1,1,1,1,1,1,1,1,1,1,1,1,1,1,1,1,1,1,1,1,1,1,1,1,1,1,1,1,1,1,1,1,1,1,1,1,1,1,1,1,1,1,1,1,1,1,1,1,1,1,1,1,1,1,1,1,1,1,1,1,1,1,1,1,1,1,1,1,1,1,1,1,1,1,1,1,1,1,1,1,1,1,1,1,1,1,1,1,1,1,1,1,1,1,1,1,1,1,1,1,1,1,1,1,1,1,1,1,1,1,1,1,1,1,1,1,1,1,1,1,1,1,1,1,1,1,1,1,1,1,1,1,1,1,1,1,1,1,1,1,1,1,1,1,1,1,1,1,1,1,1,1,1,1,1,1,1,1,1,1,1,1,1,1,1,1,1,1,1,1,1,1,1,1,1,1,1,1,1,1,1,1,1,1,1,1,1,1,1,1,1,1,1,1,1,1,1,1,1,1,1,1,1,1,1,1,1,1,1,1,1,1,1,1,1,1,1,1,1,1,1,1,1,1,1,1,1,1,1,1,1,1,1,1,1,1,1,1,1,1,1,1,1,1,1,1,1,1,1,1,1,1,1,1,1,1,1,1,1,1,1,1,1,1,1,1,1,1,1,1,1,1,1,1,1,1,1,1,1,1,1,1,1,1,1,1,1,1,1,1,1,1,1,1,1,1,1,1,1,1,1,1,1,1,1,1,1,1,1,1,1,1,1,1,1,1,1,1,1,1,1,1,1,1,1,1,1,1,1,1,1,1,1,1,1,1,1,1,1,1,1,1,1,1,1,2,2,2,2,2,2,2,2,2,2,2,2,2,2,2,2,2,2,2,2,2,2,2,2,2,2,2,2,2,2,2,2,2,2,2,2,2,2,2,2,2,2,2,2,2,2,2,2,2,2,2,2,2,2,2,2,2,2,2,2,2,2,2,2,2,2,2,2,2,2,2,2,2,2,2,2,2,2,2,2,2,2,2,2,2,2,2,2,2,2,2,2,2,2,2,2,2,2,2,2,2,2,2,2,2,2,2,2,2,2,2,2,2,2,2,2,2,2,2,2,2,2,2,2,2,2,2,2,2,2,2,2,2,2,2,2,2,2,2,2,2,2,2,2,2,2,2,2,3,3,3,3,3,3,3,3,3,3,3,3,3,3,3,3,3,3,3,3,3,3,3,3,3,3,3,3,3,3,3,3,3,3,3,3,3,3,3,3,3,3,3,3,3,3,3,3,3,3,3,3,3,3,3,3,3,3,3,3,3,3,3,3,3,3,3,3,3,3,4,4,4,4,4,4,4,4,4,4,4,4,4,4,4,4,4,4,4,4,4,4,4,4,4,4,4,4,4,4,4,4,4,4,4,4,4,4,4,4,4,4,4,4,4,4,4,4,4,4,4,4,4,4,4,4,4,4,4,4,4,4,4,5,5,5,5,5,5,5,5,5,5,5,5,5,5,5,5,5,5,5,5,5,5,5,5,5,5,5,5,5,5,5,5,5,5,5,5,5,5,5,5,5,5,6,6,6,6,6,6,6,6,6,6,6,6,6,6,6,6,6,6,6,6,6,6,6,6,6,6,6,6,7,7,7,7,7,7,7,7,7,7,7,7,7,7,7,7,7,8,8,8,8,8,8,8,8,8,8,8,9,9,9,9,9,9,9,9,9,9,9,9,9,9,9,9,9,9,9,9,10,10,10,10,10,10,10,10,10,10,10,10,10,10,10,10,10,10,11,11,11,11,11,11,11,11,11,11,11,11,11,11,12,12,12,12,12,12,12,13,13,13,13,13,13,13,13,14,14,14,14,14,14,14,14,14,14,14,15,15,15,15,15,15,15,16,16,16,16,16,16,16,16,16,16,17,17,17,18,18,18,19,19,19,19,19,19,19,19,20,20,20,20,20,20,21,21,21,22,22,22,22,22,23,23,23,23,23,24,24,24,24,24,24,25,25,25,25,25,25,25,26,26,26,26,27,27,27,27,28,28,28,28,28,29,29,29,29,30,30,31,31,32,32,32,32,33,33,33,34,34,34,35,37,37,37,37,38,39,39,39,39,39,39,40,40,41,42,42,43,44,44,45,46,47,47,47,47,48,48,48,49,50,50,50,50,51,51,51,51,52,54,54,54,55,56,56,57,58,58,58,58,61,62,63,63,63,64,65,66,69,70,70,73,74,75,76,78,78,79,80,81,82,87,87,88,88,90,91,93,93,97,98,98,99,99,102,102,104,109,118,122,134,138,142,142,143,147,155,159,165,167,169,169,169,175,178,183,188,191,200,208,210,212,215,215,220,222,231,231,236,239,240,242,244,245,249,250,257,269,278,278,282,288,289,296,305,309,316,327,327,328,351,353,380,384,393,402,410,415,416,427,430,445,453,460,466,467,541,557,586,600,606,627,631,641,672,679,693,705,719,738,743,771,775,790,800,843,847,876,934,942,944,973,1092,1142,1153,1270,1402,1499,1510,1579,1641,1693,1748,1748,1808,1996,1998,2020,2132,2242,2255,2288,2290,2619,3275,3333,3575,3727,4148,6233,12071],\"xaxis\":\"x\",\"y\":[\"blnori1\",\"ausgre1\",\"subwar6\",\"padwar1\",\"dusant1\",\"sinwre1\",\"eaptyr1\",\"pacblf1\",\"ruwphi2\",\"placuc1\",\"spebul1\",\"apowre1\",\"blacra1\",\"acowoo\",\"foxspa\",\"attwoo1\",\"yebcac1\",\"asiope1\",\"resflo1\",\"mouwre1\",\"ausmag2\",\"afrpip1\",\"crheag1\",\"hazgro1\",\"hamfly\",\"dasfly\",\"blhsal1\",\"banlap1\",\"rivlap1\",\"lessts1\",\"pabfly2\",\"maslap1\",\"larnil1\",\"orgthr1\",\"cabgre1\",\"bogcuc1\",\"tabowl1\",\"chcant2\",\"grgowl\",\"cbsfin\",\"rattre2\",\"crfbar3\",\"olbsun3\",\"abhori1\",\"whrsan\",\"plupig2\",\"creowl1\",\"gobmag1\",\"bacant1\",\"rufgle1\",\"moucac1\",\"recowl1\",\"sirnee1\",\"pasfly\",\"nutfly\",\"sonthr1\",\"yebfly\",\"norwhe\",\"cogwar1\",\"blfbun1\",\"lotros1\",\"whwcro\",\"sykwar2\",\"whhwoo\",\"rtbcoc1\",\"roahaw\",\"crehon2\",\"whwbec1\",\"masyel1\",\"lobtai1\",\"plbspa1\",\"ropbus1\",\"rucmot1\",\"winwre3\",\"gamqua\",\"chvnut1\",\"pattyr2\",\"whcred1\",\"plured1\",\"ivbpit1\",\"ocetap1\",\"phihao1\",\"amerob\",\"japspa1\",\"strwoo1\",\"blrpit1\",\"laypar1\",\"sultit1\",\"siemes1\",\"livtur1\",\"busflu1\",\"wilplo\",\"comyel\",\"bawpri1\",\"plsvir\",\"subfly\",\"hilpri2\",\"orisal1\",\"brsrob1\",\"rusbir1\",\"spemon1\",\"ocbfly1\",\"blnpit1\",\"amekes\",\"sohbul1\",\"phicou1\",\"amegfi\",\"whbwhe3\",\"blfbul1\",\"yefgul\",\"grtsun1\",\"laufal1\",\"whbful1\",\"eugplo\",\"ocrant1\",\"scatan\",\"dunlin\",\"bawfly2\",\"bktgna\",\"mugfly\",\"syrwoo1\",\"whwgro1\",\"somgre1\",\"amahum1\",\"rawant1\",\"eswdov1\",\"pygsun2\",\"rutbuh1\",\"afrwar1\",\"beasun2\",\"retcar2\",\"fulant1\",\"swahar1\",\"triher\",\"afpwag1\",\"gycyel\",\"placha\",\"yebfin1\",\"piefan1\",\"marmur\",\"bostib1\",\"pingro\",\"eacwar1\",\"hoocro1\",\"blkrai\",\"afrgos1\",\"mexjay4\",\"ccfgle1\",\"suifly1\",\"whbwoo1\",\"yelgul1\",\"gbbgul\",\"norboo1\",\"atlpuf\",\"bufowl1\",\"squher1\",\"lacwoo1\",\"thelar1\",\"slbpar1\",\"afmdov1\",\"gstlar1\",\"ltgsta1\",\"mouwar1\",\"strgra1\",\"pincoc1\",\"plaflo2\",\"ausfig1\",\"spvear1\",\"blhbun1\",\"marspi2\",\"bushti\",\"strtho1\",\"lemdov2\",\"bncbab1\",\"vesspa\",\"pigdov1\",\"tabbab1\",\"mapfly2\",\"tromoc\",\"chbtou1\",\"robgro\",\"whcsee2\",\"indcha1\",\"limpki\",\"baffal1\",\"bnhnut\",\"blhbul1\",\"bcptyr1\",\"angswa1\",\"amewoo\",\"bongul\",\"latsni1\",\"norjac\",\"blbbar5\",\"citfin1\",\"phimar1\",\"spwbab1\",\"uplpip1\",\"louwat\",\"rivter1\",\"afdfly1\",\"brtcur\",\"rucfly1\",\"batpig1\",\"metsta1\",\"yebbar1\",\"guicuc1\",\"relthr1\",\"veery\",\"scbflo1\",\"grawar\",\"tribla\",\"reblei\",\"varlau1\",\"wesowl1\",\"golphe\",\"whbred1\",\"swtkit\",\"scrbla1\",\"whtspa\",\"whwsno1\",\"blflau1\",\"dumant3\",\"palcro2\",\"punsun1\",\"orbflo1\",\"falduc\",\"cotfly1\",\"snakit\",\"rennig1\",\"grpchi\",\"bkhgro\",\"uraowl1\",\"gyhspa1\",\"hrshaw\",\"bonpet\",\"bruwat1\",\"dowwoo\",\"whbwar2\",\"gowwar\",\"afmwea\",\"lobgna5\",\"blckin1\",\"easmah1\",\"moubab1\",\"rindov\",\"grpsni1\",\"chacha1\",\"rattre1\",\"astfly\",\"yebshr1\",\"chbowl1\",\"sctman1\",\"apostl1\",\"dollar1\",\"pinspi1\",\"finnig1\",\"knohor1\",\"corshe\",\"blfmal1\",\"andcou1\",\"wookin1\",\"cinfly2\",\"mewgul\",\"dusfly\",\"kebtou1\",\"ettwoo1\",\"palwar5\",\"sltred\",\"smowar1\",\"gysbuw1\",\"ybbwar1\",\"yerwar\",\"smabut2\",\"styfin1\",\"yebkin1\",\"slabri1\",\"whiauk\",\"margod\",\"blaplo1\",\"whnwoo1\",\"fitbar1\",\"rufhor2\",\"brbmot1\",\"blkpho\",\"abetow\",\"rucgre1\",\"rutsha2\",\"borbar1\",\"hoatzi1\",\"flsjay\",\"afpfly1\",\"combab3\",\"anhing\",\"brtpar1\",\"aquwar1\",\"palhar1\",\"compoc\",\"yelrai\",\"grfdov1\",\"hypoco1\",\"spobuw1\",\"morepo2\",\"wooduc\",\"esmant1\",\"perfal\",\"blksco1\",\"yeofly1\",\"grypep2\",\"flfbar1\",\"neocor\",\"purswa2\",\"drasee1\",\"yeejun\",\"elllau1\",\"reccor\",\"simspa1\",\"grwsal1\",\"gbwwre1\",\"cornut1\",\"spgsta1\",\"blcman1\",\"grsvir1\",\"bufowl2\",\"tuftit\",\"gycful5\",\"litbar1\",\"grycur1\",\"jernig1\",\"buhshr1\",\"isashr1\",\"yecspi2\",\"shshaw\",\"rettro\",\"besra1\",\"bbwduc\",\"bulpet\",\"ycnher\",\"motowl\",\"sbctyr1\",\"scthon1\",\"spbwre1\",\"wlswar\",\"whtdov\",\"easkin\",\"mouqua\",\"blcgna1\",\"lstlar2\",\"retpip\",\"rubwhi1\",\"rutant2\",\"sancra\",\"orheag1\",\"eacsun1\",\"gybtes1\",\"blttit2\",\"bubgro2\",\"moywar1\",\"blcbab1\",\"rocpar2\",\"yelfly1\",\"bawwar\",\"helgui\",\"cantow\",\"grebow1\",\"litgul\",\"commer\",\"stther2\",\"fireth1\",\"rehman1\",\"rocwre\",\"wincis3\",\"yebgro1\",\"rubowl3\",\"orhthr1\",\"grnwoo3\",\"gianut1\",\"eurnut1\",\"pitwhy\",\"chtant1\",\"gycher1\",\"turjay1\",\"blgdov1\",\"hilmyn\",\"orblea1\",\"fatwar\",\"citcaf1\",\"whbant4\",\"blypip1\",\"olwbul1\",\"ariwoo\",\"whtsco1\",\"grtcha1\",\"librol2\",\"sora\",\"chbwre1\",\"spobuw3\",\"norcar\",\"purmar\",\"brwhaw\",\"brosic1\",\"sttant1\",\"banmyn1\",\"capwhe2\",\"moccha1\",\"wilwag1\",\"salwar1\",\"bllcis1\",\"whtspa1\",\"whteag\",\"coohaw\",\"grypar\",\"fatrav1\",\"bthhue1\",\"benthr\",\"wbswea1\",\"phaino\",\"wesblu\",\"batnig1\",\"japfly1\",\"oliela1\",\"lotpar2\",\"spbant6\",\"chbchi\",\"scamyz1\",\"reedov1\",\"pacwre1\",\"picpig2\",\"larcus1\",\"blypaf1\",\"davlew1\",\"mexpar1\",\"brbrol1\",\"hadibi1\",\"eurkes\",\"gotbar2\",\"moutai2\",\"truswa\",\"gyebul1\",\"whoswa\",\"nezbel1\",\"stelio1\",\"lotmyn1\",\"diatro1\",\"ibechi2\",\"varthr\",\"harlew1\",\"blylew1\",\"malnig1\",\"bkcchi\",\"susowl1\",\"willet1\",\"cheant2\",\"soulap1\",\"rinouz1\",\"cursan\",\"killde\",\"andlap1\",\"egygoo\",\"vitpar1\",\"whtlap1\",\"himcuc1\",\"canwre\",\"whbnut\",\"sbwrai1\",\"baleag\",\"wrenti\",\"colplo1\",\"ricpip1\",\"btbeat2\",\"integr\",\"eurgri1\",\"eutkne1\",\"rengre\",\"horlar\",\"retloo\",\"towsol\",\"viocuc1\",\"wilpta\",\"chibar1\",\"chptit1\",\"blucra2\",\"redava\",\"fabtan1\",\"pibgre\",\"shtgro\",\"chwcuc1\",\"belkin1\",\"gbesta1\",\"oltpar1\",\"blhwea1\",\"pilwoo\",\"indflo1\",\"cbsbab1\",\"leabit\",\"ytbcoc1\",\"cratan1\",\"litcra1\",\"rumgua1\",\"shtbab1\",\"eurnig1\",\"rufwar1\",\"botgra\",\"gycful1\",\"dulgua1\",\"manwhi1\",\"blnter1\",\"lesgol\",\"yebcuc\",\"stebul2\",\"marori2\",\"bicthr\",\"lucwar\",\"madbul1\",\"norful\",\"rufsib1\",\"ausbus2\",\"crehon\",\"bewwre\",\"comred\",\"litbun\",\"gremag1\",\"colspa1\",\"yetvir\",\"rutfla1\",\"litbit1\",\"batwhi1\",\"indbus3\",\"moubar2\",\"patmoc1\",\"gyhtof1\",\"manbuw1\",\"orsowl\",\"lanwar\",\"rertin1\",\"yeebab1\",\"semfly1\",\"cosowl1\",\"grnjay\",\"whbcha2\",\"aspsta2\",\"tricis1\",\"nswowl\",\"calqua\",\"margra1\",\"grswoo1\",\"norfli\",\"thbvir\",\"aupowl1\",\"lanmon1\",\"blsrob1\",\"yebmag1\",\"solsan\",\"corfly\",\"gobger1\",\"gyfwoo1\",\"subwar4\",\"comeid\",\"oliwhi1\",\"houfin\",\"tawgra3\",\"blbsib1\",\"clishb1\",\"jabwar\",\"bkcvir1\",\"arcwar2\",\"twite1\",\"stopar1\",\"redjun\",\"sposan\",\"gretit2\",\"colowl1\",\"gilfli\",\"combul2\",\"fepowl\",\"indbus2\",\"whtfan1\",\"coffal1\",\"inghor2\",\"sirmal1\",\"piecuc1\",\"bubwar1\",\"trokin\",\"tobcat2\",\"carchi\",\"blacuc1\",\"grseag1\",\"welswa1\",\"grhgul\",\"vigswa\",\"cliswa\",\"grswar2\",\"oricuc2\",\"recpar\",\"whvmyn\",\"mabphi2\",\"saypho\",\"rudkin1\",\"comwea1\",\"comshe\",\"bkcwhi1\",\"brebla\",\"cacwre\",\"hooori\",\"rebwoo\",\"gybtai1\",\"orbtro2\",\"spepig1\",\"asgsta1\",\"chcbab1\",\"fotdro5\",\"baicra1\",\"reshaw\",\"besbab1\",\"bearee1\",\"ruttai1\",\"aurwar1\",\"eurwry\",\"bkcdon\",\"royter1\",\"euhbuz1\",\"strfly1\",\"bncwoo3\",\"gyhbul1\",\"wiltur\",\"callar1\",\"hergul\",\"btweye1\",\"norhar2\",\"orimag1\",\"comnig\",\"miswoo1\",\"y00839\",\"daured1\",\"gycwoo1\",\"wfwduc1\",\"whisto1\",\"bucbab1\",\"whtkit\",\"lesnig\",\"bagcot1\",\"bkbplo\",\"grbcam1\",\"lotshr1\",\"gohcis1\",\"butfly1\",\"rebnut\",\"pvttyr1\",\"spwlap1\",\"gockin\",\"comgal1\",\"soashe1\",\"greior2\",\"harqua1\",\"camwar\",\"gretit4\",\"latlar1\",\"lagbab2\",\"potpal1\",\"olbpip\",\"spadro1\",\"andsha1\",\"refmou1\",\"refblu\",\"tunswa\",\"blyshb1\",\"webwar1\",\"noimin1\",\"strspi1\",\"rudshe\",\"larhac2\",\"temsti\",\"brucuc1\",\"carwre\",\"slbgul1\",\"greyel1\",\"eastow\",\"blagro1\",\"wiltit1\",\"screup1\",\"chibla1\",\"rebpar4\",\"brnhao3\",\"rubpep1\",\"carcha1\",\"banwoo2\",\"macwar\",\"cangoo\",\"cehpar1\",\"aukpar1\",\"comgra\",\"bohwax\",\"eurtre1\",\"ortbun1\",\"smapra1\",\"paired\",\"bnhcow\",\"junpri1\",\"rucwar\",\"asidrc2\",\"souboo8\",\"pllwar1\",\"lobplo1\",\"blctit4\",\"litbus1\",\"grytre1\",\"batbel1\",\"woolar1\",\"asidrc3\",\"blheag1\",\"orphor1\",\"ferfly1\",\"brtbar1\",\"evegro\",\"pltsun2\",\"moctap1\",\"crefin1\",\"verfly4\",\"amepip\",\"meabun1\",\"stodov1\",\"woothr\",\"eurwar1\",\"coatit2\",\"tersan\",\"amecro\",\"leagre\",\"comrav\",\"lescou1\",\"baywea1\",\"oaktit\",\"flaowl\",\"rethaw\",\"piecro1\",\"asikoe3\",\"fibflo2\",\"rinphe\",\"austhr1\",\"blbsan1\",\"corbun1\",\"blabul1\",\"pygnut\",\"buthum\",\"yellow2\",\"gybshr1\",\"verdin\",\"swaspa\",\"whbwoo4\",\"indtit1\",\"comloo\",\"whhmun1\",\"watpip1\",\"wescap1\",\"brebul1\",\"gycwar1\",\"corcra\",\"bcbeat1\",\"bktgod\",\"dusful1\",\"taifly1\",\"slbtes1\",\"caskin\",\"puaioh\",\"rcsbab1\",\"orrwar1\",\"bltbar2\",\"lizbuz1\",\"mouchi2\",\"whblau1\",\"tigshr1\",\"rugdov\",\"babcuc2\",\"bargoo\",\"whwter\",\"runlar1\",\"indcuc1\",\"norsho\",\"hoopit2\",\"sarwar1\",\"chebul1\",\"wynlau1\",\"slbcro1\",\"houbun3\",\"comwax\",\"palswi3\",\"rebcho1\",\"whtpta1\",\"senpar\",\"firecr1\",\"purswa1\",\"relpar1\",\"rocpip1\",\"arcter\",\"werher\",\"grswoo\",\"bicant3\",\"blaeag1\",\"nilfly2\",\"wooshr1\",\"blcbul2\",\"hutvir\",\"orisky1\",\"recpoc\",\"wbbfly1\",\"lobdow\",\"eugwoo2\",\"magrob\",\"azwmag2\",\"nopowl\",\"indwhe1\",\"fiscro\",\"santer1\",\"clrwar1\",\"whwdov\",\"eurspa1\",\"cirbun1\",\"amedip\",\"railor5\",\"brnowl\",\"medgul1\",\"leswoo1\",\"sposta1\",\"bbrwar1\",\"eurjay1\",\"apapan\",\"litsti\",\"snoegr\",\"javtes1\",\"gubter1\",\"colfly1\",\"mosowl2\",\"goldcr1\",\"yevbul1\",\"rnwrai1\",\"ashtai1\",\"grebit1\",\"linbar1\",\"grapri1\",\"ceymyn1\",\"dantai1\",\"rocpet1\",\"parcro2\",\"colkin1\",\"blawoo1\",\"brdowl\",\"banswa\",\"ortdov\",\"maswhe3\",\"caster1\",\"carcro1\",\"gnwtea\",\"scamin1\",\"whsbul1\",\"crebar1\",\"bfbwar1\",\"corplo\",\"eursco1\",\"skylar\",\"fieldf\",\"sibrob\",\"euroys1\",\"greyel\",\"mowowl1\",\"eursta\",\"eurwig\",\"duswar\",\"kerlau2\",\"sibrub\",\"meapip1\",\"eaowar1\",\"grynig1\",\"osprey\",\"norlap\",\"spocra1\",\"martit2\",\"karpri1\",\"bubbab1\",\"bkhgul\",\"cretit2\",\"borowl\",\"lottit1\",\"isbduc1\",\"monhar1\",\"weowar1\",\"scamin3\",\"rutfly6\",\"combuz1\",\"brhbar1\",\"gadwal\",\"grewar2\",\"itaspa1\",\"junmyn1\",\"litowl1\",\"rufpri1\",\"eurrol1\",\"comcra\",\"redkit1\",\"litter1\",\"eurspo1\",\"whtdip1\",\"blueth\",\"eaywag\",\"grhowl\",\"pywbab1\",\"melwar1\",\"comter\",\"whcbul2\",\"redwin\",\"comfla1\",\"swiwhe1\",\"smamin1\",\"monpar\",\"brambl\",\"arcwar1\",\"norgos\",\"shttre1\",\"maphor1\",\"blebar1\",\"taibar2\",\"spofly1\",\"bkcsta1\",\"mallar3\",\"eurbla\",\"olbsun4\",\"brasta1\",\"trepip\",\"plaflo1\",\"pomgrp2\",\"blackc1\",\"reebun\",\"alplew1\",\"leswhi4\",\"stonec4\",\"blkter\",\"gragoo\",\"eurwoo\",\"rhihor1\",\"eupfly1\",\"alepar2\",\"hawfin\",\"paisto1\",\"eurwar2\",\"chbeat1\",\"whimbr\",\"grrwar1\",\"torcro2\",\"malwoo1\",\"grecor\",\"spored\",\"comchi1\",\"citwag\",\"savwar1\",\"sedwar1\",\"rufwoo2\",\"lesyel\",\"crelar2\",\"yebpri1\",\"bkrfla1\",\"humwar1\",\"comsni\",\"forwag1\",\"brwjac1\",\"blared1\",\"euptit1\",\"leskes1\",\"wlwwar\",\"woowar\",\"comqua1\",\"grewhi1\",\"eueowl1\",\"cowpig1\",\"eurbul\",\"spepic1\",\"comcuc\",\"azwmag3\",\"gretit1\",\"livbul1\",\"rebfly\",\"asfblu1\",\"eurrob1\",\"sttbab1\",\"watrai1\",\"latnig2\",\"eurcur\",\"gloibi\",\"dunnoc1\",\"yebwar3\",\"whinch1\",\"blutit\",\"maltro1\",\"eurnut2\",\"eurbla2\",\"zebdov\",\"eurgre1\",\"bwfshr1\",\"cetwar1\",\"redspu1\",\"eurser1\",\"\",\"moipig1\",\"dafbab1\",\"crfbar1\",\"tawowl1\",\"eurlin1\",\"comcha\",\"comred2\",\"eubeat1\",\"misthr1\",\"garwar1\",\"whbsho3\",\"ingori1\",\"sqtbul1\",\"eursis\",\"vefnut1\",\"pieavo1\",\"lobsun2\",\"bknsti\",\"comswi\",\"rook1\",\"grcgre1\",\"heswoo1\",\"brwowl1\",\"whbtre1\",\"sbeowl1\",\"winwre4\",\"eugori2\",\"purswa3\",\"indrol2\",\"thrnig1\",\"eutdov\",\"vehpar1\",\"cregos1\",\"comred1\",\"marsan\",\"eurmag1\",\"sttyuh1\",\"lesyel1\",\"spoowl1\",\"tilwar1\",\"whrmun\",\"eutspa\",\"sttwoo1\",\"brakit1\",\"grefla3\",\"aspfly1\",\"goflea1\",\"comnig1\",\"brodro1\",\"orihob2\",\"malpar1\",\"ictwar1\",\"aspswi1\",\"purher1\",\"bkcbul1\",\"marwar3\",\"rebshr1\",\"jerbus2\",\"whbbul2\",\"cohmar1\",\"compea\",\"yebbab1\",\"crbsun2\",\"whiwag\",\"rufbab3\",\"redfod1\",\"grynig2\",\"eurgol\",\"whbwag1\",\"spaspa1\",\"pursun3\",\"grbeat1\",\"plhpar1\",\"indrob1\",\"gryfra\",\"piebus1\",\"maghor2\",\"pabflo1\",\"lewduc1\",\"commyn\",\"comior1\",\"yebbul3\",\"ashwoo2\",\"insowl1\",\"oripip1\",\"barfly1\",\"asbfly\",\"grenig1\",\"bladro1\",\"ashdro1\",\"inbrob1\",\"grehor1\",\"whcbar1\",\"grtdro1\",\"grbher3\",\"eurjac\",\"mawthr1\",\"junowl1\",\"grejun2\",\"piekin1\",\"placuc3\",\"btbeat1\",\"revbul\",\"grefla1\",\"kenplo1\",\"crseag1\",\"indpit1\",\"tibfly3\",\"ausibi1\",\"shikra1\",\"emedov2\",\"grecou1\",\"plapri1\",\"brcful1\",\"greegr\",\"gargan\",\"pursun4\",\"sohmyn1\",\"brnshr\",\"insbab1\",\"ashpri1\",\"rewbul\",\"blhori1\",\"nutman\",\"lblwar1\",\"houcro1\",\"copbar1\",\"litegr\",\"whbwoo2\",\"blakit1\",\"ruftre2\",\"gybpri1\",\"rossta2\",\"blnmon1\",\"labcro1\",\"litswi1\",\"thbwar1\",\"junbab2\",\"laudov1\",\"wemhar1\",\"litgre1\",\"comtai1\",\"rocpig\",\"litspi1\",\"spodov\",\"stbkin1\",\"cohcuc1\",\"rewlap1\",\"rerswa1\",\"brnhao1\",\"grnwar1\",\"whtkin2\",\"commoo3\",\"houspa\",\"gyhcaf1\",\"asikoe2\",\"whbwat1\",\"eaywag1\",\"putbab1\",\"categr\",\"eurcoo\",\"comkin1\",\"bcnher\",\"bkskit1\",\"whiter2\",\"graher1\",\"lirplo\",\"grnsan\",\"grywag\",\"rorpar\",\"woosan\",\"comgre\",\"comsan\",\"zitcis1\",\"barswa\",\"eucdov\",\"bkwsti\",\"grewar3\",\"comros\",\"hoopoe\",\"blrwar1\"],\"yaxis\":\"y\",\"type\":\"bar\"}],                        {\"template\":{\"data\":{\"histogram2dcontour\":[{\"type\":\"histogram2dcontour\",\"colorbar\":{\"outlinewidth\":0,\"ticks\":\"\"},\"colorscale\":[[0.0,\"#0d0887\"],[0.1111111111111111,\"#46039f\"],[0.2222222222222222,\"#7201a8\"],[0.3333333333333333,\"#9c179e\"],[0.4444444444444444,\"#bd3786\"],[0.5555555555555556,\"#d8576b\"],[0.6666666666666666,\"#ed7953\"],[0.7777777777777778,\"#fb9f3a\"],[0.8888888888888888,\"#fdca26\"],[1.0,\"#f0f921\"]]}],\"choropleth\":[{\"type\":\"choropleth\",\"colorbar\":{\"outlinewidth\":0,\"ticks\":\"\"}}],\"histogram2d\":[{\"type\":\"histogram2d\",\"colorbar\":{\"outlinewidth\":0,\"ticks\":\"\"},\"colorscale\":[[0.0,\"#0d0887\"],[0.1111111111111111,\"#46039f\"],[0.2222222222222222,\"#7201a8\"],[0.3333333333333333,\"#9c179e\"],[0.4444444444444444,\"#bd3786\"],[0.5555555555555556,\"#d8576b\"],[0.6666666666666666,\"#ed7953\"],[0.7777777777777778,\"#fb9f3a\"],[0.8888888888888888,\"#fdca26\"],[1.0,\"#f0f921\"]]}],\"heatmap\":[{\"type\":\"heatmap\",\"colorbar\":{\"outlinewidth\":0,\"ticks\":\"\"},\"colorscale\":[[0.0,\"#0d0887\"],[0.1111111111111111,\"#46039f\"],[0.2222222222222222,\"#7201a8\"],[0.3333333333333333,\"#9c179e\"],[0.4444444444444444,\"#bd3786\"],[0.5555555555555556,\"#d8576b\"],[0.6666666666666666,\"#ed7953\"],[0.7777777777777778,\"#fb9f3a\"],[0.8888888888888888,\"#fdca26\"],[1.0,\"#f0f921\"]]}],\"heatmapgl\":[{\"type\":\"heatmapgl\",\"colorbar\":{\"outlinewidth\":0,\"ticks\":\"\"},\"colorscale\":[[0.0,\"#0d0887\"],[0.1111111111111111,\"#46039f\"],[0.2222222222222222,\"#7201a8\"],[0.3333333333333333,\"#9c179e\"],[0.4444444444444444,\"#bd3786\"],[0.5555555555555556,\"#d8576b\"],[0.6666666666666666,\"#ed7953\"],[0.7777777777777778,\"#fb9f3a\"],[0.8888888888888888,\"#fdca26\"],[1.0,\"#f0f921\"]]}],\"contourcarpet\":[{\"type\":\"contourcarpet\",\"colorbar\":{\"outlinewidth\":0,\"ticks\":\"\"}}],\"contour\":[{\"type\":\"contour\",\"colorbar\":{\"outlinewidth\":0,\"ticks\":\"\"},\"colorscale\":[[0.0,\"#0d0887\"],[0.1111111111111111,\"#46039f\"],[0.2222222222222222,\"#7201a8\"],[0.3333333333333333,\"#9c179e\"],[0.4444444444444444,\"#bd3786\"],[0.5555555555555556,\"#d8576b\"],[0.6666666666666666,\"#ed7953\"],[0.7777777777777778,\"#fb9f3a\"],[0.8888888888888888,\"#fdca26\"],[1.0,\"#f0f921\"]]}],\"surface\":[{\"type\":\"surface\",\"colorbar\":{\"outlinewidth\":0,\"ticks\":\"\"},\"colorscale\":[[0.0,\"#0d0887\"],[0.1111111111111111,\"#46039f\"],[0.2222222222222222,\"#7201a8\"],[0.3333333333333333,\"#9c179e\"],[0.4444444444444444,\"#bd3786\"],[0.5555555555555556,\"#d8576b\"],[0.6666666666666666,\"#ed7953\"],[0.7777777777777778,\"#fb9f3a\"],[0.8888888888888888,\"#fdca26\"],[1.0,\"#f0f921\"]]}],\"mesh3d\":[{\"type\":\"mesh3d\",\"colorbar\":{\"outlinewidth\":0,\"ticks\":\"\"}}],\"scatter\":[{\"fillpattern\":{\"fillmode\":\"overlay\",\"size\":10,\"solidity\":0.2},\"type\":\"scatter\"}],\"parcoords\":[{\"type\":\"parcoords\",\"line\":{\"colorbar\":{\"outlinewidth\":0,\"ticks\":\"\"}}}],\"scatterpolargl\":[{\"type\":\"scatterpolargl\",\"marker\":{\"colorbar\":{\"outlinewidth\":0,\"ticks\":\"\"}}}],\"bar\":[{\"error_x\":{\"color\":\"#2a3f5f\"},\"error_y\":{\"color\":\"#2a3f5f\"},\"marker\":{\"line\":{\"color\":\"#E5ECF6\",\"width\":0.5},\"pattern\":{\"fillmode\":\"overlay\",\"size\":10,\"solidity\":0.2}},\"type\":\"bar\"}],\"scattergeo\":[{\"type\":\"scattergeo\",\"marker\":{\"colorbar\":{\"outlinewidth\":0,\"ticks\":\"\"}}}],\"scatterpolar\":[{\"type\":\"scatterpolar\",\"marker\":{\"colorbar\":{\"outlinewidth\":0,\"ticks\":\"\"}}}],\"histogram\":[{\"marker\":{\"pattern\":{\"fillmode\":\"overlay\",\"size\":10,\"solidity\":0.2}},\"type\":\"histogram\"}],\"scattergl\":[{\"type\":\"scattergl\",\"marker\":{\"colorbar\":{\"outlinewidth\":0,\"ticks\":\"\"}}}],\"scatter3d\":[{\"type\":\"scatter3d\",\"line\":{\"colorbar\":{\"outlinewidth\":0,\"ticks\":\"\"}},\"marker\":{\"colorbar\":{\"outlinewidth\":0,\"ticks\":\"\"}}}],\"scattermapbox\":[{\"type\":\"scattermapbox\",\"marker\":{\"colorbar\":{\"outlinewidth\":0,\"ticks\":\"\"}}}],\"scatterternary\":[{\"type\":\"scatterternary\",\"marker\":{\"colorbar\":{\"outlinewidth\":0,\"ticks\":\"\"}}}],\"scattercarpet\":[{\"type\":\"scattercarpet\",\"marker\":{\"colorbar\":{\"outlinewidth\":0,\"ticks\":\"\"}}}],\"carpet\":[{\"aaxis\":{\"endlinecolor\":\"#2a3f5f\",\"gridcolor\":\"white\",\"linecolor\":\"white\",\"minorgridcolor\":\"white\",\"startlinecolor\":\"#2a3f5f\"},\"baxis\":{\"endlinecolor\":\"#2a3f5f\",\"gridcolor\":\"white\",\"linecolor\":\"white\",\"minorgridcolor\":\"white\",\"startlinecolor\":\"#2a3f5f\"},\"type\":\"carpet\"}],\"table\":[{\"cells\":{\"fill\":{\"color\":\"#EBF0F8\"},\"line\":{\"color\":\"white\"}},\"header\":{\"fill\":{\"color\":\"#C8D4E3\"},\"line\":{\"color\":\"white\"}},\"type\":\"table\"}],\"barpolar\":[{\"marker\":{\"line\":{\"color\":\"#E5ECF6\",\"width\":0.5},\"pattern\":{\"fillmode\":\"overlay\",\"size\":10,\"solidity\":0.2}},\"type\":\"barpolar\"}],\"pie\":[{\"automargin\":true,\"type\":\"pie\"}]},\"layout\":{\"autotypenumbers\":\"strict\",\"colorway\":[\"#636efa\",\"#EF553B\",\"#00cc96\",\"#ab63fa\",\"#FFA15A\",\"#19d3f3\",\"#FF6692\",\"#B6E880\",\"#FF97FF\",\"#FECB52\"],\"font\":{\"color\":\"#2a3f5f\"},\"hovermode\":\"closest\",\"hoverlabel\":{\"align\":\"left\"},\"paper_bgcolor\":\"white\",\"plot_bgcolor\":\"#E5ECF6\",\"polar\":{\"bgcolor\":\"#E5ECF6\",\"angularaxis\":{\"gridcolor\":\"white\",\"linecolor\":\"white\",\"ticks\":\"\"},\"radialaxis\":{\"gridcolor\":\"white\",\"linecolor\":\"white\",\"ticks\":\"\"}},\"ternary\":{\"bgcolor\":\"#E5ECF6\",\"aaxis\":{\"gridcolor\":\"white\",\"linecolor\":\"white\",\"ticks\":\"\"},\"baxis\":{\"gridcolor\":\"white\",\"linecolor\":\"white\",\"ticks\":\"\"},\"caxis\":{\"gridcolor\":\"white\",\"linecolor\":\"white\",\"ticks\":\"\"}},\"coloraxis\":{\"colorbar\":{\"outlinewidth\":0,\"ticks\":\"\"}},\"colorscale\":{\"sequential\":[[0.0,\"#0d0887\"],[0.1111111111111111,\"#46039f\"],[0.2222222222222222,\"#7201a8\"],[0.3333333333333333,\"#9c179e\"],[0.4444444444444444,\"#bd3786\"],[0.5555555555555556,\"#d8576b\"],[0.6666666666666666,\"#ed7953\"],[0.7777777777777778,\"#fb9f3a\"],[0.8888888888888888,\"#fdca26\"],[1.0,\"#f0f921\"]],\"sequentialminus\":[[0.0,\"#0d0887\"],[0.1111111111111111,\"#46039f\"],[0.2222222222222222,\"#7201a8\"],[0.3333333333333333,\"#9c179e\"],[0.4444444444444444,\"#bd3786\"],[0.5555555555555556,\"#d8576b\"],[0.6666666666666666,\"#ed7953\"],[0.7777777777777778,\"#fb9f3a\"],[0.8888888888888888,\"#fdca26\"],[1.0,\"#f0f921\"]],\"diverging\":[[0,\"#8e0152\"],[0.1,\"#c51b7d\"],[0.2,\"#de77ae\"],[0.3,\"#f1b6da\"],[0.4,\"#fde0ef\"],[0.5,\"#f7f7f7\"],[0.6,\"#e6f5d0\"],[0.7,\"#b8e186\"],[0.8,\"#7fbc41\"],[0.9,\"#4d9221\"],[1,\"#276419\"]]},\"xaxis\":{\"gridcolor\":\"white\",\"linecolor\":\"white\",\"ticks\":\"\",\"title\":{\"standoff\":15},\"zerolinecolor\":\"white\",\"automargin\":true,\"zerolinewidth\":2},\"yaxis\":{\"gridcolor\":\"white\",\"linecolor\":\"white\",\"ticks\":\"\",\"title\":{\"standoff\":15},\"zerolinecolor\":\"white\",\"automargin\":true,\"zerolinewidth\":2},\"scene\":{\"xaxis\":{\"backgroundcolor\":\"#E5ECF6\",\"gridcolor\":\"white\",\"linecolor\":\"white\",\"showbackground\":true,\"ticks\":\"\",\"zerolinecolor\":\"white\",\"gridwidth\":2},\"yaxis\":{\"backgroundcolor\":\"#E5ECF6\",\"gridcolor\":\"white\",\"linecolor\":\"white\",\"showbackground\":true,\"ticks\":\"\",\"zerolinecolor\":\"white\",\"gridwidth\":2},\"zaxis\":{\"backgroundcolor\":\"#E5ECF6\",\"gridcolor\":\"white\",\"linecolor\":\"white\",\"showbackground\":true,\"ticks\":\"\",\"zerolinecolor\":\"white\",\"gridwidth\":2}},\"shapedefaults\":{\"line\":{\"color\":\"#2a3f5f\"}},\"annotationdefaults\":{\"arrowcolor\":\"#2a3f5f\",\"arrowhead\":0,\"arrowwidth\":1},\"geo\":{\"bgcolor\":\"white\",\"landcolor\":\"#E5ECF6\",\"subunitcolor\":\"white\",\"showland\":true,\"showlakes\":true,\"lakecolor\":\"white\"},\"title\":{\"x\":0.05},\"mapbox\":{\"style\":\"light\"}}},\"xaxis\":{\"anchor\":\"y\",\"domain\":[0.0,1.0],\"title\":{\"text\":\"Count\"}},\"yaxis\":{\"anchor\":\"x\",\"domain\":[0.0,1.0],\"title\":{\"text\":\"\"}},\"legend\":{\"tracegroupgap\":0},\"margin\":{\"t\":60},\"barmode\":\"group\",\"font\":{\"size\":16,\"color\":\"#E1B12D\"},\"title\":{\"text\":\"Distribution of 'pred_code'\"},\"showlegend\":false,\"plot_bgcolor\":\"#1C1D20\",\"paper_bgcolor\":\"#1C1D20\"},                        {\"responsive\": true}                    ).then(function(){\n",
       "                            \n",
       "var gd = document.getElementById('0eb23aa2-d4c0-4169-823f-907fb7c84dfd');\n",
       "var x = new MutationObserver(function (mutations, observer) {{\n",
       "        var display = window.getComputedStyle(gd).display;\n",
       "        if (!display || display === 'none') {{\n",
       "            console.log([gd, 'removed!']);\n",
       "            Plotly.purge(gd);\n",
       "            observer.disconnect();\n",
       "        }}\n",
       "}});\n",
       "\n",
       "// Listen for the removal of the full notebook cells\n",
       "var notebookContainer = gd.closest('#notebook-container');\n",
       "if (notebookContainer) {{\n",
       "    x.observe(notebookContainer, {childList: true});\n",
       "}}\n",
       "\n",
       "// Listen for the clearing of the current output cell\n",
       "var outputEl = gd.closest('.output');\n",
       "if (outputEl) {{\n",
       "    x.observe(outputEl, {childList: true});\n",
       "}}\n",
       "\n",
       "                        })                };                });            </script>        </div>"
      ]
     },
     "metadata": {},
     "output_type": "display_data"
    },
    {
     "name": "stdout",
     "output_type": "stream",
     "text": [
      "\n",
      "Total unique values in 'pred_code'are: 1180\n",
      "\n",
      "Top 5 values: pred_code\n",
      "blrwar1    12071\n",
      "hoopoe      6233\n",
      "comros      4148\n",
      "grewar3     3727\n",
      "bkwsti      3575\n",
      "Name: count, dtype: int64\n",
      "\n",
      "Bottom 5 values: pred_code\n",
      "dusant1    1\n",
      "padwar1    1\n",
      "subwar6    1\n",
      "ausgre1    1\n",
      "blnori1    1\n",
      "Name: count, dtype: int64\n"
     ]
    }
   ],
   "source": [
    "cat_feature_dist(bird_preds_df, 'pred_code')"
   ]
  },
  {
   "cell_type": "code",
   "execution_count": 128,
   "id": "80fedbb5-e7d6-4805-97d8-979fc11e47ad",
   "metadata": {},
   "outputs": [
    {
     "data": {
      "text/plain": [
       "((114336, 8), (123023, 8))"
      ]
     },
     "execution_count": 128,
     "metadata": {},
     "output_type": "execute_result"
    }
   ],
   "source": [
    "preds = bird_preds_df[bird_preds_df['ood'] == False]\n",
    "preds.shape, bird_preds_df.shape"
   ]
  },
  {
   "cell_type": "code",
   "execution_count": 129,
   "id": "eb00f80e-86a4-42ef-bed0-5049d61f437a",
   "metadata": {},
   "outputs": [
    {
     "name": "stdout",
     "output_type": "stream",
     "text": [
      "# Pretraing Dataset\n",
      "> Original: 90128\n",
      "> After Upsample: 50312\n",
      "> After Downsample: 47116\n"
     ]
    },
    {
     "data": {
      "image/png": "[encoded data removed]",
      "text/plain": [
       "<Figure size 2400x600 with 1 Axes>"
      ]
     },
     "metadata": {},
     "output_type": "display_data"
    }
   ],
   "source": [
    "# Upsample data\n",
    "up_thr = 100\n",
    "# pre downsample for graphical reasons, remove very high classes\n",
    "pre_df = bird_preds_df[bird_preds_df['ood'] == False]\n",
    "pre_df = downsample_data(pre_df, 'pred_code', thr=2000, seed=CFG.random_seed)\n",
    "dn_df = downsample_data(pre_df, 'pred_code', thr=500, seed=CFG.random_seed)\n",
    "up_df = upsample_data(dn_df, 'pred_code', thr=up_thr, seed=CFG.random_seed)\n",
    "\n",
    "print(\"# Pretraing Dataset\")\n",
    "print(f'> Original: {len(pre_df)}')\n",
    "print(f'> After Upsample: {len(up_df)}')\n",
    "print(f'> After Downsample: {len(dn_df)}')\n",
    "\n",
    "# Show effect of upsample\n",
    "plt.figure(figsize=(12*2, 6))\n",
    "\n",
    "ax1 = plt.subplot(1, 2, 1)\n",
    "pre_df.pred_code.value_counts()[:].plot.bar(color='blue', label='original')\n",
    "up_df.pred_code.value_counts()[:].plot.bar(color='green', label='w/ upsample')\n",
    "dn_df.pred_code.value_counts()[:].plot.bar(color='red', label='w/ dowsample')\n",
    "plt.xticks([])\n",
    "plt.axhline(y=up_thr, color='g', linestyle='--', label='up threshold')\n",
    "plt.axhline(y=400, color='r', linestyle='--', label='down threshold')\n",
    "plt.legend()\n",
    "plt.title(\"Upsample for Pre-Training\")\n",
    "\n",
    "# plt.tight_layout()\n",
    "plt.show()"
   ]
  },
  {
   "cell_type": "markdown",
   "id": "57a23872-de46-4b62-9c45-6709898b71ca",
   "metadata": {},
   "source": [
    "### Preprocess training data"
   ]
  },
  {
   "cell_type": "code",
   "execution_count": 130,
   "id": "39dbb163-9198-45f3-b457-214cb574dcea",
   "metadata": {},
   "outputs": [],
   "source": [
    "from sklearn.model_selection import ShuffleSplit, StratifiedShuffleSplit"
   ]
  },
  {
   "cell_type": "code",
   "execution_count": 131,
   "id": "dbfd1224-bf3b-42c5-b71e-bd5a49097eb1",
   "metadata": {},
   "outputs": [
    {
     "data": {
      "text/plain": [
       "((23236, 13), (1223, 13))"
      ]
     },
     "execution_count": 131,
     "metadata": {},
     "output_type": "execute_result"
    }
   ],
   "source": [
    "sss = StratifiedShuffleSplit(n_splits=1, test_size=1-CFG.split_fraction, random_state=CFG.random_seed)\n",
    "train_idx, val_idx = next(sss.split(meta_df.filename, meta_df.primary_label))\n",
    "\n",
    "t_df = meta_df.iloc[train_idx]\n",
    "v_df = meta_df.iloc[val_idx]\n",
    "\n",
    "t_df.shape, v_df.shape"
   ]
  },
  {
   "cell_type": "code",
   "execution_count": 132,
   "id": "34ce889a-0c46-4d97-8347-5256fc6989cb",
   "metadata": {
    "scrolled": true
   },
   "outputs": [
    {
     "data": {
      "text/plain": [
       "0"
      ]
     },
     "execution_count": 132,
     "metadata": {},
     "output_type": "execute_result"
    }
   ],
   "source": [
    "files = t_df.filename.tolist()\n",
    "v_df.apply(lambda row: row['filename'] in files, axis=1).sum()"
   ]
  },
  {
   "cell_type": "code",
   "execution_count": 133,
   "id": "9d0c13b1-07d4-4a59-aee3-38c6725fa58f",
   "metadata": {},
   "outputs": [
    {
     "data": {
      "text/plain": [
       "((114336, 8), (123023, 8))"
      ]
     },
     "execution_count": 133,
     "metadata": {},
     "output_type": "execute_result"
    }
   ],
   "source": [
    "# Use only classes that are in distribution (western ghats)\n",
    "df = bird_preds_df[bird_preds_df['ood'] == False]\n",
    "df.shape, bird_preds_df.shape"
   ]
  },
  {
   "cell_type": "code",
   "execution_count": 134,
   "id": "92bc8e37-2ba2-441d-a3c0-00c12256e6b3",
   "metadata": {},
   "outputs": [
    {
     "data": {
      "text/plain": [
       "(1180, 4, 1002)"
      ]
     },
     "execution_count": 134,
     "metadata": {},
     "output_type": "execute_result"
    }
   ],
   "source": [
    "labels_pred = bird_preds_df.pred_code.unique().tolist()\n",
    "\n",
    "missing = list(set(CFG.LABELS) - set(labels_pred))\n",
    "extra = list(set(labels_pred) - set(CFG.LABELS))\n",
    "\n",
    "len(labels_pred), len(missing), len(extra)"
   ]
  },
  {
   "cell_type": "code",
   "execution_count": 135,
   "id": "e0c0d859-bc38-4a3a-9b1a-7e824d410333",
   "metadata": {},
   "outputs": [
    {
     "data": {
      "text/plain": [
       "['inpher1', 'darter2', 'niwpig1', 'brfowl1']"
      ]
     },
     "execution_count": 135,
     "metadata": {},
     "output_type": "execute_result"
    }
   ],
   "source": [
    "# missing labels\n",
    "missing"
   ]
  },
  {
   "cell_type": "code",
   "execution_count": 136,
   "id": "33d7f90d-778d-4593-87bb-7dff25179bb5",
   "metadata": {},
   "outputs": [
    {
     "data": {
      "text/plain": [
       "(31,\n",
       " 8,\n",
       " ['wbbfly1',\n",
       "  'nilfly2',\n",
       "  'blaeag1',\n",
       "  'wynlau1',\n",
       "  'indtit1',\n",
       "  'bncwoo3',\n",
       "  'integr',\n",
       "  'asiope1'])"
      ]
     },
     "execution_count": 136,
     "metadata": {},
     "output_type": "execute_result"
    }
   ],
   "source": [
    "# underrepressented labels\n",
    "counts = df.pred_code.value_counts()\n",
    "labels_under = counts[counts < 10]\n",
    "\n",
    "counts[counts < 50].count(), labels_under.count(), labels_under.index.tolist()"
   ]
  },
  {
   "cell_type": "code",
   "execution_count": 137,
   "id": "000c49fe-9da7-48d8-9407-826e2efd668a",
   "metadata": {
    "scrolled": true
   },
   "outputs": [
    {
     "data": {
      "text/plain": [
       "(12,\n",
       " ['inpher1',\n",
       "  'darter2',\n",
       "  'niwpig1',\n",
       "  'brfowl1',\n",
       "  'wbbfly1',\n",
       "  'nilfly2',\n",
       "  'blaeag1',\n",
       "  'wynlau1',\n",
       "  'indtit1',\n",
       "  'bncwoo3',\n",
       "  'integr',\n",
       "  'asiope1'])"
      ]
     },
     "execution_count": 137,
     "metadata": {},
     "output_type": "execute_result"
    }
   ],
   "source": [
    "missing += labels_under.index.tolist()\n",
    "len(missing), missing"
   ]
  },
  {
   "cell_type": "code",
   "execution_count": 138,
   "id": "00e7a123-71a2-4b9f-bfe1-86c9a4c95173",
   "metadata": {},
   "outputs": [
    {
     "data": {
      "text/html": [
       "<div>\n",
       "<style scoped>\n",
       "    .dataframe tbody tr th:only-of-type {\n",
       "        vertical-align: middle;\n",
       "    }\n",
       "\n",
       "    .dataframe tbody tr th {\n",
       "        vertical-align: top;\n",
       "    }\n",
       "\n",
       "    .dataframe thead th {\n",
       "        text-align: right;\n",
       "    }\n",
       "</style>\n",
       "<table border=\"1\" class=\"dataframe\">\n",
       "  <thead>\n",
       "    <tr style=\"text-align: right;\">\n",
       "      <th></th>\n",
       "      <th>filename</th>\n",
       "      <th>label</th>\n",
       "      <th>name</th>\n",
       "      <th>start</th>\n",
       "      <th>end</th>\n",
       "      <th>confidence</th>\n",
       "      <th>pred_code</th>\n",
       "      <th>ood</th>\n",
       "    </tr>\n",
       "  </thead>\n",
       "  <tbody>\n",
       "    <tr>\n",
       "      <th>0</th>\n",
       "      <td>XC134896.ogg</td>\n",
       "      <td>asbfly</td>\n",
       "      <td>Muscicapa dauurica</td>\n",
       "      <td>0.0</td>\n",
       "      <td>3.0</td>\n",
       "      <td>0.964252</td>\n",
       "      <td>asbfly</td>\n",
       "      <td>False</td>\n",
       "    </tr>\n",
       "    <tr>\n",
       "      <th>1</th>\n",
       "      <td>XC134896.ogg</td>\n",
       "      <td>asbfly</td>\n",
       "      <td>Muscicapa dauurica</td>\n",
       "      <td>6.0</td>\n",
       "      <td>9.0</td>\n",
       "      <td>0.993391</td>\n",
       "      <td>asbfly</td>\n",
       "      <td>False</td>\n",
       "    </tr>\n",
       "  </tbody>\n",
       "</table>\n",
       "</div>"
      ],
      "text/plain": [
       "       filename   label                name  start  end  confidence pred_code  \\\n",
       "0  XC134896.ogg  asbfly  Muscicapa dauurica    0.0  3.0    0.964252    asbfly   \n",
       "1  XC134896.ogg  asbfly  Muscicapa dauurica    6.0  9.0    0.993391    asbfly   \n",
       "\n",
       "     ood  \n",
       "0  False  \n",
       "1  False  "
      ]
     },
     "execution_count": 138,
     "metadata": {},
     "output_type": "execute_result"
    }
   ],
   "source": [
    "df.head(2)"
   ]
  },
  {
   "cell_type": "code",
   "execution_count": 139,
   "id": "d8617097-4855-415d-af6f-ea71f72fe4c7",
   "metadata": {},
   "outputs": [],
   "source": [
    "# meta_df.head(2)"
   ]
  },
  {
   "cell_type": "code",
   "execution_count": 140,
   "id": "e371df1c-a6d4-4654-a6a1-9217d6cdffe7",
   "metadata": {},
   "outputs": [
    {
     "data": {
      "text/plain": [
       "(98, False)"
      ]
     },
     "execution_count": 140,
     "metadata": {},
     "output_type": "execute_result"
    }
   ],
   "source": [
    "results = []\n",
    "soft_label = 0.9\n",
    "frame = 3 # seconds\n",
    "\n",
    "for label in missing:\n",
    "    files = meta_df[meta_df['primary_label'] == label].filename.tolist()\n",
    "    \n",
    "    for f in files:\n",
    "        path = CFG.AUDIO_FOLDER / f\n",
    "        wav, org_sr = torchaudio.load(path)\n",
    "\n",
    "        duration = int(wav.shape[1] / org_sr)\n",
    "\n",
    "        steps = list(range(0, duration, frame))\n",
    "\n",
    "        filename = f.split('/')[-1] \n",
    "\n",
    "        intervals = [(x,x+frame) for x in steps[:-1]]\n",
    "        \n",
    "        data = [(filename, label, code2sci[label], i[0], i[1], soft_label, label, False) for i in intervals]\n",
    "        results.append(pd.DataFrame(data, columns = ['filename', 'label', 'name', 'start', 'end', 'confidence', 'pred_code', 'ood']))\n",
    "\n",
    "    # break\n",
    "len(results), df.isnull().values.any()"
   ]
  },
  {
   "cell_type": "code",
   "execution_count": 141,
   "id": "6e571f7a-3f4c-450b-9f45-a77ba34b519a",
   "metadata": {},
   "outputs": [],
   "source": [
    "# for r in results:\n",
    "#    print (r.isnull().values.any())"
   ]
  },
  {
   "cell_type": "code",
   "execution_count": 142,
   "id": "9131c2da-f824-4f71-ae21-3b10a3d759e8",
   "metadata": {
    "scrolled": true
   },
   "outputs": [
    {
     "name": "stdout",
     "output_type": "stream",
     "text": [
      "(900, 8)\n"
     ]
    },
    {
     "name": "stderr",
     "output_type": "stream",
     "text": [
      "C:\\Users\\Asus\\AppData\\Local\\Temp\\ipykernel_28380\\2215103872.py:2: FutureWarning:\n",
      "\n",
      "The behavior of DataFrame concatenation with empty or all-NA entries is deprecated. In a future version, this will no longer exclude empty or all-NA columns when determining the result dtypes. To retain the old behavior, exclude the relevant entries before the concat operation.\n",
      "\n"
     ]
    },
    {
     "data": {
      "text/html": [
       "<div>\n",
       "<style scoped>\n",
       "    .dataframe tbody tr th:only-of-type {\n",
       "        vertical-align: middle;\n",
       "    }\n",
       "\n",
       "    .dataframe tbody tr th {\n",
       "        vertical-align: top;\n",
       "    }\n",
       "\n",
       "    .dataframe thead th {\n",
       "        text-align: right;\n",
       "    }\n",
       "</style>\n",
       "<table border=\"1\" class=\"dataframe\">\n",
       "  <thead>\n",
       "    <tr style=\"text-align: right;\">\n",
       "      <th></th>\n",
       "      <th>filename</th>\n",
       "      <th>label</th>\n",
       "      <th>name</th>\n",
       "      <th>start</th>\n",
       "      <th>end</th>\n",
       "      <th>confidence</th>\n",
       "      <th>pred_code</th>\n",
       "      <th>ood</th>\n",
       "    </tr>\n",
       "  </thead>\n",
       "  <tbody>\n",
       "    <tr>\n",
       "      <th>0</th>\n",
       "      <td>XC548372.ogg</td>\n",
       "      <td>nilfly2</td>\n",
       "      <td>Eumyias albicaudatus</td>\n",
       "      <td>0</td>\n",
       "      <td>3</td>\n",
       "      <td>0.9</td>\n",
       "      <td>nilfly2</td>\n",
       "      <td>False</td>\n",
       "    </tr>\n",
       "    <tr>\n",
       "      <th>1</th>\n",
       "      <td>XC741495.ogg</td>\n",
       "      <td>bncwoo3</td>\n",
       "      <td>Yungipicus nanus</td>\n",
       "      <td>3</td>\n",
       "      <td>6</td>\n",
       "      <td>0.9</td>\n",
       "      <td>bncwoo3</td>\n",
       "      <td>False</td>\n",
       "    </tr>\n",
       "  </tbody>\n",
       "</table>\n",
       "</div>"
      ],
      "text/plain": [
       "       filename    label                  name start end  confidence  \\\n",
       "0  XC548372.ogg  nilfly2  Eumyias albicaudatus     0   3         0.9   \n",
       "1  XC741495.ogg  bncwoo3      Yungipicus nanus     3   6         0.9   \n",
       "\n",
       "  pred_code    ood  \n",
       "0   nilfly2  False  \n",
       "1   bncwoo3  False  "
      ]
     },
     "execution_count": 142,
     "metadata": {},
     "output_type": "execute_result"
    }
   ],
   "source": [
    "# merge dfs and upsample\n",
    "results_df = pd.concat(results, axis=0)\n",
    "print(results_df.shape)\n",
    "\n",
    "results_df.sample(2)"
   ]
  },
  {
   "cell_type": "code",
   "execution_count": 143,
   "id": "8cb67fbc-a153-4afa-9274-d1c569238e4e",
   "metadata": {},
   "outputs": [
    {
     "data": {
      "text/html": [
       "<div>\n",
       "<style scoped>\n",
       "    .dataframe tbody tr th:only-of-type {\n",
       "        vertical-align: middle;\n",
       "    }\n",
       "\n",
       "    .dataframe tbody tr th {\n",
       "        vertical-align: top;\n",
       "    }\n",
       "\n",
       "    .dataframe thead th {\n",
       "        text-align: right;\n",
       "    }\n",
       "</style>\n",
       "<table border=\"1\" class=\"dataframe\">\n",
       "  <thead>\n",
       "    <tr style=\"text-align: right;\">\n",
       "      <th></th>\n",
       "      <th>filename</th>\n",
       "      <th>label</th>\n",
       "      <th>name</th>\n",
       "      <th>start</th>\n",
       "      <th>end</th>\n",
       "      <th>confidence</th>\n",
       "      <th>pred_code</th>\n",
       "      <th>ood</th>\n",
       "    </tr>\n",
       "  </thead>\n",
       "  <tbody>\n",
       "    <tr>\n",
       "      <th>0</th>\n",
       "      <td>XC134896.ogg</td>\n",
       "      <td>asbfly</td>\n",
       "      <td>Muscicapa dauurica</td>\n",
       "      <td>0.0</td>\n",
       "      <td>3.0</td>\n",
       "      <td>0.964252</td>\n",
       "      <td>asbfly</td>\n",
       "      <td>False</td>\n",
       "    </tr>\n",
       "    <tr>\n",
       "      <th>1</th>\n",
       "      <td>XC134896.ogg</td>\n",
       "      <td>asbfly</td>\n",
       "      <td>Muscicapa dauurica</td>\n",
       "      <td>6.0</td>\n",
       "      <td>9.0</td>\n",
       "      <td>0.993391</td>\n",
       "      <td>asbfly</td>\n",
       "      <td>False</td>\n",
       "    </tr>\n",
       "  </tbody>\n",
       "</table>\n",
       "</div>"
      ],
      "text/plain": [
       "       filename   label                name  start  end  confidence pred_code  \\\n",
       "0  XC134896.ogg  asbfly  Muscicapa dauurica    0.0  3.0    0.964252    asbfly   \n",
       "1  XC134896.ogg  asbfly  Muscicapa dauurica    6.0  9.0    0.993391    asbfly   \n",
       "\n",
       "     ood  \n",
       "0  False  \n",
       "1  False  "
      ]
     },
     "execution_count": 143,
     "metadata": {},
     "output_type": "execute_result"
    }
   ],
   "source": [
    "df.head(2)"
   ]
  },
  {
   "cell_type": "code",
   "execution_count": 144,
   "id": "9fd88019-bdb9-40e9-8b26-cafe3d545004",
   "metadata": {},
   "outputs": [
    {
     "data": {
      "text/plain": [
       "(115236, 8)"
      ]
     },
     "execution_count": 144,
     "metadata": {},
     "output_type": "execute_result"
    }
   ],
   "source": [
    "df = pd.concat([df,results_df], axis=0)\n",
    "df.shape"
   ]
  },
  {
   "cell_type": "code",
   "execution_count": 145,
   "id": "73b306e9-aff9-4690-903b-375bf16bfe13",
   "metadata": {},
   "outputs": [],
   "source": [
    "df['start'] = df['start'].astype(int)\n",
    "df['end'] = df['end'].astype(int)\n",
    "\n",
    "df['path'] = fr'{str(CFG.AUDIO_FOLDER)}/' + df['label'] + '/' + df['filename']"
   ]
  },
  {
   "cell_type": "code",
   "execution_count": 146,
   "id": "d391f7d6-2e20-449f-bf9d-af0d0f2a5e6c",
   "metadata": {},
   "outputs": [
    {
     "data": {
      "text/html": [
       "<div>\n",
       "<style scoped>\n",
       "    .dataframe tbody tr th:only-of-type {\n",
       "        vertical-align: middle;\n",
       "    }\n",
       "\n",
       "    .dataframe tbody tr th {\n",
       "        vertical-align: top;\n",
       "    }\n",
       "\n",
       "    .dataframe thead th {\n",
       "        text-align: right;\n",
       "    }\n",
       "</style>\n",
       "<table border=\"1\" class=\"dataframe\">\n",
       "  <thead>\n",
       "    <tr style=\"text-align: right;\">\n",
       "      <th></th>\n",
       "      <th>filename</th>\n",
       "      <th>label</th>\n",
       "      <th>name</th>\n",
       "      <th>start</th>\n",
       "      <th>end</th>\n",
       "      <th>confidence</th>\n",
       "      <th>pred_code</th>\n",
       "      <th>ood</th>\n",
       "      <th>path</th>\n",
       "    </tr>\n",
       "  </thead>\n",
       "  <tbody>\n",
       "    <tr>\n",
       "      <th>0</th>\n",
       "      <td>XC134896.ogg</td>\n",
       "      <td>asbfly</td>\n",
       "      <td>Muscicapa dauurica</td>\n",
       "      <td>0</td>\n",
       "      <td>3</td>\n",
       "      <td>0.964252</td>\n",
       "      <td>asbfly</td>\n",
       "      <td>False</td>\n",
       "      <td>E:\\data\\BirdCLEF\\train_audio/asbfly/XC134896.ogg</td>\n",
       "    </tr>\n",
       "    <tr>\n",
       "      <th>1</th>\n",
       "      <td>XC134896.ogg</td>\n",
       "      <td>asbfly</td>\n",
       "      <td>Muscicapa dauurica</td>\n",
       "      <td>6</td>\n",
       "      <td>9</td>\n",
       "      <td>0.993391</td>\n",
       "      <td>asbfly</td>\n",
       "      <td>False</td>\n",
       "      <td>E:\\data\\BirdCLEF\\train_audio/asbfly/XC134896.ogg</td>\n",
       "    </tr>\n",
       "  </tbody>\n",
       "</table>\n",
       "</div>"
      ],
      "text/plain": [
       "       filename   label                name  start  end  confidence pred_code  \\\n",
       "0  XC134896.ogg  asbfly  Muscicapa dauurica      0    3    0.964252    asbfly   \n",
       "1  XC134896.ogg  asbfly  Muscicapa dauurica      6    9    0.993391    asbfly   \n",
       "\n",
       "     ood                                              path  \n",
       "0  False  E:\\data\\BirdCLEF\\train_audio/asbfly/XC134896.ogg  \n",
       "1  False  E:\\data\\BirdCLEF\\train_audio/asbfly/XC134896.ogg  "
      ]
     },
     "execution_count": 146,
     "metadata": {},
     "output_type": "execute_result"
    }
   ],
   "source": [
    "df.head(2)"
   ]
  },
  {
   "cell_type": "code",
   "execution_count": 147,
   "id": "b2dca1c7-a7a2-42a7-9543-efdffd40bde9",
   "metadata": {},
   "outputs": [
    {
     "data": {
      "text/plain": [
       "(1180, 4, 1002)"
      ]
     },
     "execution_count": 147,
     "metadata": {},
     "output_type": "execute_result"
    }
   ],
   "source": [
    "labels_pred = bird_preds_df.pred_code.unique().tolist()\n",
    "\n",
    "missing = list(set(CFG.LABELS) - set(labels_pred))\n",
    "extra = list(set(labels_pred) - set(CFG.LABELS))\n",
    "\n",
    "len(labels_pred), len(missing), len(extra)"
   ]
  },
  {
   "cell_type": "code",
   "execution_count": 148,
   "id": "f611cb76-2006-4b58-8abb-6f07d98ba814",
   "metadata": {},
   "outputs": [
    {
     "data": {
      "text/plain": [
       "(182, 0, 0)"
      ]
     },
     "execution_count": 148,
     "metadata": {},
     "output_type": "execute_result"
    }
   ],
   "source": [
    "# check missing again\n",
    "labels_pred = df.pred_code.unique().tolist()\n",
    "\n",
    "missing = list(set(CFG.LABELS) - set(labels_pred))\n",
    "extra = list(set(labels_pred) - set(CFG.LABELS))\n",
    "\n",
    "len(labels_pred), len(missing), len(extra)"
   ]
  },
  {
   "cell_type": "markdown",
   "id": "ad693fca-da8a-464a-af8c-f73e6cea52c4",
   "metadata": {},
   "source": [
    "### Filter preds based on files from split"
   ]
  },
  {
   "cell_type": "code",
   "execution_count": 149,
   "id": "fc0b9970-3c7a-4b4e-bd0d-488f598ff1f2",
   "metadata": {},
   "outputs": [
    {
     "data": {
      "text/plain": [
       "(23219, 1223)"
      ]
     },
     "execution_count": 149,
     "metadata": {},
     "output_type": "execute_result"
    }
   ],
   "source": [
    "train_files = t_df.file.unique().tolist()\n",
    "val_files = v_df.file.unique().tolist()\n",
    "\n",
    "len(train_files), len(val_files)"
   ]
  },
  {
   "cell_type": "code",
   "execution_count": 150,
   "id": "cc981b4d-db2d-4728-abc5-b69c32d769cd",
   "metadata": {
    "scrolled": true
   },
   "outputs": [
    {
     "data": {
      "text/plain": [
       "((110266, 9), (4970, 9), (115236, 9))"
      ]
     },
     "execution_count": 150,
     "metadata": {},
     "output_type": "execute_result"
    }
   ],
   "source": [
    "train_df = df[df.filename.isin(train_files)]\n",
    "val_df = df[df.filename.isin(val_files)]\n",
    "\n",
    "train_df.shape, val_df.shape, df.shape"
   ]
  },
  {
   "cell_type": "markdown",
   "id": "79ea04d1-d72a-47d3-bdc7-df9cd97108df",
   "metadata": {},
   "source": [
    "### Add unlabeled"
   ]
  },
  {
   "cell_type": "code",
   "execution_count": 151,
   "id": "a9d5f080-84ea-48a7-8cd4-889846129c06",
   "metadata": {},
   "outputs": [
    {
     "data": {
      "text/plain": [
       "(18295, 9)"
      ]
     },
     "execution_count": 151,
     "metadata": {},
     "output_type": "execute_result"
    }
   ],
   "source": [
    "unl_df = unlabeled_preds_df[unlabeled_preds_df['ood'] == False]\n",
    "unl_df.shape"
   ]
  },
  {
   "cell_type": "code",
   "execution_count": 152,
   "id": "20508f12-4473-42ec-8777-c9a1d2053567",
   "metadata": {},
   "outputs": [],
   "source": [
    "# unl_df['label'] = unl_df['pred_code']"
   ]
  },
  {
   "cell_type": "code",
   "execution_count": 153,
   "id": "d5a87452-dcf9-4095-95ae-4bbb771e51af",
   "metadata": {},
   "outputs": [
    {
     "data": {
      "text/html": [
       "<div>\n",
       "<style scoped>\n",
       "    .dataframe tbody tr th:only-of-type {\n",
       "        vertical-align: middle;\n",
       "    }\n",
       "\n",
       "    .dataframe tbody tr th {\n",
       "        vertical-align: top;\n",
       "    }\n",
       "\n",
       "    .dataframe thead th {\n",
       "        text-align: right;\n",
       "    }\n",
       "</style>\n",
       "<table border=\"1\" class=\"dataframe\">\n",
       "  <thead>\n",
       "    <tr style=\"text-align: right;\">\n",
       "      <th></th>\n",
       "      <th>filename</th>\n",
       "      <th>label</th>\n",
       "      <th>name</th>\n",
       "      <th>start</th>\n",
       "      <th>end</th>\n",
       "      <th>confidence</th>\n",
       "      <th>pred_code</th>\n",
       "      <th>ood</th>\n",
       "      <th>path</th>\n",
       "    </tr>\n",
       "  </thead>\n",
       "  <tbody>\n",
       "    <tr>\n",
       "      <th>0</th>\n",
       "      <td>XC134896.ogg</td>\n",
       "      <td>asbfly</td>\n",
       "      <td>Muscicapa dauurica</td>\n",
       "      <td>0</td>\n",
       "      <td>3</td>\n",
       "      <td>0.964252</td>\n",
       "      <td>asbfly</td>\n",
       "      <td>False</td>\n",
       "      <td>E:\\data\\BirdCLEF\\train_audio/asbfly/XC134896.ogg</td>\n",
       "    </tr>\n",
       "    <tr>\n",
       "      <th>1</th>\n",
       "      <td>XC134896.ogg</td>\n",
       "      <td>asbfly</td>\n",
       "      <td>Muscicapa dauurica</td>\n",
       "      <td>6</td>\n",
       "      <td>9</td>\n",
       "      <td>0.993391</td>\n",
       "      <td>asbfly</td>\n",
       "      <td>False</td>\n",
       "      <td>E:\\data\\BirdCLEF\\train_audio/asbfly/XC134896.ogg</td>\n",
       "    </tr>\n",
       "  </tbody>\n",
       "</table>\n",
       "</div>"
      ],
      "text/plain": [
       "       filename   label                name  start  end  confidence pred_code  \\\n",
       "0  XC134896.ogg  asbfly  Muscicapa dauurica      0    3    0.964252    asbfly   \n",
       "1  XC134896.ogg  asbfly  Muscicapa dauurica      6    9    0.993391    asbfly   \n",
       "\n",
       "     ood                                              path  \n",
       "0  False  E:\\data\\BirdCLEF\\train_audio/asbfly/XC134896.ogg  \n",
       "1  False  E:\\data\\BirdCLEF\\train_audio/asbfly/XC134896.ogg  "
      ]
     },
     "execution_count": 153,
     "metadata": {},
     "output_type": "execute_result"
    }
   ],
   "source": [
    "train_df.head(2)"
   ]
  },
  {
   "cell_type": "code",
   "execution_count": 154,
   "id": "8ea4709f-d272-4281-afbb-fa93ddbc2061",
   "metadata": {},
   "outputs": [
    {
     "data": {
      "text/html": [
       "<div>\n",
       "<style scoped>\n",
       "    .dataframe tbody tr th:only-of-type {\n",
       "        vertical-align: middle;\n",
       "    }\n",
       "\n",
       "    .dataframe tbody tr th {\n",
       "        vertical-align: top;\n",
       "    }\n",
       "\n",
       "    .dataframe thead th {\n",
       "        text-align: right;\n",
       "    }\n",
       "</style>\n",
       "<table border=\"1\" class=\"dataframe\">\n",
       "  <thead>\n",
       "    <tr style=\"text-align: right;\">\n",
       "      <th></th>\n",
       "      <th>filename</th>\n",
       "      <th>name</th>\n",
       "      <th>start</th>\n",
       "      <th>end</th>\n",
       "      <th>confidence</th>\n",
       "      <th>pred_code</th>\n",
       "      <th>label</th>\n",
       "      <th>ood</th>\n",
       "      <th>path</th>\n",
       "    </tr>\n",
       "  </thead>\n",
       "  <tbody>\n",
       "    <tr>\n",
       "      <th>0</th>\n",
       "      <td>1000424265.ogg</td>\n",
       "      <td>Myophonus horsfieldii</td>\n",
       "      <td>24.0</td>\n",
       "      <td>27.0</td>\n",
       "      <td>0.939526</td>\n",
       "      <td>mawthr1</td>\n",
       "      <td>mawthr1</td>\n",
       "      <td>False</td>\n",
       "      <td>E:\\data\\BirdCLEF\\unlabeled_soundscapes/1000424...</td>\n",
       "    </tr>\n",
       "    <tr>\n",
       "      <th>2</th>\n",
       "      <td>100065465.ogg</td>\n",
       "      <td>Phylloscopus trochiloides</td>\n",
       "      <td>36.0</td>\n",
       "      <td>39.0</td>\n",
       "      <td>0.841660</td>\n",
       "      <td>grewar3</td>\n",
       "      <td>grewar3</td>\n",
       "      <td>False</td>\n",
       "      <td>E:\\data\\BirdCLEF\\unlabeled_soundscapes/1000654...</td>\n",
       "    </tr>\n",
       "  </tbody>\n",
       "</table>\n",
       "</div>"
      ],
      "text/plain": [
       "         filename                       name  start   end  confidence  \\\n",
       "0  1000424265.ogg      Myophonus horsfieldii   24.0  27.0    0.939526   \n",
       "2   100065465.ogg  Phylloscopus trochiloides   36.0  39.0    0.841660   \n",
       "\n",
       "  pred_code    label    ood                                               path  \n",
       "0   mawthr1  mawthr1  False  E:\\data\\BirdCLEF\\unlabeled_soundscapes/1000424...  \n",
       "2   grewar3  grewar3  False  E:\\data\\BirdCLEF\\unlabeled_soundscapes/1000654...  "
      ]
     },
     "execution_count": 154,
     "metadata": {},
     "output_type": "execute_result"
    }
   ],
   "source": [
    "unl_df.head(2)"
   ]
  },
  {
   "cell_type": "code",
   "execution_count": 155,
   "id": "ebd36616-fd9a-47fe-a943-a63ce3a6d47c",
   "metadata": {},
   "outputs": [
    {
     "name": "stdout",
     "output_type": "stream",
     "text": [
      "(110266, 9)\n",
      "(128561, 9)\n"
     ]
    }
   ],
   "source": [
    "print(train_df.shape)\n",
    "\n",
    "if CFG.include_ul:\n",
    "    train_df = pd.concat([train_df, unl_df], axis=0)\n",
    "\n",
    "print(train_df.shape)"
   ]
  },
  {
   "cell_type": "code",
   "execution_count": null,
   "id": "67d5b34b-8511-4f70-a042-c2617989bd7d",
   "metadata": {},
   "outputs": [],
   "source": []
  },
  {
   "cell_type": "code",
   "execution_count": null,
   "id": "a1849772-4bc0-42c9-acda-10a0d46971e9",
   "metadata": {},
   "outputs": [],
   "source": []
  },
  {
   "cell_type": "markdown",
   "id": "fdcb291d-db0e-468e-bffd-c8bf0a7d5e8b",
   "metadata": {},
   "source": [
    "### Up/down sample train dataset"
   ]
  },
  {
   "cell_type": "code",
   "execution_count": 156,
   "id": "8026aa8d-8806-499b-a5ad-2894c66f8d12",
   "metadata": {},
   "outputs": [
    {
     "name": "stdout",
     "output_type": "stream",
     "text": [
      "# Pretraing Dataset\n",
      "> Original: 103762\n",
      "> After Upsample: 50498\n",
      "> After Downsample: 44990\n"
     ]
    },
    {
     "data": {
      "image/png": "[encoded data removed]",
      "text/plain": [
       "<Figure size 2400x600 with 1 Axes>"
      ]
     },
     "metadata": {},
     "output_type": "display_data"
    }
   ],
   "source": [
    "# Upsample data\n",
    "\n",
    "# label = 'label'\n",
    "label = 'pred_code'\n",
    "\n",
    "up_thr = 150\n",
    "down_thr = 400\n",
    "# pre downsample for graphical reasons, remove very high classes\n",
    "# pre_df = bird_preds_df[bird_preds_df['ood'] == False]\n",
    "pre_df = train_df\n",
    "pre_df = downsample_data(pre_df, label, thr=2000, seed=CFG.random_seed)\n",
    "dn_df = downsample_data(pre_df, label, thr=down_thr, seed=CFG.random_seed)\n",
    "up_df = upsample_data(dn_df, label, thr=up_thr, seed=CFG.random_seed)\n",
    "\n",
    "print(\"# Pretraing Dataset\")\n",
    "print(f'> Original: {len(pre_df)}')\n",
    "print(f'> After Upsample: {len(up_df)}')\n",
    "print(f'> After Downsample: {len(dn_df)}')\n",
    "\n",
    "# Show effect of upsample\n",
    "plt.figure(figsize=(12*2, 6))\n",
    "\n",
    "ax1 = plt.subplot(1, 2, 1)\n",
    "pre_df[label].value_counts()[:].plot.bar(color='blue', label='original')\n",
    "up_df[label].value_counts()[:].plot.bar(color='green', label='w/ upsample')\n",
    "dn_df[label].value_counts()[:].plot.bar(color='red', label='w/ dowsample')\n",
    "plt.xticks([])\n",
    "plt.axhline(y=up_thr, color='g', linestyle='--', label='up threshold')\n",
    "plt.axhline(y=400, color='r', linestyle='--', label='down threshold')\n",
    "plt.legend()\n",
    "plt.title(\"Upsample for Pre-Training\")\n",
    "\n",
    "# plt.tight_layout()\n",
    "plt.show()"
   ]
  },
  {
   "cell_type": "code",
   "execution_count": 157,
   "id": "185983cc-8d19-41ee-90e0-80987ac6b7ec",
   "metadata": {},
   "outputs": [
    {
     "data": {
      "text/plain": [
       "((50498, 9), (4970, 9))"
      ]
     },
     "execution_count": 157,
     "metadata": {},
     "output_type": "execute_result"
    }
   ],
   "source": [
    "up_df.shape, val_df.shape"
   ]
  },
  {
   "cell_type": "code",
   "execution_count": 158,
   "id": "ed6df68b-6133-466d-acfd-7fd30132e897",
   "metadata": {},
   "outputs": [],
   "source": [
    "# Save datasets\n",
    "up_df.to_csv(train_dir / \"train_set.csv\", index=False) \n",
    "val_df.to_csv(train_dir / \"val_set.csv\", index=False) "
   ]
  },
  {
   "cell_type": "code",
   "execution_count": null,
   "id": "5f0dc607-79cb-4cf6-a3bc-57f0d37ab2cc",
   "metadata": {},
   "outputs": [],
   "source": []
  },
  {
   "cell_type": "code",
   "execution_count": null,
   "id": "aa7c59c8-3dc9-4137-8d84-3356f5be241a",
   "metadata": {},
   "outputs": [],
   "source": []
  }
 ],
 "metadata": {
  "kernelspec": {
   "display_name": "Python 3 (ipykernel)",
   "language": "python",
   "name": "python3"
  },
  "language_info": {
   "codemirror_mode": {
    "name": "ipython",
    "version": 3
   },
   "file_extension": ".py",
   "mimetype": "text/x-python",
   "name": "python",
   "nbconvert_exporter": "python",
   "pygments_lexer": "ipython3",
   "version": "3.10.13"
  }
 },
 "nbformat": 4,
 "nbformat_minor": 5
}
