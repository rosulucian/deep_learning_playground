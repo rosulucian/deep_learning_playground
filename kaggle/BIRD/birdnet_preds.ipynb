{
 "cells": [
  {
   "cell_type": "code",
   "execution_count": 1,
   "id": "43af72db-54ec-4b5f-b25d-7cb45896126d",
   "metadata": {},
   "outputs": [],
   "source": [
    "%load_ext autoreload\n",
    "%autoreload 2"
   ]
  },
  {
   "cell_type": "code",
   "execution_count": 2,
   "id": "3d6fd889-d421-4861-8a00-fa72b2597cc1",
   "metadata": {},
   "outputs": [],
   "source": [
    "import numpy as np # linear algebra\n",
    "import pandas as pd # data processing, CSV file I/O (e.g. pd.read_csv)\n",
    "\n",
    "import os\n",
    "import torchaudio\n",
    "import soundfile as sf\n",
    "import seaborn as sns\n",
    "\n",
    "from pathlib import Path\n",
    "import plotly.express as px\n",
    "import matplotlib.pyplot as plt\n",
    "from IPython.display import Audio\n",
    "\n",
    "from birdnetlib import Recording\n",
    "from birdnetlib.analyzer import Analyzer\n",
    "from birdnetlib.batch import DirectoryMultiProcessingAnalyzer"
   ]
  },
  {
   "cell_type": "code",
   "execution_count": 12,
   "id": "4b833114-9468-492f-8254-7692f5022c40",
   "metadata": {},
   "outputs": [],
   "source": [
    "train_dir = Path('E:\\data\\BirdCLEF')\n",
    "\n",
    "class CFG:\n",
    "    random_seed = 42\n",
    "    \n",
    "    ROOT_FOLDER = train_dir\n",
    "    AUDIO_FOLDER = train_dir / 'train_audio'\n",
    "    DATA_DIR = train_dir / 'spectros'\n",
    "    TRAIN_CSV = train_dir / 'train_metadata.csv'\n",
    "    RESULTS_DIR = train_dir / 'results'\n",
    "    CKPT_DIR = RESULTS_DIR / 'ckpt'\n",
    "    bird20223 = train_dir / 'bird2023.csv'\n",
    "    UNLABELED_FOLDER = train_dir / 'unlabeled_soundscapes'\n",
    "\n",
    "    bird_preds_csv = train_dir / 'bird_preds.csv'\n",
    "    unlabeled_preds_csv = train_dir / 'unlabeled_preds.csv'\n",
    "    taxonomy_csv = train_dir / 'eBird_Taxonomy_v2021.csv'"
   ]
  },
  {
   "cell_type": "code",
   "execution_count": 13,
   "id": "aa192b18-c5f4-4b51-8f98-6442d7a93c4f",
   "metadata": {},
   "outputs": [
    {
     "data": {
      "text/plain": [
       "182"
      ]
     },
     "execution_count": 13,
     "metadata": {},
     "output_type": "execute_result"
    }
   ],
   "source": [
    "sec_labels = ['lotshr1', 'orhthr1', 'magrob', 'indwhe1', 'bltmun1', 'asfblu1']\n",
    "\n",
    "sample_submission = pd.read_csv(train_dir / 'sample_submission.csv')\n",
    "\n",
    "# Set labels\n",
    "CFG.LABELS = sample_submission.columns[1:].tolist()\n",
    "bird2id = {b: i for i, b in enumerate(CFG.LABELS)}\n",
    "\n",
    "len(CFG.LABELS)"
   ]
  },
  {
   "cell_type": "code",
   "execution_count": 19,
   "id": "6dcae961-572c-48b0-a2b9-f58c60218279",
   "metadata": {},
   "outputs": [
    {
     "data": {
      "text/plain": [
       "((16941, 12), (123023, 6), (27203, 5), (16753, 9))"
      ]
     },
     "execution_count": 19,
     "metadata": {},
     "output_type": "execute_result"
    }
   ],
   "source": [
    "meta_df = pd.read_csv(CFG.TRAIN_CSV)\n",
    "df_23 = pd.read_csv(CFG.bird20223)\n",
    "bird_preds_df = pd.read_csv(CFG.bird_preds_csv)\n",
    "unlabeled_preds_df = pd.read_csv(CFG.unlabeled_preds_csv)\n",
    "taxonomy_df = pd.read_csv(CFG.taxonomy_csv)\n",
    "\n",
    "df_23.shape, bird_preds_df.shape, unlabeled_preds_df.shape, taxonomy_df.shape"
   ]
  },
  {
   "cell_type": "code",
   "execution_count": 16,
   "id": "6996ab1e-33a8-4b1b-9c5a-f4e31f610c5b",
   "metadata": {},
   "outputs": [
    {
     "data": {
      "text/html": [
       "<div>\n",
       "<style scoped>\n",
       "    .dataframe tbody tr th:only-of-type {\n",
       "        vertical-align: middle;\n",
       "    }\n",
       "\n",
       "    .dataframe tbody tr th {\n",
       "        vertical-align: top;\n",
       "    }\n",
       "\n",
       "    .dataframe thead th {\n",
       "        text-align: right;\n",
       "    }\n",
       "</style>\n",
       "<table border=\"1\" class=\"dataframe\">\n",
       "  <thead>\n",
       "    <tr style=\"text-align: right;\">\n",
       "      <th></th>\n",
       "      <th>TAXON_ORDER</th>\n",
       "      <th>CATEGORY</th>\n",
       "      <th>SPECIES_CODE</th>\n",
       "      <th>PRIMARY_COM_NAME</th>\n",
       "      <th>SCI_NAME</th>\n",
       "      <th>ORDER1</th>\n",
       "      <th>FAMILY</th>\n",
       "      <th>SPECIES_GROUP</th>\n",
       "      <th>REPORT_AS</th>\n",
       "    </tr>\n",
       "  </thead>\n",
       "  <tbody>\n",
       "    <tr>\n",
       "      <th>0</th>\n",
       "      <td>1</td>\n",
       "      <td>species</td>\n",
       "      <td>ostric2</td>\n",
       "      <td>Common Ostrich</td>\n",
       "      <td>Struthio camelus</td>\n",
       "      <td>Struthioniformes</td>\n",
       "      <td>Struthionidae (Ostriches)</td>\n",
       "      <td>Ostriches</td>\n",
       "      <td>NaN</td>\n",
       "    </tr>\n",
       "    <tr>\n",
       "      <th>1</th>\n",
       "      <td>6</td>\n",
       "      <td>species</td>\n",
       "      <td>ostric3</td>\n",
       "      <td>Somali Ostrich</td>\n",
       "      <td>Struthio molybdophanes</td>\n",
       "      <td>Struthioniformes</td>\n",
       "      <td>Struthionidae (Ostriches)</td>\n",
       "      <td>NaN</td>\n",
       "      <td>NaN</td>\n",
       "    </tr>\n",
       "  </tbody>\n",
       "</table>\n",
       "</div>"
      ],
      "text/plain": [
       "   TAXON_ORDER CATEGORY SPECIES_CODE PRIMARY_COM_NAME                SCI_NAME  \\\n",
       "0            1  species      ostric2   Common Ostrich        Struthio camelus   \n",
       "1            6  species      ostric3   Somali Ostrich  Struthio molybdophanes   \n",
       "\n",
       "             ORDER1                     FAMILY SPECIES_GROUP REPORT_AS  \n",
       "0  Struthioniformes  Struthionidae (Ostriches)     Ostriches       NaN  \n",
       "1  Struthioniformes  Struthionidae (Ostriches)           NaN       NaN  "
      ]
     },
     "execution_count": 16,
     "metadata": {},
     "output_type": "execute_result"
    }
   ],
   "source": [
    "taxonomy_df.head(2)"
   ]
  },
  {
   "cell_type": "code",
   "execution_count": 33,
   "id": "3f9d6559-5b0f-41a5-bd9e-f72a03e36ddd",
   "metadata": {},
   "outputs": [],
   "source": [
    "all_birds = taxonomy_df.SCI_NAME.unique().tolist()\n",
    "bird_codes = taxonomy_df.SPECIES_CODE.unique().tolist()\n",
    "\n",
    "sci2code = {b: c for b, c in zip(all_birds, bird_codes)}\n"
   ]
  },
  {
   "cell_type": "code",
   "execution_count": 39,
   "id": "396ef419-dc4b-4155-80f6-8be1b059e570",
   "metadata": {
    "scrolled": true
   },
   "outputs": [
    {
     "data": {
      "text/plain": [
       "'ostric2'"
      ]
     },
     "execution_count": 39,
     "metadata": {},
     "output_type": "execute_result"
    }
   ],
   "source": [
    "sci2code['Struthio camelus']"
   ]
  },
  {
   "cell_type": "code",
   "execution_count": null,
   "id": "68f29cde-9eaf-4bfb-a65a-b440859f4a55",
   "metadata": {},
   "outputs": [],
   "source": []
  },
  {
   "cell_type": "markdown",
   "id": "70158320-bbfa-4ffd-89dd-d0304c7c811e",
   "metadata": {},
   "source": [
    "### BirdNet train predictions"
   ]
  },
  {
   "cell_type": "code",
   "execution_count": 7,
   "id": "d3c99131-d541-45ab-b5c0-361cb1b1d106",
   "metadata": {},
   "outputs": [
    {
     "data": {
      "text/html": [
       "<div>\n",
       "<style scoped>\n",
       "    .dataframe tbody tr th:only-of-type {\n",
       "        vertical-align: middle;\n",
       "    }\n",
       "\n",
       "    .dataframe tbody tr th {\n",
       "        vertical-align: top;\n",
       "    }\n",
       "\n",
       "    .dataframe thead th {\n",
       "        text-align: right;\n",
       "    }\n",
       "</style>\n",
       "<table border=\"1\" class=\"dataframe\">\n",
       "  <thead>\n",
       "    <tr style=\"text-align: right;\">\n",
       "      <th></th>\n",
       "      <th>filename</th>\n",
       "      <th>label</th>\n",
       "      <th>name</th>\n",
       "      <th>start</th>\n",
       "      <th>end</th>\n",
       "      <th>confidence</th>\n",
       "    </tr>\n",
       "  </thead>\n",
       "  <tbody>\n",
       "    <tr>\n",
       "      <th>71133</th>\n",
       "      <td>XC564937.ogg</td>\n",
       "      <td>grywag</td>\n",
       "      <td>Motacilla cinerea</td>\n",
       "      <td>39.0</td>\n",
       "      <td>42.0</td>\n",
       "      <td>0.831604</td>\n",
       "    </tr>\n",
       "    <tr>\n",
       "      <th>52907</th>\n",
       "      <td>XC381631.ogg</td>\n",
       "      <td>eucdov</td>\n",
       "      <td>Streptopelia decaocto</td>\n",
       "      <td>12.0</td>\n",
       "      <td>15.0</td>\n",
       "      <td>0.983240</td>\n",
       "    </tr>\n",
       "    <tr>\n",
       "      <th>50351</th>\n",
       "      <td>XC489936.ogg</td>\n",
       "      <td>eaywag1</td>\n",
       "      <td>Motacilla flava</td>\n",
       "      <td>6.0</td>\n",
       "      <td>9.0</td>\n",
       "      <td>0.953970</td>\n",
       "    </tr>\n",
       "    <tr>\n",
       "      <th>43256</th>\n",
       "      <td>XC484737.ogg</td>\n",
       "      <td>comros</td>\n",
       "      <td>Carpodacus erythrinus</td>\n",
       "      <td>0.0</td>\n",
       "      <td>3.0</td>\n",
       "      <td>0.999471</td>\n",
       "    </tr>\n",
       "  </tbody>\n",
       "</table>\n",
       "</div>"
      ],
      "text/plain": [
       "           filename    label                   name  start   end  confidence\n",
       "71133  XC564937.ogg   grywag      Motacilla cinerea   39.0  42.0    0.831604\n",
       "52907  XC381631.ogg   eucdov  Streptopelia decaocto   12.0  15.0    0.983240\n",
       "50351  XC489936.ogg  eaywag1        Motacilla flava    6.0   9.0    0.953970\n",
       "43256  XC484737.ogg   comros  Carpodacus erythrinus    0.0   3.0    0.999471"
      ]
     },
     "execution_count": 7,
     "metadata": {},
     "output_type": "execute_result"
    }
   ],
   "source": [
    "bird_preds_df.sample(4)"
   ]
  },
  {
   "cell_type": "code",
   "execution_count": 49,
   "id": "f1eff12e-91f5-4a9e-9427-0c6c8025c8cf",
   "metadata": {},
   "outputs": [],
   "source": [
    "bird_preds_df['pred_code'] = bird_preds_df.apply(lambda row: sci2code[row['name']] if row['name'] in sci2code.keys() else '', axis=1)\n",
    "bird_preds_df['ood'] = bird_preds_df.apply(lambda row: False if row['pred_code'] in bird2id.keys() else True, axis=1)"
   ]
  },
  {
   "cell_type": "code",
   "execution_count": 53,
   "id": "be168ee7-8c28-42f2-aa59-d0436dbaab76",
   "metadata": {
    "scrolled": true
   },
   "outputs": [
    {
     "data": {
      "text/plain": [
       "((123023, 8), (49, 8))"
      ]
     },
     "execution_count": 53,
     "metadata": {},
     "output_type": "execute_result"
    }
   ],
   "source": [
    "bird_preds_df.shape, bird_preds_df[bird_preds_df['pred_code'] == ''].shape"
   ]
  },
  {
   "cell_type": "code",
   "execution_count": 52,
   "id": "a3bea094-7723-4154-8e38-a4aac3d2db1b",
   "metadata": {
    "scrolled": true
   },
   "outputs": [
    {
     "data": {
      "text/plain": [
       "(8687, 8)"
      ]
     },
     "execution_count": 52,
     "metadata": {},
     "output_type": "execute_result"
    }
   ],
   "source": [
    "bird_preds_df[bird_preds_df['ood'] == True].shape"
   ]
  },
  {
   "cell_type": "code",
   "execution_count": 54,
   "id": "990cd292-865b-499b-9841-8d12a5c7a6ca",
   "metadata": {},
   "outputs": [
    {
     "data": {
      "text/html": [
       "<div>\n",
       "<style scoped>\n",
       "    .dataframe tbody tr th:only-of-type {\n",
       "        vertical-align: middle;\n",
       "    }\n",
       "\n",
       "    .dataframe tbody tr th {\n",
       "        vertical-align: top;\n",
       "    }\n",
       "\n",
       "    .dataframe thead th {\n",
       "        text-align: right;\n",
       "    }\n",
       "</style>\n",
       "<table border=\"1\" class=\"dataframe\">\n",
       "  <thead>\n",
       "    <tr style=\"text-align: right;\">\n",
       "      <th></th>\n",
       "      <th>filename</th>\n",
       "      <th>label</th>\n",
       "      <th>name</th>\n",
       "      <th>start</th>\n",
       "      <th>end</th>\n",
       "      <th>confidence</th>\n",
       "      <th>pred_code</th>\n",
       "      <th>ood</th>\n",
       "    </tr>\n",
       "  </thead>\n",
       "  <tbody>\n",
       "    <tr>\n",
       "      <th>35941</th>\n",
       "      <td>XC687397.ogg</td>\n",
       "      <td>comgre</td>\n",
       "      <td>Anthus pratensis</td>\n",
       "      <td>21.0</td>\n",
       "      <td>24.0</td>\n",
       "      <td>0.857173</td>\n",
       "      <td>meapip1</td>\n",
       "      <td>True</td>\n",
       "    </tr>\n",
       "    <tr>\n",
       "      <th>46044</th>\n",
       "      <td>XC571110.ogg</td>\n",
       "      <td>comsan</td>\n",
       "      <td>Actitis hypoleucos</td>\n",
       "      <td>9.0</td>\n",
       "      <td>12.0</td>\n",
       "      <td>0.970478</td>\n",
       "      <td>comsan</td>\n",
       "      <td>False</td>\n",
       "    </tr>\n",
       "  </tbody>\n",
       "</table>\n",
       "</div>"
      ],
      "text/plain": [
       "           filename   label                name  start   end  confidence  \\\n",
       "35941  XC687397.ogg  comgre    Anthus pratensis   21.0  24.0    0.857173   \n",
       "46044  XC571110.ogg  comsan  Actitis hypoleucos    9.0  12.0    0.970478   \n",
       "\n",
       "      pred_code    ood  \n",
       "35941   meapip1   True  \n",
       "46044    comsan  False  "
      ]
     },
     "execution_count": 54,
     "metadata": {},
     "output_type": "execute_result"
    }
   ],
   "source": [
    "bird_preds_df.sample(2)"
   ]
  },
  {
   "cell_type": "code",
   "execution_count": 55,
   "id": "73325f25-27f0-467a-b9a6-b1814007956b",
   "metadata": {},
   "outputs": [
    {
     "data": {
      "text/plain": [
       "label\n",
       "blrwar1    13281\n",
       "hoopoe      6506\n",
       "comros      4259\n",
       "grewar3     4117\n",
       "bkwsti      3751\n",
       "eucdov      3539\n",
       "barswa      3340\n",
       "zitcis1     2713\n",
       "comgre      2400\n",
       "rorpar      2357\n",
       "comsan      2335\n",
       "woosan      2311\n",
       "graher1     2231\n",
       "grywag      2230\n",
       "lirplo      2111\n",
       "Name: count, dtype: int64"
      ]
     },
     "execution_count": 55,
     "metadata": {},
     "output_type": "execute_result"
    }
   ],
   "source": [
    "bird_preds_df.label.value_counts()[:15]"
   ]
  },
  {
   "cell_type": "markdown",
   "id": "8dabae7e-3556-4a4c-ab53-06272c339519",
   "metadata": {},
   "source": [
    "### low freq classes"
   ]
  },
  {
   "cell_type": "code",
   "execution_count": 59,
   "id": "f01fbb14-7605-4393-ba2f-a7d156008e67",
   "metadata": {},
   "outputs": [
    {
     "data": {
      "text/plain": [
       "label\n",
       "nilfly2    18\n",
       "junmyn1    14\n",
       "blaeag1    10\n",
       "wynlau1    10\n",
       "wbbfly1     9\n",
       "indtit1     8\n",
       "brfowl1     6\n",
       "bncwoo3     5\n",
       "niwpig1     2\n",
       "asiope1     1\n",
       "Name: count, dtype: int64"
      ]
     },
     "execution_count": 59,
     "metadata": {},
     "output_type": "execute_result"
    }
   ],
   "source": [
    "bird_preds_df.label.value_counts()[-10:]"
   ]
  },
  {
   "cell_type": "code",
   "execution_count": 58,
   "id": "62c123c9-c6c7-49cc-a2be-4d92e37c7d2f",
   "metadata": {},
   "outputs": [
    {
     "data": {
      "text/plain": [
       "primary_label\n",
       "bncwoo3    7\n",
       "wbbfly1    6\n",
       "blaeag1    6\n",
       "darter2    6\n",
       "paisto1    6\n",
       "wynlau1    6\n",
       "malwoo1    6\n",
       "integr     5\n",
       "asiope1    5\n",
       "niwpig1    4\n",
       "Name: count, dtype: int64"
      ]
     },
     "execution_count": 58,
     "metadata": {},
     "output_type": "execute_result"
    }
   ],
   "source": [
    "meta_df[meta_df['secondary_labels'] == '[]'].primary_label.value_counts()[-10:]"
   ]
  },
  {
   "cell_type": "code",
   "execution_count": null,
   "id": "9ef92d46-5138-456e-881e-e4fd50481673",
   "metadata": {},
   "outputs": [],
   "source": []
  },
  {
   "cell_type": "code",
   "execution_count": null,
   "id": "80fedbb5-e7d6-4805-97d8-979fc11e47ad",
   "metadata": {},
   "outputs": [],
   "source": []
  },
  {
   "cell_type": "code",
   "execution_count": null,
   "id": "eb00f80e-86a4-42ef-bed0-5049d61f437a",
   "metadata": {},
   "outputs": [],
   "source": []
  },
  {
   "cell_type": "code",
   "execution_count": null,
   "id": "fbacb6f0-f897-43ba-9635-08ae9816ceb7",
   "metadata": {},
   "outputs": [],
   "source": []
  },
  {
   "cell_type": "code",
   "execution_count": null,
   "id": "9d0c13b1-07d4-4a59-aee3-38c6725fa58f",
   "metadata": {},
   "outputs": [],
   "source": []
  }
 ],
 "metadata": {
  "kernelspec": {
   "display_name": "Python 3 (ipykernel)",
   "language": "python",
   "name": "python3"
  },
  "language_info": {
   "codemirror_mode": {
    "name": "ipython",
    "version": 3
   },
   "file_extension": ".py",
   "mimetype": "text/x-python",
   "name": "python",
   "nbconvert_exporter": "python",
   "pygments_lexer": "ipython3",
   "version": "3.10.13"
  }
 },
 "nbformat": 4,
 "nbformat_minor": 5
}
