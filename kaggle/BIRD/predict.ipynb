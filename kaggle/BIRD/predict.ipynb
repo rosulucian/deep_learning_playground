{
 "cells": [
  {
   "cell_type": "code",
   "execution_count": 1,
   "id": "f4c99c2c-2bcf-4bca-a329-959ebaf8d418",
   "metadata": {},
   "outputs": [],
   "source": [
    "%load_ext autoreload\n",
    "%autoreload 2"
   ]
  },
  {
   "cell_type": "code",
   "execution_count": 2,
   "id": "bcaa1b8c-0909-4461-93e1-18a1557badb1",
   "metadata": {},
   "outputs": [],
   "source": [
    "import os\n",
    "import time\n",
    "import wandb\n",
    "import torch\n",
    "import random\n",
    "import pickle\n",
    "import imageio\n",
    "import librosa\n",
    "import torchaudio\n",
    "import torchvision\n",
    "\n",
    "import numpy as np\n",
    "import pandas as pd\n",
    "import torchmetrics as tm \n",
    "import plotly.express as px\n",
    "import pytorch_lightning as pl\n",
    "import matplotlib.pyplot as plt\n",
    "\n",
    "from torch import nn\n",
    "from pathlib import Path\n",
    "from IPython.display import Audio\n",
    "from torch.utils.data import Dataset, DataLoader\n",
    "from torch.optim import Adam, AdamW, RMSprop # optmizers\n",
    "from sklearn.model_selection import train_test_split\n",
    "from torch.optim.lr_scheduler import CosineAnnealingLR, ReduceLROnPlateau # Learning rate schedulers\n",
    "\n",
    "import albumentations as A\n",
    "# from albumentations.pytorch import ToTensorV2\n",
    "\n",
    "import timm"
   ]
  },
  {
   "cell_type": "code",
   "execution_count": 3,
   "id": "10738efe-b4ba-4b6c-bc5e-e7a39eca9180",
   "metadata": {},
   "outputs": [
    {
     "name": "stdout",
     "output_type": "stream",
     "text": [
      "timm version 0.9.16\n",
      "torch version 2.3.0\n"
     ]
    }
   ],
   "source": [
    "print('timm version', timm.__version__)\n",
    "print('torch version', torch.__version__)"
   ]
  },
  {
   "cell_type": "code",
   "execution_count": 4,
   "id": "b97978fb-ccaa-4828-95d2-edf5fc21b3d1",
   "metadata": {},
   "outputs": [
    {
     "name": "stdout",
     "output_type": "stream",
     "text": [
      "cuda\n"
     ]
    }
   ],
   "source": [
    "# detect and define device \n",
    "device = torch.device('cuda' if torch.cuda.is_available() else 'cpu')\n",
    "\n",
    "print(device)"
   ]
  },
  {
   "cell_type": "code",
   "execution_count": 5,
   "id": "5cdcbf5f-fa4b-4270-8e35-02780696f9ed",
   "metadata": {},
   "outputs": [
    {
     "name": "stdout",
     "output_type": "stream",
     "text": [
      "# labels: 182\n"
     ]
    },
    {
     "data": {
      "text/html": [
       "<div>\n",
       "<style scoped>\n",
       "    .dataframe tbody tr th:only-of-type {\n",
       "        vertical-align: middle;\n",
       "    }\n",
       "\n",
       "    .dataframe tbody tr th {\n",
       "        vertical-align: top;\n",
       "    }\n",
       "\n",
       "    .dataframe thead th {\n",
       "        text-align: right;\n",
       "    }\n",
       "</style>\n",
       "<table border=\"1\" class=\"dataframe\">\n",
       "  <thead>\n",
       "    <tr style=\"text-align: right;\">\n",
       "      <th></th>\n",
       "      <th>row_id</th>\n",
       "      <th>asbfly</th>\n",
       "      <th>ashdro1</th>\n",
       "      <th>ashpri1</th>\n",
       "      <th>ashwoo2</th>\n",
       "      <th>asikoe2</th>\n",
       "      <th>asiope1</th>\n",
       "      <th>aspfly1</th>\n",
       "      <th>aspswi1</th>\n",
       "      <th>barfly1</th>\n",
       "      <th>...</th>\n",
       "      <th>whbwoo2</th>\n",
       "      <th>whcbar1</th>\n",
       "      <th>whiter2</th>\n",
       "      <th>whrmun</th>\n",
       "      <th>whtkin2</th>\n",
       "      <th>woosan</th>\n",
       "      <th>wynlau1</th>\n",
       "      <th>yebbab1</th>\n",
       "      <th>yebbul3</th>\n",
       "      <th>zitcis1</th>\n",
       "    </tr>\n",
       "  </thead>\n",
       "  <tbody>\n",
       "    <tr>\n",
       "      <th>0</th>\n",
       "      <td>soundscape_1446779_5</td>\n",
       "      <td>0.005495</td>\n",
       "      <td>0.005495</td>\n",
       "      <td>0.005495</td>\n",
       "      <td>0.005495</td>\n",
       "      <td>0.005495</td>\n",
       "      <td>0.005495</td>\n",
       "      <td>0.005495</td>\n",
       "      <td>0.005495</td>\n",
       "      <td>0.005495</td>\n",
       "      <td>...</td>\n",
       "      <td>0.005495</td>\n",
       "      <td>0.005495</td>\n",
       "      <td>0.005495</td>\n",
       "      <td>0.005495</td>\n",
       "      <td>0.005495</td>\n",
       "      <td>0.005495</td>\n",
       "      <td>0.005495</td>\n",
       "      <td>0.005495</td>\n",
       "      <td>0.005495</td>\n",
       "      <td>0.005495</td>\n",
       "    </tr>\n",
       "    <tr>\n",
       "      <th>1</th>\n",
       "      <td>soundscape_1446779_10</td>\n",
       "      <td>0.005495</td>\n",
       "      <td>0.005495</td>\n",
       "      <td>0.005495</td>\n",
       "      <td>0.005495</td>\n",
       "      <td>0.005495</td>\n",
       "      <td>0.005495</td>\n",
       "      <td>0.005495</td>\n",
       "      <td>0.005495</td>\n",
       "      <td>0.005495</td>\n",
       "      <td>...</td>\n",
       "      <td>0.005495</td>\n",
       "      <td>0.005495</td>\n",
       "      <td>0.005495</td>\n",
       "      <td>0.005495</td>\n",
       "      <td>0.005495</td>\n",
       "      <td>0.005495</td>\n",
       "      <td>0.005495</td>\n",
       "      <td>0.005495</td>\n",
       "      <td>0.005495</td>\n",
       "      <td>0.005495</td>\n",
       "    </tr>\n",
       "    <tr>\n",
       "      <th>2</th>\n",
       "      <td>soundscape_1446779_15</td>\n",
       "      <td>0.005495</td>\n",
       "      <td>0.005495</td>\n",
       "      <td>0.005495</td>\n",
       "      <td>0.005495</td>\n",
       "      <td>0.005495</td>\n",
       "      <td>0.005495</td>\n",
       "      <td>0.005495</td>\n",
       "      <td>0.005495</td>\n",
       "      <td>0.005495</td>\n",
       "      <td>...</td>\n",
       "      <td>0.005495</td>\n",
       "      <td>0.005495</td>\n",
       "      <td>0.005495</td>\n",
       "      <td>0.005495</td>\n",
       "      <td>0.005495</td>\n",
       "      <td>0.005495</td>\n",
       "      <td>0.005495</td>\n",
       "      <td>0.005495</td>\n",
       "      <td>0.005495</td>\n",
       "      <td>0.005495</td>\n",
       "    </tr>\n",
       "  </tbody>\n",
       "</table>\n",
       "<p>3 rows × 183 columns</p>\n",
       "</div>"
      ],
      "text/plain": [
       "                  row_id    asbfly   ashdro1   ashpri1   ashwoo2   asikoe2  \\\n",
       "0   soundscape_1446779_5  0.005495  0.005495  0.005495  0.005495  0.005495   \n",
       "1  soundscape_1446779_10  0.005495  0.005495  0.005495  0.005495  0.005495   \n",
       "2  soundscape_1446779_15  0.005495  0.005495  0.005495  0.005495  0.005495   \n",
       "\n",
       "    asiope1   aspfly1   aspswi1   barfly1  ...   whbwoo2   whcbar1   whiter2  \\\n",
       "0  0.005495  0.005495  0.005495  0.005495  ...  0.005495  0.005495  0.005495   \n",
       "1  0.005495  0.005495  0.005495  0.005495  ...  0.005495  0.005495  0.005495   \n",
       "2  0.005495  0.005495  0.005495  0.005495  ...  0.005495  0.005495  0.005495   \n",
       "\n",
       "     whrmun   whtkin2    woosan   wynlau1   yebbab1   yebbul3   zitcis1  \n",
       "0  0.005495  0.005495  0.005495  0.005495  0.005495  0.005495  0.005495  \n",
       "1  0.005495  0.005495  0.005495  0.005495  0.005495  0.005495  0.005495  \n",
       "2  0.005495  0.005495  0.005495  0.005495  0.005495  0.005495  0.005495  \n",
       "\n",
       "[3 rows x 183 columns]"
      ]
     },
     "metadata": {},
     "output_type": "display_data"
    }
   ],
   "source": [
    "train_dir = Path('E:\\data\\BirdCLEF')\n",
    "\n",
    "class CFG:\n",
    "    DEBUG = False # True False\n",
    "\n",
    "    USE_MISSING_LABELS = False\n",
    "\n",
    "    # Competition Root Folder\n",
    "    ROOT_FOLDER = train_dir\n",
    "    AUDIO_FOLDER = train_dir / 'train_audio'\n",
    "    UNLABELED_FOLDER = train_dir / 'unlabeled_soundscapes'\n",
    "    DATA_DIR = train_dir / 'spectros'\n",
    "    TRAN_CSV = train_dir / 'train_metadata.csv'\n",
    "    RESULTS_DIR = train_dir / 'results'\n",
    "    CKPT_DIR = train_dir / 'ckpt'\n",
    "\n",
    "    num_workers = 8\n",
    "    # Maximum decibel to clip audio to\n",
    "    TOP_DB = 100\n",
    "    # Minimum rating\n",
    "    MIN_RATING = 3.0\n",
    "    # Sample rate as provided in competition description\n",
    "    SR = 32000\n",
    "\n",
    "    image_size = 128\n",
    "    \n",
    "    ### split train and validation sets\n",
    "    split_fraction = 0.95\n",
    "    \n",
    "    ### model\n",
    "    model_name = 'eca_nfnet_l0' # 'resnet34', 'resnet200d', 'efficientnet_b1_pruned', 'efficientnetv2_m', efficientnet_b7 ...  \n",
    "    \n",
    "    ### training\n",
    "    BATCH_SIZE = 4\n",
    "    # N_EPOCHS = 3 if DEBUG else 40\n",
    "    N_EPOCHS = 20\n",
    "    LEARNING_RATE = 5*1e-6\n",
    "    \n",
    "    device = 'cuda' if torch.cuda.is_available() else 'cpu'\n",
    "    random_seed = 42\n",
    "    comment = 'first'\n",
    "\n",
    "mel_spec_params = {\n",
    "    \"sample_rate\": CFG.SR,\n",
    "    \"n_mels\": 128,\n",
    "    \"f_min\": 20,\n",
    "    \"f_max\": CFG.SR / 2,\n",
    "    \"n_fft\": 2048,\n",
    "    \"hop_length\": 512,\n",
    "    \"normalized\": True,\n",
    "    \"center\" : True,\n",
    "    \"pad_mode\" : \"constant\",\n",
    "    \"norm\" : \"slaney\",\n",
    "    \"mel_scale\" : \"slaney\"\n",
    "}\n",
    "\n",
    "CFG.mel_spec_params = mel_spec_params\n",
    "\n",
    "sec_labels = ['lotshr1', 'orhthr1', 'magrob', 'indwhe1', 'bltmun1', 'asfblu1']\n",
    "\n",
    "sample_submission = pd.read_csv(train_dir / 'sample_submission.csv')\n",
    "\n",
    "# Set labels\n",
    "CFG.LABELS = sample_submission.columns[1:].tolist()\n",
    "if CFG.USE_MISSING_LABELS:\n",
    "    CFG.LABELS += sec_labels\n",
    "    \n",
    "CFG.N_LABELS = len(CFG.LABELS)\n",
    "print(f'# labels: {CFG.N_LABELS}')\n",
    "\n",
    "display(sample_submission.head())"
   ]
  },
  {
   "cell_type": "code",
   "execution_count": 6,
   "id": "d475454e-17c0-43d1-a4e6-326e832c2177",
   "metadata": {},
   "outputs": [],
   "source": [
    "# for reproducibility\n",
    "def seed_torch(seed):\n",
    "    random.seed(seed)\n",
    "    os.environ['PYTHONHASHSEED'] = str(seed)\n",
    "    np.random.seed(seed)\n",
    "    torch.manual_seed(seed)\n",
    "    torch.cuda.manual_seed(seed)\n",
    "    torch.backends.cudnn.deterministic = True\n",
    "\n",
    "seed_torch(seed = CFG.random_seed)"
   ]
  },
  {
   "cell_type": "code",
   "execution_count": null,
   "id": "4d2cba66-841b-4be1-8a82-48557db51c49",
   "metadata": {},
   "outputs": [],
   "source": []
  },
  {
   "cell_type": "markdown",
   "id": "878dbfd2-012a-47a7-bc67-c6bcc5710c10",
   "metadata": {},
   "source": [
    "### Prepare dataframe"
   ]
  },
  {
   "cell_type": "code",
   "execution_count": 7,
   "id": "2a302522-eda5-463f-ae09-4381fa054079",
   "metadata": {},
   "outputs": [
    {
     "data": {
      "text/plain": [
       "8444"
      ]
     },
     "execution_count": 7,
     "metadata": {},
     "output_type": "execute_result"
    }
   ],
   "source": [
    "files = [f for f in sorted(os.listdir(CFG.UNLABELED_FOLDER))]\n",
    "len(files)"
   ]
  },
  {
   "cell_type": "code",
   "execution_count": 8,
   "id": "27345ec6-d72c-42c4-898d-9ba39fa8d1f2",
   "metadata": {},
   "outputs": [
    {
     "name": "stdout",
     "output_type": "stream",
     "text": [
      "Audio data shape: torch.Size([1, 7680000])\n",
      "Sample rate: 32000\n"
     ]
    }
   ],
   "source": [
    "file_path = CFG.UNLABELED_FOLDER / files[0]\n",
    "data, rate = torchaudio.load(file_path)\n",
    "print(\"Audio data shape:\", data.shape)\n",
    "print(\"Sample rate:\", rate)"
   ]
  },
  {
   "cell_type": "code",
   "execution_count": 9,
   "id": "0fcab537-cddb-468f-bc6a-9c0d0fb5ef28",
   "metadata": {},
   "outputs": [
    {
     "data": {
      "text/plain": [
       "array([  5,  10,  15,  20,  25,  30,  35,  40,  45,  50,  55,  60,  65,\n",
       "        70,  75,  80,  85,  90,  95, 100, 105, 110, 115, 120, 125, 130,\n",
       "       135, 140, 145, 150, 155, 160, 165, 170, 175, 180, 185, 190, 195,\n",
       "       200, 205, 210, 215, 220, 225, 230, 235, 240])"
      ]
     },
     "execution_count": 9,
     "metadata": {},
     "output_type": "execute_result"
    }
   ],
   "source": [
    "step = 5\n",
    "ranges = np.arange(0+step, 240+step, step)\n",
    "ranges"
   ]
  },
  {
   "cell_type": "code",
   "execution_count": 10,
   "id": "c99bc77d-0091-4076-8b7b-0d772cc9fa7b",
   "metadata": {},
   "outputs": [],
   "source": [
    "results_df = pd.DataFrame(files, columns = ['file'])\n",
    "results_df['range'] = [ranges] * len(results_df)\n",
    "# results_df.reset_index(drop=True, inplace=True)\n",
    "results_df = results_df.explode('range', ignore_index=True)\n",
    "# results_df.reset_index(drop=True, inplace=True)"
   ]
  },
  {
   "cell_type": "code",
   "execution_count": 11,
   "id": "74705b4a-4be3-45a4-b673-7eab7aa20edd",
   "metadata": {},
   "outputs": [],
   "source": [
    "pd.set_option('max_colwidth', 40)"
   ]
  },
  {
   "cell_type": "code",
   "execution_count": 12,
   "id": "4dc1500a-7fd6-48d0-b28a-ad98ff860085",
   "metadata": {},
   "outputs": [
    {
     "data": {
      "text/html": [
       "<div>\n",
       "<style scoped>\n",
       "    .dataframe tbody tr th:only-of-type {\n",
       "        vertical-align: middle;\n",
       "    }\n",
       "\n",
       "    .dataframe tbody tr th {\n",
       "        vertical-align: top;\n",
       "    }\n",
       "\n",
       "    .dataframe thead th {\n",
       "        text-align: right;\n",
       "    }\n",
       "</style>\n",
       "<table border=\"1\" class=\"dataframe\">\n",
       "  <thead>\n",
       "    <tr style=\"text-align: right;\">\n",
       "      <th></th>\n",
       "      <th>file</th>\n",
       "      <th>range</th>\n",
       "    </tr>\n",
       "  </thead>\n",
       "  <tbody>\n",
       "    <tr>\n",
       "      <th>0</th>\n",
       "      <td>1000170626.ogg</td>\n",
       "      <td>5</td>\n",
       "    </tr>\n",
       "    <tr>\n",
       "      <th>1</th>\n",
       "      <td>1000170626.ogg</td>\n",
       "      <td>10</td>\n",
       "    </tr>\n",
       "    <tr>\n",
       "      <th>2</th>\n",
       "      <td>1000170626.ogg</td>\n",
       "      <td>15</td>\n",
       "    </tr>\n",
       "    <tr>\n",
       "      <th>3</th>\n",
       "      <td>1000170626.ogg</td>\n",
       "      <td>20</td>\n",
       "    </tr>\n",
       "    <tr>\n",
       "      <th>4</th>\n",
       "      <td>1000170626.ogg</td>\n",
       "      <td>25</td>\n",
       "    </tr>\n",
       "  </tbody>\n",
       "</table>\n",
       "</div>"
      ],
      "text/plain": [
       "             file range\n",
       "0  1000170626.ogg     5\n",
       "1  1000170626.ogg    10\n",
       "2  1000170626.ogg    15\n",
       "3  1000170626.ogg    20\n",
       "4  1000170626.ogg    25"
      ]
     },
     "execution_count": 12,
     "metadata": {},
     "output_type": "execute_result"
    }
   ],
   "source": [
    "results_df.head()"
   ]
  },
  {
   "cell_type": "markdown",
   "id": "d7008b08-071e-4132-9a5a-529897775ebd",
   "metadata": {},
   "source": [
    "### Prepare dataset"
   ]
  },
  {
   "cell_type": "code",
   "execution_count": 13,
   "id": "a3434499-8a6a-4e1c-9044-46545494eaba",
   "metadata": {},
   "outputs": [],
   "source": [
    "from dataset import bird_dataset_inference, read_wav"
   ]
  },
  {
   "cell_type": "code",
   "execution_count": 14,
   "id": "65b4db84-92c9-41ac-a8e9-0ec9ba707c1c",
   "metadata": {},
   "outputs": [
    {
     "data": {
      "text/plain": [
       "8444"
      ]
     },
     "execution_count": 14,
     "metadata": {},
     "output_type": "execute_result"
    }
   ],
   "source": [
    "files = [f for f in sorted(os.listdir(CFG.UNLABELED_FOLDER))]\n",
    "len(files)"
   ]
  },
  {
   "cell_type": "code",
   "execution_count": 15,
   "id": "c59a4f5b-3286-4278-b08a-cac9318c5cfc",
   "metadata": {},
   "outputs": [
    {
     "data": {
      "text/plain": [
       "'1000170626.ogg'"
      ]
     },
     "execution_count": 15,
     "metadata": {},
     "output_type": "execute_result"
    }
   ],
   "source": [
    "files[0]"
   ]
  },
  {
   "cell_type": "code",
   "execution_count": 16,
   "id": "055c5521-6985-470a-b443-461744c7e7d4",
   "metadata": {},
   "outputs": [
    {
     "data": {
      "text/plain": [
       "8444"
      ]
     },
     "execution_count": 16,
     "metadata": {},
     "output_type": "execute_result"
    }
   ],
   "source": [
    "dset = bird_dataset_inference(files, CFG.UNLABELED_FOLDER, CFG)\n",
    "len(dset)"
   ]
  },
  {
   "cell_type": "code",
   "execution_count": 17,
   "id": "39637075-e6a3-4aec-956d-e97b51dd3029",
   "metadata": {},
   "outputs": [
    {
     "data": {
      "text/plain": [
       "(torch.float32, torch.Size([48, 3, 128, 128]), '1000170626.ogg')"
      ]
     },
     "execution_count": 17,
     "metadata": {},
     "output_type": "execute_result"
    }
   ],
   "source": [
    "spect, filename = dset.__getitem__(0)\n",
    "\n",
    "spect.dtype, spect.shape, filename"
   ]
  },
  {
   "cell_type": "code",
   "execution_count": 18,
   "id": "a7156ea2-5368-4d76-9e5a-89d7ec4ffa6f",
   "metadata": {},
   "outputs": [
    {
     "data": {
      "image/png": "[encoded data removed]",
      "text/plain": [
       "<Figure size 1400x400 with 1 Axes>"
      ]
     },
     "metadata": {},
     "output_type": "display_data"
    }
   ],
   "source": [
    "plt.figure(figsize=(14, 4))\n",
    "librosa.display.specshow(spect[0,0].numpy(), y_axis=\"mel\", x_axis='s', sr=CFG.SR)\n",
    "plt.show()"
   ]
  },
  {
   "cell_type": "code",
   "execution_count": 19,
   "id": "9728f277-2a8f-4bbc-b6d2-0a579f2b6d8b",
   "metadata": {},
   "outputs": [
    {
     "data": {
      "text/plain": [
       "torch.Size([3, 128, 128])"
      ]
     },
     "execution_count": 19,
     "metadata": {},
     "output_type": "execute_result"
    }
   ],
   "source": [
    "spect = spect[0]\n",
    "spect.shape"
   ]
  },
  {
   "cell_type": "code",
   "execution_count": 20,
   "id": "d209c3e4-e805-42b6-9e91-cda0b3a2fe10",
   "metadata": {},
   "outputs": [
    {
     "data": {
      "text/plain": [
       "(32, 2)"
      ]
     },
     "execution_count": 20,
     "metadata": {},
     "output_type": "execute_result"
    }
   ],
   "source": [
    "remainder = spect.shape[-1] % 48\n",
    "spect.shape[-1] % 48, spect.shape[-1] // 48"
   ]
  },
  {
   "cell_type": "code",
   "execution_count": 21,
   "id": "7099f8c5-47f4-4606-9197-e741a58e4972",
   "metadata": {},
   "outputs": [
    {
     "data": {
      "text/plain": [
       "(1, torch.Size([3, 128, 96]), torch.Size([3, 128, 96]))"
      ]
     },
     "execution_count": 21,
     "metadata": {},
     "output_type": "execute_result"
    }
   ],
   "source": [
    "splits = torch.split(spect[:,:,:-remainder], 312, dim=-1)\n",
    "len(splits), splits[0].shape, splits[-1].shape"
   ]
  },
  {
   "cell_type": "code",
   "execution_count": 22,
   "id": "94a6a5a2-bad3-45db-9310-b041a30a513c",
   "metadata": {},
   "outputs": [
    {
     "data": {
      "text/plain": [
       "torch.Size([1, 3, 128, 96])"
      ]
     },
     "execution_count": 22,
     "metadata": {},
     "output_type": "execute_result"
    }
   ],
   "source": [
    "splits = torch.stack(splits)\n",
    "splits.shape"
   ]
  },
  {
   "cell_type": "code",
   "execution_count": 23,
   "id": "65b4eba5-ac16-4808-8acb-c71acbc045bc",
   "metadata": {},
   "outputs": [
    {
     "data": {
      "image/png": "[encoded data removed]",
      "text/plain": [
       "<Figure size 640x480 with 1 Axes>"
      ]
     },
     "metadata": {},
     "output_type": "display_data"
    }
   ],
   "source": [
    "librosa.display.specshow(splits[0,0].numpy(), y_axis=\"mel\", x_axis='s', sr=CFG.SR)\n",
    "plt.show()"
   ]
  },
  {
   "cell_type": "markdown",
   "id": "eb7e7154-04d9-467a-ab2f-7c49983a8949",
   "metadata": {},
   "source": [
    "### Dataloader"
   ]
  },
  {
   "cell_type": "code",
   "execution_count": 24,
   "id": "0c1a9bb4-a8cc-4041-a41a-5f787f4c0225",
   "metadata": {},
   "outputs": [],
   "source": [
    "from dataset import bird_dataset_inference"
   ]
  },
  {
   "cell_type": "code",
   "execution_count": 25,
   "id": "d8a1fb5a-c763-450a-b09c-4591d98a9459",
   "metadata": {},
   "outputs": [],
   "source": [
    "def collate_fn(batch):\n",
    "   return  torch.stack([x[0] for x in batch]), torch.stack([x[1] for x in batch])"
   ]
  },
  {
   "cell_type": "code",
   "execution_count": 26,
   "id": "e3764d1d-1922-4cdb-99c6-5b66c6f9e061",
   "metadata": {},
   "outputs": [],
   "source": [
    "class inference_datamodule(pl.LightningDataModule):\n",
    "    def __init__(self, files, directory, cfg=CFG, tfs=None, resize_tf=None):\n",
    "        super().__init__()\n",
    "        \n",
    "        self.files = files\n",
    "        self.dir = directory\n",
    "\n",
    "        self.tfs = tfs\n",
    "        self.resize_tf = resize_tf\n",
    "\n",
    "        self.cfg = cfg\n",
    "\n",
    "        self.bs = self.cfg.BATCH_SIZE\n",
    "        self.num_workers = cfg.num_workers\n",
    "        \n",
    "    def predict_dataloader(self):\n",
    "        ds = bird_dataset_inference(self.files, self.dir, self.cfg)\n",
    "        \n",
    "        train_loader = torch.utils.data.DataLoader(\n",
    "            ds,\n",
    "            batch_size=self.bs,\n",
    "            pin_memory=False,\n",
    "            drop_last=False,\n",
    "            # shuffle=True,\n",
    "            # collate_fn=collate_fn,\n",
    "            persistent_workers=True,\n",
    "            num_workers=self.num_workers,\n",
    "        )\n",
    "        \n",
    "        return train_loader"
   ]
  },
  {
   "cell_type": "code",
   "execution_count": 27,
   "id": "661497a4-86cb-481c-8f7a-7f25a6fd00ca",
   "metadata": {},
   "outputs": [],
   "source": [
    "dm = inference_datamodule(files, CFG.UNLABELED_FOLDER)"
   ]
  },
  {
   "cell_type": "code",
   "execution_count": 28,
   "id": "486806c6-56de-4868-9b5f-1c02a007eed6",
   "metadata": {},
   "outputs": [
    {
     "data": {
      "text/plain": [
       "(torch.Size([4, 48, 3, 128, 128]), torch.float32)"
      ]
     },
     "execution_count": 28,
     "metadata": {},
     "output_type": "execute_result"
    }
   ],
   "source": [
    "x, filenames = next(iter(dm.predict_dataloader()))\n",
    "x.shape, x.dtype"
   ]
  },
  {
   "cell_type": "code",
   "execution_count": 29,
   "id": "6eb8296e-2b69-4138-9e1f-00812c352418",
   "metadata": {},
   "outputs": [
    {
     "data": {
      "text/plain": [
       "torch.Size([192, 3, 128, 128])"
      ]
     },
     "execution_count": 29,
     "metadata": {},
     "output_type": "execute_result"
    }
   ],
   "source": [
    "torch.flatten(x, start_dim=0, end_dim=1).shape"
   ]
  },
  {
   "cell_type": "code",
   "execution_count": 30,
   "id": "fa3f5273-ce87-4703-8f27-d91ae19402c3",
   "metadata": {},
   "outputs": [
    {
     "data": {
      "text/plain": [
       "('1000170626.ogg', '1000308629.ogg', '1000389428.ogg', '1000424265.ogg')"
      ]
     },
     "execution_count": 30,
     "metadata": {},
     "output_type": "execute_result"
    }
   ],
   "source": [
    "filenames"
   ]
  },
  {
   "cell_type": "markdown",
   "id": "73252c6e-478e-4299-a205-4fedc94893c6",
   "metadata": {},
   "source": [
    "### Load model"
   ]
  },
  {
   "cell_type": "code",
   "execution_count": 53,
   "id": "c945998b-8fad-47ba-bb18-2ecfee28caf8",
   "metadata": {},
   "outputs": [],
   "source": [
    "class GeM(torch.nn.Module):\n",
    "    def __init__(self, p=3, eps=1e-6):\n",
    "        super(GeM, self).__init__()\n",
    "        self.p = torch.nn.Parameter(torch.ones(1) * p)\n",
    "        self.eps = eps\n",
    "\n",
    "    def forward(self, x):\n",
    "        bs, ch, h, w = x.shape\n",
    "        x = torch.nn.functional.avg_pool2d(x.clamp(min=self.eps).pow(self.p), (x.size(-2), x.size(-1))).pow(\n",
    "            1.0 / self.p)\n",
    "        x = x.view(bs, ch)\n",
    "        return x\n",
    "\n",
    "class GeMModel(pl.LightningModule):\n",
    "    def __init__(self, cfg = CFG, pretrained = True):\n",
    "        super().__init__()\n",
    "\n",
    "        self.cfg = cfg\n",
    "        \n",
    "        out_indices = (3, 4)\n",
    "\n",
    "        print(self.cfg.model_name)\n",
    "        \n",
    "        self.backbone = timm.create_model(\n",
    "            self.cfg.model_name, \n",
    "            features_only=True,\n",
    "            pretrained=False,\n",
    "            in_chans=3,\n",
    "            num_classes=self.cfg.N_LABELS,\n",
    "            out_indices=out_indices,\n",
    "        )\n",
    "\n",
    "        feature_dims = self.backbone.feature_info.channels()\n",
    "\n",
    "        self.global_pools = torch.nn.ModuleList([GeM() for _ in out_indices])\n",
    "        self.mid_features = np.sum(feature_dims)\n",
    "        \n",
    "        self.neck = torch.nn.BatchNorm1d(self.mid_features)\n",
    "        self.head = torch.nn.Linear(self.mid_features, self.cfg.N_LABELS)\n",
    "\n",
    "    def forward(self, x):\n",
    "        ms = self.backbone(x)\n",
    "        \n",
    "        h = torch.cat([global_pool(m) for m, global_pool in zip(ms, self.global_pools)], dim=1)\n",
    "        x = self.neck(h)\n",
    "        x = self.head(x)\n",
    "        \n",
    "        return x\n",
    "\n",
    "    def predict_step(self, batch):\n",
    "        spects, files = batch\n",
    "        spects = torch.flatten(spects, start_dim=0, end_dim=1)\n",
    "\n",
    "        preds = self(spects)\n",
    "\n",
    "        results_df = pd.DataFrame(files, columns = ['file'])\n",
    "        results_df['range'] = [ranges] * len(results_df)\n",
    "        results_df = results_df.explode('range', ignore_index=True)\n",
    "        results_df['row_id'] = results_df.apply(lambda row: row['file'] + '_' + str(row['range']), axis=1)\n",
    "\n",
    "        topk = preds.sigmoid().topk(3, dim=-1)\n",
    "        \n",
    "        vals = topk[0].cpu().detach().numpy()\n",
    "        idx = topk[1].cpu().detach().numpy()\n",
    "\n",
    "        cols = [f'top_{k+1}' for k in range(3)] + [f'top_{k+1}_idx' for k in range(3)]\n",
    "        vals_df = pd.DataFrame(vals, columns=cols[:3])\n",
    "        idx_df = pd.DataFrame(idx, columns=cols[3:])\n",
    "        \n",
    "        # results = torch.cat(results[0].tolist(), results[1].tolist())\n",
    "\n",
    "        \n",
    "        # preds_df = pd.DataFrame(results, columns=cols)\n",
    "\n",
    "        results_df = pd.concat([results_df, vals_df, idx_df], axis=1)\n",
    "        \n",
    "        # return results_df, preds\n",
    "        return results_df"
   ]
  },
  {
   "cell_type": "code",
   "execution_count": 54,
   "id": "bba3629b-3e5b-4343-bef0-175c2dab5354",
   "metadata": {},
   "outputs": [
    {
     "data": {
      "text/plain": [
       "WindowsPath('E:/data/BirdCLEF/results/ckpt/eca_nfnet_l0 5e-05 30 eps mixup-plain/ep_29_acc_0.60490.ckpt')"
      ]
     },
     "execution_count": 54,
     "metadata": {},
     "output_type": "execute_result"
    }
   ],
   "source": [
    "# model_path = Path(\"E:\\\\data\\\\BirdCLEF\\\\results\\\\Bird-local\\\\g5aw82o5\\\\checkpoints\")\n",
    "model_path = Path(\"E:\\\\data\\\\BirdCLEF\\\\results\\\\ckpt\\\\eca_nfnet_l0 5e-05 30 eps mixup-plain\\\\ep_29_acc_0.60490.ckpt\")\n",
    "\n",
    "# model_path = model_path / os.listdir(model_path)[0]\n",
    "model_path"
   ]
  },
  {
   "cell_type": "code",
   "execution_count": 55,
   "id": "bedd419a-99f7-4084-8d4d-ed95ba857ba1",
   "metadata": {},
   "outputs": [
    {
     "data": {
      "text/plain": [
       "['top_1', 'top_2', 'top_3', 'top_1_idx', 'top_2_idx', 'top_3_idx']"
      ]
     },
     "execution_count": 55,
     "metadata": {},
     "output_type": "execute_result"
    }
   ],
   "source": [
    "([f'top_{k+1}' for k in range(3)] + [f'top_{k+1}_idx' for k in range(3)])"
   ]
  },
  {
   "cell_type": "code",
   "execution_count": 56,
   "id": "4de2d051-1bc0-4136-891e-20ea5a853b1c",
   "metadata": {},
   "outputs": [
    {
     "name": "stdout",
     "output_type": "stream",
     "text": [
      "eca_nfnet_l0\n"
     ]
    }
   ],
   "source": [
    "model = GeMModel.load_from_checkpoint(model_path)"
   ]
  },
  {
   "cell_type": "markdown",
   "id": "d5b4c844-b7f8-42ad-b00f-340364a7836f",
   "metadata": {},
   "source": [
    "### Predict"
   ]
  },
  {
   "cell_type": "code",
   "execution_count": 57,
   "id": "f0b59820-10e9-43fd-bca1-12b68dce40ce",
   "metadata": {},
   "outputs": [
    {
     "data": {
      "text/plain": [
       "8444"
      ]
     },
     "execution_count": 57,
     "metadata": {},
     "output_type": "execute_result"
    }
   ],
   "source": [
    "files = [f for f in sorted(os.listdir(CFG.UNLABELED_FOLDER))]\n",
    "len(files)"
   ]
  },
  {
   "cell_type": "code",
   "execution_count": 58,
   "id": "72ca8abc-3e45-4ba6-84ab-ecf8832713b7",
   "metadata": {},
   "outputs": [
    {
     "data": {
      "text/plain": [
       "'1000170626.ogg'"
      ]
     },
     "execution_count": 58,
     "metadata": {},
     "output_type": "execute_result"
    }
   ],
   "source": [
    "files[0]"
   ]
  },
  {
   "cell_type": "code",
   "execution_count": 59,
   "id": "6d3da483-c7c9-48b0-a589-b39f410b19f9",
   "metadata": {},
   "outputs": [],
   "source": [
    "# dm = inference_datamodule(files[:10], CFG.UNLABELED_FOLDER)\n",
    "dm = inference_datamodule(files, CFG.UNLABELED_FOLDER)"
   ]
  },
  {
   "cell_type": "code",
   "execution_count": 60,
   "id": "db5460e5-c235-44d1-833c-e122f9324b30",
   "metadata": {
    "scrolled": true
   },
   "outputs": [
    {
     "name": "stderr",
     "output_type": "stream",
     "text": [
      "GPU available: True (cuda), used: True\n",
      "TPU available: False, using: 0 TPU cores\n",
      "IPU available: False, using: 0 IPUs\n",
      "HPU available: False, using: 0 HPUs\n",
      "LOCAL_RANK: 0 - CUDA_VISIBLE_DEVICES: [0]\n"
     ]
    },
    {
     "data": {
      "application/vnd.jupyter.widget-view+json": {
       "model_id": "3bce0cbe6c8e472d8ff258939faaa19c",
       "version_major": 2,
       "version_minor": 0
      },
      "text/plain": [
       "Predicting: |                                                                             | 0/? [00:00<?, ?it/…"
      ]
     },
     "metadata": {},
     "output_type": "display_data"
    },
    {
     "data": {
      "text/plain": [
       "2111"
      ]
     },
     "execution_count": 60,
     "metadata": {},
     "output_type": "execute_result"
    }
   ],
   "source": [
    "trainer = pl.Trainer()\n",
    "predictions = trainer.predict(model, dataloaders=dm)\n",
    "len(predictions)"
   ]
  },
  {
   "cell_type": "code",
   "execution_count": 38,
   "id": "d1867c2e-35d3-4797-b21a-aea3ea1fc70e",
   "metadata": {},
   "outputs": [],
   "source": [
    "# data = predictions[0][1]\n",
    "# data.shape"
   ]
  },
  {
   "cell_type": "code",
   "execution_count": 39,
   "id": "84fdef27-5566-4656-a077-4d62900f7bc6",
   "metadata": {},
   "outputs": [],
   "source": [
    "# data_df = pd.DataFrame(data.softmax(dim=-1).numpy(), columns=CFG.LABELS)\n",
    "# data_df.head()"
   ]
  },
  {
   "cell_type": "code",
   "execution_count": 61,
   "id": "370cfa20-2f24-419c-817f-256579c4edd3",
   "metadata": {},
   "outputs": [
    {
     "data": {
      "text/plain": [
       "2111"
      ]
     },
     "execution_count": 61,
     "metadata": {},
     "output_type": "execute_result"
    }
   ],
   "source": [
    "len(predictions)"
   ]
  },
  {
   "cell_type": "code",
   "execution_count": 62,
   "id": "aa0110b0-c4d2-4b9e-a49a-629aa0680ae5",
   "metadata": {},
   "outputs": [
    {
     "data": {
      "text/plain": [
       "(405312, 9)"
      ]
     },
     "execution_count": 62,
     "metadata": {},
     "output_type": "execute_result"
    }
   ],
   "source": [
    "predictions = pd.concat(predictions, ignore_index=True)\n",
    "predictions.shape"
   ]
  },
  {
   "cell_type": "code",
   "execution_count": 63,
   "id": "76abdffa-8fed-4504-8a8a-e61545ef9e1e",
   "metadata": {},
   "outputs": [
    {
     "data": {
      "text/plain": [
       "(405312, 9)"
      ]
     },
     "execution_count": 63,
     "metadata": {},
     "output_type": "execute_result"
    }
   ],
   "source": [
    "predictions.shape"
   ]
  },
  {
   "cell_type": "code",
   "execution_count": 78,
   "id": "98380792-4895-43a0-8dbb-e481b68d7cff",
   "metadata": {},
   "outputs": [
    {
     "data": {
      "text/html": [
       "<div>\n",
       "<style scoped>\n",
       "    .dataframe tbody tr th:only-of-type {\n",
       "        vertical-align: middle;\n",
       "    }\n",
       "\n",
       "    .dataframe tbody tr th {\n",
       "        vertical-align: top;\n",
       "    }\n",
       "\n",
       "    .dataframe thead th {\n",
       "        text-align: right;\n",
       "    }\n",
       "</style>\n",
       "<table border=\"1\" class=\"dataframe\">\n",
       "  <thead>\n",
       "    <tr style=\"text-align: right;\">\n",
       "      <th></th>\n",
       "      <th>filename</th>\n",
       "      <th>range</th>\n",
       "      <th>top_1</th>\n",
       "      <th>top_2</th>\n",
       "      <th>top_3</th>\n",
       "      <th>top_1_idx</th>\n",
       "      <th>top_2_idx</th>\n",
       "      <th>top_3_idx</th>\n",
       "    </tr>\n",
       "  </thead>\n",
       "  <tbody>\n",
       "    <tr>\n",
       "      <th>222678</th>\n",
       "      <td>E:\\data\\BirdCLEF\\unlabeled_soundscap...</td>\n",
       "      <td>35</td>\n",
       "      <td>0.081711</td>\n",
       "      <td>0.045561</td>\n",
       "      <td>0.037761</td>\n",
       "      <td>142</td>\n",
       "      <td>10</td>\n",
       "      <td>50</td>\n",
       "    </tr>\n",
       "    <tr>\n",
       "      <th>272846</th>\n",
       "      <td>E:\\data\\BirdCLEF\\unlabeled_soundscap...</td>\n",
       "      <td>75</td>\n",
       "      <td>0.203893</td>\n",
       "      <td>0.041404</td>\n",
       "      <td>0.034239</td>\n",
       "      <td>10</td>\n",
       "      <td>149</td>\n",
       "      <td>73</td>\n",
       "    </tr>\n",
       "    <tr>\n",
       "      <th>228668</th>\n",
       "      <td>E:\\data\\BirdCLEF\\unlabeled_soundscap...</td>\n",
       "      <td>225</td>\n",
       "      <td>0.214347</td>\n",
       "      <td>0.209631</td>\n",
       "      <td>0.031574</td>\n",
       "      <td>136</td>\n",
       "      <td>24</td>\n",
       "      <td>38</td>\n",
       "    </tr>\n",
       "    <tr>\n",
       "      <th>357816</th>\n",
       "      <td>E:\\data\\BirdCLEF\\unlabeled_soundscap...</td>\n",
       "      <td>125</td>\n",
       "      <td>0.360511</td>\n",
       "      <td>0.268081</td>\n",
       "      <td>0.070570</td>\n",
       "      <td>30</td>\n",
       "      <td>10</td>\n",
       "      <td>69</td>\n",
       "    </tr>\n",
       "    <tr>\n",
       "      <th>251869</th>\n",
       "      <td>E:\\data\\BirdCLEF\\unlabeled_soundscap...</td>\n",
       "      <td>70</td>\n",
       "      <td>0.195408</td>\n",
       "      <td>0.073489</td>\n",
       "      <td>0.057515</td>\n",
       "      <td>73</td>\n",
       "      <td>67</td>\n",
       "      <td>177</td>\n",
       "    </tr>\n",
       "  </tbody>\n",
       "</table>\n",
       "</div>"
      ],
      "text/plain": [
       "                                       filename range     top_1     top_2  \\\n",
       "222678  E:\\data\\BirdCLEF\\unlabeled_soundscap...    35  0.081711  0.045561   \n",
       "272846  E:\\data\\BirdCLEF\\unlabeled_soundscap...    75  0.203893  0.041404   \n",
       "228668  E:\\data\\BirdCLEF\\unlabeled_soundscap...   225  0.214347  0.209631   \n",
       "357816  E:\\data\\BirdCLEF\\unlabeled_soundscap...   125  0.360511  0.268081   \n",
       "251869  E:\\data\\BirdCLEF\\unlabeled_soundscap...    70  0.195408  0.073489   \n",
       "\n",
       "           top_3  top_1_idx  top_2_idx  top_3_idx  \n",
       "222678  0.037761        142         10         50  \n",
       "272846  0.034239         10        149         73  \n",
       "228668  0.031574        136         24         38  \n",
       "357816  0.070570         30         10         69  \n",
       "251869  0.057515         73         67        177  "
      ]
     },
     "execution_count": 78,
     "metadata": {},
     "output_type": "execute_result"
    }
   ],
   "source": [
    "predictions.sample(5)"
   ]
  },
  {
   "cell_type": "code",
   "execution_count": 67,
   "id": "6dfd5bba-5b54-403f-9ed8-d3501928e7f1",
   "metadata": {},
   "outputs": [
    {
     "data": {
      "text/plain": [
       "(10366, 9)"
      ]
     },
     "execution_count": 67,
     "metadata": {},
     "output_type": "execute_result"
    }
   ],
   "source": [
    "predictions[predictions['top_1'] > 0.9].shape"
   ]
  },
  {
   "cell_type": "code",
   "execution_count": 86,
   "id": "3cddbf66-77f6-4a8e-a78c-0779a712c026",
   "metadata": {},
   "outputs": [
    {
     "data": {
      "text/plain": [
       "(155241, 8)"
      ]
     },
     "execution_count": 86,
     "metadata": {},
     "output_type": "execute_result"
    }
   ],
   "source": [
    "predictions[predictions['top_1'] < 0.2].shape"
   ]
  },
  {
   "cell_type": "code",
   "execution_count": 87,
   "id": "71cfeafb-8eff-4a79-82a1-893a299d1df7",
   "metadata": {},
   "outputs": [
    {
     "data": {
      "text/html": [
       "<div>\n",
       "<style scoped>\n",
       "    .dataframe tbody tr th:only-of-type {\n",
       "        vertical-align: middle;\n",
       "    }\n",
       "\n",
       "    .dataframe tbody tr th {\n",
       "        vertical-align: top;\n",
       "    }\n",
       "\n",
       "    .dataframe thead th {\n",
       "        text-align: right;\n",
       "    }\n",
       "</style>\n",
       "<table border=\"1\" class=\"dataframe\">\n",
       "  <thead>\n",
       "    <tr style=\"text-align: right;\">\n",
       "      <th></th>\n",
       "      <th>filename</th>\n",
       "      <th>range</th>\n",
       "      <th>top_1</th>\n",
       "      <th>top_2</th>\n",
       "      <th>top_3</th>\n",
       "      <th>top_1_idx</th>\n",
       "      <th>top_2_idx</th>\n",
       "      <th>top_3_idx</th>\n",
       "    </tr>\n",
       "  </thead>\n",
       "  <tbody>\n",
       "    <tr>\n",
       "      <th>87173</th>\n",
       "      <td>E:\\data\\BirdCLEF\\unlabeled_soundscap...</td>\n",
       "      <td>30</td>\n",
       "      <td>0.088910</td>\n",
       "      <td>0.071029</td>\n",
       "      <td>0.048530</td>\n",
       "      <td>30</td>\n",
       "      <td>73</td>\n",
       "      <td>155</td>\n",
       "    </tr>\n",
       "    <tr>\n",
       "      <th>204278</th>\n",
       "      <td>E:\\data\\BirdCLEF\\unlabeled_soundscap...</td>\n",
       "      <td>195</td>\n",
       "      <td>0.046671</td>\n",
       "      <td>0.036199</td>\n",
       "      <td>0.029810</td>\n",
       "      <td>10</td>\n",
       "      <td>51</td>\n",
       "      <td>1</td>\n",
       "    </tr>\n",
       "    <tr>\n",
       "      <th>131884</th>\n",
       "      <td>E:\\data\\BirdCLEF\\unlabeled_soundscap...</td>\n",
       "      <td>145</td>\n",
       "      <td>0.085949</td>\n",
       "      <td>0.039331</td>\n",
       "      <td>0.037648</td>\n",
       "      <td>44</td>\n",
       "      <td>73</td>\n",
       "      <td>30</td>\n",
       "    </tr>\n",
       "    <tr>\n",
       "      <th>398853</th>\n",
       "      <td>E:\\data\\BirdCLEF\\unlabeled_soundscap...</td>\n",
       "      <td>110</td>\n",
       "      <td>0.061466</td>\n",
       "      <td>0.059454</td>\n",
       "      <td>0.038423</td>\n",
       "      <td>73</td>\n",
       "      <td>177</td>\n",
       "      <td>1</td>\n",
       "    </tr>\n",
       "  </tbody>\n",
       "</table>\n",
       "</div>"
      ],
      "text/plain": [
       "                                       filename range     top_1     top_2  \\\n",
       "87173   E:\\data\\BirdCLEF\\unlabeled_soundscap...    30  0.088910  0.071029   \n",
       "204278  E:\\data\\BirdCLEF\\unlabeled_soundscap...   195  0.046671  0.036199   \n",
       "131884  E:\\data\\BirdCLEF\\unlabeled_soundscap...   145  0.085949  0.039331   \n",
       "398853  E:\\data\\BirdCLEF\\unlabeled_soundscap...   110  0.061466  0.059454   \n",
       "\n",
       "           top_3  top_1_idx  top_2_idx  top_3_idx  \n",
       "87173   0.048530         30         73        155  \n",
       "204278  0.029810         10         51          1  \n",
       "131884  0.037648         44         73         30  \n",
       "398853  0.038423         73        177          1  "
      ]
     },
     "execution_count": 87,
     "metadata": {},
     "output_type": "execute_result"
    }
   ],
   "source": [
    "predictions[predictions['top_1'] < 0.1].sample(4)"
   ]
  },
  {
   "cell_type": "code",
   "execution_count": null,
   "id": "e5979cb5-d12e-4c83-9d0f-8d50f23357ee",
   "metadata": {},
   "outputs": [],
   "source": []
  },
  {
   "cell_type": "code",
   "execution_count": 44,
   "id": "3f5ddad3-b2aa-4043-a283-323dbe3a1da5",
   "metadata": {},
   "outputs": [],
   "source": [
    "# predictions['row_id'] = predictions.apply(lambda row: row['file'] + '_' + str(row['range']), axis=1)"
   ]
  },
  {
   "cell_type": "code",
   "execution_count": 45,
   "id": "7033e7e9-56a7-471a-9c20-a8597bf1a894",
   "metadata": {},
   "outputs": [],
   "source": [
    "# predictions[predictions['score'] > 0.95].shape"
   ]
  },
  {
   "cell_type": "code",
   "execution_count": null,
   "id": "beb9a63a-b53c-4fc0-ac6a-17e022529f9b",
   "metadata": {},
   "outputs": [],
   "source": [
    "# predictions['score'].hist()"
   ]
  },
  {
   "cell_type": "markdown",
   "id": "2a6e9ad8-6975-4408-b66e-1b586048b011",
   "metadata": {},
   "source": [
    "### Save"
   ]
  },
  {
   "cell_type": "code",
   "execution_count": 69,
   "id": "7cb4a5f9-9f76-49e2-82ad-1d0a0b243f7a",
   "metadata": {},
   "outputs": [],
   "source": [
    "predictions.drop('row_id', axis=1, inplace=True)"
   ]
  },
  {
   "cell_type": "code",
   "execution_count": 72,
   "id": "8b296082-e1ef-4d10-8508-2303614cf76a",
   "metadata": {
    "lines_to_next_cell": 2
   },
   "outputs": [],
   "source": [
    "predictions.rename(columns={'file': 'filename'}, inplace=True)"
   ]
  },
  {
   "cell_type": "code",
   "execution_count": 76,
   "id": "59a23cf4-0428-4033-9153-966c2e41f9c0",
   "metadata": {},
   "outputs": [],
   "source": [
    "predictions['filename']  = f'{CFG.UNLABELED_FOLDER}\\\\' + predictions['filename']"
   ]
  },
  {
   "cell_type": "code",
   "execution_count": 77,
   "id": "d2c21a46-6354-4373-a907-1e6331e4daec",
   "metadata": {},
   "outputs": [],
   "source": [
    "predictions.to_csv(train_dir / \"predictions.csv\", index=False)"
   ]
  },
  {
   "cell_type": "code",
   "execution_count": null,
   "id": "1b71cb2a-d388-41d6-bd05-25628b94a5ea",
   "metadata": {},
   "outputs": [],
   "source": []
  },
  {
   "cell_type": "code",
   "execution_count": null,
   "id": "48d418dd-7e16-4c5d-b452-9ff964c9d5c2",
   "metadata": {},
   "outputs": [],
   "source": []
  },
  {
   "cell_type": "code",
   "execution_count": null,
   "id": "c196cfc7-f150-47bb-ae9f-4729057dc43d",
   "metadata": {},
   "outputs": [],
   "source": []
  },
  {
   "cell_type": "code",
   "execution_count": null,
   "id": "939849a0-2116-48b8-a2a5-7354f215e47b",
   "metadata": {},
   "outputs": [],
   "source": []
  }
 ],
 "metadata": {
  "kernelspec": {
   "display_name": "Python 3 (ipykernel)",
   "language": "python",
   "name": "python3"
  },
  "language_info": {
   "codemirror_mode": {
    "name": "ipython",
    "version": 3
   },
   "file_extension": ".py",
   "mimetype": "text/x-python",
   "name": "python",
   "nbconvert_exporter": "python",
   "pygments_lexer": "ipython3",
   "version": "3.10.14"
  }
 },
 "nbformat": 4,
 "nbformat_minor": 5
}
