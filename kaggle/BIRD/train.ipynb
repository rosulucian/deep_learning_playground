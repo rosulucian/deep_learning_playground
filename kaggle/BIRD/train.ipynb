{
 "cells": [
  {
   "cell_type": "code",
   "execution_count": 1,
   "id": "a37e79bb-d402-4897-af86-2203cad3bf87",
   "metadata": {},
   "outputs": [],
   "source": [
    "%load_ext autoreload\n",
    "%autoreload 2"
   ]
  },
  {
   "cell_type": "code",
   "execution_count": 2,
   "id": "ea156307-6fbf-48da-b9c0-e70e94b96fd1",
   "metadata": {},
   "outputs": [],
   "source": [
    "import os\n",
    "import time\n",
    "import wandb\n",
    "import torch\n",
    "import random\n",
    "import pickle\n",
    "import imageio\n",
    "import librosa\n",
    "import torchvision\n",
    "\n",
    "import numpy as np\n",
    "import pandas as pd\n",
    "import torchmetrics as tm \n",
    "import plotly.express as px\n",
    "import pytorch_lightning as pl\n",
    "import matplotlib.pyplot as plt\n",
    "\n",
    "from torch import nn\n",
    "from pathlib import Path\n",
    "from IPython.display import Audio\n",
    "from torch.utils.data import Dataset, DataLoader\n",
    "from torch.optim import Adam, AdamW, RMSprop # optmizers\n",
    "from sklearn.model_selection import train_test_split\n",
    "from torch.optim.lr_scheduler import CosineAnnealingLR, ReduceLROnPlateau # Learning rate schedulers\n",
    "\n",
    "import albumentations as A\n",
    "# from albumentations.pytorch import ToTensorV2\n",
    "\n",
    "import timm"
   ]
  },
  {
   "cell_type": "code",
   "execution_count": 3,
   "id": "8a49f649-3fc2-49f8-8fa2-fcba498c1501",
   "metadata": {},
   "outputs": [
    {
     "name": "stdout",
     "output_type": "stream",
     "text": [
      "timm version 0.9.16\n",
      "torch version 2.3.0\n"
     ]
    }
   ],
   "source": [
    "print('timm version', timm.__version__)\n",
    "print('torch version', torch.__version__)"
   ]
  },
  {
   "cell_type": "code",
   "execution_count": 4,
   "id": "61f812e1-b9e5-4ef2-be3f-34fcea9db910",
   "metadata": {},
   "outputs": [],
   "source": [
    "# print(os.getenv('wandb_api_key'))"
   ]
  },
  {
   "cell_type": "code",
   "execution_count": 5,
   "id": "5d3aeb40-5940-4a88-a572-38f037e0e09e",
   "metadata": {},
   "outputs": [
    {
     "name": "stderr",
     "output_type": "stream",
     "text": [
      "wandb: Currently logged in as: rosu-lucian. Use `wandb login --relogin` to force relogin\n",
      "wandb: WARNING If you're specifying your api key in code, ensure this code is not shared publicly.\n",
      "wandb: WARNING Consider setting the WANDB_API_KEY environment variable, or running `wandb login` from the command line.\n",
      "wandb: Appending key for api.wandb.ai to your netrc file: C:\\Users\\Asus\\.netrc\n"
     ]
    },
    {
     "data": {
      "text/plain": [
       "True"
      ]
     },
     "execution_count": 5,
     "metadata": {},
     "output_type": "execute_result"
    }
   ],
   "source": [
    "wandb.login(key=os.getenv('wandb_api_key'))"
   ]
  },
  {
   "cell_type": "code",
   "execution_count": 6,
   "id": "eb38df7d-59a5-4e53-94b6-252ff496f97e",
   "metadata": {},
   "outputs": [
    {
     "name": "stdout",
     "output_type": "stream",
     "text": [
      "cuda\n"
     ]
    }
   ],
   "source": [
    "# detect and define device \n",
    "device = torch.device('cuda' if torch.cuda.is_available() else 'cpu')\n",
    "\n",
    "print(device)"
   ]
  },
  {
   "cell_type": "markdown",
   "id": "75b0e781-740f-40a5-b93a-4e7e28a1d67c",
   "metadata": {},
   "source": [
    "### Config"
   ]
  },
  {
   "cell_type": "code",
   "execution_count": 7,
   "id": "c47e5271-b4dc-4b95-92a5-70bb0581c8e8",
   "metadata": {},
   "outputs": [],
   "source": [
    "train_dir = Path('E:\\data\\BirdCLEF')"
   ]
  },
  {
   "cell_type": "code",
   "execution_count": 8,
   "id": "a57329f6-9afe-400f-ade6-ab779e2ee7b2",
   "metadata": {},
   "outputs": [
    {
     "name": "stdout",
     "output_type": "stream",
     "text": [
      "# labels: 182\n"
     ]
    },
    {
     "data": {
      "text/html": [
       "<div>\n",
       "<style scoped>\n",
       "    .dataframe tbody tr th:only-of-type {\n",
       "        vertical-align: middle;\n",
       "    }\n",
       "\n",
       "    .dataframe tbody tr th {\n",
       "        vertical-align: top;\n",
       "    }\n",
       "\n",
       "    .dataframe thead th {\n",
       "        text-align: right;\n",
       "    }\n",
       "</style>\n",
       "<table border=\"1\" class=\"dataframe\">\n",
       "  <thead>\n",
       "    <tr style=\"text-align: right;\">\n",
       "      <th></th>\n",
       "      <th>row_id</th>\n",
       "      <th>asbfly</th>\n",
       "      <th>ashdro1</th>\n",
       "      <th>ashpri1</th>\n",
       "      <th>ashwoo2</th>\n",
       "      <th>asikoe2</th>\n",
       "      <th>asiope1</th>\n",
       "      <th>aspfly1</th>\n",
       "      <th>aspswi1</th>\n",
       "      <th>barfly1</th>\n",
       "      <th>...</th>\n",
       "      <th>whbwoo2</th>\n",
       "      <th>whcbar1</th>\n",
       "      <th>whiter2</th>\n",
       "      <th>whrmun</th>\n",
       "      <th>whtkin2</th>\n",
       "      <th>woosan</th>\n",
       "      <th>wynlau1</th>\n",
       "      <th>yebbab1</th>\n",
       "      <th>yebbul3</th>\n",
       "      <th>zitcis1</th>\n",
       "    </tr>\n",
       "  </thead>\n",
       "  <tbody>\n",
       "    <tr>\n",
       "      <th>0</th>\n",
       "      <td>soundscape_1446779_5</td>\n",
       "      <td>0.005495</td>\n",
       "      <td>0.005495</td>\n",
       "      <td>0.005495</td>\n",
       "      <td>0.005495</td>\n",
       "      <td>0.005495</td>\n",
       "      <td>0.005495</td>\n",
       "      <td>0.005495</td>\n",
       "      <td>0.005495</td>\n",
       "      <td>0.005495</td>\n",
       "      <td>...</td>\n",
       "      <td>0.005495</td>\n",
       "      <td>0.005495</td>\n",
       "      <td>0.005495</td>\n",
       "      <td>0.005495</td>\n",
       "      <td>0.005495</td>\n",
       "      <td>0.005495</td>\n",
       "      <td>0.005495</td>\n",
       "      <td>0.005495</td>\n",
       "      <td>0.005495</td>\n",
       "      <td>0.005495</td>\n",
       "    </tr>\n",
       "    <tr>\n",
       "      <th>1</th>\n",
       "      <td>soundscape_1446779_10</td>\n",
       "      <td>0.005495</td>\n",
       "      <td>0.005495</td>\n",
       "      <td>0.005495</td>\n",
       "      <td>0.005495</td>\n",
       "      <td>0.005495</td>\n",
       "      <td>0.005495</td>\n",
       "      <td>0.005495</td>\n",
       "      <td>0.005495</td>\n",
       "      <td>0.005495</td>\n",
       "      <td>...</td>\n",
       "      <td>0.005495</td>\n",
       "      <td>0.005495</td>\n",
       "      <td>0.005495</td>\n",
       "      <td>0.005495</td>\n",
       "      <td>0.005495</td>\n",
       "      <td>0.005495</td>\n",
       "      <td>0.005495</td>\n",
       "      <td>0.005495</td>\n",
       "      <td>0.005495</td>\n",
       "      <td>0.005495</td>\n",
       "    </tr>\n",
       "    <tr>\n",
       "      <th>2</th>\n",
       "      <td>soundscape_1446779_15</td>\n",
       "      <td>0.005495</td>\n",
       "      <td>0.005495</td>\n",
       "      <td>0.005495</td>\n",
       "      <td>0.005495</td>\n",
       "      <td>0.005495</td>\n",
       "      <td>0.005495</td>\n",
       "      <td>0.005495</td>\n",
       "      <td>0.005495</td>\n",
       "      <td>0.005495</td>\n",
       "      <td>...</td>\n",
       "      <td>0.005495</td>\n",
       "      <td>0.005495</td>\n",
       "      <td>0.005495</td>\n",
       "      <td>0.005495</td>\n",
       "      <td>0.005495</td>\n",
       "      <td>0.005495</td>\n",
       "      <td>0.005495</td>\n",
       "      <td>0.005495</td>\n",
       "      <td>0.005495</td>\n",
       "      <td>0.005495</td>\n",
       "    </tr>\n",
       "  </tbody>\n",
       "</table>\n",
       "<p>3 rows × 183 columns</p>\n",
       "</div>"
      ],
      "text/plain": [
       "                  row_id    asbfly   ashdro1   ashpri1   ashwoo2   asikoe2  \\\n",
       "0   soundscape_1446779_5  0.005495  0.005495  0.005495  0.005495  0.005495   \n",
       "1  soundscape_1446779_10  0.005495  0.005495  0.005495  0.005495  0.005495   \n",
       "2  soundscape_1446779_15  0.005495  0.005495  0.005495  0.005495  0.005495   \n",
       "\n",
       "    asiope1   aspfly1   aspswi1   barfly1  ...   whbwoo2   whcbar1   whiter2  \\\n",
       "0  0.005495  0.005495  0.005495  0.005495  ...  0.005495  0.005495  0.005495   \n",
       "1  0.005495  0.005495  0.005495  0.005495  ...  0.005495  0.005495  0.005495   \n",
       "2  0.005495  0.005495  0.005495  0.005495  ...  0.005495  0.005495  0.005495   \n",
       "\n",
       "     whrmun   whtkin2    woosan   wynlau1   yebbab1   yebbul3   zitcis1  \n",
       "0  0.005495  0.005495  0.005495  0.005495  0.005495  0.005495  0.005495  \n",
       "1  0.005495  0.005495  0.005495  0.005495  0.005495  0.005495  0.005495  \n",
       "2  0.005495  0.005495  0.005495  0.005495  0.005495  0.005495  0.005495  \n",
       "\n",
       "[3 rows x 183 columns]"
      ]
     },
     "metadata": {},
     "output_type": "display_data"
    }
   ],
   "source": [
    "class CFG:\n",
    "    DEBUG = False # True False\n",
    "\n",
    "    # Competition Root Folder\n",
    "    ROOT_FOLDER = train_dir\n",
    "    AUDIO_FOLDER = train_dir / 'train_audio'\n",
    "    DATA_DIR = train_dir / 'spectros'\n",
    "    TRAN_CSV = train_dir / 'train_metadata.csv'\n",
    "    RESULTS_DIR = train_dir / 'results'\n",
    "    CKPT_DIR = train_dir / 'ckpt'\n",
    "\n",
    "    num_workers = 12\n",
    "    # Maximum decibel to clip audio to\n",
    "    TOP_DB = 100\n",
    "    # Minimum rating\n",
    "    MIN_RATING = 3.0\n",
    "    # Sample rate as provided in competition description\n",
    "    SR = 32000\n",
    "\n",
    "    image_size = 128\n",
    "    \n",
    "    ### split train and validation sets\n",
    "    split_fraction = 0.95\n",
    "    \n",
    "    ### model\n",
    "    model_name = 'eca_nfnet_l0' # 'resnet34', 'resnet200d', 'efficientnet_b1_pruned', 'efficientnetv2_m', efficientnet_b7 ...  \n",
    "    \n",
    "    ### training\n",
    "    BATCH_SIZE = 128\n",
    "    # N_EPOCHS = 3 if DEBUG else 40\n",
    "    N_EPOCHS = 20\n",
    "    LEARNING_RATE = 1e-5\n",
    "    \n",
    "    ### set only one to True\n",
    "    save_best_loss = False\n",
    "    save_best_accuracy = True\n",
    "    \n",
    "    ### optimizer\n",
    "    #   optimizer = 'adam'\n",
    "    # optimizer = 'adamw'\n",
    "    optimizer = 'rmsprop'\n",
    "    \n",
    "    weight_decay = 1e-6 # for adamw\n",
    "    l2_penalty = 0.01 # for RMSprop\n",
    "    rms_momentum = 0 # for RMSprop\n",
    "    \n",
    "    ### learning rate scheduler (LRS)\n",
    "    scheduler = 'ReduceLROnPlateau'\n",
    "    #   scheduler = 'CosineAnnealingLR'\n",
    "    plateau_factor = 0.5\n",
    "    plateau_patience = 3\n",
    "    cosine_T_max = 4\n",
    "    cosine_eta_min = 1e-8\n",
    "    verbose = True\n",
    "\n",
    "    device = 'cuda' if torch.cuda.is_available() else 'cpu'\n",
    "    \n",
    "    random_seed = 42\n",
    "\n",
    "    comment = 'first'\n",
    "\n",
    "mel_spec_params = {\n",
    "    \"sample_rate\": CFG.SR,\n",
    "    \"n_mels\": 128,\n",
    "    \"f_min\": 20,\n",
    "    \"f_max\": CFG.SR / 2,\n",
    "    \"n_fft\": 2048,\n",
    "    \"hop_length\": 512,\n",
    "    \"normalized\": True,\n",
    "    \"center\" : True,\n",
    "    \"pad_mode\" : \"constant\",\n",
    "    \"norm\" : \"slaney\",\n",
    "    \"mel_scale\" : \"slaney\"\n",
    "}\n",
    "\n",
    "CFG.mel_spec_params = mel_spec_params\n",
    "\n",
    "sample_submission = pd.read_csv(train_dir / 'sample_submission.csv')\n",
    "\n",
    "# Set labels\n",
    "CFG.LABELS = sample_submission.columns[1:]\n",
    "CFG.N_LABELS = len(CFG.LABELS)\n",
    "print(f'# labels: {CFG.N_LABELS}')\n",
    "\n",
    "display(sample_submission.head())"
   ]
  },
  {
   "cell_type": "code",
   "execution_count": 9,
   "id": "5ffbc880-7f6e-4467-a62f-ab2a669d2bf0",
   "metadata": {},
   "outputs": [],
   "source": [
    "# for reproducibility\n",
    "def seed_torch(seed):\n",
    "    random.seed(seed)\n",
    "    os.environ['PYTHONHASHSEED'] = str(seed)\n",
    "    np.random.seed(seed)\n",
    "    torch.manual_seed(seed)\n",
    "    torch.cuda.manual_seed(seed)\n",
    "    torch.backends.cudnn.deterministic = True\n",
    "\n",
    "seed_torch(seed = CFG.random_seed)"
   ]
  },
  {
   "cell_type": "code",
   "execution_count": 10,
   "id": "22264774-8b70-4390-937e-4b5fa7180feb",
   "metadata": {},
   "outputs": [
    {
     "data": {
      "text/html": [
       "<div>\n",
       "<style scoped>\n",
       "    .dataframe tbody tr th:only-of-type {\n",
       "        vertical-align: middle;\n",
       "    }\n",
       "\n",
       "    .dataframe tbody tr th {\n",
       "        vertical-align: top;\n",
       "    }\n",
       "\n",
       "    .dataframe thead th {\n",
       "        text-align: right;\n",
       "    }\n",
       "</style>\n",
       "<table border=\"1\" class=\"dataframe\">\n",
       "  <thead>\n",
       "    <tr style=\"text-align: right;\">\n",
       "      <th></th>\n",
       "      <th>primary_label</th>\n",
       "      <th>secondary_labels</th>\n",
       "      <th>type</th>\n",
       "      <th>latitude</th>\n",
       "      <th>longitude</th>\n",
       "      <th>scientific_name</th>\n",
       "      <th>common_name</th>\n",
       "      <th>author</th>\n",
       "      <th>license</th>\n",
       "      <th>rating</th>\n",
       "      <th>url</th>\n",
       "      <th>filename</th>\n",
       "    </tr>\n",
       "  </thead>\n",
       "  <tbody>\n",
       "    <tr>\n",
       "      <th>0</th>\n",
       "      <td>asbfly</td>\n",
       "      <td>[]</td>\n",
       "      <td>['call']</td>\n",
       "      <td>39.2297</td>\n",
       "      <td>118.1987</td>\n",
       "      <td>Muscicapa dauurica</td>\n",
       "      <td>Asian Brown Flycatcher</td>\n",
       "      <td>Matt Slaymaker</td>\n",
       "      <td>Creative Commons Attribution-NonCommercial-Sha...</td>\n",
       "      <td>5.0</td>\n",
       "      <td>https://www.xeno-canto.org/134896</td>\n",
       "      <td>asbfly/XC134896.ogg</td>\n",
       "    </tr>\n",
       "    <tr>\n",
       "      <th>1</th>\n",
       "      <td>asbfly</td>\n",
       "      <td>[]</td>\n",
       "      <td>['song']</td>\n",
       "      <td>51.4030</td>\n",
       "      <td>104.6401</td>\n",
       "      <td>Muscicapa dauurica</td>\n",
       "      <td>Asian Brown Flycatcher</td>\n",
       "      <td>Magnus Hellström</td>\n",
       "      <td>Creative Commons Attribution-NonCommercial-Sha...</td>\n",
       "      <td>2.5</td>\n",
       "      <td>https://www.xeno-canto.org/164848</td>\n",
       "      <td>asbfly/XC164848.ogg</td>\n",
       "    </tr>\n",
       "  </tbody>\n",
       "</table>\n",
       "</div>"
      ],
      "text/plain": [
       "  primary_label secondary_labels      type  latitude  longitude  \\\n",
       "0        asbfly               []  ['call']   39.2297   118.1987   \n",
       "1        asbfly               []  ['song']   51.4030   104.6401   \n",
       "\n",
       "      scientific_name             common_name            author  \\\n",
       "0  Muscicapa dauurica  Asian Brown Flycatcher    Matt Slaymaker   \n",
       "1  Muscicapa dauurica  Asian Brown Flycatcher  Magnus Hellström   \n",
       "\n",
       "                                             license  rating  \\\n",
       "0  Creative Commons Attribution-NonCommercial-Sha...     5.0   \n",
       "1  Creative Commons Attribution-NonCommercial-Sha...     2.5   \n",
       "\n",
       "                                 url             filename  \n",
       "0  https://www.xeno-canto.org/134896  asbfly/XC134896.ogg  \n",
       "1  https://www.xeno-canto.org/164848  asbfly/XC164848.ogg  "
      ]
     },
     "execution_count": 10,
     "metadata": {},
     "output_type": "execute_result"
    }
   ],
   "source": [
    "meta_df = pd.read_csv(CFG.TRAN_CSV)\n",
    "meta_df.head(2)"
   ]
  },
  {
   "cell_type": "code",
   "execution_count": 11,
   "id": "98c4abe2-2276-4574-b282-11ed6ea0d93e",
   "metadata": {},
   "outputs": [
    {
     "data": {
      "text/plain": [
       "Index(['asbfly', 'ashdro1', 'ashpri1', 'ashwoo2', 'asikoe2', 'asiope1',\n",
       "       'aspfly1', 'aspswi1', 'barfly1', 'barswa',\n",
       "       ...\n",
       "       'whbwoo2', 'whcbar1', 'whiter2', 'whrmun', 'whtkin2', 'woosan',\n",
       "       'wynlau1', 'yebbab1', 'yebbul3', 'zitcis1'],\n",
       "      dtype='object', length=182)"
      ]
     },
     "execution_count": 11,
     "metadata": {},
     "output_type": "execute_result"
    }
   ],
   "source": [
    "CFG.LABELS"
   ]
  },
  {
   "cell_type": "markdown",
   "id": "73a755e4-2bb5-43d3-a328-3499699f7dce",
   "metadata": {},
   "source": [
    "### Load data"
   ]
  },
  {
   "cell_type": "code",
   "execution_count": 12,
   "id": "486103d4-0b0b-468c-bcaa-38b223a38ee1",
   "metadata": {},
   "outputs": [],
   "source": [
    "from dataset import spectro_dataset, bird_dataset"
   ]
  },
  {
   "cell_type": "code",
   "execution_count": 13,
   "id": "eb490ffe-8944-4756-81a8-7e10e6646ffd",
   "metadata": {},
   "outputs": [
    {
     "name": "stdout",
     "output_type": "stream",
     "text": [
      "24459\n",
      "torch.Size([3, 128, 313]) torch.Size([182])\n",
      "torch.float32 torch.float32\n"
     ]
    }
   ],
   "source": [
    "dset = bird_dataset(meta_df, CFG)\n",
    "\n",
    "print(dset.__len__())\n",
    "\n",
    "spect, label, = dset.__getitem__(0)\n",
    "print(spect.shape, label.shape)\n",
    "print(spect.dtype, label.dtype)"
   ]
  },
  {
   "cell_type": "code",
   "execution_count": 14,
   "id": "89f7511b-115b-4095-9974-b9b88f394956",
   "metadata": {},
   "outputs": [
    {
     "data": {
      "image/png": "[encoded data removed]",
      "text/plain": [
       "<Figure size 640x480 with 1 Axes>"
      ]
     },
     "metadata": {},
     "output_type": "display_data"
    }
   ],
   "source": [
    "librosa.display.specshow(spect[0].numpy(), y_axis=\"mel\", x_axis='s', sr=CFG.SR)\n",
    "plt.show()"
   ]
  },
  {
   "cell_type": "code",
   "execution_count": 15,
   "id": "ac8159f4-6d00-4c24-acfa-7f8e7ed23ec7",
   "metadata": {},
   "outputs": [
    {
     "data": {
      "image/png": "[encoded data removed]",
      "text/plain": [
       "<Figure size 640x480 with 1 Axes>"
      ]
     },
     "metadata": {},
     "output_type": "display_data"
    }
   ],
   "source": [
    "librosa.display.specshow(spect[0].numpy(), y_axis=\"mel\", x_axis='s', sr=CFG.SR)\n",
    "plt.show()"
   ]
  },
  {
   "cell_type": "markdown",
   "id": "41140abe-9040-4a74-a0c1-b35d5e3cbe2b",
   "metadata": {},
   "source": [
    "### Data Module"
   ]
  },
  {
   "cell_type": "code",
   "execution_count": 16,
   "id": "bdcd8de4-b030-4ef7-972f-5645604e01fc",
   "metadata": {},
   "outputs": [],
   "source": [
    "from dataset import spectro_dataset, bird_dataset"
   ]
  },
  {
   "cell_type": "code",
   "execution_count": 17,
   "id": "c3cffdc8-34e7-4686-a7cc-96799aa88e17",
   "metadata": {},
   "outputs": [],
   "source": [
    "class wav_datamodule(pl.LightningDataModule):\n",
    "    def __init__(self, train_df, val_df, cfg=CFG, train_tfs=None, val_tfs=None):\n",
    "        super().__init__()\n",
    "        \n",
    "        self.train_df = train_df\n",
    "        self.val_df = val_df\n",
    "        \n",
    "        self.train_bs = cfg.BATCH_SIZE\n",
    "        self.val_bs = cfg.BATCH_SIZE\n",
    "\n",
    "        self.train_tfs = train_tfs\n",
    "        self.val_tfs = val_tfs\n",
    "\n",
    "        self.cfg = cfg\n",
    "        \n",
    "        self.num_workers = cfg.num_workers\n",
    "        \n",
    "    def train_dataloader(self):\n",
    "        train_ds = bird_dataset(self.train_df, self.cfg, tfs=self.train_tfs)\n",
    "        \n",
    "        train_loader = torch.utils.data.DataLoader(\n",
    "            train_ds,\n",
    "            batch_size=self.train_bs,\n",
    "            pin_memory=False,\n",
    "            drop_last=False,\n",
    "            shuffle=True,\n",
    "            persistent_workers=True,\n",
    "            num_workers=self.num_workers,\n",
    "        )\n",
    "        \n",
    "        return train_loader\n",
    "        \n",
    "    def val_dataloader(self):\n",
    "        val_ds = bird_dataset(self.val_df, self.cfg, tfs=self.val_tfs)\n",
    "        \n",
    "        val_loader = torch.utils.data.DataLoader(\n",
    "            val_ds,\n",
    "            batch_size=self.val_bs,\n",
    "            pin_memory=False,\n",
    "            drop_last=False,\n",
    "            shuffle=False,\n",
    "            persistent_workers=True,\n",
    "            num_workers=1,\n",
    "        )\n",
    "        \n",
    "        return val_loader"
   ]
  },
  {
   "cell_type": "code",
   "execution_count": 18,
   "id": "2c5d1cd2-f628-44bb-9216-75a6bb2d9e7e",
   "metadata": {},
   "outputs": [],
   "source": [
    "# class spectro_datamodule(pl.LightningDataModule):\n",
    "#     def __init__(self, train_df, val_df, cfg=CFG):\n",
    "#         super().__init__()\n",
    "        \n",
    "#         self.train_df = train_df\n",
    "#         self.val_df = val_df\n",
    "        \n",
    "#         self.train_bs = cfg.BATCH_SIZE\n",
    "#         self.val_bs = cfg.BATCH_SIZE\n",
    "        \n",
    "#         self.num_workers = cfg.num_workers\n",
    "        \n",
    "#     def train_dataloader(self):\n",
    "#         train_ds = spectro_dataset(self.train_df, X, y)\n",
    "        \n",
    "#         train_loader = torch.utils.data.DataLoader(\n",
    "#             train_ds,\n",
    "#             batch_size=self.train_bs,\n",
    "#             pin_memory=False,\n",
    "#             drop_last=False,\n",
    "#             shuffle=True,\n",
    "#             num_workers=self.num_workers,\n",
    "#         )\n",
    "        \n",
    "#         return train_loader\n",
    "        \n",
    "#     def val_dataloader(self):\n",
    "#         val_ds = spectro_dataset(self.val_df, X, y)\n",
    "        \n",
    "#         val_loader = torch.utils.data.DataLoader(\n",
    "#             val_ds,\n",
    "#             batch_size=self.val_bs,\n",
    "#             pin_memory=False,\n",
    "#             drop_last=False,\n",
    "#             shuffle=False,\n",
    "#             num_workers=self.num_workers,\n",
    "#         )\n",
    "        \n",
    "#         return val_loader"
   ]
  },
  {
   "cell_type": "code",
   "execution_count": 19,
   "id": "f5347c52-fb14-41b2-8a96-50effca14a2f",
   "metadata": {},
   "outputs": [],
   "source": [
    "image_size = CFG.image_size\n",
    "\n",
    "train_tfs = A.Compose([\n",
    "    # A.HorizontalFlip(p=0.5),\n",
    "    A.Resize(image_size, image_size),\n",
    "    # A.CoarseDropout(max_height=int(image_size * 0.375), max_width=int(image_size * 0.375), max_holes=1, p=0.7),\n",
    "    A.Normalize()\n",
    "])\n",
    "\n",
    "val_tfs = A.Compose([\n",
    "    A.Resize(image_size, image_size),\n",
    "    A.Normalize()\n",
    "])"
   ]
  },
  {
   "cell_type": "code",
   "execution_count": 20,
   "id": "47b38e0c-e0f8-491f-998b-e2902ed06c1b",
   "metadata": {},
   "outputs": [
    {
     "data": {
      "text/plain": [
       "(torch.Size([16, 3, 128, 313]),\n",
       " torch.Size([16, 182]),\n",
       " torch.float32,\n",
       " torch.float32)"
      ]
     },
     "execution_count": 20,
     "metadata": {},
     "output_type": "execute_result"
    }
   ],
   "source": [
    "t_df = meta_df[:-100]\n",
    "v_df = meta_df[-100:]\n",
    "\n",
    "CFG2 = CFG\n",
    "CFG2.BATCH_SIZE = 16\n",
    "CFG2.num_workers = 2\n",
    "\n",
    "dm = wav_datamodule(t_df, v_df, cfg=CFG2)\n",
    "# dm = wav_datamodule(t_df, v_df, cfg=CFG, train_tfs=train_tfs, val_tfs=val_tfs)\n",
    "\n",
    "x, y = next(iter(dm.train_dataloader()))\n",
    "x.shape, y.shape, x.dtype, y.dtype"
   ]
  },
  {
   "cell_type": "code",
   "execution_count": 21,
   "id": "c37f4135-de93-4308-8bcb-46f467b3de74",
   "metadata": {},
   "outputs": [],
   "source": [
    "# librosa.display.specshow(x[0].numpy()[0], y_axis=\"mel\", x_axis='s', sr=CFG.SR)\n",
    "# plt.show()"
   ]
  },
  {
   "cell_type": "code",
   "execution_count": 22,
   "id": "a2525ff0-3dab-443a-bfb0-82415e8703d6",
   "metadata": {},
   "outputs": [
    {
     "data": {
      "image/png": "[encoded data removed]",
      "text/plain": [
       "<Figure size 640x480 with 1 Axes>"
      ]
     },
     "metadata": {},
     "output_type": "display_data"
    }
   ],
   "source": [
    "librosa.display.specshow(x[0].numpy()[0], y_axis=\"mel\", x_axis='s', sr=CFG.SR)\n",
    "plt.show()"
   ]
  },
  {
   "cell_type": "code",
   "execution_count": 23,
   "id": "0cf0fcc0-333c-490c-9b1d-336cdb062984",
   "metadata": {},
   "outputs": [],
   "source": [
    "# img = x[0]\n",
    "# img.shape, img.unsqueeze(dim=0).numpy().shape, img.expand(3, -1, -1).shape"
   ]
  },
  {
   "cell_type": "code",
   "execution_count": 24,
   "id": "5fefced1-4f92-46d3-b766-53e1f3340fd1",
   "metadata": {},
   "outputs": [],
   "source": [
    "# img.expand(3, -1, -1).permute(1, 2, 0).shape, img.expand(3, -1, -1).permute(1, 2, 0).numpy().transpose(2,0,1).shape"
   ]
  },
  {
   "cell_type": "code",
   "execution_count": 25,
   "id": "2e261686-0ec7-401f-8ef2-f538affc1978",
   "metadata": {
    "scrolled": true
   },
   "outputs": [],
   "source": [
    "# train_tfs(image=img.numpy())"
   ]
  },
  {
   "cell_type": "code",
   "execution_count": 26,
   "id": "4b3c4f6b-a9ae-4f6a-85fa-1e4aa674bc60",
   "metadata": {},
   "outputs": [],
   "source": [
    "del dm"
   ]
  },
  {
   "cell_type": "markdown",
   "id": "d0290a83-1686-43a4-b77b-99673cd9ee78",
   "metadata": {},
   "source": [
    "### Loss function"
   ]
  },
  {
   "cell_type": "code",
   "execution_count": 27,
   "id": "fb8b235c-f985-4112-bc18-193dd6d387f1",
   "metadata": {},
   "outputs": [],
   "source": [
    "class FocalLossBCE(torch.nn.Module):\n",
    "    def __init__(\n",
    "            self,\n",
    "            alpha: float = 0.25,\n",
    "            gamma: float = 2,\n",
    "            reduction: str = \"mean\",\n",
    "            bce_weight: float = 1.0,\n",
    "            focal_weight: float = 1.0,\n",
    "    ):\n",
    "        super().__init__()\n",
    "        self.alpha = alpha\n",
    "        self.gamma = gamma\n",
    "        self.reduction = reduction\n",
    "        self.bce = torch.nn.BCEWithLogitsLoss(reduction=reduction)\n",
    "        self.bce_weight = bce_weight\n",
    "        self.focal_weight = focal_weight\n",
    "\n",
    "    def forward(self, logits, targets):\n",
    "        focall_loss = torchvision.ops.focal_loss.sigmoid_focal_loss(\n",
    "            inputs=logits,\n",
    "            targets=targets,\n",
    "            alpha=self.alpha,\n",
    "            gamma=self.gamma,\n",
    "            reduction=self.reduction,\n",
    "        )\n",
    "        bce_loss = self.bce(logits, targets)\n",
    "        return self.bce_weight * bce_loss + self.focal_weight * focall_loss"
   ]
  },
  {
   "cell_type": "code",
   "execution_count": 28,
   "id": "dc95c49c-7e79-422c-8d5d-db875511ae63",
   "metadata": {},
   "outputs": [],
   "source": [
    "class GeM(torch.nn.Module):\n",
    "    def __init__(self, p=3, eps=1e-6):\n",
    "        super(GeM, self).__init__()\n",
    "        self.p = torch.nn.Parameter(torch.ones(1) * p)\n",
    "        self.eps = eps\n",
    "\n",
    "    def forward(self, x):\n",
    "        bs, ch, h, w = x.shape\n",
    "        x = torch.nn.functional.avg_pool2d(x.clamp(min=self.eps).pow(self.p), (x.size(-2), x.size(-1))).pow(\n",
    "            1.0 / self.p)\n",
    "        x = x.view(bs, ch)\n",
    "        return x"
   ]
  },
  {
   "cell_type": "code",
   "execution_count": null,
   "id": "f4512c46-11ee-42ab-8be4-cdd3931a70b5",
   "metadata": {},
   "outputs": [],
   "source": []
  },
  {
   "cell_type": "markdown",
   "id": "2487cc43-694b-4c4c-991d-42c3d0978b7f",
   "metadata": {},
   "source": [
    "### Model"
   ]
  },
  {
   "cell_type": "code",
   "execution_count": 29,
   "id": "4bfdaa59-f790-40ed-97bc-b68249f36c03",
   "metadata": {},
   "outputs": [
    {
     "name": "stdout",
     "output_type": "stream",
     "text": [
      "Number of models available:  1329\n",
      "Number of models available:  1032\n"
     ]
    }
   ],
   "source": [
    "print('Number of models available: ', len(timm.list_models(pretrained=True)))\n",
    "print('Number of models available: ', len(timm.list_models()))\n",
    "# print('\\nDensenet models: ', timm.list_models('eff*'))"
   ]
  },
  {
   "cell_type": "code",
   "execution_count": 30,
   "id": "efa6a532-eeb6-4914-962d-6e05084ff568",
   "metadata": {},
   "outputs": [],
   "source": [
    "backbone = 'eca_nfnet_l0'\n",
    "# backbone = 'efficientnet_b4'\n",
    "out_indices = (3, 4)"
   ]
  },
  {
   "cell_type": "code",
   "execution_count": 31,
   "id": "0ed313c6-f7e8-493e-b0b7-b5b503446f10",
   "metadata": {},
   "outputs": [],
   "source": [
    "model = timm.create_model(\n",
    "    backbone,\n",
    "    features_only=True,\n",
    "    pretrained=False,\n",
    "    in_chans=3,\n",
    "    num_classes=5,\n",
    "    out_indices=out_indices,\n",
    "    )"
   ]
  },
  {
   "cell_type": "code",
   "execution_count": 32,
   "id": "f46d78b2-a4ba-48ab-8a7d-1e57cd4c521d",
   "metadata": {},
   "outputs": [],
   "source": [
    "# model.feature_info."
   ]
  },
  {
   "cell_type": "code",
   "execution_count": 33,
   "id": "cecf1298-269f-48c3-b001-ddff587e2cc2",
   "metadata": {},
   "outputs": [
    {
     "data": {
      "text/plain": [
       "[1536, 2304]"
      ]
     },
     "execution_count": 33,
     "metadata": {},
     "output_type": "execute_result"
    }
   ],
   "source": [
    "model.feature_info.channels()"
   ]
  },
  {
   "cell_type": "code",
   "execution_count": 34,
   "id": "f2be581a-53cb-4163-a2af-de815b95295c",
   "metadata": {},
   "outputs": [
    {
     "data": {
      "text/plain": [
       "[1536, 2304]"
      ]
     },
     "execution_count": 34,
     "metadata": {},
     "output_type": "execute_result"
    }
   ],
   "source": [
    "model.feature_info.channels()"
   ]
  },
  {
   "cell_type": "code",
   "execution_count": 35,
   "id": "e76316d1-6cbf-4cb8-ba39-a6736dedfd12",
   "metadata": {},
   "outputs": [
    {
     "data": {
      "text/plain": [
       "3840"
      ]
     },
     "execution_count": 35,
     "metadata": {},
     "output_type": "execute_result"
    }
   ],
   "source": [
    "np.sum(model.feature_info.channels())"
   ]
  },
  {
   "cell_type": "code",
   "execution_count": 36,
   "id": "70019588-9d55-47cd-bcee-462dffbdb915",
   "metadata": {},
   "outputs": [
    {
     "data": {
      "text/plain": [
       "torch.Size([3, 128, 313])"
      ]
     },
     "execution_count": 36,
     "metadata": {},
     "output_type": "execute_result"
    }
   ],
   "source": [
    "spect.shape"
   ]
  },
  {
   "cell_type": "code",
   "execution_count": 37,
   "id": "3c76dc19-4313-4012-ad5a-1a071de51354",
   "metadata": {},
   "outputs": [],
   "source": [
    "# foo = model(spect.unsqueeze(0))\n",
    "# len(foo)"
   ]
  },
  {
   "cell_type": "code",
   "execution_count": 38,
   "id": "345828ef-53f2-477d-a195-99cc76115f03",
   "metadata": {},
   "outputs": [],
   "source": [
    "class GeMModel(pl.LightningModule):\n",
    "    def __init__(self, cfg = CFG, pretrained = True):\n",
    "        super().__init__()\n",
    "\n",
    "        self.cfg = cfg\n",
    "        \n",
    "        out_indices = (3, 4)\n",
    "\n",
    "        self.criterion = FocalLossBCE()\n",
    "\n",
    "        self.train_acc = tm.classification.MulticlassAccuracy(num_classes=self.cfg.N_LABELS)\n",
    "        self.val_acc = tm.classification.MulticlassAccuracy(num_classes=self.cfg.N_LABELS)\n",
    "\n",
    "        # self.model_name = self.cfg.model_name\n",
    "        print(self.cfg.model_name)\n",
    "        \n",
    "        self.backbone = timm.create_model(\n",
    "            self.cfg.model_name, \n",
    "            features_only=True,\n",
    "            pretrained=pretrained,\n",
    "            in_chans=3,\n",
    "            num_classes=self.cfg.N_LABELS,\n",
    "            out_indices=out_indices,\n",
    "        )\n",
    "\n",
    "        feature_dims = self.backbone.feature_info.channels()\n",
    "\n",
    "        self.global_pools = torch.nn.ModuleList([GeM() for _ in out_indices])\n",
    "        self.mid_features = np.sum(feature_dims)\n",
    "        \n",
    "        self.neck = torch.nn.BatchNorm1d(self.mid_features)\n",
    "        self.head = torch.nn.Linear(self.mid_features, self.cfg.N_LABELS)\n",
    "\n",
    "    def forward(self, x):\n",
    "        ms = self.backbone(x)\n",
    "        \n",
    "        h = torch.cat([global_pool(m) for m, global_pool in zip(ms, self.global_pools)], dim=1)\n",
    "        x = self.neck(h)\n",
    "        x = self.head(x)\n",
    "        \n",
    "        return x\n",
    "        \n",
    "    def configure_optimizers(self):\n",
    "        return torch.optim.Adam(model.parameters(), lr=self.cfg.LEARNING_RATE, weight_decay=CFG.weight_decay)\n",
    "\n",
    "    def step(self, batch, batch_idx, mode='train'):\n",
    "        x, y = batch\n",
    "        \n",
    "        preds = self(x)\n",
    "        \n",
    "        loss = self.criterion(preds, y)\n",
    "        \n",
    "        if mode == 'train':\n",
    "            self.train_acc(preds, y.argmax(1))\n",
    "        else:\n",
    "            self.val_acc(preds, y.argmax(1))\n",
    "        \n",
    "        self.log(f'{mode}/loss', loss, on_step=True, on_epoch=True)\n",
    "        # self.log(f'{mode}/kl_loss', kl_loss, on_step=True, on_epoch=True)\n",
    "\n",
    "        return loss\n",
    "    \n",
    "    def training_step(self, batch, batch_idx):\n",
    "        loss = self.step(batch, batch_idx, mode='train')\n",
    "        self.log(f'train/acc', self.train_acc, on_step=True, on_epoch=True)\n",
    "        \n",
    "        return loss\n",
    "        \n",
    "    def validation_step(self, batch, batch_idx):\n",
    "        loss = self.step(batch, batch_idx, mode='val')\n",
    "        self.log(f'val/acc', self.val_acc, on_step=True, on_epoch=True)\n",
    "    \n",
    "        return loss\n",
    "    \n",
    "    def on_train_epoch_end(self):\n",
    "        self.train_acc.reset()\n",
    "        self.val_acc.reset()\n"
   ]
  },
  {
   "cell_type": "code",
   "execution_count": 39,
   "id": "ee642f01-68a5-4943-a7f9-f8c6ea84bb97",
   "metadata": {},
   "outputs": [
    {
     "name": "stdout",
     "output_type": "stream",
     "text": [
      "eca_nfnet_l0\n"
     ]
    }
   ],
   "source": [
    "model = GeMModel(CFG)"
   ]
  },
  {
   "cell_type": "code",
   "execution_count": 40,
   "id": "8fb45197-973a-4638-9ac2-0c45673c1b7f",
   "metadata": {},
   "outputs": [],
   "source": [
    "foo = model(x)"
   ]
  },
  {
   "cell_type": "code",
   "execution_count": 41,
   "id": "be4ee029-03d9-4547-adf3-740a8156927f",
   "metadata": {},
   "outputs": [
    {
     "data": {
      "text/plain": [
       "torch.Size([16, 182])"
      ]
     },
     "execution_count": 41,
     "metadata": {},
     "output_type": "execute_result"
    }
   ],
   "source": [
    "foo.shape"
   ]
  },
  {
   "cell_type": "code",
   "execution_count": null,
   "id": "2241d2b2-421c-44a8-b759-651b23c7a1c3",
   "metadata": {},
   "outputs": [],
   "source": []
  },
  {
   "cell_type": "code",
   "execution_count": null,
   "id": "cb7dbc62-91d6-435c-9dc9-09f8b5747ea6",
   "metadata": {},
   "outputs": [],
   "source": []
  },
  {
   "cell_type": "markdown",
   "id": "364b8b50-8c6e-4c2e-8919-c01fb7da0887",
   "metadata": {},
   "source": [
    "### Split"
   ]
  },
  {
   "cell_type": "code",
   "execution_count": 42,
   "id": "cb17bc35-5f12-4452-89b2-ab83cd758e16",
   "metadata": {},
   "outputs": [],
   "source": [
    "from sklearn.model_selection import ShuffleSplit, StratifiedShuffleSplit"
   ]
  },
  {
   "cell_type": "code",
   "execution_count": 43,
   "id": "b4dbbe26-bcad-44a8-aeab-34f0d035e317",
   "metadata": {},
   "outputs": [
    {
     "data": {
      "text/plain": [
       "((22013, 12), (2446, 12))"
      ]
     },
     "execution_count": 43,
     "metadata": {},
     "output_type": "execute_result"
    }
   ],
   "source": [
    "sss = StratifiedShuffleSplit(n_splits=1, test_size=0.1, random_state=CFG.random_seed)\n",
    "train_idx, val_idx = next(sss.split(meta_df.filename, meta_df.primary_label))\n",
    "\n",
    "t_df = meta_df.iloc[train_idx]\n",
    "v_df = meta_df.iloc[val_idx]\n",
    "\n",
    "t_df.shape, v_df.shape"
   ]
  },
  {
   "cell_type": "markdown",
   "id": "5e6ea315-0f2b-4eb8-bb13-374d98a00bd3",
   "metadata": {},
   "source": [
    "### Train"
   ]
  },
  {
   "cell_type": "code",
   "execution_count": 44,
   "id": "23a58b8c-cf39-4d76-83e9-07d6825fad41",
   "metadata": {},
   "outputs": [],
   "source": [
    "# dm = wav_datamodule(t_df,v_df)\n",
    "dm = wav_datamodule(t_df, v_df, CFG, train_tfs=train_tfs, val_tfs=val_tfs) "
   ]
  },
  {
   "cell_type": "code",
   "execution_count": 45,
   "id": "41ca8443-2945-44d1-90fe-7c118561edd9",
   "metadata": {},
   "outputs": [
    {
     "data": {
      "text/plain": [
       "(1376, 153)"
      ]
     },
     "execution_count": 45,
     "metadata": {},
     "output_type": "execute_result"
    }
   ],
   "source": [
    "len(dm.train_dataloader()), len(dm.val_dataloader())"
   ]
  },
  {
   "cell_type": "code",
   "execution_count": 46,
   "id": "445f058b-bd8e-4c75-8cbc-a89319e4d2d0",
   "metadata": {},
   "outputs": [
    {
     "name": "stdout",
     "output_type": "stream",
     "text": [
      "eca_nfnet_l0\n"
     ]
    }
   ],
   "source": [
    "model = GeMModel(CFG)"
   ]
  },
  {
   "cell_type": "code",
   "execution_count": 47,
   "id": "fed48e95-c3d7-4ed0-b124-ab29b2fc73e3",
   "metadata": {},
   "outputs": [],
   "source": [
    "from pytorch_lightning.loggers import WandbLogger\n",
    "from pytorch_lightning.callbacks import Callback, LearningRateMonitor"
   ]
  },
  {
   "cell_type": "code",
   "execution_count": 48,
   "id": "d5e42af4-9b0c-4b1b-802e-3b701a8cb22f",
   "metadata": {},
   "outputs": [],
   "source": [
    "wandb_logger = WandbLogger(\n",
    "    name=f'{CFG.model_name} {CFG.LEARNING_RATE} {CFG.N_EPOCHS} eps {CFG.comment}',\n",
    "    project='Bird-local',\n",
    "    job_type='train',\n",
    "    save_dir=CFG.RESULTS_DIR,\n",
    "    # config=cfg,\n",
    ")"
   ]
  },
  {
   "cell_type": "code",
   "execution_count": 49,
   "id": "cf7fef48-ab92-4d8a-8f21-32303022bf4d",
   "metadata": {},
   "outputs": [],
   "source": [
    "loss_ckpt = pl.callbacks.ModelCheckpoint(\n",
    "    monitor='val/loss',\n",
    "    dirpath=CFG.CKPT_DIR,\n",
    "    filename='loss-{epoch:02d}-{val/loss:.2f}',\n",
    "    save_top_k=1,\n",
    "    mode='min',\n",
    ")"
   ]
  },
  {
   "cell_type": "code",
   "execution_count": 50,
   "id": "c3c36fca-3d9b-41dd-ae9d-63bedb609347",
   "metadata": {},
   "outputs": [
    {
     "data": {
      "text/plain": [
       "'cuda'"
      ]
     },
     "execution_count": 50,
     "metadata": {},
     "output_type": "execute_result"
    }
   ],
   "source": [
    "CFG.device"
   ]
  },
  {
   "cell_type": "code",
   "execution_count": 51,
   "id": "0a82ec4e-4def-4966-8b03-717d7e799366",
   "metadata": {},
   "outputs": [
    {
     "name": "stderr",
     "output_type": "stream",
     "text": [
      "GPU available: True (cuda), used: True\n",
      "TPU available: False, using: 0 TPU cores\n",
      "IPU available: False, using: 0 IPUs\n",
      "HPU available: False, using: 0 HPUs\n"
     ]
    }
   ],
   "source": [
    "trainer = pl.Trainer(\n",
    "    max_epochs=CFG.N_EPOCHS,\n",
    "    deterministic=True,\n",
    "    accelerator=CFG.device,\n",
    "    default_root_dir=CFG.RESULTS_DIR,\n",
    "    gradient_clip_val=0.5, \n",
    "    # gradient_clip_algorithm=\"value\",\n",
    "    logger=wandb_logger,\n",
    ")"
   ]
  },
  {
   "cell_type": "code",
   "execution_count": 52,
   "id": "72522d99-4afb-4cb8-86aa-4207c67dca61",
   "metadata": {},
   "outputs": [
    {
     "name": "stderr",
     "output_type": "stream",
     "text": [
      "You are using a CUDA device ('NVIDIA GeForce RTX 4090 Laptop GPU') that has Tensor Cores. To properly utilize them, you should set `torch.set_float32_matmul_precision('medium' | 'high')` which will trade-off precision for performance. For more details, read https://pytorch.org/docs/stable/generated/torch.set_float32_matmul_precision.html#torch.set_float32_matmul_precision\n"
     ]
    },
    {
     "data": {
      "text/html": [
       "wandb version 0.17.0 is available!  To upgrade, please run:\n",
       " $ pip install wandb --upgrade"
      ],
      "text/plain": [
       "<IPython.core.display.HTML object>"
      ]
     },
     "metadata": {},
     "output_type": "display_data"
    },
    {
     "data": {
      "text/html": [
       "Tracking run with wandb version 0.16.5"
      ],
      "text/plain": [
       "<IPython.core.display.HTML object>"
      ]
     },
     "metadata": {},
     "output_type": "display_data"
    },
    {
     "data": {
      "text/html": [
       "Run data is saved locally in <code>E:\\data\\BirdCLEF\\results\\wandb\\run-20240523_152953-7eho499f</code>"
      ],
      "text/plain": [
       "<IPython.core.display.HTML object>"
      ]
     },
     "metadata": {},
     "output_type": "display_data"
    },
    {
     "data": {
      "text/html": [
       "Syncing run <strong><a href='https://wandb.ai/rosu-lucian/Bird-local/runs/7eho499f/workspace' target=\"_blank\">eca_nfnet_l0 1e-05 20 eps first</a></strong> to <a href='https://wandb.ai/rosu-lucian/Bird-local' target=\"_blank\">Weights & Biases</a> (<a href='https://wandb.me/run' target=\"_blank\">docs</a>)<br/>"
      ],
      "text/plain": [
       "<IPython.core.display.HTML object>"
      ]
     },
     "metadata": {},
     "output_type": "display_data"
    },
    {
     "data": {
      "text/html": [
       " View project at <a href='https://wandb.ai/rosu-lucian/Bird-local' target=\"_blank\">https://wandb.ai/rosu-lucian/Bird-local</a>"
      ],
      "text/plain": [
       "<IPython.core.display.HTML object>"
      ]
     },
     "metadata": {},
     "output_type": "display_data"
    },
    {
     "data": {
      "text/html": [
       " View run at <a href='https://wandb.ai/rosu-lucian/Bird-local/runs/7eho499f/workspace' target=\"_blank\">https://wandb.ai/rosu-lucian/Bird-local/runs/7eho499f/workspace</a>"
      ],
      "text/plain": [
       "<IPython.core.display.HTML object>"
      ]
     },
     "metadata": {},
     "output_type": "display_data"
    },
    {
     "name": "stderr",
     "output_type": "stream",
     "text": [
      "LOCAL_RANK: 0 - CUDA_VISIBLE_DEVICES: [0]\n",
      "\n",
      "  | Name         | Type               | Params\n",
      "----------------------------------------------------\n",
      "0 | criterion    | FocalLossBCE       | 0     \n",
      "1 | train_acc    | MulticlassAccuracy | 0     \n",
      "2 | val_acc      | MulticlassAccuracy | 0     \n",
      "3 | backbone     | FeatureListNet     | 21.8 M\n",
      "4 | global_pools | ModuleList         | 2     \n",
      "5 | neck         | BatchNorm1d        | 7.7 K \n",
      "6 | head         | Linear             | 699 K \n",
      "----------------------------------------------------\n",
      "22.5 M    Trainable params\n",
      "0         Non-trainable params\n",
      "22.5 M    Total params\n",
      "90.183    Total estimated model params size (MB)\n"
     ]
    },
    {
     "data": {
      "application/vnd.jupyter.widget-view+json": {
       "model_id": "",
       "version_major": 2,
       "version_minor": 0
      },
      "text/plain": [
       "Sanity Checking: |                                                                        | 0/? [00:00<?, ?it/…"
      ]
     },
     "metadata": {},
     "output_type": "display_data"
    },
    {
     "name": "stderr",
     "output_type": "stream",
     "text": [
      "C:\\Users\\Asus\\.conda\\envs\\llms\\lib\\site-packages\\pytorch_lightning\\trainer\\connectors\\data_connector.py:441: The 'val_dataloader' does not have many workers which may be a bottleneck. Consider increasing the value of the `num_workers` argument` to `num_workers=31` in the `DataLoader` to improve performance.\n"
     ]
    },
    {
     "data": {
      "application/vnd.jupyter.widget-view+json": {
       "model_id": "90c8082452fe48f1903121c4d7e0dfba",
       "version_major": 2,
       "version_minor": 0
      },
      "text/plain": [
       "Training: |                                                                               | 0/? [00:00<?, ?it/…"
      ]
     },
     "metadata": {},
     "output_type": "display_data"
    },
    {
     "name": "stderr",
     "output_type": "stream",
     "text": [
      "C:\\Users\\Asus\\.conda\\envs\\llms\\lib\\site-packages\\torch\\autograd\\graph.py:744: UserWarning: Plan failed with a cudnnException: CUDNN_BACKEND_EXECUTION_PLAN_DESCRIPTOR: cudnnFinalize Descriptor Failed cudnn_status: CUDNN_STATUS_NOT_SUPPORTED (Triggered internally at C:\\cb\\pytorch_1000000000000\\work\\aten\\src\\ATen\\native\\cudnn\\Conv_v8.cpp:919.)\n",
      "  return Variable._execution_engine.run_backward(  # Calls into the C++ engine to run the backward pass\n"
     ]
    },
    {
     "data": {
      "application/vnd.jupyter.widget-view+json": {
       "model_id": "",
       "version_major": 2,
       "version_minor": 0
      },
      "text/plain": [
       "Validation: |                                                                             | 0/? [00:00<?, ?it/…"
      ]
     },
     "metadata": {},
     "output_type": "display_data"
    },
    {
     "data": {
      "application/vnd.jupyter.widget-view+json": {
       "model_id": "",
       "version_major": 2,
       "version_minor": 0
      },
      "text/plain": [
       "Validation: |                                                                             | 0/? [00:00<?, ?it/…"
      ]
     },
     "metadata": {},
     "output_type": "display_data"
    },
    {
     "data": {
      "application/vnd.jupyter.widget-view+json": {
       "model_id": "",
       "version_major": 2,
       "version_minor": 0
      },
      "text/plain": [
       "Validation: |                                                                             | 0/? [00:00<?, ?it/…"
      ]
     },
     "metadata": {},
     "output_type": "display_data"
    },
    {
     "data": {
      "application/vnd.jupyter.widget-view+json": {
       "model_id": "",
       "version_major": 2,
       "version_minor": 0
      },
      "text/plain": [
       "Validation: |                                                                             | 0/? [00:00<?, ?it/…"
      ]
     },
     "metadata": {},
     "output_type": "display_data"
    },
    {
     "data": {
      "application/vnd.jupyter.widget-view+json": {
       "model_id": "",
       "version_major": 2,
       "version_minor": 0
      },
      "text/plain": [
       "Validation: |                                                                             | 0/? [00:00<?, ?it/…"
      ]
     },
     "metadata": {},
     "output_type": "display_data"
    },
    {
     "data": {
      "application/vnd.jupyter.widget-view+json": {
       "model_id": "",
       "version_major": 2,
       "version_minor": 0
      },
      "text/plain": [
       "Validation: |                                                                             | 0/? [00:00<?, ?it/…"
      ]
     },
     "metadata": {},
     "output_type": "display_data"
    },
    {
     "data": {
      "application/vnd.jupyter.widget-view+json": {
       "model_id": "",
       "version_major": 2,
       "version_minor": 0
      },
      "text/plain": [
       "Validation: |                                                                             | 0/? [00:00<?, ?it/…"
      ]
     },
     "metadata": {},
     "output_type": "display_data"
    },
    {
     "data": {
      "application/vnd.jupyter.widget-view+json": {
       "model_id": "",
       "version_major": 2,
       "version_minor": 0
      },
      "text/plain": [
       "Validation: |                                                                             | 0/? [00:00<?, ?it/…"
      ]
     },
     "metadata": {},
     "output_type": "display_data"
    },
    {
     "data": {
      "application/vnd.jupyter.widget-view+json": {
       "model_id": "",
       "version_major": 2,
       "version_minor": 0
      },
      "text/plain": [
       "Validation: |                                                                             | 0/? [00:00<?, ?it/…"
      ]
     },
     "metadata": {},
     "output_type": "display_data"
    },
    {
     "data": {
      "application/vnd.jupyter.widget-view+json": {
       "model_id": "",
       "version_major": 2,
       "version_minor": 0
      },
      "text/plain": [
       "Validation: |                                                                             | 0/? [00:00<?, ?it/…"
      ]
     },
     "metadata": {},
     "output_type": "display_data"
    },
    {
     "data": {
      "application/vnd.jupyter.widget-view+json": {
       "model_id": "",
       "version_major": 2,
       "version_minor": 0
      },
      "text/plain": [
       "Validation: |                                                                             | 0/? [00:00<?, ?it/…"
      ]
     },
     "metadata": {},
     "output_type": "display_data"
    },
    {
     "data": {
      "application/vnd.jupyter.widget-view+json": {
       "model_id": "",
       "version_major": 2,
       "version_minor": 0
      },
      "text/plain": [
       "Validation: |                                                                             | 0/? [00:00<?, ?it/…"
      ]
     },
     "metadata": {},
     "output_type": "display_data"
    },
    {
     "data": {
      "application/vnd.jupyter.widget-view+json": {
       "model_id": "",
       "version_major": 2,
       "version_minor": 0
      },
      "text/plain": [
       "Validation: |                                                                             | 0/? [00:00<?, ?it/…"
      ]
     },
     "metadata": {},
     "output_type": "display_data"
    },
    {
     "data": {
      "application/vnd.jupyter.widget-view+json": {
       "model_id": "",
       "version_major": 2,
       "version_minor": 0
      },
      "text/plain": [
       "Validation: |                                                                             | 0/? [00:00<?, ?it/…"
      ]
     },
     "metadata": {},
     "output_type": "display_data"
    },
    {
     "data": {
      "application/vnd.jupyter.widget-view+json": {
       "model_id": "",
       "version_major": 2,
       "version_minor": 0
      },
      "text/plain": [
       "Validation: |                                                                             | 0/? [00:00<?, ?it/…"
      ]
     },
     "metadata": {},
     "output_type": "display_data"
    },
    {
     "data": {
      "application/vnd.jupyter.widget-view+json": {
       "model_id": "",
       "version_major": 2,
       "version_minor": 0
      },
      "text/plain": [
       "Validation: |                                                                             | 0/? [00:00<?, ?it/…"
      ]
     },
     "metadata": {},
     "output_type": "display_data"
    },
    {
     "data": {
      "application/vnd.jupyter.widget-view+json": {
       "model_id": "",
       "version_major": 2,
       "version_minor": 0
      },
      "text/plain": [
       "Validation: |                                                                             | 0/? [00:00<?, ?it/…"
      ]
     },
     "metadata": {},
     "output_type": "display_data"
    },
    {
     "data": {
      "application/vnd.jupyter.widget-view+json": {
       "model_id": "",
       "version_major": 2,
       "version_minor": 0
      },
      "text/plain": [
       "Validation: |                                                                             | 0/? [00:00<?, ?it/…"
      ]
     },
     "metadata": {},
     "output_type": "display_data"
    },
    {
     "data": {
      "application/vnd.jupyter.widget-view+json": {
       "model_id": "",
       "version_major": 2,
       "version_minor": 0
      },
      "text/plain": [
       "Validation: |                                                                             | 0/? [00:00<?, ?it/…"
      ]
     },
     "metadata": {},
     "output_type": "display_data"
    },
    {
     "data": {
      "application/vnd.jupyter.widget-view+json": {
       "model_id": "",
       "version_major": 2,
       "version_minor": 0
      },
      "text/plain": [
       "Validation: |                                                                             | 0/? [00:00<?, ?it/…"
      ]
     },
     "metadata": {},
     "output_type": "display_data"
    },
    {
     "name": "stderr",
     "output_type": "stream",
     "text": [
      "`Trainer.fit` stopped: `max_epochs=20` reached.\n"
     ]
    }
   ],
   "source": [
    "trainer.fit(model, dm)"
   ]
  },
  {
   "cell_type": "code",
   "execution_count": 53,
   "id": "393f1b86-4212-410c-a862-97a6b3bd6d55",
   "metadata": {},
   "outputs": [
    {
     "data": {
      "application/vnd.jupyter.widget-view+json": {
       "model_id": "",
       "version_major": 2,
       "version_minor": 0
      },
      "text/plain": [
       "VBox(children=(Label(value='0.001 MB of 0.001 MB uploaded\\r'), FloatProgress(value=1.0, max=1.0)))"
      ]
     },
     "metadata": {},
     "output_type": "display_data"
    },
    {
     "data": {
      "text/html": [
       "<style>\n",
       "    table.wandb td:nth-child(1) { padding: 0 10px; text-align: left ; width: auto;} td:nth-child(2) {text-align: left ; width: 100%}\n",
       "    .wandb-row { display: flex; flex-direction: row; flex-wrap: wrap; justify-content: flex-start; width: 100% }\n",
       "    .wandb-col { display: flex; flex-direction: column; flex-basis: 100%; flex: 1; padding: 10px; }\n",
       "    </style>\n",
       "<div class=\"wandb-row\"><div class=\"wandb-col\"><h3>Run history:</h3><br/><table class=\"wandb\"><tr><td>epoch</td><td>▁▁▁▁▂▂▂▂▂▂▃▃▃▃▄▄▄▄▄▄▅▅▅▅▅▅▆▆▆▆▇▇▇▇▇▇████</td></tr><tr><td>train/acc_epoch</td><td>▁▁▁▁▂▂▃▃▄▄▅▅▅▆▆▇▇▇██</td></tr><tr><td>train/acc_step</td><td>▁▁▁▁▂▁▂▂▂▂▂▄▃▄▃▄▄▄▃▄▆▄▄▅▆▆▆▆▆▆▆▆▆▅▇▆█▇▇▇</td></tr><tr><td>train/loss_epoch</td><td>█▅▂▂▁▁▁▁▁▁▁▁▁▁▁▁▁▁▁▁</td></tr><tr><td>train/loss_step</td><td>██▆▄▃▂▂▁▁▁▁▁▁▁▁▁▁▁▁▁▁▁▁▁▁▁▁▁▁▁▁▁▁▁▁▁▁▁▁▁</td></tr><tr><td>trainer/global_step</td><td>▁▁▂▁▄▁▁▁▁▂▇▂█▂▂▂▂▂▂▂▂▂▂▂▂▂▂▃▃▃▃▃▃▃▃▃▃▃▃▃</td></tr><tr><td>val/acc_epoch</td><td>▁▁▁▂▃▄▄▅▆▆▆▇▇▇▇█████</td></tr><tr><td>val/acc_step</td><td>▂▁▂▁▃▁▁▂▄▃▄█▄▄▄▃▄▅▅▅▅▄▄▆▄▅▄▃▆▃▅▄▄▅▅▅▅▃▄▇</td></tr><tr><td>val/loss_epoch</td><td>█▃▂▁▁▂▁▁▁▁▁▁▁▁▁▁▁▁▁▁</td></tr><tr><td>val/loss_step</td><td>██▄▄▂▂▁▁▁▅▁▁▁▁▁▁▁▂▁▁▁▂▁▁▁▁▁▅▁▁▁▁▁▁▁▁▁▁▁▁</td></tr></table><br/></div><div class=\"wandb-col\"><h3>Run summary:</h3><br/><table class=\"wandb\"><tr><td>epoch</td><td>19</td></tr><tr><td>train/acc_epoch</td><td>0.80341</td></tr><tr><td>train/acc_step</td><td>0.60526</td></tr><tr><td>train/loss_epoch</td><td>0.00501</td></tr><tr><td>train/loss_step</td><td>0.00858</td></tr><tr><td>trainer/global_step</td><td>27519</td></tr><tr><td>val/acc_epoch</td><td>0.43317</td></tr><tr><td>val/acc_step</td><td>0.33333</td></tr><tr><td>val/loss_epoch</td><td>0.03445</td></tr><tr><td>val/loss_step</td><td>0.01464</td></tr></table><br/></div></div>"
      ],
      "text/plain": [
       "<IPython.core.display.HTML object>"
      ]
     },
     "metadata": {},
     "output_type": "display_data"
    },
    {
     "data": {
      "text/html": [
       " View run <strong style=\"color:#cdcd00\">eca_nfnet_l0 1e-05 20 eps first</strong> at: <a href='https://wandb.ai/rosu-lucian/Bird-local/runs/7eho499f/workspace' target=\"_blank\">https://wandb.ai/rosu-lucian/Bird-local/runs/7eho499f/workspace</a><br/>Synced 5 W&B file(s), 0 media file(s), 0 artifact file(s) and 0 other file(s)"
      ],
      "text/plain": [
       "<IPython.core.display.HTML object>"
      ]
     },
     "metadata": {},
     "output_type": "display_data"
    },
    {
     "data": {
      "text/html": [
       "Find logs at: <code>E:\\data\\BirdCLEF\\results\\wandb\\run-20240523_152953-7eho499f\\logs</code>"
      ],
      "text/plain": [
       "<IPython.core.display.HTML object>"
      ]
     },
     "metadata": {},
     "output_type": "display_data"
    }
   ],
   "source": [
    "wandb.finish()"
   ]
  },
  {
   "cell_type": "markdown",
   "id": "e208b3dd-6f6b-4a73-ba55-b6ee0ec13a78",
   "metadata": {},
   "source": [
    "### Predict"
   ]
  },
  {
   "cell_type": "code",
   "execution_count": 54,
   "id": "8f5bafd9-6541-4224-9bce-cb7ad0c8616c",
   "metadata": {},
   "outputs": [
    {
     "data": {
      "text/plain": [
       "torch.Size([16, 182])"
      ]
     },
     "execution_count": 54,
     "metadata": {},
     "output_type": "execute_result"
    }
   ],
   "source": [
    "foo = model(x)\n",
    "# foo = model(x.to(CFG.device))\n",
    "foo.shape"
   ]
  },
  {
   "cell_type": "code",
   "execution_count": 55,
   "id": "6b6e7cc6-d471-4ee8-8a00-9a56c86f1bbe",
   "metadata": {},
   "outputs": [
    {
     "data": {
      "text/plain": [
       "tensor([ -6.5042,  -7.6409,  -8.4464,  -7.6505,  -6.4986,  -8.8519,  -8.7268,\n",
       "         -8.0550,  -9.2320,  -8.0452,  -7.1090,  -8.7585,  -8.1568,  -9.2310,\n",
       "         -8.1848,  -6.4512,  -9.3948,  -9.4905,  -7.2688,  -7.4815,  -7.6101,\n",
       "         -9.1982,  -8.8577,  -8.8759,  -9.0676,  -8.4384,  -6.8355,  -8.5220,\n",
       "         -6.6023,  -9.0408,  -9.7371,  -9.4368,  -6.7399,  -7.3462, -10.2596,\n",
       "         -6.4463,  -8.1933,  -7.2793,  -7.3791,  -8.0044,  -7.4205,  -6.3711,\n",
       "         -8.1624,  -7.6799,  -7.5387,  -8.1858,  -8.9866,  -9.7106,  -8.2543,\n",
       "         -9.6689,  -7.6373,  -8.1278,  -9.8745,  -8.7955,  -8.6671,  -7.1408,\n",
       "         -8.9215,  -6.1367,  -9.9340,  -8.6755,  -8.8786,  -8.0660,  -7.5077,\n",
       "         -8.2590,  -6.9287,  -7.3808,  -9.1974,  -9.2798,  -8.4311,  -8.7815,\n",
       "         -8.3043,  -8.2387,  -6.9706,  -7.0873,  -8.5509,  -9.6221,  -7.5357,\n",
       "         -7.2730,  -8.5189,  -9.2113,  -7.0717,  -7.4221,  -7.7952,  -8.8275,\n",
       "         -9.0073,  -8.3639,  -7.4832,  -6.9454,  -7.9354,  -9.0907,  -7.3878,\n",
       "         -7.2807,  -9.2164,  -7.4617,  -7.6382,  -7.0373,  -7.7863,  -9.1792,\n",
       "         -8.6164,  -9.7286,  -7.0109,  -8.1953,  -9.4570, -10.0268,  -8.1645,\n",
       "         -9.1444,  -7.0399,  -6.3243,  -8.0905,  -7.9505,  -8.1183,  -8.5780,\n",
       "         -8.1777,  -9.3283,  -8.9695,  -8.1186,  -7.9334,  -9.5364, -10.5787,\n",
       "         -9.2253,  -7.7352,  -8.8512,  -7.8156,  -9.1325,  -9.5962,  -7.6093,\n",
       "         -7.1943, -10.0470,  -8.9784,  -6.8664,  -9.0601,  -9.3811,  -7.3809,\n",
       "         -8.0565,  -8.2663,  -8.2106,  -8.3877,  -8.2728,  -8.4010,  -7.9253,\n",
       "         -6.6785,  -6.7970,  -8.6386,  -8.3178,  -7.9455,  -9.3836,  -5.9252,\n",
       "         -7.7799,  -9.4067,  -7.2876,  -7.7683,  -7.7891,  -8.3678,  -8.4625,\n",
       "         -9.6674,  -9.6678,  -8.5131,  -8.5669,  -7.0564,  -7.6529,  -7.9680,\n",
       "         -7.8899,  -8.1674,  -8.1841,  -7.4037,  -8.9962,  -8.8018,  -7.6856,\n",
       "         -8.7952,  -7.9871,  -7.1844,  -6.2313,  -6.8283,  -9.5719,  -7.3742,\n",
       "         -8.2949,  -8.6626,  -7.2827,  -9.0061,  -9.0127,  -8.1747,  -7.7867],\n",
       "       grad_fn=<SelectBackward0>)"
      ]
     },
     "execution_count": 55,
     "metadata": {},
     "output_type": "execute_result"
    }
   ],
   "source": [
    "foo[0]"
   ]
  },
  {
   "cell_type": "code",
   "execution_count": 56,
   "id": "c6bd8443-7e8d-4aa6-be9c-a4b775d3d693",
   "metadata": {},
   "outputs": [
    {
     "data": {
      "text/plain": [
       "tensor([0.0194, 0.0062, 0.0028, 0.0062, 0.0195, 0.0019, 0.0021, 0.0041, 0.0013,\n",
       "        0.0042, 0.0106, 0.0020, 0.0037, 0.0013, 0.0036, 0.0204, 0.0011, 0.0010,\n",
       "        0.0090, 0.0073, 0.0064, 0.0013, 0.0018, 0.0018, 0.0015, 0.0028, 0.0139,\n",
       "        0.0026, 0.0176, 0.0015, 0.0008, 0.0010, 0.0153, 0.0084, 0.0005, 0.0205,\n",
       "        0.0036, 0.0089, 0.0081, 0.0043, 0.0078, 0.0221, 0.0037, 0.0060, 0.0069,\n",
       "        0.0036, 0.0016, 0.0008, 0.0034, 0.0008, 0.0062, 0.0038, 0.0007, 0.0020,\n",
       "        0.0022, 0.0103, 0.0017, 0.0280, 0.0006, 0.0022, 0.0018, 0.0041, 0.0071,\n",
       "        0.0034, 0.0127, 0.0081, 0.0013, 0.0012, 0.0028, 0.0020, 0.0032, 0.0034,\n",
       "        0.0122, 0.0108, 0.0025, 0.0009, 0.0069, 0.0090, 0.0026, 0.0013, 0.0110,\n",
       "        0.0077, 0.0053, 0.0019, 0.0016, 0.0030, 0.0073, 0.0125, 0.0046, 0.0015,\n",
       "        0.0080, 0.0089, 0.0013, 0.0074, 0.0062, 0.0114, 0.0054, 0.0013, 0.0023,\n",
       "        0.0008, 0.0117, 0.0036, 0.0010, 0.0006, 0.0037, 0.0014, 0.0113, 0.0232,\n",
       "        0.0040, 0.0046, 0.0039, 0.0024, 0.0036, 0.0012, 0.0016, 0.0039, 0.0046,\n",
       "        0.0009, 0.0003, 0.0013, 0.0057, 0.0019, 0.0052, 0.0014, 0.0009, 0.0064,\n",
       "        0.0097, 0.0006, 0.0016, 0.0135, 0.0015, 0.0011, 0.0081, 0.0041, 0.0033,\n",
       "        0.0035, 0.0029, 0.0033, 0.0029, 0.0047, 0.0163, 0.0145, 0.0023, 0.0032,\n",
       "        0.0046, 0.0011, 0.0346, 0.0054, 0.0011, 0.0089, 0.0055, 0.0054, 0.0030,\n",
       "        0.0027, 0.0008, 0.0008, 0.0026, 0.0025, 0.0112, 0.0061, 0.0045, 0.0048,\n",
       "        0.0037, 0.0036, 0.0079, 0.0016, 0.0019, 0.0059, 0.0020, 0.0044, 0.0098,\n",
       "        0.0255, 0.0140, 0.0009, 0.0081, 0.0032, 0.0022, 0.0089, 0.0016, 0.0016,\n",
       "        0.0036, 0.0054], grad_fn=<SoftmaxBackward0>)"
      ]
     },
     "execution_count": 56,
     "metadata": {},
     "output_type": "execute_result"
    }
   ],
   "source": [
    "torch.nn.functional.softmax(foo[0], dim=-1)"
   ]
  },
  {
   "cell_type": "code",
   "execution_count": 57,
   "id": "1289fbba-b44b-47f3-97f0-5a7d43997108",
   "metadata": {},
   "outputs": [
    {
     "data": {
      "text/plain": [
       "torch.return_types.max(\n",
       "values=tensor([0.0346, 0.0586, 0.0825, 0.2027, 0.1126, 0.0843, 0.1019, 0.0601, 0.0947,\n",
       "        0.0999, 0.1054, 0.0487, 0.0797, 0.1966, 0.0816, 0.0427],\n",
       "       grad_fn=<MaxBackward0>),\n",
       "indices=tensor([146,  14,   1,  10,   9,   4,  82,  40,   9,  57, 107, 176, 105, 181,\n",
       "         57,  43]))"
      ]
     },
     "execution_count": 57,
     "metadata": {},
     "output_type": "execute_result"
    }
   ],
   "source": [
    "torch.nn.functional.softmax(foo, dim=-1).max(dim=-1)"
   ]
  },
  {
   "cell_type": "code",
   "execution_count": 58,
   "id": "9cf52716-d0bc-4242-89a0-3f5ba7987e50",
   "metadata": {},
   "outputs": [
    {
     "data": {
      "text/plain": [
       "tensor([146,  14,   1,  10,   9,   4,  82,  40,   9,  57, 107, 176, 105, 181,\n",
       "         57,  43])"
      ]
     },
     "execution_count": 58,
     "metadata": {},
     "output_type": "execute_result"
    }
   ],
   "source": [
    "torch.nn.functional.softmax(foo, dim=-1).argmax(dim=-1)"
   ]
  },
  {
   "cell_type": "code",
   "execution_count": 59,
   "id": "429dcd0c-06d1-4130-9c0c-0597b36c07d0",
   "metadata": {},
   "outputs": [
    {
     "data": {
      "text/plain": [
       "tensor([100,  78,   4,  33, 120,  18, 143,  81,  10,  37, 163,  37,   9, 177,\n",
       "         80,  13])"
      ]
     },
     "execution_count": 59,
     "metadata": {},
     "output_type": "execute_result"
    }
   ],
   "source": [
    "y.argmax(dim=-1)"
   ]
  },
  {
   "cell_type": "code",
   "execution_count": 61,
   "id": "2f9e2d5b-6857-424c-ae9c-879b2e9bd7bf",
   "metadata": {},
   "outputs": [
    {
     "data": {
      "text/plain": [
       "tensor([0., 0., 0., 0., 0., 0., 0., 0., 0., 0., 0., 0., 0., 0., 0., 0., 0., 0.,\n",
       "        0., 0., 0., 0., 0., 0., 0., 0., 0., 0., 0., 0., 0., 0., 0., 0., 0., 0.,\n",
       "        0., 0., 0., 0., 0., 0., 0., 0., 0., 0., 0., 0., 0., 0., 0., 0., 0., 0.,\n",
       "        0., 0., 0., 0., 0., 0., 0., 0., 0., 0., 0., 0., 0., 0., 0., 0., 0., 0.,\n",
       "        0., 0., 0., 0., 0., 0., 0., 0., 0., 0., 0., 0., 0., 0., 0., 0., 0., 0.,\n",
       "        0., 0., 0., 0., 0., 0., 0., 0., 0., 0., 1., 0., 0., 0., 0., 0., 0., 0.,\n",
       "        0., 0., 0., 0., 0., 0., 0., 0., 0., 0., 0., 0., 0., 0., 0., 0., 0., 0.,\n",
       "        0., 0., 0., 0., 0., 0., 0., 0., 0., 0., 0., 0., 0., 0., 0., 0., 0., 0.,\n",
       "        0., 0., 0., 0., 0., 0., 0., 0., 0., 0., 0., 0., 0., 0., 0., 0., 0., 0.,\n",
       "        0., 0., 0., 0., 0., 0., 0., 0., 0., 0., 0., 0., 0., 0., 0., 0., 0., 0.,\n",
       "        0., 0.])"
      ]
     },
     "execution_count": 61,
     "metadata": {},
     "output_type": "execute_result"
    }
   ],
   "source": [
    "y[0]"
   ]
  },
  {
   "cell_type": "code",
   "execution_count": null,
   "id": "0e8f4c57-d161-4f5a-8e11-ac46b10f69ff",
   "metadata": {},
   "outputs": [],
   "source": []
  },
  {
   "cell_type": "code",
   "execution_count": null,
   "id": "361811fe-42bf-4717-9400-675c203aa8c3",
   "metadata": {},
   "outputs": [],
   "source": []
  },
  {
   "cell_type": "code",
   "execution_count": null,
   "id": "d8364ceb-2031-484a-a5c1-0503c1a72f5f",
   "metadata": {},
   "outputs": [],
   "source": []
  },
  {
   "cell_type": "code",
   "execution_count": null,
   "id": "26404a7b-0f14-4fa6-be8e-07256c8c52a8",
   "metadata": {},
   "outputs": [],
   "source": []
  },
  {
   "cell_type": "code",
   "execution_count": null,
   "id": "04064148-4d89-43a7-9ff2-9bd7a9e11dda",
   "metadata": {},
   "outputs": [],
   "source": []
  },
  {
   "cell_type": "code",
   "execution_count": null,
   "id": "60059dec-a57e-4559-9e6f-a2513c3fd4bf",
   "metadata": {},
   "outputs": [],
   "source": []
  }
 ],
 "metadata": {
  "kernelspec": {
   "display_name": "Python 3 (ipykernel)",
   "language": "python",
   "name": "python3"
  },
  "language_info": {
   "codemirror_mode": {
    "name": "ipython",
    "version": 3
   },
   "file_extension": ".py",
   "mimetype": "text/x-python",
   "name": "python",
   "nbconvert_exporter": "python",
   "pygments_lexer": "ipython3",
   "version": "3.10.14"
  }
 },
 "nbformat": 4,
 "nbformat_minor": 5
}
