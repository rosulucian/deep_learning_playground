{
 "cells": [
  {
   "cell_type": "code",
   "execution_count": 1,
   "id": "a37e79bb-d402-4897-af86-2203cad3bf87",
   "metadata": {},
   "outputs": [],
   "source": [
    "%load_ext autoreload\n",
    "%autoreload 2"
   ]
  },
  {
   "cell_type": "code",
   "execution_count": 2,
   "id": "ea156307-6fbf-48da-b9c0-e70e94b96fd1",
   "metadata": {},
   "outputs": [],
   "source": [
    "import os\n",
    "import time\n",
    "import wandb\n",
    "import torch\n",
    "import random\n",
    "import pickle\n",
    "import imageio\n",
    "import librosa\n",
    "import torchvision\n",
    "\n",
    "import numpy as np\n",
    "import pandas as pd\n",
    "import torchmetrics as tm \n",
    "import plotly.express as px\n",
    "import pytorch_lightning as pl\n",
    "import matplotlib.pyplot as plt\n",
    "\n",
    "from torch import nn\n",
    "from pathlib import Path\n",
    "from IPython.display import Audio\n",
    "from torch.utils.data import Dataset, DataLoader\n",
    "from torch.optim import Adam, AdamW, RMSprop # optmizers\n",
    "from warmup_scheduler import GradualWarmupScheduler\n",
    "from sklearn.model_selection import train_test_split\n",
    "from torch.optim.lr_scheduler import CosineAnnealingLR, ReduceLROnPlateau # Learning rate schedulers\n",
    "\n",
    "import albumentations as A\n",
    "# from albumentations.pytorch import ToTensorV2\n",
    "\n",
    "import timm"
   ]
  },
  {
   "cell_type": "code",
   "execution_count": 3,
   "id": "8a49f649-3fc2-49f8-8fa2-fcba498c1501",
   "metadata": {},
   "outputs": [
    {
     "name": "stdout",
     "output_type": "stream",
     "text": [
      "timm version 0.9.16\n",
      "torch version 2.3.0\n"
     ]
    }
   ],
   "source": [
    "print('timm version', timm.__version__)\n",
    "print('torch version', torch.__version__)"
   ]
  },
  {
   "cell_type": "code",
   "execution_count": 4,
   "id": "61f812e1-b9e5-4ef2-be3f-34fcea9db910",
   "metadata": {},
   "outputs": [],
   "source": [
    "# print(os.getenv('wandb_api_key'))"
   ]
  },
  {
   "cell_type": "code",
   "execution_count": 5,
   "id": "5d3aeb40-5940-4a88-a572-38f037e0e09e",
   "metadata": {},
   "outputs": [
    {
     "name": "stderr",
     "output_type": "stream",
     "text": [
      "wandb: Currently logged in as: rosu-lucian. Use `wandb login --relogin` to force relogin\n",
      "wandb: WARNING If you're specifying your api key in code, ensure this code is not shared publicly.\n",
      "wandb: WARNING Consider setting the WANDB_API_KEY environment variable, or running `wandb login` from the command line.\n",
      "wandb: Appending key for api.wandb.ai to your netrc file: C:\\Users\\Asus\\.netrc\n"
     ]
    },
    {
     "data": {
      "text/plain": [
       "True"
      ]
     },
     "execution_count": 5,
     "metadata": {},
     "output_type": "execute_result"
    }
   ],
   "source": [
    "wandb.login(key=os.getenv('wandb_api_key'))"
   ]
  },
  {
   "cell_type": "code",
   "execution_count": 6,
   "id": "eb38df7d-59a5-4e53-94b6-252ff496f97e",
   "metadata": {},
   "outputs": [
    {
     "name": "stdout",
     "output_type": "stream",
     "text": [
      "cuda\n"
     ]
    }
   ],
   "source": [
    "# detect and define device \n",
    "device = torch.device('cuda' if torch.cuda.is_available() else 'cpu')\n",
    "\n",
    "print(device)"
   ]
  },
  {
   "cell_type": "markdown",
   "id": "75b0e781-740f-40a5-b93a-4e7e28a1d67c",
   "metadata": {},
   "source": [
    "### Config"
   ]
  },
  {
   "cell_type": "code",
   "execution_count": 7,
   "id": "c47e5271-b4dc-4b95-92a5-70bb0581c8e8",
   "metadata": {},
   "outputs": [],
   "source": [
    "train_dir = Path('E:\\data\\BirdCLEF')"
   ]
  },
  {
   "cell_type": "code",
   "execution_count": 8,
   "id": "a57329f6-9afe-400f-ade6-ab779e2ee7b2",
   "metadata": {},
   "outputs": [
    {
     "name": "stdout",
     "output_type": "stream",
     "text": [
      "# labels: 188\n"
     ]
    },
    {
     "data": {
      "text/html": [
       "<div>\n",
       "<style scoped>\n",
       "    .dataframe tbody tr th:only-of-type {\n",
       "        vertical-align: middle;\n",
       "    }\n",
       "\n",
       "    .dataframe tbody tr th {\n",
       "        vertical-align: top;\n",
       "    }\n",
       "\n",
       "    .dataframe thead th {\n",
       "        text-align: right;\n",
       "    }\n",
       "</style>\n",
       "<table border=\"1\" class=\"dataframe\">\n",
       "  <thead>\n",
       "    <tr style=\"text-align: right;\">\n",
       "      <th></th>\n",
       "      <th>row_id</th>\n",
       "      <th>asbfly</th>\n",
       "      <th>ashdro1</th>\n",
       "      <th>ashpri1</th>\n",
       "      <th>ashwoo2</th>\n",
       "      <th>asikoe2</th>\n",
       "      <th>asiope1</th>\n",
       "      <th>aspfly1</th>\n",
       "      <th>aspswi1</th>\n",
       "      <th>barfly1</th>\n",
       "      <th>...</th>\n",
       "      <th>whbwoo2</th>\n",
       "      <th>whcbar1</th>\n",
       "      <th>whiter2</th>\n",
       "      <th>whrmun</th>\n",
       "      <th>whtkin2</th>\n",
       "      <th>woosan</th>\n",
       "      <th>wynlau1</th>\n",
       "      <th>yebbab1</th>\n",
       "      <th>yebbul3</th>\n",
       "      <th>zitcis1</th>\n",
       "    </tr>\n",
       "  </thead>\n",
       "  <tbody>\n",
       "    <tr>\n",
       "      <th>0</th>\n",
       "      <td>soundscape_1446779_5</td>\n",
       "      <td>0.005495</td>\n",
       "      <td>0.005495</td>\n",
       "      <td>0.005495</td>\n",
       "      <td>0.005495</td>\n",
       "      <td>0.005495</td>\n",
       "      <td>0.005495</td>\n",
       "      <td>0.005495</td>\n",
       "      <td>0.005495</td>\n",
       "      <td>0.005495</td>\n",
       "      <td>...</td>\n",
       "      <td>0.005495</td>\n",
       "      <td>0.005495</td>\n",
       "      <td>0.005495</td>\n",
       "      <td>0.005495</td>\n",
       "      <td>0.005495</td>\n",
       "      <td>0.005495</td>\n",
       "      <td>0.005495</td>\n",
       "      <td>0.005495</td>\n",
       "      <td>0.005495</td>\n",
       "      <td>0.005495</td>\n",
       "    </tr>\n",
       "    <tr>\n",
       "      <th>1</th>\n",
       "      <td>soundscape_1446779_10</td>\n",
       "      <td>0.005495</td>\n",
       "      <td>0.005495</td>\n",
       "      <td>0.005495</td>\n",
       "      <td>0.005495</td>\n",
       "      <td>0.005495</td>\n",
       "      <td>0.005495</td>\n",
       "      <td>0.005495</td>\n",
       "      <td>0.005495</td>\n",
       "      <td>0.005495</td>\n",
       "      <td>...</td>\n",
       "      <td>0.005495</td>\n",
       "      <td>0.005495</td>\n",
       "      <td>0.005495</td>\n",
       "      <td>0.005495</td>\n",
       "      <td>0.005495</td>\n",
       "      <td>0.005495</td>\n",
       "      <td>0.005495</td>\n",
       "      <td>0.005495</td>\n",
       "      <td>0.005495</td>\n",
       "      <td>0.005495</td>\n",
       "    </tr>\n",
       "    <tr>\n",
       "      <th>2</th>\n",
       "      <td>soundscape_1446779_15</td>\n",
       "      <td>0.005495</td>\n",
       "      <td>0.005495</td>\n",
       "      <td>0.005495</td>\n",
       "      <td>0.005495</td>\n",
       "      <td>0.005495</td>\n",
       "      <td>0.005495</td>\n",
       "      <td>0.005495</td>\n",
       "      <td>0.005495</td>\n",
       "      <td>0.005495</td>\n",
       "      <td>...</td>\n",
       "      <td>0.005495</td>\n",
       "      <td>0.005495</td>\n",
       "      <td>0.005495</td>\n",
       "      <td>0.005495</td>\n",
       "      <td>0.005495</td>\n",
       "      <td>0.005495</td>\n",
       "      <td>0.005495</td>\n",
       "      <td>0.005495</td>\n",
       "      <td>0.005495</td>\n",
       "      <td>0.005495</td>\n",
       "    </tr>\n",
       "  </tbody>\n",
       "</table>\n",
       "<p>3 rows × 183 columns</p>\n",
       "</div>"
      ],
      "text/plain": [
       "                  row_id    asbfly   ashdro1   ashpri1   ashwoo2   asikoe2  \\\n",
       "0   soundscape_1446779_5  0.005495  0.005495  0.005495  0.005495  0.005495   \n",
       "1  soundscape_1446779_10  0.005495  0.005495  0.005495  0.005495  0.005495   \n",
       "2  soundscape_1446779_15  0.005495  0.005495  0.005495  0.005495  0.005495   \n",
       "\n",
       "    asiope1   aspfly1   aspswi1   barfly1  ...   whbwoo2   whcbar1   whiter2  \\\n",
       "0  0.005495  0.005495  0.005495  0.005495  ...  0.005495  0.005495  0.005495   \n",
       "1  0.005495  0.005495  0.005495  0.005495  ...  0.005495  0.005495  0.005495   \n",
       "2  0.005495  0.005495  0.005495  0.005495  ...  0.005495  0.005495  0.005495   \n",
       "\n",
       "     whrmun   whtkin2    woosan   wynlau1   yebbab1   yebbul3   zitcis1  \n",
       "0  0.005495  0.005495  0.005495  0.005495  0.005495  0.005495  0.005495  \n",
       "1  0.005495  0.005495  0.005495  0.005495  0.005495  0.005495  0.005495  \n",
       "2  0.005495  0.005495  0.005495  0.005495  0.005495  0.005495  0.005495  \n",
       "\n",
       "[3 rows x 183 columns]"
      ]
     },
     "metadata": {},
     "output_type": "display_data"
    }
   ],
   "source": [
    "class CFG:\n",
    "    comment = '16khz'\n",
    "    \n",
    "    MIXUP = True\n",
    "    USE_SCHD=False\n",
    "\n",
    "    USE_MISSING_LABELS = True\n",
    "\n",
    "    UL_THRESH = 0.9\n",
    "    \n",
    "    # Competition Root Folder\n",
    "    ROOT_FOLDER = train_dir\n",
    "    AUDIO_FOLDER = train_dir / 'train_audio'\n",
    "    DATA_DIR = train_dir / 'spectros'\n",
    "    TRAIN_CSV = train_dir / 'train_metadata.csv'\n",
    "    UNLABELED_CSV = train_dir / 'predictions.csv'\n",
    "    RESULTS_DIR = train_dir / 'results'\n",
    "    CKPT_DIR = RESULTS_DIR / 'ckpt'\n",
    "\n",
    "    num_workers = 12\n",
    "    # Maximum decibel to clip audio to\n",
    "    # TOP_DB = 100\n",
    "    TOP_DB = 80\n",
    "    # Minimum rating\n",
    "    MIN_RATING = 3.0\n",
    "    # Sample rate as provided in competition description\n",
    "    # SR = 32000\n",
    "    SR = 16000\n",
    "\n",
    "    image_size = 128\n",
    "    \n",
    "    ### split train and validation sets\n",
    "    split_fraction = 0.95\n",
    "    \n",
    "    ### model\n",
    "    model_name = 'eca_nfnet_l0' # 'resnet34', 'resnet200d', 'efficientnet_b1_pruned', 'efficientnetv2_m', efficientnet_b7 ...  \n",
    "    \n",
    "    ### training\n",
    "    BATCH_SIZE = 128\n",
    "\n",
    "    ### Optimizer\n",
    "    N_EPOCHS = 25\n",
    "    WARM_EPOCHS = 3\n",
    "    COS_EPOCHS = N_EPOCHS - WARM_EPOCHS\n",
    "    \n",
    "    # LEARNING_RATE = 5*1e-5 # best\n",
    "    LEARNING_RATE = 5e-5\n",
    "    \n",
    "    weight_decay = 1e-6 # for adamw\n",
    "\n",
    "    device = 'cuda' if torch.cuda.is_available() else 'cpu'\n",
    "    \n",
    "    random_seed = 42\n",
    "\n",
    "mel_spec_params = {\n",
    "    \"sample_rate\": CFG.SR,\n",
    "    \"n_mels\": 128,\n",
    "    \"f_min\": 20,\n",
    "    \"f_max\": CFG.SR / 2,\n",
    "    \"n_fft\": 2048,\n",
    "    \"hop_length\": 512,\n",
    "    \"normalized\": True,\n",
    "    \"center\" : True,\n",
    "    \"pad_mode\" : \"constant\",\n",
    "    \"norm\" : \"slaney\",\n",
    "    \"mel_scale\" : \"slaney\"\n",
    "}\n",
    "\n",
    "CFG.mel_spec_params = mel_spec_params\n",
    "\n",
    "sec_labels = ['lotshr1', 'orhthr1', 'magrob', 'indwhe1', 'bltmun1', 'asfblu1']\n",
    "\n",
    "sample_submission = pd.read_csv(train_dir / 'sample_submission.csv')\n",
    "\n",
    "# Set labels\n",
    "CFG.LABELS = sample_submission.columns[1:].tolist()\n",
    "if CFG.USE_MISSING_LABELS:\n",
    "    CFG.LABELS += sec_labels\n",
    "    \n",
    "CFG.N_LABELS = len(CFG.LABELS)\n",
    "print(f'# labels: {CFG.N_LABELS}')\n",
    "\n",
    "bird2id = {b: i for i, b in enumerate(CFG.LABELS)}\n",
    "\n",
    "display(sample_submission.head())"
   ]
  },
  {
   "cell_type": "code",
   "execution_count": 9,
   "id": "8f11f8c8-128b-4de7-8f18-e3e4adf81cc8",
   "metadata": {},
   "outputs": [
    {
     "data": {
      "text/plain": [
       "188"
      ]
     },
     "execution_count": 9,
     "metadata": {},
     "output_type": "execute_result"
    }
   ],
   "source": [
    "CFG.N_LABELS"
   ]
  },
  {
   "cell_type": "code",
   "execution_count": 10,
   "id": "5ffbc880-7f6e-4467-a62f-ab2a669d2bf0",
   "metadata": {},
   "outputs": [],
   "source": [
    "# for reproducibility\n",
    "def seed_torch(seed):\n",
    "    random.seed(seed)\n",
    "    os.environ['PYTHONHASHSEED'] = str(seed)\n",
    "    np.random.seed(seed)\n",
    "    torch.manual_seed(seed)\n",
    "    torch.cuda.manual_seed(seed)\n",
    "    torch.backends.cudnn.deterministic = True\n",
    "\n",
    "seed_torch(seed = CFG.random_seed)"
   ]
  },
  {
   "cell_type": "code",
   "execution_count": 11,
   "id": "22264774-8b70-4390-937e-4b5fa7180feb",
   "metadata": {},
   "outputs": [
    {
     "data": {
      "text/html": [
       "<div>\n",
       "<style scoped>\n",
       "    .dataframe tbody tr th:only-of-type {\n",
       "        vertical-align: middle;\n",
       "    }\n",
       "\n",
       "    .dataframe tbody tr th {\n",
       "        vertical-align: top;\n",
       "    }\n",
       "\n",
       "    .dataframe thead th {\n",
       "        text-align: right;\n",
       "    }\n",
       "</style>\n",
       "<table border=\"1\" class=\"dataframe\">\n",
       "  <thead>\n",
       "    <tr style=\"text-align: right;\">\n",
       "      <th></th>\n",
       "      <th>primary_label</th>\n",
       "      <th>secondary_labels</th>\n",
       "      <th>type</th>\n",
       "      <th>latitude</th>\n",
       "      <th>longitude</th>\n",
       "      <th>scientific_name</th>\n",
       "      <th>common_name</th>\n",
       "      <th>author</th>\n",
       "      <th>license</th>\n",
       "      <th>rating</th>\n",
       "      <th>url</th>\n",
       "      <th>filename</th>\n",
       "    </tr>\n",
       "  </thead>\n",
       "  <tbody>\n",
       "    <tr>\n",
       "      <th>0</th>\n",
       "      <td>asbfly</td>\n",
       "      <td>[]</td>\n",
       "      <td>['call']</td>\n",
       "      <td>39.2297</td>\n",
       "      <td>118.1987</td>\n",
       "      <td>Muscicapa dauurica</td>\n",
       "      <td>Asian Brown Flycatcher</td>\n",
       "      <td>Matt Slaymaker</td>\n",
       "      <td>Creative Commons Attribution-NonCommercial-Sha...</td>\n",
       "      <td>5.0</td>\n",
       "      <td>https://www.xeno-canto.org/134896</td>\n",
       "      <td>asbfly/XC134896.ogg</td>\n",
       "    </tr>\n",
       "    <tr>\n",
       "      <th>1</th>\n",
       "      <td>asbfly</td>\n",
       "      <td>[]</td>\n",
       "      <td>['song']</td>\n",
       "      <td>51.4030</td>\n",
       "      <td>104.6401</td>\n",
       "      <td>Muscicapa dauurica</td>\n",
       "      <td>Asian Brown Flycatcher</td>\n",
       "      <td>Magnus Hellström</td>\n",
       "      <td>Creative Commons Attribution-NonCommercial-Sha...</td>\n",
       "      <td>2.5</td>\n",
       "      <td>https://www.xeno-canto.org/164848</td>\n",
       "      <td>asbfly/XC164848.ogg</td>\n",
       "    </tr>\n",
       "  </tbody>\n",
       "</table>\n",
       "</div>"
      ],
      "text/plain": [
       "  primary_label secondary_labels      type  latitude  longitude  \\\n",
       "0        asbfly               []  ['call']   39.2297   118.1987   \n",
       "1        asbfly               []  ['song']   51.4030   104.6401   \n",
       "\n",
       "      scientific_name             common_name            author  \\\n",
       "0  Muscicapa dauurica  Asian Brown Flycatcher    Matt Slaymaker   \n",
       "1  Muscicapa dauurica  Asian Brown Flycatcher  Magnus Hellström   \n",
       "\n",
       "                                             license  rating  \\\n",
       "0  Creative Commons Attribution-NonCommercial-Sha...     5.0   \n",
       "1  Creative Commons Attribution-NonCommercial-Sha...     2.5   \n",
       "\n",
       "                                 url             filename  \n",
       "0  https://www.xeno-canto.org/134896  asbfly/XC134896.ogg  \n",
       "1  https://www.xeno-canto.org/164848  asbfly/XC164848.ogg  "
      ]
     },
     "execution_count": 11,
     "metadata": {},
     "output_type": "execute_result"
    }
   ],
   "source": [
    "meta_df = pd.read_csv(CFG.TRAIN_CSV)\n",
    "meta_df.head(2)"
   ]
  },
  {
   "cell_type": "code",
   "execution_count": 12,
   "id": "e602c53b-1a9e-45e9-9749-a4f086355f00",
   "metadata": {},
   "outputs": [
    {
     "data": {
      "text/html": [
       "<div>\n",
       "<style scoped>\n",
       "    .dataframe tbody tr th:only-of-type {\n",
       "        vertical-align: middle;\n",
       "    }\n",
       "\n",
       "    .dataframe tbody tr th {\n",
       "        vertical-align: top;\n",
       "    }\n",
       "\n",
       "    .dataframe thead th {\n",
       "        text-align: right;\n",
       "    }\n",
       "</style>\n",
       "<table border=\"1\" class=\"dataframe\">\n",
       "  <thead>\n",
       "    <tr style=\"text-align: right;\">\n",
       "      <th></th>\n",
       "      <th>primary_label</th>\n",
       "      <th>secondary_labels</th>\n",
       "      <th>type</th>\n",
       "      <th>latitude</th>\n",
       "      <th>longitude</th>\n",
       "      <th>scientific_name</th>\n",
       "      <th>common_name</th>\n",
       "      <th>author</th>\n",
       "      <th>license</th>\n",
       "      <th>rating</th>\n",
       "      <th>url</th>\n",
       "      <th>filename</th>\n",
       "    </tr>\n",
       "  </thead>\n",
       "  <tbody>\n",
       "  </tbody>\n",
       "</table>\n",
       "</div>"
      ],
      "text/plain": [
       "Empty DataFrame\n",
       "Columns: [primary_label, secondary_labels, type, latitude, longitude, scientific_name, common_name, author, license, rating, url, filename]\n",
       "Index: []"
      ]
     },
     "execution_count": 12,
     "metadata": {},
     "output_type": "execute_result"
    }
   ],
   "source": [
    "meta_df[meta_df['primary_label'] == 'magrob']"
   ]
  },
  {
   "cell_type": "code",
   "execution_count": 13,
   "id": "98c4abe2-2276-4574-b282-11ed6ea0d93e",
   "metadata": {
    "scrolled": true
   },
   "outputs": [
    {
     "data": {
      "text/plain": [
       "188"
      ]
     },
     "execution_count": 13,
     "metadata": {},
     "output_type": "execute_result"
    }
   ],
   "source": [
    "len(CFG.LABELS)"
   ]
  },
  {
   "cell_type": "code",
   "execution_count": 14,
   "id": "128357c6-8dde-4fd4-a97f-9001776614a2",
   "metadata": {},
   "outputs": [],
   "source": [
    "columns = ['primary_label', 'secondary_labels', 'filename']"
   ]
  },
  {
   "cell_type": "code",
   "execution_count": 15,
   "id": "578c8cdd-7dd4-4fcd-8f40-5c8177554e3f",
   "metadata": {},
   "outputs": [],
   "source": [
    "meta_df['filename'] = f'{str(CFG.AUDIO_FOLDER)}\\\\' + meta_df['filename']"
   ]
  },
  {
   "cell_type": "code",
   "execution_count": 16,
   "id": "4fa7ef4d-75a7-4aef-8d0d-d5e6b0bf1a94",
   "metadata": {},
   "outputs": [
    {
     "data": {
      "text/html": [
       "<div>\n",
       "<style scoped>\n",
       "    .dataframe tbody tr th:only-of-type {\n",
       "        vertical-align: middle;\n",
       "    }\n",
       "\n",
       "    .dataframe tbody tr th {\n",
       "        vertical-align: top;\n",
       "    }\n",
       "\n",
       "    .dataframe thead th {\n",
       "        text-align: right;\n",
       "    }\n",
       "</style>\n",
       "<table border=\"1\" class=\"dataframe\">\n",
       "  <thead>\n",
       "    <tr style=\"text-align: right;\">\n",
       "      <th></th>\n",
       "      <th>primary_label</th>\n",
       "      <th>secondary_labels</th>\n",
       "      <th>filename</th>\n",
       "    </tr>\n",
       "  </thead>\n",
       "  <tbody>\n",
       "    <tr>\n",
       "      <th>0</th>\n",
       "      <td>asbfly</td>\n",
       "      <td>[]</td>\n",
       "      <td>E:\\data\\BirdCLEF\\train_audio\\asbfly/XC134896.ogg</td>\n",
       "    </tr>\n",
       "    <tr>\n",
       "      <th>1</th>\n",
       "      <td>asbfly</td>\n",
       "      <td>[]</td>\n",
       "      <td>E:\\data\\BirdCLEF\\train_audio\\asbfly/XC164848.ogg</td>\n",
       "    </tr>\n",
       "  </tbody>\n",
       "</table>\n",
       "</div>"
      ],
      "text/plain": [
       "  primary_label secondary_labels  \\\n",
       "0        asbfly               []   \n",
       "1        asbfly               []   \n",
       "\n",
       "                                           filename  \n",
       "0  E:\\data\\BirdCLEF\\train_audio\\asbfly/XC134896.ogg  \n",
       "1  E:\\data\\BirdCLEF\\train_audio\\asbfly/XC164848.ogg  "
      ]
     },
     "execution_count": 16,
     "metadata": {},
     "output_type": "execute_result"
    }
   ],
   "source": [
    "meta_df[columns].head(2)"
   ]
  },
  {
   "cell_type": "code",
   "execution_count": 17,
   "id": "2291f2bf-433b-455f-b0e1-d4c8cab7f4bd",
   "metadata": {},
   "outputs": [],
   "source": [
    "meta_df = meta_df[columns]"
   ]
  },
  {
   "cell_type": "code",
   "execution_count": 18,
   "id": "bc496797-e7e1-4f76-b24c-139af788472e",
   "metadata": {},
   "outputs": [],
   "source": [
    "meta_df['range'] = 0"
   ]
  },
  {
   "cell_type": "code",
   "execution_count": 19,
   "id": "a05d9ecd-e978-4b5e-84b3-3256ad4611be",
   "metadata": {},
   "outputs": [],
   "source": [
    "cols = ['top_1', 'top_2', 'top_3', 'top_1_idx', 'top_2_idx', 'top_3_idx']"
   ]
  },
  {
   "cell_type": "code",
   "execution_count": 20,
   "id": "72a7c1a3-ec49-4010-baa4-c1502fa8ba04",
   "metadata": {},
   "outputs": [],
   "source": [
    "def get_scores(row):\n",
    "    labels = [row.primary_label] + eval(row.secondary_labels)\n",
    "    labels[:3]\n",
    "    labels = [bird2id[l] for l in labels]\n",
    "\n",
    "    labels = np.array(labels)\n",
    "\n",
    "    scores = np.zeros(3)\n",
    "    scores[labels] = 1\n",
    "    \n",
    "    return scores"
   ]
  },
  {
   "cell_type": "code",
   "execution_count": 21,
   "id": "b72158c0-a417-4f36-bb4f-0d7594077906",
   "metadata": {},
   "outputs": [
    {
     "data": {
      "text/plain": [
       "array([1., 0., 0.])"
      ]
     },
     "execution_count": 21,
     "metadata": {},
     "output_type": "execute_result"
    }
   ],
   "source": [
    "get_scores(meta_df.iloc[0])"
   ]
  },
  {
   "cell_type": "code",
   "execution_count": 22,
   "id": "6d804e06-2a41-41e1-b279-c8543db31d07",
   "metadata": {
    "scrolled": true
   },
   "outputs": [],
   "source": [
    "# meta_df[cols[:3]] = meta_df.apply(get_scores, axis='columns', result_type='expand')"
   ]
  },
  {
   "cell_type": "code",
   "execution_count": null,
   "id": "c78932a0-5cfc-47cf-910d-efff5e741420",
   "metadata": {},
   "outputs": [],
   "source": []
  },
  {
   "cell_type": "code",
   "execution_count": 23,
   "id": "1a3e3f7c-b15d-49f9-b6ac-383124b80a61",
   "metadata": {},
   "outputs": [
    {
     "data": {
      "text/html": [
       "<div>\n",
       "<style scoped>\n",
       "    .dataframe tbody tr th:only-of-type {\n",
       "        vertical-align: middle;\n",
       "    }\n",
       "\n",
       "    .dataframe tbody tr th {\n",
       "        vertical-align: top;\n",
       "    }\n",
       "\n",
       "    .dataframe thead th {\n",
       "        text-align: right;\n",
       "    }\n",
       "</style>\n",
       "<table border=\"1\" class=\"dataframe\">\n",
       "  <thead>\n",
       "    <tr style=\"text-align: right;\">\n",
       "      <th></th>\n",
       "      <th>primary_label</th>\n",
       "      <th>secondary_labels</th>\n",
       "      <th>filename</th>\n",
       "      <th>range</th>\n",
       "    </tr>\n",
       "  </thead>\n",
       "  <tbody>\n",
       "    <tr>\n",
       "      <th>0</th>\n",
       "      <td>asbfly</td>\n",
       "      <td>[]</td>\n",
       "      <td>E:\\data\\BirdCLEF\\train_audio\\asbfly/XC134896.ogg</td>\n",
       "      <td>0</td>\n",
       "    </tr>\n",
       "    <tr>\n",
       "      <th>1</th>\n",
       "      <td>asbfly</td>\n",
       "      <td>[]</td>\n",
       "      <td>E:\\data\\BirdCLEF\\train_audio\\asbfly/XC164848.ogg</td>\n",
       "      <td>0</td>\n",
       "    </tr>\n",
       "  </tbody>\n",
       "</table>\n",
       "</div>"
      ],
      "text/plain": [
       "  primary_label secondary_labels  \\\n",
       "0        asbfly               []   \n",
       "1        asbfly               []   \n",
       "\n",
       "                                           filename  range  \n",
       "0  E:\\data\\BirdCLEF\\train_audio\\asbfly/XC134896.ogg      0  \n",
       "1  E:\\data\\BirdCLEF\\train_audio\\asbfly/XC164848.ogg      0  "
      ]
     },
     "execution_count": 23,
     "metadata": {},
     "output_type": "execute_result"
    }
   ],
   "source": [
    "meta_df.head(2)"
   ]
  },
  {
   "cell_type": "code",
   "execution_count": 24,
   "id": "fe312123-1600-4acd-904f-f1232c0d920a",
   "metadata": {},
   "outputs": [
    {
     "name": "stdout",
     "output_type": "stream",
     "text": [
      "(405312, 8)\n",
      "(10366, 8)\n"
     ]
    },
    {
     "data": {
      "text/html": [
       "<div>\n",
       "<style scoped>\n",
       "    .dataframe tbody tr th:only-of-type {\n",
       "        vertical-align: middle;\n",
       "    }\n",
       "\n",
       "    .dataframe tbody tr th {\n",
       "        vertical-align: top;\n",
       "    }\n",
       "\n",
       "    .dataframe thead th {\n",
       "        text-align: right;\n",
       "    }\n",
       "</style>\n",
       "<table border=\"1\" class=\"dataframe\">\n",
       "  <thead>\n",
       "    <tr style=\"text-align: right;\">\n",
       "      <th></th>\n",
       "      <th>filename</th>\n",
       "      <th>range</th>\n",
       "      <th>top_1</th>\n",
       "      <th>top_2</th>\n",
       "      <th>top_3</th>\n",
       "      <th>top_1_idx</th>\n",
       "      <th>top_2_idx</th>\n",
       "      <th>top_3_idx</th>\n",
       "    </tr>\n",
       "  </thead>\n",
       "  <tbody>\n",
       "    <tr>\n",
       "      <th>674</th>\n",
       "      <td>E:\\data\\BirdCLEF\\unlabeled_soundscapes\\1002477...</td>\n",
       "      <td>15</td>\n",
       "      <td>0.904653</td>\n",
       "      <td>0.143341</td>\n",
       "      <td>0.053670</td>\n",
       "      <td>116</td>\n",
       "      <td>153</td>\n",
       "      <td>38</td>\n",
       "    </tr>\n",
       "    <tr>\n",
       "      <th>675</th>\n",
       "      <td>E:\\data\\BirdCLEF\\unlabeled_soundscapes\\1002477...</td>\n",
       "      <td>20</td>\n",
       "      <td>0.944455</td>\n",
       "      <td>0.127769</td>\n",
       "      <td>0.032257</td>\n",
       "      <td>116</td>\n",
       "      <td>153</td>\n",
       "      <td>39</td>\n",
       "    </tr>\n",
       "  </tbody>\n",
       "</table>\n",
       "</div>"
      ],
      "text/plain": [
       "                                              filename  range     top_1  \\\n",
       "674  E:\\data\\BirdCLEF\\unlabeled_soundscapes\\1002477...     15  0.904653   \n",
       "675  E:\\data\\BirdCLEF\\unlabeled_soundscapes\\1002477...     20  0.944455   \n",
       "\n",
       "        top_2     top_3  top_1_idx  top_2_idx  top_3_idx  \n",
       "674  0.143341  0.053670        116        153         38  \n",
       "675  0.127769  0.032257        116        153         39  "
      ]
     },
     "execution_count": 24,
     "metadata": {},
     "output_type": "execute_result"
    }
   ],
   "source": [
    "ul_df = pd.read_csv(CFG.UNLABELED_CSV)\n",
    "print(ul_df.shape)\n",
    "ul_df = ul_df[ul_df['top_1'] > CFG.UL_THRESH]\n",
    "print(ul_df.shape)\n",
    "\n",
    "ul_df.head(2)"
   ]
  },
  {
   "cell_type": "code",
   "execution_count": 25,
   "id": "3ae6efcc-a9e3-469e-8dcf-e610e6ac606d",
   "metadata": {},
   "outputs": [],
   "source": [
    "# ul_df[ul_df['top_2'] > CFG.UL_THRESH].sample(5)"
   ]
  },
  {
   "cell_type": "code",
   "execution_count": 26,
   "id": "21222bc9-e188-4931-b82c-36a66ab5f2ce",
   "metadata": {},
   "outputs": [],
   "source": [
    "# meta_df = pd.concat([meta_df, ul_df], ignore_index=True)"
   ]
  },
  {
   "cell_type": "code",
   "execution_count": null,
   "id": "b33b041c-a4d8-47f7-a050-ff2573633cb3",
   "metadata": {},
   "outputs": [],
   "source": []
  },
  {
   "cell_type": "markdown",
   "id": "73a755e4-2bb5-43d3-a328-3499699f7dce",
   "metadata": {},
   "source": [
    "### Load data"
   ]
  },
  {
   "cell_type": "code",
   "execution_count": 27,
   "id": "486103d4-0b0b-468c-bcaa-38b223a38ee1",
   "metadata": {},
   "outputs": [],
   "source": [
    "from dataset import spectro_dataset, bird_dataset"
   ]
  },
  {
   "cell_type": "code",
   "execution_count": 28,
   "id": "eb490ffe-8944-4756-81a8-7e10e6646ffd",
   "metadata": {},
   "outputs": [
    {
     "name": "stdout",
     "output_type": "stream",
     "text": [
      "24459\n",
      "torch.Size([1, 128, 157])\n",
      "torch.Size([3, 128, 157]) torch.Size([188])\n",
      "torch.float32 torch.float32\n"
     ]
    }
   ],
   "source": [
    "dset = bird_dataset(meta_df, CFG)\n",
    "\n",
    "print(dset.__len__())\n",
    "\n",
    "spect, label, = dset.__getitem__(0)\n",
    "print(spect.shape, label.shape)\n",
    "print(spect.dtype, label.dtype)"
   ]
  },
  {
   "cell_type": "code",
   "execution_count": 79,
   "id": "89f7511b-115b-4095-9974-b9b88f394956",
   "metadata": {},
   "outputs": [
    {
     "data": {
      "image/png": "[encoded data removed]",
      "text/plain": [
       "<Figure size 640x480 with 1 Axes>"
      ]
     },
     "metadata": {},
     "output_type": "display_data"
    }
   ],
   "source": [
    "librosa.display.specshow(spect[0].numpy(), y_axis=\"mel\", x_axis='s', sr=CFG.SR, cmap='gray')\n",
    "plt.show()"
   ]
  },
  {
   "cell_type": "code",
   "execution_count": 80,
   "id": "ac8159f4-6d00-4c24-acfa-7f8e7ed23ec7",
   "metadata": {},
   "outputs": [
    {
     "data": {
      "image/png": "[encoded data removed]",
      "text/plain": [
       "<Figure size 640x480 with 1 Axes>"
      ]
     },
     "metadata": {},
     "output_type": "display_data"
    }
   ],
   "source": [
    "librosa.display.specshow(spect[1].numpy(), y_axis=\"mel\", x_axis='s', sr=CFG.SR, cmap='gray')\n",
    "plt.show()"
   ]
  },
  {
   "cell_type": "markdown",
   "id": "41140abe-9040-4a74-a0c1-b35d5e3cbe2b",
   "metadata": {},
   "source": [
    "### Data Module"
   ]
  },
  {
   "cell_type": "code",
   "execution_count": 31,
   "id": "bdcd8de4-b030-4ef7-972f-5645604e01fc",
   "metadata": {},
   "outputs": [],
   "source": [
    "from dataset import spectro_dataset, bird_dataset"
   ]
  },
  {
   "cell_type": "code",
   "execution_count": 32,
   "id": "c3cffdc8-34e7-4686-a7cc-96799aa88e17",
   "metadata": {},
   "outputs": [],
   "source": [
    "class wav_datamodule(pl.LightningDataModule):\n",
    "    def __init__(self, train_df, val_df, cfg=CFG, train_tfs=None, val_tfs=None):\n",
    "        super().__init__()\n",
    "        \n",
    "        self.train_df = train_df\n",
    "        self.val_df = val_df\n",
    "        \n",
    "        self.train_bs = cfg.BATCH_SIZE\n",
    "        self.val_bs = cfg.BATCH_SIZE\n",
    "\n",
    "        self.train_tfs = train_tfs\n",
    "        self.val_tfs = val_tfs\n",
    "\n",
    "        self.cfg = cfg\n",
    "        \n",
    "        self.num_workers = cfg.num_workers\n",
    "        \n",
    "    def train_dataloader(self):\n",
    "        train_ds = bird_dataset(self.train_df, self.cfg, tfs=self.train_tfs, mode='train')\n",
    "        \n",
    "        train_loader = torch.utils.data.DataLoader(\n",
    "            train_ds,\n",
    "            batch_size=self.train_bs,\n",
    "            pin_memory=False,\n",
    "            drop_last=False,\n",
    "            shuffle=True,\n",
    "            persistent_workers=True,\n",
    "            num_workers=self.num_workers,\n",
    "        )\n",
    "        \n",
    "        return train_loader\n",
    "        \n",
    "    def val_dataloader(self):\n",
    "        val_ds = bird_dataset(self.val_df, self.cfg, tfs=self.val_tfs, mode='val')\n",
    "        \n",
    "        val_loader = torch.utils.data.DataLoader(\n",
    "            val_ds,\n",
    "            batch_size=self.val_bs,\n",
    "            pin_memory=False,\n",
    "            drop_last=False,\n",
    "            shuffle=False,\n",
    "            persistent_workers=True,\n",
    "            num_workers=2,\n",
    "        )\n",
    "        \n",
    "        return val_loader"
   ]
  },
  {
   "cell_type": "code",
   "execution_count": 33,
   "id": "2c5d1cd2-f628-44bb-9216-75a6bb2d9e7e",
   "metadata": {
    "jupyter": {
     "source_hidden": true
    }
   },
   "outputs": [],
   "source": [
    "# class spectro_datamodule(pl.LightningDataModule):\n",
    "#     def __init__(self, train_df, val_df, cfg=CFG):\n",
    "#         super().__init__()\n",
    "        \n",
    "#         self.train_df = train_df\n",
    "#         self.val_df = val_df\n",
    "        \n",
    "#         self.train_bs = cfg.BATCH_SIZE\n",
    "#         self.val_bs = cfg.BATCH_SIZE\n",
    "        \n",
    "#         self.num_workers = cfg.num_workers\n",
    "        \n",
    "#     def train_dataloader(self):\n",
    "#         train_ds = spectro_dataset(self.train_df, X, y)\n",
    "        \n",
    "#         train_loader = torch.utils.data.DataLoader(\n",
    "#             train_ds,\n",
    "#             batch_size=self.train_bs,\n",
    "#             pin_memory=False,\n",
    "#             drop_last=False,\n",
    "#             shuffle=True,\n",
    "#             num_workers=self.num_workers,\n",
    "#         )\n",
    "        \n",
    "#         return train_loader\n",
    "        \n",
    "#     def val_dataloader(self):\n",
    "#         val_ds = spectro_dataset(self.val_df, X, y)\n",
    "        \n",
    "#         val_loader = torch.utils.data.DataLoader(\n",
    "#             val_ds,\n",
    "#             batch_size=self.val_bs,\n",
    "#             pin_memory=False,\n",
    "#             drop_last=False,\n",
    "#             shuffle=False,\n",
    "#             num_workers=self.num_workers,\n",
    "#         )\n",
    "        \n",
    "#         return val_loader"
   ]
  },
  {
   "cell_type": "code",
   "execution_count": 34,
   "id": "f5347c52-fb14-41b2-8a96-50effca14a2f",
   "metadata": {},
   "outputs": [],
   "source": [
    "image_size = CFG.image_size\n",
    "\n",
    "train_tfs = A.Compose([\n",
    "    # A.HorizontalFlip(p=0.5),\n",
    "    A.Resize(image_size, image_size),\n",
    "    A.CoarseDropout(max_height=int(image_size * 0.375), max_width=int(image_size * 0.375), max_holes=1, p=0.7),\n",
    "    # A.CoarseDropout(max_height=int(image_size * 0.17), max_width=int(image_size * 0.17), max_holes=2, p=0.7),\n",
    "    A.Normalize()\n",
    "])\n",
    "\n",
    "val_tfs = A.Compose([\n",
    "    A.Resize(image_size, image_size),\n",
    "    A.Normalize()\n",
    "])"
   ]
  },
  {
   "cell_type": "code",
   "execution_count": 35,
   "id": "47b38e0c-e0f8-491f-998b-e2902ed06c1b",
   "metadata": {},
   "outputs": [
    {
     "data": {
      "text/plain": [
       "(torch.Size([16, 3, 128, 157]),\n",
       " torch.Size([16, 188]),\n",
       " torch.float32,\n",
       " torch.float32)"
      ]
     },
     "execution_count": 35,
     "metadata": {},
     "output_type": "execute_result"
    }
   ],
   "source": [
    "t_df = meta_df[:-100]\n",
    "# t_df = pd.concat([meta_df[:-100], ul_df[:-100]], ignore_index=True)\n",
    "v_df = meta_df[-100:]\n",
    "\n",
    "CFG2 = CFG\n",
    "CFG2.BATCH_SIZE = 16\n",
    "CFG2.num_workers = 2\n",
    "\n",
    "dm = wav_datamodule(t_df, v_df, cfg=CFG2)\n",
    "# dm = wav_datamodule(t_df, v_df, cfg=CFG, train_tfs=train_tfs, val_tfs=val_tfs)\n",
    "\n",
    "x, y = next(iter(dm.train_dataloader()))\n",
    "x.shape, y.shape, x.dtype, y.dtype"
   ]
  },
  {
   "cell_type": "code",
   "execution_count": 36,
   "id": "c37f4135-de93-4308-8bcb-46f467b3de74",
   "metadata": {},
   "outputs": [],
   "source": [
    "# librosa.display.specshow(x[0].numpy()[0], y_axis=\"mel\", x_axis='s', sr=CFG.SR)\n",
    "# plt.show()"
   ]
  },
  {
   "cell_type": "code",
   "execution_count": 81,
   "id": "a2525ff0-3dab-443a-bfb0-82415e8703d6",
   "metadata": {},
   "outputs": [
    {
     "data": {
      "image/png": "[encoded data removed]",
      "text/plain": [
       "<Figure size 640x480 with 1 Axes>"
      ]
     },
     "metadata": {},
     "output_type": "display_data"
    }
   ],
   "source": [
    "librosa.display.specshow(x[2].numpy()[0], y_axis=\"mel\", x_axis='s', sr=CFG.SR, cmap='gray')\n",
    "plt.show()"
   ]
  },
  {
   "cell_type": "code",
   "execution_count": 38,
   "id": "1aa35666-d9c1-4c79-9b5d-d5b1e64a2844",
   "metadata": {},
   "outputs": [
    {
     "data": {
      "text/plain": [
       "(torch.Size([16, 3, 128, 128]),\n",
       " torch.Size([16, 188]),\n",
       " torch.float32,\n",
       " torch.float32)"
      ]
     },
     "execution_count": 38,
     "metadata": {},
     "output_type": "execute_result"
    }
   ],
   "source": [
    "dm = wav_datamodule(t_df, v_df, cfg=CFG, train_tfs=train_tfs, val_tfs=val_tfs)\n",
    "\n",
    "x, y = next(iter(dm.train_dataloader()))\n",
    "x.shape, y.shape, x.dtype, y.dtype"
   ]
  },
  {
   "cell_type": "code",
   "execution_count": 39,
   "id": "8e41e177-a05a-455c-a432-f732f41febf7",
   "metadata": {},
   "outputs": [
    {
     "data": {
      "image/png": "[encoded data removed]",
      "text/plain": [
       "<Figure size 640x480 with 1 Axes>"
      ]
     },
     "metadata": {},
     "output_type": "display_data"
    }
   ],
   "source": [
    "librosa.display.specshow(x[0].numpy()[0], y_axis=\"mel\", x_axis='s', sr=CFG.SR)\n",
    "plt.show()"
   ]
  },
  {
   "cell_type": "code",
   "execution_count": 40,
   "id": "0cf0fcc0-333c-490c-9b1d-336cdb062984",
   "metadata": {},
   "outputs": [],
   "source": [
    "# img = x[0]\n",
    "# img.shape, img.unsqueeze(dim=0).numpy().shape, img.expand(3, -1, -1).shape"
   ]
  },
  {
   "cell_type": "code",
   "execution_count": 41,
   "id": "5fefced1-4f92-46d3-b766-53e1f3340fd1",
   "metadata": {},
   "outputs": [],
   "source": [
    "# img.expand(3, -1, -1).permute(1, 2, 0).shape, img.expand(3, -1, -1).permute(1, 2, 0).numpy().transpose(2,0,1).shape"
   ]
  },
  {
   "cell_type": "code",
   "execution_count": 42,
   "id": "2e261686-0ec7-401f-8ef2-f538affc1978",
   "metadata": {
    "scrolled": true
   },
   "outputs": [],
   "source": [
    "# train_tfs(image=img.numpy())"
   ]
  },
  {
   "cell_type": "code",
   "execution_count": 43,
   "id": "4b3c4f6b-a9ae-4f6a-85fa-1e4aa674bc60",
   "metadata": {},
   "outputs": [],
   "source": [
    "del dm"
   ]
  },
  {
   "cell_type": "markdown",
   "id": "d0290a83-1686-43a4-b77b-99673cd9ee78",
   "metadata": {},
   "source": [
    "### Loss function"
   ]
  },
  {
   "cell_type": "code",
   "execution_count": 44,
   "id": "fb8b235c-f985-4112-bc18-193dd6d387f1",
   "metadata": {},
   "outputs": [],
   "source": [
    "class FocalLossBCE(torch.nn.Module):\n",
    "    def __init__(\n",
    "            self,\n",
    "            alpha: float = 0.25,\n",
    "            gamma: float = 2,\n",
    "            reduction: str = \"mean\",\n",
    "            bce_weight: float = 1.0,\n",
    "            focal_weight: float = 1.0,\n",
    "    ):\n",
    "        super().__init__()\n",
    "        self.alpha = alpha\n",
    "        self.gamma = gamma\n",
    "        self.reduction = reduction\n",
    "        self.bce = torch.nn.BCEWithLogitsLoss(reduction=reduction)\n",
    "        self.bce_weight = bce_weight\n",
    "        self.focal_weight = focal_weight\n",
    "\n",
    "    def forward(self, logits, targets):\n",
    "        focall_loss = torchvision.ops.focal_loss.sigmoid_focal_loss(\n",
    "            inputs=logits,\n",
    "            targets=targets,\n",
    "            alpha=self.alpha,\n",
    "            gamma=self.gamma,\n",
    "            reduction=self.reduction,\n",
    "        )\n",
    "        bce_loss = self.bce(logits, targets)\n",
    "        return self.bce_weight * bce_loss + self.focal_weight * focall_loss"
   ]
  },
  {
   "cell_type": "code",
   "execution_count": 45,
   "id": "dc95c49c-7e79-422c-8d5d-db875511ae63",
   "metadata": {},
   "outputs": [],
   "source": [
    "class GeM(torch.nn.Module):\n",
    "    def __init__(self, p=3, eps=1e-6):\n",
    "        super(GeM, self).__init__()\n",
    "        self.p = torch.nn.Parameter(torch.ones(1) * p)\n",
    "        self.eps = eps\n",
    "\n",
    "    def forward(self, x):\n",
    "        bs, ch, h, w = x.shape\n",
    "        x = torch.nn.functional.avg_pool2d(x.clamp(min=self.eps).pow(self.p), (x.size(-2), x.size(-1))).pow(\n",
    "            1.0 / self.p)\n",
    "        x = x.view(bs, ch)\n",
    "        return x"
   ]
  },
  {
   "cell_type": "markdown",
   "id": "b7c8cdcc-f236-49d5-8061-6ff26016895a",
   "metadata": {},
   "source": [
    "### Optimizer"
   ]
  },
  {
   "cell_type": "code",
   "execution_count": 46,
   "id": "d7368f7d-1f82-42df-8d31-c99e4399cd3d",
   "metadata": {},
   "outputs": [],
   "source": [
    "# Fix Warmup Bug\n",
    "class GradualWarmupSchedulerV2(GradualWarmupScheduler):\n",
    "    def __init__(self, optimizer, multiplier, total_epoch, after_scheduler=None):\n",
    "        super(GradualWarmupSchedulerV2, self).__init__(optimizer, multiplier, total_epoch, after_scheduler)\n",
    "        \n",
    "    def get_lr(self):\n",
    "        if self.last_epoch > self.total_epoch:\n",
    "            if self.after_scheduler:\n",
    "                if not self.finished:\n",
    "                    self.after_scheduler.base_lrs = [base_lr * self.multiplier for base_lr in self.base_lrs]\n",
    "                    self.finished = True\n",
    "                    \n",
    "                return self.after_scheduler.get_lr()\n",
    "            return [base_lr * self.multiplier for base_lr in self.base_lrs]\n",
    "            \n",
    "        if self.multiplier == 1.0:\n",
    "            return [base_lr * (float(self.last_epoch) / self.total_epoch) for base_lr in self.base_lrs]\n",
    "        else:\n",
    "            return [base_lr * ((self.multiplier - 1.) * self.last_epoch / self.total_epoch + 1.) for base_lr in self.base_lrs]"
   ]
  },
  {
   "cell_type": "markdown",
   "id": "2487cc43-694b-4c4c-991d-42c3d0978b7f",
   "metadata": {},
   "source": [
    "### Model"
   ]
  },
  {
   "cell_type": "code",
   "execution_count": 47,
   "id": "4bfdaa59-f790-40ed-97bc-b68249f36c03",
   "metadata": {},
   "outputs": [
    {
     "name": "stdout",
     "output_type": "stream",
     "text": [
      "Number of models available:  1329\n",
      "Number of models available:  1032\n",
      "\n",
      "Densenet models:  ['eca_nfnet_l0', 'eca_nfnet_l1', 'eca_nfnet_l2', 'eca_nfnet_l3']\n"
     ]
    }
   ],
   "source": [
    "print('Number of models available: ', len(timm.list_models(pretrained=True)))\n",
    "print('Number of models available: ', len(timm.list_models()))\n",
    "print('\\nDensenet models: ', timm.list_models('eca_nfnet_*'))"
   ]
  },
  {
   "cell_type": "code",
   "execution_count": 48,
   "id": "efa6a532-eeb6-4914-962d-6e05084ff568",
   "metadata": {},
   "outputs": [],
   "source": [
    "backbone = 'eca_nfnet_l1'\n",
    "# backbone = 'efficientnet_b4'\n",
    "out_indices = (3, 4)"
   ]
  },
  {
   "cell_type": "code",
   "execution_count": 49,
   "id": "0ed313c6-f7e8-493e-b0b7-b5b503446f10",
   "metadata": {},
   "outputs": [],
   "source": [
    "model = timm.create_model(\n",
    "    backbone,\n",
    "    features_only=True,\n",
    "    pretrained=False,\n",
    "    in_chans=3,\n",
    "    num_classes=5,\n",
    "    # out_indices=out_indices,\n",
    "    )"
   ]
  },
  {
   "cell_type": "code",
   "execution_count": 50,
   "id": "f46d78b2-a4ba-48ab-8a7d-1e57cd4c521d",
   "metadata": {},
   "outputs": [],
   "source": [
    "# model.feature_info."
   ]
  },
  {
   "cell_type": "code",
   "execution_count": 51,
   "id": "3507fc7c-1a70-45d0-9547-766002a81176",
   "metadata": {},
   "outputs": [
    {
     "data": {
      "text/plain": [
       "[64, 256, 512, 1536, 3072]"
      ]
     },
     "execution_count": 51,
     "metadata": {},
     "output_type": "execute_result"
    }
   ],
   "source": [
    "model.feature_info.channels()"
   ]
  },
  {
   "cell_type": "code",
   "execution_count": 52,
   "id": "cecf1298-269f-48c3-b001-ddff587e2cc2",
   "metadata": {},
   "outputs": [
    {
     "data": {
      "text/plain": [
       "[64, 256, 512, 1536, 3072]"
      ]
     },
     "execution_count": 52,
     "metadata": {},
     "output_type": "execute_result"
    }
   ],
   "source": [
    "model.feature_info.channels()"
   ]
  },
  {
   "cell_type": "code",
   "execution_count": 53,
   "id": "f2be581a-53cb-4163-a2af-de815b95295c",
   "metadata": {},
   "outputs": [
    {
     "data": {
      "text/plain": [
       "[64, 256, 512, 1536, 3072]"
      ]
     },
     "execution_count": 53,
     "metadata": {},
     "output_type": "execute_result"
    }
   ],
   "source": [
    "model.feature_info.channels()"
   ]
  },
  {
   "cell_type": "code",
   "execution_count": 54,
   "id": "e76316d1-6cbf-4cb8-ba39-a6736dedfd12",
   "metadata": {},
   "outputs": [
    {
     "data": {
      "text/plain": [
       "5440"
      ]
     },
     "execution_count": 54,
     "metadata": {},
     "output_type": "execute_result"
    }
   ],
   "source": [
    "np.sum(model.feature_info.channels())"
   ]
  },
  {
   "cell_type": "code",
   "execution_count": 55,
   "id": "70019588-9d55-47cd-bcee-462dffbdb915",
   "metadata": {},
   "outputs": [
    {
     "data": {
      "text/plain": [
       "torch.Size([3, 128, 157])"
      ]
     },
     "execution_count": 55,
     "metadata": {},
     "output_type": "execute_result"
    }
   ],
   "source": [
    "spect.shape"
   ]
  },
  {
   "cell_type": "code",
   "execution_count": 56,
   "id": "78f793b7-c83c-478d-869d-d424d9babf5e",
   "metadata": {},
   "outputs": [],
   "source": [
    "def mixup(data, targets, alpha, device):\n",
    "    indices = torch.randperm(data.size(0))\n",
    "    data2 = data[indices]\n",
    "    targets2 = targets[indices]\n",
    "\n",
    "    lam = torch.FloatTensor([np.random.beta(alpha, alpha)]).to(device)\n",
    "    data = data * lam + data2 * (1 - lam)\n",
    "    targets = targets * lam + targets2 * (1 - lam)\n",
    "\n",
    "    # data += data2\n",
    "    # targets += targets2\n",
    "\n",
    "    # return data, targets.clip(max=1)\n",
    "    return data, targets"
   ]
  },
  {
   "cell_type": "code",
   "execution_count": 57,
   "id": "345828ef-53f2-477d-a195-99cc76115f03",
   "metadata": {},
   "outputs": [],
   "source": [
    "class GeMModel(pl.LightningModule):\n",
    "    def __init__(self, cfg = CFG, pretrained = True):\n",
    "        super().__init__()\n",
    "\n",
    "        self.cfg = cfg\n",
    "        \n",
    "        out_indices = (3, 4)\n",
    "\n",
    "        self.criterion = FocalLossBCE()\n",
    "\n",
    "        self.train_acc = tm.classification.MulticlassAccuracy(num_classes=self.cfg.N_LABELS)\n",
    "        self.val_acc = tm.classification.MulticlassAccuracy(num_classes=self.cfg.N_LABELS)\n",
    "\n",
    "        # self.train_acc = tm.classification.MultilabelAccuracy(num_labels=self.cfg.N_LABELS)\n",
    "        self.val_macc = tm.classification.MultilabelAccuracy(num_labels=self.cfg.N_LABELS)\n",
    "\n",
    "        self.train_auroc = tm.classification.MulticlassAUROC(num_classes=self.cfg.N_LABELS)\n",
    "        self.val_auroc = tm.classification.MulticlassAUROC(num_classes=self.cfg.N_LABELS)\n",
    "\n",
    "        # self.model_name = self.cfg.model_name\n",
    "        print(self.cfg.model_name)\n",
    "        \n",
    "        self.backbone = timm.create_model(\n",
    "            self.cfg.model_name, \n",
    "            features_only=True,\n",
    "            pretrained=pretrained,\n",
    "            in_chans=3,\n",
    "            num_classes=self.cfg.N_LABELS,\n",
    "            out_indices=out_indices,\n",
    "        )\n",
    "\n",
    "        feature_dims = self.backbone.feature_info.channels()\n",
    "\n",
    "        self.global_pools = torch.nn.ModuleList([GeM() for _ in out_indices])\n",
    "        self.mid_features = np.sum(feature_dims)\n",
    "        \n",
    "        self.neck = torch.nn.BatchNorm1d(self.mid_features)\n",
    "        self.head = torch.nn.Linear(self.mid_features, self.cfg.N_LABELS)\n",
    "\n",
    "    def forward(self, x):\n",
    "        ms = self.backbone(x)\n",
    "        \n",
    "        h = torch.cat([global_pool(m) for m, global_pool in zip(ms, self.global_pools)], dim=1)\n",
    "        x = self.neck(h)\n",
    "        x = self.head(x)\n",
    "        \n",
    "        return x\n",
    "        \n",
    "    def configure_optimizers(self):\n",
    "        optimizer = torch.optim.Adam(model.parameters(), lr=self.cfg.LEARNING_RATE, weight_decay=CFG.weight_decay)\n",
    "        \n",
    "        if self.cfg.USE_SCHD:\n",
    "            scheduler_cosine = torch.optim.lr_scheduler.CosineAnnealingLR(optimizer, self.cfg.COS_EPOCHS)\n",
    "            scheduler_warmup = GradualWarmupSchedulerV2(optimizer, multiplier=10, total_epoch=self.cfg.WARM_EPOCHS, after_scheduler=scheduler_cosine)\n",
    "\n",
    "            return [optimizer], [scheduler_warmup]\n",
    "        else:\n",
    "            # LRscheduler = torch.optim.lr_scheduler.StepLR(optimizer, step_size=10, gamma=0.2)\n",
    "            \n",
    "            # return [optimizer], [LRscheduler]\n",
    "            return optimizer\n",
    "\n",
    "    def step(self, batch, batch_idx, mode='train'):\n",
    "        x, y = batch\n",
    "\n",
    "        if self.cfg.MIXUP and mode == 'train':\n",
    "            x, y = mixup(x, y, 0.5, self.cfg.device)\n",
    "        \n",
    "        preds = self(x)\n",
    "        \n",
    "        loss = self.criterion(preds, y)\n",
    "        \n",
    "        if mode == 'train':\n",
    "            self.train_acc(preds, y.argmax(1))\n",
    "            # self.train_auroc(preds, y.argmax(1))\n",
    "        else:\n",
    "            self.val_acc(preds, y.argmax(1))\n",
    "            self.val_macc(preds, y)\n",
    "            # self.val_auroc(preds, y.argmax(1))\n",
    "        \n",
    "        self.log(f'{mode}/loss', loss, on_step=True, on_epoch=True)\n",
    "        # self.log(f'{mode}/kl_loss', kl_loss, on_step=True, on_epoch=True)\n",
    "\n",
    "        return loss\n",
    "    \n",
    "    def training_step(self, batch, batch_idx):\n",
    "        loss = self.step(batch, batch_idx, mode='train')\n",
    "        self.log(f'train/acc', self.train_acc, on_step=True, on_epoch=True)\n",
    "        # self.log(f'train/auroc', self.train_auroc, on_step=True, on_epoch=True)\n",
    "        \n",
    "        return loss\n",
    "        \n",
    "    def validation_step(self, batch, batch_idx):\n",
    "        loss = self.step(batch, batch_idx, mode='val')\n",
    "        self.log(f'val/acc', self.val_acc, on_step=True, on_epoch=True)\n",
    "        self.log(f'val/macc', self.val_macc, on_step=True, on_epoch=True)\n",
    "        # self.log(f'val/auroc', self.val_auroc, on_step=True, on_epoch=True)\n",
    "    \n",
    "        return loss\n",
    "    \n",
    "    def on_train_epoch_end(self):\n",
    "        self.train_acc.reset()\n",
    "\n",
    "    def on_validation_epoch_end(self):\n",
    "        self.val_acc.reset()\n",
    "        self.val_macc.reset()"
   ]
  },
  {
   "cell_type": "code",
   "execution_count": 58,
   "id": "ee642f01-68a5-4943-a7f9-f8c6ea84bb97",
   "metadata": {},
   "outputs": [
    {
     "name": "stdout",
     "output_type": "stream",
     "text": [
      "eca_nfnet_l0\n"
     ]
    }
   ],
   "source": [
    "model = GeMModel(CFG)"
   ]
  },
  {
   "cell_type": "code",
   "execution_count": 59,
   "id": "8fb45197-973a-4638-9ac2-0c45673c1b7f",
   "metadata": {},
   "outputs": [],
   "source": [
    "foo = model(x)"
   ]
  },
  {
   "cell_type": "code",
   "execution_count": 60,
   "id": "be4ee029-03d9-4547-adf3-740a8156927f",
   "metadata": {},
   "outputs": [
    {
     "data": {
      "text/plain": [
       "torch.Size([16, 188])"
      ]
     },
     "execution_count": 60,
     "metadata": {},
     "output_type": "execute_result"
    }
   ],
   "source": [
    "foo.shape"
   ]
  },
  {
   "cell_type": "markdown",
   "id": "364b8b50-8c6e-4c2e-8919-c01fb7da0887",
   "metadata": {},
   "source": [
    "### Split"
   ]
  },
  {
   "cell_type": "code",
   "execution_count": 61,
   "id": "cb17bc35-5f12-4452-89b2-ab83cd758e16",
   "metadata": {},
   "outputs": [],
   "source": [
    "from sklearn.model_selection import ShuffleSplit, StratifiedShuffleSplit"
   ]
  },
  {
   "cell_type": "code",
   "execution_count": 62,
   "id": "b4dbbe26-bcad-44a8-aeab-34f0d035e317",
   "metadata": {},
   "outputs": [
    {
     "data": {
      "text/plain": [
       "((22013, 4), (2446, 4))"
      ]
     },
     "execution_count": 62,
     "metadata": {},
     "output_type": "execute_result"
    }
   ],
   "source": [
    "sss = StratifiedShuffleSplit(n_splits=1, test_size=0.1, random_state=CFG.random_seed)\n",
    "train_idx, val_idx = next(sss.split(meta_df.filename, meta_df.primary_label))\n",
    "\n",
    "t_df = meta_df.iloc[train_idx]\n",
    "v_df = meta_df.iloc[val_idx]\n",
    "\n",
    "# t_df = pd.concat([t_df, ul_df], ignore_index=True)\n",
    "\n",
    "t_df.shape, v_df.shape"
   ]
  },
  {
   "cell_type": "code",
   "execution_count": 63,
   "id": "78635a7d-ee12-4318-8739-3dad371713df",
   "metadata": {},
   "outputs": [],
   "source": [
    "# t_df = t_df[t_df['rating'] > 1]\n",
    "# t_df.shape"
   ]
  },
  {
   "cell_type": "markdown",
   "id": "5e6ea315-0f2b-4eb8-bb13-374d98a00bd3",
   "metadata": {},
   "source": [
    "### Train"
   ]
  },
  {
   "cell_type": "code",
   "execution_count": 64,
   "id": "23a58b8c-cf39-4d76-83e9-07d6825fad41",
   "metadata": {},
   "outputs": [],
   "source": [
    "# dm = wav_datamodule(t_df,v_df)\n",
    "dm = wav_datamodule(t_df, v_df, CFG, train_tfs=train_tfs, val_tfs=val_tfs) "
   ]
  },
  {
   "cell_type": "code",
   "execution_count": 65,
   "id": "41ca8443-2945-44d1-90fe-7c118561edd9",
   "metadata": {},
   "outputs": [
    {
     "data": {
      "text/plain": [
       "(1376, 153)"
      ]
     },
     "execution_count": 65,
     "metadata": {},
     "output_type": "execute_result"
    }
   ],
   "source": [
    "len(dm.train_dataloader()), len(dm.val_dataloader())"
   ]
  },
  {
   "cell_type": "code",
   "execution_count": 66,
   "id": "445f058b-bd8e-4c75-8cbc-a89319e4d2d0",
   "metadata": {},
   "outputs": [
    {
     "name": "stdout",
     "output_type": "stream",
     "text": [
      "eca_nfnet_l0\n"
     ]
    }
   ],
   "source": [
    "model = GeMModel(CFG)"
   ]
  },
  {
   "cell_type": "code",
   "execution_count": 67,
   "id": "fed48e95-c3d7-4ed0-b124-ab29b2fc73e3",
   "metadata": {},
   "outputs": [],
   "source": [
    "from pytorch_lightning.loggers import WandbLogger\n",
    "from pytorch_lightning.callbacks import Callback, LearningRateMonitor"
   ]
  },
  {
   "cell_type": "code",
   "execution_count": 68,
   "id": "5ad84a5e-9f70-41c6-a263-9b8fc2342119",
   "metadata": {},
   "outputs": [],
   "source": [
    "run_name = f'{CFG.model_name} {CFG.LEARNING_RATE} {CFG.N_EPOCHS} eps {CFG.comment}'"
   ]
  },
  {
   "cell_type": "code",
   "execution_count": 69,
   "id": "d5e42af4-9b0c-4b1b-802e-3b701a8cb22f",
   "metadata": {},
   "outputs": [],
   "source": [
    "wandb_logger = WandbLogger(\n",
    "    name=run_name,\n",
    "    project='Bird-local-2',\n",
    "    job_type='train',\n",
    "    save_dir=CFG.RESULTS_DIR,\n",
    "    # config=cfg,\n",
    ")"
   ]
  },
  {
   "cell_type": "code",
   "execution_count": 70,
   "id": "cf7fef48-ab92-4d8a-8f21-32303022bf4d",
   "metadata": {},
   "outputs": [],
   "source": [
    "loss_ckpt = pl.callbacks.ModelCheckpoint(\n",
    "    monitor='val/loss',\n",
    "    auto_insert_metric_name=False,\n",
    "    dirpath=CFG.CKPT_DIR / run_name,\n",
    "    filename='ep_{epoch:02d}_loss_{val/loss:.5f}',\n",
    "    save_top_k=2,\n",
    "    mode='min',\n",
    ")"
   ]
  },
  {
   "cell_type": "code",
   "execution_count": 71,
   "id": "9cc3ddae-2914-4d30-ab71-4f497941d627",
   "metadata": {},
   "outputs": [],
   "source": [
    "acc_ckpt = pl.callbacks.ModelCheckpoint(\n",
    "    monitor='val/acc',\n",
    "    auto_insert_metric_name=False,\n",
    "    dirpath=CFG.CKPT_DIR / run_name,\n",
    "    filename='ep_{epoch:02d}_acc_{val/acc:.5f}',\n",
    "    save_top_k=2,\n",
    "    mode='max',\n",
    ")"
   ]
  },
  {
   "cell_type": "code",
   "execution_count": 72,
   "id": "7a9a5572-5830-4ccd-aadc-0b2530ad231a",
   "metadata": {},
   "outputs": [],
   "source": [
    "lr_monitor = LearningRateMonitor(logging_interval='step')"
   ]
  },
  {
   "cell_type": "code",
   "execution_count": 73,
   "id": "c3c36fca-3d9b-41dd-ae9d-63bedb609347",
   "metadata": {},
   "outputs": [
    {
     "data": {
      "text/plain": [
       "'cuda'"
      ]
     },
     "execution_count": 73,
     "metadata": {},
     "output_type": "execute_result"
    }
   ],
   "source": [
    "CFG.device"
   ]
  },
  {
   "cell_type": "code",
   "execution_count": 74,
   "id": "0a82ec4e-4def-4966-8b03-717d7e799366",
   "metadata": {},
   "outputs": [
    {
     "name": "stderr",
     "output_type": "stream",
     "text": [
      "GPU available: True (cuda), used: True\n",
      "TPU available: False, using: 0 TPU cores\n",
      "IPU available: False, using: 0 IPUs\n",
      "HPU available: False, using: 0 HPUs\n"
     ]
    }
   ],
   "source": [
    "trainer = pl.Trainer(\n",
    "    max_epochs=CFG.N_EPOCHS,\n",
    "    deterministic=True,\n",
    "    accelerator=CFG.device,\n",
    "    default_root_dir=CFG.RESULTS_DIR,\n",
    "    gradient_clip_val=0.5, \n",
    "    # gradient_clip_algorithm=\"value\",\n",
    "    logger=wandb_logger,\n",
    "    callbacks=[loss_ckpt, acc_ckpt, lr_monitor],\n",
    "    \n",
    ")"
   ]
  },
  {
   "cell_type": "code",
   "execution_count": 75,
   "id": "72522d99-4afb-4cb8-86aa-4207c67dca61",
   "metadata": {},
   "outputs": [
    {
     "name": "stderr",
     "output_type": "stream",
     "text": [
      "You are using a CUDA device ('NVIDIA GeForce RTX 4090 Laptop GPU') that has Tensor Cores. To properly utilize them, you should set `torch.set_float32_matmul_precision('medium' | 'high')` which will trade-off precision for performance. For more details, read https://pytorch.org/docs/stable/generated/torch.set_float32_matmul_precision.html#torch.set_float32_matmul_precision\n"
     ]
    },
    {
     "data": {
      "text/html": [
       "wandb version 0.17.0 is available!  To upgrade, please run:\n",
       " $ pip install wandb --upgrade"
      ],
      "text/plain": [
       "<IPython.core.display.HTML object>"
      ]
     },
     "metadata": {},
     "output_type": "display_data"
    },
    {
     "data": {
      "text/html": [
       "Tracking run with wandb version 0.16.5"
      ],
      "text/plain": [
       "<IPython.core.display.HTML object>"
      ]
     },
     "metadata": {},
     "output_type": "display_data"
    },
    {
     "data": {
      "text/html": [
       "Run data is saved locally in <code>E:\\data\\BirdCLEF\\results\\wandb\\run-20240604_020839-b58suoe4</code>"
      ],
      "text/plain": [
       "<IPython.core.display.HTML object>"
      ]
     },
     "metadata": {},
     "output_type": "display_data"
    },
    {
     "data": {
      "text/html": [
       "Syncing run <strong><a href='https://wandb.ai/rosu-lucian/Bird-local-2/runs/b58suoe4/workspace' target=\"_blank\">eca_nfnet_l0 5e-05 25 eps 16khz</a></strong> to <a href='https://wandb.ai/rosu-lucian/Bird-local-2' target=\"_blank\">Weights & Biases</a> (<a href='https://wandb.me/run' target=\"_blank\">docs</a>)<br/>"
      ],
      "text/plain": [
       "<IPython.core.display.HTML object>"
      ]
     },
     "metadata": {},
     "output_type": "display_data"
    },
    {
     "data": {
      "text/html": [
       " View project at <a href='https://wandb.ai/rosu-lucian/Bird-local-2' target=\"_blank\">https://wandb.ai/rosu-lucian/Bird-local-2</a>"
      ],
      "text/plain": [
       "<IPython.core.display.HTML object>"
      ]
     },
     "metadata": {},
     "output_type": "display_data"
    },
    {
     "data": {
      "text/html": [
       " View run at <a href='https://wandb.ai/rosu-lucian/Bird-local-2/runs/b58suoe4/workspace' target=\"_blank\">https://wandb.ai/rosu-lucian/Bird-local-2/runs/b58suoe4/workspace</a>"
      ],
      "text/plain": [
       "<IPython.core.display.HTML object>"
      ]
     },
     "metadata": {},
     "output_type": "display_data"
    },
    {
     "name": "stderr",
     "output_type": "stream",
     "text": [
      "LOCAL_RANK: 0 - CUDA_VISIBLE_DEVICES: [0]\n",
      "\n",
      "  | Name         | Type               | Params\n",
      "----------------------------------------------------\n",
      "0 | criterion    | FocalLossBCE       | 0     \n",
      "1 | train_acc    | MulticlassAccuracy | 0     \n",
      "2 | val_acc      | MulticlassAccuracy | 0     \n",
      "3 | val_macc     | MultilabelAccuracy | 0     \n",
      "4 | train_auroc  | MulticlassAUROC    | 0     \n",
      "5 | val_auroc    | MulticlassAUROC    | 0     \n",
      "6 | backbone     | FeatureListNet     | 21.8 M\n",
      "7 | global_pools | ModuleList         | 2     \n",
      "8 | neck         | BatchNorm1d        | 7.7 K \n",
      "9 | head         | Linear             | 722 K \n",
      "----------------------------------------------------\n",
      "22.6 M    Trainable params\n",
      "0         Non-trainable params\n",
      "22.6 M    Total params\n",
      "90.275    Total estimated model params size (MB)\n"
     ]
    },
    {
     "data": {
      "application/vnd.jupyter.widget-view+json": {
       "model_id": "",
       "version_major": 2,
       "version_minor": 0
      },
      "text/plain": [
       "Sanity Checking: |                                                                        | 0/? [00:00<?, ?it/…"
      ]
     },
     "metadata": {},
     "output_type": "display_data"
    },
    {
     "name": "stderr",
     "output_type": "stream",
     "text": [
      "C:\\Users\\Asus\\.conda\\envs\\llms\\lib\\site-packages\\torchmetrics\\utilities\\prints.py:43: UserWarning: The ``compute`` method of metric MulticlassAccuracy was called before the ``update`` method which may lead to errors, as metric states have not yet been updated.\n",
      "  warnings.warn(*args, **kwargs)  # noqa: B028\n",
      "C:\\Users\\Asus\\.conda\\envs\\llms\\lib\\site-packages\\torchmetrics\\utilities\\prints.py:43: UserWarning: The ``compute`` method of metric MultilabelAccuracy was called before the ``update`` method which may lead to errors, as metric states have not yet been updated.\n",
      "  warnings.warn(*args, **kwargs)  # noqa: B028\n"
     ]
    },
    {
     "data": {
      "application/vnd.jupyter.widget-view+json": {
       "model_id": "eb8f382272564187a2495aaccfd2b9da",
       "version_major": 2,
       "version_minor": 0
      },
      "text/plain": [
       "Training: |                                                                               | 0/? [00:00<?, ?it/…"
      ]
     },
     "metadata": {},
     "output_type": "display_data"
    },
    {
     "name": "stderr",
     "output_type": "stream",
     "text": [
      "C:\\Users\\Asus\\.conda\\envs\\llms\\lib\\site-packages\\torch\\autograd\\graph.py:744: UserWarning: Plan failed with a cudnnException: CUDNN_BACKEND_EXECUTION_PLAN_DESCRIPTOR: cudnnFinalize Descriptor Failed cudnn_status: CUDNN_STATUS_NOT_SUPPORTED (Triggered internally at C:\\cb\\pytorch_1000000000000\\work\\aten\\src\\ATen\\native\\cudnn\\Conv_v8.cpp:919.)\n",
      "  return Variable._execution_engine.run_backward(  # Calls into the C++ engine to run the backward pass\n"
     ]
    },
    {
     "data": {
      "application/vnd.jupyter.widget-view+json": {
       "model_id": "",
       "version_major": 2,
       "version_minor": 0
      },
      "text/plain": [
       "Validation: |                                                                             | 0/? [00:00<?, ?it/…"
      ]
     },
     "metadata": {},
     "output_type": "display_data"
    },
    {
     "data": {
      "application/vnd.jupyter.widget-view+json": {
       "model_id": "",
       "version_major": 2,
       "version_minor": 0
      },
      "text/plain": [
       "Validation: |                                                                             | 0/? [00:00<?, ?it/…"
      ]
     },
     "metadata": {},
     "output_type": "display_data"
    },
    {
     "data": {
      "application/vnd.jupyter.widget-view+json": {
       "model_id": "",
       "version_major": 2,
       "version_minor": 0
      },
      "text/plain": [
       "Validation: |                                                                             | 0/? [00:00<?, ?it/…"
      ]
     },
     "metadata": {},
     "output_type": "display_data"
    },
    {
     "data": {
      "application/vnd.jupyter.widget-view+json": {
       "model_id": "",
       "version_major": 2,
       "version_minor": 0
      },
      "text/plain": [
       "Validation: |                                                                             | 0/? [00:00<?, ?it/…"
      ]
     },
     "metadata": {},
     "output_type": "display_data"
    },
    {
     "data": {
      "application/vnd.jupyter.widget-view+json": {
       "model_id": "",
       "version_major": 2,
       "version_minor": 0
      },
      "text/plain": [
       "Validation: |                                                                             | 0/? [00:00<?, ?it/…"
      ]
     },
     "metadata": {},
     "output_type": "display_data"
    },
    {
     "data": {
      "application/vnd.jupyter.widget-view+json": {
       "model_id": "",
       "version_major": 2,
       "version_minor": 0
      },
      "text/plain": [
       "Validation: |                                                                             | 0/? [00:00<?, ?it/…"
      ]
     },
     "metadata": {},
     "output_type": "display_data"
    },
    {
     "data": {
      "application/vnd.jupyter.widget-view+json": {
       "model_id": "",
       "version_major": 2,
       "version_minor": 0
      },
      "text/plain": [
       "Validation: |                                                                             | 0/? [00:00<?, ?it/…"
      ]
     },
     "metadata": {},
     "output_type": "display_data"
    },
    {
     "data": {
      "application/vnd.jupyter.widget-view+json": {
       "model_id": "",
       "version_major": 2,
       "version_minor": 0
      },
      "text/plain": [
       "Validation: |                                                                             | 0/? [00:00<?, ?it/…"
      ]
     },
     "metadata": {},
     "output_type": "display_data"
    },
    {
     "data": {
      "application/vnd.jupyter.widget-view+json": {
       "model_id": "",
       "version_major": 2,
       "version_minor": 0
      },
      "text/plain": [
       "Validation: |                                                                             | 0/? [00:00<?, ?it/…"
      ]
     },
     "metadata": {},
     "output_type": "display_data"
    },
    {
     "data": {
      "application/vnd.jupyter.widget-view+json": {
       "model_id": "",
       "version_major": 2,
       "version_minor": 0
      },
      "text/plain": [
       "Validation: |                                                                             | 0/? [00:00<?, ?it/…"
      ]
     },
     "metadata": {},
     "output_type": "display_data"
    },
    {
     "data": {
      "application/vnd.jupyter.widget-view+json": {
       "model_id": "",
       "version_major": 2,
       "version_minor": 0
      },
      "text/plain": [
       "Validation: |                                                                             | 0/? [00:00<?, ?it/…"
      ]
     },
     "metadata": {},
     "output_type": "display_data"
    },
    {
     "data": {
      "application/vnd.jupyter.widget-view+json": {
       "model_id": "",
       "version_major": 2,
       "version_minor": 0
      },
      "text/plain": [
       "Validation: |                                                                             | 0/? [00:00<?, ?it/…"
      ]
     },
     "metadata": {},
     "output_type": "display_data"
    },
    {
     "data": {
      "application/vnd.jupyter.widget-view+json": {
       "model_id": "",
       "version_major": 2,
       "version_minor": 0
      },
      "text/plain": [
       "Validation: |                                                                             | 0/? [00:00<?, ?it/…"
      ]
     },
     "metadata": {},
     "output_type": "display_data"
    },
    {
     "data": {
      "application/vnd.jupyter.widget-view+json": {
       "model_id": "",
       "version_major": 2,
       "version_minor": 0
      },
      "text/plain": [
       "Validation: |                                                                             | 0/? [00:00<?, ?it/…"
      ]
     },
     "metadata": {},
     "output_type": "display_data"
    },
    {
     "data": {
      "application/vnd.jupyter.widget-view+json": {
       "model_id": "",
       "version_major": 2,
       "version_minor": 0
      },
      "text/plain": [
       "Validation: |                                                                             | 0/? [00:00<?, ?it/…"
      ]
     },
     "metadata": {},
     "output_type": "display_data"
    },
    {
     "data": {
      "application/vnd.jupyter.widget-view+json": {
       "model_id": "",
       "version_major": 2,
       "version_minor": 0
      },
      "text/plain": [
       "Validation: |                                                                             | 0/? [00:00<?, ?it/…"
      ]
     },
     "metadata": {},
     "output_type": "display_data"
    },
    {
     "data": {
      "application/vnd.jupyter.widget-view+json": {
       "model_id": "",
       "version_major": 2,
       "version_minor": 0
      },
      "text/plain": [
       "Validation: |                                                                             | 0/? [00:00<?, ?it/…"
      ]
     },
     "metadata": {},
     "output_type": "display_data"
    },
    {
     "data": {
      "application/vnd.jupyter.widget-view+json": {
       "model_id": "",
       "version_major": 2,
       "version_minor": 0
      },
      "text/plain": [
       "Validation: |                                                                             | 0/? [00:00<?, ?it/…"
      ]
     },
     "metadata": {},
     "output_type": "display_data"
    },
    {
     "data": {
      "application/vnd.jupyter.widget-view+json": {
       "model_id": "",
       "version_major": 2,
       "version_minor": 0
      },
      "text/plain": [
       "Validation: |                                                                             | 0/? [00:00<?, ?it/…"
      ]
     },
     "metadata": {},
     "output_type": "display_data"
    },
    {
     "data": {
      "application/vnd.jupyter.widget-view+json": {
       "model_id": "",
       "version_major": 2,
       "version_minor": 0
      },
      "text/plain": [
       "Validation: |                                                                             | 0/? [00:00<?, ?it/…"
      ]
     },
     "metadata": {},
     "output_type": "display_data"
    },
    {
     "data": {
      "application/vnd.jupyter.widget-view+json": {
       "model_id": "",
       "version_major": 2,
       "version_minor": 0
      },
      "text/plain": [
       "Validation: |                                                                             | 0/? [00:00<?, ?it/…"
      ]
     },
     "metadata": {},
     "output_type": "display_data"
    },
    {
     "data": {
      "application/vnd.jupyter.widget-view+json": {
       "model_id": "",
       "version_major": 2,
       "version_minor": 0
      },
      "text/plain": [
       "Validation: |                                                                             | 0/? [00:00<?, ?it/…"
      ]
     },
     "metadata": {},
     "output_type": "display_data"
    },
    {
     "data": {
      "application/vnd.jupyter.widget-view+json": {
       "model_id": "",
       "version_major": 2,
       "version_minor": 0
      },
      "text/plain": [
       "Validation: |                                                                             | 0/? [00:00<?, ?it/…"
      ]
     },
     "metadata": {},
     "output_type": "display_data"
    },
    {
     "data": {
      "application/vnd.jupyter.widget-view+json": {
       "model_id": "",
       "version_major": 2,
       "version_minor": 0
      },
      "text/plain": [
       "Validation: |                                                                             | 0/? [00:00<?, ?it/…"
      ]
     },
     "metadata": {},
     "output_type": "display_data"
    },
    {
     "data": {
      "application/vnd.jupyter.widget-view+json": {
       "model_id": "",
       "version_major": 2,
       "version_minor": 0
      },
      "text/plain": [
       "Validation: |                                                                             | 0/? [00:00<?, ?it/…"
      ]
     },
     "metadata": {},
     "output_type": "display_data"
    },
    {
     "name": "stderr",
     "output_type": "stream",
     "text": [
      "`Trainer.fit` stopped: `max_epochs=25` reached.\n"
     ]
    }
   ],
   "source": [
    "trainer.fit(model, dm)"
   ]
  },
  {
   "cell_type": "code",
   "execution_count": 76,
   "id": "393f1b86-4212-410c-a862-97a6b3bd6d55",
   "metadata": {},
   "outputs": [
    {
     "data": {
      "application/vnd.jupyter.widget-view+json": {
       "model_id": "",
       "version_major": 2,
       "version_minor": 0
      },
      "text/plain": [
       "VBox(children=(Label(value='0.001 MB of 0.008 MB uploaded\\r'), FloatProgress(value=0.16568256967406708, max=1.…"
      ]
     },
     "metadata": {},
     "output_type": "display_data"
    },
    {
     "data": {
      "text/html": [
       "<style>\n",
       "    table.wandb td:nth-child(1) { padding: 0 10px; text-align: left ; width: auto;} td:nth-child(2) {text-align: left ; width: 100%}\n",
       "    .wandb-row { display: flex; flex-direction: row; flex-wrap: wrap; justify-content: flex-start; width: 100% }\n",
       "    .wandb-col { display: flex; flex-direction: column; flex-basis: 100%; flex: 1; padding: 10px; }\n",
       "    </style>\n",
       "<div class=\"wandb-row\"><div class=\"wandb-col\"><h3>Run history:</h3><br/><table class=\"wandb\"><tr><td>epoch</td><td>▁▁▁▂▂▂▂▂▂▂▃▃▃▃▃▄▄▄▄▅▅▅▅▅▅▅▆▆▆▆▇▇▇▇▇▇████</td></tr><tr><td>lr-Adam</td><td>▁▁▁▁▁▁▁▁▁▁▁▁▁▁▁▁▁▁▁▁▁▁▁▁▁▁▁▁▁▁▁▁▁▁▁▁▁▁▁▁</td></tr><tr><td>train/acc_epoch</td><td>▁▁▃▄▄▅▅▅▆▆▆▆▆▇▇▇▇▇▇▇▇████</td></tr><tr><td>train/acc_step</td><td>▁▁▂▄▃▃▂▃▄▄▅▅▆▅▄▄▅▅▂▆▃▃▅▄▆▅▄▅▄▆▇▅▄▆▆▆▄▆▅█</td></tr><tr><td>train/loss_epoch</td><td>█▂▁▁▁▁▁▁▁▁▁▁▁▁▁▁▁▁▁▁▁▁▁▁▁</td></tr><tr><td>train/loss_step</td><td>█▂▁▁▁▁▁▁▁▁▁▁▁▁▁▁▁▁▁▁▁▁▁▁▁▁▁▁▁▁▁▁▁▁▁▁▁▁▁▁</td></tr><tr><td>trainer/global_step</td><td>▁▁▁▂▁▁▁▁▃▁▁▃▁▁▄▁▁▁▁▅▁▁▅▁▆▂▂▂▂▂▇▂▂▇▂█▂▂█▂</td></tr><tr><td>val/acc_epoch</td><td>▁▂▄▅▅▆▆▇▇▇▇▇▇█▇▇██▇██████</td></tr><tr><td>val/acc_step</td><td>▁▁▄▃▄▄▃▄▇▃▄▅▄▄▆▆▅▇▅▆▇▄▅▄▄▅▄▅▆█▅▅▅▆▅▅▄▅▅▅</td></tr><tr><td>val/loss_epoch</td><td>█▅▅▆▄▇▂▃▃▃▂▃▁▂▃▂▁▁▃▁▁▁▁▁▁</td></tr><tr><td>val/loss_step</td><td>▄▄▂▂▂▁▁▁▁▂▁▁▂▁▁▂▁▁▂▁▁▁█▂▁▁▁▁▁▂▁▁▁▁▁▁▁▁▁▁</td></tr><tr><td>val/macc_epoch</td><td>▂▂▂▂▅▁▆▅▅▄▆▆▇▇▄▆██▄███▇██</td></tr><tr><td>val/macc_step</td><td>▅▇▇▇▇▇▇▇▇▇█▇▇▇█▆▇▇▇██▇▁▇▇▇███▆██████▇█▇▇</td></tr></table><br/></div><div class=\"wandb-col\"><h3>Run summary:</h3><br/><table class=\"wandb\"><tr><td>epoch</td><td>24</td></tr><tr><td>lr-Adam</td><td>5e-05</td></tr><tr><td>train/acc_epoch</td><td>0.6492</td></tr><tr><td>train/acc_step</td><td>0.85714</td></tr><tr><td>train/loss_epoch</td><td>0.0165</td></tr><tr><td>train/loss_step</td><td>0.00981</td></tr><tr><td>trainer/global_step</td><td>34399</td></tr><tr><td>val/acc_epoch</td><td>0.58881</td></tr><tr><td>val/acc_step</td><td>0.5</td></tr><tr><td>val/loss_epoch</td><td>0.01455</td></tr><tr><td>val/loss_step</td><td>0.0161</td></tr><tr><td>val/macc_epoch</td><td>0.99708</td></tr><tr><td>val/macc_step</td><td>0.99734</td></tr></table><br/></div></div>"
      ],
      "text/plain": [
       "<IPython.core.display.HTML object>"
      ]
     },
     "metadata": {},
     "output_type": "display_data"
    },
    {
     "data": {
      "text/html": [
       " View run <strong style=\"color:#cdcd00\">eca_nfnet_l0 5e-05 25 eps 16khz</strong> at: <a href='https://wandb.ai/rosu-lucian/Bird-local-2/runs/b58suoe4/workspace' target=\"_blank\">https://wandb.ai/rosu-lucian/Bird-local-2/runs/b58suoe4/workspace</a><br/>Synced 5 W&B file(s), 0 media file(s), 0 artifact file(s) and 0 other file(s)"
      ],
      "text/plain": [
       "<IPython.core.display.HTML object>"
      ]
     },
     "metadata": {},
     "output_type": "display_data"
    },
    {
     "data": {
      "text/html": [
       "Find logs at: <code>E:\\data\\BirdCLEF\\results\\wandb\\run-20240604_020839-b58suoe4\\logs</code>"
      ],
      "text/plain": [
       "<IPython.core.display.HTML object>"
      ]
     },
     "metadata": {},
     "output_type": "display_data"
    }
   ],
   "source": [
    "wandb.finish()"
   ]
  },
  {
   "cell_type": "markdown",
   "id": "e208b3dd-6f6b-4a73-ba55-b6ee0ec13a78",
   "metadata": {},
   "source": [
    "### Predict"
   ]
  },
  {
   "cell_type": "code",
   "execution_count": 77,
   "id": "37a1f450-61d6-4602-9683-df2295194195",
   "metadata": {},
   "outputs": [
    {
     "ename": "PicklingError",
     "evalue": "Can't pickle <class 'dataset.bird_dataset'>: it's not the same object as dataset.bird_dataset",
     "output_type": "error",
     "traceback": [
      "\u001b[1;31m---------------------------------------------------------------------------\u001b[0m",
      "\u001b[1;31mPicklingError\u001b[0m                             Traceback (most recent call last)",
      "Cell \u001b[1;32mIn[77], line 1\u001b[0m\n\u001b[1;32m----> 1\u001b[0m x, y \u001b[38;5;241m=\u001b[39m \u001b[38;5;28mnext\u001b[39m(\u001b[38;5;28;43miter\u001b[39;49m\u001b[43m(\u001b[49m\u001b[43mdm\u001b[49m\u001b[38;5;241;43m.\u001b[39;49m\u001b[43mtrain_dataloader\u001b[49m\u001b[43m(\u001b[49m\u001b[43m)\u001b[49m\u001b[43m)\u001b[49m)\n",
      "File \u001b[1;32m~\\.conda\\envs\\llms\\lib\\site-packages\\torch\\utils\\data\\dataloader.py:434\u001b[0m, in \u001b[0;36mDataLoader.__iter__\u001b[1;34m(self)\u001b[0m\n\u001b[0;32m    432\u001b[0m \u001b[38;5;28;01mif\u001b[39;00m \u001b[38;5;28mself\u001b[39m\u001b[38;5;241m.\u001b[39mpersistent_workers \u001b[38;5;129;01mand\u001b[39;00m \u001b[38;5;28mself\u001b[39m\u001b[38;5;241m.\u001b[39mnum_workers \u001b[38;5;241m>\u001b[39m \u001b[38;5;241m0\u001b[39m:\n\u001b[0;32m    433\u001b[0m     \u001b[38;5;28;01mif\u001b[39;00m \u001b[38;5;28mself\u001b[39m\u001b[38;5;241m.\u001b[39m_iterator \u001b[38;5;129;01mis\u001b[39;00m \u001b[38;5;28;01mNone\u001b[39;00m:\n\u001b[1;32m--> 434\u001b[0m         \u001b[38;5;28mself\u001b[39m\u001b[38;5;241m.\u001b[39m_iterator \u001b[38;5;241m=\u001b[39m \u001b[38;5;28;43mself\u001b[39;49m\u001b[38;5;241;43m.\u001b[39;49m\u001b[43m_get_iterator\u001b[49m\u001b[43m(\u001b[49m\u001b[43m)\u001b[49m\n\u001b[0;32m    435\u001b[0m     \u001b[38;5;28;01melse\u001b[39;00m:\n\u001b[0;32m    436\u001b[0m         \u001b[38;5;28mself\u001b[39m\u001b[38;5;241m.\u001b[39m_iterator\u001b[38;5;241m.\u001b[39m_reset(\u001b[38;5;28mself\u001b[39m)\n",
      "File \u001b[1;32m~\\.conda\\envs\\llms\\lib\\site-packages\\torch\\utils\\data\\dataloader.py:387\u001b[0m, in \u001b[0;36mDataLoader._get_iterator\u001b[1;34m(self)\u001b[0m\n\u001b[0;32m    385\u001b[0m \u001b[38;5;28;01melse\u001b[39;00m:\n\u001b[0;32m    386\u001b[0m     \u001b[38;5;28mself\u001b[39m\u001b[38;5;241m.\u001b[39mcheck_worker_number_rationality()\n\u001b[1;32m--> 387\u001b[0m     \u001b[38;5;28;01mreturn\u001b[39;00m \u001b[43m_MultiProcessingDataLoaderIter\u001b[49m\u001b[43m(\u001b[49m\u001b[38;5;28;43mself\u001b[39;49m\u001b[43m)\u001b[49m\n",
      "File \u001b[1;32m~\\.conda\\envs\\llms\\lib\\site-packages\\torch\\utils\\data\\dataloader.py:1040\u001b[0m, in \u001b[0;36m_MultiProcessingDataLoaderIter.__init__\u001b[1;34m(self, loader)\u001b[0m\n\u001b[0;32m   1033\u001b[0m w\u001b[38;5;241m.\u001b[39mdaemon \u001b[38;5;241m=\u001b[39m \u001b[38;5;28;01mTrue\u001b[39;00m\n\u001b[0;32m   1034\u001b[0m \u001b[38;5;66;03m# NB: Process.start() actually take some time as it needs to\u001b[39;00m\n\u001b[0;32m   1035\u001b[0m \u001b[38;5;66;03m#     start a process and pass the arguments over via a pipe.\u001b[39;00m\n\u001b[0;32m   1036\u001b[0m \u001b[38;5;66;03m#     Therefore, we only add a worker to self._workers list after\u001b[39;00m\n\u001b[0;32m   1037\u001b[0m \u001b[38;5;66;03m#     it started, so that we do not call .join() if program dies\u001b[39;00m\n\u001b[0;32m   1038\u001b[0m \u001b[38;5;66;03m#     before it starts, and __del__ tries to join but will get:\u001b[39;00m\n\u001b[0;32m   1039\u001b[0m \u001b[38;5;66;03m#     AssertionError: can only join a started process.\u001b[39;00m\n\u001b[1;32m-> 1040\u001b[0m \u001b[43mw\u001b[49m\u001b[38;5;241;43m.\u001b[39;49m\u001b[43mstart\u001b[49m\u001b[43m(\u001b[49m\u001b[43m)\u001b[49m\n\u001b[0;32m   1041\u001b[0m \u001b[38;5;28mself\u001b[39m\u001b[38;5;241m.\u001b[39m_index_queues\u001b[38;5;241m.\u001b[39mappend(index_queue)\n\u001b[0;32m   1042\u001b[0m \u001b[38;5;28mself\u001b[39m\u001b[38;5;241m.\u001b[39m_workers\u001b[38;5;241m.\u001b[39mappend(w)\n",
      "File \u001b[1;32m~\\.conda\\envs\\llms\\lib\\multiprocessing\\process.py:121\u001b[0m, in \u001b[0;36mBaseProcess.start\u001b[1;34m(self)\u001b[0m\n\u001b[0;32m    118\u001b[0m \u001b[38;5;28;01massert\u001b[39;00m \u001b[38;5;129;01mnot\u001b[39;00m _current_process\u001b[38;5;241m.\u001b[39m_config\u001b[38;5;241m.\u001b[39mget(\u001b[38;5;124m'\u001b[39m\u001b[38;5;124mdaemon\u001b[39m\u001b[38;5;124m'\u001b[39m), \\\n\u001b[0;32m    119\u001b[0m        \u001b[38;5;124m'\u001b[39m\u001b[38;5;124mdaemonic processes are not allowed to have children\u001b[39m\u001b[38;5;124m'\u001b[39m\n\u001b[0;32m    120\u001b[0m _cleanup()\n\u001b[1;32m--> 121\u001b[0m \u001b[38;5;28mself\u001b[39m\u001b[38;5;241m.\u001b[39m_popen \u001b[38;5;241m=\u001b[39m \u001b[38;5;28;43mself\u001b[39;49m\u001b[38;5;241;43m.\u001b[39;49m\u001b[43m_Popen\u001b[49m\u001b[43m(\u001b[49m\u001b[38;5;28;43mself\u001b[39;49m\u001b[43m)\u001b[49m\n\u001b[0;32m    122\u001b[0m \u001b[38;5;28mself\u001b[39m\u001b[38;5;241m.\u001b[39m_sentinel \u001b[38;5;241m=\u001b[39m \u001b[38;5;28mself\u001b[39m\u001b[38;5;241m.\u001b[39m_popen\u001b[38;5;241m.\u001b[39msentinel\n\u001b[0;32m    123\u001b[0m \u001b[38;5;66;03m# Avoid a refcycle if the target function holds an indirect\u001b[39;00m\n\u001b[0;32m    124\u001b[0m \u001b[38;5;66;03m# reference to the process object (see bpo-30775)\u001b[39;00m\n",
      "File \u001b[1;32m~\\.conda\\envs\\llms\\lib\\multiprocessing\\context.py:224\u001b[0m, in \u001b[0;36mProcess._Popen\u001b[1;34m(process_obj)\u001b[0m\n\u001b[0;32m    222\u001b[0m \u001b[38;5;129m@staticmethod\u001b[39m\n\u001b[0;32m    223\u001b[0m \u001b[38;5;28;01mdef\u001b[39;00m \u001b[38;5;21m_Popen\u001b[39m(process_obj):\n\u001b[1;32m--> 224\u001b[0m     \u001b[38;5;28;01mreturn\u001b[39;00m \u001b[43m_default_context\u001b[49m\u001b[38;5;241;43m.\u001b[39;49m\u001b[43mget_context\u001b[49m\u001b[43m(\u001b[49m\u001b[43m)\u001b[49m\u001b[38;5;241;43m.\u001b[39;49m\u001b[43mProcess\u001b[49m\u001b[38;5;241;43m.\u001b[39;49m\u001b[43m_Popen\u001b[49m\u001b[43m(\u001b[49m\u001b[43mprocess_obj\u001b[49m\u001b[43m)\u001b[49m\n",
      "File \u001b[1;32m~\\.conda\\envs\\llms\\lib\\multiprocessing\\context.py:336\u001b[0m, in \u001b[0;36mSpawnProcess._Popen\u001b[1;34m(process_obj)\u001b[0m\n\u001b[0;32m    333\u001b[0m \u001b[38;5;129m@staticmethod\u001b[39m\n\u001b[0;32m    334\u001b[0m \u001b[38;5;28;01mdef\u001b[39;00m \u001b[38;5;21m_Popen\u001b[39m(process_obj):\n\u001b[0;32m    335\u001b[0m     \u001b[38;5;28;01mfrom\u001b[39;00m \u001b[38;5;21;01m.\u001b[39;00m\u001b[38;5;21;01mpopen_spawn_win32\u001b[39;00m \u001b[38;5;28;01mimport\u001b[39;00m Popen\n\u001b[1;32m--> 336\u001b[0m     \u001b[38;5;28;01mreturn\u001b[39;00m \u001b[43mPopen\u001b[49m\u001b[43m(\u001b[49m\u001b[43mprocess_obj\u001b[49m\u001b[43m)\u001b[49m\n",
      "File \u001b[1;32m~\\.conda\\envs\\llms\\lib\\multiprocessing\\popen_spawn_win32.py:93\u001b[0m, in \u001b[0;36mPopen.__init__\u001b[1;34m(self, process_obj)\u001b[0m\n\u001b[0;32m     91\u001b[0m \u001b[38;5;28;01mtry\u001b[39;00m:\n\u001b[0;32m     92\u001b[0m     reduction\u001b[38;5;241m.\u001b[39mdump(prep_data, to_child)\n\u001b[1;32m---> 93\u001b[0m     \u001b[43mreduction\u001b[49m\u001b[38;5;241;43m.\u001b[39;49m\u001b[43mdump\u001b[49m\u001b[43m(\u001b[49m\u001b[43mprocess_obj\u001b[49m\u001b[43m,\u001b[49m\u001b[43m \u001b[49m\u001b[43mto_child\u001b[49m\u001b[43m)\u001b[49m\n\u001b[0;32m     94\u001b[0m \u001b[38;5;28;01mfinally\u001b[39;00m:\n\u001b[0;32m     95\u001b[0m     set_spawning_popen(\u001b[38;5;28;01mNone\u001b[39;00m)\n",
      "File \u001b[1;32m~\\.conda\\envs\\llms\\lib\\multiprocessing\\reduction.py:60\u001b[0m, in \u001b[0;36mdump\u001b[1;34m(obj, file, protocol)\u001b[0m\n\u001b[0;32m     58\u001b[0m \u001b[38;5;28;01mdef\u001b[39;00m \u001b[38;5;21mdump\u001b[39m(obj, file, protocol\u001b[38;5;241m=\u001b[39m\u001b[38;5;28;01mNone\u001b[39;00m):\n\u001b[0;32m     59\u001b[0m \u001b[38;5;250m    \u001b[39m\u001b[38;5;124;03m'''Replacement for pickle.dump() using ForkingPickler.'''\u001b[39;00m\n\u001b[1;32m---> 60\u001b[0m     \u001b[43mForkingPickler\u001b[49m\u001b[43m(\u001b[49m\u001b[43mfile\u001b[49m\u001b[43m,\u001b[49m\u001b[43m \u001b[49m\u001b[43mprotocol\u001b[49m\u001b[43m)\u001b[49m\u001b[38;5;241;43m.\u001b[39;49m\u001b[43mdump\u001b[49m\u001b[43m(\u001b[49m\u001b[43mobj\u001b[49m\u001b[43m)\u001b[49m\n",
      "\u001b[1;31mPicklingError\u001b[0m: Can't pickle <class 'dataset.bird_dataset'>: it's not the same object as dataset.bird_dataset"
     ]
    }
   ],
   "source": [
    "x, y = next(iter(dm.train_dataloader()))"
   ]
  },
  {
   "cell_type": "code",
   "execution_count": null,
   "id": "8f5bafd9-6541-4224-9bce-cb7ad0c8616c",
   "metadata": {
    "scrolled": true
   },
   "outputs": [],
   "source": [
    "foo = model(x)\n",
    "# foo = model(x.to(CFG.device))\n",
    "foo.shape"
   ]
  },
  {
   "cell_type": "code",
   "execution_count": null,
   "id": "660d2e48-72b6-412f-890e-f23849693f83",
   "metadata": {},
   "outputs": [],
   "source": [
    "y[1]"
   ]
  },
  {
   "cell_type": "code",
   "execution_count": null,
   "id": "6b6e7cc6-d471-4ee8-8a00-9a56c86f1bbe",
   "metadata": {},
   "outputs": [],
   "source": [
    "foo.sigmoid().topk(3,dim=-1)"
   ]
  },
  {
   "cell_type": "code",
   "execution_count": null,
   "id": "68e4b285-5716-4120-a234-3810271116f1",
   "metadata": {},
   "outputs": [],
   "source": [
    "topk = foo.sigmoid().topk(3,dim=-1)"
   ]
  },
  {
   "cell_type": "code",
   "execution_count": null,
   "id": "61c672a4-894f-418e-9487-f03fffe74784",
   "metadata": {},
   "outputs": [],
   "source": [
    "vals = topk[0].detach().numpy()\n",
    "idx = topk[1].detach().numpy()\n",
    "vals.shape, idx.shape"
   ]
  },
  {
   "cell_type": "code",
   "execution_count": null,
   "id": "99ab0be6-3da8-4f83-8e38-3522c1f2a6ab",
   "metadata": {
    "scrolled": true
   },
   "outputs": [],
   "source": [
    "# idx, vals"
   ]
  },
  {
   "cell_type": "code",
   "execution_count": null,
   "id": "28d4b869-8ddc-43f5-a48a-a9e4acc2a370",
   "metadata": {
    "scrolled": true
   },
   "outputs": [],
   "source": [
    "np.concatenate([vals,idx], axis=-1).shape"
   ]
  },
  {
   "cell_type": "code",
   "execution_count": null,
   "id": "c6bd8443-7e8d-4aa6-be9c-a4b775d3d693",
   "metadata": {
    "scrolled": true
   },
   "outputs": [],
   "source": [
    "torch.nn.functional.softmax(foo[0], dim=-1)"
   ]
  },
  {
   "cell_type": "code",
   "execution_count": null,
   "id": "1289fbba-b44b-47f3-97f0-5a7d43997108",
   "metadata": {},
   "outputs": [],
   "source": [
    "torch.nn.functional.softmax(foo, dim=-1).max(dim=-1)"
   ]
  },
  {
   "cell_type": "code",
   "execution_count": null,
   "id": "9cf52716-d0bc-4242-89a0-3f5ba7987e50",
   "metadata": {},
   "outputs": [],
   "source": [
    "torch.nn.functional.softmax(foo, dim=-1).argmax(dim=-1)"
   ]
  },
  {
   "cell_type": "code",
   "execution_count": null,
   "id": "429dcd0c-06d1-4130-9c0c-0597b36c07d0",
   "metadata": {},
   "outputs": [],
   "source": [
    "y.argmax(dim=-1)"
   ]
  },
  {
   "cell_type": "code",
   "execution_count": null,
   "id": "0e8f4c57-d161-4f5a-8e11-ac46b10f69ff",
   "metadata": {},
   "outputs": [],
   "source": []
  },
  {
   "cell_type": "code",
   "execution_count": null,
   "id": "361811fe-42bf-4717-9400-675c203aa8c3",
   "metadata": {},
   "outputs": [],
   "source": []
  },
  {
   "cell_type": "code",
   "execution_count": null,
   "id": "d8364ceb-2031-484a-a5c1-0503c1a72f5f",
   "metadata": {},
   "outputs": [],
   "source": []
  },
  {
   "cell_type": "code",
   "execution_count": null,
   "id": "26404a7b-0f14-4fa6-be8e-07256c8c52a8",
   "metadata": {},
   "outputs": [],
   "source": []
  },
  {
   "cell_type": "code",
   "execution_count": null,
   "id": "04064148-4d89-43a7-9ff2-9bd7a9e11dda",
   "metadata": {},
   "outputs": [],
   "source": []
  },
  {
   "cell_type": "code",
   "execution_count": null,
   "id": "60059dec-a57e-4559-9e6f-a2513c3fd4bf",
   "metadata": {},
   "outputs": [],
   "source": []
  }
 ],
 "metadata": {
  "kernelspec": {
   "display_name": "Python 3 (ipykernel)",
   "language": "python",
   "name": "python3"
  },
  "language_info": {
   "codemirror_mode": {
    "name": "ipython",
    "version": 3
   },
   "file_extension": ".py",
   "mimetype": "text/x-python",
   "name": "python",
   "nbconvert_exporter": "python",
   "pygments_lexer": "ipython3",
   "version": "3.10.14"
  }
 },
 "nbformat": 4,
 "nbformat_minor": 5
}
