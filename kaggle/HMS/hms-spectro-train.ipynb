{
 "cells": [
  {
   "cell_type": "code",
   "execution_count": 1,
   "metadata": {
    "tags": []
   },
   "outputs": [],
   "source": [
    "%load_ext autoreload\n",
    "%autoreload 2"
   ]
  },
  {
   "cell_type": "code",
   "execution_count": 2,
   "metadata": {
    "_cell_guid": "b1076dfc-b9ad-4769-8c92-a6c4dae69d19",
    "_uuid": "8f2839f25d086af736a60e9eeb907d3b93b6e0e5",
    "tags": []
   },
   "outputs": [],
   "source": [
    "import os\n",
    "import wandb\n",
    "import torch\n",
    "import random\n",
    "import efficientnet_pytorch\n",
    "\n",
    "import numpy as np\n",
    "import pandas as pd\n",
    "import torch.nn as nn\n",
    "import matplotlib.pyplot as plt\n",
    "import pytorch_lightning as pl\n",
    "\n",
    "import torch.nn.functional as F\n",
    "\n",
    "from albumentations.pytorch import ToTensorV2\n",
    "from efficientnet_pytorch import EfficientNet"
   ]
  },
  {
   "cell_type": "code",
   "execution_count": 3,
   "metadata": {
    "tags": []
   },
   "outputs": [
    {
     "name": "stdout",
     "output_type": "stream",
     "text": [
      "4015c794f679e3b16458b585c36e77213d391bc2\n"
     ]
    }
   ],
   "source": [
    "print(os.getenv('wandb_api_key'))"
   ]
  },
  {
   "cell_type": "code",
   "execution_count": 4,
   "metadata": {
    "tags": []
   },
   "outputs": [],
   "source": [
    "# os.environ"
   ]
  },
  {
   "cell_type": "code",
   "execution_count": 5,
   "metadata": {
    "tags": []
   },
   "outputs": [],
   "source": [
    "# print(key=os.environ['wandb_api_key'])"
   ]
  },
  {
   "cell_type": "code",
   "execution_count": 6,
   "metadata": {
    "tags": []
   },
   "outputs": [
    {
     "name": "stderr",
     "output_type": "stream",
     "text": [
      "\u001b[34m\u001b[1mwandb\u001b[0m: Currently logged in as: \u001b[33mrosu-lucian\u001b[0m. Use \u001b[1m`wandb login --relogin`\u001b[0m to force relogin\n",
      "\u001b[34m\u001b[1mwandb\u001b[0m: \u001b[33mWARNING\u001b[0m If you're specifying your api key in code, ensure this code is not shared publicly.\n",
      "\u001b[34m\u001b[1mwandb\u001b[0m: \u001b[33mWARNING\u001b[0m Consider setting the WANDB_API_KEY environment variable, or running `wandb login` from the command line.\n",
      "\u001b[34m\u001b[1mwandb\u001b[0m: Appending key for api.wandb.ai to your netrc file: C:\\Users\\rosul\\.netrc\n"
     ]
    },
    {
     "data": {
      "text/plain": [
       "True"
      ]
     },
     "execution_count": 6,
     "metadata": {},
     "output_type": "execute_result"
    }
   ],
   "source": [
    "# wandb.login(key=os.environ['wandb_api_key'])\n",
    "wandb.login(key='4015c794f679e3b16458b585c36e77213d391bc2')"
   ]
  },
  {
   "cell_type": "code",
   "execution_count": 7,
   "metadata": {
    "tags": []
   },
   "outputs": [
    {
     "data": {
      "text/plain": [
       "('cuda', '2.1.1', '2.0.3')"
      ]
     },
     "execution_count": 7,
     "metadata": {},
     "output_type": "execute_result"
    }
   ],
   "source": [
    "accelerator = 'cuda' if torch.cuda.is_available() else 'cpu'  # Check GPU\n",
    "accelerator, torch.__version__, pl.__version__"
   ]
  },
  {
   "cell_type": "markdown",
   "metadata": {},
   "source": [
    "### Config"
   ]
  },
  {
   "cell_type": "code",
   "execution_count": 8,
   "metadata": {
    "tags": []
   },
   "outputs": [
    {
     "data": {
      "text/plain": [
       "'D:\\\\data\\\\HMS/results/ckpt'"
      ]
     },
     "execution_count": 8,
     "metadata": {},
     "output_type": "execute_result"
    }
   ],
   "source": [
    "data_dir = 'D:\\data\\HMS'\n",
    "\n",
    "cfg = {\n",
    "    'encoder': 'efficientnet-b0',\n",
    "    'seed': 42,\n",
    "    'cls_num': 6,\n",
    "    'spect_dir': f'{data_dir}/train_spectrograms',\n",
    "    'train_bs': 32,\n",
    "    'val_bs': 32,\n",
    "    'num_workers': 4,\n",
    "    'max_epochs': 8,\n",
    "    'lr': 1e-4,\n",
    "    'comment': '',\n",
    "}\n",
    "\n",
    "results_dir = f'{data_dir}/results'\n",
    "ckpt_path = f'{results_dir}/ckpt'\n",
    "\n",
    "ckpt_path"
   ]
  },
  {
   "cell_type": "code",
   "execution_count": 9,
   "metadata": {
    "tags": []
   },
   "outputs": [],
   "source": [
    "# type(cfg)"
   ]
  },
  {
   "cell_type": "code",
   "execution_count": 10,
   "metadata": {
    "tags": []
   },
   "outputs": [],
   "source": [
    "try:\n",
    "    if not os.path.exists(results_dir):\n",
    "        os.mkdir(results_dir)\n",
    "    if not os.path.exists(ckpt_path):\n",
    "        os.mkdir(ckpt_path)\n",
    "except Exception as e:\n",
    "    print(e)\n",
    "    print('dir already exists')"
   ]
  },
  {
   "cell_type": "code",
   "execution_count": 11,
   "metadata": {
    "tags": []
   },
   "outputs": [],
   "source": [
    "def seed_everything(seed):\n",
    "    random.seed(seed)\n",
    "    os.environ['PYTHONHASHSEED'] = str(seed)\n",
    "    np.random.seed(seed)\n",
    "    torch.manual_seed(seed)\n",
    "    torch.cuda.manual_seed(seed)\n",
    "    torch.backends.cudnn.deterministic = True\n",
    "    torch.backends.cudnn.benchmark = True\n",
    "\n",
    "seed_everything(cfg['seed'])"
   ]
  },
  {
   "cell_type": "markdown",
   "metadata": {},
   "source": [
    "### Data"
   ]
  },
  {
   "cell_type": "code",
   "execution_count": 12,
   "metadata": {
    "tags": []
   },
   "outputs": [
    {
     "data": {
      "text/plain": [
       "Index(['eeg_id', 'eeg_sub_id', 'eeg_label_offset_seconds', 'spectrogram_id',\n",
       "       'spectrogram_sub_id', 'spectrogram_label_offset_seconds', 'label_id',\n",
       "       'patient_id', 'expert_consensus', 'seizure_vote', 'lpd_vote',\n",
       "       'gpd_vote', 'lrda_vote', 'grda_vote', 'other_vote'],\n",
       "      dtype='object')"
      ]
     },
     "execution_count": 12,
     "metadata": {},
     "output_type": "execute_result"
    }
   ],
   "source": [
    "train_df = pd.read_csv(f'{data_dir}/train.csv')\n",
    "train_df.columns"
   ]
  },
  {
   "cell_type": "code",
   "execution_count": 13,
   "metadata": {
    "tags": []
   },
   "outputs": [],
   "source": [
    "vote_cols = [x for x in train_df.columns if 'vote' in x]\n",
    "# vote_cols\n",
    "\n",
    "train_df['total_votes'] = train_df.loc[:, vote_cols].sum(axis=1)\n",
    "train_df['cons_votes'] = train_df.loc[:, vote_cols].max(axis=1)\n",
    "\n",
    "train_df['consensus'] = train_df['cons_votes']/train_df['total_votes']"
   ]
  },
  {
   "cell_type": "code",
   "execution_count": 14,
   "metadata": {
    "tags": []
   },
   "outputs": [
    {
     "data": {
      "text/plain": [
       "['seizure_vote',\n",
       " 'lpd_vote',\n",
       " 'gpd_vote',\n",
       " 'lrda_vote',\n",
       " 'grda_vote',\n",
       " 'other_vote']"
      ]
     },
     "execution_count": 14,
     "metadata": {},
     "output_type": "execute_result"
    }
   ],
   "source": [
    "vote_cols"
   ]
  },
  {
   "cell_type": "code",
   "execution_count": 15,
   "metadata": {
    "tags": []
   },
   "outputs": [
    {
     "data": {
      "text/html": [
       "<div>\n",
       "<style scoped>\n",
       "    .dataframe tbody tr th:only-of-type {\n",
       "        vertical-align: middle;\n",
       "    }\n",
       "\n",
       "    .dataframe tbody tr th {\n",
       "        vertical-align: top;\n",
       "    }\n",
       "\n",
       "    .dataframe thead th {\n",
       "        text-align: right;\n",
       "    }\n",
       "</style>\n",
       "<table border=\"1\" class=\"dataframe\">\n",
       "  <thead>\n",
       "    <tr style=\"text-align: right;\">\n",
       "      <th></th>\n",
       "      <th>eeg_id</th>\n",
       "      <th>eeg_sub_id</th>\n",
       "      <th>eeg_label_offset_seconds</th>\n",
       "      <th>spectrogram_id</th>\n",
       "      <th>spectrogram_sub_id</th>\n",
       "      <th>spectrogram_label_offset_seconds</th>\n",
       "      <th>label_id</th>\n",
       "      <th>patient_id</th>\n",
       "      <th>expert_consensus</th>\n",
       "      <th>seizure_vote</th>\n",
       "      <th>lpd_vote</th>\n",
       "      <th>gpd_vote</th>\n",
       "      <th>lrda_vote</th>\n",
       "      <th>grda_vote</th>\n",
       "      <th>other_vote</th>\n",
       "      <th>total_votes</th>\n",
       "      <th>cons_votes</th>\n",
       "      <th>consensus</th>\n",
       "    </tr>\n",
       "  </thead>\n",
       "  <tbody>\n",
       "    <tr>\n",
       "      <th>34848</th>\n",
       "      <td>352705021</td>\n",
       "      <td>30</td>\n",
       "      <td>108.0</td>\n",
       "      <td>686402130</td>\n",
       "      <td>30</td>\n",
       "      <td>108.0</td>\n",
       "      <td>393891559</td>\n",
       "      <td>38549</td>\n",
       "      <td>GPD</td>\n",
       "      <td>0</td>\n",
       "      <td>2</td>\n",
       "      <td>11</td>\n",
       "      <td>0</td>\n",
       "      <td>0</td>\n",
       "      <td>0</td>\n",
       "      <td>13</td>\n",
       "      <td>11</td>\n",
       "      <td>0.846154</td>\n",
       "    </tr>\n",
       "    <tr>\n",
       "      <th>49129</th>\n",
       "      <td>1758542393</td>\n",
       "      <td>5</td>\n",
       "      <td>18.0</td>\n",
       "      <td>959372535</td>\n",
       "      <td>5</td>\n",
       "      <td>18.0</td>\n",
       "      <td>4283252794</td>\n",
       "      <td>34893</td>\n",
       "      <td>GRDA</td>\n",
       "      <td>0</td>\n",
       "      <td>0</td>\n",
       "      <td>0</td>\n",
       "      <td>0</td>\n",
       "      <td>3</td>\n",
       "      <td>0</td>\n",
       "      <td>3</td>\n",
       "      <td>3</td>\n",
       "      <td>1.000000</td>\n",
       "    </tr>\n",
       "    <tr>\n",
       "      <th>12772</th>\n",
       "      <td>369158057</td>\n",
       "      <td>8</td>\n",
       "      <td>44.0</td>\n",
       "      <td>250501602</td>\n",
       "      <td>8</td>\n",
       "      <td>44.0</td>\n",
       "      <td>3818240317</td>\n",
       "      <td>65203</td>\n",
       "      <td>Seizure</td>\n",
       "      <td>3</td>\n",
       "      <td>0</td>\n",
       "      <td>0</td>\n",
       "      <td>0</td>\n",
       "      <td>0</td>\n",
       "      <td>0</td>\n",
       "      <td>3</td>\n",
       "      <td>3</td>\n",
       "      <td>1.000000</td>\n",
       "    </tr>\n",
       "    <tr>\n",
       "      <th>92397</th>\n",
       "      <td>1840011277</td>\n",
       "      <td>1</td>\n",
       "      <td>4.0</td>\n",
       "      <td>1872858502</td>\n",
       "      <td>1</td>\n",
       "      <td>4.0</td>\n",
       "      <td>1305534833</td>\n",
       "      <td>45528</td>\n",
       "      <td>LPD</td>\n",
       "      <td>0</td>\n",
       "      <td>3</td>\n",
       "      <td>0</td>\n",
       "      <td>0</td>\n",
       "      <td>0</td>\n",
       "      <td>2</td>\n",
       "      <td>5</td>\n",
       "      <td>3</td>\n",
       "      <td>0.600000</td>\n",
       "    </tr>\n",
       "    <tr>\n",
       "      <th>76728</th>\n",
       "      <td>2793291056</td>\n",
       "      <td>7</td>\n",
       "      <td>34.0</td>\n",
       "      <td>1540613004</td>\n",
       "      <td>7</td>\n",
       "      <td>34.0</td>\n",
       "      <td>106820417</td>\n",
       "      <td>55692</td>\n",
       "      <td>Seizure</td>\n",
       "      <td>3</td>\n",
       "      <td>0</td>\n",
       "      <td>0</td>\n",
       "      <td>0</td>\n",
       "      <td>0</td>\n",
       "      <td>0</td>\n",
       "      <td>3</td>\n",
       "      <td>3</td>\n",
       "      <td>1.000000</td>\n",
       "    </tr>\n",
       "  </tbody>\n",
       "</table>\n",
       "</div>"
      ],
      "text/plain": [
       "           eeg_id  eeg_sub_id  eeg_label_offset_seconds  spectrogram_id  \\\n",
       "34848   352705021          30                     108.0       686402130   \n",
       "49129  1758542393           5                      18.0       959372535   \n",
       "12772   369158057           8                      44.0       250501602   \n",
       "92397  1840011277           1                       4.0      1872858502   \n",
       "76728  2793291056           7                      34.0      1540613004   \n",
       "\n",
       "       spectrogram_sub_id  spectrogram_label_offset_seconds    label_id  \\\n",
       "34848                  30                             108.0   393891559   \n",
       "49129                   5                              18.0  4283252794   \n",
       "12772                   8                              44.0  3818240317   \n",
       "92397                   1                               4.0  1305534833   \n",
       "76728                   7                              34.0   106820417   \n",
       "\n",
       "       patient_id expert_consensus  seizure_vote  lpd_vote  gpd_vote  \\\n",
       "34848       38549              GPD             0         2        11   \n",
       "49129       34893             GRDA             0         0         0   \n",
       "12772       65203          Seizure             3         0         0   \n",
       "92397       45528              LPD             0         3         0   \n",
       "76728       55692          Seizure             3         0         0   \n",
       "\n",
       "       lrda_vote  grda_vote  other_vote  total_votes  cons_votes  consensus  \n",
       "34848          0          0           0           13          11   0.846154  \n",
       "49129          0          3           0            3           3   1.000000  \n",
       "12772          0          0           0            3           3   1.000000  \n",
       "92397          0          0           2            5           3   0.600000  \n",
       "76728          0          0           0            3           3   1.000000  "
      ]
     },
     "execution_count": 15,
     "metadata": {},
     "output_type": "execute_result"
    }
   ],
   "source": [
    "train_df.sample(5)"
   ]
  },
  {
   "cell_type": "code",
   "execution_count": 16,
   "metadata": {
    "tags": []
   },
   "outputs": [
    {
     "data": {
      "text/html": [
       "<div>\n",
       "<style scoped>\n",
       "    .dataframe tbody tr th:only-of-type {\n",
       "        vertical-align: middle;\n",
       "    }\n",
       "\n",
       "    .dataframe tbody tr th {\n",
       "        vertical-align: top;\n",
       "    }\n",
       "\n",
       "    .dataframe thead th {\n",
       "        text-align: right;\n",
       "    }\n",
       "</style>\n",
       "<table border=\"1\" class=\"dataframe\">\n",
       "  <thead>\n",
       "    <tr style=\"text-align: right;\">\n",
       "      <th></th>\n",
       "      <th>spectrogram_id</th>\n",
       "      <th>spectrogram_sub_id</th>\n",
       "      <th>spectrogram_label_offset_seconds</th>\n",
       "      <th>label_id</th>\n",
       "      <th>patient_id</th>\n",
       "      <th>expert_consensus</th>\n",
       "      <th>seizure_vote</th>\n",
       "      <th>lpd_vote</th>\n",
       "      <th>gpd_vote</th>\n",
       "      <th>lrda_vote</th>\n",
       "      <th>grda_vote</th>\n",
       "      <th>other_vote</th>\n",
       "      <th>total_votes</th>\n",
       "      <th>cons_votes</th>\n",
       "      <th>consensus</th>\n",
       "    </tr>\n",
       "  </thead>\n",
       "  <tbody>\n",
       "    <tr>\n",
       "      <th>0</th>\n",
       "      <td>353733</td>\n",
       "      <td>0</td>\n",
       "      <td>0.0</td>\n",
       "      <td>127492639</td>\n",
       "      <td>42516</td>\n",
       "      <td>Seizure</td>\n",
       "      <td>3</td>\n",
       "      <td>0</td>\n",
       "      <td>0</td>\n",
       "      <td>0</td>\n",
       "      <td>0</td>\n",
       "      <td>0</td>\n",
       "      <td>3</td>\n",
       "      <td>3</td>\n",
       "      <td>1.0</td>\n",
       "    </tr>\n",
       "    <tr>\n",
       "      <th>1</th>\n",
       "      <td>353733</td>\n",
       "      <td>1</td>\n",
       "      <td>6.0</td>\n",
       "      <td>3887563113</td>\n",
       "      <td>42516</td>\n",
       "      <td>Seizure</td>\n",
       "      <td>3</td>\n",
       "      <td>0</td>\n",
       "      <td>0</td>\n",
       "      <td>0</td>\n",
       "      <td>0</td>\n",
       "      <td>0</td>\n",
       "      <td>3</td>\n",
       "      <td>3</td>\n",
       "      <td>1.0</td>\n",
       "    </tr>\n",
       "    <tr>\n",
       "      <th>2</th>\n",
       "      <td>353733</td>\n",
       "      <td>2</td>\n",
       "      <td>8.0</td>\n",
       "      <td>1142670488</td>\n",
       "      <td>42516</td>\n",
       "      <td>Seizure</td>\n",
       "      <td>3</td>\n",
       "      <td>0</td>\n",
       "      <td>0</td>\n",
       "      <td>0</td>\n",
       "      <td>0</td>\n",
       "      <td>0</td>\n",
       "      <td>3</td>\n",
       "      <td>3</td>\n",
       "      <td>1.0</td>\n",
       "    </tr>\n",
       "    <tr>\n",
       "      <th>3</th>\n",
       "      <td>353733</td>\n",
       "      <td>3</td>\n",
       "      <td>18.0</td>\n",
       "      <td>2718991173</td>\n",
       "      <td>42516</td>\n",
       "      <td>Seizure</td>\n",
       "      <td>3</td>\n",
       "      <td>0</td>\n",
       "      <td>0</td>\n",
       "      <td>0</td>\n",
       "      <td>0</td>\n",
       "      <td>0</td>\n",
       "      <td>3</td>\n",
       "      <td>3</td>\n",
       "      <td>1.0</td>\n",
       "    </tr>\n",
       "    <tr>\n",
       "      <th>4</th>\n",
       "      <td>353733</td>\n",
       "      <td>4</td>\n",
       "      <td>24.0</td>\n",
       "      <td>3080632009</td>\n",
       "      <td>42516</td>\n",
       "      <td>Seizure</td>\n",
       "      <td>3</td>\n",
       "      <td>0</td>\n",
       "      <td>0</td>\n",
       "      <td>0</td>\n",
       "      <td>0</td>\n",
       "      <td>0</td>\n",
       "      <td>3</td>\n",
       "      <td>3</td>\n",
       "      <td>1.0</td>\n",
       "    </tr>\n",
       "  </tbody>\n",
       "</table>\n",
       "</div>"
      ],
      "text/plain": [
       "   spectrogram_id  spectrogram_sub_id  spectrogram_label_offset_seconds  \\\n",
       "0          353733                   0                               0.0   \n",
       "1          353733                   1                               6.0   \n",
       "2          353733                   2                               8.0   \n",
       "3          353733                   3                              18.0   \n",
       "4          353733                   4                              24.0   \n",
       "\n",
       "     label_id  patient_id expert_consensus  seizure_vote  lpd_vote  gpd_vote  \\\n",
       "0   127492639       42516          Seizure             3         0         0   \n",
       "1  3887563113       42516          Seizure             3         0         0   \n",
       "2  1142670488       42516          Seizure             3         0         0   \n",
       "3  2718991173       42516          Seizure             3         0         0   \n",
       "4  3080632009       42516          Seizure             3         0         0   \n",
       "\n",
       "   lrda_vote  grda_vote  other_vote  total_votes  cons_votes  consensus  \n",
       "0          0          0           0            3           3        1.0  \n",
       "1          0          0           0            3           3        1.0  \n",
       "2          0          0           0            3           3        1.0  \n",
       "3          0          0           0            3           3        1.0  \n",
       "4          0          0           0            3           3        1.0  "
      ]
     },
     "execution_count": 16,
     "metadata": {},
     "output_type": "execute_result"
    }
   ],
   "source": [
    "train_df.iloc[:, 3:].head()"
   ]
  },
  {
   "cell_type": "code",
   "execution_count": 17,
   "metadata": {
    "tags": []
   },
   "outputs": [
    {
     "data": {
      "text/html": [
       "<div>\n",
       "<style scoped>\n",
       "    .dataframe tbody tr th:only-of-type {\n",
       "        vertical-align: middle;\n",
       "    }\n",
       "\n",
       "    .dataframe tbody tr th {\n",
       "        vertical-align: top;\n",
       "    }\n",
       "\n",
       "    .dataframe thead th {\n",
       "        text-align: right;\n",
       "    }\n",
       "</style>\n",
       "<table border=\"1\" class=\"dataframe\">\n",
       "  <thead>\n",
       "    <tr style=\"text-align: right;\">\n",
       "      <th></th>\n",
       "      <th>seizure_vote</th>\n",
       "      <th>lpd_vote</th>\n",
       "      <th>gpd_vote</th>\n",
       "      <th>lrda_vote</th>\n",
       "      <th>grda_vote</th>\n",
       "      <th>other_vote</th>\n",
       "    </tr>\n",
       "  </thead>\n",
       "  <tbody>\n",
       "    <tr>\n",
       "      <th>80819</th>\n",
       "      <td>0.0</td>\n",
       "      <td>0.916667</td>\n",
       "      <td>0.0</td>\n",
       "      <td>0.000000</td>\n",
       "      <td>0.0</td>\n",
       "      <td>0.083333</td>\n",
       "    </tr>\n",
       "    <tr>\n",
       "      <th>39923</th>\n",
       "      <td>0.0</td>\n",
       "      <td>0.266667</td>\n",
       "      <td>0.0</td>\n",
       "      <td>0.466667</td>\n",
       "      <td>0.0</td>\n",
       "      <td>0.266667</td>\n",
       "    </tr>\n",
       "    <tr>\n",
       "      <th>63838</th>\n",
       "      <td>1.0</td>\n",
       "      <td>0.000000</td>\n",
       "      <td>0.0</td>\n",
       "      <td>0.000000</td>\n",
       "      <td>0.0</td>\n",
       "      <td>0.000000</td>\n",
       "    </tr>\n",
       "    <tr>\n",
       "      <th>31958</th>\n",
       "      <td>0.0</td>\n",
       "      <td>0.333333</td>\n",
       "      <td>0.0</td>\n",
       "      <td>0.333333</td>\n",
       "      <td>0.0</td>\n",
       "      <td>0.333333</td>\n",
       "    </tr>\n",
       "    <tr>\n",
       "      <th>13656</th>\n",
       "      <td>0.0</td>\n",
       "      <td>0.000000</td>\n",
       "      <td>0.0</td>\n",
       "      <td>0.333333</td>\n",
       "      <td>0.0</td>\n",
       "      <td>0.666667</td>\n",
       "    </tr>\n",
       "  </tbody>\n",
       "</table>\n",
       "</div>"
      ],
      "text/plain": [
       "       seizure_vote  lpd_vote  gpd_vote  lrda_vote  grda_vote  other_vote\n",
       "80819           0.0  0.916667       0.0   0.000000        0.0    0.083333\n",
       "39923           0.0  0.266667       0.0   0.466667        0.0    0.266667\n",
       "63838           1.0  0.000000       0.0   0.000000        0.0    0.000000\n",
       "31958           0.0  0.333333       0.0   0.333333        0.0    0.333333\n",
       "13656           0.0  0.000000       0.0   0.333333        0.0    0.666667"
      ]
     },
     "execution_count": 17,
     "metadata": {},
     "output_type": "execute_result"
    }
   ],
   "source": [
    "train_df[vote_cols].div(train_df['total_votes'], axis=0).sample(5)"
   ]
  },
  {
   "cell_type": "markdown",
   "metadata": {},
   "source": [
    "### Dataset"
   ]
  },
  {
   "cell_type": "code",
   "execution_count": 18,
   "metadata": {
    "tags": []
   },
   "outputs": [],
   "source": [
    "from hms_dataset import spectro_dataset"
   ]
  },
  {
   "cell_type": "code",
   "execution_count": 19,
   "metadata": {
    "tags": []
   },
   "outputs": [
    {
     "name": "stdout",
     "output_type": "stream",
     "text": [
      "106800\n",
      "torch.Size([4, 100, 300]) (6,)\n",
      "torch.float32 float32\n"
     ]
    }
   ],
   "source": [
    "dset = spectro_dataset(df=train_df, base_dir=cfg['spect_dir'], cols=vote_cols)\n",
    "print(dset.__len__())\n",
    "\n",
    "spect, target, = dset.__getitem__(1)\n",
    "print(spect.shape, target.shape)\n",
    "print(spect.dtype, target.dtype)"
   ]
  },
  {
   "cell_type": "code",
   "execution_count": 20,
   "metadata": {
    "tags": []
   },
   "outputs": [
    {
     "data": {
      "text/plain": [
       "<Figure size 640x480 with 0 Axes>"
      ]
     },
     "metadata": {},
     "output_type": "display_data"
    },
    {
     "data": {
      "image/png": "[encoded data removed]",
      "text/plain": [
       "<Figure size 1200x400 with 4 Axes>"
      ]
     },
     "metadata": {},
     "output_type": "display_data"
    }
   ],
   "source": [
    "def print_spectros(spectro, lg=True):\n",
    "    plt.figure()\n",
    "    f, axs = plt.subplots(4,1)\n",
    "    f.set_figheight(4)\n",
    "    f.set_figwidth(12)\n",
    "    \n",
    "    # spectro = np.clip(spectro,np.exp(-4),np.exp(8))\n",
    "    # if lg == True:\n",
    "    #     spectro = np.log(spectro)\n",
    "    \n",
    "    for i in range(4):\n",
    "        start = i*100+1\n",
    "        \n",
    "        img = spectro[i]\n",
    "        \n",
    "        # img = spectro.iloc[:,start:start+100]\n",
    "            \n",
    "        axs[i].imshow(img, origin='lower', cmap='jet')\n",
    "        \n",
    "    plt.show()\n",
    "\n",
    "print_spectros(spect)"
   ]
  },
  {
   "cell_type": "code",
   "execution_count": 21,
   "metadata": {
    "tags": []
   },
   "outputs": [],
   "source": [
    "# print_spectros(spect, lg=False)"
   ]
  },
  {
   "cell_type": "markdown",
   "metadata": {},
   "source": [
    "### Datamodule"
   ]
  },
  {
   "cell_type": "code",
   "execution_count": 22,
   "metadata": {
    "tags": []
   },
   "outputs": [],
   "source": [
    "class spectro_datamodule(pl.LightningDataModule):\n",
    "    def __init__(self, train_df, val_df, train_bs=cfg['train_bs'], val_bs=cfg['val_bs'], num_workers=cfg['num_workers'],):\n",
    "        super().__init__()\n",
    "        \n",
    "        self.train_df = train_df\n",
    "        self.val_df = val_df\n",
    "        \n",
    "        self.train_bs = train_bs\n",
    "        self.val_bs = val_bs\n",
    "        \n",
    "        self.num_workers = num_workers\n",
    "        \n",
    "    def train_dataloader(self):\n",
    "        train_ds = spectro_dataset(self.train_df, base_dir=cfg['spect_dir'], cols=vote_cols)\n",
    "        \n",
    "        train_loader = torch.utils.data.DataLoader(\n",
    "            train_ds,\n",
    "            batch_size=self.train_bs,\n",
    "            pin_memory=False,\n",
    "            drop_last=False,\n",
    "            shuffle=True,\n",
    "            num_workers=self.num_workers,\n",
    "        )\n",
    "        \n",
    "        return train_loader\n",
    "        \n",
    "    def val_dataloader(self):\n",
    "        val_ds = spectro_dataset(self.val_df, base_dir=cfg['spect_dir'], cols=vote_cols)\n",
    "        \n",
    "        val_loader = torch.utils.data.DataLoader(\n",
    "            val_ds,\n",
    "            batch_size=self.val_bs,\n",
    "            pin_memory=False,\n",
    "            drop_last=False,\n",
    "            shuffle=False,\n",
    "            num_workers=self.num_workers,\n",
    "        )\n",
    "        \n",
    "        return val_loader"
   ]
  },
  {
   "cell_type": "code",
   "execution_count": 23,
   "metadata": {
    "tags": []
   },
   "outputs": [
    {
     "data": {
      "text/plain": [
       "(torch.Size([64, 4, 100, 300]),\n",
       " torch.Size([64, 6]),\n",
       " torch.float32,\n",
       " torch.float32)"
      ]
     },
     "execution_count": 23,
     "metadata": {},
     "output_type": "execute_result"
    }
   ],
   "source": [
    "t_df = train_df[:-400]\n",
    "v_df = train_df[-400:]\n",
    "\n",
    "bs = 64\n",
    "\n",
    "dm = spectro_datamodule(\n",
    "    t_df,\n",
    "    v_df, \n",
    "    train_bs=bs,\n",
    ")\n",
    "\n",
    "x, y = next(iter(dm.train_dataloader()))\n",
    "x.shape, y.shape, x.dtype, y.dtype"
   ]
  },
  {
   "cell_type": "markdown",
   "metadata": {},
   "source": [
    "### Model"
   ]
  },
  {
   "cell_type": "code",
   "execution_count": 24,
   "metadata": {
    "tags": []
   },
   "outputs": [],
   "source": [
    "# from torchmetrics.classification import Accuracy as Accuracy\n",
    "import torchmetrics as tm "
   ]
  },
  {
   "cell_type": "code",
   "execution_count": 32,
   "metadata": {
    "tags": []
   },
   "outputs": [],
   "source": [
    "class spectro_model(pl.LightningModule):\n",
    "    def __init__(self, cfg,):\n",
    "        super().__init__()\n",
    "        \n",
    "        self.cfg = cfg\n",
    "        self.encoder=cfg['encoder']\n",
    "        \n",
    "#         self.criterion = nn.NLLLoss()\n",
    "        self.train_acc = tm.classification.MulticlassAccuracy(num_classes=cfg['cls_num'])\n",
    "        self.val_acc = tm.classification.MulticlassAccuracy(num_classes=cfg['cls_num'])\n",
    "        \n",
    "        self.criterion = nn.CrossEntropyLoss()\n",
    "        self.kl_loss = nn.KLDivLoss(reduction=\"batchmean\")\n",
    "        \n",
    "        self.model = EfficientNet.from_pretrained(\n",
    "            self.encoder, \n",
    "            in_channels=4, \n",
    "            num_classes=cfg['cls_num'],\n",
    "        )\n",
    "        \n",
    "    def configure_optimizers(self):\n",
    "        return torch.optim.Adam(model.parameters(), lr=cfg['lr'], weight_decay=0.015)\n",
    "        \n",
    "    def forward(self, x):\n",
    "        return self.model(x)\n",
    "    \n",
    "    def step(self, batch, batch_idx, mode='train'):\n",
    "        x, y = batch\n",
    "        \n",
    "        preds = self(x)\n",
    "        \n",
    "        # loss = self.criterion(preds, y)\n",
    "\n",
    "        kl_loss = self.kl_loss(F.log_softmax(preds, dim=1), y)\n",
    "        loss = kl_loss\n",
    "        \n",
    "        if mode == 'train':\n",
    "            self.train_acc(preds, y.argmax(1))\n",
    "        else:\n",
    "            self.val_acc(preds, y.argmax(1))\n",
    "        \n",
    "#         values = {f'{mode}/loss': loss, }\n",
    "#         self.log_dict(values)\n",
    "        \n",
    "        self.log(f'{mode}/loss', loss, on_step=True, on_epoch=True)\n",
    "        self.log(f'{mode}/kl_loss', kl_loss, on_step=True, on_epoch=True)\n",
    "\n",
    "        return loss\n",
    "    \n",
    "    def training_step(self, batch, batch_idx):\n",
    "        loss = self.step(batch, batch_idx, mode='train')\n",
    "        self.log(f'train/acc', self.train_acc, on_step=True, on_epoch=True)\n",
    "        \n",
    "        return loss\n",
    "        \n",
    "    def validation_step(self, batch, batch_idx):\n",
    "        loss =  self.step(batch, batch_idx, mode='val')\n",
    "        self.log(f'val/acc', self.val_acc, on_step=True, on_epoch=True)\n",
    "    \n",
    "        return loss\n",
    "    \n",
    "    def on_train_epoch_end(self):\n",
    "        self.train_acc.reset()\n",
    "        self.val_acc.reset()"
   ]
  },
  {
   "cell_type": "code",
   "execution_count": 33,
   "metadata": {
    "tags": []
   },
   "outputs": [
    {
     "name": "stdout",
     "output_type": "stream",
     "text": [
      "Loaded pretrained weights for efficientnet-b0\n"
     ]
    }
   ],
   "source": [
    "model = spectro_model(cfg)"
   ]
  },
  {
   "cell_type": "code",
   "execution_count": 34,
   "metadata": {
    "tags": []
   },
   "outputs": [
    {
     "data": {
      "text/plain": [
       "torch.Size([64, 6])"
      ]
     },
     "execution_count": 34,
     "metadata": {},
     "output_type": "execute_result"
    }
   ],
   "source": [
    "# foo = model(x.nan_to_num(0))\n",
    "foo = model(x)\n",
    "foo.shape"
   ]
  },
  {
   "cell_type": "code",
   "execution_count": 35,
   "metadata": {
    "tags": []
   },
   "outputs": [
    {
     "data": {
      "text/plain": [
       "(torch.Size([64, 6]), torch.Size([64, 6]))"
      ]
     },
     "execution_count": 35,
     "metadata": {},
     "output_type": "execute_result"
    }
   ],
   "source": [
    "y.shape, foo.shape"
   ]
  },
  {
   "cell_type": "code",
   "execution_count": 36,
   "metadata": {
    "tags": []
   },
   "outputs": [
    {
     "data": {
      "text/plain": [
       "tensor([2, 0, 1, 4, 3, 0, 0, 0, 1, 1, 5, 0, 0, 4, 2, 5, 5, 3, 1, 3, 0, 5, 1, 5,\n",
       "        5, 3, 0, 4, 0, 1, 0, 3, 3, 1, 5, 0, 2, 2, 1, 2, 0, 1, 2, 0, 5, 4, 1, 3,\n",
       "        0, 2, 0, 3, 1, 2, 4, 0, 0, 1, 5, 1, 5, 2, 0, 3])"
      ]
     },
     "execution_count": 36,
     "metadata": {},
     "output_type": "execute_result"
    }
   ],
   "source": [
    "y.argmax(1)"
   ]
  },
  {
   "cell_type": "code",
   "execution_count": 37,
   "metadata": {
    "tags": []
   },
   "outputs": [
    {
     "data": {
      "text/plain": [
       "(tensor([[0.0667, 0.0000, 0.8000, 0.0667, 0.0667, 0.0000],\n",
       "         [1.0000, 0.0000, 0.0000, 0.0000, 0.0000, 0.0000],\n",
       "         [0.2500, 0.7500, 0.0000, 0.0000, 0.0000, 0.0000],\n",
       "         [0.0000, 0.0000, 0.0000, 0.0000, 0.7000, 0.3000],\n",
       "         [0.0000, 0.0000, 0.0000, 0.6667, 0.0000, 0.3333]]),\n",
       " tensor([[-3.6464e-04, -3.8905e-01,  1.2650e-01,  2.6060e-01, -2.0338e-01,\n",
       "          -1.4843e-01],\n",
       "         [ 1.8772e-01,  2.3083e-01, -3.5071e-02,  2.5279e-01, -5.9183e-01,\n",
       "           4.8511e-01],\n",
       "         [-1.3712e-01,  3.2517e-01, -1.8665e-01,  2.4796e-01, -1.9217e-02,\n",
       "           5.2647e-02],\n",
       "         [ 4.9320e-02,  3.2711e-02, -1.0459e-01,  1.6853e-01, -1.6491e-01,\n",
       "           2.4195e-01],\n",
       "         [ 1.5756e-01,  1.2656e-01,  2.5036e-01,  1.4744e-01, -2.7825e-01,\n",
       "           6.9404e-02]], grad_fn=<SliceBackward0>))"
      ]
     },
     "execution_count": 37,
     "metadata": {},
     "output_type": "execute_result"
    }
   ],
   "source": [
    "y[:5], foo[:5]"
   ]
  },
  {
   "cell_type": "code",
   "execution_count": 38,
   "metadata": {
    "tags": []
   },
   "outputs": [
    {
     "name": "stderr",
     "output_type": "stream",
     "text": [
      "C:\\Users\\rosul\\anaconda3\\envs\\pytorch\\lib\\site-packages\\pytorch_lightning\\core\\module.py:407: UserWarning: You are trying to `self.log()` but the `self.trainer` reference is not registered on the model yet. This is most likely because the model hasn't been passed to the `Trainer`\n",
      "  rank_zero_warn(\n"
     ]
    },
    {
     "data": {
      "text/plain": [
       "tensor(1.4458, grad_fn=<DivBackward0>)"
      ]
     },
     "execution_count": 38,
     "metadata": {},
     "output_type": "execute_result"
    }
   ],
   "source": [
    "model.training_step((x, y), 0)"
   ]
  },
  {
   "cell_type": "markdown",
   "metadata": {},
   "source": [
    "### Split"
   ]
  },
  {
   "cell_type": "code",
   "execution_count": 39,
   "metadata": {
    "tags": []
   },
   "outputs": [],
   "source": [
    "from sklearn.model_selection import ShuffleSplit, StratifiedShuffleSplit"
   ]
  },
  {
   "cell_type": "code",
   "execution_count": 40,
   "metadata": {
    "tags": []
   },
   "outputs": [],
   "source": [
    "# rs = ShuffleSplit(n_splits=5, test_size=.1, random_state=seed)\n",
    "# train_idx, val_idx = next(rs.split(sequences_df))"
   ]
  },
  {
   "cell_type": "code",
   "execution_count": 41,
   "metadata": {
    "tags": []
   },
   "outputs": [
    {
     "data": {
      "text/plain": [
       "((96120, 18), (10680, 18))"
      ]
     },
     "execution_count": 41,
     "metadata": {},
     "output_type": "execute_result"
    }
   ],
   "source": [
    "sss = StratifiedShuffleSplit(n_splits=1, test_size=0.1, random_state=cfg['seed'])\n",
    "train_idx, val_idx = next(sss.split(train_df.eeg_id, train_df.expert_consensus))\n",
    "\n",
    "t_df = train_df.iloc[train_idx]\n",
    "v_df = train_df.iloc[val_idx]\n",
    "\n",
    "t_df.shape, v_df.shape"
   ]
  },
  {
   "cell_type": "markdown",
   "metadata": {},
   "source": [
    "### Train"
   ]
  },
  {
   "cell_type": "code",
   "execution_count": 42,
   "metadata": {
    "tags": []
   },
   "outputs": [],
   "source": [
    "dm = spectro_datamodule(t_df,v_df)"
   ]
  },
  {
   "cell_type": "code",
   "execution_count": 43,
   "metadata": {
    "tags": []
   },
   "outputs": [
    {
     "data": {
      "text/plain": [
       "(3004, 334)"
      ]
     },
     "execution_count": 43,
     "metadata": {},
     "output_type": "execute_result"
    }
   ],
   "source": [
    "len(dm.train_dataloader()), len(dm.val_dataloader())"
   ]
  },
  {
   "cell_type": "code",
   "execution_count": 44,
   "metadata": {
    "tags": []
   },
   "outputs": [
    {
     "name": "stdout",
     "output_type": "stream",
     "text": [
      "Loaded pretrained weights for efficientnet-b0\n"
     ]
    }
   ],
   "source": [
    "model = spectro_model(cfg)"
   ]
  },
  {
   "cell_type": "code",
   "execution_count": 45,
   "metadata": {
    "tags": []
   },
   "outputs": [],
   "source": [
    "from pytorch_lightning.loggers import WandbLogger"
   ]
  },
  {
   "cell_type": "code",
   "execution_count": 46,
   "metadata": {
    "tags": []
   },
   "outputs": [
    {
     "data": {
      "text/html": [
       "Tracking run with wandb version 0.16.3"
      ],
      "text/plain": [
       "<IPython.core.display.HTML object>"
      ]
     },
     "metadata": {},
     "output_type": "display_data"
    },
    {
     "data": {
      "text/html": [
       "Run data is saved locally in <code>D:\\data\\HMS/results\\wandb\\run-20240305_141634-g5w423oz</code>"
      ],
      "text/plain": [
       "<IPython.core.display.HTML object>"
      ]
     },
     "metadata": {},
     "output_type": "display_data"
    },
    {
     "data": {
      "text/html": [
       "Syncing run <strong><a href='https://wandb.ai/rosu-lucian/HMS-spectro-local/runs/g5w423oz' target=\"_blank\">b0 8 eps </a></strong> to <a href='https://wandb.ai/rosu-lucian/HMS-spectro-local' target=\"_blank\">Weights & Biases</a> (<a href='https://wandb.me/run' target=\"_blank\">docs</a>)<br/>"
      ],
      "text/plain": [
       "<IPython.core.display.HTML object>"
      ]
     },
     "metadata": {},
     "output_type": "display_data"
    },
    {
     "data": {
      "text/html": [
       " View project at <a href='https://wandb.ai/rosu-lucian/HMS-spectro-local' target=\"_blank\">https://wandb.ai/rosu-lucian/HMS-spectro-local</a>"
      ],
      "text/plain": [
       "<IPython.core.display.HTML object>"
      ]
     },
     "metadata": {},
     "output_type": "display_data"
    },
    {
     "data": {
      "text/html": [
       " View run at <a href='https://wandb.ai/rosu-lucian/HMS-spectro-local/runs/g5w423oz' target=\"_blank\">https://wandb.ai/rosu-lucian/HMS-spectro-local/runs/g5w423oz</a>"
      ],
      "text/plain": [
       "<IPython.core.display.HTML object>"
      ]
     },
     "metadata": {},
     "output_type": "display_data"
    }
   ],
   "source": [
    "wandb_logger = WandbLogger(\n",
    "    name=f'{cfg[\"encoder\"][-2:]} {cfg[\"max_epochs\"]} eps {cfg[\"comment\"]}',\n",
    "    project='HMS-spectro-local',\n",
    "    job_type='train',\n",
    "    save_dir=results_dir,\n",
    "    config=cfg,\n",
    ")"
   ]
  },
  {
   "cell_type": "code",
   "execution_count": 47,
   "metadata": {
    "tags": []
   },
   "outputs": [],
   "source": [
    "# wandb.init()"
   ]
  },
  {
   "cell_type": "code",
   "execution_count": 48,
   "metadata": {
    "tags": []
   },
   "outputs": [],
   "source": [
    "from pytorch_lightning.callbacks import Callback, LearningRateMonitor"
   ]
  },
  {
   "cell_type": "code",
   "execution_count": 49,
   "metadata": {
    "tags": []
   },
   "outputs": [],
   "source": [
    "loss_ckpt = pl.callbacks.ModelCheckpoint(\n",
    "    monitor='val/loss',\n",
    "    dirpath=ckpt_path,\n",
    "    filename='loss-{epoch:02d}-{val/loss:.2f}',\n",
    "    save_top_k=1,\n",
    "    mode='min',\n",
    ")"
   ]
  },
  {
   "cell_type": "code",
   "execution_count": 50,
   "metadata": {
    "tags": []
   },
   "outputs": [
    {
     "name": "stderr",
     "output_type": "stream",
     "text": [
      "GPU available: True (cuda), used: True\n",
      "TPU available: False, using: 0 TPU cores\n",
      "IPU available: False, using: 0 IPUs\n",
      "HPU available: False, using: 0 HPUs\n"
     ]
    }
   ],
   "source": [
    "trainer = pl.Trainer(\n",
    "    max_epochs=cfg['max_epochs'],\n",
    "    deterministic=True,\n",
    "    accelerator=accelerator,\n",
    "    default_root_dir=results_dir,\n",
    "    logger=wandb_logger,\n",
    ")"
   ]
  },
  {
   "cell_type": "code",
   "execution_count": 51,
   "metadata": {
    "tags": []
   },
   "outputs": [
    {
     "name": "stderr",
     "output_type": "stream",
     "text": [
      "You are using a CUDA device ('NVIDIA GeForce RTX 4090 Laptop GPU') that has Tensor Cores. To properly utilize them, you should set `torch.set_float32_matmul_precision('medium' | 'high')` which will trade-off precision for performance. For more details, read https://pytorch.org/docs/stable/generated/torch.set_float32_matmul_precision.html#torch.set_float32_matmul_precision\n",
      "LOCAL_RANK: 0 - CUDA_VISIBLE_DEVICES: [0]\n",
      "\n",
      "  | Name      | Type               | Params\n",
      "-------------------------------------------------\n",
      "0 | train_acc | MulticlassAccuracy | 0     \n",
      "1 | val_acc   | MulticlassAccuracy | 0     \n",
      "2 | criterion | CrossEntropyLoss   | 0     \n",
      "3 | kl_loss   | KLDivLoss          | 0     \n",
      "4 | model     | EfficientNet       | 4.0 M \n",
      "-------------------------------------------------\n",
      "4.0 M     Trainable params\n",
      "0         Non-trainable params\n",
      "4.0 M     Total params\n",
      "16.062    Total estimated model params size (MB)\n"
     ]
    },
    {
     "data": {
      "application/vnd.jupyter.widget-view+json": {
       "model_id": "",
       "version_major": 2,
       "version_minor": 0
      },
      "text/plain": [
       "Sanity Checking: 0it [00:00, ?it/s]"
      ]
     },
     "metadata": {},
     "output_type": "display_data"
    },
    {
     "data": {
      "application/vnd.jupyter.widget-view+json": {
       "model_id": "cef53b537620458a8bc404b39ba653cb",
       "version_major": 2,
       "version_minor": 0
      },
      "text/plain": [
       "Training: 0it [00:00, ?it/s]"
      ]
     },
     "metadata": {},
     "output_type": "display_data"
    },
    {
     "data": {
      "application/vnd.jupyter.widget-view+json": {
       "model_id": "",
       "version_major": 2,
       "version_minor": 0
      },
      "text/plain": [
       "Validation: 0it [00:00, ?it/s]"
      ]
     },
     "metadata": {},
     "output_type": "display_data"
    },
    {
     "data": {
      "application/vnd.jupyter.widget-view+json": {
       "model_id": "",
       "version_major": 2,
       "version_minor": 0
      },
      "text/plain": [
       "Validation: 0it [00:00, ?it/s]"
      ]
     },
     "metadata": {},
     "output_type": "display_data"
    },
    {
     "data": {
      "application/vnd.jupyter.widget-view+json": {
       "model_id": "",
       "version_major": 2,
       "version_minor": 0
      },
      "text/plain": [
       "Validation: 0it [00:00, ?it/s]"
      ]
     },
     "metadata": {},
     "output_type": "display_data"
    },
    {
     "data": {
      "application/vnd.jupyter.widget-view+json": {
       "model_id": "",
       "version_major": 2,
       "version_minor": 0
      },
      "text/plain": [
       "Validation: 0it [00:00, ?it/s]"
      ]
     },
     "metadata": {},
     "output_type": "display_data"
    },
    {
     "data": {
      "application/vnd.jupyter.widget-view+json": {
       "model_id": "",
       "version_major": 2,
       "version_minor": 0
      },
      "text/plain": [
       "Validation: 0it [00:00, ?it/s]"
      ]
     },
     "metadata": {},
     "output_type": "display_data"
    },
    {
     "data": {
      "application/vnd.jupyter.widget-view+json": {
       "model_id": "",
       "version_major": 2,
       "version_minor": 0
      },
      "text/plain": [
       "Validation: 0it [00:00, ?it/s]"
      ]
     },
     "metadata": {},
     "output_type": "display_data"
    },
    {
     "data": {
      "application/vnd.jupyter.widget-view+json": {
       "model_id": "",
       "version_major": 2,
       "version_minor": 0
      },
      "text/plain": [
       "Validation: 0it [00:00, ?it/s]"
      ]
     },
     "metadata": {},
     "output_type": "display_data"
    },
    {
     "data": {
      "application/vnd.jupyter.widget-view+json": {
       "model_id": "",
       "version_major": 2,
       "version_minor": 0
      },
      "text/plain": [
       "Validation: 0it [00:00, ?it/s]"
      ]
     },
     "metadata": {},
     "output_type": "display_data"
    },
    {
     "name": "stderr",
     "output_type": "stream",
     "text": [
      "`Trainer.fit` stopped: `max_epochs=8` reached.\n"
     ]
    }
   ],
   "source": [
    "trainer.fit(model, dm)"
   ]
  },
  {
   "cell_type": "code",
   "execution_count": 52,
   "metadata": {},
   "outputs": [
    {
     "data": {
      "application/vnd.jupyter.widget-view+json": {
       "model_id": "",
       "version_major": 2,
       "version_minor": 0
      },
      "text/plain": [
       "VBox(children=(Label(value='0.001 MB of 0.001 MB uploaded\\r'), FloatProgress(value=1.0, max=1.0)))"
      ]
     },
     "metadata": {},
     "output_type": "display_data"
    },
    {
     "data": {
      "text/html": [
       "<style>\n",
       "    table.wandb td:nth-child(1) { padding: 0 10px; text-align: left ; width: auto;} td:nth-child(2) {text-align: left ; width: 100%}\n",
       "    .wandb-row { display: flex; flex-direction: row; flex-wrap: wrap; justify-content: flex-start; width: 100% }\n",
       "    .wandb-col { display: flex; flex-direction: column; flex-basis: 100%; flex: 1; padding: 10px; }\n",
       "    </style>\n",
       "<div class=\"wandb-row\"><div class=\"wandb-col\"><h3>Run history:</h3><br/><table class=\"wandb\"><tr><td>epoch</td><td>▁▁▁▁▁▂▂▂▂▂▃▃▃▃▃▄▄▄▄▄▅▅▅▅▅▆▆▆▆▆▇▇▇▇▇█████</td></tr><tr><td>train/acc_epoch</td><td>▁▆▇██▇▇▆</td></tr><tr><td>train/acc_step</td><td>▁▆▄▅▄▅▆▅▇▄▅▆▆█▆▃▆▃▆▅▇█▄▆▆▇▅▇▅▆▅▆█▆▆▅▆▆▅▇</td></tr><tr><td>train/kl_loss_epoch</td><td>█▃▂▁▁▁▂▂</td></tr><tr><td>train/kl_loss_step</td><td>█▄▄▃▄▃▂▂▂▅▂▃▂▁▂▃▂▃▂▂▂▁▂▁▁▂▂▂▂▃▃▃▂▃▃▂▄▃▃▂</td></tr><tr><td>train/loss_epoch</td><td>█▃▂▁▁▁▂▂</td></tr><tr><td>train/loss_step</td><td>█▄▄▃▄▃▂▂▂▅▂▃▂▁▂▃▂▃▂▂▂▁▂▁▁▂▂▂▂▃▃▃▂▃▃▂▄▃▃▂</td></tr><tr><td>trainer/global_step</td><td>▁▁▁▁▁▂▁▁▁▁▃▁▁▁▁▄▁▁▁▁▅▁▁▁▁▆▁▂▂▂▇▂▂▂▂█▂▂▂█</td></tr><tr><td>val/acc_epoch</td><td>▆▅█▃▇▁▆▆</td></tr><tr><td>val/acc_step</td><td>▆▅▆▇▅▄▆▃▆▆▇▅▆██▅▃▆▁▄▆▅▆▇▇▃▁▃▅▄▅▅▅▆▄▆▆▃▇▅</td></tr><tr><td>val/kl_loss_epoch</td><td>▄▃▁▃▁█▂▃</td></tr><tr><td>val/kl_loss_step</td><td>▃▄▃▃▅▃▃▃▂▃▂▂▂▃▁▄▃▄▄▄▃▂▂▂▁█▇▆▅▃▃▃▂▃▃▂▃▄▅▂</td></tr><tr><td>val/loss_epoch</td><td>▄▃▁▃▁█▂▃</td></tr><tr><td>val/loss_step</td><td>▃▄▃▃▅▃▃▃▂▃▂▂▂▃▁▄▃▄▄▄▃▂▂▂▁█▇▆▅▃▃▃▂▃▃▂▃▄▅▂</td></tr></table><br/></div><div class=\"wandb-col\"><h3>Run summary:</h3><br/><table class=\"wandb\"><tr><td>epoch</td><td>7</td></tr><tr><td>train/acc_epoch</td><td>0.74793</td></tr><tr><td>train/acc_step</td><td>0.8373</td></tr><tr><td>train/kl_loss_epoch</td><td>0.44942</td></tr><tr><td>train/kl_loss_step</td><td>0.35965</td></tr><tr><td>train/loss_epoch</td><td>0.44942</td></tr><tr><td>train/loss_step</td><td>0.35965</td></tr><tr><td>trainer/global_step</td><td>24031</td></tr><tr><td>val/acc_epoch</td><td>0.70391</td></tr><tr><td>val/acc_step</td><td>0.65079</td></tr><tr><td>val/kl_loss_epoch</td><td>0.55581</td></tr><tr><td>val/kl_loss_step</td><td>0.62035</td></tr><tr><td>val/loss_epoch</td><td>0.55581</td></tr><tr><td>val/loss_step</td><td>0.62035</td></tr></table><br/></div></div>"
      ],
      "text/plain": [
       "<IPython.core.display.HTML object>"
      ]
     },
     "metadata": {},
     "output_type": "display_data"
    },
    {
     "data": {
      "text/html": [
       " View run <strong style=\"color:#cdcd00\">b0 8 eps </strong> at: <a href='https://wandb.ai/rosu-lucian/HMS-spectro-local/runs/g5w423oz' target=\"_blank\">https://wandb.ai/rosu-lucian/HMS-spectro-local/runs/g5w423oz</a><br/>Synced 6 W&B file(s), 0 media file(s), 0 artifact file(s) and 0 other file(s)"
      ],
      "text/plain": [
       "<IPython.core.display.HTML object>"
      ]
     },
     "metadata": {},
     "output_type": "display_data"
    },
    {
     "data": {
      "text/html": [
       "Find logs at: <code>D:\\data\\HMS/results\\wandb\\run-20240305_141634-g5w423oz\\logs</code>"
      ],
      "text/plain": [
       "<IPython.core.display.HTML object>"
      ]
     },
     "metadata": {},
     "output_type": "display_data"
    }
   ],
   "source": [
    "wandb.finish()"
   ]
  },
  {
   "cell_type": "markdown",
   "metadata": {},
   "source": [
    "### Predict"
   ]
  },
  {
   "cell_type": "code",
   "execution_count": 54,
   "metadata": {
    "scrolled": true,
    "tags": []
   },
   "outputs": [
    {
     "data": {
      "text/plain": [
       "torch.Size([64, 6])"
      ]
     },
     "execution_count": 54,
     "metadata": {},
     "output_type": "execute_result"
    }
   ],
   "source": [
    "# foo = model(x.to(accelerator))\n",
    "foo = model(x)\n",
    "foo.shape"
   ]
  },
  {
   "cell_type": "code",
   "execution_count": 55,
   "metadata": {
    "tags": []
   },
   "outputs": [
    {
     "data": {
      "text/plain": [
       "tensor([[ 2.6872, -1.9469,  0.4101, -2.5456,  0.4265,  0.3813],\n",
       "        [ 3.5247, -2.2756, -0.5614, -1.8056,  0.8055, -0.2874],\n",
       "        [-0.5503, -0.0383, -0.2956, -0.3450, -0.1864,  0.8557],\n",
       "        [ 0.1743,  2.7239, -0.8458, -0.1860, -2.4206,  0.1386],\n",
       "        [-1.0966,  2.5750, -0.4032,  0.2052, -1.7527,  0.1404]],\n",
       "       grad_fn=<SliceBackward0>)"
      ]
     },
     "execution_count": 55,
     "metadata": {},
     "output_type": "execute_result"
    }
   ],
   "source": [
    "foo[5:10]"
   ]
  },
  {
   "cell_type": "code",
   "execution_count": null,
   "metadata": {
    "tags": []
   },
   "outputs": [],
   "source": [
    "y[5:10]"
   ]
  },
  {
   "cell_type": "code",
   "execution_count": 60,
   "metadata": {},
   "outputs": [
    {
     "data": {
      "text/plain": [
       "tensor([[1.5112e-02, 3.2165e-03, 9.6853e-01, 3.6455e-04, 6.2855e-03, 6.4946e-03],\n",
       "        [1.3463e-01, 3.1978e-01, 8.3228e-02, 2.9486e-02, 4.0015e-02, 3.9287e-01],\n",
       "        [1.4904e-01, 4.7700e-01, 9.5962e-02, 5.3851e-02, 6.2936e-02, 1.6121e-01],\n",
       "        [1.6693e-02, 9.4427e-03, 7.7634e-03, 4.4542e-02, 6.7156e-01, 2.4999e-01],\n",
       "        [6.3223e-03, 3.2864e-02, 3.9872e-03, 6.7000e-01, 4.2430e-02, 2.4440e-01]],\n",
       "       grad_fn=<SliceBackward0>)"
      ]
     },
     "execution_count": 60,
     "metadata": {},
     "output_type": "execute_result"
    }
   ],
   "source": [
    "torch.nn.functional.softmax(foo, dim=-1)[:5]"
   ]
  },
  {
   "cell_type": "code",
   "execution_count": 59,
   "metadata": {
    "tags": []
   },
   "outputs": [
    {
     "data": {
      "text/plain": [
       "tensor([2, 5, 1, 4, 3, 0, 0, 5, 1, 1, 5, 3, 0, 4, 2, 5, 5, 3, 1, 3, 0, 5, 1, 5,\n",
       "        5, 3, 0, 4, 0, 1, 5, 3, 3, 1, 3, 0, 5, 2, 0, 2, 4, 1, 2, 0, 0, 4, 0, 4,\n",
       "        0, 2, 0, 3, 1, 5, 4, 5, 0, 2, 5, 5, 5, 1, 0, 3])"
      ]
     },
     "execution_count": 59,
     "metadata": {},
     "output_type": "execute_result"
    }
   ],
   "source": [
    "torch.nn.functional.softmax(foo, dim=-1).argmax(dim=-1)"
   ]
  },
  {
   "cell_type": "code",
   "execution_count": 61,
   "metadata": {
    "tags": []
   },
   "outputs": [
    {
     "data": {
      "text/plain": [
       "tensor([2, 0, 1, 4, 3, 0, 0, 0, 1, 1, 5, 0, 0, 4, 2, 5, 5, 3, 1, 3, 0, 5, 1, 5,\n",
       "        5, 3, 0, 4, 0, 1, 0, 3, 3, 1, 5, 0, 2, 2, 1, 2, 0, 1, 2, 0, 5, 4, 1, 3,\n",
       "        0, 2, 0, 3, 1, 2, 4, 0, 0, 1, 5, 1, 5, 2, 0, 3])"
      ]
     },
     "execution_count": 61,
     "metadata": {},
     "output_type": "execute_result"
    }
   ],
   "source": [
    "y.argmax(dim=-1)"
   ]
  },
  {
   "cell_type": "code",
   "execution_count": null,
   "metadata": {
    "tags": []
   },
   "outputs": [],
   "source": [
    "(torch.nn.functional.softmax(foo, dim=-1).argmax(dim=-1) == y.argmax(dim=-1)).sum()"
   ]
  },
  {
   "cell_type": "code",
   "execution_count": null,
   "metadata": {
    "tags": []
   },
   "outputs": [],
   "source": [
    "# model.save_hyperparameters()"
   ]
  },
  {
   "cell_type": "code",
   "execution_count": null,
   "metadata": {},
   "outputs": [],
   "source": []
  }
 ],
 "metadata": {
  "kaggle": {
   "accelerator": "none",
   "dataSources": [
    {
     "databundleVersionId": 7469972,
     "sourceId": 59093,
     "sourceType": "competition"
    },
    {
     "datasetId": 875062,
     "sourceId": 1490626,
     "sourceType": "datasetVersion"
    }
   ],
   "dockerImageVersionId": 30646,
   "isGpuEnabled": false,
   "isInternetEnabled": true,
   "language": "python",
   "sourceType": "notebook"
  },
  "kernelspec": {
   "display_name": "Python 3 (ipykernel)",
   "language": "python",
   "name": "python3"
  },
  "language_info": {
   "codemirror_mode": {
    "name": "ipython",
    "version": 3
   },
   "file_extension": ".py",
   "mimetype": "text/x-python",
   "name": "python",
   "nbconvert_exporter": "python",
   "pygments_lexer": "ipython3",
   "version": "3.10.13"
  }
 },
 "nbformat": 4,
 "nbformat_minor": 4
}
