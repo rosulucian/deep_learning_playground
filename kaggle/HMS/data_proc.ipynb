{
 "cells": [
  {
   "cell_type": "code",
   "execution_count": 1,
   "id": "3df8e718-a38f-4f10-a32a-cd88145fa4c6",
   "metadata": {},
   "outputs": [],
   "source": [
    "%load_ext autoreload\n",
    "%autoreload 2"
   ]
  },
  {
   "cell_type": "code",
   "execution_count": 2,
   "id": "2ac794ef-927e-4539-aa89-17b46ef127ff",
   "metadata": {
    "tags": []
   },
   "outputs": [],
   "source": [
    "import os\n",
    "import gc\n",
    "\n",
    "import numpy as np\n",
    "import pandas as pd\n",
    "\n",
    "from pathlib import Path"
   ]
  },
  {
   "cell_type": "code",
   "execution_count": 3,
   "id": "033a7dc2-1aa7-4ee3-990e-c3c8eb03dd59",
   "metadata": {
    "tags": []
   },
   "outputs": [
    {
     "data": {
      "text/plain": [
       "(WindowsPath('D:/data/HMS'), WindowsPath('D:/data/HMS/train_spectrograms'))"
      ]
     },
     "execution_count": 3,
     "metadata": {},
     "output_type": "execute_result"
    }
   ],
   "source": [
    "data_dir = Path('D:\\data\\HMS')\n",
    "spectro_dir = data_dir / 'train_spectrograms'\n",
    "\n",
    "data_dir, spectro_dir"
   ]
  },
  {
   "cell_type": "code",
   "execution_count": 4,
   "id": "b95c9ba8-36bb-466b-8ce1-c3d7e85777af",
   "metadata": {
    "tags": []
   },
   "outputs": [],
   "source": [
    "### Load all"
   ]
  },
  {
   "cell_type": "code",
   "execution_count": 5,
   "id": "78e9348b-19f2-4ea6-8560-743b12832489",
   "metadata": {
    "tags": []
   },
   "outputs": [
    {
     "data": {
      "text/plain": [
       "(11138, '1000086677.parquet')"
      ]
     },
     "execution_count": 5,
     "metadata": {},
     "output_type": "execute_result"
    }
   ],
   "source": [
    "spectros = os.listdir(spectro_dir)\n",
    "len(spectros), spectros[0]"
   ]
  },
  {
   "cell_type": "code",
   "execution_count": 6,
   "id": "abd00b14-e466-4b34-a6aa-ecea32668ab9",
   "metadata": {
    "tags": []
   },
   "outputs": [],
   "source": [
    "spectro_arr = []\n",
    "\n",
    "for p in spectros[1:]:\n",
    "    spectro = pd.read_parquet(spectro_dir / p)\n",
    "\n",
    "    spectro_id = p.split('.')[0]\n",
    "\n",
    "    # spectro['id'] = spectro_id\n",
    "\n",
    "    # spectro.insert(0, 'id', spectro_id)\n",
    "    \n",
    "    spectro_arr.append(spectro)"
   ]
  },
  {
   "cell_type": "code",
   "execution_count": 7,
   "id": "e641b415-d8a0-428d-862b-d730bf6cd821",
   "metadata": {},
   "outputs": [],
   "source": [
    "# (spectro_arr[0])"
   ]
  },
  {
   "cell_type": "code",
   "execution_count": 8,
   "id": "5a24d6cc-1781-48d0-9fec-d85d37e88c9b",
   "metadata": {
    "tags": []
   },
   "outputs": [
    {
     "data": {
      "text/plain": [
       "(4279206, 401)"
      ]
     },
     "execution_count": 8,
     "metadata": {},
     "output_type": "execute_result"
    }
   ],
   "source": [
    "big_file = np.vstack(spectro_arr)\n",
    "big_file.shape"
   ]
  },
  {
   "cell_type": "code",
   "execution_count": 9,
   "id": "ae6a8698-d671-4a3a-bc20-1d67ad12ec59",
   "metadata": {
    "tags": []
   },
   "outputs": [
    {
     "data": {
      "text/plain": [
       "numpy.ndarray"
      ]
     },
     "execution_count": 9,
     "metadata": {},
     "output_type": "execute_result"
    }
   ],
   "source": [
    "type(big_file)"
   ]
  },
  {
   "cell_type": "code",
   "execution_count": 10,
   "id": "c9b41fd1-47b5-40c0-8462-c6a414ba8aee",
   "metadata": {
    "tags": []
   },
   "outputs": [
    {
     "data": {
      "text/plain": [
       "0"
      ]
     },
     "execution_count": 10,
     "metadata": {},
     "output_type": "execute_result"
    }
   ],
   "source": [
    "del spectro_arr\n",
    "gc.collect()"
   ]
  },
  {
   "cell_type": "code",
   "execution_count": 11,
   "id": "f43eb5c8-cb92-4c59-a0fd-d8287ba9e684",
   "metadata": {
    "tags": []
   },
   "outputs": [],
   "source": [
    "# spectro_arr"
   ]
  },
  {
   "cell_type": "code",
   "execution_count": 12,
   "id": "770f8110-6e3f-448d-8ebd-5f8559c82642",
   "metadata": {
    "tags": []
   },
   "outputs": [
    {
     "data": {
      "text/plain": [
       "array([[ 1.        ,  5.61000013,  6.05000019,  8.5       ,  9.68999958],\n",
       "       [ 3.        ,  6.96000004,  7.5999999 ,  8.97000027, 10.26000023],\n",
       "       [ 5.        ,  5.57999992,  5.88999987,  6.23000002,  4.90999985],\n",
       "       [ 7.        ,  3.21000004,  3.31999993,  5.53999996,  5.15999985],\n",
       "       [ 9.        ,  2.3599999 ,  2.36999989,  2.54999995, 10.52000046],\n",
       "       [11.        ,  3.25999999,  4.11999989,  4.90999985, 11.39999962],\n",
       "       [13.        ,  3.07999992,  2.69000006,  5.11000013,  3.54999995],\n",
       "       [15.        ,  7.9000001 ,  8.18999958,  8.56000042, 10.86999989],\n",
       "       [17.        ,  8.02999973, 11.40999985, 17.53000069, 23.89999962],\n",
       "       [19.        ,  4.82999992,  7.4000001 ,  8.77999973, 11.90999985]])"
      ]
     },
     "execution_count": 12,
     "metadata": {},
     "output_type": "execute_result"
    }
   ],
   "source": [
    "big_file[:10,:5]"
   ]
  },
  {
   "cell_type": "code",
   "execution_count": null,
   "id": "a31360ed-108b-463b-b83d-ec8c55eba0c1",
   "metadata": {},
   "outputs": [],
   "source": []
  },
  {
   "cell_type": "code",
   "execution_count": null,
   "id": "74264b18-b395-43b6-ae36-168cf3d65e9a",
   "metadata": {},
   "outputs": [],
   "source": []
  },
  {
   "cell_type": "markdown",
   "id": "3f6f95a9-53e8-4e39-80af-b589be60550e",
   "metadata": {},
   "source": [
    "### Normalize"
   ]
  },
  {
   "cell_type": "code",
   "execution_count": 13,
   "id": "cb8172e4-b178-44de-8df6-9ea47591e980",
   "metadata": {
    "tags": []
   },
   "outputs": [
    {
     "data": {
      "text/plain": [
       "(4279206, 401)"
      ]
     },
     "execution_count": 13,
     "metadata": {},
     "output_type": "execute_result"
    }
   ],
   "source": [
    "np.nan_to_num(big_file, copy=False, nan=0.0)\n",
    "big_file.shape"
   ]
  },
  {
   "cell_type": "code",
   "execution_count": 14,
   "id": "a397a54a-26f5-4b1a-a115-763ae6009315",
   "metadata": {},
   "outputs": [
    {
     "data": {
      "text/plain": [
       "4719.730419539719"
      ]
     },
     "execution_count": 14,
     "metadata": {},
     "output_type": "execute_result"
    }
   ],
   "source": [
    "big_file[:, 2:102].mean()"
   ]
  },
  {
   "cell_type": "code",
   "execution_count": 15,
   "id": "a422a463-ee94-4228-97e1-1c9c6302fb93",
   "metadata": {
    "tags": []
   },
   "outputs": [],
   "source": [
    "big_file = np.clip(big_file,np.exp(-4),np.exp(8), out=big_file)"
   ]
  },
  {
   "cell_type": "code",
   "execution_count": 16,
   "id": "3d8e252d-36c7-4404-bde1-3312a83232e8",
   "metadata": {
    "tags": []
   },
   "outputs": [],
   "source": [
    "big_file = np.log(big_file, out=big_file)"
   ]
  },
  {
   "cell_type": "code",
   "execution_count": 17,
   "id": "da526aa4-f81a-4579-acb9-3d6a3cc2c874",
   "metadata": {
    "tags": []
   },
   "outputs": [
    {
     "data": {
      "text/plain": [
       "-0.22258850456002197"
      ]
     },
     "execution_count": 17,
     "metadata": {},
     "output_type": "execute_result"
    }
   ],
   "source": [
    "big_file[:, 1:101].mean()"
   ]
  },
  {
   "cell_type": "code",
   "execution_count": 19,
   "id": "c711942a-e0a2-43dd-a53e-f03550b8b0a5",
   "metadata": {
    "tags": []
   },
   "outputs": [
    {
     "data": {
      "text/plain": [
       "([-0.22308692079693776,\n",
       "  -0.23225270031972337,\n",
       "  -0.2646080688103756,\n",
       "  -0.27772951886156666],\n",
       " [2.4021079842036257,\n",
       "  2.3784709900060506,\n",
       "  2.4214762588834593,\n",
       "  2.366489507911308])"
      ]
     },
     "execution_count": 19,
     "metadata": {},
     "output_type": "execute_result"
    }
   ],
   "source": [
    "offset = 2\n",
    "mean = []\n",
    "std = []\n",
    "\n",
    "for i in range(4):\n",
    "    start = i*100+offset\n",
    "    mean.append(big_file[:, start:start+100].mean())\n",
    "    std.append(np.std(big_file[:, start:start+100]))\n",
    "    \n",
    "    # print(mean, norm)\n",
    "\n",
    "mean, std"
   ]
  },
  {
   "cell_type": "code",
   "execution_count": null,
   "id": "826ca23c-bd27-4b99-a2fb-7395ad0d9ef1",
   "metadata": {},
   "outputs": [],
   "source": []
  },
  {
   "cell_type": "code",
   "execution_count": null,
   "id": "02a84ec0-148d-4cc3-981c-72663dd1ca94",
   "metadata": {},
   "outputs": [],
   "source": []
  }
 ],
 "metadata": {
  "kernelspec": {
   "display_name": "Python 3 (ipykernel)",
   "language": "python",
   "name": "python3"
  },
  "language_info": {
   "codemirror_mode": {
    "name": "ipython",
    "version": 3
   },
   "file_extension": ".py",
   "mimetype": "text/x-python",
   "name": "python",
   "nbconvert_exporter": "python",
   "pygments_lexer": "ipython3",
   "version": "3.10.13"
  }
 },
 "nbformat": 4,
 "nbformat_minor": 5
}
