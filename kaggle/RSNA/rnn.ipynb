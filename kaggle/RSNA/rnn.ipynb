{
 "cells": [
  {
   "cell_type": "code",
   "execution_count": 141,
   "id": "b9285b2a-4eb1-4ba0-8da6-fec3d7bf7caf",
   "metadata": {},
   "outputs": [
    {
     "name": "stdout",
     "output_type": "stream",
     "text": [
      "The autoreload extension is already loaded. To reload it, use:\n",
      "  %reload_ext autoreload\n"
     ]
    }
   ],
   "source": [
    "%load_ext autoreload\n",
    "%autoreload 2"
   ]
  },
  {
   "cell_type": "markdown",
   "id": "d066835a-84e9-447f-8774-8c25fe9b3401",
   "metadata": {},
   "source": [
    "### Imports"
   ]
  },
  {
   "cell_type": "code",
   "execution_count": 3,
   "id": "ec358010-952a-448e-b50c-917938b87f95",
   "metadata": {},
   "outputs": [],
   "source": [
    "import os\n",
    "import time\n",
    "import wandb\n",
    "import torch\n",
    "import random\n",
    "import torchvision\n",
    "\n",
    "import numpy as np\n",
    "import pandas as pd\n",
    "import torchmetrics as tm \n",
    "# import plotly.express as px\n",
    "import pytorch_lightning as pl\n",
    "import matplotlib.pyplot as plt\n",
    "\n",
    "from torch import nn\n",
    "from pathlib import Path, PurePath\n",
    "from torch.utils.data import Dataset, DataLoader\n",
    "from torch.optim import Adam, AdamW, RMSprop # optmizers\n",
    "from sklearn import preprocessing \n",
    "# from warmup_scheduler import GradualWarmupScheduler\n",
    "from sklearn.model_selection import train_test_split\n",
    "from torch.optim.lr_scheduler import CosineAnnealingLR, ReduceLROnPlateau # Learning rate schedulers\n",
    "\n",
    "import albumentations as A\n",
    "# from albumentations.pytorch import ToTensorV2\n",
    "\n",
    "import torch.nn.functional as F\n",
    "\n",
    "import torchmetrics as tm\n",
    "\n",
    "from pytorch_lightning.loggers import WandbLogger\n",
    "from pytorch_lightning.callbacks import Callback, LearningRateMonitor\n",
    "from torchmetrics.wrappers import ClasswiseWrapper\n",
    "from torchmetrics import MetricCollection\n",
    "from torchmetrics.classification import MultilabelAccuracy, MultilabelPrecision, MultilabelRecall, MultilabelF1Score\n",
    "from torchmetrics.classification import MulticlassAccuracy, MulticlassPrecision, MulticlassRecall, MulticlassF1Score\n",
    "\n",
    "import timm"
   ]
  },
  {
   "cell_type": "code",
   "execution_count": 4,
   "id": "5ebe9c0f-24bb-41e4-a2df-8992ab3ef2eb",
   "metadata": {},
   "outputs": [
    {
     "name": "stdout",
     "output_type": "stream",
     "text": [
      "timm version 1.0.8\n",
      "torch version 2.3.1\n"
     ]
    }
   ],
   "source": [
    "print('timm version', timm.__version__)\n",
    "print('torch version', torch.__version__)"
   ]
  },
  {
   "cell_type": "code",
   "execution_count": 5,
   "id": "0d4a5098-ea06-4b7e-8b88-3a52c507c60a",
   "metadata": {},
   "outputs": [
    {
     "name": "stderr",
     "output_type": "stream",
     "text": [
      "wandb: Currently logged in as: rosu-lucian. Use `wandb login --relogin` to force relogin\n",
      "wandb: WARNING If you're specifying your api key in code, ensure this code is not shared publicly.\n",
      "wandb: WARNING Consider setting the WANDB_API_KEY environment variable, or running `wandb login` from the command line.\n",
      "wandb: Appending key for api.wandb.ai to your netrc file: C:\\Users\\Asus\\.netrc\n"
     ]
    },
    {
     "data": {
      "text/plain": [
       "True"
      ]
     },
     "execution_count": 5,
     "metadata": {},
     "output_type": "execute_result"
    }
   ],
   "source": [
    "wandb.login(key=os.getenv('wandb_api_key'))"
   ]
  },
  {
   "cell_type": "code",
   "execution_count": 6,
   "id": "01e0c6c6-ed9a-4454-bcfc-c545785339e2",
   "metadata": {},
   "outputs": [
    {
     "name": "stdout",
     "output_type": "stream",
     "text": [
      "cuda\n"
     ]
    }
   ],
   "source": [
    "# detect and define device \n",
    "device = torch.device('cuda' if torch.cuda.is_available() else 'cpu')\n",
    "\n",
    "print(device)"
   ]
  },
  {
   "cell_type": "code",
   "execution_count": 7,
   "id": "3ce8221d-961f-4ca9-ac09-7f169134c79d",
   "metadata": {},
   "outputs": [],
   "source": [
    "# for reproducibility\n",
    "def seed_torch(seed):\n",
    "    random.seed(seed)\n",
    "    os.environ['PYTHONHASHSEED'] = str(seed)\n",
    "    np.random.seed(seed)\n",
    "    torch.manual_seed(seed)\n",
    "    torch.cuda.manual_seed(seed)\n",
    "    torch.backends.cudnn.deterministic = True"
   ]
  },
  {
   "cell_type": "markdown",
   "id": "97d5b081-221c-40c4-9927-4b0179ac6e5b",
   "metadata": {},
   "source": [
    "### Config"
   ]
  },
  {
   "cell_type": "code",
   "execution_count": 8,
   "id": "1473d73e-d6c7-4dcb-a7c1-f5f407541f8b",
   "metadata": {},
   "outputs": [
    {
     "data": {
      "text/plain": [
       "25"
      ]
     },
     "execution_count": 8,
     "metadata": {},
     "output_type": "execute_result"
    }
   ],
   "source": [
    "# TODO: maybe use condition and level for classes\n",
    "classes = ['SCS', 'RNFN', 'LNFN', 'LSS', 'RSS'] + ['H'] # add healthy class\n",
    "\n",
    "# classes = ['SCS', 'RNFN', 'LNFN'] + ['H'] # add healthy class\n",
    "\n",
    "# classes = ['LSS', 'RSS'] + ['H'] # add healthy class\n",
    "\n",
    "classes = ['SCSL1L2', 'SCSL2L3', 'SCSL3L4', 'SCSL4L5', 'SCSL5S1', 'RNFNL4L5',\n",
    "       'RNFNL5S1', 'RNFNL3L4', 'RNFNL1L2', 'RNFNL2L3', 'LNFNL1L2',\n",
    "       'LNFNL4L5', 'LNFNL5S1', 'LNFNL2L3', 'LNFNL3L4', 'LSSL1L2',\n",
    "       'RSSL1L2', 'LSSL2L3', 'RSSL2L3', 'LSSL3L4', 'RSSL3L4', 'LSSL4L5',\n",
    "       'RSSL4L5', 'LSSL5S1', 'RSSL5S1']\n",
    "\n",
    "num_classes = len(classes)\n",
    "class2id = {b: i for i, b in enumerate(classes)}\n",
    "\n",
    "num_classes"
   ]
  },
  {
   "cell_type": "code",
   "execution_count": 9,
   "id": "fd13130f-5b6c-4ee1-b4ce-ad0864843d9a",
   "metadata": {},
   "outputs": [],
   "source": [
    "train_dir = Path('E:\\data\\RSNA2024')\n",
    "\n",
    "class CFG:\n",
    "\n",
    "    project = 'lstm_new'\n",
    "    comment = 'undersample_healthy'\n",
    "\n",
    "    ### model\n",
    "    model_name = 'lstm' # 'resnet34', 'resnet200d', 'efficientnet_b1_pruned', 'efficientnetv2_m', efficientnet_b7 \n",
    "\n",
    "    image_size = 256\n",
    "    \n",
    "    ROOT_FOLDER = train_dir\n",
    "    IMAGES_DIR = ROOT_FOLDER / 'train_images'\n",
    "    PNG_DIR = ROOT_FOLDER / f'pngs_{image_size}'\n",
    "    FILES_CSV = ROOT_FOLDER / 'train_files.csv'\n",
    "    PREDS_CSV = ROOT_FOLDER / 'predictions.csv'\n",
    "    TRAIN_CSV = ROOT_FOLDER / 'train.csv'\n",
    "    TRAIN_DESC_CSV = ROOT_FOLDER / 'train_series_descriptions.csv'\n",
    "    COORDS_CSV = ROOT_FOLDER / 'train_label_coordinates.csv'\n",
    "\n",
    "    # ckpt_path = Path(r\"E:\\data\\RSNA2024\\results\\ckpt\\eca_nfnet_l0 5e-05 10 eps all-labels\\ep_03_loss_0.15231.ckpt\")\n",
    "    embeds_path = Path(r\"E:\\data\\RSNA2024\\embeddings\")\n",
    "    stacked_path = Path(r\"E:\\data\\RSNA2024\\embeddings_stacked\")\n",
    "\n",
    "    RESULTS_DIR = train_dir / 'results'\n",
    "    CKPT_DIR = RESULTS_DIR / 'ckpt'\n",
    "\n",
    "    weighted_loss = True\n",
    "    class_weights = [2.06762982, 0.42942998, 5.32804575]\n",
    "    # class_weights = [1, 0.2, 1.5]\n",
    "    \n",
    "    num_layers=8\n",
    "\n",
    "    input_dim = 128\n",
    "    hidden_dim = 128\n",
    "    target_size = 128\n",
    "\n",
    "    classes = classes\n",
    "\n",
    "    split_fraction = 0.95\n",
    "\n",
    "    MIXUP = False\n",
    "\n",
    "    ### training\n",
    "    BATCH_SIZE = 16\n",
    "    \n",
    "    ### Optimizer\n",
    "    N_EPOCHS = 30\n",
    "    USE_SCHD = False\n",
    "    WARM_EPOCHS = 3\n",
    "    COS_EPOCHS = N_EPOCHS - WARM_EPOCHS\n",
    "\n",
    "    # LEARNING_RATE = 5*1e-5 # best\n",
    "    LEARNING_RATE = 5e-5\n",
    "    \n",
    "    weight_decay = 1e-6 # for adamw\n",
    "\n",
    "    device = 'cuda' if torch.cuda.is_available() else 'cpu'\n",
    "\n",
    "    ### split train and validation sets\n",
    "    num_workers = 4\n",
    "\n",
    "    random_seed = 42\n",
    "\n",
    "# CFG.N_LABELS = len(CFG.classes)\n",
    "CFG.N_LABELS = 3\n",
    "\n",
    "seed_torch(seed = CFG.random_seed)"
   ]
  },
  {
   "cell_type": "code",
   "execution_count": 10,
   "id": "8382e5e6-6fd6-413e-80bc-f18c1972ccc2",
   "metadata": {},
   "outputs": [
    {
     "data": {
      "text/plain": [
       "3"
      ]
     },
     "execution_count": 10,
     "metadata": {},
     "output_type": "execute_result"
    }
   ],
   "source": [
    "CFG.N_LABELS "
   ]
  },
  {
   "cell_type": "markdown",
   "id": "5ae4d4f5-b0cc-45db-96b7-7496e38eff24",
   "metadata": {},
   "source": [
    "### Load data"
   ]
  },
  {
   "cell_type": "code",
   "execution_count": 11,
   "id": "a75543cd-74ab-45f8-8aba-3775b1cd70ab",
   "metadata": {},
   "outputs": [
    {
     "data": {
      "text/plain": [
       "((1975, 26), (6294, 3), (48692, 18), (147218, 21), (147218, 16))"
      ]
     },
     "execution_count": 11,
     "metadata": {},
     "output_type": "execute_result"
    }
   ],
   "source": [
    "train_df = pd.read_csv(CFG.TRAIN_CSV)\n",
    "train_desc_df = pd.read_csv(CFG.TRAIN_DESC_CSV)\n",
    "coords_df = pd.read_csv(CFG.COORDS_CSV)\n",
    "files_df = pd.read_csv(CFG.FILES_CSV)\n",
    "preds_df = pd.read_csv(CFG.PREDS_CSV)\n",
    "\n",
    "train_df.shape, train_desc_df.shape, coords_df.shape, files_df.shape, preds_df.shape"
   ]
  },
  {
   "cell_type": "code",
   "execution_count": 12,
   "id": "da24d0eb-c499-4330-9ec3-a057429b0395",
   "metadata": {
    "scrolled": true
   },
   "outputs": [
    {
     "data": {
      "text/html": [
       "<div>\n",
       "<style scoped>\n",
       "    .dataframe tbody tr th:only-of-type {\n",
       "        vertical-align: middle;\n",
       "    }\n",
       "\n",
       "    .dataframe tbody tr th {\n",
       "        vertical-align: top;\n",
       "    }\n",
       "\n",
       "    .dataframe thead th {\n",
       "        text-align: right;\n",
       "    }\n",
       "</style>\n",
       "<table border=\"1\" class=\"dataframe\">\n",
       "  <thead>\n",
       "    <tr style=\"text-align: right;\">\n",
       "      <th></th>\n",
       "      <th>study_id</th>\n",
       "      <th>series_id</th>\n",
       "      <th>series_description</th>\n",
       "      <th>ss_id</th>\n",
       "    </tr>\n",
       "  </thead>\n",
       "  <tbody>\n",
       "    <tr>\n",
       "      <th>0</th>\n",
       "      <td>4003253</td>\n",
       "      <td>702807833</td>\n",
       "      <td>Sagittal T2/STIR</td>\n",
       "      <td>4003253_702807833</td>\n",
       "    </tr>\n",
       "    <tr>\n",
       "      <th>1</th>\n",
       "      <td>4003253</td>\n",
       "      <td>1054713880</td>\n",
       "      <td>Sagittal T1</td>\n",
       "      <td>4003253_1054713880</td>\n",
       "    </tr>\n",
       "  </tbody>\n",
       "</table>\n",
       "</div>"
      ],
      "text/plain": [
       "   study_id   series_id series_description               ss_id\n",
       "0   4003253   702807833   Sagittal T2/STIR   4003253_702807833\n",
       "1   4003253  1054713880        Sagittal T1  4003253_1054713880"
      ]
     },
     "execution_count": 12,
     "metadata": {},
     "output_type": "execute_result"
    }
   ],
   "source": [
    "train_desc_df['ss_id'] = train_desc_df.apply(lambda row: f'{row.study_id}_{row.series_id}', axis=1)\n",
    "preds_df['ss_id'] = preds_df.apply(lambda row: f'{row.study_id}_{row.series_id}', axis=1)\n",
    "\n",
    "train_desc_df.head(2)"
   ]
  },
  {
   "cell_type": "code",
   "execution_count": 159,
   "id": "45670a6c-4aed-4842-b275-dfb8c3f8dbf1",
   "metadata": {},
   "outputs": [
    {
     "data": {
      "text/plain": [
       "array(['SCS', 'RNFN', 'LNFN', 'LSS', 'RSS'], dtype=object)"
      ]
     },
     "execution_count": 159,
     "metadata": {},
     "output_type": "execute_result"
    }
   ],
   "source": [
    "coords_df.condition.unique()"
   ]
  },
  {
   "cell_type": "code",
   "execution_count": 13,
   "id": "c9fdcf9b-71d3-4313-9229-de98b42e3b89",
   "metadata": {},
   "outputs": [
    {
     "data": {
      "text/html": [
       "<div>\n",
       "<style scoped>\n",
       "    .dataframe tbody tr th:only-of-type {\n",
       "        vertical-align: middle;\n",
       "    }\n",
       "\n",
       "    .dataframe tbody tr th {\n",
       "        vertical-align: top;\n",
       "    }\n",
       "\n",
       "    .dataframe thead th {\n",
       "        text-align: right;\n",
       "    }\n",
       "</style>\n",
       "<table border=\"1\" class=\"dataframe\">\n",
       "  <thead>\n",
       "    <tr style=\"text-align: right;\">\n",
       "      <th></th>\n",
       "      <th>ids</th>\n",
       "      <th>SCS</th>\n",
       "      <th>RNFN</th>\n",
       "      <th>LNFN</th>\n",
       "      <th>LSS</th>\n",
       "      <th>RSS</th>\n",
       "      <th>H</th>\n",
       "      <th>pred_SCS</th>\n",
       "      <th>pred_RNFN</th>\n",
       "      <th>pred_LNFN</th>\n",
       "      <th>pred_LSS</th>\n",
       "      <th>pred_RSS</th>\n",
       "      <th>pred_H</th>\n",
       "      <th>study_id</th>\n",
       "      <th>series_id</th>\n",
       "      <th>instance</th>\n",
       "      <th>ss_id</th>\n",
       "    </tr>\n",
       "  </thead>\n",
       "  <tbody>\n",
       "    <tr>\n",
       "      <th>0</th>\n",
       "      <td>100206310_1012284084_1</td>\n",
       "      <td>0.0</td>\n",
       "      <td>0.0</td>\n",
       "      <td>0.0</td>\n",
       "      <td>0.0</td>\n",
       "      <td>0.0</td>\n",
       "      <td>1.0</td>\n",
       "      <td>0.008687</td>\n",
       "      <td>0.005704</td>\n",
       "      <td>0.003396</td>\n",
       "      <td>0.008272</td>\n",
       "      <td>0.010076</td>\n",
       "      <td>0.996422</td>\n",
       "      <td>100206310</td>\n",
       "      <td>1012284084</td>\n",
       "      <td>1</td>\n",
       "      <td>100206310_1012284084</td>\n",
       "    </tr>\n",
       "    <tr>\n",
       "      <th>1</th>\n",
       "      <td>100206310_1012284084_10</td>\n",
       "      <td>0.0</td>\n",
       "      <td>0.0</td>\n",
       "      <td>0.0</td>\n",
       "      <td>0.0</td>\n",
       "      <td>0.0</td>\n",
       "      <td>1.0</td>\n",
       "      <td>0.009786</td>\n",
       "      <td>0.005203</td>\n",
       "      <td>0.004467</td>\n",
       "      <td>0.010467</td>\n",
       "      <td>0.013595</td>\n",
       "      <td>0.994842</td>\n",
       "      <td>100206310</td>\n",
       "      <td>1012284084</td>\n",
       "      <td>10</td>\n",
       "      <td>100206310_1012284084</td>\n",
       "    </tr>\n",
       "  </tbody>\n",
       "</table>\n",
       "</div>"
      ],
      "text/plain": [
       "                       ids  SCS  RNFN  LNFN  LSS  RSS    H  pred_SCS  \\\n",
       "0   100206310_1012284084_1  0.0   0.0   0.0  0.0  0.0  1.0  0.008687   \n",
       "1  100206310_1012284084_10  0.0   0.0   0.0  0.0  0.0  1.0  0.009786   \n",
       "\n",
       "   pred_RNFN  pred_LNFN  pred_LSS  pred_RSS    pred_H   study_id   series_id  \\\n",
       "0   0.005704   0.003396  0.008272  0.010076  0.996422  100206310  1012284084   \n",
       "1   0.005203   0.004467  0.010467  0.013595  0.994842  100206310  1012284084   \n",
       "\n",
       "   instance                 ss_id  \n",
       "0         1  100206310_1012284084  \n",
       "1        10  100206310_1012284084  "
      ]
     },
     "execution_count": 13,
     "metadata": {},
     "output_type": "execute_result"
    }
   ],
   "source": [
    "preds_df.head(2)"
   ]
  },
  {
   "cell_type": "code",
   "execution_count": 14,
   "id": "f33f6742-8938-4ada-bbaa-82429c84b51f",
   "metadata": {},
   "outputs": [
    {
     "data": {
      "text/html": [
       "<div>\n",
       "<style scoped>\n",
       "    .dataframe tbody tr th:only-of-type {\n",
       "        vertical-align: middle;\n",
       "    }\n",
       "\n",
       "    .dataframe tbody tr th {\n",
       "        vertical-align: top;\n",
       "    }\n",
       "\n",
       "    .dataframe thead th {\n",
       "        text-align: right;\n",
       "    }\n",
       "</style>\n",
       "<table border=\"1\" class=\"dataframe\">\n",
       "  <thead>\n",
       "    <tr style=\"text-align: right;\">\n",
       "      <th></th>\n",
       "      <th>study_id</th>\n",
       "      <th>series_id</th>\n",
       "      <th>image</th>\n",
       "      <th>proj</th>\n",
       "      <th>instancenumber</th>\n",
       "      <th>rows</th>\n",
       "      <th>columns</th>\n",
       "      <th>slicethickness</th>\n",
       "      <th>spacingbetweenslices</th>\n",
       "      <th>patientposition</th>\n",
       "      <th>...</th>\n",
       "      <th>ss_id</th>\n",
       "      <th>instance_id</th>\n",
       "      <th>filename</th>\n",
       "      <th>series_description</th>\n",
       "      <th>cl</th>\n",
       "      <th>condition</th>\n",
       "      <th>inst_min</th>\n",
       "      <th>inst_max</th>\n",
       "      <th>inst</th>\n",
       "      <th>inst_perc</th>\n",
       "    </tr>\n",
       "  </thead>\n",
       "  <tbody>\n",
       "    <tr>\n",
       "      <th>0</th>\n",
       "      <td>100206310</td>\n",
       "      <td>1012284084</td>\n",
       "      <td>1</td>\n",
       "      <td>-394</td>\n",
       "      <td>1</td>\n",
       "      <td>320</td>\n",
       "      <td>320</td>\n",
       "      <td>3.5</td>\n",
       "      <td>3.5</td>\n",
       "      <td>HFS</td>\n",
       "      <td>...</td>\n",
       "      <td>100206310_1012284084</td>\n",
       "      <td>100206310_1012284084_1</td>\n",
       "      <td>E:\\data\\RSNA2024\\pngs_256\\100206310_1012284084...</td>\n",
       "      <td>Axial T2</td>\n",
       "      <td>H</td>\n",
       "      <td>H</td>\n",
       "      <td>1</td>\n",
       "      <td>60</td>\n",
       "      <td>0</td>\n",
       "      <td>0.00</td>\n",
       "    </tr>\n",
       "    <tr>\n",
       "      <th>1</th>\n",
       "      <td>100206310</td>\n",
       "      <td>1012284084</td>\n",
       "      <td>10</td>\n",
       "      <td>-427</td>\n",
       "      <td>10</td>\n",
       "      <td>320</td>\n",
       "      <td>320</td>\n",
       "      <td>3.5</td>\n",
       "      <td>3.5</td>\n",
       "      <td>HFS</td>\n",
       "      <td>...</td>\n",
       "      <td>100206310_1012284084</td>\n",
       "      <td>100206310_1012284084_10</td>\n",
       "      <td>E:\\data\\RSNA2024\\pngs_256\\100206310_1012284084...</td>\n",
       "      <td>Axial T2</td>\n",
       "      <td>H</td>\n",
       "      <td>H</td>\n",
       "      <td>1</td>\n",
       "      <td>60</td>\n",
       "      <td>9</td>\n",
       "      <td>0.15</td>\n",
       "    </tr>\n",
       "  </tbody>\n",
       "</table>\n",
       "<p>2 rows × 21 columns</p>\n",
       "</div>"
      ],
      "text/plain": [
       "    study_id   series_id  image  proj  instancenumber  rows  columns  \\\n",
       "0  100206310  1012284084      1  -394               1   320      320   \n",
       "1  100206310  1012284084     10  -427              10   320      320   \n",
       "\n",
       "   slicethickness  spacingbetweenslices patientposition  ...  \\\n",
       "0             3.5                   3.5             HFS  ...   \n",
       "1             3.5                   3.5             HFS  ...   \n",
       "\n",
       "                  ss_id              instance_id  \\\n",
       "0  100206310_1012284084   100206310_1012284084_1   \n",
       "1  100206310_1012284084  100206310_1012284084_10   \n",
       "\n",
       "                                            filename series_description cl  \\\n",
       "0  E:\\data\\RSNA2024\\pngs_256\\100206310_1012284084...           Axial T2  H   \n",
       "1  E:\\data\\RSNA2024\\pngs_256\\100206310_1012284084...           Axial T2  H   \n",
       "\n",
       "  condition inst_min  inst_max  inst  inst_perc  \n",
       "0         H        1        60     0       0.00  \n",
       "1         H        1        60     9       0.15  \n",
       "\n",
       "[2 rows x 21 columns]"
      ]
     },
     "execution_count": 14,
     "metadata": {},
     "output_type": "execute_result"
    }
   ],
   "source": [
    "files_df.head(2)"
   ]
  },
  {
   "cell_type": "code",
   "execution_count": 15,
   "id": "0849cc65-8d2d-4712-b0fb-8401843365a1",
   "metadata": {},
   "outputs": [
    {
     "data": {
      "text/html": [
       "<div>\n",
       "<style scoped>\n",
       "    .dataframe tbody tr th:only-of-type {\n",
       "        vertical-align: middle;\n",
       "    }\n",
       "\n",
       "    .dataframe tbody tr th {\n",
       "        vertical-align: top;\n",
       "    }\n",
       "\n",
       "    .dataframe thead th {\n",
       "        text-align: right;\n",
       "    }\n",
       "</style>\n",
       "<table border=\"1\" class=\"dataframe\">\n",
       "  <thead>\n",
       "    <tr style=\"text-align: right;\">\n",
       "      <th></th>\n",
       "      <th>ids</th>\n",
       "      <th>SCS</th>\n",
       "      <th>RNFN</th>\n",
       "      <th>LNFN</th>\n",
       "      <th>LSS</th>\n",
       "      <th>RSS</th>\n",
       "      <th>H</th>\n",
       "      <th>pred_SCS</th>\n",
       "      <th>pred_RNFN</th>\n",
       "      <th>pred_LNFN</th>\n",
       "      <th>pred_LSS</th>\n",
       "      <th>pred_RSS</th>\n",
       "      <th>pred_H</th>\n",
       "      <th>study_id</th>\n",
       "      <th>series_id</th>\n",
       "      <th>instance</th>\n",
       "      <th>ss_id</th>\n",
       "      <th>series_description</th>\n",
       "    </tr>\n",
       "  </thead>\n",
       "  <tbody>\n",
       "    <tr>\n",
       "      <th>27165</th>\n",
       "      <td>1724850177_3909740603_2</td>\n",
       "      <td>0.0</td>\n",
       "      <td>0.0</td>\n",
       "      <td>0.0</td>\n",
       "      <td>0.0</td>\n",
       "      <td>0.0</td>\n",
       "      <td>1.0</td>\n",
       "      <td>0.009437</td>\n",
       "      <td>0.004596</td>\n",
       "      <td>0.004386</td>\n",
       "      <td>0.007760</td>\n",
       "      <td>0.009090</td>\n",
       "      <td>0.996385</td>\n",
       "      <td>1724850177</td>\n",
       "      <td>3909740603</td>\n",
       "      <td>2</td>\n",
       "      <td>1724850177_3909740603</td>\n",
       "      <td>Axial T2</td>\n",
       "    </tr>\n",
       "    <tr>\n",
       "      <th>109560</th>\n",
       "      <td>3871485386_2006212660_8</td>\n",
       "      <td>0.0</td>\n",
       "      <td>0.0</td>\n",
       "      <td>0.0</td>\n",
       "      <td>0.0</td>\n",
       "      <td>0.0</td>\n",
       "      <td>1.0</td>\n",
       "      <td>0.006790</td>\n",
       "      <td>0.003646</td>\n",
       "      <td>0.002439</td>\n",
       "      <td>0.013407</td>\n",
       "      <td>0.013598</td>\n",
       "      <td>0.997847</td>\n",
       "      <td>3871485386</td>\n",
       "      <td>2006212660</td>\n",
       "      <td>8</td>\n",
       "      <td>3871485386_2006212660</td>\n",
       "      <td>Sagittal T1</td>\n",
       "    </tr>\n",
       "  </tbody>\n",
       "</table>\n",
       "</div>"
      ],
      "text/plain": [
       "                            ids  SCS  RNFN  LNFN  LSS  RSS    H  pred_SCS  \\\n",
       "27165   1724850177_3909740603_2  0.0   0.0   0.0  0.0  0.0  1.0  0.009437   \n",
       "109560  3871485386_2006212660_8  0.0   0.0   0.0  0.0  0.0  1.0  0.006790   \n",
       "\n",
       "        pred_RNFN  pred_LNFN  pred_LSS  pred_RSS    pred_H    study_id  \\\n",
       "27165    0.004596   0.004386  0.007760  0.009090  0.996385  1724850177   \n",
       "109560   0.003646   0.002439  0.013407  0.013598  0.997847  3871485386   \n",
       "\n",
       "         series_id  instance                  ss_id series_description  \n",
       "27165   3909740603         2  1724850177_3909740603           Axial T2  \n",
       "109560  2006212660         8  3871485386_2006212660        Sagittal T1  "
      ]
     },
     "execution_count": 15,
     "metadata": {},
     "output_type": "execute_result"
    }
   ],
   "source": [
    "preds_df = pd.merge(preds_df, train_desc_df.loc[:, ['ss_id', 'series_description']],  how='inner', left_on=['ss_id'], right_on=['ss_id'])\n",
    "\n",
    "preds_df.sample(2)"
   ]
  },
  {
   "cell_type": "code",
   "execution_count": 16,
   "id": "4c431539-f510-4845-9820-1dd6af51182b",
   "metadata": {},
   "outputs": [
    {
     "data": {
      "text/html": [
       "<div>\n",
       "<style scoped>\n",
       "    .dataframe tbody tr th:only-of-type {\n",
       "        vertical-align: middle;\n",
       "    }\n",
       "\n",
       "    .dataframe tbody tr th {\n",
       "        vertical-align: top;\n",
       "    }\n",
       "\n",
       "    .dataframe thead th {\n",
       "        text-align: right;\n",
       "    }\n",
       "</style>\n",
       "<table border=\"1\" class=\"dataframe\">\n",
       "  <thead>\n",
       "    <tr style=\"text-align: right;\">\n",
       "      <th></th>\n",
       "      <th>ids</th>\n",
       "      <th>SCS</th>\n",
       "      <th>RNFN</th>\n",
       "      <th>LNFN</th>\n",
       "      <th>LSS</th>\n",
       "      <th>RSS</th>\n",
       "      <th>H</th>\n",
       "      <th>pred_SCS</th>\n",
       "      <th>pred_RNFN</th>\n",
       "      <th>pred_LNFN</th>\n",
       "      <th>pred_LSS</th>\n",
       "      <th>pred_RSS</th>\n",
       "      <th>pred_H</th>\n",
       "      <th>study_id</th>\n",
       "      <th>series_id</th>\n",
       "      <th>instance</th>\n",
       "      <th>ss_id</th>\n",
       "      <th>series_description</th>\n",
       "      <th>instance_id</th>\n",
       "      <th>proj</th>\n",
       "    </tr>\n",
       "  </thead>\n",
       "  <tbody>\n",
       "    <tr>\n",
       "      <th>135360</th>\n",
       "      <td>696494906_2429429854_11</td>\n",
       "      <td>0.0</td>\n",
       "      <td>0.0</td>\n",
       "      <td>0.0</td>\n",
       "      <td>0.0</td>\n",
       "      <td>0.0</td>\n",
       "      <td>1.0</td>\n",
       "      <td>0.010126</td>\n",
       "      <td>0.004597</td>\n",
       "      <td>0.003540</td>\n",
       "      <td>0.014541</td>\n",
       "      <td>0.013506</td>\n",
       "      <td>0.976901</td>\n",
       "      <td>696494906</td>\n",
       "      <td>2429429854</td>\n",
       "      <td>11</td>\n",
       "      <td>696494906_2429429854</td>\n",
       "      <td>Axial T2</td>\n",
       "      <td>696494906_2429429854_11</td>\n",
       "      <td>-418</td>\n",
       "    </tr>\n",
       "    <tr>\n",
       "      <th>144302</th>\n",
       "      <td>937772835_1503533501_34</td>\n",
       "      <td>0.0</td>\n",
       "      <td>0.0</td>\n",
       "      <td>0.0</td>\n",
       "      <td>0.0</td>\n",
       "      <td>0.0</td>\n",
       "      <td>1.0</td>\n",
       "      <td>0.010032</td>\n",
       "      <td>0.005043</td>\n",
       "      <td>0.005893</td>\n",
       "      <td>0.011268</td>\n",
       "      <td>0.014073</td>\n",
       "      <td>0.989045</td>\n",
       "      <td>937772835</td>\n",
       "      <td>1503533501</td>\n",
       "      <td>34</td>\n",
       "      <td>937772835_1503533501</td>\n",
       "      <td>Axial T2</td>\n",
       "      <td>937772835_1503533501_34</td>\n",
       "      <td>-77</td>\n",
       "    </tr>\n",
       "  </tbody>\n",
       "</table>\n",
       "</div>"
      ],
      "text/plain": [
       "                            ids  SCS  RNFN  LNFN  LSS  RSS    H  pred_SCS  \\\n",
       "135360  696494906_2429429854_11  0.0   0.0   0.0  0.0  0.0  1.0  0.010126   \n",
       "144302  937772835_1503533501_34  0.0   0.0   0.0  0.0  0.0  1.0  0.010032   \n",
       "\n",
       "        pred_RNFN  pred_LNFN  pred_LSS  pred_RSS    pred_H   study_id  \\\n",
       "135360   0.004597   0.003540  0.014541  0.013506  0.976901  696494906   \n",
       "144302   0.005043   0.005893  0.011268  0.014073  0.989045  937772835   \n",
       "\n",
       "         series_id  instance                 ss_id series_description  \\\n",
       "135360  2429429854        11  696494906_2429429854           Axial T2   \n",
       "144302  1503533501        34  937772835_1503533501           Axial T2   \n",
       "\n",
       "                    instance_id  proj  \n",
       "135360  696494906_2429429854_11  -418  \n",
       "144302  937772835_1503533501_34   -77  "
      ]
     },
     "execution_count": 16,
     "metadata": {},
     "output_type": "execute_result"
    }
   ],
   "source": [
    "preds_df = pd.merge(preds_df, files_df.loc[:, ['instance_id', 'proj']],  how='inner', left_on=['ids'], right_on=['instance_id'])\n",
    "\n",
    "preds_df.sample(2)"
   ]
  },
  {
   "cell_type": "code",
   "execution_count": 17,
   "id": "5e5c0af1-9284-4a40-ae84-247c9822ad96",
   "metadata": {},
   "outputs": [],
   "source": [
    "# train_desc_df[train_desc_df['series_id'] == 3909740603]"
   ]
  },
  {
   "cell_type": "code",
   "execution_count": 18,
   "id": "b4030ecf-ddc6-4c77-944b-7206bc3919ef",
   "metadata": {},
   "outputs": [
    {
     "data": {
      "text/html": [
       "<div>\n",
       "<style scoped>\n",
       "    .dataframe tbody tr th:only-of-type {\n",
       "        vertical-align: middle;\n",
       "    }\n",
       "\n",
       "    .dataframe tbody tr th {\n",
       "        vertical-align: top;\n",
       "    }\n",
       "\n",
       "    .dataframe thead th {\n",
       "        text-align: right;\n",
       "    }\n",
       "</style>\n",
       "<table border=\"1\" class=\"dataframe\">\n",
       "  <thead>\n",
       "    <tr style=\"text-align: right;\">\n",
       "      <th></th>\n",
       "      <th>study_id</th>\n",
       "      <th>SCSL1L2</th>\n",
       "      <th>SCSL2L3</th>\n",
       "      <th>SCSL3L4</th>\n",
       "      <th>SCSL4L5</th>\n",
       "      <th>SCSL5S1</th>\n",
       "      <th>LNFNL1L2</th>\n",
       "      <th>LNFNL2L3</th>\n",
       "      <th>LNFNL3L4</th>\n",
       "      <th>LNFNL4L5</th>\n",
       "      <th>...</th>\n",
       "      <th>LSSL1L2</th>\n",
       "      <th>LSSL2L3</th>\n",
       "      <th>LSSL3L4</th>\n",
       "      <th>LSSL4L5</th>\n",
       "      <th>LSSL5S1</th>\n",
       "      <th>RSSL1L2</th>\n",
       "      <th>RSSL2L3</th>\n",
       "      <th>RSSL3L4</th>\n",
       "      <th>RSSL4L5</th>\n",
       "      <th>RSSL5S1</th>\n",
       "    </tr>\n",
       "  </thead>\n",
       "  <tbody>\n",
       "    <tr>\n",
       "      <th>0</th>\n",
       "      <td>4003253</td>\n",
       "      <td>N</td>\n",
       "      <td>N</td>\n",
       "      <td>N</td>\n",
       "      <td>N</td>\n",
       "      <td>N</td>\n",
       "      <td>N</td>\n",
       "      <td>N</td>\n",
       "      <td>N</td>\n",
       "      <td>M</td>\n",
       "      <td>...</td>\n",
       "      <td>N</td>\n",
       "      <td>N</td>\n",
       "      <td>N</td>\n",
       "      <td>M</td>\n",
       "      <td>N</td>\n",
       "      <td>N</td>\n",
       "      <td>N</td>\n",
       "      <td>N</td>\n",
       "      <td>N</td>\n",
       "      <td>N</td>\n",
       "    </tr>\n",
       "    <tr>\n",
       "      <th>1</th>\n",
       "      <td>4646740</td>\n",
       "      <td>N</td>\n",
       "      <td>N</td>\n",
       "      <td>M</td>\n",
       "      <td>S</td>\n",
       "      <td>N</td>\n",
       "      <td>N</td>\n",
       "      <td>N</td>\n",
       "      <td>N</td>\n",
       "      <td>M</td>\n",
       "      <td>...</td>\n",
       "      <td>N</td>\n",
       "      <td>N</td>\n",
       "      <td>N</td>\n",
       "      <td>S</td>\n",
       "      <td>N</td>\n",
       "      <td>N</td>\n",
       "      <td>M</td>\n",
       "      <td>M</td>\n",
       "      <td>M</td>\n",
       "      <td>N</td>\n",
       "    </tr>\n",
       "  </tbody>\n",
       "</table>\n",
       "<p>2 rows × 26 columns</p>\n",
       "</div>"
      ],
      "text/plain": [
       "   study_id SCSL1L2 SCSL2L3 SCSL3L4 SCSL4L5 SCSL5S1 LNFNL1L2 LNFNL2L3  \\\n",
       "0   4003253       N       N       N       N       N        N        N   \n",
       "1   4646740       N       N       M       S       N        N        N   \n",
       "\n",
       "  LNFNL3L4 LNFNL4L5  ... LSSL1L2 LSSL2L3 LSSL3L4 LSSL4L5 LSSL5S1 RSSL1L2  \\\n",
       "0        N        M  ...       N       N       N       M       N       N   \n",
       "1        N        M  ...       N       N       N       S       N       N   \n",
       "\n",
       "  RSSL2L3 RSSL3L4 RSSL4L5 RSSL5S1  \n",
       "0       N       N       N       N  \n",
       "1       M       M       M       N  \n",
       "\n",
       "[2 rows x 26 columns]"
      ]
     },
     "execution_count": 18,
     "metadata": {},
     "output_type": "execute_result"
    }
   ],
   "source": [
    "train_df.fillna('N', inplace=True)\n",
    "train_df.head(2)"
   ]
  },
  {
   "cell_type": "code",
   "execution_count": 19,
   "id": "2b7ae4cb-552c-41a1-bdeb-0b0cbdb48cb8",
   "metadata": {
    "scrolled": true
   },
   "outputs": [
    {
     "data": {
      "text/plain": [
       "array(['M', 'N', 'S'], dtype=object)"
      ]
     },
     "execution_count": 19,
     "metadata": {},
     "output_type": "execute_result"
    }
   ],
   "source": [
    "le = preprocessing.LabelEncoder() \n",
    "le.fit(train_df.iloc[:, 1])\n",
    "\n",
    "le.classes_\n",
    "# foo = le.fit_transform(train_df.iloc[:,1])"
   ]
  },
  {
   "cell_type": "code",
   "execution_count": 20,
   "id": "4e247078-94be-43b4-bbc8-25ac97aea754",
   "metadata": {},
   "outputs": [],
   "source": [
    "from sklearn.utils.class_weight import compute_class_weight"
   ]
  },
  {
   "cell_type": "code",
   "execution_count": 21,
   "id": "b38f1e49-f953-4506-8d0e-84eaab8a03ab",
   "metadata": {
    "scrolled": true
   },
   "outputs": [
    {
     "data": {
      "text/plain": [
       "(1975, 25)"
      ]
     },
     "execution_count": 21,
     "metadata": {},
     "output_type": "execute_result"
    }
   ],
   "source": [
    "foo = train_df.iloc[:, 1:].to_numpy()\n",
    "\n",
    "foo.shape"
   ]
  },
  {
   "cell_type": "code",
   "execution_count": 22,
   "id": "7ecfd65e-9bbc-489d-a2b7-df794d7924a4",
   "metadata": {},
   "outputs": [
    {
     "data": {
      "text/plain": [
       "(49375,)"
      ]
     },
     "execution_count": 22,
     "metadata": {},
     "output_type": "execute_result"
    }
   ],
   "source": [
    "foo.flatten().shape"
   ]
  },
  {
   "cell_type": "code",
   "execution_count": 23,
   "id": "95545fee-a9b6-4ae6-81e2-519629601f73",
   "metadata": {
    "scrolled": true
   },
   "outputs": [
    {
     "data": {
      "text/plain": [
       "array([2.06762982, 0.42942998, 5.32804575])"
      ]
     },
     "execution_count": 23,
     "metadata": {},
     "output_type": "execute_result"
    }
   ],
   "source": [
    "compute_class_weight(class_weight='balanced', classes=np.unique(foo.flatten()), y=foo.flatten())"
   ]
  },
  {
   "cell_type": "code",
   "execution_count": null,
   "id": "f7f87a7b-ab53-4312-9398-5c4c7e94569a",
   "metadata": {},
   "outputs": [],
   "source": []
  },
  {
   "cell_type": "code",
   "execution_count": 24,
   "id": "63ea1cbe-17e7-4800-94a3-dd4f1aef39d9",
   "metadata": {},
   "outputs": [],
   "source": [
    "train_df.iloc[:,1:] = train_df.iloc[:,1:].apply(le.fit_transform)"
   ]
  },
  {
   "cell_type": "code",
   "execution_count": 25,
   "id": "97c5e9e3-9dc1-46da-aa14-ae47fc4318a9",
   "metadata": {},
   "outputs": [
    {
     "data": {
      "text/html": [
       "<div>\n",
       "<style scoped>\n",
       "    .dataframe tbody tr th:only-of-type {\n",
       "        vertical-align: middle;\n",
       "    }\n",
       "\n",
       "    .dataframe tbody tr th {\n",
       "        vertical-align: top;\n",
       "    }\n",
       "\n",
       "    .dataframe thead th {\n",
       "        text-align: right;\n",
       "    }\n",
       "</style>\n",
       "<table border=\"1\" class=\"dataframe\">\n",
       "  <thead>\n",
       "    <tr style=\"text-align: right;\">\n",
       "      <th></th>\n",
       "      <th>study_id</th>\n",
       "      <th>SCSL1L2</th>\n",
       "      <th>SCSL2L3</th>\n",
       "      <th>SCSL3L4</th>\n",
       "      <th>SCSL4L5</th>\n",
       "      <th>SCSL5S1</th>\n",
       "      <th>LNFNL1L2</th>\n",
       "      <th>LNFNL2L3</th>\n",
       "      <th>LNFNL3L4</th>\n",
       "      <th>LNFNL4L5</th>\n",
       "      <th>...</th>\n",
       "      <th>LSSL1L2</th>\n",
       "      <th>LSSL2L3</th>\n",
       "      <th>LSSL3L4</th>\n",
       "      <th>LSSL4L5</th>\n",
       "      <th>LSSL5S1</th>\n",
       "      <th>RSSL1L2</th>\n",
       "      <th>RSSL2L3</th>\n",
       "      <th>RSSL3L4</th>\n",
       "      <th>RSSL4L5</th>\n",
       "      <th>RSSL5S1</th>\n",
       "    </tr>\n",
       "  </thead>\n",
       "  <tbody>\n",
       "    <tr>\n",
       "      <th>0</th>\n",
       "      <td>4003253</td>\n",
       "      <td>1</td>\n",
       "      <td>1</td>\n",
       "      <td>1</td>\n",
       "      <td>1</td>\n",
       "      <td>1</td>\n",
       "      <td>1</td>\n",
       "      <td>1</td>\n",
       "      <td>1</td>\n",
       "      <td>0</td>\n",
       "      <td>...</td>\n",
       "      <td>1</td>\n",
       "      <td>1</td>\n",
       "      <td>1</td>\n",
       "      <td>0</td>\n",
       "      <td>1</td>\n",
       "      <td>1</td>\n",
       "      <td>1</td>\n",
       "      <td>1</td>\n",
       "      <td>1</td>\n",
       "      <td>1</td>\n",
       "    </tr>\n",
       "    <tr>\n",
       "      <th>1</th>\n",
       "      <td>4646740</td>\n",
       "      <td>1</td>\n",
       "      <td>1</td>\n",
       "      <td>0</td>\n",
       "      <td>2</td>\n",
       "      <td>1</td>\n",
       "      <td>1</td>\n",
       "      <td>1</td>\n",
       "      <td>1</td>\n",
       "      <td>0</td>\n",
       "      <td>...</td>\n",
       "      <td>1</td>\n",
       "      <td>1</td>\n",
       "      <td>1</td>\n",
       "      <td>2</td>\n",
       "      <td>1</td>\n",
       "      <td>1</td>\n",
       "      <td>0</td>\n",
       "      <td>0</td>\n",
       "      <td>0</td>\n",
       "      <td>1</td>\n",
       "    </tr>\n",
       "  </tbody>\n",
       "</table>\n",
       "<p>2 rows × 26 columns</p>\n",
       "</div>"
      ],
      "text/plain": [
       "   study_id SCSL1L2 SCSL2L3 SCSL3L4 SCSL4L5 SCSL5S1 LNFNL1L2 LNFNL2L3  \\\n",
       "0   4003253       1       1       1       1       1        1        1   \n",
       "1   4646740       1       1       0       2       1        1        1   \n",
       "\n",
       "  LNFNL3L4 LNFNL4L5  ... LSSL1L2 LSSL2L3 LSSL3L4 LSSL4L5 LSSL5S1 RSSL1L2  \\\n",
       "0        1        0  ...       1       1       1       0       1       1   \n",
       "1        1        0  ...       1       1       1       2       1       1   \n",
       "\n",
       "  RSSL2L3 RSSL3L4 RSSL4L5 RSSL5S1  \n",
       "0       1       1       1       1  \n",
       "1       0       0       0       1  \n",
       "\n",
       "[2 rows x 26 columns]"
      ]
     },
     "execution_count": 25,
     "metadata": {},
     "output_type": "execute_result"
    }
   ],
   "source": [
    "train_df.head(2)"
   ]
  },
  {
   "cell_type": "code",
   "execution_count": 26,
   "id": "29b6d5db-6a3c-4e34-81d2-ad900873d223",
   "metadata": {},
   "outputs": [
    {
     "data": {
      "text/html": [
       "<div>\n",
       "<style scoped>\n",
       "    .dataframe tbody tr th:only-of-type {\n",
       "        vertical-align: middle;\n",
       "    }\n",
       "\n",
       "    .dataframe tbody tr th {\n",
       "        vertical-align: top;\n",
       "    }\n",
       "\n",
       "    .dataframe thead th {\n",
       "        text-align: right;\n",
       "    }\n",
       "</style>\n",
       "<table border=\"1\" class=\"dataframe\">\n",
       "  <thead>\n",
       "    <tr style=\"text-align: right;\">\n",
       "      <th></th>\n",
       "      <th>study_id</th>\n",
       "      <th>series_id</th>\n",
       "      <th>instance</th>\n",
       "      <th>condition</th>\n",
       "      <th>level</th>\n",
       "      <th>x</th>\n",
       "      <th>y</th>\n",
       "      <th>ss_id</th>\n",
       "      <th>instance_id</th>\n",
       "      <th>cl</th>\n",
       "      <th>series_description</th>\n",
       "      <th>rows</th>\n",
       "      <th>columns</th>\n",
       "      <th>filename</th>\n",
       "      <th>patientposition</th>\n",
       "      <th>x_perc</th>\n",
       "      <th>y_perc</th>\n",
       "      <th>inst_perc</th>\n",
       "    </tr>\n",
       "  </thead>\n",
       "  <tbody>\n",
       "    <tr>\n",
       "      <th>25515</th>\n",
       "      <td>2294509371</td>\n",
       "      <td>2895790445</td>\n",
       "      <td>7</td>\n",
       "      <td>SCS</td>\n",
       "      <td>L1L2</td>\n",
       "      <td>257.327262</td>\n",
       "      <td>138.787883</td>\n",
       "      <td>2294509371_2895790445</td>\n",
       "      <td>2294509371_2895790445_7</td>\n",
       "      <td>SCSL1L2</td>\n",
       "      <td>Sagittal T2/STIR</td>\n",
       "      <td>448</td>\n",
       "      <td>448</td>\n",
       "      <td>E:\\data\\RSNA2024\\pngs_256\\2294509371_289579044...</td>\n",
       "      <td>HFS</td>\n",
       "      <td>0.574391</td>\n",
       "      <td>0.309794</td>\n",
       "      <td>0.428571</td>\n",
       "    </tr>\n",
       "    <tr>\n",
       "      <th>35128</th>\n",
       "      <td>3116585926</td>\n",
       "      <td>3043780434</td>\n",
       "      <td>3</td>\n",
       "      <td>LNFN</td>\n",
       "      <td>L4L5</td>\n",
       "      <td>146.454106</td>\n",
       "      <td>321.545894</td>\n",
       "      <td>3116585926_3043780434</td>\n",
       "      <td>3116585926_3043780434_3</td>\n",
       "      <td>LNFNL4L5</td>\n",
       "      <td>Sagittal T1</td>\n",
       "      <td>512</td>\n",
       "      <td>512</td>\n",
       "      <td>E:\\data\\RSNA2024\\pngs_256\\3116585926_304378043...</td>\n",
       "      <td>FFS</td>\n",
       "      <td>0.286043</td>\n",
       "      <td>0.628019</td>\n",
       "      <td>0.181818</td>\n",
       "    </tr>\n",
       "  </tbody>\n",
       "</table>\n",
       "</div>"
      ],
      "text/plain": [
       "         study_id   series_id  instance condition level           x  \\\n",
       "25515  2294509371  2895790445         7       SCS  L1L2  257.327262   \n",
       "35128  3116585926  3043780434         3      LNFN  L4L5  146.454106   \n",
       "\n",
       "                y                  ss_id              instance_id        cl  \\\n",
       "25515  138.787883  2294509371_2895790445  2294509371_2895790445_7   SCSL1L2   \n",
       "35128  321.545894  3116585926_3043780434  3116585926_3043780434_3  LNFNL4L5   \n",
       "\n",
       "      series_description  rows  columns  \\\n",
       "25515   Sagittal T2/STIR   448      448   \n",
       "35128        Sagittal T1   512      512   \n",
       "\n",
       "                                                filename patientposition  \\\n",
       "25515  E:\\data\\RSNA2024\\pngs_256\\2294509371_289579044...             HFS   \n",
       "35128  E:\\data\\RSNA2024\\pngs_256\\3116585926_304378043...             FFS   \n",
       "\n",
       "         x_perc    y_perc  inst_perc  \n",
       "25515  0.574391  0.309794   0.428571  \n",
       "35128  0.286043  0.628019   0.181818  "
      ]
     },
     "execution_count": 26,
     "metadata": {},
     "output_type": "execute_result"
    }
   ],
   "source": [
    "coords_df.sample(2)"
   ]
  },
  {
   "cell_type": "code",
   "execution_count": 27,
   "id": "e1b7e342-7f6f-46b6-9bee-278facddf379",
   "metadata": {},
   "outputs": [
    {
     "data": {
      "text/plain": [
       "array(['SCS', 'RNFN', 'LNFN', 'LSS', 'RSS'], dtype=object)"
      ]
     },
     "execution_count": 27,
     "metadata": {},
     "output_type": "execute_result"
    }
   ],
   "source": [
    "coords_df.condition.unique()"
   ]
  },
  {
   "cell_type": "code",
   "execution_count": 28,
   "id": "3daba834-d0c0-4c34-a807-12b195a701ab",
   "metadata": {},
   "outputs": [
    {
     "data": {
      "text/plain": [
       "array(['SCSL1L2', 'SCSL2L3', 'SCSL3L4', 'SCSL4L5', 'SCSL5S1', 'RNFNL4L5',\n",
       "       'RNFNL5S1', 'RNFNL3L4', 'RNFNL1L2', 'RNFNL2L3', 'LNFNL1L2',\n",
       "       'LNFNL4L5', 'LNFNL5S1', 'LNFNL2L3', 'LNFNL3L4', 'LSSL1L2',\n",
       "       'RSSL1L2', 'LSSL2L3', 'RSSL2L3', 'LSSL3L4', 'RSSL3L4', 'LSSL4L5',\n",
       "       'RSSL4L5', 'LSSL5S1', 'RSSL5S1'], dtype=object)"
      ]
     },
     "execution_count": 28,
     "metadata": {},
     "output_type": "execute_result"
    }
   ],
   "source": [
    "coords_df.cl.unique()"
   ]
  },
  {
   "cell_type": "code",
   "execution_count": 29,
   "id": "642cb35b-6275-4229-9480-3e552cefa008",
   "metadata": {},
   "outputs": [
    {
     "data": {
      "text/plain": [
       "25"
      ]
     },
     "execution_count": 29,
     "metadata": {},
     "output_type": "execute_result"
    }
   ],
   "source": [
    "coords_df.cl.nunique()"
   ]
  },
  {
   "cell_type": "markdown",
   "id": "47cec579-3ad8-4df7-a97b-04ebf7c810a5",
   "metadata": {},
   "source": [
    "#### Prepare"
   ]
  },
  {
   "cell_type": "code",
   "execution_count": 30,
   "id": "a4c383c7-ddf0-4b71-8293-d29b90909b20",
   "metadata": {},
   "outputs": [
    {
     "data": {
      "text/plain": [
       "(147219, 6295)"
      ]
     },
     "execution_count": 30,
     "metadata": {},
     "output_type": "execute_result"
    }
   ],
   "source": [
    "embed_files = os.listdir(CFG.embeds_path)\n",
    "stacked_files = os.listdir(CFG.stacked_path)\n",
    "\n",
    "len(embed_files), len(stacked_files)"
   ]
  },
  {
   "cell_type": "code",
   "execution_count": 31,
   "id": "b60b3cc2-708f-4216-85e8-db65ab925c23",
   "metadata": {},
   "outputs": [],
   "source": [
    "study_id = 838134337"
   ]
  },
  {
   "cell_type": "code",
   "execution_count": 32,
   "id": "46ee3eaf-589e-4869-ae37-f9f8a1f71fd8",
   "metadata": {},
   "outputs": [
    {
     "data": {
      "text/html": [
       "<div>\n",
       "<style scoped>\n",
       "    .dataframe tbody tr th:only-of-type {\n",
       "        vertical-align: middle;\n",
       "    }\n",
       "\n",
       "    .dataframe tbody tr th {\n",
       "        vertical-align: top;\n",
       "    }\n",
       "\n",
       "    .dataframe thead th {\n",
       "        text-align: right;\n",
       "    }\n",
       "</style>\n",
       "<table border=\"1\" class=\"dataframe\">\n",
       "  <thead>\n",
       "    <tr style=\"text-align: right;\">\n",
       "      <th></th>\n",
       "      <th>ids</th>\n",
       "      <th>SCS</th>\n",
       "      <th>RNFN</th>\n",
       "      <th>LNFN</th>\n",
       "      <th>LSS</th>\n",
       "      <th>RSS</th>\n",
       "      <th>H</th>\n",
       "      <th>pred_SCS</th>\n",
       "      <th>pred_RNFN</th>\n",
       "      <th>pred_LNFN</th>\n",
       "      <th>pred_LSS</th>\n",
       "      <th>pred_RSS</th>\n",
       "      <th>pred_H</th>\n",
       "      <th>study_id</th>\n",
       "      <th>series_id</th>\n",
       "      <th>instance</th>\n",
       "      <th>ss_id</th>\n",
       "      <th>series_description</th>\n",
       "      <th>instance_id</th>\n",
       "      <th>proj</th>\n",
       "    </tr>\n",
       "  </thead>\n",
       "  <tbody>\n",
       "    <tr>\n",
       "      <th>140320</th>\n",
       "      <td>838134337_1285354049_1</td>\n",
       "      <td>0.0</td>\n",
       "      <td>0.0</td>\n",
       "      <td>0.0</td>\n",
       "      <td>0.0</td>\n",
       "      <td>0.0</td>\n",
       "      <td>1.0</td>\n",
       "      <td>0.008669</td>\n",
       "      <td>0.004251</td>\n",
       "      <td>0.002214</td>\n",
       "      <td>0.010968</td>\n",
       "      <td>0.010222</td>\n",
       "      <td>0.996511</td>\n",
       "      <td>838134337</td>\n",
       "      <td>1285354049</td>\n",
       "      <td>1</td>\n",
       "      <td>838134337_1285354049</td>\n",
       "      <td>Sagittal T2/STIR</td>\n",
       "      <td>838134337_1285354049_1</td>\n",
       "      <td>19</td>\n",
       "    </tr>\n",
       "    <tr>\n",
       "      <th>140321</th>\n",
       "      <td>838134337_1285354049_10</td>\n",
       "      <td>0.0</td>\n",
       "      <td>0.0</td>\n",
       "      <td>0.0</td>\n",
       "      <td>0.0</td>\n",
       "      <td>0.0</td>\n",
       "      <td>1.0</td>\n",
       "      <td>0.857816</td>\n",
       "      <td>0.003316</td>\n",
       "      <td>0.002820</td>\n",
       "      <td>0.012196</td>\n",
       "      <td>0.014888</td>\n",
       "      <td>0.031567</td>\n",
       "      <td>838134337</td>\n",
       "      <td>1285354049</td>\n",
       "      <td>10</td>\n",
       "      <td>838134337_1285354049</td>\n",
       "      <td>Sagittal T2/STIR</td>\n",
       "      <td>838134337_1285354049_10</td>\n",
       "      <td>-20</td>\n",
       "    </tr>\n",
       "  </tbody>\n",
       "</table>\n",
       "</div>"
      ],
      "text/plain": [
       "                            ids  SCS  RNFN  LNFN  LSS  RSS    H  pred_SCS  \\\n",
       "140320   838134337_1285354049_1  0.0   0.0   0.0  0.0  0.0  1.0  0.008669   \n",
       "140321  838134337_1285354049_10  0.0   0.0   0.0  0.0  0.0  1.0  0.857816   \n",
       "\n",
       "        pred_RNFN  pred_LNFN  pred_LSS  pred_RSS    pred_H   study_id  \\\n",
       "140320   0.004251   0.002214  0.010968  0.010222  0.996511  838134337   \n",
       "140321   0.003316   0.002820  0.012196  0.014888  0.031567  838134337   \n",
       "\n",
       "         series_id  instance                 ss_id series_description  \\\n",
       "140320  1285354049         1  838134337_1285354049   Sagittal T2/STIR   \n",
       "140321  1285354049        10  838134337_1285354049   Sagittal T2/STIR   \n",
       "\n",
       "                    instance_id  proj  \n",
       "140320   838134337_1285354049_1    19  \n",
       "140321  838134337_1285354049_10   -20  "
      ]
     },
     "execution_count": 32,
     "metadata": {},
     "output_type": "execute_result"
    }
   ],
   "source": [
    "selected_files = preds_df[preds_df.study_id == study_id]\n",
    "\n",
    "selected_files.head(2)"
   ]
  },
  {
   "cell_type": "code",
   "execution_count": 33,
   "id": "ed99aa38-50ab-42ef-bcc9-480da5c7e642",
   "metadata": {},
   "outputs": [],
   "source": [
    "# selected_files.head()"
   ]
  },
  {
   "cell_type": "code",
   "execution_count": 34,
   "id": "d5d09e47-8138-497d-a2b8-3bb77eabbf8b",
   "metadata": {},
   "outputs": [],
   "source": [
    "# selected_files.groupby('series_description').sort(['proj'])"
   ]
  },
  {
   "cell_type": "code",
   "execution_count": 35,
   "id": "a79a72ea-257c-4122-8bed-a8b70aa1d53a",
   "metadata": {},
   "outputs": [
    {
     "data": {
      "text/html": [
       "<div>\n",
       "<style scoped>\n",
       "    .dataframe tbody tr th:only-of-type {\n",
       "        vertical-align: middle;\n",
       "    }\n",
       "\n",
       "    .dataframe tbody tr th {\n",
       "        vertical-align: top;\n",
       "    }\n",
       "\n",
       "    .dataframe thead th {\n",
       "        text-align: right;\n",
       "    }\n",
       "</style>\n",
       "<table border=\"1\" class=\"dataframe\">\n",
       "  <thead>\n",
       "    <tr style=\"text-align: right;\">\n",
       "      <th></th>\n",
       "      <th>ids</th>\n",
       "      <th>SCS</th>\n",
       "      <th>RNFN</th>\n",
       "      <th>LNFN</th>\n",
       "      <th>LSS</th>\n",
       "      <th>RSS</th>\n",
       "      <th>H</th>\n",
       "      <th>pred_SCS</th>\n",
       "      <th>pred_RNFN</th>\n",
       "      <th>pred_LNFN</th>\n",
       "      <th>pred_LSS</th>\n",
       "      <th>pred_RSS</th>\n",
       "      <th>pred_H</th>\n",
       "      <th>study_id</th>\n",
       "      <th>series_id</th>\n",
       "      <th>instance</th>\n",
       "      <th>ss_id</th>\n",
       "      <th>series_description</th>\n",
       "      <th>instance_id</th>\n",
       "      <th>proj</th>\n",
       "    </tr>\n",
       "  </thead>\n",
       "  <tbody>\n",
       "    <tr>\n",
       "      <th>140320</th>\n",
       "      <td>838134337_1285354049_1</td>\n",
       "      <td>0.0</td>\n",
       "      <td>0.0</td>\n",
       "      <td>0.0</td>\n",
       "      <td>0.0</td>\n",
       "      <td>0.0</td>\n",
       "      <td>1.0</td>\n",
       "      <td>0.008669</td>\n",
       "      <td>0.004251</td>\n",
       "      <td>0.002214</td>\n",
       "      <td>0.010968</td>\n",
       "      <td>0.010222</td>\n",
       "      <td>0.996511</td>\n",
       "      <td>838134337</td>\n",
       "      <td>1285354049</td>\n",
       "      <td>1</td>\n",
       "      <td>838134337_1285354049</td>\n",
       "      <td>Sagittal T2/STIR</td>\n",
       "      <td>838134337_1285354049_1</td>\n",
       "      <td>19</td>\n",
       "    </tr>\n",
       "    <tr>\n",
       "      <th>140331</th>\n",
       "      <td>838134337_1285354049_2</td>\n",
       "      <td>0.0</td>\n",
       "      <td>0.0</td>\n",
       "      <td>0.0</td>\n",
       "      <td>0.0</td>\n",
       "      <td>0.0</td>\n",
       "      <td>1.0</td>\n",
       "      <td>0.007301</td>\n",
       "      <td>0.003968</td>\n",
       "      <td>0.001861</td>\n",
       "      <td>0.006535</td>\n",
       "      <td>0.005958</td>\n",
       "      <td>0.997781</td>\n",
       "      <td>838134337</td>\n",
       "      <td>1285354049</td>\n",
       "      <td>2</td>\n",
       "      <td>838134337_1285354049</td>\n",
       "      <td>Sagittal T2/STIR</td>\n",
       "      <td>838134337_1285354049_2</td>\n",
       "      <td>15</td>\n",
       "    </tr>\n",
       "    <tr>\n",
       "      <th>140333</th>\n",
       "      <td>838134337_1285354049_3</td>\n",
       "      <td>0.0</td>\n",
       "      <td>0.0</td>\n",
       "      <td>0.0</td>\n",
       "      <td>0.0</td>\n",
       "      <td>0.0</td>\n",
       "      <td>1.0</td>\n",
       "      <td>0.006322</td>\n",
       "      <td>0.003869</td>\n",
       "      <td>0.001825</td>\n",
       "      <td>0.008667</td>\n",
       "      <td>0.007997</td>\n",
       "      <td>0.997514</td>\n",
       "      <td>838134337</td>\n",
       "      <td>1285354049</td>\n",
       "      <td>3</td>\n",
       "      <td>838134337_1285354049</td>\n",
       "      <td>Sagittal T2/STIR</td>\n",
       "      <td>838134337_1285354049_3</td>\n",
       "      <td>10</td>\n",
       "    </tr>\n",
       "    <tr>\n",
       "      <th>140334</th>\n",
       "      <td>838134337_1285354049_4</td>\n",
       "      <td>0.0</td>\n",
       "      <td>0.0</td>\n",
       "      <td>0.0</td>\n",
       "      <td>0.0</td>\n",
       "      <td>0.0</td>\n",
       "      <td>1.0</td>\n",
       "      <td>0.007862</td>\n",
       "      <td>0.004880</td>\n",
       "      <td>0.004075</td>\n",
       "      <td>0.008933</td>\n",
       "      <td>0.009013</td>\n",
       "      <td>0.997641</td>\n",
       "      <td>838134337</td>\n",
       "      <td>1285354049</td>\n",
       "      <td>4</td>\n",
       "      <td>838134337_1285354049</td>\n",
       "      <td>Sagittal T2/STIR</td>\n",
       "      <td>838134337_1285354049_4</td>\n",
       "      <td>6</td>\n",
       "    </tr>\n",
       "    <tr>\n",
       "      <th>140335</th>\n",
       "      <td>838134337_1285354049_5</td>\n",
       "      <td>0.0</td>\n",
       "      <td>0.0</td>\n",
       "      <td>0.0</td>\n",
       "      <td>0.0</td>\n",
       "      <td>0.0</td>\n",
       "      <td>1.0</td>\n",
       "      <td>0.007605</td>\n",
       "      <td>0.005034</td>\n",
       "      <td>0.002569</td>\n",
       "      <td>0.006341</td>\n",
       "      <td>0.007329</td>\n",
       "      <td>0.994792</td>\n",
       "      <td>838134337</td>\n",
       "      <td>1285354049</td>\n",
       "      <td>5</td>\n",
       "      <td>838134337_1285354049</td>\n",
       "      <td>Sagittal T2/STIR</td>\n",
       "      <td>838134337_1285354049_5</td>\n",
       "      <td>1</td>\n",
       "    </tr>\n",
       "    <tr>\n",
       "      <th>...</th>\n",
       "      <td>...</td>\n",
       "      <td>...</td>\n",
       "      <td>...</td>\n",
       "      <td>...</td>\n",
       "      <td>...</td>\n",
       "      <td>...</td>\n",
       "      <td>...</td>\n",
       "      <td>...</td>\n",
       "      <td>...</td>\n",
       "      <td>...</td>\n",
       "      <td>...</td>\n",
       "      <td>...</td>\n",
       "      <td>...</td>\n",
       "      <td>...</td>\n",
       "      <td>...</td>\n",
       "      <td>...</td>\n",
       "      <td>...</td>\n",
       "      <td>...</td>\n",
       "      <td>...</td>\n",
       "      <td>...</td>\n",
       "    </tr>\n",
       "    <tr>\n",
       "      <th>140414</th>\n",
       "      <td>838134337_3108613161_59</td>\n",
       "      <td>0.0</td>\n",
       "      <td>0.0</td>\n",
       "      <td>0.0</td>\n",
       "      <td>0.0</td>\n",
       "      <td>0.0</td>\n",
       "      <td>1.0</td>\n",
       "      <td>0.013585</td>\n",
       "      <td>0.007014</td>\n",
       "      <td>0.006603</td>\n",
       "      <td>0.545113</td>\n",
       "      <td>0.552875</td>\n",
       "      <td>0.110206</td>\n",
       "      <td>838134337</td>\n",
       "      <td>3108613161</td>\n",
       "      <td>59</td>\n",
       "      <td>838134337_3108613161</td>\n",
       "      <td>Axial T2</td>\n",
       "      <td>838134337_3108613161_59</td>\n",
       "      <td>-516</td>\n",
       "    </tr>\n",
       "    <tr>\n",
       "      <th>140416</th>\n",
       "      <td>838134337_3108613161_60</td>\n",
       "      <td>0.0</td>\n",
       "      <td>0.0</td>\n",
       "      <td>0.0</td>\n",
       "      <td>0.0</td>\n",
       "      <td>0.0</td>\n",
       "      <td>1.0</td>\n",
       "      <td>0.008732</td>\n",
       "      <td>0.005328</td>\n",
       "      <td>0.005256</td>\n",
       "      <td>0.088571</td>\n",
       "      <td>0.118986</td>\n",
       "      <td>0.698470</td>\n",
       "      <td>838134337</td>\n",
       "      <td>3108613161</td>\n",
       "      <td>60</td>\n",
       "      <td>838134337_3108613161</td>\n",
       "      <td>Axial T2</td>\n",
       "      <td>838134337_3108613161_60</td>\n",
       "      <td>-519</td>\n",
       "    </tr>\n",
       "    <tr>\n",
       "      <th>140417</th>\n",
       "      <td>838134337_3108613161_61</td>\n",
       "      <td>0.0</td>\n",
       "      <td>0.0</td>\n",
       "      <td>0.0</td>\n",
       "      <td>0.0</td>\n",
       "      <td>0.0</td>\n",
       "      <td>1.0</td>\n",
       "      <td>0.010470</td>\n",
       "      <td>0.006225</td>\n",
       "      <td>0.007601</td>\n",
       "      <td>0.019147</td>\n",
       "      <td>0.021621</td>\n",
       "      <td>0.960496</td>\n",
       "      <td>838134337</td>\n",
       "      <td>3108613161</td>\n",
       "      <td>61</td>\n",
       "      <td>838134337_3108613161</td>\n",
       "      <td>Axial T2</td>\n",
       "      <td>838134337_3108613161_61</td>\n",
       "      <td>-523</td>\n",
       "    </tr>\n",
       "    <tr>\n",
       "      <th>140418</th>\n",
       "      <td>838134337_3108613161_62</td>\n",
       "      <td>0.0</td>\n",
       "      <td>0.0</td>\n",
       "      <td>0.0</td>\n",
       "      <td>0.0</td>\n",
       "      <td>0.0</td>\n",
       "      <td>1.0</td>\n",
       "      <td>0.013279</td>\n",
       "      <td>0.007912</td>\n",
       "      <td>0.011143</td>\n",
       "      <td>0.015453</td>\n",
       "      <td>0.025385</td>\n",
       "      <td>0.979502</td>\n",
       "      <td>838134337</td>\n",
       "      <td>3108613161</td>\n",
       "      <td>62</td>\n",
       "      <td>838134337_3108613161</td>\n",
       "      <td>Axial T2</td>\n",
       "      <td>838134337_3108613161_62</td>\n",
       "      <td>-526</td>\n",
       "    </tr>\n",
       "    <tr>\n",
       "      <th>140419</th>\n",
       "      <td>838134337_3108613161_63</td>\n",
       "      <td>0.0</td>\n",
       "      <td>0.0</td>\n",
       "      <td>0.0</td>\n",
       "      <td>0.0</td>\n",
       "      <td>0.0</td>\n",
       "      <td>1.0</td>\n",
       "      <td>0.011920</td>\n",
       "      <td>0.006543</td>\n",
       "      <td>0.007058</td>\n",
       "      <td>0.021708</td>\n",
       "      <td>0.030380</td>\n",
       "      <td>0.959140</td>\n",
       "      <td>838134337</td>\n",
       "      <td>3108613161</td>\n",
       "      <td>63</td>\n",
       "      <td>838134337_3108613161</td>\n",
       "      <td>Axial T2</td>\n",
       "      <td>838134337_3108613161_63</td>\n",
       "      <td>-530</td>\n",
       "    </tr>\n",
       "  </tbody>\n",
       "</table>\n",
       "<p>103 rows × 20 columns</p>\n",
       "</div>"
      ],
      "text/plain": [
       "                            ids  SCS  RNFN  LNFN  LSS  RSS    H  pred_SCS  \\\n",
       "140320   838134337_1285354049_1  0.0   0.0   0.0  0.0  0.0  1.0  0.008669   \n",
       "140331   838134337_1285354049_2  0.0   0.0   0.0  0.0  0.0  1.0  0.007301   \n",
       "140333   838134337_1285354049_3  0.0   0.0   0.0  0.0  0.0  1.0  0.006322   \n",
       "140334   838134337_1285354049_4  0.0   0.0   0.0  0.0  0.0  1.0  0.007862   \n",
       "140335   838134337_1285354049_5  0.0   0.0   0.0  0.0  0.0  1.0  0.007605   \n",
       "...                         ...  ...   ...   ...  ...  ...  ...       ...   \n",
       "140414  838134337_3108613161_59  0.0   0.0   0.0  0.0  0.0  1.0  0.013585   \n",
       "140416  838134337_3108613161_60  0.0   0.0   0.0  0.0  0.0  1.0  0.008732   \n",
       "140417  838134337_3108613161_61  0.0   0.0   0.0  0.0  0.0  1.0  0.010470   \n",
       "140418  838134337_3108613161_62  0.0   0.0   0.0  0.0  0.0  1.0  0.013279   \n",
       "140419  838134337_3108613161_63  0.0   0.0   0.0  0.0  0.0  1.0  0.011920   \n",
       "\n",
       "        pred_RNFN  pred_LNFN  pred_LSS  pred_RSS    pred_H   study_id  \\\n",
       "140320   0.004251   0.002214  0.010968  0.010222  0.996511  838134337   \n",
       "140331   0.003968   0.001861  0.006535  0.005958  0.997781  838134337   \n",
       "140333   0.003869   0.001825  0.008667  0.007997  0.997514  838134337   \n",
       "140334   0.004880   0.004075  0.008933  0.009013  0.997641  838134337   \n",
       "140335   0.005034   0.002569  0.006341  0.007329  0.994792  838134337   \n",
       "...           ...        ...       ...       ...       ...        ...   \n",
       "140414   0.007014   0.006603  0.545113  0.552875  0.110206  838134337   \n",
       "140416   0.005328   0.005256  0.088571  0.118986  0.698470  838134337   \n",
       "140417   0.006225   0.007601  0.019147  0.021621  0.960496  838134337   \n",
       "140418   0.007912   0.011143  0.015453  0.025385  0.979502  838134337   \n",
       "140419   0.006543   0.007058  0.021708  0.030380  0.959140  838134337   \n",
       "\n",
       "         series_id  instance                 ss_id series_description  \\\n",
       "140320  1285354049         1  838134337_1285354049   Sagittal T2/STIR   \n",
       "140331  1285354049         2  838134337_1285354049   Sagittal T2/STIR   \n",
       "140333  1285354049         3  838134337_1285354049   Sagittal T2/STIR   \n",
       "140334  1285354049         4  838134337_1285354049   Sagittal T2/STIR   \n",
       "140335  1285354049         5  838134337_1285354049   Sagittal T2/STIR   \n",
       "...            ...       ...                   ...                ...   \n",
       "140414  3108613161        59  838134337_3108613161           Axial T2   \n",
       "140416  3108613161        60  838134337_3108613161           Axial T2   \n",
       "140417  3108613161        61  838134337_3108613161           Axial T2   \n",
       "140418  3108613161        62  838134337_3108613161           Axial T2   \n",
       "140419  3108613161        63  838134337_3108613161           Axial T2   \n",
       "\n",
       "                    instance_id  proj  \n",
       "140320   838134337_1285354049_1    19  \n",
       "140331   838134337_1285354049_2    15  \n",
       "140333   838134337_1285354049_3    10  \n",
       "140334   838134337_1285354049_4     6  \n",
       "140335   838134337_1285354049_5     1  \n",
       "...                         ...   ...  \n",
       "140414  838134337_3108613161_59  -516  \n",
       "140416  838134337_3108613161_60  -519  \n",
       "140417  838134337_3108613161_61  -523  \n",
       "140418  838134337_3108613161_62  -526  \n",
       "140419  838134337_3108613161_63  -530  \n",
       "\n",
       "[103 rows x 20 columns]"
      ]
     },
     "execution_count": 35,
     "metadata": {},
     "output_type": "execute_result"
    }
   ],
   "source": [
    "selected_files.sort_values(['series_description', 'proj'], ascending=[False, False])"
   ]
  },
  {
   "cell_type": "code",
   "execution_count": 36,
   "id": "9608c4c4-7c54-41da-9189-830d958ed1bf",
   "metadata": {},
   "outputs": [
    {
     "data": {
      "text/plain": [
       "array([838134337], dtype=int64)"
      ]
     },
     "execution_count": 36,
     "metadata": {},
     "output_type": "execute_result"
    }
   ],
   "source": [
    "selected_files.study_id.unique()"
   ]
  },
  {
   "cell_type": "code",
   "execution_count": 37,
   "id": "956e51b5-1014-4b43-bce8-e11802613e7a",
   "metadata": {
    "scrolled": true
   },
   "outputs": [
    {
     "data": {
      "text/plain": [
       "(103, (103, 20))"
      ]
     },
     "execution_count": 37,
     "metadata": {},
     "output_type": "execute_result"
    }
   ],
   "source": [
    "idx = selected_files.sort_values(['series_description', 'proj'], ascending=[False, True]).index.to_list()\n",
    "len(idx), selected_files.shape"
   ]
  },
  {
   "cell_type": "code",
   "execution_count": 38,
   "id": "de4ca416-c5e2-4dc8-9236-24044210d332",
   "metadata": {},
   "outputs": [
    {
     "data": {
      "text/plain": [
       "(147218, 128)"
      ]
     },
     "execution_count": 38,
     "metadata": {},
     "output_type": "execute_result"
    }
   ],
   "source": [
    "stacked_embeds = np.load(CFG.embeds_path / 'stacked.npy')\n",
    "stacked_embeds.shape"
   ]
  },
  {
   "cell_type": "code",
   "execution_count": 39,
   "id": "f8d87d15-5496-4a2c-9b43-56c19b9e6a3e",
   "metadata": {},
   "outputs": [
    {
     "data": {
      "text/plain": [
       "(103, 128)"
      ]
     },
     "execution_count": 39,
     "metadata": {},
     "output_type": "execute_result"
    }
   ],
   "source": [
    "stacked_embeds[idx].shape"
   ]
  },
  {
   "cell_type": "code",
   "execution_count": 40,
   "id": "ee5c11b0-6667-4960-942f-85d28c48de13",
   "metadata": {},
   "outputs": [],
   "source": [
    "# for name, group in selected_files.sort_values('proj').groupby('series_description'):\n",
    "#     print(name)\n",
    "#     print(group.image.count())"
   ]
  },
  {
   "cell_type": "code",
   "execution_count": 41,
   "id": "d2189f49-cd27-4f31-ab30-eaff0dcca726",
   "metadata": {
    "scrolled": true
   },
   "outputs": [
    {
     "data": {
      "text/plain": [
       "WindowsPath('E:/data/RSNA2024/embeddings/838134337_1285354049_1.npy')"
      ]
     },
     "execution_count": 41,
     "metadata": {},
     "output_type": "execute_result"
    }
   ],
   "source": [
    "files = files_df[files_df.study_id == study_id].instance_id.to_list()\n",
    "files = [CFG.embeds_path / f'{f}.npy' for f in files]\n",
    "\n",
    "files[0]"
   ]
  },
  {
   "cell_type": "code",
   "execution_count": 42,
   "id": "3b2d8816-8ce1-4df0-b306-b13fb231337d",
   "metadata": {},
   "outputs": [
    {
     "data": {
      "text/plain": [
       "array([-1.3868768 , -1.8670154 , -2.4197767 ,  1.0718939 , -2.0131953 ,\n",
       "        0.9038663 ,  0.96438974, -1.655277  , -1.1635075 ,  1.0065799 ,\n",
       "        1.302022  ,  3.1330764 , -1.9478861 ,  0.8630925 ,  0.16886447,\n",
       "        1.846276  ,  1.3884737 ,  1.4937617 , -0.19075578,  2.0443947 ,\n",
       "        0.73868847, -0.64445627,  1.8864077 ,  2.6812937 , -1.2419662 ,\n",
       "        2.8782215 , -0.31735116,  0.47601956, -1.0237284 , -1.7396214 ,\n",
       "        0.8056327 ,  1.6725999 , -0.3930759 ,  0.6275044 ,  0.34967494,\n",
       "       -1.0178531 ,  0.95754117, -0.05976506,  2.0251436 , -1.3062149 ,\n",
       "        0.00745753, -0.91142875,  0.2940572 ,  0.74012256,  2.7130435 ,\n",
       "       -0.6819354 ,  1.111156  ,  1.5737361 , -0.36712924, -0.91991526,\n",
       "       -0.9702089 , -0.7707571 , -0.4642533 , -1.2098924 ,  2.7476518 ,\n",
       "       -1.8290665 ,  1.1101327 ,  0.10819634, -0.8503396 ,  2.5317743 ,\n",
       "        2.0561385 ,  2.9731913 ,  0.89999783,  2.0628805 ], dtype=float32)"
      ]
     },
     "execution_count": 42,
     "metadata": {},
     "output_type": "execute_result"
    }
   ],
   "source": [
    "np.load(files[2])"
   ]
  },
  {
   "cell_type": "code",
   "execution_count": 43,
   "id": "dd59f99c-ced0-49d6-8ae8-52ea665d7720",
   "metadata": {},
   "outputs": [
    {
     "data": {
      "text/plain": [
       "3"
      ]
     },
     "execution_count": 43,
     "metadata": {},
     "output_type": "execute_result"
    }
   ],
   "source": [
    "files = files_df[files_df.study_id == study_id].ss_id.unique().tolist()\n",
    "files = [CFG.stacked_path / f'{f}.npy' for f in files]\n",
    "\n",
    "len(files)"
   ]
  },
  {
   "cell_type": "code",
   "execution_count": 44,
   "id": "0cfd7f76-1906-4d8d-93e3-c6bdc39edd1c",
   "metadata": {},
   "outputs": [
    {
     "data": {
      "text/plain": [
       "(20, 64)"
      ]
     },
     "execution_count": 44,
     "metadata": {},
     "output_type": "execute_result"
    }
   ],
   "source": [
    "np.load(files[0]).shape"
   ]
  },
  {
   "cell_type": "code",
   "execution_count": 45,
   "id": "d9e9b0f9-ae28-434b-8372-14cad7f6a00c",
   "metadata": {
    "scrolled": true
   },
   "outputs": [
    {
     "data": {
      "text/plain": [
       "[1, 1, 1, 2, 1, 1, 1, 1, 2, 0, 1, 1, 0, 2, 1, 1, 1, 1, 2, 1, 1, 1, 1, 2, 1]"
      ]
     },
     "execution_count": 45,
     "metadata": {},
     "output_type": "execute_result"
    }
   ],
   "source": [
    "train_df[train_df.study_id == study_id].values.flatten().tolist()[1:]"
   ]
  },
  {
   "cell_type": "code",
   "execution_count": 46,
   "id": "83822bae-2fa7-425c-a3ef-8a08c664a324",
   "metadata": {},
   "outputs": [
    {
     "data": {
      "text/html": [
       "<div>\n",
       "<style scoped>\n",
       "    .dataframe tbody tr th:only-of-type {\n",
       "        vertical-align: middle;\n",
       "    }\n",
       "\n",
       "    .dataframe tbody tr th {\n",
       "        vertical-align: top;\n",
       "    }\n",
       "\n",
       "    .dataframe thead th {\n",
       "        text-align: right;\n",
       "    }\n",
       "</style>\n",
       "<table border=\"1\" class=\"dataframe\">\n",
       "  <thead>\n",
       "    <tr style=\"text-align: right;\">\n",
       "      <th></th>\n",
       "      <th>study_id</th>\n",
       "      <th>series_id</th>\n",
       "      <th>series_description</th>\n",
       "      <th>ss_id</th>\n",
       "    </tr>\n",
       "  </thead>\n",
       "  <tbody>\n",
       "    <tr>\n",
       "      <th>0</th>\n",
       "      <td>4003253</td>\n",
       "      <td>702807833</td>\n",
       "      <td>Sagittal T2/STIR</td>\n",
       "      <td>4003253_702807833</td>\n",
       "    </tr>\n",
       "    <tr>\n",
       "      <th>1</th>\n",
       "      <td>4003253</td>\n",
       "      <td>1054713880</td>\n",
       "      <td>Sagittal T1</td>\n",
       "      <td>4003253_1054713880</td>\n",
       "    </tr>\n",
       "    <tr>\n",
       "      <th>2</th>\n",
       "      <td>4003253</td>\n",
       "      <td>2448190387</td>\n",
       "      <td>Axial T2</td>\n",
       "      <td>4003253_2448190387</td>\n",
       "    </tr>\n",
       "    <tr>\n",
       "      <th>3</th>\n",
       "      <td>4646740</td>\n",
       "      <td>3201256954</td>\n",
       "      <td>Axial T2</td>\n",
       "      <td>4646740_3201256954</td>\n",
       "    </tr>\n",
       "    <tr>\n",
       "      <th>4</th>\n",
       "      <td>4646740</td>\n",
       "      <td>3486248476</td>\n",
       "      <td>Sagittal T1</td>\n",
       "      <td>4646740_3486248476</td>\n",
       "    </tr>\n",
       "  </tbody>\n",
       "</table>\n",
       "</div>"
      ],
      "text/plain": [
       "   study_id   series_id series_description               ss_id\n",
       "0   4003253   702807833   Sagittal T2/STIR   4003253_702807833\n",
       "1   4003253  1054713880        Sagittal T1  4003253_1054713880\n",
       "2   4003253  2448190387           Axial T2  4003253_2448190387\n",
       "3   4646740  3201256954           Axial T2  4646740_3201256954\n",
       "4   4646740  3486248476        Sagittal T1  4646740_3486248476"
      ]
     },
     "execution_count": 46,
     "metadata": {},
     "output_type": "execute_result"
    }
   ],
   "source": [
    "train_desc_df.head(5)"
   ]
  },
  {
   "cell_type": "code",
   "execution_count": 47,
   "id": "5570fe9c-1a09-49ba-8f9c-49dc070aab3c",
   "metadata": {},
   "outputs": [
    {
     "data": {
      "text/html": [
       "<div>\n",
       "<style scoped>\n",
       "    .dataframe tbody tr th:only-of-type {\n",
       "        vertical-align: middle;\n",
       "    }\n",
       "\n",
       "    .dataframe tbody tr th {\n",
       "        vertical-align: top;\n",
       "    }\n",
       "\n",
       "    .dataframe thead th {\n",
       "        text-align: right;\n",
       "    }\n",
       "</style>\n",
       "<table border=\"1\" class=\"dataframe\">\n",
       "  <thead>\n",
       "    <tr style=\"text-align: right;\">\n",
       "      <th></th>\n",
       "      <th>study_id</th>\n",
       "      <th>series_id</th>\n",
       "      <th>series_description</th>\n",
       "      <th>ss_id</th>\n",
       "    </tr>\n",
       "  </thead>\n",
       "  <tbody>\n",
       "    <tr>\n",
       "      <th>1215</th>\n",
       "      <td>838134337</td>\n",
       "      <td>1285354049</td>\n",
       "      <td>Sagittal T2/STIR</td>\n",
       "      <td>838134337_1285354049</td>\n",
       "    </tr>\n",
       "    <tr>\n",
       "      <th>1216</th>\n",
       "      <td>838134337</td>\n",
       "      <td>1345841225</td>\n",
       "      <td>Sagittal T1</td>\n",
       "      <td>838134337_1345841225</td>\n",
       "    </tr>\n",
       "    <tr>\n",
       "      <th>1217</th>\n",
       "      <td>838134337</td>\n",
       "      <td>3108613161</td>\n",
       "      <td>Axial T2</td>\n",
       "      <td>838134337_3108613161</td>\n",
       "    </tr>\n",
       "  </tbody>\n",
       "</table>\n",
       "</div>"
      ],
      "text/plain": [
       "       study_id   series_id series_description                 ss_id\n",
       "1215  838134337  1285354049   Sagittal T2/STIR  838134337_1285354049\n",
       "1216  838134337  1345841225        Sagittal T1  838134337_1345841225\n",
       "1217  838134337  3108613161           Axial T2  838134337_3108613161"
      ]
     },
     "execution_count": 47,
     "metadata": {},
     "output_type": "execute_result"
    }
   ],
   "source": [
    "foo = train_desc_df[train_desc_df.study_id == study_id].sort_values('series_description', ascending=False)\n",
    "\n",
    "foo"
   ]
  },
  {
   "cell_type": "code",
   "execution_count": 48,
   "id": "1d55f290-399e-4701-953c-e7292b050a0d",
   "metadata": {},
   "outputs": [
    {
     "data": {
      "text/plain": [
       "['838134337_1285354049', '838134337_1345841225', '838134337_3108613161']"
      ]
     },
     "execution_count": 48,
     "metadata": {},
     "output_type": "execute_result"
    }
   ],
   "source": [
    "foo.ss_id.tolist()"
   ]
  },
  {
   "cell_type": "markdown",
   "id": "1612f8c9-1a36-4c6c-b9cf-d16892d73320",
   "metadata": {},
   "source": [
    "### Dataset"
   ]
  },
  {
   "cell_type": "code",
   "execution_count": 123,
   "id": "f3f86c5e-f9ea-4585-aae3-1ba303a623a6",
   "metadata": {},
   "outputs": [],
   "source": [
    "from dataset import rsna_lstm_dataset, rsna_lstm_dataset2"
   ]
  },
  {
   "cell_type": "code",
   "execution_count": 155,
   "id": "37121852-10cf-46a5-a3b2-47dcfff75307",
   "metadata": {},
   "outputs": [
    {
     "data": {
      "text/html": [
       "<div>\n",
       "<style scoped>\n",
       "    .dataframe tbody tr th:only-of-type {\n",
       "        vertical-align: middle;\n",
       "    }\n",
       "\n",
       "    .dataframe tbody tr th {\n",
       "        vertical-align: top;\n",
       "    }\n",
       "\n",
       "    .dataframe thead th {\n",
       "        text-align: right;\n",
       "    }\n",
       "</style>\n",
       "<table border=\"1\" class=\"dataframe\">\n",
       "  <thead>\n",
       "    <tr style=\"text-align: right;\">\n",
       "      <th></th>\n",
       "      <th>ids</th>\n",
       "      <th>SCS</th>\n",
       "      <th>RNFN</th>\n",
       "      <th>LNFN</th>\n",
       "      <th>LSS</th>\n",
       "      <th>RSS</th>\n",
       "      <th>H</th>\n",
       "      <th>pred_SCS</th>\n",
       "      <th>pred_RNFN</th>\n",
       "      <th>pred_LNFN</th>\n",
       "      <th>pred_LSS</th>\n",
       "      <th>pred_RSS</th>\n",
       "      <th>pred_H</th>\n",
       "      <th>study_id</th>\n",
       "      <th>series_id</th>\n",
       "      <th>instance</th>\n",
       "      <th>ss_id</th>\n",
       "      <th>series_description</th>\n",
       "      <th>instance_id</th>\n",
       "      <th>proj</th>\n",
       "    </tr>\n",
       "  </thead>\n",
       "  <tbody>\n",
       "  </tbody>\n",
       "</table>\n",
       "</div>"
      ],
      "text/plain": [
       "Empty DataFrame\n",
       "Columns: [ids, SCS, RNFN, LNFN, LSS, RSS, H, pred_SCS, pred_RNFN, pred_LNFN, pred_LSS, pred_RSS, pred_H, study_id, series_id, instance, ss_id, series_description, instance_id, proj]\n",
       "Index: []"
      ]
     },
     "execution_count": 155,
     "metadata": {},
     "output_type": "execute_result"
    }
   ],
   "source": [
    "preds_df[preds_df.RSS > 0].head(15)"
   ]
  },
  {
   "cell_type": "code",
   "execution_count": 157,
   "id": "713b8079-6e35-46ab-8a86-c56cb353655f",
   "metadata": {},
   "outputs": [
    {
     "data": {
      "text/plain": [
       "array([0.])"
      ]
     },
     "execution_count": 157,
     "metadata": {},
     "output_type": "execute_result"
    }
   ],
   "source": [
    "preds_df['RSS'].unique()"
   ]
  },
  {
   "cell_type": "code",
   "execution_count": 150,
   "id": "bd012de4-ea63-4d88-9d2f-7f30c4f1bc6b",
   "metadata": {},
   "outputs": [
    {
     "data": {
      "text/html": [
       "<div>\n",
       "<style scoped>\n",
       "    .dataframe tbody tr th:only-of-type {\n",
       "        vertical-align: middle;\n",
       "    }\n",
       "\n",
       "    .dataframe tbody tr th {\n",
       "        vertical-align: top;\n",
       "    }\n",
       "\n",
       "    .dataframe thead th {\n",
       "        text-align: right;\n",
       "    }\n",
       "</style>\n",
       "<table border=\"1\" class=\"dataframe\">\n",
       "  <thead>\n",
       "    <tr style=\"text-align: right;\">\n",
       "      <th></th>\n",
       "      <th>ids</th>\n",
       "      <th>SCS</th>\n",
       "      <th>RNFN</th>\n",
       "      <th>LNFN</th>\n",
       "      <th>LSS</th>\n",
       "      <th>RSS</th>\n",
       "      <th>H</th>\n",
       "      <th>pred_SCS</th>\n",
       "      <th>pred_RNFN</th>\n",
       "      <th>pred_LNFN</th>\n",
       "      <th>pred_LSS</th>\n",
       "      <th>pred_RSS</th>\n",
       "      <th>pred_H</th>\n",
       "      <th>study_id</th>\n",
       "      <th>series_id</th>\n",
       "      <th>instance</th>\n",
       "      <th>ss_id</th>\n",
       "      <th>series_description</th>\n",
       "      <th>instance_id</th>\n",
       "      <th>proj</th>\n",
       "    </tr>\n",
       "  </thead>\n",
       "  <tbody>\n",
       "    <tr>\n",
       "      <th>9633</th>\n",
       "      <td>1246802434_2530289455_5</td>\n",
       "      <td>0.0</td>\n",
       "      <td>0.0</td>\n",
       "      <td>0.0</td>\n",
       "      <td>0.0</td>\n",
       "      <td>0.0</td>\n",
       "      <td>1.0</td>\n",
       "      <td>0.014651</td>\n",
       "      <td>0.005698</td>\n",
       "      <td>0.007709</td>\n",
       "      <td>0.360556</td>\n",
       "      <td>0.368441</td>\n",
       "      <td>0.381716</td>\n",
       "      <td>1246802434</td>\n",
       "      <td>2530289455</td>\n",
       "      <td>5</td>\n",
       "      <td>1246802434_2530289455</td>\n",
       "      <td>Axial T2</td>\n",
       "      <td>1246802434_2530289455_5</td>\n",
       "      <td>-432</td>\n",
       "    </tr>\n",
       "    <tr>\n",
       "      <th>99853</th>\n",
       "      <td>3612685875_2943022937_2</td>\n",
       "      <td>0.0</td>\n",
       "      <td>0.0</td>\n",
       "      <td>0.0</td>\n",
       "      <td>0.0</td>\n",
       "      <td>0.0</td>\n",
       "      <td>1.0</td>\n",
       "      <td>0.009616</td>\n",
       "      <td>0.004076</td>\n",
       "      <td>0.007683</td>\n",
       "      <td>0.012329</td>\n",
       "      <td>0.015736</td>\n",
       "      <td>0.994216</td>\n",
       "      <td>3612685875</td>\n",
       "      <td>2943022937</td>\n",
       "      <td>2</td>\n",
       "      <td>3612685875_2943022937</td>\n",
       "      <td>Sagittal T1</td>\n",
       "      <td>3612685875_2943022937_2</td>\n",
       "      <td>-9</td>\n",
       "    </tr>\n",
       "    <tr>\n",
       "      <th>54587</th>\n",
       "      <td>2455924281_1645353593_18</td>\n",
       "      <td>0.0</td>\n",
       "      <td>0.0</td>\n",
       "      <td>0.0</td>\n",
       "      <td>0.0</td>\n",
       "      <td>0.0</td>\n",
       "      <td>1.0</td>\n",
       "      <td>0.010334</td>\n",
       "      <td>0.005059</td>\n",
       "      <td>0.005969</td>\n",
       "      <td>0.018960</td>\n",
       "      <td>0.024023</td>\n",
       "      <td>0.985709</td>\n",
       "      <td>2455924281</td>\n",
       "      <td>1645353593</td>\n",
       "      <td>18</td>\n",
       "      <td>2455924281_1645353593</td>\n",
       "      <td>Sagittal T1</td>\n",
       "      <td>2455924281_1645353593_18</td>\n",
       "      <td>-39</td>\n",
       "    </tr>\n",
       "    <tr>\n",
       "      <th>33948</th>\n",
       "      <td>1897045431_220072654_5</td>\n",
       "      <td>0.0</td>\n",
       "      <td>0.0</td>\n",
       "      <td>0.0</td>\n",
       "      <td>0.0</td>\n",
       "      <td>0.0</td>\n",
       "      <td>1.0</td>\n",
       "      <td>0.012641</td>\n",
       "      <td>0.006550</td>\n",
       "      <td>0.008909</td>\n",
       "      <td>0.018371</td>\n",
       "      <td>0.017660</td>\n",
       "      <td>0.980799</td>\n",
       "      <td>1897045431</td>\n",
       "      <td>220072654</td>\n",
       "      <td>5</td>\n",
       "      <td>1897045431_220072654</td>\n",
       "      <td>Axial T2</td>\n",
       "      <td>1897045431_220072654_5</td>\n",
       "      <td>-5</td>\n",
       "    </tr>\n",
       "    <tr>\n",
       "      <th>5542</th>\n",
       "      <td>113121178_2624376155_11</td>\n",
       "      <td>0.0</td>\n",
       "      <td>0.0</td>\n",
       "      <td>0.0</td>\n",
       "      <td>0.0</td>\n",
       "      <td>0.0</td>\n",
       "      <td>1.0</td>\n",
       "      <td>0.006214</td>\n",
       "      <td>0.003586</td>\n",
       "      <td>0.004145</td>\n",
       "      <td>0.007240</td>\n",
       "      <td>0.008384</td>\n",
       "      <td>0.994022</td>\n",
       "      <td>113121178</td>\n",
       "      <td>2624376155</td>\n",
       "      <td>11</td>\n",
       "      <td>113121178_2624376155</td>\n",
       "      <td>Axial T2</td>\n",
       "      <td>113121178_2624376155_11</td>\n",
       "      <td>-468</td>\n",
       "    </tr>\n",
       "    <tr>\n",
       "      <th>132350</th>\n",
       "      <td>625376596_338048129_11</td>\n",
       "      <td>0.0</td>\n",
       "      <td>0.0</td>\n",
       "      <td>0.0</td>\n",
       "      <td>0.0</td>\n",
       "      <td>0.0</td>\n",
       "      <td>1.0</td>\n",
       "      <td>0.007917</td>\n",
       "      <td>0.003528</td>\n",
       "      <td>0.003439</td>\n",
       "      <td>0.111915</td>\n",
       "      <td>0.083025</td>\n",
       "      <td>0.736104</td>\n",
       "      <td>625376596</td>\n",
       "      <td>338048129</td>\n",
       "      <td>11</td>\n",
       "      <td>625376596_338048129</td>\n",
       "      <td>Axial T2</td>\n",
       "      <td>625376596_338048129_11</td>\n",
       "      <td>-382</td>\n",
       "    </tr>\n",
       "    <tr>\n",
       "      <th>1442</th>\n",
       "      <td>1039182563_814821691_16</td>\n",
       "      <td>0.0</td>\n",
       "      <td>0.0</td>\n",
       "      <td>0.0</td>\n",
       "      <td>0.0</td>\n",
       "      <td>0.0</td>\n",
       "      <td>1.0</td>\n",
       "      <td>0.006231</td>\n",
       "      <td>0.003703</td>\n",
       "      <td>0.004742</td>\n",
       "      <td>0.006956</td>\n",
       "      <td>0.008886</td>\n",
       "      <td>0.994398</td>\n",
       "      <td>1039182563</td>\n",
       "      <td>814821691</td>\n",
       "      <td>16</td>\n",
       "      <td>1039182563_814821691</td>\n",
       "      <td>Axial T2</td>\n",
       "      <td>1039182563_814821691_16</td>\n",
       "      <td>-3</td>\n",
       "    </tr>\n",
       "    <tr>\n",
       "      <th>10100</th>\n",
       "      <td>1258848546_3003067430_22</td>\n",
       "      <td>0.0</td>\n",
       "      <td>0.0</td>\n",
       "      <td>0.0</td>\n",
       "      <td>0.0</td>\n",
       "      <td>0.0</td>\n",
       "      <td>1.0</td>\n",
       "      <td>0.008835</td>\n",
       "      <td>0.003534</td>\n",
       "      <td>0.004563</td>\n",
       "      <td>0.014118</td>\n",
       "      <td>0.011669</td>\n",
       "      <td>0.994157</td>\n",
       "      <td>1258848546</td>\n",
       "      <td>3003067430</td>\n",
       "      <td>22</td>\n",
       "      <td>1258848546_3003067430</td>\n",
       "      <td>Sagittal T2/STIR</td>\n",
       "      <td>1258848546_3003067430_22</td>\n",
       "      <td>-50</td>\n",
       "    </tr>\n",
       "    <tr>\n",
       "      <th>8008</th>\n",
       "      <td>11943292_1212326388_7</td>\n",
       "      <td>0.0</td>\n",
       "      <td>0.0</td>\n",
       "      <td>0.0</td>\n",
       "      <td>0.0</td>\n",
       "      <td>0.0</td>\n",
       "      <td>1.0</td>\n",
       "      <td>0.004609</td>\n",
       "      <td>0.003296</td>\n",
       "      <td>0.002554</td>\n",
       "      <td>0.009371</td>\n",
       "      <td>0.009944</td>\n",
       "      <td>0.998347</td>\n",
       "      <td>11943292</td>\n",
       "      <td>1212326388</td>\n",
       "      <td>7</td>\n",
       "      <td>11943292_1212326388</td>\n",
       "      <td>Sagittal T1</td>\n",
       "      <td>11943292_1212326388_7</td>\n",
       "      <td>-7</td>\n",
       "    </tr>\n",
       "    <tr>\n",
       "      <th>61784</th>\n",
       "      <td>2626030939_956892659_2</td>\n",
       "      <td>0.0</td>\n",
       "      <td>0.0</td>\n",
       "      <td>0.0</td>\n",
       "      <td>0.0</td>\n",
       "      <td>0.0</td>\n",
       "      <td>1.0</td>\n",
       "      <td>0.008317</td>\n",
       "      <td>0.005151</td>\n",
       "      <td>0.008881</td>\n",
       "      <td>0.009005</td>\n",
       "      <td>0.010837</td>\n",
       "      <td>0.994311</td>\n",
       "      <td>2626030939</td>\n",
       "      <td>956892659</td>\n",
       "      <td>2</td>\n",
       "      <td>2626030939_956892659</td>\n",
       "      <td>Sagittal T2/STIR</td>\n",
       "      <td>2626030939_956892659_2</td>\n",
       "      <td>-18</td>\n",
       "    </tr>\n",
       "  </tbody>\n",
       "</table>\n",
       "</div>"
      ],
      "text/plain": [
       "                             ids  SCS  RNFN  LNFN  LSS  RSS    H  pred_SCS  \\\n",
       "9633     1246802434_2530289455_5  0.0   0.0   0.0  0.0  0.0  1.0  0.014651   \n",
       "99853    3612685875_2943022937_2  0.0   0.0   0.0  0.0  0.0  1.0  0.009616   \n",
       "54587   2455924281_1645353593_18  0.0   0.0   0.0  0.0  0.0  1.0  0.010334   \n",
       "33948     1897045431_220072654_5  0.0   0.0   0.0  0.0  0.0  1.0  0.012641   \n",
       "5542     113121178_2624376155_11  0.0   0.0   0.0  0.0  0.0  1.0  0.006214   \n",
       "132350    625376596_338048129_11  0.0   0.0   0.0  0.0  0.0  1.0  0.007917   \n",
       "1442     1039182563_814821691_16  0.0   0.0   0.0  0.0  0.0  1.0  0.006231   \n",
       "10100   1258848546_3003067430_22  0.0   0.0   0.0  0.0  0.0  1.0  0.008835   \n",
       "8008       11943292_1212326388_7  0.0   0.0   0.0  0.0  0.0  1.0  0.004609   \n",
       "61784     2626030939_956892659_2  0.0   0.0   0.0  0.0  0.0  1.0  0.008317   \n",
       "\n",
       "        pred_RNFN  pred_LNFN  pred_LSS  pred_RSS    pred_H    study_id  \\\n",
       "9633     0.005698   0.007709  0.360556  0.368441  0.381716  1246802434   \n",
       "99853    0.004076   0.007683  0.012329  0.015736  0.994216  3612685875   \n",
       "54587    0.005059   0.005969  0.018960  0.024023  0.985709  2455924281   \n",
       "33948    0.006550   0.008909  0.018371  0.017660  0.980799  1897045431   \n",
       "5542     0.003586   0.004145  0.007240  0.008384  0.994022   113121178   \n",
       "132350   0.003528   0.003439  0.111915  0.083025  0.736104   625376596   \n",
       "1442     0.003703   0.004742  0.006956  0.008886  0.994398  1039182563   \n",
       "10100    0.003534   0.004563  0.014118  0.011669  0.994157  1258848546   \n",
       "8008     0.003296   0.002554  0.009371  0.009944  0.998347    11943292   \n",
       "61784    0.005151   0.008881  0.009005  0.010837  0.994311  2626030939   \n",
       "\n",
       "         series_id  instance                  ss_id series_description  \\\n",
       "9633    2530289455         5  1246802434_2530289455           Axial T2   \n",
       "99853   2943022937         2  3612685875_2943022937        Sagittal T1   \n",
       "54587   1645353593        18  2455924281_1645353593        Sagittal T1   \n",
       "33948    220072654         5   1897045431_220072654           Axial T2   \n",
       "5542    2624376155        11   113121178_2624376155           Axial T2   \n",
       "132350   338048129        11    625376596_338048129           Axial T2   \n",
       "1442     814821691        16   1039182563_814821691           Axial T2   \n",
       "10100   3003067430        22  1258848546_3003067430   Sagittal T2/STIR   \n",
       "8008    1212326388         7    11943292_1212326388        Sagittal T1   \n",
       "61784    956892659         2   2626030939_956892659   Sagittal T2/STIR   \n",
       "\n",
       "                     instance_id  proj  \n",
       "9633     1246802434_2530289455_5  -432  \n",
       "99853    3612685875_2943022937_2    -9  \n",
       "54587   2455924281_1645353593_18   -39  \n",
       "33948     1897045431_220072654_5    -5  \n",
       "5542     113121178_2624376155_11  -468  \n",
       "132350    625376596_338048129_11  -382  \n",
       "1442     1039182563_814821691_16    -3  \n",
       "10100   1258848546_3003067430_22   -50  \n",
       "8008       11943292_1212326388_7    -7  \n",
       "61784     2626030939_956892659_2   -18  "
      ]
     },
     "execution_count": 150,
     "metadata": {},
     "output_type": "execute_result"
    }
   ],
   "source": [
    "preds_df.sample(10)"
   ]
  },
  {
   "cell_type": "code",
   "execution_count": 122,
   "id": "f0c28c43-aa37-41a7-b09d-09a6661050fb",
   "metadata": {},
   "outputs": [
    {
     "data": {
      "text/plain": [
       "147218"
      ]
     },
     "execution_count": 122,
     "metadata": {},
     "output_type": "execute_result"
    }
   ],
   "source": [
    "preds_df.instance_id.nunique()"
   ]
  },
  {
   "cell_type": "code",
   "execution_count": null,
   "id": "f5a33908-7064-4b4d-bb47-63f68b738831",
   "metadata": {},
   "outputs": [],
   "source": []
  },
  {
   "cell_type": "code",
   "execution_count": 129,
   "id": "30dc6b05-f665-42da-82f9-30e3c46acd5b",
   "metadata": {
    "scrolled": true
   },
   "outputs": [
    {
     "name": "stdout",
     "output_type": "stream",
     "text": [
      "1975\n",
      "116\n",
      "29931867\n",
      "torch.Size([116, 128]) torch.Size([25])\n",
      "torch.float32 torch.int64\n"
     ]
    }
   ],
   "source": [
    "dset = rsna_lstm_dataset(train_df, train_desc_df, CFG.stacked_path)\n",
    "dset = rsna_lstm_dataset2(train_df, preds_df, CFG.stacked_path)\n",
    "\n",
    "print(dset.__len__())\n",
    "\n",
    "seq, target = dset.__getitem__(10)\n",
    "print(seq.shape, target.shape)\n",
    "print(seq.dtype, target.dtype)"
   ]
  },
  {
   "cell_type": "code",
   "execution_count": 51,
   "id": "07b7227a-8340-4386-bf5a-e16056e87714",
   "metadata": {},
   "outputs": [],
   "source": [
    "# preds_df.sample(frac=0.1)"
   ]
  },
  {
   "cell_type": "code",
   "execution_count": 52,
   "id": "c40e2d06-e0db-4e46-88dc-ce9a45ccc903",
   "metadata": {},
   "outputs": [
    {
     "data": {
      "text/plain": [
       "tensor([1, 1, 0, 2, 1, 1, 1, 1, 0, 0, 1, 1, 0, 0, 1, 1, 1, 1, 2, 1, 1, 0, 0, 0,\n",
       "        1])"
      ]
     },
     "execution_count": 52,
     "metadata": {},
     "output_type": "execute_result"
    }
   ],
   "source": [
    "# seq dim: (bs, seq_len, 1, num_features)\n",
    "# target dim: (N, d1)\n",
    "target"
   ]
  },
  {
   "cell_type": "code",
   "execution_count": 53,
   "id": "7e83ed1d-46df-455a-81d2-de0ad736a547",
   "metadata": {},
   "outputs": [
    {
     "data": {
      "text/plain": [
       "tensor([-0.5228, -0.1782, -0.6903,  0.5997, -0.4489, -1.0280,  0.2119, -0.6594,\n",
       "         0.6898, -1.1903,  0.3165,  1.5068, -0.7865,  0.5029, -1.0719,  0.4189,\n",
       "         0.5564,  0.4282, -0.2935, -0.9852,  0.3526, -0.4669, -0.5027,  0.3444,\n",
       "        -0.7786, -0.7690, -0.7657, -1.0102, -0.3332, -0.8924,  1.2580, -0.1102,\n",
       "         0.7869,  0.1274,  1.0775, -0.6019,  0.0730, -0.1483, -1.4893,  0.1967,\n",
       "         0.3407, -0.0978,  0.4087, -0.7306, -1.0403,  0.1851, -0.8510,  0.3468,\n",
       "        -0.2782, -0.1983,  0.0975, -0.9890,  0.3682,  0.4134,  1.1431, -0.3665,\n",
       "         0.8837, -0.5044, -0.7994,  0.0136,  0.3304, -0.3338, -0.0366,  1.3782,\n",
       "         1.3190, -0.3707,  0.5600,  0.5615, -0.3195, -0.6933,  0.1179,  0.1510,\n",
       "         0.1354, -0.2475,  0.8667, -0.2318, -1.0075,  0.5286, -0.1825, -1.2873,\n",
       "         0.5826, -0.1120, -0.3456,  0.4346, -0.1036, -0.9096, -0.8098, -0.1004,\n",
       "         0.2509, -0.3196, -0.0296,  1.3002,  0.2478,  0.4836, -1.7138,  0.6634,\n",
       "        -0.4320,  0.2279, -0.1096, -0.6311,  0.0267,  0.4500,  0.4590,  1.1712,\n",
       "         0.4501, -0.3778,  0.2468,  0.0437,  0.0834, -1.0808, -0.4601, -0.5512,\n",
       "        -0.3868,  0.1409, -0.1326, -0.2991,  1.2511, -0.2757,  1.1720, -0.4727,\n",
       "        -0.5435, -0.0071, -1.2484, -0.5349, -0.9268,  0.2162,  0.5397,  0.6798])"
      ]
     },
     "execution_count": 53,
     "metadata": {},
     "output_type": "execute_result"
    }
   ],
   "source": [
    "seq[0]"
   ]
  },
  {
   "cell_type": "markdown",
   "id": "fd867d32-aa02-4d7f-b01c-0464e4743454",
   "metadata": {},
   "source": [
    "### Data Module"
   ]
  },
  {
   "cell_type": "code",
   "execution_count": 54,
   "id": "6f139987-2152-4998-a85a-1659c5547410",
   "metadata": {},
   "outputs": [],
   "source": [
    "from dataset import rsna_lstm_dataset, rsna_lstm_dataset2, collate_fn_padd"
   ]
  },
  {
   "cell_type": "code",
   "execution_count": 55,
   "id": "e432ce02-b10e-48ab-ac4b-aa9676cf439b",
   "metadata": {},
   "outputs": [
    {
     "data": {
      "text/html": [
       "<div>\n",
       "<style scoped>\n",
       "    .dataframe tbody tr th:only-of-type {\n",
       "        vertical-align: middle;\n",
       "    }\n",
       "\n",
       "    .dataframe tbody tr th {\n",
       "        vertical-align: top;\n",
       "    }\n",
       "\n",
       "    .dataframe thead th {\n",
       "        text-align: right;\n",
       "    }\n",
       "</style>\n",
       "<table border=\"1\" class=\"dataframe\">\n",
       "  <thead>\n",
       "    <tr style=\"text-align: right;\">\n",
       "      <th></th>\n",
       "      <th>study_id</th>\n",
       "      <th>series_id</th>\n",
       "      <th>series_description</th>\n",
       "      <th>ss_id</th>\n",
       "    </tr>\n",
       "  </thead>\n",
       "  <tbody>\n",
       "    <tr>\n",
       "      <th>800</th>\n",
       "      <td>532925408</td>\n",
       "      <td>476707229</td>\n",
       "      <td>Sagittal T1</td>\n",
       "      <td>532925408_476707229</td>\n",
       "    </tr>\n",
       "  </tbody>\n",
       "</table>\n",
       "</div>"
      ],
      "text/plain": [
       "      study_id  series_id series_description                ss_id\n",
       "800  532925408  476707229        Sagittal T1  532925408_476707229"
      ]
     },
     "execution_count": 55,
     "metadata": {},
     "output_type": "execute_result"
    }
   ],
   "source": [
    "train_desc_df.sample()"
   ]
  },
  {
   "cell_type": "code",
   "execution_count": 56,
   "id": "b9470a56-200b-4239-b398-e80dcd7d0747",
   "metadata": {},
   "outputs": [],
   "source": [
    "# from torch.nn.utils.rnn import pad_sequence\n",
    "\n",
    "# def collate_fn_padd(data):\n",
    "#     tensors, targets = zip(*data)\n",
    "#     features = pad_sequence(tensors, batch_first=True)\n",
    "#     targets = torch.stack(targets)\n",
    "#     return features, targets\n",
    "    \n",
    "class lstm_datamodule(pl.LightningDataModule):\n",
    "    # def __init__(self, train_df, val_df, train_desc_df, cfg):\n",
    "    def __init__(self, train_df, val_df, preds_df, cfg):\n",
    "        super().__init__()\n",
    "        \n",
    "        self.train_df = train_df\n",
    "        self.val_df = val_df\n",
    "        # self.train_desc_df = train_desc_df\n",
    "        self.preds_df = preds_df\n",
    "        \n",
    "        self.train_bs = cfg.BATCH_SIZE\n",
    "        self.val_bs = cfg.BATCH_SIZE\n",
    "\n",
    "        self.cfg = cfg\n",
    "        self.path = cfg.stacked_path\n",
    "        \n",
    "        self.num_workers = cfg.num_workers\n",
    "        \n",
    "    def train_dataloader(self):\n",
    "        train_ds = rsna_lstm_dataset2(self.train_df, self.preds_df, self.path)\n",
    "        \n",
    "        train_loader = torch.utils.data.DataLoader(\n",
    "            train_ds,\n",
    "            batch_size=self.train_bs,\n",
    "            collate_fn=collate_fn_padd,\n",
    "            pin_memory=False,\n",
    "            drop_last=False,\n",
    "            shuffle=True,\n",
    "            persistent_workers=True,\n",
    "            num_workers=self.num_workers,\n",
    "        )\n",
    "        \n",
    "        return train_loader\n",
    "        \n",
    "    def val_dataloader(self):\n",
    "        val_ds = rsna_lstm_dataset2(self.val_df, self.preds_df, self.path)\n",
    "        \n",
    "        val_loader = torch.utils.data.DataLoader(\n",
    "            val_ds,\n",
    "            batch_size=self.val_bs,\n",
    "            collate_fn=collate_fn_padd,\n",
    "            pin_memory=False,\n",
    "            drop_last=False,\n",
    "            shuffle=False,\n",
    "            persistent_workers=True,\n",
    "            num_workers=2,\n",
    "        )\n",
    "        \n",
    "        return val_loader"
   ]
  },
  {
   "cell_type": "code",
   "execution_count": 57,
   "id": "a96cc534-ef0d-4986-a504-d84350f3a226",
   "metadata": {
    "scrolled": true
   },
   "outputs": [
    {
     "data": {
      "text/plain": [
       "(torch.Size([8, 87, 128]), torch.Size([8, 25]), torch.float32, torch.int64)"
      ]
     },
     "execution_count": 57,
     "metadata": {},
     "output_type": "execute_result"
    }
   ],
   "source": [
    "t_df = train_df[:-100]\n",
    "# t_df = pd.concat([meta_df[:-100], ul_df[:-100]], ignore_index=True)\n",
    "v_df = train_df[-100:]\n",
    "\n",
    "CFG2 = CFG()\n",
    "# CFG2 = copy.deepcopy(CFG)\n",
    "CFG2.BATCH_SIZE = 8\n",
    "CFG2.num_workers = 4\n",
    "\n",
    "# dm = lstm_datamodule(t_df, v_df, train_desc_df, CFG2)\n",
    "dm = lstm_datamodule(t_df, v_df, preds_df, CFG2)\n",
    "\n",
    "x, y = next(iter(dm.train_dataloader()))\n",
    "x.shape, y.shape, x.dtype, y.dtype"
   ]
  },
  {
   "cell_type": "code",
   "execution_count": 130,
   "id": "f2a8b774-b258-4ae0-901f-fb05a78180a1",
   "metadata": {},
   "outputs": [
    {
     "data": {
      "text/plain": [
       "tensor([[-0.2320,  0.0143, -0.9939,  ...,  0.2312,  0.5752,  1.1324],\n",
       "        [-0.3192, -0.1989, -1.1888,  ...,  0.2762,  0.4888,  1.5444],\n",
       "        [-0.2673, -0.1179, -0.7755,  ...,  0.2152,  0.3759,  1.3764],\n",
       "        ...,\n",
       "        [ 0.0000,  0.0000,  0.0000,  ...,  0.0000,  0.0000,  0.0000],\n",
       "        [ 0.0000,  0.0000,  0.0000,  ...,  0.0000,  0.0000,  0.0000],\n",
       "        [ 0.0000,  0.0000,  0.0000,  ...,  0.0000,  0.0000,  0.0000]])"
      ]
     },
     "execution_count": 130,
     "metadata": {},
     "output_type": "execute_result"
    }
   ],
   "source": [
    "x[0]"
   ]
  },
  {
   "cell_type": "code",
   "execution_count": 138,
   "id": "5f540b05-22ea-4d03-91ab-3848b4208727",
   "metadata": {},
   "outputs": [
    {
     "data": {
      "text/plain": [
       "tensor([1, 1, 1, 1, 1, 1, 1, 1, 1, 0, 1, 1, 1, 1, 1, 1, 1, 1, 1, 1, 1, 1, 1, 1,\n",
       "        1])"
      ]
     },
     "execution_count": 138,
     "metadata": {},
     "output_type": "execute_result"
    }
   ],
   "source": [
    "y[0]"
   ]
  },
  {
   "cell_type": "code",
   "execution_count": 140,
   "id": "375b6bc9-0b53-43fe-a298-2a06c170097b",
   "metadata": {},
   "outputs": [
    {
     "data": {
      "text/plain": [
       "tensor([1, 1, 1, 1, 1, 1, 1, 1, 0, 0, 1, 1, 0, 1, 1, 1, 0, 0, 0, 1, 1, 1, 2, 0,\n",
       "        1])"
      ]
     },
     "execution_count": 140,
     "metadata": {},
     "output_type": "execute_result"
    }
   ],
   "source": [
    "y[2]"
   ]
  },
  {
   "cell_type": "code",
   "execution_count": 58,
   "id": "dcded2ba-4250-4dc0-b91e-202b8b2e92e3",
   "metadata": {},
   "outputs": [],
   "source": [
    "del dm"
   ]
  },
  {
   "cell_type": "markdown",
   "id": "27eaf99d-c0df-4c3b-8e0b-e4149287724d",
   "metadata": {},
   "source": [
    "### Loss function"
   ]
  },
  {
   "cell_type": "code",
   "execution_count": 59,
   "id": "8b81ea3d-00dd-40ab-9ae3-18bc6b41bc56",
   "metadata": {},
   "outputs": [],
   "source": [
    "class FocalLossBCE(torch.nn.Module):\n",
    "    def __init__(\n",
    "            self,\n",
    "            alpha: float = 0.25,\n",
    "            gamma: float = 2,\n",
    "            reduction: str = \"mean\",\n",
    "            bce_weight: float = 1.0,\n",
    "            focal_weight: float = 1.0,\n",
    "    ):\n",
    "        super().__init__()\n",
    "        self.alpha = alpha\n",
    "        self.gamma = gamma\n",
    "        self.reduction = reduction\n",
    "        self.bce = torch.nn.BCEWithLogitsLoss(reduction=reduction)\n",
    "        self.bce_weight = bce_weight\n",
    "        self.focal_weight = focal_weight\n",
    "\n",
    "    def forward(self, logits, targets):\n",
    "        focall_loss = torchvision.ops.focal_loss.sigmoid_focal_loss(\n",
    "            inputs=logits,\n",
    "            targets=targets,\n",
    "            alpha=self.alpha,\n",
    "            gamma=self.gamma,\n",
    "            reduction=self.reduction,\n",
    "        )\n",
    "        bce_loss = self.bce(logits, targets)\n",
    "        return self.bce_weight * bce_loss + self.focal_weight * focall_loss"
   ]
  },
  {
   "cell_type": "code",
   "execution_count": 60,
   "id": "35a66677-1ad1-467b-8eec-7810bdd87199",
   "metadata": {},
   "outputs": [],
   "source": [
    "# logprobs = F.cross_entropy(input, target, reduction='none')\n",
    "# at = at.view(-1, len(alphas))\n",
    "# pt = torch.exp(-logprobs)\n",
    "# focal_loss = at*(1-pt)** gamma * logprobs\n",
    "# return focal_loss.mean()"
   ]
  },
  {
   "cell_type": "markdown",
   "id": "c0b612aa-046a-43ac-a4af-372ac3e8c5d3",
   "metadata": {},
   "source": [
    "### Model"
   ]
  },
  {
   "cell_type": "markdown",
   "id": "7dbe6f84-498b-4bf8-9ddb-bfc6e1f14f85",
   "metadata": {},
   "source": [
    "#### Definition"
   ]
  },
  {
   "cell_type": "code",
   "execution_count": 61,
   "id": "ee25477c-c3c0-4e2c-ac2c-4f9fbd128e23",
   "metadata": {},
   "outputs": [
    {
     "data": {
      "text/plain": [
       "3"
      ]
     },
     "execution_count": 61,
     "metadata": {},
     "output_type": "execute_result"
    }
   ],
   "source": [
    "CFG.N_LABELS"
   ]
  },
  {
   "cell_type": "code",
   "execution_count": 62,
   "id": "5910b742-8212-42d8-9beb-31374e75e967",
   "metadata": {},
   "outputs": [],
   "source": [
    "# torch.tensor([[[0, 1], [2, 1], [0, 2]], [[1, 1], [2, 0], [1, 2]]]).shape, torch.tensor([[[0, 2], [2, 0], [0, 1]], [[2, 2], [2, 1], [1, 0]]]).shape"
   ]
  },
  {
   "cell_type": "code",
   "execution_count": 63,
   "id": "884fad8f-5a10-48d0-915d-4ce5ff2813ec",
   "metadata": {},
   "outputs": [],
   "source": [
    "class LSTMClassifier(pl.LightningModule):\n",
    "    def __init__(self, cfg=CFG):\n",
    "        super(LSTMClassifier, self).__init__()\n",
    "\n",
    "        self.cfg = cfg\n",
    "        \n",
    "        self.input_dim = cfg.input_dim\n",
    "        self.hidden_dim = cfg.hidden_dim\n",
    "        \n",
    "        self.levels = 25\n",
    "        self.classes = cfg.N_LABELS\n",
    "\n",
    "        # https://discuss.pytorch.org/t/pytorchs-non-deterministic-cross-entropy-loss-and-the-problem-of-reproducibility/172180/9\n",
    "        # reduction is set to none\n",
    "        # self.criterion = torch.nn.CrossEntropyLoss(reduction='none', weight=torch.tensor([1,0.1,2]))\n",
    "        weight = None\n",
    "        if self.cfg.weighted_loss:\n",
    "            weight = torch.tensor(cfg.class_weights)\n",
    "            \n",
    "        self.criterion = torch.nn.CrossEntropyLoss(reduction='none', weight=weight)\n",
    "\n",
    "        self.lstm = nn.LSTM(self.input_dim, self.hidden_dim, num_layers=cfg.num_layers, batch_first=True)\n",
    "        self.fc = nn.Linear(self.hidden_dim, self.levels * self.classes)\n",
    "        # self.classifiers = torch.nn.ModuleList([nn.Linear(self.target_size, cfg.N_LABELS) for i in range(25)])\n",
    "\n",
    "        # no average maccs\n",
    "        macc_serverity = ClasswiseWrapper(MulticlassAccuracy(\n",
    "            num_classes=self.cfg.N_LABELS,\n",
    "            average='none', \n",
    "            multidim_average='global'\n",
    "            # label encoder classes\n",
    "        ), labels=le.classes_.tolist(), prefix='multiacc_severity/')\n",
    "\n",
    "        macc_levels = ClasswiseWrapper(MulticlassAccuracy(\n",
    "            num_classes=self.cfg.N_LABELS,\n",
    "            average='none', \n",
    "            multidim_average='global'\n",
    "        ), labels=classes, prefix='multiacc_levels/')\n",
    "        \n",
    "        metrics = MetricCollection({\n",
    "            'macc': MulticlassAccuracy(num_classes=self.cfg.N_LABELS),\n",
    "            'macc_none': macc_serverity,\n",
    "            'mpr': MulticlassPrecision(num_classes=self.cfg.N_LABELS),\n",
    "            'mrec': MulticlassRecall(num_classes=self.cfg.N_LABELS),\n",
    "            'f1': MulticlassF1Score(num_classes=self.cfg.N_LABELS)\n",
    "        })\n",
    "\n",
    "        self.train_metrics = metrics.clone(prefix='train/')\n",
    "        self.valid_metrics = metrics.clone(prefix='val/')\n",
    "\n",
    "    def forward(self, sequence):\n",
    "        #  seq: (seq_len, bs, num_features)\n",
    "        lstm_out, (h, c) = self.lstm(sequence)\n",
    "        \n",
    "        y = self.fc(h[-1])\n",
    "\n",
    "        # (N,C,d1) -> (N,3,25)\n",
    "        return y.view(-1, self.classes, self.levels)\n",
    "\n",
    "    def step(self, batch, batch_idx, mode='train'):\n",
    "        x, y = batch\n",
    "\n",
    "        preds = self(x)\n",
    "\n",
    "        loss = self.criterion(preds, y)\n",
    "\n",
    "        # https://discuss.pytorch.org/t/pytorchs-non-deterministic-cross-entropy-loss-and-the-problem-of-reproducibility/172180/9\n",
    "        loss = loss.mean()\n",
    "\n",
    "        # print(preds.shape, y.shape)\n",
    "\n",
    "        if mode == 'train':\n",
    "            output = self.train_metrics(preds, y)\n",
    "            self.log_dict(output)\n",
    "        else:\n",
    "            self.valid_metrics.update(preds, y)\n",
    "\n",
    "        self.log(f'{mode}/loss', loss, on_step=True, on_epoch=True)\n",
    "\n",
    "        return loss\n",
    "\n",
    "    def training_step(self, batch, batch_idx):\n",
    "        loss = self.step(batch, batch_idx, mode='train')\n",
    "        \n",
    "        return loss\n",
    "        \n",
    "    def validation_step(self, batch, batch_idx):\n",
    "        loss = self.step(batch, batch_idx, mode='val')\n",
    "    \n",
    "        return loss\n",
    "\n",
    "    def on_train_epoch_end(self):\n",
    "        self.train_metrics.reset()\n",
    "\n",
    "    def on_validation_epoch_end(self):\n",
    "        output = self.valid_metrics.compute()\n",
    "        self.log_dict(output)\n",
    "\n",
    "        self.valid_metrics.reset()\n",
    "\n",
    "    def configure_optimizers(self):\n",
    "        optimizer = torch.optim.Adam(model.parameters(), lr=self.cfg.LEARNING_RATE, weight_decay=CFG.weight_decay)\n",
    "        \n",
    "        if self.cfg.USE_SCHD:\n",
    "            scheduler_cosine = torch.optim.lr_scheduler.CosineAnnealingLR(optimizer, self.cfg.COS_EPOCHS)\n",
    "            scheduler_warmup = GradualWarmupSchedulerV2(optimizer, multiplier=10, total_epoch=self.cfg.WARM_EPOCHS, after_scheduler=scheduler_cosine)\n",
    "\n",
    "            return [optimizer], [scheduler_warmup]\n",
    "        else:\n",
    "            return optimizer"
   ]
  },
  {
   "cell_type": "markdown",
   "id": "ea0bce47-0115-4125-8de6-03cfcc3912ac",
   "metadata": {},
   "source": [
    "#### building blocks"
   ]
  },
  {
   "cell_type": "code",
   "execution_count": 64,
   "id": "db64ce6f-aa52-4b54-818e-f84f99f7cc88",
   "metadata": {},
   "outputs": [
    {
     "data": {
      "text/plain": [
       "(torch.Size([70, 128]), torch.Size([1, 70, 128]), torch.Size([25]))"
      ]
     },
     "execution_count": 64,
     "metadata": {},
     "output_type": "execute_result"
    }
   ],
   "source": [
    "seq.shape, seq.view(1, len(seq), -1).shape, target.shape"
   ]
  },
  {
   "cell_type": "code",
   "execution_count": 163,
   "id": "216f8e66-4fa2-496f-938d-808f876615be",
   "metadata": {},
   "outputs": [
    {
     "name": "stdout",
     "output_type": "stream",
     "text": [
      "torch.Size([5, 88, 64]) torch.Size([1, 5, 64]) torch.Size([1, 5, 64])\n",
      "fc shape: torch.Size([5, 64])\n",
      "pred shape: torch.Size([3, 5])\n",
      "preds shape: torch.Size([5, 3, 25])\n"
     ]
    }
   ],
   "source": [
    "target_size = 64\n",
    "\n",
    "lstm = nn.LSTM(target_size, target_size, num_layers=1, batch_first=True)\n",
    "fc = nn.Linear(target_size, target_size)\n",
    "classifiers = [nn.Linear(target_size, 3) for i in range(25)]\n",
    "\n",
    "lstm_out, (h, c) = lstm(torch.randn(5,88,64))\n",
    "print(lstm_out.shape, h.shape, c.shape)\n",
    "\n",
    "y = fc(h[-1])\n",
    "print('fc shape:', y.shape)\n",
    "\n",
    "preds = [c(y).T for c in classifiers]\n",
    "print('pred shape:', preds[0].shape)\n",
    "\n",
    "preds = torch.stack(preds).T\n",
    "\n",
    "print('preds shape:', preds.shape)"
   ]
  },
  {
   "cell_type": "code",
   "execution_count": 164,
   "id": "b74e464b-a114-49ec-8444-1647826ae75a",
   "metadata": {},
   "outputs": [
    {
     "data": {
      "text/plain": [
       "(torch.Size([1, 5, 64]), torch.Size([1, 5, 64]))"
      ]
     },
     "execution_count": 164,
     "metadata": {},
     "output_type": "execute_result"
    }
   ],
   "source": [
    "h.shape, c.shape"
   ]
  },
  {
   "cell_type": "code",
   "execution_count": 165,
   "id": "99a07b4b-965f-4bef-8b99-4b489dbd3d49",
   "metadata": {},
   "outputs": [
    {
     "name": "stdout",
     "output_type": "stream",
     "text": [
      "torch.Size([5, 88, 64]) torch.Size([16, 5, 64]) torch.Size([16, 5, 64])\n",
      "fc shape: torch.Size([5, 64])\n",
      "pred shape: torch.Size([3, 5])\n",
      "preds shape: torch.Size([5, 3, 25])\n"
     ]
    }
   ],
   "source": [
    "target_size = 64\n",
    "\n",
    "lstm = nn.LSTM(target_size, target_size, num_layers=16, batch_first=True)\n",
    "fc = nn.Linear(target_size, target_size)\n",
    "classifiers = [nn.Linear(target_size, 3) for i in range(25)]\n",
    "\n",
    "lstm_out, (h, c) = lstm(torch.randn(5,88,64))\n",
    "print(lstm_out.shape, h.shape, c.shape)\n",
    "\n",
    "y = fc(h[-1])\n",
    "print('fc shape:', y.shape)\n",
    "\n",
    "preds = [c(y).T for c in classifiers]\n",
    "print('pred shape:', preds[0].shape)\n",
    "\n",
    "preds = torch.stack(preds).T\n",
    "\n",
    "print('preds shape:', preds.shape)"
   ]
  },
  {
   "cell_type": "code",
   "execution_count": 166,
   "id": "c691ef7e-6337-497b-b54a-96b2b4a2060a",
   "metadata": {},
   "outputs": [
    {
     "data": {
      "text/plain": [
       "(torch.Size([16, 5, 64]), torch.Size([16, 5, 64]))"
      ]
     },
     "execution_count": 166,
     "metadata": {},
     "output_type": "execute_result"
    }
   ],
   "source": [
    "h.shape, c.shape"
   ]
  },
  {
   "cell_type": "code",
   "execution_count": 67,
   "id": "99c77159-95b8-4de0-8299-a51cc681152b",
   "metadata": {},
   "outputs": [
    {
     "name": "stdout",
     "output_type": "stream",
     "text": [
      "torch.Size([5, 88, 64]) torch.Size([1, 5, 64]) torch.Size([1, 5, 64])\n",
      "fc shape: torch.Size([5, 64])\n",
      "preds shape: torch.Size([5, 3, 25])\n",
      "loss: torch.Size([5, 25])\n"
     ]
    }
   ],
   "source": [
    "target_size = 64\n",
    "\n",
    "lstm = nn.LSTM(target_size, target_size, num_layers=1, batch_first=True)\n",
    "fc = nn.Linear(target_size, 75)\n",
    "\n",
    "criterion = torch.nn.CrossEntropyLoss(reduction='none')\n",
    "\n",
    "lstm_out, (h, c) = lstm(torch.randn(5,88,64))\n",
    "print(lstm_out.shape, h.shape, c.shape)\n",
    "\n",
    "pred = fc(h[-1])\n",
    "print('fc shape:', y.shape)\n",
    "\n",
    "pred = pred.view(-1, 3, 25)\n",
    "print('preds shape:', pred.shape)\n",
    "\n",
    "targets = torch.stack(5*[target])\n",
    "loss = criterion(preds, targets)\n",
    "\n",
    "print('loss:', loss.shape)"
   ]
  },
  {
   "cell_type": "code",
   "execution_count": 68,
   "id": "3e2beb31-0c34-4109-a984-8ed5bd1a79a5",
   "metadata": {
    "scrolled": true
   },
   "outputs": [
    {
     "data": {
      "text/plain": [
       "(torch.Size([5, 25]), torch.Size([5, 25]))"
      ]
     },
     "execution_count": 68,
     "metadata": {},
     "output_type": "execute_result"
    }
   ],
   "source": [
    "preds.argmax(dim=1).shape, targets.shape"
   ]
  },
  {
   "cell_type": "code",
   "execution_count": 69,
   "id": "93af39fe-148d-4012-b9ce-783279915afc",
   "metadata": {},
   "outputs": [
    {
     "data": {
      "text/plain": [
       "tensor([[1, 1, 0, 0, 0, 1, 2, 1, 0, 2, 2, 1, 2, 2, 0, 1, 1, 0, 0, 2, 2, 1, 1, 2,\n",
       "         2],\n",
       "        [1, 1, 0, 0, 0, 1, 2, 1, 0, 2, 2, 1, 2, 2, 0, 1, 1, 0, 0, 2, 2, 1, 1, 2,\n",
       "         2],\n",
       "        [1, 1, 0, 0, 0, 1, 2, 1, 0, 2, 2, 1, 2, 2, 0, 1, 1, 0, 0, 2, 2, 1, 1, 2,\n",
       "         2],\n",
       "        [1, 1, 0, 0, 0, 1, 2, 1, 0, 2, 2, 1, 2, 2, 0, 1, 1, 0, 0, 2, 2, 1, 1, 2,\n",
       "         2],\n",
       "        [1, 1, 0, 0, 0, 1, 2, 1, 0, 2, 2, 1, 2, 2, 0, 1, 1, 0, 0, 2, 2, 1, 1, 2,\n",
       "         2]])"
      ]
     },
     "execution_count": 69,
     "metadata": {},
     "output_type": "execute_result"
    }
   ],
   "source": [
    "preds.argmax(dim=1)"
   ]
  },
  {
   "cell_type": "code",
   "execution_count": 70,
   "id": "d92fd1d8-2c37-4492-9a17-e550db4660a4",
   "metadata": {},
   "outputs": [],
   "source": [
    "# preds.max(dim=1)"
   ]
  },
  {
   "cell_type": "code",
   "execution_count": 71,
   "id": "6baadd39-b74d-4cd1-adf1-4af47ee1c0e9",
   "metadata": {},
   "outputs": [
    {
     "data": {
      "text/plain": [
       "(torch.Size([5, 25]), torch.Size([5, 25]))"
      ]
     },
     "execution_count": 71,
     "metadata": {},
     "output_type": "execute_result"
    }
   ],
   "source": [
    "preds.max(dim=1)[1].shape, preds.argmax(1).shape"
   ]
  },
  {
   "cell_type": "code",
   "execution_count": 72,
   "id": "f96b12d5-1e42-4349-86ae-d047f1f9b4b1",
   "metadata": {},
   "outputs": [
    {
     "data": {
      "text/plain": [
       "(torch.Size([5, 3, 25]),\n",
       " torch.Size([5, 3, 25]),\n",
       " torch.Size([5, 3, 25]),\n",
       " torch.Size([5, 3, 25]),\n",
       " torch.Size([5, 25, 3]))"
      ]
     },
     "execution_count": 72,
     "metadata": {},
     "output_type": "execute_result"
    }
   ],
   "source": [
    "zeros = torch.zeros(preds.shape, dtype=preds.dtype)\n",
    "ones = torch.ones(preds.shape, dtype=preds.dtype)\n",
    "\n",
    "max_vals = preds.argmax(1)\n",
    "\n",
    "foo = zeros.scatter(1, max_vals.unsqueeze(1), 1)\n",
    "\n",
    "zeros.shape, ones.shape, foo.shape, preds.shape, foo.swapaxes(1,2).shape"
   ]
  },
  {
   "cell_type": "code",
   "execution_count": 73,
   "id": "7b430abc-7bfe-40ae-8523-e8cc5c8c52b9",
   "metadata": {},
   "outputs": [
    {
     "data": {
      "text/plain": [
       "(torch.Size([5, 3, 25]), torch.Size([5, 25, 3]))"
      ]
     },
     "execution_count": 73,
     "metadata": {},
     "output_type": "execute_result"
    }
   ],
   "source": [
    "a = torch.arange(15*25).reshape(5,3,25)\n",
    "a.shape, a.swapaxes(1,2).shape"
   ]
  },
  {
   "cell_type": "code",
   "execution_count": 74,
   "id": "ec43e777-cc21-4469-b515-0c2631791cee",
   "metadata": {
    "scrolled": true
   },
   "outputs": [
    {
     "data": {
      "text/plain": [
       "torch.Size([5, 25, 3])"
      ]
     },
     "execution_count": 74,
     "metadata": {},
     "output_type": "execute_result"
    }
   ],
   "source": [
    "zeros.scatter(1, targets.unsqueeze(1), 1).swapaxes(1,2).shape"
   ]
  },
  {
   "cell_type": "code",
   "execution_count": 75,
   "id": "9068b2f4-a940-4a3c-a3bc-7ee843f2c4fd",
   "metadata": {
    "scrolled": true
   },
   "outputs": [
    {
     "data": {
      "text/plain": [
       "tensor([1.0000, 1.0000, 1.0000, 0.3333, 0.3333, 1.0000, 0.3333, 1.0000, 1.0000,\n",
       "        0.3333, 0.3333, 1.0000, 0.3333, 0.3333, 0.3333, 1.0000, 1.0000, 0.3333,\n",
       "        0.3333, 0.3333, 0.3333, 0.3333, 0.3333, 0.3333, 0.3333])"
      ]
     },
     "execution_count": 75,
     "metadata": {},
     "output_type": "execute_result"
    }
   ],
   "source": [
    "# acc = tm.functional.classification.multilabel_accuracy(foo, targets, 25, )\n",
    "acc = tm.functional.classification.multilabel_accuracy(foo.swapaxes(1,2), zeros.scatter(1, targets.unsqueeze(1), 1).swapaxes(1,2), 25, average='none')\n",
    "acc"
   ]
  },
  {
   "cell_type": "code",
   "execution_count": 76,
   "id": "5e5a6fca-12a3-44c4-a761-63209005d21e",
   "metadata": {},
   "outputs": [
    {
     "data": {
      "text/plain": [
       "(torch.Size([5, 3, 25]), torch.Size([5, 25]))"
      ]
     },
     "execution_count": 76,
     "metadata": {},
     "output_type": "execute_result"
    }
   ],
   "source": [
    "torch.stack(5*[target])\n",
    "preds.shape, targets.shape"
   ]
  },
  {
   "cell_type": "code",
   "execution_count": 77,
   "id": "7ec53ff7-fdff-4acd-9ed0-e8488d95d081",
   "metadata": {
    "scrolled": true
   },
   "outputs": [
    {
     "data": {
      "text/plain": [
       "(torch.Size([5, 3]),\n",
       " tensor([[0.2500, 0.4667, 0.0000],\n",
       "         [0.2500, 0.4667, 0.0000],\n",
       "         [0.2500, 0.4667, 0.0000],\n",
       "         [0.2500, 0.4667, 0.0000],\n",
       "         [0.2500, 0.4667, 0.0000]]))"
      ]
     },
     "execution_count": 77,
     "metadata": {},
     "output_type": "execute_result"
    }
   ],
   "source": [
    "metric = MulticlassAccuracy(num_classes=CFG.N_LABELS, average='none', multidim_average='samplewise')\n",
    "macc = MulticlassAccuracy(num_classes=CFG.N_LABELS, average='none')\n",
    "\n",
    "m = metric(preds, targets)\n",
    "\n",
    "m.shape, m"
   ]
  },
  {
   "cell_type": "code",
   "execution_count": 78,
   "id": "bf0218fc-bc05-414c-ac00-82cac4149344",
   "metadata": {
    "scrolled": true
   },
   "outputs": [
    {
     "data": {
      "text/plain": [
       "tensor([0.2500, 0.4667, 0.0000])"
      ]
     },
     "execution_count": 78,
     "metadata": {},
     "output_type": "execute_result"
    }
   ],
   "source": [
    "macc(preds, targets)"
   ]
  },
  {
   "cell_type": "code",
   "execution_count": null,
   "id": "1c37e462-8ca2-4c46-9530-57160b597ab7",
   "metadata": {},
   "outputs": [],
   "source": []
  },
  {
   "cell_type": "code",
   "execution_count": null,
   "id": "98cf2603-3e77-472c-8b5b-fc638a442f9e",
   "metadata": {},
   "outputs": [],
   "source": []
  },
  {
   "cell_type": "code",
   "execution_count": null,
   "id": "084503fb-34d9-4231-aa1f-b5527560e07c",
   "metadata": {},
   "outputs": [],
   "source": []
  },
  {
   "cell_type": "markdown",
   "id": "67ba76f4-aafe-4807-9707-368350b43d26",
   "metadata": {},
   "source": [
    "#### Test out inputs/outputs"
   ]
  },
  {
   "cell_type": "code",
   "execution_count": 79,
   "id": "bba393e4-d0a3-4fda-b491-56f86b3616bd",
   "metadata": {},
   "outputs": [],
   "source": [
    "model = LSTMClassifier(CFG)"
   ]
  },
  {
   "cell_type": "code",
   "execution_count": 80,
   "id": "48276704-2df9-4a98-8e4f-e924666dc540",
   "metadata": {
    "scrolled": true
   },
   "outputs": [
    {
     "data": {
      "text/plain": [
       "torch.Size([1, 3, 25])"
      ]
     },
     "execution_count": 80,
     "metadata": {},
     "output_type": "execute_result"
    }
   ],
   "source": [
    "model.forward((seq.view(1, len(seq), -1))).shape"
   ]
  },
  {
   "cell_type": "code",
   "execution_count": 81,
   "id": "9e699999-4750-480a-a27b-d9254f39c277",
   "metadata": {
    "scrolled": true
   },
   "outputs": [
    {
     "name": "stderr",
     "output_type": "stream",
     "text": [
      "C:\\ProgramData\\anaconda3\\envs\\rsna\\lib\\site-packages\\pytorch_lightning\\core\\module.py:445: You are trying to `self.log()` but the `self.trainer` reference is not registered on the model yet. This is most likely because the model hasn't been passed to the `Trainer`\n"
     ]
    },
    {
     "data": {
      "text/plain": [
       "tensor(1.4628, grad_fn=<MeanBackward0>)"
      ]
     },
     "execution_count": 81,
     "metadata": {},
     "output_type": "execute_result"
    }
   ],
   "source": [
    "model.step((seq.view(1, len(seq), -1), target.view(1, len(target))), 0)"
   ]
  },
  {
   "cell_type": "code",
   "execution_count": null,
   "id": "bb003f9c-40c0-45df-b166-18cba071c143",
   "metadata": {},
   "outputs": [],
   "source": []
  },
  {
   "cell_type": "code",
   "execution_count": 82,
   "id": "7d7fbde2-b181-4b23-8539-4450c30dfdbd",
   "metadata": {
    "scrolled": true
   },
   "outputs": [
    {
     "data": {
      "text/plain": [
       "(torch.Size([5, 3, 25]), torch.Size([5, 3, 25]))"
      ]
     },
     "execution_count": 82,
     "metadata": {},
     "output_type": "execute_result"
    }
   ],
   "source": [
    "y = model(torch.randn(5,88,128))\n",
    "\n",
    "y.shape, y.softmax(dim=0).shape"
   ]
  },
  {
   "cell_type": "code",
   "execution_count": 83,
   "id": "7d6c165f-25e1-4603-83bb-4356a0399fba",
   "metadata": {
    "scrolled": true
   },
   "outputs": [
    {
     "data": {
      "text/plain": [
       "torch.Size([5, 3, 25])"
      ]
     },
     "execution_count": 83,
     "metadata": {},
     "output_type": "execute_result"
    }
   ],
   "source": [
    "y.softmax(dim=1).shape"
   ]
  },
  {
   "cell_type": "code",
   "execution_count": 84,
   "id": "02b0bc24-4433-4b0f-afb3-f26e31b3f076",
   "metadata": {},
   "outputs": [],
   "source": [
    "# y.softmax(dim=1).sum(dim=1)"
   ]
  },
  {
   "cell_type": "code",
   "execution_count": 85,
   "id": "858f193e-4ef6-4899-b5a1-17c0ae5657ab",
   "metadata": {},
   "outputs": [],
   "source": [
    "# y[0].softmax(dim=0)"
   ]
  },
  {
   "cell_type": "code",
   "execution_count": null,
   "id": "fa214f73-009e-4a83-b120-31d0cd622fc8",
   "metadata": {},
   "outputs": [],
   "source": []
  },
  {
   "cell_type": "markdown",
   "id": "06555295-3b1b-4a61-a6d0-179d2d706f55",
   "metadata": {},
   "source": [
    "### Split"
   ]
  },
  {
   "cell_type": "code",
   "execution_count": 86,
   "id": "2f5937ac-1d2b-4ff5-9dd1-8e2b20de5588",
   "metadata": {},
   "outputs": [],
   "source": [
    "from sklearn.model_selection import ShuffleSplit, StratifiedShuffleSplit"
   ]
  },
  {
   "cell_type": "code",
   "execution_count": 87,
   "id": "a6d98bbb-fa6a-440c-948a-cec30d0972ec",
   "metadata": {},
   "outputs": [
    {
     "data": {
      "text/plain": [
       "(1975, 26)"
      ]
     },
     "execution_count": 87,
     "metadata": {},
     "output_type": "execute_result"
    }
   ],
   "source": [
    "train_df.shape"
   ]
  },
  {
   "cell_type": "code",
   "execution_count": 88,
   "id": "d7d4bc58-5831-4557-a403-6c81c5e3c2b7",
   "metadata": {},
   "outputs": [
    {
     "data": {
      "text/html": [
       "<div>\n",
       "<style scoped>\n",
       "    .dataframe tbody tr th:only-of-type {\n",
       "        vertical-align: middle;\n",
       "    }\n",
       "\n",
       "    .dataframe tbody tr th {\n",
       "        vertical-align: top;\n",
       "    }\n",
       "\n",
       "    .dataframe thead th {\n",
       "        text-align: right;\n",
       "    }\n",
       "</style>\n",
       "<table border=\"1\" class=\"dataframe\">\n",
       "  <thead>\n",
       "    <tr style=\"text-align: right;\">\n",
       "      <th></th>\n",
       "      <th>study_id</th>\n",
       "      <th>SCSL1L2</th>\n",
       "      <th>SCSL2L3</th>\n",
       "      <th>SCSL3L4</th>\n",
       "      <th>SCSL4L5</th>\n",
       "      <th>SCSL5S1</th>\n",
       "      <th>LNFNL1L2</th>\n",
       "      <th>LNFNL2L3</th>\n",
       "      <th>LNFNL3L4</th>\n",
       "      <th>LNFNL4L5</th>\n",
       "      <th>...</th>\n",
       "      <th>LSSL1L2</th>\n",
       "      <th>LSSL2L3</th>\n",
       "      <th>LSSL3L4</th>\n",
       "      <th>LSSL4L5</th>\n",
       "      <th>LSSL5S1</th>\n",
       "      <th>RSSL1L2</th>\n",
       "      <th>RSSL2L3</th>\n",
       "      <th>RSSL3L4</th>\n",
       "      <th>RSSL4L5</th>\n",
       "      <th>RSSL5S1</th>\n",
       "    </tr>\n",
       "  </thead>\n",
       "  <tbody>\n",
       "    <tr>\n",
       "      <th>125</th>\n",
       "      <td>269259654</td>\n",
       "      <td>1</td>\n",
       "      <td>1</td>\n",
       "      <td>1</td>\n",
       "      <td>1</td>\n",
       "      <td>1</td>\n",
       "      <td>1</td>\n",
       "      <td>1</td>\n",
       "      <td>1</td>\n",
       "      <td>1</td>\n",
       "      <td>...</td>\n",
       "      <td>1</td>\n",
       "      <td>1</td>\n",
       "      <td>1</td>\n",
       "      <td>1</td>\n",
       "      <td>1</td>\n",
       "      <td>1</td>\n",
       "      <td>1</td>\n",
       "      <td>1</td>\n",
       "      <td>1</td>\n",
       "      <td>1</td>\n",
       "    </tr>\n",
       "    <tr>\n",
       "      <th>1928</th>\n",
       "      <td>4179331034</td>\n",
       "      <td>1</td>\n",
       "      <td>1</td>\n",
       "      <td>1</td>\n",
       "      <td>1</td>\n",
       "      <td>1</td>\n",
       "      <td>1</td>\n",
       "      <td>1</td>\n",
       "      <td>1</td>\n",
       "      <td>1</td>\n",
       "      <td>...</td>\n",
       "      <td>1</td>\n",
       "      <td>1</td>\n",
       "      <td>1</td>\n",
       "      <td>2</td>\n",
       "      <td>1</td>\n",
       "      <td>1</td>\n",
       "      <td>1</td>\n",
       "      <td>1</td>\n",
       "      <td>0</td>\n",
       "      <td>1</td>\n",
       "    </tr>\n",
       "  </tbody>\n",
       "</table>\n",
       "<p>2 rows × 26 columns</p>\n",
       "</div>"
      ],
      "text/plain": [
       "        study_id SCSL1L2 SCSL2L3 SCSL3L4 SCSL4L5 SCSL5S1 LNFNL1L2 LNFNL2L3  \\\n",
       "125    269259654       1       1       1       1       1        1        1   \n",
       "1928  4179331034       1       1       1       1       1        1        1   \n",
       "\n",
       "     LNFNL3L4 LNFNL4L5  ... LSSL1L2 LSSL2L3 LSSL3L4 LSSL4L5 LSSL5S1 RSSL1L2  \\\n",
       "125         1        1  ...       1       1       1       1       1       1   \n",
       "1928        1        1  ...       1       1       1       2       1       1   \n",
       "\n",
       "     RSSL2L3 RSSL3L4 RSSL4L5 RSSL5S1  \n",
       "125        1       1       1       1  \n",
       "1928       1       1       0       1  \n",
       "\n",
       "[2 rows x 26 columns]"
      ]
     },
     "execution_count": 88,
     "metadata": {},
     "output_type": "execute_result"
    }
   ],
   "source": [
    "train_df.sample(2)"
   ]
  },
  {
   "cell_type": "code",
   "execution_count": 89,
   "id": "77f89972-e3bd-4235-81d5-527935b2dc35",
   "metadata": {
    "scrolled": true
   },
   "outputs": [
    {
     "data": {
      "text/plain": [
       "(1975, 25)"
      ]
     },
     "execution_count": 89,
     "metadata": {},
     "output_type": "execute_result"
    }
   ],
   "source": [
    "train_df.iloc[:,1:].shape"
   ]
  },
  {
   "cell_type": "code",
   "execution_count": 90,
   "id": "39f279b0-f8fd-464a-95e8-e2c9944884af",
   "metadata": {},
   "outputs": [],
   "source": [
    "# TODO: data split"
   ]
  },
  {
   "cell_type": "code",
   "execution_count": 91,
   "id": "7750c5c4-6a84-40ee-b721-382ce61ecab5",
   "metadata": {
    "scrolled": true
   },
   "outputs": [],
   "source": [
    "# sss = StratifiedShuffleSplit(n_splits=1, test_size=1-CFG.split_fraction, random_state=CFG.random_seed)\n",
    "# train_idx, val_idx = next(sss.split(train_df.study_id, train_df.iloc[:,1:]))\n",
    "\n",
    "# t_df = train_df.iloc[train_idx]\n",
    "# v_df = train_df.iloc[val_idx]\n",
    "\n",
    "# t_df.shape, v_df.shape"
   ]
  },
  {
   "cell_type": "code",
   "execution_count": null,
   "id": "6f770220-1030-4eba-a795-0f7a64897cd8",
   "metadata": {},
   "outputs": [],
   "source": []
  },
  {
   "cell_type": "markdown",
   "id": "b65639fe-3d08-4648-b43b-182e115e3f31",
   "metadata": {},
   "source": [
    "### Train"
   ]
  },
  {
   "cell_type": "code",
   "execution_count": 92,
   "id": "1d962eff-eb52-4dae-b719-3c946820dd14",
   "metadata": {},
   "outputs": [
    {
     "data": {
      "text/plain": [
       "(16, 'cuda')"
      ]
     },
     "execution_count": 92,
     "metadata": {},
     "output_type": "execute_result"
    }
   ],
   "source": [
    "CFG.BATCH_SIZE, CFG.device"
   ]
  },
  {
   "cell_type": "code",
   "execution_count": 93,
   "id": "f2f3620f-5353-48b3-9168-eb12be450d96",
   "metadata": {},
   "outputs": [
    {
     "data": {
      "text/html": [
       "<div>\n",
       "<style scoped>\n",
       "    .dataframe tbody tr th:only-of-type {\n",
       "        vertical-align: middle;\n",
       "    }\n",
       "\n",
       "    .dataframe tbody tr th {\n",
       "        vertical-align: top;\n",
       "    }\n",
       "\n",
       "    .dataframe thead th {\n",
       "        text-align: right;\n",
       "    }\n",
       "</style>\n",
       "<table border=\"1\" class=\"dataframe\">\n",
       "  <thead>\n",
       "    <tr style=\"text-align: right;\">\n",
       "      <th></th>\n",
       "      <th>study_id</th>\n",
       "      <th>series_id</th>\n",
       "      <th>series_description</th>\n",
       "      <th>ss_id</th>\n",
       "    </tr>\n",
       "  </thead>\n",
       "  <tbody>\n",
       "    <tr>\n",
       "      <th>0</th>\n",
       "      <td>4003253</td>\n",
       "      <td>702807833</td>\n",
       "      <td>Sagittal T2/STIR</td>\n",
       "      <td>4003253_702807833</td>\n",
       "    </tr>\n",
       "    <tr>\n",
       "      <th>1</th>\n",
       "      <td>4003253</td>\n",
       "      <td>1054713880</td>\n",
       "      <td>Sagittal T1</td>\n",
       "      <td>4003253_1054713880</td>\n",
       "    </tr>\n",
       "    <tr>\n",
       "      <th>2</th>\n",
       "      <td>4003253</td>\n",
       "      <td>2448190387</td>\n",
       "      <td>Axial T2</td>\n",
       "      <td>4003253_2448190387</td>\n",
       "    </tr>\n",
       "    <tr>\n",
       "      <th>3</th>\n",
       "      <td>4646740</td>\n",
       "      <td>3201256954</td>\n",
       "      <td>Axial T2</td>\n",
       "      <td>4646740_3201256954</td>\n",
       "    </tr>\n",
       "    <tr>\n",
       "      <th>4</th>\n",
       "      <td>4646740</td>\n",
       "      <td>3486248476</td>\n",
       "      <td>Sagittal T1</td>\n",
       "      <td>4646740_3486248476</td>\n",
       "    </tr>\n",
       "  </tbody>\n",
       "</table>\n",
       "</div>"
      ],
      "text/plain": [
       "   study_id   series_id series_description               ss_id\n",
       "0   4003253   702807833   Sagittal T2/STIR   4003253_702807833\n",
       "1   4003253  1054713880        Sagittal T1  4003253_1054713880\n",
       "2   4003253  2448190387           Axial T2  4003253_2448190387\n",
       "3   4646740  3201256954           Axial T2  4646740_3201256954\n",
       "4   4646740  3486248476        Sagittal T1  4646740_3486248476"
      ]
     },
     "execution_count": 93,
     "metadata": {},
     "output_type": "execute_result"
    }
   ],
   "source": [
    "train_desc_df.head()"
   ]
  },
  {
   "cell_type": "code",
   "execution_count": 94,
   "id": "18833b22-37b8-41c1-a26d-5e3d562af2fa",
   "metadata": {},
   "outputs": [
    {
     "data": {
      "text/plain": [
       "(118, 7)"
      ]
     },
     "execution_count": 94,
     "metadata": {},
     "output_type": "execute_result"
    }
   ],
   "source": [
    "# dm = lstm_datamodule(t_df, v_df, train_desc_df, cfg=CFG)\n",
    "dm = lstm_datamodule(t_df, v_df, preds_df, cfg=CFG)\n",
    "\n",
    "len(dm.train_dataloader()), len(dm.val_dataloader())"
   ]
  },
  {
   "cell_type": "code",
   "execution_count": 95,
   "id": "75533bc2-e183-4eb4-8af7-7932265d3d68",
   "metadata": {},
   "outputs": [
    {
     "data": {
      "text/plain": [
       "'lstm 5e-05 30 eps 8l-undersample_healthy'"
      ]
     },
     "execution_count": 95,
     "metadata": {},
     "output_type": "execute_result"
    }
   ],
   "source": [
    "run_name = f'{CFG.model_name} {CFG.LEARNING_RATE} {CFG.N_EPOCHS} eps {CFG.num_layers}l-{CFG.comment}'\n",
    "run_name"
   ]
  },
  {
   "cell_type": "code",
   "execution_count": 96,
   "id": "200899c1-1c35-4fcb-b66f-e52174f290d2",
   "metadata": {},
   "outputs": [],
   "source": [
    "wandb_logger = WandbLogger(\n",
    "    name=run_name,\n",
    "    project=CFG.project,\n",
    "    job_type='train',\n",
    "    save_dir=CFG.RESULTS_DIR,\n",
    "    # config=cfg,\n",
    ")\n",
    "\n",
    "loss_ckpt = pl.callbacks.ModelCheckpoint(\n",
    "    monitor='val/loss',\n",
    "    auto_insert_metric_name=False,\n",
    "    dirpath=CFG.CKPT_DIR / run_name,\n",
    "    filename='ep_{epoch:02d}_loss_{val/loss:.5f}',\n",
    "    save_top_k=2,\n",
    "    mode='min',\n",
    ")\n",
    "\n",
    "# acc_ckpt = pl.callbacks.ModelCheckpoint(\n",
    "#     monitor='val/acc',\n",
    "#     auto_insert_metric_name=False,\n",
    "#     dirpath=CFG.CKPT_DIR / run_name,\n",
    "#     filename='ep_{epoch:02d}_acc_{val/acc:.5f}',\n",
    "#     save_top_k=2,\n",
    "#     mode='max',\n",
    "# )\n",
    "\n",
    "lr_monitor = LearningRateMonitor(logging_interval='step')"
   ]
  },
  {
   "cell_type": "code",
   "execution_count": 97,
   "id": "cf6a4bab-5d8e-4503-8036-00219a58f9a8",
   "metadata": {},
   "outputs": [
    {
     "name": "stderr",
     "output_type": "stream",
     "text": [
      "GPU available: True (cuda), used: True\n",
      "TPU available: False, using: 0 TPU cores\n",
      "HPU available: False, using: 0 HPUs\n"
     ]
    }
   ],
   "source": [
    "trainer = pl.Trainer(\n",
    "    max_epochs=CFG.N_EPOCHS,\n",
    "    deterministic=True,\n",
    "    accelerator=CFG.device,\n",
    "    default_root_dir=CFG.RESULTS_DIR,\n",
    "    gradient_clip_val=0.5, \n",
    "    # gradient_clip_algorithm=\"value\",\n",
    "    logger=wandb_logger,\n",
    "    callbacks=[loss_ckpt, lr_monitor],\n",
    ")"
   ]
  },
  {
   "cell_type": "code",
   "execution_count": null,
   "id": "9c520684-2f98-469a-abc4-116f75369345",
   "metadata": {},
   "outputs": [],
   "source": []
  },
  {
   "cell_type": "markdown",
   "id": "98838e46-7969-4fc8-a225-3d8e67298b51",
   "metadata": {},
   "source": [
    "#### Fit"
   ]
  },
  {
   "cell_type": "code",
   "execution_count": 98,
   "id": "f1a703ce-c59f-4f56-9342-36afb66ed369",
   "metadata": {},
   "outputs": [],
   "source": [
    "model = LSTMClassifier(CFG)"
   ]
  },
  {
   "cell_type": "code",
   "execution_count": 99,
   "id": "c5e8c0b8-46f7-4519-9f74-5f672c9f6d27",
   "metadata": {},
   "outputs": [
    {
     "name": "stderr",
     "output_type": "stream",
     "text": [
      "You are using a CUDA device ('NVIDIA GeForce RTX 4090 Laptop GPU') that has Tensor Cores. To properly utilize them, you should set `torch.set_float32_matmul_precision('medium' | 'high')` which will trade-off precision for performance. For more details, read https://pytorch.org/docs/stable/generated/torch.set_float32_matmul_precision.html#torch.set_float32_matmul_precision\n"
     ]
    },
    {
     "data": {
      "application/vnd.jupyter.widget-view+json": {
       "model_id": "4fca814ea16847488c8ce00aebcbc8cf",
       "version_major": 2,
       "version_minor": 0
      },
      "text/plain": [
       "VBox(children=(Label(value='Waiting for wandb.init()...\\r'), FloatProgress(value=0.01127777777777131, max=1.0)…"
      ]
     },
     "metadata": {},
     "output_type": "display_data"
    },
    {
     "data": {
      "text/html": [
       "wandb version 0.18.1 is available!  To upgrade, please run:\n",
       " $ pip install wandb --upgrade"
      ],
      "text/plain": [
       "<IPython.core.display.HTML object>"
      ]
     },
     "metadata": {},
     "output_type": "display_data"
    },
    {
     "data": {
      "text/html": [
       "Tracking run with wandb version 0.16.6"
      ],
      "text/plain": [
       "<IPython.core.display.HTML object>"
      ]
     },
     "metadata": {},
     "output_type": "display_data"
    },
    {
     "data": {
      "text/html": [
       "Run data is saved locally in <code>E:\\data\\RSNA2024\\results\\wandb\\run-20240924_182944-lafduekd</code>"
      ],
      "text/plain": [
       "<IPython.core.display.HTML object>"
      ]
     },
     "metadata": {},
     "output_type": "display_data"
    },
    {
     "data": {
      "text/html": [
       "Syncing run <strong><a href='https://wandb.ai/rosu-lucian/lstm_new/runs/lafduekd' target=\"_blank\">lstm 5e-05 30 eps 8l-undersample_healthy</a></strong> to <a href='https://wandb.ai/rosu-lucian/lstm_new' target=\"_blank\">Weights & Biases</a> (<a href='https://wandb.me/run' target=\"_blank\">docs</a>)<br/>"
      ],
      "text/plain": [
       "<IPython.core.display.HTML object>"
      ]
     },
     "metadata": {},
     "output_type": "display_data"
    },
    {
     "data": {
      "text/html": [
       " View project at <a href='https://wandb.ai/rosu-lucian/lstm_new' target=\"_blank\">https://wandb.ai/rosu-lucian/lstm_new</a>"
      ],
      "text/plain": [
       "<IPython.core.display.HTML object>"
      ]
     },
     "metadata": {},
     "output_type": "display_data"
    },
    {
     "data": {
      "text/html": [
       " View run at <a href='https://wandb.ai/rosu-lucian/lstm_new/runs/lafduekd' target=\"_blank\">https://wandb.ai/rosu-lucian/lstm_new/runs/lafduekd</a>"
      ],
      "text/plain": [
       "<IPython.core.display.HTML object>"
      ]
     },
     "metadata": {},
     "output_type": "display_data"
    },
    {
     "name": "stderr",
     "output_type": "stream",
     "text": [
      "C:\\ProgramData\\anaconda3\\envs\\rsna\\lib\\site-packages\\pytorch_lightning\\callbacks\\model_checkpoint.py:654: Checkpoint directory E:\\data\\RSNA2024\\results\\ckpt\\lstm 5e-05 30 eps 8l-undersample_healthy exists and is not empty.\n",
      "LOCAL_RANK: 0 - CUDA_VISIBLE_DEVICES: [0]\n",
      "\n",
      "  | Name          | Type             | Params | Mode \n",
      "-----------------------------------------------------------\n",
      "0 | criterion     | CrossEntropyLoss | 0      | train\n",
      "1 | lstm          | LSTM             | 1.1 M  | train\n",
      "2 | fc            | Linear           | 9.7 K  | train\n",
      "3 | train_metrics | MetricCollection | 0      | train\n",
      "4 | valid_metrics | MetricCollection | 0      | train\n",
      "-----------------------------------------------------------\n",
      "1.1 M     Trainable params\n",
      "0         Non-trainable params\n",
      "1.1 M     Total params\n",
      "4.266     Total estimated model params size (MB)\n",
      "17        Modules in train mode\n",
      "0         Modules in eval mode\n"
     ]
    },
    {
     "data": {
      "application/vnd.jupyter.widget-view+json": {
       "model_id": "",
       "version_major": 2,
       "version_minor": 0
      },
      "text/plain": [
       "Sanity Checking: |                                                                        | 0/? [00:00<?, ?it/…"
      ]
     },
     "metadata": {},
     "output_type": "display_data"
    },
    {
     "data": {
      "application/vnd.jupyter.widget-view+json": {
       "model_id": "468eb652ddcb4e7ea9b41994785e1a64",
       "version_major": 2,
       "version_minor": 0
      },
      "text/plain": [
       "Training: |                                                                               | 0/? [00:00<?, ?it/…"
      ]
     },
     "metadata": {},
     "output_type": "display_data"
    },
    {
     "data": {
      "application/vnd.jupyter.widget-view+json": {
       "model_id": "",
       "version_major": 2,
       "version_minor": 0
      },
      "text/plain": [
       "Validation: |                                                                             | 0/? [00:00<?, ?it/…"
      ]
     },
     "metadata": {},
     "output_type": "display_data"
    },
    {
     "name": "stderr",
     "output_type": "stream",
     "text": [
      "C:\\ProgramData\\anaconda3\\envs\\rsna\\lib\\site-packages\\torchmetrics\\utilities\\prints.py:43: UserWarning: The ``compute`` method of metric MulticlassAccuracy was called before the ``update`` method which may lead to errors, as metric states have not yet been updated.\n",
      "  warnings.warn(*args, **kwargs)  # noqa: B028\n"
     ]
    },
    {
     "data": {
      "application/vnd.jupyter.widget-view+json": {
       "model_id": "",
       "version_major": 2,
       "version_minor": 0
      },
      "text/plain": [
       "Validation: |                                                                             | 0/? [00:00<?, ?it/…"
      ]
     },
     "metadata": {},
     "output_type": "display_data"
    },
    {
     "data": {
      "application/vnd.jupyter.widget-view+json": {
       "model_id": "",
       "version_major": 2,
       "version_minor": 0
      },
      "text/plain": [
       "Validation: |                                                                             | 0/? [00:00<?, ?it/…"
      ]
     },
     "metadata": {},
     "output_type": "display_data"
    },
    {
     "data": {
      "application/vnd.jupyter.widget-view+json": {
       "model_id": "",
       "version_major": 2,
       "version_minor": 0
      },
      "text/plain": [
       "Validation: |                                                                             | 0/? [00:00<?, ?it/…"
      ]
     },
     "metadata": {},
     "output_type": "display_data"
    },
    {
     "data": {
      "application/vnd.jupyter.widget-view+json": {
       "model_id": "",
       "version_major": 2,
       "version_minor": 0
      },
      "text/plain": [
       "Validation: |                                                                             | 0/? [00:00<?, ?it/…"
      ]
     },
     "metadata": {},
     "output_type": "display_data"
    },
    {
     "data": {
      "application/vnd.jupyter.widget-view+json": {
       "model_id": "",
       "version_major": 2,
       "version_minor": 0
      },
      "text/plain": [
       "Validation: |                                                                             | 0/? [00:00<?, ?it/…"
      ]
     },
     "metadata": {},
     "output_type": "display_data"
    },
    {
     "data": {
      "application/vnd.jupyter.widget-view+json": {
       "model_id": "",
       "version_major": 2,
       "version_minor": 0
      },
      "text/plain": [
       "Validation: |                                                                             | 0/? [00:00<?, ?it/…"
      ]
     },
     "metadata": {},
     "output_type": "display_data"
    },
    {
     "data": {
      "application/vnd.jupyter.widget-view+json": {
       "model_id": "",
       "version_major": 2,
       "version_minor": 0
      },
      "text/plain": [
       "Validation: |                                                                             | 0/? [00:00<?, ?it/…"
      ]
     },
     "metadata": {},
     "output_type": "display_data"
    },
    {
     "data": {
      "application/vnd.jupyter.widget-view+json": {
       "model_id": "",
       "version_major": 2,
       "version_minor": 0
      },
      "text/plain": [
       "Validation: |                                                                             | 0/? [00:00<?, ?it/…"
      ]
     },
     "metadata": {},
     "output_type": "display_data"
    },
    {
     "data": {
      "application/vnd.jupyter.widget-view+json": {
       "model_id": "",
       "version_major": 2,
       "version_minor": 0
      },
      "text/plain": [
       "Validation: |                                                                             | 0/? [00:00<?, ?it/…"
      ]
     },
     "metadata": {},
     "output_type": "display_data"
    },
    {
     "data": {
      "application/vnd.jupyter.widget-view+json": {
       "model_id": "",
       "version_major": 2,
       "version_minor": 0
      },
      "text/plain": [
       "Validation: |                                                                             | 0/? [00:00<?, ?it/…"
      ]
     },
     "metadata": {},
     "output_type": "display_data"
    },
    {
     "data": {
      "application/vnd.jupyter.widget-view+json": {
       "model_id": "",
       "version_major": 2,
       "version_minor": 0
      },
      "text/plain": [
       "Validation: |                                                                             | 0/? [00:00<?, ?it/…"
      ]
     },
     "metadata": {},
     "output_type": "display_data"
    },
    {
     "data": {
      "application/vnd.jupyter.widget-view+json": {
       "model_id": "",
       "version_major": 2,
       "version_minor": 0
      },
      "text/plain": [
       "Validation: |                                                                             | 0/? [00:00<?, ?it/…"
      ]
     },
     "metadata": {},
     "output_type": "display_data"
    },
    {
     "data": {
      "application/vnd.jupyter.widget-view+json": {
       "model_id": "",
       "version_major": 2,
       "version_minor": 0
      },
      "text/plain": [
       "Validation: |                                                                             | 0/? [00:00<?, ?it/…"
      ]
     },
     "metadata": {},
     "output_type": "display_data"
    },
    {
     "data": {
      "application/vnd.jupyter.widget-view+json": {
       "model_id": "",
       "version_major": 2,
       "version_minor": 0
      },
      "text/plain": [
       "Validation: |                                                                             | 0/? [00:00<?, ?it/…"
      ]
     },
     "metadata": {},
     "output_type": "display_data"
    },
    {
     "data": {
      "application/vnd.jupyter.widget-view+json": {
       "model_id": "",
       "version_major": 2,
       "version_minor": 0
      },
      "text/plain": [
       "Validation: |                                                                             | 0/? [00:00<?, ?it/…"
      ]
     },
     "metadata": {},
     "output_type": "display_data"
    },
    {
     "data": {
      "application/vnd.jupyter.widget-view+json": {
       "model_id": "",
       "version_major": 2,
       "version_minor": 0
      },
      "text/plain": [
       "Validation: |                                                                             | 0/? [00:00<?, ?it/…"
      ]
     },
     "metadata": {},
     "output_type": "display_data"
    },
    {
     "data": {
      "application/vnd.jupyter.widget-view+json": {
       "model_id": "",
       "version_major": 2,
       "version_minor": 0
      },
      "text/plain": [
       "Validation: |                                                                             | 0/? [00:00<?, ?it/…"
      ]
     },
     "metadata": {},
     "output_type": "display_data"
    },
    {
     "data": {
      "application/vnd.jupyter.widget-view+json": {
       "model_id": "",
       "version_major": 2,
       "version_minor": 0
      },
      "text/plain": [
       "Validation: |                                                                             | 0/? [00:00<?, ?it/…"
      ]
     },
     "metadata": {},
     "output_type": "display_data"
    },
    {
     "data": {
      "application/vnd.jupyter.widget-view+json": {
       "model_id": "",
       "version_major": 2,
       "version_minor": 0
      },
      "text/plain": [
       "Validation: |                                                                             | 0/? [00:00<?, ?it/…"
      ]
     },
     "metadata": {},
     "output_type": "display_data"
    },
    {
     "data": {
      "application/vnd.jupyter.widget-view+json": {
       "model_id": "",
       "version_major": 2,
       "version_minor": 0
      },
      "text/plain": [
       "Validation: |                                                                             | 0/? [00:00<?, ?it/…"
      ]
     },
     "metadata": {},
     "output_type": "display_data"
    },
    {
     "data": {
      "application/vnd.jupyter.widget-view+json": {
       "model_id": "",
       "version_major": 2,
       "version_minor": 0
      },
      "text/plain": [
       "Validation: |                                                                             | 0/? [00:00<?, ?it/…"
      ]
     },
     "metadata": {},
     "output_type": "display_data"
    },
    {
     "data": {
      "application/vnd.jupyter.widget-view+json": {
       "model_id": "",
       "version_major": 2,
       "version_minor": 0
      },
      "text/plain": [
       "Validation: |                                                                             | 0/? [00:00<?, ?it/…"
      ]
     },
     "metadata": {},
     "output_type": "display_data"
    },
    {
     "data": {
      "application/vnd.jupyter.widget-view+json": {
       "model_id": "",
       "version_major": 2,
       "version_minor": 0
      },
      "text/plain": [
       "Validation: |                                                                             | 0/? [00:00<?, ?it/…"
      ]
     },
     "metadata": {},
     "output_type": "display_data"
    },
    {
     "data": {
      "application/vnd.jupyter.widget-view+json": {
       "model_id": "",
       "version_major": 2,
       "version_minor": 0
      },
      "text/plain": [
       "Validation: |                                                                             | 0/? [00:00<?, ?it/…"
      ]
     },
     "metadata": {},
     "output_type": "display_data"
    },
    {
     "data": {
      "application/vnd.jupyter.widget-view+json": {
       "model_id": "",
       "version_major": 2,
       "version_minor": 0
      },
      "text/plain": [
       "Validation: |                                                                             | 0/? [00:00<?, ?it/…"
      ]
     },
     "metadata": {},
     "output_type": "display_data"
    },
    {
     "data": {
      "application/vnd.jupyter.widget-view+json": {
       "model_id": "",
       "version_major": 2,
       "version_minor": 0
      },
      "text/plain": [
       "Validation: |                                                                             | 0/? [00:00<?, ?it/…"
      ]
     },
     "metadata": {},
     "output_type": "display_data"
    },
    {
     "data": {
      "application/vnd.jupyter.widget-view+json": {
       "model_id": "",
       "version_major": 2,
       "version_minor": 0
      },
      "text/plain": [
       "Validation: |                                                                             | 0/? [00:00<?, ?it/…"
      ]
     },
     "metadata": {},
     "output_type": "display_data"
    },
    {
     "data": {
      "application/vnd.jupyter.widget-view+json": {
       "model_id": "",
       "version_major": 2,
       "version_minor": 0
      },
      "text/plain": [
       "Validation: |                                                                             | 0/? [00:00<?, ?it/…"
      ]
     },
     "metadata": {},
     "output_type": "display_data"
    },
    {
     "data": {
      "application/vnd.jupyter.widget-view+json": {
       "model_id": "",
       "version_major": 2,
       "version_minor": 0
      },
      "text/plain": [
       "Validation: |                                                                             | 0/? [00:00<?, ?it/…"
      ]
     },
     "metadata": {},
     "output_type": "display_data"
    },
    {
     "name": "stderr",
     "output_type": "stream",
     "text": [
      "`Trainer.fit` stopped: `max_epochs=30` reached.\n"
     ]
    }
   ],
   "source": [
    "trainer.fit(model, dm)"
   ]
  },
  {
   "cell_type": "code",
   "execution_count": null,
   "id": "962b2107-d108-4f86-bae4-09256dc3e6a9",
   "metadata": {},
   "outputs": [],
   "source": []
  },
  {
   "cell_type": "code",
   "execution_count": null,
   "id": "8922e480-d113-477c-86ab-78d9bc42f0e1",
   "metadata": {},
   "outputs": [],
   "source": []
  },
  {
   "cell_type": "markdown",
   "id": "1839bb19-eaf7-4648-86e1-fe33bc5a788d",
   "metadata": {},
   "source": [
    "### Predict"
   ]
  },
  {
   "cell_type": "code",
   "execution_count": 100,
   "id": "eb2b820b-7acb-43c2-85c0-2b84f5250a31",
   "metadata": {},
   "outputs": [
    {
     "data": {
      "text/plain": [
       "(torch.Size([16, 76, 128]), torch.Size([16, 25]))"
      ]
     },
     "execution_count": 100,
     "metadata": {},
     "output_type": "execute_result"
    }
   ],
   "source": [
    "x, y = next(iter(dm.train_dataloader()))\n",
    "\n",
    "x.shape, y.shape"
   ]
  },
  {
   "cell_type": "code",
   "execution_count": 102,
   "id": "059b5cd4-8f29-49fd-9725-50a2e0f045aa",
   "metadata": {},
   "outputs": [
    {
     "data": {
      "text/plain": [
       "torch.Size([16, 3, 25])"
      ]
     },
     "execution_count": 102,
     "metadata": {},
     "output_type": "execute_result"
    }
   ],
   "source": [
    "# pred = model(x.to(CFG.device)).detach().cpu()\n",
    "pred = model(x).detach().cpu()\n",
    "pred.shape"
   ]
  },
  {
   "cell_type": "code",
   "execution_count": 116,
   "id": "dd3c2a05-55c4-47c0-aefa-780ea8f525e0",
   "metadata": {
    "scrolled": true
   },
   "outputs": [
    {
     "data": {
      "text/plain": [
       "tensor([[1, 1, 1, 1, 1, 1, 1, 1, 1, 0, 1, 1, 1, 1, 1, 1, 1, 1, 1, 1, 1, 1, 1, 1,\n",
       "         1],\n",
       "        [1, 1, 1, 1, 1, 1, 1, 1, 1, 0, 1, 1, 1, 1, 1, 1, 1, 1, 1, 0, 1, 1, 1, 1,\n",
       "         0],\n",
       "        [1, 1, 1, 1, 1, 1, 1, 1, 0, 0, 1, 1, 0, 1, 1, 1, 0, 0, 0, 1, 1, 1, 0, 0,\n",
       "         1]])"
      ]
     },
     "execution_count": 116,
     "metadata": {},
     "output_type": "execute_result"
    }
   ],
   "source": [
    "torch.where(y==1, 1, 0)[:3]"
   ]
  },
  {
   "cell_type": "code",
   "execution_count": 103,
   "id": "c8c919cb-d120-4ced-9de6-7533e9a3aa71",
   "metadata": {
    "scrolled": true
   },
   "outputs": [
    {
     "data": {
      "text/plain": [
       "tensor([[1, 1, 1, 1, 1, 1, 1, 1, 1, 0, 1, 1, 1, 1, 1, 1, 1, 1, 1, 1, 1, 1, 1, 1,\n",
       "         1],\n",
       "        [1, 1, 1, 1, 1, 1, 1, 1, 1, 0, 1, 1, 1, 1, 1, 1, 1, 1, 1, 2, 1, 1, 1, 1,\n",
       "         0],\n",
       "        [1, 1, 1, 1, 1, 1, 1, 1, 0, 0, 1, 1, 0, 1, 1, 1, 0, 0, 0, 1, 1, 1, 2, 0,\n",
       "         1],\n",
       "        [1, 1, 1, 1, 1, 1, 1, 1, 1, 1, 1, 1, 1, 1, 1, 1, 1, 1, 1, 1, 1, 1, 1, 1,\n",
       "         1],\n",
       "        [1, 1, 1, 1, 1, 1, 1, 1, 1, 1, 1, 1, 1, 1, 1, 1, 1, 1, 1, 1, 1, 1, 1, 1,\n",
       "         1],\n",
       "        [1, 2, 2, 0, 1, 1, 2, 1, 0, 2, 1, 0, 0, 0, 0, 1, 0, 2, 0, 1, 0, 2, 2, 0,\n",
       "         1],\n",
       "        [1, 1, 1, 1, 1, 1, 1, 1, 1, 1, 1, 1, 1, 1, 1, 1, 1, 1, 1, 1, 1, 1, 1, 1,\n",
       "         1],\n",
       "        [1, 0, 2, 2, 1, 1, 1, 1, 0, 2, 1, 0, 0, 2, 0, 1, 2, 2, 2, 2, 1, 0, 2, 2,\n",
       "         0],\n",
       "        [1, 1, 1, 1, 1, 1, 1, 1, 1, 1, 1, 1, 1, 1, 1, 1, 1, 1, 0, 0, 1, 1, 1, 0,\n",
       "         0],\n",
       "        [1, 1, 1, 1, 1, 1, 1, 1, 1, 1, 1, 1, 1, 1, 1, 1, 1, 1, 1, 1, 1, 1, 1, 1,\n",
       "         1],\n",
       "        [1, 1, 1, 1, 1, 1, 0, 0, 2, 1, 1, 1, 0, 2, 0, 1, 1, 1, 0, 1, 1, 1, 0, 0,\n",
       "         1],\n",
       "        [1, 1, 1, 1, 1, 1, 1, 0, 1, 1, 1, 1, 1, 1, 1, 1, 1, 0, 0, 1, 1, 1, 0, 0,\n",
       "         1],\n",
       "        [1, 1, 1, 1, 1, 1, 1, 1, 0, 1, 1, 1, 0, 0, 0, 1, 1, 1, 1, 1, 1, 1, 1, 1,\n",
       "         0],\n",
       "        [1, 1, 1, 1, 1, 1, 1, 1, 1, 0, 1, 1, 1, 1, 1, 1, 1, 0, 0, 1, 1, 1, 0, 2,\n",
       "         0],\n",
       "        [2, 1, 1, 2, 1, 1, 0, 0, 0, 2, 0, 1, 0, 2, 2, 2, 2, 0, 2, 2, 0, 1, 0, 2,\n",
       "         0],\n",
       "        [1, 1, 1, 1, 1, 1, 1, 1, 1, 1, 1, 1, 1, 1, 1, 1, 1, 1, 1, 1, 1, 1, 1, 1,\n",
       "         1]])"
      ]
     },
     "execution_count": 103,
     "metadata": {},
     "output_type": "execute_result"
    }
   ],
   "source": [
    "y"
   ]
  },
  {
   "cell_type": "code",
   "execution_count": 104,
   "id": "943260a9-f753-400b-93eb-bbe70dd19d75",
   "metadata": {},
   "outputs": [
    {
     "data": {
      "text/html": [
       "<div>\n",
       "<style scoped>\n",
       "    .dataframe tbody tr th:only-of-type {\n",
       "        vertical-align: middle;\n",
       "    }\n",
       "\n",
       "    .dataframe tbody tr th {\n",
       "        vertical-align: top;\n",
       "    }\n",
       "\n",
       "    .dataframe thead th {\n",
       "        text-align: right;\n",
       "    }\n",
       "</style>\n",
       "<table border=\"1\" class=\"dataframe\">\n",
       "  <thead>\n",
       "    <tr style=\"text-align: right;\">\n",
       "      <th></th>\n",
       "      <th>study_id</th>\n",
       "      <th>SCSL1L2</th>\n",
       "      <th>SCSL2L3</th>\n",
       "      <th>SCSL3L4</th>\n",
       "      <th>SCSL4L5</th>\n",
       "      <th>SCSL5S1</th>\n",
       "      <th>LNFNL1L2</th>\n",
       "      <th>LNFNL2L3</th>\n",
       "      <th>LNFNL3L4</th>\n",
       "      <th>LNFNL4L5</th>\n",
       "      <th>...</th>\n",
       "      <th>LSSL1L2</th>\n",
       "      <th>LSSL2L3</th>\n",
       "      <th>LSSL3L4</th>\n",
       "      <th>LSSL4L5</th>\n",
       "      <th>LSSL5S1</th>\n",
       "      <th>RSSL1L2</th>\n",
       "      <th>RSSL2L3</th>\n",
       "      <th>RSSL3L4</th>\n",
       "      <th>RSSL4L5</th>\n",
       "      <th>RSSL5S1</th>\n",
       "    </tr>\n",
       "  </thead>\n",
       "  <tbody>\n",
       "    <tr>\n",
       "      <th>0</th>\n",
       "      <td>4003253</td>\n",
       "      <td>1</td>\n",
       "      <td>1</td>\n",
       "      <td>1</td>\n",
       "      <td>1</td>\n",
       "      <td>1</td>\n",
       "      <td>1</td>\n",
       "      <td>1</td>\n",
       "      <td>1</td>\n",
       "      <td>0</td>\n",
       "      <td>...</td>\n",
       "      <td>1</td>\n",
       "      <td>1</td>\n",
       "      <td>1</td>\n",
       "      <td>0</td>\n",
       "      <td>1</td>\n",
       "      <td>1</td>\n",
       "      <td>1</td>\n",
       "      <td>1</td>\n",
       "      <td>1</td>\n",
       "      <td>1</td>\n",
       "    </tr>\n",
       "    <tr>\n",
       "      <th>1</th>\n",
       "      <td>4646740</td>\n",
       "      <td>1</td>\n",
       "      <td>1</td>\n",
       "      <td>0</td>\n",
       "      <td>2</td>\n",
       "      <td>1</td>\n",
       "      <td>1</td>\n",
       "      <td>1</td>\n",
       "      <td>1</td>\n",
       "      <td>0</td>\n",
       "      <td>...</td>\n",
       "      <td>1</td>\n",
       "      <td>1</td>\n",
       "      <td>1</td>\n",
       "      <td>2</td>\n",
       "      <td>1</td>\n",
       "      <td>1</td>\n",
       "      <td>0</td>\n",
       "      <td>0</td>\n",
       "      <td>0</td>\n",
       "      <td>1</td>\n",
       "    </tr>\n",
       "    <tr>\n",
       "      <th>2</th>\n",
       "      <td>7143189</td>\n",
       "      <td>1</td>\n",
       "      <td>1</td>\n",
       "      <td>1</td>\n",
       "      <td>1</td>\n",
       "      <td>1</td>\n",
       "      <td>1</td>\n",
       "      <td>1</td>\n",
       "      <td>1</td>\n",
       "      <td>1</td>\n",
       "      <td>...</td>\n",
       "      <td>1</td>\n",
       "      <td>1</td>\n",
       "      <td>1</td>\n",
       "      <td>1</td>\n",
       "      <td>1</td>\n",
       "      <td>1</td>\n",
       "      <td>1</td>\n",
       "      <td>1</td>\n",
       "      <td>1</td>\n",
       "      <td>1</td>\n",
       "    </tr>\n",
       "    <tr>\n",
       "      <th>3</th>\n",
       "      <td>8785691</td>\n",
       "      <td>1</td>\n",
       "      <td>1</td>\n",
       "      <td>1</td>\n",
       "      <td>1</td>\n",
       "      <td>1</td>\n",
       "      <td>1</td>\n",
       "      <td>1</td>\n",
       "      <td>1</td>\n",
       "      <td>0</td>\n",
       "      <td>...</td>\n",
       "      <td>1</td>\n",
       "      <td>1</td>\n",
       "      <td>1</td>\n",
       "      <td>1</td>\n",
       "      <td>1</td>\n",
       "      <td>1</td>\n",
       "      <td>1</td>\n",
       "      <td>1</td>\n",
       "      <td>1</td>\n",
       "      <td>1</td>\n",
       "    </tr>\n",
       "    <tr>\n",
       "      <th>4</th>\n",
       "      <td>10728036</td>\n",
       "      <td>1</td>\n",
       "      <td>1</td>\n",
       "      <td>1</td>\n",
       "      <td>1</td>\n",
       "      <td>1</td>\n",
       "      <td>1</td>\n",
       "      <td>1</td>\n",
       "      <td>1</td>\n",
       "      <td>1</td>\n",
       "      <td>...</td>\n",
       "      <td>1</td>\n",
       "      <td>1</td>\n",
       "      <td>1</td>\n",
       "      <td>1</td>\n",
       "      <td>1</td>\n",
       "      <td>1</td>\n",
       "      <td>1</td>\n",
       "      <td>1</td>\n",
       "      <td>0</td>\n",
       "      <td>1</td>\n",
       "    </tr>\n",
       "  </tbody>\n",
       "</table>\n",
       "<p>5 rows × 26 columns</p>\n",
       "</div>"
      ],
      "text/plain": [
       "   study_id SCSL1L2 SCSL2L3 SCSL3L4 SCSL4L5 SCSL5S1 LNFNL1L2 LNFNL2L3  \\\n",
       "0   4003253       1       1       1       1       1        1        1   \n",
       "1   4646740       1       1       0       2       1        1        1   \n",
       "2   7143189       1       1       1       1       1        1        1   \n",
       "3   8785691       1       1       1       1       1        1        1   \n",
       "4  10728036       1       1       1       1       1        1        1   \n",
       "\n",
       "  LNFNL3L4 LNFNL4L5  ... LSSL1L2 LSSL2L3 LSSL3L4 LSSL4L5 LSSL5S1 RSSL1L2  \\\n",
       "0        1        0  ...       1       1       1       0       1       1   \n",
       "1        1        0  ...       1       1       1       2       1       1   \n",
       "2        1        1  ...       1       1       1       1       1       1   \n",
       "3        1        0  ...       1       1       1       1       1       1   \n",
       "4        1        1  ...       1       1       1       1       1       1   \n",
       "\n",
       "  RSSL2L3 RSSL3L4 RSSL4L5 RSSL5S1  \n",
       "0       1       1       1       1  \n",
       "1       0       0       0       1  \n",
       "2       1       1       1       1  \n",
       "3       1       1       1       1  \n",
       "4       1       1       0       1  \n",
       "\n",
       "[5 rows x 26 columns]"
      ]
     },
     "execution_count": 104,
     "metadata": {},
     "output_type": "execute_result"
    }
   ],
   "source": [
    "train_df.head()"
   ]
  },
  {
   "cell_type": "code",
   "execution_count": 105,
   "id": "818f335d-cdee-4d8c-aeef-edf3889edac3",
   "metadata": {
    "scrolled": true
   },
   "outputs": [
    {
     "data": {
      "text/plain": [
       "tensor([[[0.1311, 0.2310, 0.2676,  ..., 0.3676, 0.3069, 0.3503],\n",
       "         [0.7625, 0.5590, 0.3816,  ..., 0.2235, 0.0949, 0.2537],\n",
       "         [0.1065, 0.2101, 0.3508,  ..., 0.4090, 0.5982, 0.3959]],\n",
       "\n",
       "        [[0.1311, 0.2310, 0.2676,  ..., 0.3676, 0.3069, 0.3503],\n",
       "         [0.7624, 0.5589, 0.3816,  ..., 0.2235, 0.0950, 0.2537],\n",
       "         [0.1065, 0.2101, 0.3508,  ..., 0.4089, 0.5981, 0.3959]],\n",
       "\n",
       "        [[0.1311, 0.2310, 0.2676,  ..., 0.3676, 0.3069, 0.3503],\n",
       "         [0.7625, 0.5590, 0.3816,  ..., 0.2235, 0.0949, 0.2537],\n",
       "         [0.1065, 0.2101, 0.3508,  ..., 0.4090, 0.5982, 0.3959]],\n",
       "\n",
       "        ...,\n",
       "\n",
       "        [[0.1311, 0.2310, 0.2676,  ..., 0.3676, 0.3069, 0.3503],\n",
       "         [0.7623, 0.5588, 0.3816,  ..., 0.2235, 0.0950, 0.2538],\n",
       "         [0.1066, 0.2101, 0.3508,  ..., 0.4089, 0.5980, 0.3959]],\n",
       "\n",
       "        [[0.1311, 0.2310, 0.2676,  ..., 0.3676, 0.3069, 0.3503],\n",
       "         [0.7624, 0.5589, 0.3816,  ..., 0.2235, 0.0950, 0.2538],\n",
       "         [0.1065, 0.2101, 0.3508,  ..., 0.4089, 0.5981, 0.3959]],\n",
       "\n",
       "        [[0.1311, 0.2310, 0.2676,  ..., 0.3676, 0.3069, 0.3503],\n",
       "         [0.7623, 0.5588, 0.3816,  ..., 0.2236, 0.0950, 0.2538],\n",
       "         [0.1066, 0.2101, 0.3508,  ..., 0.4089, 0.5980, 0.3959]]])"
      ]
     },
     "execution_count": 105,
     "metadata": {},
     "output_type": "execute_result"
    }
   ],
   "source": [
    "pred.softmax(dim=1)"
   ]
  },
  {
   "cell_type": "code",
   "execution_count": 106,
   "id": "114abfc1-8ff7-4b29-985a-de37a0c39e4f",
   "metadata": {},
   "outputs": [
    {
     "data": {
      "text/plain": [
       "tensor([[1, 1, 1, 2, 1, 1, 1, 0, 0, 2, 1, 1, 0, 0, 0, 1, 1, 2, 2, 0, 1, 1, 2, 2,\n",
       "         2],\n",
       "        [1, 1, 1, 2, 1, 1, 1, 0, 0, 2, 1, 1, 0, 0, 0, 1, 1, 2, 2, 0, 1, 1, 2, 2,\n",
       "         2],\n",
       "        [1, 1, 1, 2, 1, 1, 1, 0, 0, 2, 1, 1, 0, 0, 0, 1, 1, 2, 2, 0, 1, 1, 2, 2,\n",
       "         2],\n",
       "        [1, 1, 1, 2, 1, 1, 1, 0, 0, 2, 1, 1, 0, 0, 0, 1, 1, 2, 2, 0, 1, 1, 2, 2,\n",
       "         2],\n",
       "        [1, 1, 1, 2, 1, 1, 1, 0, 0, 2, 1, 1, 0, 0, 0, 1, 1, 2, 2, 0, 1, 1, 2, 2,\n",
       "         2],\n",
       "        [1, 1, 1, 2, 1, 1, 1, 0, 0, 2, 1, 1, 0, 0, 0, 1, 1, 2, 2, 0, 1, 1, 2, 2,\n",
       "         2],\n",
       "        [1, 1, 1, 2, 1, 1, 1, 0, 0, 2, 1, 1, 0, 0, 0, 1, 1, 2, 2, 0, 1, 1, 2, 2,\n",
       "         2],\n",
       "        [1, 1, 1, 2, 1, 1, 1, 0, 0, 2, 1, 1, 0, 0, 0, 1, 1, 2, 2, 0, 1, 1, 2, 2,\n",
       "         2],\n",
       "        [1, 1, 1, 2, 1, 1, 1, 0, 0, 2, 1, 1, 0, 0, 0, 1, 1, 2, 2, 0, 1, 1, 2, 2,\n",
       "         2],\n",
       "        [1, 1, 1, 2, 1, 1, 1, 0, 0, 2, 1, 1, 0, 0, 0, 1, 1, 2, 2, 0, 1, 1, 2, 2,\n",
       "         2],\n",
       "        [1, 1, 1, 2, 1, 1, 1, 0, 0, 2, 1, 1, 0, 0, 0, 1, 1, 2, 2, 0, 1, 1, 2, 2,\n",
       "         2],\n",
       "        [1, 1, 1, 2, 1, 1, 1, 0, 0, 2, 1, 1, 0, 0, 0, 1, 1, 2, 2, 0, 1, 1, 2, 2,\n",
       "         2],\n",
       "        [1, 1, 1, 2, 1, 1, 1, 0, 0, 2, 1, 1, 0, 0, 0, 1, 1, 2, 2, 0, 1, 1, 2, 2,\n",
       "         2],\n",
       "        [1, 1, 1, 2, 1, 1, 1, 0, 0, 2, 1, 1, 0, 0, 0, 1, 1, 2, 2, 0, 1, 1, 2, 2,\n",
       "         2],\n",
       "        [1, 1, 1, 2, 1, 1, 1, 0, 0, 2, 1, 1, 0, 0, 0, 1, 1, 2, 2, 0, 1, 1, 2, 2,\n",
       "         2],\n",
       "        [1, 1, 1, 2, 1, 1, 1, 0, 0, 2, 1, 1, 0, 0, 0, 1, 1, 2, 2, 0, 1, 1, 2, 2,\n",
       "         2]])"
      ]
     },
     "execution_count": 106,
     "metadata": {},
     "output_type": "execute_result"
    }
   ],
   "source": [
    "pred.argmax(dim=1)"
   ]
  },
  {
   "cell_type": "code",
   "execution_count": null,
   "id": "c9c5a90b-d57b-4e0b-8227-1eb907a46571",
   "metadata": {},
   "outputs": [],
   "source": []
  },
  {
   "cell_type": "code",
   "execution_count": null,
   "id": "4aa0eae9-9396-44f9-85f0-7dcc1dedea67",
   "metadata": {},
   "outputs": [],
   "source": []
  }
 ],
 "metadata": {
  "kernelspec": {
   "display_name": "Python 3 (ipykernel)",
   "language": "python",
   "name": "python3"
  },
  "language_info": {
   "codemirror_mode": {
    "name": "ipython",
    "version": 3
   },
   "file_extension": ".py",
   "mimetype": "text/x-python",
   "name": "python",
   "nbconvert_exporter": "python",
   "pygments_lexer": "ipython3",
   "version": "3.10.14"
  }
 },
 "nbformat": 4,
 "nbformat_minor": 5
}
