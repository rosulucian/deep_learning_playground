{
 "cells": [
  {
   "cell_type": "code",
   "execution_count": 1,
   "id": "b9285b2a-4eb1-4ba0-8da6-fec3d7bf7caf",
   "metadata": {},
   "outputs": [],
   "source": [
    "%load_ext autoreload\n",
    "%autoreload 2"
   ]
  },
  {
   "cell_type": "markdown",
   "id": "d066835a-84e9-447f-8774-8c25fe9b3401",
   "metadata": {},
   "source": [
    "### Imports"
   ]
  },
  {
   "cell_type": "code",
   "execution_count": 2,
   "id": "ec358010-952a-448e-b50c-917938b87f95",
   "metadata": {},
   "outputs": [],
   "source": [
    "import os\n",
    "import time\n",
    "import wandb\n",
    "import torch\n",
    "import random\n",
    "import torchvision\n",
    "\n",
    "import numpy as np\n",
    "import pandas as pd\n",
    "import torchmetrics as tm \n",
    "# import plotly.express as px\n",
    "import pytorch_lightning as pl\n",
    "import matplotlib.pyplot as plt\n",
    "\n",
    "from torch import nn\n",
    "from pathlib import Path, PurePath\n",
    "from torch.utils.data import Dataset, DataLoader\n",
    "from torch.optim import Adam, AdamW, RMSprop # optmizers\n",
    "from sklearn import preprocessing \n",
    "# from warmup_scheduler import GradualWarmupScheduler\n",
    "from sklearn.model_selection import train_test_split\n",
    "from torch.optim.lr_scheduler import CosineAnnealingLR, ReduceLROnPlateau # Learning rate schedulers\n",
    "\n",
    "import albumentations as A\n",
    "# from albumentations.pytorch import ToTensorV2\n",
    "\n",
    "import torch.nn.functional as F\n",
    "\n",
    "from pytorch_lightning.loggers import WandbLogger\n",
    "from pytorch_lightning.callbacks import Callback, LearningRateMonitor\n",
    "from torchmetrics.wrappers import ClasswiseWrapper\n",
    "from torchmetrics import MetricCollection\n",
    "from torchmetrics.classification import MultilabelAccuracy, MultilabelPrecision, MultilabelRecall, MultilabelF1Score\n",
    "\n",
    "import timm"
   ]
  },
  {
   "cell_type": "code",
   "execution_count": 3,
   "id": "5ebe9c0f-24bb-41e4-a2df-8992ab3ef2eb",
   "metadata": {},
   "outputs": [
    {
     "name": "stdout",
     "output_type": "stream",
     "text": [
      "timm version 1.0.8\n",
      "torch version 2.3.1\n"
     ]
    }
   ],
   "source": [
    "print('timm version', timm.__version__)\n",
    "print('torch version', torch.__version__)"
   ]
  },
  {
   "cell_type": "code",
   "execution_count": 4,
   "id": "0d4a5098-ea06-4b7e-8b88-3a52c507c60a",
   "metadata": {},
   "outputs": [
    {
     "name": "stderr",
     "output_type": "stream",
     "text": [
      "wandb: Currently logged in as: rosu-lucian. Use `wandb login --relogin` to force relogin\n",
      "wandb: WARNING If you're specifying your api key in code, ensure this code is not shared publicly.\n",
      "wandb: WARNING Consider setting the WANDB_API_KEY environment variable, or running `wandb login` from the command line.\n",
      "wandb: Appending key for api.wandb.ai to your netrc file: C:\\Users\\Asus\\.netrc\n"
     ]
    },
    {
     "data": {
      "text/plain": [
       "True"
      ]
     },
     "execution_count": 4,
     "metadata": {},
     "output_type": "execute_result"
    }
   ],
   "source": [
    "wandb.login(key=os.getenv('wandb_api_key'))"
   ]
  },
  {
   "cell_type": "code",
   "execution_count": 5,
   "id": "01e0c6c6-ed9a-4454-bcfc-c545785339e2",
   "metadata": {},
   "outputs": [
    {
     "name": "stdout",
     "output_type": "stream",
     "text": [
      "cuda\n"
     ]
    }
   ],
   "source": [
    "# detect and define device \n",
    "device = torch.device('cuda' if torch.cuda.is_available() else 'cpu')\n",
    "\n",
    "print(device)"
   ]
  },
  {
   "cell_type": "code",
   "execution_count": 6,
   "id": "3ce8221d-961f-4ca9-ac09-7f169134c79d",
   "metadata": {},
   "outputs": [],
   "source": [
    "# for reproducibility\n",
    "def seed_torch(seed):\n",
    "    random.seed(seed)\n",
    "    os.environ['PYTHONHASHSEED'] = str(seed)\n",
    "    np.random.seed(seed)\n",
    "    torch.manual_seed(seed)\n",
    "    torch.cuda.manual_seed(seed)\n",
    "    torch.backends.cudnn.deterministic = True"
   ]
  },
  {
   "cell_type": "markdown",
   "id": "97d5b081-221c-40c4-9927-4b0179ac6e5b",
   "metadata": {},
   "source": [
    "### Config"
   ]
  },
  {
   "cell_type": "code",
   "execution_count": 7,
   "id": "1473d73e-d6c7-4dcb-a7c1-f5f407541f8b",
   "metadata": {},
   "outputs": [],
   "source": [
    "# TODO: maybe use condition and level for classes\n",
    "classes = ['SCS', 'RNFN', 'LNFN', 'LSS', 'RSS'] + ['H'] # add healthy class\n",
    "\n",
    "# classes = ['SCS', 'RNFN', 'LNFN'] + ['H'] # add healthy class\n",
    "\n",
    "# classes = ['LSS', 'RSS'] + ['H'] # add healthy class\n",
    "\n",
    "# classes = ['SCSL1L2', 'SCSL2L3', 'SCSL3L4', 'SCSL4L5', 'SCSL5S1', 'RNFNL4L5',\n",
    "#        'RNFNL5S1', 'RNFNL3L4', 'RNFNL1L2', 'RNFNL2L3', 'LNFNL1L2',\n",
    "#        'LNFNL4L5', 'LNFNL5S1', 'LNFNL2L3', 'LNFNL3L4', 'LSSL1L2',\n",
    "#        'RSSL1L2', 'LSSL2L3', 'RSSL2L3', 'LSSL3L4', 'RSSL3L4', 'LSSL4L5',\n",
    "#        'RSSL4L5', 'LSSL5S1', 'RSSL5S1'] + ['H']\n",
    "\n",
    "num_classes = len(classes)\n",
    "class2id = {b: i for i, b in enumerate(classes)}"
   ]
  },
  {
   "cell_type": "code",
   "execution_count": 103,
   "id": "fd13130f-5b6c-4ee1-b4ce-ad0864843d9a",
   "metadata": {},
   "outputs": [],
   "source": [
    "train_dir = Path('E:\\data\\RSNA2024')\n",
    "\n",
    "class CFG:\n",
    "\n",
    "    project = 'lstm'\n",
    "    comment = 'first'\n",
    "\n",
    "    ### model\n",
    "    model_name = 'eca_nfnet_l0' # 'resnet34', 'resnet200d', 'efficientnet_b1_pruned', 'efficientnetv2_m', efficientnet_b7 \n",
    "\n",
    "    image_size = 256\n",
    "    \n",
    "    ROOT_FOLDER = train_dir\n",
    "    IMAGES_DIR = ROOT_FOLDER / 'train_images'\n",
    "    PNG_DIR = ROOT_FOLDER / f'pngs_{image_size}'\n",
    "    FILES_CSV = ROOT_FOLDER / 'train_files.csv'\n",
    "    TRAIN_CSV = ROOT_FOLDER / 'train.csv'\n",
    "    TRAIN_DESC_CSV = ROOT_FOLDER / 'train_series_descriptions.csv'\n",
    "    COORDS_CSV = ROOT_FOLDER / 'train_label_coordinates.csv'\n",
    "\n",
    "    # ckpt_path = Path(r\"E:\\data\\RSNA2024\\results\\ckpt\\eca_nfnet_l0 5e-05 10 eps all-labels\\ep_03_loss_0.15231.ckpt\")\n",
    "    embeds_path = Path(r\"E:\\data\\RSNA2024\\embeddings\")\n",
    "    stacked_path = Path(r\"E:\\data\\RSNA2024\\embeddings_stacked\")\n",
    "\n",
    "    RESULTS_DIR = train_dir / 'results'\n",
    "    CKPT_DIR = RESULTS_DIR / 'ckpt'\n",
    "\n",
    "    input_dim = 64\n",
    "    hidden_dim = 64\n",
    "    target_size = 64\n",
    "\n",
    "    classes = classes\n",
    "\n",
    "    split_fraction = 0.95\n",
    "\n",
    "    MIXUP = False\n",
    "\n",
    "    ### training\n",
    "    BATCH_SIZE = 16\n",
    "    \n",
    "    ### Optimizer\n",
    "    N_EPOCHS = 10\n",
    "    USE_SCHD = False\n",
    "    WARM_EPOCHS = 3\n",
    "    COS_EPOCHS = N_EPOCHS - WARM_EPOCHS\n",
    "\n",
    "    # LEARNING_RATE = 5*1e-5 # best\n",
    "    LEARNING_RATE = 5e-5\n",
    "    \n",
    "    weight_decay = 1e-6 # for adamw\n",
    "\n",
    "    device = 'cuda' if torch.cuda.is_available() else 'cpu'\n",
    "\n",
    "    ### split train and validation sets\n",
    "    num_workers = 16\n",
    "\n",
    "    random_seed = 42\n",
    "\n",
    "CFG.N_LABELS = len(CFG.classes)\n",
    "\n",
    "seed_torch(seed = CFG.random_seed)"
   ]
  },
  {
   "cell_type": "code",
   "execution_count": 9,
   "id": "8382e5e6-6fd6-413e-80bc-f18c1972ccc2",
   "metadata": {},
   "outputs": [
    {
     "data": {
      "text/plain": [
       "6"
      ]
     },
     "execution_count": 9,
     "metadata": {},
     "output_type": "execute_result"
    }
   ],
   "source": [
    "CFG.N_LABELS "
   ]
  },
  {
   "cell_type": "markdown",
   "id": "5ae4d4f5-b0cc-45db-96b7-7496e38eff24",
   "metadata": {},
   "source": [
    "### Load data"
   ]
  },
  {
   "cell_type": "code",
   "execution_count": 10,
   "id": "a75543cd-74ab-45f8-8aba-3775b1cd70ab",
   "metadata": {},
   "outputs": [
    {
     "data": {
      "text/plain": [
       "((1975, 26), (6294, 3), (48692, 18), (147218, 21))"
      ]
     },
     "execution_count": 10,
     "metadata": {},
     "output_type": "execute_result"
    }
   ],
   "source": [
    "train_df = pd.read_csv(CFG.TRAIN_CSV)\n",
    "train_desc_df = pd.read_csv(CFG.TRAIN_DESC_CSV)\n",
    "coords_df = pd.read_csv(CFG.COORDS_CSV)\n",
    "files_df = pd.read_csv(CFG.FILES_CSV)\n",
    "\n",
    "train_df.shape, train_desc_df.shape, coords_df.shape, files_df.shape"
   ]
  },
  {
   "cell_type": "code",
   "execution_count": 11,
   "id": "7742e660-0c97-4812-ab3c-3a6f8bcf98b9",
   "metadata": {},
   "outputs": [],
   "source": [
    "train_df.fillna('N', inplace=True)"
   ]
  },
  {
   "cell_type": "code",
   "execution_count": 12,
   "id": "b4030ecf-ddc6-4c77-944b-7206bc3919ef",
   "metadata": {},
   "outputs": [
    {
     "data": {
      "text/html": [
       "<div>\n",
       "<style scoped>\n",
       "    .dataframe tbody tr th:only-of-type {\n",
       "        vertical-align: middle;\n",
       "    }\n",
       "\n",
       "    .dataframe tbody tr th {\n",
       "        vertical-align: top;\n",
       "    }\n",
       "\n",
       "    .dataframe thead th {\n",
       "        text-align: right;\n",
       "    }\n",
       "</style>\n",
       "<table border=\"1\" class=\"dataframe\">\n",
       "  <thead>\n",
       "    <tr style=\"text-align: right;\">\n",
       "      <th></th>\n",
       "      <th>study_id</th>\n",
       "      <th>SCSL1L2</th>\n",
       "      <th>SCSL2L3</th>\n",
       "      <th>SCSL3L4</th>\n",
       "      <th>SCSL4L5</th>\n",
       "      <th>SCSL5S1</th>\n",
       "      <th>LNFNL1L2</th>\n",
       "      <th>LNFNL2L3</th>\n",
       "      <th>LNFNL3L4</th>\n",
       "      <th>LNFNL4L5</th>\n",
       "      <th>...</th>\n",
       "      <th>LSSL1L2</th>\n",
       "      <th>LSSL2L3</th>\n",
       "      <th>LSSL3L4</th>\n",
       "      <th>LSSL4L5</th>\n",
       "      <th>LSSL5S1</th>\n",
       "      <th>RSSL1L2</th>\n",
       "      <th>RSSL2L3</th>\n",
       "      <th>RSSL3L4</th>\n",
       "      <th>RSSL4L5</th>\n",
       "      <th>RSSL5S1</th>\n",
       "    </tr>\n",
       "  </thead>\n",
       "  <tbody>\n",
       "    <tr>\n",
       "      <th>0</th>\n",
       "      <td>4003253</td>\n",
       "      <td>N</td>\n",
       "      <td>N</td>\n",
       "      <td>N</td>\n",
       "      <td>N</td>\n",
       "      <td>N</td>\n",
       "      <td>N</td>\n",
       "      <td>N</td>\n",
       "      <td>N</td>\n",
       "      <td>M</td>\n",
       "      <td>...</td>\n",
       "      <td>N</td>\n",
       "      <td>N</td>\n",
       "      <td>N</td>\n",
       "      <td>M</td>\n",
       "      <td>N</td>\n",
       "      <td>N</td>\n",
       "      <td>N</td>\n",
       "      <td>N</td>\n",
       "      <td>N</td>\n",
       "      <td>N</td>\n",
       "    </tr>\n",
       "    <tr>\n",
       "      <th>1</th>\n",
       "      <td>4646740</td>\n",
       "      <td>N</td>\n",
       "      <td>N</td>\n",
       "      <td>M</td>\n",
       "      <td>S</td>\n",
       "      <td>N</td>\n",
       "      <td>N</td>\n",
       "      <td>N</td>\n",
       "      <td>N</td>\n",
       "      <td>M</td>\n",
       "      <td>...</td>\n",
       "      <td>N</td>\n",
       "      <td>N</td>\n",
       "      <td>N</td>\n",
       "      <td>S</td>\n",
       "      <td>N</td>\n",
       "      <td>N</td>\n",
       "      <td>M</td>\n",
       "      <td>M</td>\n",
       "      <td>M</td>\n",
       "      <td>N</td>\n",
       "    </tr>\n",
       "  </tbody>\n",
       "</table>\n",
       "<p>2 rows × 26 columns</p>\n",
       "</div>"
      ],
      "text/plain": [
       "   study_id SCSL1L2 SCSL2L3 SCSL3L4 SCSL4L5 SCSL5S1 LNFNL1L2 LNFNL2L3  \\\n",
       "0   4003253       N       N       N       N       N        N        N   \n",
       "1   4646740       N       N       M       S       N        N        N   \n",
       "\n",
       "  LNFNL3L4 LNFNL4L5  ... LSSL1L2 LSSL2L3 LSSL3L4 LSSL4L5 LSSL5S1 RSSL1L2  \\\n",
       "0        N        M  ...       N       N       N       M       N       N   \n",
       "1        N        M  ...       N       N       N       S       N       N   \n",
       "\n",
       "  RSSL2L3 RSSL3L4 RSSL4L5 RSSL5S1  \n",
       "0       N       N       N       N  \n",
       "1       M       M       M       N  \n",
       "\n",
       "[2 rows x 26 columns]"
      ]
     },
     "execution_count": 12,
     "metadata": {},
     "output_type": "execute_result"
    }
   ],
   "source": [
    "train_df.head(2)"
   ]
  },
  {
   "cell_type": "code",
   "execution_count": 13,
   "id": "2b7ae4cb-552c-41a1-bdeb-0b0cbdb48cb8",
   "metadata": {
    "scrolled": true
   },
   "outputs": [
    {
     "data": {
      "text/plain": [
       "array(['M', 'N', 'S'], dtype=object)"
      ]
     },
     "execution_count": 13,
     "metadata": {},
     "output_type": "execute_result"
    }
   ],
   "source": [
    "le = preprocessing.LabelEncoder() \n",
    "le.fit(train_df.iloc[:, 1])\n",
    "\n",
    "le.classes_\n",
    "# foo = le.fit_transform(train_df.iloc[:,1])"
   ]
  },
  {
   "cell_type": "code",
   "execution_count": 14,
   "id": "63ea1cbe-17e7-4800-94a3-dd4f1aef39d9",
   "metadata": {},
   "outputs": [],
   "source": [
    "train_df.iloc[:,1:] = train_df.iloc[:,1:].apply(le.fit_transform)"
   ]
  },
  {
   "cell_type": "code",
   "execution_count": 15,
   "id": "97c5e9e3-9dc1-46da-aa14-ae47fc4318a9",
   "metadata": {},
   "outputs": [
    {
     "data": {
      "text/html": [
       "<div>\n",
       "<style scoped>\n",
       "    .dataframe tbody tr th:only-of-type {\n",
       "        vertical-align: middle;\n",
       "    }\n",
       "\n",
       "    .dataframe tbody tr th {\n",
       "        vertical-align: top;\n",
       "    }\n",
       "\n",
       "    .dataframe thead th {\n",
       "        text-align: right;\n",
       "    }\n",
       "</style>\n",
       "<table border=\"1\" class=\"dataframe\">\n",
       "  <thead>\n",
       "    <tr style=\"text-align: right;\">\n",
       "      <th></th>\n",
       "      <th>study_id</th>\n",
       "      <th>SCSL1L2</th>\n",
       "      <th>SCSL2L3</th>\n",
       "      <th>SCSL3L4</th>\n",
       "      <th>SCSL4L5</th>\n",
       "      <th>SCSL5S1</th>\n",
       "      <th>LNFNL1L2</th>\n",
       "      <th>LNFNL2L3</th>\n",
       "      <th>LNFNL3L4</th>\n",
       "      <th>LNFNL4L5</th>\n",
       "      <th>...</th>\n",
       "      <th>LSSL1L2</th>\n",
       "      <th>LSSL2L3</th>\n",
       "      <th>LSSL3L4</th>\n",
       "      <th>LSSL4L5</th>\n",
       "      <th>LSSL5S1</th>\n",
       "      <th>RSSL1L2</th>\n",
       "      <th>RSSL2L3</th>\n",
       "      <th>RSSL3L4</th>\n",
       "      <th>RSSL4L5</th>\n",
       "      <th>RSSL5S1</th>\n",
       "    </tr>\n",
       "  </thead>\n",
       "  <tbody>\n",
       "    <tr>\n",
       "      <th>0</th>\n",
       "      <td>4003253</td>\n",
       "      <td>1</td>\n",
       "      <td>1</td>\n",
       "      <td>1</td>\n",
       "      <td>1</td>\n",
       "      <td>1</td>\n",
       "      <td>1</td>\n",
       "      <td>1</td>\n",
       "      <td>1</td>\n",
       "      <td>0</td>\n",
       "      <td>...</td>\n",
       "      <td>1</td>\n",
       "      <td>1</td>\n",
       "      <td>1</td>\n",
       "      <td>0</td>\n",
       "      <td>1</td>\n",
       "      <td>1</td>\n",
       "      <td>1</td>\n",
       "      <td>1</td>\n",
       "      <td>1</td>\n",
       "      <td>1</td>\n",
       "    </tr>\n",
       "    <tr>\n",
       "      <th>1</th>\n",
       "      <td>4646740</td>\n",
       "      <td>1</td>\n",
       "      <td>1</td>\n",
       "      <td>0</td>\n",
       "      <td>2</td>\n",
       "      <td>1</td>\n",
       "      <td>1</td>\n",
       "      <td>1</td>\n",
       "      <td>1</td>\n",
       "      <td>0</td>\n",
       "      <td>...</td>\n",
       "      <td>1</td>\n",
       "      <td>1</td>\n",
       "      <td>1</td>\n",
       "      <td>2</td>\n",
       "      <td>1</td>\n",
       "      <td>1</td>\n",
       "      <td>0</td>\n",
       "      <td>0</td>\n",
       "      <td>0</td>\n",
       "      <td>1</td>\n",
       "    </tr>\n",
       "  </tbody>\n",
       "</table>\n",
       "<p>2 rows × 26 columns</p>\n",
       "</div>"
      ],
      "text/plain": [
       "   study_id SCSL1L2 SCSL2L3 SCSL3L4 SCSL4L5 SCSL5S1 LNFNL1L2 LNFNL2L3  \\\n",
       "0   4003253       1       1       1       1       1        1        1   \n",
       "1   4646740       1       1       0       2       1        1        1   \n",
       "\n",
       "  LNFNL3L4 LNFNL4L5  ... LSSL1L2 LSSL2L3 LSSL3L4 LSSL4L5 LSSL5S1 RSSL1L2  \\\n",
       "0        1        0  ...       1       1       1       0       1       1   \n",
       "1        1        0  ...       1       1       1       2       1       1   \n",
       "\n",
       "  RSSL2L3 RSSL3L4 RSSL4L5 RSSL5S1  \n",
       "0       1       1       1       1  \n",
       "1       0       0       0       1  \n",
       "\n",
       "[2 rows x 26 columns]"
      ]
     },
     "execution_count": 15,
     "metadata": {},
     "output_type": "execute_result"
    }
   ],
   "source": [
    "train_df.head(2)"
   ]
  },
  {
   "cell_type": "code",
   "execution_count": 16,
   "id": "29b6d5db-6a3c-4e34-81d2-ad900873d223",
   "metadata": {},
   "outputs": [
    {
     "data": {
      "text/html": [
       "<div>\n",
       "<style scoped>\n",
       "    .dataframe tbody tr th:only-of-type {\n",
       "        vertical-align: middle;\n",
       "    }\n",
       "\n",
       "    .dataframe tbody tr th {\n",
       "        vertical-align: top;\n",
       "    }\n",
       "\n",
       "    .dataframe thead th {\n",
       "        text-align: right;\n",
       "    }\n",
       "</style>\n",
       "<table border=\"1\" class=\"dataframe\">\n",
       "  <thead>\n",
       "    <tr style=\"text-align: right;\">\n",
       "      <th></th>\n",
       "      <th>study_id</th>\n",
       "      <th>series_id</th>\n",
       "      <th>instance</th>\n",
       "      <th>condition</th>\n",
       "      <th>level</th>\n",
       "      <th>x</th>\n",
       "      <th>y</th>\n",
       "      <th>ss_id</th>\n",
       "      <th>instance_id</th>\n",
       "      <th>cl</th>\n",
       "      <th>series_description</th>\n",
       "      <th>rows</th>\n",
       "      <th>columns</th>\n",
       "      <th>filename</th>\n",
       "      <th>patientposition</th>\n",
       "      <th>x_perc</th>\n",
       "      <th>y_perc</th>\n",
       "      <th>inst_perc</th>\n",
       "    </tr>\n",
       "  </thead>\n",
       "  <tbody>\n",
       "    <tr>\n",
       "      <th>8470</th>\n",
       "      <td>765688458</td>\n",
       "      <td>1017097760</td>\n",
       "      <td>18</td>\n",
       "      <td>RSS</td>\n",
       "      <td>L2L3</td>\n",
       "      <td>113.866365</td>\n",
       "      <td>131.044168</td>\n",
       "      <td>765688458_1017097760</td>\n",
       "      <td>765688458_1017097760_18</td>\n",
       "      <td>RSSL2L3</td>\n",
       "      <td>Axial T2</td>\n",
       "      <td>256</td>\n",
       "      <td>256</td>\n",
       "      <td>E:\\data\\RSNA2024\\pngs_256\\765688458_1017097760...</td>\n",
       "      <td>HFS</td>\n",
       "      <td>0.444790</td>\n",
       "      <td>0.511891</td>\n",
       "      <td>0.425000</td>\n",
       "    </tr>\n",
       "    <tr>\n",
       "      <th>37793</th>\n",
       "      <td>3329250043</td>\n",
       "      <td>134630734</td>\n",
       "      <td>5</td>\n",
       "      <td>RNFN</td>\n",
       "      <td>L5S1</td>\n",
       "      <td>378.126195</td>\n",
       "      <td>537.246654</td>\n",
       "      <td>3329250043_134630734</td>\n",
       "      <td>3329250043_134630734_5</td>\n",
       "      <td>RNFNL5S1</td>\n",
       "      <td>Sagittal T1</td>\n",
       "      <td>760</td>\n",
       "      <td>640</td>\n",
       "      <td>E:\\data\\RSNA2024\\pngs_256\\3329250043_134630734...</td>\n",
       "      <td>HFS</td>\n",
       "      <td>0.590822</td>\n",
       "      <td>0.706903</td>\n",
       "      <td>0.190476</td>\n",
       "    </tr>\n",
       "  </tbody>\n",
       "</table>\n",
       "</div>"
      ],
      "text/plain": [
       "         study_id   series_id  instance condition level           x  \\\n",
       "8470    765688458  1017097760        18       RSS  L2L3  113.866365   \n",
       "37793  3329250043   134630734         5      RNFN  L5S1  378.126195   \n",
       "\n",
       "                y                 ss_id              instance_id        cl  \\\n",
       "8470   131.044168  765688458_1017097760  765688458_1017097760_18   RSSL2L3   \n",
       "37793  537.246654  3329250043_134630734   3329250043_134630734_5  RNFNL5S1   \n",
       "\n",
       "      series_description  rows  columns  \\\n",
       "8470            Axial T2   256      256   \n",
       "37793        Sagittal T1   760      640   \n",
       "\n",
       "                                                filename patientposition  \\\n",
       "8470   E:\\data\\RSNA2024\\pngs_256\\765688458_1017097760...             HFS   \n",
       "37793  E:\\data\\RSNA2024\\pngs_256\\3329250043_134630734...             HFS   \n",
       "\n",
       "         x_perc    y_perc  inst_perc  \n",
       "8470   0.444790  0.511891   0.425000  \n",
       "37793  0.590822  0.706903   0.190476  "
      ]
     },
     "execution_count": 16,
     "metadata": {},
     "output_type": "execute_result"
    }
   ],
   "source": [
    "coords_df.sample(2)"
   ]
  },
  {
   "cell_type": "code",
   "execution_count": 17,
   "id": "e1b7e342-7f6f-46b6-9bee-278facddf379",
   "metadata": {},
   "outputs": [
    {
     "data": {
      "text/plain": [
       "array(['SCS', 'RNFN', 'LNFN', 'LSS', 'RSS'], dtype=object)"
      ]
     },
     "execution_count": 17,
     "metadata": {},
     "output_type": "execute_result"
    }
   ],
   "source": [
    "coords_df.condition.unique()"
   ]
  },
  {
   "cell_type": "code",
   "execution_count": 18,
   "id": "3daba834-d0c0-4c34-a807-12b195a701ab",
   "metadata": {},
   "outputs": [
    {
     "data": {
      "text/plain": [
       "array(['SCSL1L2', 'SCSL2L3', 'SCSL3L4', 'SCSL4L5', 'SCSL5S1', 'RNFNL4L5',\n",
       "       'RNFNL5S1', 'RNFNL3L4', 'RNFNL1L2', 'RNFNL2L3', 'LNFNL1L2',\n",
       "       'LNFNL4L5', 'LNFNL5S1', 'LNFNL2L3', 'LNFNL3L4', 'LSSL1L2',\n",
       "       'RSSL1L2', 'LSSL2L3', 'RSSL2L3', 'LSSL3L4', 'RSSL3L4', 'LSSL4L5',\n",
       "       'RSSL4L5', 'LSSL5S1', 'RSSL5S1'], dtype=object)"
      ]
     },
     "execution_count": 18,
     "metadata": {},
     "output_type": "execute_result"
    }
   ],
   "source": [
    "coords_df.cl.unique()"
   ]
  },
  {
   "cell_type": "code",
   "execution_count": 19,
   "id": "642cb35b-6275-4229-9480-3e552cefa008",
   "metadata": {},
   "outputs": [
    {
     "data": {
      "text/plain": [
       "25"
      ]
     },
     "execution_count": 19,
     "metadata": {},
     "output_type": "execute_result"
    }
   ],
   "source": [
    "coords_df.cl.nunique()"
   ]
  },
  {
   "cell_type": "code",
   "execution_count": 20,
   "id": "a4c383c7-ddf0-4b71-8293-d29b90909b20",
   "metadata": {},
   "outputs": [
    {
     "data": {
      "text/plain": [
       "147218"
      ]
     },
     "execution_count": 20,
     "metadata": {},
     "output_type": "execute_result"
    }
   ],
   "source": [
    "embed_files = os.listdir(CFG.embeds_path)\n",
    "\n",
    "len(embed_files)"
   ]
  },
  {
   "cell_type": "code",
   "execution_count": 21,
   "id": "b60b3cc2-708f-4216-85e8-db65ab925c23",
   "metadata": {},
   "outputs": [],
   "source": [
    "study_id = 838134337"
   ]
  },
  {
   "cell_type": "code",
   "execution_count": 22,
   "id": "46ee3eaf-589e-4869-ae37-f9f8a1f71fd8",
   "metadata": {},
   "outputs": [
    {
     "data": {
      "text/html": [
       "<div>\n",
       "<style scoped>\n",
       "    .dataframe tbody tr th:only-of-type {\n",
       "        vertical-align: middle;\n",
       "    }\n",
       "\n",
       "    .dataframe tbody tr th {\n",
       "        vertical-align: top;\n",
       "    }\n",
       "\n",
       "    .dataframe thead th {\n",
       "        text-align: right;\n",
       "    }\n",
       "</style>\n",
       "<table border=\"1\" class=\"dataframe\">\n",
       "  <thead>\n",
       "    <tr style=\"text-align: right;\">\n",
       "      <th></th>\n",
       "      <th>study_id</th>\n",
       "      <th>series_id</th>\n",
       "      <th>image</th>\n",
       "      <th>proj</th>\n",
       "      <th>instancenumber</th>\n",
       "      <th>rows</th>\n",
       "      <th>columns</th>\n",
       "      <th>slicethickness</th>\n",
       "      <th>spacingbetweenslices</th>\n",
       "      <th>patientposition</th>\n",
       "      <th>...</th>\n",
       "      <th>ss_id</th>\n",
       "      <th>instance_id</th>\n",
       "      <th>filename</th>\n",
       "      <th>series_description</th>\n",
       "      <th>cl</th>\n",
       "      <th>condition</th>\n",
       "      <th>inst_min</th>\n",
       "      <th>inst_max</th>\n",
       "      <th>inst</th>\n",
       "      <th>inst_perc</th>\n",
       "    </tr>\n",
       "  </thead>\n",
       "  <tbody>\n",
       "    <tr>\n",
       "      <th>140320</th>\n",
       "      <td>838134337</td>\n",
       "      <td>1285354049</td>\n",
       "      <td>1</td>\n",
       "      <td>19</td>\n",
       "      <td>1</td>\n",
       "      <td>448</td>\n",
       "      <td>448</td>\n",
       "      <td>4.0</td>\n",
       "      <td>4.48</td>\n",
       "      <td>HFS</td>\n",
       "      <td>...</td>\n",
       "      <td>838134337_1285354049</td>\n",
       "      <td>838134337_1285354049_1</td>\n",
       "      <td>E:\\data\\RSNA2024\\pngs_256\\838134337_1285354049...</td>\n",
       "      <td>Sagittal T2/STIR</td>\n",
       "      <td>H</td>\n",
       "      <td>H</td>\n",
       "      <td>1</td>\n",
       "      <td>20</td>\n",
       "      <td>0</td>\n",
       "      <td>0.00</td>\n",
       "    </tr>\n",
       "    <tr>\n",
       "      <th>140321</th>\n",
       "      <td>838134337</td>\n",
       "      <td>1285354049</td>\n",
       "      <td>10</td>\n",
       "      <td>-20</td>\n",
       "      <td>10</td>\n",
       "      <td>448</td>\n",
       "      <td>448</td>\n",
       "      <td>4.0</td>\n",
       "      <td>4.48</td>\n",
       "      <td>HFS</td>\n",
       "      <td>...</td>\n",
       "      <td>838134337_1285354049</td>\n",
       "      <td>838134337_1285354049_10</td>\n",
       "      <td>E:\\data\\RSNA2024\\pngs_256\\838134337_1285354049...</td>\n",
       "      <td>Sagittal T2/STIR</td>\n",
       "      <td>H</td>\n",
       "      <td>H</td>\n",
       "      <td>1</td>\n",
       "      <td>20</td>\n",
       "      <td>9</td>\n",
       "      <td>0.45</td>\n",
       "    </tr>\n",
       "  </tbody>\n",
       "</table>\n",
       "<p>2 rows × 21 columns</p>\n",
       "</div>"
      ],
      "text/plain": [
       "         study_id   series_id  image  proj  instancenumber  rows  columns  \\\n",
       "140320  838134337  1285354049      1    19               1   448      448   \n",
       "140321  838134337  1285354049     10   -20              10   448      448   \n",
       "\n",
       "        slicethickness  spacingbetweenslices patientposition  ...  \\\n",
       "140320             4.0                  4.48             HFS  ...   \n",
       "140321             4.0                  4.48             HFS  ...   \n",
       "\n",
       "                       ss_id              instance_id  \\\n",
       "140320  838134337_1285354049   838134337_1285354049_1   \n",
       "140321  838134337_1285354049  838134337_1285354049_10   \n",
       "\n",
       "                                                 filename series_description  \\\n",
       "140320  E:\\data\\RSNA2024\\pngs_256\\838134337_1285354049...   Sagittal T2/STIR   \n",
       "140321  E:\\data\\RSNA2024\\pngs_256\\838134337_1285354049...   Sagittal T2/STIR   \n",
       "\n",
       "       cl condition inst_min  inst_max  inst  inst_perc  \n",
       "140320  H         H        1        20     0       0.00  \n",
       "140321  H         H        1        20     9       0.45  \n",
       "\n",
       "[2 rows x 21 columns]"
      ]
     },
     "execution_count": 22,
     "metadata": {},
     "output_type": "execute_result"
    }
   ],
   "source": [
    "selected_files = files_df[files_df.study_id == study_id]\n",
    "\n",
    "selected_files.head(2)"
   ]
  },
  {
   "cell_type": "code",
   "execution_count": 23,
   "id": "d5d09e47-8138-497d-a2b8-3bb77eabbf8b",
   "metadata": {},
   "outputs": [],
   "source": [
    "# selected_files.groupby('series_description').sort(['proj'])"
   ]
  },
  {
   "cell_type": "code",
   "execution_count": 24,
   "id": "ee5c11b0-6667-4960-942f-85d28c48de13",
   "metadata": {},
   "outputs": [
    {
     "name": "stdout",
     "output_type": "stream",
     "text": [
      "Axial T2\n",
      "63\n",
      "Sagittal T1\n",
      "20\n",
      "Sagittal T2/STIR\n",
      "20\n"
     ]
    }
   ],
   "source": [
    "for name, group in selected_files.sort_values('proj').groupby('series_description'):\n",
    "    print(name)\n",
    "    print(group.image.count())"
   ]
  },
  {
   "cell_type": "code",
   "execution_count": 25,
   "id": "d2189f49-cd27-4f31-ab30-eaff0dcca726",
   "metadata": {
    "scrolled": true
   },
   "outputs": [
    {
     "data": {
      "text/plain": [
       "WindowsPath('E:/data/RSNA2024/embeddings/838134337_1285354049_1.npy')"
      ]
     },
     "execution_count": 25,
     "metadata": {},
     "output_type": "execute_result"
    }
   ],
   "source": [
    "files = files_df[files_df.study_id == study_id].instance_id.to_list()\n",
    "files = [CFG.embeds_path / f'{f}.npy' for f in files]\n",
    "\n",
    "files[0]"
   ]
  },
  {
   "cell_type": "code",
   "execution_count": 26,
   "id": "3b2d8816-8ce1-4df0-b306-b13fb231337d",
   "metadata": {},
   "outputs": [
    {
     "data": {
      "text/plain": [
       "array([0.19990681, 0.13388744, 0.081677  , 0.7449569 , 0.11782445,\n",
       "       0.71174335, 0.7239998 , 0.16039702, 0.23803055, 0.7323503 ,\n",
       "       0.78617513, 0.9582367 , 0.12478404, 0.7033064 , 0.5421161 ,\n",
       "       0.8636893 , 0.80034846, 0.81664217, 0.45245513, 0.88537997,\n",
       "       0.676709  , 0.3442399 , 0.8683454 , 0.93591374, 0.22409391,\n",
       "       0.9467593 , 0.42132142, 0.6168075 , 0.2643018 , 0.14936103,\n",
       "       0.6911781 , 0.8419221 , 0.40297708, 0.65192336, 0.58653873,\n",
       "       0.2654458 , 0.7226292 , 0.4850632 , 0.88341177, 0.21312091,\n",
       "       0.5018644 , 0.28670755, 0.5729891 , 0.67702264, 0.93779194,\n",
       "       0.33582947, 0.75234455, 0.8283155 , 0.40923488, 0.28497517,\n",
       "       0.27483886, 0.31631535, 0.3859773 , 0.2297201 , 0.93978065,\n",
       "       0.1383495 , 0.7521539 , 0.5270227 , 0.29936162, 0.9263395 ,\n",
       "       0.8865664 , 0.9513482 , 0.71094906, 0.8872427 ], dtype=float32)"
      ]
     },
     "execution_count": 26,
     "metadata": {},
     "output_type": "execute_result"
    }
   ],
   "source": [
    "np.load(files[2])"
   ]
  },
  {
   "cell_type": "code",
   "execution_count": 27,
   "id": "d9e9b0f9-ae28-434b-8372-14cad7f6a00c",
   "metadata": {
    "scrolled": true
   },
   "outputs": [
    {
     "data": {
      "text/plain": [
       "[1, 1, 1, 2, 1, 1, 1, 1, 2, 0, 1, 1, 0, 2, 1, 1, 1, 1, 2, 1, 1, 1, 1, 2, 1]"
      ]
     },
     "execution_count": 27,
     "metadata": {},
     "output_type": "execute_result"
    }
   ],
   "source": [
    "train_df[train_df.study_id == study_id].values.flatten().tolist()[1:]"
   ]
  },
  {
   "cell_type": "markdown",
   "id": "1612f8c9-1a36-4c6c-b9cf-d16892d73320",
   "metadata": {},
   "source": [
    "### Dataset"
   ]
  },
  {
   "cell_type": "code",
   "execution_count": 28,
   "id": "f3f86c5e-f9ea-4585-aae3-1ba303a623a6",
   "metadata": {},
   "outputs": [],
   "source": [
    "from dataset import rsna_lstm_dataset"
   ]
  },
  {
   "cell_type": "code",
   "execution_count": 30,
   "id": "30dc6b05-f665-42da-82f9-30e3c46acd5b",
   "metadata": {},
   "outputs": [
    {
     "name": "stdout",
     "output_type": "stream",
     "text": [
      "1975\n",
      "torch.Size([88, 64]) torch.Size([25])\n",
      "torch.float32 torch.int64\n"
     ]
    }
   ],
   "source": [
    "dset = rsna_lstm_dataset(train_df, files_df, CFG.embeds_path)\n",
    "\n",
    "print(dset.__len__())\n",
    "\n",
    "seq, target = dset.__getitem__(1)\n",
    "print(seq.shape, target.shape)\n",
    "print(seq.dtype, target.dtype)"
   ]
  },
  {
   "cell_type": "code",
   "execution_count": 31,
   "id": "c40e2d06-e0db-4e46-88dc-ce9a45ccc903",
   "metadata": {},
   "outputs": [
    {
     "data": {
      "text/plain": [
       "tensor([1, 1, 0, 2, 1, 1, 1, 1, 0, 0, 1, 1, 0, 0, 1, 1, 1, 1, 2, 1, 1, 0, 0, 0,\n",
       "        1])"
      ]
     },
     "execution_count": 31,
     "metadata": {},
     "output_type": "execute_result"
    }
   ],
   "source": [
    "# seq dim: (bs, seq_len, 1, num_features)\n",
    "# target dim: (N, d1)\n",
    "target"
   ]
  },
  {
   "cell_type": "code",
   "execution_count": 32,
   "id": "7e83ed1d-46df-455a-81d2-de0ad736a547",
   "metadata": {},
   "outputs": [
    {
     "data": {
      "text/plain": [
       "tensor([0.4239, 0.5589, 0.5724, 0.3233, 0.5413, 0.4105, 0.2450, 0.2933, 0.5783,\n",
       "        0.3665, 0.2999, 0.3192, 0.6060, 0.4276, 0.7149, 0.6555, 0.4987, 0.2461,\n",
       "        0.5538, 0.3502, 0.3036, 0.5713, 0.4331, 0.4855, 0.2895, 0.6407, 0.5820,\n",
       "        0.2301, 0.5089, 0.4737, 0.4656, 0.6288, 0.4501, 0.5102, 0.2545, 0.6618,\n",
       "        0.2734, 0.5166, 0.4853, 0.6639, 0.4464, 0.7453, 0.3942, 0.4599, 0.4279,\n",
       "        0.5163, 0.4440, 0.4644, 0.7640, 0.5849, 0.7543, 0.5833, 0.7475, 0.7489,\n",
       "        0.3839, 0.4694, 0.2550, 0.4448, 0.2281, 0.6770, 0.6206, 0.5454, 0.2657,\n",
       "        0.5847])"
      ]
     },
     "execution_count": 32,
     "metadata": {},
     "output_type": "execute_result"
    }
   ],
   "source": [
    "seq[0]"
   ]
  },
  {
   "cell_type": "markdown",
   "id": "fd867d32-aa02-4d7f-b01c-0464e4743454",
   "metadata": {},
   "source": [
    "### Data Module"
   ]
  },
  {
   "cell_type": "code",
   "execution_count": 43,
   "id": "6f139987-2152-4998-a85a-1659c5547410",
   "metadata": {},
   "outputs": [],
   "source": [
    "from dataset import rsna_lstm_dataset, collate_fn_padd"
   ]
  },
  {
   "cell_type": "code",
   "execution_count": 44,
   "id": "b9470a56-200b-4239-b398-e80dcd7d0747",
   "metadata": {},
   "outputs": [],
   "source": [
    "# from torch.nn.utils.rnn import pad_sequence\n",
    "\n",
    "# def collate_fn_padd(data):\n",
    "#     tensors, targets = zip(*data)\n",
    "#     features = pad_sequence(tensors, batch_first=True)\n",
    "#     targets = torch.stack(targets)\n",
    "#     return features, targets\n",
    "    \n",
    "class lstm_datamodule(pl.LightningDataModule):\n",
    "    def __init__(self, train_df, val_df, files_df, cfg):\n",
    "        super().__init__()\n",
    "        \n",
    "        self.train_df = train_df\n",
    "        self.val_df = val_df\n",
    "        self.files_df = files_df\n",
    "        \n",
    "        self.train_bs = cfg.BATCH_SIZE\n",
    "        self.val_bs = cfg.BATCH_SIZE\n",
    "\n",
    "        self.cfg = cfg\n",
    "        \n",
    "        self.num_workers = cfg.num_workers\n",
    "        \n",
    "    def train_dataloader(self):\n",
    "        train_ds = rsna_lstm_dataset(self.train_df, self.files_df, self.cfg.embeds_path)\n",
    "        \n",
    "        train_loader = torch.utils.data.DataLoader(\n",
    "            train_ds,\n",
    "            batch_size=self.train_bs,\n",
    "            collate_fn=collate_fn_padd,\n",
    "            pin_memory=False,\n",
    "            drop_last=False,\n",
    "            shuffle=True,\n",
    "            persistent_workers=True,\n",
    "            num_workers=self.num_workers,\n",
    "        )\n",
    "        \n",
    "        return train_loader\n",
    "        \n",
    "    def val_dataloader(self):\n",
    "        val_ds = rsna_lstm_dataset(self.val_df, self.files_df, self.cfg.embeds_path)\n",
    "        \n",
    "        val_loader = torch.utils.data.DataLoader(\n",
    "            val_ds,\n",
    "            batch_size=self.val_bs,\n",
    "            collate_fn=collate_fn_padd,\n",
    "            pin_memory=False,\n",
    "            drop_last=False,\n",
    "            shuffle=False,\n",
    "            persistent_workers=True,\n",
    "            num_workers=2,\n",
    "        )\n",
    "        \n",
    "        return val_loader"
   ]
  },
  {
   "cell_type": "code",
   "execution_count": 46,
   "id": "a96cc534-ef0d-4986-a504-d84350f3a226",
   "metadata": {
    "scrolled": true
   },
   "outputs": [
    {
     "data": {
      "text/plain": [
       "(torch.Size([8, 93, 64]), torch.Size([8, 25]), torch.float32, torch.int64)"
      ]
     },
     "execution_count": 46,
     "metadata": {},
     "output_type": "execute_result"
    }
   ],
   "source": [
    "t_df = train_df[:-100]\n",
    "# t_df = pd.concat([meta_df[:-100], ul_df[:-100]], ignore_index=True)\n",
    "v_df = train_df[-100:]\n",
    "\n",
    "CFG2 = CFG()\n",
    "# CFG2 = copy.deepcopy(CFG)\n",
    "CFG2.BATCH_SIZE = 8\n",
    "CFG2.num_workers = 4\n",
    "\n",
    "dm = lstm_datamodule(t_df, v_df, files_df, CFG2)\n",
    "\n",
    "x, y = next(iter(dm.train_dataloader()))\n",
    "x.shape, y.shape, x.dtype, y.dtype"
   ]
  },
  {
   "cell_type": "code",
   "execution_count": 47,
   "id": "dcded2ba-4250-4dc0-b91e-202b8b2e92e3",
   "metadata": {},
   "outputs": [],
   "source": [
    "del dm"
   ]
  },
  {
   "cell_type": "markdown",
   "id": "27eaf99d-c0df-4c3b-8e0b-e4149287724d",
   "metadata": {},
   "source": [
    "### Loss function"
   ]
  },
  {
   "cell_type": "code",
   "execution_count": 48,
   "id": "8b81ea3d-00dd-40ab-9ae3-18bc6b41bc56",
   "metadata": {
    "jupyter": {
     "source_hidden": true
    }
   },
   "outputs": [],
   "source": [
    "class FocalLossBCE(torch.nn.Module):\n",
    "    def __init__(\n",
    "            self,\n",
    "            alpha: float = 0.25,\n",
    "            gamma: float = 2,\n",
    "            reduction: str = \"mean\",\n",
    "            bce_weight: float = 1.0,\n",
    "            focal_weight: float = 1.0,\n",
    "    ):\n",
    "        super().__init__()\n",
    "        self.alpha = alpha\n",
    "        self.gamma = gamma\n",
    "        self.reduction = reduction\n",
    "        self.bce = torch.nn.BCEWithLogitsLoss(reduction=reduction)\n",
    "        self.bce_weight = bce_weight\n",
    "        self.focal_weight = focal_weight\n",
    "\n",
    "    def forward(self, logits, targets):\n",
    "        focall_loss = torchvision.ops.focal_loss.sigmoid_focal_loss(\n",
    "            inputs=logits,\n",
    "            targets=targets,\n",
    "            alpha=self.alpha,\n",
    "            gamma=self.gamma,\n",
    "            reduction=self.reduction,\n",
    "        )\n",
    "        bce_loss = self.bce(logits, targets)\n",
    "        return self.bce_weight * bce_loss + self.focal_weight * focall_loss\n",
    "\n",
    "class GeM(torch.nn.Module):\n",
    "    def __init__(self, p=3, eps=1e-6):\n",
    "        super(GeM, self).__init__()\n",
    "        self.p = torch.nn.Parameter(torch.ones(1) * p)\n",
    "        self.eps = eps\n",
    "\n",
    "    def forward(self, x):\n",
    "        bs, ch, h, w = x.shape\n",
    "        x = torch.nn.functional.avg_pool2d(x.clamp(min=self.eps).pow(self.p), (x.size(-2), x.size(-1))).pow(\n",
    "            1.0 / self.p)\n",
    "        x = x.view(bs, ch)\n",
    "        return x"
   ]
  },
  {
   "cell_type": "markdown",
   "id": "c0b612aa-046a-43ac-a4af-372ac3e8c5d3",
   "metadata": {},
   "source": [
    "### Model"
   ]
  },
  {
   "cell_type": "markdown",
   "id": "7dbe6f84-498b-4bf8-9ddb-bfc6e1f14f85",
   "metadata": {},
   "source": [
    "#### Definition"
   ]
  },
  {
   "cell_type": "code",
   "execution_count": 100,
   "id": "fb3a5c18-bfd1-4101-956f-d8b4c2ef3341",
   "metadata": {},
   "outputs": [],
   "source": [
    "class LSTMClassifier(pl.LightningModule):\n",
    "    def __init__(self, cfg=CFG):\n",
    "        super(LSTMClassifier, self).__init__()\n",
    "\n",
    "        self.cfg = cfg\n",
    "        \n",
    "        self.input_dim = cfg.input_dim\n",
    "        self.hidden_dim = cfg.hidden_dim\n",
    "        self.target_size = cfg.target_size\n",
    "\n",
    "        self.criterion = torch.nn.CrossEntropyLoss(reduction='none')\n",
    "\n",
    "        self.lstm = nn.LSTM(self.input_dim, self.hidden_dim, num_layers=1, batch_first=True)\n",
    "        self.fc = nn.Linear(self.hidden_dim, self.target_size)\n",
    "        self.classifiers = torch.nn.ModuleList([nn.Linear(self.target_size, 3) for i in range(25)])\n",
    "\n",
    "        wrapped_metric = ClasswiseWrapper(MultilabelAccuracy(num_labels=self.cfg.N_LABELS, average='none'), labels=classes, prefix='multiacc/')\n",
    "        \n",
    "        metrics = MetricCollection({\n",
    "            'macc': MultilabelAccuracy(num_labels=self.cfg.N_LABELS),\n",
    "            'macc_none': wrapped_metric,\n",
    "            'mpr': MultilabelPrecision(num_labels=self.cfg.N_LABELS),\n",
    "            'mrec': MultilabelRecall(num_labels=self.cfg.N_LABELS),\n",
    "            'f1': MultilabelF1Score(num_labels=self.cfg.N_LABELS)\n",
    "        })\n",
    "\n",
    "        self.train_metrics = metrics.clone(prefix='train/')\n",
    "        self.valid_metrics = metrics.clone(prefix='val/')\n",
    "\n",
    "    def forward(self, sequence):\n",
    "        #  seq: (seq_len, bs, num_features)\n",
    "        lstm_out, (h, c) = self.lstm(sequence)\n",
    "        \n",
    "        y = self.fc(h[-1])\n",
    "\n",
    "        preds = [c(y).T for c in self.classifiers]\n",
    "        preds = torch.stack(preds).T\n",
    "        \n",
    "        return preds\n",
    "\n",
    "    def step(self, batch, batch_idx, mode='train'):\n",
    "        x, y = batch\n",
    "\n",
    "        preds = self(x)\n",
    "\n",
    "        loss = self.criterion(preds, y)\n",
    "\n",
    "        # https://discuss.pytorch.org/t/pytorchs-non-deterministic-cross-entropy-loss-and-the-problem-of-reproducibility/172180/9\n",
    "        loss = loss.mean()\n",
    "\n",
    "        if mode == 'train':\n",
    "            output = self.train_metrics(preds, y)\n",
    "            self.log_dict(output)\n",
    "        else:\n",
    "            self.valid_metrics.update(preds, y)\n",
    "\n",
    "        self.log(f'{mode}/loss', loss, on_step=True, on_epoch=True)\n",
    "\n",
    "        return loss\n",
    "\n",
    "    def training_step(self, batch, batch_idx):\n",
    "        loss = self.step(batch, batch_idx, mode='train')\n",
    "        \n",
    "        return loss\n",
    "        \n",
    "    def validation_step(self, batch, batch_idx):\n",
    "        loss = self.step(batch, batch_idx, mode='val')\n",
    "    \n",
    "        return loss\n",
    "\n",
    "    def on_train_epoch_end(self):\n",
    "        self.train_metrics.reset()\n",
    "\n",
    "    def on_validation_epoch_end(self):\n",
    "        output = self.valid_metrics.compute()\n",
    "        self.log_dict(output)\n",
    "\n",
    "        self.valid_metrics.reset()\n",
    "\n",
    "    def configure_optimizers(self):\n",
    "        optimizer = torch.optim.Adam(model.parameters(), lr=self.cfg.LEARNING_RATE, weight_decay=CFG.weight_decay)\n",
    "        \n",
    "        if self.cfg.USE_SCHD:\n",
    "            scheduler_cosine = torch.optim.lr_scheduler.CosineAnnealingLR(optimizer, self.cfg.COS_EPOCHS)\n",
    "            scheduler_warmup = GradualWarmupSchedulerV2(optimizer, multiplier=10, total_epoch=self.cfg.WARM_EPOCHS, after_scheduler=scheduler_cosine)\n",
    "\n",
    "            return [optimizer], [scheduler_warmup]\n",
    "        else:\n",
    "            return optimizer"
   ]
  },
  {
   "cell_type": "markdown",
   "id": "ea0bce47-0115-4125-8de6-03cfcc3912ac",
   "metadata": {},
   "source": [
    "#### building blocks"
   ]
  },
  {
   "cell_type": "code",
   "execution_count": 90,
   "id": "db64ce6f-aa52-4b54-818e-f84f99f7cc88",
   "metadata": {},
   "outputs": [
    {
     "data": {
      "text/plain": [
       "(torch.Size([88, 64]), torch.Size([1, 88, 64]), torch.Size([25]))"
      ]
     },
     "execution_count": 90,
     "metadata": {},
     "output_type": "execute_result"
    }
   ],
   "source": [
    "seq.shape, seq.view(1, len(seq), -1).shape, target.shape"
   ]
  },
  {
   "cell_type": "code",
   "execution_count": 91,
   "id": "216f8e66-4fa2-496f-938d-808f876615be",
   "metadata": {},
   "outputs": [
    {
     "name": "stdout",
     "output_type": "stream",
     "text": [
      "torch.Size([5, 88, 64]) torch.Size([1, 5, 64]) torch.Size([1, 5, 64])\n",
      "torch.Size([5, 64])\n",
      "torch.Size([5, 3])\n"
     ]
    },
    {
     "data": {
      "text/plain": [
       "torch.Size([25, 5, 3])"
      ]
     },
     "execution_count": 91,
     "metadata": {},
     "output_type": "execute_result"
    }
   ],
   "source": [
    "target_size = 64\n",
    "\n",
    "lstm = nn.LSTM(target_size, target_size, num_layers=1, batch_first=True)\n",
    "fc = nn.Linear(target_size, target_size)\n",
    "classifiers = [nn.Linear(target_size, 3) for i in range(25)]\n",
    "\n",
    "lstm_out, (h, c) = lstm(torch.randn(5,88,64))\n",
    "print(lstm_out.shape, h.shape, c.shape)\n",
    "\n",
    "y = fc(h[-1])\n",
    "print(y.shape)\n",
    "\n",
    "preds = [c(y) for c in classifiers]\n",
    "print(preds[0].shape)\n",
    "preds = torch.stack(preds)\n",
    "\n",
    "preds.shape"
   ]
  },
  {
   "cell_type": "code",
   "execution_count": 92,
   "id": "c62b5dec-8e29-4e82-9a9f-13df6de22f4b",
   "metadata": {},
   "outputs": [
    {
     "data": {
      "text/plain": [
       "torch.Size([3, 5, 25])"
      ]
     },
     "execution_count": 92,
     "metadata": {},
     "output_type": "execute_result"
    }
   ],
   "source": [
    "preds.T.shape"
   ]
  },
  {
   "cell_type": "code",
   "execution_count": null,
   "id": "084503fb-34d9-4231-aa1f-b5527560e07c",
   "metadata": {},
   "outputs": [],
   "source": []
  },
  {
   "cell_type": "markdown",
   "id": "67ba76f4-aafe-4807-9707-368350b43d26",
   "metadata": {},
   "source": [
    "#### Test out inputs/outputs"
   ]
  },
  {
   "cell_type": "code",
   "execution_count": 93,
   "id": "bba393e4-d0a3-4fda-b491-56f86b3616bd",
   "metadata": {},
   "outputs": [],
   "source": [
    "model = LSTMClassifier(CFG)"
   ]
  },
  {
   "cell_type": "code",
   "execution_count": 94,
   "id": "9e699999-4750-480a-a27b-d9254f39c277",
   "metadata": {
    "scrolled": true
   },
   "outputs": [
    {
     "data": {
      "text/plain": [
       "tensor(1.1038, grad_fn=<NllLoss2DBackward0>)"
      ]
     },
     "execution_count": 94,
     "metadata": {},
     "output_type": "execute_result"
    }
   ],
   "source": [
    "model.step((seq.view(1, len(seq), -1), target.view(1, len(target))), 0)"
   ]
  },
  {
   "cell_type": "code",
   "execution_count": null,
   "id": "bb003f9c-40c0-45df-b166-18cba071c143",
   "metadata": {},
   "outputs": [],
   "source": []
  },
  {
   "cell_type": "code",
   "execution_count": 95,
   "id": "7d7fbde2-b181-4b23-8539-4450c30dfdbd",
   "metadata": {
    "scrolled": true
   },
   "outputs": [
    {
     "data": {
      "text/plain": [
       "(torch.Size([5, 3, 25]), torch.Size([5, 3, 25]))"
      ]
     },
     "execution_count": 95,
     "metadata": {},
     "output_type": "execute_result"
    }
   ],
   "source": [
    "y = model(torch.randn(5,88,64))\n",
    "\n",
    "y.shape, y.softmax(dim=0).shape"
   ]
  },
  {
   "cell_type": "code",
   "execution_count": 96,
   "id": "858f193e-4ef6-4899-b5a1-17c0ae5657ab",
   "metadata": {},
   "outputs": [],
   "source": [
    "# y[0].softmax(dim=0)"
   ]
  },
  {
   "cell_type": "code",
   "execution_count": 97,
   "id": "5907578a-79a8-4496-8c67-b529e79d1b9a",
   "metadata": {
    "scrolled": true
   },
   "outputs": [
    {
     "data": {
      "text/plain": [
       "tensor([[[0.3271, 0.3245, 0.3209, 0.3137, 0.3169, 0.3333, 0.3335, 0.3495,\n",
       "          0.2808, 0.3891, 0.3383, 0.3145, 0.3139, 0.3272, 0.3225, 0.3030,\n",
       "          0.3107, 0.3147, 0.3478, 0.3183, 0.3744, 0.2880, 0.3164, 0.3018,\n",
       "          0.3393],\n",
       "         [0.3019, 0.3371, 0.3630, 0.3159, 0.3218, 0.3173, 0.3573, 0.3594,\n",
       "          0.3501, 0.3203, 0.3498, 0.3699, 0.3642, 0.3592, 0.3442, 0.3516,\n",
       "          0.3468, 0.3281, 0.3207, 0.3701, 0.3157, 0.3521, 0.3435, 0.3611,\n",
       "          0.3115],\n",
       "         [0.3710, 0.3384, 0.3161, 0.3704, 0.3613, 0.3494, 0.3093, 0.2912,\n",
       "          0.3691, 0.2906, 0.3118, 0.3156, 0.3219, 0.3136, 0.3334, 0.3454,\n",
       "          0.3425, 0.3573, 0.3315, 0.3117, 0.3098, 0.3599, 0.3401, 0.3372,\n",
       "          0.3492]],\n",
       "\n",
       "        [[0.3225, 0.3173, 0.3134, 0.3240, 0.3301, 0.3379, 0.3205, 0.3305,\n",
       "          0.3077, 0.3559, 0.3266, 0.3457, 0.2885, 0.3031, 0.3132, 0.3239,\n",
       "          0.3370, 0.3166, 0.3352, 0.3168, 0.3682, 0.3075, 0.3059, 0.2769,\n",
       "          0.3210],\n",
       "         [0.3017, 0.3148, 0.3632, 0.3437, 0.3037, 0.3262, 0.3465, 0.3597,\n",
       "          0.3647, 0.3578, 0.3571, 0.3452, 0.3540, 0.3471, 0.3293, 0.3010,\n",
       "          0.3235, 0.3524, 0.2940, 0.3747, 0.3200, 0.3616, 0.3015, 0.3511,\n",
       "          0.3030],\n",
       "         [0.3758, 0.3679, 0.3234, 0.3323, 0.3662, 0.3359, 0.3330, 0.3098,\n",
       "          0.3276, 0.2863, 0.3163, 0.3090, 0.3576, 0.3498, 0.3575, 0.3751,\n",
       "          0.3395, 0.3310, 0.3708, 0.3085, 0.3118, 0.3310, 0.3926, 0.3720,\n",
       "          0.3760]],\n",
       "\n",
       "        [[0.3189, 0.3134, 0.3290, 0.3196, 0.3466, 0.2948, 0.3158, 0.3338,\n",
       "          0.2788, 0.3765, 0.3288, 0.3103, 0.2985, 0.3006, 0.3110, 0.3151,\n",
       "          0.2870, 0.3156, 0.3132, 0.3121, 0.3819, 0.3597, 0.3197, 0.3017,\n",
       "          0.3615],\n",
       "         [0.3035, 0.3334, 0.3704, 0.3034, 0.3320, 0.3409, 0.3879, 0.3650,\n",
       "          0.3727, 0.3163, 0.3636, 0.3571, 0.3490, 0.3464, 0.3490, 0.3567,\n",
       "          0.3533, 0.3232, 0.3122, 0.3746, 0.3338, 0.3026, 0.3409, 0.3413,\n",
       "          0.2929],\n",
       "         [0.3775, 0.3533, 0.3006, 0.3771, 0.3214, 0.3643, 0.2963, 0.3013,\n",
       "          0.3484, 0.3072, 0.3076, 0.3326, 0.3525, 0.3530, 0.3401, 0.3282,\n",
       "          0.3597, 0.3612, 0.3746, 0.3134, 0.2843, 0.3377, 0.3394, 0.3570,\n",
       "          0.3456]],\n",
       "\n",
       "        [[0.3110, 0.3140, 0.3028, 0.3074, 0.3192, 0.3400, 0.3360, 0.3296,\n",
       "          0.2835, 0.3924, 0.3107, 0.3353, 0.2984, 0.3250, 0.2953, 0.2937,\n",
       "          0.3159, 0.3119, 0.3381, 0.3067, 0.3524, 0.2974, 0.2995, 0.2774,\n",
       "          0.3267],\n",
       "         [0.3163, 0.3478, 0.3899, 0.3173, 0.3376, 0.3153, 0.3686, 0.3868,\n",
       "          0.3573, 0.3397, 0.3507, 0.3431, 0.3593, 0.3479, 0.3548, 0.3245,\n",
       "          0.3480, 0.3477, 0.3036, 0.3855, 0.3254, 0.3438, 0.3210, 0.3613,\n",
       "          0.3221],\n",
       "         [0.3726, 0.3381, 0.3073, 0.3753, 0.3433, 0.3448, 0.2954, 0.2836,\n",
       "          0.3593, 0.2679, 0.3386, 0.3216, 0.3423, 0.3272, 0.3498, 0.3819,\n",
       "          0.3361, 0.3404, 0.3583, 0.3078, 0.3222, 0.3588, 0.3795, 0.3613,\n",
       "          0.3513]],\n",
       "\n",
       "        [[0.3296, 0.3218, 0.2846, 0.2942, 0.3307, 0.3511, 0.3002, 0.3328,\n",
       "          0.2917, 0.3834, 0.3127, 0.3603, 0.3034, 0.3214, 0.3131, 0.2917,\n",
       "          0.3222, 0.3069, 0.3432, 0.3069, 0.3577, 0.2988, 0.3087, 0.2851,\n",
       "          0.3525],\n",
       "         [0.3429, 0.3029, 0.4102, 0.3360, 0.3404, 0.2937, 0.4028, 0.3835,\n",
       "          0.3511, 0.3367, 0.3512, 0.3404, 0.3538, 0.3494, 0.3903, 0.3397,\n",
       "          0.3457, 0.3121, 0.2814, 0.3873, 0.3239, 0.3271, 0.3098, 0.3502,\n",
       "          0.2905],\n",
       "         [0.3276, 0.3753, 0.3051, 0.3699, 0.3290, 0.3552, 0.2971, 0.2837,\n",
       "          0.3572, 0.2799, 0.3361, 0.2993, 0.3428, 0.3291, 0.2965, 0.3686,\n",
       "          0.3321, 0.3810, 0.3754, 0.3058, 0.3184, 0.3741, 0.3815, 0.3647,\n",
       "          0.3571]]], grad_fn=<SoftmaxBackward0>)"
      ]
     },
     "execution_count": 97,
     "metadata": {},
     "output_type": "execute_result"
    }
   ],
   "source": [
    "y.softmax(dim=1)"
   ]
  },
  {
   "cell_type": "code",
   "execution_count": 35,
   "id": "eb8d27d0-3e13-4a72-b9ab-1a577404171e",
   "metadata": {},
   "outputs": [],
   "source": [
    "# y.softmax(dim=1).sum(dim=1)"
   ]
  },
  {
   "cell_type": "code",
   "execution_count": null,
   "id": "fa214f73-009e-4a83-b120-31d0cd622fc8",
   "metadata": {},
   "outputs": [],
   "source": []
  },
  {
   "cell_type": "markdown",
   "id": "06555295-3b1b-4a61-a6d0-179d2d706f55",
   "metadata": {},
   "source": [
    "### Split"
   ]
  },
  {
   "cell_type": "code",
   "execution_count": 58,
   "id": "2f5937ac-1d2b-4ff5-9dd1-8e2b20de5588",
   "metadata": {},
   "outputs": [],
   "source": [
    "from sklearn.model_selection import ShuffleSplit, StratifiedShuffleSplit"
   ]
  },
  {
   "cell_type": "code",
   "execution_count": 74,
   "id": "a6d98bbb-fa6a-440c-948a-cec30d0972ec",
   "metadata": {},
   "outputs": [
    {
     "data": {
      "text/plain": [
       "(1975, 26)"
      ]
     },
     "execution_count": 74,
     "metadata": {},
     "output_type": "execute_result"
    }
   ],
   "source": [
    "train_df.shape"
   ]
  },
  {
   "cell_type": "code",
   "execution_count": 59,
   "id": "d7d4bc58-5831-4557-a403-6c81c5e3c2b7",
   "metadata": {},
   "outputs": [
    {
     "data": {
      "text/html": [
       "<div>\n",
       "<style scoped>\n",
       "    .dataframe tbody tr th:only-of-type {\n",
       "        vertical-align: middle;\n",
       "    }\n",
       "\n",
       "    .dataframe tbody tr th {\n",
       "        vertical-align: top;\n",
       "    }\n",
       "\n",
       "    .dataframe thead th {\n",
       "        text-align: right;\n",
       "    }\n",
       "</style>\n",
       "<table border=\"1\" class=\"dataframe\">\n",
       "  <thead>\n",
       "    <tr style=\"text-align: right;\">\n",
       "      <th></th>\n",
       "      <th>study_id</th>\n",
       "      <th>SCSL1L2</th>\n",
       "      <th>SCSL2L3</th>\n",
       "      <th>SCSL3L4</th>\n",
       "      <th>SCSL4L5</th>\n",
       "      <th>SCSL5S1</th>\n",
       "      <th>LNFNL1L2</th>\n",
       "      <th>LNFNL2L3</th>\n",
       "      <th>LNFNL3L4</th>\n",
       "      <th>LNFNL4L5</th>\n",
       "      <th>...</th>\n",
       "      <th>LSSL1L2</th>\n",
       "      <th>LSSL2L3</th>\n",
       "      <th>LSSL3L4</th>\n",
       "      <th>LSSL4L5</th>\n",
       "      <th>LSSL5S1</th>\n",
       "      <th>RSSL1L2</th>\n",
       "      <th>RSSL2L3</th>\n",
       "      <th>RSSL3L4</th>\n",
       "      <th>RSSL4L5</th>\n",
       "      <th>RSSL5S1</th>\n",
       "    </tr>\n",
       "  </thead>\n",
       "  <tbody>\n",
       "    <tr>\n",
       "      <th>1454</th>\n",
       "      <td>3168755174</td>\n",
       "      <td>1</td>\n",
       "      <td>1</td>\n",
       "      <td>2</td>\n",
       "      <td>1</td>\n",
       "      <td>1</td>\n",
       "      <td>1</td>\n",
       "      <td>1</td>\n",
       "      <td>1</td>\n",
       "      <td>0</td>\n",
       "      <td>...</td>\n",
       "      <td>1</td>\n",
       "      <td>1</td>\n",
       "      <td>2</td>\n",
       "      <td>1</td>\n",
       "      <td>1</td>\n",
       "      <td>1</td>\n",
       "      <td>1</td>\n",
       "      <td>2</td>\n",
       "      <td>2</td>\n",
       "      <td>2</td>\n",
       "    </tr>\n",
       "    <tr>\n",
       "      <th>1762</th>\n",
       "      <td>3847067228</td>\n",
       "      <td>1</td>\n",
       "      <td>1</td>\n",
       "      <td>1</td>\n",
       "      <td>1</td>\n",
       "      <td>1</td>\n",
       "      <td>1</td>\n",
       "      <td>1</td>\n",
       "      <td>1</td>\n",
       "      <td>1</td>\n",
       "      <td>...</td>\n",
       "      <td>1</td>\n",
       "      <td>1</td>\n",
       "      <td>1</td>\n",
       "      <td>1</td>\n",
       "      <td>1</td>\n",
       "      <td>1</td>\n",
       "      <td>1</td>\n",
       "      <td>1</td>\n",
       "      <td>1</td>\n",
       "      <td>1</td>\n",
       "    </tr>\n",
       "  </tbody>\n",
       "</table>\n",
       "<p>2 rows × 26 columns</p>\n",
       "</div>"
      ],
      "text/plain": [
       "        study_id SCSL1L2 SCSL2L3 SCSL3L4 SCSL4L5 SCSL5S1 LNFNL1L2 LNFNL2L3  \\\n",
       "1454  3168755174       1       1       2       1       1        1        1   \n",
       "1762  3847067228       1       1       1       1       1        1        1   \n",
       "\n",
       "     LNFNL3L4 LNFNL4L5  ... LSSL1L2 LSSL2L3 LSSL3L4 LSSL4L5 LSSL5S1 RSSL1L2  \\\n",
       "1454        1        0  ...       1       1       2       1       1       1   \n",
       "1762        1        1  ...       1       1       1       1       1       1   \n",
       "\n",
       "     RSSL2L3 RSSL3L4 RSSL4L5 RSSL5S1  \n",
       "1454       1       2       2       2  \n",
       "1762       1       1       1       1  \n",
       "\n",
       "[2 rows x 26 columns]"
      ]
     },
     "execution_count": 59,
     "metadata": {},
     "output_type": "execute_result"
    }
   ],
   "source": [
    "train_df.sample(2)"
   ]
  },
  {
   "cell_type": "code",
   "execution_count": 77,
   "id": "77f89972-e3bd-4235-81d5-527935b2dc35",
   "metadata": {
    "scrolled": true
   },
   "outputs": [
    {
     "data": {
      "text/plain": [
       "(1975, 25)"
      ]
     },
     "execution_count": 77,
     "metadata": {},
     "output_type": "execute_result"
    }
   ],
   "source": [
    "train_df.iloc[:,1:].shape"
   ]
  },
  {
   "cell_type": "code",
   "execution_count": 78,
   "id": "7750c5c4-6a84-40ee-b721-382ce61ecab5",
   "metadata": {
    "scrolled": true
   },
   "outputs": [
    {
     "ename": "ValueError",
     "evalue": "The least populated class in y has only 1 member, which is too few. The minimum number of groups for any class cannot be less than 2.",
     "output_type": "error",
     "traceback": [
      "\u001b[1;31m---------------------------------------------------------------------------\u001b[0m",
      "\u001b[1;31mValueError\u001b[0m                                Traceback (most recent call last)",
      "Cell \u001b[1;32mIn[78], line 2\u001b[0m\n\u001b[0;32m      1\u001b[0m sss \u001b[38;5;241m=\u001b[39m StratifiedShuffleSplit(n_splits\u001b[38;5;241m=\u001b[39m\u001b[38;5;241m1\u001b[39m, test_size\u001b[38;5;241m=\u001b[39m\u001b[38;5;241m1\u001b[39m\u001b[38;5;241m-\u001b[39mCFG\u001b[38;5;241m.\u001b[39msplit_fraction, random_state\u001b[38;5;241m=\u001b[39mCFG\u001b[38;5;241m.\u001b[39mrandom_seed)\n\u001b[1;32m----> 2\u001b[0m train_idx, val_idx \u001b[38;5;241m=\u001b[39m \u001b[38;5;28;43mnext\u001b[39;49m\u001b[43m(\u001b[49m\u001b[43msss\u001b[49m\u001b[38;5;241;43m.\u001b[39;49m\u001b[43msplit\u001b[49m\u001b[43m(\u001b[49m\u001b[43mtrain_df\u001b[49m\u001b[38;5;241;43m.\u001b[39;49m\u001b[43mstudy_id\u001b[49m\u001b[43m,\u001b[49m\u001b[43m \u001b[49m\u001b[43mtrain_df\u001b[49m\u001b[38;5;241;43m.\u001b[39;49m\u001b[43miloc\u001b[49m\u001b[43m[\u001b[49m\u001b[43m:\u001b[49m\u001b[43m,\u001b[49m\u001b[38;5;241;43m1\u001b[39;49m\u001b[43m:\u001b[49m\u001b[43m]\u001b[49m\u001b[43m)\u001b[49m\u001b[43m)\u001b[49m\n\u001b[0;32m      4\u001b[0m t_df \u001b[38;5;241m=\u001b[39m train_df\u001b[38;5;241m.\u001b[39miloc[train_idx]\n\u001b[0;32m      5\u001b[0m v_df \u001b[38;5;241m=\u001b[39m train_df\u001b[38;5;241m.\u001b[39miloc[val_idx]\n",
      "File \u001b[1;32mC:\\ProgramData\\anaconda3\\envs\\rsna\\lib\\site-packages\\sklearn\\model_selection\\_split.py:1843\u001b[0m, in \u001b[0;36mBaseShuffleSplit.split\u001b[1;34m(self, X, y, groups)\u001b[0m\n\u001b[0;32m   1813\u001b[0m \u001b[38;5;250m\u001b[39m\u001b[38;5;124;03m\"\"\"Generate indices to split data into training and test set.\u001b[39;00m\n\u001b[0;32m   1814\u001b[0m \n\u001b[0;32m   1815\u001b[0m \u001b[38;5;124;03mParameters\u001b[39;00m\n\u001b[1;32m   (...)\u001b[0m\n\u001b[0;32m   1840\u001b[0m \u001b[38;5;124;03mto an integer.\u001b[39;00m\n\u001b[0;32m   1841\u001b[0m \u001b[38;5;124;03m\"\"\"\u001b[39;00m\n\u001b[0;32m   1842\u001b[0m X, y, groups \u001b[38;5;241m=\u001b[39m indexable(X, y, groups)\n\u001b[1;32m-> 1843\u001b[0m \u001b[38;5;28;01mfor\u001b[39;00m train, test \u001b[38;5;129;01min\u001b[39;00m \u001b[38;5;28mself\u001b[39m\u001b[38;5;241m.\u001b[39m_iter_indices(X, y, groups):\n\u001b[0;32m   1844\u001b[0m     \u001b[38;5;28;01myield\u001b[39;00m train, test\n",
      "File \u001b[1;32mC:\\ProgramData\\anaconda3\\envs\\rsna\\lib\\site-packages\\sklearn\\model_selection\\_split.py:2247\u001b[0m, in \u001b[0;36mStratifiedShuffleSplit._iter_indices\u001b[1;34m(self, X, y, groups)\u001b[0m\n\u001b[0;32m   2245\u001b[0m class_counts \u001b[38;5;241m=\u001b[39m np\u001b[38;5;241m.\u001b[39mbincount(y_indices)\n\u001b[0;32m   2246\u001b[0m \u001b[38;5;28;01mif\u001b[39;00m np\u001b[38;5;241m.\u001b[39mmin(class_counts) \u001b[38;5;241m<\u001b[39m \u001b[38;5;241m2\u001b[39m:\n\u001b[1;32m-> 2247\u001b[0m     \u001b[38;5;28;01mraise\u001b[39;00m \u001b[38;5;167;01mValueError\u001b[39;00m(\n\u001b[0;32m   2248\u001b[0m         \u001b[38;5;124m\"\u001b[39m\u001b[38;5;124mThe least populated class in y has only 1\u001b[39m\u001b[38;5;124m\"\u001b[39m\n\u001b[0;32m   2249\u001b[0m         \u001b[38;5;124m\"\u001b[39m\u001b[38;5;124m member, which is too few. The minimum\u001b[39m\u001b[38;5;124m\"\u001b[39m\n\u001b[0;32m   2250\u001b[0m         \u001b[38;5;124m\"\u001b[39m\u001b[38;5;124m number of groups for any class cannot\u001b[39m\u001b[38;5;124m\"\u001b[39m\n\u001b[0;32m   2251\u001b[0m         \u001b[38;5;124m\"\u001b[39m\u001b[38;5;124m be less than 2.\u001b[39m\u001b[38;5;124m\"\u001b[39m\n\u001b[0;32m   2252\u001b[0m     )\n\u001b[0;32m   2254\u001b[0m \u001b[38;5;28;01mif\u001b[39;00m n_train \u001b[38;5;241m<\u001b[39m n_classes:\n\u001b[0;32m   2255\u001b[0m     \u001b[38;5;28;01mraise\u001b[39;00m \u001b[38;5;167;01mValueError\u001b[39;00m(\n\u001b[0;32m   2256\u001b[0m         \u001b[38;5;124m\"\u001b[39m\u001b[38;5;124mThe train_size = \u001b[39m\u001b[38;5;132;01m%d\u001b[39;00m\u001b[38;5;124m should be greater or \u001b[39m\u001b[38;5;124m\"\u001b[39m\n\u001b[0;32m   2257\u001b[0m         \u001b[38;5;124m\"\u001b[39m\u001b[38;5;124mequal to the number of classes = \u001b[39m\u001b[38;5;132;01m%d\u001b[39;00m\u001b[38;5;124m\"\u001b[39m \u001b[38;5;241m%\u001b[39m (n_train, n_classes)\n\u001b[0;32m   2258\u001b[0m     )\n",
      "\u001b[1;31mValueError\u001b[0m: The least populated class in y has only 1 member, which is too few. The minimum number of groups for any class cannot be less than 2."
     ]
    }
   ],
   "source": [
    "sss = StratifiedShuffleSplit(n_splits=1, test_size=1-CFG.split_fraction, random_state=CFG.random_seed)\n",
    "train_idx, val_idx = next(sss.split(train_df.study_id, train_df.iloc[:,1:]))\n",
    "\n",
    "t_df = train_df.iloc[train_idx]\n",
    "v_df = train_df.iloc[val_idx]\n",
    "\n",
    "t_df.shape, v_df.shape"
   ]
  },
  {
   "cell_type": "code",
   "execution_count": null,
   "id": "6f770220-1030-4eba-a795-0f7a64897cd8",
   "metadata": {},
   "outputs": [],
   "source": []
  },
  {
   "cell_type": "markdown",
   "id": "b65639fe-3d08-4648-b43b-182e115e3f31",
   "metadata": {},
   "source": [
    "### Train"
   ]
  },
  {
   "cell_type": "code",
   "execution_count": 63,
   "id": "1d962eff-eb52-4dae-b719-3c946820dd14",
   "metadata": {},
   "outputs": [
    {
     "data": {
      "text/plain": [
       "(16, 'cuda')"
      ]
     },
     "execution_count": 63,
     "metadata": {},
     "output_type": "execute_result"
    }
   ],
   "source": [
    "CFG.BATCH_SIZE, CFG.device"
   ]
  },
  {
   "cell_type": "code",
   "execution_count": 81,
   "id": "18833b22-37b8-41c1-a26d-5e3d562af2fa",
   "metadata": {},
   "outputs": [
    {
     "data": {
      "text/plain": [
       "(118, 7)"
      ]
     },
     "execution_count": 81,
     "metadata": {},
     "output_type": "execute_result"
    }
   ],
   "source": [
    "dm = lstm_datamodule(t_df, v_df, files_df, cfg=CFG)\n",
    "\n",
    "len(dm.train_dataloader()), len(dm.val_dataloader())"
   ]
  },
  {
   "cell_type": "code",
   "execution_count": 82,
   "id": "75533bc2-e183-4eb4-8af7-7932265d3d68",
   "metadata": {},
   "outputs": [
    {
     "data": {
      "text/plain": [
       "'eca_nfnet_l0 5e-05 10 eps first'"
      ]
     },
     "execution_count": 82,
     "metadata": {},
     "output_type": "execute_result"
    }
   ],
   "source": [
    "run_name = f'{CFG.model_name} {CFG.LEARNING_RATE} {CFG.N_EPOCHS} eps {CFG.comment}'\n",
    "run_name"
   ]
  },
  {
   "cell_type": "code",
   "execution_count": 83,
   "id": "200899c1-1c35-4fcb-b66f-e52174f290d2",
   "metadata": {},
   "outputs": [],
   "source": [
    "wandb_logger = WandbLogger(\n",
    "    name=run_name,\n",
    "    project=CFG.project,\n",
    "    job_type='train',\n",
    "    save_dir=CFG.RESULTS_DIR,\n",
    "    # config=cfg,\n",
    ")\n",
    "\n",
    "loss_ckpt = pl.callbacks.ModelCheckpoint(\n",
    "    monitor='val/loss',\n",
    "    auto_insert_metric_name=False,\n",
    "    dirpath=CFG.CKPT_DIR / run_name,\n",
    "    filename='ep_{epoch:02d}_loss_{val/loss:.5f}',\n",
    "    save_top_k=2,\n",
    "    mode='min',\n",
    ")\n",
    "\n",
    "# acc_ckpt = pl.callbacks.ModelCheckpoint(\n",
    "#     monitor='val/acc',\n",
    "#     auto_insert_metric_name=False,\n",
    "#     dirpath=CFG.CKPT_DIR / run_name,\n",
    "#     filename='ep_{epoch:02d}_acc_{val/acc:.5f}',\n",
    "#     save_top_k=2,\n",
    "#     mode='max',\n",
    "# )\n",
    "\n",
    "lr_monitor = LearningRateMonitor(logging_interval='step')"
   ]
  },
  {
   "cell_type": "code",
   "execution_count": 84,
   "id": "cf6a4bab-5d8e-4503-8036-00219a58f9a8",
   "metadata": {},
   "outputs": [
    {
     "name": "stderr",
     "output_type": "stream",
     "text": [
      "GPU available: True (cuda), used: True\n",
      "TPU available: False, using: 0 TPU cores\n",
      "HPU available: False, using: 0 HPUs\n"
     ]
    }
   ],
   "source": [
    "trainer = pl.Trainer(\n",
    "    max_epochs=CFG.N_EPOCHS,\n",
    "    deterministic=True,\n",
    "    accelerator=CFG.device,\n",
    "    default_root_dir=CFG.RESULTS_DIR,\n",
    "    gradient_clip_val=0.5, \n",
    "    # gradient_clip_algorithm=\"value\",\n",
    "    logger=wandb_logger,\n",
    "    callbacks=[loss_ckpt, lr_monitor],\n",
    ")"
   ]
  },
  {
   "cell_type": "code",
   "execution_count": 101,
   "id": "f1a703ce-c59f-4f56-9342-36afb66ed369",
   "metadata": {},
   "outputs": [],
   "source": [
    "model = LSTMClassifier(CFG)"
   ]
  },
  {
   "cell_type": "code",
   "execution_count": null,
   "id": "edb5f76b-fe27-4b15-a64c-f5fe6029d0fb",
   "metadata": {},
   "outputs": [],
   "source": []
  },
  {
   "cell_type": "code",
   "execution_count": null,
   "id": "e29c6591-31ea-4bc0-ac02-1bfbc271c4f8",
   "metadata": {},
   "outputs": [],
   "source": []
  },
  {
   "cell_type": "code",
   "execution_count": null,
   "id": "9c520684-2f98-469a-abc4-116f75369345",
   "metadata": {},
   "outputs": [],
   "source": []
  },
  {
   "cell_type": "markdown",
   "id": "98838e46-7969-4fc8-a225-3d8e67298b51",
   "metadata": {},
   "source": [
    "#### Fit"
   ]
  },
  {
   "cell_type": "code",
   "execution_count": 102,
   "id": "c5e8c0b8-46f7-4519-9f74-5f672c9f6d27",
   "metadata": {
    "scrolled": true
   },
   "outputs": [
    {
     "name": "stderr",
     "output_type": "stream",
     "text": [
      "LOCAL_RANK: 0 - CUDA_VISIBLE_DEVICES: [0]\n",
      "\n",
      "  | Name          | Type             | Params | Mode \n",
      "-----------------------------------------------------------\n",
      "0 | criterion     | CrossEntropyLoss | 0      | train\n",
      "1 | lstm          | LSTM             | 33.3 K | train\n",
      "2 | fc            | Linear           | 4.2 K  | train\n",
      "3 | classifiers   | ModuleList       | 4.9 K  | train\n",
      "4 | train_metrics | MetricCollection | 0      | train\n",
      "5 | valid_metrics | MetricCollection | 0      | train\n",
      "-----------------------------------------------------------\n",
      "42.3 K    Trainable params\n",
      "0         Non-trainable params\n",
      "42.3 K    Total params\n",
      "0.169     Total estimated model params size (MB)\n",
      "43        Modules in train mode\n",
      "0         Modules in eval mode\n"
     ]
    },
    {
     "data": {
      "application/vnd.jupyter.widget-view+json": {
       "model_id": "",
       "version_major": 2,
       "version_minor": 0
      },
      "text/plain": [
       "Sanity Checking: |                                                                        | 0/? [00:00<?, ?it/…"
      ]
     },
     "metadata": {},
     "output_type": "display_data"
    },
    {
     "name": "stderr",
     "output_type": "stream",
     "text": [
      "C:\\ProgramData\\anaconda3\\envs\\rsna\\lib\\site-packages\\torchmetrics\\utilities\\prints.py:43: UserWarning: The ``compute`` method of metric MultilabelF1Score was called before the ``update`` method which may lead to errors, as metric states have not yet been updated.\n",
      "  warnings.warn(*args, **kwargs)  # noqa: B028\n",
      "C:\\ProgramData\\anaconda3\\envs\\rsna\\lib\\site-packages\\torchmetrics\\utilities\\prints.py:43: UserWarning: The ``compute`` method of metric MultilabelAccuracy was called before the ``update`` method which may lead to errors, as metric states have not yet been updated.\n",
      "  warnings.warn(*args, **kwargs)  # noqa: B028\n",
      "C:\\ProgramData\\anaconda3\\envs\\rsna\\lib\\site-packages\\torchmetrics\\utilities\\prints.py:43: UserWarning: The ``compute`` method of metric MultilabelPrecision was called before the ``update`` method which may lead to errors, as metric states have not yet been updated.\n",
      "  warnings.warn(*args, **kwargs)  # noqa: B028\n",
      "C:\\ProgramData\\anaconda3\\envs\\rsna\\lib\\site-packages\\torchmetrics\\utilities\\prints.py:43: UserWarning: The ``compute`` method of metric MultilabelRecall was called before the ``update`` method which may lead to errors, as metric states have not yet been updated.\n",
      "  warnings.warn(*args, **kwargs)  # noqa: B028\n"
     ]
    },
    {
     "data": {
      "application/vnd.jupyter.widget-view+json": {
       "model_id": "26f882126d7148518fa44c10899c9a49",
       "version_major": 2,
       "version_minor": 0
      },
      "text/plain": [
       "Training: |                                                                               | 0/? [00:00<?, ?it/…"
      ]
     },
     "metadata": {},
     "output_type": "display_data"
    },
    {
     "data": {
      "application/vnd.jupyter.widget-view+json": {
       "model_id": "",
       "version_major": 2,
       "version_minor": 0
      },
      "text/plain": [
       "Validation: |                                                                             | 0/? [00:00<?, ?it/…"
      ]
     },
     "metadata": {},
     "output_type": "display_data"
    },
    {
     "ename": "MisconfigurationException",
     "evalue": "`ModelCheckpoint(monitor='val/loss')` could not find the monitored key in the returned metrics: ['lr-Adam', 'val/f1', 'val/macc', 'val/multiacc/SCS', 'val/multiacc/RNFN', 'val/multiacc/LNFN', 'val/multiacc/LSS', 'val/multiacc/RSS', 'val/multiacc/H', 'val/mpr', 'val/mrec', 'epoch', 'step']. HINT: Did you call `log('val/loss', value)` in the `LightningModule`?",
     "output_type": "error",
     "traceback": [
      "\u001b[1;31m---------------------------------------------------------------------------\u001b[0m",
      "\u001b[1;31mMisconfigurationException\u001b[0m                 Traceback (most recent call last)",
      "Cell \u001b[1;32mIn[102], line 1\u001b[0m\n\u001b[1;32m----> 1\u001b[0m \u001b[43mtrainer\u001b[49m\u001b[38;5;241;43m.\u001b[39;49m\u001b[43mfit\u001b[49m\u001b[43m(\u001b[49m\u001b[43mmodel\u001b[49m\u001b[43m,\u001b[49m\u001b[43m \u001b[49m\u001b[43mdm\u001b[49m\u001b[43m)\u001b[49m\n",
      "File \u001b[1;32mC:\\ProgramData\\anaconda3\\envs\\rsna\\lib\\site-packages\\pytorch_lightning\\trainer\\trainer.py:538\u001b[0m, in \u001b[0;36mTrainer.fit\u001b[1;34m(self, model, train_dataloaders, val_dataloaders, datamodule, ckpt_path)\u001b[0m\n\u001b[0;32m    536\u001b[0m \u001b[38;5;28mself\u001b[39m\u001b[38;5;241m.\u001b[39mstate\u001b[38;5;241m.\u001b[39mstatus \u001b[38;5;241m=\u001b[39m TrainerStatus\u001b[38;5;241m.\u001b[39mRUNNING\n\u001b[0;32m    537\u001b[0m \u001b[38;5;28mself\u001b[39m\u001b[38;5;241m.\u001b[39mtraining \u001b[38;5;241m=\u001b[39m \u001b[38;5;28;01mTrue\u001b[39;00m\n\u001b[1;32m--> 538\u001b[0m \u001b[43mcall\u001b[49m\u001b[38;5;241;43m.\u001b[39;49m\u001b[43m_call_and_handle_interrupt\u001b[49m\u001b[43m(\u001b[49m\n\u001b[0;32m    539\u001b[0m \u001b[43m    \u001b[49m\u001b[38;5;28;43mself\u001b[39;49m\u001b[43m,\u001b[49m\u001b[43m \u001b[49m\u001b[38;5;28;43mself\u001b[39;49m\u001b[38;5;241;43m.\u001b[39;49m\u001b[43m_fit_impl\u001b[49m\u001b[43m,\u001b[49m\u001b[43m \u001b[49m\u001b[43mmodel\u001b[49m\u001b[43m,\u001b[49m\u001b[43m \u001b[49m\u001b[43mtrain_dataloaders\u001b[49m\u001b[43m,\u001b[49m\u001b[43m \u001b[49m\u001b[43mval_dataloaders\u001b[49m\u001b[43m,\u001b[49m\u001b[43m \u001b[49m\u001b[43mdatamodule\u001b[49m\u001b[43m,\u001b[49m\u001b[43m \u001b[49m\u001b[43mckpt_path\u001b[49m\n\u001b[0;32m    540\u001b[0m \u001b[43m\u001b[49m\u001b[43m)\u001b[49m\n",
      "File \u001b[1;32mC:\\ProgramData\\anaconda3\\envs\\rsna\\lib\\site-packages\\pytorch_lightning\\trainer\\call.py:47\u001b[0m, in \u001b[0;36m_call_and_handle_interrupt\u001b[1;34m(trainer, trainer_fn, *args, **kwargs)\u001b[0m\n\u001b[0;32m     45\u001b[0m     \u001b[38;5;28;01mif\u001b[39;00m trainer\u001b[38;5;241m.\u001b[39mstrategy\u001b[38;5;241m.\u001b[39mlauncher \u001b[38;5;129;01mis\u001b[39;00m \u001b[38;5;129;01mnot\u001b[39;00m \u001b[38;5;28;01mNone\u001b[39;00m:\n\u001b[0;32m     46\u001b[0m         \u001b[38;5;28;01mreturn\u001b[39;00m trainer\u001b[38;5;241m.\u001b[39mstrategy\u001b[38;5;241m.\u001b[39mlauncher\u001b[38;5;241m.\u001b[39mlaunch(trainer_fn, \u001b[38;5;241m*\u001b[39margs, trainer\u001b[38;5;241m=\u001b[39mtrainer, \u001b[38;5;241m*\u001b[39m\u001b[38;5;241m*\u001b[39mkwargs)\n\u001b[1;32m---> 47\u001b[0m     \u001b[38;5;28;01mreturn\u001b[39;00m trainer_fn(\u001b[38;5;241m*\u001b[39margs, \u001b[38;5;241m*\u001b[39m\u001b[38;5;241m*\u001b[39mkwargs)\n\u001b[0;32m     49\u001b[0m \u001b[38;5;28;01mexcept\u001b[39;00m _TunerExitException:\n\u001b[0;32m     50\u001b[0m     _call_teardown_hook(trainer)\n",
      "File \u001b[1;32mC:\\ProgramData\\anaconda3\\envs\\rsna\\lib\\site-packages\\pytorch_lightning\\trainer\\trainer.py:574\u001b[0m, in \u001b[0;36mTrainer._fit_impl\u001b[1;34m(self, model, train_dataloaders, val_dataloaders, datamodule, ckpt_path)\u001b[0m\n\u001b[0;32m    567\u001b[0m \u001b[38;5;28;01massert\u001b[39;00m \u001b[38;5;28mself\u001b[39m\u001b[38;5;241m.\u001b[39mstate\u001b[38;5;241m.\u001b[39mfn \u001b[38;5;129;01mis\u001b[39;00m \u001b[38;5;129;01mnot\u001b[39;00m \u001b[38;5;28;01mNone\u001b[39;00m\n\u001b[0;32m    568\u001b[0m ckpt_path \u001b[38;5;241m=\u001b[39m \u001b[38;5;28mself\u001b[39m\u001b[38;5;241m.\u001b[39m_checkpoint_connector\u001b[38;5;241m.\u001b[39m_select_ckpt_path(\n\u001b[0;32m    569\u001b[0m     \u001b[38;5;28mself\u001b[39m\u001b[38;5;241m.\u001b[39mstate\u001b[38;5;241m.\u001b[39mfn,\n\u001b[0;32m    570\u001b[0m     ckpt_path,\n\u001b[0;32m    571\u001b[0m     model_provided\u001b[38;5;241m=\u001b[39m\u001b[38;5;28;01mTrue\u001b[39;00m,\n\u001b[0;32m    572\u001b[0m     model_connected\u001b[38;5;241m=\u001b[39m\u001b[38;5;28mself\u001b[39m\u001b[38;5;241m.\u001b[39mlightning_module \u001b[38;5;129;01mis\u001b[39;00m \u001b[38;5;129;01mnot\u001b[39;00m \u001b[38;5;28;01mNone\u001b[39;00m,\n\u001b[0;32m    573\u001b[0m )\n\u001b[1;32m--> 574\u001b[0m \u001b[38;5;28;43mself\u001b[39;49m\u001b[38;5;241;43m.\u001b[39;49m\u001b[43m_run\u001b[49m\u001b[43m(\u001b[49m\u001b[43mmodel\u001b[49m\u001b[43m,\u001b[49m\u001b[43m \u001b[49m\u001b[43mckpt_path\u001b[49m\u001b[38;5;241;43m=\u001b[39;49m\u001b[43mckpt_path\u001b[49m\u001b[43m)\u001b[49m\n\u001b[0;32m    576\u001b[0m \u001b[38;5;28;01massert\u001b[39;00m \u001b[38;5;28mself\u001b[39m\u001b[38;5;241m.\u001b[39mstate\u001b[38;5;241m.\u001b[39mstopped\n\u001b[0;32m    577\u001b[0m \u001b[38;5;28mself\u001b[39m\u001b[38;5;241m.\u001b[39mtraining \u001b[38;5;241m=\u001b[39m \u001b[38;5;28;01mFalse\u001b[39;00m\n",
      "File \u001b[1;32mC:\\ProgramData\\anaconda3\\envs\\rsna\\lib\\site-packages\\pytorch_lightning\\trainer\\trainer.py:981\u001b[0m, in \u001b[0;36mTrainer._run\u001b[1;34m(self, model, ckpt_path)\u001b[0m\n\u001b[0;32m    976\u001b[0m \u001b[38;5;28mself\u001b[39m\u001b[38;5;241m.\u001b[39m_signal_connector\u001b[38;5;241m.\u001b[39mregister_signal_handlers()\n\u001b[0;32m    978\u001b[0m \u001b[38;5;66;03m# ----------------------------\u001b[39;00m\n\u001b[0;32m    979\u001b[0m \u001b[38;5;66;03m# RUN THE TRAINER\u001b[39;00m\n\u001b[0;32m    980\u001b[0m \u001b[38;5;66;03m# ----------------------------\u001b[39;00m\n\u001b[1;32m--> 981\u001b[0m results \u001b[38;5;241m=\u001b[39m \u001b[38;5;28;43mself\u001b[39;49m\u001b[38;5;241;43m.\u001b[39;49m\u001b[43m_run_stage\u001b[49m\u001b[43m(\u001b[49m\u001b[43m)\u001b[49m\n\u001b[0;32m    983\u001b[0m \u001b[38;5;66;03m# ----------------------------\u001b[39;00m\n\u001b[0;32m    984\u001b[0m \u001b[38;5;66;03m# POST-Training CLEAN UP\u001b[39;00m\n\u001b[0;32m    985\u001b[0m \u001b[38;5;66;03m# ----------------------------\u001b[39;00m\n\u001b[0;32m    986\u001b[0m log\u001b[38;5;241m.\u001b[39mdebug(\u001b[38;5;124mf\u001b[39m\u001b[38;5;124m\"\u001b[39m\u001b[38;5;132;01m{\u001b[39;00m\u001b[38;5;28mself\u001b[39m\u001b[38;5;241m.\u001b[39m\u001b[38;5;18m__class__\u001b[39m\u001b[38;5;241m.\u001b[39m\u001b[38;5;18m__name__\u001b[39m\u001b[38;5;132;01m}\u001b[39;00m\u001b[38;5;124m: trainer tearing down\u001b[39m\u001b[38;5;124m\"\u001b[39m)\n",
      "File \u001b[1;32mC:\\ProgramData\\anaconda3\\envs\\rsna\\lib\\site-packages\\pytorch_lightning\\trainer\\trainer.py:1025\u001b[0m, in \u001b[0;36mTrainer._run_stage\u001b[1;34m(self)\u001b[0m\n\u001b[0;32m   1023\u001b[0m         \u001b[38;5;28mself\u001b[39m\u001b[38;5;241m.\u001b[39m_run_sanity_check()\n\u001b[0;32m   1024\u001b[0m     \u001b[38;5;28;01mwith\u001b[39;00m torch\u001b[38;5;241m.\u001b[39mautograd\u001b[38;5;241m.\u001b[39mset_detect_anomaly(\u001b[38;5;28mself\u001b[39m\u001b[38;5;241m.\u001b[39m_detect_anomaly):\n\u001b[1;32m-> 1025\u001b[0m         \u001b[38;5;28;43mself\u001b[39;49m\u001b[38;5;241;43m.\u001b[39;49m\u001b[43mfit_loop\u001b[49m\u001b[38;5;241;43m.\u001b[39;49m\u001b[43mrun\u001b[49m\u001b[43m(\u001b[49m\u001b[43m)\u001b[49m\n\u001b[0;32m   1026\u001b[0m     \u001b[38;5;28;01mreturn\u001b[39;00m \u001b[38;5;28;01mNone\u001b[39;00m\n\u001b[0;32m   1027\u001b[0m \u001b[38;5;28;01mraise\u001b[39;00m \u001b[38;5;167;01mRuntimeError\u001b[39;00m(\u001b[38;5;124mf\u001b[39m\u001b[38;5;124m\"\u001b[39m\u001b[38;5;124mUnexpected state \u001b[39m\u001b[38;5;132;01m{\u001b[39;00m\u001b[38;5;28mself\u001b[39m\u001b[38;5;241m.\u001b[39mstate\u001b[38;5;132;01m}\u001b[39;00m\u001b[38;5;124m\"\u001b[39m)\n",
      "File \u001b[1;32mC:\\ProgramData\\anaconda3\\envs\\rsna\\lib\\site-packages\\pytorch_lightning\\loops\\fit_loop.py:206\u001b[0m, in \u001b[0;36m_FitLoop.run\u001b[1;34m(self)\u001b[0m\n\u001b[0;32m    204\u001b[0m     \u001b[38;5;28mself\u001b[39m\u001b[38;5;241m.\u001b[39mon_advance_start()\n\u001b[0;32m    205\u001b[0m     \u001b[38;5;28mself\u001b[39m\u001b[38;5;241m.\u001b[39madvance()\n\u001b[1;32m--> 206\u001b[0m     \u001b[38;5;28;43mself\u001b[39;49m\u001b[38;5;241;43m.\u001b[39;49m\u001b[43mon_advance_end\u001b[49m\u001b[43m(\u001b[49m\u001b[43m)\u001b[49m\n\u001b[0;32m    207\u001b[0m     \u001b[38;5;28mself\u001b[39m\u001b[38;5;241m.\u001b[39m_restarting \u001b[38;5;241m=\u001b[39m \u001b[38;5;28;01mFalse\u001b[39;00m\n\u001b[0;32m    208\u001b[0m \u001b[38;5;28;01mexcept\u001b[39;00m \u001b[38;5;167;01mStopIteration\u001b[39;00m:\n",
      "File \u001b[1;32mC:\\ProgramData\\anaconda3\\envs\\rsna\\lib\\site-packages\\pytorch_lightning\\loops\\fit_loop.py:378\u001b[0m, in \u001b[0;36m_FitLoop.on_advance_end\u001b[1;34m(self)\u001b[0m\n\u001b[0;32m    376\u001b[0m call\u001b[38;5;241m.\u001b[39m_call_callback_hooks(trainer, \u001b[38;5;124m\"\u001b[39m\u001b[38;5;124mon_train_epoch_end\u001b[39m\u001b[38;5;124m\"\u001b[39m, monitoring_callbacks\u001b[38;5;241m=\u001b[39m\u001b[38;5;28;01mFalse\u001b[39;00m)\n\u001b[0;32m    377\u001b[0m call\u001b[38;5;241m.\u001b[39m_call_lightning_module_hook(trainer, \u001b[38;5;124m\"\u001b[39m\u001b[38;5;124mon_train_epoch_end\u001b[39m\u001b[38;5;124m\"\u001b[39m)\n\u001b[1;32m--> 378\u001b[0m \u001b[43mcall\u001b[49m\u001b[38;5;241;43m.\u001b[39;49m\u001b[43m_call_callback_hooks\u001b[49m\u001b[43m(\u001b[49m\u001b[43mtrainer\u001b[49m\u001b[43m,\u001b[49m\u001b[43m \u001b[49m\u001b[38;5;124;43m\"\u001b[39;49m\u001b[38;5;124;43mon_train_epoch_end\u001b[39;49m\u001b[38;5;124;43m\"\u001b[39;49m\u001b[43m,\u001b[49m\u001b[43m \u001b[49m\u001b[43mmonitoring_callbacks\u001b[49m\u001b[38;5;241;43m=\u001b[39;49m\u001b[38;5;28;43;01mTrue\u001b[39;49;00m\u001b[43m)\u001b[49m\n\u001b[0;32m    380\u001b[0m trainer\u001b[38;5;241m.\u001b[39m_logger_connector\u001b[38;5;241m.\u001b[39mon_epoch_end()\n\u001b[0;32m    382\u001b[0m \u001b[38;5;28;01mif\u001b[39;00m \u001b[38;5;28mself\u001b[39m\u001b[38;5;241m.\u001b[39mepoch_loop\u001b[38;5;241m.\u001b[39m_num_ready_batches_reached():\n\u001b[0;32m    383\u001b[0m     \u001b[38;5;66;03m# if we are restarting and the above condition holds, it's because we are reloading an epoch-end checkpoint.\u001b[39;00m\n\u001b[0;32m    384\u001b[0m     \u001b[38;5;66;03m# since metric-based schedulers require access to metrics and those are not currently saved in the\u001b[39;00m\n\u001b[0;32m    385\u001b[0m     \u001b[38;5;66;03m# checkpoint, the plateau schedulers shouldn't be updated\u001b[39;00m\n",
      "File \u001b[1;32mC:\\ProgramData\\anaconda3\\envs\\rsna\\lib\\site-packages\\pytorch_lightning\\trainer\\call.py:218\u001b[0m, in \u001b[0;36m_call_callback_hooks\u001b[1;34m(trainer, hook_name, monitoring_callbacks, *args, **kwargs)\u001b[0m\n\u001b[0;32m    216\u001b[0m     \u001b[38;5;28;01mif\u001b[39;00m \u001b[38;5;28mcallable\u001b[39m(fn):\n\u001b[0;32m    217\u001b[0m         \u001b[38;5;28;01mwith\u001b[39;00m trainer\u001b[38;5;241m.\u001b[39mprofiler\u001b[38;5;241m.\u001b[39mprofile(\u001b[38;5;124mf\u001b[39m\u001b[38;5;124m\"\u001b[39m\u001b[38;5;124m[Callback]\u001b[39m\u001b[38;5;132;01m{\u001b[39;00mcallback\u001b[38;5;241m.\u001b[39mstate_key\u001b[38;5;132;01m}\u001b[39;00m\u001b[38;5;124m.\u001b[39m\u001b[38;5;132;01m{\u001b[39;00mhook_name\u001b[38;5;132;01m}\u001b[39;00m\u001b[38;5;124m\"\u001b[39m):\n\u001b[1;32m--> 218\u001b[0m             fn(trainer, trainer\u001b[38;5;241m.\u001b[39mlightning_module, \u001b[38;5;241m*\u001b[39margs, \u001b[38;5;241m*\u001b[39m\u001b[38;5;241m*\u001b[39mkwargs)\n\u001b[0;32m    220\u001b[0m \u001b[38;5;28;01mif\u001b[39;00m pl_module:\n\u001b[0;32m    221\u001b[0m     \u001b[38;5;66;03m# restore current_fx when nested context\u001b[39;00m\n\u001b[0;32m    222\u001b[0m     pl_module\u001b[38;5;241m.\u001b[39m_current_fx_name \u001b[38;5;241m=\u001b[39m prev_fx_name\n",
      "File \u001b[1;32mC:\\ProgramData\\anaconda3\\envs\\rsna\\lib\\site-packages\\pytorch_lightning\\callbacks\\model_checkpoint.py:325\u001b[0m, in \u001b[0;36mModelCheckpoint.on_train_epoch_end\u001b[1;34m(self, trainer, pl_module)\u001b[0m\n\u001b[0;32m    323\u001b[0m monitor_candidates \u001b[38;5;241m=\u001b[39m \u001b[38;5;28mself\u001b[39m\u001b[38;5;241m.\u001b[39m_monitor_candidates(trainer)\n\u001b[0;32m    324\u001b[0m \u001b[38;5;28;01mif\u001b[39;00m \u001b[38;5;28mself\u001b[39m\u001b[38;5;241m.\u001b[39m_every_n_epochs \u001b[38;5;241m>\u001b[39m\u001b[38;5;241m=\u001b[39m \u001b[38;5;241m1\u001b[39m \u001b[38;5;129;01mand\u001b[39;00m (trainer\u001b[38;5;241m.\u001b[39mcurrent_epoch \u001b[38;5;241m+\u001b[39m \u001b[38;5;241m1\u001b[39m) \u001b[38;5;241m%\u001b[39m \u001b[38;5;28mself\u001b[39m\u001b[38;5;241m.\u001b[39m_every_n_epochs \u001b[38;5;241m==\u001b[39m \u001b[38;5;241m0\u001b[39m:\n\u001b[1;32m--> 325\u001b[0m     \u001b[38;5;28;43mself\u001b[39;49m\u001b[38;5;241;43m.\u001b[39;49m\u001b[43m_save_topk_checkpoint\u001b[49m\u001b[43m(\u001b[49m\u001b[43mtrainer\u001b[49m\u001b[43m,\u001b[49m\u001b[43m \u001b[49m\u001b[43mmonitor_candidates\u001b[49m\u001b[43m)\u001b[49m\n\u001b[0;32m    326\u001b[0m \u001b[38;5;28mself\u001b[39m\u001b[38;5;241m.\u001b[39m_save_last_checkpoint(trainer, monitor_candidates)\n",
      "File \u001b[1;32mC:\\ProgramData\\anaconda3\\envs\\rsna\\lib\\site-packages\\pytorch_lightning\\callbacks\\model_checkpoint.py:383\u001b[0m, in \u001b[0;36mModelCheckpoint._save_topk_checkpoint\u001b[1;34m(self, trainer, monitor_candidates)\u001b[0m\n\u001b[0;32m    377\u001b[0m     m \u001b[38;5;241m=\u001b[39m (\n\u001b[0;32m    378\u001b[0m         \u001b[38;5;124mf\u001b[39m\u001b[38;5;124m\"\u001b[39m\u001b[38;5;124m`ModelCheckpoint(monitor=\u001b[39m\u001b[38;5;132;01m{\u001b[39;00m\u001b[38;5;28mself\u001b[39m\u001b[38;5;241m.\u001b[39mmonitor\u001b[38;5;132;01m!r}\u001b[39;00m\u001b[38;5;124m)` could not find the monitored key in the returned\u001b[39m\u001b[38;5;124m\"\u001b[39m\n\u001b[0;32m    379\u001b[0m         \u001b[38;5;124mf\u001b[39m\u001b[38;5;124m\"\u001b[39m\u001b[38;5;124m metrics: \u001b[39m\u001b[38;5;132;01m{\u001b[39;00m\u001b[38;5;28mlist\u001b[39m(monitor_candidates)\u001b[38;5;132;01m}\u001b[39;00m\u001b[38;5;124m.\u001b[39m\u001b[38;5;124m\"\u001b[39m\n\u001b[0;32m    380\u001b[0m         \u001b[38;5;124mf\u001b[39m\u001b[38;5;124m\"\u001b[39m\u001b[38;5;124m HINT: Did you call `log(\u001b[39m\u001b[38;5;132;01m{\u001b[39;00m\u001b[38;5;28mself\u001b[39m\u001b[38;5;241m.\u001b[39mmonitor\u001b[38;5;132;01m!r}\u001b[39;00m\u001b[38;5;124m, value)` in the `LightningModule`?\u001b[39m\u001b[38;5;124m\"\u001b[39m\n\u001b[0;32m    381\u001b[0m     )\n\u001b[0;32m    382\u001b[0m     \u001b[38;5;28;01mif\u001b[39;00m trainer\u001b[38;5;241m.\u001b[39mfit_loop\u001b[38;5;241m.\u001b[39mepoch_loop\u001b[38;5;241m.\u001b[39mval_loop\u001b[38;5;241m.\u001b[39m_has_run:\n\u001b[1;32m--> 383\u001b[0m         \u001b[38;5;28;01mraise\u001b[39;00m MisconfigurationException(m)\n\u001b[0;32m    384\u001b[0m     warning_cache\u001b[38;5;241m.\u001b[39mwarn(m)\n\u001b[0;32m    385\u001b[0m \u001b[38;5;28mself\u001b[39m\u001b[38;5;241m.\u001b[39m_save_monitor_checkpoint(trainer, monitor_candidates)\n",
      "\u001b[1;31mMisconfigurationException\u001b[0m: `ModelCheckpoint(monitor='val/loss')` could not find the monitored key in the returned metrics: ['lr-Adam', 'val/f1', 'val/macc', 'val/multiacc/SCS', 'val/multiacc/RNFN', 'val/multiacc/LNFN', 'val/multiacc/LSS', 'val/multiacc/RSS', 'val/multiacc/H', 'val/mpr', 'val/mrec', 'epoch', 'step']. HINT: Did you call `log('val/loss', value)` in the `LightningModule`?"
     ]
    }
   ],
   "source": [
    "trainer.fit(model, dm)"
   ]
  },
  {
   "cell_type": "code",
   "execution_count": null,
   "id": "ddfffc97-48d7-4182-b42f-34d700eb6184",
   "metadata": {},
   "outputs": [],
   "source": []
  },
  {
   "cell_type": "code",
   "execution_count": null,
   "id": "eb2b820b-7acb-43c2-85c0-2b84f5250a31",
   "metadata": {},
   "outputs": [],
   "source": []
  },
  {
   "cell_type": "code",
   "execution_count": null,
   "id": "059b5cd4-8f29-49fd-9725-50a2e0f045aa",
   "metadata": {},
   "outputs": [],
   "source": []
  },
  {
   "cell_type": "code",
   "execution_count": null,
   "id": "114abfc1-8ff7-4b29-985a-de37a0c39e4f",
   "metadata": {},
   "outputs": [],
   "source": []
  },
  {
   "cell_type": "code",
   "execution_count": null,
   "id": "c9c5a90b-d57b-4e0b-8227-1eb907a46571",
   "metadata": {},
   "outputs": [],
   "source": []
  }
 ],
 "metadata": {
  "kernelspec": {
   "display_name": "Python 3 (ipykernel)",
   "language": "python",
   "name": "python3"
  },
  "language_info": {
   "codemirror_mode": {
    "name": "ipython",
    "version": 3
   },
   "file_extension": ".py",
   "mimetype": "text/x-python",
   "name": "python",
   "nbconvert_exporter": "python",
   "pygments_lexer": "ipython3",
   "version": "3.10.14"
  }
 },
 "nbformat": 4,
 "nbformat_minor": 5
}
