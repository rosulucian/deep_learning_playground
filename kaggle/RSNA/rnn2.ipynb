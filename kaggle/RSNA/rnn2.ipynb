{
 "cells": [
  {
   "cell_type": "code",
   "execution_count": 1,
   "id": "b9285b2a-4eb1-4ba0-8da6-fec3d7bf7caf",
   "metadata": {},
   "outputs": [],
   "source": [
    "%load_ext autoreload\n",
    "%autoreload 2"
   ]
  },
  {
   "cell_type": "markdown",
   "id": "d066835a-84e9-447f-8774-8c25fe9b3401",
   "metadata": {},
   "source": [
    "### Imports"
   ]
  },
  {
   "cell_type": "code",
   "execution_count": 2,
   "id": "ec358010-952a-448e-b50c-917938b87f95",
   "metadata": {},
   "outputs": [],
   "source": [
    "import os\n",
    "import time\n",
    "import wandb\n",
    "import torch\n",
    "import random\n",
    "import torchvision\n",
    "\n",
    "import numpy as np\n",
    "import pandas as pd\n",
    "import torchmetrics as tm \n",
    "# import plotly.express as px\n",
    "import pytorch_lightning as pl\n",
    "import matplotlib.pyplot as plt\n",
    "\n",
    "from torch import nn\n",
    "from pathlib import Path, PurePath\n",
    "from torch.utils.data import Dataset, DataLoader\n",
    "from torch.optim import Adam, AdamW, RMSprop # optmizers\n",
    "from sklearn import preprocessing \n",
    "# from warmup_scheduler import GradualWarmupScheduler\n",
    "from sklearn.model_selection import train_test_split\n",
    "from torch.optim.lr_scheduler import CosineAnnealingLR, ReduceLROnPlateau # Learning rate schedulers\n",
    "\n",
    "import albumentations as A\n",
    "# from albumentations.pytorch import ToTensorV2\n",
    "\n",
    "import torch.nn.functional as F\n",
    "\n",
    "import torchmetrics as tm\n",
    "\n",
    "from pytorch_lightning.loggers import WandbLogger\n",
    "from pytorch_lightning.callbacks import Callback, LearningRateMonitor\n",
    "from torchmetrics.wrappers import ClasswiseWrapper\n",
    "from torchmetrics import MetricCollection\n",
    "from torchmetrics.classification import MultilabelAccuracy, MultilabelPrecision, MultilabelRecall, MultilabelF1Score\n",
    "from torchmetrics.classification import MulticlassAccuracy, MulticlassPrecision, MulticlassRecall, MulticlassF1Score\n",
    "\n",
    "import timm"
   ]
  },
  {
   "cell_type": "code",
   "execution_count": 3,
   "id": "5ebe9c0f-24bb-41e4-a2df-8992ab3ef2eb",
   "metadata": {},
   "outputs": [
    {
     "name": "stdout",
     "output_type": "stream",
     "text": [
      "timm version 1.0.8\n",
      "torch version 2.3.1\n"
     ]
    }
   ],
   "source": [
    "print('timm version', timm.__version__)\n",
    "print('torch version', torch.__version__)"
   ]
  },
  {
   "cell_type": "code",
   "execution_count": 4,
   "id": "0d4a5098-ea06-4b7e-8b88-3a52c507c60a",
   "metadata": {},
   "outputs": [
    {
     "name": "stderr",
     "output_type": "stream",
     "text": [
      "wandb: Currently logged in as: rosu-lucian. Use `wandb login --relogin` to force relogin\n",
      "wandb: WARNING If you're specifying your api key in code, ensure this code is not shared publicly.\n",
      "wandb: WARNING Consider setting the WANDB_API_KEY environment variable, or running `wandb login` from the command line.\n",
      "wandb: Appending key for api.wandb.ai to your netrc file: C:\\Users\\Asus\\.netrc\n"
     ]
    },
    {
     "data": {
      "text/plain": [
       "True"
      ]
     },
     "execution_count": 4,
     "metadata": {},
     "output_type": "execute_result"
    }
   ],
   "source": [
    "wandb.login(key=os.getenv('wandb_api_key'))"
   ]
  },
  {
   "cell_type": "code",
   "execution_count": 5,
   "id": "01e0c6c6-ed9a-4454-bcfc-c545785339e2",
   "metadata": {},
   "outputs": [
    {
     "name": "stdout",
     "output_type": "stream",
     "text": [
      "cuda\n"
     ]
    }
   ],
   "source": [
    "# detect and define device \n",
    "device = torch.device('cuda' if torch.cuda.is_available() else 'cpu')\n",
    "\n",
    "print(device)"
   ]
  },
  {
   "cell_type": "code",
   "execution_count": 6,
   "id": "3ce8221d-961f-4ca9-ac09-7f169134c79d",
   "metadata": {},
   "outputs": [],
   "source": [
    "# for reproducibility\n",
    "def seed_torch(seed):\n",
    "    random.seed(seed)\n",
    "    os.environ['PYTHONHASHSEED'] = str(seed)\n",
    "    np.random.seed(seed)\n",
    "    torch.manual_seed(seed)\n",
    "    torch.cuda.manual_seed(seed)\n",
    "    torch.backends.cudnn.deterministic = True"
   ]
  },
  {
   "cell_type": "markdown",
   "id": "97d5b081-221c-40c4-9927-4b0179ac6e5b",
   "metadata": {},
   "source": [
    "### Config"
   ]
  },
  {
   "cell_type": "code",
   "execution_count": 7,
   "id": "1473d73e-d6c7-4dcb-a7c1-f5f407541f8b",
   "metadata": {},
   "outputs": [
    {
     "data": {
      "text/plain": [
       "25"
      ]
     },
     "execution_count": 7,
     "metadata": {},
     "output_type": "execute_result"
    }
   ],
   "source": [
    "# TODO: maybe use condition and level for classes\n",
    "classes = ['SCS', 'RNFN', 'LNFN', 'LSS', 'RSS'] + ['H'] # add healthy class\n",
    "\n",
    "# classes = ['SCS', 'RNFN', 'LNFN'] + ['H'] # add healthy class\n",
    "\n",
    "# classes = ['LSS', 'RSS'] + ['H'] # add healthy class\n",
    "\n",
    "classes = ['SCSL1L2', 'SCSL2L3', 'SCSL3L4', 'SCSL4L5', 'SCSL5S1', 'RNFNL4L5',\n",
    "       'RNFNL5S1', 'RNFNL3L4', 'RNFNL1L2', 'RNFNL2L3', 'LNFNL1L2',\n",
    "       'LNFNL4L5', 'LNFNL5S1', 'LNFNL2L3', 'LNFNL3L4', 'LSSL1L2',\n",
    "       'RSSL1L2', 'LSSL2L3', 'RSSL2L3', 'LSSL3L4', 'RSSL3L4', 'LSSL4L5',\n",
    "       'RSSL4L5', 'LSSL5S1', 'RSSL5S1']\n",
    "\n",
    "num_classes = len(classes)\n",
    "class2id = {b: i for i, b in enumerate(classes)}\n",
    "\n",
    "num_classes"
   ]
  },
  {
   "cell_type": "code",
   "execution_count": 8,
   "id": "fd13130f-5b6c-4ee1-b4ce-ad0864843d9a",
   "metadata": {},
   "outputs": [],
   "source": [
    "train_dir = Path('E:\\data\\RSNA2024')\n",
    "\n",
    "class CFG:\n",
    "\n",
    "    project = 'rsna-lstm'\n",
    "    comment = 'newembeds'\n",
    "\n",
    "    ### model\n",
    "    model_name = 'lstm' # 'resnet34', 'resnet200d', 'efficientnet_b1_pruned', 'efficientnetv2_m', efficientnet_b7 \n",
    "\n",
    "    # LEARNING_RATE = 5*1e-5 # best\n",
    "    LEARNING_RATE = 1e-5\n",
    "    \n",
    "    image_size = 256\n",
    "\n",
    "    healthy_frac = 1\n",
    "\n",
    "    weighted_loss = True\n",
    "    class_weights = [2.06762982, 0.42942998, 5.32804575]\n",
    "    # class_weights = [1, 0.2, 1.5]\n",
    "    \n",
    "    num_layers = 4\n",
    "    dropout = 0\n",
    "\n",
    "     ### training\n",
    "    BATCH_SIZE = 16\n",
    "    \n",
    "    ROOT_FOLDER = train_dir\n",
    "    IMAGES_DIR = ROOT_FOLDER / 'train_images'\n",
    "    PNG_DIR = ROOT_FOLDER / f'pngs_{image_size}'\n",
    "    FILES_CSV = ROOT_FOLDER / 'train_files.csv'\n",
    "    PREDS_CSV = ROOT_FOLDER / 'predictions.csv'\n",
    "    TRAIN_CSV = ROOT_FOLDER / 'train.csv'\n",
    "    TRAIN_DESC_CSV = ROOT_FOLDER / 'train_series_descriptions.csv'\n",
    "    COORDS_CSV = ROOT_FOLDER / 'train_label_coordinates.csv'\n",
    "\n",
    "    # ckpt_path = Path(r\"E:\\data\\RSNA2024\\results\\ckpt\\eca_nfnet_l0 5e-05 10 eps all-labels\\ep_03_loss_0.15231.ckpt\")\n",
    "    embeds_path = Path(r\"E:\\data\\RSNA2024\\embeddings\")\n",
    "    stacked_path = Path(r\"E:\\data\\RSNA2024\\embeddings_stacked\")\n",
    "\n",
    "    RESULTS_DIR = train_dir / 'results'\n",
    "    CKPT_DIR = RESULTS_DIR / 'ckpt'\n",
    "\n",
    "    input_dim = 128\n",
    "    hidden_dim = 128\n",
    "    target_size = 128\n",
    "\n",
    "    classes = classes\n",
    "\n",
    "    split_fraction = 0.95\n",
    "\n",
    "    MIXUP = False\n",
    "    \n",
    "    ### Optimizer\n",
    "    N_EPOCHS = 30\n",
    "    USE_SCHD = False\n",
    "    WARM_EPOCHS = 3\n",
    "    COS_EPOCHS = N_EPOCHS - WARM_EPOCHS\n",
    "    \n",
    "    weight_decay = 1e-6 # for adamw\n",
    "\n",
    "    device = 'cuda' if torch.cuda.is_available() else 'cpu'\n",
    "\n",
    "    ### split train and validation sets\n",
    "    num_workers = 4\n",
    "\n",
    "    random_seed = 42\n",
    "\n",
    "# CFG.N_LABELS = len(CFG.classes)\n",
    "CFG.N_LABELS = 3\n",
    "\n",
    "seed_torch(seed = CFG.random_seed)"
   ]
  },
  {
   "cell_type": "code",
   "execution_count": 9,
   "id": "8382e5e6-6fd6-413e-80bc-f18c1972ccc2",
   "metadata": {},
   "outputs": [
    {
     "data": {
      "text/plain": [
       "3"
      ]
     },
     "execution_count": 9,
     "metadata": {},
     "output_type": "execute_result"
    }
   ],
   "source": [
    "CFG.N_LABELS "
   ]
  },
  {
   "cell_type": "markdown",
   "id": "5ae4d4f5-b0cc-45db-96b7-7496e38eff24",
   "metadata": {},
   "source": [
    "### Load data"
   ]
  },
  {
   "cell_type": "code",
   "execution_count": 10,
   "id": "a75543cd-74ab-45f8-8aba-3775b1cd70ab",
   "metadata": {},
   "outputs": [
    {
     "data": {
      "text/plain": [
       "((1975, 26), (6294, 3), (48692, 18), (147218, 20), (147218, 16))"
      ]
     },
     "execution_count": 10,
     "metadata": {},
     "output_type": "execute_result"
    }
   ],
   "source": [
    "train_df = pd.read_csv(CFG.TRAIN_CSV)\n",
    "train_desc_df = pd.read_csv(CFG.TRAIN_DESC_CSV)\n",
    "coords_df = pd.read_csv(CFG.COORDS_CSV)\n",
    "files_df = pd.read_csv(CFG.FILES_CSV)\n",
    "preds_df = pd.read_csv(CFG.PREDS_CSV)\n",
    "\n",
    "train_df.shape, train_desc_df.shape, coords_df.shape, files_df.shape, preds_df.shape"
   ]
  },
  {
   "cell_type": "code",
   "execution_count": 11,
   "id": "da24d0eb-c499-4330-9ec3-a057429b0395",
   "metadata": {
    "scrolled": true
   },
   "outputs": [
    {
     "data": {
      "text/html": [
       "<div>\n",
       "<style scoped>\n",
       "    .dataframe tbody tr th:only-of-type {\n",
       "        vertical-align: middle;\n",
       "    }\n",
       "\n",
       "    .dataframe tbody tr th {\n",
       "        vertical-align: top;\n",
       "    }\n",
       "\n",
       "    .dataframe thead th {\n",
       "        text-align: right;\n",
       "    }\n",
       "</style>\n",
       "<table border=\"1\" class=\"dataframe\">\n",
       "  <thead>\n",
       "    <tr style=\"text-align: right;\">\n",
       "      <th></th>\n",
       "      <th>study_id</th>\n",
       "      <th>series_id</th>\n",
       "      <th>series_description</th>\n",
       "      <th>ss_id</th>\n",
       "    </tr>\n",
       "  </thead>\n",
       "  <tbody>\n",
       "    <tr>\n",
       "      <th>0</th>\n",
       "      <td>4003253</td>\n",
       "      <td>702807833</td>\n",
       "      <td>Sagittal T2/STIR</td>\n",
       "      <td>4003253_702807833</td>\n",
       "    </tr>\n",
       "    <tr>\n",
       "      <th>1</th>\n",
       "      <td>4003253</td>\n",
       "      <td>1054713880</td>\n",
       "      <td>Sagittal T1</td>\n",
       "      <td>4003253_1054713880</td>\n",
       "    </tr>\n",
       "  </tbody>\n",
       "</table>\n",
       "</div>"
      ],
      "text/plain": [
       "   study_id   series_id series_description               ss_id\n",
       "0   4003253   702807833   Sagittal T2/STIR   4003253_702807833\n",
       "1   4003253  1054713880        Sagittal T1  4003253_1054713880"
      ]
     },
     "execution_count": 11,
     "metadata": {},
     "output_type": "execute_result"
    }
   ],
   "source": [
    "train_desc_df['ss_id'] = train_desc_df.apply(lambda row: f'{row.study_id}_{row.series_id}', axis=1)\n",
    "preds_df['ss_id'] = preds_df.apply(lambda row: f'{row.study_id}_{row.series_id}', axis=1)\n",
    "\n",
    "train_desc_df.head(2)"
   ]
  },
  {
   "cell_type": "code",
   "execution_count": 12,
   "id": "c9fdcf9b-71d3-4313-9229-de98b42e3b89",
   "metadata": {},
   "outputs": [
    {
     "data": {
      "text/html": [
       "<div>\n",
       "<style scoped>\n",
       "    .dataframe tbody tr th:only-of-type {\n",
       "        vertical-align: middle;\n",
       "    }\n",
       "\n",
       "    .dataframe tbody tr th {\n",
       "        vertical-align: top;\n",
       "    }\n",
       "\n",
       "    .dataframe thead th {\n",
       "        text-align: right;\n",
       "    }\n",
       "</style>\n",
       "<table border=\"1\" class=\"dataframe\">\n",
       "  <thead>\n",
       "    <tr style=\"text-align: right;\">\n",
       "      <th></th>\n",
       "      <th>ids</th>\n",
       "      <th>SCS</th>\n",
       "      <th>RNFN</th>\n",
       "      <th>LNFN</th>\n",
       "      <th>LSS</th>\n",
       "      <th>RSS</th>\n",
       "      <th>H</th>\n",
       "      <th>pred_SCS</th>\n",
       "      <th>pred_RNFN</th>\n",
       "      <th>pred_LNFN</th>\n",
       "      <th>pred_LSS</th>\n",
       "      <th>pred_RSS</th>\n",
       "      <th>pred_H</th>\n",
       "      <th>study_id</th>\n",
       "      <th>series_id</th>\n",
       "      <th>instance</th>\n",
       "      <th>ss_id</th>\n",
       "    </tr>\n",
       "  </thead>\n",
       "  <tbody>\n",
       "    <tr>\n",
       "      <th>0</th>\n",
       "      <td>4290709089_4237840455_1</td>\n",
       "      <td>0.0</td>\n",
       "      <td>0.0</td>\n",
       "      <td>0.0</td>\n",
       "      <td>0.0</td>\n",
       "      <td>0.0</td>\n",
       "      <td>1.0</td>\n",
       "      <td>0.001585</td>\n",
       "      <td>0.001949</td>\n",
       "      <td>0.001369</td>\n",
       "      <td>0.002785</td>\n",
       "      <td>0.002748</td>\n",
       "      <td>0.993440</td>\n",
       "      <td>4290709089</td>\n",
       "      <td>4237840455</td>\n",
       "      <td>1</td>\n",
       "      <td>4290709089_4237840455</td>\n",
       "    </tr>\n",
       "    <tr>\n",
       "      <th>1</th>\n",
       "      <td>4290709089_4237840455_2</td>\n",
       "      <td>0.0</td>\n",
       "      <td>0.0</td>\n",
       "      <td>0.0</td>\n",
       "      <td>0.0</td>\n",
       "      <td>0.0</td>\n",
       "      <td>1.0</td>\n",
       "      <td>0.001521</td>\n",
       "      <td>0.001219</td>\n",
       "      <td>0.001093</td>\n",
       "      <td>0.005625</td>\n",
       "      <td>0.003293</td>\n",
       "      <td>0.996517</td>\n",
       "      <td>4290709089</td>\n",
       "      <td>4237840455</td>\n",
       "      <td>2</td>\n",
       "      <td>4290709089_4237840455</td>\n",
       "    </tr>\n",
       "  </tbody>\n",
       "</table>\n",
       "</div>"
      ],
      "text/plain": [
       "                       ids  SCS  RNFN  LNFN  LSS  RSS    H  pred_SCS  \\\n",
       "0  4290709089_4237840455_1  0.0   0.0   0.0  0.0  0.0  1.0  0.001585   \n",
       "1  4290709089_4237840455_2  0.0   0.0   0.0  0.0  0.0  1.0  0.001521   \n",
       "\n",
       "   pred_RNFN  pred_LNFN  pred_LSS  pred_RSS    pred_H    study_id   series_id  \\\n",
       "0   0.001949   0.001369  0.002785  0.002748  0.993440  4290709089  4237840455   \n",
       "1   0.001219   0.001093  0.005625  0.003293  0.996517  4290709089  4237840455   \n",
       "\n",
       "   instance                  ss_id  \n",
       "0         1  4290709089_4237840455  \n",
       "1         2  4290709089_4237840455  "
      ]
     },
     "execution_count": 12,
     "metadata": {},
     "output_type": "execute_result"
    }
   ],
   "source": [
    "preds_df.head(2)"
   ]
  },
  {
   "cell_type": "code",
   "execution_count": 13,
   "id": "baca346f-fe2d-4661-86ad-a410e62016a2",
   "metadata": {},
   "outputs": [
    {
     "data": {
      "text/plain": [
       "(3788, 17)"
      ]
     },
     "execution_count": 13,
     "metadata": {},
     "output_type": "execute_result"
    }
   ],
   "source": [
    "preds_df[preds_df.pred_RSS > 0.8].shape"
   ]
  },
  {
   "cell_type": "code",
   "execution_count": 14,
   "id": "f33f6742-8938-4ada-bbaa-82429c84b51f",
   "metadata": {},
   "outputs": [
    {
     "data": {
      "text/html": [
       "<div>\n",
       "<style scoped>\n",
       "    .dataframe tbody tr th:only-of-type {\n",
       "        vertical-align: middle;\n",
       "    }\n",
       "\n",
       "    .dataframe tbody tr th {\n",
       "        vertical-align: top;\n",
       "    }\n",
       "\n",
       "    .dataframe thead th {\n",
       "        text-align: right;\n",
       "    }\n",
       "</style>\n",
       "<table border=\"1\" class=\"dataframe\">\n",
       "  <thead>\n",
       "    <tr style=\"text-align: right;\">\n",
       "      <th></th>\n",
       "      <th>study_id</th>\n",
       "      <th>series_id</th>\n",
       "      <th>image</th>\n",
       "      <th>proj</th>\n",
       "      <th>instancenumber</th>\n",
       "      <th>rows</th>\n",
       "      <th>columns</th>\n",
       "      <th>slicethickness</th>\n",
       "      <th>spacingbetweenslices</th>\n",
       "      <th>patientposition</th>\n",
       "      <th>seriesdescription</th>\n",
       "      <th>ss_id</th>\n",
       "      <th>instance_id</th>\n",
       "      <th>filename</th>\n",
       "      <th>series_description</th>\n",
       "      <th>healthy</th>\n",
       "      <th>inst_min</th>\n",
       "      <th>inst_max</th>\n",
       "      <th>inst</th>\n",
       "      <th>inst_perc</th>\n",
       "    </tr>\n",
       "  </thead>\n",
       "  <tbody>\n",
       "    <tr>\n",
       "      <th>0</th>\n",
       "      <td>4290709089</td>\n",
       "      <td>4237840455</td>\n",
       "      <td>1</td>\n",
       "      <td>19</td>\n",
       "      <td>1</td>\n",
       "      <td>384</td>\n",
       "      <td>384</td>\n",
       "      <td>4.0</td>\n",
       "      <td>4.6</td>\n",
       "      <td>HFS</td>\n",
       "      <td>NaN</td>\n",
       "      <td>4290709089_4237840455</td>\n",
       "      <td>4290709089_4237840455_1</td>\n",
       "      <td>E:\\data\\RSNA2024\\pngs_256\\4290709089_423784045...</td>\n",
       "      <td>Sagittal T1</td>\n",
       "      <td>True</td>\n",
       "      <td>1</td>\n",
       "      <td>15</td>\n",
       "      <td>0</td>\n",
       "      <td>0.000000</td>\n",
       "    </tr>\n",
       "    <tr>\n",
       "      <th>1</th>\n",
       "      <td>4290709089</td>\n",
       "      <td>4237840455</td>\n",
       "      <td>2</td>\n",
       "      <td>14</td>\n",
       "      <td>2</td>\n",
       "      <td>384</td>\n",
       "      <td>384</td>\n",
       "      <td>4.0</td>\n",
       "      <td>4.6</td>\n",
       "      <td>HFS</td>\n",
       "      <td>NaN</td>\n",
       "      <td>4290709089_4237840455</td>\n",
       "      <td>4290709089_4237840455_2</td>\n",
       "      <td>E:\\data\\RSNA2024\\pngs_256\\4290709089_423784045...</td>\n",
       "      <td>Sagittal T1</td>\n",
       "      <td>True</td>\n",
       "      <td>1</td>\n",
       "      <td>15</td>\n",
       "      <td>1</td>\n",
       "      <td>0.066667</td>\n",
       "    </tr>\n",
       "  </tbody>\n",
       "</table>\n",
       "</div>"
      ],
      "text/plain": [
       "     study_id   series_id  image  proj  instancenumber  rows  columns  \\\n",
       "0  4290709089  4237840455      1    19               1   384      384   \n",
       "1  4290709089  4237840455      2    14               2   384      384   \n",
       "\n",
       "   slicethickness  spacingbetweenslices patientposition seriesdescription  \\\n",
       "0             4.0                   4.6             HFS               NaN   \n",
       "1             4.0                   4.6             HFS               NaN   \n",
       "\n",
       "                   ss_id              instance_id  \\\n",
       "0  4290709089_4237840455  4290709089_4237840455_1   \n",
       "1  4290709089_4237840455  4290709089_4237840455_2   \n",
       "\n",
       "                                            filename series_description  \\\n",
       "0  E:\\data\\RSNA2024\\pngs_256\\4290709089_423784045...        Sagittal T1   \n",
       "1  E:\\data\\RSNA2024\\pngs_256\\4290709089_423784045...        Sagittal T1   \n",
       "\n",
       "   healthy  inst_min  inst_max  inst  inst_perc  \n",
       "0     True         1        15     0   0.000000  \n",
       "1     True         1        15     1   0.066667  "
      ]
     },
     "execution_count": 14,
     "metadata": {},
     "output_type": "execute_result"
    }
   ],
   "source": [
    "files_df.head(2)"
   ]
  },
  {
   "cell_type": "code",
   "execution_count": 15,
   "id": "2e083d7e-a764-4919-bfba-ecd03c3779e9",
   "metadata": {},
   "outputs": [
    {
     "data": {
      "text/plain": [
       "(147218, 17)"
      ]
     },
     "execution_count": 15,
     "metadata": {},
     "output_type": "execute_result"
    }
   ],
   "source": [
    "preds_df.shape"
   ]
  },
  {
   "cell_type": "code",
   "execution_count": 16,
   "id": "0849cc65-8d2d-4712-b0fb-8401843365a1",
   "metadata": {},
   "outputs": [
    {
     "data": {
      "text/html": [
       "<div>\n",
       "<style scoped>\n",
       "    .dataframe tbody tr th:only-of-type {\n",
       "        vertical-align: middle;\n",
       "    }\n",
       "\n",
       "    .dataframe tbody tr th {\n",
       "        vertical-align: top;\n",
       "    }\n",
       "\n",
       "    .dataframe thead th {\n",
       "        text-align: right;\n",
       "    }\n",
       "</style>\n",
       "<table border=\"1\" class=\"dataframe\">\n",
       "  <thead>\n",
       "    <tr style=\"text-align: right;\">\n",
       "      <th></th>\n",
       "      <th>ids</th>\n",
       "      <th>SCS</th>\n",
       "      <th>RNFN</th>\n",
       "      <th>LNFN</th>\n",
       "      <th>LSS</th>\n",
       "      <th>RSS</th>\n",
       "      <th>H</th>\n",
       "      <th>pred_SCS</th>\n",
       "      <th>pred_RNFN</th>\n",
       "      <th>pred_LNFN</th>\n",
       "      <th>pred_LSS</th>\n",
       "      <th>pred_RSS</th>\n",
       "      <th>pred_H</th>\n",
       "      <th>study_id</th>\n",
       "      <th>series_id</th>\n",
       "      <th>instance</th>\n",
       "      <th>ss_id</th>\n",
       "      <th>series_description</th>\n",
       "    </tr>\n",
       "  </thead>\n",
       "  <tbody>\n",
       "    <tr>\n",
       "      <th>27165</th>\n",
       "      <td>3489738948_3186939889_6</td>\n",
       "      <td>0.0</td>\n",
       "      <td>0.0</td>\n",
       "      <td>0.0</td>\n",
       "      <td>0.0</td>\n",
       "      <td>0.0</td>\n",
       "      <td>1.0</td>\n",
       "      <td>0.000227</td>\n",
       "      <td>0.000267</td>\n",
       "      <td>0.000136</td>\n",
       "      <td>0.000363</td>\n",
       "      <td>0.000574</td>\n",
       "      <td>0.99972</td>\n",
       "      <td>3489738948</td>\n",
       "      <td>3186939889</td>\n",
       "      <td>6</td>\n",
       "      <td>3489738948_3186939889</td>\n",
       "      <td>Axial T2</td>\n",
       "    </tr>\n",
       "    <tr>\n",
       "      <th>109560</th>\n",
       "      <td>1099112122_1815821295_4</td>\n",
       "      <td>0.0</td>\n",
       "      <td>0.0</td>\n",
       "      <td>0.0</td>\n",
       "      <td>0.0</td>\n",
       "      <td>0.0</td>\n",
       "      <td>1.0</td>\n",
       "      <td>0.001099</td>\n",
       "      <td>0.001675</td>\n",
       "      <td>0.001109</td>\n",
       "      <td>0.003543</td>\n",
       "      <td>0.003516</td>\n",
       "      <td>0.99723</td>\n",
       "      <td>1099112122</td>\n",
       "      <td>1815821295</td>\n",
       "      <td>4</td>\n",
       "      <td>1099112122_1815821295</td>\n",
       "      <td>Sagittal T2/STIR</td>\n",
       "    </tr>\n",
       "  </tbody>\n",
       "</table>\n",
       "</div>"
      ],
      "text/plain": [
       "                            ids  SCS  RNFN  LNFN  LSS  RSS    H  pred_SCS  \\\n",
       "27165   3489738948_3186939889_6  0.0   0.0   0.0  0.0  0.0  1.0  0.000227   \n",
       "109560  1099112122_1815821295_4  0.0   0.0   0.0  0.0  0.0  1.0  0.001099   \n",
       "\n",
       "        pred_RNFN  pred_LNFN  pred_LSS  pred_RSS   pred_H    study_id  \\\n",
       "27165    0.000267   0.000136  0.000363  0.000574  0.99972  3489738948   \n",
       "109560   0.001675   0.001109  0.003543  0.003516  0.99723  1099112122   \n",
       "\n",
       "         series_id  instance                  ss_id series_description  \n",
       "27165   3186939889         6  3489738948_3186939889           Axial T2  \n",
       "109560  1815821295         4  1099112122_1815821295   Sagittal T2/STIR  "
      ]
     },
     "execution_count": 16,
     "metadata": {},
     "output_type": "execute_result"
    }
   ],
   "source": [
    "preds_df = pd.merge(preds_df, train_desc_df.loc[:, ['ss_id', 'series_description']],  how='inner', left_on=['ss_id'], right_on=['ss_id'])\n",
    "\n",
    "preds_df.sample(2)"
   ]
  },
  {
   "cell_type": "code",
   "execution_count": 17,
   "id": "029974c7-5248-4451-a08a-1f062b249cf9",
   "metadata": {},
   "outputs": [
    {
     "data": {
      "text/plain": [
       "(147218, 18)"
      ]
     },
     "execution_count": 17,
     "metadata": {},
     "output_type": "execute_result"
    }
   ],
   "source": [
    "preds_df.shape"
   ]
  },
  {
   "cell_type": "code",
   "execution_count": 18,
   "id": "4c431539-f510-4845-9820-1dd6af51182b",
   "metadata": {},
   "outputs": [
    {
     "data": {
      "text/html": [
       "<div>\n",
       "<style scoped>\n",
       "    .dataframe tbody tr th:only-of-type {\n",
       "        vertical-align: middle;\n",
       "    }\n",
       "\n",
       "    .dataframe tbody tr th {\n",
       "        vertical-align: top;\n",
       "    }\n",
       "\n",
       "    .dataframe thead th {\n",
       "        text-align: right;\n",
       "    }\n",
       "</style>\n",
       "<table border=\"1\" class=\"dataframe\">\n",
       "  <thead>\n",
       "    <tr style=\"text-align: right;\">\n",
       "      <th></th>\n",
       "      <th>ids</th>\n",
       "      <th>SCS</th>\n",
       "      <th>RNFN</th>\n",
       "      <th>LNFN</th>\n",
       "      <th>LSS</th>\n",
       "      <th>RSS</th>\n",
       "      <th>H</th>\n",
       "      <th>pred_SCS</th>\n",
       "      <th>pred_RNFN</th>\n",
       "      <th>pred_LNFN</th>\n",
       "      <th>pred_LSS</th>\n",
       "      <th>pred_RSS</th>\n",
       "      <th>pred_H</th>\n",
       "      <th>study_id</th>\n",
       "      <th>series_id</th>\n",
       "      <th>instance</th>\n",
       "      <th>ss_id</th>\n",
       "      <th>series_description</th>\n",
       "      <th>instance_id</th>\n",
       "      <th>proj</th>\n",
       "    </tr>\n",
       "  </thead>\n",
       "  <tbody>\n",
       "    <tr>\n",
       "      <th>135360</th>\n",
       "      <td>331970469_538044249_17</td>\n",
       "      <td>0.0</td>\n",
       "      <td>0.0</td>\n",
       "      <td>0.0</td>\n",
       "      <td>0.0</td>\n",
       "      <td>0.0</td>\n",
       "      <td>1.0</td>\n",
       "      <td>0.000654</td>\n",
       "      <td>0.000990</td>\n",
       "      <td>0.000915</td>\n",
       "      <td>0.002225</td>\n",
       "      <td>0.002246</td>\n",
       "      <td>0.998471</td>\n",
       "      <td>331970469</td>\n",
       "      <td>538044249</td>\n",
       "      <td>17</td>\n",
       "      <td>331970469_538044249</td>\n",
       "      <td>Sagittal T2/STIR</td>\n",
       "      <td>331970469_538044249_17</td>\n",
       "      <td>-59</td>\n",
       "    </tr>\n",
       "    <tr>\n",
       "      <th>144302</th>\n",
       "      <td>88465004_4105999208_4</td>\n",
       "      <td>0.0</td>\n",
       "      <td>0.0</td>\n",
       "      <td>0.0</td>\n",
       "      <td>0.0</td>\n",
       "      <td>0.0</td>\n",
       "      <td>1.0</td>\n",
       "      <td>0.001293</td>\n",
       "      <td>0.004091</td>\n",
       "      <td>0.002412</td>\n",
       "      <td>0.003399</td>\n",
       "      <td>0.003456</td>\n",
       "      <td>0.998554</td>\n",
       "      <td>88465004</td>\n",
       "      <td>4105999208</td>\n",
       "      <td>4</td>\n",
       "      <td>88465004_4105999208</td>\n",
       "      <td>Sagittal T2/STIR</td>\n",
       "      <td>88465004_4105999208_4</td>\n",
       "      <td>15</td>\n",
       "    </tr>\n",
       "  </tbody>\n",
       "</table>\n",
       "</div>"
      ],
      "text/plain": [
       "                           ids  SCS  RNFN  LNFN  LSS  RSS    H  pred_SCS  \\\n",
       "135360  331970469_538044249_17  0.0   0.0   0.0  0.0  0.0  1.0  0.000654   \n",
       "144302   88465004_4105999208_4  0.0   0.0   0.0  0.0  0.0  1.0  0.001293   \n",
       "\n",
       "        pred_RNFN  pred_LNFN  pred_LSS  pred_RSS    pred_H   study_id  \\\n",
       "135360   0.000990   0.000915  0.002225  0.002246  0.998471  331970469   \n",
       "144302   0.004091   0.002412  0.003399  0.003456  0.998554   88465004   \n",
       "\n",
       "         series_id  instance                ss_id series_description  \\\n",
       "135360   538044249        17  331970469_538044249   Sagittal T2/STIR   \n",
       "144302  4105999208         4  88465004_4105999208   Sagittal T2/STIR   \n",
       "\n",
       "                   instance_id  proj  \n",
       "135360  331970469_538044249_17   -59  \n",
       "144302   88465004_4105999208_4    15  "
      ]
     },
     "execution_count": 18,
     "metadata": {},
     "output_type": "execute_result"
    }
   ],
   "source": [
    "preds_df = pd.merge(preds_df, files_df.loc[:, ['instance_id', 'proj']],  how='inner', left_on=['ids'], right_on=['instance_id'])\n",
    "\n",
    "preds_df.sample(2)"
   ]
  },
  {
   "cell_type": "code",
   "execution_count": 19,
   "id": "3a0ad10d-5b7c-4bc6-9f82-bf024afaa3a8",
   "metadata": {},
   "outputs": [
    {
     "data": {
      "text/plain": [
       "(147218, 20)"
      ]
     },
     "execution_count": 19,
     "metadata": {},
     "output_type": "execute_result"
    }
   ],
   "source": [
    "preds_df.shape"
   ]
  },
  {
   "cell_type": "code",
   "execution_count": 20,
   "id": "5e5c0af1-9284-4a40-ae84-247c9822ad96",
   "metadata": {},
   "outputs": [],
   "source": [
    "# train_desc_df[train_desc_df['series_id'] == 3909740603]"
   ]
  },
  {
   "cell_type": "code",
   "execution_count": 21,
   "id": "b4030ecf-ddc6-4c77-944b-7206bc3919ef",
   "metadata": {},
   "outputs": [
    {
     "data": {
      "text/html": [
       "<div>\n",
       "<style scoped>\n",
       "    .dataframe tbody tr th:only-of-type {\n",
       "        vertical-align: middle;\n",
       "    }\n",
       "\n",
       "    .dataframe tbody tr th {\n",
       "        vertical-align: top;\n",
       "    }\n",
       "\n",
       "    .dataframe thead th {\n",
       "        text-align: right;\n",
       "    }\n",
       "</style>\n",
       "<table border=\"1\" class=\"dataframe\">\n",
       "  <thead>\n",
       "    <tr style=\"text-align: right;\">\n",
       "      <th></th>\n",
       "      <th>study_id</th>\n",
       "      <th>SCSL1L2</th>\n",
       "      <th>SCSL2L3</th>\n",
       "      <th>SCSL3L4</th>\n",
       "      <th>SCSL4L5</th>\n",
       "      <th>SCSL5S1</th>\n",
       "      <th>LNFNL1L2</th>\n",
       "      <th>LNFNL2L3</th>\n",
       "      <th>LNFNL3L4</th>\n",
       "      <th>LNFNL4L5</th>\n",
       "      <th>...</th>\n",
       "      <th>LSSL1L2</th>\n",
       "      <th>LSSL2L3</th>\n",
       "      <th>LSSL3L4</th>\n",
       "      <th>LSSL4L5</th>\n",
       "      <th>LSSL5S1</th>\n",
       "      <th>RSSL1L2</th>\n",
       "      <th>RSSL2L3</th>\n",
       "      <th>RSSL3L4</th>\n",
       "      <th>RSSL4L5</th>\n",
       "      <th>RSSL5S1</th>\n",
       "    </tr>\n",
       "  </thead>\n",
       "  <tbody>\n",
       "    <tr>\n",
       "      <th>0</th>\n",
       "      <td>4003253</td>\n",
       "      <td>N</td>\n",
       "      <td>N</td>\n",
       "      <td>N</td>\n",
       "      <td>N</td>\n",
       "      <td>N</td>\n",
       "      <td>N</td>\n",
       "      <td>N</td>\n",
       "      <td>N</td>\n",
       "      <td>M</td>\n",
       "      <td>...</td>\n",
       "      <td>N</td>\n",
       "      <td>N</td>\n",
       "      <td>N</td>\n",
       "      <td>M</td>\n",
       "      <td>N</td>\n",
       "      <td>N</td>\n",
       "      <td>N</td>\n",
       "      <td>N</td>\n",
       "      <td>N</td>\n",
       "      <td>N</td>\n",
       "    </tr>\n",
       "    <tr>\n",
       "      <th>1</th>\n",
       "      <td>4646740</td>\n",
       "      <td>N</td>\n",
       "      <td>N</td>\n",
       "      <td>M</td>\n",
       "      <td>S</td>\n",
       "      <td>N</td>\n",
       "      <td>N</td>\n",
       "      <td>N</td>\n",
       "      <td>N</td>\n",
       "      <td>M</td>\n",
       "      <td>...</td>\n",
       "      <td>N</td>\n",
       "      <td>N</td>\n",
       "      <td>N</td>\n",
       "      <td>S</td>\n",
       "      <td>N</td>\n",
       "      <td>N</td>\n",
       "      <td>M</td>\n",
       "      <td>M</td>\n",
       "      <td>M</td>\n",
       "      <td>N</td>\n",
       "    </tr>\n",
       "  </tbody>\n",
       "</table>\n",
       "<p>2 rows × 26 columns</p>\n",
       "</div>"
      ],
      "text/plain": [
       "   study_id SCSL1L2 SCSL2L3 SCSL3L4 SCSL4L5 SCSL5S1 LNFNL1L2 LNFNL2L3  \\\n",
       "0   4003253       N       N       N       N       N        N        N   \n",
       "1   4646740       N       N       M       S       N        N        N   \n",
       "\n",
       "  LNFNL3L4 LNFNL4L5  ... LSSL1L2 LSSL2L3 LSSL3L4 LSSL4L5 LSSL5S1 RSSL1L2  \\\n",
       "0        N        M  ...       N       N       N       M       N       N   \n",
       "1        N        M  ...       N       N       N       S       N       N   \n",
       "\n",
       "  RSSL2L3 RSSL3L4 RSSL4L5 RSSL5S1  \n",
       "0       N       N       N       N  \n",
       "1       M       M       M       N  \n",
       "\n",
       "[2 rows x 26 columns]"
      ]
     },
     "execution_count": 21,
     "metadata": {},
     "output_type": "execute_result"
    }
   ],
   "source": [
    "train_df.fillna('N', inplace=True)\n",
    "train_df.head(2)"
   ]
  },
  {
   "cell_type": "code",
   "execution_count": 22,
   "id": "2b7ae4cb-552c-41a1-bdeb-0b0cbdb48cb8",
   "metadata": {
    "scrolled": true
   },
   "outputs": [
    {
     "data": {
      "text/plain": [
       "array(['M', 'N', 'S'], dtype=object)"
      ]
     },
     "execution_count": 22,
     "metadata": {},
     "output_type": "execute_result"
    }
   ],
   "source": [
    "le = preprocessing.LabelEncoder() \n",
    "le.fit(train_df.iloc[:, 1])\n",
    "\n",
    "le.classes_\n",
    "# foo = le.fit_transform(train_df.iloc[:,1])"
   ]
  },
  {
   "cell_type": "code",
   "execution_count": 23,
   "id": "4e247078-94be-43b4-bbc8-25ac97aea754",
   "metadata": {},
   "outputs": [],
   "source": [
    "from sklearn.utils.class_weight import compute_class_weight"
   ]
  },
  {
   "cell_type": "code",
   "execution_count": 24,
   "id": "b38f1e49-f953-4506-8d0e-84eaab8a03ab",
   "metadata": {
    "scrolled": true
   },
   "outputs": [
    {
     "data": {
      "text/plain": [
       "(1975, 25)"
      ]
     },
     "execution_count": 24,
     "metadata": {},
     "output_type": "execute_result"
    }
   ],
   "source": [
    "foo = train_df.iloc[:, 1:].to_numpy()\n",
    "\n",
    "foo.shape"
   ]
  },
  {
   "cell_type": "code",
   "execution_count": 25,
   "id": "7ecfd65e-9bbc-489d-a2b7-df794d7924a4",
   "metadata": {},
   "outputs": [
    {
     "data": {
      "text/plain": [
       "(49375,)"
      ]
     },
     "execution_count": 25,
     "metadata": {},
     "output_type": "execute_result"
    }
   ],
   "source": [
    "foo.flatten().shape"
   ]
  },
  {
   "cell_type": "code",
   "execution_count": 26,
   "id": "95545fee-a9b6-4ae6-81e2-519629601f73",
   "metadata": {
    "scrolled": true
   },
   "outputs": [
    {
     "data": {
      "text/plain": [
       "array([2.06762982, 0.42942998, 5.32804575])"
      ]
     },
     "execution_count": 26,
     "metadata": {},
     "output_type": "execute_result"
    }
   ],
   "source": [
    "compute_class_weight(class_weight='balanced', classes=np.unique(foo.flatten()), y=foo.flatten())"
   ]
  },
  {
   "cell_type": "code",
   "execution_count": 27,
   "id": "af6b9513-5e7a-42a7-8468-5a4e8445c16f",
   "metadata": {},
   "outputs": [
    {
     "data": {
      "text/plain": [
       "1"
      ]
     },
     "execution_count": 27,
     "metadata": {},
     "output_type": "execute_result"
    }
   ],
   "source": [
    "CFG.ignore_index = le.transform(['N'])[0]\n",
    "\n",
    "CFG.ignore_index"
   ]
  },
  {
   "cell_type": "code",
   "execution_count": 28,
   "id": "63ea1cbe-17e7-4800-94a3-dd4f1aef39d9",
   "metadata": {},
   "outputs": [],
   "source": [
    "train_df.iloc[:,1:] = train_df.iloc[:,1:].apply(le.fit_transform)"
   ]
  },
  {
   "cell_type": "code",
   "execution_count": 29,
   "id": "97c5e9e3-9dc1-46da-aa14-ae47fc4318a9",
   "metadata": {},
   "outputs": [
    {
     "data": {
      "text/html": [
       "<div>\n",
       "<style scoped>\n",
       "    .dataframe tbody tr th:only-of-type {\n",
       "        vertical-align: middle;\n",
       "    }\n",
       "\n",
       "    .dataframe tbody tr th {\n",
       "        vertical-align: top;\n",
       "    }\n",
       "\n",
       "    .dataframe thead th {\n",
       "        text-align: right;\n",
       "    }\n",
       "</style>\n",
       "<table border=\"1\" class=\"dataframe\">\n",
       "  <thead>\n",
       "    <tr style=\"text-align: right;\">\n",
       "      <th></th>\n",
       "      <th>study_id</th>\n",
       "      <th>SCSL1L2</th>\n",
       "      <th>SCSL2L3</th>\n",
       "      <th>SCSL3L4</th>\n",
       "      <th>SCSL4L5</th>\n",
       "      <th>SCSL5S1</th>\n",
       "      <th>LNFNL1L2</th>\n",
       "      <th>LNFNL2L3</th>\n",
       "      <th>LNFNL3L4</th>\n",
       "      <th>LNFNL4L5</th>\n",
       "      <th>...</th>\n",
       "      <th>LSSL1L2</th>\n",
       "      <th>LSSL2L3</th>\n",
       "      <th>LSSL3L4</th>\n",
       "      <th>LSSL4L5</th>\n",
       "      <th>LSSL5S1</th>\n",
       "      <th>RSSL1L2</th>\n",
       "      <th>RSSL2L3</th>\n",
       "      <th>RSSL3L4</th>\n",
       "      <th>RSSL4L5</th>\n",
       "      <th>RSSL5S1</th>\n",
       "    </tr>\n",
       "  </thead>\n",
       "  <tbody>\n",
       "    <tr>\n",
       "      <th>0</th>\n",
       "      <td>4003253</td>\n",
       "      <td>1</td>\n",
       "      <td>1</td>\n",
       "      <td>1</td>\n",
       "      <td>1</td>\n",
       "      <td>1</td>\n",
       "      <td>1</td>\n",
       "      <td>1</td>\n",
       "      <td>1</td>\n",
       "      <td>0</td>\n",
       "      <td>...</td>\n",
       "      <td>1</td>\n",
       "      <td>1</td>\n",
       "      <td>1</td>\n",
       "      <td>0</td>\n",
       "      <td>1</td>\n",
       "      <td>1</td>\n",
       "      <td>1</td>\n",
       "      <td>1</td>\n",
       "      <td>1</td>\n",
       "      <td>1</td>\n",
       "    </tr>\n",
       "    <tr>\n",
       "      <th>1</th>\n",
       "      <td>4646740</td>\n",
       "      <td>1</td>\n",
       "      <td>1</td>\n",
       "      <td>0</td>\n",
       "      <td>2</td>\n",
       "      <td>1</td>\n",
       "      <td>1</td>\n",
       "      <td>1</td>\n",
       "      <td>1</td>\n",
       "      <td>0</td>\n",
       "      <td>...</td>\n",
       "      <td>1</td>\n",
       "      <td>1</td>\n",
       "      <td>1</td>\n",
       "      <td>2</td>\n",
       "      <td>1</td>\n",
       "      <td>1</td>\n",
       "      <td>0</td>\n",
       "      <td>0</td>\n",
       "      <td>0</td>\n",
       "      <td>1</td>\n",
       "    </tr>\n",
       "  </tbody>\n",
       "</table>\n",
       "<p>2 rows × 26 columns</p>\n",
       "</div>"
      ],
      "text/plain": [
       "   study_id SCSL1L2 SCSL2L3 SCSL3L4 SCSL4L5 SCSL5S1 LNFNL1L2 LNFNL2L3  \\\n",
       "0   4003253       1       1       1       1       1        1        1   \n",
       "1   4646740       1       1       0       2       1        1        1   \n",
       "\n",
       "  LNFNL3L4 LNFNL4L5  ... LSSL1L2 LSSL2L3 LSSL3L4 LSSL4L5 LSSL5S1 RSSL1L2  \\\n",
       "0        1        0  ...       1       1       1       0       1       1   \n",
       "1        1        0  ...       1       1       1       2       1       1   \n",
       "\n",
       "  RSSL2L3 RSSL3L4 RSSL4L5 RSSL5S1  \n",
       "0       1       1       1       1  \n",
       "1       0       0       0       1  \n",
       "\n",
       "[2 rows x 26 columns]"
      ]
     },
     "execution_count": 29,
     "metadata": {},
     "output_type": "execute_result"
    }
   ],
   "source": [
    "train_df.head(2)"
   ]
  },
  {
   "cell_type": "code",
   "execution_count": 30,
   "id": "5dbc6d3e-ed09-4f31-bdb5-de7f7fe1b9e3",
   "metadata": {},
   "outputs": [
    {
     "data": {
      "text/plain": [
       "(7960, 38326, 3089)"
      ]
     },
     "execution_count": 30,
     "metadata": {},
     "output_type": "execute_result"
    }
   ],
   "source": [
    "arr = train_df.iloc[:, 1:].to_numpy()\n",
    "\n",
    "(arr == 0).sum(), (arr == 1).sum(), (arr == 2).sum()"
   ]
  },
  {
   "cell_type": "code",
   "execution_count": 31,
   "id": "29b6d5db-6a3c-4e34-81d2-ad900873d223",
   "metadata": {},
   "outputs": [
    {
     "data": {
      "text/html": [
       "<div>\n",
       "<style scoped>\n",
       "    .dataframe tbody tr th:only-of-type {\n",
       "        vertical-align: middle;\n",
       "    }\n",
       "\n",
       "    .dataframe tbody tr th {\n",
       "        vertical-align: top;\n",
       "    }\n",
       "\n",
       "    .dataframe thead th {\n",
       "        text-align: right;\n",
       "    }\n",
       "</style>\n",
       "<table border=\"1\" class=\"dataframe\">\n",
       "  <thead>\n",
       "    <tr style=\"text-align: right;\">\n",
       "      <th></th>\n",
       "      <th>study_id</th>\n",
       "      <th>series_id</th>\n",
       "      <th>instance</th>\n",
       "      <th>condition</th>\n",
       "      <th>level</th>\n",
       "      <th>x</th>\n",
       "      <th>y</th>\n",
       "      <th>ss_id</th>\n",
       "      <th>instance_id</th>\n",
       "      <th>cl</th>\n",
       "      <th>series_description</th>\n",
       "      <th>rows</th>\n",
       "      <th>columns</th>\n",
       "      <th>filename</th>\n",
       "      <th>patientposition</th>\n",
       "      <th>x_perc</th>\n",
       "      <th>y_perc</th>\n",
       "      <th>inst_perc</th>\n",
       "    </tr>\n",
       "  </thead>\n",
       "  <tbody>\n",
       "    <tr>\n",
       "      <th>25515</th>\n",
       "      <td>2294509371</td>\n",
       "      <td>2895790445</td>\n",
       "      <td>7</td>\n",
       "      <td>SCS</td>\n",
       "      <td>L1L2</td>\n",
       "      <td>257.327262</td>\n",
       "      <td>138.787883</td>\n",
       "      <td>2294509371_2895790445</td>\n",
       "      <td>2294509371_2895790445_7</td>\n",
       "      <td>SCSL1L2</td>\n",
       "      <td>Sagittal T2/STIR</td>\n",
       "      <td>448</td>\n",
       "      <td>448</td>\n",
       "      <td>E:\\data\\RSNA2024\\pngs_256\\2294509371_289579044...</td>\n",
       "      <td>HFS</td>\n",
       "      <td>0.574391</td>\n",
       "      <td>0.309794</td>\n",
       "      <td>0.428571</td>\n",
       "    </tr>\n",
       "    <tr>\n",
       "      <th>35128</th>\n",
       "      <td>3116585926</td>\n",
       "      <td>3043780434</td>\n",
       "      <td>3</td>\n",
       "      <td>LNFN</td>\n",
       "      <td>L4L5</td>\n",
       "      <td>146.454106</td>\n",
       "      <td>321.545894</td>\n",
       "      <td>3116585926_3043780434</td>\n",
       "      <td>3116585926_3043780434_3</td>\n",
       "      <td>LNFNL4L5</td>\n",
       "      <td>Sagittal T1</td>\n",
       "      <td>512</td>\n",
       "      <td>512</td>\n",
       "      <td>E:\\data\\RSNA2024\\pngs_256\\3116585926_304378043...</td>\n",
       "      <td>FFS</td>\n",
       "      <td>0.286043</td>\n",
       "      <td>0.628019</td>\n",
       "      <td>0.181818</td>\n",
       "    </tr>\n",
       "  </tbody>\n",
       "</table>\n",
       "</div>"
      ],
      "text/plain": [
       "         study_id   series_id  instance condition level           x  \\\n",
       "25515  2294509371  2895790445         7       SCS  L1L2  257.327262   \n",
       "35128  3116585926  3043780434         3      LNFN  L4L5  146.454106   \n",
       "\n",
       "                y                  ss_id              instance_id        cl  \\\n",
       "25515  138.787883  2294509371_2895790445  2294509371_2895790445_7   SCSL1L2   \n",
       "35128  321.545894  3116585926_3043780434  3116585926_3043780434_3  LNFNL4L5   \n",
       "\n",
       "      series_description  rows  columns  \\\n",
       "25515   Sagittal T2/STIR   448      448   \n",
       "35128        Sagittal T1   512      512   \n",
       "\n",
       "                                                filename patientposition  \\\n",
       "25515  E:\\data\\RSNA2024\\pngs_256\\2294509371_289579044...             HFS   \n",
       "35128  E:\\data\\RSNA2024\\pngs_256\\3116585926_304378043...             FFS   \n",
       "\n",
       "         x_perc    y_perc  inst_perc  \n",
       "25515  0.574391  0.309794   0.428571  \n",
       "35128  0.286043  0.628019   0.181818  "
      ]
     },
     "execution_count": 31,
     "metadata": {},
     "output_type": "execute_result"
    }
   ],
   "source": [
    "coords_df.sample(2)"
   ]
  },
  {
   "cell_type": "code",
   "execution_count": 32,
   "id": "e1b7e342-7f6f-46b6-9bee-278facddf379",
   "metadata": {},
   "outputs": [
    {
     "data": {
      "text/plain": [
       "array(['SCS', 'RNFN', 'LNFN', 'LSS', 'RSS'], dtype=object)"
      ]
     },
     "execution_count": 32,
     "metadata": {},
     "output_type": "execute_result"
    }
   ],
   "source": [
    "coords_df.condition.unique()"
   ]
  },
  {
   "cell_type": "code",
   "execution_count": 33,
   "id": "3daba834-d0c0-4c34-a807-12b195a701ab",
   "metadata": {},
   "outputs": [
    {
     "data": {
      "text/plain": [
       "array(['SCSL1L2', 'SCSL2L3', 'SCSL3L4', 'SCSL4L5', 'SCSL5S1', 'RNFNL4L5',\n",
       "       'RNFNL5S1', 'RNFNL3L4', 'RNFNL1L2', 'RNFNL2L3', 'LNFNL1L2',\n",
       "       'LNFNL4L5', 'LNFNL5S1', 'LNFNL2L3', 'LNFNL3L4', 'LSSL1L2',\n",
       "       'RSSL1L2', 'LSSL2L3', 'RSSL2L3', 'LSSL3L4', 'RSSL3L4', 'LSSL4L5',\n",
       "       'RSSL4L5', 'LSSL5S1', 'RSSL5S1'], dtype=object)"
      ]
     },
     "execution_count": 33,
     "metadata": {},
     "output_type": "execute_result"
    }
   ],
   "source": [
    "coords_df.cl.unique()"
   ]
  },
  {
   "cell_type": "code",
   "execution_count": 34,
   "id": "642cb35b-6275-4229-9480-3e552cefa008",
   "metadata": {},
   "outputs": [
    {
     "data": {
      "text/plain": [
       "25"
      ]
     },
     "execution_count": 34,
     "metadata": {},
     "output_type": "execute_result"
    }
   ],
   "source": [
    "coords_df.cl.nunique()"
   ]
  },
  {
   "cell_type": "markdown",
   "id": "47cec579-3ad8-4df7-a97b-04ebf7c810a5",
   "metadata": {},
   "source": [
    "#### Prepare"
   ]
  },
  {
   "cell_type": "code",
   "execution_count": 35,
   "id": "a4c383c7-ddf0-4b71-8293-d29b90909b20",
   "metadata": {},
   "outputs": [
    {
     "data": {
      "text/plain": [
       "(147219, 6295)"
      ]
     },
     "execution_count": 35,
     "metadata": {},
     "output_type": "execute_result"
    }
   ],
   "source": [
    "embed_files = os.listdir(CFG.embeds_path)\n",
    "stacked_files = os.listdir(CFG.stacked_path)\n",
    "\n",
    "len(embed_files), len(stacked_files)"
   ]
  },
  {
   "cell_type": "code",
   "execution_count": 36,
   "id": "b60b3cc2-708f-4216-85e8-db65ab925c23",
   "metadata": {},
   "outputs": [],
   "source": [
    "study_id = 838134337"
   ]
  },
  {
   "cell_type": "code",
   "execution_count": 37,
   "id": "46ee3eaf-589e-4869-ae37-f9f8a1f71fd8",
   "metadata": {},
   "outputs": [
    {
     "data": {
      "text/html": [
       "<div>\n",
       "<style scoped>\n",
       "    .dataframe tbody tr th:only-of-type {\n",
       "        vertical-align: middle;\n",
       "    }\n",
       "\n",
       "    .dataframe tbody tr th {\n",
       "        vertical-align: top;\n",
       "    }\n",
       "\n",
       "    .dataframe thead th {\n",
       "        text-align: right;\n",
       "    }\n",
       "</style>\n",
       "<table border=\"1\" class=\"dataframe\">\n",
       "  <thead>\n",
       "    <tr style=\"text-align: right;\">\n",
       "      <th></th>\n",
       "      <th>ids</th>\n",
       "      <th>SCS</th>\n",
       "      <th>RNFN</th>\n",
       "      <th>LNFN</th>\n",
       "      <th>LSS</th>\n",
       "      <th>RSS</th>\n",
       "      <th>H</th>\n",
       "      <th>pred_SCS</th>\n",
       "      <th>pred_RNFN</th>\n",
       "      <th>pred_LNFN</th>\n",
       "      <th>pred_LSS</th>\n",
       "      <th>pred_RSS</th>\n",
       "      <th>pred_H</th>\n",
       "      <th>study_id</th>\n",
       "      <th>series_id</th>\n",
       "      <th>instance</th>\n",
       "      <th>ss_id</th>\n",
       "      <th>series_description</th>\n",
       "      <th>instance_id</th>\n",
       "      <th>proj</th>\n",
       "    </tr>\n",
       "  </thead>\n",
       "  <tbody>\n",
       "    <tr>\n",
       "      <th>118820</th>\n",
       "      <td>838134337_3108613161_1</td>\n",
       "      <td>0.0</td>\n",
       "      <td>0.0</td>\n",
       "      <td>0.0</td>\n",
       "      <td>0.0</td>\n",
       "      <td>0.0</td>\n",
       "      <td>1.0</td>\n",
       "      <td>0.001354</td>\n",
       "      <td>0.001501</td>\n",
       "      <td>0.001320</td>\n",
       "      <td>0.002872</td>\n",
       "      <td>0.002463</td>\n",
       "      <td>0.998599</td>\n",
       "      <td>838134337</td>\n",
       "      <td>3108613161</td>\n",
       "      <td>1</td>\n",
       "      <td>838134337_3108613161</td>\n",
       "      <td>Axial T2</td>\n",
       "      <td>838134337_3108613161_1</td>\n",
       "      <td>-309</td>\n",
       "    </tr>\n",
       "    <tr>\n",
       "      <th>118821</th>\n",
       "      <td>838134337_3108613161_2</td>\n",
       "      <td>0.0</td>\n",
       "      <td>0.0</td>\n",
       "      <td>0.0</td>\n",
       "      <td>0.0</td>\n",
       "      <td>0.0</td>\n",
       "      <td>1.0</td>\n",
       "      <td>0.001957</td>\n",
       "      <td>0.002748</td>\n",
       "      <td>0.001661</td>\n",
       "      <td>0.003534</td>\n",
       "      <td>0.003918</td>\n",
       "      <td>0.998603</td>\n",
       "      <td>838134337</td>\n",
       "      <td>3108613161</td>\n",
       "      <td>2</td>\n",
       "      <td>838134337_3108613161</td>\n",
       "      <td>Axial T2</td>\n",
       "      <td>838134337_3108613161_2</td>\n",
       "      <td>-312</td>\n",
       "    </tr>\n",
       "  </tbody>\n",
       "</table>\n",
       "</div>"
      ],
      "text/plain": [
       "                           ids  SCS  RNFN  LNFN  LSS  RSS    H  pred_SCS  \\\n",
       "118820  838134337_3108613161_1  0.0   0.0   0.0  0.0  0.0  1.0  0.001354   \n",
       "118821  838134337_3108613161_2  0.0   0.0   0.0  0.0  0.0  1.0  0.001957   \n",
       "\n",
       "        pred_RNFN  pred_LNFN  pred_LSS  pred_RSS    pred_H   study_id  \\\n",
       "118820   0.001501   0.001320  0.002872  0.002463  0.998599  838134337   \n",
       "118821   0.002748   0.001661  0.003534  0.003918  0.998603  838134337   \n",
       "\n",
       "         series_id  instance                 ss_id series_description  \\\n",
       "118820  3108613161         1  838134337_3108613161           Axial T2   \n",
       "118821  3108613161         2  838134337_3108613161           Axial T2   \n",
       "\n",
       "                   instance_id  proj  \n",
       "118820  838134337_3108613161_1  -309  \n",
       "118821  838134337_3108613161_2  -312  "
      ]
     },
     "execution_count": 37,
     "metadata": {},
     "output_type": "execute_result"
    }
   ],
   "source": [
    "selected_files = preds_df[preds_df.study_id == study_id]\n",
    "\n",
    "selected_files.head(2)"
   ]
  },
  {
   "cell_type": "code",
   "execution_count": 38,
   "id": "ed99aa38-50ab-42ef-bcc9-480da5c7e642",
   "metadata": {},
   "outputs": [],
   "source": [
    "# selected_files.head()"
   ]
  },
  {
   "cell_type": "code",
   "execution_count": 39,
   "id": "d5d09e47-8138-497d-a2b8-3bb77eabbf8b",
   "metadata": {},
   "outputs": [],
   "source": [
    "# selected_files.groupby('series_description').sort(['proj'])"
   ]
  },
  {
   "cell_type": "code",
   "execution_count": 40,
   "id": "a79a72ea-257c-4122-8bed-a8b70aa1d53a",
   "metadata": {},
   "outputs": [
    {
     "data": {
      "text/html": [
       "<div>\n",
       "<style scoped>\n",
       "    .dataframe tbody tr th:only-of-type {\n",
       "        vertical-align: middle;\n",
       "    }\n",
       "\n",
       "    .dataframe tbody tr th {\n",
       "        vertical-align: top;\n",
       "    }\n",
       "\n",
       "    .dataframe thead th {\n",
       "        text-align: right;\n",
       "    }\n",
       "</style>\n",
       "<table border=\"1\" class=\"dataframe\">\n",
       "  <thead>\n",
       "    <tr style=\"text-align: right;\">\n",
       "      <th></th>\n",
       "      <th>ids</th>\n",
       "      <th>SCS</th>\n",
       "      <th>RNFN</th>\n",
       "      <th>LNFN</th>\n",
       "      <th>LSS</th>\n",
       "      <th>RSS</th>\n",
       "      <th>H</th>\n",
       "      <th>pred_SCS</th>\n",
       "      <th>pred_RNFN</th>\n",
       "      <th>pred_LNFN</th>\n",
       "      <th>pred_LSS</th>\n",
       "      <th>pred_RSS</th>\n",
       "      <th>pred_H</th>\n",
       "      <th>study_id</th>\n",
       "      <th>series_id</th>\n",
       "      <th>instance</th>\n",
       "      <th>ss_id</th>\n",
       "      <th>series_description</th>\n",
       "      <th>instance_id</th>\n",
       "      <th>proj</th>\n",
       "    </tr>\n",
       "  </thead>\n",
       "  <tbody>\n",
       "    <tr>\n",
       "      <th>118903</th>\n",
       "      <td>838134337_1285354049_1</td>\n",
       "      <td>0.0</td>\n",
       "      <td>0.0</td>\n",
       "      <td>0.0</td>\n",
       "      <td>0.0</td>\n",
       "      <td>0.0</td>\n",
       "      <td>1.0</td>\n",
       "      <td>0.000830</td>\n",
       "      <td>0.001846</td>\n",
       "      <td>0.000824</td>\n",
       "      <td>0.004176</td>\n",
       "      <td>0.003610</td>\n",
       "      <td>0.997460</td>\n",
       "      <td>838134337</td>\n",
       "      <td>1285354049</td>\n",
       "      <td>1</td>\n",
       "      <td>838134337_1285354049</td>\n",
       "      <td>Sagittal T2/STIR</td>\n",
       "      <td>838134337_1285354049_1</td>\n",
       "      <td>19</td>\n",
       "    </tr>\n",
       "    <tr>\n",
       "      <th>118904</th>\n",
       "      <td>838134337_1285354049_2</td>\n",
       "      <td>0.0</td>\n",
       "      <td>0.0</td>\n",
       "      <td>0.0</td>\n",
       "      <td>0.0</td>\n",
       "      <td>0.0</td>\n",
       "      <td>1.0</td>\n",
       "      <td>0.000999</td>\n",
       "      <td>0.001894</td>\n",
       "      <td>0.000911</td>\n",
       "      <td>0.004106</td>\n",
       "      <td>0.003183</td>\n",
       "      <td>0.997706</td>\n",
       "      <td>838134337</td>\n",
       "      <td>1285354049</td>\n",
       "      <td>2</td>\n",
       "      <td>838134337_1285354049</td>\n",
       "      <td>Sagittal T2/STIR</td>\n",
       "      <td>838134337_1285354049_2</td>\n",
       "      <td>15</td>\n",
       "    </tr>\n",
       "    <tr>\n",
       "      <th>118905</th>\n",
       "      <td>838134337_1285354049_3</td>\n",
       "      <td>0.0</td>\n",
       "      <td>0.0</td>\n",
       "      <td>0.0</td>\n",
       "      <td>0.0</td>\n",
       "      <td>0.0</td>\n",
       "      <td>1.0</td>\n",
       "      <td>0.001089</td>\n",
       "      <td>0.003119</td>\n",
       "      <td>0.000816</td>\n",
       "      <td>0.003127</td>\n",
       "      <td>0.002793</td>\n",
       "      <td>0.997842</td>\n",
       "      <td>838134337</td>\n",
       "      <td>1285354049</td>\n",
       "      <td>3</td>\n",
       "      <td>838134337_1285354049</td>\n",
       "      <td>Sagittal T2/STIR</td>\n",
       "      <td>838134337_1285354049_3</td>\n",
       "      <td>10</td>\n",
       "    </tr>\n",
       "    <tr>\n",
       "      <th>118906</th>\n",
       "      <td>838134337_1285354049_4</td>\n",
       "      <td>0.0</td>\n",
       "      <td>0.0</td>\n",
       "      <td>0.0</td>\n",
       "      <td>0.0</td>\n",
       "      <td>0.0</td>\n",
       "      <td>1.0</td>\n",
       "      <td>0.001067</td>\n",
       "      <td>0.002225</td>\n",
       "      <td>0.001284</td>\n",
       "      <td>0.003330</td>\n",
       "      <td>0.003203</td>\n",
       "      <td>0.997264</td>\n",
       "      <td>838134337</td>\n",
       "      <td>1285354049</td>\n",
       "      <td>4</td>\n",
       "      <td>838134337_1285354049</td>\n",
       "      <td>Sagittal T2/STIR</td>\n",
       "      <td>838134337_1285354049_4</td>\n",
       "      <td>6</td>\n",
       "    </tr>\n",
       "    <tr>\n",
       "      <th>118907</th>\n",
       "      <td>838134337_1285354049_5</td>\n",
       "      <td>0.0</td>\n",
       "      <td>0.0</td>\n",
       "      <td>0.0</td>\n",
       "      <td>0.0</td>\n",
       "      <td>0.0</td>\n",
       "      <td>1.0</td>\n",
       "      <td>0.000683</td>\n",
       "      <td>0.001384</td>\n",
       "      <td>0.000429</td>\n",
       "      <td>0.001838</td>\n",
       "      <td>0.001545</td>\n",
       "      <td>0.998883</td>\n",
       "      <td>838134337</td>\n",
       "      <td>1285354049</td>\n",
       "      <td>5</td>\n",
       "      <td>838134337_1285354049</td>\n",
       "      <td>Sagittal T2/STIR</td>\n",
       "      <td>838134337_1285354049_5</td>\n",
       "      <td>1</td>\n",
       "    </tr>\n",
       "    <tr>\n",
       "      <th>...</th>\n",
       "      <td>...</td>\n",
       "      <td>...</td>\n",
       "      <td>...</td>\n",
       "      <td>...</td>\n",
       "      <td>...</td>\n",
       "      <td>...</td>\n",
       "      <td>...</td>\n",
       "      <td>...</td>\n",
       "      <td>...</td>\n",
       "      <td>...</td>\n",
       "      <td>...</td>\n",
       "      <td>...</td>\n",
       "      <td>...</td>\n",
       "      <td>...</td>\n",
       "      <td>...</td>\n",
       "      <td>...</td>\n",
       "      <td>...</td>\n",
       "      <td>...</td>\n",
       "      <td>...</td>\n",
       "      <td>...</td>\n",
       "    </tr>\n",
       "    <tr>\n",
       "      <th>118878</th>\n",
       "      <td>838134337_3108613161_59</td>\n",
       "      <td>0.0</td>\n",
       "      <td>0.0</td>\n",
       "      <td>0.0</td>\n",
       "      <td>0.0</td>\n",
       "      <td>0.0</td>\n",
       "      <td>1.0</td>\n",
       "      <td>0.002638</td>\n",
       "      <td>0.002090</td>\n",
       "      <td>0.001770</td>\n",
       "      <td>0.492424</td>\n",
       "      <td>0.688045</td>\n",
       "      <td>0.068409</td>\n",
       "      <td>838134337</td>\n",
       "      <td>3108613161</td>\n",
       "      <td>59</td>\n",
       "      <td>838134337_3108613161</td>\n",
       "      <td>Axial T2</td>\n",
       "      <td>838134337_3108613161_59</td>\n",
       "      <td>-516</td>\n",
       "    </tr>\n",
       "    <tr>\n",
       "      <th>118879</th>\n",
       "      <td>838134337_3108613161_60</td>\n",
       "      <td>0.0</td>\n",
       "      <td>0.0</td>\n",
       "      <td>0.0</td>\n",
       "      <td>0.0</td>\n",
       "      <td>0.0</td>\n",
       "      <td>1.0</td>\n",
       "      <td>0.001942</td>\n",
       "      <td>0.002482</td>\n",
       "      <td>0.002314</td>\n",
       "      <td>0.115469</td>\n",
       "      <td>0.197212</td>\n",
       "      <td>0.709857</td>\n",
       "      <td>838134337</td>\n",
       "      <td>3108613161</td>\n",
       "      <td>60</td>\n",
       "      <td>838134337_3108613161</td>\n",
       "      <td>Axial T2</td>\n",
       "      <td>838134337_3108613161_60</td>\n",
       "      <td>-519</td>\n",
       "    </tr>\n",
       "    <tr>\n",
       "      <th>118880</th>\n",
       "      <td>838134337_3108613161_61</td>\n",
       "      <td>0.0</td>\n",
       "      <td>0.0</td>\n",
       "      <td>0.0</td>\n",
       "      <td>0.0</td>\n",
       "      <td>0.0</td>\n",
       "      <td>1.0</td>\n",
       "      <td>0.001421</td>\n",
       "      <td>0.001702</td>\n",
       "      <td>0.002013</td>\n",
       "      <td>0.004992</td>\n",
       "      <td>0.003479</td>\n",
       "      <td>0.996188</td>\n",
       "      <td>838134337</td>\n",
       "      <td>3108613161</td>\n",
       "      <td>61</td>\n",
       "      <td>838134337_3108613161</td>\n",
       "      <td>Axial T2</td>\n",
       "      <td>838134337_3108613161_61</td>\n",
       "      <td>-523</td>\n",
       "    </tr>\n",
       "    <tr>\n",
       "      <th>118881</th>\n",
       "      <td>838134337_3108613161_62</td>\n",
       "      <td>0.0</td>\n",
       "      <td>0.0</td>\n",
       "      <td>0.0</td>\n",
       "      <td>0.0</td>\n",
       "      <td>0.0</td>\n",
       "      <td>1.0</td>\n",
       "      <td>0.000917</td>\n",
       "      <td>0.000943</td>\n",
       "      <td>0.000874</td>\n",
       "      <td>0.003200</td>\n",
       "      <td>0.003534</td>\n",
       "      <td>0.996320</td>\n",
       "      <td>838134337</td>\n",
       "      <td>3108613161</td>\n",
       "      <td>62</td>\n",
       "      <td>838134337_3108613161</td>\n",
       "      <td>Axial T2</td>\n",
       "      <td>838134337_3108613161_62</td>\n",
       "      <td>-526</td>\n",
       "    </tr>\n",
       "    <tr>\n",
       "      <th>118882</th>\n",
       "      <td>838134337_3108613161_63</td>\n",
       "      <td>0.0</td>\n",
       "      <td>0.0</td>\n",
       "      <td>0.0</td>\n",
       "      <td>0.0</td>\n",
       "      <td>0.0</td>\n",
       "      <td>1.0</td>\n",
       "      <td>0.001571</td>\n",
       "      <td>0.001785</td>\n",
       "      <td>0.002020</td>\n",
       "      <td>0.007257</td>\n",
       "      <td>0.007725</td>\n",
       "      <td>0.990356</td>\n",
       "      <td>838134337</td>\n",
       "      <td>3108613161</td>\n",
       "      <td>63</td>\n",
       "      <td>838134337_3108613161</td>\n",
       "      <td>Axial T2</td>\n",
       "      <td>838134337_3108613161_63</td>\n",
       "      <td>-530</td>\n",
       "    </tr>\n",
       "  </tbody>\n",
       "</table>\n",
       "<p>103 rows × 20 columns</p>\n",
       "</div>"
      ],
      "text/plain": [
       "                            ids  SCS  RNFN  LNFN  LSS  RSS    H  pred_SCS  \\\n",
       "118903   838134337_1285354049_1  0.0   0.0   0.0  0.0  0.0  1.0  0.000830   \n",
       "118904   838134337_1285354049_2  0.0   0.0   0.0  0.0  0.0  1.0  0.000999   \n",
       "118905   838134337_1285354049_3  0.0   0.0   0.0  0.0  0.0  1.0  0.001089   \n",
       "118906   838134337_1285354049_4  0.0   0.0   0.0  0.0  0.0  1.0  0.001067   \n",
       "118907   838134337_1285354049_5  0.0   0.0   0.0  0.0  0.0  1.0  0.000683   \n",
       "...                         ...  ...   ...   ...  ...  ...  ...       ...   \n",
       "118878  838134337_3108613161_59  0.0   0.0   0.0  0.0  0.0  1.0  0.002638   \n",
       "118879  838134337_3108613161_60  0.0   0.0   0.0  0.0  0.0  1.0  0.001942   \n",
       "118880  838134337_3108613161_61  0.0   0.0   0.0  0.0  0.0  1.0  0.001421   \n",
       "118881  838134337_3108613161_62  0.0   0.0   0.0  0.0  0.0  1.0  0.000917   \n",
       "118882  838134337_3108613161_63  0.0   0.0   0.0  0.0  0.0  1.0  0.001571   \n",
       "\n",
       "        pred_RNFN  pred_LNFN  pred_LSS  pred_RSS    pred_H   study_id  \\\n",
       "118903   0.001846   0.000824  0.004176  0.003610  0.997460  838134337   \n",
       "118904   0.001894   0.000911  0.004106  0.003183  0.997706  838134337   \n",
       "118905   0.003119   0.000816  0.003127  0.002793  0.997842  838134337   \n",
       "118906   0.002225   0.001284  0.003330  0.003203  0.997264  838134337   \n",
       "118907   0.001384   0.000429  0.001838  0.001545  0.998883  838134337   \n",
       "...           ...        ...       ...       ...       ...        ...   \n",
       "118878   0.002090   0.001770  0.492424  0.688045  0.068409  838134337   \n",
       "118879   0.002482   0.002314  0.115469  0.197212  0.709857  838134337   \n",
       "118880   0.001702   0.002013  0.004992  0.003479  0.996188  838134337   \n",
       "118881   0.000943   0.000874  0.003200  0.003534  0.996320  838134337   \n",
       "118882   0.001785   0.002020  0.007257  0.007725  0.990356  838134337   \n",
       "\n",
       "         series_id  instance                 ss_id series_description  \\\n",
       "118903  1285354049         1  838134337_1285354049   Sagittal T2/STIR   \n",
       "118904  1285354049         2  838134337_1285354049   Sagittal T2/STIR   \n",
       "118905  1285354049         3  838134337_1285354049   Sagittal T2/STIR   \n",
       "118906  1285354049         4  838134337_1285354049   Sagittal T2/STIR   \n",
       "118907  1285354049         5  838134337_1285354049   Sagittal T2/STIR   \n",
       "...            ...       ...                   ...                ...   \n",
       "118878  3108613161        59  838134337_3108613161           Axial T2   \n",
       "118879  3108613161        60  838134337_3108613161           Axial T2   \n",
       "118880  3108613161        61  838134337_3108613161           Axial T2   \n",
       "118881  3108613161        62  838134337_3108613161           Axial T2   \n",
       "118882  3108613161        63  838134337_3108613161           Axial T2   \n",
       "\n",
       "                    instance_id  proj  \n",
       "118903   838134337_1285354049_1    19  \n",
       "118904   838134337_1285354049_2    15  \n",
       "118905   838134337_1285354049_3    10  \n",
       "118906   838134337_1285354049_4     6  \n",
       "118907   838134337_1285354049_5     1  \n",
       "...                         ...   ...  \n",
       "118878  838134337_3108613161_59  -516  \n",
       "118879  838134337_3108613161_60  -519  \n",
       "118880  838134337_3108613161_61  -523  \n",
       "118881  838134337_3108613161_62  -526  \n",
       "118882  838134337_3108613161_63  -530  \n",
       "\n",
       "[103 rows x 20 columns]"
      ]
     },
     "execution_count": 40,
     "metadata": {},
     "output_type": "execute_result"
    }
   ],
   "source": [
    "selected_files.sort_values(['series_description', 'proj'], ascending=[False, False])"
   ]
  },
  {
   "cell_type": "code",
   "execution_count": 41,
   "id": "9608c4c4-7c54-41da-9189-830d958ed1bf",
   "metadata": {},
   "outputs": [
    {
     "data": {
      "text/plain": [
       "array([838134337], dtype=int64)"
      ]
     },
     "execution_count": 41,
     "metadata": {},
     "output_type": "execute_result"
    }
   ],
   "source": [
    "selected_files.study_id.unique()"
   ]
  },
  {
   "cell_type": "code",
   "execution_count": 42,
   "id": "956e51b5-1014-4b43-bce8-e11802613e7a",
   "metadata": {
    "scrolled": true
   },
   "outputs": [
    {
     "data": {
      "text/plain": [
       "(103, (103, 20))"
      ]
     },
     "execution_count": 42,
     "metadata": {},
     "output_type": "execute_result"
    }
   ],
   "source": [
    "idx = selected_files.sort_values(['series_description', 'proj'], ascending=[False, True]).index.to_list()\n",
    "len(idx), selected_files.shape"
   ]
  },
  {
   "cell_type": "code",
   "execution_count": 43,
   "id": "de4ca416-c5e2-4dc8-9236-24044210d332",
   "metadata": {},
   "outputs": [
    {
     "data": {
      "text/plain": [
       "(147218, 128)"
      ]
     },
     "execution_count": 43,
     "metadata": {},
     "output_type": "execute_result"
    }
   ],
   "source": [
    "stacked_embeds = np.load(CFG.embeds_path / 'stacked.npy')\n",
    "stacked_embeds.shape"
   ]
  },
  {
   "cell_type": "code",
   "execution_count": 44,
   "id": "f8d87d15-5496-4a2c-9b43-56c19b9e6a3e",
   "metadata": {},
   "outputs": [
    {
     "data": {
      "text/plain": [
       "(103, 128)"
      ]
     },
     "execution_count": 44,
     "metadata": {},
     "output_type": "execute_result"
    }
   ],
   "source": [
    "stacked_embeds[idx].shape"
   ]
  },
  {
   "cell_type": "code",
   "execution_count": 45,
   "id": "ee5c11b0-6667-4960-942f-85d28c48de13",
   "metadata": {},
   "outputs": [],
   "source": [
    "# for name, group in selected_files.sort_values('proj').groupby('series_description'):\n",
    "#     print(name)\n",
    "#     print(group.image.count())"
   ]
  },
  {
   "cell_type": "code",
   "execution_count": 46,
   "id": "d2189f49-cd27-4f31-ab30-eaff0dcca726",
   "metadata": {
    "scrolled": true
   },
   "outputs": [
    {
     "data": {
      "text/plain": [
       "WindowsPath('E:/data/RSNA2024/embeddings/838134337_3108613161_1.npy')"
      ]
     },
     "execution_count": 46,
     "metadata": {},
     "output_type": "execute_result"
    }
   ],
   "source": [
    "files = files_df[files_df.study_id == study_id].instance_id.to_list()\n",
    "files = [CFG.embeds_path / f'{f}.npy' for f in files]\n",
    "\n",
    "files[0]"
   ]
  },
  {
   "cell_type": "code",
   "execution_count": 47,
   "id": "3b2d8816-8ce1-4df0-b306-b13fb231337d",
   "metadata": {},
   "outputs": [
    {
     "data": {
      "text/plain": [
       "array([-1.0995494 ,  0.49097744,  1.0215834 , -1.6787816 ,  0.29210705,\n",
       "        0.23124354, -1.682824  , -1.5906051 ,  0.04192492, -0.1955464 ,\n",
       "       -0.2667491 , -0.17186733,  0.95804614,  0.37150368,  1.7241437 ,\n",
       "        1.1258326 ,  1.0414605 , -0.40807748,  0.4055421 , -0.0740265 ,\n",
       "       -1.3100444 ,  0.29382887, -0.42474675,  0.22165483, -1.5763164 ,\n",
       "        1.2931648 ,  1.5698792 , -1.6912712 , -0.15872872,  0.3404426 ,\n",
       "       -0.0427428 ,  0.54748905, -0.33488297, -0.37769663, -1.5615858 ,\n",
       "        1.5908116 , -1.7296395 , -0.4697454 , -0.42289543,  0.44413814,\n",
       "       -0.6652043 ,  1.3982869 ,  0.3384983 ,  0.50999105, -0.26906472,\n",
       "       -0.6438707 ,  0.07620332, -0.07154421,  1.8592027 , -0.12772073,\n",
       "        1.609306  , -0.30250317,  1.7261735 ,  1.2107503 , -0.8999722 ,\n",
       "       -0.31249663, -1.2230419 , -0.23692471, -1.1786542 ,  0.95265937,\n",
       "       -0.1917044 , -0.5779623 , -0.72399706,  0.85201985], dtype=float32)"
      ]
     },
     "execution_count": 47,
     "metadata": {},
     "output_type": "execute_result"
    }
   ],
   "source": [
    "np.load(files[2])"
   ]
  },
  {
   "cell_type": "code",
   "execution_count": 48,
   "id": "dd59f99c-ced0-49d6-8ae8-52ea665d7720",
   "metadata": {},
   "outputs": [
    {
     "data": {
      "text/plain": [
       "3"
      ]
     },
     "execution_count": 48,
     "metadata": {},
     "output_type": "execute_result"
    }
   ],
   "source": [
    "files = files_df[files_df.study_id == study_id].ss_id.unique().tolist()\n",
    "files = [CFG.stacked_path / f'{f}.npy' for f in files]\n",
    "\n",
    "len(files)"
   ]
  },
  {
   "cell_type": "code",
   "execution_count": 49,
   "id": "0cfd7f76-1906-4d8d-93e3-c6bdc39edd1c",
   "metadata": {},
   "outputs": [
    {
     "data": {
      "text/plain": [
       "(63, 64)"
      ]
     },
     "execution_count": 49,
     "metadata": {},
     "output_type": "execute_result"
    }
   ],
   "source": [
    "np.load(files[0]).shape"
   ]
  },
  {
   "cell_type": "code",
   "execution_count": 50,
   "id": "d9e9b0f9-ae28-434b-8372-14cad7f6a00c",
   "metadata": {
    "scrolled": true
   },
   "outputs": [
    {
     "data": {
      "text/plain": [
       "[1, 1, 1, 2, 1, 1, 1, 1, 2, 0, 1, 1, 0, 2, 1, 1, 1, 1, 2, 1, 1, 1, 1, 2, 1]"
      ]
     },
     "execution_count": 50,
     "metadata": {},
     "output_type": "execute_result"
    }
   ],
   "source": [
    "train_df[train_df.study_id == study_id].values.flatten().tolist()[1:]"
   ]
  },
  {
   "cell_type": "code",
   "execution_count": 51,
   "id": "83822bae-2fa7-425c-a3ef-8a08c664a324",
   "metadata": {},
   "outputs": [
    {
     "data": {
      "text/html": [
       "<div>\n",
       "<style scoped>\n",
       "    .dataframe tbody tr th:only-of-type {\n",
       "        vertical-align: middle;\n",
       "    }\n",
       "\n",
       "    .dataframe tbody tr th {\n",
       "        vertical-align: top;\n",
       "    }\n",
       "\n",
       "    .dataframe thead th {\n",
       "        text-align: right;\n",
       "    }\n",
       "</style>\n",
       "<table border=\"1\" class=\"dataframe\">\n",
       "  <thead>\n",
       "    <tr style=\"text-align: right;\">\n",
       "      <th></th>\n",
       "      <th>study_id</th>\n",
       "      <th>series_id</th>\n",
       "      <th>series_description</th>\n",
       "      <th>ss_id</th>\n",
       "    </tr>\n",
       "  </thead>\n",
       "  <tbody>\n",
       "    <tr>\n",
       "      <th>0</th>\n",
       "      <td>4003253</td>\n",
       "      <td>702807833</td>\n",
       "      <td>Sagittal T2/STIR</td>\n",
       "      <td>4003253_702807833</td>\n",
       "    </tr>\n",
       "    <tr>\n",
       "      <th>1</th>\n",
       "      <td>4003253</td>\n",
       "      <td>1054713880</td>\n",
       "      <td>Sagittal T1</td>\n",
       "      <td>4003253_1054713880</td>\n",
       "    </tr>\n",
       "    <tr>\n",
       "      <th>2</th>\n",
       "      <td>4003253</td>\n",
       "      <td>2448190387</td>\n",
       "      <td>Axial T2</td>\n",
       "      <td>4003253_2448190387</td>\n",
       "    </tr>\n",
       "    <tr>\n",
       "      <th>3</th>\n",
       "      <td>4646740</td>\n",
       "      <td>3201256954</td>\n",
       "      <td>Axial T2</td>\n",
       "      <td>4646740_3201256954</td>\n",
       "    </tr>\n",
       "    <tr>\n",
       "      <th>4</th>\n",
       "      <td>4646740</td>\n",
       "      <td>3486248476</td>\n",
       "      <td>Sagittal T1</td>\n",
       "      <td>4646740_3486248476</td>\n",
       "    </tr>\n",
       "  </tbody>\n",
       "</table>\n",
       "</div>"
      ],
      "text/plain": [
       "   study_id   series_id series_description               ss_id\n",
       "0   4003253   702807833   Sagittal T2/STIR   4003253_702807833\n",
       "1   4003253  1054713880        Sagittal T1  4003253_1054713880\n",
       "2   4003253  2448190387           Axial T2  4003253_2448190387\n",
       "3   4646740  3201256954           Axial T2  4646740_3201256954\n",
       "4   4646740  3486248476        Sagittal T1  4646740_3486248476"
      ]
     },
     "execution_count": 51,
     "metadata": {},
     "output_type": "execute_result"
    }
   ],
   "source": [
    "train_desc_df.head(5)"
   ]
  },
  {
   "cell_type": "code",
   "execution_count": 52,
   "id": "5570fe9c-1a09-49ba-8f9c-49dc070aab3c",
   "metadata": {},
   "outputs": [
    {
     "data": {
      "text/html": [
       "<div>\n",
       "<style scoped>\n",
       "    .dataframe tbody tr th:only-of-type {\n",
       "        vertical-align: middle;\n",
       "    }\n",
       "\n",
       "    .dataframe tbody tr th {\n",
       "        vertical-align: top;\n",
       "    }\n",
       "\n",
       "    .dataframe thead th {\n",
       "        text-align: right;\n",
       "    }\n",
       "</style>\n",
       "<table border=\"1\" class=\"dataframe\">\n",
       "  <thead>\n",
       "    <tr style=\"text-align: right;\">\n",
       "      <th></th>\n",
       "      <th>study_id</th>\n",
       "      <th>series_id</th>\n",
       "      <th>series_description</th>\n",
       "      <th>ss_id</th>\n",
       "    </tr>\n",
       "  </thead>\n",
       "  <tbody>\n",
       "    <tr>\n",
       "      <th>1215</th>\n",
       "      <td>838134337</td>\n",
       "      <td>1285354049</td>\n",
       "      <td>Sagittal T2/STIR</td>\n",
       "      <td>838134337_1285354049</td>\n",
       "    </tr>\n",
       "    <tr>\n",
       "      <th>1216</th>\n",
       "      <td>838134337</td>\n",
       "      <td>1345841225</td>\n",
       "      <td>Sagittal T1</td>\n",
       "      <td>838134337_1345841225</td>\n",
       "    </tr>\n",
       "    <tr>\n",
       "      <th>1217</th>\n",
       "      <td>838134337</td>\n",
       "      <td>3108613161</td>\n",
       "      <td>Axial T2</td>\n",
       "      <td>838134337_3108613161</td>\n",
       "    </tr>\n",
       "  </tbody>\n",
       "</table>\n",
       "</div>"
      ],
      "text/plain": [
       "       study_id   series_id series_description                 ss_id\n",
       "1215  838134337  1285354049   Sagittal T2/STIR  838134337_1285354049\n",
       "1216  838134337  1345841225        Sagittal T1  838134337_1345841225\n",
       "1217  838134337  3108613161           Axial T2  838134337_3108613161"
      ]
     },
     "execution_count": 52,
     "metadata": {},
     "output_type": "execute_result"
    }
   ],
   "source": [
    "foo = train_desc_df[train_desc_df.study_id == study_id].sort_values('series_description', ascending=False)\n",
    "\n",
    "foo"
   ]
  },
  {
   "cell_type": "code",
   "execution_count": 53,
   "id": "1d55f290-399e-4701-953c-e7292b050a0d",
   "metadata": {},
   "outputs": [
    {
     "data": {
      "text/plain": [
       "['838134337_1285354049', '838134337_1345841225', '838134337_3108613161']"
      ]
     },
     "execution_count": 53,
     "metadata": {},
     "output_type": "execute_result"
    }
   ],
   "source": [
    "foo.ss_id.tolist()"
   ]
  },
  {
   "cell_type": "markdown",
   "id": "1612f8c9-1a36-4c6c-b9cf-d16892d73320",
   "metadata": {},
   "source": [
    "### Check input data"
   ]
  },
  {
   "cell_type": "code",
   "execution_count": 54,
   "id": "96b17a43-f602-45c6-b6d7-b18615fff212",
   "metadata": {},
   "outputs": [],
   "source": [
    "embeds = np.load(CFG.embeds_path / 'stacked.npy')"
   ]
  },
  {
   "cell_type": "code",
   "execution_count": 55,
   "id": "7104be4b-3398-45c9-b404-cd098f219b9a",
   "metadata": {},
   "outputs": [],
   "source": [
    "df = preds_df[preds_df.study_id == 100206310]\n",
    "# df = preds_df[preds_df.study_id == 838134337]\n",
    "# df = df.sort_values(['series_description', 'proj'], ascending=[False, True])"
   ]
  },
  {
   "cell_type": "code",
   "execution_count": 56,
   "id": "82c47f68-d50e-4868-9abc-e0be32dca4b8",
   "metadata": {},
   "outputs": [
    {
     "data": {
      "text/plain": [
       "((147218, 128), (96, 20))"
      ]
     },
     "execution_count": 56,
     "metadata": {},
     "output_type": "execute_result"
    }
   ],
   "source": [
    "embeds.shape, df.shape"
   ]
  },
  {
   "cell_type": "code",
   "execution_count": 57,
   "id": "0df23d87-049b-4b0a-ad1e-823dc9a29c52",
   "metadata": {
    "lines_to_next_cell": 2
   },
   "outputs": [],
   "source": [
    "idx = df.index.to_list()\n",
    "embeds = embeds[idx]"
   ]
  },
  {
   "cell_type": "code",
   "execution_count": 58,
   "id": "f5632445-a597-48d2-b018-d74607bfd417",
   "metadata": {
    "scrolled": true
   },
   "outputs": [],
   "source": [
    "# idx"
   ]
  },
  {
   "cell_type": "code",
   "execution_count": 59,
   "id": "2111346e-d068-44e1-b793-33a1ace3da8c",
   "metadata": {},
   "outputs": [
    {
     "data": {
      "text/plain": [
       "(96, 128)"
      ]
     },
     "execution_count": 59,
     "metadata": {},
     "output_type": "execute_result"
    }
   ],
   "source": [
    "embeds.shape"
   ]
  },
  {
   "cell_type": "code",
   "execution_count": 60,
   "id": "15d2d5fc-287b-49f8-84ff-c9200f07b1c4",
   "metadata": {
    "scrolled": true
   },
   "outputs": [
    {
     "data": {
      "text/plain": [
       "array([-0.1502166 , -0.13919176, -4.1691155 , -5.535725  , -1.3638068 ,\n",
       "       -0.15850405, -0.04254709, -0.1241435 , -0.16648896,  0.3508525 ,\n",
       "        4.0990744 , -0.26638272, -0.31634194, -0.30690244, -0.34259567,\n",
       "       -0.37317523, -0.1486419 , -0.05325514, -0.06121084, -0.20191208,\n",
       "       -0.2971905 , -0.26361814, -0.07879854, -0.1257669 , -0.22480534,\n",
       "       -0.16994789, -0.17953274, -0.03545944,  0.07151809, -0.11276001,\n",
       "       -0.10309287, -0.2681766 , -0.18603814, -0.01431203, -0.19431952,\n",
       "       -0.23498192, -0.27063888, -0.2655052 , -0.02401078, -0.58710146,\n",
       "       -0.2498314 , -0.19352336, -0.2361399 , -0.23905426, -0.19944517,\n",
       "       -0.12068097, -0.18416779, -0.09809046, -0.03073646, -0.04118643,\n",
       "       -0.12292372, -0.10268951, -0.09341175, -0.1714987 , -0.11936589,\n",
       "       -0.35471657, -0.11589582, -0.13076183, -0.45870098, -1.5385287 ,\n",
       "       -3.120806  , -0.9753626 , -0.43897247, -0.22652276, -0.13100655,\n",
       "       -0.21621694, -0.25103098, -0.17783034, -0.14182015,  1.7602813 ,\n",
       "        1.0903832 , -0.253302  , -0.32366115, -0.11653715,  0.01783834,\n",
       "       -0.05837945, -0.05397172, -0.09476069, -0.08175657, -0.10500174,\n",
       "       -0.07023181, -0.10878868, -0.0550422 , -0.03651581,  0.0098171 ,\n",
       "        0.03270576, -0.21269174, -0.28517014, -0.14989264, -0.1415116 ,\n",
       "       -0.19225375, -0.27144468, -0.08827849, -0.09637076, -0.15010418,\n",
       "       -0.19680703], dtype=float32)"
      ]
     },
     "execution_count": 60,
     "metadata": {},
     "output_type": "execute_result"
    }
   ],
   "source": [
    "embeds[:,1]"
   ]
  },
  {
   "cell_type": "code",
   "execution_count": 61,
   "id": "1445dd24-bc25-490b-869e-a2f765bdc206",
   "metadata": {},
   "outputs": [
    {
     "data": {
      "text/html": [
       "<div>\n",
       "<style scoped>\n",
       "    .dataframe tbody tr th:only-of-type {\n",
       "        vertical-align: middle;\n",
       "    }\n",
       "\n",
       "    .dataframe tbody tr th {\n",
       "        vertical-align: top;\n",
       "    }\n",
       "\n",
       "    .dataframe thead th {\n",
       "        text-align: right;\n",
       "    }\n",
       "</style>\n",
       "<table border=\"1\" class=\"dataframe\">\n",
       "  <thead>\n",
       "    <tr style=\"text-align: right;\">\n",
       "      <th></th>\n",
       "      <th>ids</th>\n",
       "      <th>SCS</th>\n",
       "      <th>RNFN</th>\n",
       "      <th>LNFN</th>\n",
       "      <th>LSS</th>\n",
       "      <th>RSS</th>\n",
       "      <th>H</th>\n",
       "      <th>pred_SCS</th>\n",
       "      <th>pred_RNFN</th>\n",
       "      <th>pred_LNFN</th>\n",
       "      <th>pred_LSS</th>\n",
       "      <th>pred_RSS</th>\n",
       "      <th>pred_H</th>\n",
       "      <th>study_id</th>\n",
       "      <th>series_id</th>\n",
       "      <th>instance</th>\n",
       "      <th>ss_id</th>\n",
       "      <th>series_description</th>\n",
       "      <th>instance_id</th>\n",
       "      <th>proj</th>\n",
       "    </tr>\n",
       "  </thead>\n",
       "  <tbody>\n",
       "    <tr>\n",
       "      <th>143759</th>\n",
       "      <td>100206310_2092806862_1</td>\n",
       "      <td>0.0</td>\n",
       "      <td>0.0</td>\n",
       "      <td>0.0</td>\n",
       "      <td>0.0</td>\n",
       "      <td>0.0</td>\n",
       "      <td>1.0</td>\n",
       "      <td>0.001142</td>\n",
       "      <td>0.001998</td>\n",
       "      <td>0.000932</td>\n",
       "      <td>0.006164</td>\n",
       "      <td>0.002349</td>\n",
       "      <td>0.998700</td>\n",
       "      <td>100206310</td>\n",
       "      <td>2092806862</td>\n",
       "      <td>1</td>\n",
       "      <td>100206310_2092806862</td>\n",
       "      <td>Sagittal T1</td>\n",
       "      <td>100206310_2092806862_1</td>\n",
       "      <td>20</td>\n",
       "    </tr>\n",
       "    <tr>\n",
       "      <th>143760</th>\n",
       "      <td>100206310_2092806862_2</td>\n",
       "      <td>0.0</td>\n",
       "      <td>0.0</td>\n",
       "      <td>0.0</td>\n",
       "      <td>0.0</td>\n",
       "      <td>0.0</td>\n",
       "      <td>1.0</td>\n",
       "      <td>0.000709</td>\n",
       "      <td>0.004118</td>\n",
       "      <td>0.000581</td>\n",
       "      <td>0.002755</td>\n",
       "      <td>0.002364</td>\n",
       "      <td>0.997486</td>\n",
       "      <td>100206310</td>\n",
       "      <td>2092806862</td>\n",
       "      <td>2</td>\n",
       "      <td>100206310_2092806862</td>\n",
       "      <td>Sagittal T1</td>\n",
       "      <td>100206310_2092806862_2</td>\n",
       "      <td>15</td>\n",
       "    </tr>\n",
       "    <tr>\n",
       "      <th>143761</th>\n",
       "      <td>100206310_2092806862_3</td>\n",
       "      <td>0.0</td>\n",
       "      <td>0.0</td>\n",
       "      <td>0.0</td>\n",
       "      <td>0.0</td>\n",
       "      <td>0.0</td>\n",
       "      <td>1.0</td>\n",
       "      <td>0.002421</td>\n",
       "      <td>0.033496</td>\n",
       "      <td>0.001279</td>\n",
       "      <td>0.004077</td>\n",
       "      <td>0.005075</td>\n",
       "      <td>0.984101</td>\n",
       "      <td>100206310</td>\n",
       "      <td>2092806862</td>\n",
       "      <td>3</td>\n",
       "      <td>100206310_2092806862</td>\n",
       "      <td>Sagittal T1</td>\n",
       "      <td>100206310_2092806862_3</td>\n",
       "      <td>11</td>\n",
       "    </tr>\n",
       "    <tr>\n",
       "      <th>143762</th>\n",
       "      <td>100206310_2092806862_4</td>\n",
       "      <td>0.0</td>\n",
       "      <td>1.0</td>\n",
       "      <td>0.0</td>\n",
       "      <td>0.0</td>\n",
       "      <td>0.0</td>\n",
       "      <td>0.0</td>\n",
       "      <td>0.000564</td>\n",
       "      <td>0.999648</td>\n",
       "      <td>0.000387</td>\n",
       "      <td>0.001096</td>\n",
       "      <td>0.000764</td>\n",
       "      <td>0.003171</td>\n",
       "      <td>100206310</td>\n",
       "      <td>2092806862</td>\n",
       "      <td>4</td>\n",
       "      <td>100206310_2092806862</td>\n",
       "      <td>Sagittal T1</td>\n",
       "      <td>100206310_2092806862_4</td>\n",
       "      <td>6</td>\n",
       "    </tr>\n",
       "    <tr>\n",
       "      <th>143763</th>\n",
       "      <td>100206310_2092806862_5</td>\n",
       "      <td>0.0</td>\n",
       "      <td>1.0</td>\n",
       "      <td>0.0</td>\n",
       "      <td>0.0</td>\n",
       "      <td>0.0</td>\n",
       "      <td>0.0</td>\n",
       "      <td>0.000547</td>\n",
       "      <td>0.997587</td>\n",
       "      <td>0.000175</td>\n",
       "      <td>0.001053</td>\n",
       "      <td>0.000862</td>\n",
       "      <td>0.007583</td>\n",
       "      <td>100206310</td>\n",
       "      <td>2092806862</td>\n",
       "      <td>5</td>\n",
       "      <td>100206310_2092806862</td>\n",
       "      <td>Sagittal T1</td>\n",
       "      <td>100206310_2092806862_5</td>\n",
       "      <td>2</td>\n",
       "    </tr>\n",
       "    <tr>\n",
       "      <th>143764</th>\n",
       "      <td>100206310_2092806862_6</td>\n",
       "      <td>0.0</td>\n",
       "      <td>1.0</td>\n",
       "      <td>0.0</td>\n",
       "      <td>0.0</td>\n",
       "      <td>0.0</td>\n",
       "      <td>0.0</td>\n",
       "      <td>0.001389</td>\n",
       "      <td>0.965823</td>\n",
       "      <td>0.000432</td>\n",
       "      <td>0.001363</td>\n",
       "      <td>0.001165</td>\n",
       "      <td>0.024970</td>\n",
       "      <td>100206310</td>\n",
       "      <td>2092806862</td>\n",
       "      <td>6</td>\n",
       "      <td>100206310_2092806862</td>\n",
       "      <td>Sagittal T1</td>\n",
       "      <td>100206310_2092806862_6</td>\n",
       "      <td>-2</td>\n",
       "    </tr>\n",
       "    <tr>\n",
       "      <th>143765</th>\n",
       "      <td>100206310_2092806862_7</td>\n",
       "      <td>0.0</td>\n",
       "      <td>0.0</td>\n",
       "      <td>0.0</td>\n",
       "      <td>0.0</td>\n",
       "      <td>0.0</td>\n",
       "      <td>1.0</td>\n",
       "      <td>0.001695</td>\n",
       "      <td>0.021071</td>\n",
       "      <td>0.007121</td>\n",
       "      <td>0.003482</td>\n",
       "      <td>0.002838</td>\n",
       "      <td>0.974268</td>\n",
       "      <td>100206310</td>\n",
       "      <td>2092806862</td>\n",
       "      <td>7</td>\n",
       "      <td>100206310_2092806862</td>\n",
       "      <td>Sagittal T1</td>\n",
       "      <td>100206310_2092806862_7</td>\n",
       "      <td>-6</td>\n",
       "    </tr>\n",
       "    <tr>\n",
       "      <th>143766</th>\n",
       "      <td>100206310_2092806862_8</td>\n",
       "      <td>0.0</td>\n",
       "      <td>0.0</td>\n",
       "      <td>0.0</td>\n",
       "      <td>0.0</td>\n",
       "      <td>0.0</td>\n",
       "      <td>1.0</td>\n",
       "      <td>0.007089</td>\n",
       "      <td>0.012795</td>\n",
       "      <td>0.013448</td>\n",
       "      <td>0.005826</td>\n",
       "      <td>0.006997</td>\n",
       "      <td>0.987549</td>\n",
       "      <td>100206310</td>\n",
       "      <td>2092806862</td>\n",
       "      <td>8</td>\n",
       "      <td>100206310_2092806862</td>\n",
       "      <td>Sagittal T1</td>\n",
       "      <td>100206310_2092806862_8</td>\n",
       "      <td>-11</td>\n",
       "    </tr>\n",
       "    <tr>\n",
       "      <th>143767</th>\n",
       "      <td>100206310_2092806862_9</td>\n",
       "      <td>0.0</td>\n",
       "      <td>0.0</td>\n",
       "      <td>0.0</td>\n",
       "      <td>0.0</td>\n",
       "      <td>0.0</td>\n",
       "      <td>1.0</td>\n",
       "      <td>0.009156</td>\n",
       "      <td>0.009769</td>\n",
       "      <td>0.008330</td>\n",
       "      <td>0.008010</td>\n",
       "      <td>0.007488</td>\n",
       "      <td>0.989857</td>\n",
       "      <td>100206310</td>\n",
       "      <td>2092806862</td>\n",
       "      <td>9</td>\n",
       "      <td>100206310_2092806862</td>\n",
       "      <td>Sagittal T1</td>\n",
       "      <td>100206310_2092806862_9</td>\n",
       "      <td>-15</td>\n",
       "    </tr>\n",
       "    <tr>\n",
       "      <th>143768</th>\n",
       "      <td>100206310_2092806862_10</td>\n",
       "      <td>0.0</td>\n",
       "      <td>0.0</td>\n",
       "      <td>0.0</td>\n",
       "      <td>0.0</td>\n",
       "      <td>0.0</td>\n",
       "      <td>1.0</td>\n",
       "      <td>0.003289</td>\n",
       "      <td>0.006161</td>\n",
       "      <td>0.007487</td>\n",
       "      <td>0.003250</td>\n",
       "      <td>0.003299</td>\n",
       "      <td>0.994555</td>\n",
       "      <td>100206310</td>\n",
       "      <td>2092806862</td>\n",
       "      <td>10</td>\n",
       "      <td>100206310_2092806862</td>\n",
       "      <td>Sagittal T1</td>\n",
       "      <td>100206310_2092806862_10</td>\n",
       "      <td>-20</td>\n",
       "    </tr>\n",
       "  </tbody>\n",
       "</table>\n",
       "</div>"
      ],
      "text/plain": [
       "                            ids  SCS  RNFN  LNFN  LSS  RSS    H  pred_SCS  \\\n",
       "143759   100206310_2092806862_1  0.0   0.0   0.0  0.0  0.0  1.0  0.001142   \n",
       "143760   100206310_2092806862_2  0.0   0.0   0.0  0.0  0.0  1.0  0.000709   \n",
       "143761   100206310_2092806862_3  0.0   0.0   0.0  0.0  0.0  1.0  0.002421   \n",
       "143762   100206310_2092806862_4  0.0   1.0   0.0  0.0  0.0  0.0  0.000564   \n",
       "143763   100206310_2092806862_5  0.0   1.0   0.0  0.0  0.0  0.0  0.000547   \n",
       "143764   100206310_2092806862_6  0.0   1.0   0.0  0.0  0.0  0.0  0.001389   \n",
       "143765   100206310_2092806862_7  0.0   0.0   0.0  0.0  0.0  1.0  0.001695   \n",
       "143766   100206310_2092806862_8  0.0   0.0   0.0  0.0  0.0  1.0  0.007089   \n",
       "143767   100206310_2092806862_9  0.0   0.0   0.0  0.0  0.0  1.0  0.009156   \n",
       "143768  100206310_2092806862_10  0.0   0.0   0.0  0.0  0.0  1.0  0.003289   \n",
       "\n",
       "        pred_RNFN  pred_LNFN  pred_LSS  pred_RSS    pred_H   study_id  \\\n",
       "143759   0.001998   0.000932  0.006164  0.002349  0.998700  100206310   \n",
       "143760   0.004118   0.000581  0.002755  0.002364  0.997486  100206310   \n",
       "143761   0.033496   0.001279  0.004077  0.005075  0.984101  100206310   \n",
       "143762   0.999648   0.000387  0.001096  0.000764  0.003171  100206310   \n",
       "143763   0.997587   0.000175  0.001053  0.000862  0.007583  100206310   \n",
       "143764   0.965823   0.000432  0.001363  0.001165  0.024970  100206310   \n",
       "143765   0.021071   0.007121  0.003482  0.002838  0.974268  100206310   \n",
       "143766   0.012795   0.013448  0.005826  0.006997  0.987549  100206310   \n",
       "143767   0.009769   0.008330  0.008010  0.007488  0.989857  100206310   \n",
       "143768   0.006161   0.007487  0.003250  0.003299  0.994555  100206310   \n",
       "\n",
       "         series_id  instance                 ss_id series_description  \\\n",
       "143759  2092806862         1  100206310_2092806862        Sagittal T1   \n",
       "143760  2092806862         2  100206310_2092806862        Sagittal T1   \n",
       "143761  2092806862         3  100206310_2092806862        Sagittal T1   \n",
       "143762  2092806862         4  100206310_2092806862        Sagittal T1   \n",
       "143763  2092806862         5  100206310_2092806862        Sagittal T1   \n",
       "143764  2092806862         6  100206310_2092806862        Sagittal T1   \n",
       "143765  2092806862         7  100206310_2092806862        Sagittal T1   \n",
       "143766  2092806862         8  100206310_2092806862        Sagittal T1   \n",
       "143767  2092806862         9  100206310_2092806862        Sagittal T1   \n",
       "143768  2092806862        10  100206310_2092806862        Sagittal T1   \n",
       "\n",
       "                    instance_id  proj  \n",
       "143759   100206310_2092806862_1    20  \n",
       "143760   100206310_2092806862_2    15  \n",
       "143761   100206310_2092806862_3    11  \n",
       "143762   100206310_2092806862_4     6  \n",
       "143763   100206310_2092806862_5     2  \n",
       "143764   100206310_2092806862_6    -2  \n",
       "143765   100206310_2092806862_7    -6  \n",
       "143766   100206310_2092806862_8   -11  \n",
       "143767   100206310_2092806862_9   -15  \n",
       "143768  100206310_2092806862_10   -20  "
      ]
     },
     "execution_count": 61,
     "metadata": {},
     "output_type": "execute_result"
    }
   ],
   "source": [
    "df.head(10)"
   ]
  },
  {
   "cell_type": "code",
   "execution_count": 62,
   "id": "0d924448-13a9-4bdd-920a-3ec6d549af16",
   "metadata": {},
   "outputs": [
    {
     "data": {
      "text/html": [
       "<div>\n",
       "<style scoped>\n",
       "    .dataframe tbody tr th:only-of-type {\n",
       "        vertical-align: middle;\n",
       "    }\n",
       "\n",
       "    .dataframe tbody tr th {\n",
       "        vertical-align: top;\n",
       "    }\n",
       "\n",
       "    .dataframe thead th {\n",
       "        text-align: right;\n",
       "    }\n",
       "</style>\n",
       "<table border=\"1\" class=\"dataframe\">\n",
       "  <thead>\n",
       "    <tr style=\"text-align: right;\">\n",
       "      <th></th>\n",
       "      <th>ids</th>\n",
       "      <th>SCS</th>\n",
       "      <th>RNFN</th>\n",
       "      <th>LNFN</th>\n",
       "      <th>LSS</th>\n",
       "      <th>RSS</th>\n",
       "      <th>H</th>\n",
       "      <th>pred_SCS</th>\n",
       "      <th>pred_RNFN</th>\n",
       "      <th>pred_LNFN</th>\n",
       "      <th>pred_LSS</th>\n",
       "      <th>pred_RSS</th>\n",
       "      <th>pred_H</th>\n",
       "      <th>study_id</th>\n",
       "      <th>series_id</th>\n",
       "      <th>instance</th>\n",
       "      <th>ss_id</th>\n",
       "      <th>series_description</th>\n",
       "      <th>instance_id</th>\n",
       "      <th>proj</th>\n",
       "    </tr>\n",
       "  </thead>\n",
       "  <tbody>\n",
       "    <tr>\n",
       "      <th>143845</th>\n",
       "      <td>100206310_1012284084_51</td>\n",
       "      <td>0.0</td>\n",
       "      <td>0.0</td>\n",
       "      <td>0.0</td>\n",
       "      <td>0.0</td>\n",
       "      <td>0.0</td>\n",
       "      <td>1.0</td>\n",
       "      <td>0.001849</td>\n",
       "      <td>0.002726</td>\n",
       "      <td>0.001528</td>\n",
       "      <td>0.007656</td>\n",
       "      <td>0.011341</td>\n",
       "      <td>0.966479</td>\n",
       "      <td>100206310</td>\n",
       "      <td>1012284084</td>\n",
       "      <td>51</td>\n",
       "      <td>100206310_1012284084</td>\n",
       "      <td>Axial T2</td>\n",
       "      <td>100206310_1012284084_51</td>\n",
       "      <td>-540</td>\n",
       "    </tr>\n",
       "    <tr>\n",
       "      <th>143846</th>\n",
       "      <td>100206310_1012284084_52</td>\n",
       "      <td>0.0</td>\n",
       "      <td>0.0</td>\n",
       "      <td>0.0</td>\n",
       "      <td>0.0</td>\n",
       "      <td>0.0</td>\n",
       "      <td>1.0</td>\n",
       "      <td>0.001444</td>\n",
       "      <td>0.001357</td>\n",
       "      <td>0.001297</td>\n",
       "      <td>0.011961</td>\n",
       "      <td>0.011959</td>\n",
       "      <td>0.979055</td>\n",
       "      <td>100206310</td>\n",
       "      <td>1012284084</td>\n",
       "      <td>52</td>\n",
       "      <td>100206310_1012284084</td>\n",
       "      <td>Axial T2</td>\n",
       "      <td>100206310_1012284084_52</td>\n",
       "      <td>-544</td>\n",
       "    </tr>\n",
       "    <tr>\n",
       "      <th>143847</th>\n",
       "      <td>100206310_1012284084_53</td>\n",
       "      <td>0.0</td>\n",
       "      <td>0.0</td>\n",
       "      <td>0.0</td>\n",
       "      <td>0.0</td>\n",
       "      <td>0.0</td>\n",
       "      <td>1.0</td>\n",
       "      <td>0.003157</td>\n",
       "      <td>0.002710</td>\n",
       "      <td>0.002551</td>\n",
       "      <td>0.004657</td>\n",
       "      <td>0.004763</td>\n",
       "      <td>0.993834</td>\n",
       "      <td>100206310</td>\n",
       "      <td>1012284084</td>\n",
       "      <td>53</td>\n",
       "      <td>100206310_1012284084</td>\n",
       "      <td>Axial T2</td>\n",
       "      <td>100206310_1012284084_53</td>\n",
       "      <td>-547</td>\n",
       "    </tr>\n",
       "    <tr>\n",
       "      <th>143848</th>\n",
       "      <td>100206310_1012284084_54</td>\n",
       "      <td>0.0</td>\n",
       "      <td>0.0</td>\n",
       "      <td>0.0</td>\n",
       "      <td>0.0</td>\n",
       "      <td>0.0</td>\n",
       "      <td>1.0</td>\n",
       "      <td>0.001458</td>\n",
       "      <td>0.001736</td>\n",
       "      <td>0.001230</td>\n",
       "      <td>0.275448</td>\n",
       "      <td>0.261829</td>\n",
       "      <td>0.348866</td>\n",
       "      <td>100206310</td>\n",
       "      <td>1012284084</td>\n",
       "      <td>54</td>\n",
       "      <td>100206310_1012284084</td>\n",
       "      <td>Axial T2</td>\n",
       "      <td>100206310_1012284084_54</td>\n",
       "      <td>-551</td>\n",
       "    </tr>\n",
       "    <tr>\n",
       "      <th>143849</th>\n",
       "      <td>100206310_1012284084_55</td>\n",
       "      <td>0.0</td>\n",
       "      <td>0.0</td>\n",
       "      <td>0.0</td>\n",
       "      <td>1.0</td>\n",
       "      <td>1.0</td>\n",
       "      <td>0.0</td>\n",
       "      <td>0.003414</td>\n",
       "      <td>0.002638</td>\n",
       "      <td>0.003983</td>\n",
       "      <td>0.612130</td>\n",
       "      <td>0.736784</td>\n",
       "      <td>0.030937</td>\n",
       "      <td>100206310</td>\n",
       "      <td>1012284084</td>\n",
       "      <td>55</td>\n",
       "      <td>100206310_1012284084</td>\n",
       "      <td>Axial T2</td>\n",
       "      <td>100206310_1012284084_55</td>\n",
       "      <td>-554</td>\n",
       "    </tr>\n",
       "    <tr>\n",
       "      <th>143850</th>\n",
       "      <td>100206310_1012284084_56</td>\n",
       "      <td>0.0</td>\n",
       "      <td>0.0</td>\n",
       "      <td>0.0</td>\n",
       "      <td>0.0</td>\n",
       "      <td>0.0</td>\n",
       "      <td>1.0</td>\n",
       "      <td>0.005796</td>\n",
       "      <td>0.004421</td>\n",
       "      <td>0.003515</td>\n",
       "      <td>0.611376</td>\n",
       "      <td>0.815653</td>\n",
       "      <td>0.015366</td>\n",
       "      <td>100206310</td>\n",
       "      <td>1012284084</td>\n",
       "      <td>56</td>\n",
       "      <td>100206310_1012284084</td>\n",
       "      <td>Axial T2</td>\n",
       "      <td>100206310_1012284084_56</td>\n",
       "      <td>-558</td>\n",
       "    </tr>\n",
       "    <tr>\n",
       "      <th>143851</th>\n",
       "      <td>100206310_1012284084_57</td>\n",
       "      <td>0.0</td>\n",
       "      <td>0.0</td>\n",
       "      <td>0.0</td>\n",
       "      <td>0.0</td>\n",
       "      <td>0.0</td>\n",
       "      <td>1.0</td>\n",
       "      <td>0.001740</td>\n",
       "      <td>0.002726</td>\n",
       "      <td>0.001834</td>\n",
       "      <td>0.016040</td>\n",
       "      <td>0.013076</td>\n",
       "      <td>0.976590</td>\n",
       "      <td>100206310</td>\n",
       "      <td>1012284084</td>\n",
       "      <td>57</td>\n",
       "      <td>100206310_1012284084</td>\n",
       "      <td>Axial T2</td>\n",
       "      <td>100206310_1012284084_57</td>\n",
       "      <td>-561</td>\n",
       "    </tr>\n",
       "    <tr>\n",
       "      <th>143852</th>\n",
       "      <td>100206310_1012284084_58</td>\n",
       "      <td>0.0</td>\n",
       "      <td>0.0</td>\n",
       "      <td>0.0</td>\n",
       "      <td>0.0</td>\n",
       "      <td>0.0</td>\n",
       "      <td>1.0</td>\n",
       "      <td>0.000992</td>\n",
       "      <td>0.001275</td>\n",
       "      <td>0.000810</td>\n",
       "      <td>0.007748</td>\n",
       "      <td>0.010601</td>\n",
       "      <td>0.992076</td>\n",
       "      <td>100206310</td>\n",
       "      <td>1012284084</td>\n",
       "      <td>58</td>\n",
       "      <td>100206310_1012284084</td>\n",
       "      <td>Axial T2</td>\n",
       "      <td>100206310_1012284084_58</td>\n",
       "      <td>-565</td>\n",
       "    </tr>\n",
       "    <tr>\n",
       "      <th>143853</th>\n",
       "      <td>100206310_1012284084_59</td>\n",
       "      <td>0.0</td>\n",
       "      <td>0.0</td>\n",
       "      <td>0.0</td>\n",
       "      <td>0.0</td>\n",
       "      <td>0.0</td>\n",
       "      <td>1.0</td>\n",
       "      <td>0.001028</td>\n",
       "      <td>0.001857</td>\n",
       "      <td>0.001319</td>\n",
       "      <td>0.001814</td>\n",
       "      <td>0.001610</td>\n",
       "      <td>0.998820</td>\n",
       "      <td>100206310</td>\n",
       "      <td>1012284084</td>\n",
       "      <td>59</td>\n",
       "      <td>100206310_1012284084</td>\n",
       "      <td>Axial T2</td>\n",
       "      <td>100206310_1012284084_59</td>\n",
       "      <td>-568</td>\n",
       "    </tr>\n",
       "    <tr>\n",
       "      <th>143854</th>\n",
       "      <td>100206310_1012284084_60</td>\n",
       "      <td>0.0</td>\n",
       "      <td>0.0</td>\n",
       "      <td>0.0</td>\n",
       "      <td>0.0</td>\n",
       "      <td>0.0</td>\n",
       "      <td>1.0</td>\n",
       "      <td>0.000777</td>\n",
       "      <td>0.000981</td>\n",
       "      <td>0.000742</td>\n",
       "      <td>0.001911</td>\n",
       "      <td>0.002188</td>\n",
       "      <td>0.999004</td>\n",
       "      <td>100206310</td>\n",
       "      <td>1012284084</td>\n",
       "      <td>60</td>\n",
       "      <td>100206310_1012284084</td>\n",
       "      <td>Axial T2</td>\n",
       "      <td>100206310_1012284084_60</td>\n",
       "      <td>-572</td>\n",
       "    </tr>\n",
       "  </tbody>\n",
       "</table>\n",
       "</div>"
      ],
      "text/plain": [
       "                            ids  SCS  RNFN  LNFN  LSS  RSS    H  pred_SCS  \\\n",
       "143845  100206310_1012284084_51  0.0   0.0   0.0  0.0  0.0  1.0  0.001849   \n",
       "143846  100206310_1012284084_52  0.0   0.0   0.0  0.0  0.0  1.0  0.001444   \n",
       "143847  100206310_1012284084_53  0.0   0.0   0.0  0.0  0.0  1.0  0.003157   \n",
       "143848  100206310_1012284084_54  0.0   0.0   0.0  0.0  0.0  1.0  0.001458   \n",
       "143849  100206310_1012284084_55  0.0   0.0   0.0  1.0  1.0  0.0  0.003414   \n",
       "143850  100206310_1012284084_56  0.0   0.0   0.0  0.0  0.0  1.0  0.005796   \n",
       "143851  100206310_1012284084_57  0.0   0.0   0.0  0.0  0.0  1.0  0.001740   \n",
       "143852  100206310_1012284084_58  0.0   0.0   0.0  0.0  0.0  1.0  0.000992   \n",
       "143853  100206310_1012284084_59  0.0   0.0   0.0  0.0  0.0  1.0  0.001028   \n",
       "143854  100206310_1012284084_60  0.0   0.0   0.0  0.0  0.0  1.0  0.000777   \n",
       "\n",
       "        pred_RNFN  pred_LNFN  pred_LSS  pred_RSS    pred_H   study_id  \\\n",
       "143845   0.002726   0.001528  0.007656  0.011341  0.966479  100206310   \n",
       "143846   0.001357   0.001297  0.011961  0.011959  0.979055  100206310   \n",
       "143847   0.002710   0.002551  0.004657  0.004763  0.993834  100206310   \n",
       "143848   0.001736   0.001230  0.275448  0.261829  0.348866  100206310   \n",
       "143849   0.002638   0.003983  0.612130  0.736784  0.030937  100206310   \n",
       "143850   0.004421   0.003515  0.611376  0.815653  0.015366  100206310   \n",
       "143851   0.002726   0.001834  0.016040  0.013076  0.976590  100206310   \n",
       "143852   0.001275   0.000810  0.007748  0.010601  0.992076  100206310   \n",
       "143853   0.001857   0.001319  0.001814  0.001610  0.998820  100206310   \n",
       "143854   0.000981   0.000742  0.001911  0.002188  0.999004  100206310   \n",
       "\n",
       "         series_id  instance                 ss_id series_description  \\\n",
       "143845  1012284084        51  100206310_1012284084           Axial T2   \n",
       "143846  1012284084        52  100206310_1012284084           Axial T2   \n",
       "143847  1012284084        53  100206310_1012284084           Axial T2   \n",
       "143848  1012284084        54  100206310_1012284084           Axial T2   \n",
       "143849  1012284084        55  100206310_1012284084           Axial T2   \n",
       "143850  1012284084        56  100206310_1012284084           Axial T2   \n",
       "143851  1012284084        57  100206310_1012284084           Axial T2   \n",
       "143852  1012284084        58  100206310_1012284084           Axial T2   \n",
       "143853  1012284084        59  100206310_1012284084           Axial T2   \n",
       "143854  1012284084        60  100206310_1012284084           Axial T2   \n",
       "\n",
       "                    instance_id  proj  \n",
       "143845  100206310_1012284084_51  -540  \n",
       "143846  100206310_1012284084_52  -544  \n",
       "143847  100206310_1012284084_53  -547  \n",
       "143848  100206310_1012284084_54  -551  \n",
       "143849  100206310_1012284084_55  -554  \n",
       "143850  100206310_1012284084_56  -558  \n",
       "143851  100206310_1012284084_57  -561  \n",
       "143852  100206310_1012284084_58  -565  \n",
       "143853  100206310_1012284084_59  -568  \n",
       "143854  100206310_1012284084_60  -572  "
      ]
     },
     "execution_count": 62,
     "metadata": {},
     "output_type": "execute_result"
    }
   ],
   "source": [
    "df.tail(10)"
   ]
  },
  {
   "cell_type": "code",
   "execution_count": 63,
   "id": "1f823fc5-ee8b-4921-8b15-06a0e65ec2f0",
   "metadata": {},
   "outputs": [
    {
     "data": {
      "text/plain": [
       "Index([143845, 143846, 143847, 143848, 143849, 143850, 143851, 143852, 143853,\n",
       "       143854],\n",
       "      dtype='int64')"
      ]
     },
     "execution_count": 63,
     "metadata": {},
     "output_type": "execute_result"
    }
   ],
   "source": [
    "df.tail(10).index"
   ]
  },
  {
   "cell_type": "code",
   "execution_count": 64,
   "id": "96bd784c-24f9-4d69-ad14-cf37276860aa",
   "metadata": {
    "scrolled": true
   },
   "outputs": [
    {
     "data": {
      "text/plain": [
       "array([-0.34221628, -0.13919176, -0.78077346,  0.64501834, -0.07195064,\n",
       "       -1.2440209 ,  0.9645591 , -0.8141093 ,  0.21966034, -1.099449  ,\n",
       "        0.6013279 ,  1.5434505 , -0.86642814,  0.40831086, -1.1543027 ,\n",
       "        0.54212123,  0.7684498 ,  0.29176962, -0.25353748, -1.0091592 ,\n",
       "        0.5234485 , -0.76076007, -0.67219174,  0.11052073, -0.8537112 ,\n",
       "       -0.75529987, -0.95640016, -1.0791835 , -0.0261636 , -1.0279031 ,\n",
       "        1.1882536 , -0.5265772 ,  0.8112257 , -0.01480129,  0.91758794,\n",
       "       -0.27568927,  0.02743484,  0.03835327, -1.430163  ,  0.09892607,\n",
       "        0.2911259 , -0.21277288,  0.38242516, -0.6235944 , -1.1379712 ,\n",
       "        0.25593656, -1.0292481 ,  0.04417314, -0.16738598, -0.38505363,\n",
       "       -0.1594606 , -1.0211108 ,  0.4320745 ,  0.6459609 ,  1.5208894 ,\n",
       "       -0.28295177,  1.1789021 , -0.5766379 , -0.9189778 ,  0.18157019,\n",
       "        0.14352582, -0.03669149,  0.01666886,  1.18903   ,  1.4388409 ,\n",
       "       -0.09910575,  0.6161871 ,  0.73354167, -0.31500736, -0.6662295 ,\n",
       "       -0.01349874,  0.09598788,  0.21029298, -0.34656027,  0.53277457,\n",
       "       -0.14726478, -0.98648024,  0.44319347, -0.15917562, -1.526792  ,\n",
       "        0.27121496, -0.08732042, -0.5311598 ,  0.29671413, -0.16483021,\n",
       "       -1.1419042 , -0.9065366 , -0.1974547 , -0.07101621, -0.28994244,\n",
       "       -0.1382658 ,  1.5981967 ,  0.6858089 ,  0.54910076, -1.5825696 ,\n",
       "        0.6474328 , -0.2951298 ,  0.64241964, -0.05299855, -0.9487807 ,\n",
       "        0.10282776,  0.48106468,  0.38068923,  1.008505  ,  0.42666304,\n",
       "       -0.18495111,  0.37981206, -0.01350391,  0.17720515, -0.6159235 ,\n",
       "       -0.51494074, -0.8528366 , -0.29540756,  0.10369828, -0.19615452,\n",
       "       -0.38234866,  1.3263956 , -0.15815285,  1.6745446 , -0.7743121 ,\n",
       "       -0.6452112 ,  0.04213762, -1.327193  , -0.7824651 , -1.0294083 ,\n",
       "        0.14948928,  0.52363724,  0.68747157], dtype=float32)"
      ]
     },
     "execution_count": 64,
     "metadata": {},
     "output_type": "execute_result"
    }
   ],
   "source": [
    "embeds[1]"
   ]
  },
  {
   "cell_type": "markdown",
   "id": "0becd3d8-b474-4584-a942-67cc544c692d",
   "metadata": {},
   "source": [
    "### Dataset"
   ]
  },
  {
   "cell_type": "code",
   "execution_count": 65,
   "id": "f3f86c5e-f9ea-4585-aae3-1ba303a623a6",
   "metadata": {},
   "outputs": [],
   "source": [
    "from dataset import rsna_lstm_dataset, rsna_lstm_dataset2"
   ]
  },
  {
   "cell_type": "code",
   "execution_count": 66,
   "id": "30dc6b05-f665-42da-82f9-30e3c46acd5b",
   "metadata": {
    "scrolled": true
   },
   "outputs": [
    {
     "name": "stdout",
     "output_type": "stream",
     "text": [
      "1975\n",
      "torch.Size([73, 128]) torch.Size([25])\n",
      "torch.float32 torch.int64\n"
     ]
    }
   ],
   "source": [
    "# dset = rsna_lstm_dataset(train_df, train_desc_df, CFG.stacked_path)\n",
    "dset = rsna_lstm_dataset2(train_df, preds_df, CFG.stacked_path, CFG)\n",
    "\n",
    "print(dset.__len__())\n",
    "\n",
    "seq, target = dset.__getitem__(0)\n",
    "print(seq.shape, target.shape)\n",
    "print(seq.dtype, target.dtype)"
   ]
  },
  {
   "cell_type": "code",
   "execution_count": 67,
   "id": "47c758ae-1152-4345-94d4-8edbc9a7bbc8",
   "metadata": {},
   "outputs": [
    {
     "name": "stdout",
     "output_type": "stream",
     "text": [
      "1975\n",
      "torch.Size([73, 128]) torch.Size([25])\n",
      "torch.float32 torch.int64\n"
     ]
    }
   ],
   "source": [
    "dset.healthy_frac = 1\n",
    "\n",
    "print(dset.__len__())\n",
    "\n",
    "seq, target = dset.__getitem__(0)\n",
    "print(seq.shape, target.shape)\n",
    "print(seq.dtype, target.dtype)"
   ]
  },
  {
   "cell_type": "code",
   "execution_count": 68,
   "id": "17b67bf3-c483-4312-9ab2-25506e4633c9",
   "metadata": {},
   "outputs": [
    {
     "name": "stdout",
     "output_type": "stream",
     "text": [
      "1975\n",
      "torch.Size([22, 128]) torch.Size([25])\n",
      "torch.float32 torch.int64\n"
     ]
    }
   ],
   "source": [
    "# dset = rsna_lstm_dataset(train_df, train_desc_df, CFG.stacked_path)\n",
    "# dset = rsna_lstm_dataset2(train_df, preds_df, CFG.stacked_path)\n",
    "dset.healthy_frac = 0\n",
    "\n",
    "print(dset.__len__())\n",
    "\n",
    "seq, target = dset.__getitem__(0)\n",
    "print(seq.shape, target.shape)\n",
    "print(seq.dtype, target.dtype)"
   ]
  },
  {
   "cell_type": "code",
   "execution_count": 69,
   "id": "d129ec21-294f-4f7c-9dc9-a94466cf86e1",
   "metadata": {},
   "outputs": [
    {
     "data": {
      "text/plain": [
       "(73, (73, 20))"
      ]
     },
     "execution_count": 69,
     "metadata": {},
     "output_type": "execute_result"
    }
   ],
   "source": [
    "study_id = train_df.loc[0].study_id\n",
    "\n",
    "selection = preds_df[preds_df.study_id == study_id]\n",
    "\n",
    "selection.ids.nunique(), selection.shape"
   ]
  },
  {
   "cell_type": "code",
   "execution_count": 70,
   "id": "0732d3a8-5fa6-48a6-8d50-cddb0379b6a0",
   "metadata": {
    "scrolled": true
   },
   "outputs": [
    {
     "data": {
      "text/plain": [
       "((22, 20), (12, 20))"
      ]
     },
     "execution_count": 70,
     "metadata": {},
     "output_type": "execute_result"
    }
   ],
   "source": [
    "selection[selection.pred_H < 0.8].shape, selection[selection.H < 1].shape"
   ]
  },
  {
   "cell_type": "code",
   "execution_count": 71,
   "id": "07b7227a-8340-4386-bf5a-e16056e87714",
   "metadata": {},
   "outputs": [],
   "source": [
    "# preds_df.sample(frac=0.1)"
   ]
  },
  {
   "cell_type": "code",
   "execution_count": 72,
   "id": "c40e2d06-e0db-4e46-88dc-ce9a45ccc903",
   "metadata": {},
   "outputs": [
    {
     "data": {
      "text/plain": [
       "tensor([1, 1, 1, 1, 1, 1, 1, 1, 0, 1, 1, 1, 0, 0, 1, 1, 1, 1, 0, 1, 1, 1, 1, 1,\n",
       "        1])"
      ]
     },
     "execution_count": 72,
     "metadata": {},
     "output_type": "execute_result"
    }
   ],
   "source": [
    "# seq dim: (bs, seq_len, 1, num_features)\n",
    "# target dim: (N, d1)\n",
    "target"
   ]
  },
  {
   "cell_type": "code",
   "execution_count": 73,
   "id": "7e83ed1d-46df-455a-81d2-de0ad736a547",
   "metadata": {},
   "outputs": [
    {
     "data": {
      "text/plain": [
       "tensor([ 0.1740, -0.2892, -0.0194,  0.6008, -1.1034,  0.0763, -0.9378, -0.2737,\n",
       "         0.8729, -0.1389, -1.1029,  0.2722,  0.0886, -0.2062,  0.2179, -0.3113,\n",
       "        -0.1670,  0.0475,  0.9207,  0.1925, -0.0863, -0.3824, -0.2791, -0.7670,\n",
       "        -0.4980,  0.1610, -0.3804, -0.2098, -0.9039, -0.3670,  0.2090,  0.9509,\n",
       "         0.2215,  0.4828, -0.0169, -1.2843,  0.4423,  0.1195, -0.1747,  0.4252,\n",
       "         0.3568, -1.1643, -0.0369,  0.1330, -0.0452,  0.2945,  0.0762, -0.1786,\n",
       "        -0.7236, -0.0318, -0.1395, -0.2227,  0.0445, -0.9931,  0.4349, -0.0923,\n",
       "        -0.0083, -0.3475,  0.0600, -0.8649,  0.8867, -1.2293,  0.9148, -0.0535,\n",
       "         0.5973, -0.3420,  1.0847, -0.8047, -0.1860, -0.2820,  0.5169,  0.2863,\n",
       "         0.5076, -0.4433, -0.1834, -0.2242, -0.2448, -0.1520, -0.2787, -0.4791,\n",
       "         0.2262, -0.3664, -0.1167,  0.8033,  0.3123, -0.0444, -0.8730,  0.5321,\n",
       "        -0.9100, -0.4221,  0.2313,  0.2102, -0.4873, -0.2858, -0.1669, -0.0357,\n",
       "        -0.1119, -1.1185, -0.1582,  0.9365, -0.3287, -0.7613,  0.0497,  0.1848,\n",
       "         0.5367, -0.2246,  0.1665,  0.2657,  0.3809,  0.4469,  0.0540,  0.0191,\n",
       "        -0.0747,  1.1459, -0.3751, -0.6806,  0.4320, -1.2849,  0.2928,  0.3024,\n",
       "         1.1161,  0.6032, -0.4536,  0.9666, -0.3671, -0.2429, -0.1383,  0.3005])"
      ]
     },
     "execution_count": 73,
     "metadata": {},
     "output_type": "execute_result"
    }
   ],
   "source": [
    "seq[0]"
   ]
  },
  {
   "cell_type": "markdown",
   "id": "fd867d32-aa02-4d7f-b01c-0464e4743454",
   "metadata": {},
   "source": [
    "### Data Module"
   ]
  },
  {
   "cell_type": "code",
   "execution_count": 74,
   "id": "6f139987-2152-4998-a85a-1659c5547410",
   "metadata": {},
   "outputs": [],
   "source": [
    "from dataset import rsna_lstm_dataset, rsna_lstm_dataset2, collate_fn_padd"
   ]
  },
  {
   "cell_type": "code",
   "execution_count": 75,
   "id": "e432ce02-b10e-48ab-ac4b-aa9676cf439b",
   "metadata": {},
   "outputs": [
    {
     "data": {
      "text/html": [
       "<div>\n",
       "<style scoped>\n",
       "    .dataframe tbody tr th:only-of-type {\n",
       "        vertical-align: middle;\n",
       "    }\n",
       "\n",
       "    .dataframe tbody tr th {\n",
       "        vertical-align: top;\n",
       "    }\n",
       "\n",
       "    .dataframe thead th {\n",
       "        text-align: right;\n",
       "    }\n",
       "</style>\n",
       "<table border=\"1\" class=\"dataframe\">\n",
       "  <thead>\n",
       "    <tr style=\"text-align: right;\">\n",
       "      <th></th>\n",
       "      <th>study_id</th>\n",
       "      <th>series_id</th>\n",
       "      <th>series_description</th>\n",
       "      <th>ss_id</th>\n",
       "    </tr>\n",
       "  </thead>\n",
       "  <tbody>\n",
       "    <tr>\n",
       "      <th>758</th>\n",
       "      <td>504362668</td>\n",
       "      <td>4031652250</td>\n",
       "      <td>Sagittal T2/STIR</td>\n",
       "      <td>504362668_4031652250</td>\n",
       "    </tr>\n",
       "  </tbody>\n",
       "</table>\n",
       "</div>"
      ],
      "text/plain": [
       "      study_id   series_id series_description                 ss_id\n",
       "758  504362668  4031652250   Sagittal T2/STIR  504362668_4031652250"
      ]
     },
     "execution_count": 75,
     "metadata": {},
     "output_type": "execute_result"
    }
   ],
   "source": [
    "train_desc_df.sample()"
   ]
  },
  {
   "cell_type": "code",
   "execution_count": 76,
   "id": "b9470a56-200b-4239-b398-e80dcd7d0747",
   "metadata": {},
   "outputs": [],
   "source": [
    "# from torch.nn.utils.rnn import pad_sequence\n",
    "\n",
    "# def collate_fn_padd(data):\n",
    "#     tensors, targets = zip(*data)\n",
    "#     features = pad_sequence(tensors, batch_first=True)\n",
    "#     targets = torch.stack(targets)\n",
    "#     return features, targets\n",
    "    \n",
    "class lstm_datamodule(pl.LightningDataModule):\n",
    "    # def __init__(self, train_df, val_df, train_desc_df, cfg):\n",
    "    def __init__(self, train_df, val_df, preds_df, cfg):\n",
    "        super().__init__()\n",
    "        \n",
    "        self.train_df = train_df\n",
    "        self.val_df = val_df\n",
    "        # self.train_desc_df = train_desc_df\n",
    "        self.preds_df = preds_df\n",
    "        \n",
    "        self.train_bs = cfg.BATCH_SIZE\n",
    "        self.val_bs = cfg.BATCH_SIZE\n",
    "\n",
    "        self.cfg = cfg\n",
    "        self.path = cfg.stacked_path\n",
    "        \n",
    "        self.num_workers = cfg.num_workers\n",
    "        \n",
    "    def train_dataloader(self):\n",
    "        train_ds = rsna_lstm_dataset2(self.train_df, self.preds_df, self.path, self.cfg)\n",
    "        \n",
    "        train_loader = torch.utils.data.DataLoader(\n",
    "            train_ds,\n",
    "            batch_size=self.train_bs,\n",
    "            collate_fn=collate_fn_padd,\n",
    "            pin_memory=False,\n",
    "            drop_last=False,\n",
    "            shuffle=True,\n",
    "            persistent_workers=True,\n",
    "            num_workers=self.num_workers,\n",
    "        )\n",
    "        \n",
    "        return train_loader\n",
    "        \n",
    "    def val_dataloader(self):\n",
    "        val_ds = rsna_lstm_dataset2(self.val_df, self.preds_df, self.path, self.cfg)\n",
    "        \n",
    "        val_loader = torch.utils.data.DataLoader(\n",
    "            val_ds,\n",
    "            batch_size=self.val_bs,\n",
    "            collate_fn=collate_fn_padd,\n",
    "            pin_memory=False,\n",
    "            drop_last=False,\n",
    "            shuffle=False,\n",
    "            persistent_workers=True,\n",
    "            num_workers=2,\n",
    "        )\n",
    "        \n",
    "        return val_loader"
   ]
  },
  {
   "cell_type": "code",
   "execution_count": 77,
   "id": "a96cc534-ef0d-4986-a504-d84350f3a226",
   "metadata": {
    "scrolled": true
   },
   "outputs": [
    {
     "data": {
      "text/plain": [
       "(torch.Size([8, 123, 128]), torch.Size([8, 25]), torch.float32, torch.int64)"
      ]
     },
     "execution_count": 77,
     "metadata": {},
     "output_type": "execute_result"
    }
   ],
   "source": [
    "t_df = train_df[:-100]\n",
    "# t_df = pd.concat([meta_df[:-100], ul_df[:-100]], ignore_index=True)\n",
    "v_df = train_df[-100:]\n",
    "\n",
    "CFG2 = CFG()\n",
    "# CFG2 = copy.deepcopy(CFG)\n",
    "CFG2.BATCH_SIZE = 8\n",
    "CFG2.num_workers = 4\n",
    "\n",
    "# dm = lstm_datamodule(t_df, v_df, train_desc_df, CFG2)\n",
    "dm = lstm_datamodule(t_df, v_df, preds_df, CFG2)\n",
    "\n",
    "x, y = next(iter(dm.train_dataloader()))\n",
    "x.shape, y.shape, x.dtype, y.dtype"
   ]
  },
  {
   "cell_type": "code",
   "execution_count": 78,
   "id": "995545d7-5508-41e6-a5e3-b8c62e4b4078",
   "metadata": {},
   "outputs": [],
   "source": [
    "# x.shape[0]"
   ]
  },
  {
   "cell_type": "code",
   "execution_count": 79,
   "id": "f2a8b774-b258-4ae0-901f-fb05a78180a1",
   "metadata": {},
   "outputs": [
    {
     "data": {
      "text/plain": [
       "tensor([1, 1, 0, 1, 1, 1, 1, 0, 1, 1, 1, 1, 1, 1, 1, 1, 0, 2, 1, 1, 1, 0, 0, 1,\n",
       "        2])"
      ]
     },
     "execution_count": 79,
     "metadata": {},
     "output_type": "execute_result"
    }
   ],
   "source": [
    "y[0]"
   ]
  },
  {
   "cell_type": "code",
   "execution_count": 80,
   "id": "27e5d209-1e93-43d1-8e97-7677751a7bca",
   "metadata": {},
   "outputs": [
    {
     "data": {
      "text/plain": [
       "tensor([1, 1, 1, 1, 0, 1, 1, 1, 1, 1, 1, 1, 1, 1, 1, 1, 0, 0, 0, 1, 1, 1, 1, 1,\n",
       "        1])"
      ]
     },
     "execution_count": 80,
     "metadata": {},
     "output_type": "execute_result"
    }
   ],
   "source": [
    "y[1]"
   ]
  },
  {
   "cell_type": "code",
   "execution_count": null,
   "id": "bb5beca0-176c-4410-9c3f-d8c1cc582e7e",
   "metadata": {},
   "outputs": [],
   "source": []
  },
  {
   "cell_type": "code",
   "execution_count": 81,
   "id": "dcded2ba-4250-4dc0-b91e-202b8b2e92e3",
   "metadata": {},
   "outputs": [],
   "source": [
    "del dm"
   ]
  },
  {
   "cell_type": "markdown",
   "id": "27eaf99d-c0df-4c3b-8e0b-e4149287724d",
   "metadata": {},
   "source": [
    "### Loss function"
   ]
  },
  {
   "cell_type": "code",
   "execution_count": 82,
   "id": "8b81ea3d-00dd-40ab-9ae3-18bc6b41bc56",
   "metadata": {},
   "outputs": [],
   "source": [
    "class FocalLossBCE(torch.nn.Module):\n",
    "    def __init__(\n",
    "            self,\n",
    "            alpha: float = 0.25,\n",
    "            gamma: float = 5,\n",
    "            reduction: str = \"mean\",\n",
    "            bce_weight: float = 1.0,\n",
    "            focal_weight: float = 1.0,\n",
    "    ):\n",
    "        super().__init__()\n",
    "        self.alpha = alpha\n",
    "        self.gamma = gamma\n",
    "        self.reduction = reduction\n",
    "        # self.bce = torch.nn.BCEWithLogitsLoss(reduction=reduction, pos_weight=0.1)\n",
    "        self.bce = torch.nn.BCEWithLogitsLoss(reduction=reduction)\n",
    "        self.bce_weight = bce_weight\n",
    "        self.focal_weight = focal_weight\n",
    "\n",
    "    def forward(self, logits, targets):\n",
    "        focall_loss = torchvision.ops.focal_loss.sigmoid_focal_loss(\n",
    "            inputs=logits,\n",
    "            targets=targets,\n",
    "            alpha=self.alpha,\n",
    "            gamma=self.gamma,\n",
    "            reduction=self.reduction,\n",
    "        )\n",
    "        \n",
    "        bce_loss = self.bce(logits, targets)\n",
    "        \n",
    "        return self.bce_weight * bce_loss + self.focal_weight * focall_loss"
   ]
  },
  {
   "cell_type": "code",
   "execution_count": 83,
   "id": "35a66677-1ad1-467b-8eec-7810bdd87199",
   "metadata": {},
   "outputs": [],
   "source": [
    "# logprobs = F.cross_entropy(input, target, reduction='none')\n",
    "# at = at.view(-1, len(alphas))\n",
    "# pt = torch.exp(-logprobs)\n",
    "# focal_loss = at*(1-pt)** gamma * logprobs\n",
    "# return focal_loss.mean()"
   ]
  },
  {
   "cell_type": "markdown",
   "id": "c0b612aa-046a-43ac-a4af-372ac3e8c5d3",
   "metadata": {},
   "source": [
    "### Model"
   ]
  },
  {
   "cell_type": "markdown",
   "id": "7dbe6f84-498b-4bf8-9ddb-bfc6e1f14f85",
   "metadata": {},
   "source": [
    "#### Definition"
   ]
  },
  {
   "cell_type": "code",
   "execution_count": 84,
   "id": "ee25477c-c3c0-4e2c-ac2c-4f9fbd128e23",
   "metadata": {},
   "outputs": [
    {
     "data": {
      "text/plain": [
       "3"
      ]
     },
     "execution_count": 84,
     "metadata": {},
     "output_type": "execute_result"
    }
   ],
   "source": [
    "CFG.N_LABELS"
   ]
  },
  {
   "cell_type": "code",
   "execution_count": 85,
   "id": "5910b742-8212-42d8-9beb-31374e75e967",
   "metadata": {},
   "outputs": [],
   "source": [
    "# torch.tensor([[[0, 1], [2, 1], [0, 2]], [[1, 1], [2, 0], [1, 2]]]).shape, torch.tensor([[[0, 2], [2, 0], [0, 1]], [[2, 2], [2, 1], [1, 0]]]).shape"
   ]
  },
  {
   "cell_type": "code",
   "execution_count": 86,
   "id": "4b0adf6c-ea3f-4a86-939f-ef72d766243f",
   "metadata": {},
   "outputs": [
    {
     "data": {
      "text/plain": [
       "1"
      ]
     },
     "execution_count": 86,
     "metadata": {},
     "output_type": "execute_result"
    }
   ],
   "source": [
    "CFG.ignore_index"
   ]
  },
  {
   "cell_type": "code",
   "execution_count": 87,
   "id": "884fad8f-5a10-48d0-915d-4ce5ff2813ec",
   "metadata": {},
   "outputs": [],
   "source": [
    "class LSTMClassifier(pl.LightningModule):\n",
    "    def __init__(self, cfg=CFG):\n",
    "        super(LSTMClassifier, self).__init__()\n",
    "\n",
    "        self.cfg = cfg\n",
    "        \n",
    "        self.input_dim = cfg.input_dim\n",
    "        self.hidden_dim = cfg.hidden_dim\n",
    "\n",
    "        self.num_layers = cfg.num_layers\n",
    "\n",
    "        self.ignore_index = cfg.ignore_index\n",
    "        \n",
    "        self.levels = 25\n",
    "        self.classes = cfg.N_LABELS\n",
    "\n",
    "        self.hidden = None\n",
    "\n",
    "        # https://discuss.pytorch.org/t/pytorchs-non-deterministic-cross-entropy-loss-and-the-problem-of-reproducibility/172180/9\n",
    "        # reduction is set to none\n",
    "        # self.criterion = torch.nn.CrossEntropyLoss(reduction='none', weight=torch.tensor([1,0.1,2]))\n",
    "        weight = None\n",
    "        if self.cfg.weighted_loss:\n",
    "            weight = torch.tensor(cfg.class_weights)\n",
    "\n",
    "        self.focal = FocalLossBCE(bce_weight=1)\n",
    "        # self.criterion = torch.nn.CrossEntropyLoss(reduction='none', ignore_index=cfg.ignore_index)\n",
    "        self.criterion = torch.nn.CrossEntropyLoss(reduction='none', weight=weight)\n",
    "\n",
    "        self.lstm = nn.LSTM(self.input_dim, self.hidden_dim, num_layers=self.num_layers, batch_first=True, dropout=cfg.dropout)\n",
    "        self.fc = nn.Linear(self.hidden_dim, self.levels * self.classes)\n",
    "        self.fc_healthy = nn.Linear(self.hidden_dim, self.levels)\n",
    "\n",
    "        # no average maccs\n",
    "        macc_serverity = ClasswiseWrapper(MulticlassAccuracy(\n",
    "            num_classes=self.cfg.N_LABELS,\n",
    "            average='none', \n",
    "            multidim_average='global'\n",
    "            # label encoder classes\n",
    "        ), labels=le.classes_.tolist(), prefix='multiacc_severity/')\n",
    "\n",
    "        macc_levels = ClasswiseWrapper(MulticlassAccuracy(\n",
    "            num_classes=self.cfg.N_LABELS,\n",
    "            average='none', \n",
    "            multidim_average='global'\n",
    "        ), labels=classes, prefix='multiacc_levels/')\n",
    "        \n",
    "        metrics = MetricCollection({\n",
    "            'macc': MulticlassAccuracy(num_classes=self.cfg.N_LABELS),\n",
    "            'macc_none': macc_serverity,\n",
    "            'mpr': MulticlassPrecision(num_classes=self.cfg.N_LABELS),\n",
    "            'mrec': MulticlassRecall(num_classes=self.cfg.N_LABELS),\n",
    "            'f1': MulticlassF1Score(num_classes=self.cfg.N_LABELS)\n",
    "        })\n",
    "\n",
    "        self.train_metrics = metrics.clone(prefix='train/')\n",
    "        self.valid_metrics = metrics.clone(prefix='val/')\n",
    "\n",
    "    def init_hidden(self, bsz):\n",
    "        weight = next(self.parameters())\n",
    "        return (\n",
    "            weight.new_zeros(self.num_layers, bsz, self.hidden_dim),\n",
    "            weight.new_zeros(self.num_layers, bsz, self.hidden_dim),\n",
    "        )\n",
    "\n",
    "    def forward(self, sequence):\n",
    "        # if self.hidden is None:\n",
    "        #     self.hidden = self.init_hidden(sequence.shape[0])\n",
    "            \n",
    "        # self.hidden = (self.hidden[0].detach(), self.hidden[1].detach())\n",
    "        \n",
    "        #  seq: (seq_len, bs, num_features)\n",
    "        lstm_out, (h, c) = self.lstm(sequence)\n",
    "        # lstm_out, (h, c) = self.lstm(sequence, self.hidden)\n",
    "        \n",
    "        y = self.fc(h[-1])\n",
    "        y2 = self.fc_healthy(h[-1])\n",
    "\n",
    "        # (N,C,d1) -> (N,3,25)\n",
    "        return y.view(-1, self.classes, self.levels), y2.view(-1, self.levels)\n",
    "\n",
    "    def step(self, batch, batch_idx, mode='train'):\n",
    "        x, y = batch\n",
    "\n",
    "        preds, preds_healthy = self(x)\n",
    "\n",
    "        # focal_loss = self.focal(preds[:, self.ignore_index], torch.where(y==self.ignore_index, 1., 0.))\n",
    "        \n",
    "        focal_loss = self.focal(preds_healthy, torch.where(y==self.ignore_index, 1., 0.))\n",
    "\n",
    "        # focal_loss = self.focal( torch.where(y==self.ignore_index, 1., 0.), preds[:, self.ignore_index])\n",
    "        # https://discuss.pytorch.org/t/pytorchs-non-deterministic-cross-entropy-loss-and-the-problem-of-reproducibility/172180/9\n",
    "        loss = self.criterion(preds, y).mean()\n",
    "\n",
    "        total_loss = loss + focal_loss\n",
    "\n",
    "        # print(preds.shape, y.shape)\n",
    "\n",
    "        self.hidden = None\n",
    "\n",
    "        if mode == 'train':\n",
    "            output = self.train_metrics(preds, y)\n",
    "            self.log_dict(output)\n",
    "        else:\n",
    "            self.valid_metrics.update(preds, y)\n",
    "\n",
    "        self.log(f'{mode}/loss', total_loss, on_step=True, on_epoch=True)\n",
    "        self.log(f'{mode}/loss_focal', focal_loss, on_step=True, on_epoch=False)\n",
    "        self.log(f'{mode}/loss_classif', loss, on_step=True, on_epoch=False)\n",
    "\n",
    "        return total_loss\n",
    "\n",
    "    def training_step(self, batch, batch_idx):\n",
    "        loss = self.step(batch, batch_idx, mode='train')\n",
    "\n",
    "        # self.hidden = None\n",
    "        \n",
    "        return loss\n",
    "        \n",
    "    def validation_step(self, batch, batch_idx):\n",
    "        loss = self.step(batch, batch_idx, mode='val')\n",
    "    \n",
    "        return loss\n",
    "\n",
    "    def on_train_epoch_end(self):\n",
    "        self.train_metrics.reset()\n",
    "\n",
    "    def on_validation_epoch_end(self):\n",
    "        output = self.valid_metrics.compute()\n",
    "        self.log_dict(output)\n",
    "\n",
    "        self.valid_metrics.reset()\n",
    "\n",
    "    def configure_optimizers(self):\n",
    "        optimizer = torch.optim.Adam(model.parameters(), lr=self.cfg.LEARNING_RATE, weight_decay=CFG.weight_decay)\n",
    "        \n",
    "        if self.cfg.USE_SCHD:\n",
    "            scheduler_cosine = torch.optim.lr_scheduler.CosineAnnealingLR(optimizer, self.cfg.COS_EPOCHS)\n",
    "            scheduler_warmup = GradualWarmupSchedulerV2(optimizer, multiplier=10, total_epoch=self.cfg.WARM_EPOCHS, after_scheduler=scheduler_cosine)\n",
    "\n",
    "            return [optimizer], [scheduler_warmup]\n",
    "        else:\n",
    "            return optimizer"
   ]
  },
  {
   "cell_type": "markdown",
   "id": "ea0bce47-0115-4125-8de6-03cfcc3912ac",
   "metadata": {},
   "source": [
    "#### building blocks"
   ]
  },
  {
   "cell_type": "code",
   "execution_count": 88,
   "id": "db64ce6f-aa52-4b54-818e-f84f99f7cc88",
   "metadata": {},
   "outputs": [
    {
     "data": {
      "text/plain": [
       "(torch.Size([22, 128]), torch.Size([1, 22, 128]), torch.Size([25]))"
      ]
     },
     "execution_count": 88,
     "metadata": {},
     "output_type": "execute_result"
    }
   ],
   "source": [
    "seq.shape, seq.view(1, len(seq), -1).shape, target.shape"
   ]
  },
  {
   "cell_type": "code",
   "execution_count": 89,
   "id": "216f8e66-4fa2-496f-938d-808f876615be",
   "metadata": {},
   "outputs": [
    {
     "name": "stdout",
     "output_type": "stream",
     "text": [
      "torch.Size([5, 88, 64]) torch.Size([1, 5, 64]) torch.Size([1, 5, 64])\n",
      "fc shape: torch.Size([5, 64])\n",
      "pred shape: torch.Size([3, 5])\n"
     ]
    },
    {
     "name": "stderr",
     "output_type": "stream",
     "text": [
      "C:\\Users\\Asus\\AppData\\Local\\Temp\\ipykernel_33144\\3862463681.py:16: UserWarning: The use of `x.T` on tensors of dimension other than 2 to reverse their shape is deprecated and it will throw an error in a future release. Consider `x.mT` to transpose batches of matrices or `x.permute(*torch.arange(x.ndim - 1, -1, -1))` to reverse the dimensions of a tensor. (Triggered internally at C:\\cb\\pytorch_1000000000000\\work\\aten\\src\\ATen\\native\\TensorShape.cpp:3679.)\n",
      "  preds = torch.stack(preds).T\n"
     ]
    },
    {
     "name": "stdout",
     "output_type": "stream",
     "text": [
      "preds shape: torch.Size([5, 3, 25])\n"
     ]
    }
   ],
   "source": [
    "target_size = 64\n",
    "\n",
    "lstm = nn.LSTM(target_size, target_size, num_layers=1, batch_first=True)\n",
    "fc = nn.Linear(target_size, target_size)\n",
    "classifiers = [nn.Linear(target_size, 3) for i in range(25)]\n",
    "\n",
    "lstm_out, (h, c) = lstm(torch.randn(5,88,64))\n",
    "print(lstm_out.shape, h.shape, c.shape)\n",
    "\n",
    "y = fc(h[-1])\n",
    "print('fc shape:', y.shape)\n",
    "\n",
    "preds = [c(y).T for c in classifiers]\n",
    "print('pred shape:', preds[0].shape)\n",
    "\n",
    "preds = torch.stack(preds).T\n",
    "\n",
    "print('preds shape:', preds.shape)"
   ]
  },
  {
   "cell_type": "code",
   "execution_count": 90,
   "id": "99a07b4b-965f-4bef-8b99-4b489dbd3d49",
   "metadata": {},
   "outputs": [
    {
     "name": "stdout",
     "output_type": "stream",
     "text": [
      "torch.Size([5, 88, 64]) torch.Size([16, 5, 64]) torch.Size([16, 5, 64])\n",
      "fc shape: torch.Size([5, 64])\n",
      "pred shape: torch.Size([3, 5])\n",
      "preds shape: torch.Size([5, 3, 25])\n"
     ]
    }
   ],
   "source": [
    "target_size = 64\n",
    "\n",
    "lstm = nn.LSTM(target_size, target_size, num_layers=16, batch_first=True)\n",
    "fc = nn.Linear(target_size, target_size)\n",
    "classifiers = [nn.Linear(target_size, 3) for i in range(25)]\n",
    "\n",
    "lstm_out, (h, c) = lstm(torch.randn(5,88,64))\n",
    "print(lstm_out.shape, h.shape, c.shape)\n",
    "\n",
    "y = fc(h[-1])\n",
    "print('fc shape:', y.shape)\n",
    "\n",
    "preds = [c(y).T for c in classifiers]\n",
    "print('pred shape:', preds[0].shape)\n",
    "\n",
    "preds = torch.stack(preds).T\n",
    "\n",
    "print('preds shape:', preds.shape)"
   ]
  },
  {
   "cell_type": "code",
   "execution_count": 91,
   "id": "99c77159-95b8-4de0-8299-a51cc681152b",
   "metadata": {},
   "outputs": [
    {
     "name": "stdout",
     "output_type": "stream",
     "text": [
      "torch.Size([5, 88, 64]) torch.Size([1, 5, 64]) torch.Size([1, 5, 64])\n",
      "fc shape: torch.Size([5, 64])\n",
      "preds shape: torch.Size([5, 3, 25])\n",
      "loss: torch.Size([5, 25])\n"
     ]
    }
   ],
   "source": [
    "target_size = 64\n",
    "\n",
    "lstm = nn.LSTM(target_size, target_size, num_layers=1, batch_first=True)\n",
    "fc = nn.Linear(target_size, 75)\n",
    "\n",
    "criterion = torch.nn.CrossEntropyLoss(reduction='none')\n",
    "\n",
    "lstm_out, (h, c) = lstm(torch.randn(5,88,64))\n",
    "print(lstm_out.shape, h.shape, c.shape)\n",
    "\n",
    "pred = fc(h[-1])\n",
    "print('fc shape:', y.shape)\n",
    "\n",
    "pred = pred.view(-1, 3, 25)\n",
    "print('preds shape:', pred.shape)\n",
    "\n",
    "targets = torch.stack(5*[target])\n",
    "loss = criterion(preds, targets)\n",
    "\n",
    "print('loss:', loss.shape)"
   ]
  },
  {
   "cell_type": "code",
   "execution_count": 92,
   "id": "3e2beb31-0c34-4109-a984-8ed5bd1a79a5",
   "metadata": {
    "scrolled": true
   },
   "outputs": [
    {
     "data": {
      "text/plain": [
       "(torch.Size([5, 25]), torch.Size([5, 25]))"
      ]
     },
     "execution_count": 92,
     "metadata": {},
     "output_type": "execute_result"
    }
   ],
   "source": [
    "preds.argmax(dim=1).shape, targets.shape"
   ]
  },
  {
   "cell_type": "code",
   "execution_count": 93,
   "id": "93af39fe-148d-4012-b9ce-783279915afc",
   "metadata": {},
   "outputs": [
    {
     "data": {
      "text/plain": [
       "tensor([[1, 1, 0, 0, 0, 1, 2, 1, 0, 2, 2, 1, 2, 2, 0, 1, 1, 0, 0, 2, 2, 1, 1, 2,\n",
       "         2],\n",
       "        [1, 1, 0, 0, 0, 1, 2, 1, 0, 2, 2, 1, 2, 2, 0, 1, 1, 0, 0, 2, 2, 1, 1, 2,\n",
       "         2],\n",
       "        [1, 1, 0, 0, 0, 1, 2, 1, 0, 2, 2, 1, 2, 2, 0, 1, 1, 0, 0, 2, 2, 1, 1, 2,\n",
       "         2],\n",
       "        [1, 1, 0, 0, 0, 1, 2, 1, 0, 2, 2, 1, 2, 2, 0, 1, 1, 0, 0, 2, 2, 1, 1, 2,\n",
       "         2],\n",
       "        [1, 1, 0, 0, 0, 1, 2, 1, 0, 2, 2, 1, 2, 2, 0, 1, 1, 0, 0, 2, 2, 1, 1, 2,\n",
       "         2]])"
      ]
     },
     "execution_count": 93,
     "metadata": {},
     "output_type": "execute_result"
    }
   ],
   "source": [
    "preds.argmax(dim=1)"
   ]
  },
  {
   "cell_type": "code",
   "execution_count": 94,
   "id": "d92fd1d8-2c37-4492-9a17-e550db4660a4",
   "metadata": {},
   "outputs": [],
   "source": [
    "# preds.max(dim=1)"
   ]
  },
  {
   "cell_type": "code",
   "execution_count": 95,
   "id": "6baadd39-b74d-4cd1-adf1-4af47ee1c0e9",
   "metadata": {},
   "outputs": [
    {
     "data": {
      "text/plain": [
       "(torch.Size([5, 25]), torch.Size([5, 25]))"
      ]
     },
     "execution_count": 95,
     "metadata": {},
     "output_type": "execute_result"
    }
   ],
   "source": [
    "preds.max(dim=1)[1].shape, preds.argmax(1).shape"
   ]
  },
  {
   "cell_type": "code",
   "execution_count": 96,
   "id": "f96b12d5-1e42-4349-86ae-d047f1f9b4b1",
   "metadata": {},
   "outputs": [
    {
     "data": {
      "text/plain": [
       "(torch.Size([5, 3, 25]),\n",
       " torch.Size([5, 3, 25]),\n",
       " torch.Size([5, 3, 25]),\n",
       " torch.Size([5, 3, 25]),\n",
       " torch.Size([5, 25, 3]))"
      ]
     },
     "execution_count": 96,
     "metadata": {},
     "output_type": "execute_result"
    }
   ],
   "source": [
    "zeros = torch.zeros(preds.shape, dtype=preds.dtype)\n",
    "ones = torch.ones(preds.shape, dtype=preds.dtype)\n",
    "\n",
    "max_vals = preds.argmax(1)\n",
    "\n",
    "foo = zeros.scatter(1, max_vals.unsqueeze(1), 1)\n",
    "\n",
    "zeros.shape, ones.shape, foo.shape, preds.shape, foo.swapaxes(1,2).shape"
   ]
  },
  {
   "cell_type": "code",
   "execution_count": 97,
   "id": "7b430abc-7bfe-40ae-8523-e8cc5c8c52b9",
   "metadata": {},
   "outputs": [
    {
     "data": {
      "text/plain": [
       "(torch.Size([5, 3, 25]), torch.Size([5, 25, 3]))"
      ]
     },
     "execution_count": 97,
     "metadata": {},
     "output_type": "execute_result"
    }
   ],
   "source": [
    "a = torch.arange(15*25).reshape(5,3,25)\n",
    "a.shape, a.swapaxes(1,2).shape"
   ]
  },
  {
   "cell_type": "code",
   "execution_count": 98,
   "id": "ec43e777-cc21-4469-b515-0c2631791cee",
   "metadata": {
    "scrolled": true
   },
   "outputs": [
    {
     "data": {
      "text/plain": [
       "torch.Size([5, 25, 3])"
      ]
     },
     "execution_count": 98,
     "metadata": {},
     "output_type": "execute_result"
    }
   ],
   "source": [
    "zeros.scatter(1, targets.unsqueeze(1), 1).swapaxes(1,2).shape"
   ]
  },
  {
   "cell_type": "code",
   "execution_count": 99,
   "id": "9068b2f4-a940-4a3c-a3bc-7ee843f2c4fd",
   "metadata": {
    "scrolled": true
   },
   "outputs": [
    {
     "data": {
      "text/plain": [
       "tensor([1.0000, 1.0000, 0.3333, 0.3333, 0.3333, 1.0000, 0.3333, 1.0000, 1.0000,\n",
       "        0.3333, 0.3333, 1.0000, 0.3333, 0.3333, 0.3333, 1.0000, 1.0000, 0.3333,\n",
       "        1.0000, 0.3333, 0.3333, 1.0000, 1.0000, 0.3333, 0.3333])"
      ]
     },
     "execution_count": 99,
     "metadata": {},
     "output_type": "execute_result"
    }
   ],
   "source": [
    "# acc = tm.functional.classification.multilabel_accuracy(foo, targets, 25, )\n",
    "acc = tm.functional.classification.multilabel_accuracy(foo.swapaxes(1,2), zeros.scatter(1, targets.unsqueeze(1), 1).swapaxes(1,2), 25, average='none')\n",
    "acc"
   ]
  },
  {
   "cell_type": "code",
   "execution_count": 100,
   "id": "5e5a6fca-12a3-44c4-a761-63209005d21e",
   "metadata": {},
   "outputs": [
    {
     "data": {
      "text/plain": [
       "(torch.Size([5, 3, 25]), torch.Size([5, 25]))"
      ]
     },
     "execution_count": 100,
     "metadata": {},
     "output_type": "execute_result"
    }
   ],
   "source": [
    "torch.stack(5*[target])\n",
    "preds.shape, targets.shape"
   ]
  },
  {
   "cell_type": "code",
   "execution_count": 101,
   "id": "7ec53ff7-fdff-4acd-9ed0-e8488d95d081",
   "metadata": {
    "scrolled": true
   },
   "outputs": [
    {
     "data": {
      "text/plain": [
       "(torch.Size([5, 3]),\n",
       " tensor([[0.5000, 0.4286, 0.0000],\n",
       "         [0.5000, 0.4286, 0.0000],\n",
       "         [0.5000, 0.4286, 0.0000],\n",
       "         [0.5000, 0.4286, 0.0000],\n",
       "         [0.5000, 0.4286, 0.0000]]))"
      ]
     },
     "execution_count": 101,
     "metadata": {},
     "output_type": "execute_result"
    }
   ],
   "source": [
    "metric = MulticlassAccuracy(num_classes=CFG.N_LABELS, average='none', multidim_average='samplewise')\n",
    "macc = MulticlassAccuracy(num_classes=CFG.N_LABELS, average='none')\n",
    "\n",
    "m = metric(preds, targets)\n",
    "\n",
    "m.shape, m"
   ]
  },
  {
   "cell_type": "code",
   "execution_count": 102,
   "id": "bf0218fc-bc05-414c-ac00-82cac4149344",
   "metadata": {
    "scrolled": true
   },
   "outputs": [
    {
     "data": {
      "text/plain": [
       "tensor([0.5000, 0.4286, 0.0000])"
      ]
     },
     "execution_count": 102,
     "metadata": {},
     "output_type": "execute_result"
    }
   ],
   "source": [
    "macc(preds, targets)"
   ]
  },
  {
   "cell_type": "code",
   "execution_count": null,
   "id": "1c37e462-8ca2-4c46-9530-57160b597ab7",
   "metadata": {},
   "outputs": [],
   "source": []
  },
  {
   "cell_type": "code",
   "execution_count": null,
   "id": "98cf2603-3e77-472c-8b5b-fc638a442f9e",
   "metadata": {},
   "outputs": [],
   "source": []
  },
  {
   "cell_type": "code",
   "execution_count": null,
   "id": "084503fb-34d9-4231-aa1f-b5527560e07c",
   "metadata": {},
   "outputs": [],
   "source": []
  },
  {
   "cell_type": "markdown",
   "id": "67ba76f4-aafe-4807-9707-368350b43d26",
   "metadata": {},
   "source": [
    "#### Test out inputs/outputs"
   ]
  },
  {
   "cell_type": "code",
   "execution_count": 103,
   "id": "bba393e4-d0a3-4fda-b491-56f86b3616bd",
   "metadata": {},
   "outputs": [],
   "source": [
    "model = LSTMClassifier(CFG)"
   ]
  },
  {
   "cell_type": "code",
   "execution_count": 104,
   "id": "48276704-2df9-4a98-8e4f-e924666dc540",
   "metadata": {
    "scrolled": true
   },
   "outputs": [
    {
     "data": {
      "text/plain": [
       "(torch.Size([1, 3, 25]), torch.Size([1, 25]))"
      ]
     },
     "execution_count": 104,
     "metadata": {},
     "output_type": "execute_result"
    }
   ],
   "source": [
    "preds, preds_healthy = model.forward((seq.view(1, len(seq), -1)))\n",
    "preds.shape, preds_healthy.shape"
   ]
  },
  {
   "cell_type": "code",
   "execution_count": 105,
   "id": "9e699999-4750-480a-a27b-d9254f39c277",
   "metadata": {
    "scrolled": true
   },
   "outputs": [
    {
     "name": "stderr",
     "output_type": "stream",
     "text": [
      "C:\\ProgramData\\anaconda3\\envs\\rsna\\lib\\site-packages\\pytorch_lightning\\core\\module.py:445: You are trying to `self.log()` but the `self.trainer` reference is not registered on the model yet. This is most likely because the model hasn't been passed to the `Trainer`\n"
     ]
    },
    {
     "data": {
      "text/plain": [
       "tensor(1.4700, grad_fn=<AddBackward0>)"
      ]
     },
     "execution_count": 105,
     "metadata": {},
     "output_type": "execute_result"
    }
   ],
   "source": [
    "model.step((seq.view(1, len(seq), -1), target.view(1, len(target))), 0)"
   ]
  },
  {
   "cell_type": "code",
   "execution_count": 106,
   "id": "bb003f9c-40c0-45df-b166-18cba071c143",
   "metadata": {},
   "outputs": [],
   "source": [
    "model = LSTMClassifier(CFG)"
   ]
  },
  {
   "cell_type": "code",
   "execution_count": 107,
   "id": "7d7fbde2-b181-4b23-8539-4450c30dfdbd",
   "metadata": {
    "scrolled": true
   },
   "outputs": [
    {
     "data": {
      "text/plain": [
       "(torch.Size([5, 3, 25]), torch.Size([5, 3, 25]))"
      ]
     },
     "execution_count": 107,
     "metadata": {},
     "output_type": "execute_result"
    }
   ],
   "source": [
    "y, y2 = model(torch.randn(5,88,128))\n",
    "\n",
    "y.shape, y.softmax(dim=0).shape"
   ]
  },
  {
   "cell_type": "code",
   "execution_count": 108,
   "id": "7d6c165f-25e1-4603-83bb-4356a0399fba",
   "metadata": {
    "scrolled": true
   },
   "outputs": [
    {
     "data": {
      "text/plain": [
       "torch.Size([5, 3, 25])"
      ]
     },
     "execution_count": 108,
     "metadata": {},
     "output_type": "execute_result"
    }
   ],
   "source": [
    "y.softmax(dim=1).shape"
   ]
  },
  {
   "cell_type": "code",
   "execution_count": 109,
   "id": "02b0bc24-4433-4b0f-afb3-f26e31b3f076",
   "metadata": {},
   "outputs": [],
   "source": [
    "# y.softmax(dim=1).sum(dim=1)"
   ]
  },
  {
   "cell_type": "code",
   "execution_count": 110,
   "id": "858f193e-4ef6-4899-b5a1-17c0ae5657ab",
   "metadata": {},
   "outputs": [],
   "source": [
    "# y[0].softmax(dim=0)"
   ]
  },
  {
   "cell_type": "code",
   "execution_count": null,
   "id": "fa214f73-009e-4a83-b120-31d0cd622fc8",
   "metadata": {},
   "outputs": [],
   "source": []
  },
  {
   "cell_type": "markdown",
   "id": "06555295-3b1b-4a61-a6d0-179d2d706f55",
   "metadata": {},
   "source": [
    "### Split"
   ]
  },
  {
   "cell_type": "code",
   "execution_count": 111,
   "id": "2f5937ac-1d2b-4ff5-9dd1-8e2b20de5588",
   "metadata": {},
   "outputs": [],
   "source": [
    "from sklearn.model_selection import ShuffleSplit, StratifiedShuffleSplit"
   ]
  },
  {
   "cell_type": "code",
   "execution_count": 112,
   "id": "a6d98bbb-fa6a-440c-948a-cec30d0972ec",
   "metadata": {},
   "outputs": [
    {
     "data": {
      "text/plain": [
       "(1975, 26)"
      ]
     },
     "execution_count": 112,
     "metadata": {},
     "output_type": "execute_result"
    }
   ],
   "source": [
    "train_df.shape"
   ]
  },
  {
   "cell_type": "code",
   "execution_count": 113,
   "id": "d7d4bc58-5831-4557-a403-6c81c5e3c2b7",
   "metadata": {},
   "outputs": [
    {
     "data": {
      "text/html": [
       "<div>\n",
       "<style scoped>\n",
       "    .dataframe tbody tr th:only-of-type {\n",
       "        vertical-align: middle;\n",
       "    }\n",
       "\n",
       "    .dataframe tbody tr th {\n",
       "        vertical-align: top;\n",
       "    }\n",
       "\n",
       "    .dataframe thead th {\n",
       "        text-align: right;\n",
       "    }\n",
       "</style>\n",
       "<table border=\"1\" class=\"dataframe\">\n",
       "  <thead>\n",
       "    <tr style=\"text-align: right;\">\n",
       "      <th></th>\n",
       "      <th>study_id</th>\n",
       "      <th>SCSL1L2</th>\n",
       "      <th>SCSL2L3</th>\n",
       "      <th>SCSL3L4</th>\n",
       "      <th>SCSL4L5</th>\n",
       "      <th>SCSL5S1</th>\n",
       "      <th>LNFNL1L2</th>\n",
       "      <th>LNFNL2L3</th>\n",
       "      <th>LNFNL3L4</th>\n",
       "      <th>LNFNL4L5</th>\n",
       "      <th>...</th>\n",
       "      <th>LSSL1L2</th>\n",
       "      <th>LSSL2L3</th>\n",
       "      <th>LSSL3L4</th>\n",
       "      <th>LSSL4L5</th>\n",
       "      <th>LSSL5S1</th>\n",
       "      <th>RSSL1L2</th>\n",
       "      <th>RSSL2L3</th>\n",
       "      <th>RSSL3L4</th>\n",
       "      <th>RSSL4L5</th>\n",
       "      <th>RSSL5S1</th>\n",
       "    </tr>\n",
       "  </thead>\n",
       "  <tbody>\n",
       "    <tr>\n",
       "      <th>312</th>\n",
       "      <td>691922299</td>\n",
       "      <td>1</td>\n",
       "      <td>1</td>\n",
       "      <td>1</td>\n",
       "      <td>1</td>\n",
       "      <td>1</td>\n",
       "      <td>1</td>\n",
       "      <td>1</td>\n",
       "      <td>1</td>\n",
       "      <td>1</td>\n",
       "      <td>...</td>\n",
       "      <td>1</td>\n",
       "      <td>1</td>\n",
       "      <td>1</td>\n",
       "      <td>1</td>\n",
       "      <td>1</td>\n",
       "      <td>1</td>\n",
       "      <td>1</td>\n",
       "      <td>1</td>\n",
       "      <td>1</td>\n",
       "      <td>1</td>\n",
       "    </tr>\n",
       "    <tr>\n",
       "      <th>73</th>\n",
       "      <td>159721286</td>\n",
       "      <td>1</td>\n",
       "      <td>1</td>\n",
       "      <td>1</td>\n",
       "      <td>0</td>\n",
       "      <td>1</td>\n",
       "      <td>1</td>\n",
       "      <td>1</td>\n",
       "      <td>0</td>\n",
       "      <td>0</td>\n",
       "      <td>...</td>\n",
       "      <td>1</td>\n",
       "      <td>1</td>\n",
       "      <td>1</td>\n",
       "      <td>0</td>\n",
       "      <td>1</td>\n",
       "      <td>1</td>\n",
       "      <td>1</td>\n",
       "      <td>0</td>\n",
       "      <td>2</td>\n",
       "      <td>1</td>\n",
       "    </tr>\n",
       "  </tbody>\n",
       "</table>\n",
       "<p>2 rows × 26 columns</p>\n",
       "</div>"
      ],
      "text/plain": [
       "      study_id SCSL1L2 SCSL2L3 SCSL3L4 SCSL4L5 SCSL5S1 LNFNL1L2 LNFNL2L3  \\\n",
       "312  691922299       1       1       1       1       1        1        1   \n",
       "73   159721286       1       1       1       0       1        1        1   \n",
       "\n",
       "    LNFNL3L4 LNFNL4L5  ... LSSL1L2 LSSL2L3 LSSL3L4 LSSL4L5 LSSL5S1 RSSL1L2  \\\n",
       "312        1        1  ...       1       1       1       1       1       1   \n",
       "73         0        0  ...       1       1       1       0       1       1   \n",
       "\n",
       "    RSSL2L3 RSSL3L4 RSSL4L5 RSSL5S1  \n",
       "312       1       1       1       1  \n",
       "73        1       0       2       1  \n",
       "\n",
       "[2 rows x 26 columns]"
      ]
     },
     "execution_count": 113,
     "metadata": {},
     "output_type": "execute_result"
    }
   ],
   "source": [
    "train_df.sample(2)"
   ]
  },
  {
   "cell_type": "code",
   "execution_count": 114,
   "id": "77f89972-e3bd-4235-81d5-527935b2dc35",
   "metadata": {
    "scrolled": true
   },
   "outputs": [
    {
     "data": {
      "text/plain": [
       "(1975, 25)"
      ]
     },
     "execution_count": 114,
     "metadata": {},
     "output_type": "execute_result"
    }
   ],
   "source": [
    "train_df.iloc[:,1:].shape"
   ]
  },
  {
   "cell_type": "code",
   "execution_count": 115,
   "id": "39f279b0-f8fd-464a-95e8-e2c9944884af",
   "metadata": {},
   "outputs": [],
   "source": [
    "# TODO: data split"
   ]
  },
  {
   "cell_type": "code",
   "execution_count": 116,
   "id": "7750c5c4-6a84-40ee-b721-382ce61ecab5",
   "metadata": {
    "scrolled": true
   },
   "outputs": [],
   "source": [
    "# sss = StratifiedShuffleSplit(n_splits=1, test_size=1-CFG.split_fraction, random_state=CFG.random_seed)\n",
    "# train_idx, val_idx = next(sss.split(train_df.study_id, train_df.iloc[:,1:]))\n",
    "\n",
    "# t_df = train_df.iloc[train_idx]\n",
    "# v_df = train_df.iloc[val_idx]\n",
    "\n",
    "# t_df.shape, v_df.shape"
   ]
  },
  {
   "cell_type": "code",
   "execution_count": null,
   "id": "6f770220-1030-4eba-a795-0f7a64897cd8",
   "metadata": {},
   "outputs": [],
   "source": []
  },
  {
   "cell_type": "markdown",
   "id": "b65639fe-3d08-4648-b43b-182e115e3f31",
   "metadata": {},
   "source": [
    "### Train"
   ]
  },
  {
   "cell_type": "code",
   "execution_count": 117,
   "id": "1d962eff-eb52-4dae-b719-3c946820dd14",
   "metadata": {},
   "outputs": [
    {
     "data": {
      "text/plain": [
       "(16, 'cuda')"
      ]
     },
     "execution_count": 117,
     "metadata": {},
     "output_type": "execute_result"
    }
   ],
   "source": [
    "CFG.BATCH_SIZE, CFG.device"
   ]
  },
  {
   "cell_type": "code",
   "execution_count": 118,
   "id": "f2f3620f-5353-48b3-9168-eb12be450d96",
   "metadata": {},
   "outputs": [
    {
     "data": {
      "text/html": [
       "<div>\n",
       "<style scoped>\n",
       "    .dataframe tbody tr th:only-of-type {\n",
       "        vertical-align: middle;\n",
       "    }\n",
       "\n",
       "    .dataframe tbody tr th {\n",
       "        vertical-align: top;\n",
       "    }\n",
       "\n",
       "    .dataframe thead th {\n",
       "        text-align: right;\n",
       "    }\n",
       "</style>\n",
       "<table border=\"1\" class=\"dataframe\">\n",
       "  <thead>\n",
       "    <tr style=\"text-align: right;\">\n",
       "      <th></th>\n",
       "      <th>study_id</th>\n",
       "      <th>series_id</th>\n",
       "      <th>series_description</th>\n",
       "      <th>ss_id</th>\n",
       "    </tr>\n",
       "  </thead>\n",
       "  <tbody>\n",
       "    <tr>\n",
       "      <th>0</th>\n",
       "      <td>4003253</td>\n",
       "      <td>702807833</td>\n",
       "      <td>Sagittal T2/STIR</td>\n",
       "      <td>4003253_702807833</td>\n",
       "    </tr>\n",
       "    <tr>\n",
       "      <th>1</th>\n",
       "      <td>4003253</td>\n",
       "      <td>1054713880</td>\n",
       "      <td>Sagittal T1</td>\n",
       "      <td>4003253_1054713880</td>\n",
       "    </tr>\n",
       "    <tr>\n",
       "      <th>2</th>\n",
       "      <td>4003253</td>\n",
       "      <td>2448190387</td>\n",
       "      <td>Axial T2</td>\n",
       "      <td>4003253_2448190387</td>\n",
       "    </tr>\n",
       "    <tr>\n",
       "      <th>3</th>\n",
       "      <td>4646740</td>\n",
       "      <td>3201256954</td>\n",
       "      <td>Axial T2</td>\n",
       "      <td>4646740_3201256954</td>\n",
       "    </tr>\n",
       "    <tr>\n",
       "      <th>4</th>\n",
       "      <td>4646740</td>\n",
       "      <td>3486248476</td>\n",
       "      <td>Sagittal T1</td>\n",
       "      <td>4646740_3486248476</td>\n",
       "    </tr>\n",
       "  </tbody>\n",
       "</table>\n",
       "</div>"
      ],
      "text/plain": [
       "   study_id   series_id series_description               ss_id\n",
       "0   4003253   702807833   Sagittal T2/STIR   4003253_702807833\n",
       "1   4003253  1054713880        Sagittal T1  4003253_1054713880\n",
       "2   4003253  2448190387           Axial T2  4003253_2448190387\n",
       "3   4646740  3201256954           Axial T2  4646740_3201256954\n",
       "4   4646740  3486248476        Sagittal T1  4646740_3486248476"
      ]
     },
     "execution_count": 118,
     "metadata": {},
     "output_type": "execute_result"
    }
   ],
   "source": [
    "train_desc_df.head()"
   ]
  },
  {
   "cell_type": "code",
   "execution_count": 119,
   "id": "18833b22-37b8-41c1-a26d-5e3d562af2fa",
   "metadata": {},
   "outputs": [
    {
     "data": {
      "text/plain": [
       "(118, 7)"
      ]
     },
     "execution_count": 119,
     "metadata": {},
     "output_type": "execute_result"
    }
   ],
   "source": [
    "# dm = lstm_datamodule(t_df, v_df, train_desc_df, cfg=CFG)\n",
    "dm = lstm_datamodule(t_df, v_df, preds_df, cfg=CFG)\n",
    "\n",
    "len(dm.train_dataloader()), len(dm.val_dataloader())"
   ]
  },
  {
   "cell_type": "code",
   "execution_count": 120,
   "id": "75533bc2-e183-4eb4-8af7-7932265d3d68",
   "metadata": {},
   "outputs": [
    {
     "data": {
      "text/plain": [
       "'1e-05 30 eps 4l-newembeds'"
      ]
     },
     "execution_count": 120,
     "metadata": {},
     "output_type": "execute_result"
    }
   ],
   "source": [
    "run_name = f'{CFG.LEARNING_RATE} {CFG.N_EPOCHS} eps {CFG.num_layers}l-{CFG.comment}'\n",
    "run_name"
   ]
  },
  {
   "cell_type": "code",
   "execution_count": 121,
   "id": "200899c1-1c35-4fcb-b66f-e52174f290d2",
   "metadata": {},
   "outputs": [],
   "source": [
    "wandb_logger = WandbLogger(\n",
    "    name=run_name,\n",
    "    project=CFG.project,\n",
    "    job_type='train',\n",
    "    save_dir=CFG.RESULTS_DIR,\n",
    "    # config=cfg,\n",
    ")\n",
    "\n",
    "loss_ckpt = pl.callbacks.ModelCheckpoint(\n",
    "    monitor='val/loss',\n",
    "    auto_insert_metric_name=False,\n",
    "    dirpath=CFG.CKPT_DIR / run_name,\n",
    "    filename='ep_{epoch:02d}_loss_{val/loss:.5f}',\n",
    "    save_top_k=2,\n",
    "    mode='min',\n",
    ")\n",
    "\n",
    "# acc_ckpt = pl.callbacks.ModelCheckpoint(\n",
    "#     monitor='val/acc',\n",
    "#     auto_insert_metric_name=False,\n",
    "#     dirpath=CFG.CKPT_DIR / run_name,\n",
    "#     filename='ep_{epoch:02d}_acc_{val/acc:.5f}',\n",
    "#     save_top_k=2,\n",
    "#     mode='max',\n",
    "# )\n",
    "\n",
    "lr_monitor = LearningRateMonitor(logging_interval='step')"
   ]
  },
  {
   "cell_type": "code",
   "execution_count": 122,
   "id": "cf6a4bab-5d8e-4503-8036-00219a58f9a8",
   "metadata": {},
   "outputs": [
    {
     "name": "stderr",
     "output_type": "stream",
     "text": [
      "GPU available: True (cuda), used: True\n",
      "TPU available: False, using: 0 TPU cores\n",
      "HPU available: False, using: 0 HPUs\n"
     ]
    }
   ],
   "source": [
    "trainer = pl.Trainer(\n",
    "    max_epochs=CFG.N_EPOCHS,\n",
    "    deterministic=True,\n",
    "    accelerator=CFG.device,\n",
    "    default_root_dir=CFG.RESULTS_DIR,\n",
    "    gradient_clip_val=0.5, \n",
    "    # gradient_clip_algorithm=\"value\",\n",
    "    logger=wandb_logger,\n",
    "    callbacks=[loss_ckpt, lr_monitor],\n",
    ")"
   ]
  },
  {
   "cell_type": "code",
   "execution_count": null,
   "id": "9c520684-2f98-469a-abc4-116f75369345",
   "metadata": {},
   "outputs": [],
   "source": []
  },
  {
   "cell_type": "markdown",
   "id": "98838e46-7969-4fc8-a225-3d8e67298b51",
   "metadata": {},
   "source": [
    "#### Fit"
   ]
  },
  {
   "cell_type": "code",
   "execution_count": 123,
   "id": "f1a703ce-c59f-4f56-9342-36afb66ed369",
   "metadata": {},
   "outputs": [],
   "source": [
    "model = LSTMClassifier(CFG)"
   ]
  },
  {
   "cell_type": "code",
   "execution_count": 124,
   "id": "c5e8c0b8-46f7-4519-9f74-5f672c9f6d27",
   "metadata": {
    "scrolled": true
   },
   "outputs": [
    {
     "name": "stderr",
     "output_type": "stream",
     "text": [
      "You are using a CUDA device ('NVIDIA GeForce RTX 4090 Laptop GPU') that has Tensor Cores. To properly utilize them, you should set `torch.set_float32_matmul_precision('medium' | 'high')` which will trade-off precision for performance. For more details, read https://pytorch.org/docs/stable/generated/torch.set_float32_matmul_precision.html#torch.set_float32_matmul_precision\n"
     ]
    },
    {
     "data": {
      "text/html": [
       "wandb version 0.18.3 is available!  To upgrade, please run:\n",
       " $ pip install wandb --upgrade"
      ],
      "text/plain": [
       "<IPython.core.display.HTML object>"
      ]
     },
     "metadata": {},
     "output_type": "display_data"
    },
    {
     "data": {
      "text/html": [
       "Tracking run with wandb version 0.16.6"
      ],
      "text/plain": [
       "<IPython.core.display.HTML object>"
      ]
     },
     "metadata": {},
     "output_type": "display_data"
    },
    {
     "data": {
      "text/html": [
       "Run data is saved locally in <code>E:\\data\\RSNA2024\\results\\wandb\\run-20241002_214127-ntwy79mm</code>"
      ],
      "text/plain": [
       "<IPython.core.display.HTML object>"
      ]
     },
     "metadata": {},
     "output_type": "display_data"
    },
    {
     "data": {
      "text/html": [
       "Syncing run <strong><a href='https://wandb.ai/rosu-lucian/rsna-lstm/runs/ntwy79mm' target=\"_blank\">1e-05 30 eps 4l-newembeds</a></strong> to <a href='https://wandb.ai/rosu-lucian/rsna-lstm' target=\"_blank\">Weights & Biases</a> (<a href='https://wandb.me/run' target=\"_blank\">docs</a>)<br/>"
      ],
      "text/plain": [
       "<IPython.core.display.HTML object>"
      ]
     },
     "metadata": {},
     "output_type": "display_data"
    },
    {
     "data": {
      "text/html": [
       " View project at <a href='https://wandb.ai/rosu-lucian/rsna-lstm' target=\"_blank\">https://wandb.ai/rosu-lucian/rsna-lstm</a>"
      ],
      "text/plain": [
       "<IPython.core.display.HTML object>"
      ]
     },
     "metadata": {},
     "output_type": "display_data"
    },
    {
     "data": {
      "text/html": [
       " View run at <a href='https://wandb.ai/rosu-lucian/rsna-lstm/runs/ntwy79mm' target=\"_blank\">https://wandb.ai/rosu-lucian/rsna-lstm/runs/ntwy79mm</a>"
      ],
      "text/plain": [
       "<IPython.core.display.HTML object>"
      ]
     },
     "metadata": {},
     "output_type": "display_data"
    },
    {
     "name": "stderr",
     "output_type": "stream",
     "text": [
      "LOCAL_RANK: 0 - CUDA_VISIBLE_DEVICES: [0]\n",
      "\n",
      "  | Name          | Type             | Params | Mode \n",
      "-----------------------------------------------------------\n",
      "0 | focal         | FocalLossBCE     | 0      | train\n",
      "1 | criterion     | CrossEntropyLoss | 0      | train\n",
      "2 | lstm          | LSTM             | 528 K  | train\n",
      "3 | fc            | Linear           | 9.7 K  | train\n",
      "4 | fc_healthy    | Linear           | 3.2 K  | train\n",
      "5 | train_metrics | MetricCollection | 0      | train\n",
      "6 | valid_metrics | MetricCollection | 0      | train\n",
      "-----------------------------------------------------------\n",
      "541 K     Trainable params\n",
      "0         Non-trainable params\n",
      "541 K     Total params\n",
      "2.165     Total estimated model params size (MB)\n",
      "20        Modules in train mode\n",
      "0         Modules in eval mode\n"
     ]
    },
    {
     "data": {
      "application/vnd.jupyter.widget-view+json": {
       "model_id": "",
       "version_major": 2,
       "version_minor": 0
      },
      "text/plain": [
       "Sanity Checking: |                                                                        | 0/? [00:00<?, ?it/…"
      ]
     },
     "metadata": {},
     "output_type": "display_data"
    },
    {
     "data": {
      "application/vnd.jupyter.widget-view+json": {
       "model_id": "87311b426e364d44ac303e76c42da5b9",
       "version_major": 2,
       "version_minor": 0
      },
      "text/plain": [
       "Training: |                                                                               | 0/? [00:00<?, ?it/…"
      ]
     },
     "metadata": {},
     "output_type": "display_data"
    },
    {
     "data": {
      "application/vnd.jupyter.widget-view+json": {
       "model_id": "",
       "version_major": 2,
       "version_minor": 0
      },
      "text/plain": [
       "Validation: |                                                                             | 0/? [00:00<?, ?it/…"
      ]
     },
     "metadata": {},
     "output_type": "display_data"
    },
    {
     "name": "stderr",
     "output_type": "stream",
     "text": [
      "C:\\ProgramData\\anaconda3\\envs\\rsna\\lib\\site-packages\\torchmetrics\\utilities\\prints.py:43: UserWarning: The ``compute`` method of metric MulticlassAccuracy was called before the ``update`` method which may lead to errors, as metric states have not yet been updated.\n",
      "  warnings.warn(*args, **kwargs)  # noqa: B028\n"
     ]
    },
    {
     "data": {
      "application/vnd.jupyter.widget-view+json": {
       "model_id": "",
       "version_major": 2,
       "version_minor": 0
      },
      "text/plain": [
       "Validation: |                                                                             | 0/? [00:00<?, ?it/…"
      ]
     },
     "metadata": {},
     "output_type": "display_data"
    },
    {
     "data": {
      "application/vnd.jupyter.widget-view+json": {
       "model_id": "",
       "version_major": 2,
       "version_minor": 0
      },
      "text/plain": [
       "Validation: |                                                                             | 0/? [00:00<?, ?it/…"
      ]
     },
     "metadata": {},
     "output_type": "display_data"
    },
    {
     "data": {
      "application/vnd.jupyter.widget-view+json": {
       "model_id": "",
       "version_major": 2,
       "version_minor": 0
      },
      "text/plain": [
       "Validation: |                                                                             | 0/? [00:00<?, ?it/…"
      ]
     },
     "metadata": {},
     "output_type": "display_data"
    },
    {
     "data": {
      "application/vnd.jupyter.widget-view+json": {
       "model_id": "",
       "version_major": 2,
       "version_minor": 0
      },
      "text/plain": [
       "Validation: |                                                                             | 0/? [00:00<?, ?it/…"
      ]
     },
     "metadata": {},
     "output_type": "display_data"
    },
    {
     "data": {
      "application/vnd.jupyter.widget-view+json": {
       "model_id": "",
       "version_major": 2,
       "version_minor": 0
      },
      "text/plain": [
       "Validation: |                                                                             | 0/? [00:00<?, ?it/…"
      ]
     },
     "metadata": {},
     "output_type": "display_data"
    },
    {
     "data": {
      "application/vnd.jupyter.widget-view+json": {
       "model_id": "",
       "version_major": 2,
       "version_minor": 0
      },
      "text/plain": [
       "Validation: |                                                                             | 0/? [00:00<?, ?it/…"
      ]
     },
     "metadata": {},
     "output_type": "display_data"
    },
    {
     "data": {
      "application/vnd.jupyter.widget-view+json": {
       "model_id": "",
       "version_major": 2,
       "version_minor": 0
      },
      "text/plain": [
       "Validation: |                                                                             | 0/? [00:00<?, ?it/…"
      ]
     },
     "metadata": {},
     "output_type": "display_data"
    },
    {
     "data": {
      "application/vnd.jupyter.widget-view+json": {
       "model_id": "",
       "version_major": 2,
       "version_minor": 0
      },
      "text/plain": [
       "Validation: |                                                                             | 0/? [00:00<?, ?it/…"
      ]
     },
     "metadata": {},
     "output_type": "display_data"
    },
    {
     "data": {
      "application/vnd.jupyter.widget-view+json": {
       "model_id": "",
       "version_major": 2,
       "version_minor": 0
      },
      "text/plain": [
       "Validation: |                                                                             | 0/? [00:00<?, ?it/…"
      ]
     },
     "metadata": {},
     "output_type": "display_data"
    },
    {
     "data": {
      "application/vnd.jupyter.widget-view+json": {
       "model_id": "",
       "version_major": 2,
       "version_minor": 0
      },
      "text/plain": [
       "Validation: |                                                                             | 0/? [00:00<?, ?it/…"
      ]
     },
     "metadata": {},
     "output_type": "display_data"
    },
    {
     "data": {
      "application/vnd.jupyter.widget-view+json": {
       "model_id": "",
       "version_major": 2,
       "version_minor": 0
      },
      "text/plain": [
       "Validation: |                                                                             | 0/? [00:00<?, ?it/…"
      ]
     },
     "metadata": {},
     "output_type": "display_data"
    },
    {
     "data": {
      "application/vnd.jupyter.widget-view+json": {
       "model_id": "",
       "version_major": 2,
       "version_minor": 0
      },
      "text/plain": [
       "Validation: |                                                                             | 0/? [00:00<?, ?it/…"
      ]
     },
     "metadata": {},
     "output_type": "display_data"
    },
    {
     "data": {
      "application/vnd.jupyter.widget-view+json": {
       "model_id": "",
       "version_major": 2,
       "version_minor": 0
      },
      "text/plain": [
       "Validation: |                                                                             | 0/? [00:00<?, ?it/…"
      ]
     },
     "metadata": {},
     "output_type": "display_data"
    },
    {
     "data": {
      "application/vnd.jupyter.widget-view+json": {
       "model_id": "",
       "version_major": 2,
       "version_minor": 0
      },
      "text/plain": [
       "Validation: |                                                                             | 0/? [00:00<?, ?it/…"
      ]
     },
     "metadata": {},
     "output_type": "display_data"
    },
    {
     "data": {
      "application/vnd.jupyter.widget-view+json": {
       "model_id": "",
       "version_major": 2,
       "version_minor": 0
      },
      "text/plain": [
       "Validation: |                                                                             | 0/? [00:00<?, ?it/…"
      ]
     },
     "metadata": {},
     "output_type": "display_data"
    },
    {
     "data": {
      "application/vnd.jupyter.widget-view+json": {
       "model_id": "",
       "version_major": 2,
       "version_minor": 0
      },
      "text/plain": [
       "Validation: |                                                                             | 0/? [00:00<?, ?it/…"
      ]
     },
     "metadata": {},
     "output_type": "display_data"
    },
    {
     "data": {
      "application/vnd.jupyter.widget-view+json": {
       "model_id": "",
       "version_major": 2,
       "version_minor": 0
      },
      "text/plain": [
       "Validation: |                                                                             | 0/? [00:00<?, ?it/…"
      ]
     },
     "metadata": {},
     "output_type": "display_data"
    },
    {
     "data": {
      "application/vnd.jupyter.widget-view+json": {
       "model_id": "",
       "version_major": 2,
       "version_minor": 0
      },
      "text/plain": [
       "Validation: |                                                                             | 0/? [00:00<?, ?it/…"
      ]
     },
     "metadata": {},
     "output_type": "display_data"
    },
    {
     "data": {
      "application/vnd.jupyter.widget-view+json": {
       "model_id": "",
       "version_major": 2,
       "version_minor": 0
      },
      "text/plain": [
       "Validation: |                                                                             | 0/? [00:00<?, ?it/…"
      ]
     },
     "metadata": {},
     "output_type": "display_data"
    },
    {
     "data": {
      "application/vnd.jupyter.widget-view+json": {
       "model_id": "",
       "version_major": 2,
       "version_minor": 0
      },
      "text/plain": [
       "Validation: |                                                                             | 0/? [00:00<?, ?it/…"
      ]
     },
     "metadata": {},
     "output_type": "display_data"
    },
    {
     "data": {
      "application/vnd.jupyter.widget-view+json": {
       "model_id": "",
       "version_major": 2,
       "version_minor": 0
      },
      "text/plain": [
       "Validation: |                                                                             | 0/? [00:00<?, ?it/…"
      ]
     },
     "metadata": {},
     "output_type": "display_data"
    },
    {
     "data": {
      "application/vnd.jupyter.widget-view+json": {
       "model_id": "",
       "version_major": 2,
       "version_minor": 0
      },
      "text/plain": [
       "Validation: |                                                                             | 0/? [00:00<?, ?it/…"
      ]
     },
     "metadata": {},
     "output_type": "display_data"
    },
    {
     "data": {
      "application/vnd.jupyter.widget-view+json": {
       "model_id": "",
       "version_major": 2,
       "version_minor": 0
      },
      "text/plain": [
       "Validation: |                                                                             | 0/? [00:00<?, ?it/…"
      ]
     },
     "metadata": {},
     "output_type": "display_data"
    },
    {
     "data": {
      "application/vnd.jupyter.widget-view+json": {
       "model_id": "",
       "version_major": 2,
       "version_minor": 0
      },
      "text/plain": [
       "Validation: |                                                                             | 0/? [00:00<?, ?it/…"
      ]
     },
     "metadata": {},
     "output_type": "display_data"
    },
    {
     "data": {
      "application/vnd.jupyter.widget-view+json": {
       "model_id": "",
       "version_major": 2,
       "version_minor": 0
      },
      "text/plain": [
       "Validation: |                                                                             | 0/? [00:00<?, ?it/…"
      ]
     },
     "metadata": {},
     "output_type": "display_data"
    },
    {
     "data": {
      "application/vnd.jupyter.widget-view+json": {
       "model_id": "",
       "version_major": 2,
       "version_minor": 0
      },
      "text/plain": [
       "Validation: |                                                                             | 0/? [00:00<?, ?it/…"
      ]
     },
     "metadata": {},
     "output_type": "display_data"
    },
    {
     "data": {
      "application/vnd.jupyter.widget-view+json": {
       "model_id": "",
       "version_major": 2,
       "version_minor": 0
      },
      "text/plain": [
       "Validation: |                                                                             | 0/? [00:00<?, ?it/…"
      ]
     },
     "metadata": {},
     "output_type": "display_data"
    },
    {
     "data": {
      "application/vnd.jupyter.widget-view+json": {
       "model_id": "",
       "version_major": 2,
       "version_minor": 0
      },
      "text/plain": [
       "Validation: |                                                                             | 0/? [00:00<?, ?it/…"
      ]
     },
     "metadata": {},
     "output_type": "display_data"
    },
    {
     "data": {
      "application/vnd.jupyter.widget-view+json": {
       "model_id": "",
       "version_major": 2,
       "version_minor": 0
      },
      "text/plain": [
       "Validation: |                                                                             | 0/? [00:00<?, ?it/…"
      ]
     },
     "metadata": {},
     "output_type": "display_data"
    },
    {
     "name": "stderr",
     "output_type": "stream",
     "text": [
      "`Trainer.fit` stopped: `max_epochs=30` reached.\n"
     ]
    }
   ],
   "source": [
    "trainer.fit(model, dm)"
   ]
  },
  {
   "cell_type": "code",
   "execution_count": null,
   "id": "962b2107-d108-4f86-bae4-09256dc3e6a9",
   "metadata": {},
   "outputs": [],
   "source": []
  },
  {
   "cell_type": "code",
   "execution_count": null,
   "id": "8922e480-d113-477c-86ab-78d9bc42f0e1",
   "metadata": {},
   "outputs": [],
   "source": []
  },
  {
   "cell_type": "markdown",
   "id": "1839bb19-eaf7-4648-86e1-fe33bc5a788d",
   "metadata": {},
   "source": [
    "### Predict"
   ]
  },
  {
   "cell_type": "code",
   "execution_count": 125,
   "id": "eb2b820b-7acb-43c2-85c0-2b84f5250a31",
   "metadata": {},
   "outputs": [
    {
     "data": {
      "text/plain": [
       "(torch.Size([16, 102, 128]), torch.Size([16, 25]))"
      ]
     },
     "execution_count": 125,
     "metadata": {},
     "output_type": "execute_result"
    }
   ],
   "source": [
    "x, y = next(iter(dm.train_dataloader()))\n",
    "\n",
    "x.shape, y.shape"
   ]
  },
  {
   "cell_type": "code",
   "execution_count": 126,
   "id": "8b07224f-3b92-4027-8031-a4411555baf3",
   "metadata": {},
   "outputs": [
    {
     "data": {
      "text/plain": [
       "torch.Size([16, 25])"
      ]
     },
     "execution_count": 126,
     "metadata": {},
     "output_type": "execute_result"
    }
   ],
   "source": [
    "torch.where(y==1, 1., 0.).shape"
   ]
  },
  {
   "cell_type": "code",
   "execution_count": 127,
   "id": "a29361e3-574e-4b92-b259-58ba1b97960b",
   "metadata": {},
   "outputs": [
    {
     "data": {
      "text/plain": [
       "torch.Size([16, 102, 128])"
      ]
     },
     "execution_count": 127,
     "metadata": {},
     "output_type": "execute_result"
    }
   ],
   "source": [
    "x.shape"
   ]
  },
  {
   "cell_type": "code",
   "execution_count": 128,
   "id": "059b5cd4-8f29-49fd-9725-50a2e0f045aa",
   "metadata": {},
   "outputs": [
    {
     "data": {
      "text/plain": [
       "torch.Size([16, 3, 25])"
      ]
     },
     "execution_count": 128,
     "metadata": {},
     "output_type": "execute_result"
    }
   ],
   "source": [
    "# pred = model(x.to(CFG.device)).detach().cpu()\n",
    "pred, pred2 = model(x)\n",
    "pred = pred.detach().cpu()\n",
    "pred.shape"
   ]
  },
  {
   "cell_type": "code",
   "execution_count": 129,
   "id": "c8c919cb-d120-4ced-9de6-7533e9a3aa71",
   "metadata": {
    "scrolled": true
   },
   "outputs": [
    {
     "data": {
      "text/plain": [
       "tensor([[1, 1, 1, 1, 1, 1, 1, 1, 0, 0, 1, 0, 1, 1, 1, 1, 1, 0, 1, 1, 0, 1, 0, 1,\n",
       "         1],\n",
       "        [1, 1, 1, 1, 1, 1, 1, 1, 0, 1, 1, 1, 1, 1, 1, 1, 1, 0, 1, 0, 1, 1, 0, 0,\n",
       "         1],\n",
       "        [1, 1, 2, 1, 1, 1, 0, 0, 0, 1, 1, 0, 1, 0, 1, 1, 0, 2, 1, 1, 1, 1, 0, 2,\n",
       "         0],\n",
       "        [1, 1, 1, 0, 1, 1, 1, 1, 1, 1, 1, 1, 1, 1, 1, 1, 1, 0, 2, 1, 1, 1, 1, 0,\n",
       "         1],\n",
       "        [1, 1, 1, 1, 1, 1, 1, 1, 1, 1, 1, 1, 1, 1, 1, 1, 1, 1, 1, 1, 1, 1, 1, 1,\n",
       "         1],\n",
       "        [1, 1, 1, 1, 1, 1, 1, 1, 1, 1, 1, 1, 1, 1, 1, 1, 1, 1, 1, 1, 1, 1, 1, 1,\n",
       "         1],\n",
       "        [1, 1, 1, 1, 1, 1, 1, 1, 1, 1, 1, 1, 1, 1, 1, 1, 1, 1, 1, 1, 1, 1, 1, 1,\n",
       "         1],\n",
       "        [1, 0, 1, 0, 1, 1, 1, 0, 0, 0, 1, 1, 1, 0, 2, 1, 0, 0, 0, 1, 1, 0, 0, 0,\n",
       "         0],\n",
       "        [1, 1, 0, 1, 1, 1, 1, 1, 1, 0, 1, 1, 1, 1, 0, 1, 2, 1, 1, 1, 1, 1, 0, 1,\n",
       "         1],\n",
       "        [1, 1, 1, 1, 1, 1, 1, 1, 1, 1, 1, 1, 1, 1, 1, 1, 2, 0, 2, 0, 1, 0, 0, 0,\n",
       "         1]])"
      ]
     },
     "execution_count": 129,
     "metadata": {},
     "output_type": "execute_result"
    }
   ],
   "source": [
    "y[:10]"
   ]
  },
  {
   "cell_type": "code",
   "execution_count": 130,
   "id": "943260a9-f753-400b-93eb-bbe70dd19d75",
   "metadata": {},
   "outputs": [
    {
     "data": {
      "text/html": [
       "<div>\n",
       "<style scoped>\n",
       "    .dataframe tbody tr th:only-of-type {\n",
       "        vertical-align: middle;\n",
       "    }\n",
       "\n",
       "    .dataframe tbody tr th {\n",
       "        vertical-align: top;\n",
       "    }\n",
       "\n",
       "    .dataframe thead th {\n",
       "        text-align: right;\n",
       "    }\n",
       "</style>\n",
       "<table border=\"1\" class=\"dataframe\">\n",
       "  <thead>\n",
       "    <tr style=\"text-align: right;\">\n",
       "      <th></th>\n",
       "      <th>study_id</th>\n",
       "      <th>SCSL1L2</th>\n",
       "      <th>SCSL2L3</th>\n",
       "      <th>SCSL3L4</th>\n",
       "      <th>SCSL4L5</th>\n",
       "      <th>SCSL5S1</th>\n",
       "      <th>LNFNL1L2</th>\n",
       "      <th>LNFNL2L3</th>\n",
       "      <th>LNFNL3L4</th>\n",
       "      <th>LNFNL4L5</th>\n",
       "      <th>...</th>\n",
       "      <th>LSSL1L2</th>\n",
       "      <th>LSSL2L3</th>\n",
       "      <th>LSSL3L4</th>\n",
       "      <th>LSSL4L5</th>\n",
       "      <th>LSSL5S1</th>\n",
       "      <th>RSSL1L2</th>\n",
       "      <th>RSSL2L3</th>\n",
       "      <th>RSSL3L4</th>\n",
       "      <th>RSSL4L5</th>\n",
       "      <th>RSSL5S1</th>\n",
       "    </tr>\n",
       "  </thead>\n",
       "  <tbody>\n",
       "    <tr>\n",
       "      <th>0</th>\n",
       "      <td>4003253</td>\n",
       "      <td>1</td>\n",
       "      <td>1</td>\n",
       "      <td>1</td>\n",
       "      <td>1</td>\n",
       "      <td>1</td>\n",
       "      <td>1</td>\n",
       "      <td>1</td>\n",
       "      <td>1</td>\n",
       "      <td>0</td>\n",
       "      <td>...</td>\n",
       "      <td>1</td>\n",
       "      <td>1</td>\n",
       "      <td>1</td>\n",
       "      <td>0</td>\n",
       "      <td>1</td>\n",
       "      <td>1</td>\n",
       "      <td>1</td>\n",
       "      <td>1</td>\n",
       "      <td>1</td>\n",
       "      <td>1</td>\n",
       "    </tr>\n",
       "    <tr>\n",
       "      <th>1</th>\n",
       "      <td>4646740</td>\n",
       "      <td>1</td>\n",
       "      <td>1</td>\n",
       "      <td>0</td>\n",
       "      <td>2</td>\n",
       "      <td>1</td>\n",
       "      <td>1</td>\n",
       "      <td>1</td>\n",
       "      <td>1</td>\n",
       "      <td>0</td>\n",
       "      <td>...</td>\n",
       "      <td>1</td>\n",
       "      <td>1</td>\n",
       "      <td>1</td>\n",
       "      <td>2</td>\n",
       "      <td>1</td>\n",
       "      <td>1</td>\n",
       "      <td>0</td>\n",
       "      <td>0</td>\n",
       "      <td>0</td>\n",
       "      <td>1</td>\n",
       "    </tr>\n",
       "    <tr>\n",
       "      <th>2</th>\n",
       "      <td>7143189</td>\n",
       "      <td>1</td>\n",
       "      <td>1</td>\n",
       "      <td>1</td>\n",
       "      <td>1</td>\n",
       "      <td>1</td>\n",
       "      <td>1</td>\n",
       "      <td>1</td>\n",
       "      <td>1</td>\n",
       "      <td>1</td>\n",
       "      <td>...</td>\n",
       "      <td>1</td>\n",
       "      <td>1</td>\n",
       "      <td>1</td>\n",
       "      <td>1</td>\n",
       "      <td>1</td>\n",
       "      <td>1</td>\n",
       "      <td>1</td>\n",
       "      <td>1</td>\n",
       "      <td>1</td>\n",
       "      <td>1</td>\n",
       "    </tr>\n",
       "    <tr>\n",
       "      <th>3</th>\n",
       "      <td>8785691</td>\n",
       "      <td>1</td>\n",
       "      <td>1</td>\n",
       "      <td>1</td>\n",
       "      <td>1</td>\n",
       "      <td>1</td>\n",
       "      <td>1</td>\n",
       "      <td>1</td>\n",
       "      <td>1</td>\n",
       "      <td>0</td>\n",
       "      <td>...</td>\n",
       "      <td>1</td>\n",
       "      <td>1</td>\n",
       "      <td>1</td>\n",
       "      <td>1</td>\n",
       "      <td>1</td>\n",
       "      <td>1</td>\n",
       "      <td>1</td>\n",
       "      <td>1</td>\n",
       "      <td>1</td>\n",
       "      <td>1</td>\n",
       "    </tr>\n",
       "    <tr>\n",
       "      <th>4</th>\n",
       "      <td>10728036</td>\n",
       "      <td>1</td>\n",
       "      <td>1</td>\n",
       "      <td>1</td>\n",
       "      <td>1</td>\n",
       "      <td>1</td>\n",
       "      <td>1</td>\n",
       "      <td>1</td>\n",
       "      <td>1</td>\n",
       "      <td>1</td>\n",
       "      <td>...</td>\n",
       "      <td>1</td>\n",
       "      <td>1</td>\n",
       "      <td>1</td>\n",
       "      <td>1</td>\n",
       "      <td>1</td>\n",
       "      <td>1</td>\n",
       "      <td>1</td>\n",
       "      <td>1</td>\n",
       "      <td>0</td>\n",
       "      <td>1</td>\n",
       "    </tr>\n",
       "  </tbody>\n",
       "</table>\n",
       "<p>5 rows × 26 columns</p>\n",
       "</div>"
      ],
      "text/plain": [
       "   study_id SCSL1L2 SCSL2L3 SCSL3L4 SCSL4L5 SCSL5S1 LNFNL1L2 LNFNL2L3  \\\n",
       "0   4003253       1       1       1       1       1        1        1   \n",
       "1   4646740       1       1       0       2       1        1        1   \n",
       "2   7143189       1       1       1       1       1        1        1   \n",
       "3   8785691       1       1       1       1       1        1        1   \n",
       "4  10728036       1       1       1       1       1        1        1   \n",
       "\n",
       "  LNFNL3L4 LNFNL4L5  ... LSSL1L2 LSSL2L3 LSSL3L4 LSSL4L5 LSSL5S1 RSSL1L2  \\\n",
       "0        1        0  ...       1       1       1       0       1       1   \n",
       "1        1        0  ...       1       1       1       2       1       1   \n",
       "2        1        1  ...       1       1       1       1       1       1   \n",
       "3        1        0  ...       1       1       1       1       1       1   \n",
       "4        1        1  ...       1       1       1       1       1       1   \n",
       "\n",
       "  RSSL2L3 RSSL3L4 RSSL4L5 RSSL5S1  \n",
       "0       1       1       1       1  \n",
       "1       0       0       0       1  \n",
       "2       1       1       1       1  \n",
       "3       1       1       1       1  \n",
       "4       1       1       0       1  \n",
       "\n",
       "[5 rows x 26 columns]"
      ]
     },
     "execution_count": 130,
     "metadata": {},
     "output_type": "execute_result"
    }
   ],
   "source": [
    "train_df.head()"
   ]
  },
  {
   "cell_type": "code",
   "execution_count": 131,
   "id": "818f335d-cdee-4d8c-aeef-edf3889edac3",
   "metadata": {
    "scrolled": true
   },
   "outputs": [
    {
     "data": {
      "text/plain": [
       "tensor([[[0.1215, 0.2312, 0.2626,  ..., 0.3714, 0.3076, 0.3516],\n",
       "         [0.7674, 0.5663, 0.3913,  ..., 0.2234, 0.0934, 0.2579],\n",
       "         [0.1111, 0.2026, 0.3462,  ..., 0.4052, 0.5990, 0.3905]],\n",
       "\n",
       "        [[0.1215, 0.2311, 0.2625,  ..., 0.3716, 0.3074, 0.3516],\n",
       "         [0.7674, 0.5663, 0.3914,  ..., 0.2234, 0.0934, 0.2579],\n",
       "         [0.1111, 0.2026, 0.3461,  ..., 0.4051, 0.5992, 0.3905]],\n",
       "\n",
       "        [[0.1218, 0.2328, 0.2651,  ..., 0.3670, 0.3132, 0.3527],\n",
       "         [0.7684, 0.5642, 0.3881,  ..., 0.2231, 0.0931, 0.2581],\n",
       "         [0.1098, 0.2030, 0.3468,  ..., 0.4100, 0.5937, 0.3892]],\n",
       "\n",
       "        ...,\n",
       "\n",
       "        [[0.1217, 0.2326, 0.2645,  ..., 0.3683, 0.3115, 0.3523],\n",
       "         [0.7681, 0.5645, 0.3886,  ..., 0.2231, 0.0934, 0.2581],\n",
       "         [0.1101, 0.2029, 0.3469,  ..., 0.4086, 0.5952, 0.3896]],\n",
       "\n",
       "        [[0.1215, 0.2313, 0.2627,  ..., 0.3711, 0.3079, 0.3516],\n",
       "         [0.7675, 0.5661, 0.3910,  ..., 0.2233, 0.0934, 0.2579],\n",
       "         [0.1110, 0.2026, 0.3463,  ..., 0.4055, 0.5987, 0.3905]],\n",
       "\n",
       "        [[0.1215, 0.2311, 0.2625,  ..., 0.3715, 0.3075, 0.3516],\n",
       "         [0.7674, 0.5663, 0.3914,  ..., 0.2234, 0.0934, 0.2579],\n",
       "         [0.1111, 0.2026, 0.3461,  ..., 0.4051, 0.5991, 0.3905]]])"
      ]
     },
     "execution_count": 131,
     "metadata": {},
     "output_type": "execute_result"
    }
   ],
   "source": [
    "pred.softmax(dim=1)"
   ]
  },
  {
   "cell_type": "code",
   "execution_count": 132,
   "id": "114abfc1-8ff7-4b29-985a-de37a0c39e4f",
   "metadata": {},
   "outputs": [
    {
     "data": {
      "text/plain": [
       "tensor([[1, 1, 1, 2, 1, 1, 1, 0, 0, 0, 1, 1, 0, 0, 0, 1, 1, 2, 2, 0, 1, 1, 2, 2,\n",
       "         2],\n",
       "        [1, 1, 1, 2, 1, 1, 1, 0, 0, 0, 1, 1, 0, 0, 0, 1, 1, 2, 2, 0, 1, 1, 2, 2,\n",
       "         2],\n",
       "        [1, 1, 1, 2, 1, 1, 1, 0, 0, 2, 1, 1, 0, 0, 0, 1, 1, 2, 2, 0, 1, 1, 2, 2,\n",
       "         2],\n",
       "        [1, 1, 1, 2, 1, 1, 1, 0, 0, 2, 1, 1, 0, 0, 0, 1, 1, 2, 2, 0, 1, 1, 2, 2,\n",
       "         2],\n",
       "        [1, 1, 1, 2, 1, 1, 1, 0, 0, 0, 1, 1, 0, 0, 0, 1, 1, 2, 2, 0, 1, 1, 2, 2,\n",
       "         2],\n",
       "        [1, 1, 1, 2, 1, 1, 1, 0, 0, 2, 1, 1, 0, 0, 0, 1, 1, 2, 2, 0, 1, 1, 2, 2,\n",
       "         2],\n",
       "        [1, 1, 1, 2, 1, 1, 1, 0, 0, 0, 1, 1, 0, 0, 0, 1, 1, 2, 2, 0, 1, 1, 2, 2,\n",
       "         2],\n",
       "        [1, 1, 1, 2, 1, 1, 1, 0, 0, 2, 1, 1, 0, 0, 0, 1, 1, 2, 2, 0, 1, 1, 2, 2,\n",
       "         2],\n",
       "        [1, 1, 1, 2, 1, 1, 1, 0, 0, 2, 1, 1, 0, 0, 0, 1, 1, 2, 2, 0, 1, 1, 2, 2,\n",
       "         2],\n",
       "        [1, 1, 1, 2, 1, 1, 1, 0, 0, 0, 1, 1, 0, 0, 0, 1, 1, 2, 2, 0, 1, 1, 2, 2,\n",
       "         2]])"
      ]
     },
     "execution_count": 132,
     "metadata": {},
     "output_type": "execute_result"
    }
   ],
   "source": [
    "pred.argmax(dim=1)[:10]"
   ]
  },
  {
   "cell_type": "code",
   "execution_count": 133,
   "id": "c9c5a90b-d57b-4e0b-8227-1eb907a46571",
   "metadata": {},
   "outputs": [],
   "source": [
    "# pred.argmax(dim=1)[:10]"
   ]
  },
  {
   "cell_type": "code",
   "execution_count": null,
   "id": "4aa0eae9-9396-44f9-85f0-7dcc1dedea67",
   "metadata": {},
   "outputs": [],
   "source": []
  }
 ],
 "metadata": {
  "kernelspec": {
   "display_name": "Python 3 (ipykernel)",
   "language": "python",
   "name": "python3"
  },
  "language_info": {
   "codemirror_mode": {
    "name": "ipython",
    "version": 3
   },
   "file_extension": ".py",
   "mimetype": "text/x-python",
   "name": "python",
   "nbconvert_exporter": "python",
   "pygments_lexer": "ipython3",
   "version": "3.10.14"
  }
 },
 "nbformat": 4,
 "nbformat_minor": 5
}
