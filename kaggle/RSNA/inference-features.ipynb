{
 "cells": [
  {
   "cell_type": "code",
   "execution_count": 1,
   "id": "94998d9c-77e0-4a4b-a65c-04a3c2565b75",
   "metadata": {},
   "outputs": [],
   "source": [
    "%load_ext autoreload\n",
    "%autoreload 2"
   ]
  },
  {
   "cell_type": "markdown",
   "id": "07de2b8f-844e-4672-a41c-52beb2dae447",
   "metadata": {},
   "source": [
    "### Imports"
   ]
  },
  {
   "cell_type": "code",
   "execution_count": 2,
   "id": "6b9c245d-05d4-4ce0-8463-b4701d87ed55",
   "metadata": {},
   "outputs": [],
   "source": [
    "import os\n",
    "import time\n",
    "import wandb\n",
    "import torch\n",
    "import random\n",
    "import torchvision\n",
    "\n",
    "import numpy as np\n",
    "import pandas as pd\n",
    "import torchmetrics as tm \n",
    "# import plotly.express as px\n",
    "import pytorch_lightning as pl\n",
    "import matplotlib.pyplot as plt\n",
    "\n",
    "from torch import nn\n",
    "from pathlib import Path, PurePath\n",
    "from torch.utils.data import Dataset, DataLoader\n",
    "from torch.optim import Adam, AdamW, RMSprop # optmizers\n",
    "# from warmup_scheduler import GradualWarmupScheduler\n",
    "from sklearn.model_selection import train_test_split\n",
    "from torch.optim.lr_scheduler import CosineAnnealingLR, ReduceLROnPlateau # Learning rate schedulers\n",
    "\n",
    "import albumentations as A\n",
    "# from albumentations.pytorch import ToTensorV2\n",
    "\n",
    "from pytorch_lightning.loggers import WandbLogger\n",
    "from pytorch_lightning.callbacks import Callback, LearningRateMonitor\n",
    "from torchmetrics.wrappers import ClasswiseWrapper\n",
    "from torchmetrics import MetricCollection\n",
    "from torchmetrics.classification import MultilabelAccuracy, MultilabelPrecision, MultilabelRecall, MultilabelF1Score\n",
    "\n",
    "import timm"
   ]
  },
  {
   "cell_type": "code",
   "execution_count": 3,
   "id": "1ed3f2de-96ba-4f8e-9ba2-56b6a9ae1f03",
   "metadata": {},
   "outputs": [
    {
     "name": "stdout",
     "output_type": "stream",
     "text": [
      "timm version 1.0.8\n",
      "torch version 2.3.1\n"
     ]
    }
   ],
   "source": [
    "print('timm version', timm.__version__)\n",
    "print('torch version', torch.__version__)"
   ]
  },
  {
   "cell_type": "code",
   "execution_count": 4,
   "id": "ab5d0053-46c9-42af-b831-18e658830eff",
   "metadata": {},
   "outputs": [
    {
     "name": "stderr",
     "output_type": "stream",
     "text": [
      "wandb: Currently logged in as: rosu-lucian. Use `wandb login --relogin` to force relogin\n",
      "wandb: WARNING If you're specifying your api key in code, ensure this code is not shared publicly.\n",
      "wandb: WARNING Consider setting the WANDB_API_KEY environment variable, or running `wandb login` from the command line.\n",
      "wandb: Appending key for api.wandb.ai to your netrc file: C:\\Users\\Asus\\.netrc\n"
     ]
    },
    {
     "data": {
      "text/plain": [
       "True"
      ]
     },
     "execution_count": 4,
     "metadata": {},
     "output_type": "execute_result"
    }
   ],
   "source": [
    "wandb.login(key=os.getenv('wandb_api_key'))"
   ]
  },
  {
   "cell_type": "code",
   "execution_count": 5,
   "id": "28f4adb1-2f1b-4a20-a2bc-7e084943e493",
   "metadata": {},
   "outputs": [
    {
     "name": "stdout",
     "output_type": "stream",
     "text": [
      "cuda\n"
     ]
    }
   ],
   "source": [
    "# detect and define device \n",
    "device = torch.device('cuda' if torch.cuda.is_available() else 'cpu')\n",
    "\n",
    "print(device)"
   ]
  },
  {
   "cell_type": "code",
   "execution_count": 6,
   "id": "37c591ff-f6fc-49b5-bb2f-48fba3df6dac",
   "metadata": {},
   "outputs": [],
   "source": [
    "# for reproducibility\n",
    "def seed_torch(seed):\n",
    "    random.seed(seed)\n",
    "    os.environ['PYTHONHASHSEED'] = str(seed)\n",
    "    np.random.seed(seed)\n",
    "    torch.manual_seed(seed)\n",
    "    torch.cuda.manual_seed(seed)\n",
    "    torch.backends.cudnn.deterministic = True"
   ]
  },
  {
   "cell_type": "markdown",
   "id": "9d204a47-ec8f-43a3-b0e4-b2d1f57071c9",
   "metadata": {},
   "source": [
    "### Config"
   ]
  },
  {
   "cell_type": "code",
   "execution_count": 7,
   "id": "50f17de9-ed35-48ec-9f16-6dde1762dd00",
   "metadata": {},
   "outputs": [],
   "source": [
    "# TODO: maybe use condition and level for classes\n",
    "classes = ['SCS', 'RNFN', 'LNFN', 'LSS', 'RSS'] + ['H'] # add healthy class\n",
    "\n",
    "# classes = ['SCS', 'RNFN', 'LNFN'] + ['H'] # add healthy class\n",
    "\n",
    "# classes = ['LSS', 'RSS'] + ['H'] # add healthy class\n",
    "\n",
    "# classes = ['SCSL1L2', 'SCSL2L3', 'SCSL3L4', 'SCSL4L5', 'SCSL5S1', 'RNFNL4L5',\n",
    "#        'RNFNL5S1', 'RNFNL3L4', 'RNFNL1L2', 'RNFNL2L3', 'LNFNL1L2',\n",
    "#        'LNFNL4L5', 'LNFNL5S1', 'LNFNL2L3', 'LNFNL3L4', 'LSSL1L2',\n",
    "#        'RSSL1L2', 'LSSL2L3', 'RSSL2L3', 'LSSL3L4', 'RSSL3L4', 'LSSL4L5',\n",
    "#        'RSSL4L5', 'LSSL5S1', 'RSSL5S1'] + ['H']\n",
    "\n",
    "num_classes = len(classes)\n",
    "class2id = {b: i for i, b in enumerate(classes)}"
   ]
  },
  {
   "cell_type": "code",
   "execution_count": 8,
   "id": "2a88ef82-ca27-4626-8e23-9d6c39ed413f",
   "metadata": {},
   "outputs": [],
   "source": [
    "train_dir = Path('E:\\data\\RSNA2024')\n",
    "\n",
    "class CFG:\n",
    "\n",
    "    project = 'rsna-2'\n",
    "    comment = 'all-labels'\n",
    "\n",
    "    ckpt_path = Path(r\"E:\\data\\RSNA2024\\results\\ckpt\\eca_nfnet_l0 5e-05 10 eps 128neck\\ep_06_loss_0.13010.ckpt\")\n",
    "    embeds_path = Path(r\"E:\\data\\RSNA2024\\embeddings\")\n",
    "    stacked_path = Path(r\"E:\\data\\RSNA2024\\embeddings_stacked\")\n",
    "\n",
    "    ### model\n",
    "    model_name = 'eca_nfnet_l0' # 'resnet34', 'resnet200d', 'efficientnet_b1_pruned', 'efficientnetv2_m', efficientnet_b7 \n",
    "\n",
    "    image_size = 256\n",
    "    bottleneck_dim = 128\n",
    "    \n",
    "    ROOT_FOLDER = train_dir\n",
    "    DEST_FOLDER = train_dir\n",
    "    IMAGES_DIR = ROOT_FOLDER / 'train_images'\n",
    "    PNG_DIR = ROOT_FOLDER / f'pngs_{image_size}'\n",
    "    FILES_CSV = ROOT_FOLDER / 'train_files.csv'\n",
    "    TRAIN_CSV = ROOT_FOLDER / 'train.csv'\n",
    "    TRAIN_DESC_CSV = ROOT_FOLDER / 'train_series_descriptions.csv'\n",
    "    COORDS_CSV = ROOT_FOLDER / 'train_label_coordinates.csv'\n",
    "\n",
    "    RESULTS_DIR = train_dir / 'results'\n",
    "    CKPT_DIR = RESULTS_DIR / 'ckpt'\n",
    "\n",
    "    classes = classes\n",
    "\n",
    "    split_fraction = 0.95\n",
    "\n",
    "    MIXUP = False\n",
    "\n",
    "    ### training\n",
    "    BATCH_SIZE = 128\n",
    "    \n",
    "    ### Optimizer\n",
    "    N_EPOCHS = 10\n",
    "    USE_SCHD = False\n",
    "    WARM_EPOCHS = 3\n",
    "    COS_EPOCHS = N_EPOCHS - WARM_EPOCHS\n",
    "\n",
    "    # LEARNING_RATE = 5*1e-5 # best\n",
    "    LEARNING_RATE = 5e-5\n",
    "    \n",
    "    weight_decay = 1e-6 # for adamw\n",
    "\n",
    "    device = 'cuda' if torch.cuda.is_available() else 'cpu'\n",
    "\n",
    "    ### split train and validation sets\n",
    "    num_workers = 16\n",
    "\n",
    "    random_seed = 42\n",
    "\n",
    "CFG.N_LABELS = len(CFG.classes)\n",
    "\n",
    "seed_torch(seed = CFG.random_seed)"
   ]
  },
  {
   "cell_type": "code",
   "execution_count": 9,
   "id": "c1f9de21-c8ad-436d-aadb-1335d0f09e5d",
   "metadata": {},
   "outputs": [
    {
     "data": {
      "text/plain": [
       "(['SCS', 'RNFN', 'LNFN', 'LSS', 'RSS', 'H'],\n",
       " ['pred_SCS', 'pred_RNFN', 'pred_LNFN', 'pred_LSS', 'pred_RSS', 'pred_H'])"
      ]
     },
     "execution_count": 9,
     "metadata": {},
     "output_type": "execute_result"
    }
   ],
   "source": [
    "labels = CFG.classes\n",
    "pred_labels = [f'pred_{l}' for l in labels]\n",
    "\n",
    "labels, pred_labels"
   ]
  },
  {
   "cell_type": "code",
   "execution_count": 10,
   "id": "1ca8909d-bca7-41a4-8c2c-02679e626cf5",
   "metadata": {},
   "outputs": [
    {
     "data": {
      "text/plain": [
       "6"
      ]
     },
     "execution_count": 10,
     "metadata": {},
     "output_type": "execute_result"
    }
   ],
   "source": [
    "CFG.N_LABELS "
   ]
  },
  {
   "cell_type": "markdown",
   "id": "7986b07d-26fc-4516-b960-510a24466451",
   "metadata": {},
   "source": [
    "### Load data"
   ]
  },
  {
   "cell_type": "code",
   "execution_count": 11,
   "id": "dbcffb55-8b94-457b-b37c-c03b1bb2eff6",
   "metadata": {},
   "outputs": [
    {
     "data": {
      "text/plain": [
       "((1975, 26), (6294, 3), (48692, 18), (147218, 20))"
      ]
     },
     "execution_count": 11,
     "metadata": {},
     "output_type": "execute_result"
    }
   ],
   "source": [
    "train_df = pd.read_csv(CFG.TRAIN_CSV)\n",
    "train_desc_df = pd.read_csv(CFG.TRAIN_DESC_CSV)\n",
    "coords_df = pd.read_csv(CFG.COORDS_CSV)\n",
    "files_df = pd.read_csv(CFG.FILES_CSV)\n",
    "\n",
    "train_df.shape, train_desc_df.shape, coords_df.shape, files_df.shape"
   ]
  },
  {
   "cell_type": "code",
   "execution_count": 12,
   "id": "7c8fb69c-4b8a-4e5d-9b14-4f105d14e76f",
   "metadata": {},
   "outputs": [
    {
     "data": {
      "text/html": [
       "<div>\n",
       "<style scoped>\n",
       "    .dataframe tbody tr th:only-of-type {\n",
       "        vertical-align: middle;\n",
       "    }\n",
       "\n",
       "    .dataframe tbody tr th {\n",
       "        vertical-align: top;\n",
       "    }\n",
       "\n",
       "    .dataframe thead th {\n",
       "        text-align: right;\n",
       "    }\n",
       "</style>\n",
       "<table border=\"1\" class=\"dataframe\">\n",
       "  <thead>\n",
       "    <tr style=\"text-align: right;\">\n",
       "      <th></th>\n",
       "      <th>study_id</th>\n",
       "      <th>SCSL1L2</th>\n",
       "      <th>SCSL2L3</th>\n",
       "      <th>SCSL3L4</th>\n",
       "      <th>SCSL4L5</th>\n",
       "      <th>SCSL5S1</th>\n",
       "      <th>LNFNL1L2</th>\n",
       "      <th>LNFNL2L3</th>\n",
       "      <th>LNFNL3L4</th>\n",
       "      <th>LNFNL4L5</th>\n",
       "      <th>...</th>\n",
       "      <th>LSSL1L2</th>\n",
       "      <th>LSSL2L3</th>\n",
       "      <th>LSSL3L4</th>\n",
       "      <th>LSSL4L5</th>\n",
       "      <th>LSSL5S1</th>\n",
       "      <th>RSSL1L2</th>\n",
       "      <th>RSSL2L3</th>\n",
       "      <th>RSSL3L4</th>\n",
       "      <th>RSSL4L5</th>\n",
       "      <th>RSSL5S1</th>\n",
       "    </tr>\n",
       "  </thead>\n",
       "  <tbody>\n",
       "    <tr>\n",
       "      <th>1825</th>\n",
       "      <td>3956571539</td>\n",
       "      <td>N</td>\n",
       "      <td>N</td>\n",
       "      <td>N</td>\n",
       "      <td>N</td>\n",
       "      <td>N</td>\n",
       "      <td>N</td>\n",
       "      <td>N</td>\n",
       "      <td>N</td>\n",
       "      <td>M</td>\n",
       "      <td>...</td>\n",
       "      <td>N</td>\n",
       "      <td>N</td>\n",
       "      <td>N</td>\n",
       "      <td>M</td>\n",
       "      <td>N</td>\n",
       "      <td>N</td>\n",
       "      <td>N</td>\n",
       "      <td>N</td>\n",
       "      <td>N</td>\n",
       "      <td>M</td>\n",
       "    </tr>\n",
       "    <tr>\n",
       "      <th>1735</th>\n",
       "      <td>3768387090</td>\n",
       "      <td>N</td>\n",
       "      <td>N</td>\n",
       "      <td>N</td>\n",
       "      <td>M</td>\n",
       "      <td>N</td>\n",
       "      <td>N</td>\n",
       "      <td>N</td>\n",
       "      <td>N</td>\n",
       "      <td>N</td>\n",
       "      <td>...</td>\n",
       "      <td>N</td>\n",
       "      <td>N</td>\n",
       "      <td>N</td>\n",
       "      <td>S</td>\n",
       "      <td>N</td>\n",
       "      <td>N</td>\n",
       "      <td>N</td>\n",
       "      <td>N</td>\n",
       "      <td>N</td>\n",
       "      <td>N</td>\n",
       "    </tr>\n",
       "    <tr>\n",
       "      <th>678</th>\n",
       "      <td>1504031267</td>\n",
       "      <td>N</td>\n",
       "      <td>N</td>\n",
       "      <td>N</td>\n",
       "      <td>N</td>\n",
       "      <td>N</td>\n",
       "      <td>N</td>\n",
       "      <td>N</td>\n",
       "      <td>M</td>\n",
       "      <td>M</td>\n",
       "      <td>...</td>\n",
       "      <td>N</td>\n",
       "      <td>M</td>\n",
       "      <td>M</td>\n",
       "      <td>N</td>\n",
       "      <td>N</td>\n",
       "      <td>N</td>\n",
       "      <td>N</td>\n",
       "      <td>N</td>\n",
       "      <td>N</td>\n",
       "      <td>N</td>\n",
       "    </tr>\n",
       "    <tr>\n",
       "      <th>351</th>\n",
       "      <td>783154228</td>\n",
       "      <td>N</td>\n",
       "      <td>M</td>\n",
       "      <td>S</td>\n",
       "      <td>N</td>\n",
       "      <td>N</td>\n",
       "      <td>M</td>\n",
       "      <td>S</td>\n",
       "      <td>M</td>\n",
       "      <td>S</td>\n",
       "      <td>...</td>\n",
       "      <td>N</td>\n",
       "      <td>M</td>\n",
       "      <td>M</td>\n",
       "      <td>N</td>\n",
       "      <td>N</td>\n",
       "      <td>N</td>\n",
       "      <td>M</td>\n",
       "      <td>M</td>\n",
       "      <td>M</td>\n",
       "      <td>M</td>\n",
       "    </tr>\n",
       "    <tr>\n",
       "      <th>1791</th>\n",
       "      <td>3884015124</td>\n",
       "      <td>M</td>\n",
       "      <td>N</td>\n",
       "      <td>M</td>\n",
       "      <td>N</td>\n",
       "      <td>N</td>\n",
       "      <td>N</td>\n",
       "      <td>N</td>\n",
       "      <td>N</td>\n",
       "      <td>M</td>\n",
       "      <td>...</td>\n",
       "      <td>M</td>\n",
       "      <td>N</td>\n",
       "      <td>N</td>\n",
       "      <td>S</td>\n",
       "      <td>S</td>\n",
       "      <td>M</td>\n",
       "      <td>N</td>\n",
       "      <td>M</td>\n",
       "      <td>M</td>\n",
       "      <td>M</td>\n",
       "    </tr>\n",
       "  </tbody>\n",
       "</table>\n",
       "<p>5 rows × 26 columns</p>\n",
       "</div>"
      ],
      "text/plain": [
       "        study_id SCSL1L2 SCSL2L3 SCSL3L4 SCSL4L5 SCSL5S1 LNFNL1L2 LNFNL2L3  \\\n",
       "1825  3956571539       N       N       N       N       N        N        N   \n",
       "1735  3768387090       N       N       N       M       N        N        N   \n",
       "678   1504031267       N       N       N       N       N        N        N   \n",
       "351    783154228       N       M       S       N       N        M        S   \n",
       "1791  3884015124       M       N       M       N       N        N        N   \n",
       "\n",
       "     LNFNL3L4 LNFNL4L5  ... LSSL1L2 LSSL2L3 LSSL3L4 LSSL4L5 LSSL5S1 RSSL1L2  \\\n",
       "1825        N        M  ...       N       N       N       M       N       N   \n",
       "1735        N        N  ...       N       N       N       S       N       N   \n",
       "678         M        M  ...       N       M       M       N       N       N   \n",
       "351         M        S  ...       N       M       M       N       N       N   \n",
       "1791        N        M  ...       M       N       N       S       S       M   \n",
       "\n",
       "     RSSL2L3 RSSL3L4 RSSL4L5 RSSL5S1  \n",
       "1825       N       N       N       M  \n",
       "1735       N       N       N       N  \n",
       "678        N       N       N       N  \n",
       "351        M       M       M       M  \n",
       "1791       N       M       M       M  \n",
       "\n",
       "[5 rows x 26 columns]"
      ]
     },
     "execution_count": 12,
     "metadata": {},
     "output_type": "execute_result"
    }
   ],
   "source": [
    "train_df.sample(5)"
   ]
  },
  {
   "cell_type": "code",
   "execution_count": 13,
   "id": "dab0492a-5fda-4eec-a0e9-01e41b9a4d1d",
   "metadata": {},
   "outputs": [
    {
     "data": {
      "text/html": [
       "<div>\n",
       "<style scoped>\n",
       "    .dataframe tbody tr th:only-of-type {\n",
       "        vertical-align: middle;\n",
       "    }\n",
       "\n",
       "    .dataframe tbody tr th {\n",
       "        vertical-align: top;\n",
       "    }\n",
       "\n",
       "    .dataframe thead th {\n",
       "        text-align: right;\n",
       "    }\n",
       "</style>\n",
       "<table border=\"1\" class=\"dataframe\">\n",
       "  <thead>\n",
       "    <tr style=\"text-align: right;\">\n",
       "      <th></th>\n",
       "      <th>study_id</th>\n",
       "      <th>series_id</th>\n",
       "      <th>instance</th>\n",
       "      <th>condition</th>\n",
       "      <th>level</th>\n",
       "      <th>x</th>\n",
       "      <th>y</th>\n",
       "      <th>ss_id</th>\n",
       "      <th>instance_id</th>\n",
       "      <th>cl</th>\n",
       "      <th>series_description</th>\n",
       "      <th>rows</th>\n",
       "      <th>columns</th>\n",
       "      <th>filename</th>\n",
       "      <th>patientposition</th>\n",
       "      <th>x_perc</th>\n",
       "      <th>y_perc</th>\n",
       "      <th>inst_perc</th>\n",
       "    </tr>\n",
       "  </thead>\n",
       "  <tbody>\n",
       "    <tr>\n",
       "      <th>9389</th>\n",
       "      <td>838134337</td>\n",
       "      <td>1345841225</td>\n",
       "      <td>8</td>\n",
       "      <td>RNFN</td>\n",
       "      <td>L1L2</td>\n",
       "      <td>299.627093</td>\n",
       "      <td>141.857522</td>\n",
       "      <td>838134337_1345841225</td>\n",
       "      <td>838134337_1345841225_8</td>\n",
       "      <td>RNFNL1L2</td>\n",
       "      <td>Sagittal T1</td>\n",
       "      <td>512</td>\n",
       "      <td>512</td>\n",
       "      <td>E:\\data\\RSNA2024\\pngs_256\\838134337_1345841225...</td>\n",
       "      <td>HFS</td>\n",
       "      <td>0.585209</td>\n",
       "      <td>0.277065</td>\n",
       "      <td>0.350000</td>\n",
       "    </tr>\n",
       "    <tr>\n",
       "      <th>34671</th>\n",
       "      <td>3068697362</td>\n",
       "      <td>598012396</td>\n",
       "      <td>5</td>\n",
       "      <td>LNFN</td>\n",
       "      <td>L5S1</td>\n",
       "      <td>132.562118</td>\n",
       "      <td>195.910387</td>\n",
       "      <td>3068697362_598012396</td>\n",
       "      <td>3068697362_598012396_5</td>\n",
       "      <td>LNFNL5S1</td>\n",
       "      <td>Sagittal T1</td>\n",
       "      <td>256</td>\n",
       "      <td>256</td>\n",
       "      <td>E:\\data\\RSNA2024\\pngs_256\\3068697362_598012396...</td>\n",
       "      <td>HFS</td>\n",
       "      <td>0.517821</td>\n",
       "      <td>0.765275</td>\n",
       "      <td>0.222222</td>\n",
       "    </tr>\n",
       "  </tbody>\n",
       "</table>\n",
       "</div>"
      ],
      "text/plain": [
       "         study_id   series_id  instance condition level           x  \\\n",
       "9389    838134337  1345841225         8      RNFN  L1L2  299.627093   \n",
       "34671  3068697362   598012396         5      LNFN  L5S1  132.562118   \n",
       "\n",
       "                y                 ss_id             instance_id        cl  \\\n",
       "9389   141.857522  838134337_1345841225  838134337_1345841225_8  RNFNL1L2   \n",
       "34671  195.910387  3068697362_598012396  3068697362_598012396_5  LNFNL5S1   \n",
       "\n",
       "      series_description  rows  columns  \\\n",
       "9389         Sagittal T1   512      512   \n",
       "34671        Sagittal T1   256      256   \n",
       "\n",
       "                                                filename patientposition  \\\n",
       "9389   E:\\data\\RSNA2024\\pngs_256\\838134337_1345841225...             HFS   \n",
       "34671  E:\\data\\RSNA2024\\pngs_256\\3068697362_598012396...             HFS   \n",
       "\n",
       "         x_perc    y_perc  inst_perc  \n",
       "9389   0.585209  0.277065   0.350000  \n",
       "34671  0.517821  0.765275   0.222222  "
      ]
     },
     "execution_count": 13,
     "metadata": {},
     "output_type": "execute_result"
    }
   ],
   "source": [
    "coords_df.sample(2)"
   ]
  },
  {
   "cell_type": "code",
   "execution_count": 14,
   "id": "14952793-0c6d-41c7-b499-ec7de1626ec4",
   "metadata": {},
   "outputs": [
    {
     "data": {
      "text/plain": [
       "array(['SCS', 'RNFN', 'LNFN', 'LSS', 'RSS'], dtype=object)"
      ]
     },
     "execution_count": 14,
     "metadata": {},
     "output_type": "execute_result"
    }
   ],
   "source": [
    "coords_df.condition.unique()"
   ]
  },
  {
   "cell_type": "code",
   "execution_count": 15,
   "id": "a6001622-409c-458a-9c0b-ca67bf4cfd51",
   "metadata": {},
   "outputs": [
    {
     "data": {
      "text/plain": [
       "array(['SCSL1L2', 'SCSL2L3', 'SCSL3L4', 'SCSL4L5', 'SCSL5S1', 'RNFNL4L5',\n",
       "       'RNFNL5S1', 'RNFNL3L4', 'RNFNL1L2', 'RNFNL2L3', 'LNFNL1L2',\n",
       "       'LNFNL4L5', 'LNFNL5S1', 'LNFNL2L3', 'LNFNL3L4', 'LSSL1L2',\n",
       "       'RSSL1L2', 'LSSL2L3', 'RSSL2L3', 'LSSL3L4', 'RSSL3L4', 'LSSL4L5',\n",
       "       'RSSL4L5', 'LSSL5S1', 'RSSL5S1'], dtype=object)"
      ]
     },
     "execution_count": 15,
     "metadata": {},
     "output_type": "execute_result"
    }
   ],
   "source": [
    "coords_df.cl.unique()"
   ]
  },
  {
   "cell_type": "code",
   "execution_count": 16,
   "id": "32cba838-ac37-4132-8798-4cd30e915717",
   "metadata": {},
   "outputs": [],
   "source": [
    "# coords_df.groupby(['study_id','series_id']).instance.count()"
   ]
  },
  {
   "cell_type": "code",
   "execution_count": 17,
   "id": "b25f6d1b-5457-4192-886e-67196f1dac60",
   "metadata": {},
   "outputs": [
    {
     "data": {
      "text/html": [
       "<div>\n",
       "<style scoped>\n",
       "    .dataframe tbody tr th:only-of-type {\n",
       "        vertical-align: middle;\n",
       "    }\n",
       "\n",
       "    .dataframe tbody tr th {\n",
       "        vertical-align: top;\n",
       "    }\n",
       "\n",
       "    .dataframe thead th {\n",
       "        text-align: right;\n",
       "    }\n",
       "</style>\n",
       "<table border=\"1\" class=\"dataframe\">\n",
       "  <thead>\n",
       "    <tr style=\"text-align: right;\">\n",
       "      <th></th>\n",
       "      <th>study_id</th>\n",
       "      <th>series_id</th>\n",
       "      <th>series_description</th>\n",
       "    </tr>\n",
       "  </thead>\n",
       "  <tbody>\n",
       "    <tr>\n",
       "      <th>3465</th>\n",
       "      <td>2403128572</td>\n",
       "      <td>1121608562</td>\n",
       "      <td>Sagittal T2/STIR</td>\n",
       "    </tr>\n",
       "    <tr>\n",
       "      <th>2413</th>\n",
       "      <td>1671291853</td>\n",
       "      <td>1440089134</td>\n",
       "      <td>Axial T2</td>\n",
       "    </tr>\n",
       "    <tr>\n",
       "      <th>5109</th>\n",
       "      <td>3480977444</td>\n",
       "      <td>2937779262</td>\n",
       "      <td>Axial T2</td>\n",
       "    </tr>\n",
       "    <tr>\n",
       "      <th>3727</th>\n",
       "      <td>2568819355</td>\n",
       "      <td>3366910731</td>\n",
       "      <td>Axial T2</td>\n",
       "    </tr>\n",
       "    <tr>\n",
       "      <th>5996</th>\n",
       "      <td>4095029738</td>\n",
       "      <td>3276164246</td>\n",
       "      <td>Sagittal T2/STIR</td>\n",
       "    </tr>\n",
       "  </tbody>\n",
       "</table>\n",
       "</div>"
      ],
      "text/plain": [
       "        study_id   series_id series_description\n",
       "3465  2403128572  1121608562   Sagittal T2/STIR\n",
       "2413  1671291853  1440089134           Axial T2\n",
       "5109  3480977444  2937779262           Axial T2\n",
       "3727  2568819355  3366910731           Axial T2\n",
       "5996  4095029738  3276164246   Sagittal T2/STIR"
      ]
     },
     "execution_count": 17,
     "metadata": {},
     "output_type": "execute_result"
    }
   ],
   "source": [
    "train_desc_df.sample(5)"
   ]
  },
  {
   "cell_type": "code",
   "execution_count": 18,
   "id": "0aecf1f7-deae-4c20-80c2-e63a58b86e8a",
   "metadata": {},
   "outputs": [
    {
     "data": {
      "text/html": [
       "<div>\n",
       "<style scoped>\n",
       "    .dataframe tbody tr th:only-of-type {\n",
       "        vertical-align: middle;\n",
       "    }\n",
       "\n",
       "    .dataframe tbody tr th {\n",
       "        vertical-align: top;\n",
       "    }\n",
       "\n",
       "    .dataframe thead th {\n",
       "        text-align: right;\n",
       "    }\n",
       "</style>\n",
       "<table border=\"1\" class=\"dataframe\">\n",
       "  <thead>\n",
       "    <tr style=\"text-align: right;\">\n",
       "      <th></th>\n",
       "      <th>study_id</th>\n",
       "      <th>series_id</th>\n",
       "      <th>image</th>\n",
       "      <th>proj</th>\n",
       "      <th>instancenumber</th>\n",
       "      <th>rows</th>\n",
       "      <th>columns</th>\n",
       "      <th>slicethickness</th>\n",
       "      <th>spacingbetweenslices</th>\n",
       "      <th>patientposition</th>\n",
       "      <th>seriesdescription</th>\n",
       "      <th>ss_id</th>\n",
       "      <th>instance_id</th>\n",
       "      <th>filename</th>\n",
       "      <th>series_description</th>\n",
       "      <th>healthy</th>\n",
       "      <th>inst_min</th>\n",
       "      <th>inst_max</th>\n",
       "      <th>inst</th>\n",
       "      <th>inst_perc</th>\n",
       "    </tr>\n",
       "  </thead>\n",
       "  <tbody>\n",
       "    <tr>\n",
       "      <th>14665</th>\n",
       "      <td>3870889542</td>\n",
       "      <td>1025648500</td>\n",
       "      <td>5</td>\n",
       "      <td>-16</td>\n",
       "      <td>5</td>\n",
       "      <td>512</td>\n",
       "      <td>512</td>\n",
       "      <td>4.0</td>\n",
       "      <td>5.0</td>\n",
       "      <td>FFS</td>\n",
       "      <td>T2</td>\n",
       "      <td>3870889542_1025648500</td>\n",
       "      <td>3870889542_1025648500_5</td>\n",
       "      <td>E:\\data\\RSNA2024\\pngs_256\\3870889542_102564850...</td>\n",
       "      <td>Sagittal T2/STIR</td>\n",
       "      <td>True</td>\n",
       "      <td>1</td>\n",
       "      <td>16</td>\n",
       "      <td>4</td>\n",
       "      <td>0.250000</td>\n",
       "    </tr>\n",
       "    <tr>\n",
       "      <th>13125</th>\n",
       "      <td>3895795003</td>\n",
       "      <td>4117993048</td>\n",
       "      <td>21</td>\n",
       "      <td>-437</td>\n",
       "      <td>21</td>\n",
       "      <td>320</td>\n",
       "      <td>320</td>\n",
       "      <td>4.0</td>\n",
       "      <td>4.4</td>\n",
       "      <td>HFS</td>\n",
       "      <td>T2</td>\n",
       "      <td>3895795003_4117993048</td>\n",
       "      <td>3895795003_4117993048_21</td>\n",
       "      <td>E:\\data\\RSNA2024\\pngs_256\\3895795003_411799304...</td>\n",
       "      <td>Axial T2</td>\n",
       "      <td>False</td>\n",
       "      <td>1</td>\n",
       "      <td>24</td>\n",
       "      <td>20</td>\n",
       "      <td>0.833333</td>\n",
       "    </tr>\n",
       "    <tr>\n",
       "      <th>26491</th>\n",
       "      <td>3507232306</td>\n",
       "      <td>68802292</td>\n",
       "      <td>11</td>\n",
       "      <td>17</td>\n",
       "      <td>11</td>\n",
       "      <td>512</td>\n",
       "      <td>512</td>\n",
       "      <td>3.0</td>\n",
       "      <td>4.0</td>\n",
       "      <td>HFS</td>\n",
       "      <td>T1</td>\n",
       "      <td>3507232306_68802292</td>\n",
       "      <td>3507232306_68802292_11</td>\n",
       "      <td>E:\\data\\RSNA2024\\pngs_256\\3507232306_68802292_...</td>\n",
       "      <td>Sagittal T1</td>\n",
       "      <td>True</td>\n",
       "      <td>1</td>\n",
       "      <td>15</td>\n",
       "      <td>10</td>\n",
       "      <td>0.666667</td>\n",
       "    </tr>\n",
       "  </tbody>\n",
       "</table>\n",
       "</div>"
      ],
      "text/plain": [
       "         study_id   series_id  image  proj  instancenumber  rows  columns  \\\n",
       "14665  3870889542  1025648500      5   -16               5   512      512   \n",
       "13125  3895795003  4117993048     21  -437              21   320      320   \n",
       "26491  3507232306    68802292     11    17              11   512      512   \n",
       "\n",
       "       slicethickness  spacingbetweenslices patientposition seriesdescription  \\\n",
       "14665             4.0                   5.0             FFS                T2   \n",
       "13125             4.0                   4.4             HFS                T2   \n",
       "26491             3.0                   4.0             HFS                T1   \n",
       "\n",
       "                       ss_id               instance_id  \\\n",
       "14665  3870889542_1025648500   3870889542_1025648500_5   \n",
       "13125  3895795003_4117993048  3895795003_4117993048_21   \n",
       "26491    3507232306_68802292    3507232306_68802292_11   \n",
       "\n",
       "                                                filename series_description  \\\n",
       "14665  E:\\data\\RSNA2024\\pngs_256\\3870889542_102564850...   Sagittal T2/STIR   \n",
       "13125  E:\\data\\RSNA2024\\pngs_256\\3895795003_411799304...           Axial T2   \n",
       "26491  E:\\data\\RSNA2024\\pngs_256\\3507232306_68802292_...        Sagittal T1   \n",
       "\n",
       "       healthy  inst_min  inst_max  inst  inst_perc  \n",
       "14665     True         1        16     4   0.250000  \n",
       "13125    False         1        24    20   0.833333  \n",
       "26491     True         1        15    10   0.666667  "
      ]
     },
     "execution_count": 18,
     "metadata": {},
     "output_type": "execute_result"
    }
   ],
   "source": [
    "files_df.sample(3)"
   ]
  },
  {
   "cell_type": "code",
   "execution_count": 19,
   "id": "ef87e649-93e0-4ff0-b267-cbf154535c8d",
   "metadata": {},
   "outputs": [
    {
     "data": {
      "text/plain": [
       "(147218, 20)"
      ]
     },
     "execution_count": 19,
     "metadata": {},
     "output_type": "execute_result"
    }
   ],
   "source": [
    "files_df.shape"
   ]
  },
  {
   "cell_type": "code",
   "execution_count": 20,
   "id": "128955be-0698-4c1e-bdf5-4f26b3d47b5a",
   "metadata": {},
   "outputs": [
    {
     "data": {
      "text/plain": [
       "(24546, 6291, 147218)"
      ]
     },
     "execution_count": 20,
     "metadata": {},
     "output_type": "execute_result"
    }
   ],
   "source": [
    "# labels, potive imgs, total imgs\n",
    "coords_df.instance_id.nunique(), coords_df.ss_id.nunique(), files_df.shape[0]"
   ]
  },
  {
   "cell_type": "code",
   "execution_count": 21,
   "id": "06664a85-a3ab-4bb9-8e60-c34e9fdc53c5",
   "metadata": {},
   "outputs": [
    {
     "data": {
      "text/html": [
       "<div>\n",
       "<style scoped>\n",
       "    .dataframe tbody tr th:only-of-type {\n",
       "        vertical-align: middle;\n",
       "    }\n",
       "\n",
       "    .dataframe tbody tr th {\n",
       "        vertical-align: top;\n",
       "    }\n",
       "\n",
       "    .dataframe thead th {\n",
       "        text-align: right;\n",
       "    }\n",
       "</style>\n",
       "<table border=\"1\" class=\"dataframe\">\n",
       "  <thead>\n",
       "    <tr style=\"text-align: right;\">\n",
       "      <th></th>\n",
       "      <th>study_id</th>\n",
       "      <th>series_id</th>\n",
       "      <th>instance</th>\n",
       "      <th>condition</th>\n",
       "      <th>level</th>\n",
       "      <th>x</th>\n",
       "      <th>y</th>\n",
       "      <th>ss_id</th>\n",
       "      <th>instance_id</th>\n",
       "      <th>cl</th>\n",
       "      <th>series_description</th>\n",
       "      <th>rows</th>\n",
       "      <th>columns</th>\n",
       "      <th>filename</th>\n",
       "      <th>patientposition</th>\n",
       "      <th>x_perc</th>\n",
       "      <th>y_perc</th>\n",
       "      <th>inst_perc</th>\n",
       "    </tr>\n",
       "  </thead>\n",
       "  <tbody>\n",
       "    <tr>\n",
       "      <th>34000</th>\n",
       "      <td>3010856283</td>\n",
       "      <td>3908286977</td>\n",
       "      <td>9</td>\n",
       "      <td>SCS</td>\n",
       "      <td>L3L4</td>\n",
       "      <td>167.832287</td>\n",
       "      <td>148.588357</td>\n",
       "      <td>3010856283_3908286977</td>\n",
       "      <td>3010856283_3908286977_9</td>\n",
       "      <td>SCSL3L4</td>\n",
       "      <td>Sagittal T2/STIR</td>\n",
       "      <td>320</td>\n",
       "      <td>320</td>\n",
       "      <td>E:\\data\\RSNA2024\\pngs_256\\3010856283_390828697...</td>\n",
       "      <td>HFS</td>\n",
       "      <td>0.524476</td>\n",
       "      <td>0.464339</td>\n",
       "      <td>0.470588</td>\n",
       "    </tr>\n",
       "    <tr>\n",
       "      <th>35159</th>\n",
       "      <td>3127048494</td>\n",
       "      <td>4135498856</td>\n",
       "      <td>10</td>\n",
       "      <td>LSS</td>\n",
       "      <td>L3L4</td>\n",
       "      <td>274.673837</td>\n",
       "      <td>262.827798</td>\n",
       "      <td>3127048494_4135498856</td>\n",
       "      <td>3127048494_4135498856_10</td>\n",
       "      <td>LSSL3L4</td>\n",
       "      <td>Axial T2</td>\n",
       "      <td>512</td>\n",
       "      <td>512</td>\n",
       "      <td>E:\\data\\RSNA2024\\pngs_256\\3127048494_413549885...</td>\n",
       "      <td>HFS</td>\n",
       "      <td>0.536472</td>\n",
       "      <td>0.513336</td>\n",
       "      <td>0.450000</td>\n",
       "    </tr>\n",
       "    <tr>\n",
       "      <th>35173</th>\n",
       "      <td>3128795155</td>\n",
       "      <td>483456514</td>\n",
       "      <td>6</td>\n",
       "      <td>RNFN</td>\n",
       "      <td>L3L4</td>\n",
       "      <td>224.246055</td>\n",
       "      <td>234.605452</td>\n",
       "      <td>3128795155_483456514</td>\n",
       "      <td>3128795155_483456514_6</td>\n",
       "      <td>RNFNL3L4</td>\n",
       "      <td>Sagittal T1</td>\n",
       "      <td>448</td>\n",
       "      <td>448</td>\n",
       "      <td>E:\\data\\RSNA2024\\pngs_256\\3128795155_483456514...</td>\n",
       "      <td>HFS</td>\n",
       "      <td>0.500549</td>\n",
       "      <td>0.523673</td>\n",
       "      <td>0.238095</td>\n",
       "    </tr>\n",
       "  </tbody>\n",
       "</table>\n",
       "</div>"
      ],
      "text/plain": [
       "         study_id   series_id  instance condition level           x  \\\n",
       "34000  3010856283  3908286977         9       SCS  L3L4  167.832287   \n",
       "35159  3127048494  4135498856        10       LSS  L3L4  274.673837   \n",
       "35173  3128795155   483456514         6      RNFN  L3L4  224.246055   \n",
       "\n",
       "                y                  ss_id               instance_id        cl  \\\n",
       "34000  148.588357  3010856283_3908286977   3010856283_3908286977_9   SCSL3L4   \n",
       "35159  262.827798  3127048494_4135498856  3127048494_4135498856_10   LSSL3L4   \n",
       "35173  234.605452   3128795155_483456514    3128795155_483456514_6  RNFNL3L4   \n",
       "\n",
       "      series_description  rows  columns  \\\n",
       "34000   Sagittal T2/STIR   320      320   \n",
       "35159           Axial T2   512      512   \n",
       "35173        Sagittal T1   448      448   \n",
       "\n",
       "                                                filename patientposition  \\\n",
       "34000  E:\\data\\RSNA2024\\pngs_256\\3010856283_390828697...             HFS   \n",
       "35159  E:\\data\\RSNA2024\\pngs_256\\3127048494_413549885...             HFS   \n",
       "35173  E:\\data\\RSNA2024\\pngs_256\\3128795155_483456514...             HFS   \n",
       "\n",
       "         x_perc    y_perc  inst_perc  \n",
       "34000  0.524476  0.464339   0.470588  \n",
       "35159  0.536472  0.513336   0.450000  \n",
       "35173  0.500549  0.523673   0.238095  "
      ]
     },
     "execution_count": 21,
     "metadata": {},
     "output_type": "execute_result"
    }
   ],
   "source": [
    "coords_df.sample(3)"
   ]
  },
  {
   "cell_type": "code",
   "execution_count": null,
   "id": "842a0bd0-0f26-4523-8ce9-3f20b3328b07",
   "metadata": {},
   "outputs": [],
   "source": []
  },
  {
   "cell_type": "code",
   "execution_count": 22,
   "id": "26d9d011-fc2e-46e0-81df-ff88b1bf4944",
   "metadata": {},
   "outputs": [
    {
     "data": {
      "text/plain": [
       "((147218, 20), (48692, 18))"
      ]
     },
     "execution_count": 22,
     "metadata": {},
     "output_type": "execute_result"
    }
   ],
   "source": [
    "files_df.shape, coords_df.shape"
   ]
  },
  {
   "cell_type": "code",
   "execution_count": 23,
   "id": "5c3f8d83-d76a-4447-ab8a-5ab33bb77c59",
   "metadata": {},
   "outputs": [],
   "source": [
    "# files_df.cl.unique()"
   ]
  },
  {
   "cell_type": "code",
   "execution_count": 24,
   "id": "2f8833fa-9464-4ed0-9106-c292394aad9f",
   "metadata": {},
   "outputs": [
    {
     "data": {
      "text/plain": [
       "(24546, 24546)"
      ]
     },
     "execution_count": 24,
     "metadata": {},
     "output_type": "execute_result"
    }
   ],
   "source": [
    "coords_df.instance_id.nunique(), coords_df.filename.nunique()"
   ]
  },
  {
   "cell_type": "code",
   "execution_count": 25,
   "id": "443e8317-70ae-4983-a9ec-9daef8e3b156",
   "metadata": {},
   "outputs": [
    {
     "data": {
      "text/plain": [
       "(1, 10, 1.983704065835574)"
      ]
     },
     "execution_count": 25,
     "metadata": {},
     "output_type": "execute_result"
    }
   ],
   "source": [
    "# conditions per file\n",
    "grp = coords_df.groupby('instance_id').condition\n",
    "grp.count().min(), grp.count().max(), grp.count().mean()"
   ]
  },
  {
   "cell_type": "code",
   "execution_count": 26,
   "id": "6253049a-244e-4e6a-baf8-b08605a7be41",
   "metadata": {},
   "outputs": [
    {
     "data": {
      "text/html": [
       "<div>\n",
       "<style scoped>\n",
       "    .dataframe tbody tr th:only-of-type {\n",
       "        vertical-align: middle;\n",
       "    }\n",
       "\n",
       "    .dataframe tbody tr th {\n",
       "        vertical-align: top;\n",
       "    }\n",
       "\n",
       "    .dataframe thead th {\n",
       "        text-align: right;\n",
       "    }\n",
       "</style>\n",
       "<table border=\"1\" class=\"dataframe\">\n",
       "  <thead>\n",
       "    <tr style=\"text-align: right;\">\n",
       "      <th></th>\n",
       "      <th>study_id</th>\n",
       "      <th>series_id</th>\n",
       "      <th>instance</th>\n",
       "      <th>condition</th>\n",
       "      <th>level</th>\n",
       "      <th>x</th>\n",
       "      <th>y</th>\n",
       "      <th>ss_id</th>\n",
       "      <th>instance_id</th>\n",
       "      <th>cl</th>\n",
       "      <th>series_description</th>\n",
       "      <th>rows</th>\n",
       "      <th>columns</th>\n",
       "      <th>filename</th>\n",
       "      <th>patientposition</th>\n",
       "      <th>x_perc</th>\n",
       "      <th>y_perc</th>\n",
       "      <th>inst_perc</th>\n",
       "    </tr>\n",
       "  </thead>\n",
       "  <tbody>\n",
       "    <tr>\n",
       "      <th>28080</th>\n",
       "      <td>2509953825</td>\n",
       "      <td>3594374345</td>\n",
       "      <td>13</td>\n",
       "      <td>LNFN</td>\n",
       "      <td>L1L2</td>\n",
       "      <td>261.574913</td>\n",
       "      <td>169.923345</td>\n",
       "      <td>2509953825_3594374345</td>\n",
       "      <td>2509953825_3594374345_13</td>\n",
       "      <td>LNFNL1L2</td>\n",
       "      <td>Sagittal T1</td>\n",
       "      <td>512</td>\n",
       "      <td>512</td>\n",
       "      <td>E:\\data\\RSNA2024\\pngs_256\\2509953825_359437434...</td>\n",
       "      <td>HFS</td>\n",
       "      <td>0.510889</td>\n",
       "      <td>0.331882</td>\n",
       "      <td>0.666667</td>\n",
       "    </tr>\n",
       "    <tr>\n",
       "      <th>28081</th>\n",
       "      <td>2509953825</td>\n",
       "      <td>3594374345</td>\n",
       "      <td>13</td>\n",
       "      <td>LNFN</td>\n",
       "      <td>L2L3</td>\n",
       "      <td>255.331010</td>\n",
       "      <td>211.846690</td>\n",
       "      <td>2509953825_3594374345</td>\n",
       "      <td>2509953825_3594374345_13</td>\n",
       "      <td>LNFNL2L3</td>\n",
       "      <td>Sagittal T1</td>\n",
       "      <td>512</td>\n",
       "      <td>512</td>\n",
       "      <td>E:\\data\\RSNA2024\\pngs_256\\2509953825_359437434...</td>\n",
       "      <td>HFS</td>\n",
       "      <td>0.498693</td>\n",
       "      <td>0.413763</td>\n",
       "      <td>0.666667</td>\n",
       "    </tr>\n",
       "    <tr>\n",
       "      <th>28082</th>\n",
       "      <td>2509953825</td>\n",
       "      <td>3594374345</td>\n",
       "      <td>13</td>\n",
       "      <td>LNFN</td>\n",
       "      <td>L3L4</td>\n",
       "      <td>252.655052</td>\n",
       "      <td>252.878049</td>\n",
       "      <td>2509953825_3594374345</td>\n",
       "      <td>2509953825_3594374345_13</td>\n",
       "      <td>LNFNL3L4</td>\n",
       "      <td>Sagittal T1</td>\n",
       "      <td>512</td>\n",
       "      <td>512</td>\n",
       "      <td>E:\\data\\RSNA2024\\pngs_256\\2509953825_359437434...</td>\n",
       "      <td>HFS</td>\n",
       "      <td>0.493467</td>\n",
       "      <td>0.493902</td>\n",
       "      <td>0.666667</td>\n",
       "    </tr>\n",
       "    <tr>\n",
       "      <th>28083</th>\n",
       "      <td>2509953825</td>\n",
       "      <td>3594374345</td>\n",
       "      <td>13</td>\n",
       "      <td>LNFN</td>\n",
       "      <td>L4L5</td>\n",
       "      <td>258.006969</td>\n",
       "      <td>294.801394</td>\n",
       "      <td>2509953825_3594374345</td>\n",
       "      <td>2509953825_3594374345_13</td>\n",
       "      <td>LNFNL4L5</td>\n",
       "      <td>Sagittal T1</td>\n",
       "      <td>512</td>\n",
       "      <td>512</td>\n",
       "      <td>E:\\data\\RSNA2024\\pngs_256\\2509953825_359437434...</td>\n",
       "      <td>HFS</td>\n",
       "      <td>0.503920</td>\n",
       "      <td>0.575784</td>\n",
       "      <td>0.666667</td>\n",
       "    </tr>\n",
       "    <tr>\n",
       "      <th>28084</th>\n",
       "      <td>2509953825</td>\n",
       "      <td>3594374345</td>\n",
       "      <td>13</td>\n",
       "      <td>LNFN</td>\n",
       "      <td>L5S1</td>\n",
       "      <td>279.414634</td>\n",
       "      <td>333.156794</td>\n",
       "      <td>2509953825_3594374345</td>\n",
       "      <td>2509953825_3594374345_13</td>\n",
       "      <td>LNFNL5S1</td>\n",
       "      <td>Sagittal T1</td>\n",
       "      <td>512</td>\n",
       "      <td>512</td>\n",
       "      <td>E:\\data\\RSNA2024\\pngs_256\\2509953825_359437434...</td>\n",
       "      <td>HFS</td>\n",
       "      <td>0.545732</td>\n",
       "      <td>0.650697</td>\n",
       "      <td>0.666667</td>\n",
       "    </tr>\n",
       "  </tbody>\n",
       "</table>\n",
       "</div>"
      ],
      "text/plain": [
       "         study_id   series_id  instance condition level           x  \\\n",
       "28080  2509953825  3594374345        13      LNFN  L1L2  261.574913   \n",
       "28081  2509953825  3594374345        13      LNFN  L2L3  255.331010   \n",
       "28082  2509953825  3594374345        13      LNFN  L3L4  252.655052   \n",
       "28083  2509953825  3594374345        13      LNFN  L4L5  258.006969   \n",
       "28084  2509953825  3594374345        13      LNFN  L5S1  279.414634   \n",
       "\n",
       "                y                  ss_id               instance_id        cl  \\\n",
       "28080  169.923345  2509953825_3594374345  2509953825_3594374345_13  LNFNL1L2   \n",
       "28081  211.846690  2509953825_3594374345  2509953825_3594374345_13  LNFNL2L3   \n",
       "28082  252.878049  2509953825_3594374345  2509953825_3594374345_13  LNFNL3L4   \n",
       "28083  294.801394  2509953825_3594374345  2509953825_3594374345_13  LNFNL4L5   \n",
       "28084  333.156794  2509953825_3594374345  2509953825_3594374345_13  LNFNL5S1   \n",
       "\n",
       "      series_description  rows  columns  \\\n",
       "28080        Sagittal T1   512      512   \n",
       "28081        Sagittal T1   512      512   \n",
       "28082        Sagittal T1   512      512   \n",
       "28083        Sagittal T1   512      512   \n",
       "28084        Sagittal T1   512      512   \n",
       "\n",
       "                                                filename patientposition  \\\n",
       "28080  E:\\data\\RSNA2024\\pngs_256\\2509953825_359437434...             HFS   \n",
       "28081  E:\\data\\RSNA2024\\pngs_256\\2509953825_359437434...             HFS   \n",
       "28082  E:\\data\\RSNA2024\\pngs_256\\2509953825_359437434...             HFS   \n",
       "28083  E:\\data\\RSNA2024\\pngs_256\\2509953825_359437434...             HFS   \n",
       "28084  E:\\data\\RSNA2024\\pngs_256\\2509953825_359437434...             HFS   \n",
       "\n",
       "         x_perc    y_perc  inst_perc  \n",
       "28080  0.510889  0.331882   0.666667  \n",
       "28081  0.498693  0.413763   0.666667  \n",
       "28082  0.493467  0.493902   0.666667  \n",
       "28083  0.503920  0.575784   0.666667  \n",
       "28084  0.545732  0.650697   0.666667  "
      ]
     },
     "execution_count": 26,
     "metadata": {},
     "output_type": "execute_result"
    }
   ],
   "source": [
    "inst_id = '2509953825_3594374345_13'\n",
    "\n",
    "coords_df[coords_df['instance_id'] == inst_id]"
   ]
  },
  {
   "cell_type": "code",
   "execution_count": 27,
   "id": "b0d4358d-22c6-4588-a2d2-059233c68f31",
   "metadata": {},
   "outputs": [
    {
     "data": {
      "text/plain": [
       "['LNFNL1L2', 'LNFNL2L3', 'LNFNL3L4', 'LNFNL4L5', 'LNFNL5S1']"
      ]
     },
     "execution_count": 27,
     "metadata": {},
     "output_type": "execute_result"
    }
   ],
   "source": [
    "coords_df[coords_df['instance_id'] == inst_id].cl.to_list()"
   ]
  },
  {
   "cell_type": "code",
   "execution_count": 28,
   "id": "f92de686-ed67-4991-a211-42f256a93863",
   "metadata": {
    "scrolled": true
   },
   "outputs": [],
   "source": [
    "# list(coords_df.filename.unique())"
   ]
  },
  {
   "cell_type": "code",
   "execution_count": null,
   "id": "5a68144d-b40f-4049-8a81-c0887e57b01c",
   "metadata": {},
   "outputs": [],
   "source": []
  },
  {
   "cell_type": "markdown",
   "id": "78a7156d-257e-4f21-b5d3-51d7589d194b",
   "metadata": {},
   "source": [
    "### Dataset"
   ]
  },
  {
   "cell_type": "code",
   "execution_count": 29,
   "id": "6d105ade-e285-42ed-b856-f3431f9e748a",
   "metadata": {},
   "outputs": [],
   "source": [
    "from dataset import rsna_inf_dataset"
   ]
  },
  {
   "cell_type": "code",
   "execution_count": 30,
   "id": "c1b4b1f6-5b77-467a-abf0-c46c913990ae",
   "metadata": {},
   "outputs": [
    {
     "name": "stdout",
     "output_type": "stream",
     "text": [
      "24546\n",
      "(3, 256, 256)\n",
      "float32 tensor([0., 0., 1., 0., 0., 0.])\n"
     ]
    }
   ],
   "source": [
    "# test healthy\n",
    "dset = rsna_inf_dataset(files_df[files_df.healthy != True], coords_df, CFG)\n",
    "\n",
    "print(dset.__len__())\n",
    "\n",
    "img, ids, label, = dset.__getitem__(2)\n",
    "print(img.shape)\n",
    "print(img.dtype, label)"
   ]
  },
  {
   "cell_type": "code",
   "execution_count": 31,
   "id": "253019be-6878-4b03-b1a0-339c25658579",
   "metadata": {
    "scrolled": true
   },
   "outputs": [
    {
     "name": "stdout",
     "output_type": "stream",
     "text": [
      "147218\n",
      "(3, 256, 256)\n",
      "float32 tensor([0., 0., 0., 0., 0., 1.])\n"
     ]
    }
   ],
   "source": [
    "# test unhealthy\n",
    "dset = rsna_inf_dataset(files_df, coords_df, CFG)\n",
    "\n",
    "print(dset.__len__())\n",
    "\n",
    "img, ids, label, = dset.__getitem__(2)\n",
    "print(img.shape)\n",
    "print(img.dtype, label)"
   ]
  },
  {
   "cell_type": "code",
   "execution_count": 32,
   "id": "4dc563cc-53d1-4488-9746-2961155d5fa0",
   "metadata": {},
   "outputs": [
    {
     "data": {
      "text/plain": [
       "(26.961014, 31.78039, 0.0, 250.0)"
      ]
     },
     "execution_count": 32,
     "metadata": {},
     "output_type": "execute_result"
    }
   ],
   "source": [
    "img.mean(), img.std(), img.min(), img.max()"
   ]
  },
  {
   "cell_type": "code",
   "execution_count": 33,
   "id": "9318e781-203f-4d53-a613-a9995cc324ba",
   "metadata": {},
   "outputs": [
    {
     "data": {
      "text/plain": [
       "<matplotlib.image.AxesImage at 0x2e6040bd870>"
      ]
     },
     "execution_count": 33,
     "metadata": {},
     "output_type": "execute_result"
    },
    {
     "data": {
      "image/png": "[encoded data removed]",
      "text/plain": [
       "<Figure size 640x480 with 1 Axes>"
      ]
     },
     "metadata": {},
     "output_type": "display_data"
    }
   ],
   "source": [
    "plt.imshow(img[0], cmap='gray')"
   ]
  },
  {
   "cell_type": "code",
   "execution_count": null,
   "id": "4eec7d6b-ccd5-46d2-aaf5-f46fb7d957c9",
   "metadata": {},
   "outputs": [],
   "source": []
  },
  {
   "cell_type": "markdown",
   "id": "446e8786-56df-4a29-8074-ba222f7af068",
   "metadata": {},
   "source": [
    "### Datamodule"
   ]
  },
  {
   "cell_type": "code",
   "execution_count": 34,
   "id": "b3166903-b2b7-40b1-981d-2d1e3ff4aa84",
   "metadata": {},
   "outputs": [],
   "source": [
    "from dataset import rsna_inf_dataset"
   ]
  },
  {
   "cell_type": "code",
   "execution_count": 35,
   "id": "50e79488-ab65-4a65-9a8b-db6a20df6b20",
   "metadata": {},
   "outputs": [],
   "source": [
    "class inference_datamodule(pl.LightningDataModule):\n",
    "    def __init__(self, files_df, coords_df, cfg=CFG, tfs=None):\n",
    "        super().__init__()\n",
    "        \n",
    "        self.files_df = files_df\n",
    "        self.coords_df = coords_df\n",
    "        \n",
    "        self.bs = cfg.BATCH_SIZE\n",
    "        self.tfs = tfs\n",
    "        self.cfg = cfg\n",
    "        \n",
    "        self.num_workers = cfg.num_workers\n",
    "        \n",
    "    def predict_dataloader(self):\n",
    "        ds = rsna_inf_dataset(self.files_df, self.coords_df, self.cfg, tfs=self.tfs, mode='train')\n",
    "        \n",
    "        train_loader = torch.utils.data.DataLoader(\n",
    "            ds,\n",
    "            batch_size=self.bs,\n",
    "            pin_memory=False,\n",
    "            drop_last=False,\n",
    "            # shuffle=True,\n",
    "            persistent_workers=True,\n",
    "            num_workers=self.num_workers,\n",
    "        )\n",
    "        \n",
    "        return train_loader"
   ]
  },
  {
   "cell_type": "code",
   "execution_count": 36,
   "id": "f5e6f575-3a3f-41c4-947f-0ae9496981a2",
   "metadata": {},
   "outputs": [
    {
     "data": {
      "text/plain": [
       "(torch.Size([16, 3, 256, 256]), 16, torch.float32)"
      ]
     },
     "execution_count": 36,
     "metadata": {},
     "output_type": "execute_result"
    }
   ],
   "source": [
    "t_df = coords_df[:-100]\n",
    "\n",
    "\n",
    "CFG2 = CFG()\n",
    "# CFG2 = copy.deepcopy(CFG)\n",
    "CFG2.BATCH_SIZE = 16\n",
    "CFG2.num_workers = 2\n",
    "\n",
    "dm = inference_datamodule(files_df, t_df, cfg=CFG2)\n",
    "\n",
    "x, ids, y = next(iter(dm.predict_dataloader()))\n",
    "x.shape, len(y), x.dtype,"
   ]
  },
  {
   "cell_type": "code",
   "execution_count": 37,
   "id": "ba64562b-c9c7-4586-b3d0-6bb8122045bc",
   "metadata": {},
   "outputs": [
    {
     "data": {
      "text/plain": [
       "tensor([0., 0., 0., 0., 0., 1.])"
      ]
     },
     "execution_count": 37,
     "metadata": {},
     "output_type": "execute_result"
    }
   ],
   "source": [
    "y[0]"
   ]
  },
  {
   "cell_type": "code",
   "execution_count": 38,
   "id": "1fddf393-1256-4a7e-a626-71892e1d6eb2",
   "metadata": {},
   "outputs": [
    {
     "data": {
      "text/plain": [
       "<matplotlib.image.AxesImage at 0x2e604197100>"
      ]
     },
     "execution_count": 38,
     "metadata": {},
     "output_type": "execute_result"
    },
    {
     "data": {
      "image/png": "[encoded data removed]",
      "text/plain": [
       "<Figure size 640x480 with 1 Axes>"
      ]
     },
     "metadata": {},
     "output_type": "display_data"
    }
   ],
   "source": [
    "plt.imshow(x[10][0], cmap='gray')"
   ]
  },
  {
   "cell_type": "markdown",
   "id": "41147b95-2e64-48b3-9c62-81c286dbe24a",
   "metadata": {},
   "source": [
    "#### Check Transforms"
   ]
  },
  {
   "cell_type": "code",
   "execution_count": 39,
   "id": "da078b9b-c968-42a0-b439-dfb6c92f3d35",
   "metadata": {},
   "outputs": [],
   "source": [
    "image_size = CFG.image_size\n",
    "\n",
    "img_mean = (0.485, 0.456, 0.406)\n",
    "img_std = (0.229, 0.224, 0.225)\n",
    "\n",
    "train_tfs = A.Compose([\n",
    "    # A.HorizontalFlip(p=0.5),\n",
    "    A.Resize(image_size, image_size),\n",
    "    A.CoarseDropout(max_height=int(image_size * 0.2), max_width=int(image_size * 0.2), max_holes=4, p=0.7),\n",
    "    A.Normalize(mean=img_mean, std=img_std)\n",
    "])\n",
    "\n",
    "val_tfs = A.Compose([\n",
    "    A.Resize(image_size, image_size),\n",
    "    A.Normalize(mean=img_mean, std=img_std)\n",
    "])"
   ]
  },
  {
   "cell_type": "code",
   "execution_count": 40,
   "id": "5fab6bbf-6352-46b1-8b52-da81ac473690",
   "metadata": {},
   "outputs": [
    {
     "data": {
      "text/plain": [
       "(torch.Size([16, 3, 256, 256]), torch.float32)"
      ]
     },
     "execution_count": 40,
     "metadata": {},
     "output_type": "execute_result"
    }
   ],
   "source": [
    "dm = inference_datamodule(files_df, t_df, cfg=CFG2, tfs=val_tfs)\n",
    "# dm = wav_datamodule(t_df, v_df, cfg=CFG, train_tfs=train_tfs, val_tfs=val_tfs)\n",
    "\n",
    "x, ids, y = next(iter(dm.predict_dataloader()))\n",
    "x.shape, x.dtype,"
   ]
  },
  {
   "cell_type": "code",
   "execution_count": 41,
   "id": "ce905601-a756-4cea-a767-f60490005ff4",
   "metadata": {},
   "outputs": [
    {
     "data": {
      "text/plain": [
       "(tensor([0., 0., 0., 0., 0., 1.]), '4290709089_4237840455_1')"
      ]
     },
     "execution_count": 41,
     "metadata": {},
     "output_type": "execute_result"
    }
   ],
   "source": [
    "y[0], ids[0]"
   ]
  },
  {
   "cell_type": "code",
   "execution_count": 42,
   "id": "35f0cc7b-fc84-444e-bc1b-5f1375903d18",
   "metadata": {},
   "outputs": [
    {
     "data": {
      "text/plain": [
       "<matplotlib.image.AxesImage at 0x2e6041973a0>"
      ]
     },
     "execution_count": 42,
     "metadata": {},
     "output_type": "execute_result"
    },
    {
     "data": {
      "image/png": "[encoded data removed]",
      "text/plain": [
       "<Figure size 640x480 with 1 Axes>"
      ]
     },
     "metadata": {},
     "output_type": "display_data"
    }
   ],
   "source": [
    "plt.imshow(x[2][0], cmap='gray')"
   ]
  },
  {
   "cell_type": "code",
   "execution_count": 43,
   "id": "3c8affa3-48c4-4ddd-9aa2-9ffba1401b41",
   "metadata": {},
   "outputs": [],
   "source": [
    "del dm"
   ]
  },
  {
   "cell_type": "code",
   "execution_count": null,
   "id": "5b3ade1d-8e76-4a39-9f44-0cefaa70c4aa",
   "metadata": {},
   "outputs": [],
   "source": []
  },
  {
   "cell_type": "markdown",
   "id": "2de4ef0b-82bb-4961-a8f1-c5359964157a",
   "metadata": {},
   "source": [
    "### Loss function"
   ]
  },
  {
   "cell_type": "code",
   "execution_count": 44,
   "id": "a3b6c51e-98d7-4141-a192-c2c11bdffdf4",
   "metadata": {},
   "outputs": [],
   "source": [
    "class FocalLossBCE(torch.nn.Module):\n",
    "    def __init__(\n",
    "            self,\n",
    "            alpha: float = 0.25,\n",
    "            gamma: float = 2,\n",
    "            reduction: str = \"mean\",\n",
    "            bce_weight: float = 1.0,\n",
    "            focal_weight: float = 1.0,\n",
    "    ):\n",
    "        super().__init__()\n",
    "        self.alpha = alpha\n",
    "        self.gamma = gamma\n",
    "        self.reduction = reduction\n",
    "        self.bce = torch.nn.BCEWithLogitsLoss(reduction=reduction)\n",
    "        self.bce_weight = bce_weight\n",
    "        self.focal_weight = focal_weight\n",
    "\n",
    "    def forward(self, logits, targets):\n",
    "        focall_loss = torchvision.ops.focal_loss.sigmoid_focal_loss(\n",
    "            inputs=logits,\n",
    "            targets=targets,\n",
    "            alpha=self.alpha,\n",
    "            gamma=self.gamma,\n",
    "            reduction=self.reduction,\n",
    "        )\n",
    "        bce_loss = self.bce(logits, targets)\n",
    "        return self.bce_weight * bce_loss + self.focal_weight * focall_loss"
   ]
  },
  {
   "cell_type": "code",
   "execution_count": 45,
   "id": "0e3b441f-2071-41fa-8ca2-cb257616dc9a",
   "metadata": {},
   "outputs": [],
   "source": [
    "class GeM(torch.nn.Module):\n",
    "    def __init__(self, p=3, eps=1e-6):\n",
    "        super(GeM, self).__init__()\n",
    "        self.p = torch.nn.Parameter(torch.ones(1) * p)\n",
    "        self.eps = eps\n",
    "\n",
    "    def forward(self, x):\n",
    "        bs, ch, h, w = x.shape\n",
    "        x = torch.nn.functional.avg_pool2d(x.clamp(min=self.eps).pow(self.p), (x.size(-2), x.size(-1))).pow(\n",
    "            1.0 / self.p)\n",
    "        x = x.view(bs, ch)\n",
    "        return x"
   ]
  },
  {
   "cell_type": "code",
   "execution_count": null,
   "id": "f504f2e3-d229-43b7-899f-8190f966ac8b",
   "metadata": {},
   "outputs": [],
   "source": []
  },
  {
   "cell_type": "markdown",
   "id": "d0803313-4e79-466d-bf15-2803f65f206e",
   "metadata": {},
   "source": [
    "### Model"
   ]
  },
  {
   "cell_type": "code",
   "execution_count": 46,
   "id": "1d3a5905-cab9-474e-979d-386a990d266a",
   "metadata": {},
   "outputs": [
    {
     "data": {
      "text/plain": [
       "([64, 256, 512, 1536, 3072], 5440)"
      ]
     },
     "execution_count": 46,
     "metadata": {},
     "output_type": "execute_result"
    }
   ],
   "source": [
    "backbone = 'eca_nfnet_l1'\n",
    "# backbone = 'efficientnet_b4'\n",
    "out_indices = (3, 4)\n",
    "\n",
    "model = timm.create_model(\n",
    "    backbone,\n",
    "    features_only=True,\n",
    "    pretrained=False,\n",
    "    in_chans=3,\n",
    "    num_classes=dset.num_classes,\n",
    "    # out_indices=out_indices,\n",
    "    )\n",
    "\n",
    "model.feature_info.channels(), np.sum(model.feature_info.channels())"
   ]
  },
  {
   "cell_type": "code",
   "execution_count": 47,
   "id": "a4fdc762-f59d-411c-82e5-b2634f480c95",
   "metadata": {},
   "outputs": [],
   "source": [
    "data_config = timm.data.resolve_model_data_config(model)"
   ]
  },
  {
   "cell_type": "code",
   "execution_count": 48,
   "id": "92d41be5-5304-4922-89e7-ca0a72ce9cc1",
   "metadata": {},
   "outputs": [
    {
     "data": {
      "text/plain": [
       "{'input_size': (3, 256, 256),\n",
       " 'interpolation': 'bicubic',\n",
       " 'mean': (0.485, 0.456, 0.406),\n",
       " 'std': (0.229, 0.224, 0.225),\n",
       " 'crop_pct': 0.9,\n",
       " 'crop_mode': 'center'}"
      ]
     },
     "execution_count": 48,
     "metadata": {},
     "output_type": "execute_result"
    }
   ],
   "source": [
    "data_config"
   ]
  },
  {
   "cell_type": "code",
   "execution_count": 49,
   "id": "da957e7e-5ad2-479b-b5a7-9f3556ca68ea",
   "metadata": {},
   "outputs": [],
   "source": [
    "def mixup(data, targets, alpha, device):\n",
    "    indices = torch.randperm(data.size(0))\n",
    "    data2 = data[indices]\n",
    "    targets2 = targets[indices]\n",
    "\n",
    "    lam = torch.FloatTensor([np.random.beta(alpha, alpha)]).to(device)\n",
    "    data = data * lam + data2 * (1 - lam)\n",
    "    \n",
    "    targets = targets * lam + targets2 * (1 - lam)\n",
    "    return data, targets\n",
    "\n",
    "    # data += data2\n",
    "    # targets += targets2\n",
    "    # return data, targets.clip(max=1)"
   ]
  },
  {
   "cell_type": "code",
   "execution_count": 50,
   "id": "1b8ea5f5-46ee-4c57-b3bf-6b0ce988b638",
   "metadata": {},
   "outputs": [],
   "source": [
    "class GeMModel(pl.LightningModule):\n",
    "    def __init__(self, cfg = CFG, pretrained = True):\n",
    "        super().__init__()\n",
    "\n",
    "        self.cfg = cfg\n",
    "\n",
    "        self.dev = cfg.device\n",
    "        \n",
    "        out_indices = (3, 4)\n",
    "\n",
    "        self.bottleneck_dim = cfg.bottleneck_dim\n",
    "\n",
    "        self.criterion = FocalLossBCE()\n",
    "\n",
    "        wrapped_acc = ClasswiseWrapper(MultilabelAccuracy(num_labels=self.cfg.N_LABELS, average='none'), labels=classes, prefix='multiacc/')\n",
    "        wrapped_f1 = ClasswiseWrapper(MultilabelF1Score(num_labels=self.cfg.N_LABELS, average='none'), labels=classes, prefix='multif1/')\n",
    "        \n",
    "        metrics = MetricCollection({\n",
    "            # 'macc': MultilabelAccuracy(num_labels=self.cfg.N_LABELS),\n",
    "            'none_acc': wrapped_acc,\n",
    "            'mpr': MultilabelPrecision(num_labels=self.cfg.N_LABELS),\n",
    "            'mrec': MultilabelRecall(num_labels=self.cfg.N_LABELS),\n",
    "            'f1': MultilabelF1Score(num_labels=self.cfg.N_LABELS),\n",
    "            'none_f1': wrapped_f1,\n",
    "        })\n",
    "\n",
    "        self.train_metrics = metrics.clone(prefix='train/')\n",
    "        self.valid_metrics = metrics.clone(prefix='val/')\n",
    "        \n",
    "        # self.model_name = self.cfg.model_name\n",
    "        print(self.cfg.model_name)\n",
    "        \n",
    "        self.backbone = timm.create_model(\n",
    "            self.cfg.model_name, \n",
    "            features_only=True,\n",
    "            pretrained=pretrained,\n",
    "            in_chans=3,\n",
    "            num_classes=self.cfg.N_LABELS,\n",
    "            out_indices=out_indices,\n",
    "        )\n",
    "\n",
    "        feature_dims = self.backbone.feature_info.channels()\n",
    "\n",
    "        self.global_pools = torch.nn.ModuleList([GeM() for _ in out_indices])\n",
    "        self.mid_features = np.sum(feature_dims)\n",
    "        \n",
    "        self.neck = torch.nn.BatchNorm1d(self.mid_features)\n",
    "        self.bottleneck = torch.nn.Linear(self.mid_features, self.bottleneck_dim)\n",
    "        self.bottleneck_bn = torch.nn.BatchNorm1d(self.bottleneck_dim)\n",
    "        self.head = torch.nn.Linear(self.bottleneck_dim, self.cfg.N_LABELS)\n",
    "\n",
    "    def pre_forward(self, x):\n",
    "        ms = self.backbone(x)\n",
    "        \n",
    "        h = torch.cat([global_pool(m) for m, global_pool in zip(ms, self.global_pools)], dim=1)\n",
    "        x = self.neck(h)\n",
    "        x = self.bottleneck(x)\n",
    "        x = self.bottleneck_bn(x)\n",
    "\n",
    "        return x\n",
    "    \n",
    "    def forward(self, x):\n",
    "        x = self.pre_forward(x)\n",
    "\n",
    "        x = self.head(x)\n",
    "        \n",
    "        return x\n",
    "        \n",
    "    def configure_optimizers(self):\n",
    "        optimizer = torch.optim.Adam(model.parameters(), lr=self.cfg.LEARNING_RATE, weight_decay=CFG.weight_decay)\n",
    "        \n",
    "        if self.cfg.USE_SCHD:\n",
    "            scheduler_cosine = torch.optim.lr_scheduler.CosineAnnealingLR(optimizer, self.cfg.COS_EPOCHS)\n",
    "            scheduler_warmup = GradualWarmupSchedulerV2(optimizer, multiplier=10, total_epoch=self.cfg.WARM_EPOCHS, after_scheduler=scheduler_cosine)\n",
    "\n",
    "            return [optimizer], [scheduler_warmup]\n",
    "        else:\n",
    "            # LRscheduler = torch.optim.lr_scheduler.StepLR(optimizer, step_size=10, gamma=0.2)\n",
    "            \n",
    "            # return [optimizer], [LRscheduler]\n",
    "            return optimizer\n",
    "\n",
    "    def step(self, batch, batch_idx, mode='train'):\n",
    "        x, y = batch\n",
    "\n",
    "        if self.cfg.MIXUP and mode == 'train':\n",
    "            x, y = mixup(x, y, 0.5, self.cfg.device)\n",
    "        \n",
    "        preds = self(x)\n",
    "        \n",
    "        loss = self.criterion(preds, y)\n",
    "        \n",
    "        if mode == 'train':\n",
    "            output = self.train_metrics(preds, y)\n",
    "            self.log_dict(output)\n",
    "        else:\n",
    "            self.valid_metrics.update(preds, y)\n",
    "\n",
    "        self.log(f'{mode}/loss', loss, on_step=True, on_epoch=True)\n",
    "\n",
    "        return loss\n",
    "    \n",
    "    def training_step(self, batch, batch_idx):\n",
    "        loss = self.step(batch, batch_idx, mode='train')\n",
    "        \n",
    "        return loss\n",
    "        \n",
    "    def validation_step(self, batch, batch_idx):\n",
    "        loss = self.step(batch, batch_idx, mode='val')\n",
    "    \n",
    "        return loss\n",
    "    \n",
    "    def on_train_epoch_end(self):\n",
    "        self.train_metrics.reset()\n",
    "\n",
    "    def on_validation_epoch_end(self):\n",
    "        output = self.valid_metrics.compute()\n",
    "        self.log_dict(output)\n",
    "\n",
    "        self.valid_metrics.reset()"
   ]
  },
  {
   "cell_type": "code",
   "execution_count": 51,
   "id": "54ad0d97-ff79-4324-b5c7-1bb502d4380d",
   "metadata": {},
   "outputs": [],
   "source": [
    "class featureModel(pl.LightningModule):\n",
    "    def __init__(self, model):\n",
    "        super().__init__()\n",
    "\n",
    "        self.model = model\n",
    "\n",
    "    def forward(self, x):\n",
    "        embeds = self.model.pre_forward(x)\n",
    "        preds = self.model.head(embeds)\n",
    "        \n",
    "        return preds, embeds\n",
    "\n",
    "    def predict_step(self, batch):\n",
    "        imgs, ids, targets = batch\n",
    "\n",
    "        preds, embeds = self(imgs)\n",
    "\n",
    "        t_df = pd.DataFrame(targets.detach().cpu().numpy(), columns=CFG.classes)\n",
    "        p_df = pd.DataFrame(preds.sigmoid().detach().cpu().numpy(), columns=pred_labels)\n",
    "\n",
    "        results_df = pd.DataFrame(ids, columns = ['ids'])\n",
    "        results_df = pd.concat([results_df, t_df, p_df], axis=1)\n",
    "    \n",
    "        return embeds.detach().cpu().numpy(), results_df, ids"
   ]
  },
  {
   "cell_type": "code",
   "execution_count": 52,
   "id": "1ae00f21-8402-4946-a1b9-8d9202727111",
   "metadata": {},
   "outputs": [
    {
     "name": "stdout",
     "output_type": "stream",
     "text": [
      "eca_nfnet_l0\n"
     ]
    }
   ],
   "source": [
    "model = GeMModel(CFG)\n",
    "fmodel = featureModel(model)"
   ]
  },
  {
   "cell_type": "code",
   "execution_count": 53,
   "id": "4257c339-5ccd-45b1-85e5-1b62ba205d12",
   "metadata": {
    "scrolled": true
   },
   "outputs": [],
   "source": [
    "preds, results, ids = fmodel.predict_step((x, ids, y))"
   ]
  },
  {
   "cell_type": "code",
   "execution_count": 54,
   "id": "7128bd97-3611-48cc-a3e6-23ac0770e7c5",
   "metadata": {},
   "outputs": [
    {
     "data": {
      "text/plain": [
       "(16, 128)"
      ]
     },
     "execution_count": 54,
     "metadata": {},
     "output_type": "execute_result"
    }
   ],
   "source": [
    "preds.shape"
   ]
  },
  {
   "cell_type": "code",
   "execution_count": 55,
   "id": "e0d02140-6769-4fce-9fae-f185974de881",
   "metadata": {},
   "outputs": [
    {
     "data": {
      "text/plain": [
       "('4290709089_4237840455_1',\n",
       " '4290709089_4237840455_2',\n",
       " '4290709089_4237840455_3',\n",
       " '4290709089_4237840455_4')"
      ]
     },
     "execution_count": 55,
     "metadata": {},
     "output_type": "execute_result"
    }
   ],
   "source": [
    "ids[:4]"
   ]
  },
  {
   "cell_type": "code",
   "execution_count": 56,
   "id": "62ca1001-b481-47ce-b2dc-4cc23c505af3",
   "metadata": {},
   "outputs": [
    {
     "data": {
      "text/plain": [
       "array([ 1.0200350e+00, -9.6459186e-01, -8.3274849e-02,  7.7030218e-01,\n",
       "       -5.2879059e-01,  9.6288043e-01, -1.5586513e-01,  1.0737768e+00,\n",
       "       -4.7684649e-01, -1.2420335e+00,  1.9431863e+00,  1.0981355e-03,\n",
       "       -2.1268767e-01, -6.1822958e-02,  6.2165838e-01, -1.5985576e+00,\n",
       "       -6.1289090e-01,  3.3562517e-01, -2.2777735e-01,  1.6808985e+00,\n",
       "        9.8588452e-02, -1.0852176e-01, -2.5504677e+00,  1.6895138e+00,\n",
       "        1.7032417e+00, -1.2421682e+00, -9.8644936e-01, -1.5731217e-01,\n",
       "        6.6077667e-01, -9.9432349e-01,  6.9484466e-01, -1.1134863e+00,\n",
       "        7.8238331e-02, -1.7709203e+00,  1.2937211e+00, -8.5382766e-01,\n",
       "       -2.6732221e-01,  9.7778663e-02,  2.1377139e+00, -9.1627896e-01,\n",
       "       -8.3392555e-01,  4.8949254e-01,  1.5441823e+00, -6.8236850e-02,\n",
       "        6.1213720e-01,  1.4527550e+00,  8.2922351e-01, -1.0924309e+00,\n",
       "       -6.8248034e-01,  2.8785148e-01,  2.4280567e-02, -1.5807959e-01,\n",
       "        1.7267407e-01, -7.3858872e-02, -2.6713556e-01,  1.0932944e+00,\n",
       "       -1.8559313e+00,  2.8610772e-01, -4.4433942e-01, -5.6667469e-02,\n",
       "       -2.7976170e-01, -1.1645467e+00,  4.4164461e-01,  2.3447604e-01,\n",
       "        9.9515444e-01, -1.0406486e+00,  6.1152947e-01, -7.3112464e-01,\n",
       "       -1.3580810e+00, -8.6334324e-01,  4.4709247e-01, -1.4139556e+00,\n",
       "       -3.0385411e-01,  7.7264172e-01,  1.3669899e+00,  1.3350602e+00,\n",
       "        5.4402357e-01,  1.1877273e+00, -5.0530195e-01,  5.6070834e-01,\n",
       "       -1.1236506e+00, -4.8494163e-01,  1.4430754e-01,  8.7762493e-01,\n",
       "        2.1020539e+00, -3.6203079e-02, -1.9129816e-01, -4.2462477e-01,\n",
       "        1.1380534e+00,  8.4514457e-01, -1.3023626e+00, -4.0952554e-01,\n",
       "        7.4561551e-02,  1.4537127e+00,  6.8883014e-01,  3.3531493e-01,\n",
       "        1.7182611e+00, -7.9243273e-01, -9.0503353e-01, -1.1938502e+00,\n",
       "       -6.7149407e-01, -4.0273687e-01,  3.3212584e-02,  1.3217627e+00,\n",
       "        3.0994359e-03, -3.1649560e-01,  7.1183360e-01, -1.0671480e+00,\n",
       "        1.9060265e+00,  5.4060910e-02,  1.9800569e-01, -2.1460371e+00,\n",
       "       -1.6938341e-01,  1.9140719e+00,  8.8827407e-01, -9.3748957e-01,\n",
       "       -1.0069373e+00,  8.0859518e-01, -4.1166258e-01,  2.5062671e+00,\n",
       "       -9.3095225e-01, -1.7540812e+00, -1.3713986e+00, -1.0495255e+00,\n",
       "       -1.1188991e+00,  6.8299490e-01,  6.4613861e-01, -1.8977103e+00],\n",
       "      dtype=float32)"
      ]
     },
     "execution_count": 56,
     "metadata": {},
     "output_type": "execute_result"
    }
   ],
   "source": [
    "preds[0]"
   ]
  },
  {
   "cell_type": "code",
   "execution_count": 57,
   "id": "2f6ccd4f-e42a-4f2f-8b2b-b0c0b5d1757f",
   "metadata": {},
   "outputs": [
    {
     "data": {
      "text/plain": [
       "(16, 13)"
      ]
     },
     "execution_count": 57,
     "metadata": {},
     "output_type": "execute_result"
    }
   ],
   "source": [
    "results.shape"
   ]
  },
  {
   "cell_type": "code",
   "execution_count": 58,
   "id": "d5c6d2d9-b86e-40f5-9529-2e1ab8a8c0b3",
   "metadata": {},
   "outputs": [
    {
     "data": {
      "text/html": [
       "<div>\n",
       "<style scoped>\n",
       "    .dataframe tbody tr th:only-of-type {\n",
       "        vertical-align: middle;\n",
       "    }\n",
       "\n",
       "    .dataframe tbody tr th {\n",
       "        vertical-align: top;\n",
       "    }\n",
       "\n",
       "    .dataframe thead th {\n",
       "        text-align: right;\n",
       "    }\n",
       "</style>\n",
       "<table border=\"1\" class=\"dataframe\">\n",
       "  <thead>\n",
       "    <tr style=\"text-align: right;\">\n",
       "      <th></th>\n",
       "      <th>ids</th>\n",
       "      <th>SCS</th>\n",
       "      <th>RNFN</th>\n",
       "      <th>LNFN</th>\n",
       "      <th>LSS</th>\n",
       "      <th>RSS</th>\n",
       "      <th>H</th>\n",
       "      <th>pred_SCS</th>\n",
       "      <th>pred_RNFN</th>\n",
       "      <th>pred_LNFN</th>\n",
       "      <th>pred_LSS</th>\n",
       "      <th>pred_RSS</th>\n",
       "      <th>pred_H</th>\n",
       "    </tr>\n",
       "  </thead>\n",
       "  <tbody>\n",
       "    <tr>\n",
       "      <th>0</th>\n",
       "      <td>4290709089_4237840455_1</td>\n",
       "      <td>0.0</td>\n",
       "      <td>0.0</td>\n",
       "      <td>0.0</td>\n",
       "      <td>0.0</td>\n",
       "      <td>0.0</td>\n",
       "      <td>1.0</td>\n",
       "      <td>0.395013</td>\n",
       "      <td>0.549389</td>\n",
       "      <td>0.595243</td>\n",
       "      <td>0.560811</td>\n",
       "      <td>0.744533</td>\n",
       "      <td>0.619719</td>\n",
       "    </tr>\n",
       "    <tr>\n",
       "      <th>1</th>\n",
       "      <td>4290709089_4237840455_2</td>\n",
       "      <td>0.0</td>\n",
       "      <td>0.0</td>\n",
       "      <td>0.0</td>\n",
       "      <td>0.0</td>\n",
       "      <td>0.0</td>\n",
       "      <td>1.0</td>\n",
       "      <td>0.489004</td>\n",
       "      <td>0.367203</td>\n",
       "      <td>0.445105</td>\n",
       "      <td>0.303531</td>\n",
       "      <td>0.668520</td>\n",
       "      <td>0.689909</td>\n",
       "    </tr>\n",
       "    <tr>\n",
       "      <th>2</th>\n",
       "      <td>4290709089_4237840455_3</td>\n",
       "      <td>0.0</td>\n",
       "      <td>0.0</td>\n",
       "      <td>0.0</td>\n",
       "      <td>0.0</td>\n",
       "      <td>0.0</td>\n",
       "      <td>1.0</td>\n",
       "      <td>0.517269</td>\n",
       "      <td>0.322314</td>\n",
       "      <td>0.785280</td>\n",
       "      <td>0.286306</td>\n",
       "      <td>0.360463</td>\n",
       "      <td>0.264345</td>\n",
       "    </tr>\n",
       "    <tr>\n",
       "      <th>3</th>\n",
       "      <td>4290709089_4237840455_4</td>\n",
       "      <td>0.0</td>\n",
       "      <td>0.0</td>\n",
       "      <td>0.0</td>\n",
       "      <td>0.0</td>\n",
       "      <td>0.0</td>\n",
       "      <td>0.0</td>\n",
       "      <td>0.631223</td>\n",
       "      <td>0.454491</td>\n",
       "      <td>0.582664</td>\n",
       "      <td>0.510748</td>\n",
       "      <td>0.459251</td>\n",
       "      <td>0.259527</td>\n",
       "    </tr>\n",
       "    <tr>\n",
       "      <th>4</th>\n",
       "      <td>4290709089_4237840455_5</td>\n",
       "      <td>0.0</td>\n",
       "      <td>0.0</td>\n",
       "      <td>0.0</td>\n",
       "      <td>0.0</td>\n",
       "      <td>0.0</td>\n",
       "      <td>0.0</td>\n",
       "      <td>0.772737</td>\n",
       "      <td>0.432507</td>\n",
       "      <td>0.324182</td>\n",
       "      <td>0.515903</td>\n",
       "      <td>0.556065</td>\n",
       "      <td>0.558532</td>\n",
       "    </tr>\n",
       "    <tr>\n",
       "      <th>5</th>\n",
       "      <td>4290709089_4237840455_6</td>\n",
       "      <td>0.0</td>\n",
       "      <td>0.0</td>\n",
       "      <td>0.0</td>\n",
       "      <td>0.0</td>\n",
       "      <td>0.0</td>\n",
       "      <td>1.0</td>\n",
       "      <td>0.456793</td>\n",
       "      <td>0.566512</td>\n",
       "      <td>0.369472</td>\n",
       "      <td>0.554685</td>\n",
       "      <td>0.712048</td>\n",
       "      <td>0.505798</td>\n",
       "    </tr>\n",
       "    <tr>\n",
       "      <th>6</th>\n",
       "      <td>4290709089_4237840455_7</td>\n",
       "      <td>0.0</td>\n",
       "      <td>0.0</td>\n",
       "      <td>0.0</td>\n",
       "      <td>0.0</td>\n",
       "      <td>0.0</td>\n",
       "      <td>1.0</td>\n",
       "      <td>0.479057</td>\n",
       "      <td>0.505915</td>\n",
       "      <td>0.287750</td>\n",
       "      <td>0.316846</td>\n",
       "      <td>0.377451</td>\n",
       "      <td>0.536804</td>\n",
       "    </tr>\n",
       "    <tr>\n",
       "      <th>7</th>\n",
       "      <td>4290709089_4237840455_8</td>\n",
       "      <td>0.0</td>\n",
       "      <td>0.0</td>\n",
       "      <td>0.0</td>\n",
       "      <td>0.0</td>\n",
       "      <td>0.0</td>\n",
       "      <td>1.0</td>\n",
       "      <td>0.666040</td>\n",
       "      <td>0.808356</td>\n",
       "      <td>0.186136</td>\n",
       "      <td>0.606771</td>\n",
       "      <td>0.594350</td>\n",
       "      <td>0.395582</td>\n",
       "    </tr>\n",
       "    <tr>\n",
       "      <th>8</th>\n",
       "      <td>4290709089_4237840455_9</td>\n",
       "      <td>0.0</td>\n",
       "      <td>0.0</td>\n",
       "      <td>0.0</td>\n",
       "      <td>0.0</td>\n",
       "      <td>0.0</td>\n",
       "      <td>1.0</td>\n",
       "      <td>0.388720</td>\n",
       "      <td>0.766165</td>\n",
       "      <td>0.382950</td>\n",
       "      <td>0.336707</td>\n",
       "      <td>0.526422</td>\n",
       "      <td>0.313240</td>\n",
       "    </tr>\n",
       "    <tr>\n",
       "      <th>9</th>\n",
       "      <td>4290709089_4237840455_10</td>\n",
       "      <td>0.0</td>\n",
       "      <td>0.0</td>\n",
       "      <td>0.0</td>\n",
       "      <td>0.0</td>\n",
       "      <td>0.0</td>\n",
       "      <td>1.0</td>\n",
       "      <td>0.442118</td>\n",
       "      <td>0.637018</td>\n",
       "      <td>0.434717</td>\n",
       "      <td>0.503036</td>\n",
       "      <td>0.262557</td>\n",
       "      <td>0.665500</td>\n",
       "    </tr>\n",
       "    <tr>\n",
       "      <th>10</th>\n",
       "      <td>4290709089_4237840455_11</td>\n",
       "      <td>0.0</td>\n",
       "      <td>0.0</td>\n",
       "      <td>0.0</td>\n",
       "      <td>0.0</td>\n",
       "      <td>0.0</td>\n",
       "      <td>0.0</td>\n",
       "      <td>0.659590</td>\n",
       "      <td>0.556947</td>\n",
       "      <td>0.421419</td>\n",
       "      <td>0.512152</td>\n",
       "      <td>0.570999</td>\n",
       "      <td>0.480460</td>\n",
       "    </tr>\n",
       "    <tr>\n",
       "      <th>11</th>\n",
       "      <td>4290709089_4237840455_12</td>\n",
       "      <td>0.0</td>\n",
       "      <td>0.0</td>\n",
       "      <td>0.0</td>\n",
       "      <td>0.0</td>\n",
       "      <td>0.0</td>\n",
       "      <td>0.0</td>\n",
       "      <td>0.438614</td>\n",
       "      <td>0.311726</td>\n",
       "      <td>0.677380</td>\n",
       "      <td>0.503865</td>\n",
       "      <td>0.652109</td>\n",
       "      <td>0.427493</td>\n",
       "    </tr>\n",
       "    <tr>\n",
       "      <th>12</th>\n",
       "      <td>4290709089_4237840455_13</td>\n",
       "      <td>0.0</td>\n",
       "      <td>0.0</td>\n",
       "      <td>0.0</td>\n",
       "      <td>0.0</td>\n",
       "      <td>0.0</td>\n",
       "      <td>1.0</td>\n",
       "      <td>0.600714</td>\n",
       "      <td>0.428868</td>\n",
       "      <td>0.589410</td>\n",
       "      <td>0.660737</td>\n",
       "      <td>0.391903</td>\n",
       "      <td>0.594038</td>\n",
       "    </tr>\n",
       "    <tr>\n",
       "      <th>13</th>\n",
       "      <td>4290709089_4237840455_14</td>\n",
       "      <td>0.0</td>\n",
       "      <td>0.0</td>\n",
       "      <td>0.0</td>\n",
       "      <td>0.0</td>\n",
       "      <td>0.0</td>\n",
       "      <td>1.0</td>\n",
       "      <td>0.666826</td>\n",
       "      <td>0.579450</td>\n",
       "      <td>0.595288</td>\n",
       "      <td>0.348590</td>\n",
       "      <td>0.432851</td>\n",
       "      <td>0.521791</td>\n",
       "    </tr>\n",
       "    <tr>\n",
       "      <th>14</th>\n",
       "      <td>4290709089_4237840455_15</td>\n",
       "      <td>0.0</td>\n",
       "      <td>0.0</td>\n",
       "      <td>0.0</td>\n",
       "      <td>0.0</td>\n",
       "      <td>0.0</td>\n",
       "      <td>1.0</td>\n",
       "      <td>0.487078</td>\n",
       "      <td>0.339838</td>\n",
       "      <td>0.788596</td>\n",
       "      <td>0.626165</td>\n",
       "      <td>0.555391</td>\n",
       "      <td>0.497917</td>\n",
       "    </tr>\n",
       "    <tr>\n",
       "      <th>15</th>\n",
       "      <td>4290709089_3390218084_1</td>\n",
       "      <td>0.0</td>\n",
       "      <td>0.0</td>\n",
       "      <td>0.0</td>\n",
       "      <td>0.0</td>\n",
       "      <td>0.0</td>\n",
       "      <td>1.0</td>\n",
       "      <td>0.205754</td>\n",
       "      <td>0.580061</td>\n",
       "      <td>0.309002</td>\n",
       "      <td>0.775521</td>\n",
       "      <td>0.354093</td>\n",
       "      <td>0.405925</td>\n",
       "    </tr>\n",
       "  </tbody>\n",
       "</table>\n",
       "</div>"
      ],
      "text/plain": [
       "                         ids  SCS  RNFN  LNFN  LSS  RSS    H  pred_SCS  \\\n",
       "0    4290709089_4237840455_1  0.0   0.0   0.0  0.0  0.0  1.0  0.395013   \n",
       "1    4290709089_4237840455_2  0.0   0.0   0.0  0.0  0.0  1.0  0.489004   \n",
       "2    4290709089_4237840455_3  0.0   0.0   0.0  0.0  0.0  1.0  0.517269   \n",
       "3    4290709089_4237840455_4  0.0   0.0   0.0  0.0  0.0  0.0  0.631223   \n",
       "4    4290709089_4237840455_5  0.0   0.0   0.0  0.0  0.0  0.0  0.772737   \n",
       "5    4290709089_4237840455_6  0.0   0.0   0.0  0.0  0.0  1.0  0.456793   \n",
       "6    4290709089_4237840455_7  0.0   0.0   0.0  0.0  0.0  1.0  0.479057   \n",
       "7    4290709089_4237840455_8  0.0   0.0   0.0  0.0  0.0  1.0  0.666040   \n",
       "8    4290709089_4237840455_9  0.0   0.0   0.0  0.0  0.0  1.0  0.388720   \n",
       "9   4290709089_4237840455_10  0.0   0.0   0.0  0.0  0.0  1.0  0.442118   \n",
       "10  4290709089_4237840455_11  0.0   0.0   0.0  0.0  0.0  0.0  0.659590   \n",
       "11  4290709089_4237840455_12  0.0   0.0   0.0  0.0  0.0  0.0  0.438614   \n",
       "12  4290709089_4237840455_13  0.0   0.0   0.0  0.0  0.0  1.0  0.600714   \n",
       "13  4290709089_4237840455_14  0.0   0.0   0.0  0.0  0.0  1.0  0.666826   \n",
       "14  4290709089_4237840455_15  0.0   0.0   0.0  0.0  0.0  1.0  0.487078   \n",
       "15   4290709089_3390218084_1  0.0   0.0   0.0  0.0  0.0  1.0  0.205754   \n",
       "\n",
       "    pred_RNFN  pred_LNFN  pred_LSS  pred_RSS    pred_H  \n",
       "0    0.549389   0.595243  0.560811  0.744533  0.619719  \n",
       "1    0.367203   0.445105  0.303531  0.668520  0.689909  \n",
       "2    0.322314   0.785280  0.286306  0.360463  0.264345  \n",
       "3    0.454491   0.582664  0.510748  0.459251  0.259527  \n",
       "4    0.432507   0.324182  0.515903  0.556065  0.558532  \n",
       "5    0.566512   0.369472  0.554685  0.712048  0.505798  \n",
       "6    0.505915   0.287750  0.316846  0.377451  0.536804  \n",
       "7    0.808356   0.186136  0.606771  0.594350  0.395582  \n",
       "8    0.766165   0.382950  0.336707  0.526422  0.313240  \n",
       "9    0.637018   0.434717  0.503036  0.262557  0.665500  \n",
       "10   0.556947   0.421419  0.512152  0.570999  0.480460  \n",
       "11   0.311726   0.677380  0.503865  0.652109  0.427493  \n",
       "12   0.428868   0.589410  0.660737  0.391903  0.594038  \n",
       "13   0.579450   0.595288  0.348590  0.432851  0.521791  \n",
       "14   0.339838   0.788596  0.626165  0.555391  0.497917  \n",
       "15   0.580061   0.309002  0.775521  0.354093  0.405925  "
      ]
     },
     "execution_count": 58,
     "metadata": {},
     "output_type": "execute_result"
    }
   ],
   "source": [
    "results"
   ]
  },
  {
   "cell_type": "markdown",
   "id": "a1e6cd81-4bdf-4fcb-ae8a-d094f06fa7fa",
   "metadata": {},
   "source": [
    "### Inference"
   ]
  },
  {
   "cell_type": "code",
   "execution_count": 59,
   "id": "56397a97-6e73-4587-8475-836a5a1793c1",
   "metadata": {},
   "outputs": [
    {
     "data": {
      "text/plain": [
       "WindowsPath('E:/data/RSNA2024/results/ckpt/eca_nfnet_l0 5e-05 10 eps 128neck/ep_06_loss_0.13010.ckpt')"
      ]
     },
     "execution_count": 59,
     "metadata": {},
     "output_type": "execute_result"
    }
   ],
   "source": [
    "CFG.ckpt_path"
   ]
  },
  {
   "cell_type": "code",
   "execution_count": 60,
   "id": "b89bd01e-b126-4edc-b153-1fe4220a4dc3",
   "metadata": {
    "scrolled": true
   },
   "outputs": [
    {
     "name": "stdout",
     "output_type": "stream",
     "text": [
      "eca_nfnet_l0\n"
     ]
    },
    {
     "name": "stderr",
     "output_type": "stream",
     "text": [
      "GPU available: True (cuda), used: True\n",
      "TPU available: False, using: 0 TPU cores\n",
      "HPU available: False, using: 0 HPUs\n",
      "C:\\ProgramData\\anaconda3\\envs\\rsna\\lib\\site-packages\\pytorch_lightning\\trainer\\connectors\\logger_connector\\logger_connector.py:75: Starting from v1.9.0, `tensorboardX` has been removed as a dependency of the `pytorch_lightning` package, due to potential conflicts with other packages in the ML ecosystem. For this reason, `logger=True` will use `CSVLogger` as the default logger, unless the `tensorboard` or `tensorboardX` packages are found. Please `pip install lightning[extra]` or one of them to enable TensorBoard support by default\n"
     ]
    },
    {
     "name": "stdout",
     "output_type": "stream",
     "text": [
      "model loaded\n"
     ]
    }
   ],
   "source": [
    "model = GeMModel.load_from_checkpoint(checkpoint_path=CFG.ckpt_path, cfg=CFG)\n",
    "model = featureModel(model)\n",
    "\n",
    "accelerator = CFG.device\n",
    "\n",
    "trainer = pl.Trainer(\n",
    "    accelerator=accelerator,\n",
    ")\n",
    "\n",
    "print('model loaded')"
   ]
  },
  {
   "cell_type": "code",
   "execution_count": 61,
   "id": "50423423-6f03-4597-81e0-d19d29a40f23",
   "metadata": {},
   "outputs": [
    {
     "data": {
      "text/plain": [
       "'cuda'"
      ]
     },
     "execution_count": 61,
     "metadata": {},
     "output_type": "execute_result"
    }
   ],
   "source": [
    "model.to(accelerator)\n",
    "model.eval()\n",
    "model.freeze()\n",
    "\n",
    "accelerator"
   ]
  },
  {
   "cell_type": "code",
   "execution_count": 62,
   "id": "71915d54-29d0-455f-9b88-a941bcfcfba3",
   "metadata": {},
   "outputs": [
    {
     "data": {
      "text/plain": [
       "((147218, 20), 147218, 24546)"
      ]
     },
     "execution_count": 62,
     "metadata": {},
     "output_type": "execute_result"
    }
   ],
   "source": [
    "files_df.shape, files_df.filename.nunique(), coords_df.filename.nunique()"
   ]
  },
  {
   "cell_type": "code",
   "execution_count": 63,
   "id": "d9085a76-d19a-41fb-b250-12f029e48bdb",
   "metadata": {},
   "outputs": [],
   "source": [
    "train_cols = ['filename', 'healthy', 'series_description', 'instance_id']"
   ]
  },
  {
   "cell_type": "code",
   "execution_count": 64,
   "id": "fffdaf4a-0b53-47c2-99b3-ea48a442e63e",
   "metadata": {
    "scrolled": true
   },
   "outputs": [
    {
     "data": {
      "text/html": [
       "<div>\n",
       "<style scoped>\n",
       "    .dataframe tbody tr th:only-of-type {\n",
       "        vertical-align: middle;\n",
       "    }\n",
       "\n",
       "    .dataframe tbody tr th {\n",
       "        vertical-align: top;\n",
       "    }\n",
       "\n",
       "    .dataframe thead th {\n",
       "        text-align: right;\n",
       "    }\n",
       "</style>\n",
       "<table border=\"1\" class=\"dataframe\">\n",
       "  <thead>\n",
       "    <tr style=\"text-align: right;\">\n",
       "      <th></th>\n",
       "      <th>filename</th>\n",
       "      <th>healthy</th>\n",
       "      <th>series_description</th>\n",
       "      <th>instance_id</th>\n",
       "    </tr>\n",
       "  </thead>\n",
       "  <tbody>\n",
       "    <tr>\n",
       "      <th>0</th>\n",
       "      <td>E:\\data\\RSNA2024\\pngs_256\\4290709089_423784045...</td>\n",
       "      <td>True</td>\n",
       "      <td>Sagittal T1</td>\n",
       "      <td>4290709089_4237840455_1</td>\n",
       "    </tr>\n",
       "    <tr>\n",
       "      <th>1</th>\n",
       "      <td>E:\\data\\RSNA2024\\pngs_256\\4290709089_423784045...</td>\n",
       "      <td>True</td>\n",
       "      <td>Sagittal T1</td>\n",
       "      <td>4290709089_4237840455_2</td>\n",
       "    </tr>\n",
       "  </tbody>\n",
       "</table>\n",
       "</div>"
      ],
      "text/plain": [
       "                                            filename  healthy  \\\n",
       "0  E:\\data\\RSNA2024\\pngs_256\\4290709089_423784045...     True   \n",
       "1  E:\\data\\RSNA2024\\pngs_256\\4290709089_423784045...     True   \n",
       "\n",
       "  series_description              instance_id  \n",
       "0        Sagittal T1  4290709089_4237840455_1  \n",
       "1        Sagittal T1  4290709089_4237840455_2  "
      ]
     },
     "execution_count": 64,
     "metadata": {},
     "output_type": "execute_result"
    }
   ],
   "source": [
    "files_df.loc[:, train_cols].head(2)"
   ]
  },
  {
   "cell_type": "code",
   "execution_count": 65,
   "id": "0886e635-ed66-45de-9eb5-4444c0145558",
   "metadata": {},
   "outputs": [],
   "source": [
    "# files_df.condition.unique()"
   ]
  },
  {
   "cell_type": "code",
   "execution_count": null,
   "id": "6cdca18e-5314-4a58-af78-d13e13b2f2dd",
   "metadata": {},
   "outputs": [],
   "source": []
  },
  {
   "cell_type": "markdown",
   "id": "6b59fafe-cc23-4435-9026-aea9ebc74b10",
   "metadata": {},
   "source": [
    "#### Predict"
   ]
  },
  {
   "cell_type": "code",
   "execution_count": 66,
   "id": "e18a4eb8-7384-4880-8137-d51e081a3825",
   "metadata": {},
   "outputs": [
    {
     "data": {
      "text/plain": [
       "(128, 'cuda')"
      ]
     },
     "execution_count": 66,
     "metadata": {},
     "output_type": "execute_result"
    }
   ],
   "source": [
    "CFG.BATCH_SIZE, CFG.device"
   ]
  },
  {
   "cell_type": "code",
   "execution_count": 67,
   "id": "4ebb8911-e7d1-45d9-af50-8fe2822b77b7",
   "metadata": {},
   "outputs": [],
   "source": [
    "# make sure files_df has the correct condition\n",
    "# dm = inference_datamodule(healthy_df[:248], tfs=val_tfs)\n",
    "dm = inference_datamodule(files_df, coords_df, tfs=val_tfs)\n",
    "# dm = inference_datamodule(coords_df, tfs=val_tfs)"
   ]
  },
  {
   "cell_type": "code",
   "execution_count": 68,
   "id": "40904002-1872-44f6-baf8-612bd3d8d0e8",
   "metadata": {
    "scrolled": true
   },
   "outputs": [
    {
     "name": "stderr",
     "output_type": "stream",
     "text": [
      "GPU available: True (cuda), used: True\n",
      "TPU available: False, using: 0 TPU cores\n",
      "HPU available: False, using: 0 HPUs\n",
      "You are using a CUDA device ('NVIDIA GeForce RTX 4090 Laptop GPU') that has Tensor Cores. To properly utilize them, you should set `torch.set_float32_matmul_precision('medium' | 'high')` which will trade-off precision for performance. For more details, read https://pytorch.org/docs/stable/generated/torch.set_float32_matmul_precision.html#torch.set_float32_matmul_precision\n",
      "LOCAL_RANK: 0 - CUDA_VISIBLE_DEVICES: [0]\n"
     ]
    },
    {
     "data": {
      "application/vnd.jupyter.widget-view+json": {
       "model_id": "03ef7c8f88414c2c934eda2ad9c9e28c",
       "version_major": 2,
       "version_minor": 0
      },
      "text/plain": [
       "Predicting: |                                                                             | 0/? [00:00<?, ?it/…"
      ]
     },
     "metadata": {},
     "output_type": "display_data"
    }
   ],
   "source": [
    "trainer = pl.Trainer(accelerator=CFG.device)\n",
    "predictions = trainer.predict(model, dataloaders=dm)"
   ]
  },
  {
   "cell_type": "code",
   "execution_count": 69,
   "id": "89f2fdd0-6870-4dbd-bef0-41ec5c81fb91",
   "metadata": {},
   "outputs": [
    {
     "data": {
      "text/plain": [
       "1151"
      ]
     },
     "execution_count": 69,
     "metadata": {},
     "output_type": "execute_result"
    }
   ],
   "source": [
    "len(predictions)"
   ]
  },
  {
   "cell_type": "code",
   "execution_count": 70,
   "id": "5974064d-8cd9-4e1a-9d9b-901ed9571556",
   "metadata": {
    "scrolled": true
   },
   "outputs": [
    {
     "data": {
      "text/plain": [
       "((128, 128), (128, 13), 128)"
      ]
     },
     "execution_count": 70,
     "metadata": {},
     "output_type": "execute_result"
    }
   ],
   "source": [
    "predictions[0][0].shape, predictions[0][1].shape, len(predictions[0][2])"
   ]
  },
  {
   "cell_type": "code",
   "execution_count": 71,
   "id": "4991edd6-e55e-4e45-a0bc-acffd2fb6172",
   "metadata": {},
   "outputs": [
    {
     "data": {
      "text/plain": [
       "('4290709089_4237840455_1',\n",
       " '4290709089_4237840455_2',\n",
       " '4290709089_4237840455_3',\n",
       " '4290709089_4237840455_4')"
      ]
     },
     "execution_count": 71,
     "metadata": {},
     "output_type": "execute_result"
    }
   ],
   "source": [
    "predictions[0][2][:4]"
   ]
  },
  {
   "cell_type": "code",
   "execution_count": 72,
   "id": "908c03dd-4437-4cc2-9dd3-01e599a186be",
   "metadata": {},
   "outputs": [
    {
     "data": {
      "text/html": [
       "<div>\n",
       "<style scoped>\n",
       "    .dataframe tbody tr th:only-of-type {\n",
       "        vertical-align: middle;\n",
       "    }\n",
       "\n",
       "    .dataframe tbody tr th {\n",
       "        vertical-align: top;\n",
       "    }\n",
       "\n",
       "    .dataframe thead th {\n",
       "        text-align: right;\n",
       "    }\n",
       "</style>\n",
       "<table border=\"1\" class=\"dataframe\">\n",
       "  <thead>\n",
       "    <tr style=\"text-align: right;\">\n",
       "      <th></th>\n",
       "      <th>ids</th>\n",
       "      <th>SCS</th>\n",
       "      <th>RNFN</th>\n",
       "      <th>LNFN</th>\n",
       "      <th>LSS</th>\n",
       "      <th>RSS</th>\n",
       "      <th>H</th>\n",
       "      <th>pred_SCS</th>\n",
       "      <th>pred_RNFN</th>\n",
       "      <th>pred_LNFN</th>\n",
       "      <th>pred_LSS</th>\n",
       "      <th>pred_RSS</th>\n",
       "      <th>pred_H</th>\n",
       "    </tr>\n",
       "  </thead>\n",
       "  <tbody>\n",
       "    <tr>\n",
       "      <th>0</th>\n",
       "      <td>4290709089_4237840455_1</td>\n",
       "      <td>0.0</td>\n",
       "      <td>0.0</td>\n",
       "      <td>0.0</td>\n",
       "      <td>0.0</td>\n",
       "      <td>0.0</td>\n",
       "      <td>1.0</td>\n",
       "      <td>0.001585</td>\n",
       "      <td>0.001949</td>\n",
       "      <td>0.001369</td>\n",
       "      <td>0.002785</td>\n",
       "      <td>0.002748</td>\n",
       "      <td>0.993440</td>\n",
       "    </tr>\n",
       "    <tr>\n",
       "      <th>1</th>\n",
       "      <td>4290709089_4237840455_2</td>\n",
       "      <td>0.0</td>\n",
       "      <td>0.0</td>\n",
       "      <td>0.0</td>\n",
       "      <td>0.0</td>\n",
       "      <td>0.0</td>\n",
       "      <td>1.0</td>\n",
       "      <td>0.001521</td>\n",
       "      <td>0.001219</td>\n",
       "      <td>0.001093</td>\n",
       "      <td>0.005625</td>\n",
       "      <td>0.003293</td>\n",
       "      <td>0.996517</td>\n",
       "    </tr>\n",
       "  </tbody>\n",
       "</table>\n",
       "</div>"
      ],
      "text/plain": [
       "                       ids  SCS  RNFN  LNFN  LSS  RSS    H  pred_SCS  \\\n",
       "0  4290709089_4237840455_1  0.0   0.0   0.0  0.0  0.0  1.0  0.001585   \n",
       "1  4290709089_4237840455_2  0.0   0.0   0.0  0.0  0.0  1.0  0.001521   \n",
       "\n",
       "   pred_RNFN  pred_LNFN  pred_LSS  pred_RSS    pred_H  \n",
       "0   0.001949   0.001369  0.002785  0.002748  0.993440  \n",
       "1   0.001219   0.001093  0.005625  0.003293  0.996517  "
      ]
     },
     "execution_count": 72,
     "metadata": {},
     "output_type": "execute_result"
    }
   ],
   "source": [
    "predictions[0][1].head(2)"
   ]
  },
  {
   "cell_type": "code",
   "execution_count": 73,
   "id": "07d30e4e-e0bd-4c04-b8f7-0263c5a624da",
   "metadata": {},
   "outputs": [],
   "source": [
    "(preds, res, ids) = list(map(list, zip(*predictions)))"
   ]
  },
  {
   "cell_type": "markdown",
   "id": "a2c42026-54e9-4a33-9f6b-1a9c17140c50",
   "metadata": {},
   "source": [
    "### Save predictions"
   ]
  },
  {
   "cell_type": "markdown",
   "id": "ac6d7be1-cfd7-4254-ab1a-e7b403edf71b",
   "metadata": {},
   "source": [
    "#### Save results"
   ]
  },
  {
   "cell_type": "code",
   "execution_count": 74,
   "id": "3ae99927-8b50-41e0-9654-b678e4d44fb8",
   "metadata": {
    "scrolled": true
   },
   "outputs": [
    {
     "data": {
      "text/plain": [
       "(147218, 13)"
      ]
     },
     "execution_count": 74,
     "metadata": {},
     "output_type": "execute_result"
    }
   ],
   "source": [
    "results = pd.concat(res, ignore_index=True)\n",
    "results.shape"
   ]
  },
  {
   "cell_type": "code",
   "execution_count": 75,
   "id": "3640ecac-358e-4c3b-ab9b-a22f1a1e44b8",
   "metadata": {},
   "outputs": [
    {
     "data": {
      "text/plain": [
       "[0, 1, 2, 3, 4]"
      ]
     },
     "execution_count": 75,
     "metadata": {},
     "output_type": "execute_result"
    }
   ],
   "source": [
    "results.head().index.tolist()"
   ]
  },
  {
   "cell_type": "code",
   "execution_count": 76,
   "id": "1a916c0e-ac1b-44c8-b0ad-62c8e67efd98",
   "metadata": {},
   "outputs": [
    {
     "data": {
      "text/html": [
       "<div>\n",
       "<style scoped>\n",
       "    .dataframe tbody tr th:only-of-type {\n",
       "        vertical-align: middle;\n",
       "    }\n",
       "\n",
       "    .dataframe tbody tr th {\n",
       "        vertical-align: top;\n",
       "    }\n",
       "\n",
       "    .dataframe thead th {\n",
       "        text-align: right;\n",
       "    }\n",
       "</style>\n",
       "<table border=\"1\" class=\"dataframe\">\n",
       "  <thead>\n",
       "    <tr style=\"text-align: right;\">\n",
       "      <th></th>\n",
       "      <th>ids</th>\n",
       "      <th>SCS</th>\n",
       "      <th>RNFN</th>\n",
       "      <th>LNFN</th>\n",
       "      <th>LSS</th>\n",
       "      <th>RSS</th>\n",
       "      <th>H</th>\n",
       "      <th>pred_SCS</th>\n",
       "      <th>pred_RNFN</th>\n",
       "      <th>pred_LNFN</th>\n",
       "      <th>pred_LSS</th>\n",
       "      <th>pred_RSS</th>\n",
       "      <th>pred_H</th>\n",
       "    </tr>\n",
       "  </thead>\n",
       "  <tbody>\n",
       "    <tr>\n",
       "      <th>29003</th>\n",
       "      <td>3461844320_741750228_9</td>\n",
       "      <td>0.0</td>\n",
       "      <td>0.0</td>\n",
       "      <td>0.0</td>\n",
       "      <td>0.0</td>\n",
       "      <td>0.0</td>\n",
       "      <td>1.0</td>\n",
       "      <td>0.139848</td>\n",
       "      <td>0.000872</td>\n",
       "      <td>0.001260</td>\n",
       "      <td>0.004121</td>\n",
       "      <td>0.002648</td>\n",
       "      <td>0.923224</td>\n",
       "    </tr>\n",
       "    <tr>\n",
       "      <th>91636</th>\n",
       "      <td>1647904243_516544247_22</td>\n",
       "      <td>0.0</td>\n",
       "      <td>0.0</td>\n",
       "      <td>0.0</td>\n",
       "      <td>0.0</td>\n",
       "      <td>0.0</td>\n",
       "      <td>1.0</td>\n",
       "      <td>0.000418</td>\n",
       "      <td>0.000787</td>\n",
       "      <td>0.000417</td>\n",
       "      <td>0.013960</td>\n",
       "      <td>0.015422</td>\n",
       "      <td>0.960491</td>\n",
       "    </tr>\n",
       "  </tbody>\n",
       "</table>\n",
       "</div>"
      ],
      "text/plain": [
       "                           ids  SCS  RNFN  LNFN  LSS  RSS    H  pred_SCS  \\\n",
       "29003   3461844320_741750228_9  0.0   0.0   0.0  0.0  0.0  1.0  0.139848   \n",
       "91636  1647904243_516544247_22  0.0   0.0   0.0  0.0  0.0  1.0  0.000418   \n",
       "\n",
       "       pred_RNFN  pred_LNFN  pred_LSS  pred_RSS    pred_H  \n",
       "29003   0.000872   0.001260  0.004121  0.002648  0.923224  \n",
       "91636   0.000787   0.000417  0.013960  0.015422  0.960491  "
      ]
     },
     "execution_count": 76,
     "metadata": {},
     "output_type": "execute_result"
    }
   ],
   "source": [
    "results.sample(2)"
   ]
  },
  {
   "cell_type": "code",
   "execution_count": 77,
   "id": "22bf8fb2-6432-40d4-bfdc-8531350dfdcc",
   "metadata": {
    "scrolled": true
   },
   "outputs": [],
   "source": [
    "results['study_id'] = results['ids'].apply(lambda x: x.split('_')[0])\n",
    "results['series_id'] = results['ids'].apply(lambda x: (x.split('_')[1]))\n",
    "results['instance'] = results['ids'].apply(lambda x: int(x.split('_')[-1]))"
   ]
  },
  {
   "cell_type": "code",
   "execution_count": 78,
   "id": "b7fe40cf-7a55-4b23-8404-94ce51dca9f8",
   "metadata": {},
   "outputs": [
    {
     "data": {
      "text/html": [
       "<div>\n",
       "<style scoped>\n",
       "    .dataframe tbody tr th:only-of-type {\n",
       "        vertical-align: middle;\n",
       "    }\n",
       "\n",
       "    .dataframe tbody tr th {\n",
       "        vertical-align: top;\n",
       "    }\n",
       "\n",
       "    .dataframe thead th {\n",
       "        text-align: right;\n",
       "    }\n",
       "</style>\n",
       "<table border=\"1\" class=\"dataframe\">\n",
       "  <thead>\n",
       "    <tr style=\"text-align: right;\">\n",
       "      <th></th>\n",
       "      <th>ids</th>\n",
       "      <th>SCS</th>\n",
       "      <th>RNFN</th>\n",
       "      <th>LNFN</th>\n",
       "      <th>LSS</th>\n",
       "      <th>RSS</th>\n",
       "      <th>H</th>\n",
       "      <th>pred_SCS</th>\n",
       "      <th>pred_RNFN</th>\n",
       "      <th>pred_LNFN</th>\n",
       "      <th>pred_LSS</th>\n",
       "      <th>pred_RSS</th>\n",
       "      <th>pred_H</th>\n",
       "      <th>study_id</th>\n",
       "      <th>series_id</th>\n",
       "      <th>instance</th>\n",
       "    </tr>\n",
       "  </thead>\n",
       "  <tbody>\n",
       "    <tr>\n",
       "      <th>0</th>\n",
       "      <td>4290709089_4237840455_1</td>\n",
       "      <td>0.0</td>\n",
       "      <td>0.0</td>\n",
       "      <td>0.0</td>\n",
       "      <td>0.0</td>\n",
       "      <td>0.0</td>\n",
       "      <td>1.0</td>\n",
       "      <td>0.001585</td>\n",
       "      <td>0.001949</td>\n",
       "      <td>0.001369</td>\n",
       "      <td>0.002785</td>\n",
       "      <td>0.002748</td>\n",
       "      <td>0.993440</td>\n",
       "      <td>4290709089</td>\n",
       "      <td>4237840455</td>\n",
       "      <td>1</td>\n",
       "    </tr>\n",
       "    <tr>\n",
       "      <th>1</th>\n",
       "      <td>4290709089_4237840455_2</td>\n",
       "      <td>0.0</td>\n",
       "      <td>0.0</td>\n",
       "      <td>0.0</td>\n",
       "      <td>0.0</td>\n",
       "      <td>0.0</td>\n",
       "      <td>1.0</td>\n",
       "      <td>0.001521</td>\n",
       "      <td>0.001219</td>\n",
       "      <td>0.001093</td>\n",
       "      <td>0.005625</td>\n",
       "      <td>0.003293</td>\n",
       "      <td>0.996517</td>\n",
       "      <td>4290709089</td>\n",
       "      <td>4237840455</td>\n",
       "      <td>2</td>\n",
       "    </tr>\n",
       "  </tbody>\n",
       "</table>\n",
       "</div>"
      ],
      "text/plain": [
       "                       ids  SCS  RNFN  LNFN  LSS  RSS    H  pred_SCS  \\\n",
       "0  4290709089_4237840455_1  0.0   0.0   0.0  0.0  0.0  1.0  0.001585   \n",
       "1  4290709089_4237840455_2  0.0   0.0   0.0  0.0  0.0  1.0  0.001521   \n",
       "\n",
       "   pred_RNFN  pred_LNFN  pred_LSS  pred_RSS    pred_H    study_id   series_id  \\\n",
       "0   0.001949   0.001369  0.002785  0.002748  0.993440  4290709089  4237840455   \n",
       "1   0.001219   0.001093  0.005625  0.003293  0.996517  4290709089  4237840455   \n",
       "\n",
       "   instance  \n",
       "0         1  \n",
       "1         2  "
      ]
     },
     "execution_count": 78,
     "metadata": {},
     "output_type": "execute_result"
    }
   ],
   "source": [
    "results.head(2)"
   ]
  },
  {
   "cell_type": "code",
   "execution_count": 79,
   "id": "31f94896-7a2c-44df-a606-2c206e021022",
   "metadata": {},
   "outputs": [
    {
     "data": {
      "text/plain": [
       "1975"
      ]
     },
     "execution_count": 79,
     "metadata": {},
     "output_type": "execute_result"
    }
   ],
   "source": [
    "results.study_id.nunique()"
   ]
  },
  {
   "cell_type": "code",
   "execution_count": 80,
   "id": "fadf10db-f74c-4546-bbcf-3072472bc1b5",
   "metadata": {},
   "outputs": [],
   "source": [
    "#  dont sort\n",
    "# table and embeding order must match"
   ]
  },
  {
   "cell_type": "code",
   "execution_count": 81,
   "id": "68300b0b-965b-49a0-bacb-4ba71f8ef787",
   "metadata": {
    "scrolled": true
   },
   "outputs": [],
   "source": [
    "# results = results.sort_values(by=['study_id', 'series_id', 'instance'], ascending=[True, True, True], ignore_index=True)\n",
    "\n",
    "# results.shape"
   ]
  },
  {
   "cell_type": "code",
   "execution_count": 82,
   "id": "a18d53b8-a725-4138-8fc9-d796d5fb0099",
   "metadata": {},
   "outputs": [
    {
     "data": {
      "text/plain": [
       "1975"
      ]
     },
     "execution_count": 82,
     "metadata": {},
     "output_type": "execute_result"
    }
   ],
   "source": [
    "results.study_id.nunique()"
   ]
  },
  {
   "cell_type": "code",
   "execution_count": 83,
   "id": "9a40b62a-6600-463c-a1d8-3fcb683acbdb",
   "metadata": {},
   "outputs": [],
   "source": [
    "# results.head(5)"
   ]
  },
  {
   "cell_type": "code",
   "execution_count": 84,
   "id": "f1e72113-627d-49b8-a970-5ae3b88f0a4c",
   "metadata": {},
   "outputs": [
    {
     "data": {
      "text/plain": [
       "Index([112778, 112779, 112780, 112781, 112782, 112783, 112784, 112785, 112786,\n",
       "       112787, 112788, 112789, 112790, 112791, 112792, 112793, 112794, 112795,\n",
       "       112796, 112797, 112798, 112799, 112800, 112801, 112802, 112803, 112804,\n",
       "       112805, 112806, 112807, 112808, 112809, 112810, 112811, 112812, 112813,\n",
       "       112814, 112815, 112816, 112817, 112818, 112819, 112820, 112821, 112822,\n",
       "       112823, 112824, 112825, 112826, 112827, 112828, 112829, 112830, 112831,\n",
       "       112832, 112833, 112834, 112835, 112836, 112837, 112838, 112839, 112840,\n",
       "       112841, 112842, 112843, 112844, 112845, 112846, 112847, 112848, 112849,\n",
       "       112850, 112851, 112852, 112853, 112854, 112855],\n",
       "      dtype='int64')"
      ]
     },
     "execution_count": 84,
     "metadata": {},
     "output_type": "execute_result"
    }
   ],
   "source": [
    "results.index[results['study_id'] == '1002894806']"
   ]
  },
  {
   "cell_type": "code",
   "execution_count": 85,
   "id": "4b92bd55-8c72-45c9-a357-f4e7358b2212",
   "metadata": {
    "scrolled": true
   },
   "outputs": [
    {
     "data": {
      "text/html": [
       "<div>\n",
       "<style scoped>\n",
       "    .dataframe tbody tr th:only-of-type {\n",
       "        vertical-align: middle;\n",
       "    }\n",
       "\n",
       "    .dataframe tbody tr th {\n",
       "        vertical-align: top;\n",
       "    }\n",
       "\n",
       "    .dataframe thead th {\n",
       "        text-align: right;\n",
       "    }\n",
       "</style>\n",
       "<table border=\"1\" class=\"dataframe\">\n",
       "  <thead>\n",
       "    <tr style=\"text-align: right;\">\n",
       "      <th></th>\n",
       "      <th>ids</th>\n",
       "      <th>SCS</th>\n",
       "      <th>RNFN</th>\n",
       "      <th>LNFN</th>\n",
       "      <th>LSS</th>\n",
       "      <th>RSS</th>\n",
       "      <th>H</th>\n",
       "      <th>pred_SCS</th>\n",
       "      <th>pred_RNFN</th>\n",
       "      <th>pred_LNFN</th>\n",
       "      <th>pred_LSS</th>\n",
       "      <th>pred_RSS</th>\n",
       "      <th>pred_H</th>\n",
       "      <th>study_id</th>\n",
       "      <th>series_id</th>\n",
       "      <th>instance</th>\n",
       "    </tr>\n",
       "  </thead>\n",
       "  <tbody>\n",
       "    <tr>\n",
       "      <th>112778</th>\n",
       "      <td>1002894806_1252873726_1</td>\n",
       "      <td>0.0</td>\n",
       "      <td>0.0</td>\n",
       "      <td>0.0</td>\n",
       "      <td>0.0</td>\n",
       "      <td>0.0</td>\n",
       "      <td>1.0</td>\n",
       "      <td>0.001573</td>\n",
       "      <td>0.001275</td>\n",
       "      <td>0.000612</td>\n",
       "      <td>0.002191</td>\n",
       "      <td>0.002172</td>\n",
       "      <td>0.996804</td>\n",
       "      <td>1002894806</td>\n",
       "      <td>1252873726</td>\n",
       "      <td>1</td>\n",
       "    </tr>\n",
       "    <tr>\n",
       "      <th>112779</th>\n",
       "      <td>1002894806_1252873726_2</td>\n",
       "      <td>0.0</td>\n",
       "      <td>0.0</td>\n",
       "      <td>0.0</td>\n",
       "      <td>0.0</td>\n",
       "      <td>0.0</td>\n",
       "      <td>1.0</td>\n",
       "      <td>0.002465</td>\n",
       "      <td>0.001517</td>\n",
       "      <td>0.001043</td>\n",
       "      <td>0.020485</td>\n",
       "      <td>0.020670</td>\n",
       "      <td>0.959656</td>\n",
       "      <td>1002894806</td>\n",
       "      <td>1252873726</td>\n",
       "      <td>2</td>\n",
       "    </tr>\n",
       "    <tr>\n",
       "      <th>112780</th>\n",
       "      <td>1002894806_1252873726_3</td>\n",
       "      <td>0.0</td>\n",
       "      <td>0.0</td>\n",
       "      <td>0.0</td>\n",
       "      <td>0.0</td>\n",
       "      <td>0.0</td>\n",
       "      <td>1.0</td>\n",
       "      <td>0.004138</td>\n",
       "      <td>0.002994</td>\n",
       "      <td>0.001804</td>\n",
       "      <td>0.116423</td>\n",
       "      <td>0.113240</td>\n",
       "      <td>0.804427</td>\n",
       "      <td>1002894806</td>\n",
       "      <td>1252873726</td>\n",
       "      <td>3</td>\n",
       "    </tr>\n",
       "    <tr>\n",
       "      <th>112781</th>\n",
       "      <td>1002894806_1252873726_4</td>\n",
       "      <td>0.0</td>\n",
       "      <td>0.0</td>\n",
       "      <td>0.0</td>\n",
       "      <td>1.0</td>\n",
       "      <td>0.0</td>\n",
       "      <td>0.0</td>\n",
       "      <td>0.003018</td>\n",
       "      <td>0.003728</td>\n",
       "      <td>0.002442</td>\n",
       "      <td>0.729344</td>\n",
       "      <td>0.647925</td>\n",
       "      <td>0.029591</td>\n",
       "      <td>1002894806</td>\n",
       "      <td>1252873726</td>\n",
       "      <td>4</td>\n",
       "    </tr>\n",
       "    <tr>\n",
       "      <th>112782</th>\n",
       "      <td>1002894806_1252873726_5</td>\n",
       "      <td>0.0</td>\n",
       "      <td>0.0</td>\n",
       "      <td>0.0</td>\n",
       "      <td>0.0</td>\n",
       "      <td>0.0</td>\n",
       "      <td>1.0</td>\n",
       "      <td>0.003140</td>\n",
       "      <td>0.003354</td>\n",
       "      <td>0.002113</td>\n",
       "      <td>0.819212</td>\n",
       "      <td>0.882852</td>\n",
       "      <td>0.006858</td>\n",
       "      <td>1002894806</td>\n",
       "      <td>1252873726</td>\n",
       "      <td>5</td>\n",
       "    </tr>\n",
       "  </tbody>\n",
       "</table>\n",
       "</div>"
      ],
      "text/plain": [
       "                            ids  SCS  RNFN  LNFN  LSS  RSS    H  pred_SCS  \\\n",
       "112778  1002894806_1252873726_1  0.0   0.0   0.0  0.0  0.0  1.0  0.001573   \n",
       "112779  1002894806_1252873726_2  0.0   0.0   0.0  0.0  0.0  1.0  0.002465   \n",
       "112780  1002894806_1252873726_3  0.0   0.0   0.0  0.0  0.0  1.0  0.004138   \n",
       "112781  1002894806_1252873726_4  0.0   0.0   0.0  1.0  0.0  0.0  0.003018   \n",
       "112782  1002894806_1252873726_5  0.0   0.0   0.0  0.0  0.0  1.0  0.003140   \n",
       "\n",
       "        pred_RNFN  pred_LNFN  pred_LSS  pred_RSS    pred_H    study_id  \\\n",
       "112778   0.001275   0.000612  0.002191  0.002172  0.996804  1002894806   \n",
       "112779   0.001517   0.001043  0.020485  0.020670  0.959656  1002894806   \n",
       "112780   0.002994   0.001804  0.116423  0.113240  0.804427  1002894806   \n",
       "112781   0.003728   0.002442  0.729344  0.647925  0.029591  1002894806   \n",
       "112782   0.003354   0.002113  0.819212  0.882852  0.006858  1002894806   \n",
       "\n",
       "         series_id  instance  \n",
       "112778  1252873726         1  \n",
       "112779  1252873726         2  \n",
       "112780  1252873726         3  \n",
       "112781  1252873726         4  \n",
       "112782  1252873726         5  "
      ]
     },
     "execution_count": 85,
     "metadata": {},
     "output_type": "execute_result"
    }
   ],
   "source": [
    "results[results['study_id'] == '1002894806'].head()"
   ]
  },
  {
   "cell_type": "code",
   "execution_count": 86,
   "id": "4557d57d-51c5-42da-a4da-3aed9f6e41fd",
   "metadata": {},
   "outputs": [
    {
     "data": {
      "text/plain": [
       "((108294, 16), (38924, 16))"
      ]
     },
     "execution_count": 86,
     "metadata": {},
     "output_type": "execute_result"
    }
   ],
   "source": [
    "results[results.pred_H > 0.8].shape, results[results.pred_H < 0.8].shape"
   ]
  },
  {
   "cell_type": "code",
   "execution_count": 87,
   "id": "e7ee728b-274e-4e79-bdf0-e9c0a810b75c",
   "metadata": {},
   "outputs": [
    {
     "data": {
      "text/plain": [
       "(24546, 16)"
      ]
     },
     "execution_count": 87,
     "metadata": {},
     "output_type": "execute_result"
    }
   ],
   "source": [
    "results[results.H < 1].shape"
   ]
  },
  {
   "cell_type": "code",
   "execution_count": 88,
   "id": "c18edc44-40a4-4dc3-a089-9c0858c5adc6",
   "metadata": {},
   "outputs": [
    {
     "data": {
      "text/html": [
       "<div>\n",
       "<style scoped>\n",
       "    .dataframe tbody tr th:only-of-type {\n",
       "        vertical-align: middle;\n",
       "    }\n",
       "\n",
       "    .dataframe tbody tr th {\n",
       "        vertical-align: top;\n",
       "    }\n",
       "\n",
       "    .dataframe thead th {\n",
       "        text-align: right;\n",
       "    }\n",
       "</style>\n",
       "<table border=\"1\" class=\"dataframe\">\n",
       "  <thead>\n",
       "    <tr style=\"text-align: right;\">\n",
       "      <th></th>\n",
       "      <th>ids</th>\n",
       "      <th>SCS</th>\n",
       "      <th>RNFN</th>\n",
       "      <th>LNFN</th>\n",
       "      <th>LSS</th>\n",
       "      <th>RSS</th>\n",
       "      <th>H</th>\n",
       "      <th>pred_SCS</th>\n",
       "      <th>pred_RNFN</th>\n",
       "      <th>pred_LNFN</th>\n",
       "      <th>pred_LSS</th>\n",
       "      <th>pred_RSS</th>\n",
       "      <th>pred_H</th>\n",
       "      <th>study_id</th>\n",
       "      <th>series_id</th>\n",
       "      <th>instance</th>\n",
       "    </tr>\n",
       "  </thead>\n",
       "  <tbody>\n",
       "    <tr>\n",
       "      <th>57223</th>\n",
       "      <td>2627142799_471033984_10</td>\n",
       "      <td>0.0</td>\n",
       "      <td>0.0</td>\n",
       "      <td>1.0</td>\n",
       "      <td>0.0</td>\n",
       "      <td>0.0</td>\n",
       "      <td>0.0</td>\n",
       "      <td>0.002709</td>\n",
       "      <td>0.009247</td>\n",
       "      <td>0.988732</td>\n",
       "      <td>0.001551</td>\n",
       "      <td>0.001758</td>\n",
       "      <td>0.001434</td>\n",
       "      <td>2627142799</td>\n",
       "      <td>471033984</td>\n",
       "      <td>10</td>\n",
       "    </tr>\n",
       "    <tr>\n",
       "      <th>28550</th>\n",
       "      <td>3472609688_1795453103_20</td>\n",
       "      <td>0.0</td>\n",
       "      <td>0.0</td>\n",
       "      <td>0.0</td>\n",
       "      <td>1.0</td>\n",
       "      <td>1.0</td>\n",
       "      <td>0.0</td>\n",
       "      <td>0.002426</td>\n",
       "      <td>0.002684</td>\n",
       "      <td>0.002759</td>\n",
       "      <td>0.839976</td>\n",
       "      <td>0.792832</td>\n",
       "      <td>0.021512</td>\n",
       "      <td>3472609688</td>\n",
       "      <td>1795453103</td>\n",
       "      <td>20</td>\n",
       "    </tr>\n",
       "  </tbody>\n",
       "</table>\n",
       "</div>"
      ],
      "text/plain": [
       "                            ids  SCS  RNFN  LNFN  LSS  RSS    H  pred_SCS  \\\n",
       "57223   2627142799_471033984_10  0.0   0.0   1.0  0.0  0.0  0.0  0.002709   \n",
       "28550  3472609688_1795453103_20  0.0   0.0   0.0  1.0  1.0  0.0  0.002426   \n",
       "\n",
       "       pred_RNFN  pred_LNFN  pred_LSS  pred_RSS    pred_H    study_id  \\\n",
       "57223   0.009247   0.988732  0.001551  0.001758  0.001434  2627142799   \n",
       "28550   0.002684   0.002759  0.839976  0.792832  0.021512  3472609688   \n",
       "\n",
       "        series_id  instance  \n",
       "57223   471033984        10  \n",
       "28550  1795453103        20  "
      ]
     },
     "execution_count": 88,
     "metadata": {},
     "output_type": "execute_result"
    }
   ],
   "source": [
    "results[results.H < 1].sample(2)"
   ]
  },
  {
   "cell_type": "code",
   "execution_count": 89,
   "id": "d6b37d7f-8447-4043-b54b-36844ce11a8c",
   "metadata": {},
   "outputs": [],
   "source": [
    "results.to_csv(CFG.DEST_FOLDER / 'predictions.csv', index=False)"
   ]
  },
  {
   "cell_type": "markdown",
   "id": "e6f78577-6646-4cb9-9980-7e5c9261ab19",
   "metadata": {},
   "source": [
    "#### Save embeddings"
   ]
  },
  {
   "cell_type": "code",
   "execution_count": 90,
   "id": "d5b4ecef-636e-4976-8a4b-d86e05c016b3",
   "metadata": {},
   "outputs": [
    {
     "data": {
      "text/plain": [
       "(128, 128)"
      ]
     },
     "execution_count": 90,
     "metadata": {},
     "output_type": "execute_result"
    }
   ],
   "source": [
    "preds[0].shape"
   ]
  },
  {
   "cell_type": "code",
   "execution_count": 91,
   "id": "17ed9274-5ea6-4886-a2b4-3525ce5cb56f",
   "metadata": {},
   "outputs": [
    {
     "data": {
      "text/html": [
       "<div>\n",
       "<style scoped>\n",
       "    .dataframe tbody tr th:only-of-type {\n",
       "        vertical-align: middle;\n",
       "    }\n",
       "\n",
       "    .dataframe tbody tr th {\n",
       "        vertical-align: top;\n",
       "    }\n",
       "\n",
       "    .dataframe thead th {\n",
       "        text-align: right;\n",
       "    }\n",
       "</style>\n",
       "<table border=\"1\" class=\"dataframe\">\n",
       "  <thead>\n",
       "    <tr style=\"text-align: right;\">\n",
       "      <th></th>\n",
       "      <th>study_id</th>\n",
       "      <th>series_id</th>\n",
       "      <th>image</th>\n",
       "      <th>proj</th>\n",
       "      <th>instancenumber</th>\n",
       "      <th>rows</th>\n",
       "      <th>columns</th>\n",
       "      <th>slicethickness</th>\n",
       "      <th>spacingbetweenslices</th>\n",
       "      <th>patientposition</th>\n",
       "      <th>seriesdescription</th>\n",
       "      <th>ss_id</th>\n",
       "      <th>instance_id</th>\n",
       "      <th>filename</th>\n",
       "      <th>series_description</th>\n",
       "      <th>healthy</th>\n",
       "      <th>inst_min</th>\n",
       "      <th>inst_max</th>\n",
       "      <th>inst</th>\n",
       "      <th>inst_perc</th>\n",
       "    </tr>\n",
       "  </thead>\n",
       "  <tbody>\n",
       "    <tr>\n",
       "      <th>0</th>\n",
       "      <td>4290709089</td>\n",
       "      <td>4237840455</td>\n",
       "      <td>1</td>\n",
       "      <td>19</td>\n",
       "      <td>1</td>\n",
       "      <td>384</td>\n",
       "      <td>384</td>\n",
       "      <td>4.0</td>\n",
       "      <td>4.6</td>\n",
       "      <td>HFS</td>\n",
       "      <td>NaN</td>\n",
       "      <td>4290709089_4237840455</td>\n",
       "      <td>4290709089_4237840455_1</td>\n",
       "      <td>E:\\data\\RSNA2024\\pngs_256\\4290709089_423784045...</td>\n",
       "      <td>Sagittal T1</td>\n",
       "      <td>True</td>\n",
       "      <td>1</td>\n",
       "      <td>15</td>\n",
       "      <td>0</td>\n",
       "      <td>0.000000</td>\n",
       "    </tr>\n",
       "    <tr>\n",
       "      <th>1</th>\n",
       "      <td>4290709089</td>\n",
       "      <td>4237840455</td>\n",
       "      <td>2</td>\n",
       "      <td>14</td>\n",
       "      <td>2</td>\n",
       "      <td>384</td>\n",
       "      <td>384</td>\n",
       "      <td>4.0</td>\n",
       "      <td>4.6</td>\n",
       "      <td>HFS</td>\n",
       "      <td>NaN</td>\n",
       "      <td>4290709089_4237840455</td>\n",
       "      <td>4290709089_4237840455_2</td>\n",
       "      <td>E:\\data\\RSNA2024\\pngs_256\\4290709089_423784045...</td>\n",
       "      <td>Sagittal T1</td>\n",
       "      <td>True</td>\n",
       "      <td>1</td>\n",
       "      <td>15</td>\n",
       "      <td>1</td>\n",
       "      <td>0.066667</td>\n",
       "    </tr>\n",
       "    <tr>\n",
       "      <th>2</th>\n",
       "      <td>4290709089</td>\n",
       "      <td>4237840455</td>\n",
       "      <td>3</td>\n",
       "      <td>10</td>\n",
       "      <td>3</td>\n",
       "      <td>384</td>\n",
       "      <td>384</td>\n",
       "      <td>4.0</td>\n",
       "      <td>4.6</td>\n",
       "      <td>HFS</td>\n",
       "      <td>NaN</td>\n",
       "      <td>4290709089_4237840455</td>\n",
       "      <td>4290709089_4237840455_3</td>\n",
       "      <td>E:\\data\\RSNA2024\\pngs_256\\4290709089_423784045...</td>\n",
       "      <td>Sagittal T1</td>\n",
       "      <td>True</td>\n",
       "      <td>1</td>\n",
       "      <td>15</td>\n",
       "      <td>2</td>\n",
       "      <td>0.133333</td>\n",
       "    </tr>\n",
       "    <tr>\n",
       "      <th>3</th>\n",
       "      <td>4290709089</td>\n",
       "      <td>4237840455</td>\n",
       "      <td>4</td>\n",
       "      <td>5</td>\n",
       "      <td>4</td>\n",
       "      <td>384</td>\n",
       "      <td>384</td>\n",
       "      <td>4.0</td>\n",
       "      <td>4.6</td>\n",
       "      <td>HFS</td>\n",
       "      <td>NaN</td>\n",
       "      <td>4290709089_4237840455</td>\n",
       "      <td>4290709089_4237840455_4</td>\n",
       "      <td>E:\\data\\RSNA2024\\pngs_256\\4290709089_423784045...</td>\n",
       "      <td>Sagittal T1</td>\n",
       "      <td>False</td>\n",
       "      <td>1</td>\n",
       "      <td>15</td>\n",
       "      <td>3</td>\n",
       "      <td>0.200000</td>\n",
       "    </tr>\n",
       "    <tr>\n",
       "      <th>4</th>\n",
       "      <td>4290709089</td>\n",
       "      <td>4237840455</td>\n",
       "      <td>5</td>\n",
       "      <td>0</td>\n",
       "      <td>5</td>\n",
       "      <td>384</td>\n",
       "      <td>384</td>\n",
       "      <td>4.0</td>\n",
       "      <td>4.6</td>\n",
       "      <td>HFS</td>\n",
       "      <td>NaN</td>\n",
       "      <td>4290709089_4237840455</td>\n",
       "      <td>4290709089_4237840455_5</td>\n",
       "      <td>E:\\data\\RSNA2024\\pngs_256\\4290709089_423784045...</td>\n",
       "      <td>Sagittal T1</td>\n",
       "      <td>False</td>\n",
       "      <td>1</td>\n",
       "      <td>15</td>\n",
       "      <td>4</td>\n",
       "      <td>0.266667</td>\n",
       "    </tr>\n",
       "  </tbody>\n",
       "</table>\n",
       "</div>"
      ],
      "text/plain": [
       "     study_id   series_id  image  proj  instancenumber  rows  columns  \\\n",
       "0  4290709089  4237840455      1    19               1   384      384   \n",
       "1  4290709089  4237840455      2    14               2   384      384   \n",
       "2  4290709089  4237840455      3    10               3   384      384   \n",
       "3  4290709089  4237840455      4     5               4   384      384   \n",
       "4  4290709089  4237840455      5     0               5   384      384   \n",
       "\n",
       "   slicethickness  spacingbetweenslices patientposition seriesdescription  \\\n",
       "0             4.0                   4.6             HFS               NaN   \n",
       "1             4.0                   4.6             HFS               NaN   \n",
       "2             4.0                   4.6             HFS               NaN   \n",
       "3             4.0                   4.6             HFS               NaN   \n",
       "4             4.0                   4.6             HFS               NaN   \n",
       "\n",
       "                   ss_id              instance_id  \\\n",
       "0  4290709089_4237840455  4290709089_4237840455_1   \n",
       "1  4290709089_4237840455  4290709089_4237840455_2   \n",
       "2  4290709089_4237840455  4290709089_4237840455_3   \n",
       "3  4290709089_4237840455  4290709089_4237840455_4   \n",
       "4  4290709089_4237840455  4290709089_4237840455_5   \n",
       "\n",
       "                                            filename series_description  \\\n",
       "0  E:\\data\\RSNA2024\\pngs_256\\4290709089_423784045...        Sagittal T1   \n",
       "1  E:\\data\\RSNA2024\\pngs_256\\4290709089_423784045...        Sagittal T1   \n",
       "2  E:\\data\\RSNA2024\\pngs_256\\4290709089_423784045...        Sagittal T1   \n",
       "3  E:\\data\\RSNA2024\\pngs_256\\4290709089_423784045...        Sagittal T1   \n",
       "4  E:\\data\\RSNA2024\\pngs_256\\4290709089_423784045...        Sagittal T1   \n",
       "\n",
       "   healthy  inst_min  inst_max  inst  inst_perc  \n",
       "0     True         1        15     0   0.000000  \n",
       "1     True         1        15     1   0.066667  \n",
       "2     True         1        15     2   0.133333  \n",
       "3    False         1        15     3   0.200000  \n",
       "4    False         1        15     4   0.266667  "
      ]
     },
     "execution_count": 91,
     "metadata": {},
     "output_type": "execute_result"
    }
   ],
   "source": [
    "files_df.head()"
   ]
  },
  {
   "cell_type": "code",
   "execution_count": 92,
   "id": "973d34c8-7a0b-4957-88f2-bbc4a0363bed",
   "metadata": {
    "scrolled": true
   },
   "outputs": [
    {
     "data": {
      "text/plain": [
       "array([ 0.33873636,  0.23012325,  0.22682774,  0.88190925,  0.73343027,\n",
       "        0.11781968,  0.29993597,  0.23833866,  0.30779052, -0.01414229,\n",
       "       -2.3519063 , -2.967921  , -0.5735621 ,  0.16390574,  0.3006201 ,\n",
       "       -0.0461531 , -0.02593388,  0.09562302, -0.36763376,  0.00402863,\n",
       "        0.00353625, -0.7168873 , -0.7207821 , -0.20600589,  0.00467128,\n",
       "       -0.16552348, -0.33822456, -0.522378  , -0.33080316, -0.06933895,\n",
       "        0.03251931, -0.58896506, -0.62490773, -0.21277331, -0.25933754,\n",
       "       -0.01933892, -0.32848984, -0.59432566,  0.2825241 ,  0.31772253,\n",
       "        0.43354785,  0.48586443,  0.4422894 ,  0.32901484,  0.2592741 ,\n",
       "       -0.8910734 , -0.76576924,  0.41889244,  0.298096  ,  0.34236282,\n",
       "        0.27443942,  0.3947888 ,  0.4185548 , -0.659636  , -0.7115665 ,\n",
       "       -0.75080234, -0.1974779 , -0.5757025 , -0.73482865, -0.78911024,\n",
       "       -0.69738305, -0.16099897, -0.10085956, -0.800374  , -0.69850844,\n",
       "       -0.55468136, -0.6870847 , -0.02546531,  0.03183502, -0.59950244,\n",
       "       -0.6050913 , -0.77379894, -0.81491166, -0.4438993 , -0.048556  ,\n",
       "       -0.58081514, -0.7557216 , -0.6533282 , -0.5785557 , -0.23687395,\n",
       "       -0.10120128, -0.82071376, -0.9592427 , -0.72271895, -0.68913776,\n",
       "       -0.33363056, -0.3674524 , -0.46865615, -0.5842494 , -0.53353214,\n",
       "       -0.71260405, -0.5969266 , -0.6280453 , -0.73821706, -0.81515527,\n",
       "        0.1861882 ], dtype=float32)"
      ]
     },
     "execution_count": 92,
     "metadata": {},
     "output_type": "execute_result"
    }
   ],
   "source": [
    "preds[0][:96, 1]"
   ]
  },
  {
   "cell_type": "code",
   "execution_count": 93,
   "id": "613b0106-31ec-4ac4-a5c8-8778b61d064b",
   "metadata": {
    "scrolled": true
   },
   "outputs": [
    {
     "data": {
      "text/plain": [
       "ids          4290709089_4237840455_2\n",
       "SCS                              0.0\n",
       "RNFN                             0.0\n",
       "LNFN                             0.0\n",
       "LSS                              0.0\n",
       "RSS                              0.0\n",
       "H                                1.0\n",
       "pred_SCS                    0.001521\n",
       "pred_RNFN                   0.001219\n",
       "pred_LNFN                   0.001093\n",
       "pred_LSS                    0.005625\n",
       "pred_RSS                    0.003293\n",
       "pred_H                      0.996517\n",
       "study_id                  4290709089\n",
       "series_id                 4237840455\n",
       "instance                           2\n",
       "Name: 1, dtype: object"
      ]
     },
     "execution_count": 93,
     "metadata": {},
     "output_type": "execute_result"
    }
   ],
   "source": [
    "results.iloc[1]"
   ]
  },
  {
   "cell_type": "code",
   "execution_count": 94,
   "id": "e0ef6075-a9b8-4d2c-8158-57c58117aff4",
   "metadata": {},
   "outputs": [
    {
     "data": {
      "text/plain": [
       "(147218, 128)"
      ]
     },
     "execution_count": 94,
     "metadata": {},
     "output_type": "execute_result"
    }
   ],
   "source": [
    "stacked = np.vstack(preds)\n",
    "stacked.shape"
   ]
  },
  {
   "cell_type": "code",
   "execution_count": 95,
   "id": "79a916a1-e74e-460f-bdab-2f89bd62fd5c",
   "metadata": {},
   "outputs": [],
   "source": [
    "np.save(CFG.stacked_path / f'stacked.npy', stacked)"
   ]
  },
  {
   "cell_type": "code",
   "execution_count": 96,
   "id": "03a9a9c7-703c-42d2-9fdf-2e3cd908bba5",
   "metadata": {},
   "outputs": [],
   "source": [
    "# stacked[:2]"
   ]
  },
  {
   "cell_type": "code",
   "execution_count": 97,
   "id": "3d96fcc3-c853-4abd-a926-9e211598749c",
   "metadata": {
    "scrolled": true
   },
   "outputs": [],
   "source": [
    "# for (embeds, ids) in zip(preds, ids):\n",
    "#     for emb, file in zip(embeds, ids):\n",
    "#         np.save(CFG.embeds_path / f'{file}.npy', emb)"
   ]
  },
  {
   "cell_type": "code",
   "execution_count": 98,
   "id": "b48000a8-19db-4035-9eed-1948c4a0339a",
   "metadata": {},
   "outputs": [],
   "source": [
    "# for x, y in results.groupby(['study_id', 'series_id']):   \n",
    "#     filename = CFG.stacked_path / f'{x[0]}_{x[1]}.npy'\n",
    "\n",
    "#     files = [CFG.embeds_path / f'{file}.npy' for file in y.ids.tolist()]\n",
    "\n",
    "#     files = [np.load(f) for f in files]\n",
    "\n",
    "#     stacked = np.vstack(files)\n",
    "\n",
    "#     np.save(filename, stacked)"
   ]
  },
  {
   "cell_type": "code",
   "execution_count": null,
   "id": "69a1740e-3a21-4ff1-ad02-992301de234e",
   "metadata": {},
   "outputs": [],
   "source": []
  },
  {
   "cell_type": "code",
   "execution_count": null,
   "id": "46490e98-13a8-481a-92af-95deb6463803",
   "metadata": {},
   "outputs": [],
   "source": []
  }
 ],
 "metadata": {
  "kernelspec": {
   "display_name": "Python 3 (ipykernel)",
   "language": "python",
   "name": "python3"
  },
  "language_info": {
   "codemirror_mode": {
    "name": "ipython",
    "version": 3
   },
   "file_extension": ".py",
   "mimetype": "text/x-python",
   "name": "python",
   "nbconvert_exporter": "python",
   "pygments_lexer": "ipython3",
   "version": "3.10.14"
  }
 },
 "nbformat": 4,
 "nbformat_minor": 5
}
