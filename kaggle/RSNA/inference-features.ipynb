{
 "cells": [
  {
   "cell_type": "code",
   "execution_count": 1,
   "id": "94998d9c-77e0-4a4b-a65c-04a3c2565b75",
   "metadata": {},
   "outputs": [],
   "source": [
    "%load_ext autoreload\n",
    "%autoreload 2"
   ]
  },
  {
   "cell_type": "markdown",
   "id": "07de2b8f-844e-4672-a41c-52beb2dae447",
   "metadata": {},
   "source": [
    "### Imports"
   ]
  },
  {
   "cell_type": "code",
   "execution_count": 2,
   "id": "6b9c245d-05d4-4ce0-8463-b4701d87ed55",
   "metadata": {},
   "outputs": [],
   "source": [
    "import os\n",
    "import time\n",
    "import wandb\n",
    "import torch\n",
    "import random\n",
    "import torchvision\n",
    "\n",
    "import numpy as np\n",
    "import pandas as pd\n",
    "import torchmetrics as tm \n",
    "# import plotly.express as px\n",
    "import pytorch_lightning as pl\n",
    "import matplotlib.pyplot as plt\n",
    "\n",
    "from torch import nn\n",
    "from pathlib import Path, PurePath\n",
    "from torch.utils.data import Dataset, DataLoader\n",
    "from torch.optim import Adam, AdamW, RMSprop # optmizers\n",
    "# from warmup_scheduler import GradualWarmupScheduler\n",
    "from sklearn.model_selection import train_test_split\n",
    "from torch.optim.lr_scheduler import CosineAnnealingLR, ReduceLROnPlateau # Learning rate schedulers\n",
    "\n",
    "import albumentations as A\n",
    "# from albumentations.pytorch import ToTensorV2\n",
    "\n",
    "from pytorch_lightning.loggers import WandbLogger\n",
    "from pytorch_lightning.callbacks import Callback, LearningRateMonitor\n",
    "from torchmetrics.wrappers import ClasswiseWrapper\n",
    "from torchmetrics import MetricCollection\n",
    "from torchmetrics.classification import MultilabelAccuracy, MultilabelPrecision, MultilabelRecall, MultilabelF1Score\n",
    "\n",
    "import timm"
   ]
  },
  {
   "cell_type": "code",
   "execution_count": 3,
   "id": "1ed3f2de-96ba-4f8e-9ba2-56b6a9ae1f03",
   "metadata": {},
   "outputs": [
    {
     "name": "stdout",
     "output_type": "stream",
     "text": [
      "timm version 1.0.8\n",
      "torch version 2.3.1\n"
     ]
    }
   ],
   "source": [
    "print('timm version', timm.__version__)\n",
    "print('torch version', torch.__version__)"
   ]
  },
  {
   "cell_type": "code",
   "execution_count": 4,
   "id": "ab5d0053-46c9-42af-b831-18e658830eff",
   "metadata": {},
   "outputs": [
    {
     "name": "stderr",
     "output_type": "stream",
     "text": [
      "wandb: Currently logged in as: rosu-lucian. Use `wandb login --relogin` to force relogin\n",
      "wandb: WARNING If you're specifying your api key in code, ensure this code is not shared publicly.\n",
      "wandb: WARNING Consider setting the WANDB_API_KEY environment variable, or running `wandb login` from the command line.\n",
      "wandb: Appending key for api.wandb.ai to your netrc file: C:\\Users\\Asus\\.netrc\n"
     ]
    },
    {
     "data": {
      "text/plain": [
       "True"
      ]
     },
     "execution_count": 4,
     "metadata": {},
     "output_type": "execute_result"
    }
   ],
   "source": [
    "wandb.login(key=os.getenv('wandb_api_key'))"
   ]
  },
  {
   "cell_type": "code",
   "execution_count": 5,
   "id": "28f4adb1-2f1b-4a20-a2bc-7e084943e493",
   "metadata": {},
   "outputs": [
    {
     "name": "stdout",
     "output_type": "stream",
     "text": [
      "cuda\n"
     ]
    }
   ],
   "source": [
    "# detect and define device \n",
    "device = torch.device('cuda' if torch.cuda.is_available() else 'cpu')\n",
    "\n",
    "print(device)"
   ]
  },
  {
   "cell_type": "code",
   "execution_count": 6,
   "id": "37c591ff-f6fc-49b5-bb2f-48fba3df6dac",
   "metadata": {},
   "outputs": [],
   "source": [
    "# for reproducibility\n",
    "def seed_torch(seed):\n",
    "    random.seed(seed)\n",
    "    os.environ['PYTHONHASHSEED'] = str(seed)\n",
    "    np.random.seed(seed)\n",
    "    torch.manual_seed(seed)\n",
    "    torch.cuda.manual_seed(seed)\n",
    "    torch.backends.cudnn.deterministic = True"
   ]
  },
  {
   "cell_type": "markdown",
   "id": "9d204a47-ec8f-43a3-b0e4-b2d1f57071c9",
   "metadata": {},
   "source": [
    "### Config"
   ]
  },
  {
   "cell_type": "code",
   "execution_count": 7,
   "id": "50f17de9-ed35-48ec-9f16-6dde1762dd00",
   "metadata": {},
   "outputs": [],
   "source": [
    "# TODO: maybe use condition and level for classes\n",
    "classes = ['SCS', 'RNFN', 'LNFN', 'LSS', 'RSS'] + ['H'] # add healthy class\n",
    "\n",
    "# classes = ['SCS', 'RNFN', 'LNFN'] + ['H'] # add healthy class\n",
    "\n",
    "# classes = ['LSS', 'RSS'] + ['H'] # add healthy class\n",
    "\n",
    "# classes = ['SCSL1L2', 'SCSL2L3', 'SCSL3L4', 'SCSL4L5', 'SCSL5S1', 'RNFNL4L5',\n",
    "#        'RNFNL5S1', 'RNFNL3L4', 'RNFNL1L2', 'RNFNL2L3', 'LNFNL1L2',\n",
    "#        'LNFNL4L5', 'LNFNL5S1', 'LNFNL2L3', 'LNFNL3L4', 'LSSL1L2',\n",
    "#        'RSSL1L2', 'LSSL2L3', 'RSSL2L3', 'LSSL3L4', 'RSSL3L4', 'LSSL4L5',\n",
    "#        'RSSL4L5', 'LSSL5S1', 'RSSL5S1'] + ['H']\n",
    "\n",
    "num_classes = len(classes)\n",
    "class2id = {b: i for i, b in enumerate(classes)}"
   ]
  },
  {
   "cell_type": "code",
   "execution_count": 8,
   "id": "2a88ef82-ca27-4626-8e23-9d6c39ed413f",
   "metadata": {},
   "outputs": [],
   "source": [
    "train_dir = Path('E:\\data\\RSNA2024')\n",
    "\n",
    "class CFG:\n",
    "\n",
    "    project = 'rsna-2'\n",
    "    comment = 'all-labels'\n",
    "\n",
    "    ckpt_path = Path(r\"E:\\data\\RSNA2024\\results\\ckpt\\eca_nfnet_l0 5e-05 10 eps 128neck\\ep_04_loss_0.17137.ckpt\")\n",
    "    embeds_path = Path(r\"E:\\data\\RSNA2024\\embeddings\")\n",
    "    stacked_path = Path(r\"E:\\data\\RSNA2024\\embeddings_stacked\")\n",
    "\n",
    "    ### model\n",
    "    model_name = 'eca_nfnet_l0' # 'resnet34', 'resnet200d', 'efficientnet_b1_pruned', 'efficientnetv2_m', efficientnet_b7 \n",
    "\n",
    "    image_size = 256\n",
    "    bottleneck_dim = 128\n",
    "    \n",
    "    ROOT_FOLDER = train_dir\n",
    "    DEST_FOLDER = train_dir\n",
    "    IMAGES_DIR = ROOT_FOLDER / 'train_images'\n",
    "    PNG_DIR = ROOT_FOLDER / f'pngs_{image_size}'\n",
    "    FILES_CSV = ROOT_FOLDER / 'train_files.csv'\n",
    "    TRAIN_CSV = ROOT_FOLDER / 'train.csv'\n",
    "    TRAIN_DESC_CSV = ROOT_FOLDER / 'train_series_descriptions.csv'\n",
    "    COORDS_CSV = ROOT_FOLDER / 'train_label_coordinates.csv'\n",
    "\n",
    "    RESULTS_DIR = train_dir / 'results'\n",
    "    CKPT_DIR = RESULTS_DIR / 'ckpt'\n",
    "\n",
    "    classes = classes\n",
    "\n",
    "    split_fraction = 0.95\n",
    "\n",
    "    MIXUP = False\n",
    "\n",
    "    ### training\n",
    "    BATCH_SIZE = 128\n",
    "    \n",
    "    ### Optimizer\n",
    "    N_EPOCHS = 10\n",
    "    USE_SCHD = False\n",
    "    WARM_EPOCHS = 3\n",
    "    COS_EPOCHS = N_EPOCHS - WARM_EPOCHS\n",
    "\n",
    "    # LEARNING_RATE = 5*1e-5 # best\n",
    "    LEARNING_RATE = 5e-5\n",
    "    \n",
    "    weight_decay = 1e-6 # for adamw\n",
    "\n",
    "    device = 'cuda' if torch.cuda.is_available() else 'cpu'\n",
    "\n",
    "    ### split train and validation sets\n",
    "    num_workers = 16\n",
    "\n",
    "    random_seed = 42\n",
    "\n",
    "CFG.N_LABELS = len(CFG.classes)\n",
    "\n",
    "seed_torch(seed = CFG.random_seed)"
   ]
  },
  {
   "cell_type": "code",
   "execution_count": 9,
   "id": "c1f9de21-c8ad-436d-aadb-1335d0f09e5d",
   "metadata": {},
   "outputs": [
    {
     "data": {
      "text/plain": [
       "(['SCS', 'RNFN', 'LNFN', 'LSS', 'RSS', 'H'],\n",
       " ['pred_SCS', 'pred_RNFN', 'pred_LNFN', 'pred_LSS', 'pred_RSS', 'pred_H'])"
      ]
     },
     "execution_count": 9,
     "metadata": {},
     "output_type": "execute_result"
    }
   ],
   "source": [
    "labels = CFG.classes\n",
    "pred_labels = [f'pred_{l}' for l in labels]\n",
    "\n",
    "labels, pred_labels"
   ]
  },
  {
   "cell_type": "code",
   "execution_count": 10,
   "id": "1ca8909d-bca7-41a4-8c2c-02679e626cf5",
   "metadata": {},
   "outputs": [
    {
     "data": {
      "text/plain": [
       "6"
      ]
     },
     "execution_count": 10,
     "metadata": {},
     "output_type": "execute_result"
    }
   ],
   "source": [
    "CFG.N_LABELS "
   ]
  },
  {
   "cell_type": "markdown",
   "id": "7986b07d-26fc-4516-b960-510a24466451",
   "metadata": {},
   "source": [
    "### Load data"
   ]
  },
  {
   "cell_type": "code",
   "execution_count": 11,
   "id": "dbcffb55-8b94-457b-b37c-c03b1bb2eff6",
   "metadata": {},
   "outputs": [
    {
     "data": {
      "text/plain": [
       "((1975, 26), (6294, 3), (48692, 18), (147218, 20))"
      ]
     },
     "execution_count": 11,
     "metadata": {},
     "output_type": "execute_result"
    }
   ],
   "source": [
    "train_df = pd.read_csv(CFG.TRAIN_CSV)\n",
    "train_desc_df = pd.read_csv(CFG.TRAIN_DESC_CSV)\n",
    "coords_df = pd.read_csv(CFG.COORDS_CSV)\n",
    "files_df = pd.read_csv(CFG.FILES_CSV)\n",
    "\n",
    "train_df.shape, train_desc_df.shape, coords_df.shape, files_df.shape"
   ]
  },
  {
   "cell_type": "code",
   "execution_count": 12,
   "id": "7c8fb69c-4b8a-4e5d-9b14-4f105d14e76f",
   "metadata": {},
   "outputs": [
    {
     "data": {
      "text/html": [
       "<div>\n",
       "<style scoped>\n",
       "    .dataframe tbody tr th:only-of-type {\n",
       "        vertical-align: middle;\n",
       "    }\n",
       "\n",
       "    .dataframe tbody tr th {\n",
       "        vertical-align: top;\n",
       "    }\n",
       "\n",
       "    .dataframe thead th {\n",
       "        text-align: right;\n",
       "    }\n",
       "</style>\n",
       "<table border=\"1\" class=\"dataframe\">\n",
       "  <thead>\n",
       "    <tr style=\"text-align: right;\">\n",
       "      <th></th>\n",
       "      <th>study_id</th>\n",
       "      <th>SCSL1L2</th>\n",
       "      <th>SCSL2L3</th>\n",
       "      <th>SCSL3L4</th>\n",
       "      <th>SCSL4L5</th>\n",
       "      <th>SCSL5S1</th>\n",
       "      <th>LNFNL1L2</th>\n",
       "      <th>LNFNL2L3</th>\n",
       "      <th>LNFNL3L4</th>\n",
       "      <th>LNFNL4L5</th>\n",
       "      <th>...</th>\n",
       "      <th>LSSL1L2</th>\n",
       "      <th>LSSL2L3</th>\n",
       "      <th>LSSL3L4</th>\n",
       "      <th>LSSL4L5</th>\n",
       "      <th>LSSL5S1</th>\n",
       "      <th>RSSL1L2</th>\n",
       "      <th>RSSL2L3</th>\n",
       "      <th>RSSL3L4</th>\n",
       "      <th>RSSL4L5</th>\n",
       "      <th>RSSL5S1</th>\n",
       "    </tr>\n",
       "  </thead>\n",
       "  <tbody>\n",
       "    <tr>\n",
       "      <th>1825</th>\n",
       "      <td>3956571539</td>\n",
       "      <td>N</td>\n",
       "      <td>N</td>\n",
       "      <td>N</td>\n",
       "      <td>N</td>\n",
       "      <td>N</td>\n",
       "      <td>N</td>\n",
       "      <td>N</td>\n",
       "      <td>N</td>\n",
       "      <td>M</td>\n",
       "      <td>...</td>\n",
       "      <td>N</td>\n",
       "      <td>N</td>\n",
       "      <td>N</td>\n",
       "      <td>M</td>\n",
       "      <td>N</td>\n",
       "      <td>N</td>\n",
       "      <td>N</td>\n",
       "      <td>N</td>\n",
       "      <td>N</td>\n",
       "      <td>M</td>\n",
       "    </tr>\n",
       "    <tr>\n",
       "      <th>1735</th>\n",
       "      <td>3768387090</td>\n",
       "      <td>N</td>\n",
       "      <td>N</td>\n",
       "      <td>N</td>\n",
       "      <td>M</td>\n",
       "      <td>N</td>\n",
       "      <td>N</td>\n",
       "      <td>N</td>\n",
       "      <td>N</td>\n",
       "      <td>N</td>\n",
       "      <td>...</td>\n",
       "      <td>N</td>\n",
       "      <td>N</td>\n",
       "      <td>N</td>\n",
       "      <td>S</td>\n",
       "      <td>N</td>\n",
       "      <td>N</td>\n",
       "      <td>N</td>\n",
       "      <td>N</td>\n",
       "      <td>N</td>\n",
       "      <td>N</td>\n",
       "    </tr>\n",
       "    <tr>\n",
       "      <th>678</th>\n",
       "      <td>1504031267</td>\n",
       "      <td>N</td>\n",
       "      <td>N</td>\n",
       "      <td>N</td>\n",
       "      <td>N</td>\n",
       "      <td>N</td>\n",
       "      <td>N</td>\n",
       "      <td>N</td>\n",
       "      <td>M</td>\n",
       "      <td>M</td>\n",
       "      <td>...</td>\n",
       "      <td>N</td>\n",
       "      <td>M</td>\n",
       "      <td>M</td>\n",
       "      <td>N</td>\n",
       "      <td>N</td>\n",
       "      <td>N</td>\n",
       "      <td>N</td>\n",
       "      <td>N</td>\n",
       "      <td>N</td>\n",
       "      <td>N</td>\n",
       "    </tr>\n",
       "    <tr>\n",
       "      <th>351</th>\n",
       "      <td>783154228</td>\n",
       "      <td>N</td>\n",
       "      <td>M</td>\n",
       "      <td>S</td>\n",
       "      <td>N</td>\n",
       "      <td>N</td>\n",
       "      <td>M</td>\n",
       "      <td>S</td>\n",
       "      <td>M</td>\n",
       "      <td>S</td>\n",
       "      <td>...</td>\n",
       "      <td>N</td>\n",
       "      <td>M</td>\n",
       "      <td>M</td>\n",
       "      <td>N</td>\n",
       "      <td>N</td>\n",
       "      <td>N</td>\n",
       "      <td>M</td>\n",
       "      <td>M</td>\n",
       "      <td>M</td>\n",
       "      <td>M</td>\n",
       "    </tr>\n",
       "    <tr>\n",
       "      <th>1791</th>\n",
       "      <td>3884015124</td>\n",
       "      <td>M</td>\n",
       "      <td>N</td>\n",
       "      <td>M</td>\n",
       "      <td>N</td>\n",
       "      <td>N</td>\n",
       "      <td>N</td>\n",
       "      <td>N</td>\n",
       "      <td>N</td>\n",
       "      <td>M</td>\n",
       "      <td>...</td>\n",
       "      <td>M</td>\n",
       "      <td>N</td>\n",
       "      <td>N</td>\n",
       "      <td>S</td>\n",
       "      <td>S</td>\n",
       "      <td>M</td>\n",
       "      <td>N</td>\n",
       "      <td>M</td>\n",
       "      <td>M</td>\n",
       "      <td>M</td>\n",
       "    </tr>\n",
       "  </tbody>\n",
       "</table>\n",
       "<p>5 rows × 26 columns</p>\n",
       "</div>"
      ],
      "text/plain": [
       "        study_id SCSL1L2 SCSL2L3 SCSL3L4 SCSL4L5 SCSL5S1 LNFNL1L2 LNFNL2L3  \\\n",
       "1825  3956571539       N       N       N       N       N        N        N   \n",
       "1735  3768387090       N       N       N       M       N        N        N   \n",
       "678   1504031267       N       N       N       N       N        N        N   \n",
       "351    783154228       N       M       S       N       N        M        S   \n",
       "1791  3884015124       M       N       M       N       N        N        N   \n",
       "\n",
       "     LNFNL3L4 LNFNL4L5  ... LSSL1L2 LSSL2L3 LSSL3L4 LSSL4L5 LSSL5S1 RSSL1L2  \\\n",
       "1825        N        M  ...       N       N       N       M       N       N   \n",
       "1735        N        N  ...       N       N       N       S       N       N   \n",
       "678         M        M  ...       N       M       M       N       N       N   \n",
       "351         M        S  ...       N       M       M       N       N       N   \n",
       "1791        N        M  ...       M       N       N       S       S       M   \n",
       "\n",
       "     RSSL2L3 RSSL3L4 RSSL4L5 RSSL5S1  \n",
       "1825       N       N       N       M  \n",
       "1735       N       N       N       N  \n",
       "678        N       N       N       N  \n",
       "351        M       M       M       M  \n",
       "1791       N       M       M       M  \n",
       "\n",
       "[5 rows x 26 columns]"
      ]
     },
     "execution_count": 12,
     "metadata": {},
     "output_type": "execute_result"
    }
   ],
   "source": [
    "train_df.sample(5)"
   ]
  },
  {
   "cell_type": "code",
   "execution_count": 13,
   "id": "dab0492a-5fda-4eec-a0e9-01e41b9a4d1d",
   "metadata": {},
   "outputs": [
    {
     "data": {
      "text/html": [
       "<div>\n",
       "<style scoped>\n",
       "    .dataframe tbody tr th:only-of-type {\n",
       "        vertical-align: middle;\n",
       "    }\n",
       "\n",
       "    .dataframe tbody tr th {\n",
       "        vertical-align: top;\n",
       "    }\n",
       "\n",
       "    .dataframe thead th {\n",
       "        text-align: right;\n",
       "    }\n",
       "</style>\n",
       "<table border=\"1\" class=\"dataframe\">\n",
       "  <thead>\n",
       "    <tr style=\"text-align: right;\">\n",
       "      <th></th>\n",
       "      <th>study_id</th>\n",
       "      <th>series_id</th>\n",
       "      <th>instance</th>\n",
       "      <th>condition</th>\n",
       "      <th>level</th>\n",
       "      <th>x</th>\n",
       "      <th>y</th>\n",
       "      <th>ss_id</th>\n",
       "      <th>instance_id</th>\n",
       "      <th>cl</th>\n",
       "      <th>series_description</th>\n",
       "      <th>rows</th>\n",
       "      <th>columns</th>\n",
       "      <th>filename</th>\n",
       "      <th>patientposition</th>\n",
       "      <th>x_perc</th>\n",
       "      <th>y_perc</th>\n",
       "      <th>inst_perc</th>\n",
       "    </tr>\n",
       "  </thead>\n",
       "  <tbody>\n",
       "    <tr>\n",
       "      <th>9389</th>\n",
       "      <td>838134337</td>\n",
       "      <td>1345841225</td>\n",
       "      <td>8</td>\n",
       "      <td>RNFN</td>\n",
       "      <td>L1L2</td>\n",
       "      <td>299.627093</td>\n",
       "      <td>141.857522</td>\n",
       "      <td>838134337_1345841225</td>\n",
       "      <td>838134337_1345841225_8</td>\n",
       "      <td>RNFNL1L2</td>\n",
       "      <td>Sagittal T1</td>\n",
       "      <td>512</td>\n",
       "      <td>512</td>\n",
       "      <td>E:\\data\\RSNA2024\\pngs_256\\838134337_1345841225...</td>\n",
       "      <td>HFS</td>\n",
       "      <td>0.585209</td>\n",
       "      <td>0.277065</td>\n",
       "      <td>0.350000</td>\n",
       "    </tr>\n",
       "    <tr>\n",
       "      <th>34671</th>\n",
       "      <td>3068697362</td>\n",
       "      <td>598012396</td>\n",
       "      <td>5</td>\n",
       "      <td>LNFN</td>\n",
       "      <td>L5S1</td>\n",
       "      <td>132.562118</td>\n",
       "      <td>195.910387</td>\n",
       "      <td>3068697362_598012396</td>\n",
       "      <td>3068697362_598012396_5</td>\n",
       "      <td>LNFNL5S1</td>\n",
       "      <td>Sagittal T1</td>\n",
       "      <td>256</td>\n",
       "      <td>256</td>\n",
       "      <td>E:\\data\\RSNA2024\\pngs_256\\3068697362_598012396...</td>\n",
       "      <td>HFS</td>\n",
       "      <td>0.517821</td>\n",
       "      <td>0.765275</td>\n",
       "      <td>0.222222</td>\n",
       "    </tr>\n",
       "  </tbody>\n",
       "</table>\n",
       "</div>"
      ],
      "text/plain": [
       "         study_id   series_id  instance condition level           x  \\\n",
       "9389    838134337  1345841225         8      RNFN  L1L2  299.627093   \n",
       "34671  3068697362   598012396         5      LNFN  L5S1  132.562118   \n",
       "\n",
       "                y                 ss_id             instance_id        cl  \\\n",
       "9389   141.857522  838134337_1345841225  838134337_1345841225_8  RNFNL1L2   \n",
       "34671  195.910387  3068697362_598012396  3068697362_598012396_5  LNFNL5S1   \n",
       "\n",
       "      series_description  rows  columns  \\\n",
       "9389         Sagittal T1   512      512   \n",
       "34671        Sagittal T1   256      256   \n",
       "\n",
       "                                                filename patientposition  \\\n",
       "9389   E:\\data\\RSNA2024\\pngs_256\\838134337_1345841225...             HFS   \n",
       "34671  E:\\data\\RSNA2024\\pngs_256\\3068697362_598012396...             HFS   \n",
       "\n",
       "         x_perc    y_perc  inst_perc  \n",
       "9389   0.585209  0.277065   0.350000  \n",
       "34671  0.517821  0.765275   0.222222  "
      ]
     },
     "execution_count": 13,
     "metadata": {},
     "output_type": "execute_result"
    }
   ],
   "source": [
    "coords_df.sample(2)"
   ]
  },
  {
   "cell_type": "code",
   "execution_count": 14,
   "id": "14952793-0c6d-41c7-b499-ec7de1626ec4",
   "metadata": {},
   "outputs": [
    {
     "data": {
      "text/plain": [
       "array(['SCS', 'RNFN', 'LNFN', 'LSS', 'RSS'], dtype=object)"
      ]
     },
     "execution_count": 14,
     "metadata": {},
     "output_type": "execute_result"
    }
   ],
   "source": [
    "coords_df.condition.unique()"
   ]
  },
  {
   "cell_type": "code",
   "execution_count": 15,
   "id": "a6001622-409c-458a-9c0b-ca67bf4cfd51",
   "metadata": {},
   "outputs": [
    {
     "data": {
      "text/plain": [
       "array(['SCSL1L2', 'SCSL2L3', 'SCSL3L4', 'SCSL4L5', 'SCSL5S1', 'RNFNL4L5',\n",
       "       'RNFNL5S1', 'RNFNL3L4', 'RNFNL1L2', 'RNFNL2L3', 'LNFNL1L2',\n",
       "       'LNFNL4L5', 'LNFNL5S1', 'LNFNL2L3', 'LNFNL3L4', 'LSSL1L2',\n",
       "       'RSSL1L2', 'LSSL2L3', 'RSSL2L3', 'LSSL3L4', 'RSSL3L4', 'LSSL4L5',\n",
       "       'RSSL4L5', 'LSSL5S1', 'RSSL5S1'], dtype=object)"
      ]
     },
     "execution_count": 15,
     "metadata": {},
     "output_type": "execute_result"
    }
   ],
   "source": [
    "coords_df.cl.unique()"
   ]
  },
  {
   "cell_type": "code",
   "execution_count": 16,
   "id": "32cba838-ac37-4132-8798-4cd30e915717",
   "metadata": {},
   "outputs": [],
   "source": [
    "# coords_df.groupby(['study_id','series_id']).instance.count()"
   ]
  },
  {
   "cell_type": "code",
   "execution_count": 17,
   "id": "b25f6d1b-5457-4192-886e-67196f1dac60",
   "metadata": {},
   "outputs": [
    {
     "data": {
      "text/html": [
       "<div>\n",
       "<style scoped>\n",
       "    .dataframe tbody tr th:only-of-type {\n",
       "        vertical-align: middle;\n",
       "    }\n",
       "\n",
       "    .dataframe tbody tr th {\n",
       "        vertical-align: top;\n",
       "    }\n",
       "\n",
       "    .dataframe thead th {\n",
       "        text-align: right;\n",
       "    }\n",
       "</style>\n",
       "<table border=\"1\" class=\"dataframe\">\n",
       "  <thead>\n",
       "    <tr style=\"text-align: right;\">\n",
       "      <th></th>\n",
       "      <th>study_id</th>\n",
       "      <th>series_id</th>\n",
       "      <th>series_description</th>\n",
       "    </tr>\n",
       "  </thead>\n",
       "  <tbody>\n",
       "    <tr>\n",
       "      <th>3465</th>\n",
       "      <td>2403128572</td>\n",
       "      <td>1121608562</td>\n",
       "      <td>Sagittal T2/STIR</td>\n",
       "    </tr>\n",
       "    <tr>\n",
       "      <th>2413</th>\n",
       "      <td>1671291853</td>\n",
       "      <td>1440089134</td>\n",
       "      <td>Axial T2</td>\n",
       "    </tr>\n",
       "    <tr>\n",
       "      <th>5109</th>\n",
       "      <td>3480977444</td>\n",
       "      <td>2937779262</td>\n",
       "      <td>Axial T2</td>\n",
       "    </tr>\n",
       "    <tr>\n",
       "      <th>3727</th>\n",
       "      <td>2568819355</td>\n",
       "      <td>3366910731</td>\n",
       "      <td>Axial T2</td>\n",
       "    </tr>\n",
       "    <tr>\n",
       "      <th>5996</th>\n",
       "      <td>4095029738</td>\n",
       "      <td>3276164246</td>\n",
       "      <td>Sagittal T2/STIR</td>\n",
       "    </tr>\n",
       "  </tbody>\n",
       "</table>\n",
       "</div>"
      ],
      "text/plain": [
       "        study_id   series_id series_description\n",
       "3465  2403128572  1121608562   Sagittal T2/STIR\n",
       "2413  1671291853  1440089134           Axial T2\n",
       "5109  3480977444  2937779262           Axial T2\n",
       "3727  2568819355  3366910731           Axial T2\n",
       "5996  4095029738  3276164246   Sagittal T2/STIR"
      ]
     },
     "execution_count": 17,
     "metadata": {},
     "output_type": "execute_result"
    }
   ],
   "source": [
    "train_desc_df.sample(5)"
   ]
  },
  {
   "cell_type": "code",
   "execution_count": 18,
   "id": "0aecf1f7-deae-4c20-80c2-e63a58b86e8a",
   "metadata": {},
   "outputs": [
    {
     "data": {
      "text/html": [
       "<div>\n",
       "<style scoped>\n",
       "    .dataframe tbody tr th:only-of-type {\n",
       "        vertical-align: middle;\n",
       "    }\n",
       "\n",
       "    .dataframe tbody tr th {\n",
       "        vertical-align: top;\n",
       "    }\n",
       "\n",
       "    .dataframe thead th {\n",
       "        text-align: right;\n",
       "    }\n",
       "</style>\n",
       "<table border=\"1\" class=\"dataframe\">\n",
       "  <thead>\n",
       "    <tr style=\"text-align: right;\">\n",
       "      <th></th>\n",
       "      <th>study_id</th>\n",
       "      <th>series_id</th>\n",
       "      <th>image</th>\n",
       "      <th>proj</th>\n",
       "      <th>instancenumber</th>\n",
       "      <th>rows</th>\n",
       "      <th>columns</th>\n",
       "      <th>slicethickness</th>\n",
       "      <th>spacingbetweenslices</th>\n",
       "      <th>patientposition</th>\n",
       "      <th>seriesdescription</th>\n",
       "      <th>ss_id</th>\n",
       "      <th>instance_id</th>\n",
       "      <th>filename</th>\n",
       "      <th>series_description</th>\n",
       "      <th>healthy</th>\n",
       "      <th>inst_min</th>\n",
       "      <th>inst_max</th>\n",
       "      <th>inst</th>\n",
       "      <th>inst_perc</th>\n",
       "    </tr>\n",
       "  </thead>\n",
       "  <tbody>\n",
       "    <tr>\n",
       "      <th>14665</th>\n",
       "      <td>1383495058</td>\n",
       "      <td>2595899035</td>\n",
       "      <td>42</td>\n",
       "      <td>-614</td>\n",
       "      <td>42</td>\n",
       "      <td>640</td>\n",
       "      <td>640</td>\n",
       "      <td>3.5</td>\n",
       "      <td>3.85</td>\n",
       "      <td>HFS</td>\n",
       "      <td>T2</td>\n",
       "      <td>1383495058_2595899035</td>\n",
       "      <td>1383495058_2595899035_42</td>\n",
       "      <td>E:\\data\\RSNA2024\\pngs_256\\1383495058_259589903...</td>\n",
       "      <td>Axial T2</td>\n",
       "      <td>True</td>\n",
       "      <td>1</td>\n",
       "      <td>53</td>\n",
       "      <td>41</td>\n",
       "      <td>0.773585</td>\n",
       "    </tr>\n",
       "    <tr>\n",
       "      <th>13125</th>\n",
       "      <td>1336412861</td>\n",
       "      <td>1402829528</td>\n",
       "      <td>17</td>\n",
       "      <td>-28</td>\n",
       "      <td>17</td>\n",
       "      <td>448</td>\n",
       "      <td>448</td>\n",
       "      <td>3.0</td>\n",
       "      <td>3.60</td>\n",
       "      <td>HFS</td>\n",
       "      <td>T1</td>\n",
       "      <td>1336412861_1402829528</td>\n",
       "      <td>1336412861_1402829528_17</td>\n",
       "      <td>E:\\data\\RSNA2024\\pngs_256\\1336412861_140282952...</td>\n",
       "      <td>Sagittal T1</td>\n",
       "      <td>False</td>\n",
       "      <td>1</td>\n",
       "      <td>21</td>\n",
       "      <td>16</td>\n",
       "      <td>0.761905</td>\n",
       "    </tr>\n",
       "    <tr>\n",
       "      <th>26491</th>\n",
       "      <td>1716586508</td>\n",
       "      <td>3464148753</td>\n",
       "      <td>8</td>\n",
       "      <td>107</td>\n",
       "      <td>8</td>\n",
       "      <td>360</td>\n",
       "      <td>384</td>\n",
       "      <td>4.0</td>\n",
       "      <td>4.92</td>\n",
       "      <td>HFS</td>\n",
       "      <td>NaN</td>\n",
       "      <td>1716586508_3464148753</td>\n",
       "      <td>1716586508_3464148753_8</td>\n",
       "      <td>E:\\data\\RSNA2024\\pngs_256\\1716586508_346414875...</td>\n",
       "      <td>Axial T2</td>\n",
       "      <td>True</td>\n",
       "      <td>1</td>\n",
       "      <td>23</td>\n",
       "      <td>7</td>\n",
       "      <td>0.304348</td>\n",
       "    </tr>\n",
       "  </tbody>\n",
       "</table>\n",
       "</div>"
      ],
      "text/plain": [
       "         study_id   series_id  image  proj  instancenumber  rows  columns  \\\n",
       "14665  1383495058  2595899035     42  -614              42   640      640   \n",
       "13125  1336412861  1402829528     17   -28              17   448      448   \n",
       "26491  1716586508  3464148753      8   107               8   360      384   \n",
       "\n",
       "       slicethickness  spacingbetweenslices patientposition seriesdescription  \\\n",
       "14665             3.5                  3.85             HFS                T2   \n",
       "13125             3.0                  3.60             HFS                T1   \n",
       "26491             4.0                  4.92             HFS               NaN   \n",
       "\n",
       "                       ss_id               instance_id  \\\n",
       "14665  1383495058_2595899035  1383495058_2595899035_42   \n",
       "13125  1336412861_1402829528  1336412861_1402829528_17   \n",
       "26491  1716586508_3464148753   1716586508_3464148753_8   \n",
       "\n",
       "                                                filename series_description  \\\n",
       "14665  E:\\data\\RSNA2024\\pngs_256\\1383495058_259589903...           Axial T2   \n",
       "13125  E:\\data\\RSNA2024\\pngs_256\\1336412861_140282952...        Sagittal T1   \n",
       "26491  E:\\data\\RSNA2024\\pngs_256\\1716586508_346414875...           Axial T2   \n",
       "\n",
       "       healthy  inst_min  inst_max  inst  inst_perc  \n",
       "14665     True         1        53    41   0.773585  \n",
       "13125    False         1        21    16   0.761905  \n",
       "26491     True         1        23     7   0.304348  "
      ]
     },
     "execution_count": 18,
     "metadata": {},
     "output_type": "execute_result"
    }
   ],
   "source": [
    "files_df.sample(3)"
   ]
  },
  {
   "cell_type": "code",
   "execution_count": 19,
   "id": "ef87e649-93e0-4ff0-b267-cbf154535c8d",
   "metadata": {},
   "outputs": [
    {
     "data": {
      "text/plain": [
       "(147218, 20)"
      ]
     },
     "execution_count": 19,
     "metadata": {},
     "output_type": "execute_result"
    }
   ],
   "source": [
    "files_df.shape"
   ]
  },
  {
   "cell_type": "code",
   "execution_count": 20,
   "id": "128955be-0698-4c1e-bdf5-4f26b3d47b5a",
   "metadata": {},
   "outputs": [
    {
     "data": {
      "text/plain": [
       "(24546, 6291, 147218)"
      ]
     },
     "execution_count": 20,
     "metadata": {},
     "output_type": "execute_result"
    }
   ],
   "source": [
    "# labels, potive imgs, total imgs\n",
    "coords_df.instance_id.nunique(), coords_df.ss_id.nunique(), files_df.shape[0]"
   ]
  },
  {
   "cell_type": "code",
   "execution_count": 21,
   "id": "06664a85-a3ab-4bb9-8e60-c34e9fdc53c5",
   "metadata": {},
   "outputs": [
    {
     "data": {
      "text/html": [
       "<div>\n",
       "<style scoped>\n",
       "    .dataframe tbody tr th:only-of-type {\n",
       "        vertical-align: middle;\n",
       "    }\n",
       "\n",
       "    .dataframe tbody tr th {\n",
       "        vertical-align: top;\n",
       "    }\n",
       "\n",
       "    .dataframe thead th {\n",
       "        text-align: right;\n",
       "    }\n",
       "</style>\n",
       "<table border=\"1\" class=\"dataframe\">\n",
       "  <thead>\n",
       "    <tr style=\"text-align: right;\">\n",
       "      <th></th>\n",
       "      <th>study_id</th>\n",
       "      <th>series_id</th>\n",
       "      <th>instance</th>\n",
       "      <th>condition</th>\n",
       "      <th>level</th>\n",
       "      <th>x</th>\n",
       "      <th>y</th>\n",
       "      <th>ss_id</th>\n",
       "      <th>instance_id</th>\n",
       "      <th>cl</th>\n",
       "      <th>series_description</th>\n",
       "      <th>rows</th>\n",
       "      <th>columns</th>\n",
       "      <th>filename</th>\n",
       "      <th>patientposition</th>\n",
       "      <th>x_perc</th>\n",
       "      <th>y_perc</th>\n",
       "      <th>inst_perc</th>\n",
       "    </tr>\n",
       "  </thead>\n",
       "  <tbody>\n",
       "    <tr>\n",
       "      <th>34000</th>\n",
       "      <td>3010856283</td>\n",
       "      <td>3908286977</td>\n",
       "      <td>9</td>\n",
       "      <td>SCS</td>\n",
       "      <td>L3L4</td>\n",
       "      <td>167.832287</td>\n",
       "      <td>148.588357</td>\n",
       "      <td>3010856283_3908286977</td>\n",
       "      <td>3010856283_3908286977_9</td>\n",
       "      <td>SCSL3L4</td>\n",
       "      <td>Sagittal T2/STIR</td>\n",
       "      <td>320</td>\n",
       "      <td>320</td>\n",
       "      <td>E:\\data\\RSNA2024\\pngs_256\\3010856283_390828697...</td>\n",
       "      <td>HFS</td>\n",
       "      <td>0.524476</td>\n",
       "      <td>0.464339</td>\n",
       "      <td>0.470588</td>\n",
       "    </tr>\n",
       "    <tr>\n",
       "      <th>35159</th>\n",
       "      <td>3127048494</td>\n",
       "      <td>4135498856</td>\n",
       "      <td>10</td>\n",
       "      <td>LSS</td>\n",
       "      <td>L3L4</td>\n",
       "      <td>274.673837</td>\n",
       "      <td>262.827798</td>\n",
       "      <td>3127048494_4135498856</td>\n",
       "      <td>3127048494_4135498856_10</td>\n",
       "      <td>LSSL3L4</td>\n",
       "      <td>Axial T2</td>\n",
       "      <td>512</td>\n",
       "      <td>512</td>\n",
       "      <td>E:\\data\\RSNA2024\\pngs_256\\3127048494_413549885...</td>\n",
       "      <td>HFS</td>\n",
       "      <td>0.536472</td>\n",
       "      <td>0.513336</td>\n",
       "      <td>0.450000</td>\n",
       "    </tr>\n",
       "    <tr>\n",
       "      <th>35173</th>\n",
       "      <td>3128795155</td>\n",
       "      <td>483456514</td>\n",
       "      <td>6</td>\n",
       "      <td>RNFN</td>\n",
       "      <td>L3L4</td>\n",
       "      <td>224.246055</td>\n",
       "      <td>234.605452</td>\n",
       "      <td>3128795155_483456514</td>\n",
       "      <td>3128795155_483456514_6</td>\n",
       "      <td>RNFNL3L4</td>\n",
       "      <td>Sagittal T1</td>\n",
       "      <td>448</td>\n",
       "      <td>448</td>\n",
       "      <td>E:\\data\\RSNA2024\\pngs_256\\3128795155_483456514...</td>\n",
       "      <td>HFS</td>\n",
       "      <td>0.500549</td>\n",
       "      <td>0.523673</td>\n",
       "      <td>0.238095</td>\n",
       "    </tr>\n",
       "  </tbody>\n",
       "</table>\n",
       "</div>"
      ],
      "text/plain": [
       "         study_id   series_id  instance condition level           x  \\\n",
       "34000  3010856283  3908286977         9       SCS  L3L4  167.832287   \n",
       "35159  3127048494  4135498856        10       LSS  L3L4  274.673837   \n",
       "35173  3128795155   483456514         6      RNFN  L3L4  224.246055   \n",
       "\n",
       "                y                  ss_id               instance_id        cl  \\\n",
       "34000  148.588357  3010856283_3908286977   3010856283_3908286977_9   SCSL3L4   \n",
       "35159  262.827798  3127048494_4135498856  3127048494_4135498856_10   LSSL3L4   \n",
       "35173  234.605452   3128795155_483456514    3128795155_483456514_6  RNFNL3L4   \n",
       "\n",
       "      series_description  rows  columns  \\\n",
       "34000   Sagittal T2/STIR   320      320   \n",
       "35159           Axial T2   512      512   \n",
       "35173        Sagittal T1   448      448   \n",
       "\n",
       "                                                filename patientposition  \\\n",
       "34000  E:\\data\\RSNA2024\\pngs_256\\3010856283_390828697...             HFS   \n",
       "35159  E:\\data\\RSNA2024\\pngs_256\\3127048494_413549885...             HFS   \n",
       "35173  E:\\data\\RSNA2024\\pngs_256\\3128795155_483456514...             HFS   \n",
       "\n",
       "         x_perc    y_perc  inst_perc  \n",
       "34000  0.524476  0.464339   0.470588  \n",
       "35159  0.536472  0.513336   0.450000  \n",
       "35173  0.500549  0.523673   0.238095  "
      ]
     },
     "execution_count": 21,
     "metadata": {},
     "output_type": "execute_result"
    }
   ],
   "source": [
    "coords_df.sample(3)"
   ]
  },
  {
   "cell_type": "code",
   "execution_count": null,
   "id": "842a0bd0-0f26-4523-8ce9-3f20b3328b07",
   "metadata": {},
   "outputs": [],
   "source": []
  },
  {
   "cell_type": "code",
   "execution_count": 22,
   "id": "26d9d011-fc2e-46e0-81df-ff88b1bf4944",
   "metadata": {},
   "outputs": [
    {
     "data": {
      "text/plain": [
       "((147218, 20), (48692, 18))"
      ]
     },
     "execution_count": 22,
     "metadata": {},
     "output_type": "execute_result"
    }
   ],
   "source": [
    "files_df.shape, coords_df.shape"
   ]
  },
  {
   "cell_type": "code",
   "execution_count": 24,
   "id": "5c3f8d83-d76a-4447-ab8a-5ab33bb77c59",
   "metadata": {},
   "outputs": [],
   "source": [
    "# files_df.cl.unique()"
   ]
  },
  {
   "cell_type": "code",
   "execution_count": 25,
   "id": "2f8833fa-9464-4ed0-9106-c292394aad9f",
   "metadata": {},
   "outputs": [
    {
     "data": {
      "text/plain": [
       "(24546, 24546)"
      ]
     },
     "execution_count": 25,
     "metadata": {},
     "output_type": "execute_result"
    }
   ],
   "source": [
    "coords_df.instance_id.nunique(), coords_df.filename.nunique()"
   ]
  },
  {
   "cell_type": "code",
   "execution_count": 26,
   "id": "443e8317-70ae-4983-a9ec-9daef8e3b156",
   "metadata": {},
   "outputs": [
    {
     "data": {
      "text/plain": [
       "(1, 10, 1.983704065835574)"
      ]
     },
     "execution_count": 26,
     "metadata": {},
     "output_type": "execute_result"
    }
   ],
   "source": [
    "# conditions per file\n",
    "grp = coords_df.groupby('instance_id').condition\n",
    "grp.count().min(), grp.count().max(), grp.count().mean()"
   ]
  },
  {
   "cell_type": "code",
   "execution_count": 27,
   "id": "6253049a-244e-4e6a-baf8-b08605a7be41",
   "metadata": {},
   "outputs": [
    {
     "data": {
      "text/html": [
       "<div>\n",
       "<style scoped>\n",
       "    .dataframe tbody tr th:only-of-type {\n",
       "        vertical-align: middle;\n",
       "    }\n",
       "\n",
       "    .dataframe tbody tr th {\n",
       "        vertical-align: top;\n",
       "    }\n",
       "\n",
       "    .dataframe thead th {\n",
       "        text-align: right;\n",
       "    }\n",
       "</style>\n",
       "<table border=\"1\" class=\"dataframe\">\n",
       "  <thead>\n",
       "    <tr style=\"text-align: right;\">\n",
       "      <th></th>\n",
       "      <th>study_id</th>\n",
       "      <th>series_id</th>\n",
       "      <th>instance</th>\n",
       "      <th>condition</th>\n",
       "      <th>level</th>\n",
       "      <th>x</th>\n",
       "      <th>y</th>\n",
       "      <th>ss_id</th>\n",
       "      <th>instance_id</th>\n",
       "      <th>cl</th>\n",
       "      <th>series_description</th>\n",
       "      <th>rows</th>\n",
       "      <th>columns</th>\n",
       "      <th>filename</th>\n",
       "      <th>patientposition</th>\n",
       "      <th>x_perc</th>\n",
       "      <th>y_perc</th>\n",
       "      <th>inst_perc</th>\n",
       "    </tr>\n",
       "  </thead>\n",
       "  <tbody>\n",
       "    <tr>\n",
       "      <th>28080</th>\n",
       "      <td>2509953825</td>\n",
       "      <td>3594374345</td>\n",
       "      <td>13</td>\n",
       "      <td>LNFN</td>\n",
       "      <td>L1L2</td>\n",
       "      <td>261.574913</td>\n",
       "      <td>169.923345</td>\n",
       "      <td>2509953825_3594374345</td>\n",
       "      <td>2509953825_3594374345_13</td>\n",
       "      <td>LNFNL1L2</td>\n",
       "      <td>Sagittal T1</td>\n",
       "      <td>512</td>\n",
       "      <td>512</td>\n",
       "      <td>E:\\data\\RSNA2024\\pngs_256\\2509953825_359437434...</td>\n",
       "      <td>HFS</td>\n",
       "      <td>0.510889</td>\n",
       "      <td>0.331882</td>\n",
       "      <td>0.666667</td>\n",
       "    </tr>\n",
       "    <tr>\n",
       "      <th>28081</th>\n",
       "      <td>2509953825</td>\n",
       "      <td>3594374345</td>\n",
       "      <td>13</td>\n",
       "      <td>LNFN</td>\n",
       "      <td>L2L3</td>\n",
       "      <td>255.331010</td>\n",
       "      <td>211.846690</td>\n",
       "      <td>2509953825_3594374345</td>\n",
       "      <td>2509953825_3594374345_13</td>\n",
       "      <td>LNFNL2L3</td>\n",
       "      <td>Sagittal T1</td>\n",
       "      <td>512</td>\n",
       "      <td>512</td>\n",
       "      <td>E:\\data\\RSNA2024\\pngs_256\\2509953825_359437434...</td>\n",
       "      <td>HFS</td>\n",
       "      <td>0.498693</td>\n",
       "      <td>0.413763</td>\n",
       "      <td>0.666667</td>\n",
       "    </tr>\n",
       "    <tr>\n",
       "      <th>28082</th>\n",
       "      <td>2509953825</td>\n",
       "      <td>3594374345</td>\n",
       "      <td>13</td>\n",
       "      <td>LNFN</td>\n",
       "      <td>L3L4</td>\n",
       "      <td>252.655052</td>\n",
       "      <td>252.878049</td>\n",
       "      <td>2509953825_3594374345</td>\n",
       "      <td>2509953825_3594374345_13</td>\n",
       "      <td>LNFNL3L4</td>\n",
       "      <td>Sagittal T1</td>\n",
       "      <td>512</td>\n",
       "      <td>512</td>\n",
       "      <td>E:\\data\\RSNA2024\\pngs_256\\2509953825_359437434...</td>\n",
       "      <td>HFS</td>\n",
       "      <td>0.493467</td>\n",
       "      <td>0.493902</td>\n",
       "      <td>0.666667</td>\n",
       "    </tr>\n",
       "    <tr>\n",
       "      <th>28083</th>\n",
       "      <td>2509953825</td>\n",
       "      <td>3594374345</td>\n",
       "      <td>13</td>\n",
       "      <td>LNFN</td>\n",
       "      <td>L4L5</td>\n",
       "      <td>258.006969</td>\n",
       "      <td>294.801394</td>\n",
       "      <td>2509953825_3594374345</td>\n",
       "      <td>2509953825_3594374345_13</td>\n",
       "      <td>LNFNL4L5</td>\n",
       "      <td>Sagittal T1</td>\n",
       "      <td>512</td>\n",
       "      <td>512</td>\n",
       "      <td>E:\\data\\RSNA2024\\pngs_256\\2509953825_359437434...</td>\n",
       "      <td>HFS</td>\n",
       "      <td>0.503920</td>\n",
       "      <td>0.575784</td>\n",
       "      <td>0.666667</td>\n",
       "    </tr>\n",
       "    <tr>\n",
       "      <th>28084</th>\n",
       "      <td>2509953825</td>\n",
       "      <td>3594374345</td>\n",
       "      <td>13</td>\n",
       "      <td>LNFN</td>\n",
       "      <td>L5S1</td>\n",
       "      <td>279.414634</td>\n",
       "      <td>333.156794</td>\n",
       "      <td>2509953825_3594374345</td>\n",
       "      <td>2509953825_3594374345_13</td>\n",
       "      <td>LNFNL5S1</td>\n",
       "      <td>Sagittal T1</td>\n",
       "      <td>512</td>\n",
       "      <td>512</td>\n",
       "      <td>E:\\data\\RSNA2024\\pngs_256\\2509953825_359437434...</td>\n",
       "      <td>HFS</td>\n",
       "      <td>0.545732</td>\n",
       "      <td>0.650697</td>\n",
       "      <td>0.666667</td>\n",
       "    </tr>\n",
       "  </tbody>\n",
       "</table>\n",
       "</div>"
      ],
      "text/plain": [
       "         study_id   series_id  instance condition level           x  \\\n",
       "28080  2509953825  3594374345        13      LNFN  L1L2  261.574913   \n",
       "28081  2509953825  3594374345        13      LNFN  L2L3  255.331010   \n",
       "28082  2509953825  3594374345        13      LNFN  L3L4  252.655052   \n",
       "28083  2509953825  3594374345        13      LNFN  L4L5  258.006969   \n",
       "28084  2509953825  3594374345        13      LNFN  L5S1  279.414634   \n",
       "\n",
       "                y                  ss_id               instance_id        cl  \\\n",
       "28080  169.923345  2509953825_3594374345  2509953825_3594374345_13  LNFNL1L2   \n",
       "28081  211.846690  2509953825_3594374345  2509953825_3594374345_13  LNFNL2L3   \n",
       "28082  252.878049  2509953825_3594374345  2509953825_3594374345_13  LNFNL3L4   \n",
       "28083  294.801394  2509953825_3594374345  2509953825_3594374345_13  LNFNL4L5   \n",
       "28084  333.156794  2509953825_3594374345  2509953825_3594374345_13  LNFNL5S1   \n",
       "\n",
       "      series_description  rows  columns  \\\n",
       "28080        Sagittal T1   512      512   \n",
       "28081        Sagittal T1   512      512   \n",
       "28082        Sagittal T1   512      512   \n",
       "28083        Sagittal T1   512      512   \n",
       "28084        Sagittal T1   512      512   \n",
       "\n",
       "                                                filename patientposition  \\\n",
       "28080  E:\\data\\RSNA2024\\pngs_256\\2509953825_359437434...             HFS   \n",
       "28081  E:\\data\\RSNA2024\\pngs_256\\2509953825_359437434...             HFS   \n",
       "28082  E:\\data\\RSNA2024\\pngs_256\\2509953825_359437434...             HFS   \n",
       "28083  E:\\data\\RSNA2024\\pngs_256\\2509953825_359437434...             HFS   \n",
       "28084  E:\\data\\RSNA2024\\pngs_256\\2509953825_359437434...             HFS   \n",
       "\n",
       "         x_perc    y_perc  inst_perc  \n",
       "28080  0.510889  0.331882   0.666667  \n",
       "28081  0.498693  0.413763   0.666667  \n",
       "28082  0.493467  0.493902   0.666667  \n",
       "28083  0.503920  0.575784   0.666667  \n",
       "28084  0.545732  0.650697   0.666667  "
      ]
     },
     "execution_count": 27,
     "metadata": {},
     "output_type": "execute_result"
    }
   ],
   "source": [
    "inst_id = '2509953825_3594374345_13'\n",
    "\n",
    "coords_df[coords_df['instance_id'] == inst_id]"
   ]
  },
  {
   "cell_type": "code",
   "execution_count": 28,
   "id": "b0d4358d-22c6-4588-a2d2-059233c68f31",
   "metadata": {},
   "outputs": [
    {
     "data": {
      "text/plain": [
       "['LNFNL1L2', 'LNFNL2L3', 'LNFNL3L4', 'LNFNL4L5', 'LNFNL5S1']"
      ]
     },
     "execution_count": 28,
     "metadata": {},
     "output_type": "execute_result"
    }
   ],
   "source": [
    "coords_df[coords_df['instance_id'] == inst_id].cl.to_list()"
   ]
  },
  {
   "cell_type": "code",
   "execution_count": 29,
   "id": "f92de686-ed67-4991-a211-42f256a93863",
   "metadata": {
    "scrolled": true
   },
   "outputs": [],
   "source": [
    "# list(coords_df.filename.unique())"
   ]
  },
  {
   "cell_type": "code",
   "execution_count": null,
   "id": "5a68144d-b40f-4049-8a81-c0887e57b01c",
   "metadata": {},
   "outputs": [],
   "source": []
  },
  {
   "cell_type": "markdown",
   "id": "78a7156d-257e-4f21-b5d3-51d7589d194b",
   "metadata": {},
   "source": [
    "### Dataset"
   ]
  },
  {
   "cell_type": "code",
   "execution_count": 50,
   "id": "6d105ade-e285-42ed-b856-f3431f9e748a",
   "metadata": {},
   "outputs": [],
   "source": [
    "from dataset import rsna_inf_dataset"
   ]
  },
  {
   "cell_type": "code",
   "execution_count": 61,
   "id": "c1b4b1f6-5b77-467a-abf0-c46c913990ae",
   "metadata": {},
   "outputs": [
    {
     "name": "stdout",
     "output_type": "stream",
     "text": [
      "24546\n",
      "False\n",
      "(3, 256, 256)\n",
      "float32 tensor([0., 0., 0., 1., 1., 0.])\n"
     ]
    }
   ],
   "source": [
    "# test healthy\n",
    "dset = rsna_inf_dataset(files_df[files_df.healthy != True], coords_df, CFG)\n",
    "\n",
    "print(dset.__len__())\n",
    "\n",
    "img, ids, label, = dset.__getitem__(2)\n",
    "print(img.shape)\n",
    "print(img.dtype, label)"
   ]
  },
  {
   "cell_type": "code",
   "execution_count": 62,
   "id": "253019be-6878-4b03-b1a0-339c25658579",
   "metadata": {
    "scrolled": true
   },
   "outputs": [
    {
     "name": "stdout",
     "output_type": "stream",
     "text": [
      "147218\n",
      "True\n",
      "foo\n",
      "(3, 256, 256)\n",
      "float32 tensor([0., 0., 0., 0., 0., 1.])\n"
     ]
    }
   ],
   "source": [
    "# test unhealthy\n",
    "dset = rsna_inf_dataset(files_df, coords_df, CFG)\n",
    "\n",
    "print(dset.__len__())\n",
    "\n",
    "img, ids, label, = dset.__getitem__(2)\n",
    "print(img.shape)\n",
    "print(img.dtype, label)"
   ]
  },
  {
   "cell_type": "code",
   "execution_count": 63,
   "id": "4dc563cc-53d1-4488-9746-2961155d5fa0",
   "metadata": {},
   "outputs": [
    {
     "data": {
      "text/plain": [
       "(38.834503, 41.28398, 0.0, 251.0)"
      ]
     },
     "execution_count": 63,
     "metadata": {},
     "output_type": "execute_result"
    }
   ],
   "source": [
    "img.mean(), img.std(), img.min(), img.max()"
   ]
  },
  {
   "cell_type": "code",
   "execution_count": 64,
   "id": "9318e781-203f-4d53-a613-a9995cc324ba",
   "metadata": {},
   "outputs": [
    {
     "data": {
      "text/plain": [
       "<matplotlib.image.AxesImage at 0x26dccc7afb0>"
      ]
     },
     "execution_count": 64,
     "metadata": {},
     "output_type": "execute_result"
    },
    {
     "data": {
      "image/png": "[encoded data removed]",
      "text/plain": [
       "<Figure size 640x480 with 1 Axes>"
      ]
     },
     "metadata": {},
     "output_type": "display_data"
    }
   ],
   "source": [
    "plt.imshow(img[0], cmap='gray')"
   ]
  },
  {
   "cell_type": "code",
   "execution_count": null,
   "id": "4eec7d6b-ccd5-46d2-aaf5-f46fb7d957c9",
   "metadata": {},
   "outputs": [],
   "source": []
  },
  {
   "cell_type": "markdown",
   "id": "446e8786-56df-4a29-8074-ba222f7af068",
   "metadata": {},
   "source": [
    "### Datamodule"
   ]
  },
  {
   "cell_type": "code",
   "execution_count": 65,
   "id": "b3166903-b2b7-40b1-981d-2d1e3ff4aa84",
   "metadata": {},
   "outputs": [],
   "source": [
    "from dataset import rsna_inf_dataset"
   ]
  },
  {
   "cell_type": "code",
   "execution_count": 66,
   "id": "50e79488-ab65-4a65-9a8b-db6a20df6b20",
   "metadata": {},
   "outputs": [],
   "source": [
    "class inference_datamodule(pl.LightningDataModule):\n",
    "    def __init__(self, files_df, coords_df, cfg=CFG, tfs=None):\n",
    "        super().__init__()\n",
    "        \n",
    "        self.files_df = files_df\n",
    "        self.coords_df = coords_df\n",
    "        \n",
    "        self.bs = cfg.BATCH_SIZE\n",
    "        self.tfs = tfs\n",
    "        self.cfg = cfg\n",
    "        \n",
    "        self.num_workers = cfg.num_workers\n",
    "        \n",
    "    def predict_dataloader(self):\n",
    "        ds = rsna_inf_dataset(self.files_df, self.coords_df, self.cfg, tfs=self.tfs, mode='train')\n",
    "        \n",
    "        train_loader = torch.utils.data.DataLoader(\n",
    "            ds,\n",
    "            batch_size=self.bs,\n",
    "            pin_memory=False,\n",
    "            drop_last=False,\n",
    "            # shuffle=True,\n",
    "            persistent_workers=True,\n",
    "            num_workers=self.num_workers,\n",
    "        )\n",
    "        \n",
    "        return train_loader"
   ]
  },
  {
   "cell_type": "code",
   "execution_count": 67,
   "id": "f5e6f575-3a3f-41c4-947f-0ae9496981a2",
   "metadata": {},
   "outputs": [
    {
     "data": {
      "text/plain": [
       "(torch.Size([16, 3, 256, 256]), 16, torch.float32)"
      ]
     },
     "execution_count": 67,
     "metadata": {},
     "output_type": "execute_result"
    }
   ],
   "source": [
    "t_df = selection[:-100]\n",
    "\n",
    "\n",
    "CFG2 = CFG()\n",
    "# CFG2 = copy.deepcopy(CFG)\n",
    "CFG2.BATCH_SIZE = 16\n",
    "CFG2.num_workers = 2\n",
    "\n",
    "dm = inference_datamodule(files_df, t_df, cfg=CFG2)\n",
    "\n",
    "x, ids, y = next(iter(dm.predict_dataloader()))\n",
    "x.shape, len(y), x.dtype,"
   ]
  },
  {
   "cell_type": "code",
   "execution_count": 68,
   "id": "ba64562b-c9c7-4586-b3d0-6bb8122045bc",
   "metadata": {},
   "outputs": [
    {
     "data": {
      "text/plain": [
       "tensor([0., 0., 0., 0., 0., 1.])"
      ]
     },
     "execution_count": 68,
     "metadata": {},
     "output_type": "execute_result"
    }
   ],
   "source": [
    "y[0]"
   ]
  },
  {
   "cell_type": "code",
   "execution_count": 69,
   "id": "1fddf393-1256-4a7e-a626-71892e1d6eb2",
   "metadata": {},
   "outputs": [
    {
     "data": {
      "text/plain": [
       "<matplotlib.image.AxesImage at 0x26dcccdaec0>"
      ]
     },
     "execution_count": 69,
     "metadata": {},
     "output_type": "execute_result"
    },
    {
     "data": {
      "image/png": "[encoded data removed]",
      "text/plain": [
       "<Figure size 640x480 with 1 Axes>"
      ]
     },
     "metadata": {},
     "output_type": "display_data"
    }
   ],
   "source": [
    "plt.imshow(x[10][0], cmap='gray')"
   ]
  },
  {
   "cell_type": "markdown",
   "id": "41147b95-2e64-48b3-9c62-81c286dbe24a",
   "metadata": {},
   "source": [
    "#### Check Transforms"
   ]
  },
  {
   "cell_type": "code",
   "execution_count": 70,
   "id": "da078b9b-c968-42a0-b439-dfb6c92f3d35",
   "metadata": {},
   "outputs": [],
   "source": [
    "image_size = CFG.image_size\n",
    "\n",
    "img_mean = (0.485, 0.456, 0.406)\n",
    "img_std = (0.229, 0.224, 0.225)\n",
    "\n",
    "train_tfs = A.Compose([\n",
    "    # A.HorizontalFlip(p=0.5),\n",
    "    A.Resize(image_size, image_size),\n",
    "    A.CoarseDropout(max_height=int(image_size * 0.2), max_width=int(image_size * 0.2), max_holes=4, p=0.7),\n",
    "    A.Normalize(mean=img_mean, std=img_std)\n",
    "])\n",
    "\n",
    "val_tfs = A.Compose([\n",
    "    A.Resize(image_size, image_size),\n",
    "    A.Normalize(mean=img_mean, std=img_std)\n",
    "])"
   ]
  },
  {
   "cell_type": "code",
   "execution_count": 71,
   "id": "5fab6bbf-6352-46b1-8b52-da81ac473690",
   "metadata": {},
   "outputs": [
    {
     "data": {
      "text/plain": [
       "(torch.Size([16, 3, 256, 256]), torch.float32)"
      ]
     },
     "execution_count": 71,
     "metadata": {},
     "output_type": "execute_result"
    }
   ],
   "source": [
    "dm = inference_datamodule(files_df, t_df, cfg=CFG2, tfs=val_tfs)\n",
    "# dm = wav_datamodule(t_df, v_df, cfg=CFG, train_tfs=train_tfs, val_tfs=val_tfs)\n",
    "\n",
    "x, ids, y = next(iter(dm.predict_dataloader()))\n",
    "x.shape, x.dtype,"
   ]
  },
  {
   "cell_type": "code",
   "execution_count": 72,
   "id": "ce905601-a756-4cea-a767-f60490005ff4",
   "metadata": {},
   "outputs": [
    {
     "data": {
      "text/plain": [
       "(tensor([0., 0., 0., 0., 0., 1.]), '100206310_1012284084_1')"
      ]
     },
     "execution_count": 72,
     "metadata": {},
     "output_type": "execute_result"
    }
   ],
   "source": [
    "y[0], ids[0]"
   ]
  },
  {
   "cell_type": "code",
   "execution_count": 73,
   "id": "35f0cc7b-fc84-444e-bc1b-5f1375903d18",
   "metadata": {},
   "outputs": [
    {
     "data": {
      "text/plain": [
       "<matplotlib.image.AxesImage at 0x26dccd49bd0>"
      ]
     },
     "execution_count": 73,
     "metadata": {},
     "output_type": "execute_result"
    },
    {
     "data": {
      "image/png": "[encoded data removed]",
      "text/plain": [
       "<Figure size 640x480 with 1 Axes>"
      ]
     },
     "metadata": {},
     "output_type": "display_data"
    }
   ],
   "source": [
    "plt.imshow(x[2][0], cmap='gray')"
   ]
  },
  {
   "cell_type": "code",
   "execution_count": 74,
   "id": "3c8affa3-48c4-4ddd-9aa2-9ffba1401b41",
   "metadata": {},
   "outputs": [],
   "source": [
    "del dm"
   ]
  },
  {
   "cell_type": "code",
   "execution_count": null,
   "id": "5b3ade1d-8e76-4a39-9f44-0cefaa70c4aa",
   "metadata": {},
   "outputs": [],
   "source": []
  },
  {
   "cell_type": "markdown",
   "id": "2de4ef0b-82bb-4961-a8f1-c5359964157a",
   "metadata": {},
   "source": [
    "### Loss function"
   ]
  },
  {
   "cell_type": "code",
   "execution_count": 75,
   "id": "a3b6c51e-98d7-4141-a192-c2c11bdffdf4",
   "metadata": {},
   "outputs": [],
   "source": [
    "class FocalLossBCE(torch.nn.Module):\n",
    "    def __init__(\n",
    "            self,\n",
    "            alpha: float = 0.25,\n",
    "            gamma: float = 2,\n",
    "            reduction: str = \"mean\",\n",
    "            bce_weight: float = 1.0,\n",
    "            focal_weight: float = 1.0,\n",
    "    ):\n",
    "        super().__init__()\n",
    "        self.alpha = alpha\n",
    "        self.gamma = gamma\n",
    "        self.reduction = reduction\n",
    "        self.bce = torch.nn.BCEWithLogitsLoss(reduction=reduction)\n",
    "        self.bce_weight = bce_weight\n",
    "        self.focal_weight = focal_weight\n",
    "\n",
    "    def forward(self, logits, targets):\n",
    "        focall_loss = torchvision.ops.focal_loss.sigmoid_focal_loss(\n",
    "            inputs=logits,\n",
    "            targets=targets,\n",
    "            alpha=self.alpha,\n",
    "            gamma=self.gamma,\n",
    "            reduction=self.reduction,\n",
    "        )\n",
    "        bce_loss = self.bce(logits, targets)\n",
    "        return self.bce_weight * bce_loss + self.focal_weight * focall_loss"
   ]
  },
  {
   "cell_type": "code",
   "execution_count": 76,
   "id": "0e3b441f-2071-41fa-8ca2-cb257616dc9a",
   "metadata": {},
   "outputs": [],
   "source": [
    "class GeM(torch.nn.Module):\n",
    "    def __init__(self, p=3, eps=1e-6):\n",
    "        super(GeM, self).__init__()\n",
    "        self.p = torch.nn.Parameter(torch.ones(1) * p)\n",
    "        self.eps = eps\n",
    "\n",
    "    def forward(self, x):\n",
    "        bs, ch, h, w = x.shape\n",
    "        x = torch.nn.functional.avg_pool2d(x.clamp(min=self.eps).pow(self.p), (x.size(-2), x.size(-1))).pow(\n",
    "            1.0 / self.p)\n",
    "        x = x.view(bs, ch)\n",
    "        return x"
   ]
  },
  {
   "cell_type": "code",
   "execution_count": null,
   "id": "f504f2e3-d229-43b7-899f-8190f966ac8b",
   "metadata": {},
   "outputs": [],
   "source": []
  },
  {
   "cell_type": "markdown",
   "id": "d0803313-4e79-466d-bf15-2803f65f206e",
   "metadata": {},
   "source": [
    "### Model"
   ]
  },
  {
   "cell_type": "code",
   "execution_count": 77,
   "id": "1d3a5905-cab9-474e-979d-386a990d266a",
   "metadata": {},
   "outputs": [
    {
     "data": {
      "text/plain": [
       "([64, 256, 512, 1536, 3072], 5440)"
      ]
     },
     "execution_count": 77,
     "metadata": {},
     "output_type": "execute_result"
    }
   ],
   "source": [
    "backbone = 'eca_nfnet_l1'\n",
    "# backbone = 'efficientnet_b4'\n",
    "out_indices = (3, 4)\n",
    "\n",
    "model = timm.create_model(\n",
    "    backbone,\n",
    "    features_only=True,\n",
    "    pretrained=False,\n",
    "    in_chans=3,\n",
    "    num_classes=dset.num_classes,\n",
    "    # out_indices=out_indices,\n",
    "    )\n",
    "\n",
    "model.feature_info.channels(), np.sum(model.feature_info.channels())"
   ]
  },
  {
   "cell_type": "code",
   "execution_count": 78,
   "id": "a4fdc762-f59d-411c-82e5-b2634f480c95",
   "metadata": {},
   "outputs": [],
   "source": [
    "data_config = timm.data.resolve_model_data_config(model)"
   ]
  },
  {
   "cell_type": "code",
   "execution_count": 79,
   "id": "92d41be5-5304-4922-89e7-ca0a72ce9cc1",
   "metadata": {},
   "outputs": [
    {
     "data": {
      "text/plain": [
       "{'input_size': (3, 256, 256),\n",
       " 'interpolation': 'bicubic',\n",
       " 'mean': (0.485, 0.456, 0.406),\n",
       " 'std': (0.229, 0.224, 0.225),\n",
       " 'crop_pct': 0.9,\n",
       " 'crop_mode': 'center'}"
      ]
     },
     "execution_count": 79,
     "metadata": {},
     "output_type": "execute_result"
    }
   ],
   "source": [
    "data_config"
   ]
  },
  {
   "cell_type": "code",
   "execution_count": 80,
   "id": "da957e7e-5ad2-479b-b5a7-9f3556ca68ea",
   "metadata": {},
   "outputs": [],
   "source": [
    "def mixup(data, targets, alpha, device):\n",
    "    indices = torch.randperm(data.size(0))\n",
    "    data2 = data[indices]\n",
    "    targets2 = targets[indices]\n",
    "\n",
    "    lam = torch.FloatTensor([np.random.beta(alpha, alpha)]).to(device)\n",
    "    data = data * lam + data2 * (1 - lam)\n",
    "    \n",
    "    targets = targets * lam + targets2 * (1 - lam)\n",
    "    return data, targets\n",
    "\n",
    "    # data += data2\n",
    "    # targets += targets2\n",
    "    # return data, targets.clip(max=1)"
   ]
  },
  {
   "cell_type": "code",
   "execution_count": 81,
   "id": "1b8ea5f5-46ee-4c57-b3bf-6b0ce988b638",
   "metadata": {},
   "outputs": [],
   "source": [
    "class GeMModel(pl.LightningModule):\n",
    "    def __init__(self, cfg = CFG, pretrained = True):\n",
    "        super().__init__()\n",
    "\n",
    "        self.cfg = cfg\n",
    "\n",
    "        self.dev = cfg.device\n",
    "        \n",
    "        out_indices = (3, 4)\n",
    "\n",
    "        self.bottleneck_dim = cfg.bottleneck_dim\n",
    "\n",
    "        self.criterion = FocalLossBCE()\n",
    "\n",
    "        wrapped_acc = ClasswiseWrapper(MultilabelAccuracy(num_labels=self.cfg.N_LABELS, average='none'), labels=classes, prefix='multiacc/')\n",
    "        wrapped_f1 = ClasswiseWrapper(MultilabelF1Score(num_labels=self.cfg.N_LABELS, average='none'), labels=classes, prefix='multif1/')\n",
    "        \n",
    "        metrics = MetricCollection({\n",
    "            # 'macc': MultilabelAccuracy(num_labels=self.cfg.N_LABELS),\n",
    "            'none_acc': wrapped_acc,\n",
    "            'mpr': MultilabelPrecision(num_labels=self.cfg.N_LABELS),\n",
    "            'mrec': MultilabelRecall(num_labels=self.cfg.N_LABELS),\n",
    "            'f1': MultilabelF1Score(num_labels=self.cfg.N_LABELS),\n",
    "            'none_f1': wrapped_f1,\n",
    "        })\n",
    "\n",
    "        self.train_metrics = metrics.clone(prefix='train/')\n",
    "        self.valid_metrics = metrics.clone(prefix='val/')\n",
    "        \n",
    "        # self.model_name = self.cfg.model_name\n",
    "        print(self.cfg.model_name)\n",
    "        \n",
    "        self.backbone = timm.create_model(\n",
    "            self.cfg.model_name, \n",
    "            features_only=True,\n",
    "            pretrained=pretrained,\n",
    "            in_chans=3,\n",
    "            num_classes=self.cfg.N_LABELS,\n",
    "            out_indices=out_indices,\n",
    "        )\n",
    "\n",
    "        feature_dims = self.backbone.feature_info.channels()\n",
    "\n",
    "        self.global_pools = torch.nn.ModuleList([GeM() for _ in out_indices])\n",
    "        self.mid_features = np.sum(feature_dims)\n",
    "        \n",
    "        self.neck = torch.nn.BatchNorm1d(self.mid_features)\n",
    "        self.bottleneck = torch.nn.Linear(self.mid_features, self.bottleneck_dim)\n",
    "        self.bottleneck_bn = torch.nn.BatchNorm1d(self.bottleneck_dim)\n",
    "        self.head = torch.nn.Linear(self.bottleneck_dim, self.cfg.N_LABELS)\n",
    "\n",
    "    def pre_forward(self, x):\n",
    "        ms = self.backbone(x)\n",
    "        \n",
    "        h = torch.cat([global_pool(m) for m, global_pool in zip(ms, self.global_pools)], dim=1)\n",
    "        x = self.neck(h)\n",
    "        x = self.bottleneck(x)\n",
    "        x = self.bottleneck_bn(x)\n",
    "\n",
    "        return x\n",
    "    \n",
    "    def forward(self, x):\n",
    "        x = self.pre_forward(x)\n",
    "\n",
    "        x = self.head(x)\n",
    "        \n",
    "        return x\n",
    "        \n",
    "    def configure_optimizers(self):\n",
    "        optimizer = torch.optim.Adam(model.parameters(), lr=self.cfg.LEARNING_RATE, weight_decay=CFG.weight_decay)\n",
    "        \n",
    "        if self.cfg.USE_SCHD:\n",
    "            scheduler_cosine = torch.optim.lr_scheduler.CosineAnnealingLR(optimizer, self.cfg.COS_EPOCHS)\n",
    "            scheduler_warmup = GradualWarmupSchedulerV2(optimizer, multiplier=10, total_epoch=self.cfg.WARM_EPOCHS, after_scheduler=scheduler_cosine)\n",
    "\n",
    "            return [optimizer], [scheduler_warmup]\n",
    "        else:\n",
    "            # LRscheduler = torch.optim.lr_scheduler.StepLR(optimizer, step_size=10, gamma=0.2)\n",
    "            \n",
    "            # return [optimizer], [LRscheduler]\n",
    "            return optimizer\n",
    "\n",
    "    def step(self, batch, batch_idx, mode='train'):\n",
    "        x, y = batch\n",
    "\n",
    "        if self.cfg.MIXUP and mode == 'train':\n",
    "            x, y = mixup(x, y, 0.5, self.cfg.device)\n",
    "        \n",
    "        preds = self(x)\n",
    "        \n",
    "        loss = self.criterion(preds, y)\n",
    "        \n",
    "        if mode == 'train':\n",
    "            output = self.train_metrics(preds, y)\n",
    "            self.log_dict(output)\n",
    "        else:\n",
    "            self.valid_metrics.update(preds, y)\n",
    "\n",
    "        self.log(f'{mode}/loss', loss, on_step=True, on_epoch=True)\n",
    "\n",
    "        return loss\n",
    "    \n",
    "    def training_step(self, batch, batch_idx):\n",
    "        loss = self.step(batch, batch_idx, mode='train')\n",
    "        \n",
    "        return loss\n",
    "        \n",
    "    def validation_step(self, batch, batch_idx):\n",
    "        loss = self.step(batch, batch_idx, mode='val')\n",
    "    \n",
    "        return loss\n",
    "    \n",
    "    def on_train_epoch_end(self):\n",
    "        self.train_metrics.reset()\n",
    "\n",
    "    def on_validation_epoch_end(self):\n",
    "        output = self.valid_metrics.compute()\n",
    "        self.log_dict(output)\n",
    "\n",
    "        self.valid_metrics.reset()"
   ]
  },
  {
   "cell_type": "code",
   "execution_count": 82,
   "id": "54ad0d97-ff79-4324-b5c7-1bb502d4380d",
   "metadata": {},
   "outputs": [],
   "source": [
    "class featureModel(pl.LightningModule):\n",
    "    def __init__(self, model):\n",
    "        super().__init__()\n",
    "\n",
    "        self.model = model\n",
    "\n",
    "    def forward(self, x):\n",
    "        embeds = self.model.pre_forward(x)\n",
    "        preds = self.model.head(embeds)\n",
    "        \n",
    "        return preds, embeds\n",
    "\n",
    "    def predict_step(self, batch):\n",
    "        imgs, ids, targets = batch\n",
    "\n",
    "        preds, embeds = self(imgs)\n",
    "\n",
    "        t_df = pd.DataFrame(targets.detach().cpu().numpy(), columns=CFG.classes)\n",
    "        p_df = pd.DataFrame(preds.sigmoid().detach().cpu().numpy(), columns=pred_labels)\n",
    "\n",
    "        results_df = pd.DataFrame(ids, columns = ['ids'])\n",
    "        results_df = pd.concat([results_df, t_df, p_df], axis=1)\n",
    "    \n",
    "        return embeds.detach().cpu().numpy(), results_df, ids"
   ]
  },
  {
   "cell_type": "code",
   "execution_count": 83,
   "id": "1ae00f21-8402-4946-a1b9-8d9202727111",
   "metadata": {},
   "outputs": [
    {
     "name": "stdout",
     "output_type": "stream",
     "text": [
      "eca_nfnet_l0\n"
     ]
    }
   ],
   "source": [
    "model = GeMModel(CFG)\n",
    "fmodel = featureModel(model)"
   ]
  },
  {
   "cell_type": "code",
   "execution_count": 84,
   "id": "4257c339-5ccd-45b1-85e5-1b62ba205d12",
   "metadata": {
    "scrolled": true
   },
   "outputs": [],
   "source": [
    "preds, results, ids = fmodel.predict_step((x, ids, y))"
   ]
  },
  {
   "cell_type": "code",
   "execution_count": 85,
   "id": "7128bd97-3611-48cc-a3e6-23ac0770e7c5",
   "metadata": {},
   "outputs": [
    {
     "data": {
      "text/plain": [
       "(16, 128)"
      ]
     },
     "execution_count": 85,
     "metadata": {},
     "output_type": "execute_result"
    }
   ],
   "source": [
    "preds.shape"
   ]
  },
  {
   "cell_type": "code",
   "execution_count": 86,
   "id": "e0d02140-6769-4fce-9fae-f185974de881",
   "metadata": {},
   "outputs": [
    {
     "data": {
      "text/plain": [
       "('100206310_1012284084_1',\n",
       " '100206310_1012284084_10',\n",
       " '100206310_1012284084_11',\n",
       " '100206310_1012284084_12')"
      ]
     },
     "execution_count": 86,
     "metadata": {},
     "output_type": "execute_result"
    }
   ],
   "source": [
    "ids[:4]"
   ]
  },
  {
   "cell_type": "code",
   "execution_count": 87,
   "id": "62ca1001-b481-47ce-b2dc-4cc23c505af3",
   "metadata": {},
   "outputs": [
    {
     "data": {
      "text/plain": [
       "array([-2.31773943e-01, -1.04678142e+00, -1.02907503e+00,  1.93908107e+00,\n",
       "        1.00857770e+00,  1.40648693e-01, -1.54589385e-01, -1.30375922e+00,\n",
       "        1.13950658e+00, -9.06093642e-02,  6.45168364e-01, -3.64980966e-01,\n",
       "       -1.19327940e-03,  8.65020514e-01,  1.77025467e-01,  1.62927294e+00,\n",
       "       -1.25148678e+00, -2.95351595e-01,  3.32321495e-01,  7.44042754e-01,\n",
       "       -2.02227688e+00, -5.86529315e-01,  1.67473340e+00,  4.79732066e-01,\n",
       "        9.29980814e-01,  1.30873871e+00, -1.84297979e-01,  1.51756370e+00,\n",
       "        1.89158010e+00, -4.66319323e-01,  1.72760284e+00, -1.48422313e+00,\n",
       "       -1.38893437e+00, -7.76484847e-01,  5.26552677e-01,  8.58612418e-01,\n",
       "        1.76986575e+00, -2.18969321e+00, -5.53871036e-01, -1.18078935e+00,\n",
       "        3.66953045e-01,  7.78917730e-01, -1.87974676e-01, -1.35191214e+00,\n",
       "        5.77736557e-01, -6.82814419e-01,  4.42165881e-01,  7.57023036e-01,\n",
       "        1.02082384e+00, -8.37562323e-01, -1.09171629e+00, -8.69538665e-01,\n",
       "       -4.57788944e-01, -8.82584214e-01, -4.49269474e-01,  5.08342028e-01,\n",
       "        1.42250490e+00, -1.80034387e+00,  1.17195594e+00,  9.62341249e-01,\n",
       "       -2.46065044e+00,  1.80490243e+00,  1.41415164e-01,  1.77755153e+00,\n",
       "        9.10642207e-01,  1.02124238e+00, -5.94308674e-01, -9.87834632e-01,\n",
       "       -1.94489849e+00, -3.40818793e-01,  1.29366481e+00,  6.87997937e-01,\n",
       "       -2.46427789e-01,  9.90742385e-01, -9.24239874e-01,  1.03012145e+00,\n",
       "       -8.20486188e-01,  6.02773488e-01, -6.74120188e-01, -1.77552652e+00,\n",
       "       -1.30650377e+00,  1.45506954e+00, -1.13030195e+00, -1.59832025e+00,\n",
       "       -9.03440952e-01,  1.05545938e+00, -4.28623348e-01, -2.24652338e+00,\n",
       "       -4.82035335e-03,  1.83768439e+00, -1.16928411e+00, -1.23555981e-01,\n",
       "       -1.71557069e+00,  8.91506135e-01,  2.82176659e-02, -2.17855677e-01,\n",
       "       -9.06664252e-01, -9.22472328e-02,  7.71009773e-02, -3.52266312e-01,\n",
       "       -3.19844425e-01, -4.48906809e-01,  1.05579875e-01, -4.93184835e-01,\n",
       "        1.85762227e+00,  4.27683949e-01, -4.51867521e-01, -2.49993607e-01,\n",
       "       -1.16973889e+00, -1.70900714e+00, -1.40174890e+00,  8.19436669e-01,\n",
       "        2.66201288e-01,  3.36362213e-01,  8.65016222e-01,  8.49699557e-01,\n",
       "       -7.30550885e-01,  6.89073563e-01,  6.45042360e-01, -1.38275921e+00,\n",
       "       -1.33477628e+00,  8.06477368e-01, -9.78157640e-01,  8.47552538e-01,\n",
       "        2.01670265e+00, -4.03569758e-01, -1.61573529e+00,  1.30888283e+00],\n",
       "      dtype=float32)"
      ]
     },
     "execution_count": 87,
     "metadata": {},
     "output_type": "execute_result"
    }
   ],
   "source": [
    "preds[0]"
   ]
  },
  {
   "cell_type": "code",
   "execution_count": 88,
   "id": "2f6ccd4f-e42a-4f2f-8b2b-b0c0b5d1757f",
   "metadata": {},
   "outputs": [
    {
     "data": {
      "text/plain": [
       "(16, 13)"
      ]
     },
     "execution_count": 88,
     "metadata": {},
     "output_type": "execute_result"
    }
   ],
   "source": [
    "results.shape"
   ]
  },
  {
   "cell_type": "code",
   "execution_count": 90,
   "id": "d5c6d2d9-b86e-40f5-9529-2e1ab8a8c0b3",
   "metadata": {},
   "outputs": [
    {
     "data": {
      "text/html": [
       "<div>\n",
       "<style scoped>\n",
       "    .dataframe tbody tr th:only-of-type {\n",
       "        vertical-align: middle;\n",
       "    }\n",
       "\n",
       "    .dataframe tbody tr th {\n",
       "        vertical-align: top;\n",
       "    }\n",
       "\n",
       "    .dataframe thead th {\n",
       "        text-align: right;\n",
       "    }\n",
       "</style>\n",
       "<table border=\"1\" class=\"dataframe\">\n",
       "  <thead>\n",
       "    <tr style=\"text-align: right;\">\n",
       "      <th></th>\n",
       "      <th>ids</th>\n",
       "      <th>SCS</th>\n",
       "      <th>RNFN</th>\n",
       "      <th>LNFN</th>\n",
       "      <th>LSS</th>\n",
       "      <th>RSS</th>\n",
       "      <th>H</th>\n",
       "      <th>pred_SCS</th>\n",
       "      <th>pred_RNFN</th>\n",
       "      <th>pred_LNFN</th>\n",
       "      <th>pred_LSS</th>\n",
       "      <th>pred_RSS</th>\n",
       "      <th>pred_H</th>\n",
       "    </tr>\n",
       "  </thead>\n",
       "  <tbody>\n",
       "    <tr>\n",
       "      <th>0</th>\n",
       "      <td>100206310_1012284084_1</td>\n",
       "      <td>0.0</td>\n",
       "      <td>0.0</td>\n",
       "      <td>0.0</td>\n",
       "      <td>0.0</td>\n",
       "      <td>0.0</td>\n",
       "      <td>1.0</td>\n",
       "      <td>0.605169</td>\n",
       "      <td>0.715982</td>\n",
       "      <td>0.435817</td>\n",
       "      <td>0.455911</td>\n",
       "      <td>0.698104</td>\n",
       "      <td>0.600019</td>\n",
       "    </tr>\n",
       "    <tr>\n",
       "      <th>1</th>\n",
       "      <td>100206310_1012284084_10</td>\n",
       "      <td>0.0</td>\n",
       "      <td>0.0</td>\n",
       "      <td>0.0</td>\n",
       "      <td>0.0</td>\n",
       "      <td>0.0</td>\n",
       "      <td>1.0</td>\n",
       "      <td>0.684745</td>\n",
       "      <td>0.590653</td>\n",
       "      <td>0.569526</td>\n",
       "      <td>0.577220</td>\n",
       "      <td>0.797408</td>\n",
       "      <td>0.591806</td>\n",
       "    </tr>\n",
       "    <tr>\n",
       "      <th>2</th>\n",
       "      <td>100206310_1012284084_11</td>\n",
       "      <td>0.0</td>\n",
       "      <td>0.0</td>\n",
       "      <td>0.0</td>\n",
       "      <td>0.0</td>\n",
       "      <td>0.0</td>\n",
       "      <td>1.0</td>\n",
       "      <td>0.672131</td>\n",
       "      <td>0.427044</td>\n",
       "      <td>0.375590</td>\n",
       "      <td>0.771495</td>\n",
       "      <td>0.359636</td>\n",
       "      <td>0.460826</td>\n",
       "    </tr>\n",
       "    <tr>\n",
       "      <th>3</th>\n",
       "      <td>100206310_1012284084_12</td>\n",
       "      <td>0.0</td>\n",
       "      <td>0.0</td>\n",
       "      <td>0.0</td>\n",
       "      <td>0.0</td>\n",
       "      <td>0.0</td>\n",
       "      <td>1.0</td>\n",
       "      <td>0.569009</td>\n",
       "      <td>0.513605</td>\n",
       "      <td>0.401506</td>\n",
       "      <td>0.397181</td>\n",
       "      <td>0.530792</td>\n",
       "      <td>0.717655</td>\n",
       "    </tr>\n",
       "    <tr>\n",
       "      <th>4</th>\n",
       "      <td>100206310_1012284084_13</td>\n",
       "      <td>0.0</td>\n",
       "      <td>0.0</td>\n",
       "      <td>0.0</td>\n",
       "      <td>0.0</td>\n",
       "      <td>0.0</td>\n",
       "      <td>1.0</td>\n",
       "      <td>0.395068</td>\n",
       "      <td>0.466160</td>\n",
       "      <td>0.504576</td>\n",
       "      <td>0.263194</td>\n",
       "      <td>0.437199</td>\n",
       "      <td>0.650792</td>\n",
       "    </tr>\n",
       "    <tr>\n",
       "      <th>5</th>\n",
       "      <td>100206310_1012284084_14</td>\n",
       "      <td>0.0</td>\n",
       "      <td>0.0</td>\n",
       "      <td>0.0</td>\n",
       "      <td>0.0</td>\n",
       "      <td>0.0</td>\n",
       "      <td>1.0</td>\n",
       "      <td>0.478491</td>\n",
       "      <td>0.332368</td>\n",
       "      <td>0.494978</td>\n",
       "      <td>0.376563</td>\n",
       "      <td>0.543645</td>\n",
       "      <td>0.687123</td>\n",
       "    </tr>\n",
       "    <tr>\n",
       "      <th>6</th>\n",
       "      <td>100206310_1012284084_15</td>\n",
       "      <td>0.0</td>\n",
       "      <td>0.0</td>\n",
       "      <td>0.0</td>\n",
       "      <td>0.0</td>\n",
       "      <td>0.0</td>\n",
       "      <td>1.0</td>\n",
       "      <td>0.580303</td>\n",
       "      <td>0.506099</td>\n",
       "      <td>0.342341</td>\n",
       "      <td>0.568004</td>\n",
       "      <td>0.617194</td>\n",
       "      <td>0.462328</td>\n",
       "    </tr>\n",
       "    <tr>\n",
       "      <th>7</th>\n",
       "      <td>100206310_1012284084_16</td>\n",
       "      <td>0.0</td>\n",
       "      <td>0.0</td>\n",
       "      <td>0.0</td>\n",
       "      <td>0.0</td>\n",
       "      <td>0.0</td>\n",
       "      <td>1.0</td>\n",
       "      <td>0.692623</td>\n",
       "      <td>0.318270</td>\n",
       "      <td>0.524403</td>\n",
       "      <td>0.657136</td>\n",
       "      <td>0.242352</td>\n",
       "      <td>0.681224</td>\n",
       "    </tr>\n",
       "    <tr>\n",
       "      <th>8</th>\n",
       "      <td>100206310_1012284084_17</td>\n",
       "      <td>0.0</td>\n",
       "      <td>0.0</td>\n",
       "      <td>0.0</td>\n",
       "      <td>0.0</td>\n",
       "      <td>0.0</td>\n",
       "      <td>1.0</td>\n",
       "      <td>0.519823</td>\n",
       "      <td>0.678570</td>\n",
       "      <td>0.403869</td>\n",
       "      <td>0.570840</td>\n",
       "      <td>0.294893</td>\n",
       "      <td>0.702566</td>\n",
       "    </tr>\n",
       "    <tr>\n",
       "      <th>9</th>\n",
       "      <td>100206310_1012284084_18</td>\n",
       "      <td>0.0</td>\n",
       "      <td>0.0</td>\n",
       "      <td>0.0</td>\n",
       "      <td>0.0</td>\n",
       "      <td>0.0</td>\n",
       "      <td>1.0</td>\n",
       "      <td>0.733549</td>\n",
       "      <td>0.496929</td>\n",
       "      <td>0.520247</td>\n",
       "      <td>0.735525</td>\n",
       "      <td>0.444313</td>\n",
       "      <td>0.348459</td>\n",
       "    </tr>\n",
       "    <tr>\n",
       "      <th>10</th>\n",
       "      <td>100206310_1012284084_19</td>\n",
       "      <td>0.0</td>\n",
       "      <td>0.0</td>\n",
       "      <td>0.0</td>\n",
       "      <td>0.0</td>\n",
       "      <td>0.0</td>\n",
       "      <td>1.0</td>\n",
       "      <td>0.406383</td>\n",
       "      <td>0.365731</td>\n",
       "      <td>0.478711</td>\n",
       "      <td>0.421120</td>\n",
       "      <td>0.597225</td>\n",
       "      <td>0.180875</td>\n",
       "    </tr>\n",
       "    <tr>\n",
       "      <th>11</th>\n",
       "      <td>100206310_1012284084_2</td>\n",
       "      <td>0.0</td>\n",
       "      <td>0.0</td>\n",
       "      <td>0.0</td>\n",
       "      <td>0.0</td>\n",
       "      <td>0.0</td>\n",
       "      <td>1.0</td>\n",
       "      <td>0.717840</td>\n",
       "      <td>0.465738</td>\n",
       "      <td>0.581783</td>\n",
       "      <td>0.318223</td>\n",
       "      <td>0.724054</td>\n",
       "      <td>0.705533</td>\n",
       "    </tr>\n",
       "    <tr>\n",
       "      <th>12</th>\n",
       "      <td>100206310_1012284084_20</td>\n",
       "      <td>0.0</td>\n",
       "      <td>0.0</td>\n",
       "      <td>0.0</td>\n",
       "      <td>1.0</td>\n",
       "      <td>1.0</td>\n",
       "      <td>0.0</td>\n",
       "      <td>0.222622</td>\n",
       "      <td>0.403257</td>\n",
       "      <td>0.578757</td>\n",
       "      <td>0.418783</td>\n",
       "      <td>0.569332</td>\n",
       "      <td>0.278739</td>\n",
       "    </tr>\n",
       "    <tr>\n",
       "      <th>13</th>\n",
       "      <td>100206310_1012284084_21</td>\n",
       "      <td>0.0</td>\n",
       "      <td>0.0</td>\n",
       "      <td>0.0</td>\n",
       "      <td>0.0</td>\n",
       "      <td>0.0</td>\n",
       "      <td>1.0</td>\n",
       "      <td>0.443418</td>\n",
       "      <td>0.423867</td>\n",
       "      <td>0.564925</td>\n",
       "      <td>0.226613</td>\n",
       "      <td>0.417839</td>\n",
       "      <td>0.224723</td>\n",
       "    </tr>\n",
       "    <tr>\n",
       "      <th>14</th>\n",
       "      <td>100206310_1012284084_22</td>\n",
       "      <td>0.0</td>\n",
       "      <td>0.0</td>\n",
       "      <td>0.0</td>\n",
       "      <td>0.0</td>\n",
       "      <td>0.0</td>\n",
       "      <td>1.0</td>\n",
       "      <td>0.190815</td>\n",
       "      <td>0.777676</td>\n",
       "      <td>0.415672</td>\n",
       "      <td>0.637698</td>\n",
       "      <td>0.524402</td>\n",
       "      <td>0.133137</td>\n",
       "    </tr>\n",
       "    <tr>\n",
       "      <th>15</th>\n",
       "      <td>100206310_1012284084_23</td>\n",
       "      <td>0.0</td>\n",
       "      <td>0.0</td>\n",
       "      <td>0.0</td>\n",
       "      <td>0.0</td>\n",
       "      <td>0.0</td>\n",
       "      <td>1.0</td>\n",
       "      <td>0.419614</td>\n",
       "      <td>0.727993</td>\n",
       "      <td>0.588313</td>\n",
       "      <td>0.531081</td>\n",
       "      <td>0.406677</td>\n",
       "      <td>0.426644</td>\n",
       "    </tr>\n",
       "  </tbody>\n",
       "</table>\n",
       "</div>"
      ],
      "text/plain": [
       "                        ids  SCS  RNFN  LNFN  LSS  RSS    H  pred_SCS  \\\n",
       "0    100206310_1012284084_1  0.0   0.0   0.0  0.0  0.0  1.0  0.605169   \n",
       "1   100206310_1012284084_10  0.0   0.0   0.0  0.0  0.0  1.0  0.684745   \n",
       "2   100206310_1012284084_11  0.0   0.0   0.0  0.0  0.0  1.0  0.672131   \n",
       "3   100206310_1012284084_12  0.0   0.0   0.0  0.0  0.0  1.0  0.569009   \n",
       "4   100206310_1012284084_13  0.0   0.0   0.0  0.0  0.0  1.0  0.395068   \n",
       "5   100206310_1012284084_14  0.0   0.0   0.0  0.0  0.0  1.0  0.478491   \n",
       "6   100206310_1012284084_15  0.0   0.0   0.0  0.0  0.0  1.0  0.580303   \n",
       "7   100206310_1012284084_16  0.0   0.0   0.0  0.0  0.0  1.0  0.692623   \n",
       "8   100206310_1012284084_17  0.0   0.0   0.0  0.0  0.0  1.0  0.519823   \n",
       "9   100206310_1012284084_18  0.0   0.0   0.0  0.0  0.0  1.0  0.733549   \n",
       "10  100206310_1012284084_19  0.0   0.0   0.0  0.0  0.0  1.0  0.406383   \n",
       "11   100206310_1012284084_2  0.0   0.0   0.0  0.0  0.0  1.0  0.717840   \n",
       "12  100206310_1012284084_20  0.0   0.0   0.0  1.0  1.0  0.0  0.222622   \n",
       "13  100206310_1012284084_21  0.0   0.0   0.0  0.0  0.0  1.0  0.443418   \n",
       "14  100206310_1012284084_22  0.0   0.0   0.0  0.0  0.0  1.0  0.190815   \n",
       "15  100206310_1012284084_23  0.0   0.0   0.0  0.0  0.0  1.0  0.419614   \n",
       "\n",
       "    pred_RNFN  pred_LNFN  pred_LSS  pred_RSS    pred_H  \n",
       "0    0.715982   0.435817  0.455911  0.698104  0.600019  \n",
       "1    0.590653   0.569526  0.577220  0.797408  0.591806  \n",
       "2    0.427044   0.375590  0.771495  0.359636  0.460826  \n",
       "3    0.513605   0.401506  0.397181  0.530792  0.717655  \n",
       "4    0.466160   0.504576  0.263194  0.437199  0.650792  \n",
       "5    0.332368   0.494978  0.376563  0.543645  0.687123  \n",
       "6    0.506099   0.342341  0.568004  0.617194  0.462328  \n",
       "7    0.318270   0.524403  0.657136  0.242352  0.681224  \n",
       "8    0.678570   0.403869  0.570840  0.294893  0.702566  \n",
       "9    0.496929   0.520247  0.735525  0.444313  0.348459  \n",
       "10   0.365731   0.478711  0.421120  0.597225  0.180875  \n",
       "11   0.465738   0.581783  0.318223  0.724054  0.705533  \n",
       "12   0.403257   0.578757  0.418783  0.569332  0.278739  \n",
       "13   0.423867   0.564925  0.226613  0.417839  0.224723  \n",
       "14   0.777676   0.415672  0.637698  0.524402  0.133137  \n",
       "15   0.727993   0.588313  0.531081  0.406677  0.426644  "
      ]
     },
     "execution_count": 90,
     "metadata": {},
     "output_type": "execute_result"
    }
   ],
   "source": [
    "results"
   ]
  },
  {
   "cell_type": "markdown",
   "id": "a1e6cd81-4bdf-4fcb-ae8a-d094f06fa7fa",
   "metadata": {},
   "source": [
    "### Inference"
   ]
  },
  {
   "cell_type": "code",
   "execution_count": 91,
   "id": "56397a97-6e73-4587-8475-836a5a1793c1",
   "metadata": {},
   "outputs": [
    {
     "data": {
      "text/plain": [
       "WindowsPath('E:/data/RSNA2024/results/ckpt/eca_nfnet_l0 5e-05 10 eps 128neck/ep_04_loss_0.17137.ckpt')"
      ]
     },
     "execution_count": 91,
     "metadata": {},
     "output_type": "execute_result"
    }
   ],
   "source": [
    "CFG.ckpt_path"
   ]
  },
  {
   "cell_type": "code",
   "execution_count": 92,
   "id": "b89bd01e-b126-4edc-b153-1fe4220a4dc3",
   "metadata": {
    "scrolled": true
   },
   "outputs": [
    {
     "name": "stdout",
     "output_type": "stream",
     "text": [
      "eca_nfnet_l0\n"
     ]
    },
    {
     "name": "stderr",
     "output_type": "stream",
     "text": [
      "GPU available: True (cuda), used: True\n",
      "TPU available: False, using: 0 TPU cores\n",
      "HPU available: False, using: 0 HPUs\n",
      "C:\\ProgramData\\anaconda3\\envs\\rsna\\lib\\site-packages\\pytorch_lightning\\trainer\\connectors\\logger_connector\\logger_connector.py:75: Starting from v1.9.0, `tensorboardX` has been removed as a dependency of the `pytorch_lightning` package, due to potential conflicts with other packages in the ML ecosystem. For this reason, `logger=True` will use `CSVLogger` as the default logger, unless the `tensorboard` or `tensorboardX` packages are found. Please `pip install lightning[extra]` or one of them to enable TensorBoard support by default\n"
     ]
    },
    {
     "name": "stdout",
     "output_type": "stream",
     "text": [
      "model loaded\n"
     ]
    }
   ],
   "source": [
    "model = GeMModel.load_from_checkpoint(checkpoint_path=CFG.ckpt_path, cfg=CFG)\n",
    "model = featureModel(model)\n",
    "\n",
    "accelerator = CFG.device\n",
    "\n",
    "trainer = pl.Trainer(\n",
    "    accelerator=accelerator,\n",
    ")\n",
    "\n",
    "print('model loaded')"
   ]
  },
  {
   "cell_type": "code",
   "execution_count": 93,
   "id": "50423423-6f03-4597-81e0-d19d29a40f23",
   "metadata": {},
   "outputs": [
    {
     "data": {
      "text/plain": [
       "'cuda'"
      ]
     },
     "execution_count": 93,
     "metadata": {},
     "output_type": "execute_result"
    }
   ],
   "source": [
    "model.to(accelerator)\n",
    "model.eval()\n",
    "model.freeze()\n",
    "\n",
    "accelerator"
   ]
  },
  {
   "cell_type": "code",
   "execution_count": 94,
   "id": "71915d54-29d0-455f-9b88-a941bcfcfba3",
   "metadata": {},
   "outputs": [
    {
     "data": {
      "text/plain": [
       "((147218, 20), 147218, 24546)"
      ]
     },
     "execution_count": 94,
     "metadata": {},
     "output_type": "execute_result"
    }
   ],
   "source": [
    "files_df.shape, files_df.filename.nunique(), coords_df.filename.nunique()"
   ]
  },
  {
   "cell_type": "code",
   "execution_count": 106,
   "id": "d9085a76-d19a-41fb-b250-12f029e48bdb",
   "metadata": {},
   "outputs": [],
   "source": [
    "train_cols = ['filename', 'healthy', 'series_description', 'instance_id']"
   ]
  },
  {
   "cell_type": "code",
   "execution_count": 107,
   "id": "fffdaf4a-0b53-47c2-99b3-ea48a442e63e",
   "metadata": {
    "scrolled": true
   },
   "outputs": [
    {
     "data": {
      "text/html": [
       "<div>\n",
       "<style scoped>\n",
       "    .dataframe tbody tr th:only-of-type {\n",
       "        vertical-align: middle;\n",
       "    }\n",
       "\n",
       "    .dataframe tbody tr th {\n",
       "        vertical-align: top;\n",
       "    }\n",
       "\n",
       "    .dataframe thead th {\n",
       "        text-align: right;\n",
       "    }\n",
       "</style>\n",
       "<table border=\"1\" class=\"dataframe\">\n",
       "  <thead>\n",
       "    <tr style=\"text-align: right;\">\n",
       "      <th></th>\n",
       "      <th>filename</th>\n",
       "      <th>healthy</th>\n",
       "      <th>series_description</th>\n",
       "      <th>instance_id</th>\n",
       "    </tr>\n",
       "  </thead>\n",
       "  <tbody>\n",
       "    <tr>\n",
       "      <th>0</th>\n",
       "      <td>E:\\data\\RSNA2024\\pngs_256\\100206310_1012284084...</td>\n",
       "      <td>True</td>\n",
       "      <td>Axial T2</td>\n",
       "      <td>100206310_1012284084_1</td>\n",
       "    </tr>\n",
       "    <tr>\n",
       "      <th>1</th>\n",
       "      <td>E:\\data\\RSNA2024\\pngs_256\\100206310_1012284084...</td>\n",
       "      <td>True</td>\n",
       "      <td>Axial T2</td>\n",
       "      <td>100206310_1012284084_10</td>\n",
       "    </tr>\n",
       "  </tbody>\n",
       "</table>\n",
       "</div>"
      ],
      "text/plain": [
       "                                            filename  healthy  \\\n",
       "0  E:\\data\\RSNA2024\\pngs_256\\100206310_1012284084...     True   \n",
       "1  E:\\data\\RSNA2024\\pngs_256\\100206310_1012284084...     True   \n",
       "\n",
       "  series_description              instance_id  \n",
       "0           Axial T2   100206310_1012284084_1  \n",
       "1           Axial T2  100206310_1012284084_10  "
      ]
     },
     "execution_count": 107,
     "metadata": {},
     "output_type": "execute_result"
    }
   ],
   "source": [
    "files_df.loc[:, train_cols].head(2)"
   ]
  },
  {
   "cell_type": "code",
   "execution_count": 109,
   "id": "0886e635-ed66-45de-9eb5-4444c0145558",
   "metadata": {},
   "outputs": [],
   "source": [
    "# files_df.condition.unique()"
   ]
  },
  {
   "cell_type": "code",
   "execution_count": null,
   "id": "6cdca18e-5314-4a58-af78-d13e13b2f2dd",
   "metadata": {},
   "outputs": [],
   "source": []
  },
  {
   "cell_type": "markdown",
   "id": "6b59fafe-cc23-4435-9026-aea9ebc74b10",
   "metadata": {},
   "source": [
    "#### Predict"
   ]
  },
  {
   "cell_type": "code",
   "execution_count": 110,
   "id": "e18a4eb8-7384-4880-8137-d51e081a3825",
   "metadata": {},
   "outputs": [
    {
     "data": {
      "text/plain": [
       "(128, 'cuda')"
      ]
     },
     "execution_count": 110,
     "metadata": {},
     "output_type": "execute_result"
    }
   ],
   "source": [
    "CFG.BATCH_SIZE, CFG.device"
   ]
  },
  {
   "cell_type": "code",
   "execution_count": 112,
   "id": "4ebb8911-e7d1-45d9-af50-8fe2822b77b7",
   "metadata": {},
   "outputs": [],
   "source": [
    "# make sure files_df has the correct condition\n",
    "# dm = inference_datamodule(healthy_df[:248], tfs=val_tfs)\n",
    "dm = inference_datamodule(files_df, coords_df, tfs=val_tfs)\n",
    "# dm = inference_datamodule(coords_df, tfs=val_tfs)"
   ]
  },
  {
   "cell_type": "code",
   "execution_count": 113,
   "id": "40904002-1872-44f6-baf8-612bd3d8d0e8",
   "metadata": {
    "scrolled": true
   },
   "outputs": [
    {
     "name": "stderr",
     "output_type": "stream",
     "text": [
      "GPU available: True (cuda), used: True\n",
      "TPU available: False, using: 0 TPU cores\n",
      "HPU available: False, using: 0 HPUs\n",
      "You are using a CUDA device ('NVIDIA GeForce RTX 4090 Laptop GPU') that has Tensor Cores. To properly utilize them, you should set `torch.set_float32_matmul_precision('medium' | 'high')` which will trade-off precision for performance. For more details, read https://pytorch.org/docs/stable/generated/torch.set_float32_matmul_precision.html#torch.set_float32_matmul_precision\n",
      "LOCAL_RANK: 0 - CUDA_VISIBLE_DEVICES: [0]\n"
     ]
    },
    {
     "data": {
      "application/vnd.jupyter.widget-view+json": {
       "model_id": "343e38d38f6b41efb9820c85039d7351",
       "version_major": 2,
       "version_minor": 0
      },
      "text/plain": [
       "Predicting: |                                                                             | 0/? [00:00<?, ?it/…"
      ]
     },
     "metadata": {},
     "output_type": "display_data"
    }
   ],
   "source": [
    "trainer = pl.Trainer(accelerator=CFG.device)\n",
    "predictions = trainer.predict(model, dataloaders=dm)"
   ]
  },
  {
   "cell_type": "code",
   "execution_count": 114,
   "id": "89f2fdd0-6870-4dbd-bef0-41ec5c81fb91",
   "metadata": {},
   "outputs": [
    {
     "data": {
      "text/plain": [
       "1151"
      ]
     },
     "execution_count": 114,
     "metadata": {},
     "output_type": "execute_result"
    }
   ],
   "source": [
    "len(predictions)"
   ]
  },
  {
   "cell_type": "code",
   "execution_count": 115,
   "id": "5974064d-8cd9-4e1a-9d9b-901ed9571556",
   "metadata": {
    "scrolled": true
   },
   "outputs": [
    {
     "data": {
      "text/plain": [
       "((128, 128), (128, 13), 128)"
      ]
     },
     "execution_count": 115,
     "metadata": {},
     "output_type": "execute_result"
    }
   ],
   "source": [
    "predictions[0][0].shape, predictions[0][1].shape, len(predictions[0][2])"
   ]
  },
  {
   "cell_type": "code",
   "execution_count": 116,
   "id": "4991edd6-e55e-4e45-a0bc-acffd2fb6172",
   "metadata": {},
   "outputs": [
    {
     "data": {
      "text/plain": [
       "('100206310_1012284084_1',\n",
       " '100206310_1012284084_10',\n",
       " '100206310_1012284084_11',\n",
       " '100206310_1012284084_12')"
      ]
     },
     "execution_count": 116,
     "metadata": {},
     "output_type": "execute_result"
    }
   ],
   "source": [
    "predictions[0][2][:4]"
   ]
  },
  {
   "cell_type": "code",
   "execution_count": 117,
   "id": "908c03dd-4437-4cc2-9dd3-01e599a186be",
   "metadata": {},
   "outputs": [
    {
     "data": {
      "text/html": [
       "<div>\n",
       "<style scoped>\n",
       "    .dataframe tbody tr th:only-of-type {\n",
       "        vertical-align: middle;\n",
       "    }\n",
       "\n",
       "    .dataframe tbody tr th {\n",
       "        vertical-align: top;\n",
       "    }\n",
       "\n",
       "    .dataframe thead th {\n",
       "        text-align: right;\n",
       "    }\n",
       "</style>\n",
       "<table border=\"1\" class=\"dataframe\">\n",
       "  <thead>\n",
       "    <tr style=\"text-align: right;\">\n",
       "      <th></th>\n",
       "      <th>ids</th>\n",
       "      <th>SCS</th>\n",
       "      <th>RNFN</th>\n",
       "      <th>LNFN</th>\n",
       "      <th>LSS</th>\n",
       "      <th>RSS</th>\n",
       "      <th>H</th>\n",
       "      <th>pred_SCS</th>\n",
       "      <th>pred_RNFN</th>\n",
       "      <th>pred_LNFN</th>\n",
       "      <th>pred_LSS</th>\n",
       "      <th>pred_RSS</th>\n",
       "      <th>pred_H</th>\n",
       "    </tr>\n",
       "  </thead>\n",
       "  <tbody>\n",
       "    <tr>\n",
       "      <th>0</th>\n",
       "      <td>100206310_1012284084_1</td>\n",
       "      <td>0.0</td>\n",
       "      <td>0.0</td>\n",
       "      <td>0.0</td>\n",
       "      <td>0.0</td>\n",
       "      <td>0.0</td>\n",
       "      <td>1.0</td>\n",
       "      <td>0.008687</td>\n",
       "      <td>0.005704</td>\n",
       "      <td>0.003396</td>\n",
       "      <td>0.008272</td>\n",
       "      <td>0.010076</td>\n",
       "      <td>0.996422</td>\n",
       "    </tr>\n",
       "    <tr>\n",
       "      <th>1</th>\n",
       "      <td>100206310_1012284084_10</td>\n",
       "      <td>0.0</td>\n",
       "      <td>0.0</td>\n",
       "      <td>0.0</td>\n",
       "      <td>0.0</td>\n",
       "      <td>0.0</td>\n",
       "      <td>1.0</td>\n",
       "      <td>0.009786</td>\n",
       "      <td>0.005203</td>\n",
       "      <td>0.004467</td>\n",
       "      <td>0.010467</td>\n",
       "      <td>0.013595</td>\n",
       "      <td>0.994842</td>\n",
       "    </tr>\n",
       "  </tbody>\n",
       "</table>\n",
       "</div>"
      ],
      "text/plain": [
       "                       ids  SCS  RNFN  LNFN  LSS  RSS    H  pred_SCS  \\\n",
       "0   100206310_1012284084_1  0.0   0.0   0.0  0.0  0.0  1.0  0.008687   \n",
       "1  100206310_1012284084_10  0.0   0.0   0.0  0.0  0.0  1.0  0.009786   \n",
       "\n",
       "   pred_RNFN  pred_LNFN  pred_LSS  pred_RSS    pred_H  \n",
       "0   0.005704   0.003396  0.008272  0.010076  0.996422  \n",
       "1   0.005203   0.004467  0.010467  0.013595  0.994842  "
      ]
     },
     "execution_count": 117,
     "metadata": {},
     "output_type": "execute_result"
    }
   ],
   "source": [
    "predictions[0][1].head(2)"
   ]
  },
  {
   "cell_type": "code",
   "execution_count": 118,
   "id": "07d30e4e-e0bd-4c04-b8f7-0263c5a624da",
   "metadata": {},
   "outputs": [],
   "source": [
    "(preds, results, ids) = list(map(list, zip(*predictions)))"
   ]
  },
  {
   "cell_type": "markdown",
   "id": "a2c42026-54e9-4a33-9f6b-1a9c17140c50",
   "metadata": {},
   "source": [
    "### Save predictions"
   ]
  },
  {
   "cell_type": "markdown",
   "id": "ac6d7be1-cfd7-4254-ab1a-e7b403edf71b",
   "metadata": {},
   "source": [
    "#### Save results"
   ]
  },
  {
   "cell_type": "code",
   "execution_count": 119,
   "id": "3ae99927-8b50-41e0-9654-b678e4d44fb8",
   "metadata": {
    "scrolled": true
   },
   "outputs": [
    {
     "data": {
      "text/plain": [
       "(147218, 13)"
      ]
     },
     "execution_count": 119,
     "metadata": {},
     "output_type": "execute_result"
    }
   ],
   "source": [
    "results = pd.concat(results, ignore_index=True)\n",
    "results.shape"
   ]
  },
  {
   "cell_type": "code",
   "execution_count": 142,
   "id": "001d0460-d693-4864-9122-b027ea5ef2cf",
   "metadata": {},
   "outputs": [
    {
     "data": {
      "text/html": [
       "<div>\n",
       "<style scoped>\n",
       "    .dataframe tbody tr th:only-of-type {\n",
       "        vertical-align: middle;\n",
       "    }\n",
       "\n",
       "    .dataframe tbody tr th {\n",
       "        vertical-align: top;\n",
       "    }\n",
       "\n",
       "    .dataframe thead th {\n",
       "        text-align: right;\n",
       "    }\n",
       "</style>\n",
       "<table border=\"1\" class=\"dataframe\">\n",
       "  <thead>\n",
       "    <tr style=\"text-align: right;\">\n",
       "      <th></th>\n",
       "      <th>ids</th>\n",
       "      <th>SCS</th>\n",
       "      <th>RNFN</th>\n",
       "      <th>LNFN</th>\n",
       "      <th>LSS</th>\n",
       "      <th>RSS</th>\n",
       "      <th>H</th>\n",
       "      <th>pred_SCS</th>\n",
       "      <th>pred_RNFN</th>\n",
       "      <th>pred_LNFN</th>\n",
       "      <th>pred_LSS</th>\n",
       "      <th>pred_RSS</th>\n",
       "      <th>pred_H</th>\n",
       "      <th>study_id</th>\n",
       "      <th>series_id</th>\n",
       "      <th>instance</th>\n",
       "    </tr>\n",
       "  </thead>\n",
       "  <tbody>\n",
       "    <tr>\n",
       "      <th>0</th>\n",
       "      <td>100206310_1012284084_1</td>\n",
       "      <td>0.0</td>\n",
       "      <td>0.0</td>\n",
       "      <td>0.0</td>\n",
       "      <td>0.0</td>\n",
       "      <td>0.0</td>\n",
       "      <td>1.0</td>\n",
       "      <td>0.008687</td>\n",
       "      <td>0.005704</td>\n",
       "      <td>0.003396</td>\n",
       "      <td>0.008272</td>\n",
       "      <td>0.010076</td>\n",
       "      <td>0.996422</td>\n",
       "      <td>100206310</td>\n",
       "      <td>1012284084</td>\n",
       "      <td>1</td>\n",
       "    </tr>\n",
       "    <tr>\n",
       "      <th>1</th>\n",
       "      <td>100206310_1012284084_10</td>\n",
       "      <td>0.0</td>\n",
       "      <td>0.0</td>\n",
       "      <td>0.0</td>\n",
       "      <td>0.0</td>\n",
       "      <td>0.0</td>\n",
       "      <td>1.0</td>\n",
       "      <td>0.009786</td>\n",
       "      <td>0.005203</td>\n",
       "      <td>0.004467</td>\n",
       "      <td>0.010467</td>\n",
       "      <td>0.013595</td>\n",
       "      <td>0.994842</td>\n",
       "      <td>100206310</td>\n",
       "      <td>1012284084</td>\n",
       "      <td>10</td>\n",
       "    </tr>\n",
       "    <tr>\n",
       "      <th>2</th>\n",
       "      <td>100206310_1012284084_11</td>\n",
       "      <td>0.0</td>\n",
       "      <td>0.0</td>\n",
       "      <td>0.0</td>\n",
       "      <td>0.0</td>\n",
       "      <td>0.0</td>\n",
       "      <td>1.0</td>\n",
       "      <td>0.010766</td>\n",
       "      <td>0.004137</td>\n",
       "      <td>0.004125</td>\n",
       "      <td>0.011050</td>\n",
       "      <td>0.014827</td>\n",
       "      <td>0.987138</td>\n",
       "      <td>100206310</td>\n",
       "      <td>1012284084</td>\n",
       "      <td>11</td>\n",
       "    </tr>\n",
       "    <tr>\n",
       "      <th>3</th>\n",
       "      <td>100206310_1012284084_12</td>\n",
       "      <td>0.0</td>\n",
       "      <td>0.0</td>\n",
       "      <td>0.0</td>\n",
       "      <td>0.0</td>\n",
       "      <td>0.0</td>\n",
       "      <td>1.0</td>\n",
       "      <td>0.010275</td>\n",
       "      <td>0.004786</td>\n",
       "      <td>0.005259</td>\n",
       "      <td>0.018689</td>\n",
       "      <td>0.022448</td>\n",
       "      <td>0.970648</td>\n",
       "      <td>100206310</td>\n",
       "      <td>1012284084</td>\n",
       "      <td>12</td>\n",
       "    </tr>\n",
       "    <tr>\n",
       "      <th>4</th>\n",
       "      <td>100206310_1012284084_13</td>\n",
       "      <td>0.0</td>\n",
       "      <td>0.0</td>\n",
       "      <td>0.0</td>\n",
       "      <td>0.0</td>\n",
       "      <td>0.0</td>\n",
       "      <td>1.0</td>\n",
       "      <td>0.009548</td>\n",
       "      <td>0.003647</td>\n",
       "      <td>0.004661</td>\n",
       "      <td>0.014746</td>\n",
       "      <td>0.016192</td>\n",
       "      <td>0.981966</td>\n",
       "      <td>100206310</td>\n",
       "      <td>1012284084</td>\n",
       "      <td>13</td>\n",
       "    </tr>\n",
       "  </tbody>\n",
       "</table>\n",
       "</div>"
      ],
      "text/plain": [
       "                       ids  SCS  RNFN  LNFN  LSS  RSS    H  pred_SCS  \\\n",
       "0   100206310_1012284084_1  0.0   0.0   0.0  0.0  0.0  1.0  0.008687   \n",
       "1  100206310_1012284084_10  0.0   0.0   0.0  0.0  0.0  1.0  0.009786   \n",
       "2  100206310_1012284084_11  0.0   0.0   0.0  0.0  0.0  1.0  0.010766   \n",
       "3  100206310_1012284084_12  0.0   0.0   0.0  0.0  0.0  1.0  0.010275   \n",
       "4  100206310_1012284084_13  0.0   0.0   0.0  0.0  0.0  1.0  0.009548   \n",
       "\n",
       "   pred_RNFN  pred_LNFN  pred_LSS  pred_RSS    pred_H   study_id   series_id  \\\n",
       "0   0.005704   0.003396  0.008272  0.010076  0.996422  100206310  1012284084   \n",
       "1   0.005203   0.004467  0.010467  0.013595  0.994842  100206310  1012284084   \n",
       "2   0.004137   0.004125  0.011050  0.014827  0.987138  100206310  1012284084   \n",
       "3   0.004786   0.005259  0.018689  0.022448  0.970648  100206310  1012284084   \n",
       "4   0.003647   0.004661  0.014746  0.016192  0.981966  100206310  1012284084   \n",
       "\n",
       "   instance  \n",
       "0         1  \n",
       "1        10  \n",
       "2        11  \n",
       "3        12  \n",
       "4        13  "
      ]
     },
     "execution_count": 142,
     "metadata": {},
     "output_type": "execute_result"
    }
   ],
   "source": [
    "results.head()"
   ]
  },
  {
   "cell_type": "code",
   "execution_count": 141,
   "id": "3640ecac-358e-4c3b-ab9b-a22f1a1e44b8",
   "metadata": {},
   "outputs": [
    {
     "data": {
      "text/plain": [
       "[0, 1, 2, 3, 4]"
      ]
     },
     "execution_count": 141,
     "metadata": {},
     "output_type": "execute_result"
    }
   ],
   "source": [
    "results.head().index.tolist()"
   ]
  },
  {
   "cell_type": "code",
   "execution_count": 120,
   "id": "1a916c0e-ac1b-44c8-b0ad-62c8e67efd98",
   "metadata": {},
   "outputs": [
    {
     "data": {
      "text/html": [
       "<div>\n",
       "<style scoped>\n",
       "    .dataframe tbody tr th:only-of-type {\n",
       "        vertical-align: middle;\n",
       "    }\n",
       "\n",
       "    .dataframe tbody tr th {\n",
       "        vertical-align: top;\n",
       "    }\n",
       "\n",
       "    .dataframe thead th {\n",
       "        text-align: right;\n",
       "    }\n",
       "</style>\n",
       "<table border=\"1\" class=\"dataframe\">\n",
       "  <thead>\n",
       "    <tr style=\"text-align: right;\">\n",
       "      <th></th>\n",
       "      <th>ids</th>\n",
       "      <th>SCS</th>\n",
       "      <th>RNFN</th>\n",
       "      <th>LNFN</th>\n",
       "      <th>LSS</th>\n",
       "      <th>RSS</th>\n",
       "      <th>H</th>\n",
       "      <th>pred_SCS</th>\n",
       "      <th>pred_RNFN</th>\n",
       "      <th>pred_LNFN</th>\n",
       "      <th>pred_LSS</th>\n",
       "      <th>pred_RSS</th>\n",
       "      <th>pred_H</th>\n",
       "    </tr>\n",
       "  </thead>\n",
       "  <tbody>\n",
       "    <tr>\n",
       "      <th>29003</th>\n",
       "      <td>1777680877_2447990181_32</td>\n",
       "      <td>0.0</td>\n",
       "      <td>0.0</td>\n",
       "      <td>0.0</td>\n",
       "      <td>0.0</td>\n",
       "      <td>0.0</td>\n",
       "      <td>1.0</td>\n",
       "      <td>0.010301</td>\n",
       "      <td>0.004611</td>\n",
       "      <td>0.003562</td>\n",
       "      <td>0.012105</td>\n",
       "      <td>0.017671</td>\n",
       "      <td>0.994959</td>\n",
       "    </tr>\n",
       "    <tr>\n",
       "      <th>91636</th>\n",
       "      <td>3397114375_2204354751_9</td>\n",
       "      <td>0.0</td>\n",
       "      <td>0.0</td>\n",
       "      <td>0.0</td>\n",
       "      <td>0.0</td>\n",
       "      <td>0.0</td>\n",
       "      <td>1.0</td>\n",
       "      <td>0.016625</td>\n",
       "      <td>0.010799</td>\n",
       "      <td>0.005918</td>\n",
       "      <td>0.014675</td>\n",
       "      <td>0.013823</td>\n",
       "      <td>0.981366</td>\n",
       "    </tr>\n",
       "  </tbody>\n",
       "</table>\n",
       "</div>"
      ],
      "text/plain": [
       "                            ids  SCS  RNFN  LNFN  LSS  RSS    H  pred_SCS  \\\n",
       "29003  1777680877_2447990181_32  0.0   0.0   0.0  0.0  0.0  1.0  0.010301   \n",
       "91636   3397114375_2204354751_9  0.0   0.0   0.0  0.0  0.0  1.0  0.016625   \n",
       "\n",
       "       pred_RNFN  pred_LNFN  pred_LSS  pred_RSS    pred_H  \n",
       "29003   0.004611   0.003562  0.012105  0.017671  0.994959  \n",
       "91636   0.010799   0.005918  0.014675  0.013823  0.981366  "
      ]
     },
     "execution_count": 120,
     "metadata": {},
     "output_type": "execute_result"
    }
   ],
   "source": [
    "results.sample(2)"
   ]
  },
  {
   "cell_type": "code",
   "execution_count": 121,
   "id": "22bf8fb2-6432-40d4-bfdc-8531350dfdcc",
   "metadata": {
    "scrolled": true
   },
   "outputs": [],
   "source": [
    "results['study_id'] = results['ids'].apply(lambda x: x.split('_')[0])\n",
    "results['series_id'] = results['ids'].apply(lambda x: (x.split('_')[1]))\n",
    "results['instance'] = results['ids'].apply(lambda x: int(x.split('_')[-1]))"
   ]
  },
  {
   "cell_type": "code",
   "execution_count": 122,
   "id": "b7fe40cf-7a55-4b23-8404-94ce51dca9f8",
   "metadata": {},
   "outputs": [
    {
     "data": {
      "text/html": [
       "<div>\n",
       "<style scoped>\n",
       "    .dataframe tbody tr th:only-of-type {\n",
       "        vertical-align: middle;\n",
       "    }\n",
       "\n",
       "    .dataframe tbody tr th {\n",
       "        vertical-align: top;\n",
       "    }\n",
       "\n",
       "    .dataframe thead th {\n",
       "        text-align: right;\n",
       "    }\n",
       "</style>\n",
       "<table border=\"1\" class=\"dataframe\">\n",
       "  <thead>\n",
       "    <tr style=\"text-align: right;\">\n",
       "      <th></th>\n",
       "      <th>ids</th>\n",
       "      <th>SCS</th>\n",
       "      <th>RNFN</th>\n",
       "      <th>LNFN</th>\n",
       "      <th>LSS</th>\n",
       "      <th>RSS</th>\n",
       "      <th>H</th>\n",
       "      <th>pred_SCS</th>\n",
       "      <th>pred_RNFN</th>\n",
       "      <th>pred_LNFN</th>\n",
       "      <th>pred_LSS</th>\n",
       "      <th>pred_RSS</th>\n",
       "      <th>pred_H</th>\n",
       "      <th>study_id</th>\n",
       "      <th>series_id</th>\n",
       "      <th>instance</th>\n",
       "    </tr>\n",
       "  </thead>\n",
       "  <tbody>\n",
       "    <tr>\n",
       "      <th>0</th>\n",
       "      <td>100206310_1012284084_1</td>\n",
       "      <td>0.0</td>\n",
       "      <td>0.0</td>\n",
       "      <td>0.0</td>\n",
       "      <td>0.0</td>\n",
       "      <td>0.0</td>\n",
       "      <td>1.0</td>\n",
       "      <td>0.008687</td>\n",
       "      <td>0.005704</td>\n",
       "      <td>0.003396</td>\n",
       "      <td>0.008272</td>\n",
       "      <td>0.010076</td>\n",
       "      <td>0.996422</td>\n",
       "      <td>100206310</td>\n",
       "      <td>1012284084</td>\n",
       "      <td>1</td>\n",
       "    </tr>\n",
       "    <tr>\n",
       "      <th>1</th>\n",
       "      <td>100206310_1012284084_10</td>\n",
       "      <td>0.0</td>\n",
       "      <td>0.0</td>\n",
       "      <td>0.0</td>\n",
       "      <td>0.0</td>\n",
       "      <td>0.0</td>\n",
       "      <td>1.0</td>\n",
       "      <td>0.009786</td>\n",
       "      <td>0.005203</td>\n",
       "      <td>0.004467</td>\n",
       "      <td>0.010467</td>\n",
       "      <td>0.013595</td>\n",
       "      <td>0.994842</td>\n",
       "      <td>100206310</td>\n",
       "      <td>1012284084</td>\n",
       "      <td>10</td>\n",
       "    </tr>\n",
       "  </tbody>\n",
       "</table>\n",
       "</div>"
      ],
      "text/plain": [
       "                       ids  SCS  RNFN  LNFN  LSS  RSS    H  pred_SCS  \\\n",
       "0   100206310_1012284084_1  0.0   0.0   0.0  0.0  0.0  1.0  0.008687   \n",
       "1  100206310_1012284084_10  0.0   0.0   0.0  0.0  0.0  1.0  0.009786   \n",
       "\n",
       "   pred_RNFN  pred_LNFN  pred_LSS  pred_RSS    pred_H   study_id   series_id  \\\n",
       "0   0.005704   0.003396  0.008272  0.010076  0.996422  100206310  1012284084   \n",
       "1   0.005203   0.004467  0.010467  0.013595  0.994842  100206310  1012284084   \n",
       "\n",
       "   instance  \n",
       "0         1  \n",
       "1        10  "
      ]
     },
     "execution_count": 122,
     "metadata": {},
     "output_type": "execute_result"
    }
   ],
   "source": [
    "results.head(2)"
   ]
  },
  {
   "cell_type": "code",
   "execution_count": 123,
   "id": "31f94896-7a2c-44df-a606-2c206e021022",
   "metadata": {},
   "outputs": [
    {
     "data": {
      "text/plain": [
       "1975"
      ]
     },
     "execution_count": 123,
     "metadata": {},
     "output_type": "execute_result"
    }
   ],
   "source": [
    "results.study_id.nunique()"
   ]
  },
  {
   "cell_type": "code",
   "execution_count": 125,
   "id": "fadf10db-f74c-4546-bbcf-3072472bc1b5",
   "metadata": {},
   "outputs": [],
   "source": [
    "#  dont sort\n",
    "# table and embeding order must match"
   ]
  },
  {
   "cell_type": "code",
   "execution_count": 126,
   "id": "68300b0b-965b-49a0-bacb-4ba71f8ef787",
   "metadata": {
    "scrolled": true
   },
   "outputs": [],
   "source": [
    "# results = results.sort_values(by=['study_id', 'series_id', 'instance'], ascending=[True, True, True], ignore_index=True)\n",
    "\n",
    "# results.shape"
   ]
  },
  {
   "cell_type": "code",
   "execution_count": 127,
   "id": "a18d53b8-a725-4138-8fc9-d796d5fb0099",
   "metadata": {},
   "outputs": [
    {
     "data": {
      "text/plain": [
       "1975"
      ]
     },
     "execution_count": 127,
     "metadata": {},
     "output_type": "execute_result"
    }
   ],
   "source": [
    "results.study_id.nunique()"
   ]
  },
  {
   "cell_type": "code",
   "execution_count": 128,
   "id": "9a40b62a-6600-463c-a1d8-3fcb683acbdb",
   "metadata": {},
   "outputs": [],
   "source": [
    "# results.head(5)"
   ]
  },
  {
   "cell_type": "code",
   "execution_count": 129,
   "id": "f1e72113-627d-49b8-a970-5ae3b88f0a4c",
   "metadata": {},
   "outputs": [
    {
     "data": {
      "text/plain": [
       "Index([ 96,  97,  98,  99, 100, 101, 102, 103, 104, 105, 106, 107, 108, 109,\n",
       "       110, 111, 112, 113, 114, 115, 116, 117, 118, 119, 120, 121, 122, 123,\n",
       "       124, 125, 126, 127, 128, 129, 130, 131, 132, 133, 134, 135, 136, 137,\n",
       "       138, 139, 140, 141, 142, 143, 144, 145, 146, 147, 148, 149, 150, 151,\n",
       "       152, 153, 154, 155, 156, 157, 158, 159, 160, 161, 162, 163, 164, 165,\n",
       "       166, 167, 168, 169, 170, 171, 172, 173],\n",
       "      dtype='int64')"
      ]
     },
     "execution_count": 129,
     "metadata": {},
     "output_type": "execute_result"
    }
   ],
   "source": [
    "results.index[results['study_id'] == '1002894806']"
   ]
  },
  {
   "cell_type": "code",
   "execution_count": 130,
   "id": "4b92bd55-8c72-45c9-a357-f4e7358b2212",
   "metadata": {
    "scrolled": true
   },
   "outputs": [
    {
     "data": {
      "text/html": [
       "<div>\n",
       "<style scoped>\n",
       "    .dataframe tbody tr th:only-of-type {\n",
       "        vertical-align: middle;\n",
       "    }\n",
       "\n",
       "    .dataframe tbody tr th {\n",
       "        vertical-align: top;\n",
       "    }\n",
       "\n",
       "    .dataframe thead th {\n",
       "        text-align: right;\n",
       "    }\n",
       "</style>\n",
       "<table border=\"1\" class=\"dataframe\">\n",
       "  <thead>\n",
       "    <tr style=\"text-align: right;\">\n",
       "      <th></th>\n",
       "      <th>ids</th>\n",
       "      <th>SCS</th>\n",
       "      <th>RNFN</th>\n",
       "      <th>LNFN</th>\n",
       "      <th>LSS</th>\n",
       "      <th>RSS</th>\n",
       "      <th>H</th>\n",
       "      <th>pred_SCS</th>\n",
       "      <th>pred_RNFN</th>\n",
       "      <th>pred_LNFN</th>\n",
       "      <th>pred_LSS</th>\n",
       "      <th>pred_RSS</th>\n",
       "      <th>pred_H</th>\n",
       "      <th>study_id</th>\n",
       "      <th>series_id</th>\n",
       "      <th>instance</th>\n",
       "    </tr>\n",
       "  </thead>\n",
       "  <tbody>\n",
       "    <tr>\n",
       "      <th>96</th>\n",
       "      <td>1002894806_1252873726_1</td>\n",
       "      <td>0.0</td>\n",
       "      <td>0.0</td>\n",
       "      <td>0.0</td>\n",
       "      <td>0.0</td>\n",
       "      <td>0.0</td>\n",
       "      <td>1.0</td>\n",
       "      <td>0.012720</td>\n",
       "      <td>0.005766</td>\n",
       "      <td>0.004333</td>\n",
       "      <td>0.018424</td>\n",
       "      <td>0.018601</td>\n",
       "      <td>0.980531</td>\n",
       "      <td>1002894806</td>\n",
       "      <td>1252873726</td>\n",
       "      <td>1</td>\n",
       "    </tr>\n",
       "    <tr>\n",
       "      <th>97</th>\n",
       "      <td>1002894806_1252873726_10</td>\n",
       "      <td>0.0</td>\n",
       "      <td>0.0</td>\n",
       "      <td>0.0</td>\n",
       "      <td>0.0</td>\n",
       "      <td>0.0</td>\n",
       "      <td>1.0</td>\n",
       "      <td>0.011499</td>\n",
       "      <td>0.007655</td>\n",
       "      <td>0.008143</td>\n",
       "      <td>0.033114</td>\n",
       "      <td>0.041246</td>\n",
       "      <td>0.948285</td>\n",
       "      <td>1002894806</td>\n",
       "      <td>1252873726</td>\n",
       "      <td>10</td>\n",
       "    </tr>\n",
       "    <tr>\n",
       "      <th>98</th>\n",
       "      <td>1002894806_1252873726_11</td>\n",
       "      <td>0.0</td>\n",
       "      <td>0.0</td>\n",
       "      <td>0.0</td>\n",
       "      <td>0.0</td>\n",
       "      <td>0.0</td>\n",
       "      <td>1.0</td>\n",
       "      <td>0.012720</td>\n",
       "      <td>0.006360</td>\n",
       "      <td>0.007804</td>\n",
       "      <td>0.083649</td>\n",
       "      <td>0.065060</td>\n",
       "      <td>0.825550</td>\n",
       "      <td>1002894806</td>\n",
       "      <td>1252873726</td>\n",
       "      <td>11</td>\n",
       "    </tr>\n",
       "    <tr>\n",
       "      <th>99</th>\n",
       "      <td>1002894806_1252873726_12</td>\n",
       "      <td>0.0</td>\n",
       "      <td>0.0</td>\n",
       "      <td>0.0</td>\n",
       "      <td>1.0</td>\n",
       "      <td>0.0</td>\n",
       "      <td>0.0</td>\n",
       "      <td>0.012415</td>\n",
       "      <td>0.006567</td>\n",
       "      <td>0.006452</td>\n",
       "      <td>0.465788</td>\n",
       "      <td>0.431943</td>\n",
       "      <td>0.185608</td>\n",
       "      <td>1002894806</td>\n",
       "      <td>1252873726</td>\n",
       "      <td>12</td>\n",
       "    </tr>\n",
       "    <tr>\n",
       "      <th>100</th>\n",
       "      <td>1002894806_1252873726_13</td>\n",
       "      <td>0.0</td>\n",
       "      <td>0.0</td>\n",
       "      <td>0.0</td>\n",
       "      <td>0.0</td>\n",
       "      <td>1.0</td>\n",
       "      <td>0.0</td>\n",
       "      <td>0.011063</td>\n",
       "      <td>0.006081</td>\n",
       "      <td>0.005381</td>\n",
       "      <td>0.351137</td>\n",
       "      <td>0.386445</td>\n",
       "      <td>0.192536</td>\n",
       "      <td>1002894806</td>\n",
       "      <td>1252873726</td>\n",
       "      <td>13</td>\n",
       "    </tr>\n",
       "  </tbody>\n",
       "</table>\n",
       "</div>"
      ],
      "text/plain": [
       "                          ids  SCS  RNFN  LNFN  LSS  RSS    H  pred_SCS  \\\n",
       "96    1002894806_1252873726_1  0.0   0.0   0.0  0.0  0.0  1.0  0.012720   \n",
       "97   1002894806_1252873726_10  0.0   0.0   0.0  0.0  0.0  1.0  0.011499   \n",
       "98   1002894806_1252873726_11  0.0   0.0   0.0  0.0  0.0  1.0  0.012720   \n",
       "99   1002894806_1252873726_12  0.0   0.0   0.0  1.0  0.0  0.0  0.012415   \n",
       "100  1002894806_1252873726_13  0.0   0.0   0.0  0.0  1.0  0.0  0.011063   \n",
       "\n",
       "     pred_RNFN  pred_LNFN  pred_LSS  pred_RSS    pred_H    study_id  \\\n",
       "96    0.005766   0.004333  0.018424  0.018601  0.980531  1002894806   \n",
       "97    0.007655   0.008143  0.033114  0.041246  0.948285  1002894806   \n",
       "98    0.006360   0.007804  0.083649  0.065060  0.825550  1002894806   \n",
       "99    0.006567   0.006452  0.465788  0.431943  0.185608  1002894806   \n",
       "100   0.006081   0.005381  0.351137  0.386445  0.192536  1002894806   \n",
       "\n",
       "      series_id  instance  \n",
       "96   1252873726         1  \n",
       "97   1252873726        10  \n",
       "98   1252873726        11  \n",
       "99   1252873726        12  \n",
       "100  1252873726        13  "
      ]
     },
     "execution_count": 130,
     "metadata": {},
     "output_type": "execute_result"
    }
   ],
   "source": [
    "results[results['study_id'] == '1002894806'].head()"
   ]
  },
  {
   "cell_type": "code",
   "execution_count": 131,
   "id": "4557d57d-51c5-42da-a4da-3aed9f6e41fd",
   "metadata": {},
   "outputs": [
    {
     "data": {
      "text/plain": [
       "((103248, 16), (43970, 16))"
      ]
     },
     "execution_count": 131,
     "metadata": {},
     "output_type": "execute_result"
    }
   ],
   "source": [
    "results[results.pred_H > 0.8].shape, results[results.pred_H < 0.8].shape"
   ]
  },
  {
   "cell_type": "code",
   "execution_count": 135,
   "id": "e7ee728b-274e-4e79-bdf0-e9c0a810b75c",
   "metadata": {},
   "outputs": [
    {
     "data": {
      "text/plain": [
       "(24546, 16)"
      ]
     },
     "execution_count": 135,
     "metadata": {},
     "output_type": "execute_result"
    }
   ],
   "source": [
    "results[results.H < 1].shape"
   ]
  },
  {
   "cell_type": "code",
   "execution_count": 136,
   "id": "c18edc44-40a4-4dc3-a089-9c0858c5adc6",
   "metadata": {},
   "outputs": [
    {
     "data": {
      "text/html": [
       "<div>\n",
       "<style scoped>\n",
       "    .dataframe tbody tr th:only-of-type {\n",
       "        vertical-align: middle;\n",
       "    }\n",
       "\n",
       "    .dataframe tbody tr th {\n",
       "        vertical-align: top;\n",
       "    }\n",
       "\n",
       "    .dataframe thead th {\n",
       "        text-align: right;\n",
       "    }\n",
       "</style>\n",
       "<table border=\"1\" class=\"dataframe\">\n",
       "  <thead>\n",
       "    <tr style=\"text-align: right;\">\n",
       "      <th></th>\n",
       "      <th>ids</th>\n",
       "      <th>SCS</th>\n",
       "      <th>RNFN</th>\n",
       "      <th>LNFN</th>\n",
       "      <th>LSS</th>\n",
       "      <th>RSS</th>\n",
       "      <th>H</th>\n",
       "      <th>pred_SCS</th>\n",
       "      <th>pred_RNFN</th>\n",
       "      <th>pred_LNFN</th>\n",
       "      <th>pred_LSS</th>\n",
       "      <th>pred_RSS</th>\n",
       "      <th>pred_H</th>\n",
       "      <th>study_id</th>\n",
       "      <th>series_id</th>\n",
       "      <th>instance</th>\n",
       "    </tr>\n",
       "  </thead>\n",
       "  <tbody>\n",
       "    <tr>\n",
       "      <th>58432</th>\n",
       "      <td>2550694704_937840626_8</td>\n",
       "      <td>0.0</td>\n",
       "      <td>0.0</td>\n",
       "      <td>0.0</td>\n",
       "      <td>0.0</td>\n",
       "      <td>1.0</td>\n",
       "      <td>0.0</td>\n",
       "      <td>0.008676</td>\n",
       "      <td>0.005967</td>\n",
       "      <td>0.003719</td>\n",
       "      <td>0.544802</td>\n",
       "      <td>0.615703</td>\n",
       "      <td>0.049328</td>\n",
       "      <td>2550694704</td>\n",
       "      <td>937840626</td>\n",
       "      <td>8</td>\n",
       "    </tr>\n",
       "    <tr>\n",
       "      <th>28733</th>\n",
       "      <td>1768692511_1766321945_12</td>\n",
       "      <td>0.0</td>\n",
       "      <td>0.0</td>\n",
       "      <td>1.0</td>\n",
       "      <td>0.0</td>\n",
       "      <td>0.0</td>\n",
       "      <td>0.0</td>\n",
       "      <td>0.009556</td>\n",
       "      <td>0.011857</td>\n",
       "      <td>0.999795</td>\n",
       "      <td>0.015912</td>\n",
       "      <td>0.016972</td>\n",
       "      <td>0.005601</td>\n",
       "      <td>1768692511</td>\n",
       "      <td>1766321945</td>\n",
       "      <td>12</td>\n",
       "    </tr>\n",
       "  </tbody>\n",
       "</table>\n",
       "</div>"
      ],
      "text/plain": [
       "                            ids  SCS  RNFN  LNFN  LSS  RSS    H  pred_SCS  \\\n",
       "58432    2550694704_937840626_8  0.0   0.0   0.0  0.0  1.0  0.0  0.008676   \n",
       "28733  1768692511_1766321945_12  0.0   0.0   1.0  0.0  0.0  0.0  0.009556   \n",
       "\n",
       "       pred_RNFN  pred_LNFN  pred_LSS  pred_RSS    pred_H    study_id  \\\n",
       "58432   0.005967   0.003719  0.544802  0.615703  0.049328  2550694704   \n",
       "28733   0.011857   0.999795  0.015912  0.016972  0.005601  1768692511   \n",
       "\n",
       "        series_id  instance  \n",
       "58432   937840626         8  \n",
       "28733  1766321945        12  "
      ]
     },
     "execution_count": 136,
     "metadata": {},
     "output_type": "execute_result"
    }
   ],
   "source": [
    "results[results.H < 1].sample(2)"
   ]
  },
  {
   "cell_type": "code",
   "execution_count": 132,
   "id": "d6b37d7f-8447-4043-b54b-36844ce11a8c",
   "metadata": {},
   "outputs": [],
   "source": [
    "results.to_csv(CFG.DEST_FOLDER / 'predictions.csv', index=False)"
   ]
  },
  {
   "cell_type": "markdown",
   "id": "e6f78577-6646-4cb9-9980-7e5c9261ab19",
   "metadata": {},
   "source": [
    "#### Save embeddings"
   ]
  },
  {
   "cell_type": "code",
   "execution_count": 133,
   "id": "e0ef6075-a9b8-4d2c-8158-57c58117aff4",
   "metadata": {},
   "outputs": [
    {
     "data": {
      "text/plain": [
       "(147218, 128)"
      ]
     },
     "execution_count": 133,
     "metadata": {},
     "output_type": "execute_result"
    }
   ],
   "source": [
    "stacked = np.vstack(preds)\n",
    "stacked.shape"
   ]
  },
  {
   "cell_type": "code",
   "execution_count": 134,
   "id": "79a916a1-e74e-460f-bdab-2f89bd62fd5c",
   "metadata": {},
   "outputs": [],
   "source": [
    "np.save(CFG.stacked_path / f'stacked.npy', stacked)"
   ]
  },
  {
   "cell_type": "code",
   "execution_count": null,
   "id": "03a9a9c7-703c-42d2-9fdf-2e3cd908bba5",
   "metadata": {},
   "outputs": [],
   "source": []
  },
  {
   "cell_type": "code",
   "execution_count": 90,
   "id": "3d96fcc3-c853-4abd-a926-9e211598749c",
   "metadata": {
    "scrolled": true
   },
   "outputs": [],
   "source": [
    "# for (embeds, ids) in zip(preds, ids):\n",
    "#     for emb, file in zip(embeds, ids):\n",
    "#         np.save(CFG.embeds_path / f'{file}.npy', emb)"
   ]
  },
  {
   "cell_type": "code",
   "execution_count": 91,
   "id": "b48000a8-19db-4035-9eed-1948c4a0339a",
   "metadata": {},
   "outputs": [],
   "source": [
    "# for x, y in results.groupby(['study_id', 'series_id']):   \n",
    "#     filename = CFG.stacked_path / f'{x[0]}_{x[1]}.npy'\n",
    "\n",
    "#     files = [CFG.embeds_path / f'{file}.npy' for file in y.ids.tolist()]\n",
    "\n",
    "#     files = [np.load(f) for f in files]\n",
    "\n",
    "#     stacked = np.vstack(files)\n",
    "\n",
    "#     np.save(filename, stacked)"
   ]
  },
  {
   "cell_type": "code",
   "execution_count": null,
   "id": "69a1740e-3a21-4ff1-ad02-992301de234e",
   "metadata": {},
   "outputs": [],
   "source": []
  },
  {
   "cell_type": "code",
   "execution_count": null,
   "id": "46490e98-13a8-481a-92af-95deb6463803",
   "metadata": {},
   "outputs": [],
   "source": []
  }
 ],
 "metadata": {
  "kernelspec": {
   "display_name": "Python 3 (ipykernel)",
   "language": "python",
   "name": "python3"
  },
  "language_info": {
   "codemirror_mode": {
    "name": "ipython",
    "version": 3
   },
   "file_extension": ".py",
   "mimetype": "text/x-python",
   "name": "python",
   "nbconvert_exporter": "python",
   "pygments_lexer": "ipython3",
   "version": "3.10.14"
  }
 },
 "nbformat": 4,
 "nbformat_minor": 5
}
