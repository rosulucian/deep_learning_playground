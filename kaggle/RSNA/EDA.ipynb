{
 "cells": [
  {
   "cell_type": "code",
   "execution_count": 1,
   "id": "6b2a815c-2a6f-4ebf-92bf-8333b5b9144a",
   "metadata": {},
   "outputs": [],
   "source": [
    "%load_ext autoreload\n",
    "%autoreload 2"
   ]
  },
  {
   "cell_type": "code",
   "execution_count": 2,
   "id": "c73e4b1e-69d1-49af-85e3-591418aac8d8",
   "metadata": {},
   "outputs": [],
   "source": [
    "import numpy as np \n",
    "import pandas as pd\n",
    "\n",
    "from pathlib import Path"
   ]
  },
  {
   "cell_type": "code",
   "execution_count": 3,
   "id": "fd643bac-8d82-4a92-97d9-5d5586ee2cfb",
   "metadata": {},
   "outputs": [],
   "source": [
    "train_dir = Path('E:\\data\\RSNA2024')"
   ]
  },
  {
   "cell_type": "code",
   "execution_count": 4,
   "id": "db816614-20d7-4064-a271-1b98f9e32686",
   "metadata": {},
   "outputs": [],
   "source": [
    "class CFG:\n",
    "    random_seed = 42\n",
    "    \n",
    "    ROOT_FOLDER = train_dir\n",
    "    IMAGES_DIR = ROOT_FOLDER / 'train_images'\n",
    "    TRAIN_CSV = ROOT_FOLDER / 'train.csv'\n",
    "    FILES_CSV = ROOT_FOLDER / 'train_files.csv'\n",
    "    TRAIN_DESC_CSV = ROOT_FOLDER / 'train_series_descriptions.csv'\n",
    "    COORDS_CSV = ROOT_FOLDER / 'train_label_coordinates.csv'"
   ]
  },
  {
   "cell_type": "markdown",
   "id": "c267b198-b8b4-4386-a9bf-2319c9f0f315",
   "metadata": {},
   "source": [
    "### Train data"
   ]
  },
  {
   "cell_type": "code",
   "execution_count": 5,
   "id": "26087c78-6355-42fa-86ac-a2189756023a",
   "metadata": {},
   "outputs": [
    {
     "data": {
      "text/plain": [
       "((1975, 27), (6294, 3))"
      ]
     },
     "execution_count": 5,
     "metadata": {},
     "output_type": "execute_result"
    }
   ],
   "source": [
    "train_df = pd.read_csv(CFG.TRAIN_CSV)\n",
    "train_desc_df = pd.read_csv(CFG.TRAIN_DESC_CSV)\n",
    "\n",
    "train_df.shape, train_desc_df.shape"
   ]
  },
  {
   "cell_type": "code",
   "execution_count": 6,
   "id": "fd06eb0e-7155-49f7-9f3f-6b22724aa457",
   "metadata": {},
   "outputs": [
    {
     "data": {
      "text/html": [
       "<div>\n",
       "<style scoped>\n",
       "    .dataframe tbody tr th:only-of-type {\n",
       "        vertical-align: middle;\n",
       "    }\n",
       "\n",
       "    .dataframe tbody tr th {\n",
       "        vertical-align: top;\n",
       "    }\n",
       "\n",
       "    .dataframe thead th {\n",
       "        text-align: right;\n",
       "    }\n",
       "</style>\n",
       "<table border=\"1\" class=\"dataframe\">\n",
       "  <thead>\n",
       "    <tr style=\"text-align: right;\">\n",
       "      <th></th>\n",
       "      <th>Unnamed: 0</th>\n",
       "      <th>study_id</th>\n",
       "      <th>SCSL1L2</th>\n",
       "      <th>SCSL2L3</th>\n",
       "      <th>SCSL3L4</th>\n",
       "      <th>SCSL4L5</th>\n",
       "      <th>SCSL5S1</th>\n",
       "      <th>LNFNL1L2</th>\n",
       "      <th>LNFNL2L3</th>\n",
       "      <th>LNFNL3L4</th>\n",
       "      <th>...</th>\n",
       "      <th>LSSL1L2</th>\n",
       "      <th>LSSL2L3</th>\n",
       "      <th>LSSL3L4</th>\n",
       "      <th>LSSL4L5</th>\n",
       "      <th>LSSL5S1</th>\n",
       "      <th>RSSL1L2</th>\n",
       "      <th>RSSL2L3</th>\n",
       "      <th>RSSL3L4</th>\n",
       "      <th>RSSL4L5</th>\n",
       "      <th>RSSL5S1</th>\n",
       "    </tr>\n",
       "  </thead>\n",
       "  <tbody>\n",
       "    <tr>\n",
       "      <th>0</th>\n",
       "      <td>0</td>\n",
       "      <td>4003253</td>\n",
       "      <td>N</td>\n",
       "      <td>N</td>\n",
       "      <td>N</td>\n",
       "      <td>N</td>\n",
       "      <td>N</td>\n",
       "      <td>N</td>\n",
       "      <td>N</td>\n",
       "      <td>N</td>\n",
       "      <td>...</td>\n",
       "      <td>N</td>\n",
       "      <td>N</td>\n",
       "      <td>N</td>\n",
       "      <td>M</td>\n",
       "      <td>N</td>\n",
       "      <td>N</td>\n",
       "      <td>N</td>\n",
       "      <td>N</td>\n",
       "      <td>N</td>\n",
       "      <td>N</td>\n",
       "    </tr>\n",
       "    <tr>\n",
       "      <th>1</th>\n",
       "      <td>1</td>\n",
       "      <td>4646740</td>\n",
       "      <td>N</td>\n",
       "      <td>N</td>\n",
       "      <td>M</td>\n",
       "      <td>S</td>\n",
       "      <td>N</td>\n",
       "      <td>N</td>\n",
       "      <td>N</td>\n",
       "      <td>N</td>\n",
       "      <td>...</td>\n",
       "      <td>N</td>\n",
       "      <td>N</td>\n",
       "      <td>N</td>\n",
       "      <td>S</td>\n",
       "      <td>N</td>\n",
       "      <td>N</td>\n",
       "      <td>M</td>\n",
       "      <td>M</td>\n",
       "      <td>M</td>\n",
       "      <td>N</td>\n",
       "    </tr>\n",
       "    <tr>\n",
       "      <th>2</th>\n",
       "      <td>2</td>\n",
       "      <td>7143189</td>\n",
       "      <td>N</td>\n",
       "      <td>N</td>\n",
       "      <td>N</td>\n",
       "      <td>N</td>\n",
       "      <td>N</td>\n",
       "      <td>N</td>\n",
       "      <td>N</td>\n",
       "      <td>N</td>\n",
       "      <td>...</td>\n",
       "      <td>N</td>\n",
       "      <td>N</td>\n",
       "      <td>N</td>\n",
       "      <td>N</td>\n",
       "      <td>N</td>\n",
       "      <td>N</td>\n",
       "      <td>N</td>\n",
       "      <td>N</td>\n",
       "      <td>N</td>\n",
       "      <td>N</td>\n",
       "    </tr>\n",
       "    <tr>\n",
       "      <th>3</th>\n",
       "      <td>3</td>\n",
       "      <td>8785691</td>\n",
       "      <td>N</td>\n",
       "      <td>N</td>\n",
       "      <td>N</td>\n",
       "      <td>N</td>\n",
       "      <td>N</td>\n",
       "      <td>N</td>\n",
       "      <td>N</td>\n",
       "      <td>N</td>\n",
       "      <td>...</td>\n",
       "      <td>N</td>\n",
       "      <td>N</td>\n",
       "      <td>N</td>\n",
       "      <td>N</td>\n",
       "      <td>N</td>\n",
       "      <td>N</td>\n",
       "      <td>N</td>\n",
       "      <td>N</td>\n",
       "      <td>N</td>\n",
       "      <td>N</td>\n",
       "    </tr>\n",
       "    <tr>\n",
       "      <th>4</th>\n",
       "      <td>4</td>\n",
       "      <td>10728036</td>\n",
       "      <td>N</td>\n",
       "      <td>N</td>\n",
       "      <td>N</td>\n",
       "      <td>N</td>\n",
       "      <td>N</td>\n",
       "      <td>N</td>\n",
       "      <td>N</td>\n",
       "      <td>N</td>\n",
       "      <td>...</td>\n",
       "      <td>N</td>\n",
       "      <td>N</td>\n",
       "      <td>N</td>\n",
       "      <td>N</td>\n",
       "      <td>N</td>\n",
       "      <td>N</td>\n",
       "      <td>N</td>\n",
       "      <td>N</td>\n",
       "      <td>M</td>\n",
       "      <td>N</td>\n",
       "    </tr>\n",
       "  </tbody>\n",
       "</table>\n",
       "<p>5 rows × 27 columns</p>\n",
       "</div>"
      ],
      "text/plain": [
       "   Unnamed: 0  study_id SCSL1L2 SCSL2L3 SCSL3L4 SCSL4L5 SCSL5S1 LNFNL1L2  \\\n",
       "0           0   4003253       N       N       N       N       N        N   \n",
       "1           1   4646740       N       N       M       S       N        N   \n",
       "2           2   7143189       N       N       N       N       N        N   \n",
       "3           3   8785691       N       N       N       N       N        N   \n",
       "4           4  10728036       N       N       N       N       N        N   \n",
       "\n",
       "  LNFNL2L3 LNFNL3L4  ... LSSL1L2 LSSL2L3 LSSL3L4 LSSL4L5 LSSL5S1 RSSL1L2  \\\n",
       "0        N        N  ...       N       N       N       M       N       N   \n",
       "1        N        N  ...       N       N       N       S       N       N   \n",
       "2        N        N  ...       N       N       N       N       N       N   \n",
       "3        N        N  ...       N       N       N       N       N       N   \n",
       "4        N        N  ...       N       N       N       N       N       N   \n",
       "\n",
       "  RSSL2L3 RSSL3L4 RSSL4L5 RSSL5S1  \n",
       "0       N       N       N       N  \n",
       "1       M       M       M       N  \n",
       "2       N       N       N       N  \n",
       "3       N       N       N       N  \n",
       "4       N       N       M       N  \n",
       "\n",
       "[5 rows x 27 columns]"
      ]
     },
     "execution_count": 6,
     "metadata": {},
     "output_type": "execute_result"
    }
   ],
   "source": [
    "train_df.head()"
   ]
  },
  {
   "cell_type": "code",
   "execution_count": 7,
   "id": "3e3f14e0-abf1-4023-913b-f600f94d61ee",
   "metadata": {},
   "outputs": [
    {
     "data": {
      "text/plain": [
       "Unnamed: 0          1\n",
       "study_id      4646740\n",
       "SCSL1L2             N\n",
       "SCSL2L3             N\n",
       "SCSL3L4             M\n",
       "SCSL4L5             S\n",
       "SCSL5S1             N\n",
       "LNFNL1L2            N\n",
       "LNFNL2L3            N\n",
       "LNFNL3L4            N\n",
       "LNFNL4L5            M\n",
       "LNFNL5S1            M\n",
       "RNFNL1L2            N\n",
       "RNFNL2L3            N\n",
       "RNFNL3L4            M\n",
       "RNFNL4L5            M\n",
       "RNFNL5S1            N\n",
       "LSSL1L2             N\n",
       "LSSL2L3             N\n",
       "LSSL3L4             N\n",
       "LSSL4L5             S\n",
       "LSSL5S1             N\n",
       "RSSL1L2             N\n",
       "RSSL2L3             M\n",
       "RSSL3L4             M\n",
       "RSSL4L5             M\n",
       "RSSL5S1             N\n",
       "Name: 1, dtype: object"
      ]
     },
     "execution_count": 7,
     "metadata": {},
     "output_type": "execute_result"
    }
   ],
   "source": [
    "train_df.iloc[1]"
   ]
  },
  {
   "cell_type": "code",
   "execution_count": 8,
   "id": "693453d8-d032-4721-814a-9790e163f700",
   "metadata": {},
   "outputs": [
    {
     "data": {
      "text/plain": [
       "1975"
      ]
     },
     "execution_count": 8,
     "metadata": {},
     "output_type": "execute_result"
    }
   ],
   "source": [
    "train_df.study_id.nunique()"
   ]
  },
  {
   "cell_type": "markdown",
   "id": "3b7a96f1-631b-4cab-a0f3-e86a1e791c95",
   "metadata": {},
   "source": [
    "### Coordinates"
   ]
  },
  {
   "cell_type": "code",
   "execution_count": 9,
   "id": "caf88225-2aea-4e23-b6ff-e91c0b8e842d",
   "metadata": {},
   "outputs": [
    {
     "data": {
      "text/plain": [
       "((48692, 10), (147218, 5))"
      ]
     },
     "execution_count": 9,
     "metadata": {},
     "output_type": "execute_result"
    }
   ],
   "source": [
    "coords_df = pd.read_csv(CFG.COORDS_CSV)\n",
    "files_df = pd.read_csv(CFG.FILES_CSV)\n",
    "\n",
    "coords_df.shape, files_df.shape"
   ]
  },
  {
   "cell_type": "code",
   "execution_count": 10,
   "id": "65b8de8e-f0da-46cc-9316-ec134b67751a",
   "metadata": {},
   "outputs": [
    {
     "data": {
      "text/plain": [
       "(1974, 5, 5)"
      ]
     },
     "execution_count": 10,
     "metadata": {},
     "output_type": "execute_result"
    }
   ],
   "source": [
    "coords_df.study_id.nunique(), coords_df.condition.nunique(), coords_df.level.nunique()"
   ]
  },
  {
   "cell_type": "code",
   "execution_count": 11,
   "id": "8903243d-adb4-4c46-bf32-3482cc7a051e",
   "metadata": {},
   "outputs": [
    {
     "data": {
      "text/plain": [
       "(array(['SCS', 'RNFN', 'LNFN', 'LSS', 'RSS'], dtype=object),\n",
       " array(['L1L2', 'L2L3', 'L3L4', 'L4L5', 'L5S1'], dtype=object))"
      ]
     },
     "execution_count": 11,
     "metadata": {},
     "output_type": "execute_result"
    }
   ],
   "source": [
    "coords_df.condition.unique(), coords_df.level.unique()"
   ]
  },
  {
   "cell_type": "code",
   "execution_count": 12,
   "id": "6c7cf0d6-5c81-425f-9187-fd2068a6a57c",
   "metadata": {},
   "outputs": [
    {
     "data": {
      "text/plain": [
       "6291"
      ]
     },
     "execution_count": 12,
     "metadata": {},
     "output_type": "execute_result"
    }
   ],
   "source": [
    "coords_df.series_id.nunique()"
   ]
  },
  {
   "cell_type": "code",
   "execution_count": 13,
   "id": "2e83f2cd-45b7-4208-9fae-65ece413fa2a",
   "metadata": {},
   "outputs": [],
   "source": [
    "coords_df['id'] = coords_df.apply(lambda row: str(row['study_id']) + str(row['series_id']), axis=1)\n",
    "train_desc_df['id'] = train_desc_df.apply(lambda row: str(row['study_id']) + str(row['series_id']), axis=1)"
   ]
  },
  {
   "cell_type": "code",
   "execution_count": 14,
   "id": "593fbb6e-2485-4bd4-ae0f-c19a494085f2",
   "metadata": {},
   "outputs": [
    {
     "data": {
      "text/html": [
       "<div>\n",
       "<style scoped>\n",
       "    .dataframe tbody tr th:only-of-type {\n",
       "        vertical-align: middle;\n",
       "    }\n",
       "\n",
       "    .dataframe tbody tr th {\n",
       "        vertical-align: top;\n",
       "    }\n",
       "\n",
       "    .dataframe thead th {\n",
       "        text-align: right;\n",
       "    }\n",
       "</style>\n",
       "<table border=\"1\" class=\"dataframe\">\n",
       "  <thead>\n",
       "    <tr style=\"text-align: right;\">\n",
       "      <th></th>\n",
       "      <th>Unnamed: 0</th>\n",
       "      <th>study_id</th>\n",
       "      <th>series_id</th>\n",
       "      <th>instance</th>\n",
       "      <th>condition</th>\n",
       "      <th>level</th>\n",
       "      <th>x</th>\n",
       "      <th>y</th>\n",
       "      <th>id</th>\n",
       "      <th>plane</th>\n",
       "    </tr>\n",
       "  </thead>\n",
       "  <tbody>\n",
       "    <tr>\n",
       "      <th>34669</th>\n",
       "      <td>34669</td>\n",
       "      <td>3068678959</td>\n",
       "      <td>4216292987</td>\n",
       "      <td>35</td>\n",
       "      <td>LSS</td>\n",
       "      <td>L4L5</td>\n",
       "      <td>174.872215</td>\n",
       "      <td>147.208388</td>\n",
       "      <td>30686789594216292987</td>\n",
       "      <td>Axial T2</td>\n",
       "    </tr>\n",
       "    <tr>\n",
       "      <th>9874</th>\n",
       "      <td>9874</td>\n",
       "      <td>886995462</td>\n",
       "      <td>3051597267</td>\n",
       "      <td>15</td>\n",
       "      <td>SCS</td>\n",
       "      <td>L5S1</td>\n",
       "      <td>162.318841</td>\n",
       "      <td>248.260870</td>\n",
       "      <td>8869954623051597267</td>\n",
       "      <td>Sagittal T2/STIR</td>\n",
       "    </tr>\n",
       "  </tbody>\n",
       "</table>\n",
       "</div>"
      ],
      "text/plain": [
       "       Unnamed: 0    study_id   series_id  instance condition level  \\\n",
       "34669       34669  3068678959  4216292987        35       LSS  L4L5   \n",
       "9874         9874   886995462  3051597267        15       SCS  L5S1   \n",
       "\n",
       "                x           y                    id             plane  \n",
       "34669  174.872215  147.208388  30686789594216292987          Axial T2  \n",
       "9874   162.318841  248.260870   8869954623051597267  Sagittal T2/STIR  "
      ]
     },
     "execution_count": 14,
     "metadata": {},
     "output_type": "execute_result"
    }
   ],
   "source": [
    "coords_df.sample(2)"
   ]
  },
  {
   "cell_type": "code",
   "execution_count": 15,
   "id": "f09a0a40-16c6-4e2d-aab6-5db9ef466d3f",
   "metadata": {},
   "outputs": [
    {
     "data": {
      "text/plain": [
       "'Sagittal T2/STIR'"
      ]
     },
     "execution_count": 15,
     "metadata": {},
     "output_type": "execute_result"
    }
   ],
   "source": [
    "train_desc_df[train_desc_df['id'] == '4003253702807833'].series_description.values[0]"
   ]
  },
  {
   "cell_type": "code",
   "execution_count": 16,
   "id": "3b828606-6bf3-4981-8980-2b52d505418b",
   "metadata": {},
   "outputs": [
    {
     "data": {
      "text/html": [
       "<div>\n",
       "<style scoped>\n",
       "    .dataframe tbody tr th:only-of-type {\n",
       "        vertical-align: middle;\n",
       "    }\n",
       "\n",
       "    .dataframe tbody tr th {\n",
       "        vertical-align: top;\n",
       "    }\n",
       "\n",
       "    .dataframe thead th {\n",
       "        text-align: right;\n",
       "    }\n",
       "</style>\n",
       "<table border=\"1\" class=\"dataframe\">\n",
       "  <thead>\n",
       "    <tr style=\"text-align: right;\">\n",
       "      <th></th>\n",
       "      <th>Unnamed: 0</th>\n",
       "      <th>study_id</th>\n",
       "      <th>series_id</th>\n",
       "      <th>instance</th>\n",
       "      <th>condition</th>\n",
       "      <th>level</th>\n",
       "      <th>x</th>\n",
       "      <th>y</th>\n",
       "      <th>id</th>\n",
       "      <th>plane</th>\n",
       "    </tr>\n",
       "  </thead>\n",
       "  <tbody>\n",
       "    <tr>\n",
       "      <th>23257</th>\n",
       "      <td>23257</td>\n",
       "      <td>2091088734</td>\n",
       "      <td>2849580758</td>\n",
       "      <td>6</td>\n",
       "      <td>LNFN</td>\n",
       "      <td>L3L4</td>\n",
       "      <td>125.031963</td>\n",
       "      <td>123.908676</td>\n",
       "      <td>20910887342849580758</td>\n",
       "      <td>Sagittal T1</td>\n",
       "    </tr>\n",
       "    <tr>\n",
       "      <th>6067</th>\n",
       "      <td>6067</td>\n",
       "      <td>527598501</td>\n",
       "      <td>3800352180</td>\n",
       "      <td>39</td>\n",
       "      <td>LSS</td>\n",
       "      <td>L1L2</td>\n",
       "      <td>277.295575</td>\n",
       "      <td>273.897345</td>\n",
       "      <td>5275985013800352180</td>\n",
       "      <td>Axial T2</td>\n",
       "    </tr>\n",
       "    <tr>\n",
       "      <th>33223</th>\n",
       "      <td>33223</td>\n",
       "      <td>2937655882</td>\n",
       "      <td>1192868048</td>\n",
       "      <td>21</td>\n",
       "      <td>RSS</td>\n",
       "      <td>L4L5</td>\n",
       "      <td>115.707323</td>\n",
       "      <td>127.351916</td>\n",
       "      <td>29376558821192868048</td>\n",
       "      <td>Axial T2</td>\n",
       "    </tr>\n",
       "    <tr>\n",
       "      <th>41126</th>\n",
       "      <td>41126</td>\n",
       "      <td>3617698707</td>\n",
       "      <td>1507720438</td>\n",
       "      <td>19</td>\n",
       "      <td>LSS</td>\n",
       "      <td>L4L5</td>\n",
       "      <td>211.473589</td>\n",
       "      <td>211.284111</td>\n",
       "      <td>36176987071507720438</td>\n",
       "      <td>Axial T2</td>\n",
       "    </tr>\n",
       "    <tr>\n",
       "      <th>34127</th>\n",
       "      <td>34127</td>\n",
       "      <td>3018238997</td>\n",
       "      <td>3975706150</td>\n",
       "      <td>10</td>\n",
       "      <td>SCS</td>\n",
       "      <td>L5S1</td>\n",
       "      <td>255.778403</td>\n",
       "      <td>362.183712</td>\n",
       "      <td>30182389973975706150</td>\n",
       "      <td>Sagittal T2/STIR</td>\n",
       "    </tr>\n",
       "  </tbody>\n",
       "</table>\n",
       "</div>"
      ],
      "text/plain": [
       "       Unnamed: 0    study_id   series_id  instance condition level  \\\n",
       "23257       23257  2091088734  2849580758         6      LNFN  L3L4   \n",
       "6067         6067   527598501  3800352180        39       LSS  L1L2   \n",
       "33223       33223  2937655882  1192868048        21       RSS  L4L5   \n",
       "41126       41126  3617698707  1507720438        19       LSS  L4L5   \n",
       "34127       34127  3018238997  3975706150        10       SCS  L5S1   \n",
       "\n",
       "                x           y                    id             plane  \n",
       "23257  125.031963  123.908676  20910887342849580758       Sagittal T1  \n",
       "6067   277.295575  273.897345   5275985013800352180          Axial T2  \n",
       "33223  115.707323  127.351916  29376558821192868048          Axial T2  \n",
       "41126  211.473589  211.284111  36176987071507720438          Axial T2  \n",
       "34127  255.778403  362.183712  30182389973975706150  Sagittal T2/STIR  "
      ]
     },
     "execution_count": 16,
     "metadata": {},
     "output_type": "execute_result"
    }
   ],
   "source": [
    "coords_df.sample(5)"
   ]
  },
  {
   "cell_type": "code",
   "execution_count": 18,
   "id": "4020bdac-0fb0-4b25-a876-1eda49846b3f",
   "metadata": {},
   "outputs": [
    {
     "data": {
      "text/html": [
       "<div>\n",
       "<style scoped>\n",
       "    .dataframe tbody tr th:only-of-type {\n",
       "        vertical-align: middle;\n",
       "    }\n",
       "\n",
       "    .dataframe tbody tr th {\n",
       "        vertical-align: top;\n",
       "    }\n",
       "\n",
       "    .dataframe thead th {\n",
       "        text-align: right;\n",
       "    }\n",
       "</style>\n",
       "<table border=\"1\" class=\"dataframe\">\n",
       "  <thead>\n",
       "    <tr style=\"text-align: right;\">\n",
       "      <th></th>\n",
       "      <th>Unnamed: 0</th>\n",
       "      <th>study_id</th>\n",
       "      <th>series_id</th>\n",
       "      <th>instance</th>\n",
       "      <th>condition</th>\n",
       "      <th>level</th>\n",
       "      <th>x</th>\n",
       "      <th>y</th>\n",
       "      <th>id</th>\n",
       "      <th>plane</th>\n",
       "    </tr>\n",
       "  </thead>\n",
       "  <tbody>\n",
       "    <tr>\n",
       "      <th>34276</th>\n",
       "      <td>34276</td>\n",
       "      <td>3030943727</td>\n",
       "      <td>304128505</td>\n",
       "      <td>10</td>\n",
       "      <td>SCS</td>\n",
       "      <td>L2L3</td>\n",
       "      <td>190.080483</td>\n",
       "      <td>169.295014</td>\n",
       "      <td>3030943727304128505</td>\n",
       "      <td>Sagittal T2/STIR</td>\n",
       "    </tr>\n",
       "  </tbody>\n",
       "</table>\n",
       "</div>"
      ],
      "text/plain": [
       "       Unnamed: 0    study_id  series_id  instance condition level  \\\n",
       "34276       34276  3030943727  304128505        10       SCS  L2L3   \n",
       "\n",
       "                x           y                   id             plane  \n",
       "34276  190.080483  169.295014  3030943727304128505  Sagittal T2/STIR  "
      ]
     },
     "execution_count": 18,
     "metadata": {},
     "output_type": "execute_result"
    }
   ],
   "source": [
    "# check canal stenosis is noy only in axial plane\n",
    "coords_df[(coords_df.condition == 'SCS') & (coords_df.plane != 'Axial T2')].sample()"
   ]
  },
  {
   "cell_type": "code",
   "execution_count": 19,
   "id": "4adb87c7-4850-4c6e-b5f8-f30fcc7ebc9b",
   "metadata": {},
   "outputs": [
    {
     "data": {
      "text/plain": [
       "study_id    series_id \n",
       "4003253     702807833                              [8]\n",
       "            1054713880               [4, 5, 6, 11, 12]\n",
       "            2448190387          [3, 4, 11, 19, 28, 35]\n",
       "4646740     3201256954    [15, 16, 22, 28, 29, 34, 40]\n",
       "            3486248476           [5, 6, 7, 15, 16, 17]\n",
       "                                      ...             \n",
       "4287160193  1507070277                             [8]\n",
       "            1820446240          [4, 9, 10, 16, 22, 28]\n",
       "4290709089  3274612423                             [9]\n",
       "            3390218084    [2, 3, 5, 6, 10, 15, 20, 21]\n",
       "            4237840455                  [4, 5, 11, 12]\n",
       "Name: instance, Length: 6291, dtype: object"
      ]
     },
     "execution_count": 19,
     "metadata": {},
     "output_type": "execute_result"
    }
   ],
   "source": [
    "# get the positive slices\n",
    "coords_df.groupby(['study_id','series_id']).instance.unique()"
   ]
  },
  {
   "cell_type": "code",
   "execution_count": 20,
   "id": "e013be8a-51a4-4e63-ae89-dade163f069a",
   "metadata": {},
   "outputs": [
    {
     "data": {
      "text/plain": [
       "6291"
      ]
     },
     "execution_count": 20,
     "metadata": {},
     "output_type": "execute_result"
    }
   ],
   "source": [
    "coords_df.id.nunique()"
   ]
  },
  {
   "cell_type": "code",
   "execution_count": 21,
   "id": "050c2b51-8ae6-459d-a69b-f78243bbbb3f",
   "metadata": {},
   "outputs": [
    {
     "data": {
      "text/plain": [
       "(24546, 3)"
      ]
     },
     "execution_count": 21,
     "metadata": {},
     "output_type": "execute_result"
    }
   ],
   "source": [
    "pos_slices = coords_df.groupby(['study_id','series_id']).instance_number.unique().apply(list).reset_index(name='slice').explode('slice')\n",
    "pos_slices.shape"
   ]
  },
  {
   "cell_type": "code",
   "execution_count": 22,
   "id": "8268e9c1-5b10-4a44-9c24-2fba7bd745e9",
   "metadata": {
    "scrolled": true
   },
   "outputs": [],
   "source": [
    "# coords_df[coords_df.instance_number > 100]"
   ]
  },
  {
   "cell_type": "code",
   "execution_count": 23,
   "id": "0c65b788-8f2f-43e6-a9e3-38b0d0422edf",
   "metadata": {},
   "outputs": [
    {
     "data": {
      "text/html": [
       "<div>\n",
       "<style scoped>\n",
       "    .dataframe tbody tr th:only-of-type {\n",
       "        vertical-align: middle;\n",
       "    }\n",
       "\n",
       "    .dataframe tbody tr th {\n",
       "        vertical-align: top;\n",
       "    }\n",
       "\n",
       "    .dataframe thead th {\n",
       "        text-align: right;\n",
       "    }\n",
       "</style>\n",
       "<table border=\"1\" class=\"dataframe\">\n",
       "  <thead>\n",
       "    <tr style=\"text-align: right;\">\n",
       "      <th></th>\n",
       "      <th>study_id</th>\n",
       "      <th>series_id</th>\n",
       "      <th>slice</th>\n",
       "    </tr>\n",
       "  </thead>\n",
       "  <tbody>\n",
       "    <tr>\n",
       "      <th>0</th>\n",
       "      <td>4003253</td>\n",
       "      <td>702807833</td>\n",
       "      <td>8</td>\n",
       "    </tr>\n",
       "    <tr>\n",
       "      <th>1</th>\n",
       "      <td>4003253</td>\n",
       "      <td>1054713880</td>\n",
       "      <td>4</td>\n",
       "    </tr>\n",
       "    <tr>\n",
       "      <th>1</th>\n",
       "      <td>4003253</td>\n",
       "      <td>1054713880</td>\n",
       "      <td>5</td>\n",
       "    </tr>\n",
       "    <tr>\n",
       "      <th>1</th>\n",
       "      <td>4003253</td>\n",
       "      <td>1054713880</td>\n",
       "      <td>6</td>\n",
       "    </tr>\n",
       "    <tr>\n",
       "      <th>1</th>\n",
       "      <td>4003253</td>\n",
       "      <td>1054713880</td>\n",
       "      <td>11</td>\n",
       "    </tr>\n",
       "    <tr>\n",
       "      <th>...</th>\n",
       "      <td>...</td>\n",
       "      <td>...</td>\n",
       "      <td>...</td>\n",
       "    </tr>\n",
       "    <tr>\n",
       "      <th>6289</th>\n",
       "      <td>4290709089</td>\n",
       "      <td>3390218084</td>\n",
       "      <td>21</td>\n",
       "    </tr>\n",
       "    <tr>\n",
       "      <th>6290</th>\n",
       "      <td>4290709089</td>\n",
       "      <td>4237840455</td>\n",
       "      <td>4</td>\n",
       "    </tr>\n",
       "    <tr>\n",
       "      <th>6290</th>\n",
       "      <td>4290709089</td>\n",
       "      <td>4237840455</td>\n",
       "      <td>5</td>\n",
       "    </tr>\n",
       "    <tr>\n",
       "      <th>6290</th>\n",
       "      <td>4290709089</td>\n",
       "      <td>4237840455</td>\n",
       "      <td>11</td>\n",
       "    </tr>\n",
       "    <tr>\n",
       "      <th>6290</th>\n",
       "      <td>4290709089</td>\n",
       "      <td>4237840455</td>\n",
       "      <td>12</td>\n",
       "    </tr>\n",
       "  </tbody>\n",
       "</table>\n",
       "<p>24546 rows × 3 columns</p>\n",
       "</div>"
      ],
      "text/plain": [
       "        study_id   series_id slice\n",
       "0        4003253   702807833     8\n",
       "1        4003253  1054713880     4\n",
       "1        4003253  1054713880     5\n",
       "1        4003253  1054713880     6\n",
       "1        4003253  1054713880    11\n",
       "...          ...         ...   ...\n",
       "6289  4290709089  3390218084    21\n",
       "6290  4290709089  4237840455     4\n",
       "6290  4290709089  4237840455     5\n",
       "6290  4290709089  4237840455    11\n",
       "6290  4290709089  4237840455    12\n",
       "\n",
       "[24546 rows x 3 columns]"
      ]
     },
     "execution_count": 23,
     "metadata": {},
     "output_type": "execute_result"
    }
   ],
   "source": [
    "pos_slices"
   ]
  },
  {
   "cell_type": "code",
   "execution_count": 24,
   "id": "08d99e72-2769-4414-9afd-22259ca8ba71",
   "metadata": {},
   "outputs": [
    {
     "data": {
      "text/plain": [
       "3.6653157716987503"
      ]
     },
     "execution_count": 24,
     "metadata": {},
     "output_type": "execute_result"
    }
   ],
   "source": [
    "pos_slices.groupby('study_id').slice.nunique().mean()/3"
   ]
  },
  {
   "cell_type": "code",
   "execution_count": null,
   "id": "e618ea17-5196-405c-b0e7-f67b2c7a1ce5",
   "metadata": {},
   "outputs": [],
   "source": []
  },
  {
   "cell_type": "markdown",
   "id": "ce3abea7-c162-4b46-a24c-036e4d86c414",
   "metadata": {},
   "source": [
    "### train_df"
   ]
  },
  {
   "cell_type": "code",
   "execution_count": 25,
   "id": "ec40464e-2d48-418f-b13b-967f0211e837",
   "metadata": {},
   "outputs": [
    {
     "name": "stdout",
     "output_type": "stream",
     "text": [
      "condition\n",
      "Left Neural Foraminal Narrowing     9860\n",
      "Right Neural Foraminal Narrowing    9859\n",
      "Spinal Canal Stenosis               9753\n",
      "Right Subarticular Stenosis         9612\n",
      "Left Subarticular Stenosis          9608\n",
      "Name: count, dtype: int64\n",
      "--------------------------------------------------\n",
      "\n",
      "level\n",
      "L3/L4    9858\n",
      "L4/L5    9858\n",
      "L5/S1    9845\n",
      "L2/L3    9661\n",
      "L1/L2    9470\n",
      "Name: count, dtype: int64\n",
      "--------------------------------------------------\n",
      "\n"
     ]
    }
   ],
   "source": [
    "# look at categories\n",
    "for f in ['condition','level']:\n",
    "    print(coords_df[f].value_counts())\n",
    "    print('-'*50);print();"
   ]
  },
  {
   "cell_type": "code",
   "execution_count": 26,
   "id": "0341a9e2-6a5d-4133-9fb6-bc3823fd1200",
   "metadata": {},
   "outputs": [
    {
     "data": {
      "text/html": [
       "<div>\n",
       "<style scoped>\n",
       "    .dataframe tbody tr th:only-of-type {\n",
       "        vertical-align: middle;\n",
       "    }\n",
       "\n",
       "    .dataframe tbody tr th {\n",
       "        vertical-align: top;\n",
       "    }\n",
       "\n",
       "    .dataframe thead th {\n",
       "        text-align: right;\n",
       "    }\n",
       "</style>\n",
       "<table border=\"1\" class=\"dataframe\">\n",
       "  <thead>\n",
       "    <tr style=\"text-align: right;\">\n",
       "      <th>level</th>\n",
       "      <th>L1/L2</th>\n",
       "      <th>L2/L3</th>\n",
       "      <th>L3/L4</th>\n",
       "      <th>L4/L5</th>\n",
       "      <th>L5/S1</th>\n",
       "    </tr>\n",
       "    <tr>\n",
       "      <th>condition</th>\n",
       "      <th></th>\n",
       "      <th></th>\n",
       "      <th></th>\n",
       "      <th></th>\n",
       "      <th></th>\n",
       "    </tr>\n",
       "  </thead>\n",
       "  <tbody>\n",
       "    <tr>\n",
       "      <th>Left Neural Foraminal Narrowing</th>\n",
       "      <td>1972</td>\n",
       "      <td>1972</td>\n",
       "      <td>1972</td>\n",
       "      <td>1972</td>\n",
       "      <td>1972</td>\n",
       "    </tr>\n",
       "    <tr>\n",
       "      <th>Left Subarticular Stenosis</th>\n",
       "      <td>1810</td>\n",
       "      <td>1892</td>\n",
       "      <td>1971</td>\n",
       "      <td>1971</td>\n",
       "      <td>1964</td>\n",
       "    </tr>\n",
       "    <tr>\n",
       "      <th>Right Neural Foraminal Narrowing</th>\n",
       "      <td>1972</td>\n",
       "      <td>1972</td>\n",
       "      <td>1971</td>\n",
       "      <td>1972</td>\n",
       "      <td>1972</td>\n",
       "    </tr>\n",
       "    <tr>\n",
       "      <th>Right Subarticular Stenosis</th>\n",
       "      <td>1812</td>\n",
       "      <td>1891</td>\n",
       "      <td>1971</td>\n",
       "      <td>1971</td>\n",
       "      <td>1967</td>\n",
       "    </tr>\n",
       "    <tr>\n",
       "      <th>Spinal Canal Stenosis</th>\n",
       "      <td>1904</td>\n",
       "      <td>1934</td>\n",
       "      <td>1973</td>\n",
       "      <td>1972</td>\n",
       "      <td>1970</td>\n",
       "    </tr>\n",
       "  </tbody>\n",
       "</table>\n",
       "</div>"
      ],
      "text/plain": [
       "level                             L1/L2  L2/L3  L3/L4  L4/L5  L5/S1\n",
       "condition                                                          \n",
       "Left Neural Foraminal Narrowing    1972   1972   1972   1972   1972\n",
       "Left Subarticular Stenosis         1810   1892   1971   1971   1964\n",
       "Right Neural Foraminal Narrowing   1972   1972   1971   1972   1972\n",
       "Right Subarticular Stenosis        1812   1891   1971   1971   1967\n",
       "Spinal Canal Stenosis              1904   1934   1973   1972   1970"
      ]
     },
     "execution_count": 26,
     "metadata": {},
     "output_type": "execute_result"
    }
   ],
   "source": [
    "pd.crosstab(coords_df.condition, coords_df.level)"
   ]
  },
  {
   "cell_type": "code",
   "execution_count": null,
   "id": "6db52687-ec4a-47f1-bdce-096483aca648",
   "metadata": {},
   "outputs": [],
   "source": []
  },
  {
   "cell_type": "code",
   "execution_count": null,
   "id": "a52478b2-5b84-439d-b56b-e0051cdf6a4e",
   "metadata": {},
   "outputs": [],
   "source": []
  },
  {
   "cell_type": "markdown",
   "id": "a69da874-6f46-4f0f-9cfc-02285b878f34",
   "metadata": {},
   "source": [
    "### Files"
   ]
  },
  {
   "cell_type": "code",
   "execution_count": 33,
   "id": "26cd1053-8143-4750-8216-1606aebf38af",
   "metadata": {},
   "outputs": [
    {
     "data": {
      "text/html": [
       "<div>\n",
       "<style scoped>\n",
       "    .dataframe tbody tr th:only-of-type {\n",
       "        vertical-align: middle;\n",
       "    }\n",
       "\n",
       "    .dataframe tbody tr th {\n",
       "        vertical-align: top;\n",
       "    }\n",
       "\n",
       "    .dataframe thead th {\n",
       "        text-align: right;\n",
       "    }\n",
       "</style>\n",
       "<table border=\"1\" class=\"dataframe\">\n",
       "  <thead>\n",
       "    <tr style=\"text-align: right;\">\n",
       "      <th></th>\n",
       "      <th>patient</th>\n",
       "      <th>series</th>\n",
       "      <th>image</th>\n",
       "      <th>rows</th>\n",
       "      <th>columns</th>\n",
       "    </tr>\n",
       "  </thead>\n",
       "  <tbody>\n",
       "    <tr>\n",
       "      <th>0</th>\n",
       "      <td>100206310</td>\n",
       "      <td>1012284084</td>\n",
       "      <td>1</td>\n",
       "      <td>320</td>\n",
       "      <td>320</td>\n",
       "    </tr>\n",
       "    <tr>\n",
       "      <th>1</th>\n",
       "      <td>100206310</td>\n",
       "      <td>1012284084</td>\n",
       "      <td>10</td>\n",
       "      <td>320</td>\n",
       "      <td>320</td>\n",
       "    </tr>\n",
       "    <tr>\n",
       "      <th>2</th>\n",
       "      <td>100206310</td>\n",
       "      <td>1012284084</td>\n",
       "      <td>11</td>\n",
       "      <td>320</td>\n",
       "      <td>320</td>\n",
       "    </tr>\n",
       "  </tbody>\n",
       "</table>\n",
       "</div>"
      ],
      "text/plain": [
       "     patient      series  image  rows  columns\n",
       "0  100206310  1012284084      1   320      320\n",
       "1  100206310  1012284084     10   320      320\n",
       "2  100206310  1012284084     11   320      320"
      ]
     },
     "execution_count": 33,
     "metadata": {},
     "output_type": "execute_result"
    }
   ],
   "source": [
    "files_df.head(3)"
   ]
  },
  {
   "cell_type": "code",
   "execution_count": 28,
   "id": "63f75753-072e-430a-9eab-f8b386102a42",
   "metadata": {},
   "outputs": [
    {
     "data": {
      "text/plain": [
       "(192, 1024, 224, 1024)"
      ]
     },
     "execution_count": 28,
     "metadata": {},
     "output_type": "execute_result"
    }
   ],
   "source": [
    "files_df.rows.min(), files_df.rows.max(), files_df['columns'].min(), files_df['columns'].max(), "
   ]
  },
  {
   "cell_type": "code",
   "execution_count": 34,
   "id": "c61e148d-3a82-433a-a030-37ff89141437",
   "metadata": {},
   "outputs": [],
   "source": [
    "# files_df.image.max(), files_df.image.mean()"
   ]
  },
  {
   "cell_type": "code",
   "execution_count": 30,
   "id": "984280f8-d896-4e7e-828c-d0ce008f12f2",
   "metadata": {},
   "outputs": [
    {
     "data": {
      "text/html": [
       "<div>\n",
       "<style scoped>\n",
       "    .dataframe tbody tr th:only-of-type {\n",
       "        vertical-align: middle;\n",
       "    }\n",
       "\n",
       "    .dataframe tbody tr th {\n",
       "        vertical-align: top;\n",
       "    }\n",
       "\n",
       "    .dataframe thead th {\n",
       "        text-align: right;\n",
       "    }\n",
       "</style>\n",
       "<table border=\"1\" class=\"dataframe\">\n",
       "  <thead>\n",
       "    <tr style=\"text-align: right;\">\n",
       "      <th></th>\n",
       "      <th>patient</th>\n",
       "      <th>series</th>\n",
       "      <th>image</th>\n",
       "      <th>rows</th>\n",
       "      <th>columns</th>\n",
       "    </tr>\n",
       "  </thead>\n",
       "  <tbody>\n",
       "    <tr>\n",
       "      <th>59719</th>\n",
       "      <td>2581283971</td>\n",
       "      <td>2683794967</td>\n",
       "      <td>5049</td>\n",
       "      <td>320</td>\n",
       "      <td>320</td>\n",
       "    </tr>\n",
       "  </tbody>\n",
       "</table>\n",
       "</div>"
      ],
      "text/plain": [
       "          patient      series  image  rows  columns\n",
       "59719  2581283971  2683794967   5049   320      320"
      ]
     },
     "execution_count": 30,
     "metadata": {},
     "output_type": "execute_result"
    }
   ],
   "source": [
    "# file names do not correspond to file count\n",
    "files_df[files_df.image == 5049]"
   ]
  },
  {
   "cell_type": "code",
   "execution_count": 31,
   "id": "0b539fcc-1f2c-46b9-994d-3a4521f6113a",
   "metadata": {},
   "outputs": [
    {
     "data": {
      "text/plain": [
       "(192, 23.390212901175722)"
      ]
     },
     "execution_count": 31,
     "metadata": {},
     "output_type": "execute_result"
    }
   ],
   "source": [
    "# max/mean images per patient\n",
    "files_df.groupby(['patient','series']).image.count().max(), files_df.groupby(['patient','series']).image.count().mean()"
   ]
  },
  {
   "cell_type": "code",
   "execution_count": 32,
   "id": "18b5e557-76fa-4592-8fff-450d30487d44",
   "metadata": {},
   "outputs": [
    {
     "data": {
      "text/plain": [
       "3.9017644253695756"
      ]
     },
     "execution_count": 32,
     "metadata": {},
     "output_type": "execute_result"
    }
   ],
   "source": [
    "# mean positive imgs per series\n",
    "coords_df.groupby(['study_id','series_id']).instance_number.nunique().mean()"
   ]
  },
  {
   "cell_type": "code",
   "execution_count": 37,
   "id": "c873b1c8-6179-4e1d-b6a6-5b001069f0fa",
   "metadata": {},
   "outputs": [
    {
     "data": {
      "text/plain": [
       "patient     series    \n",
       "4003253     702807833     15\n",
       "            1054713880    15\n",
       "            2448190387    43\n",
       "4646740     3201256954    54\n",
       "            3486248476    17\n",
       "                          ..\n",
       "4287160193  1507070277    15\n",
       "            1820446240    42\n",
       "4290709089  3274612423    15\n",
       "            3390218084    23\n",
       "            4237840455    15\n",
       "Name: series, Length: 6294, dtype: int64"
      ]
     },
     "execution_count": 37,
     "metadata": {},
     "output_type": "execute_result"
    }
   ],
   "source": [
    "files_df.groupby(['patient','series']).series.count()"
   ]
  },
  {
   "cell_type": "markdown",
   "id": "47def994-506a-4b40-a7e7-15522a2b67c6",
   "metadata": {},
   "source": [
    "### Analyze one example"
   ]
  },
  {
   "cell_type": "code",
   "execution_count": 46,
   "id": "98ac7565-02d1-4a31-8f59-b05ac7e8da6d",
   "metadata": {},
   "outputs": [
    {
     "data": {
      "text/plain": [
       "study_id                                      4003253\n",
       "spinal_canal_stenosis_l1_l2               Normal/Mild\n",
       "spinal_canal_stenosis_l2_l3               Normal/Mild\n",
       "spinal_canal_stenosis_l3_l4               Normal/Mild\n",
       "spinal_canal_stenosis_l4_l5               Normal/Mild\n",
       "spinal_canal_stenosis_l5_s1               Normal/Mild\n",
       "left_neural_foraminal_narrowing_l1_l2     Normal/Mild\n",
       "left_neural_foraminal_narrowing_l2_l3     Normal/Mild\n",
       "left_neural_foraminal_narrowing_l3_l4     Normal/Mild\n",
       "left_neural_foraminal_narrowing_l4_l5        Moderate\n",
       "left_neural_foraminal_narrowing_l5_s1     Normal/Mild\n",
       "right_neural_foraminal_narrowing_l1_l2    Normal/Mild\n",
       "right_neural_foraminal_narrowing_l2_l3    Normal/Mild\n",
       "right_neural_foraminal_narrowing_l3_l4       Moderate\n",
       "right_neural_foraminal_narrowing_l4_l5       Moderate\n",
       "right_neural_foraminal_narrowing_l5_s1    Normal/Mild\n",
       "left_subarticular_stenosis_l1_l2          Normal/Mild\n",
       "left_subarticular_stenosis_l2_l3          Normal/Mild\n",
       "left_subarticular_stenosis_l3_l4          Normal/Mild\n",
       "left_subarticular_stenosis_l4_l5             Moderate\n",
       "left_subarticular_stenosis_l5_s1          Normal/Mild\n",
       "right_subarticular_stenosis_l1_l2         Normal/Mild\n",
       "right_subarticular_stenosis_l2_l3         Normal/Mild\n",
       "right_subarticular_stenosis_l3_l4         Normal/Mild\n",
       "right_subarticular_stenosis_l4_l5         Normal/Mild\n",
       "right_subarticular_stenosis_l5_s1         Normal/Mild\n",
       "Name: 0, dtype: object"
      ]
     },
     "execution_count": 46,
     "metadata": {},
     "output_type": "execute_result"
    }
   ],
   "source": [
    "patient = 4003253\n",
    "train_df[train_df['study_id'] == patient].iloc[0]"
   ]
  },
  {
   "cell_type": "code",
   "execution_count": 45,
   "id": "3a9a6038-9ee4-41c7-92ec-be4b6649a70c",
   "metadata": {},
   "outputs": [
    {
     "data": {
      "text/html": [
       "<div>\n",
       "<style scoped>\n",
       "    .dataframe tbody tr th:only-of-type {\n",
       "        vertical-align: middle;\n",
       "    }\n",
       "\n",
       "    .dataframe tbody tr th {\n",
       "        vertical-align: top;\n",
       "    }\n",
       "\n",
       "    .dataframe thead th {\n",
       "        text-align: right;\n",
       "    }\n",
       "</style>\n",
       "<table border=\"1\" class=\"dataframe\">\n",
       "  <thead>\n",
       "    <tr style=\"text-align: right;\">\n",
       "      <th></th>\n",
       "      <th>study_id</th>\n",
       "      <th>series_id</th>\n",
       "      <th>instance_number</th>\n",
       "      <th>condition</th>\n",
       "      <th>level</th>\n",
       "      <th>x</th>\n",
       "      <th>y</th>\n",
       "      <th>id</th>\n",
       "      <th>plane</th>\n",
       "    </tr>\n",
       "  </thead>\n",
       "  <tbody>\n",
       "    <tr>\n",
       "      <th>0</th>\n",
       "      <td>4003253</td>\n",
       "      <td>702807833</td>\n",
       "      <td>8</td>\n",
       "      <td>Spinal Canal Stenosis</td>\n",
       "      <td>L1/L2</td>\n",
       "      <td>322.831858</td>\n",
       "      <td>227.964602</td>\n",
       "      <td>4003253702807833</td>\n",
       "      <td>Sagittal T2/STIR</td>\n",
       "    </tr>\n",
       "    <tr>\n",
       "      <th>1</th>\n",
       "      <td>4003253</td>\n",
       "      <td>702807833</td>\n",
       "      <td>8</td>\n",
       "      <td>Spinal Canal Stenosis</td>\n",
       "      <td>L2/L3</td>\n",
       "      <td>320.571429</td>\n",
       "      <td>295.714286</td>\n",
       "      <td>4003253702807833</td>\n",
       "      <td>Sagittal T2/STIR</td>\n",
       "    </tr>\n",
       "    <tr>\n",
       "      <th>2</th>\n",
       "      <td>4003253</td>\n",
       "      <td>702807833</td>\n",
       "      <td>8</td>\n",
       "      <td>Spinal Canal Stenosis</td>\n",
       "      <td>L3/L4</td>\n",
       "      <td>323.030303</td>\n",
       "      <td>371.818182</td>\n",
       "      <td>4003253702807833</td>\n",
       "      <td>Sagittal T2/STIR</td>\n",
       "    </tr>\n",
       "    <tr>\n",
       "      <th>3</th>\n",
       "      <td>4003253</td>\n",
       "      <td>702807833</td>\n",
       "      <td>8</td>\n",
       "      <td>Spinal Canal Stenosis</td>\n",
       "      <td>L4/L5</td>\n",
       "      <td>335.292035</td>\n",
       "      <td>427.327434</td>\n",
       "      <td>4003253702807833</td>\n",
       "      <td>Sagittal T2/STIR</td>\n",
       "    </tr>\n",
       "    <tr>\n",
       "      <th>4</th>\n",
       "      <td>4003253</td>\n",
       "      <td>702807833</td>\n",
       "      <td>8</td>\n",
       "      <td>Spinal Canal Stenosis</td>\n",
       "      <td>L5/S1</td>\n",
       "      <td>353.415929</td>\n",
       "      <td>483.964602</td>\n",
       "      <td>4003253702807833</td>\n",
       "      <td>Sagittal T2/STIR</td>\n",
       "    </tr>\n",
       "    <tr>\n",
       "      <th>5</th>\n",
       "      <td>4003253</td>\n",
       "      <td>1054713880</td>\n",
       "      <td>4</td>\n",
       "      <td>Right Neural Foraminal Narrowing</td>\n",
       "      <td>L4/L5</td>\n",
       "      <td>187.961759</td>\n",
       "      <td>251.839388</td>\n",
       "      <td>40032531054713880</td>\n",
       "      <td>Sagittal T1</td>\n",
       "    </tr>\n",
       "    <tr>\n",
       "      <th>6</th>\n",
       "      <td>4003253</td>\n",
       "      <td>1054713880</td>\n",
       "      <td>4</td>\n",
       "      <td>Right Neural Foraminal Narrowing</td>\n",
       "      <td>L5/S1</td>\n",
       "      <td>198.240918</td>\n",
       "      <td>285.613767</td>\n",
       "      <td>40032531054713880</td>\n",
       "      <td>Sagittal T1</td>\n",
       "    </tr>\n",
       "    <tr>\n",
       "      <th>7</th>\n",
       "      <td>4003253</td>\n",
       "      <td>1054713880</td>\n",
       "      <td>5</td>\n",
       "      <td>Right Neural Foraminal Narrowing</td>\n",
       "      <td>L3/L4</td>\n",
       "      <td>187.227533</td>\n",
       "      <td>210.722753</td>\n",
       "      <td>40032531054713880</td>\n",
       "      <td>Sagittal T1</td>\n",
       "    </tr>\n",
       "    <tr>\n",
       "      <th>8</th>\n",
       "      <td>4003253</td>\n",
       "      <td>1054713880</td>\n",
       "      <td>6</td>\n",
       "      <td>Right Neural Foraminal Narrowing</td>\n",
       "      <td>L1/L2</td>\n",
       "      <td>194.569790</td>\n",
       "      <td>127.755258</td>\n",
       "      <td>40032531054713880</td>\n",
       "      <td>Sagittal T1</td>\n",
       "    </tr>\n",
       "    <tr>\n",
       "      <th>9</th>\n",
       "      <td>4003253</td>\n",
       "      <td>1054713880</td>\n",
       "      <td>6</td>\n",
       "      <td>Right Neural Foraminal Narrowing</td>\n",
       "      <td>L2/L3</td>\n",
       "      <td>191.632887</td>\n",
       "      <td>165.934990</td>\n",
       "      <td>40032531054713880</td>\n",
       "      <td>Sagittal T1</td>\n",
       "    </tr>\n",
       "    <tr>\n",
       "      <th>10</th>\n",
       "      <td>4003253</td>\n",
       "      <td>1054713880</td>\n",
       "      <td>11</td>\n",
       "      <td>Left Neural Foraminal Narrowing</td>\n",
       "      <td>L1/L2</td>\n",
       "      <td>196.070671</td>\n",
       "      <td>126.021201</td>\n",
       "      <td>40032531054713880</td>\n",
       "      <td>Sagittal T1</td>\n",
       "    </tr>\n",
       "    <tr>\n",
       "      <th>11</th>\n",
       "      <td>4003253</td>\n",
       "      <td>1054713880</td>\n",
       "      <td>11</td>\n",
       "      <td>Left Neural Foraminal Narrowing</td>\n",
       "      <td>L4/L5</td>\n",
       "      <td>186.504472</td>\n",
       "      <td>251.592129</td>\n",
       "      <td>40032531054713880</td>\n",
       "      <td>Sagittal T1</td>\n",
       "    </tr>\n",
       "    <tr>\n",
       "      <th>12</th>\n",
       "      <td>4003253</td>\n",
       "      <td>1054713880</td>\n",
       "      <td>11</td>\n",
       "      <td>Left Neural Foraminal Narrowing</td>\n",
       "      <td>L5/S1</td>\n",
       "      <td>197.100569</td>\n",
       "      <td>289.457306</td>\n",
       "      <td>40032531054713880</td>\n",
       "      <td>Sagittal T1</td>\n",
       "    </tr>\n",
       "    <tr>\n",
       "      <th>13</th>\n",
       "      <td>4003253</td>\n",
       "      <td>1054713880</td>\n",
       "      <td>12</td>\n",
       "      <td>Left Neural Foraminal Narrowing</td>\n",
       "      <td>L2/L3</td>\n",
       "      <td>191.321555</td>\n",
       "      <td>170.120141</td>\n",
       "      <td>40032531054713880</td>\n",
       "      <td>Sagittal T1</td>\n",
       "    </tr>\n",
       "    <tr>\n",
       "      <th>14</th>\n",
       "      <td>4003253</td>\n",
       "      <td>1054713880</td>\n",
       "      <td>12</td>\n",
       "      <td>Left Neural Foraminal Narrowing</td>\n",
       "      <td>L3/L4</td>\n",
       "      <td>187.878354</td>\n",
       "      <td>217.245081</td>\n",
       "      <td>40032531054713880</td>\n",
       "      <td>Sagittal T1</td>\n",
       "    </tr>\n",
       "    <tr>\n",
       "      <th>15</th>\n",
       "      <td>4003253</td>\n",
       "      <td>2448190387</td>\n",
       "      <td>3</td>\n",
       "      <td>Left Subarticular Stenosis</td>\n",
       "      <td>L1/L2</td>\n",
       "      <td>179.126448</td>\n",
       "      <td>161.235521</td>\n",
       "      <td>40032532448190387</td>\n",
       "      <td>Axial T2</td>\n",
       "    </tr>\n",
       "    <tr>\n",
       "      <th>16</th>\n",
       "      <td>4003253</td>\n",
       "      <td>2448190387</td>\n",
       "      <td>4</td>\n",
       "      <td>Right Subarticular Stenosis</td>\n",
       "      <td>L1/L2</td>\n",
       "      <td>145.288771</td>\n",
       "      <td>158.624642</td>\n",
       "      <td>40032532448190387</td>\n",
       "      <td>Axial T2</td>\n",
       "    </tr>\n",
       "    <tr>\n",
       "      <th>17</th>\n",
       "      <td>4003253</td>\n",
       "      <td>2448190387</td>\n",
       "      <td>11</td>\n",
       "      <td>Left Subarticular Stenosis</td>\n",
       "      <td>L2/L3</td>\n",
       "      <td>180.979730</td>\n",
       "      <td>158.764479</td>\n",
       "      <td>40032532448190387</td>\n",
       "      <td>Axial T2</td>\n",
       "    </tr>\n",
       "    <tr>\n",
       "      <th>18</th>\n",
       "      <td>4003253</td>\n",
       "      <td>2448190387</td>\n",
       "      <td>11</td>\n",
       "      <td>Right Subarticular Stenosis</td>\n",
       "      <td>L2/L3</td>\n",
       "      <td>145.900042</td>\n",
       "      <td>157.096466</td>\n",
       "      <td>40032532448190387</td>\n",
       "      <td>Axial T2</td>\n",
       "    </tr>\n",
       "    <tr>\n",
       "      <th>19</th>\n",
       "      <td>4003253</td>\n",
       "      <td>2448190387</td>\n",
       "      <td>19</td>\n",
       "      <td>Left Subarticular Stenosis</td>\n",
       "      <td>L3/L4</td>\n",
       "      <td>176.037645</td>\n",
       "      <td>157.528958</td>\n",
       "      <td>40032532448190387</td>\n",
       "      <td>Axial T2</td>\n",
       "    </tr>\n",
       "    <tr>\n",
       "      <th>20</th>\n",
       "      <td>4003253</td>\n",
       "      <td>2448190387</td>\n",
       "      <td>19</td>\n",
       "      <td>Right Subarticular Stenosis</td>\n",
       "      <td>L3/L4</td>\n",
       "      <td>142.843690</td>\n",
       "      <td>156.179561</td>\n",
       "      <td>40032532448190387</td>\n",
       "      <td>Axial T2</td>\n",
       "    </tr>\n",
       "    <tr>\n",
       "      <th>21</th>\n",
       "      <td>4003253</td>\n",
       "      <td>2448190387</td>\n",
       "      <td>28</td>\n",
       "      <td>Left Subarticular Stenosis</td>\n",
       "      <td>L4/L5</td>\n",
       "      <td>172.948842</td>\n",
       "      <td>156.911197</td>\n",
       "      <td>40032532448190387</td>\n",
       "      <td>Axial T2</td>\n",
       "    </tr>\n",
       "    <tr>\n",
       "      <th>22</th>\n",
       "      <td>4003253</td>\n",
       "      <td>2448190387</td>\n",
       "      <td>28</td>\n",
       "      <td>Right Subarticular Stenosis</td>\n",
       "      <td>L4/L5</td>\n",
       "      <td>147.428218</td>\n",
       "      <td>158.013372</td>\n",
       "      <td>40032532448190387</td>\n",
       "      <td>Axial T2</td>\n",
       "    </tr>\n",
       "    <tr>\n",
       "      <th>23</th>\n",
       "      <td>4003253</td>\n",
       "      <td>2448190387</td>\n",
       "      <td>35</td>\n",
       "      <td>Left Subarticular Stenosis</td>\n",
       "      <td>L5/S1</td>\n",
       "      <td>179.744208</td>\n",
       "      <td>161.853282</td>\n",
       "      <td>40032532448190387</td>\n",
       "      <td>Axial T2</td>\n",
       "    </tr>\n",
       "    <tr>\n",
       "      <th>24</th>\n",
       "      <td>4003253</td>\n",
       "      <td>2448190387</td>\n",
       "      <td>35</td>\n",
       "      <td>Right Subarticular Stenosis</td>\n",
       "      <td>L5/S1</td>\n",
       "      <td>145.900042</td>\n",
       "      <td>161.375358</td>\n",
       "      <td>40032532448190387</td>\n",
       "      <td>Axial T2</td>\n",
       "    </tr>\n",
       "  </tbody>\n",
       "</table>\n",
       "</div>"
      ],
      "text/plain": [
       "    study_id   series_id  instance_number                         condition  \\\n",
       "0    4003253   702807833                8             Spinal Canal Stenosis   \n",
       "1    4003253   702807833                8             Spinal Canal Stenosis   \n",
       "2    4003253   702807833                8             Spinal Canal Stenosis   \n",
       "3    4003253   702807833                8             Spinal Canal Stenosis   \n",
       "4    4003253   702807833                8             Spinal Canal Stenosis   \n",
       "5    4003253  1054713880                4  Right Neural Foraminal Narrowing   \n",
       "6    4003253  1054713880                4  Right Neural Foraminal Narrowing   \n",
       "7    4003253  1054713880                5  Right Neural Foraminal Narrowing   \n",
       "8    4003253  1054713880                6  Right Neural Foraminal Narrowing   \n",
       "9    4003253  1054713880                6  Right Neural Foraminal Narrowing   \n",
       "10   4003253  1054713880               11   Left Neural Foraminal Narrowing   \n",
       "11   4003253  1054713880               11   Left Neural Foraminal Narrowing   \n",
       "12   4003253  1054713880               11   Left Neural Foraminal Narrowing   \n",
       "13   4003253  1054713880               12   Left Neural Foraminal Narrowing   \n",
       "14   4003253  1054713880               12   Left Neural Foraminal Narrowing   \n",
       "15   4003253  2448190387                3        Left Subarticular Stenosis   \n",
       "16   4003253  2448190387                4       Right Subarticular Stenosis   \n",
       "17   4003253  2448190387               11        Left Subarticular Stenosis   \n",
       "18   4003253  2448190387               11       Right Subarticular Stenosis   \n",
       "19   4003253  2448190387               19        Left Subarticular Stenosis   \n",
       "20   4003253  2448190387               19       Right Subarticular Stenosis   \n",
       "21   4003253  2448190387               28        Left Subarticular Stenosis   \n",
       "22   4003253  2448190387               28       Right Subarticular Stenosis   \n",
       "23   4003253  2448190387               35        Left Subarticular Stenosis   \n",
       "24   4003253  2448190387               35       Right Subarticular Stenosis   \n",
       "\n",
       "    level           x           y                 id             plane  \n",
       "0   L1/L2  322.831858  227.964602   4003253702807833  Sagittal T2/STIR  \n",
       "1   L2/L3  320.571429  295.714286   4003253702807833  Sagittal T2/STIR  \n",
       "2   L3/L4  323.030303  371.818182   4003253702807833  Sagittal T2/STIR  \n",
       "3   L4/L5  335.292035  427.327434   4003253702807833  Sagittal T2/STIR  \n",
       "4   L5/S1  353.415929  483.964602   4003253702807833  Sagittal T2/STIR  \n",
       "5   L4/L5  187.961759  251.839388  40032531054713880       Sagittal T1  \n",
       "6   L5/S1  198.240918  285.613767  40032531054713880       Sagittal T1  \n",
       "7   L3/L4  187.227533  210.722753  40032531054713880       Sagittal T1  \n",
       "8   L1/L2  194.569790  127.755258  40032531054713880       Sagittal T1  \n",
       "9   L2/L3  191.632887  165.934990  40032531054713880       Sagittal T1  \n",
       "10  L1/L2  196.070671  126.021201  40032531054713880       Sagittal T1  \n",
       "11  L4/L5  186.504472  251.592129  40032531054713880       Sagittal T1  \n",
       "12  L5/S1  197.100569  289.457306  40032531054713880       Sagittal T1  \n",
       "13  L2/L3  191.321555  170.120141  40032531054713880       Sagittal T1  \n",
       "14  L3/L4  187.878354  217.245081  40032531054713880       Sagittal T1  \n",
       "15  L1/L2  179.126448  161.235521  40032532448190387          Axial T2  \n",
       "16  L1/L2  145.288771  158.624642  40032532448190387          Axial T2  \n",
       "17  L2/L3  180.979730  158.764479  40032532448190387          Axial T2  \n",
       "18  L2/L3  145.900042  157.096466  40032532448190387          Axial T2  \n",
       "19  L3/L4  176.037645  157.528958  40032532448190387          Axial T2  \n",
       "20  L3/L4  142.843690  156.179561  40032532448190387          Axial T2  \n",
       "21  L4/L5  172.948842  156.911197  40032532448190387          Axial T2  \n",
       "22  L4/L5  147.428218  158.013372  40032532448190387          Axial T2  \n",
       "23  L5/S1  179.744208  161.853282  40032532448190387          Axial T2  \n",
       "24  L5/S1  145.900042  161.375358  40032532448190387          Axial T2  "
      ]
     },
     "execution_count": 45,
     "metadata": {},
     "output_type": "execute_result"
    }
   ],
   "source": [
    "coords_df[coords_df['study_id'] == patient]"
   ]
  },
  {
   "cell_type": "code",
   "execution_count": null,
   "id": "282bb9ce-3f3d-4ec1-89b4-c43a7c94c7c7",
   "metadata": {},
   "outputs": [],
   "source": []
  },
  {
   "cell_type": "code",
   "execution_count": null,
   "id": "e2843743-507b-4f65-9f98-116e73929a82",
   "metadata": {},
   "outputs": [],
   "source": []
  },
  {
   "cell_type": "code",
   "execution_count": null,
   "id": "23150446-04b1-4c7d-a440-df023735ea3c",
   "metadata": {},
   "outputs": [],
   "source": []
  },
  {
   "cell_type": "code",
   "execution_count": null,
   "id": "bc960a50-34f0-4c26-9c60-0336a8a71977",
   "metadata": {},
   "outputs": [],
   "source": []
  }
 ],
 "metadata": {
  "kernelspec": {
   "display_name": "Python 3 (ipykernel)",
   "language": "python",
   "name": "python3"
  },
  "language_info": {
   "codemirror_mode": {
    "name": "ipython",
    "version": 3
   },
   "file_extension": ".py",
   "mimetype": "text/x-python",
   "name": "python",
   "nbconvert_exporter": "python",
   "pygments_lexer": "ipython3",
   "version": "3.10.14"
  }
 },
 "nbformat": 4,
 "nbformat_minor": 5
}
