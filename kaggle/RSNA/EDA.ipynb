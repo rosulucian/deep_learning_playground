{
 "cells": [
  {
   "cell_type": "code",
   "execution_count": 1,
   "id": "6b2a815c-2a6f-4ebf-92bf-8333b5b9144a",
   "metadata": {},
   "outputs": [],
   "source": [
    "%load_ext autoreload\n",
    "%autoreload 2"
   ]
  },
  {
   "cell_type": "code",
   "execution_count": 2,
   "id": "c73e4b1e-69d1-49af-85e3-591418aac8d8",
   "metadata": {},
   "outputs": [],
   "source": [
    "import numpy as np \n",
    "import pandas as pd\n",
    "\n",
    "from pathlib import Path"
   ]
  },
  {
   "cell_type": "code",
   "execution_count": 3,
   "id": "fd643bac-8d82-4a92-97d9-5d5586ee2cfb",
   "metadata": {},
   "outputs": [],
   "source": [
    "train_dir = Path('E:\\data\\RSNA2024')"
   ]
  },
  {
   "cell_type": "code",
   "execution_count": 10,
   "id": "db816614-20d7-4064-a271-1b98f9e32686",
   "metadata": {},
   "outputs": [],
   "source": [
    "class CFG:\n",
    "    random_seed = 42\n",
    "    \n",
    "    ROOT_FOLDER = train_dir\n",
    "    IMAGES_DIR = ROOT_FOLDER / 'train_images'\n",
    "    TRAIN_CSV = ROOT_FOLDER / 'train.csv'\n",
    "    FILES_CSV = ROOT_FOLDER / 'train_files.csv'\n",
    "    TRAIN_DESC_CSV = ROOT_FOLDER / 'train_series_descriptions.csv'\n",
    "    COORDS_CSV = ROOT_FOLDER / 'train_label_coordinates.csv'"
   ]
  },
  {
   "cell_type": "markdown",
   "id": "c267b198-b8b4-4386-a9bf-2319c9f0f315",
   "metadata": {},
   "source": [
    "### Train data"
   ]
  },
  {
   "cell_type": "code",
   "execution_count": 5,
   "id": "26087c78-6355-42fa-86ac-a2189756023a",
   "metadata": {},
   "outputs": [
    {
     "data": {
      "text/plain": [
       "((1975, 26), (6294, 3))"
      ]
     },
     "execution_count": 5,
     "metadata": {},
     "output_type": "execute_result"
    }
   ],
   "source": [
    "train_df = pd.read_csv(CFG.TRAIN_CSV)\n",
    "train_desc_df = pd.read_csv(CFG.TRAIN_DESC_CSV)\n",
    "\n",
    "train_df.shape, train_desc_df.shape"
   ]
  },
  {
   "cell_type": "code",
   "execution_count": 6,
   "id": "fd06eb0e-7155-49f7-9f3f-6b22724aa457",
   "metadata": {},
   "outputs": [
    {
     "data": {
      "text/html": [
       "<div>\n",
       "<style scoped>\n",
       "    .dataframe tbody tr th:only-of-type {\n",
       "        vertical-align: middle;\n",
       "    }\n",
       "\n",
       "    .dataframe tbody tr th {\n",
       "        vertical-align: top;\n",
       "    }\n",
       "\n",
       "    .dataframe thead th {\n",
       "        text-align: right;\n",
       "    }\n",
       "</style>\n",
       "<table border=\"1\" class=\"dataframe\">\n",
       "  <thead>\n",
       "    <tr style=\"text-align: right;\">\n",
       "      <th></th>\n",
       "      <th>study_id</th>\n",
       "      <th>spinal_canal_stenosis_l1_l2</th>\n",
       "      <th>spinal_canal_stenosis_l2_l3</th>\n",
       "      <th>spinal_canal_stenosis_l3_l4</th>\n",
       "      <th>spinal_canal_stenosis_l4_l5</th>\n",
       "      <th>spinal_canal_stenosis_l5_s1</th>\n",
       "      <th>left_neural_foraminal_narrowing_l1_l2</th>\n",
       "      <th>left_neural_foraminal_narrowing_l2_l3</th>\n",
       "      <th>left_neural_foraminal_narrowing_l3_l4</th>\n",
       "      <th>left_neural_foraminal_narrowing_l4_l5</th>\n",
       "      <th>...</th>\n",
       "      <th>left_subarticular_stenosis_l1_l2</th>\n",
       "      <th>left_subarticular_stenosis_l2_l3</th>\n",
       "      <th>left_subarticular_stenosis_l3_l4</th>\n",
       "      <th>left_subarticular_stenosis_l4_l5</th>\n",
       "      <th>left_subarticular_stenosis_l5_s1</th>\n",
       "      <th>right_subarticular_stenosis_l1_l2</th>\n",
       "      <th>right_subarticular_stenosis_l2_l3</th>\n",
       "      <th>right_subarticular_stenosis_l3_l4</th>\n",
       "      <th>right_subarticular_stenosis_l4_l5</th>\n",
       "      <th>right_subarticular_stenosis_l5_s1</th>\n",
       "    </tr>\n",
       "  </thead>\n",
       "  <tbody>\n",
       "    <tr>\n",
       "      <th>0</th>\n",
       "      <td>4003253</td>\n",
       "      <td>Normal/Mild</td>\n",
       "      <td>Normal/Mild</td>\n",
       "      <td>Normal/Mild</td>\n",
       "      <td>Normal/Mild</td>\n",
       "      <td>Normal/Mild</td>\n",
       "      <td>Normal/Mild</td>\n",
       "      <td>Normal/Mild</td>\n",
       "      <td>Normal/Mild</td>\n",
       "      <td>Moderate</td>\n",
       "      <td>...</td>\n",
       "      <td>Normal/Mild</td>\n",
       "      <td>Normal/Mild</td>\n",
       "      <td>Normal/Mild</td>\n",
       "      <td>Moderate</td>\n",
       "      <td>Normal/Mild</td>\n",
       "      <td>Normal/Mild</td>\n",
       "      <td>Normal/Mild</td>\n",
       "      <td>Normal/Mild</td>\n",
       "      <td>Normal/Mild</td>\n",
       "      <td>Normal/Mild</td>\n",
       "    </tr>\n",
       "    <tr>\n",
       "      <th>1</th>\n",
       "      <td>4646740</td>\n",
       "      <td>Normal/Mild</td>\n",
       "      <td>Normal/Mild</td>\n",
       "      <td>Moderate</td>\n",
       "      <td>Severe</td>\n",
       "      <td>Normal/Mild</td>\n",
       "      <td>Normal/Mild</td>\n",
       "      <td>Normal/Mild</td>\n",
       "      <td>Normal/Mild</td>\n",
       "      <td>Moderate</td>\n",
       "      <td>...</td>\n",
       "      <td>Normal/Mild</td>\n",
       "      <td>Normal/Mild</td>\n",
       "      <td>Normal/Mild</td>\n",
       "      <td>Severe</td>\n",
       "      <td>Normal/Mild</td>\n",
       "      <td>Normal/Mild</td>\n",
       "      <td>Moderate</td>\n",
       "      <td>Moderate</td>\n",
       "      <td>Moderate</td>\n",
       "      <td>Normal/Mild</td>\n",
       "    </tr>\n",
       "    <tr>\n",
       "      <th>2</th>\n",
       "      <td>7143189</td>\n",
       "      <td>Normal/Mild</td>\n",
       "      <td>Normal/Mild</td>\n",
       "      <td>Normal/Mild</td>\n",
       "      <td>Normal/Mild</td>\n",
       "      <td>Normal/Mild</td>\n",
       "      <td>Normal/Mild</td>\n",
       "      <td>Normal/Mild</td>\n",
       "      <td>Normal/Mild</td>\n",
       "      <td>Normal/Mild</td>\n",
       "      <td>...</td>\n",
       "      <td>Normal/Mild</td>\n",
       "      <td>Normal/Mild</td>\n",
       "      <td>Normal/Mild</td>\n",
       "      <td>Normal/Mild</td>\n",
       "      <td>Normal/Mild</td>\n",
       "      <td>Normal/Mild</td>\n",
       "      <td>Normal/Mild</td>\n",
       "      <td>Normal/Mild</td>\n",
       "      <td>Normal/Mild</td>\n",
       "      <td>Normal/Mild</td>\n",
       "    </tr>\n",
       "    <tr>\n",
       "      <th>3</th>\n",
       "      <td>8785691</td>\n",
       "      <td>Normal/Mild</td>\n",
       "      <td>Normal/Mild</td>\n",
       "      <td>Normal/Mild</td>\n",
       "      <td>Normal/Mild</td>\n",
       "      <td>Normal/Mild</td>\n",
       "      <td>Normal/Mild</td>\n",
       "      <td>Normal/Mild</td>\n",
       "      <td>Normal/Mild</td>\n",
       "      <td>Moderate</td>\n",
       "      <td>...</td>\n",
       "      <td>Normal/Mild</td>\n",
       "      <td>Normal/Mild</td>\n",
       "      <td>Normal/Mild</td>\n",
       "      <td>Normal/Mild</td>\n",
       "      <td>Normal/Mild</td>\n",
       "      <td>Normal/Mild</td>\n",
       "      <td>Normal/Mild</td>\n",
       "      <td>Normal/Mild</td>\n",
       "      <td>Normal/Mild</td>\n",
       "      <td>Normal/Mild</td>\n",
       "    </tr>\n",
       "    <tr>\n",
       "      <th>4</th>\n",
       "      <td>10728036</td>\n",
       "      <td>Normal/Mild</td>\n",
       "      <td>Normal/Mild</td>\n",
       "      <td>Normal/Mild</td>\n",
       "      <td>Normal/Mild</td>\n",
       "      <td>Normal/Mild</td>\n",
       "      <td>Normal/Mild</td>\n",
       "      <td>Normal/Mild</td>\n",
       "      <td>Normal/Mild</td>\n",
       "      <td>Normal/Mild</td>\n",
       "      <td>...</td>\n",
       "      <td>Normal/Mild</td>\n",
       "      <td>Normal/Mild</td>\n",
       "      <td>Normal/Mild</td>\n",
       "      <td>Normal/Mild</td>\n",
       "      <td>Normal/Mild</td>\n",
       "      <td>Normal/Mild</td>\n",
       "      <td>Normal/Mild</td>\n",
       "      <td>Normal/Mild</td>\n",
       "      <td>Moderate</td>\n",
       "      <td>Normal/Mild</td>\n",
       "    </tr>\n",
       "  </tbody>\n",
       "</table>\n",
       "<p>5 rows × 26 columns</p>\n",
       "</div>"
      ],
      "text/plain": [
       "   study_id spinal_canal_stenosis_l1_l2 spinal_canal_stenosis_l2_l3  \\\n",
       "0   4003253                 Normal/Mild                 Normal/Mild   \n",
       "1   4646740                 Normal/Mild                 Normal/Mild   \n",
       "2   7143189                 Normal/Mild                 Normal/Mild   \n",
       "3   8785691                 Normal/Mild                 Normal/Mild   \n",
       "4  10728036                 Normal/Mild                 Normal/Mild   \n",
       "\n",
       "  spinal_canal_stenosis_l3_l4 spinal_canal_stenosis_l4_l5  \\\n",
       "0                 Normal/Mild                 Normal/Mild   \n",
       "1                    Moderate                      Severe   \n",
       "2                 Normal/Mild                 Normal/Mild   \n",
       "3                 Normal/Mild                 Normal/Mild   \n",
       "4                 Normal/Mild                 Normal/Mild   \n",
       "\n",
       "  spinal_canal_stenosis_l5_s1 left_neural_foraminal_narrowing_l1_l2  \\\n",
       "0                 Normal/Mild                           Normal/Mild   \n",
       "1                 Normal/Mild                           Normal/Mild   \n",
       "2                 Normal/Mild                           Normal/Mild   \n",
       "3                 Normal/Mild                           Normal/Mild   \n",
       "4                 Normal/Mild                           Normal/Mild   \n",
       "\n",
       "  left_neural_foraminal_narrowing_l2_l3 left_neural_foraminal_narrowing_l3_l4  \\\n",
       "0                           Normal/Mild                           Normal/Mild   \n",
       "1                           Normal/Mild                           Normal/Mild   \n",
       "2                           Normal/Mild                           Normal/Mild   \n",
       "3                           Normal/Mild                           Normal/Mild   \n",
       "4                           Normal/Mild                           Normal/Mild   \n",
       "\n",
       "  left_neural_foraminal_narrowing_l4_l5  ... left_subarticular_stenosis_l1_l2  \\\n",
       "0                              Moderate  ...                      Normal/Mild   \n",
       "1                              Moderate  ...                      Normal/Mild   \n",
       "2                           Normal/Mild  ...                      Normal/Mild   \n",
       "3                              Moderate  ...                      Normal/Mild   \n",
       "4                           Normal/Mild  ...                      Normal/Mild   \n",
       "\n",
       "  left_subarticular_stenosis_l2_l3 left_subarticular_stenosis_l3_l4  \\\n",
       "0                      Normal/Mild                      Normal/Mild   \n",
       "1                      Normal/Mild                      Normal/Mild   \n",
       "2                      Normal/Mild                      Normal/Mild   \n",
       "3                      Normal/Mild                      Normal/Mild   \n",
       "4                      Normal/Mild                      Normal/Mild   \n",
       "\n",
       "  left_subarticular_stenosis_l4_l5 left_subarticular_stenosis_l5_s1  \\\n",
       "0                         Moderate                      Normal/Mild   \n",
       "1                           Severe                      Normal/Mild   \n",
       "2                      Normal/Mild                      Normal/Mild   \n",
       "3                      Normal/Mild                      Normal/Mild   \n",
       "4                      Normal/Mild                      Normal/Mild   \n",
       "\n",
       "  right_subarticular_stenosis_l1_l2 right_subarticular_stenosis_l2_l3  \\\n",
       "0                       Normal/Mild                       Normal/Mild   \n",
       "1                       Normal/Mild                          Moderate   \n",
       "2                       Normal/Mild                       Normal/Mild   \n",
       "3                       Normal/Mild                       Normal/Mild   \n",
       "4                       Normal/Mild                       Normal/Mild   \n",
       "\n",
       "  right_subarticular_stenosis_l3_l4 right_subarticular_stenosis_l4_l5  \\\n",
       "0                       Normal/Mild                       Normal/Mild   \n",
       "1                          Moderate                          Moderate   \n",
       "2                       Normal/Mild                       Normal/Mild   \n",
       "3                       Normal/Mild                       Normal/Mild   \n",
       "4                       Normal/Mild                          Moderate   \n",
       "\n",
       "  right_subarticular_stenosis_l5_s1  \n",
       "0                       Normal/Mild  \n",
       "1                       Normal/Mild  \n",
       "2                       Normal/Mild  \n",
       "3                       Normal/Mild  \n",
       "4                       Normal/Mild  \n",
       "\n",
       "[5 rows x 26 columns]"
      ]
     },
     "execution_count": 6,
     "metadata": {},
     "output_type": "execute_result"
    }
   ],
   "source": [
    "train_df.head()"
   ]
  },
  {
   "cell_type": "code",
   "execution_count": 9,
   "id": "3e3f14e0-abf1-4023-913b-f600f94d61ee",
   "metadata": {},
   "outputs": [
    {
     "data": {
      "text/plain": [
       "study_id                                      4646740\n",
       "spinal_canal_stenosis_l1_l2               Normal/Mild\n",
       "spinal_canal_stenosis_l2_l3               Normal/Mild\n",
       "spinal_canal_stenosis_l3_l4                  Moderate\n",
       "spinal_canal_stenosis_l4_l5                    Severe\n",
       "spinal_canal_stenosis_l5_s1               Normal/Mild\n",
       "left_neural_foraminal_narrowing_l1_l2     Normal/Mild\n",
       "left_neural_foraminal_narrowing_l2_l3     Normal/Mild\n",
       "left_neural_foraminal_narrowing_l3_l4     Normal/Mild\n",
       "left_neural_foraminal_narrowing_l4_l5        Moderate\n",
       "left_neural_foraminal_narrowing_l5_s1        Moderate\n",
       "right_neural_foraminal_narrowing_l1_l2    Normal/Mild\n",
       "right_neural_foraminal_narrowing_l2_l3    Normal/Mild\n",
       "right_neural_foraminal_narrowing_l3_l4       Moderate\n",
       "right_neural_foraminal_narrowing_l4_l5       Moderate\n",
       "right_neural_foraminal_narrowing_l5_s1    Normal/Mild\n",
       "left_subarticular_stenosis_l1_l2          Normal/Mild\n",
       "left_subarticular_stenosis_l2_l3          Normal/Mild\n",
       "left_subarticular_stenosis_l3_l4          Normal/Mild\n",
       "left_subarticular_stenosis_l4_l5               Severe\n",
       "left_subarticular_stenosis_l5_s1          Normal/Mild\n",
       "right_subarticular_stenosis_l1_l2         Normal/Mild\n",
       "right_subarticular_stenosis_l2_l3            Moderate\n",
       "right_subarticular_stenosis_l3_l4            Moderate\n",
       "right_subarticular_stenosis_l4_l5            Moderate\n",
       "right_subarticular_stenosis_l5_s1         Normal/Mild\n",
       "Name: 1, dtype: object"
      ]
     },
     "execution_count": 9,
     "metadata": {},
     "output_type": "execute_result"
    }
   ],
   "source": [
    "train_df.iloc[1]"
   ]
  },
  {
   "cell_type": "code",
   "execution_count": 7,
   "id": "693453d8-d032-4721-814a-9790e163f700",
   "metadata": {},
   "outputs": [
    {
     "data": {
      "text/plain": [
       "1975"
      ]
     },
     "execution_count": 7,
     "metadata": {},
     "output_type": "execute_result"
    }
   ],
   "source": [
    "train_df.study_id.nunique()"
   ]
  },
  {
   "cell_type": "markdown",
   "id": "3b7a96f1-631b-4cab-a0f3-e86a1e791c95",
   "metadata": {},
   "source": [
    "### Coordinates"
   ]
  },
  {
   "cell_type": "code",
   "execution_count": 28,
   "id": "caf88225-2aea-4e23-b6ff-e91c0b8e842d",
   "metadata": {},
   "outputs": [
    {
     "data": {
      "text/plain": [
       "(48692, 7)"
      ]
     },
     "execution_count": 28,
     "metadata": {},
     "output_type": "execute_result"
    }
   ],
   "source": [
    "coords_df = pd.read_csv(CFG.COORDS_CSV)\n",
    "coords_df.shape"
   ]
  },
  {
   "cell_type": "code",
   "execution_count": 29,
   "id": "65b8de8e-f0da-46cc-9316-ec134b67751a",
   "metadata": {},
   "outputs": [
    {
     "data": {
      "text/plain": [
       "(1974, 5, 5)"
      ]
     },
     "execution_count": 29,
     "metadata": {},
     "output_type": "execute_result"
    }
   ],
   "source": [
    "coords_df.study_id.nunique(), coords_df.condition.nunique(), coords_df.level.nunique()"
   ]
  },
  {
   "cell_type": "code",
   "execution_count": 30,
   "id": "8903243d-adb4-4c46-bf32-3482cc7a051e",
   "metadata": {},
   "outputs": [
    {
     "data": {
      "text/plain": [
       "(array(['Spinal Canal Stenosis', 'Right Neural Foraminal Narrowing',\n",
       "        'Left Neural Foraminal Narrowing', 'Left Subarticular Stenosis',\n",
       "        'Right Subarticular Stenosis'], dtype=object),\n",
       " array(['L1/L2', 'L2/L3', 'L3/L4', 'L4/L5', 'L5/S1'], dtype=object))"
      ]
     },
     "execution_count": 30,
     "metadata": {},
     "output_type": "execute_result"
    }
   ],
   "source": [
    "coords_df.condition.unique(), coords_df.level.unique()"
   ]
  },
  {
   "cell_type": "code",
   "execution_count": 31,
   "id": "6c7cf0d6-5c81-425f-9187-fd2068a6a57c",
   "metadata": {},
   "outputs": [
    {
     "data": {
      "text/plain": [
       "6291"
      ]
     },
     "execution_count": 31,
     "metadata": {},
     "output_type": "execute_result"
    }
   ],
   "source": [
    "coords_df.series_id.nunique()"
   ]
  },
  {
   "cell_type": "code",
   "execution_count": 32,
   "id": "2e83f2cd-45b7-4208-9fae-65ece413fa2a",
   "metadata": {},
   "outputs": [],
   "source": [
    "coords_df['id'] = coords_df.apply(lambda row: str(row['study_id']) + str(row['series_id']), axis=1)\n",
    "train_desc_df['id'] = train_desc_df.apply(lambda row: str(row['study_id']) + str(row['series_id']), axis=1)"
   ]
  },
  {
   "cell_type": "code",
   "execution_count": 33,
   "id": "a5bfc916-5e63-465e-aded-8a391a1d0e08",
   "metadata": {},
   "outputs": [
    {
     "data": {
      "text/html": [
       "<div>\n",
       "<style scoped>\n",
       "    .dataframe tbody tr th:only-of-type {\n",
       "        vertical-align: middle;\n",
       "    }\n",
       "\n",
       "    .dataframe tbody tr th {\n",
       "        vertical-align: top;\n",
       "    }\n",
       "\n",
       "    .dataframe thead th {\n",
       "        text-align: right;\n",
       "    }\n",
       "</style>\n",
       "<table border=\"1\" class=\"dataframe\">\n",
       "  <thead>\n",
       "    <tr style=\"text-align: right;\">\n",
       "      <th></th>\n",
       "      <th>study_id</th>\n",
       "      <th>series_id</th>\n",
       "      <th>instance_number</th>\n",
       "      <th>condition</th>\n",
       "      <th>level</th>\n",
       "      <th>x</th>\n",
       "      <th>y</th>\n",
       "      <th>id</th>\n",
       "    </tr>\n",
       "  </thead>\n",
       "  <tbody>\n",
       "    <tr>\n",
       "      <th>0</th>\n",
       "      <td>4003253</td>\n",
       "      <td>702807833</td>\n",
       "      <td>8</td>\n",
       "      <td>Spinal Canal Stenosis</td>\n",
       "      <td>L1/L2</td>\n",
       "      <td>322.831858</td>\n",
       "      <td>227.964602</td>\n",
       "      <td>4003253702807833</td>\n",
       "    </tr>\n",
       "    <tr>\n",
       "      <th>1</th>\n",
       "      <td>4003253</td>\n",
       "      <td>702807833</td>\n",
       "      <td>8</td>\n",
       "      <td>Spinal Canal Stenosis</td>\n",
       "      <td>L2/L3</td>\n",
       "      <td>320.571429</td>\n",
       "      <td>295.714286</td>\n",
       "      <td>4003253702807833</td>\n",
       "    </tr>\n",
       "    <tr>\n",
       "      <th>2</th>\n",
       "      <td>4003253</td>\n",
       "      <td>702807833</td>\n",
       "      <td>8</td>\n",
       "      <td>Spinal Canal Stenosis</td>\n",
       "      <td>L3/L4</td>\n",
       "      <td>323.030303</td>\n",
       "      <td>371.818182</td>\n",
       "      <td>4003253702807833</td>\n",
       "    </tr>\n",
       "    <tr>\n",
       "      <th>3</th>\n",
       "      <td>4003253</td>\n",
       "      <td>702807833</td>\n",
       "      <td>8</td>\n",
       "      <td>Spinal Canal Stenosis</td>\n",
       "      <td>L4/L5</td>\n",
       "      <td>335.292035</td>\n",
       "      <td>427.327434</td>\n",
       "      <td>4003253702807833</td>\n",
       "    </tr>\n",
       "    <tr>\n",
       "      <th>4</th>\n",
       "      <td>4003253</td>\n",
       "      <td>702807833</td>\n",
       "      <td>8</td>\n",
       "      <td>Spinal Canal Stenosis</td>\n",
       "      <td>L5/S1</td>\n",
       "      <td>353.415929</td>\n",
       "      <td>483.964602</td>\n",
       "      <td>4003253702807833</td>\n",
       "    </tr>\n",
       "    <tr>\n",
       "      <th>5</th>\n",
       "      <td>4003253</td>\n",
       "      <td>1054713880</td>\n",
       "      <td>4</td>\n",
       "      <td>Right Neural Foraminal Narrowing</td>\n",
       "      <td>L4/L5</td>\n",
       "      <td>187.961759</td>\n",
       "      <td>251.839388</td>\n",
       "      <td>40032531054713880</td>\n",
       "    </tr>\n",
       "    <tr>\n",
       "      <th>6</th>\n",
       "      <td>4003253</td>\n",
       "      <td>1054713880</td>\n",
       "      <td>4</td>\n",
       "      <td>Right Neural Foraminal Narrowing</td>\n",
       "      <td>L5/S1</td>\n",
       "      <td>198.240918</td>\n",
       "      <td>285.613767</td>\n",
       "      <td>40032531054713880</td>\n",
       "    </tr>\n",
       "    <tr>\n",
       "      <th>7</th>\n",
       "      <td>4003253</td>\n",
       "      <td>1054713880</td>\n",
       "      <td>5</td>\n",
       "      <td>Right Neural Foraminal Narrowing</td>\n",
       "      <td>L3/L4</td>\n",
       "      <td>187.227533</td>\n",
       "      <td>210.722753</td>\n",
       "      <td>40032531054713880</td>\n",
       "    </tr>\n",
       "    <tr>\n",
       "      <th>8</th>\n",
       "      <td>4003253</td>\n",
       "      <td>1054713880</td>\n",
       "      <td>6</td>\n",
       "      <td>Right Neural Foraminal Narrowing</td>\n",
       "      <td>L1/L2</td>\n",
       "      <td>194.569790</td>\n",
       "      <td>127.755258</td>\n",
       "      <td>40032531054713880</td>\n",
       "    </tr>\n",
       "    <tr>\n",
       "      <th>9</th>\n",
       "      <td>4003253</td>\n",
       "      <td>1054713880</td>\n",
       "      <td>6</td>\n",
       "      <td>Right Neural Foraminal Narrowing</td>\n",
       "      <td>L2/L3</td>\n",
       "      <td>191.632887</td>\n",
       "      <td>165.934990</td>\n",
       "      <td>40032531054713880</td>\n",
       "    </tr>\n",
       "  </tbody>\n",
       "</table>\n",
       "</div>"
      ],
      "text/plain": [
       "   study_id   series_id  instance_number                         condition  \\\n",
       "0   4003253   702807833                8             Spinal Canal Stenosis   \n",
       "1   4003253   702807833                8             Spinal Canal Stenosis   \n",
       "2   4003253   702807833                8             Spinal Canal Stenosis   \n",
       "3   4003253   702807833                8             Spinal Canal Stenosis   \n",
       "4   4003253   702807833                8             Spinal Canal Stenosis   \n",
       "5   4003253  1054713880                4  Right Neural Foraminal Narrowing   \n",
       "6   4003253  1054713880                4  Right Neural Foraminal Narrowing   \n",
       "7   4003253  1054713880                5  Right Neural Foraminal Narrowing   \n",
       "8   4003253  1054713880                6  Right Neural Foraminal Narrowing   \n",
       "9   4003253  1054713880                6  Right Neural Foraminal Narrowing   \n",
       "\n",
       "   level           x           y                 id  \n",
       "0  L1/L2  322.831858  227.964602   4003253702807833  \n",
       "1  L2/L3  320.571429  295.714286   4003253702807833  \n",
       "2  L3/L4  323.030303  371.818182   4003253702807833  \n",
       "3  L4/L5  335.292035  427.327434   4003253702807833  \n",
       "4  L5/S1  353.415929  483.964602   4003253702807833  \n",
       "5  L4/L5  187.961759  251.839388  40032531054713880  \n",
       "6  L5/S1  198.240918  285.613767  40032531054713880  \n",
       "7  L3/L4  187.227533  210.722753  40032531054713880  \n",
       "8  L1/L2  194.569790  127.755258  40032531054713880  \n",
       "9  L2/L3  191.632887  165.934990  40032531054713880  "
      ]
     },
     "execution_count": 33,
     "metadata": {},
     "output_type": "execute_result"
    }
   ],
   "source": [
    "coords_df.head(10)"
   ]
  },
  {
   "cell_type": "code",
   "execution_count": 34,
   "id": "1fbcc364-c07e-4544-89e9-dd2f863a5027",
   "metadata": {},
   "outputs": [],
   "source": [
    "# coords_df[coords_df.study_id == 4003253]"
   ]
  },
  {
   "cell_type": "code",
   "execution_count": 35,
   "id": "f09a0a40-16c6-4e2d-aab6-5db9ef466d3f",
   "metadata": {},
   "outputs": [
    {
     "data": {
      "text/plain": [
       "'Sagittal T2/STIR'"
      ]
     },
     "execution_count": 35,
     "metadata": {},
     "output_type": "execute_result"
    }
   ],
   "source": [
    "train_desc_df[train_desc_df['id'] == '4003253702807833'].series_description.values[0]"
   ]
  },
  {
   "cell_type": "code",
   "execution_count": 36,
   "id": "18ca9c41-4083-42a2-9c38-f039ca29c25f",
   "metadata": {},
   "outputs": [],
   "source": [
    "coords_df['plane'] = coords_df.apply(lambda row: train_desc_df[train_desc_df['id'] == row['id']].series_description.values[0], axis=1)"
   ]
  },
  {
   "cell_type": "code",
   "execution_count": 37,
   "id": "3b828606-6bf3-4981-8980-2b52d505418b",
   "metadata": {},
   "outputs": [
    {
     "data": {
      "text/html": [
       "<div>\n",
       "<style scoped>\n",
       "    .dataframe tbody tr th:only-of-type {\n",
       "        vertical-align: middle;\n",
       "    }\n",
       "\n",
       "    .dataframe tbody tr th {\n",
       "        vertical-align: top;\n",
       "    }\n",
       "\n",
       "    .dataframe thead th {\n",
       "        text-align: right;\n",
       "    }\n",
       "</style>\n",
       "<table border=\"1\" class=\"dataframe\">\n",
       "  <thead>\n",
       "    <tr style=\"text-align: right;\">\n",
       "      <th></th>\n",
       "      <th>study_id</th>\n",
       "      <th>series_id</th>\n",
       "      <th>instance_number</th>\n",
       "      <th>condition</th>\n",
       "      <th>level</th>\n",
       "      <th>x</th>\n",
       "      <th>y</th>\n",
       "      <th>id</th>\n",
       "      <th>plane</th>\n",
       "    </tr>\n",
       "  </thead>\n",
       "  <tbody>\n",
       "    <tr>\n",
       "      <th>8515</th>\n",
       "      <td>767443105</td>\n",
       "      <td>3736569943</td>\n",
       "      <td>5</td>\n",
       "      <td>Left Neural Foraminal Narrowing</td>\n",
       "      <td>L1/L2</td>\n",
       "      <td>252.744155</td>\n",
       "      <td>94.563591</td>\n",
       "      <td>7674431053736569943</td>\n",
       "      <td>Sagittal T1</td>\n",
       "    </tr>\n",
       "    <tr>\n",
       "      <th>21877</th>\n",
       "      <td>1972541574</td>\n",
       "      <td>1380982312</td>\n",
       "      <td>9</td>\n",
       "      <td>Spinal Canal Stenosis</td>\n",
       "      <td>L1/L2</td>\n",
       "      <td>242.554945</td>\n",
       "      <td>129.406593</td>\n",
       "      <td>19725415741380982312</td>\n",
       "      <td>Sagittal T2/STIR</td>\n",
       "    </tr>\n",
       "    <tr>\n",
       "      <th>1737</th>\n",
       "      <td>155064828</td>\n",
       "      <td>1080671136</td>\n",
       "      <td>26</td>\n",
       "      <td>Left Subarticular Stenosis</td>\n",
       "      <td>L1/L2</td>\n",
       "      <td>168.269231</td>\n",
       "      <td>162.762951</td>\n",
       "      <td>1550648281080671136</td>\n",
       "      <td>Axial T2</td>\n",
       "    </tr>\n",
       "    <tr>\n",
       "      <th>22419</th>\n",
       "      <td>2019892566</td>\n",
       "      <td>2390719503</td>\n",
       "      <td>14</td>\n",
       "      <td>Right Subarticular Stenosis</td>\n",
       "      <td>L3/L4</td>\n",
       "      <td>170.238745</td>\n",
       "      <td>194.095498</td>\n",
       "      <td>20198925662390719503</td>\n",
       "      <td>Axial T2</td>\n",
       "    </tr>\n",
       "    <tr>\n",
       "      <th>43609</th>\n",
       "      <td>3856886497</td>\n",
       "      <td>2401411390</td>\n",
       "      <td>8</td>\n",
       "      <td>Spinal Canal Stenosis</td>\n",
       "      <td>L2/L3</td>\n",
       "      <td>218.619469</td>\n",
       "      <td>155.610619</td>\n",
       "      <td>38568864972401411390</td>\n",
       "      <td>Sagittal T2/STIR</td>\n",
       "    </tr>\n",
       "  </tbody>\n",
       "</table>\n",
       "</div>"
      ],
      "text/plain": [
       "         study_id   series_id  instance_number  \\\n",
       "8515    767443105  3736569943                5   \n",
       "21877  1972541574  1380982312                9   \n",
       "1737    155064828  1080671136               26   \n",
       "22419  2019892566  2390719503               14   \n",
       "43609  3856886497  2401411390                8   \n",
       "\n",
       "                             condition  level           x           y  \\\n",
       "8515   Left Neural Foraminal Narrowing  L1/L2  252.744155   94.563591   \n",
       "21877            Spinal Canal Stenosis  L1/L2  242.554945  129.406593   \n",
       "1737        Left Subarticular Stenosis  L1/L2  168.269231  162.762951   \n",
       "22419      Right Subarticular Stenosis  L3/L4  170.238745  194.095498   \n",
       "43609            Spinal Canal Stenosis  L2/L3  218.619469  155.610619   \n",
       "\n",
       "                         id             plane  \n",
       "8515    7674431053736569943       Sagittal T1  \n",
       "21877  19725415741380982312  Sagittal T2/STIR  \n",
       "1737    1550648281080671136          Axial T2  \n",
       "22419  20198925662390719503          Axial T2  \n",
       "43609  38568864972401411390  Sagittal T2/STIR  "
      ]
     },
     "execution_count": 37,
     "metadata": {},
     "output_type": "execute_result"
    }
   ],
   "source": [
    "coords_df.sample(5)"
   ]
  },
  {
   "cell_type": "code",
   "execution_count": 38,
   "id": "4020bdac-0fb0-4b25-a876-1eda49846b3f",
   "metadata": {},
   "outputs": [
    {
     "data": {
      "text/html": [
       "<div>\n",
       "<style scoped>\n",
       "    .dataframe tbody tr th:only-of-type {\n",
       "        vertical-align: middle;\n",
       "    }\n",
       "\n",
       "    .dataframe tbody tr th {\n",
       "        vertical-align: top;\n",
       "    }\n",
       "\n",
       "    .dataframe thead th {\n",
       "        text-align: right;\n",
       "    }\n",
       "</style>\n",
       "<table border=\"1\" class=\"dataframe\">\n",
       "  <thead>\n",
       "    <tr style=\"text-align: right;\">\n",
       "      <th></th>\n",
       "      <th>study_id</th>\n",
       "      <th>series_id</th>\n",
       "      <th>instance_number</th>\n",
       "      <th>condition</th>\n",
       "      <th>level</th>\n",
       "      <th>x</th>\n",
       "      <th>y</th>\n",
       "      <th>id</th>\n",
       "      <th>plane</th>\n",
       "    </tr>\n",
       "  </thead>\n",
       "  <tbody>\n",
       "    <tr>\n",
       "      <th>41132</th>\n",
       "      <td>3617698707</td>\n",
       "      <td>2585122077</td>\n",
       "      <td>8</td>\n",
       "      <td>Spinal Canal Stenosis</td>\n",
       "      <td>L4/L5</td>\n",
       "      <td>275.483186</td>\n",
       "      <td>304.254867</td>\n",
       "      <td>36176987072585122077</td>\n",
       "      <td>Sagittal T2/STIR</td>\n",
       "    </tr>\n",
       "  </tbody>\n",
       "</table>\n",
       "</div>"
      ],
      "text/plain": [
       "         study_id   series_id  instance_number              condition  level  \\\n",
       "41132  3617698707  2585122077                8  Spinal Canal Stenosis  L4/L5   \n",
       "\n",
       "                x           y                    id             plane  \n",
       "41132  275.483186  304.254867  36176987072585122077  Sagittal T2/STIR  "
      ]
     },
     "execution_count": 38,
     "metadata": {},
     "output_type": "execute_result"
    }
   ],
   "source": [
    "# check canal stenosis is noy only in axial plane\n",
    "coords_df[(coords_df.condition == 'Spinal Canal Stenosis') & (coords_df.plane != 'Axial T2')].sample()"
   ]
  },
  {
   "cell_type": "code",
   "execution_count": 39,
   "id": "4adb87c7-4850-4c6e-b5f8-f30fcc7ebc9b",
   "metadata": {},
   "outputs": [
    {
     "data": {
      "text/plain": [
       "study_id    series_id \n",
       "4003253     702807833                              [8]\n",
       "            1054713880               [4, 5, 6, 11, 12]\n",
       "            2448190387          [3, 4, 11, 19, 28, 35]\n",
       "4646740     3201256954    [15, 16, 22, 28, 29, 34, 40]\n",
       "            3486248476           [5, 6, 7, 15, 16, 17]\n",
       "                                      ...             \n",
       "4287160193  1507070277                             [8]\n",
       "            1820446240          [4, 9, 10, 16, 22, 28]\n",
       "4290709089  3274612423                             [9]\n",
       "            3390218084    [2, 3, 5, 6, 10, 15, 20, 21]\n",
       "            4237840455                  [4, 5, 11, 12]\n",
       "Name: instance_number, Length: 6291, dtype: object"
      ]
     },
     "execution_count": 39,
     "metadata": {},
     "output_type": "execute_result"
    }
   ],
   "source": [
    "# get the positive slices\n",
    "coords_df.groupby(['study_id','series_id']).instance_number.unique()"
   ]
  },
  {
   "cell_type": "code",
   "execution_count": 56,
   "id": "050c2b51-8ae6-459d-a69b-f78243bbbb3f",
   "metadata": {},
   "outputs": [
    {
     "data": {
      "text/plain": [
       "(24546, 3)"
      ]
     },
     "execution_count": 56,
     "metadata": {},
     "output_type": "execute_result"
    }
   ],
   "source": [
    "pos_slices = coords_df.groupby(['study_id','series_id']).instance_number.unique().apply(list).reset_index(name='slice').explode('slice')\n",
    "pos_slices.shape"
   ]
  },
  {
   "cell_type": "code",
   "execution_count": 57,
   "id": "0c65b788-8f2f-43e6-a9e3-38b0d0422edf",
   "metadata": {},
   "outputs": [
    {
     "data": {
      "text/html": [
       "<div>\n",
       "<style scoped>\n",
       "    .dataframe tbody tr th:only-of-type {\n",
       "        vertical-align: middle;\n",
       "    }\n",
       "\n",
       "    .dataframe tbody tr th {\n",
       "        vertical-align: top;\n",
       "    }\n",
       "\n",
       "    .dataframe thead th {\n",
       "        text-align: right;\n",
       "    }\n",
       "</style>\n",
       "<table border=\"1\" class=\"dataframe\">\n",
       "  <thead>\n",
       "    <tr style=\"text-align: right;\">\n",
       "      <th></th>\n",
       "      <th>study_id</th>\n",
       "      <th>series_id</th>\n",
       "      <th>slice</th>\n",
       "    </tr>\n",
       "  </thead>\n",
       "  <tbody>\n",
       "    <tr>\n",
       "      <th>0</th>\n",
       "      <td>4003253</td>\n",
       "      <td>702807833</td>\n",
       "      <td>8</td>\n",
       "    </tr>\n",
       "    <tr>\n",
       "      <th>1</th>\n",
       "      <td>4003253</td>\n",
       "      <td>1054713880</td>\n",
       "      <td>4</td>\n",
       "    </tr>\n",
       "    <tr>\n",
       "      <th>1</th>\n",
       "      <td>4003253</td>\n",
       "      <td>1054713880</td>\n",
       "      <td>5</td>\n",
       "    </tr>\n",
       "    <tr>\n",
       "      <th>1</th>\n",
       "      <td>4003253</td>\n",
       "      <td>1054713880</td>\n",
       "      <td>6</td>\n",
       "    </tr>\n",
       "    <tr>\n",
       "      <th>1</th>\n",
       "      <td>4003253</td>\n",
       "      <td>1054713880</td>\n",
       "      <td>11</td>\n",
       "    </tr>\n",
       "    <tr>\n",
       "      <th>...</th>\n",
       "      <td>...</td>\n",
       "      <td>...</td>\n",
       "      <td>...</td>\n",
       "    </tr>\n",
       "    <tr>\n",
       "      <th>6289</th>\n",
       "      <td>4290709089</td>\n",
       "      <td>3390218084</td>\n",
       "      <td>21</td>\n",
       "    </tr>\n",
       "    <tr>\n",
       "      <th>6290</th>\n",
       "      <td>4290709089</td>\n",
       "      <td>4237840455</td>\n",
       "      <td>4</td>\n",
       "    </tr>\n",
       "    <tr>\n",
       "      <th>6290</th>\n",
       "      <td>4290709089</td>\n",
       "      <td>4237840455</td>\n",
       "      <td>5</td>\n",
       "    </tr>\n",
       "    <tr>\n",
       "      <th>6290</th>\n",
       "      <td>4290709089</td>\n",
       "      <td>4237840455</td>\n",
       "      <td>11</td>\n",
       "    </tr>\n",
       "    <tr>\n",
       "      <th>6290</th>\n",
       "      <td>4290709089</td>\n",
       "      <td>4237840455</td>\n",
       "      <td>12</td>\n",
       "    </tr>\n",
       "  </tbody>\n",
       "</table>\n",
       "<p>24546 rows × 3 columns</p>\n",
       "</div>"
      ],
      "text/plain": [
       "        study_id   series_id slice\n",
       "0        4003253   702807833     8\n",
       "1        4003253  1054713880     4\n",
       "1        4003253  1054713880     5\n",
       "1        4003253  1054713880     6\n",
       "1        4003253  1054713880    11\n",
       "...          ...         ...   ...\n",
       "6289  4290709089  3390218084    21\n",
       "6290  4290709089  4237840455     4\n",
       "6290  4290709089  4237840455     5\n",
       "6290  4290709089  4237840455    11\n",
       "6290  4290709089  4237840455    12\n",
       "\n",
       "[24546 rows x 3 columns]"
      ]
     },
     "execution_count": 57,
     "metadata": {},
     "output_type": "execute_result"
    }
   ],
   "source": [
    "pos_slices"
   ]
  },
  {
   "cell_type": "code",
   "execution_count": 62,
   "id": "08d99e72-2769-4414-9afd-22259ca8ba71",
   "metadata": {},
   "outputs": [
    {
     "data": {
      "text/plain": [
       "3.6653157716987503"
      ]
     },
     "execution_count": 62,
     "metadata": {},
     "output_type": "execute_result"
    }
   ],
   "source": [
    "pos_slices.groupby('study_id').slice.nunique().mean()/3"
   ]
  },
  {
   "cell_type": "code",
   "execution_count": null,
   "id": "e618ea17-5196-405c-b0e7-f67b2c7a1ce5",
   "metadata": {},
   "outputs": [],
   "source": []
  },
  {
   "cell_type": "markdown",
   "id": "ce3abea7-c162-4b46-a24c-036e4d86c414",
   "metadata": {},
   "source": [
    "### train_df"
   ]
  },
  {
   "cell_type": "code",
   "execution_count": 42,
   "id": "ec40464e-2d48-418f-b13b-967f0211e837",
   "metadata": {},
   "outputs": [
    {
     "name": "stdout",
     "output_type": "stream",
     "text": [
      "condition\n",
      "Left Neural Foraminal Narrowing     9860\n",
      "Right Neural Foraminal Narrowing    9859\n",
      "Spinal Canal Stenosis               9753\n",
      "Right Subarticular Stenosis         9612\n",
      "Left Subarticular Stenosis          9608\n",
      "Name: count, dtype: int64\n",
      "--------------------------------------------------\n",
      "\n",
      "level\n",
      "L3/L4    9858\n",
      "L4/L5    9858\n",
      "L5/S1    9845\n",
      "L2/L3    9661\n",
      "L1/L2    9470\n",
      "Name: count, dtype: int64\n",
      "--------------------------------------------------\n",
      "\n"
     ]
    }
   ],
   "source": [
    "# look at categories\n",
    "for f in ['condition','level']:\n",
    "    print(coords_df[f].value_counts())\n",
    "    print('-'*50);print();"
   ]
  },
  {
   "cell_type": "code",
   "execution_count": 43,
   "id": "0341a9e2-6a5d-4133-9fb6-bc3823fd1200",
   "metadata": {},
   "outputs": [
    {
     "data": {
      "text/html": [
       "<div>\n",
       "<style scoped>\n",
       "    .dataframe tbody tr th:only-of-type {\n",
       "        vertical-align: middle;\n",
       "    }\n",
       "\n",
       "    .dataframe tbody tr th {\n",
       "        vertical-align: top;\n",
       "    }\n",
       "\n",
       "    .dataframe thead th {\n",
       "        text-align: right;\n",
       "    }\n",
       "</style>\n",
       "<table border=\"1\" class=\"dataframe\">\n",
       "  <thead>\n",
       "    <tr style=\"text-align: right;\">\n",
       "      <th>level</th>\n",
       "      <th>L1/L2</th>\n",
       "      <th>L2/L3</th>\n",
       "      <th>L3/L4</th>\n",
       "      <th>L4/L5</th>\n",
       "      <th>L5/S1</th>\n",
       "    </tr>\n",
       "    <tr>\n",
       "      <th>condition</th>\n",
       "      <th></th>\n",
       "      <th></th>\n",
       "      <th></th>\n",
       "      <th></th>\n",
       "      <th></th>\n",
       "    </tr>\n",
       "  </thead>\n",
       "  <tbody>\n",
       "    <tr>\n",
       "      <th>Left Neural Foraminal Narrowing</th>\n",
       "      <td>1972</td>\n",
       "      <td>1972</td>\n",
       "      <td>1972</td>\n",
       "      <td>1972</td>\n",
       "      <td>1972</td>\n",
       "    </tr>\n",
       "    <tr>\n",
       "      <th>Left Subarticular Stenosis</th>\n",
       "      <td>1810</td>\n",
       "      <td>1892</td>\n",
       "      <td>1971</td>\n",
       "      <td>1971</td>\n",
       "      <td>1964</td>\n",
       "    </tr>\n",
       "    <tr>\n",
       "      <th>Right Neural Foraminal Narrowing</th>\n",
       "      <td>1972</td>\n",
       "      <td>1972</td>\n",
       "      <td>1971</td>\n",
       "      <td>1972</td>\n",
       "      <td>1972</td>\n",
       "    </tr>\n",
       "    <tr>\n",
       "      <th>Right Subarticular Stenosis</th>\n",
       "      <td>1812</td>\n",
       "      <td>1891</td>\n",
       "      <td>1971</td>\n",
       "      <td>1971</td>\n",
       "      <td>1967</td>\n",
       "    </tr>\n",
       "    <tr>\n",
       "      <th>Spinal Canal Stenosis</th>\n",
       "      <td>1904</td>\n",
       "      <td>1934</td>\n",
       "      <td>1973</td>\n",
       "      <td>1972</td>\n",
       "      <td>1970</td>\n",
       "    </tr>\n",
       "  </tbody>\n",
       "</table>\n",
       "</div>"
      ],
      "text/plain": [
       "level                             L1/L2  L2/L3  L3/L4  L4/L5  L5/S1\n",
       "condition                                                          \n",
       "Left Neural Foraminal Narrowing    1972   1972   1972   1972   1972\n",
       "Left Subarticular Stenosis         1810   1892   1971   1971   1964\n",
       "Right Neural Foraminal Narrowing   1972   1972   1971   1972   1972\n",
       "Right Subarticular Stenosis        1812   1891   1971   1971   1967\n",
       "Spinal Canal Stenosis              1904   1934   1973   1972   1970"
      ]
     },
     "execution_count": 43,
     "metadata": {},
     "output_type": "execute_result"
    }
   ],
   "source": [
    "pd.crosstab(coords_df.condition, coords_df.level)"
   ]
  },
  {
   "cell_type": "code",
   "execution_count": null,
   "id": "6db52687-ec4a-47f1-bdce-096483aca648",
   "metadata": {},
   "outputs": [],
   "source": []
  },
  {
   "cell_type": "code",
   "execution_count": null,
   "id": "a52478b2-5b84-439d-b56b-e0051cdf6a4e",
   "metadata": {},
   "outputs": [],
   "source": []
  },
  {
   "cell_type": "markdown",
   "id": "a69da874-6f46-4f0f-9cfc-02285b878f34",
   "metadata": {},
   "source": [
    "### Files"
   ]
  },
  {
   "cell_type": "code",
   "execution_count": 12,
   "id": "f60a0125-db88-4c68-8015-3ceff1af4b2b",
   "metadata": {},
   "outputs": [
    {
     "data": {
      "text/plain": [
       "(147218, 5)"
      ]
     },
     "execution_count": 12,
     "metadata": {},
     "output_type": "execute_result"
    }
   ],
   "source": [
    "files_df = pd.read_csv(CFG.FILES_CSV)\n",
    "files_df.shape"
   ]
  },
  {
   "cell_type": "code",
   "execution_count": 13,
   "id": "26cd1053-8143-4750-8216-1606aebf38af",
   "metadata": {},
   "outputs": [
    {
     "data": {
      "text/html": [
       "<div>\n",
       "<style scoped>\n",
       "    .dataframe tbody tr th:only-of-type {\n",
       "        vertical-align: middle;\n",
       "    }\n",
       "\n",
       "    .dataframe tbody tr th {\n",
       "        vertical-align: top;\n",
       "    }\n",
       "\n",
       "    .dataframe thead th {\n",
       "        text-align: right;\n",
       "    }\n",
       "</style>\n",
       "<table border=\"1\" class=\"dataframe\">\n",
       "  <thead>\n",
       "    <tr style=\"text-align: right;\">\n",
       "      <th></th>\n",
       "      <th>patient</th>\n",
       "      <th>series</th>\n",
       "      <th>image</th>\n",
       "      <th>rows</th>\n",
       "      <th>columns</th>\n",
       "    </tr>\n",
       "  </thead>\n",
       "  <tbody>\n",
       "    <tr>\n",
       "      <th>0</th>\n",
       "      <td>100206310</td>\n",
       "      <td>1012284084</td>\n",
       "      <td>1</td>\n",
       "      <td>320</td>\n",
       "      <td>320</td>\n",
       "    </tr>\n",
       "    <tr>\n",
       "      <th>1</th>\n",
       "      <td>100206310</td>\n",
       "      <td>1012284084</td>\n",
       "      <td>10</td>\n",
       "      <td>320</td>\n",
       "      <td>320</td>\n",
       "    </tr>\n",
       "    <tr>\n",
       "      <th>2</th>\n",
       "      <td>100206310</td>\n",
       "      <td>1012284084</td>\n",
       "      <td>11</td>\n",
       "      <td>320</td>\n",
       "      <td>320</td>\n",
       "    </tr>\n",
       "  </tbody>\n",
       "</table>\n",
       "</div>"
      ],
      "text/plain": [
       "     patient      series  image  rows  columns\n",
       "0  100206310  1012284084      1   320      320\n",
       "1  100206310  1012284084     10   320      320\n",
       "2  100206310  1012284084     11   320      320"
      ]
     },
     "execution_count": 13,
     "metadata": {},
     "output_type": "execute_result"
    }
   ],
   "source": [
    "files_df.head(3)"
   ]
  },
  {
   "cell_type": "code",
   "execution_count": 18,
   "id": "c61e148d-3a82-433a-a030-37ff89141437",
   "metadata": {},
   "outputs": [
    {
     "data": {
      "text/plain": [
       "(5049, 16.63592087924031)"
      ]
     },
     "execution_count": 18,
     "metadata": {},
     "output_type": "execute_result"
    }
   ],
   "source": [
    "files_df.image.max(), files_df.image.mean()"
   ]
  },
  {
   "cell_type": "code",
   "execution_count": 47,
   "id": "984280f8-d896-4e7e-828c-d0ce008f12f2",
   "metadata": {},
   "outputs": [
    {
     "data": {
      "text/html": [
       "<div>\n",
       "<style scoped>\n",
       "    .dataframe tbody tr th:only-of-type {\n",
       "        vertical-align: middle;\n",
       "    }\n",
       "\n",
       "    .dataframe tbody tr th {\n",
       "        vertical-align: top;\n",
       "    }\n",
       "\n",
       "    .dataframe thead th {\n",
       "        text-align: right;\n",
       "    }\n",
       "</style>\n",
       "<table border=\"1\" class=\"dataframe\">\n",
       "  <thead>\n",
       "    <tr style=\"text-align: right;\">\n",
       "      <th></th>\n",
       "      <th>patient</th>\n",
       "      <th>series</th>\n",
       "      <th>image</th>\n",
       "      <th>rows</th>\n",
       "      <th>columns</th>\n",
       "    </tr>\n",
       "  </thead>\n",
       "  <tbody>\n",
       "    <tr>\n",
       "      <th>59719</th>\n",
       "      <td>2581283971</td>\n",
       "      <td>2683794967</td>\n",
       "      <td>5049</td>\n",
       "      <td>320</td>\n",
       "      <td>320</td>\n",
       "    </tr>\n",
       "  </tbody>\n",
       "</table>\n",
       "</div>"
      ],
      "text/plain": [
       "          patient      series  image  rows  columns\n",
       "59719  2581283971  2683794967   5049   320      320"
      ]
     },
     "execution_count": 47,
     "metadata": {},
     "output_type": "execute_result"
    }
   ],
   "source": [
    "# file names do not correspond to file count\n",
    "files_df[files_df.image == 5049]"
   ]
  },
  {
   "cell_type": "code",
   "execution_count": 46,
   "id": "0b539fcc-1f2c-46b9-994d-3a4521f6113a",
   "metadata": {},
   "outputs": [
    {
     "data": {
      "text/plain": [
       "(192, 23.390212901175722)"
      ]
     },
     "execution_count": 46,
     "metadata": {},
     "output_type": "execute_result"
    }
   ],
   "source": [
    "# max/mean images per patient\n",
    "files_df.groupby(['patient','series']).image.count().max(), files_df.groupby(['patient','series']).image.count().mean()"
   ]
  },
  {
   "cell_type": "code",
   "execution_count": 55,
   "id": "18b5e557-76fa-4592-8fff-450d30487d44",
   "metadata": {},
   "outputs": [
    {
     "data": {
      "text/plain": [
       "3.9017644253695756"
      ]
     },
     "execution_count": 55,
     "metadata": {},
     "output_type": "execute_result"
    }
   ],
   "source": [
    "# mean positive imgs per series\n",
    "coords_df.groupby(['study_id','series_id']).instance_number.nunique().mean()"
   ]
  },
  {
   "cell_type": "code",
   "execution_count": null,
   "id": "c873b1c8-6179-4e1d-b6a6-5b001069f0fa",
   "metadata": {},
   "outputs": [],
   "source": []
  },
  {
   "cell_type": "code",
   "execution_count": null,
   "id": "e2843743-507b-4f65-9f98-116e73929a82",
   "metadata": {},
   "outputs": [],
   "source": []
  },
  {
   "cell_type": "code",
   "execution_count": null,
   "id": "23150446-04b1-4c7d-a440-df023735ea3c",
   "metadata": {},
   "outputs": [],
   "source": []
  },
  {
   "cell_type": "code",
   "execution_count": null,
   "id": "bc960a50-34f0-4c26-9c60-0336a8a71977",
   "metadata": {},
   "outputs": [],
   "source": []
  }
 ],
 "metadata": {
  "kernelspec": {
   "display_name": "Python 3 (ipykernel)",
   "language": "python",
   "name": "python3"
  },
  "language_info": {
   "codemirror_mode": {
    "name": "ipython",
    "version": 3
   },
   "file_extension": ".py",
   "mimetype": "text/x-python",
   "name": "python",
   "nbconvert_exporter": "python",
   "pygments_lexer": "ipython3",
   "version": "3.10.14"
  }
 },
 "nbformat": 4,
 "nbformat_minor": 5
}
