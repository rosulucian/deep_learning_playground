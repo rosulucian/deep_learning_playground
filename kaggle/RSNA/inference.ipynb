{
 "cells": [
  {
   "cell_type": "code",
   "execution_count": 1,
   "id": "94998d9c-77e0-4a4b-a65c-04a3c2565b75",
   "metadata": {},
   "outputs": [],
   "source": [
    "%load_ext autoreload\n",
    "%autoreload 2"
   ]
  },
  {
   "cell_type": "markdown",
   "id": "07de2b8f-844e-4672-a41c-52beb2dae447",
   "metadata": {},
   "source": [
    "### Imports"
   ]
  },
  {
   "cell_type": "code",
   "execution_count": 2,
   "id": "6b9c245d-05d4-4ce0-8463-b4701d87ed55",
   "metadata": {},
   "outputs": [],
   "source": [
    "import os\n",
    "import time\n",
    "import wandb\n",
    "import torch\n",
    "import random\n",
    "import torchvision\n",
    "\n",
    "import numpy as np\n",
    "import pandas as pd\n",
    "import torchmetrics as tm \n",
    "# import plotly.express as px\n",
    "import pytorch_lightning as pl\n",
    "import matplotlib.pyplot as plt\n",
    "\n",
    "from torch import nn\n",
    "from pathlib import Path, PurePath\n",
    "from torch.utils.data import Dataset, DataLoader\n",
    "from torch.optim import Adam, AdamW, RMSprop # optmizers\n",
    "# from warmup_scheduler import GradualWarmupScheduler\n",
    "from sklearn.model_selection import train_test_split\n",
    "from torch.optim.lr_scheduler import CosineAnnealingLR, ReduceLROnPlateau # Learning rate schedulers\n",
    "\n",
    "import albumentations as A\n",
    "# from albumentations.pytorch import ToTensorV2\n",
    "\n",
    "from pytorch_lightning.loggers import WandbLogger\n",
    "from pytorch_lightning.callbacks import Callback, LearningRateMonitor\n",
    "from torchmetrics.wrappers import ClasswiseWrapper\n",
    "from torchmetrics import MetricCollection\n",
    "from torchmetrics.classification import MultilabelAccuracy, MultilabelPrecision, MultilabelRecall, MultilabelF1Score\n",
    "\n",
    "import timm"
   ]
  },
  {
   "cell_type": "code",
   "execution_count": 3,
   "id": "1ed3f2de-96ba-4f8e-9ba2-56b6a9ae1f03",
   "metadata": {},
   "outputs": [
    {
     "name": "stdout",
     "output_type": "stream",
     "text": [
      "timm version 1.0.7\n",
      "torch version 2.3.1\n"
     ]
    }
   ],
   "source": [
    "print('timm version', timm.__version__)\n",
    "print('torch version', torch.__version__)"
   ]
  },
  {
   "cell_type": "code",
   "execution_count": 4,
   "id": "ab5d0053-46c9-42af-b831-18e658830eff",
   "metadata": {},
   "outputs": [
    {
     "name": "stderr",
     "output_type": "stream",
     "text": [
      "wandb: Currently logged in as: rosu-lucian. Use `wandb login --relogin` to force relogin\n",
      "wandb: WARNING If you're specifying your api key in code, ensure this code is not shared publicly.\n",
      "wandb: WARNING Consider setting the WANDB_API_KEY environment variable, or running `wandb login` from the command line.\n",
      "wandb: Appending key for api.wandb.ai to your netrc file: C:\\Users\\Asus\\.netrc\n"
     ]
    },
    {
     "data": {
      "text/plain": [
       "True"
      ]
     },
     "execution_count": 4,
     "metadata": {},
     "output_type": "execute_result"
    }
   ],
   "source": [
    "wandb.login(key=os.getenv('wandb_api_key'))"
   ]
  },
  {
   "cell_type": "code",
   "execution_count": 5,
   "id": "28f4adb1-2f1b-4a20-a2bc-7e084943e493",
   "metadata": {},
   "outputs": [
    {
     "name": "stdout",
     "output_type": "stream",
     "text": [
      "cuda\n"
     ]
    }
   ],
   "source": [
    "# detect and define device \n",
    "device = torch.device('cuda' if torch.cuda.is_available() else 'cpu')\n",
    "\n",
    "print(device)"
   ]
  },
  {
   "cell_type": "code",
   "execution_count": 6,
   "id": "37c591ff-f6fc-49b5-bb2f-48fba3df6dac",
   "metadata": {},
   "outputs": [],
   "source": [
    "# for reproducibility\n",
    "def seed_torch(seed):\n",
    "    random.seed(seed)\n",
    "    os.environ['PYTHONHASHSEED'] = str(seed)\n",
    "    np.random.seed(seed)\n",
    "    torch.manual_seed(seed)\n",
    "    torch.cuda.manual_seed(seed)\n",
    "    torch.backends.cudnn.deterministic = True"
   ]
  },
  {
   "cell_type": "markdown",
   "id": "9d204a47-ec8f-43a3-b0e4-b2d1f57071c9",
   "metadata": {},
   "source": [
    "### Config"
   ]
  },
  {
   "cell_type": "code",
   "execution_count": 7,
   "id": "50f17de9-ed35-48ec-9f16-6dde1762dd00",
   "metadata": {},
   "outputs": [],
   "source": [
    "# TODO: maybe use condition and level for classes\n",
    "classes = ['SCS', 'RNFN', 'LNFN', 'LSS', 'RSS'] + ['H'] # add healthy class\n",
    "\n",
    "# classes = ['SCS', 'RNFN', 'LNFN'] + ['H'] # add healthy class\n",
    "\n",
    "# classes = ['LSS', 'RSS'] + ['H'] # add healthy class\n",
    "\n",
    "# classes = ['SCSL1L2', 'SCSL2L3', 'SCSL3L4', 'SCSL4L5', 'SCSL5S1', 'RNFNL4L5',\n",
    "#        'RNFNL5S1', 'RNFNL3L4', 'RNFNL1L2', 'RNFNL2L3', 'LNFNL1L2',\n",
    "#        'LNFNL4L5', 'LNFNL5S1', 'LNFNL2L3', 'LNFNL3L4', 'LSSL1L2',\n",
    "#        'RSSL1L2', 'LSSL2L3', 'RSSL2L3', 'LSSL3L4', 'RSSL3L4', 'LSSL4L5',\n",
    "#        'RSSL4L5', 'LSSL5S1', 'RSSL5S1'] + ['H']\n",
    "\n",
    "num_classes = len(classes)\n",
    "class2id = {b: i for i, b in enumerate(classes)}"
   ]
  },
  {
   "cell_type": "code",
   "execution_count": 8,
   "id": "2a88ef82-ca27-4626-8e23-9d6c39ed413f",
   "metadata": {},
   "outputs": [],
   "source": [
    "train_dir = Path('E:\\data\\RSNA2024')\n",
    "\n",
    "class CFG:\n",
    "\n",
    "    project = 'rsna-2'\n",
    "    comment = 'all-labels'\n",
    "\n",
    "    ### model\n",
    "    model_name = 'eca_nfnet_l0' # 'resnet34', 'resnet200d', 'efficientnet_b1_pruned', 'efficientnetv2_m', efficientnet_b7 \n",
    "\n",
    "    image_size = 256\n",
    "    \n",
    "    ROOT_FOLDER = train_dir\n",
    "    IMAGES_DIR = ROOT_FOLDER / 'train_images'\n",
    "    PNG_DIR = ROOT_FOLDER / f'pngs_{image_size}'\n",
    "    FILES_CSV = ROOT_FOLDER / 'train_files.csv'\n",
    "    TRAIN_CSV = ROOT_FOLDER / 'train.csv'\n",
    "    TRAIN_DESC_CSV = ROOT_FOLDER / 'train_series_descriptions.csv'\n",
    "    COORDS_CSV = ROOT_FOLDER / 'train_label_coordinates.csv'\n",
    "\n",
    "    RESULTS_DIR = train_dir / 'results'\n",
    "    CKPT_DIR = RESULTS_DIR / 'ckpt'\n",
    "\n",
    "    classes = classes\n",
    "\n",
    "    split_fraction = 0.95\n",
    "\n",
    "    MIXUP = False\n",
    "\n",
    "    ### training\n",
    "    BATCH_SIZE = 128\n",
    "    \n",
    "    ### Optimizer\n",
    "    N_EPOCHS = 10\n",
    "    USE_SCHD = False\n",
    "    WARM_EPOCHS = 3\n",
    "    COS_EPOCHS = N_EPOCHS - WARM_EPOCHS\n",
    "\n",
    "    # LEARNING_RATE = 5*1e-5 # best\n",
    "    LEARNING_RATE = 5e-5\n",
    "    \n",
    "    weight_decay = 1e-6 # for adamw\n",
    "\n",
    "    device = 'cuda' if torch.cuda.is_available() else 'cpu'\n",
    "\n",
    "    ### split train and validation sets\n",
    "    num_workers = 16\n",
    "\n",
    "    random_seed = 42\n",
    "\n",
    "CFG.N_LABELS = len(CFG.classes)\n",
    "\n",
    "seed_torch(seed = CFG.random_seed)"
   ]
  },
  {
   "cell_type": "code",
   "execution_count": 9,
   "id": "1ca8909d-bca7-41a4-8c2c-02679e626cf5",
   "metadata": {},
   "outputs": [
    {
     "data": {
      "text/plain": [
       "6"
      ]
     },
     "execution_count": 9,
     "metadata": {},
     "output_type": "execute_result"
    }
   ],
   "source": [
    "CFG.N_LABELS "
   ]
  },
  {
   "cell_type": "markdown",
   "id": "7986b07d-26fc-4516-b960-510a24466451",
   "metadata": {},
   "source": [
    "### Load data"
   ]
  },
  {
   "cell_type": "code",
   "execution_count": 10,
   "id": "dbcffb55-8b94-457b-b37c-c03b1bb2eff6",
   "metadata": {},
   "outputs": [
    {
     "data": {
      "text/plain": [
       "((1975, 26), (6294, 3), (48692, 18), (147218, 21))"
      ]
     },
     "execution_count": 10,
     "metadata": {},
     "output_type": "execute_result"
    }
   ],
   "source": [
    "train_df = pd.read_csv(CFG.TRAIN_CSV)\n",
    "train_desc_df = pd.read_csv(CFG.TRAIN_DESC_CSV)\n",
    "coords_df = pd.read_csv(CFG.COORDS_CSV)\n",
    "files_df = pd.read_csv(CFG.FILES_CSV)\n",
    "\n",
    "train_df.shape, train_desc_df.shape, coords_df.shape, files_df.shape"
   ]
  },
  {
   "cell_type": "code",
   "execution_count": 11,
   "id": "7c8fb69c-4b8a-4e5d-9b14-4f105d14e76f",
   "metadata": {},
   "outputs": [
    {
     "data": {
      "text/html": [
       "<div>\n",
       "<style scoped>\n",
       "    .dataframe tbody tr th:only-of-type {\n",
       "        vertical-align: middle;\n",
       "    }\n",
       "\n",
       "    .dataframe tbody tr th {\n",
       "        vertical-align: top;\n",
       "    }\n",
       "\n",
       "    .dataframe thead th {\n",
       "        text-align: right;\n",
       "    }\n",
       "</style>\n",
       "<table border=\"1\" class=\"dataframe\">\n",
       "  <thead>\n",
       "    <tr style=\"text-align: right;\">\n",
       "      <th></th>\n",
       "      <th>study_id</th>\n",
       "      <th>SCSL1L2</th>\n",
       "      <th>SCSL2L3</th>\n",
       "      <th>SCSL3L4</th>\n",
       "      <th>SCSL4L5</th>\n",
       "      <th>SCSL5S1</th>\n",
       "      <th>LNFNL1L2</th>\n",
       "      <th>LNFNL2L3</th>\n",
       "      <th>LNFNL3L4</th>\n",
       "      <th>LNFNL4L5</th>\n",
       "      <th>...</th>\n",
       "      <th>LSSL1L2</th>\n",
       "      <th>LSSL2L3</th>\n",
       "      <th>LSSL3L4</th>\n",
       "      <th>LSSL4L5</th>\n",
       "      <th>LSSL5S1</th>\n",
       "      <th>RSSL1L2</th>\n",
       "      <th>RSSL2L3</th>\n",
       "      <th>RSSL3L4</th>\n",
       "      <th>RSSL4L5</th>\n",
       "      <th>RSSL5S1</th>\n",
       "    </tr>\n",
       "  </thead>\n",
       "  <tbody>\n",
       "    <tr>\n",
       "      <th>1825</th>\n",
       "      <td>3956571539</td>\n",
       "      <td>N</td>\n",
       "      <td>N</td>\n",
       "      <td>N</td>\n",
       "      <td>N</td>\n",
       "      <td>N</td>\n",
       "      <td>N</td>\n",
       "      <td>N</td>\n",
       "      <td>N</td>\n",
       "      <td>M</td>\n",
       "      <td>...</td>\n",
       "      <td>N</td>\n",
       "      <td>N</td>\n",
       "      <td>N</td>\n",
       "      <td>M</td>\n",
       "      <td>N</td>\n",
       "      <td>N</td>\n",
       "      <td>N</td>\n",
       "      <td>N</td>\n",
       "      <td>N</td>\n",
       "      <td>M</td>\n",
       "    </tr>\n",
       "    <tr>\n",
       "      <th>1735</th>\n",
       "      <td>3768387090</td>\n",
       "      <td>N</td>\n",
       "      <td>N</td>\n",
       "      <td>N</td>\n",
       "      <td>M</td>\n",
       "      <td>N</td>\n",
       "      <td>N</td>\n",
       "      <td>N</td>\n",
       "      <td>N</td>\n",
       "      <td>N</td>\n",
       "      <td>...</td>\n",
       "      <td>N</td>\n",
       "      <td>N</td>\n",
       "      <td>N</td>\n",
       "      <td>S</td>\n",
       "      <td>N</td>\n",
       "      <td>N</td>\n",
       "      <td>N</td>\n",
       "      <td>N</td>\n",
       "      <td>N</td>\n",
       "      <td>N</td>\n",
       "    </tr>\n",
       "    <tr>\n",
       "      <th>678</th>\n",
       "      <td>1504031267</td>\n",
       "      <td>N</td>\n",
       "      <td>N</td>\n",
       "      <td>N</td>\n",
       "      <td>N</td>\n",
       "      <td>N</td>\n",
       "      <td>N</td>\n",
       "      <td>N</td>\n",
       "      <td>M</td>\n",
       "      <td>M</td>\n",
       "      <td>...</td>\n",
       "      <td>N</td>\n",
       "      <td>M</td>\n",
       "      <td>M</td>\n",
       "      <td>N</td>\n",
       "      <td>N</td>\n",
       "      <td>N</td>\n",
       "      <td>N</td>\n",
       "      <td>N</td>\n",
       "      <td>N</td>\n",
       "      <td>N</td>\n",
       "    </tr>\n",
       "    <tr>\n",
       "      <th>351</th>\n",
       "      <td>783154228</td>\n",
       "      <td>N</td>\n",
       "      <td>M</td>\n",
       "      <td>S</td>\n",
       "      <td>N</td>\n",
       "      <td>N</td>\n",
       "      <td>M</td>\n",
       "      <td>S</td>\n",
       "      <td>M</td>\n",
       "      <td>S</td>\n",
       "      <td>...</td>\n",
       "      <td>N</td>\n",
       "      <td>M</td>\n",
       "      <td>M</td>\n",
       "      <td>N</td>\n",
       "      <td>N</td>\n",
       "      <td>N</td>\n",
       "      <td>M</td>\n",
       "      <td>M</td>\n",
       "      <td>M</td>\n",
       "      <td>M</td>\n",
       "    </tr>\n",
       "    <tr>\n",
       "      <th>1791</th>\n",
       "      <td>3884015124</td>\n",
       "      <td>M</td>\n",
       "      <td>N</td>\n",
       "      <td>M</td>\n",
       "      <td>N</td>\n",
       "      <td>N</td>\n",
       "      <td>N</td>\n",
       "      <td>N</td>\n",
       "      <td>N</td>\n",
       "      <td>M</td>\n",
       "      <td>...</td>\n",
       "      <td>M</td>\n",
       "      <td>N</td>\n",
       "      <td>N</td>\n",
       "      <td>S</td>\n",
       "      <td>S</td>\n",
       "      <td>M</td>\n",
       "      <td>N</td>\n",
       "      <td>M</td>\n",
       "      <td>M</td>\n",
       "      <td>M</td>\n",
       "    </tr>\n",
       "  </tbody>\n",
       "</table>\n",
       "<p>5 rows × 26 columns</p>\n",
       "</div>"
      ],
      "text/plain": [
       "        study_id SCSL1L2 SCSL2L3 SCSL3L4 SCSL4L5 SCSL5S1 LNFNL1L2 LNFNL2L3  \\\n",
       "1825  3956571539       N       N       N       N       N        N        N   \n",
       "1735  3768387090       N       N       N       M       N        N        N   \n",
       "678   1504031267       N       N       N       N       N        N        N   \n",
       "351    783154228       N       M       S       N       N        M        S   \n",
       "1791  3884015124       M       N       M       N       N        N        N   \n",
       "\n",
       "     LNFNL3L4 LNFNL4L5  ... LSSL1L2 LSSL2L3 LSSL3L4 LSSL4L5 LSSL5S1 RSSL1L2  \\\n",
       "1825        N        M  ...       N       N       N       M       N       N   \n",
       "1735        N        N  ...       N       N       N       S       N       N   \n",
       "678         M        M  ...       N       M       M       N       N       N   \n",
       "351         M        S  ...       N       M       M       N       N       N   \n",
       "1791        N        M  ...       M       N       N       S       S       M   \n",
       "\n",
       "     RSSL2L3 RSSL3L4 RSSL4L5 RSSL5S1  \n",
       "1825       N       N       N       M  \n",
       "1735       N       N       N       N  \n",
       "678        N       N       N       N  \n",
       "351        M       M       M       M  \n",
       "1791       N       M       M       M  \n",
       "\n",
       "[5 rows x 26 columns]"
      ]
     },
     "execution_count": 11,
     "metadata": {},
     "output_type": "execute_result"
    }
   ],
   "source": [
    "train_df.sample(5)"
   ]
  },
  {
   "cell_type": "code",
   "execution_count": 12,
   "id": "dab0492a-5fda-4eec-a0e9-01e41b9a4d1d",
   "metadata": {},
   "outputs": [
    {
     "data": {
      "text/html": [
       "<div>\n",
       "<style scoped>\n",
       "    .dataframe tbody tr th:only-of-type {\n",
       "        vertical-align: middle;\n",
       "    }\n",
       "\n",
       "    .dataframe tbody tr th {\n",
       "        vertical-align: top;\n",
       "    }\n",
       "\n",
       "    .dataframe thead th {\n",
       "        text-align: right;\n",
       "    }\n",
       "</style>\n",
       "<table border=\"1\" class=\"dataframe\">\n",
       "  <thead>\n",
       "    <tr style=\"text-align: right;\">\n",
       "      <th></th>\n",
       "      <th>study_id</th>\n",
       "      <th>series_id</th>\n",
       "      <th>instance</th>\n",
       "      <th>condition</th>\n",
       "      <th>level</th>\n",
       "      <th>x</th>\n",
       "      <th>y</th>\n",
       "      <th>ss_id</th>\n",
       "      <th>instance_id</th>\n",
       "      <th>cl</th>\n",
       "      <th>series_description</th>\n",
       "      <th>rows</th>\n",
       "      <th>columns</th>\n",
       "      <th>filename</th>\n",
       "      <th>patientposition</th>\n",
       "      <th>x_perc</th>\n",
       "      <th>y_perc</th>\n",
       "      <th>inst_perc</th>\n",
       "    </tr>\n",
       "  </thead>\n",
       "  <tbody>\n",
       "    <tr>\n",
       "      <th>9389</th>\n",
       "      <td>838134337</td>\n",
       "      <td>1345841225</td>\n",
       "      <td>8</td>\n",
       "      <td>RNFN</td>\n",
       "      <td>L1L2</td>\n",
       "      <td>299.627093</td>\n",
       "      <td>141.857522</td>\n",
       "      <td>838134337_1345841225</td>\n",
       "      <td>838134337_1345841225_8</td>\n",
       "      <td>RNFNL1L2</td>\n",
       "      <td>Sagittal T1</td>\n",
       "      <td>512</td>\n",
       "      <td>512</td>\n",
       "      <td>E:\\data\\RSNA2024\\pngs_256\\838134337_1345841225...</td>\n",
       "      <td>HFS</td>\n",
       "      <td>0.585209</td>\n",
       "      <td>0.277065</td>\n",
       "      <td>0.350000</td>\n",
       "    </tr>\n",
       "    <tr>\n",
       "      <th>34671</th>\n",
       "      <td>3068697362</td>\n",
       "      <td>598012396</td>\n",
       "      <td>5</td>\n",
       "      <td>LNFN</td>\n",
       "      <td>L5S1</td>\n",
       "      <td>132.562118</td>\n",
       "      <td>195.910387</td>\n",
       "      <td>3068697362_598012396</td>\n",
       "      <td>3068697362_598012396_5</td>\n",
       "      <td>LNFNL5S1</td>\n",
       "      <td>Sagittal T1</td>\n",
       "      <td>256</td>\n",
       "      <td>256</td>\n",
       "      <td>E:\\data\\RSNA2024\\pngs_256\\3068697362_598012396...</td>\n",
       "      <td>HFS</td>\n",
       "      <td>0.517821</td>\n",
       "      <td>0.765275</td>\n",
       "      <td>0.222222</td>\n",
       "    </tr>\n",
       "  </tbody>\n",
       "</table>\n",
       "</div>"
      ],
      "text/plain": [
       "         study_id   series_id  instance condition level           x  \\\n",
       "9389    838134337  1345841225         8      RNFN  L1L2  299.627093   \n",
       "34671  3068697362   598012396         5      LNFN  L5S1  132.562118   \n",
       "\n",
       "                y                 ss_id             instance_id        cl  \\\n",
       "9389   141.857522  838134337_1345841225  838134337_1345841225_8  RNFNL1L2   \n",
       "34671  195.910387  3068697362_598012396  3068697362_598012396_5  LNFNL5S1   \n",
       "\n",
       "      series_description  rows  columns  \\\n",
       "9389         Sagittal T1   512      512   \n",
       "34671        Sagittal T1   256      256   \n",
       "\n",
       "                                                filename patientposition  \\\n",
       "9389   E:\\data\\RSNA2024\\pngs_256\\838134337_1345841225...             HFS   \n",
       "34671  E:\\data\\RSNA2024\\pngs_256\\3068697362_598012396...             HFS   \n",
       "\n",
       "         x_perc    y_perc  inst_perc  \n",
       "9389   0.585209  0.277065   0.350000  \n",
       "34671  0.517821  0.765275   0.222222  "
      ]
     },
     "execution_count": 12,
     "metadata": {},
     "output_type": "execute_result"
    }
   ],
   "source": [
    "coords_df.sample(2)"
   ]
  },
  {
   "cell_type": "code",
   "execution_count": 13,
   "id": "14952793-0c6d-41c7-b499-ec7de1626ec4",
   "metadata": {},
   "outputs": [
    {
     "data": {
      "text/plain": [
       "array(['SCS', 'RNFN', 'LNFN', 'LSS', 'RSS'], dtype=object)"
      ]
     },
     "execution_count": 13,
     "metadata": {},
     "output_type": "execute_result"
    }
   ],
   "source": [
    "coords_df.condition.unique()"
   ]
  },
  {
   "cell_type": "code",
   "execution_count": 14,
   "id": "a6001622-409c-458a-9c0b-ca67bf4cfd51",
   "metadata": {},
   "outputs": [
    {
     "data": {
      "text/plain": [
       "array(['SCSL1L2', 'SCSL2L3', 'SCSL3L4', 'SCSL4L5', 'SCSL5S1', 'RNFNL4L5',\n",
       "       'RNFNL5S1', 'RNFNL3L4', 'RNFNL1L2', 'RNFNL2L3', 'LNFNL1L2',\n",
       "       'LNFNL4L5', 'LNFNL5S1', 'LNFNL2L3', 'LNFNL3L4', 'LSSL1L2',\n",
       "       'RSSL1L2', 'LSSL2L3', 'RSSL2L3', 'LSSL3L4', 'RSSL3L4', 'LSSL4L5',\n",
       "       'RSSL4L5', 'LSSL5S1', 'RSSL5S1'], dtype=object)"
      ]
     },
     "execution_count": 14,
     "metadata": {},
     "output_type": "execute_result"
    }
   ],
   "source": [
    "coords_df.cl.unique()"
   ]
  },
  {
   "cell_type": "code",
   "execution_count": 15,
   "id": "32cba838-ac37-4132-8798-4cd30e915717",
   "metadata": {},
   "outputs": [],
   "source": [
    "# coords_df.groupby(['study_id','series_id']).instance.count()"
   ]
  },
  {
   "cell_type": "code",
   "execution_count": 16,
   "id": "b25f6d1b-5457-4192-886e-67196f1dac60",
   "metadata": {},
   "outputs": [
    {
     "data": {
      "text/html": [
       "<div>\n",
       "<style scoped>\n",
       "    .dataframe tbody tr th:only-of-type {\n",
       "        vertical-align: middle;\n",
       "    }\n",
       "\n",
       "    .dataframe tbody tr th {\n",
       "        vertical-align: top;\n",
       "    }\n",
       "\n",
       "    .dataframe thead th {\n",
       "        text-align: right;\n",
       "    }\n",
       "</style>\n",
       "<table border=\"1\" class=\"dataframe\">\n",
       "  <thead>\n",
       "    <tr style=\"text-align: right;\">\n",
       "      <th></th>\n",
       "      <th>study_id</th>\n",
       "      <th>series_id</th>\n",
       "      <th>series_description</th>\n",
       "    </tr>\n",
       "  </thead>\n",
       "  <tbody>\n",
       "    <tr>\n",
       "      <th>3465</th>\n",
       "      <td>2403128572</td>\n",
       "      <td>1121608562</td>\n",
       "      <td>Sagittal T2/STIR</td>\n",
       "    </tr>\n",
       "    <tr>\n",
       "      <th>2413</th>\n",
       "      <td>1671291853</td>\n",
       "      <td>1440089134</td>\n",
       "      <td>Axial T2</td>\n",
       "    </tr>\n",
       "    <tr>\n",
       "      <th>5109</th>\n",
       "      <td>3480977444</td>\n",
       "      <td>2937779262</td>\n",
       "      <td>Axial T2</td>\n",
       "    </tr>\n",
       "    <tr>\n",
       "      <th>3727</th>\n",
       "      <td>2568819355</td>\n",
       "      <td>3366910731</td>\n",
       "      <td>Axial T2</td>\n",
       "    </tr>\n",
       "    <tr>\n",
       "      <th>5996</th>\n",
       "      <td>4095029738</td>\n",
       "      <td>3276164246</td>\n",
       "      <td>Sagittal T2/STIR</td>\n",
       "    </tr>\n",
       "  </tbody>\n",
       "</table>\n",
       "</div>"
      ],
      "text/plain": [
       "        study_id   series_id series_description\n",
       "3465  2403128572  1121608562   Sagittal T2/STIR\n",
       "2413  1671291853  1440089134           Axial T2\n",
       "5109  3480977444  2937779262           Axial T2\n",
       "3727  2568819355  3366910731           Axial T2\n",
       "5996  4095029738  3276164246   Sagittal T2/STIR"
      ]
     },
     "execution_count": 16,
     "metadata": {},
     "output_type": "execute_result"
    }
   ],
   "source": [
    "train_desc_df.sample(5)"
   ]
  },
  {
   "cell_type": "code",
   "execution_count": 17,
   "id": "0aecf1f7-deae-4c20-80c2-e63a58b86e8a",
   "metadata": {},
   "outputs": [
    {
     "data": {
      "text/html": [
       "<div>\n",
       "<style scoped>\n",
       "    .dataframe tbody tr th:only-of-type {\n",
       "        vertical-align: middle;\n",
       "    }\n",
       "\n",
       "    .dataframe tbody tr th {\n",
       "        vertical-align: top;\n",
       "    }\n",
       "\n",
       "    .dataframe thead th {\n",
       "        text-align: right;\n",
       "    }\n",
       "</style>\n",
       "<table border=\"1\" class=\"dataframe\">\n",
       "  <thead>\n",
       "    <tr style=\"text-align: right;\">\n",
       "      <th></th>\n",
       "      <th>study_id</th>\n",
       "      <th>series_id</th>\n",
       "      <th>image</th>\n",
       "      <th>proj</th>\n",
       "      <th>instancenumber</th>\n",
       "      <th>rows</th>\n",
       "      <th>columns</th>\n",
       "      <th>slicethickness</th>\n",
       "      <th>spacingbetweenslices</th>\n",
       "      <th>patientposition</th>\n",
       "      <th>...</th>\n",
       "      <th>ss_id</th>\n",
       "      <th>instance_id</th>\n",
       "      <th>filename</th>\n",
       "      <th>series_description</th>\n",
       "      <th>cl</th>\n",
       "      <th>condition</th>\n",
       "      <th>inst_min</th>\n",
       "      <th>inst_max</th>\n",
       "      <th>inst</th>\n",
       "      <th>inst_perc</th>\n",
       "    </tr>\n",
       "  </thead>\n",
       "  <tbody>\n",
       "    <tr>\n",
       "      <th>14665</th>\n",
       "      <td>1383495058</td>\n",
       "      <td>2595899035</td>\n",
       "      <td>42</td>\n",
       "      <td>-614</td>\n",
       "      <td>42</td>\n",
       "      <td>640</td>\n",
       "      <td>640</td>\n",
       "      <td>3.5</td>\n",
       "      <td>3.85</td>\n",
       "      <td>HFS</td>\n",
       "      <td>...</td>\n",
       "      <td>1383495058_2595899035</td>\n",
       "      <td>1383495058_2595899035_42</td>\n",
       "      <td>E:\\data\\RSNA2024\\pngs_256\\1383495058_259589903...</td>\n",
       "      <td>Axial T2</td>\n",
       "      <td>H</td>\n",
       "      <td>H</td>\n",
       "      <td>1</td>\n",
       "      <td>53</td>\n",
       "      <td>41</td>\n",
       "      <td>0.773585</td>\n",
       "    </tr>\n",
       "    <tr>\n",
       "      <th>13125</th>\n",
       "      <td>1336412861</td>\n",
       "      <td>1402829528</td>\n",
       "      <td>17</td>\n",
       "      <td>-28</td>\n",
       "      <td>17</td>\n",
       "      <td>448</td>\n",
       "      <td>448</td>\n",
       "      <td>3.0</td>\n",
       "      <td>3.60</td>\n",
       "      <td>HFS</td>\n",
       "      <td>...</td>\n",
       "      <td>1336412861_1402829528</td>\n",
       "      <td>1336412861_1402829528_17</td>\n",
       "      <td>E:\\data\\RSNA2024\\pngs_256\\1336412861_140282952...</td>\n",
       "      <td>Sagittal T1</td>\n",
       "      <td>H</td>\n",
       "      <td>H</td>\n",
       "      <td>1</td>\n",
       "      <td>21</td>\n",
       "      <td>16</td>\n",
       "      <td>0.761905</td>\n",
       "    </tr>\n",
       "    <tr>\n",
       "      <th>26491</th>\n",
       "      <td>1716586508</td>\n",
       "      <td>3464148753</td>\n",
       "      <td>8</td>\n",
       "      <td>107</td>\n",
       "      <td>8</td>\n",
       "      <td>360</td>\n",
       "      <td>384</td>\n",
       "      <td>4.0</td>\n",
       "      <td>4.92</td>\n",
       "      <td>HFS</td>\n",
       "      <td>...</td>\n",
       "      <td>1716586508_3464148753</td>\n",
       "      <td>1716586508_3464148753_8</td>\n",
       "      <td>E:\\data\\RSNA2024\\pngs_256\\1716586508_346414875...</td>\n",
       "      <td>Axial T2</td>\n",
       "      <td>H</td>\n",
       "      <td>H</td>\n",
       "      <td>1</td>\n",
       "      <td>23</td>\n",
       "      <td>7</td>\n",
       "      <td>0.304348</td>\n",
       "    </tr>\n",
       "  </tbody>\n",
       "</table>\n",
       "<p>3 rows × 21 columns</p>\n",
       "</div>"
      ],
      "text/plain": [
       "         study_id   series_id  image  proj  instancenumber  rows  columns  \\\n",
       "14665  1383495058  2595899035     42  -614              42   640      640   \n",
       "13125  1336412861  1402829528     17   -28              17   448      448   \n",
       "26491  1716586508  3464148753      8   107               8   360      384   \n",
       "\n",
       "       slicethickness  spacingbetweenslices patientposition  ...  \\\n",
       "14665             3.5                  3.85             HFS  ...   \n",
       "13125             3.0                  3.60             HFS  ...   \n",
       "26491             4.0                  4.92             HFS  ...   \n",
       "\n",
       "                       ss_id               instance_id  \\\n",
       "14665  1383495058_2595899035  1383495058_2595899035_42   \n",
       "13125  1336412861_1402829528  1336412861_1402829528_17   \n",
       "26491  1716586508_3464148753   1716586508_3464148753_8   \n",
       "\n",
       "                                                filename series_description  \\\n",
       "14665  E:\\data\\RSNA2024\\pngs_256\\1383495058_259589903...           Axial T2   \n",
       "13125  E:\\data\\RSNA2024\\pngs_256\\1336412861_140282952...        Sagittal T1   \n",
       "26491  E:\\data\\RSNA2024\\pngs_256\\1716586508_346414875...           Axial T2   \n",
       "\n",
       "      cl condition inst_min  inst_max  inst  inst_perc  \n",
       "14665  H         H        1        53    41   0.773585  \n",
       "13125  H         H        1        21    16   0.761905  \n",
       "26491  H         H        1        23     7   0.304348  \n",
       "\n",
       "[3 rows x 21 columns]"
      ]
     },
     "execution_count": 17,
     "metadata": {},
     "output_type": "execute_result"
    }
   ],
   "source": [
    "files_df.sample(3)"
   ]
  },
  {
   "cell_type": "code",
   "execution_count": 18,
   "id": "ef87e649-93e0-4ff0-b267-cbf154535c8d",
   "metadata": {},
   "outputs": [
    {
     "data": {
      "text/plain": [
       "(147218, 21)"
      ]
     },
     "execution_count": 18,
     "metadata": {},
     "output_type": "execute_result"
    }
   ],
   "source": [
    "files_df.shape"
   ]
  },
  {
   "cell_type": "code",
   "execution_count": 19,
   "id": "128955be-0698-4c1e-bdf5-4f26b3d47b5a",
   "metadata": {},
   "outputs": [
    {
     "data": {
      "text/plain": [
       "(24546, 6291, 147218)"
      ]
     },
     "execution_count": 19,
     "metadata": {},
     "output_type": "execute_result"
    }
   ],
   "source": [
    "# labels, potive imgs, total imgs\n",
    "coords_df.instance_id.nunique(), coords_df.ss_id.nunique(), files_df.shape[0]"
   ]
  },
  {
   "cell_type": "code",
   "execution_count": 20,
   "id": "06664a85-a3ab-4bb9-8e60-c34e9fdc53c5",
   "metadata": {},
   "outputs": [
    {
     "data": {
      "text/html": [
       "<div>\n",
       "<style scoped>\n",
       "    .dataframe tbody tr th:only-of-type {\n",
       "        vertical-align: middle;\n",
       "    }\n",
       "\n",
       "    .dataframe tbody tr th {\n",
       "        vertical-align: top;\n",
       "    }\n",
       "\n",
       "    .dataframe thead th {\n",
       "        text-align: right;\n",
       "    }\n",
       "</style>\n",
       "<table border=\"1\" class=\"dataframe\">\n",
       "  <thead>\n",
       "    <tr style=\"text-align: right;\">\n",
       "      <th></th>\n",
       "      <th>study_id</th>\n",
       "      <th>series_id</th>\n",
       "      <th>instance</th>\n",
       "      <th>condition</th>\n",
       "      <th>level</th>\n",
       "      <th>x</th>\n",
       "      <th>y</th>\n",
       "      <th>ss_id</th>\n",
       "      <th>instance_id</th>\n",
       "      <th>cl</th>\n",
       "      <th>series_description</th>\n",
       "      <th>rows</th>\n",
       "      <th>columns</th>\n",
       "      <th>filename</th>\n",
       "      <th>patientposition</th>\n",
       "      <th>x_perc</th>\n",
       "      <th>y_perc</th>\n",
       "      <th>inst_perc</th>\n",
       "    </tr>\n",
       "  </thead>\n",
       "  <tbody>\n",
       "    <tr>\n",
       "      <th>34000</th>\n",
       "      <td>3010856283</td>\n",
       "      <td>3908286977</td>\n",
       "      <td>9</td>\n",
       "      <td>SCS</td>\n",
       "      <td>L3L4</td>\n",
       "      <td>167.832287</td>\n",
       "      <td>148.588357</td>\n",
       "      <td>3010856283_3908286977</td>\n",
       "      <td>3010856283_3908286977_9</td>\n",
       "      <td>SCSL3L4</td>\n",
       "      <td>Sagittal T2/STIR</td>\n",
       "      <td>320</td>\n",
       "      <td>320</td>\n",
       "      <td>E:\\data\\RSNA2024\\pngs_256\\3010856283_390828697...</td>\n",
       "      <td>HFS</td>\n",
       "      <td>0.524476</td>\n",
       "      <td>0.464339</td>\n",
       "      <td>0.470588</td>\n",
       "    </tr>\n",
       "    <tr>\n",
       "      <th>35159</th>\n",
       "      <td>3127048494</td>\n",
       "      <td>4135498856</td>\n",
       "      <td>10</td>\n",
       "      <td>LSS</td>\n",
       "      <td>L3L4</td>\n",
       "      <td>274.673837</td>\n",
       "      <td>262.827798</td>\n",
       "      <td>3127048494_4135498856</td>\n",
       "      <td>3127048494_4135498856_10</td>\n",
       "      <td>LSSL3L4</td>\n",
       "      <td>Axial T2</td>\n",
       "      <td>512</td>\n",
       "      <td>512</td>\n",
       "      <td>E:\\data\\RSNA2024\\pngs_256\\3127048494_413549885...</td>\n",
       "      <td>HFS</td>\n",
       "      <td>0.536472</td>\n",
       "      <td>0.513336</td>\n",
       "      <td>0.450000</td>\n",
       "    </tr>\n",
       "    <tr>\n",
       "      <th>35173</th>\n",
       "      <td>3128795155</td>\n",
       "      <td>483456514</td>\n",
       "      <td>6</td>\n",
       "      <td>RNFN</td>\n",
       "      <td>L3L4</td>\n",
       "      <td>224.246055</td>\n",
       "      <td>234.605452</td>\n",
       "      <td>3128795155_483456514</td>\n",
       "      <td>3128795155_483456514_6</td>\n",
       "      <td>RNFNL3L4</td>\n",
       "      <td>Sagittal T1</td>\n",
       "      <td>448</td>\n",
       "      <td>448</td>\n",
       "      <td>E:\\data\\RSNA2024\\pngs_256\\3128795155_483456514...</td>\n",
       "      <td>HFS</td>\n",
       "      <td>0.500549</td>\n",
       "      <td>0.523673</td>\n",
       "      <td>0.238095</td>\n",
       "    </tr>\n",
       "  </tbody>\n",
       "</table>\n",
       "</div>"
      ],
      "text/plain": [
       "         study_id   series_id  instance condition level           x  \\\n",
       "34000  3010856283  3908286977         9       SCS  L3L4  167.832287   \n",
       "35159  3127048494  4135498856        10       LSS  L3L4  274.673837   \n",
       "35173  3128795155   483456514         6      RNFN  L3L4  224.246055   \n",
       "\n",
       "                y                  ss_id               instance_id        cl  \\\n",
       "34000  148.588357  3010856283_3908286977   3010856283_3908286977_9   SCSL3L4   \n",
       "35159  262.827798  3127048494_4135498856  3127048494_4135498856_10   LSSL3L4   \n",
       "35173  234.605452   3128795155_483456514    3128795155_483456514_6  RNFNL3L4   \n",
       "\n",
       "      series_description  rows  columns  \\\n",
       "34000   Sagittal T2/STIR   320      320   \n",
       "35159           Axial T2   512      512   \n",
       "35173        Sagittal T1   448      448   \n",
       "\n",
       "                                                filename patientposition  \\\n",
       "34000  E:\\data\\RSNA2024\\pngs_256\\3010856283_390828697...             HFS   \n",
       "35159  E:\\data\\RSNA2024\\pngs_256\\3127048494_413549885...             HFS   \n",
       "35173  E:\\data\\RSNA2024\\pngs_256\\3128795155_483456514...             HFS   \n",
       "\n",
       "         x_perc    y_perc  inst_perc  \n",
       "34000  0.524476  0.464339   0.470588  \n",
       "35159  0.536472  0.513336   0.450000  \n",
       "35173  0.500549  0.523673   0.238095  "
      ]
     },
     "execution_count": 20,
     "metadata": {},
     "output_type": "execute_result"
    }
   ],
   "source": [
    "coords_df.sample(3)"
   ]
  },
  {
   "cell_type": "code",
   "execution_count": null,
   "id": "842a0bd0-0f26-4523-8ce9-3f20b3328b07",
   "metadata": {},
   "outputs": [],
   "source": []
  },
  {
   "cell_type": "code",
   "execution_count": 21,
   "id": "26d9d011-fc2e-46e0-81df-ff88b1bf4944",
   "metadata": {},
   "outputs": [
    {
     "data": {
      "text/plain": [
       "((147218, 21), (48692, 18))"
      ]
     },
     "execution_count": 21,
     "metadata": {},
     "output_type": "execute_result"
    }
   ],
   "source": [
    "files_df.shape, coords_df.shape"
   ]
  },
  {
   "cell_type": "code",
   "execution_count": 22,
   "id": "2f8833fa-9464-4ed0-9106-c292394aad9f",
   "metadata": {},
   "outputs": [
    {
     "data": {
      "text/plain": [
       "(24546, 24546)"
      ]
     },
     "execution_count": 22,
     "metadata": {},
     "output_type": "execute_result"
    }
   ],
   "source": [
    "coords_df.instance_id.nunique(), coords_df.filename.nunique()"
   ]
  },
  {
   "cell_type": "code",
   "execution_count": 23,
   "id": "443e8317-70ae-4983-a9ec-9daef8e3b156",
   "metadata": {},
   "outputs": [
    {
     "data": {
      "text/plain": [
       "(1, 10, 1.983704065835574)"
      ]
     },
     "execution_count": 23,
     "metadata": {},
     "output_type": "execute_result"
    }
   ],
   "source": [
    "# conditions per file\n",
    "grp = coords_df.groupby('instance_id').condition\n",
    "grp.count().min(), grp.count().max(), grp.count().mean()"
   ]
  },
  {
   "cell_type": "code",
   "execution_count": 24,
   "id": "6253049a-244e-4e6a-baf8-b08605a7be41",
   "metadata": {},
   "outputs": [
    {
     "data": {
      "text/html": [
       "<div>\n",
       "<style scoped>\n",
       "    .dataframe tbody tr th:only-of-type {\n",
       "        vertical-align: middle;\n",
       "    }\n",
       "\n",
       "    .dataframe tbody tr th {\n",
       "        vertical-align: top;\n",
       "    }\n",
       "\n",
       "    .dataframe thead th {\n",
       "        text-align: right;\n",
       "    }\n",
       "</style>\n",
       "<table border=\"1\" class=\"dataframe\">\n",
       "  <thead>\n",
       "    <tr style=\"text-align: right;\">\n",
       "      <th></th>\n",
       "      <th>study_id</th>\n",
       "      <th>series_id</th>\n",
       "      <th>instance</th>\n",
       "      <th>condition</th>\n",
       "      <th>level</th>\n",
       "      <th>x</th>\n",
       "      <th>y</th>\n",
       "      <th>ss_id</th>\n",
       "      <th>instance_id</th>\n",
       "      <th>cl</th>\n",
       "      <th>series_description</th>\n",
       "      <th>rows</th>\n",
       "      <th>columns</th>\n",
       "      <th>filename</th>\n",
       "      <th>patientposition</th>\n",
       "      <th>x_perc</th>\n",
       "      <th>y_perc</th>\n",
       "      <th>inst_perc</th>\n",
       "    </tr>\n",
       "  </thead>\n",
       "  <tbody>\n",
       "    <tr>\n",
       "      <th>28080</th>\n",
       "      <td>2509953825</td>\n",
       "      <td>3594374345</td>\n",
       "      <td>13</td>\n",
       "      <td>LNFN</td>\n",
       "      <td>L1L2</td>\n",
       "      <td>261.574913</td>\n",
       "      <td>169.923345</td>\n",
       "      <td>2509953825_3594374345</td>\n",
       "      <td>2509953825_3594374345_13</td>\n",
       "      <td>LNFNL1L2</td>\n",
       "      <td>Sagittal T1</td>\n",
       "      <td>512</td>\n",
       "      <td>512</td>\n",
       "      <td>E:\\data\\RSNA2024\\pngs_256\\2509953825_359437434...</td>\n",
       "      <td>HFS</td>\n",
       "      <td>0.510889</td>\n",
       "      <td>0.331882</td>\n",
       "      <td>0.666667</td>\n",
       "    </tr>\n",
       "    <tr>\n",
       "      <th>28081</th>\n",
       "      <td>2509953825</td>\n",
       "      <td>3594374345</td>\n",
       "      <td>13</td>\n",
       "      <td>LNFN</td>\n",
       "      <td>L2L3</td>\n",
       "      <td>255.331010</td>\n",
       "      <td>211.846690</td>\n",
       "      <td>2509953825_3594374345</td>\n",
       "      <td>2509953825_3594374345_13</td>\n",
       "      <td>LNFNL2L3</td>\n",
       "      <td>Sagittal T1</td>\n",
       "      <td>512</td>\n",
       "      <td>512</td>\n",
       "      <td>E:\\data\\RSNA2024\\pngs_256\\2509953825_359437434...</td>\n",
       "      <td>HFS</td>\n",
       "      <td>0.498693</td>\n",
       "      <td>0.413763</td>\n",
       "      <td>0.666667</td>\n",
       "    </tr>\n",
       "    <tr>\n",
       "      <th>28082</th>\n",
       "      <td>2509953825</td>\n",
       "      <td>3594374345</td>\n",
       "      <td>13</td>\n",
       "      <td>LNFN</td>\n",
       "      <td>L3L4</td>\n",
       "      <td>252.655052</td>\n",
       "      <td>252.878049</td>\n",
       "      <td>2509953825_3594374345</td>\n",
       "      <td>2509953825_3594374345_13</td>\n",
       "      <td>LNFNL3L4</td>\n",
       "      <td>Sagittal T1</td>\n",
       "      <td>512</td>\n",
       "      <td>512</td>\n",
       "      <td>E:\\data\\RSNA2024\\pngs_256\\2509953825_359437434...</td>\n",
       "      <td>HFS</td>\n",
       "      <td>0.493467</td>\n",
       "      <td>0.493902</td>\n",
       "      <td>0.666667</td>\n",
       "    </tr>\n",
       "    <tr>\n",
       "      <th>28083</th>\n",
       "      <td>2509953825</td>\n",
       "      <td>3594374345</td>\n",
       "      <td>13</td>\n",
       "      <td>LNFN</td>\n",
       "      <td>L4L5</td>\n",
       "      <td>258.006969</td>\n",
       "      <td>294.801394</td>\n",
       "      <td>2509953825_3594374345</td>\n",
       "      <td>2509953825_3594374345_13</td>\n",
       "      <td>LNFNL4L5</td>\n",
       "      <td>Sagittal T1</td>\n",
       "      <td>512</td>\n",
       "      <td>512</td>\n",
       "      <td>E:\\data\\RSNA2024\\pngs_256\\2509953825_359437434...</td>\n",
       "      <td>HFS</td>\n",
       "      <td>0.503920</td>\n",
       "      <td>0.575784</td>\n",
       "      <td>0.666667</td>\n",
       "    </tr>\n",
       "    <tr>\n",
       "      <th>28084</th>\n",
       "      <td>2509953825</td>\n",
       "      <td>3594374345</td>\n",
       "      <td>13</td>\n",
       "      <td>LNFN</td>\n",
       "      <td>L5S1</td>\n",
       "      <td>279.414634</td>\n",
       "      <td>333.156794</td>\n",
       "      <td>2509953825_3594374345</td>\n",
       "      <td>2509953825_3594374345_13</td>\n",
       "      <td>LNFNL5S1</td>\n",
       "      <td>Sagittal T1</td>\n",
       "      <td>512</td>\n",
       "      <td>512</td>\n",
       "      <td>E:\\data\\RSNA2024\\pngs_256\\2509953825_359437434...</td>\n",
       "      <td>HFS</td>\n",
       "      <td>0.545732</td>\n",
       "      <td>0.650697</td>\n",
       "      <td>0.666667</td>\n",
       "    </tr>\n",
       "  </tbody>\n",
       "</table>\n",
       "</div>"
      ],
      "text/plain": [
       "         study_id   series_id  instance condition level           x  \\\n",
       "28080  2509953825  3594374345        13      LNFN  L1L2  261.574913   \n",
       "28081  2509953825  3594374345        13      LNFN  L2L3  255.331010   \n",
       "28082  2509953825  3594374345        13      LNFN  L3L4  252.655052   \n",
       "28083  2509953825  3594374345        13      LNFN  L4L5  258.006969   \n",
       "28084  2509953825  3594374345        13      LNFN  L5S1  279.414634   \n",
       "\n",
       "                y                  ss_id               instance_id        cl  \\\n",
       "28080  169.923345  2509953825_3594374345  2509953825_3594374345_13  LNFNL1L2   \n",
       "28081  211.846690  2509953825_3594374345  2509953825_3594374345_13  LNFNL2L3   \n",
       "28082  252.878049  2509953825_3594374345  2509953825_3594374345_13  LNFNL3L4   \n",
       "28083  294.801394  2509953825_3594374345  2509953825_3594374345_13  LNFNL4L5   \n",
       "28084  333.156794  2509953825_3594374345  2509953825_3594374345_13  LNFNL5S1   \n",
       "\n",
       "      series_description  rows  columns  \\\n",
       "28080        Sagittal T1   512      512   \n",
       "28081        Sagittal T1   512      512   \n",
       "28082        Sagittal T1   512      512   \n",
       "28083        Sagittal T1   512      512   \n",
       "28084        Sagittal T1   512      512   \n",
       "\n",
       "                                                filename patientposition  \\\n",
       "28080  E:\\data\\RSNA2024\\pngs_256\\2509953825_359437434...             HFS   \n",
       "28081  E:\\data\\RSNA2024\\pngs_256\\2509953825_359437434...             HFS   \n",
       "28082  E:\\data\\RSNA2024\\pngs_256\\2509953825_359437434...             HFS   \n",
       "28083  E:\\data\\RSNA2024\\pngs_256\\2509953825_359437434...             HFS   \n",
       "28084  E:\\data\\RSNA2024\\pngs_256\\2509953825_359437434...             HFS   \n",
       "\n",
       "         x_perc    y_perc  inst_perc  \n",
       "28080  0.510889  0.331882   0.666667  \n",
       "28081  0.498693  0.413763   0.666667  \n",
       "28082  0.493467  0.493902   0.666667  \n",
       "28083  0.503920  0.575784   0.666667  \n",
       "28084  0.545732  0.650697   0.666667  "
      ]
     },
     "execution_count": 24,
     "metadata": {},
     "output_type": "execute_result"
    }
   ],
   "source": [
    "inst_id = '2509953825_3594374345_13'\n",
    "\n",
    "coords_df[coords_df['instance_id'] == inst_id]"
   ]
  },
  {
   "cell_type": "code",
   "execution_count": 25,
   "id": "b0d4358d-22c6-4588-a2d2-059233c68f31",
   "metadata": {},
   "outputs": [
    {
     "data": {
      "text/plain": [
       "['LNFNL1L2', 'LNFNL2L3', 'LNFNL3L4', 'LNFNL4L5', 'LNFNL5S1']"
      ]
     },
     "execution_count": 25,
     "metadata": {},
     "output_type": "execute_result"
    }
   ],
   "source": [
    "coords_df[coords_df['instance_id'] == inst_id].cl.to_list()"
   ]
  },
  {
   "cell_type": "code",
   "execution_count": 26,
   "id": "f92de686-ed67-4991-a211-42f256a93863",
   "metadata": {
    "scrolled": true
   },
   "outputs": [],
   "source": [
    "# list(coords_df.filename.unique())"
   ]
  },
  {
   "cell_type": "code",
   "execution_count": null,
   "id": "5a68144d-b40f-4049-8a81-c0887e57b01c",
   "metadata": {},
   "outputs": [],
   "source": []
  },
  {
   "cell_type": "markdown",
   "id": "78a7156d-257e-4f21-b5d3-51d7589d194b",
   "metadata": {},
   "source": [
    "### Dataset"
   ]
  },
  {
   "cell_type": "code",
   "execution_count": 27,
   "id": "6d105ade-e285-42ed-b856-f3431f9e748a",
   "metadata": {},
   "outputs": [],
   "source": [
    "from dataset import rsna_dataset"
   ]
  },
  {
   "cell_type": "code",
   "execution_count": 28,
   "id": "b99f1870-a841-4bcf-b946-9c56b7810499",
   "metadata": {},
   "outputs": [],
   "source": [
    "selection = coords_df[coords_df['condition'].isin(CFG.classes)]"
   ]
  },
  {
   "cell_type": "code",
   "execution_count": 29,
   "id": "253019be-6878-4b03-b1a0-339c25658579",
   "metadata": {},
   "outputs": [
    {
     "name": "stdout",
     "output_type": "stream",
     "text": [
      "24546\n",
      "(3, 256, 256) torch.Size([6])\n",
      "float32 torch.float32\n"
     ]
    }
   ],
   "source": [
    "dset = rsna_dataset(selection, CFG)\n",
    "\n",
    "print(dset.__len__())\n",
    "\n",
    "img, label, = dset.__getitem__(2)\n",
    "print(img.shape, label.shape)\n",
    "print(img.dtype, label.dtype)"
   ]
  },
  {
   "cell_type": "code",
   "execution_count": 30,
   "id": "2cfd96c5-9ed6-4481-964b-43516bf59fd6",
   "metadata": {},
   "outputs": [
    {
     "data": {
      "text/plain": [
       "tensor([0., 1., 0., 0., 0., 0.])"
      ]
     },
     "execution_count": 30,
     "metadata": {},
     "output_type": "execute_result"
    }
   ],
   "source": [
    "label"
   ]
  },
  {
   "cell_type": "code",
   "execution_count": 31,
   "id": "4dc563cc-53d1-4488-9746-2961155d5fa0",
   "metadata": {},
   "outputs": [
    {
     "data": {
      "text/plain": [
       "(28.952377, 43.967163, 0.0, 249.0)"
      ]
     },
     "execution_count": 31,
     "metadata": {},
     "output_type": "execute_result"
    }
   ],
   "source": [
    "img.mean(), img.std(), img.min(), img.max()"
   ]
  },
  {
   "cell_type": "code",
   "execution_count": 32,
   "id": "9318e781-203f-4d53-a613-a9995cc324ba",
   "metadata": {},
   "outputs": [
    {
     "data": {
      "text/plain": [
       "<matplotlib.image.AxesImage at 0x25f309d48e0>"
      ]
     },
     "execution_count": 32,
     "metadata": {},
     "output_type": "execute_result"
    },
    {
     "data": {
      "image/png": "[encoded data removed]",
      "text/plain": [
       "<Figure size 640x480 with 1 Axes>"
      ]
     },
     "metadata": {},
     "output_type": "display_data"
    }
   ],
   "source": [
    "plt.imshow(img[0], cmap='gray')"
   ]
  },
  {
   "cell_type": "code",
   "execution_count": null,
   "id": "4eec7d6b-ccd5-46d2-aaf5-f46fb7d957c9",
   "metadata": {},
   "outputs": [],
   "source": []
  },
  {
   "cell_type": "markdown",
   "id": "446e8786-56df-4a29-8074-ba222f7af068",
   "metadata": {},
   "source": [
    "### Datamodule"
   ]
  },
  {
   "cell_type": "code",
   "execution_count": 33,
   "id": "b3166903-b2b7-40b1-981d-2d1e3ff4aa84",
   "metadata": {},
   "outputs": [],
   "source": [
    "from dataset import rsna_dataset"
   ]
  },
  {
   "cell_type": "code",
   "execution_count": 34,
   "id": "50e79488-ab65-4a65-9a8b-db6a20df6b20",
   "metadata": {},
   "outputs": [],
   "source": [
    "class rsna_datamodule(pl.LightningDataModule):\n",
    "    def __init__(self, train_df, val_df, cfg=CFG, train_tfs=None, val_tfs=None):\n",
    "        super().__init__()\n",
    "        \n",
    "        self.train_df = train_df\n",
    "        self.val_df = val_df\n",
    "        # self.coord_df = coord_df\n",
    "        \n",
    "        self.train_bs = cfg.BATCH_SIZE\n",
    "        self.val_bs = cfg.BATCH_SIZE\n",
    "\n",
    "        self.train_tfs = train_tfs\n",
    "        self.val_tfs = val_tfs\n",
    "\n",
    "        self.cfg = cfg\n",
    "        \n",
    "        self.num_workers = cfg.num_workers\n",
    "        \n",
    "    def train_dataloader(self):\n",
    "        train_ds = rsna_dataset(self.train_df, self.cfg, tfs=self.train_tfs, mode='train')\n",
    "        \n",
    "        train_loader = torch.utils.data.DataLoader(\n",
    "            train_ds,\n",
    "            batch_size=self.train_bs,\n",
    "            pin_memory=False,\n",
    "            drop_last=False,\n",
    "            shuffle=True,\n",
    "            persistent_workers=True,\n",
    "            num_workers=self.num_workers,\n",
    "        )\n",
    "        \n",
    "        return train_loader\n",
    "        \n",
    "    def val_dataloader(self):\n",
    "        val_ds = rsna_dataset(self.val_df, self.cfg, tfs=self.val_tfs, mode='val')\n",
    "        \n",
    "        val_loader = torch.utils.data.DataLoader(\n",
    "            val_ds,\n",
    "            batch_size=self.val_bs,\n",
    "            pin_memory=False,\n",
    "            drop_last=False,\n",
    "            shuffle=False,\n",
    "            persistent_workers=True,\n",
    "            num_workers=2,\n",
    "        )\n",
    "        \n",
    "        return val_loader"
   ]
  },
  {
   "cell_type": "code",
   "execution_count": 35,
   "id": "f5e6f575-3a3f-41c4-947f-0ae9496981a2",
   "metadata": {},
   "outputs": [
    {
     "data": {
      "text/plain": [
       "(torch.Size([16, 3, 256, 256]),\n",
       " torch.Size([16, 6]),\n",
       " torch.float32,\n",
       " torch.float32)"
      ]
     },
     "execution_count": 35,
     "metadata": {},
     "output_type": "execute_result"
    }
   ],
   "source": [
    "\n",
    "\n",
    "t_df = selection[:-100]\n",
    "# t_df = pd.concat([meta_df[:-100], ul_df[:-100]], ignore_index=True)\n",
    "v_df = selection[-100:]\n",
    "\n",
    "CFG2 = CFG()\n",
    "# CFG2 = copy.deepcopy(CFG)\n",
    "CFG2.BATCH_SIZE = 16\n",
    "CFG2.num_workers = 2\n",
    "\n",
    "dm = rsna_datamodule(t_df, v_df, cfg=CFG2)\n",
    "# dm = wav_datamodule(t_df, v_df, cfg=CFG, train_tfs=train_tfs, val_tfs=val_tfs)\n",
    "\n",
    "x, y = next(iter(dm.train_dataloader()))\n",
    "x.shape, y.shape, x.dtype, y.dtype"
   ]
  },
  {
   "cell_type": "code",
   "execution_count": 36,
   "id": "1fddf393-1256-4a7e-a626-71892e1d6eb2",
   "metadata": {},
   "outputs": [
    {
     "data": {
      "text/plain": [
       "<matplotlib.image.AxesImage at 0x25f30bd9c00>"
      ]
     },
     "execution_count": 36,
     "metadata": {},
     "output_type": "execute_result"
    },
    {
     "data": {
      "image/png": "[encoded data removed]",
      "text/plain": [
       "<Figure size 640x480 with 1 Axes>"
      ]
     },
     "metadata": {},
     "output_type": "display_data"
    }
   ],
   "source": [
    "plt.imshow(x[10][0], cmap='gray')"
   ]
  },
  {
   "cell_type": "markdown",
   "id": "41147b95-2e64-48b3-9c62-81c286dbe24a",
   "metadata": {},
   "source": [
    "#### Check Transforms"
   ]
  },
  {
   "cell_type": "code",
   "execution_count": 37,
   "id": "da078b9b-c968-42a0-b439-dfb6c92f3d35",
   "metadata": {},
   "outputs": [],
   "source": [
    "image_size = CFG.image_size\n",
    "\n",
    "img_mean = (0.485, 0.456, 0.406)\n",
    "img_std = (0.229, 0.224, 0.225)\n",
    "\n",
    "train_tfs = A.Compose([\n",
    "    # A.HorizontalFlip(p=0.5),\n",
    "    A.Resize(image_size, image_size),\n",
    "    A.CoarseDropout(max_height=int(image_size * 0.2), max_width=int(image_size * 0.2), max_holes=4, p=0.7),\n",
    "    A.Normalize(mean=img_mean, std=img_std)\n",
    "])\n",
    "\n",
    "val_tfs = A.Compose([\n",
    "    A.Resize(image_size, image_size),\n",
    "    A.Normalize(mean=img_mean, std=img_std)\n",
    "])"
   ]
  },
  {
   "cell_type": "code",
   "execution_count": 38,
   "id": "5fab6bbf-6352-46b1-8b52-da81ac473690",
   "metadata": {},
   "outputs": [
    {
     "data": {
      "text/plain": [
       "(torch.Size([16, 3, 256, 256]),\n",
       " torch.Size([16, 6]),\n",
       " torch.float32,\n",
       " torch.float32)"
      ]
     },
     "execution_count": 38,
     "metadata": {},
     "output_type": "execute_result"
    }
   ],
   "source": [
    "dm = rsna_datamodule(t_df, v_df, cfg=CFG2, train_tfs=train_tfs, val_tfs=val_tfs)\n",
    "# dm = wav_datamodule(t_df, v_df, cfg=CFG, train_tfs=train_tfs, val_tfs=val_tfs)\n",
    "\n",
    "x, y = next(iter(dm.train_dataloader()))\n",
    "x.shape, y.shape, x.dtype, y.dtype"
   ]
  },
  {
   "cell_type": "code",
   "execution_count": 39,
   "id": "ce905601-a756-4cea-a767-f60490005ff4",
   "metadata": {},
   "outputs": [
    {
     "data": {
      "text/plain": [
       "tensor([0., 0., 1., 0., 0., 0.])"
      ]
     },
     "execution_count": 39,
     "metadata": {},
     "output_type": "execute_result"
    }
   ],
   "source": [
    "y[0]"
   ]
  },
  {
   "cell_type": "code",
   "execution_count": 40,
   "id": "35f0cc7b-fc84-444e-bc1b-5f1375903d18",
   "metadata": {},
   "outputs": [
    {
     "data": {
      "text/plain": [
       "<matplotlib.image.AxesImage at 0x25f30c8cd00>"
      ]
     },
     "execution_count": 40,
     "metadata": {},
     "output_type": "execute_result"
    },
    {
     "data": {
      "image/png": "[encoded data removed]",
      "text/plain": [
       "<Figure size 640x480 with 1 Axes>"
      ]
     },
     "metadata": {},
     "output_type": "display_data"
    }
   ],
   "source": [
    "plt.imshow(x[2][0], cmap='gray')"
   ]
  },
  {
   "cell_type": "code",
   "execution_count": 41,
   "id": "3c8affa3-48c4-4ddd-9aa2-9ffba1401b41",
   "metadata": {},
   "outputs": [],
   "source": [
    "del dm"
   ]
  },
  {
   "cell_type": "code",
   "execution_count": null,
   "id": "5b3ade1d-8e76-4a39-9f44-0cefaa70c4aa",
   "metadata": {},
   "outputs": [],
   "source": []
  },
  {
   "cell_type": "markdown",
   "id": "2de4ef0b-82bb-4961-a8f1-c5359964157a",
   "metadata": {},
   "source": [
    "### Loss function"
   ]
  },
  {
   "cell_type": "code",
   "execution_count": 42,
   "id": "a3b6c51e-98d7-4141-a192-c2c11bdffdf4",
   "metadata": {},
   "outputs": [],
   "source": [
    "class FocalLossBCE(torch.nn.Module):\n",
    "    def __init__(\n",
    "            self,\n",
    "            alpha: float = 0.25,\n",
    "            gamma: float = 2,\n",
    "            reduction: str = \"mean\",\n",
    "            bce_weight: float = 1.0,\n",
    "            focal_weight: float = 1.0,\n",
    "    ):\n",
    "        super().__init__()\n",
    "        self.alpha = alpha\n",
    "        self.gamma = gamma\n",
    "        self.reduction = reduction\n",
    "        self.bce = torch.nn.BCEWithLogitsLoss(reduction=reduction)\n",
    "        self.bce_weight = bce_weight\n",
    "        self.focal_weight = focal_weight\n",
    "\n",
    "    def forward(self, logits, targets):\n",
    "        focall_loss = torchvision.ops.focal_loss.sigmoid_focal_loss(\n",
    "            inputs=logits,\n",
    "            targets=targets,\n",
    "            alpha=self.alpha,\n",
    "            gamma=self.gamma,\n",
    "            reduction=self.reduction,\n",
    "        )\n",
    "        bce_loss = self.bce(logits, targets)\n",
    "        return self.bce_weight * bce_loss + self.focal_weight * focall_loss"
   ]
  },
  {
   "cell_type": "code",
   "execution_count": 43,
   "id": "0e3b441f-2071-41fa-8ca2-cb257616dc9a",
   "metadata": {},
   "outputs": [],
   "source": [
    "class GeM(torch.nn.Module):\n",
    "    def __init__(self, p=3, eps=1e-6):\n",
    "        super(GeM, self).__init__()\n",
    "        self.p = torch.nn.Parameter(torch.ones(1) * p)\n",
    "        self.eps = eps\n",
    "\n",
    "    def forward(self, x):\n",
    "        bs, ch, h, w = x.shape\n",
    "        x = torch.nn.functional.avg_pool2d(x.clamp(min=self.eps).pow(self.p), (x.size(-2), x.size(-1))).pow(\n",
    "            1.0 / self.p)\n",
    "        x = x.view(bs, ch)\n",
    "        return x"
   ]
  },
  {
   "cell_type": "code",
   "execution_count": null,
   "id": "f504f2e3-d229-43b7-899f-8190f966ac8b",
   "metadata": {},
   "outputs": [],
   "source": []
  },
  {
   "cell_type": "markdown",
   "id": "d0803313-4e79-466d-bf15-2803f65f206e",
   "metadata": {},
   "source": [
    "### Model"
   ]
  },
  {
   "cell_type": "code",
   "execution_count": 44,
   "id": "1d3a5905-cab9-474e-979d-386a990d266a",
   "metadata": {},
   "outputs": [
    {
     "data": {
      "text/plain": [
       "([64, 256, 512, 1536, 3072], 5440)"
      ]
     },
     "execution_count": 44,
     "metadata": {},
     "output_type": "execute_result"
    }
   ],
   "source": [
    "backbone = 'eca_nfnet_l1'\n",
    "# backbone = 'efficientnet_b4'\n",
    "out_indices = (3, 4)\n",
    "\n",
    "model = timm.create_model(\n",
    "    backbone,\n",
    "    features_only=True,\n",
    "    pretrained=False,\n",
    "    in_chans=3,\n",
    "    num_classes=dset.num_classes,\n",
    "    # out_indices=out_indices,\n",
    "    )\n",
    "\n",
    "model.feature_info.channels(), np.sum(model.feature_info.channels())"
   ]
  },
  {
   "cell_type": "code",
   "execution_count": 45,
   "id": "a4fdc762-f59d-411c-82e5-b2634f480c95",
   "metadata": {},
   "outputs": [],
   "source": [
    "data_config = timm.data.resolve_model_data_config(model)"
   ]
  },
  {
   "cell_type": "code",
   "execution_count": 46,
   "id": "92d41be5-5304-4922-89e7-ca0a72ce9cc1",
   "metadata": {},
   "outputs": [
    {
     "data": {
      "text/plain": [
       "{'input_size': (3, 256, 256),\n",
       " 'interpolation': 'bicubic',\n",
       " 'mean': (0.485, 0.456, 0.406),\n",
       " 'std': (0.229, 0.224, 0.225),\n",
       " 'crop_pct': 0.9,\n",
       " 'crop_mode': 'center'}"
      ]
     },
     "execution_count": 46,
     "metadata": {},
     "output_type": "execute_result"
    }
   ],
   "source": [
    "data_config"
   ]
  },
  {
   "cell_type": "code",
   "execution_count": 47,
   "id": "da957e7e-5ad2-479b-b5a7-9f3556ca68ea",
   "metadata": {},
   "outputs": [],
   "source": [
    "def mixup(data, targets, alpha, device):\n",
    "    indices = torch.randperm(data.size(0))\n",
    "    data2 = data[indices]\n",
    "    targets2 = targets[indices]\n",
    "\n",
    "    lam = torch.FloatTensor([np.random.beta(alpha, alpha)]).to(device)\n",
    "    data = data * lam + data2 * (1 - lam)\n",
    "    \n",
    "    targets = targets * lam + targets2 * (1 - lam)\n",
    "    return data, targets\n",
    "\n",
    "    # data += data2\n",
    "    # targets += targets2\n",
    "    # return data, targets.clip(max=1)"
   ]
  },
  {
   "cell_type": "code",
   "execution_count": 48,
   "id": "1b8ea5f5-46ee-4c57-b3bf-6b0ce988b638",
   "metadata": {},
   "outputs": [],
   "source": [
    "class GeMModel(pl.LightningModule):\n",
    "    def __init__(self, cfg = CFG, pretrained = True):\n",
    "        super().__init__()\n",
    "\n",
    "        self.cfg = cfg\n",
    "\n",
    "        self.dev = cfg.device\n",
    "        \n",
    "        out_indices = (3, 4)\n",
    "\n",
    "        self.criterion = FocalLossBCE()\n",
    "\n",
    "        wrapped_acc = ClasswiseWrapper(MultilabelAccuracy(num_labels=self.cfg.N_LABELS, average='none'), labels=classes, prefix='multiacc/')\n",
    "        wrapped_f1 = ClasswiseWrapper(MultilabelF1Score(num_labels=self.cfg.N_LABELS, average='none'), labels=classes, prefix='multif1/')\n",
    "        \n",
    "        metrics = MetricCollection({\n",
    "            # 'macc': MultilabelAccuracy(num_labels=self.cfg.N_LABELS),\n",
    "            'none_acc': wrapped_acc,\n",
    "            'mpr': MultilabelPrecision(num_labels=self.cfg.N_LABELS),\n",
    "            'mrec': MultilabelRecall(num_labels=self.cfg.N_LABELS),\n",
    "            'f1': MultilabelF1Score(num_labels=self.cfg.N_LABELS),\n",
    "            'none_f1': wrapped_f1,\n",
    "        })\n",
    "\n",
    "        self.train_metrics = metrics.clone(prefix='train/')\n",
    "        self.valid_metrics = metrics.clone(prefix='val/')\n",
    "        \n",
    "        # self.model_name = self.cfg.model_name\n",
    "        print(self.cfg.model_name)\n",
    "        \n",
    "        self.backbone = timm.create_model(\n",
    "            self.cfg.model_name, \n",
    "            features_only=True,\n",
    "            pretrained=pretrained,\n",
    "            in_chans=3,\n",
    "            num_classes=self.cfg.N_LABELS,\n",
    "            out_indices=out_indices,\n",
    "        )\n",
    "\n",
    "        feature_dims = self.backbone.feature_info.channels()\n",
    "\n",
    "        self.global_pools = torch.nn.ModuleList([GeM() for _ in out_indices])\n",
    "        self.mid_features = np.sum(feature_dims)\n",
    "        \n",
    "        self.neck = torch.nn.BatchNorm1d(self.mid_features)\n",
    "        self.head = torch.nn.Linear(self.mid_features, self.cfg.N_LABELS)\n",
    "\n",
    "    def forward(self, x):\n",
    "        ms = self.backbone(x)\n",
    "        \n",
    "        h = torch.cat([global_pool(m) for m, global_pool in zip(ms, self.global_pools)], dim=1)\n",
    "        x = self.neck(h)\n",
    "        x = self.head(x)\n",
    "        \n",
    "        return x\n",
    "        \n",
    "    def configure_optimizers(self):\n",
    "        optimizer = torch.optim.Adam(model.parameters(), lr=self.cfg.LEARNING_RATE, weight_decay=CFG.weight_decay)\n",
    "        \n",
    "        if self.cfg.USE_SCHD:\n",
    "            scheduler_cosine = torch.optim.lr_scheduler.CosineAnnealingLR(optimizer, self.cfg.COS_EPOCHS)\n",
    "            scheduler_warmup = GradualWarmupSchedulerV2(optimizer, multiplier=10, total_epoch=self.cfg.WARM_EPOCHS, after_scheduler=scheduler_cosine)\n",
    "\n",
    "            return [optimizer], [scheduler_warmup]\n",
    "        else:\n",
    "            # LRscheduler = torch.optim.lr_scheduler.StepLR(optimizer, step_size=10, gamma=0.2)\n",
    "            \n",
    "            # return [optimizer], [LRscheduler]\n",
    "            return optimizer\n",
    "\n",
    "    def step(self, batch, batch_idx, mode='train'):\n",
    "        x, y = batch\n",
    "\n",
    "        if self.cfg.MIXUP and mode == 'train':\n",
    "            x, y = mixup(x, y, 0.5, self.cfg.device)\n",
    "        \n",
    "        preds = self(x)\n",
    "        \n",
    "        loss = self.criterion(preds, y)\n",
    "        \n",
    "        if mode == 'train':\n",
    "            output = self.train_metrics(preds, y)\n",
    "            self.log_dict(output)\n",
    "        else:\n",
    "            self.valid_metrics.update(preds, y)\n",
    "\n",
    "        self.log(f'{mode}/loss', loss, on_step=True, on_epoch=True)\n",
    "\n",
    "        return loss\n",
    "    \n",
    "    def training_step(self, batch, batch_idx):\n",
    "        loss = self.step(batch, batch_idx, mode='train')\n",
    "        \n",
    "        return loss\n",
    "        \n",
    "    def validation_step(self, batch, batch_idx):\n",
    "        loss = self.step(batch, batch_idx, mode='val')\n",
    "    \n",
    "        return loss\n",
    "    \n",
    "    def on_train_epoch_end(self):\n",
    "        self.train_metrics.reset()\n",
    "\n",
    "    def on_validation_epoch_end(self):\n",
    "        output = self.valid_metrics.compute()\n",
    "        self.log_dict(output)\n",
    "\n",
    "        self.valid_metrics.reset()"
   ]
  },
  {
   "cell_type": "code",
   "execution_count": 49,
   "id": "1ae00f21-8402-4946-a1b9-8d9202727111",
   "metadata": {},
   "outputs": [
    {
     "name": "stdout",
     "output_type": "stream",
     "text": [
      "eca_nfnet_l0\n"
     ]
    }
   ],
   "source": [
    "model = GeMModel(CFG)"
   ]
  },
  {
   "cell_type": "code",
   "execution_count": 50,
   "id": "4257c339-5ccd-45b1-85e5-1b62ba205d12",
   "metadata": {},
   "outputs": [],
   "source": [
    "foo = model(x)"
   ]
  },
  {
   "cell_type": "code",
   "execution_count": 51,
   "id": "7128bd97-3611-48cc-a3e6-23ac0770e7c5",
   "metadata": {},
   "outputs": [
    {
     "data": {
      "text/plain": [
       "(torch.Size([16, 3, 256, 256]), torch.Size([16, 6]))"
      ]
     },
     "execution_count": 51,
     "metadata": {},
     "output_type": "execute_result"
    }
   ],
   "source": [
    "x.shape, foo.shape"
   ]
  },
  {
   "cell_type": "code",
   "execution_count": null,
   "id": "f9484146-98cc-420b-a78d-1177388fb587",
   "metadata": {},
   "outputs": [],
   "source": []
  },
  {
   "cell_type": "markdown",
   "id": "03a84c74-7577-4d7a-ba7a-17132f7a148a",
   "metadata": {},
   "source": [
    "### Select healthy files"
   ]
  },
  {
   "cell_type": "code",
   "execution_count": 52,
   "id": "71915d54-29d0-455f-9b88-a941bcfcfba3",
   "metadata": {},
   "outputs": [
    {
     "data": {
      "text/plain": [
       "((147218, 21), 147218, 24546)"
      ]
     },
     "execution_count": 52,
     "metadata": {},
     "output_type": "execute_result"
    }
   ],
   "source": [
    "# add healthy images\n",
    "\n",
    "files_df.shape, files_df.filename.nunique(), coords_df.filename.nunique()"
   ]
  },
  {
   "cell_type": "code",
   "execution_count": 53,
   "id": "4d4c36a4-95aa-4cdf-82b4-7a3b9b729b16",
   "metadata": {},
   "outputs": [],
   "source": [
    "# files_df['cl'] = 'H'"
   ]
  },
  {
   "cell_type": "code",
   "execution_count": 54,
   "id": "d9085a76-d19a-41fb-b250-12f029e48bdb",
   "metadata": {},
   "outputs": [],
   "source": [
    "train_cols = ['filename', 'cl', 'condition', 'series_description']"
   ]
  },
  {
   "cell_type": "code",
   "execution_count": 55,
   "id": "fffdaf4a-0b53-47c2-99b3-ea48a442e63e",
   "metadata": {},
   "outputs": [
    {
     "data": {
      "text/html": [
       "<div>\n",
       "<style scoped>\n",
       "    .dataframe tbody tr th:only-of-type {\n",
       "        vertical-align: middle;\n",
       "    }\n",
       "\n",
       "    .dataframe tbody tr th {\n",
       "        vertical-align: top;\n",
       "    }\n",
       "\n",
       "    .dataframe thead th {\n",
       "        text-align: right;\n",
       "    }\n",
       "</style>\n",
       "<table border=\"1\" class=\"dataframe\">\n",
       "  <thead>\n",
       "    <tr style=\"text-align: right;\">\n",
       "      <th></th>\n",
       "      <th>filename</th>\n",
       "      <th>cl</th>\n",
       "      <th>condition</th>\n",
       "      <th>series_description</th>\n",
       "    </tr>\n",
       "  </thead>\n",
       "  <tbody>\n",
       "    <tr>\n",
       "      <th>0</th>\n",
       "      <td>E:\\data\\RSNA2024\\pngs_256\\100206310_1012284084...</td>\n",
       "      <td>H</td>\n",
       "      <td>H</td>\n",
       "      <td>Axial T2</td>\n",
       "    </tr>\n",
       "    <tr>\n",
       "      <th>1</th>\n",
       "      <td>E:\\data\\RSNA2024\\pngs_256\\100206310_1012284084...</td>\n",
       "      <td>H</td>\n",
       "      <td>H</td>\n",
       "      <td>Axial T2</td>\n",
       "    </tr>\n",
       "  </tbody>\n",
       "</table>\n",
       "</div>"
      ],
      "text/plain": [
       "                                            filename cl condition  \\\n",
       "0  E:\\data\\RSNA2024\\pngs_256\\100206310_1012284084...  H         H   \n",
       "1  E:\\data\\RSNA2024\\pngs_256\\100206310_1012284084...  H         H   \n",
       "\n",
       "  series_description  \n",
       "0           Axial T2  \n",
       "1           Axial T2  "
      ]
     },
     "execution_count": 55,
     "metadata": {},
     "output_type": "execute_result"
    }
   ],
   "source": [
    "files_df.loc[:, train_cols].head(2)"
   ]
  },
  {
   "cell_type": "code",
   "execution_count": 56,
   "id": "8d8a6ee7-67e3-4e29-9170-7c1f96861e5c",
   "metadata": {},
   "outputs": [
    {
     "data": {
      "text/plain": [
       "(171364, 5)"
      ]
     },
     "execution_count": 56,
     "metadata": {},
     "output_type": "execute_result"
    }
   ],
   "source": [
    "# exclude files with labels\n",
    "healthy_df = files_df.loc[:, train_cols]\n",
    "healthy_df = pd.merge(healthy_df, coords_df.loc[:, ['filename']],  how='left', on=['filename'], indicator=True)\n",
    "\n",
    "healthy_df.shape"
   ]
  },
  {
   "cell_type": "code",
   "execution_count": 57,
   "id": "a066628c-3cc4-4503-ab4d-28979f5f6ae2",
   "metadata": {},
   "outputs": [
    {
     "data": {
      "text/plain": [
       "(147218, 21)"
      ]
     },
     "execution_count": 57,
     "metadata": {},
     "output_type": "execute_result"
    }
   ],
   "source": [
    "files_df.shape"
   ]
  },
  {
   "cell_type": "code",
   "execution_count": 58,
   "id": "f478cb3d-6bfd-4383-90a4-50f352518df3",
   "metadata": {},
   "outputs": [
    {
     "data": {
      "text/plain": [
       "_merge\n",
       "left_only     122672\n",
       "both           48692\n",
       "right_only         0\n",
       "Name: count, dtype: int64"
      ]
     },
     "execution_count": 58,
     "metadata": {},
     "output_type": "execute_result"
    }
   ],
   "source": [
    "healthy_df['_merge'].value_counts()"
   ]
  },
  {
   "cell_type": "code",
   "execution_count": 59,
   "id": "5d335149-9cee-4c38-aadd-a9847c39ef4d",
   "metadata": {},
   "outputs": [
    {
     "data": {
      "text/plain": [
       "147218"
      ]
     },
     "execution_count": 59,
     "metadata": {},
     "output_type": "execute_result"
    }
   ],
   "source": [
    "coords_df.filename.nunique() +  122672"
   ]
  },
  {
   "cell_type": "code",
   "execution_count": 60,
   "id": "23f65372-f3db-4406-88e3-04d1e8a9822b",
   "metadata": {},
   "outputs": [
    {
     "data": {
      "text/plain": [
       "(122672, 5)"
      ]
     },
     "execution_count": 60,
     "metadata": {},
     "output_type": "execute_result"
    }
   ],
   "source": [
    "healthy_df = healthy_df[healthy_df['_merge'] == 'left_only']\n",
    "healthy_df.shape"
   ]
  },
  {
   "cell_type": "code",
   "execution_count": 61,
   "id": "a55c2851-c628-448c-bc56-f856afc50cdd",
   "metadata": {},
   "outputs": [
    {
     "data": {
      "text/html": [
       "<div>\n",
       "<style scoped>\n",
       "    .dataframe tbody tr th:only-of-type {\n",
       "        vertical-align: middle;\n",
       "    }\n",
       "\n",
       "    .dataframe tbody tr th {\n",
       "        vertical-align: top;\n",
       "    }\n",
       "\n",
       "    .dataframe thead th {\n",
       "        text-align: right;\n",
       "    }\n",
       "</style>\n",
       "<table border=\"1\" class=\"dataframe\">\n",
       "  <thead>\n",
       "    <tr style=\"text-align: right;\">\n",
       "      <th></th>\n",
       "      <th>filename</th>\n",
       "      <th>cl</th>\n",
       "      <th>condition</th>\n",
       "      <th>series_description</th>\n",
       "      <th>_merge</th>\n",
       "    </tr>\n",
       "  </thead>\n",
       "  <tbody>\n",
       "    <tr>\n",
       "      <th>0</th>\n",
       "      <td>E:\\data\\RSNA2024\\pngs_256\\100206310_1012284084...</td>\n",
       "      <td>H</td>\n",
       "      <td>H</td>\n",
       "      <td>Axial T2</td>\n",
       "      <td>left_only</td>\n",
       "    </tr>\n",
       "    <tr>\n",
       "      <th>1</th>\n",
       "      <td>E:\\data\\RSNA2024\\pngs_256\\100206310_1012284084...</td>\n",
       "      <td>H</td>\n",
       "      <td>H</td>\n",
       "      <td>Axial T2</td>\n",
       "      <td>left_only</td>\n",
       "    </tr>\n",
       "  </tbody>\n",
       "</table>\n",
       "</div>"
      ],
      "text/plain": [
       "                                            filename cl condition  \\\n",
       "0  E:\\data\\RSNA2024\\pngs_256\\100206310_1012284084...  H         H   \n",
       "1  E:\\data\\RSNA2024\\pngs_256\\100206310_1012284084...  H         H   \n",
       "\n",
       "  series_description     _merge  \n",
       "0           Axial T2  left_only  \n",
       "1           Axial T2  left_only  "
      ]
     },
     "execution_count": 61,
     "metadata": {},
     "output_type": "execute_result"
    }
   ],
   "source": [
    "healthy_df.head(2)"
   ]
  },
  {
   "cell_type": "markdown",
   "id": "0f9432d8-001b-4848-abe4-120afe42fa17",
   "metadata": {},
   "source": [
    "### Split"
   ]
  },
  {
   "cell_type": "code",
   "execution_count": 62,
   "id": "21c5b308-7513-4e12-a744-a8046aa65655",
   "metadata": {},
   "outputs": [],
   "source": [
    "from sklearn.model_selection import ShuffleSplit, StratifiedShuffleSplit"
   ]
  },
  {
   "cell_type": "code",
   "execution_count": 63,
   "id": "0e64a7b0-b205-41f9-b104-2b0caa527007",
   "metadata": {},
   "outputs": [
    {
     "data": {
      "text/plain": [
       "24546"
      ]
     },
     "execution_count": 63,
     "metadata": {},
     "output_type": "execute_result"
    }
   ],
   "source": [
    "positive_files = coords_df.filename.nunique()\n",
    "positive_files"
   ]
  },
  {
   "cell_type": "code",
   "execution_count": 64,
   "id": "3afea703-aa2d-4497-802f-7fe8aa6d8224",
   "metadata": {},
   "outputs": [
    {
     "data": {
      "text/plain": [
       "(24546, 5)"
      ]
     },
     "execution_count": 64,
     "metadata": {},
     "output_type": "execute_result"
    }
   ],
   "source": [
    "healthy_df.sample(positive_files).shape"
   ]
  },
  {
   "cell_type": "code",
   "execution_count": 65,
   "id": "e2d8473d-95cd-4ab9-962c-1aa86bc35ce2",
   "metadata": {},
   "outputs": [
    {
     "data": {
      "text/plain": [
       "(48692, 18)"
      ]
     },
     "execution_count": 65,
     "metadata": {},
     "output_type": "execute_result"
    }
   ],
   "source": [
    "coords_df.shape"
   ]
  },
  {
   "cell_type": "code",
   "execution_count": 66,
   "id": "cbc9e559-f610-42df-ad8b-c24033e482f9",
   "metadata": {},
   "outputs": [
    {
     "data": {
      "text/plain": [
       "(73238, 4)"
      ]
     },
     "execution_count": 66,
     "metadata": {},
     "output_type": "execute_result"
    }
   ],
   "source": [
    "train_df = pd.concat([coords_df.loc[:, train_cols], healthy_df.sample(positive_files).loc[:, train_cols]], ignore_index=True)\n",
    "train_df.shape"
   ]
  },
  {
   "cell_type": "code",
   "execution_count": 67,
   "id": "04cc4d1e-020e-4655-85b5-3b0f71d67628",
   "metadata": {},
   "outputs": [
    {
     "data": {
      "text/plain": [
       "((69576, 4), (3662, 4))"
      ]
     },
     "execution_count": 67,
     "metadata": {},
     "output_type": "execute_result"
    }
   ],
   "source": [
    "sss = StratifiedShuffleSplit(n_splits=1, test_size=1-CFG.split_fraction, random_state=CFG.random_seed)\n",
    "train_idx, val_idx = next(sss.split(train_df.filename, train_df.cl))\n",
    "\n",
    "t_df = train_df.iloc[train_idx]\n",
    "v_df = train_df.iloc[val_idx]\n",
    "\n",
    "t_df.shape, v_df.shape"
   ]
  },
  {
   "cell_type": "markdown",
   "id": "2a91473b-3c2c-46b6-a202-c63729f24576",
   "metadata": {},
   "source": [
    "#### Filter classes"
   ]
  },
  {
   "cell_type": "code",
   "execution_count": 68,
   "id": "3bd49a3c-6f56-46f5-a5eb-0ead3e3dd14d",
   "metadata": {},
   "outputs": [
    {
     "data": {
      "text/plain": [
       "['SCS', 'RNFN', 'LNFN', 'LSS', 'RSS', 'H']"
      ]
     },
     "execution_count": 68,
     "metadata": {},
     "output_type": "execute_result"
    }
   ],
   "source": [
    "CFG.classes"
   ]
  },
  {
   "cell_type": "code",
   "execution_count": 69,
   "id": "fb0cb2c8-93ae-42a7-a39b-272b06100ffc",
   "metadata": {
    "scrolled": true
   },
   "outputs": [
    {
     "data": {
      "text/plain": [
       "((69576, 4), (3662, 4))"
      ]
     },
     "execution_count": 69,
     "metadata": {},
     "output_type": "execute_result"
    }
   ],
   "source": [
    "t_df[t_df['condition'].isin(CFG.classes)].shape, v_df[v_df['condition'].isin(CFG.classes)].shape"
   ]
  },
  {
   "cell_type": "code",
   "execution_count": 70,
   "id": "ee2dd792-aa5e-4aaf-a149-815fe5f54013",
   "metadata": {},
   "outputs": [],
   "source": [
    "t_df = t_df[t_df['condition'].isin(CFG.classes)]\n",
    "v_df = v_df[v_df['condition'].isin(CFG.classes)]"
   ]
  },
  {
   "cell_type": "markdown",
   "id": "6bea37bc-b020-4644-8bf6-1a34263313c9",
   "metadata": {},
   "source": [
    "### Train"
   ]
  },
  {
   "cell_type": "code",
   "execution_count": 71,
   "id": "48701efd-e716-4cc0-8e07-fe355f1ccfb4",
   "metadata": {},
   "outputs": [
    {
     "data": {
      "text/plain": [
       "(128, 'cuda')"
      ]
     },
     "execution_count": 71,
     "metadata": {},
     "output_type": "execute_result"
    }
   ],
   "source": [
    "CFG.BATCH_SIZE, CFG.device"
   ]
  },
  {
   "cell_type": "code",
   "execution_count": 72,
   "id": "d267fcb8-eb47-49e3-ac11-79ccc6d6e21c",
   "metadata": {},
   "outputs": [
    {
     "data": {
      "text/plain": [
       "(2955, 222)"
      ]
     },
     "execution_count": 72,
     "metadata": {},
     "output_type": "execute_result"
    }
   ],
   "source": [
    "dm = rsna_datamodule(t_df, v_df, cfg=CFG2, train_tfs=train_tfs, val_tfs=val_tfs)\n",
    "len(dm.train_dataloader()), len(dm.val_dataloader())"
   ]
  },
  {
   "cell_type": "code",
   "execution_count": 73,
   "id": "b3106f02-db30-4b01-8700-47910eddcf0d",
   "metadata": {},
   "outputs": [
    {
     "data": {
      "text/plain": [
       "'eca_nfnet_l0 5e-05 10 eps all-labels'"
      ]
     },
     "execution_count": 73,
     "metadata": {},
     "output_type": "execute_result"
    }
   ],
   "source": [
    "run_name = f'{CFG.model_name} {CFG.LEARNING_RATE} {CFG.N_EPOCHS} eps {CFG.comment}'\n",
    "run_name"
   ]
  },
  {
   "cell_type": "code",
   "execution_count": 74,
   "id": "2bc9e108-61e0-4190-9e6c-3c14dede8bb2",
   "metadata": {},
   "outputs": [],
   "source": [
    "wandb_logger = WandbLogger(\n",
    "    name=run_name,\n",
    "    project=CFG.project,\n",
    "    job_type='train',\n",
    "    save_dir=CFG.RESULTS_DIR,\n",
    "    # config=cfg,\n",
    ")\n",
    "\n",
    "loss_ckpt = pl.callbacks.ModelCheckpoint(\n",
    "    monitor='val/loss',\n",
    "    auto_insert_metric_name=False,\n",
    "    dirpath=CFG.CKPT_DIR / run_name,\n",
    "    filename='ep_{epoch:02d}_loss_{val/loss:.5f}',\n",
    "    save_top_k=2,\n",
    "    mode='min',\n",
    ")\n",
    "\n",
    "# acc_ckpt = pl.callbacks.ModelCheckpoint(\n",
    "#     monitor='val/acc',\n",
    "#     auto_insert_metric_name=False,\n",
    "#     dirpath=CFG.CKPT_DIR / run_name,\n",
    "#     filename='ep_{epoch:02d}_acc_{val/acc:.5f}',\n",
    "#     save_top_k=2,\n",
    "#     mode='max',\n",
    "# )\n",
    "\n",
    "lr_monitor = LearningRateMonitor(logging_interval='step')"
   ]
  },
  {
   "cell_type": "code",
   "execution_count": 75,
   "id": "1577b0bd-ecee-4e5c-b6e8-1884eb1ed5f3",
   "metadata": {},
   "outputs": [
    {
     "name": "stderr",
     "output_type": "stream",
     "text": [
      "GPU available: True (cuda), used: True\n",
      "TPU available: False, using: 0 TPU cores\n",
      "HPU available: False, using: 0 HPUs\n"
     ]
    }
   ],
   "source": [
    "trainer = pl.Trainer(\n",
    "    max_epochs=CFG.N_EPOCHS,\n",
    "    deterministic=True,\n",
    "    accelerator=CFG.device,\n",
    "    default_root_dir=CFG.RESULTS_DIR,\n",
    "    gradient_clip_val=0.5, \n",
    "    # gradient_clip_algorithm=\"value\",\n",
    "    logger=wandb_logger,\n",
    "    callbacks=[loss_ckpt, lr_monitor],\n",
    ")"
   ]
  },
  {
   "cell_type": "code",
   "execution_count": 76,
   "id": "4614df21-2ee5-45d3-9e24-68a2a3ff0a67",
   "metadata": {},
   "outputs": [
    {
     "name": "stdout",
     "output_type": "stream",
     "text": [
      "eca_nfnet_l0\n"
     ]
    }
   ],
   "source": [
    "model = GeMModel(CFG)"
   ]
  },
  {
   "cell_type": "markdown",
   "id": "9bafa397-0dd0-4684-be98-c9c98f8c509f",
   "metadata": {},
   "source": [
    "#### Fit"
   ]
  },
  {
   "cell_type": "code",
   "execution_count": null,
   "id": "4d122160-f689-4fd6-891c-23dee54719df",
   "metadata": {},
   "outputs": [
    {
     "name": "stderr",
     "output_type": "stream",
     "text": [
      "You are using a CUDA device ('NVIDIA GeForce RTX 4090 Laptop GPU') that has Tensor Cores. To properly utilize them, you should set `torch.set_float32_matmul_precision('medium' | 'high')` which will trade-off precision for performance. For more details, read https://pytorch.org/docs/stable/generated/torch.set_float32_matmul_precision.html#torch.set_float32_matmul_precision\n"
     ]
    },
    {
     "data": {
      "text/html": [
       "wandb version 0.17.6 is available!  To upgrade, please run:\n",
       " $ pip install wandb --upgrade"
      ],
      "text/plain": [
       "<IPython.core.display.HTML object>"
      ]
     },
     "metadata": {},
     "output_type": "display_data"
    },
    {
     "data": {
      "text/html": [
       "Tracking run with wandb version 0.16.6"
      ],
      "text/plain": [
       "<IPython.core.display.HTML object>"
      ]
     },
     "metadata": {},
     "output_type": "display_data"
    },
    {
     "data": {
      "text/html": [
       "Run data is saved locally in <code>E:\\data\\RSNA2024\\results\\wandb\\run-20240813_152953-v80un4m5</code>"
      ],
      "text/plain": [
       "<IPython.core.display.HTML object>"
      ]
     },
     "metadata": {},
     "output_type": "display_data"
    },
    {
     "data": {
      "text/html": [
       "Syncing run <strong><a href='https://wandb.ai/rosu-lucian/rsna-2/runs/v80un4m5' target=\"_blank\">eca_nfnet_l0 5e-05 10 eps all-labels</a></strong> to <a href='https://wandb.ai/rosu-lucian/rsna-2' target=\"_blank\">Weights & Biases</a> (<a href='https://wandb.me/run' target=\"_blank\">docs</a>)<br/>"
      ],
      "text/plain": [
       "<IPython.core.display.HTML object>"
      ]
     },
     "metadata": {},
     "output_type": "display_data"
    },
    {
     "data": {
      "text/html": [
       " View project at <a href='https://wandb.ai/rosu-lucian/rsna-2' target=\"_blank\">https://wandb.ai/rosu-lucian/rsna-2</a>"
      ],
      "text/plain": [
       "<IPython.core.display.HTML object>"
      ]
     },
     "metadata": {},
     "output_type": "display_data"
    },
    {
     "data": {
      "text/html": [
       " View run at <a href='https://wandb.ai/rosu-lucian/rsna-2/runs/v80un4m5' target=\"_blank\">https://wandb.ai/rosu-lucian/rsna-2/runs/v80un4m5</a>"
      ],
      "text/plain": [
       "<IPython.core.display.HTML object>"
      ]
     },
     "metadata": {},
     "output_type": "display_data"
    },
    {
     "name": "stderr",
     "output_type": "stream",
     "text": [
      "C:\\ProgramData\\anaconda3\\envs\\rsna\\lib\\site-packages\\pytorch_lightning\\callbacks\\model_checkpoint.py:652: Checkpoint directory E:\\data\\RSNA2024\\results\\ckpt\\eca_nfnet_l0 5e-05 10 eps all-labels exists and is not empty.\n",
      "LOCAL_RANK: 0 - CUDA_VISIBLE_DEVICES: [0]\n",
      "\n",
      "  | Name          | Type             | Params | Mode \n",
      "-----------------------------------------------------------\n",
      "0 | criterion     | FocalLossBCE     | 0      | train\n",
      "1 | train_metrics | MetricCollection | 0      | train\n",
      "2 | valid_metrics | MetricCollection | 0      | train\n",
      "3 | backbone      | FeatureListNet   | 21.8 M | train\n",
      "4 | global_pools  | ModuleList       | 2      | train\n",
      "5 | neck          | BatchNorm1d      | 7.7 K  | train\n",
      "6 | head          | Linear           | 23.0 K | train\n",
      "-----------------------------------------------------------\n",
      "21.9 M    Trainable params\n",
      "0         Non-trainable params\n",
      "21.9 M    Total params\n",
      "87.479    Total estimated model params size (MB)\n"
     ]
    },
    {
     "data": {
      "application/vnd.jupyter.widget-view+json": {
       "model_id": "",
       "version_major": 2,
       "version_minor": 0
      },
      "text/plain": [
       "Sanity Checking: |                                                                        | 0/? [00:00<?, ?it/…"
      ]
     },
     "metadata": {},
     "output_type": "display_data"
    },
    {
     "data": {
      "application/vnd.jupyter.widget-view+json": {
       "model_id": "564ef81acff2402a85207c85de3603cb",
       "version_major": 2,
       "version_minor": 0
      },
      "text/plain": [
       "Training: |                                                                               | 0/? [00:00<?, ?it/…"
      ]
     },
     "metadata": {},
     "output_type": "display_data"
    },
    {
     "data": {
      "application/vnd.jupyter.widget-view+json": {
       "model_id": "",
       "version_major": 2,
       "version_minor": 0
      },
      "text/plain": [
       "Validation: |                                                                             | 0/? [00:00<?, ?it/…"
      ]
     },
     "metadata": {},
     "output_type": "display_data"
    },
    {
     "name": "stderr",
     "output_type": "stream",
     "text": [
      "C:\\ProgramData\\anaconda3\\envs\\rsna\\lib\\site-packages\\torchmetrics\\utilities\\prints.py:43: UserWarning: The ``compute`` method of metric MultilabelAccuracy was called before the ``update`` method which may lead to errors, as metric states have not yet been updated.\n",
      "  warnings.warn(*args, **kwargs)  # noqa: B028\n",
      "C:\\ProgramData\\anaconda3\\envs\\rsna\\lib\\site-packages\\torchmetrics\\utilities\\prints.py:43: UserWarning: The ``compute`` method of metric MultilabelF1Score was called before the ``update`` method which may lead to errors, as metric states have not yet been updated.\n",
      "  warnings.warn(*args, **kwargs)  # noqa: B028\n"
     ]
    },
    {
     "data": {
      "application/vnd.jupyter.widget-view+json": {
       "model_id": "",
       "version_major": 2,
       "version_minor": 0
      },
      "text/plain": [
       "Validation: |                                                                             | 0/? [00:00<?, ?it/…"
      ]
     },
     "metadata": {},
     "output_type": "display_data"
    },
    {
     "data": {
      "application/vnd.jupyter.widget-view+json": {
       "model_id": "",
       "version_major": 2,
       "version_minor": 0
      },
      "text/plain": [
       "Validation: |                                                                             | 0/? [00:00<?, ?it/…"
      ]
     },
     "metadata": {},
     "output_type": "display_data"
    },
    {
     "data": {
      "application/vnd.jupyter.widget-view+json": {
       "model_id": "",
       "version_major": 2,
       "version_minor": 0
      },
      "text/plain": [
       "Validation: |                                                                             | 0/? [00:00<?, ?it/…"
      ]
     },
     "metadata": {},
     "output_type": "display_data"
    },
    {
     "data": {
      "application/vnd.jupyter.widget-view+json": {
       "model_id": "",
       "version_major": 2,
       "version_minor": 0
      },
      "text/plain": [
       "Validation: |                                                                             | 0/? [00:00<?, ?it/…"
      ]
     },
     "metadata": {},
     "output_type": "display_data"
    },
    {
     "data": {
      "application/vnd.jupyter.widget-view+json": {
       "model_id": "",
       "version_major": 2,
       "version_minor": 0
      },
      "text/plain": [
       "Validation: |                                                                             | 0/? [00:00<?, ?it/…"
      ]
     },
     "metadata": {},
     "output_type": "display_data"
    },
    {
     "data": {
      "application/vnd.jupyter.widget-view+json": {
       "model_id": "",
       "version_major": 2,
       "version_minor": 0
      },
      "text/plain": [
       "Validation: |                                                                             | 0/? [00:00<?, ?it/…"
      ]
     },
     "metadata": {},
     "output_type": "display_data"
    },
    {
     "data": {
      "application/vnd.jupyter.widget-view+json": {
       "model_id": "",
       "version_major": 2,
       "version_minor": 0
      },
      "text/plain": [
       "Validation: |                                                                             | 0/? [00:00<?, ?it/…"
      ]
     },
     "metadata": {},
     "output_type": "display_data"
    },
    {
     "data": {
      "application/vnd.jupyter.widget-view+json": {
       "model_id": "",
       "version_major": 2,
       "version_minor": 0
      },
      "text/plain": [
       "Validation: |                                                                             | 0/? [00:00<?, ?it/…"
      ]
     },
     "metadata": {},
     "output_type": "display_data"
    }
   ],
   "source": [
    "trainer.fit(model, dm)"
   ]
  },
  {
   "cell_type": "code",
   "execution_count": null,
   "id": "ee2213bc-db43-4e24-b2e9-2c2b933c6e38",
   "metadata": {},
   "outputs": [],
   "source": [
    "# np.array([0.0625, 0.9375, 0.8125, 0.0000, 1.0000, 1.0000, 0.0938, 0.8125, 0.7500,\n",
    "#         0.8750, 0.2500, 0.0625, 0.9688, 0.9062, 0.9688, 0.1875, 1.0000, 0.6562,\n",
    "#         0.7500, 0.7812, 0.6875, 0.8438, 0.8750, 0.9688, 0.4062, 0.2188]).mean()"
   ]
  },
  {
   "cell_type": "code",
   "execution_count": null,
   "id": "348c123f-7cdd-4687-a64d-5737e2d95f1b",
   "metadata": {},
   "outputs": [],
   "source": [
    "wandb.finish()"
   ]
  },
  {
   "cell_type": "markdown",
   "id": "f0282dd1-79b8-4d0f-9b24-4356304a4944",
   "metadata": {},
   "source": [
    "### Predict"
   ]
  },
  {
   "cell_type": "code",
   "execution_count": null,
   "id": "d4ab4ff0-8f17-40ae-9e1d-8589fa8d9286",
   "metadata": {},
   "outputs": [],
   "source": [
    "x, y = next(iter(dm.train_dataloader()))"
   ]
  },
  {
   "cell_type": "code",
   "execution_count": null,
   "id": "5d46ec1f-ae88-4c3c-af95-96e6e53cfd30",
   "metadata": {},
   "outputs": [],
   "source": [
    "# foo = model(x)\n",
    "foo = model(x.to(CFG.device)).detach().cpu()\n",
    "foo.shape"
   ]
  },
  {
   "cell_type": "code",
   "execution_count": null,
   "id": "bd8cd979-93bb-4c20-9f41-e7a348a0d9d3",
   "metadata": {},
   "outputs": [],
   "source": [
    "macc = tm.classification.MultilabelAccuracy(num_labels=26)\n",
    "mapp = tm.classification.MultilabelPrecision(num_labels=26)\n",
    "marr = tm.classification.MultilabelRecall(num_labels=26)\n",
    "maff = tm.classification.MultilabelF1Score(num_labels=26)"
   ]
  },
  {
   "cell_type": "code",
   "execution_count": null,
   "id": "c9341a36-5c7b-4a5b-bc4e-49dd1fbc18ca",
   "metadata": {
    "scrolled": true
   },
   "outputs": [],
   "source": [
    "macc(foo, y), mapp(foo, y), marr(foo, y), maff(foo, y)"
   ]
  },
  {
   "cell_type": "code",
   "execution_count": null,
   "id": "c5a64a87-8d44-44e1-8c02-baa4023fd986",
   "metadata": {
    "scrolled": true
   },
   "outputs": [],
   "source": [
    "((foo.sigmoid() > 0.5) == y).sum()/16/26"
   ]
  },
  {
   "cell_type": "code",
   "execution_count": null,
   "id": "1ab97af0-ba85-439c-9843-d68dce0a089c",
   "metadata": {},
   "outputs": [],
   "source": [
    "((foo.sigmoid() > 0.5) != y).sum()"
   ]
  },
  {
   "cell_type": "code",
   "execution_count": null,
   "id": "6c2efe46-e544-48aa-a4c9-218b150d7afc",
   "metadata": {},
   "outputs": [],
   "source": [
    "(1037.3 - 1026)/1026 * 100"
   ]
  },
  {
   "cell_type": "code",
   "execution_count": null,
   "id": "2e14670e-9069-4d1e-8b38-b7dfc39c298e",
   "metadata": {},
   "outputs": [],
   "source": [
    "torch.argwhere(y > 0).T"
   ]
  },
  {
   "cell_type": "code",
   "execution_count": null,
   "id": "8f0863ed-73e3-44d4-b4ab-82c4864f3c31",
   "metadata": {},
   "outputs": [],
   "source": [
    "bar = foo.sigmoid().numpy()\n",
    "np.argwhere(bar > 0.5).T"
   ]
  },
  {
   "cell_type": "code",
   "execution_count": null,
   "id": "26221d15-942b-4590-a572-43e6157824fe",
   "metadata": {},
   "outputs": [],
   "source": [
    "bar[12]"
   ]
  },
  {
   "cell_type": "markdown",
   "id": "1b0521ef-0cc2-4c2d-a22d-9e63bd7e1cba",
   "metadata": {},
   "source": [
    "# "
   ]
  },
  {
   "cell_type": "code",
   "execution_count": null,
   "id": "f987478d-c147-4447-8c09-895bead15e6b",
   "metadata": {},
   "outputs": [],
   "source": [
    "torch.nn.functional.sigmoid(foo[0])"
   ]
  },
  {
   "cell_type": "code",
   "execution_count": null,
   "id": "a4d25529-b3d7-4f3c-aa5b-70743e67d356",
   "metadata": {},
   "outputs": [],
   "source": [
    "# foo.sigmoid().topk(1, dim=-1)"
   ]
  },
  {
   "cell_type": "code",
   "execution_count": null,
   "id": "3d96fcc3-c853-4abd-a926-9e211598749c",
   "metadata": {},
   "outputs": [],
   "source": []
  }
 ],
 "metadata": {
  "kernelspec": {
   "display_name": "Python 3 (ipykernel)",
   "language": "python",
   "name": "python3"
  },
  "language_info": {
   "codemirror_mode": {
    "name": "ipython",
    "version": 3
   },
   "file_extension": ".py",
   "mimetype": "text/x-python",
   "name": "python",
   "nbconvert_exporter": "python",
   "pygments_lexer": "ipython3",
   "version": "3.10.14"
  }
 },
 "nbformat": 4,
 "nbformat_minor": 5
}
