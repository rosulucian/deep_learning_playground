{
 "cells": [
  {
   "cell_type": "code",
   "execution_count": 3,
   "id": "8ca72880-b3e1-4b21-8d1b-10fd884a2467",
   "metadata": {},
   "outputs": [
    {
     "name": "stdout",
     "output_type": "stream",
     "text": [
      "The autoreload extension is already loaded. To reload it, use:\n",
      "  %reload_ext autoreload\n"
     ]
    }
   ],
   "source": [
    "%load_ext autoreload\n",
    "%autoreload 2"
   ]
  },
  {
   "cell_type": "code",
   "execution_count": 4,
   "id": "a1a1b8cb-ceaf-49bd-bbc8-9ba67bc249eb",
   "metadata": {},
   "outputs": [],
   "source": [
    "import os\n",
    "import cv2\n",
    "import shutil\n",
    "\n",
    "import numpy as np\n",
    "import pandas as pd\n",
    "import pydicom as dicom\n",
    "import seaborn as sns\n",
    "import matplotlib.pyplot as plt\n",
    "\n",
    "from pathlib import Path\n",
    "from tqdm.notebook import tqdm\n",
    "from joblib import Parallel, delayed"
   ]
  },
  {
   "cell_type": "code",
   "execution_count": 5,
   "id": "83c5b81a-dfbe-4ceb-a6d3-187f112ff6b6",
   "metadata": {},
   "outputs": [],
   "source": [
    "train_dir = Path('E:\\data\\RSNA2024')\n",
    "\n",
    "class CFG:\n",
    "    random_seed = 42\n",
    "\n",
    "    size = 256\n",
    "    \n",
    "    ROOT_FOLDER = train_dir\n",
    "    DEST_FOLDER = train_dir / 'original'\n",
    "    IMAGES_DIR = ROOT_FOLDER / 'train_images'\n",
    "    OUTPUT_DIR = ROOT_FOLDER / f'pngs_{size}'\n",
    "    FILES_CSV = DEST_FOLDER / 'train_files.csv'\n",
    "    TRAIN_CSV = ROOT_FOLDER / 'train.csv'\n",
    "    TRAIN_DESC_CSV = ROOT_FOLDER / 'train_series_descriptions.csv'\n",
    "    COORDS_CSV = ROOT_FOLDER / 'train_label_coordinates.csv'"
   ]
  },
  {
   "cell_type": "code",
   "execution_count": 6,
   "id": "1a6148b1-af31-4fe5-98f2-8115bdf3e329",
   "metadata": {},
   "outputs": [
    {
     "data": {
      "text/plain": [
       "WindowsPath('E:/data/RSNA2024/pngs_256')"
      ]
     },
     "execution_count": 6,
     "metadata": {},
     "output_type": "execute_result"
    }
   ],
   "source": [
    "CFG.OUTPUT_DIR"
   ]
  },
  {
   "cell_type": "code",
   "execution_count": 165,
   "id": "f3c5748f-98f1-492f-9058-94ff3ad4e1a6",
   "metadata": {},
   "outputs": [
    {
     "data": {
      "text/plain": [
       "147218"
      ]
     },
     "execution_count": 165,
     "metadata": {},
     "output_type": "execute_result"
    }
   ],
   "source": [
    "files = [str(item) for item in CFG.IMAGES_DIR.rglob('*.dcm') ]\n",
    "len(files)"
   ]
  },
  {
   "cell_type": "code",
   "execution_count": 8,
   "id": "637d5d8d-3ba5-4a6e-be8e-0d635af0b0e1",
   "metadata": {},
   "outputs": [
    {
     "data": {
      "text/plain": [
       "'E:\\\\data\\\\RSNA2024\\\\train_images\\\\1028684462\\\\1958018915\\\\26.dcm'"
      ]
     },
     "execution_count": 8,
     "metadata": {},
     "output_type": "execute_result"
    }
   ],
   "source": [
    "files[1000]"
   ]
  },
  {
   "cell_type": "markdown",
   "id": "0727e83c-90d1-4113-bb38-75ea694a162a",
   "metadata": {},
   "source": [
    "### Get metadata"
   ]
  },
  {
   "cell_type": "code",
   "execution_count": 9,
   "id": "bcba1413-ea16-417d-a047-f6f5cc45b8da",
   "metadata": {},
   "outputs": [],
   "source": [
    "ds = dicom.dcmread(files[63])"
   ]
  },
  {
   "cell_type": "code",
   "execution_count": 10,
   "id": "1c01f7ae-0a61-4200-a156-e3a145ba6f09",
   "metadata": {},
   "outputs": [
    {
     "data": {
      "text/plain": [
       "(462, 448)"
      ]
     },
     "execution_count": 10,
     "metadata": {},
     "output_type": "execute_result"
    }
   ],
   "source": [
    "ds.pixel_array.shape"
   ]
  },
  {
   "cell_type": "code",
   "execution_count": 46,
   "id": "b13655ed-0e7b-4a61-a373-d9325dc0dc4c",
   "metadata": {},
   "outputs": [
    {
     "name": "stdout",
     "output_type": "stream",
     "text": [
      "Dataset.file_meta -------------------------------\n",
      "(0002, 0001) File Meta Information Version       OB: b'\\x00\\x01'\n",
      "(0002, 0002) Media Storage SOP Class UID         UI: Enhanced MR Image Storage\n",
      "(0002, 0003) Media Storage SOP Instance UID      UI: 100206310.1.12\n",
      "(0002, 0010) Transfer Syntax UID                 UI: RLE Lossless\n",
      "(0002, 0012) Implementation Class UID            UI: 1.2.40.0.13.1.1.1\n",
      "(0002, 0013) Implementation Version Name         SH: 'PYDICOM 2.4.2'\n",
      "-------------------------------------------------\n",
      "(0008, 0018) SOP Instance UID                    UI: 100206310.1.12\n",
      "(0008, 0023) Content Date                        DA: '20240503'\n",
      "(0008, 0033) Content Time                        TM: '223744.084561'\n",
      "(0008, 103e) Series Description                  LO: 'T2'\n",
      "(0010, 0020) Patient ID                          LO: '100206310'\n",
      "(0018, 0050) Slice Thickness                     DS: '4.0'\n",
      "(0018, 0088) Spacing Between Slices              DS: '4.48'\n",
      "(0018, 5100) Patient Position                    CS: 'HFS'\n",
      "(0020, 000d) Study Instance UID                  UI: 100206310\n",
      "(0020, 000e) Series Instance UID                 UI: 100206310.1792451510\n",
      "(0020, 0013) Instance Number                     IS: '12'\n",
      "(0020, 0032) Image Position (Patient)            DS: [17.410165861037, -58.370088036308, -397.07162417514]\n",
      "(0020, 0037) Image Orientation (Patient)         DS: [0.03407286005191, 0.9994056428998, 0.00523461057921, -0.0225372470955, 0.00600466399557, -0.999727971252]\n",
      "(0020, 0052) Frame of Reference UID              UI: 1.2.826.0.1.3680043.8.498.81276267968322114091467077873577301238\n",
      "(0020, 1041) Slice Location                      DS: '28.401862438532'\n",
      "(0028, 0002) Samples per Pixel                   US: 1\n",
      "(0028, 0004) Photometric Interpretation          CS: 'MONOCHROME2'\n",
      "(0028, 0010) Rows                                US: 462\n",
      "(0028, 0011) Columns                             US: 448\n",
      "(0028, 0030) Pixel Spacing                       DS: [0.53571426868439, 0.53571426868439]\n",
      "(0028, 0100) Bits Allocated                      US: 16\n",
      "(0028, 0101) Bits Stored                         US: 12\n",
      "(0028, 0102) High Bit                            US: 11\n",
      "(0028, 0103) Pixel Representation                US: 0\n",
      "(0028, 1050) Window Center                       DS: '230.0'\n",
      "(0028, 1051) Window Width                        DS: '534.0'\n",
      "(7fe0, 0010) Pixel Data                          OB: Array of 208974 elements\n"
     ]
    }
   ],
   "source": [
    "print(ds)"
   ]
  },
  {
   "cell_type": "code",
   "execution_count": 108,
   "id": "78fc014e-00ba-4f05-bf0c-4199d728dcd8",
   "metadata": {},
   "outputs": [
    {
     "data": {
      "text/plain": [
       "('PhotometricInterpretation', (0028, 0004))"
      ]
     },
     "execution_count": 108,
     "metadata": {},
     "output_type": "execute_result"
    }
   ],
   "source": [
    "ds.get_item('PhotometricInterpretation').keyword, ds.get_item('PhotometricInterpretation').tag"
   ]
  },
  {
   "cell_type": "code",
   "execution_count": 114,
   "id": "aa64f85b-5783-4ad1-94ef-7fe484665d15",
   "metadata": {
    "scrolled": true
   },
   "outputs": [
    {
     "name": "stdout",
     "output_type": "stream",
     "text": [
      "SOP Instance UID SOPInstanceUID 100206310.1.12\n",
      "Content Date ContentDate 20240503\n",
      "Content Time ContentTime 223744.084561\n",
      "Series Description SeriesDescription T2\n",
      "Patient ID PatientID 100206310\n",
      "Slice Thickness SliceThickness 4\n",
      "Spacing Between Slices SpacingBetweenSlices 4.48\n",
      "Patient Position PatientPosition HFS\n",
      "Study Instance UID StudyInstanceUID 100206310\n",
      "Series Instance UID SeriesInstanceUID 100206310.1792451510\n",
      "Instance Number InstanceNumber 12\n",
      "Image Position (Patient) ImagePositionPatient [17.410165861037, -58.370088036308, -397.07162417514]\n",
      "Image Orientation (Patient) ImageOrientationPatient [0.03407286005191, 0.9994056428998, 0.00523461057921, -0.0225372470955, 0.00600466399557, -0.999727971252]\n",
      "Frame of Reference UID FrameOfReferenceUID 1.2.826.0.1.3680043.8.498.81276267968322114091467077873577301238\n",
      "Slice Location SliceLocation 28.401862438532\n",
      "Samples per Pixel SamplesPerPixel 1\n",
      "Photometric Interpretation PhotometricInterpretation MONOCHROME2\n",
      "Rows Rows 462\n",
      "Columns Columns 448\n",
      "Pixel Spacing PixelSpacing [0.53571426868439, 0.53571426868439]\n",
      "Bits Allocated BitsAllocated 16\n",
      "Bits Stored BitsStored 12\n",
      "High Bit HighBit 11\n",
      "Pixel Representation PixelRepresentation 0\n",
      "Window Center WindowCenter 230\n",
      "Window Width WindowWidth 534\n"
     ]
    }
   ],
   "source": [
    "for i in ds.items():\n",
    "    # print(i[1])\n",
    "    if i[1].keyword == 'PixelData':\n",
    "        continue\n",
    "    print(i[1].name, i[1].keyword, i[1].value)"
   ]
  },
  {
   "cell_type": "code",
   "execution_count": 146,
   "id": "8b0a3401-5d95-4b54-88a0-96bac6308e58",
   "metadata": {},
   "outputs": [
    {
     "data": {
      "text/plain": [
       "'T2'"
      ]
     },
     "execution_count": 146,
     "metadata": {},
     "output_type": "execute_result"
    }
   ],
   "source": [
    "ds.get('SeriesDescription')"
   ]
  },
  {
   "cell_type": "code",
   "execution_count": 13,
   "id": "020777c5-eae1-4f88-b690-6630ddcadb7c",
   "metadata": {},
   "outputs": [
    {
     "data": {
      "text/plain": [
       "pydicom.dataset.FileDataset"
      ]
     },
     "execution_count": 13,
     "metadata": {},
     "output_type": "execute_result"
    }
   ],
   "source": [
    "type(ds)"
   ]
  },
  {
   "cell_type": "code",
   "execution_count": 83,
   "id": "35a296f3-04ca-493a-aa8c-9313f5f8df9f",
   "metadata": {},
   "outputs": [
    {
     "data": {
      "text/plain": [
       "((462, 448), 462, 'MONOCHROME2', 'T2')"
      ]
     },
     "execution_count": 83,
     "metadata": {},
     "output_type": "execute_result"
    }
   ],
   "source": [
    "ds.pixel_array.shape, ds.Rows, ds.PhotometricInterpretation, ds.SeriesDescription"
   ]
  },
  {
   "cell_type": "code",
   "execution_count": 116,
   "id": "e8da3cd0-05f6-4296-a39a-b5ea4d8cebea",
   "metadata": {},
   "outputs": [
    {
     "data": {
      "text/plain": [
       "147218"
      ]
     },
     "execution_count": 116,
     "metadata": {},
     "output_type": "execute_result"
    }
   ],
   "source": [
    "len(files)"
   ]
  },
  {
   "cell_type": "code",
   "execution_count": 126,
   "id": "c2a82605-c3b9-4742-ac5b-83f7fd937c8e",
   "metadata": {},
   "outputs": [
    {
     "data": {
      "text/plain": [
       "(6294, 4)"
      ]
     },
     "execution_count": 126,
     "metadata": {},
     "output_type": "execute_result"
    }
   ],
   "source": [
    "# train_desc_df = pd.read_csv(CFG.TRAIN_DESC_CSV)\n",
    "# # train_desc_df['folders'] = train_desc_df['study_id'] + train_desc_df['series_id']\n",
    "# train_desc_df['filename'] = train_desc_df.apply(lambda row: f'{CFG.IMAGES_DIR}\\\\{row.study_id}\\\\{row.series_id}', axis=1)\n",
    "\n",
    "# train_desc_df.shape"
   ]
  },
  {
   "cell_type": "code",
   "execution_count": 127,
   "id": "66116825-2223-45c1-a086-a025abba4ea1",
   "metadata": {},
   "outputs": [
    {
     "data": {
      "text/plain": [
       "study_id                                                      4003253\n",
       "series_id                                                   702807833\n",
       "series_description                                   Sagittal T2/STIR\n",
       "filename              E:\\data\\RSNA2024\\train_images\\4003253\\702807833\n",
       "Name: 0, dtype: object"
      ]
     },
     "execution_count": 127,
     "metadata": {},
     "output_type": "execute_result"
    }
   ],
   "source": [
    "# train_desc_df.iloc[0]"
   ]
  },
  {
   "cell_type": "code",
   "execution_count": 129,
   "id": "40fd9db7-760d-48cb-a680-60219eb221e2",
   "metadata": {},
   "outputs": [
    {
     "data": {
      "text/plain": [
       "6294"
      ]
     },
     "execution_count": 129,
     "metadata": {},
     "output_type": "execute_result"
    }
   ],
   "source": [
    "# folders = train_desc_df.filename.to_list()\n",
    "\n",
    "# len(folders)"
   ]
  },
  {
   "cell_type": "code",
   "execution_count": 134,
   "id": "bd6f9dda-8d39-4d27-8f57-f84260750f0c",
   "metadata": {},
   "outputs": [
    {
     "data": {
      "text/plain": [
       "15"
      ]
     },
     "execution_count": 134,
     "metadata": {},
     "output_type": "execute_result"
    }
   ],
   "source": [
    "# folder = Path(folders[0])\n",
    "# files = [str(item) for item in folder.rglob('*.dcm') ]\n",
    "# len(files)"
   ]
  },
  {
   "cell_type": "code",
   "execution_count": 138,
   "id": "6c252df0-6b59-49fe-8d9f-6c6d537842de",
   "metadata": {},
   "outputs": [],
   "source": [
    "# [f.split('\\\\')[-1][:-4] for f in files]"
   ]
  },
  {
   "cell_type": "code",
   "execution_count": 166,
   "id": "532a73bd-0f21-4785-94de-9103427e2d7d",
   "metadata": {},
   "outputs": [],
   "source": [
    "keys = ['InstanceNumber', 'Rows', 'Columns', 'SliceThickness', 'SpacingBetweenSlices', 'PatientPosition', 'SeriesDescription']\n",
    "\n",
    "def process(f, size=CFG.size, keys=keys):\n",
    "    series = f.split('\\\\')[-2]\n",
    "    study = f.split('\\\\')[-3]\n",
    "    image = f.split('\\\\')[-1][:-4]\n",
    "    \n",
    "    ds = dicom.dcmread(f)\n",
    "    \n",
    "    values = []\n",
    "\n",
    "    for k in keys:\n",
    "        values.append(ds.get(k))\n",
    "\n",
    "    values = [study, series, image] + values\n",
    "    \n",
    "    return tuple(values)"
   ]
  },
  {
   "cell_type": "code",
   "execution_count": 167,
   "id": "45f08b43-577a-4832-807d-305f87f80e44",
   "metadata": {},
   "outputs": [
    {
     "data": {
      "application/vnd.jupyter.widget-view+json": {
       "model_id": "9cd1dbe6de7d401288c08fe1347a7774",
       "version_major": 2,
       "version_minor": 0
      },
      "text/plain": [
       "  0%|          | 0/147218 [00:00<?, ?it/s]"
      ]
     },
     "metadata": {},
     "output_type": "display_data"
    }
   ],
   "source": [
    "data = Parallel(n_jobs=16)(\n",
    "    delayed(process)(f)\n",
    "    # for f in tqdm(files[:24])\n",
    "    for f in tqdm(files)\n",
    ")"
   ]
  },
  {
   "cell_type": "code",
   "execution_count": 168,
   "id": "7a9fab1d-de9d-4706-b631-bea489861e85",
   "metadata": {},
   "outputs": [
    {
     "data": {
      "text/plain": [
       "147218"
      ]
     },
     "execution_count": 168,
     "metadata": {},
     "output_type": "execute_result"
    }
   ],
   "source": [
    "len(files)"
   ]
  },
  {
   "cell_type": "code",
   "execution_count": 169,
   "id": "a7cb7c5c-4928-4e75-98e7-338fe309eddb",
   "metadata": {},
   "outputs": [
    {
     "data": {
      "text/plain": [
       "[('100206310', '1012284084', '1', '1', 320, 320, '3.5', '3.5', 'HFS', 'T2'),\n",
       " ('100206310', '1012284084', '10', '10', 320, 320, '3.5', '3.5', 'HFS', 'T2')]"
      ]
     },
     "execution_count": 169,
     "metadata": {},
     "output_type": "execute_result"
    }
   ],
   "source": [
    "data[:2]"
   ]
  },
  {
   "cell_type": "code",
   "execution_count": 170,
   "id": "a93e9521-7dab-426e-95ce-11b2168138a7",
   "metadata": {},
   "outputs": [
    {
     "data": {
      "text/plain": [
       "['study_id',\n",
       " 'series_id',\n",
       " 'image',\n",
       " 'instancenumber',\n",
       " 'rows',\n",
       " 'columns',\n",
       " 'slicethickness',\n",
       " 'spacingbetweenslices',\n",
       " 'patientposition',\n",
       " 'seriesdescription']"
      ]
     },
     "execution_count": 170,
     "metadata": {},
     "output_type": "execute_result"
    }
   ],
   "source": [
    "columns = [k.lower() for k in keys]\n",
    "columns = ['study_id', 'series_id', 'image'] + columns\n",
    "\n",
    "columns"
   ]
  },
  {
   "cell_type": "code",
   "execution_count": 171,
   "id": "926ff507-3779-454c-acd3-e8d6910127b5",
   "metadata": {},
   "outputs": [
    {
     "data": {
      "text/plain": [
       "(147218, 10)"
      ]
     },
     "execution_count": 171,
     "metadata": {},
     "output_type": "execute_result"
    }
   ],
   "source": [
    "files_df = pd.DataFrame(data, columns=columns)\n",
    "files_df.shape"
   ]
  },
  {
   "cell_type": "code",
   "execution_count": 172,
   "id": "1ceae89c-c566-463c-9ba7-6d80df1d7ae5",
   "metadata": {},
   "outputs": [
    {
     "data": {
      "text/html": [
       "<div>\n",
       "<style scoped>\n",
       "    .dataframe tbody tr th:only-of-type {\n",
       "        vertical-align: middle;\n",
       "    }\n",
       "\n",
       "    .dataframe tbody tr th {\n",
       "        vertical-align: top;\n",
       "    }\n",
       "\n",
       "    .dataframe thead th {\n",
       "        text-align: right;\n",
       "    }\n",
       "</style>\n",
       "<table border=\"1\" class=\"dataframe\">\n",
       "  <thead>\n",
       "    <tr style=\"text-align: right;\">\n",
       "      <th></th>\n",
       "      <th>study_id</th>\n",
       "      <th>series_id</th>\n",
       "      <th>image</th>\n",
       "      <th>instancenumber</th>\n",
       "      <th>rows</th>\n",
       "      <th>columns</th>\n",
       "      <th>slicethickness</th>\n",
       "      <th>spacingbetweenslices</th>\n",
       "      <th>patientposition</th>\n",
       "      <th>seriesdescription</th>\n",
       "    </tr>\n",
       "  </thead>\n",
       "  <tbody>\n",
       "    <tr>\n",
       "      <th>53275</th>\n",
       "      <td>2421664513</td>\n",
       "      <td>2670719714</td>\n",
       "      <td>13</td>\n",
       "      <td>13</td>\n",
       "      <td>544</td>\n",
       "      <td>512</td>\n",
       "      <td>4.0</td>\n",
       "      <td>4.48</td>\n",
       "      <td>HFS</td>\n",
       "      <td>T1</td>\n",
       "    </tr>\n",
       "    <tr>\n",
       "      <th>36258</th>\n",
       "      <td>1972541574</td>\n",
       "      <td>2167800642</td>\n",
       "      <td>15</td>\n",
       "      <td>15</td>\n",
       "      <td>512</td>\n",
       "      <td>512</td>\n",
       "      <td>4.0</td>\n",
       "      <td>4.00</td>\n",
       "      <td>HFS</td>\n",
       "      <td>T1</td>\n",
       "    </tr>\n",
       "    <tr>\n",
       "      <th>112020</th>\n",
       "      <td>3919334786</td>\n",
       "      <td>59089913</td>\n",
       "      <td>169</td>\n",
       "      <td>169</td>\n",
       "      <td>512</td>\n",
       "      <td>512</td>\n",
       "      <td>2.8</td>\n",
       "      <td>1.40</td>\n",
       "      <td>FFS</td>\n",
       "      <td>T2</td>\n",
       "    </tr>\n",
       "    <tr>\n",
       "      <th>132203</th>\n",
       "      <td>624497208</td>\n",
       "      <td>2606365715</td>\n",
       "      <td>4</td>\n",
       "      <td>4</td>\n",
       "      <td>384</td>\n",
       "      <td>384</td>\n",
       "      <td>4.0</td>\n",
       "      <td>4.40</td>\n",
       "      <td>HFS</td>\n",
       "      <td>T2</td>\n",
       "    </tr>\n",
       "    <tr>\n",
       "      <th>122462</th>\n",
       "      <td>4200324709</td>\n",
       "      <td>1843843230</td>\n",
       "      <td>20</td>\n",
       "      <td>20</td>\n",
       "      <td>324</td>\n",
       "      <td>384</td>\n",
       "      <td>4.0</td>\n",
       "      <td>5.20</td>\n",
       "      <td>HFS</td>\n",
       "      <td>T2</td>\n",
       "    </tr>\n",
       "  </tbody>\n",
       "</table>\n",
       "</div>"
      ],
      "text/plain": [
       "          study_id   series_id image  instancenumber  rows  columns  \\\n",
       "53275   2421664513  2670719714    13              13   544      512   \n",
       "36258   1972541574  2167800642    15              15   512      512   \n",
       "112020  3919334786    59089913   169             169   512      512   \n",
       "132203   624497208  2606365715     4               4   384      384   \n",
       "122462  4200324709  1843843230    20              20   324      384   \n",
       "\n",
       "        slicethickness  spacingbetweenslices patientposition seriesdescription  \n",
       "53275              4.0                  4.48             HFS                T1  \n",
       "36258              4.0                  4.00             HFS                T1  \n",
       "112020             2.8                  1.40             FFS                T2  \n",
       "132203             4.0                  4.40             HFS                T2  \n",
       "122462             4.0                  5.20             HFS                T2  "
      ]
     },
     "execution_count": 172,
     "metadata": {},
     "output_type": "execute_result"
    }
   ],
   "source": [
    "files_df.sample(5)"
   ]
  },
  {
   "cell_type": "code",
   "execution_count": 173,
   "id": "8fa1ba7e-f474-40aa-8c01-b2f58b7769cc",
   "metadata": {},
   "outputs": [],
   "source": [
    "files_df.to_csv(CFG.FILES_CSV, index=False)"
   ]
  },
  {
   "cell_type": "markdown",
   "id": "ef605246-9374-48bc-87d4-8696bd89a150",
   "metadata": {},
   "source": [
    "### Convert files to png"
   ]
  },
  {
   "cell_type": "code",
   "execution_count": 14,
   "id": "a3baa548-c6fd-435a-a416-05d53946b137",
   "metadata": {},
   "outputs": [
    {
     "data": {
      "text/plain": [
       "['E:', 'data', 'RSNA2024', 'train_images', '100206310', '1012284084', '1.dcm']"
      ]
     },
     "execution_count": 14,
     "metadata": {},
     "output_type": "execute_result"
    }
   ],
   "source": [
    "f = files[0]\n",
    "f.split('\\\\')"
   ]
  },
  {
   "cell_type": "code",
   "execution_count": 78,
   "id": "4d64ba74-2834-4fad-9b02-ed98940d9513",
   "metadata": {},
   "outputs": [
    {
     "data": {
      "application/vnd.jupyter.widget-view+json": {
       "model_id": "f8269add817c482f953acc02ed3c9fcc",
       "version_major": 2,
       "version_minor": 0
      },
      "text/plain": [
       "  0%|          | 0/3 [00:00<?, ?it/s]"
      ]
     },
     "metadata": {},
     "output_type": "display_data"
    },
    {
     "name": "stdout",
     "output_type": "stream",
     "text": [
      "100206310 14\n"
     ]
    },
    {
     "data": {
      "image/png": "[encoded data removed]",
      "text/plain": [
       "<Figure size 500x500 with 1 Axes>"
      ]
     },
     "metadata": {},
     "output_type": "display_data"
    },
    {
     "name": "stdout",
     "output_type": "stream",
     "text": [
      "100206310 15\n"
     ]
    },
    {
     "data": {
      "image/png": "[encoded data removed]",
      "text/plain": [
       "<Figure size 500x500 with 1 Axes>"
      ]
     },
     "metadata": {},
     "output_type": "display_data"
    },
    {
     "name": "stdout",
     "output_type": "stream",
     "text": [
      "100206310 16\n"
     ]
    },
    {
     "data": {
      "image/png": "[encoded data removed]",
      "text/plain": [
       "<Figure size 500x500 with 1 Axes>"
      ]
     },
     "metadata": {},
     "output_type": "display_data"
    }
   ],
   "source": [
    "for f in tqdm(files[65:68]):\n",
    "    series = f.split('\\\\')[-2]\n",
    "    patient = f.split('\\\\')[-3]\n",
    "    image = f.split('\\\\')[-1][:-4]\n",
    "    print(patient, image)\n",
    "\n",
    "    ds = dicom.dcmread(f)\n",
    "    img = ds.pixel_array\n",
    "\n",
    "    img = (img - img.min()) / (img.max() - img.min())\n",
    "\n",
    "    if ds.PhotometricInterpretation == \"MONOCHROME1\":\n",
    "        img = 1 - img\n",
    "        \n",
    "    plt.figure(figsize=(5, 5))\n",
    "    plt.imshow(img[:100], cmap=\"gray\")\n",
    "    plt.title(f\"{patient} {image}\")\n",
    "    plt.show()"
   ]
  },
  {
   "cell_type": "code",
   "execution_count": 54,
   "id": "7dff7796-d8db-4f0e-a901-3272aeae12c7",
   "metadata": {},
   "outputs": [],
   "source": [
    "shutil.rmtree(str(CFG.OUTPUT_DIR))\n",
    "os.makedirs(str(CFG.OUTPUT_DIR), exist_ok=True)"
   ]
  },
  {
   "cell_type": "code",
   "execution_count": 84,
   "id": "bc4b3ee3-96ce-41f0-9655-89fb93e3cb9a",
   "metadata": {},
   "outputs": [],
   "source": [
    "def process(f, size=CFG.size, save_folder=str(CFG.OUTPUT_DIR), extension=\"png\"):\n",
    "    series = f.split('\\\\')[-2]\n",
    "    study = f.split('\\\\')[-3]\n",
    "    image = f.split('\\\\')[-1][:-4]\n",
    "\n",
    "    ds = dicom.dcmread(f)\n",
    "    img = ds.pixel_array\n",
    "\n",
    "    img = (img - img.min()) / (img.max() - img.min())\n",
    "\n",
    "    if ds.PhotometricInterpretation == \"MONOCHROME1\":\n",
    "        img = 1 - img\n",
    "\n",
    "    img = cv2.resize(img, (size, size))\n",
    "\n",
    "    file_name =  f\"{save_folder}\\\\{study}_{series}_{image}.{extension}\"\n",
    "\n",
    "    cv2.imwrite(file_name, (img * 255).astype(np.uint8))\n",
    "\n",
    "    return study, series, image, ds.Rows, ds.Columns"
   ]
  },
  {
   "cell_type": "code",
   "execution_count": 85,
   "id": "3b589449-5995-451e-9f56-adc38b876901",
   "metadata": {},
   "outputs": [],
   "source": [
    "# process(files[0])"
   ]
  },
  {
   "cell_type": "code",
   "execution_count": 89,
   "id": "a2073001-1531-4bad-ba4b-acd01aca6226",
   "metadata": {},
   "outputs": [
    {
     "data": {
      "application/vnd.jupyter.widget-view+json": {
       "model_id": "b723ba34758b4bf9abf402c7fb7dffb0",
       "version_major": 2,
       "version_minor": 0
      },
      "text/plain": [
       "  0%|          | 0/147218 [00:00<?, ?it/s]"
      ]
     },
     "metadata": {},
     "output_type": "display_data"
    }
   ],
   "source": [
    "data = Parallel(n_jobs=16)(\n",
    "    delayed(process)(f)\n",
    "    # for f in tqdm(files[:24])\n",
    "    for f in tqdm(files)\n",
    ")"
   ]
  },
  {
   "cell_type": "code",
   "execution_count": 115,
   "id": "d8273f63-e7bb-49c5-80e0-bdb69754b72a",
   "metadata": {},
   "outputs": [
    {
     "ename": "NameError",
     "evalue": "name 'data' is not defined",
     "output_type": "error",
     "traceback": [
      "\u001b[1;31m---------------------------------------------------------------------------\u001b[0m",
      "\u001b[1;31mNameError\u001b[0m                                 Traceback (most recent call last)",
      "Cell \u001b[1;32mIn[115], line 1\u001b[0m\n\u001b[1;32m----> 1\u001b[0m \u001b[43mdata\u001b[49m[:\u001b[38;5;241m10\u001b[39m]\n",
      "\u001b[1;31mNameError\u001b[0m: name 'data' is not defined"
     ]
    }
   ],
   "source": [
    "data[:10]"
   ]
  },
  {
   "cell_type": "code",
   "execution_count": 67,
   "id": "19f29886-5bae-42c0-bf8c-48c25a8ae756",
   "metadata": {},
   "outputs": [],
   "source": [
    "# list(zip(*foo))"
   ]
  },
  {
   "cell_type": "code",
   "execution_count": 90,
   "id": "21fbbefe-c32f-489b-8002-cc35a77e419a",
   "metadata": {},
   "outputs": [
    {
     "data": {
      "text/plain": [
       "(147218, 5)"
      ]
     },
     "execution_count": 90,
     "metadata": {},
     "output_type": "execute_result"
    }
   ],
   "source": [
    "files_df = pd.DataFrame(data, columns=['study_id', 'series_id', 'instance', 'rows', 'columns'])\n",
    "files_df.shape"
   ]
  },
  {
   "cell_type": "code",
   "execution_count": 95,
   "id": "f51cea10-d199-4c3c-a922-17180de3ae62",
   "metadata": {},
   "outputs": [],
   "source": [
    "# files_df.to_csv(CFG.FILES_CSV, index=False)"
   ]
  },
  {
   "cell_type": "code",
   "execution_count": null,
   "id": "bcb0f30d-b737-4ad7-95b1-51fa3524644f",
   "metadata": {},
   "outputs": [],
   "source": []
  },
  {
   "cell_type": "code",
   "execution_count": null,
   "id": "209ee585-5173-498f-b005-7b5eaf17358c",
   "metadata": {},
   "outputs": [],
   "source": []
  }
 ],
 "metadata": {
  "kernelspec": {
   "display_name": "Python 3 (ipykernel)",
   "language": "python",
   "name": "python3"
  },
  "language_info": {
   "codemirror_mode": {
    "name": "ipython",
    "version": 3
   },
   "file_extension": ".py",
   "mimetype": "text/x-python",
   "name": "python",
   "nbconvert_exporter": "python",
   "pygments_lexer": "ipython3",
   "version": "3.10.14"
  }
 },
 "nbformat": 4,
 "nbformat_minor": 5
}
