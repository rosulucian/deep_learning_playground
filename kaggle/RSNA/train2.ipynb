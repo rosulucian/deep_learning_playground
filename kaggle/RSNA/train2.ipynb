{
 "cells": [
  {
   "cell_type": "code",
   "execution_count": 1,
   "id": "94998d9c-77e0-4a4b-a65c-04a3c2565b75",
   "metadata": {},
   "outputs": [],
   "source": [
    "%load_ext autoreload\n",
    "%autoreload 2"
   ]
  },
  {
   "cell_type": "markdown",
   "id": "07de2b8f-844e-4672-a41c-52beb2dae447",
   "metadata": {},
   "source": [
    "### Imports"
   ]
  },
  {
   "cell_type": "code",
   "execution_count": 2,
   "id": "6b9c245d-05d4-4ce0-8463-b4701d87ed55",
   "metadata": {},
   "outputs": [],
   "source": [
    "import os\n",
    "import time\n",
    "import wandb\n",
    "import torch\n",
    "import random\n",
    "import torchvision\n",
    "\n",
    "import numpy as np\n",
    "import pandas as pd\n",
    "import torchmetrics as tm \n",
    "# import plotly.express as px\n",
    "import pytorch_lightning as pl\n",
    "import matplotlib.pyplot as plt\n",
    "\n",
    "from torch import nn\n",
    "from pathlib import Path, PurePath\n",
    "from torch.utils.data import Dataset, DataLoader\n",
    "from torch.optim import Adam, AdamW, RMSprop # optmizers\n",
    "# from warmup_scheduler import GradualWarmupScheduler\n",
    "from sklearn.model_selection import train_test_split\n",
    "from torch.optim.lr_scheduler import CosineAnnealingLR, ReduceLROnPlateau # Learning rate schedulers\n",
    "\n",
    "import albumentations as A\n",
    "# from albumentations.pytorch import ToTensorV2\n",
    "\n",
    "from pytorch_lightning.loggers import WandbLogger\n",
    "from pytorch_lightning.callbacks import Callback, LearningRateMonitor\n",
    "from torchmetrics.wrappers import ClasswiseWrapper\n",
    "from torchmetrics import MetricCollection\n",
    "from torchmetrics.classification import MultilabelAccuracy, MultilabelPrecision, MultilabelRecall, MultilabelF1Score\n",
    "\n",
    "import timm"
   ]
  },
  {
   "cell_type": "code",
   "execution_count": 3,
   "id": "1ed3f2de-96ba-4f8e-9ba2-56b6a9ae1f03",
   "metadata": {},
   "outputs": [
    {
     "name": "stdout",
     "output_type": "stream",
     "text": [
      "timm version 1.0.8\n",
      "torch version 2.3.1\n"
     ]
    }
   ],
   "source": [
    "print('timm version', timm.__version__)\n",
    "print('torch version', torch.__version__)"
   ]
  },
  {
   "cell_type": "code",
   "execution_count": 4,
   "id": "ab5d0053-46c9-42af-b831-18e658830eff",
   "metadata": {},
   "outputs": [
    {
     "name": "stderr",
     "output_type": "stream",
     "text": [
      "wandb: Currently logged in as: rosu-lucian. Use `wandb login --relogin` to force relogin\n",
      "wandb: WARNING If you're specifying your api key in code, ensure this code is not shared publicly.\n",
      "wandb: WARNING Consider setting the WANDB_API_KEY environment variable, or running `wandb login` from the command line.\n",
      "wandb: Appending key for api.wandb.ai to your netrc file: C:\\Users\\Asus\\.netrc\n"
     ]
    },
    {
     "data": {
      "text/plain": [
       "True"
      ]
     },
     "execution_count": 4,
     "metadata": {},
     "output_type": "execute_result"
    }
   ],
   "source": [
    "wandb.login(key=os.getenv('wandb_api_key'))"
   ]
  },
  {
   "cell_type": "code",
   "execution_count": 5,
   "id": "28f4adb1-2f1b-4a20-a2bc-7e084943e493",
   "metadata": {},
   "outputs": [
    {
     "name": "stdout",
     "output_type": "stream",
     "text": [
      "cuda\n"
     ]
    }
   ],
   "source": [
    "# detect and define device \n",
    "device = torch.device('cuda' if torch.cuda.is_available() else 'cpu')\n",
    "\n",
    "print(device)"
   ]
  },
  {
   "cell_type": "code",
   "execution_count": 6,
   "id": "37c591ff-f6fc-49b5-bb2f-48fba3df6dac",
   "metadata": {},
   "outputs": [],
   "source": [
    "# for reproducibility\n",
    "def seed_torch(seed):\n",
    "    random.seed(seed)\n",
    "    os.environ['PYTHONHASHSEED'] = str(seed)\n",
    "    np.random.seed(seed)\n",
    "    torch.manual_seed(seed)\n",
    "    torch.cuda.manual_seed(seed)\n",
    "    torch.backends.cudnn.deterministic = True"
   ]
  },
  {
   "cell_type": "markdown",
   "id": "9d204a47-ec8f-43a3-b0e4-b2d1f57071c9",
   "metadata": {},
   "source": [
    "### Config"
   ]
  },
  {
   "cell_type": "code",
   "execution_count": 7,
   "id": "50f17de9-ed35-48ec-9f16-6dde1762dd00",
   "metadata": {},
   "outputs": [],
   "source": [
    "# TODO: maybe use condition and level for classes\n",
    "classes = ['SCS', 'RNFN', 'LNFN', 'LSS', 'RSS'] + ['H'] # add healthy class\n",
    "\n",
    "# classes = ['SCS', 'RNFN', 'LNFN'] + ['H'] # add healthy class\n",
    "\n",
    "# classes = ['LSS', 'RSS'] + ['H'] # add healthy class\n",
    "\n",
    "# classes = ['SCSL1L2', 'SCSL2L3', 'SCSL3L4', 'SCSL4L5', 'SCSL5S1', 'RNFNL4L5',\n",
    "#        'RNFNL5S1', 'RNFNL3L4', 'RNFNL1L2', 'RNFNL2L3', 'LNFNL1L2',\n",
    "#        'LNFNL4L5', 'LNFNL5S1', 'LNFNL2L3', 'LNFNL3L4', 'LSSL1L2',\n",
    "#        'RSSL1L2', 'LSSL2L3', 'RSSL2L3', 'LSSL3L4', 'RSSL3L4', 'LSSL4L5',\n",
    "#        'RSSL4L5', 'LSSL5S1', 'RSSL5S1'] + ['H']\n",
    "\n",
    "num_classes = len(classes)\n",
    "class2id = {b: i for i, b in enumerate(classes)}"
   ]
  },
  {
   "cell_type": "code",
   "execution_count": 8,
   "id": "2a88ef82-ca27-4626-8e23-9d6c39ed413f",
   "metadata": {},
   "outputs": [],
   "source": [
    "train_dir = Path('E:\\data\\RSNA2024')\n",
    "\n",
    "class CFG:\n",
    "\n",
    "    project = 'rsna-2'\n",
    "    comment = '128neck'\n",
    "\n",
    "    ### model\n",
    "    model_name = 'eca_nfnet_l0' # 'resnet34', 'resnet200d', 'efficientnet_b1_pruned', 'efficientnetv2_m', efficientnet_b7 \n",
    "\n",
    "    image_size = 256\n",
    "    bottleneck_dim = 128\n",
    "    \n",
    "    ROOT_FOLDER = train_dir\n",
    "    IMAGES_DIR = ROOT_FOLDER / 'train_images'\n",
    "    PNG_DIR = ROOT_FOLDER / f'pngs_{image_size}'\n",
    "    FILES_CSV = ROOT_FOLDER / 'train_files.csv'\n",
    "    TRAIN_CSV = ROOT_FOLDER / 'train.csv'\n",
    "    TRAIN_DESC_CSV = ROOT_FOLDER / 'train_series_descriptions.csv'\n",
    "    COORDS_CSV = ROOT_FOLDER / 'train_label_coordinates.csv'\n",
    "\n",
    "    RESULTS_DIR = train_dir / 'results'\n",
    "    CKPT_DIR = RESULTS_DIR / 'ckpt'\n",
    "\n",
    "    classes = classes\n",
    "\n",
    "    split_fraction = 0.95\n",
    "\n",
    "    MIXUP = False\n",
    "\n",
    "    ### training\n",
    "    BATCH_SIZE = 32\n",
    "    \n",
    "    ### Optimizer\n",
    "    N_EPOCHS = 10\n",
    "    USE_SCHD = False\n",
    "    WARM_EPOCHS = 3\n",
    "    COS_EPOCHS = N_EPOCHS - WARM_EPOCHS\n",
    "\n",
    "    # LEARNING_RATE = 5*1e-5 # best\n",
    "    LEARNING_RATE = 5e-5\n",
    "    \n",
    "    weight_decay = 1e-6 # for adamw\n",
    "\n",
    "    device = 'cuda' if torch.cuda.is_available() else 'cpu'\n",
    "\n",
    "    ### split train and validation sets\n",
    "    num_workers = 16\n",
    "\n",
    "    random_seed = 42\n",
    "\n",
    "CFG.N_LABELS = len(CFG.classes)\n",
    "\n",
    "seed_torch(seed = CFG.random_seed)"
   ]
  },
  {
   "cell_type": "code",
   "execution_count": 9,
   "id": "1ca8909d-bca7-41a4-8c2c-02679e626cf5",
   "metadata": {},
   "outputs": [
    {
     "data": {
      "text/plain": [
       "6"
      ]
     },
     "execution_count": 9,
     "metadata": {},
     "output_type": "execute_result"
    }
   ],
   "source": [
    "CFG.N_LABELS "
   ]
  },
  {
   "cell_type": "markdown",
   "id": "7986b07d-26fc-4516-b960-510a24466451",
   "metadata": {},
   "source": [
    "### Load data"
   ]
  },
  {
   "cell_type": "code",
   "execution_count": 10,
   "id": "dbcffb55-8b94-457b-b37c-c03b1bb2eff6",
   "metadata": {},
   "outputs": [
    {
     "data": {
      "text/plain": [
       "((1975, 26), (6294, 3), (48692, 18), (147218, 20))"
      ]
     },
     "execution_count": 10,
     "metadata": {},
     "output_type": "execute_result"
    }
   ],
   "source": [
    "train_df = pd.read_csv(CFG.TRAIN_CSV)\n",
    "train_desc_df = pd.read_csv(CFG.TRAIN_DESC_CSV)\n",
    "coords_df = pd.read_csv(CFG.COORDS_CSV)\n",
    "files_df = pd.read_csv(CFG.FILES_CSV)\n",
    "\n",
    "train_df.shape, train_desc_df.shape, coords_df.shape, files_df.shape"
   ]
  },
  {
   "cell_type": "code",
   "execution_count": 11,
   "id": "7c8fb69c-4b8a-4e5d-9b14-4f105d14e76f",
   "metadata": {},
   "outputs": [
    {
     "data": {
      "text/html": [
       "<div>\n",
       "<style scoped>\n",
       "    .dataframe tbody tr th:only-of-type {\n",
       "        vertical-align: middle;\n",
       "    }\n",
       "\n",
       "    .dataframe tbody tr th {\n",
       "        vertical-align: top;\n",
       "    }\n",
       "\n",
       "    .dataframe thead th {\n",
       "        text-align: right;\n",
       "    }\n",
       "</style>\n",
       "<table border=\"1\" class=\"dataframe\">\n",
       "  <thead>\n",
       "    <tr style=\"text-align: right;\">\n",
       "      <th></th>\n",
       "      <th>study_id</th>\n",
       "      <th>SCSL1L2</th>\n",
       "      <th>SCSL2L3</th>\n",
       "      <th>SCSL3L4</th>\n",
       "      <th>SCSL4L5</th>\n",
       "      <th>SCSL5S1</th>\n",
       "      <th>LNFNL1L2</th>\n",
       "      <th>LNFNL2L3</th>\n",
       "      <th>LNFNL3L4</th>\n",
       "      <th>LNFNL4L5</th>\n",
       "      <th>...</th>\n",
       "      <th>LSSL1L2</th>\n",
       "      <th>LSSL2L3</th>\n",
       "      <th>LSSL3L4</th>\n",
       "      <th>LSSL4L5</th>\n",
       "      <th>LSSL5S1</th>\n",
       "      <th>RSSL1L2</th>\n",
       "      <th>RSSL2L3</th>\n",
       "      <th>RSSL3L4</th>\n",
       "      <th>RSSL4L5</th>\n",
       "      <th>RSSL5S1</th>\n",
       "    </tr>\n",
       "  </thead>\n",
       "  <tbody>\n",
       "    <tr>\n",
       "      <th>1825</th>\n",
       "      <td>3956571539</td>\n",
       "      <td>N</td>\n",
       "      <td>N</td>\n",
       "      <td>N</td>\n",
       "      <td>N</td>\n",
       "      <td>N</td>\n",
       "      <td>N</td>\n",
       "      <td>N</td>\n",
       "      <td>N</td>\n",
       "      <td>M</td>\n",
       "      <td>...</td>\n",
       "      <td>N</td>\n",
       "      <td>N</td>\n",
       "      <td>N</td>\n",
       "      <td>M</td>\n",
       "      <td>N</td>\n",
       "      <td>N</td>\n",
       "      <td>N</td>\n",
       "      <td>N</td>\n",
       "      <td>N</td>\n",
       "      <td>M</td>\n",
       "    </tr>\n",
       "    <tr>\n",
       "      <th>1735</th>\n",
       "      <td>3768387090</td>\n",
       "      <td>N</td>\n",
       "      <td>N</td>\n",
       "      <td>N</td>\n",
       "      <td>M</td>\n",
       "      <td>N</td>\n",
       "      <td>N</td>\n",
       "      <td>N</td>\n",
       "      <td>N</td>\n",
       "      <td>N</td>\n",
       "      <td>...</td>\n",
       "      <td>N</td>\n",
       "      <td>N</td>\n",
       "      <td>N</td>\n",
       "      <td>S</td>\n",
       "      <td>N</td>\n",
       "      <td>N</td>\n",
       "      <td>N</td>\n",
       "      <td>N</td>\n",
       "      <td>N</td>\n",
       "      <td>N</td>\n",
       "    </tr>\n",
       "    <tr>\n",
       "      <th>678</th>\n",
       "      <td>1504031267</td>\n",
       "      <td>N</td>\n",
       "      <td>N</td>\n",
       "      <td>N</td>\n",
       "      <td>N</td>\n",
       "      <td>N</td>\n",
       "      <td>N</td>\n",
       "      <td>N</td>\n",
       "      <td>M</td>\n",
       "      <td>M</td>\n",
       "      <td>...</td>\n",
       "      <td>N</td>\n",
       "      <td>M</td>\n",
       "      <td>M</td>\n",
       "      <td>N</td>\n",
       "      <td>N</td>\n",
       "      <td>N</td>\n",
       "      <td>N</td>\n",
       "      <td>N</td>\n",
       "      <td>N</td>\n",
       "      <td>N</td>\n",
       "    </tr>\n",
       "    <tr>\n",
       "      <th>351</th>\n",
       "      <td>783154228</td>\n",
       "      <td>N</td>\n",
       "      <td>M</td>\n",
       "      <td>S</td>\n",
       "      <td>N</td>\n",
       "      <td>N</td>\n",
       "      <td>M</td>\n",
       "      <td>S</td>\n",
       "      <td>M</td>\n",
       "      <td>S</td>\n",
       "      <td>...</td>\n",
       "      <td>N</td>\n",
       "      <td>M</td>\n",
       "      <td>M</td>\n",
       "      <td>N</td>\n",
       "      <td>N</td>\n",
       "      <td>N</td>\n",
       "      <td>M</td>\n",
       "      <td>M</td>\n",
       "      <td>M</td>\n",
       "      <td>M</td>\n",
       "    </tr>\n",
       "    <tr>\n",
       "      <th>1791</th>\n",
       "      <td>3884015124</td>\n",
       "      <td>M</td>\n",
       "      <td>N</td>\n",
       "      <td>M</td>\n",
       "      <td>N</td>\n",
       "      <td>N</td>\n",
       "      <td>N</td>\n",
       "      <td>N</td>\n",
       "      <td>N</td>\n",
       "      <td>M</td>\n",
       "      <td>...</td>\n",
       "      <td>M</td>\n",
       "      <td>N</td>\n",
       "      <td>N</td>\n",
       "      <td>S</td>\n",
       "      <td>S</td>\n",
       "      <td>M</td>\n",
       "      <td>N</td>\n",
       "      <td>M</td>\n",
       "      <td>M</td>\n",
       "      <td>M</td>\n",
       "    </tr>\n",
       "  </tbody>\n",
       "</table>\n",
       "<p>5 rows × 26 columns</p>\n",
       "</div>"
      ],
      "text/plain": [
       "        study_id SCSL1L2 SCSL2L3 SCSL3L4 SCSL4L5 SCSL5S1 LNFNL1L2 LNFNL2L3  \\\n",
       "1825  3956571539       N       N       N       N       N        N        N   \n",
       "1735  3768387090       N       N       N       M       N        N        N   \n",
       "678   1504031267       N       N       N       N       N        N        N   \n",
       "351    783154228       N       M       S       N       N        M        S   \n",
       "1791  3884015124       M       N       M       N       N        N        N   \n",
       "\n",
       "     LNFNL3L4 LNFNL4L5  ... LSSL1L2 LSSL2L3 LSSL3L4 LSSL4L5 LSSL5S1 RSSL1L2  \\\n",
       "1825        N        M  ...       N       N       N       M       N       N   \n",
       "1735        N        N  ...       N       N       N       S       N       N   \n",
       "678         M        M  ...       N       M       M       N       N       N   \n",
       "351         M        S  ...       N       M       M       N       N       N   \n",
       "1791        N        M  ...       M       N       N       S       S       M   \n",
       "\n",
       "     RSSL2L3 RSSL3L4 RSSL4L5 RSSL5S1  \n",
       "1825       N       N       N       M  \n",
       "1735       N       N       N       N  \n",
       "678        N       N       N       N  \n",
       "351        M       M       M       M  \n",
       "1791       N       M       M       M  \n",
       "\n",
       "[5 rows x 26 columns]"
      ]
     },
     "execution_count": 11,
     "metadata": {},
     "output_type": "execute_result"
    }
   ],
   "source": [
    "train_df.sample(5)"
   ]
  },
  {
   "cell_type": "code",
   "execution_count": 12,
   "id": "dab0492a-5fda-4eec-a0e9-01e41b9a4d1d",
   "metadata": {},
   "outputs": [
    {
     "data": {
      "text/html": [
       "<div>\n",
       "<style scoped>\n",
       "    .dataframe tbody tr th:only-of-type {\n",
       "        vertical-align: middle;\n",
       "    }\n",
       "\n",
       "    .dataframe tbody tr th {\n",
       "        vertical-align: top;\n",
       "    }\n",
       "\n",
       "    .dataframe thead th {\n",
       "        text-align: right;\n",
       "    }\n",
       "</style>\n",
       "<table border=\"1\" class=\"dataframe\">\n",
       "  <thead>\n",
       "    <tr style=\"text-align: right;\">\n",
       "      <th></th>\n",
       "      <th>study_id</th>\n",
       "      <th>series_id</th>\n",
       "      <th>instance</th>\n",
       "      <th>condition</th>\n",
       "      <th>level</th>\n",
       "      <th>x</th>\n",
       "      <th>y</th>\n",
       "      <th>ss_id</th>\n",
       "      <th>instance_id</th>\n",
       "      <th>cl</th>\n",
       "      <th>series_description</th>\n",
       "      <th>rows</th>\n",
       "      <th>columns</th>\n",
       "      <th>filename</th>\n",
       "      <th>patientposition</th>\n",
       "      <th>x_perc</th>\n",
       "      <th>y_perc</th>\n",
       "      <th>inst_perc</th>\n",
       "    </tr>\n",
       "  </thead>\n",
       "  <tbody>\n",
       "    <tr>\n",
       "      <th>9389</th>\n",
       "      <td>838134337</td>\n",
       "      <td>1345841225</td>\n",
       "      <td>8</td>\n",
       "      <td>RNFN</td>\n",
       "      <td>L1L2</td>\n",
       "      <td>299.627093</td>\n",
       "      <td>141.857522</td>\n",
       "      <td>838134337_1345841225</td>\n",
       "      <td>838134337_1345841225_8</td>\n",
       "      <td>RNFNL1L2</td>\n",
       "      <td>Sagittal T1</td>\n",
       "      <td>512</td>\n",
       "      <td>512</td>\n",
       "      <td>E:\\data\\RSNA2024\\pngs_256\\838134337_1345841225...</td>\n",
       "      <td>HFS</td>\n",
       "      <td>0.585209</td>\n",
       "      <td>0.277065</td>\n",
       "      <td>0.350000</td>\n",
       "    </tr>\n",
       "    <tr>\n",
       "      <th>34671</th>\n",
       "      <td>3068697362</td>\n",
       "      <td>598012396</td>\n",
       "      <td>5</td>\n",
       "      <td>LNFN</td>\n",
       "      <td>L5S1</td>\n",
       "      <td>132.562118</td>\n",
       "      <td>195.910387</td>\n",
       "      <td>3068697362_598012396</td>\n",
       "      <td>3068697362_598012396_5</td>\n",
       "      <td>LNFNL5S1</td>\n",
       "      <td>Sagittal T1</td>\n",
       "      <td>256</td>\n",
       "      <td>256</td>\n",
       "      <td>E:\\data\\RSNA2024\\pngs_256\\3068697362_598012396...</td>\n",
       "      <td>HFS</td>\n",
       "      <td>0.517821</td>\n",
       "      <td>0.765275</td>\n",
       "      <td>0.222222</td>\n",
       "    </tr>\n",
       "  </tbody>\n",
       "</table>\n",
       "</div>"
      ],
      "text/plain": [
       "         study_id   series_id  instance condition level           x  \\\n",
       "9389    838134337  1345841225         8      RNFN  L1L2  299.627093   \n",
       "34671  3068697362   598012396         5      LNFN  L5S1  132.562118   \n",
       "\n",
       "                y                 ss_id             instance_id        cl  \\\n",
       "9389   141.857522  838134337_1345841225  838134337_1345841225_8  RNFNL1L2   \n",
       "34671  195.910387  3068697362_598012396  3068697362_598012396_5  LNFNL5S1   \n",
       "\n",
       "      series_description  rows  columns  \\\n",
       "9389         Sagittal T1   512      512   \n",
       "34671        Sagittal T1   256      256   \n",
       "\n",
       "                                                filename patientposition  \\\n",
       "9389   E:\\data\\RSNA2024\\pngs_256\\838134337_1345841225...             HFS   \n",
       "34671  E:\\data\\RSNA2024\\pngs_256\\3068697362_598012396...             HFS   \n",
       "\n",
       "         x_perc    y_perc  inst_perc  \n",
       "9389   0.585209  0.277065   0.350000  \n",
       "34671  0.517821  0.765275   0.222222  "
      ]
     },
     "execution_count": 12,
     "metadata": {},
     "output_type": "execute_result"
    }
   ],
   "source": [
    "coords_df.sample(2)"
   ]
  },
  {
   "cell_type": "code",
   "execution_count": 13,
   "id": "14952793-0c6d-41c7-b499-ec7de1626ec4",
   "metadata": {},
   "outputs": [
    {
     "data": {
      "text/plain": [
       "array(['SCS', 'RNFN', 'LNFN', 'LSS', 'RSS'], dtype=object)"
      ]
     },
     "execution_count": 13,
     "metadata": {},
     "output_type": "execute_result"
    }
   ],
   "source": [
    "coords_df.condition.unique()"
   ]
  },
  {
   "cell_type": "code",
   "execution_count": 14,
   "id": "a6001622-409c-458a-9c0b-ca67bf4cfd51",
   "metadata": {},
   "outputs": [
    {
     "data": {
      "text/plain": [
       "array(['SCSL1L2', 'SCSL2L3', 'SCSL3L4', 'SCSL4L5', 'SCSL5S1', 'RNFNL4L5',\n",
       "       'RNFNL5S1', 'RNFNL3L4', 'RNFNL1L2', 'RNFNL2L3', 'LNFNL1L2',\n",
       "       'LNFNL4L5', 'LNFNL5S1', 'LNFNL2L3', 'LNFNL3L4', 'LSSL1L2',\n",
       "       'RSSL1L2', 'LSSL2L3', 'RSSL2L3', 'LSSL3L4', 'RSSL3L4', 'LSSL4L5',\n",
       "       'RSSL4L5', 'LSSL5S1', 'RSSL5S1'], dtype=object)"
      ]
     },
     "execution_count": 14,
     "metadata": {},
     "output_type": "execute_result"
    }
   ],
   "source": [
    "coords_df.cl.unique()"
   ]
  },
  {
   "cell_type": "code",
   "execution_count": 15,
   "id": "32cba838-ac37-4132-8798-4cd30e915717",
   "metadata": {},
   "outputs": [],
   "source": [
    "# coords_df.groupby(['study_id','series_id']).instance.count()"
   ]
  },
  {
   "cell_type": "code",
   "execution_count": 16,
   "id": "b25f6d1b-5457-4192-886e-67196f1dac60",
   "metadata": {},
   "outputs": [
    {
     "data": {
      "text/html": [
       "<div>\n",
       "<style scoped>\n",
       "    .dataframe tbody tr th:only-of-type {\n",
       "        vertical-align: middle;\n",
       "    }\n",
       "\n",
       "    .dataframe tbody tr th {\n",
       "        vertical-align: top;\n",
       "    }\n",
       "\n",
       "    .dataframe thead th {\n",
       "        text-align: right;\n",
       "    }\n",
       "</style>\n",
       "<table border=\"1\" class=\"dataframe\">\n",
       "  <thead>\n",
       "    <tr style=\"text-align: right;\">\n",
       "      <th></th>\n",
       "      <th>study_id</th>\n",
       "      <th>series_id</th>\n",
       "      <th>series_description</th>\n",
       "    </tr>\n",
       "  </thead>\n",
       "  <tbody>\n",
       "    <tr>\n",
       "      <th>3465</th>\n",
       "      <td>2403128572</td>\n",
       "      <td>1121608562</td>\n",
       "      <td>Sagittal T2/STIR</td>\n",
       "    </tr>\n",
       "    <tr>\n",
       "      <th>2413</th>\n",
       "      <td>1671291853</td>\n",
       "      <td>1440089134</td>\n",
       "      <td>Axial T2</td>\n",
       "    </tr>\n",
       "    <tr>\n",
       "      <th>5109</th>\n",
       "      <td>3480977444</td>\n",
       "      <td>2937779262</td>\n",
       "      <td>Axial T2</td>\n",
       "    </tr>\n",
       "    <tr>\n",
       "      <th>3727</th>\n",
       "      <td>2568819355</td>\n",
       "      <td>3366910731</td>\n",
       "      <td>Axial T2</td>\n",
       "    </tr>\n",
       "    <tr>\n",
       "      <th>5996</th>\n",
       "      <td>4095029738</td>\n",
       "      <td>3276164246</td>\n",
       "      <td>Sagittal T2/STIR</td>\n",
       "    </tr>\n",
       "  </tbody>\n",
       "</table>\n",
       "</div>"
      ],
      "text/plain": [
       "        study_id   series_id series_description\n",
       "3465  2403128572  1121608562   Sagittal T2/STIR\n",
       "2413  1671291853  1440089134           Axial T2\n",
       "5109  3480977444  2937779262           Axial T2\n",
       "3727  2568819355  3366910731           Axial T2\n",
       "5996  4095029738  3276164246   Sagittal T2/STIR"
      ]
     },
     "execution_count": 16,
     "metadata": {},
     "output_type": "execute_result"
    }
   ],
   "source": [
    "train_desc_df.sample(5)"
   ]
  },
  {
   "cell_type": "code",
   "execution_count": 17,
   "id": "0aecf1f7-deae-4c20-80c2-e63a58b86e8a",
   "metadata": {},
   "outputs": [
    {
     "data": {
      "text/html": [
       "<div>\n",
       "<style scoped>\n",
       "    .dataframe tbody tr th:only-of-type {\n",
       "        vertical-align: middle;\n",
       "    }\n",
       "\n",
       "    .dataframe tbody tr th {\n",
       "        vertical-align: top;\n",
       "    }\n",
       "\n",
       "    .dataframe thead th {\n",
       "        text-align: right;\n",
       "    }\n",
       "</style>\n",
       "<table border=\"1\" class=\"dataframe\">\n",
       "  <thead>\n",
       "    <tr style=\"text-align: right;\">\n",
       "      <th></th>\n",
       "      <th>study_id</th>\n",
       "      <th>series_id</th>\n",
       "      <th>image</th>\n",
       "      <th>proj</th>\n",
       "      <th>instancenumber</th>\n",
       "      <th>rows</th>\n",
       "      <th>columns</th>\n",
       "      <th>slicethickness</th>\n",
       "      <th>spacingbetweenslices</th>\n",
       "      <th>patientposition</th>\n",
       "      <th>seriesdescription</th>\n",
       "      <th>ss_id</th>\n",
       "      <th>instance_id</th>\n",
       "      <th>filename</th>\n",
       "      <th>series_description</th>\n",
       "      <th>healthy</th>\n",
       "      <th>inst_min</th>\n",
       "      <th>inst_max</th>\n",
       "      <th>inst</th>\n",
       "      <th>inst_perc</th>\n",
       "    </tr>\n",
       "  </thead>\n",
       "  <tbody>\n",
       "    <tr>\n",
       "      <th>14665</th>\n",
       "      <td>3870889542</td>\n",
       "      <td>1025648500</td>\n",
       "      <td>5</td>\n",
       "      <td>-16</td>\n",
       "      <td>5</td>\n",
       "      <td>512</td>\n",
       "      <td>512</td>\n",
       "      <td>4.0</td>\n",
       "      <td>5.0</td>\n",
       "      <td>FFS</td>\n",
       "      <td>T2</td>\n",
       "      <td>3870889542_1025648500</td>\n",
       "      <td>3870889542_1025648500_5</td>\n",
       "      <td>E:\\data\\RSNA2024\\pngs_256\\3870889542_102564850...</td>\n",
       "      <td>Sagittal T2/STIR</td>\n",
       "      <td>True</td>\n",
       "      <td>1</td>\n",
       "      <td>16</td>\n",
       "      <td>4</td>\n",
       "      <td>0.250000</td>\n",
       "    </tr>\n",
       "    <tr>\n",
       "      <th>13125</th>\n",
       "      <td>3895795003</td>\n",
       "      <td>4117993048</td>\n",
       "      <td>21</td>\n",
       "      <td>-437</td>\n",
       "      <td>21</td>\n",
       "      <td>320</td>\n",
       "      <td>320</td>\n",
       "      <td>4.0</td>\n",
       "      <td>4.4</td>\n",
       "      <td>HFS</td>\n",
       "      <td>T2</td>\n",
       "      <td>3895795003_4117993048</td>\n",
       "      <td>3895795003_4117993048_21</td>\n",
       "      <td>E:\\data\\RSNA2024\\pngs_256\\3895795003_411799304...</td>\n",
       "      <td>Axial T2</td>\n",
       "      <td>False</td>\n",
       "      <td>1</td>\n",
       "      <td>24</td>\n",
       "      <td>20</td>\n",
       "      <td>0.833333</td>\n",
       "    </tr>\n",
       "    <tr>\n",
       "      <th>26491</th>\n",
       "      <td>3507232306</td>\n",
       "      <td>68802292</td>\n",
       "      <td>11</td>\n",
       "      <td>17</td>\n",
       "      <td>11</td>\n",
       "      <td>512</td>\n",
       "      <td>512</td>\n",
       "      <td>3.0</td>\n",
       "      <td>4.0</td>\n",
       "      <td>HFS</td>\n",
       "      <td>T1</td>\n",
       "      <td>3507232306_68802292</td>\n",
       "      <td>3507232306_68802292_11</td>\n",
       "      <td>E:\\data\\RSNA2024\\pngs_256\\3507232306_68802292_...</td>\n",
       "      <td>Sagittal T1</td>\n",
       "      <td>True</td>\n",
       "      <td>1</td>\n",
       "      <td>15</td>\n",
       "      <td>10</td>\n",
       "      <td>0.666667</td>\n",
       "    </tr>\n",
       "  </tbody>\n",
       "</table>\n",
       "</div>"
      ],
      "text/plain": [
       "         study_id   series_id  image  proj  instancenumber  rows  columns  \\\n",
       "14665  3870889542  1025648500      5   -16               5   512      512   \n",
       "13125  3895795003  4117993048     21  -437              21   320      320   \n",
       "26491  3507232306    68802292     11    17              11   512      512   \n",
       "\n",
       "       slicethickness  spacingbetweenslices patientposition seriesdescription  \\\n",
       "14665             4.0                   5.0             FFS                T2   \n",
       "13125             4.0                   4.4             HFS                T2   \n",
       "26491             3.0                   4.0             HFS                T1   \n",
       "\n",
       "                       ss_id               instance_id  \\\n",
       "14665  3870889542_1025648500   3870889542_1025648500_5   \n",
       "13125  3895795003_4117993048  3895795003_4117993048_21   \n",
       "26491    3507232306_68802292    3507232306_68802292_11   \n",
       "\n",
       "                                                filename series_description  \\\n",
       "14665  E:\\data\\RSNA2024\\pngs_256\\3870889542_102564850...   Sagittal T2/STIR   \n",
       "13125  E:\\data\\RSNA2024\\pngs_256\\3895795003_411799304...           Axial T2   \n",
       "26491  E:\\data\\RSNA2024\\pngs_256\\3507232306_68802292_...        Sagittal T1   \n",
       "\n",
       "       healthy  inst_min  inst_max  inst  inst_perc  \n",
       "14665     True         1        16     4   0.250000  \n",
       "13125    False         1        24    20   0.833333  \n",
       "26491     True         1        15    10   0.666667  "
      ]
     },
     "execution_count": 17,
     "metadata": {},
     "output_type": "execute_result"
    }
   ],
   "source": [
    "files_df.sample(3)"
   ]
  },
  {
   "cell_type": "code",
   "execution_count": 18,
   "id": "ef87e649-93e0-4ff0-b267-cbf154535c8d",
   "metadata": {},
   "outputs": [
    {
     "data": {
      "text/plain": [
       "(147218, 20)"
      ]
     },
     "execution_count": 18,
     "metadata": {},
     "output_type": "execute_result"
    }
   ],
   "source": [
    "files_df.shape"
   ]
  },
  {
   "cell_type": "code",
   "execution_count": 19,
   "id": "128955be-0698-4c1e-bdf5-4f26b3d47b5a",
   "metadata": {},
   "outputs": [
    {
     "data": {
      "text/plain": [
       "(24546, 6291, 147218)"
      ]
     },
     "execution_count": 19,
     "metadata": {},
     "output_type": "execute_result"
    }
   ],
   "source": [
    "# labels, potive imgs, total imgs\n",
    "coords_df.instance_id.nunique(), coords_df.ss_id.nunique(), files_df.shape[0]"
   ]
  },
  {
   "cell_type": "code",
   "execution_count": 20,
   "id": "06664a85-a3ab-4bb9-8e60-c34e9fdc53c5",
   "metadata": {},
   "outputs": [
    {
     "data": {
      "text/html": [
       "<div>\n",
       "<style scoped>\n",
       "    .dataframe tbody tr th:only-of-type {\n",
       "        vertical-align: middle;\n",
       "    }\n",
       "\n",
       "    .dataframe tbody tr th {\n",
       "        vertical-align: top;\n",
       "    }\n",
       "\n",
       "    .dataframe thead th {\n",
       "        text-align: right;\n",
       "    }\n",
       "</style>\n",
       "<table border=\"1\" class=\"dataframe\">\n",
       "  <thead>\n",
       "    <tr style=\"text-align: right;\">\n",
       "      <th></th>\n",
       "      <th>study_id</th>\n",
       "      <th>series_id</th>\n",
       "      <th>instance</th>\n",
       "      <th>condition</th>\n",
       "      <th>level</th>\n",
       "      <th>x</th>\n",
       "      <th>y</th>\n",
       "      <th>ss_id</th>\n",
       "      <th>instance_id</th>\n",
       "      <th>cl</th>\n",
       "      <th>series_description</th>\n",
       "      <th>rows</th>\n",
       "      <th>columns</th>\n",
       "      <th>filename</th>\n",
       "      <th>patientposition</th>\n",
       "      <th>x_perc</th>\n",
       "      <th>y_perc</th>\n",
       "      <th>inst_perc</th>\n",
       "    </tr>\n",
       "  </thead>\n",
       "  <tbody>\n",
       "    <tr>\n",
       "      <th>34000</th>\n",
       "      <td>3010856283</td>\n",
       "      <td>3908286977</td>\n",
       "      <td>9</td>\n",
       "      <td>SCS</td>\n",
       "      <td>L3L4</td>\n",
       "      <td>167.832287</td>\n",
       "      <td>148.588357</td>\n",
       "      <td>3010856283_3908286977</td>\n",
       "      <td>3010856283_3908286977_9</td>\n",
       "      <td>SCSL3L4</td>\n",
       "      <td>Sagittal T2/STIR</td>\n",
       "      <td>320</td>\n",
       "      <td>320</td>\n",
       "      <td>E:\\data\\RSNA2024\\pngs_256\\3010856283_390828697...</td>\n",
       "      <td>HFS</td>\n",
       "      <td>0.524476</td>\n",
       "      <td>0.464339</td>\n",
       "      <td>0.470588</td>\n",
       "    </tr>\n",
       "    <tr>\n",
       "      <th>35159</th>\n",
       "      <td>3127048494</td>\n",
       "      <td>4135498856</td>\n",
       "      <td>10</td>\n",
       "      <td>LSS</td>\n",
       "      <td>L3L4</td>\n",
       "      <td>274.673837</td>\n",
       "      <td>262.827798</td>\n",
       "      <td>3127048494_4135498856</td>\n",
       "      <td>3127048494_4135498856_10</td>\n",
       "      <td>LSSL3L4</td>\n",
       "      <td>Axial T2</td>\n",
       "      <td>512</td>\n",
       "      <td>512</td>\n",
       "      <td>E:\\data\\RSNA2024\\pngs_256\\3127048494_413549885...</td>\n",
       "      <td>HFS</td>\n",
       "      <td>0.536472</td>\n",
       "      <td>0.513336</td>\n",
       "      <td>0.450000</td>\n",
       "    </tr>\n",
       "    <tr>\n",
       "      <th>35173</th>\n",
       "      <td>3128795155</td>\n",
       "      <td>483456514</td>\n",
       "      <td>6</td>\n",
       "      <td>RNFN</td>\n",
       "      <td>L3L4</td>\n",
       "      <td>224.246055</td>\n",
       "      <td>234.605452</td>\n",
       "      <td>3128795155_483456514</td>\n",
       "      <td>3128795155_483456514_6</td>\n",
       "      <td>RNFNL3L4</td>\n",
       "      <td>Sagittal T1</td>\n",
       "      <td>448</td>\n",
       "      <td>448</td>\n",
       "      <td>E:\\data\\RSNA2024\\pngs_256\\3128795155_483456514...</td>\n",
       "      <td>HFS</td>\n",
       "      <td>0.500549</td>\n",
       "      <td>0.523673</td>\n",
       "      <td>0.238095</td>\n",
       "    </tr>\n",
       "  </tbody>\n",
       "</table>\n",
       "</div>"
      ],
      "text/plain": [
       "         study_id   series_id  instance condition level           x  \\\n",
       "34000  3010856283  3908286977         9       SCS  L3L4  167.832287   \n",
       "35159  3127048494  4135498856        10       LSS  L3L4  274.673837   \n",
       "35173  3128795155   483456514         6      RNFN  L3L4  224.246055   \n",
       "\n",
       "                y                  ss_id               instance_id        cl  \\\n",
       "34000  148.588357  3010856283_3908286977   3010856283_3908286977_9   SCSL3L4   \n",
       "35159  262.827798  3127048494_4135498856  3127048494_4135498856_10   LSSL3L4   \n",
       "35173  234.605452   3128795155_483456514    3128795155_483456514_6  RNFNL3L4   \n",
       "\n",
       "      series_description  rows  columns  \\\n",
       "34000   Sagittal T2/STIR   320      320   \n",
       "35159           Axial T2   512      512   \n",
       "35173        Sagittal T1   448      448   \n",
       "\n",
       "                                                filename patientposition  \\\n",
       "34000  E:\\data\\RSNA2024\\pngs_256\\3010856283_390828697...             HFS   \n",
       "35159  E:\\data\\RSNA2024\\pngs_256\\3127048494_413549885...             HFS   \n",
       "35173  E:\\data\\RSNA2024\\pngs_256\\3128795155_483456514...             HFS   \n",
       "\n",
       "         x_perc    y_perc  inst_perc  \n",
       "34000  0.524476  0.464339   0.470588  \n",
       "35159  0.536472  0.513336   0.450000  \n",
       "35173  0.500549  0.523673   0.238095  "
      ]
     },
     "execution_count": 20,
     "metadata": {},
     "output_type": "execute_result"
    }
   ],
   "source": [
    "coords_df.sample(3)"
   ]
  },
  {
   "cell_type": "code",
   "execution_count": 21,
   "id": "26d9d011-fc2e-46e0-81df-ff88b1bf4944",
   "metadata": {},
   "outputs": [
    {
     "data": {
      "text/plain": [
       "((147218, 20), (48692, 18))"
      ]
     },
     "execution_count": 21,
     "metadata": {},
     "output_type": "execute_result"
    }
   ],
   "source": [
    "files_df.shape, coords_df.shape"
   ]
  },
  {
   "cell_type": "code",
   "execution_count": 22,
   "id": "2f8833fa-9464-4ed0-9106-c292394aad9f",
   "metadata": {},
   "outputs": [
    {
     "data": {
      "text/plain": [
       "(24546, 24546)"
      ]
     },
     "execution_count": 22,
     "metadata": {},
     "output_type": "execute_result"
    }
   ],
   "source": [
    "coords_df.instance_id.nunique(), coords_df.filename.nunique()"
   ]
  },
  {
   "cell_type": "code",
   "execution_count": 23,
   "id": "443e8317-70ae-4983-a9ec-9daef8e3b156",
   "metadata": {},
   "outputs": [
    {
     "data": {
      "text/plain": [
       "(1, 10, 1.983704065835574)"
      ]
     },
     "execution_count": 23,
     "metadata": {},
     "output_type": "execute_result"
    }
   ],
   "source": [
    "# conditions per file\n",
    "grp = coords_df.groupby('instance_id').condition\n",
    "grp.count().min(), grp.count().max(), grp.count().mean()"
   ]
  },
  {
   "cell_type": "code",
   "execution_count": 24,
   "id": "6253049a-244e-4e6a-baf8-b08605a7be41",
   "metadata": {},
   "outputs": [
    {
     "data": {
      "text/html": [
       "<div>\n",
       "<style scoped>\n",
       "    .dataframe tbody tr th:only-of-type {\n",
       "        vertical-align: middle;\n",
       "    }\n",
       "\n",
       "    .dataframe tbody tr th {\n",
       "        vertical-align: top;\n",
       "    }\n",
       "\n",
       "    .dataframe thead th {\n",
       "        text-align: right;\n",
       "    }\n",
       "</style>\n",
       "<table border=\"1\" class=\"dataframe\">\n",
       "  <thead>\n",
       "    <tr style=\"text-align: right;\">\n",
       "      <th></th>\n",
       "      <th>study_id</th>\n",
       "      <th>series_id</th>\n",
       "      <th>instance</th>\n",
       "      <th>condition</th>\n",
       "      <th>level</th>\n",
       "      <th>x</th>\n",
       "      <th>y</th>\n",
       "      <th>ss_id</th>\n",
       "      <th>instance_id</th>\n",
       "      <th>cl</th>\n",
       "      <th>series_description</th>\n",
       "      <th>rows</th>\n",
       "      <th>columns</th>\n",
       "      <th>filename</th>\n",
       "      <th>patientposition</th>\n",
       "      <th>x_perc</th>\n",
       "      <th>y_perc</th>\n",
       "      <th>inst_perc</th>\n",
       "    </tr>\n",
       "  </thead>\n",
       "  <tbody>\n",
       "    <tr>\n",
       "      <th>28080</th>\n",
       "      <td>2509953825</td>\n",
       "      <td>3594374345</td>\n",
       "      <td>13</td>\n",
       "      <td>LNFN</td>\n",
       "      <td>L1L2</td>\n",
       "      <td>261.574913</td>\n",
       "      <td>169.923345</td>\n",
       "      <td>2509953825_3594374345</td>\n",
       "      <td>2509953825_3594374345_13</td>\n",
       "      <td>LNFNL1L2</td>\n",
       "      <td>Sagittal T1</td>\n",
       "      <td>512</td>\n",
       "      <td>512</td>\n",
       "      <td>E:\\data\\RSNA2024\\pngs_256\\2509953825_359437434...</td>\n",
       "      <td>HFS</td>\n",
       "      <td>0.510889</td>\n",
       "      <td>0.331882</td>\n",
       "      <td>0.666667</td>\n",
       "    </tr>\n",
       "    <tr>\n",
       "      <th>28081</th>\n",
       "      <td>2509953825</td>\n",
       "      <td>3594374345</td>\n",
       "      <td>13</td>\n",
       "      <td>LNFN</td>\n",
       "      <td>L2L3</td>\n",
       "      <td>255.331010</td>\n",
       "      <td>211.846690</td>\n",
       "      <td>2509953825_3594374345</td>\n",
       "      <td>2509953825_3594374345_13</td>\n",
       "      <td>LNFNL2L3</td>\n",
       "      <td>Sagittal T1</td>\n",
       "      <td>512</td>\n",
       "      <td>512</td>\n",
       "      <td>E:\\data\\RSNA2024\\pngs_256\\2509953825_359437434...</td>\n",
       "      <td>HFS</td>\n",
       "      <td>0.498693</td>\n",
       "      <td>0.413763</td>\n",
       "      <td>0.666667</td>\n",
       "    </tr>\n",
       "    <tr>\n",
       "      <th>28082</th>\n",
       "      <td>2509953825</td>\n",
       "      <td>3594374345</td>\n",
       "      <td>13</td>\n",
       "      <td>LNFN</td>\n",
       "      <td>L3L4</td>\n",
       "      <td>252.655052</td>\n",
       "      <td>252.878049</td>\n",
       "      <td>2509953825_3594374345</td>\n",
       "      <td>2509953825_3594374345_13</td>\n",
       "      <td>LNFNL3L4</td>\n",
       "      <td>Sagittal T1</td>\n",
       "      <td>512</td>\n",
       "      <td>512</td>\n",
       "      <td>E:\\data\\RSNA2024\\pngs_256\\2509953825_359437434...</td>\n",
       "      <td>HFS</td>\n",
       "      <td>0.493467</td>\n",
       "      <td>0.493902</td>\n",
       "      <td>0.666667</td>\n",
       "    </tr>\n",
       "    <tr>\n",
       "      <th>28083</th>\n",
       "      <td>2509953825</td>\n",
       "      <td>3594374345</td>\n",
       "      <td>13</td>\n",
       "      <td>LNFN</td>\n",
       "      <td>L4L5</td>\n",
       "      <td>258.006969</td>\n",
       "      <td>294.801394</td>\n",
       "      <td>2509953825_3594374345</td>\n",
       "      <td>2509953825_3594374345_13</td>\n",
       "      <td>LNFNL4L5</td>\n",
       "      <td>Sagittal T1</td>\n",
       "      <td>512</td>\n",
       "      <td>512</td>\n",
       "      <td>E:\\data\\RSNA2024\\pngs_256\\2509953825_359437434...</td>\n",
       "      <td>HFS</td>\n",
       "      <td>0.503920</td>\n",
       "      <td>0.575784</td>\n",
       "      <td>0.666667</td>\n",
       "    </tr>\n",
       "    <tr>\n",
       "      <th>28084</th>\n",
       "      <td>2509953825</td>\n",
       "      <td>3594374345</td>\n",
       "      <td>13</td>\n",
       "      <td>LNFN</td>\n",
       "      <td>L5S1</td>\n",
       "      <td>279.414634</td>\n",
       "      <td>333.156794</td>\n",
       "      <td>2509953825_3594374345</td>\n",
       "      <td>2509953825_3594374345_13</td>\n",
       "      <td>LNFNL5S1</td>\n",
       "      <td>Sagittal T1</td>\n",
       "      <td>512</td>\n",
       "      <td>512</td>\n",
       "      <td>E:\\data\\RSNA2024\\pngs_256\\2509953825_359437434...</td>\n",
       "      <td>HFS</td>\n",
       "      <td>0.545732</td>\n",
       "      <td>0.650697</td>\n",
       "      <td>0.666667</td>\n",
       "    </tr>\n",
       "  </tbody>\n",
       "</table>\n",
       "</div>"
      ],
      "text/plain": [
       "         study_id   series_id  instance condition level           x  \\\n",
       "28080  2509953825  3594374345        13      LNFN  L1L2  261.574913   \n",
       "28081  2509953825  3594374345        13      LNFN  L2L3  255.331010   \n",
       "28082  2509953825  3594374345        13      LNFN  L3L4  252.655052   \n",
       "28083  2509953825  3594374345        13      LNFN  L4L5  258.006969   \n",
       "28084  2509953825  3594374345        13      LNFN  L5S1  279.414634   \n",
       "\n",
       "                y                  ss_id               instance_id        cl  \\\n",
       "28080  169.923345  2509953825_3594374345  2509953825_3594374345_13  LNFNL1L2   \n",
       "28081  211.846690  2509953825_3594374345  2509953825_3594374345_13  LNFNL2L3   \n",
       "28082  252.878049  2509953825_3594374345  2509953825_3594374345_13  LNFNL3L4   \n",
       "28083  294.801394  2509953825_3594374345  2509953825_3594374345_13  LNFNL4L5   \n",
       "28084  333.156794  2509953825_3594374345  2509953825_3594374345_13  LNFNL5S1   \n",
       "\n",
       "      series_description  rows  columns  \\\n",
       "28080        Sagittal T1   512      512   \n",
       "28081        Sagittal T1   512      512   \n",
       "28082        Sagittal T1   512      512   \n",
       "28083        Sagittal T1   512      512   \n",
       "28084        Sagittal T1   512      512   \n",
       "\n",
       "                                                filename patientposition  \\\n",
       "28080  E:\\data\\RSNA2024\\pngs_256\\2509953825_359437434...             HFS   \n",
       "28081  E:\\data\\RSNA2024\\pngs_256\\2509953825_359437434...             HFS   \n",
       "28082  E:\\data\\RSNA2024\\pngs_256\\2509953825_359437434...             HFS   \n",
       "28083  E:\\data\\RSNA2024\\pngs_256\\2509953825_359437434...             HFS   \n",
       "28084  E:\\data\\RSNA2024\\pngs_256\\2509953825_359437434...             HFS   \n",
       "\n",
       "         x_perc    y_perc  inst_perc  \n",
       "28080  0.510889  0.331882   0.666667  \n",
       "28081  0.498693  0.413763   0.666667  \n",
       "28082  0.493467  0.493902   0.666667  \n",
       "28083  0.503920  0.575784   0.666667  \n",
       "28084  0.545732  0.650697   0.666667  "
      ]
     },
     "execution_count": 24,
     "metadata": {},
     "output_type": "execute_result"
    }
   ],
   "source": [
    "inst_id = '2509953825_3594374345_13'\n",
    "\n",
    "coords_df[coords_df['instance_id'] == inst_id]"
   ]
  },
  {
   "cell_type": "code",
   "execution_count": 25,
   "id": "b0d4358d-22c6-4588-a2d2-059233c68f31",
   "metadata": {},
   "outputs": [
    {
     "data": {
      "text/plain": [
       "['LNFNL1L2', 'LNFNL2L3', 'LNFNL3L4', 'LNFNL4L5', 'LNFNL5S1']"
      ]
     },
     "execution_count": 25,
     "metadata": {},
     "output_type": "execute_result"
    }
   ],
   "source": [
    "coords_df[coords_df['instance_id'] == inst_id].cl.to_list()"
   ]
  },
  {
   "cell_type": "code",
   "execution_count": 26,
   "id": "f92de686-ed67-4991-a211-42f256a93863",
   "metadata": {
    "scrolled": true
   },
   "outputs": [],
   "source": [
    "# list(coords_df.filename.unique())"
   ]
  },
  {
   "cell_type": "code",
   "execution_count": null,
   "id": "5a68144d-b40f-4049-8a81-c0887e57b01c",
   "metadata": {},
   "outputs": [],
   "source": []
  },
  {
   "cell_type": "markdown",
   "id": "78a7156d-257e-4f21-b5d3-51d7589d194b",
   "metadata": {},
   "source": [
    "### Dataset"
   ]
  },
  {
   "cell_type": "code",
   "execution_count": 27,
   "id": "6d105ade-e285-42ed-b856-f3431f9e748a",
   "metadata": {},
   "outputs": [],
   "source": [
    "from dataset import rsna_dataset"
   ]
  },
  {
   "cell_type": "code",
   "execution_count": 28,
   "id": "80b35829-93f4-4c8d-8979-0e547ac50716",
   "metadata": {},
   "outputs": [
    {
     "data": {
      "text/plain": [
       "(122672, 20)"
      ]
     },
     "execution_count": 28,
     "metadata": {},
     "output_type": "execute_result"
    }
   ],
   "source": [
    "selection = files_df[files_df['healthy'] == True]\n",
    "selection.shape"
   ]
  },
  {
   "cell_type": "code",
   "execution_count": null,
   "id": "ccb0e950-d655-490d-8725-7e93261bb04d",
   "metadata": {},
   "outputs": [],
   "source": []
  },
  {
   "cell_type": "code",
   "execution_count": 29,
   "id": "6f5988b4-3135-4505-8743-3f7b83125722",
   "metadata": {},
   "outputs": [
    {
     "name": "stdout",
     "output_type": "stream",
     "text": [
      "122672\n",
      "(3, 256, 256) torch.Size([6])\n",
      "float32 torch.float32\n"
     ]
    }
   ],
   "source": [
    "dset = rsna_dataset(selection, coords_df, CFG)\n",
    "\n",
    "print(dset.__len__())\n",
    "\n",
    "img, label, = dset.__getitem__(2)\n",
    "print(img.shape, label.shape)\n",
    "print(img.dtype, label.dtype)"
   ]
  },
  {
   "cell_type": "code",
   "execution_count": 30,
   "id": "1513eb2f-c404-4dc2-936e-5b89ce5af489",
   "metadata": {},
   "outputs": [
    {
     "data": {
      "text/plain": [
       "tensor([0., 0., 0., 0., 0., 1.])"
      ]
     },
     "execution_count": 30,
     "metadata": {},
     "output_type": "execute_result"
    }
   ],
   "source": [
    "label"
   ]
  },
  {
   "cell_type": "code",
   "execution_count": 31,
   "id": "b99f1870-a841-4bcf-b946-9c56b7810499",
   "metadata": {},
   "outputs": [
    {
     "data": {
      "text/plain": [
       "(24546, 20)"
      ]
     },
     "execution_count": 31,
     "metadata": {},
     "output_type": "execute_result"
    }
   ],
   "source": [
    "selection = files_df[files_df['healthy'] == False]\n",
    "selection.shape"
   ]
  },
  {
   "cell_type": "code",
   "execution_count": 105,
   "id": "253019be-6878-4b03-b1a0-339c25658579",
   "metadata": {},
   "outputs": [
    {
     "name": "stdout",
     "output_type": "stream",
     "text": [
      "24546\n",
      "(3, 256, 256) torch.Size([6])\n",
      "float32 torch.float32\n"
     ]
    },
    {
     "data": {
      "text/plain": [
       "tensor([0., 0., 0., 1., 1., 0.])"
      ]
     },
     "execution_count": 105,
     "metadata": {},
     "output_type": "execute_result"
    }
   ],
   "source": [
    "dset = rsna_dataset(selection, coords_df, CFG)\n",
    "\n",
    "print(dset.__len__())\n",
    "\n",
    "img, label, = dset.__getitem__(8)\n",
    "print(img.shape, label.shape)\n",
    "print(img.dtype, label.dtype)\n",
    "label"
   ]
  },
  {
   "cell_type": "code",
   "execution_count": 34,
   "id": "4dc563cc-53d1-4488-9746-2961155d5fa0",
   "metadata": {},
   "outputs": [
    {
     "data": {
      "text/plain": [
       "(23.364578, 27.800598, 0.0, 243.0)"
      ]
     },
     "execution_count": 34,
     "metadata": {},
     "output_type": "execute_result"
    }
   ],
   "source": [
    "img.mean(), img.std(), img.min(), img.max()"
   ]
  },
  {
   "cell_type": "code",
   "execution_count": 35,
   "id": "9318e781-203f-4d53-a613-a9995cc324ba",
   "metadata": {},
   "outputs": [
    {
     "data": {
      "text/plain": [
       "<matplotlib.image.AxesImage at 0x19e86296770>"
      ]
     },
     "execution_count": 35,
     "metadata": {},
     "output_type": "execute_result"
    },
    {
     "data": {
      "image/png": "[encoded data removed]",
      "text/plain": [
       "<Figure size 640x480 with 1 Axes>"
      ]
     },
     "metadata": {},
     "output_type": "display_data"
    }
   ],
   "source": [
    "plt.imshow(img[0], cmap='gray')"
   ]
  },
  {
   "cell_type": "code",
   "execution_count": null,
   "id": "4eec7d6b-ccd5-46d2-aaf5-f46fb7d957c9",
   "metadata": {},
   "outputs": [],
   "source": []
  },
  {
   "cell_type": "markdown",
   "id": "446e8786-56df-4a29-8074-ba222f7af068",
   "metadata": {},
   "source": [
    "### Datamodule"
   ]
  },
  {
   "cell_type": "code",
   "execution_count": 36,
   "id": "b3166903-b2b7-40b1-981d-2d1e3ff4aa84",
   "metadata": {},
   "outputs": [],
   "source": [
    "from dataset import rsna_dataset"
   ]
  },
  {
   "cell_type": "code",
   "execution_count": 37,
   "id": "50e79488-ab65-4a65-9a8b-db6a20df6b20",
   "metadata": {},
   "outputs": [],
   "source": [
    "class rsna_datamodule(pl.LightningDataModule):\n",
    "    def __init__(self, train_df, val_df, coords_df, cfg=CFG, train_tfs=None, val_tfs=None):\n",
    "        super().__init__()\n",
    "        \n",
    "        self.train_df = train_df\n",
    "        self.val_df = val_df\n",
    "        self.coords_df = coords_df\n",
    "        \n",
    "        self.train_bs = cfg.BATCH_SIZE\n",
    "        self.val_bs = cfg.BATCH_SIZE\n",
    "\n",
    "        self.train_tfs = train_tfs\n",
    "        self.val_tfs = val_tfs\n",
    "\n",
    "        self.cfg = cfg\n",
    "        \n",
    "        self.num_workers = cfg.num_workers\n",
    "        \n",
    "    def train_dataloader(self):\n",
    "        train_ds = rsna_dataset(self.train_df, self.coords_df, self.cfg, tfs=self.train_tfs, mode='train')\n",
    "        \n",
    "        train_loader = torch.utils.data.DataLoader(\n",
    "            train_ds,\n",
    "            batch_size=self.train_bs,\n",
    "            pin_memory=False,\n",
    "            drop_last=False,\n",
    "            shuffle=True,\n",
    "            persistent_workers=True,\n",
    "            num_workers=self.num_workers,\n",
    "        )\n",
    "        \n",
    "        return train_loader\n",
    "        \n",
    "    def val_dataloader(self):\n",
    "        val_ds = rsna_dataset(self.val_df, self.coords_df, self.cfg, tfs=self.val_tfs, mode='val')\n",
    "        \n",
    "        val_loader = torch.utils.data.DataLoader(\n",
    "            val_ds,\n",
    "            batch_size=self.val_bs,\n",
    "            pin_memory=False,\n",
    "            drop_last=False,\n",
    "            shuffle=False,\n",
    "            persistent_workers=True,\n",
    "            num_workers=2,\n",
    "        )\n",
    "        \n",
    "        return val_loader"
   ]
  },
  {
   "cell_type": "code",
   "execution_count": 38,
   "id": "f5e6f575-3a3f-41c4-947f-0ae9496981a2",
   "metadata": {},
   "outputs": [
    {
     "data": {
      "text/plain": [
       "(torch.Size([16, 3, 256, 256]),\n",
       " torch.Size([16, 6]),\n",
       " torch.float32,\n",
       " torch.float32)"
      ]
     },
     "execution_count": 38,
     "metadata": {},
     "output_type": "execute_result"
    }
   ],
   "source": [
    "\n",
    "\n",
    "t_df = selection[:-100]\n",
    "# t_df = pd.concat([meta_df[:-100], ul_df[:-100]], ignore_index=True)\n",
    "v_df = selection[-100:]\n",
    "\n",
    "CFG2 = CFG()\n",
    "# CFG2 = copy.deepcopy(CFG)\n",
    "CFG2.BATCH_SIZE = 16\n",
    "CFG2.num_workers = 2\n",
    "\n",
    "dm = rsna_datamodule(t_df, v_df, coords_df, cfg=CFG2)\n",
    "# dm = wav_datamodule(t_df, v_df, cfg=CFG, train_tfs=train_tfs, val_tfs=val_tfs)\n",
    "\n",
    "x, y = next(iter(dm.train_dataloader()))\n",
    "x.shape, y.shape, x.dtype, y.dtype"
   ]
  },
  {
   "cell_type": "code",
   "execution_count": 39,
   "id": "1fddf393-1256-4a7e-a626-71892e1d6eb2",
   "metadata": {},
   "outputs": [
    {
     "data": {
      "text/plain": [
       "<matplotlib.image.AxesImage at 0x19e863a73a0>"
      ]
     },
     "execution_count": 39,
     "metadata": {},
     "output_type": "execute_result"
    },
    {
     "data": {
      "image/png": "[encoded data removed]",
      "text/plain": [
       "<Figure size 640x480 with 1 Axes>"
      ]
     },
     "metadata": {},
     "output_type": "display_data"
    }
   ],
   "source": [
    "plt.imshow(x[10][0], cmap='gray')"
   ]
  },
  {
   "cell_type": "markdown",
   "id": "41147b95-2e64-48b3-9c62-81c286dbe24a",
   "metadata": {},
   "source": [
    "#### Check Transforms"
   ]
  },
  {
   "cell_type": "code",
   "execution_count": 40,
   "id": "da078b9b-c968-42a0-b439-dfb6c92f3d35",
   "metadata": {},
   "outputs": [],
   "source": [
    "image_size = CFG.image_size\n",
    "\n",
    "img_mean = (0.485, 0.456, 0.406)\n",
    "img_std = (0.229, 0.224, 0.225)\n",
    "\n",
    "train_tfs = A.Compose([\n",
    "    # A.HorizontalFlip(p=0.5),\n",
    "    A.Resize(image_size, image_size),\n",
    "    A.CoarseDropout(max_height=int(image_size * 0.2), max_width=int(image_size * 0.2), max_holes=4, p=0.7),\n",
    "    A.Normalize(mean=img_mean, std=img_std)\n",
    "])\n",
    "\n",
    "val_tfs = A.Compose([\n",
    "    A.Resize(image_size, image_size),\n",
    "    A.Normalize(mean=img_mean, std=img_std)\n",
    "])"
   ]
  },
  {
   "cell_type": "code",
   "execution_count": 41,
   "id": "5fab6bbf-6352-46b1-8b52-da81ac473690",
   "metadata": {},
   "outputs": [
    {
     "data": {
      "text/plain": [
       "(torch.Size([16, 3, 256, 256]),\n",
       " torch.Size([16, 6]),\n",
       " torch.float32,\n",
       " torch.float32)"
      ]
     },
     "execution_count": 41,
     "metadata": {},
     "output_type": "execute_result"
    }
   ],
   "source": [
    "dm = rsna_datamodule(t_df, v_df, coords_df, cfg=CFG2, train_tfs=train_tfs, val_tfs=val_tfs)\n",
    "# dm = wav_datamodule(t_df, v_df, cfg=CFG, train_tfs=train_tfs, val_tfs=val_tfs)\n",
    "\n",
    "x, y = next(iter(dm.train_dataloader()))\n",
    "x.shape, y.shape, x.dtype, y.dtype"
   ]
  },
  {
   "cell_type": "code",
   "execution_count": 42,
   "id": "ce905601-a756-4cea-a767-f60490005ff4",
   "metadata": {},
   "outputs": [
    {
     "data": {
      "text/plain": [
       "tensor([0., 0., 1., 0., 0., 0.])"
      ]
     },
     "execution_count": 42,
     "metadata": {},
     "output_type": "execute_result"
    }
   ],
   "source": [
    "y[0]"
   ]
  },
  {
   "cell_type": "code",
   "execution_count": 43,
   "id": "35f0cc7b-fc84-444e-bc1b-5f1375903d18",
   "metadata": {},
   "outputs": [
    {
     "data": {
      "text/plain": [
       "<matplotlib.image.AxesImage at 0x19e86421f60>"
      ]
     },
     "execution_count": 43,
     "metadata": {},
     "output_type": "execute_result"
    },
    {
     "data": {
      "image/png": "[encoded data removed]",
      "text/plain": [
       "<Figure size 640x480 with 1 Axes>"
      ]
     },
     "metadata": {},
     "output_type": "display_data"
    }
   ],
   "source": [
    "plt.imshow(x[2][0], cmap='gray')"
   ]
  },
  {
   "cell_type": "code",
   "execution_count": 44,
   "id": "3c8affa3-48c4-4ddd-9aa2-9ffba1401b41",
   "metadata": {},
   "outputs": [],
   "source": [
    "del dm"
   ]
  },
  {
   "cell_type": "code",
   "execution_count": null,
   "id": "5b3ade1d-8e76-4a39-9f44-0cefaa70c4aa",
   "metadata": {},
   "outputs": [],
   "source": []
  },
  {
   "cell_type": "markdown",
   "id": "2de4ef0b-82bb-4961-a8f1-c5359964157a",
   "metadata": {},
   "source": [
    "### Loss function"
   ]
  },
  {
   "cell_type": "code",
   "execution_count": 45,
   "id": "a3b6c51e-98d7-4141-a192-c2c11bdffdf4",
   "metadata": {},
   "outputs": [],
   "source": [
    "class FocalLossBCE(torch.nn.Module):\n",
    "    def __init__(\n",
    "            self,\n",
    "            alpha: float = 0.25,\n",
    "            gamma: float = 2,\n",
    "            reduction: str = \"mean\",\n",
    "            bce_weight: float = 1.0,\n",
    "            focal_weight: float = 1.0,\n",
    "    ):\n",
    "        super().__init__()\n",
    "        self.alpha = alpha\n",
    "        self.gamma = gamma\n",
    "        self.reduction = reduction\n",
    "        self.bce = torch.nn.BCEWithLogitsLoss(reduction=reduction)\n",
    "        self.bce_weight = bce_weight\n",
    "        self.focal_weight = focal_weight\n",
    "\n",
    "    def forward(self, logits, targets):\n",
    "        focall_loss = torchvision.ops.focal_loss.sigmoid_focal_loss(\n",
    "            inputs=logits,\n",
    "            targets=targets,\n",
    "            alpha=self.alpha,\n",
    "            gamma=self.gamma,\n",
    "            reduction=self.reduction,\n",
    "        )\n",
    "        bce_loss = self.bce(logits, targets)\n",
    "        return self.bce_weight * bce_loss + self.focal_weight * focall_loss"
   ]
  },
  {
   "cell_type": "code",
   "execution_count": 46,
   "id": "0e3b441f-2071-41fa-8ca2-cb257616dc9a",
   "metadata": {},
   "outputs": [],
   "source": [
    "class GeM(torch.nn.Module):\n",
    "    def __init__(self, p=3, eps=1e-6):\n",
    "        super(GeM, self).__init__()\n",
    "        self.p = torch.nn.Parameter(torch.ones(1) * p)\n",
    "        self.eps = eps\n",
    "\n",
    "    def forward(self, x):\n",
    "        bs, ch, h, w = x.shape\n",
    "        x = torch.nn.functional.avg_pool2d(x.clamp(min=self.eps).pow(self.p), (x.size(-2), x.size(-1))).pow(\n",
    "            1.0 / self.p)\n",
    "        x = x.view(bs, ch)\n",
    "        return x"
   ]
  },
  {
   "cell_type": "code",
   "execution_count": null,
   "id": "f504f2e3-d229-43b7-899f-8190f966ac8b",
   "metadata": {},
   "outputs": [],
   "source": []
  },
  {
   "cell_type": "markdown",
   "id": "d0803313-4e79-466d-bf15-2803f65f206e",
   "metadata": {},
   "source": [
    "### Model"
   ]
  },
  {
   "cell_type": "code",
   "execution_count": 47,
   "id": "1d3a5905-cab9-474e-979d-386a990d266a",
   "metadata": {},
   "outputs": [
    {
     "data": {
      "text/plain": [
       "([64, 256, 512, 1536, 3072], 5440)"
      ]
     },
     "execution_count": 47,
     "metadata": {},
     "output_type": "execute_result"
    }
   ],
   "source": [
    "backbone = 'eca_nfnet_l1'\n",
    "# backbone = 'efficientnet_b4'\n",
    "out_indices = (3, 4)\n",
    "\n",
    "model = timm.create_model(\n",
    "    backbone,\n",
    "    features_only=True,\n",
    "    pretrained=False,\n",
    "    in_chans=3,\n",
    "    num_classes=dset.num_classes,\n",
    "    # out_indices=out_indices,\n",
    "    )\n",
    "\n",
    "model.feature_info.channels(), np.sum(model.feature_info.channels())"
   ]
  },
  {
   "cell_type": "code",
   "execution_count": 48,
   "id": "a4fdc762-f59d-411c-82e5-b2634f480c95",
   "metadata": {},
   "outputs": [],
   "source": [
    "data_config = timm.data.resolve_model_data_config(model)"
   ]
  },
  {
   "cell_type": "code",
   "execution_count": 49,
   "id": "92d41be5-5304-4922-89e7-ca0a72ce9cc1",
   "metadata": {},
   "outputs": [
    {
     "data": {
      "text/plain": [
       "{'input_size': (3, 256, 256),\n",
       " 'interpolation': 'bicubic',\n",
       " 'mean': (0.485, 0.456, 0.406),\n",
       " 'std': (0.229, 0.224, 0.225),\n",
       " 'crop_pct': 0.9,\n",
       " 'crop_mode': 'center'}"
      ]
     },
     "execution_count": 49,
     "metadata": {},
     "output_type": "execute_result"
    }
   ],
   "source": [
    "data_config"
   ]
  },
  {
   "cell_type": "code",
   "execution_count": 50,
   "id": "da957e7e-5ad2-479b-b5a7-9f3556ca68ea",
   "metadata": {},
   "outputs": [],
   "source": [
    "def mixup(data, targets, alpha, device):\n",
    "    indices = torch.randperm(data.size(0))\n",
    "    data2 = data[indices]\n",
    "    targets2 = targets[indices]\n",
    "\n",
    "    lam = torch.FloatTensor([np.random.beta(alpha, alpha)]).to(device)\n",
    "    data = data * lam + data2 * (1 - lam)\n",
    "    \n",
    "    targets = targets * lam + targets2 * (1 - lam)\n",
    "    return data, targets\n",
    "\n",
    "    # data += data2\n",
    "    # targets += targets2\n",
    "    # return data, targets.clip(max=1)"
   ]
  },
  {
   "cell_type": "code",
   "execution_count": 51,
   "id": "1b8ea5f5-46ee-4c57-b3bf-6b0ce988b638",
   "metadata": {},
   "outputs": [],
   "source": [
    "class GeMModel(pl.LightningModule):\n",
    "    def __init__(self, cfg = CFG, pretrained = True):\n",
    "        super().__init__()\n",
    "\n",
    "        self.cfg = cfg\n",
    "\n",
    "        self.dev = cfg.device\n",
    "        \n",
    "        out_indices = (3, 4)\n",
    "\n",
    "        self.bottleneck_dim = cfg.bottleneck_dim\n",
    "\n",
    "        self.criterion = FocalLossBCE()\n",
    "\n",
    "        wrapped_acc = ClasswiseWrapper(MultilabelAccuracy(num_labels=self.cfg.N_LABELS, average='none'), labels=classes, prefix='multiacc/')\n",
    "        wrapped_f1 = ClasswiseWrapper(MultilabelF1Score(num_labels=self.cfg.N_LABELS, average='none'), labels=classes, prefix='multif1/')\n",
    "        \n",
    "        metrics = MetricCollection({\n",
    "            # 'macc': MultilabelAccuracy(num_labels=self.cfg.N_LABELS),\n",
    "            'none_acc': wrapped_acc,\n",
    "            'mpr': MultilabelPrecision(num_labels=self.cfg.N_LABELS),\n",
    "            'mrec': MultilabelRecall(num_labels=self.cfg.N_LABELS),\n",
    "            'f1': MultilabelF1Score(num_labels=self.cfg.N_LABELS),\n",
    "            'none_f1': wrapped_f1,\n",
    "        })\n",
    "\n",
    "        self.train_metrics = metrics.clone(prefix='train/')\n",
    "        self.valid_metrics = metrics.clone(prefix='val/')\n",
    "        \n",
    "        # self.model_name = self.cfg.model_name\n",
    "        print(self.cfg.model_name)\n",
    "        \n",
    "        self.backbone = timm.create_model(\n",
    "            self.cfg.model_name, \n",
    "            features_only=True,\n",
    "            pretrained=pretrained,\n",
    "            in_chans=3,\n",
    "            num_classes=self.cfg.N_LABELS,\n",
    "            out_indices=out_indices,\n",
    "        )\n",
    "\n",
    "        feature_dims = self.backbone.feature_info.channels()\n",
    "\n",
    "        self.global_pools = torch.nn.ModuleList([GeM() for _ in out_indices])\n",
    "        self.mid_features = np.sum(feature_dims)\n",
    "        \n",
    "        self.neck = torch.nn.BatchNorm1d(self.mid_features)\n",
    "        self.bottleneck = torch.nn.Linear(self.mid_features, self.bottleneck_dim)\n",
    "        self.bottleneck_bn = torch.nn.BatchNorm1d(self.bottleneck_dim)\n",
    "        self.head = torch.nn.Linear(self.bottleneck_dim, self.cfg.N_LABELS)\n",
    "\n",
    "    def pre_forward(self, x):\n",
    "        ms = self.backbone(x)\n",
    "        \n",
    "        h = torch.cat([global_pool(m) for m, global_pool in zip(ms, self.global_pools)], dim=1)\n",
    "        x = self.neck(h)\n",
    "        x = self.bottleneck(x)\n",
    "        x = self.bottleneck_bn(x)\n",
    "\n",
    "        return x\n",
    "    \n",
    "    def forward(self, x):\n",
    "        x = self.pre_forward(x)\n",
    "\n",
    "        x = self.head(x)\n",
    "        \n",
    "        return x\n",
    "        \n",
    "    def configure_optimizers(self):\n",
    "        optimizer = torch.optim.Adam(model.parameters(), lr=self.cfg.LEARNING_RATE, weight_decay=CFG.weight_decay)\n",
    "        \n",
    "        if self.cfg.USE_SCHD:\n",
    "            scheduler_cosine = torch.optim.lr_scheduler.CosineAnnealingLR(optimizer, self.cfg.COS_EPOCHS)\n",
    "            scheduler_warmup = GradualWarmupSchedulerV2(optimizer, multiplier=10, total_epoch=self.cfg.WARM_EPOCHS, after_scheduler=scheduler_cosine)\n",
    "\n",
    "            return [optimizer], [scheduler_warmup]\n",
    "        else:\n",
    "            # LRscheduler = torch.optim.lr_scheduler.StepLR(optimizer, step_size=10, gamma=0.2)\n",
    "            \n",
    "            # return [optimizer], [LRscheduler]\n",
    "            return optimizer\n",
    "\n",
    "    def step(self, batch, batch_idx, mode='train'):\n",
    "        x, y = batch\n",
    "\n",
    "        if self.cfg.MIXUP and mode == 'train':\n",
    "            x, y = mixup(x, y, 0.5, self.cfg.device)\n",
    "        \n",
    "        preds = self(x)\n",
    "        \n",
    "        loss = self.criterion(preds, y)\n",
    "        \n",
    "        if mode == 'train':\n",
    "            output = self.train_metrics(preds, y)\n",
    "            self.log_dict(output)\n",
    "        else:\n",
    "            self.valid_metrics.update(preds, y)\n",
    "\n",
    "        self.log(f'{mode}/loss', loss, on_step=True, on_epoch=True)\n",
    "\n",
    "        return loss\n",
    "    \n",
    "    def training_step(self, batch, batch_idx):\n",
    "        loss = self.step(batch, batch_idx, mode='train')\n",
    "        \n",
    "        return loss\n",
    "        \n",
    "    def validation_step(self, batch, batch_idx):\n",
    "        loss = self.step(batch, batch_idx, mode='val')\n",
    "    \n",
    "        return loss\n",
    "    \n",
    "    def on_train_epoch_end(self):\n",
    "        self.train_metrics.reset()\n",
    "\n",
    "    def on_validation_epoch_end(self):\n",
    "        output = self.valid_metrics.compute()\n",
    "        self.log_dict(output)\n",
    "\n",
    "        self.valid_metrics.reset()"
   ]
  },
  {
   "cell_type": "code",
   "execution_count": 52,
   "id": "1ae00f21-8402-4946-a1b9-8d9202727111",
   "metadata": {},
   "outputs": [
    {
     "name": "stdout",
     "output_type": "stream",
     "text": [
      "eca_nfnet_l0\n"
     ]
    }
   ],
   "source": [
    "model = GeMModel(CFG)"
   ]
  },
  {
   "cell_type": "code",
   "execution_count": 53,
   "id": "4257c339-5ccd-45b1-85e5-1b62ba205d12",
   "metadata": {},
   "outputs": [],
   "source": [
    "foo = model(x)"
   ]
  },
  {
   "cell_type": "code",
   "execution_count": 54,
   "id": "7128bd97-3611-48cc-a3e6-23ac0770e7c5",
   "metadata": {},
   "outputs": [
    {
     "data": {
      "text/plain": [
       "(torch.Size([16, 3, 256, 256]), torch.Size([16, 6]))"
      ]
     },
     "execution_count": 54,
     "metadata": {},
     "output_type": "execute_result"
    }
   ],
   "source": [
    "x.shape, foo.shape"
   ]
  },
  {
   "cell_type": "code",
   "execution_count": null,
   "id": "f9484146-98cc-420b-a78d-1177388fb587",
   "metadata": {},
   "outputs": [],
   "source": []
  },
  {
   "cell_type": "markdown",
   "id": "0f9432d8-001b-4848-abe4-120afe42fa17",
   "metadata": {},
   "source": [
    "### Split"
   ]
  },
  {
   "cell_type": "code",
   "execution_count": 55,
   "id": "21c5b308-7513-4e12-a744-a8046aa65655",
   "metadata": {},
   "outputs": [],
   "source": [
    "from sklearn.model_selection import ShuffleSplit, StratifiedShuffleSplit"
   ]
  },
  {
   "cell_type": "code",
   "execution_count": 56,
   "id": "f861b7bd-684c-4c1e-b055-740018ed1e6b",
   "metadata": {},
   "outputs": [],
   "source": [
    "train_cols = ['filename', 'instance_id', 'series_description', 'condition']"
   ]
  },
  {
   "cell_type": "code",
   "execution_count": 57,
   "id": "d639aebd-d8ae-4eb7-a038-982be10f3afa",
   "metadata": {},
   "outputs": [
    {
     "name": "stderr",
     "output_type": "stream",
     "text": [
      "C:\\Users\\Asus\\AppData\\Local\\Temp\\ipykernel_38360\\3018889158.py:2: SettingWithCopyWarning: \n",
      "A value is trying to be set on a copy of a slice from a DataFrame.\n",
      "Try using .loc[row_indexer,col_indexer] = value instead\n",
      "\n",
      "See the caveats in the documentation: https://pandas.pydata.org/pandas-docs/stable/user_guide/indexing.html#returning-a-view-versus-a-copy\n",
      "  healthy_df['condition'] = 'H'\n"
     ]
    },
    {
     "data": {
      "text/plain": [
       "(122672, 21)"
      ]
     },
     "execution_count": 57,
     "metadata": {},
     "output_type": "execute_result"
    }
   ],
   "source": [
    "healthy_df = files_df[files_df.healthy == True]\n",
    "healthy_df['condition'] = 'H'\n",
    "\n",
    "healthy_df.shape"
   ]
  },
  {
   "cell_type": "code",
   "execution_count": 58,
   "id": "63eae3ad-7640-42db-96a5-c4be71ed6323",
   "metadata": {},
   "outputs": [
    {
     "data": {
      "text/plain": [
       "(36802, 21)"
      ]
     },
     "execution_count": 58,
     "metadata": {},
     "output_type": "execute_result"
    }
   ],
   "source": [
    "healthy_df = healthy_df.sample(frac=.3)\n",
    "healthy_df.shape"
   ]
  },
  {
   "cell_type": "code",
   "execution_count": 59,
   "id": "b8d92817-3996-42e6-ae9d-5a88dc4cd020",
   "metadata": {},
   "outputs": [
    {
     "data": {
      "text/html": [
       "<div>\n",
       "<style scoped>\n",
       "    .dataframe tbody tr th:only-of-type {\n",
       "        vertical-align: middle;\n",
       "    }\n",
       "\n",
       "    .dataframe tbody tr th {\n",
       "        vertical-align: top;\n",
       "    }\n",
       "\n",
       "    .dataframe thead th {\n",
       "        text-align: right;\n",
       "    }\n",
       "</style>\n",
       "<table border=\"1\" class=\"dataframe\">\n",
       "  <thead>\n",
       "    <tr style=\"text-align: right;\">\n",
       "      <th></th>\n",
       "      <th>study_id</th>\n",
       "      <th>series_id</th>\n",
       "      <th>image</th>\n",
       "      <th>proj</th>\n",
       "      <th>instancenumber</th>\n",
       "      <th>rows</th>\n",
       "      <th>columns</th>\n",
       "      <th>slicethickness</th>\n",
       "      <th>spacingbetweenslices</th>\n",
       "      <th>patientposition</th>\n",
       "      <th>...</th>\n",
       "      <th>ss_id</th>\n",
       "      <th>instance_id</th>\n",
       "      <th>filename</th>\n",
       "      <th>series_description</th>\n",
       "      <th>healthy</th>\n",
       "      <th>inst_min</th>\n",
       "      <th>inst_max</th>\n",
       "      <th>inst</th>\n",
       "      <th>inst_perc</th>\n",
       "      <th>condition</th>\n",
       "    </tr>\n",
       "  </thead>\n",
       "  <tbody>\n",
       "    <tr>\n",
       "      <th>12169</th>\n",
       "      <td>3922074884</td>\n",
       "      <td>3753272699</td>\n",
       "      <td>18</td>\n",
       "      <td>2</td>\n",
       "      <td>18</td>\n",
       "      <td>512</td>\n",
       "      <td>512</td>\n",
       "      <td>4.0</td>\n",
       "      <td>4.3</td>\n",
       "      <td>FFS</td>\n",
       "      <td>...</td>\n",
       "      <td>3922074884_3753272699</td>\n",
       "      <td>3922074884_3753272699_18</td>\n",
       "      <td>E:\\data\\RSNA2024\\pngs_256\\3922074884_375327269...</td>\n",
       "      <td>Sagittal T1</td>\n",
       "      <td>True</td>\n",
       "      <td>1</td>\n",
       "      <td>19</td>\n",
       "      <td>17</td>\n",
       "      <td>0.894737</td>\n",
       "      <td>H</td>\n",
       "    </tr>\n",
       "    <tr>\n",
       "      <th>114605</th>\n",
       "      <td>951328272</td>\n",
       "      <td>4072685621</td>\n",
       "      <td>6</td>\n",
       "      <td>-380</td>\n",
       "      <td>6</td>\n",
       "      <td>320</td>\n",
       "      <td>320</td>\n",
       "      <td>4.0</td>\n",
       "      <td>4.4</td>\n",
       "      <td>HFS</td>\n",
       "      <td>...</td>\n",
       "      <td>951328272_4072685621</td>\n",
       "      <td>951328272_4072685621_6</td>\n",
       "      <td>E:\\data\\RSNA2024\\pngs_256\\951328272_4072685621...</td>\n",
       "      <td>Axial T2</td>\n",
       "      <td>True</td>\n",
       "      <td>1</td>\n",
       "      <td>50</td>\n",
       "      <td>5</td>\n",
       "      <td>0.100000</td>\n",
       "      <td>H</td>\n",
       "    </tr>\n",
       "  </tbody>\n",
       "</table>\n",
       "<p>2 rows × 21 columns</p>\n",
       "</div>"
      ],
      "text/plain": [
       "          study_id   series_id  image  proj  instancenumber  rows  columns  \\\n",
       "12169   3922074884  3753272699     18     2              18   512      512   \n",
       "114605   951328272  4072685621      6  -380               6   320      320   \n",
       "\n",
       "        slicethickness  spacingbetweenslices patientposition  ...  \\\n",
       "12169              4.0                   4.3             FFS  ...   \n",
       "114605             4.0                   4.4             HFS  ...   \n",
       "\n",
       "                        ss_id               instance_id  \\\n",
       "12169   3922074884_3753272699  3922074884_3753272699_18   \n",
       "114605   951328272_4072685621    951328272_4072685621_6   \n",
       "\n",
       "                                                 filename series_description  \\\n",
       "12169   E:\\data\\RSNA2024\\pngs_256\\3922074884_375327269...        Sagittal T1   \n",
       "114605  E:\\data\\RSNA2024\\pngs_256\\951328272_4072685621...           Axial T2   \n",
       "\n",
       "       healthy  inst_min  inst_max  inst  inst_perc  condition  \n",
       "12169     True         1        19    17   0.894737          H  \n",
       "114605    True         1        50     5   0.100000          H  \n",
       "\n",
       "[2 rows x 21 columns]"
      ]
     },
     "execution_count": 59,
     "metadata": {},
     "output_type": "execute_result"
    }
   ],
   "source": [
    "healthy_df.head(2)"
   ]
  },
  {
   "cell_type": "code",
   "execution_count": 60,
   "id": "32683be3-cd99-4f92-ba61-6195ad85e979",
   "metadata": {},
   "outputs": [
    {
     "data": {
      "text/html": [
       "<div>\n",
       "<style scoped>\n",
       "    .dataframe tbody tr th:only-of-type {\n",
       "        vertical-align: middle;\n",
       "    }\n",
       "\n",
       "    .dataframe tbody tr th {\n",
       "        vertical-align: top;\n",
       "    }\n",
       "\n",
       "    .dataframe thead th {\n",
       "        text-align: right;\n",
       "    }\n",
       "</style>\n",
       "<table border=\"1\" class=\"dataframe\">\n",
       "  <thead>\n",
       "    <tr style=\"text-align: right;\">\n",
       "      <th></th>\n",
       "      <th>study_id</th>\n",
       "      <th>series_id</th>\n",
       "      <th>instance</th>\n",
       "      <th>condition</th>\n",
       "      <th>level</th>\n",
       "      <th>x</th>\n",
       "      <th>y</th>\n",
       "      <th>ss_id</th>\n",
       "      <th>instance_id</th>\n",
       "      <th>cl</th>\n",
       "      <th>series_description</th>\n",
       "      <th>rows</th>\n",
       "      <th>columns</th>\n",
       "      <th>filename</th>\n",
       "      <th>patientposition</th>\n",
       "      <th>x_perc</th>\n",
       "      <th>y_perc</th>\n",
       "      <th>inst_perc</th>\n",
       "    </tr>\n",
       "  </thead>\n",
       "  <tbody>\n",
       "    <tr>\n",
       "      <th>0</th>\n",
       "      <td>4003253</td>\n",
       "      <td>702807833</td>\n",
       "      <td>8</td>\n",
       "      <td>SCS</td>\n",
       "      <td>L1L2</td>\n",
       "      <td>322.831858</td>\n",
       "      <td>227.964602</td>\n",
       "      <td>4003253_702807833</td>\n",
       "      <td>4003253_702807833_8</td>\n",
       "      <td>SCSL1L2</td>\n",
       "      <td>Sagittal T2/STIR</td>\n",
       "      <td>640</td>\n",
       "      <td>640</td>\n",
       "      <td>E:\\data\\RSNA2024\\pngs_256\\4003253_702807833_8.png</td>\n",
       "      <td>HFS</td>\n",
       "      <td>0.504425</td>\n",
       "      <td>0.356195</td>\n",
       "      <td>0.466667</td>\n",
       "    </tr>\n",
       "    <tr>\n",
       "      <th>1</th>\n",
       "      <td>4003253</td>\n",
       "      <td>702807833</td>\n",
       "      <td>8</td>\n",
       "      <td>SCS</td>\n",
       "      <td>L2L3</td>\n",
       "      <td>320.571429</td>\n",
       "      <td>295.714286</td>\n",
       "      <td>4003253_702807833</td>\n",
       "      <td>4003253_702807833_8</td>\n",
       "      <td>SCSL2L3</td>\n",
       "      <td>Sagittal T2/STIR</td>\n",
       "      <td>640</td>\n",
       "      <td>640</td>\n",
       "      <td>E:\\data\\RSNA2024\\pngs_256\\4003253_702807833_8.png</td>\n",
       "      <td>HFS</td>\n",
       "      <td>0.500893</td>\n",
       "      <td>0.462054</td>\n",
       "      <td>0.466667</td>\n",
       "    </tr>\n",
       "  </tbody>\n",
       "</table>\n",
       "</div>"
      ],
      "text/plain": [
       "   study_id  series_id  instance condition level           x           y  \\\n",
       "0   4003253  702807833         8       SCS  L1L2  322.831858  227.964602   \n",
       "1   4003253  702807833         8       SCS  L2L3  320.571429  295.714286   \n",
       "\n",
       "               ss_id          instance_id       cl series_description  rows  \\\n",
       "0  4003253_702807833  4003253_702807833_8  SCSL1L2   Sagittal T2/STIR   640   \n",
       "1  4003253_702807833  4003253_702807833_8  SCSL2L3   Sagittal T2/STIR   640   \n",
       "\n",
       "   columns                                           filename patientposition  \\\n",
       "0      640  E:\\data\\RSNA2024\\pngs_256\\4003253_702807833_8.png             HFS   \n",
       "1      640  E:\\data\\RSNA2024\\pngs_256\\4003253_702807833_8.png             HFS   \n",
       "\n",
       "     x_perc    y_perc  inst_perc  \n",
       "0  0.504425  0.356195   0.466667  \n",
       "1  0.500893  0.462054   0.466667  "
      ]
     },
     "execution_count": 60,
     "metadata": {},
     "output_type": "execute_result"
    }
   ],
   "source": [
    "coords_df.head(2)"
   ]
  },
  {
   "cell_type": "code",
   "execution_count": 61,
   "id": "22a61d9b-b02d-4553-9f30-074bd5bbfb72",
   "metadata": {
    "scrolled": true
   },
   "outputs": [
    {
     "data": {
      "text/html": [
       "<div>\n",
       "<style scoped>\n",
       "    .dataframe tbody tr th:only-of-type {\n",
       "        vertical-align: middle;\n",
       "    }\n",
       "\n",
       "    .dataframe tbody tr th {\n",
       "        vertical-align: top;\n",
       "    }\n",
       "\n",
       "    .dataframe thead th {\n",
       "        text-align: right;\n",
       "    }\n",
       "</style>\n",
       "<table border=\"1\" class=\"dataframe\">\n",
       "  <thead>\n",
       "    <tr style=\"text-align: right;\">\n",
       "      <th></th>\n",
       "      <th>filename</th>\n",
       "      <th>instance_id</th>\n",
       "      <th>series_description</th>\n",
       "      <th>condition</th>\n",
       "    </tr>\n",
       "  </thead>\n",
       "  <tbody>\n",
       "    <tr>\n",
       "      <th>33685</th>\n",
       "      <td>E:\\data\\RSNA2024\\pngs_256\\2980524900_121187883...</td>\n",
       "      <td>2980524900_1211878837_11</td>\n",
       "      <td>Sagittal T1</td>\n",
       "      <td>RNFN</td>\n",
       "    </tr>\n",
       "    <tr>\n",
       "      <th>12100</th>\n",
       "      <td>E:\\data\\RSNA2024\\pngs_256\\1086363712_141107934...</td>\n",
       "      <td>1086363712_1411079343_18</td>\n",
       "      <td>Axial T2</td>\n",
       "      <td>LSS</td>\n",
       "    </tr>\n",
       "    <tr>\n",
       "      <th>40832</th>\n",
       "      <td>E:\\data\\RSNA2024\\pngs_256\\3582253639_121978340...</td>\n",
       "      <td>3582253639_1219783402_13</td>\n",
       "      <td>Sagittal T1</td>\n",
       "      <td>RNFN</td>\n",
       "    </tr>\n",
       "    <tr>\n",
       "      <th>36607</th>\n",
       "      <td>E:\\data\\RSNA2024\\pngs_256\\3234424112_385365277...</td>\n",
       "      <td>3234424112_3853652770_10</td>\n",
       "      <td>Sagittal T2/STIR</td>\n",
       "      <td>SCS</td>\n",
       "    </tr>\n",
       "    <tr>\n",
       "      <th>7729</th>\n",
       "      <td>E:\\data\\RSNA2024\\pngs_256\\691922299_4176012336...</td>\n",
       "      <td>691922299_4176012336_8</td>\n",
       "      <td>Axial T2</td>\n",
       "      <td>LSS</td>\n",
       "    </tr>\n",
       "  </tbody>\n",
       "</table>\n",
       "</div>"
      ],
      "text/plain": [
       "                                                filename  \\\n",
       "33685  E:\\data\\RSNA2024\\pngs_256\\2980524900_121187883...   \n",
       "12100  E:\\data\\RSNA2024\\pngs_256\\1086363712_141107934...   \n",
       "40832  E:\\data\\RSNA2024\\pngs_256\\3582253639_121978340...   \n",
       "36607  E:\\data\\RSNA2024\\pngs_256\\3234424112_385365277...   \n",
       "7729   E:\\data\\RSNA2024\\pngs_256\\691922299_4176012336...   \n",
       "\n",
       "                    instance_id series_description condition  \n",
       "33685  2980524900_1211878837_11        Sagittal T1      RNFN  \n",
       "12100  1086363712_1411079343_18           Axial T2       LSS  \n",
       "40832  3582253639_1219783402_13        Sagittal T1      RNFN  \n",
       "36607  3234424112_3853652770_10   Sagittal T2/STIR       SCS  \n",
       "7729     691922299_4176012336_8           Axial T2       LSS  "
      ]
     },
     "execution_count": 61,
     "metadata": {},
     "output_type": "execute_result"
    }
   ],
   "source": [
    "coords_df.loc[:, train_cols].sample(5)"
   ]
  },
  {
   "cell_type": "code",
   "execution_count": 62,
   "id": "faf3b609-7c6f-4411-adb2-cab201045441",
   "metadata": {},
   "outputs": [
    {
     "data": {
      "text/html": [
       "<div>\n",
       "<style scoped>\n",
       "    .dataframe tbody tr th:only-of-type {\n",
       "        vertical-align: middle;\n",
       "    }\n",
       "\n",
       "    .dataframe tbody tr th {\n",
       "        vertical-align: top;\n",
       "    }\n",
       "\n",
       "    .dataframe thead th {\n",
       "        text-align: right;\n",
       "    }\n",
       "</style>\n",
       "<table border=\"1\" class=\"dataframe\">\n",
       "  <thead>\n",
       "    <tr style=\"text-align: right;\">\n",
       "      <th></th>\n",
       "      <th>filename</th>\n",
       "      <th>instance_id</th>\n",
       "      <th>series_description</th>\n",
       "      <th>condition</th>\n",
       "    </tr>\n",
       "  </thead>\n",
       "  <tbody>\n",
       "    <tr>\n",
       "      <th>133072</th>\n",
       "      <td>E:\\data\\RSNA2024\\pngs_256\\391103067_3707725327...</td>\n",
       "      <td>391103067_3707725327_10</td>\n",
       "      <td>Sagittal T1</td>\n",
       "      <td>H</td>\n",
       "    </tr>\n",
       "    <tr>\n",
       "      <th>78323</th>\n",
       "      <td>E:\\data\\RSNA2024\\pngs_256\\2028028580_308447317...</td>\n",
       "      <td>2028028580_3084473175_32</td>\n",
       "      <td>Axial T2</td>\n",
       "      <td>H</td>\n",
       "    </tr>\n",
       "    <tr>\n",
       "      <th>103032</th>\n",
       "      <td>E:\\data\\RSNA2024\\pngs_256\\1292979992_335942806...</td>\n",
       "      <td>1292979992_3359428067_16</td>\n",
       "      <td>Sagittal T2/STIR</td>\n",
       "      <td>H</td>\n",
       "    </tr>\n",
       "    <tr>\n",
       "      <th>36109</th>\n",
       "      <td>E:\\data\\RSNA2024\\pngs_256\\3239069834_253359462...</td>\n",
       "      <td>3239069834_2533594621_30</td>\n",
       "      <td>Axial T2</td>\n",
       "      <td>H</td>\n",
       "    </tr>\n",
       "    <tr>\n",
       "      <th>46199</th>\n",
       "      <td>E:\\data\\RSNA2024\\pngs_256\\2945946028_161270704...</td>\n",
       "      <td>2945946028_1612707049_1</td>\n",
       "      <td>Sagittal T1</td>\n",
       "      <td>H</td>\n",
       "    </tr>\n",
       "  </tbody>\n",
       "</table>\n",
       "</div>"
      ],
      "text/plain": [
       "                                                 filename  \\\n",
       "133072  E:\\data\\RSNA2024\\pngs_256\\391103067_3707725327...   \n",
       "78323   E:\\data\\RSNA2024\\pngs_256\\2028028580_308447317...   \n",
       "103032  E:\\data\\RSNA2024\\pngs_256\\1292979992_335942806...   \n",
       "36109   E:\\data\\RSNA2024\\pngs_256\\3239069834_253359462...   \n",
       "46199   E:\\data\\RSNA2024\\pngs_256\\2945946028_161270704...   \n",
       "\n",
       "                     instance_id series_description condition  \n",
       "133072   391103067_3707725327_10        Sagittal T1         H  \n",
       "78323   2028028580_3084473175_32           Axial T2         H  \n",
       "103032  1292979992_3359428067_16   Sagittal T2/STIR         H  \n",
       "36109   3239069834_2533594621_30           Axial T2         H  \n",
       "46199    2945946028_1612707049_1        Sagittal T1         H  "
      ]
     },
     "execution_count": 62,
     "metadata": {},
     "output_type": "execute_result"
    }
   ],
   "source": [
    "healthy_df.loc[:, train_cols].sample(5)"
   ]
  },
  {
   "cell_type": "code",
   "execution_count": 63,
   "id": "cbc9e559-f610-42df-ad8b-c24033e482f9",
   "metadata": {},
   "outputs": [
    {
     "data": {
      "text/plain": [
       "(85494, 4)"
      ]
     },
     "execution_count": 63,
     "metadata": {},
     "output_type": "execute_result"
    }
   ],
   "source": [
    "train_df = pd.concat([coords_df.loc[:, train_cols], healthy_df.loc[:, train_cols]], ignore_index=True)\n",
    "train_df.shape"
   ]
  },
  {
   "cell_type": "code",
   "execution_count": 64,
   "id": "5cee2b9e-3aad-4bc6-8341-8be65069a82d",
   "metadata": {},
   "outputs": [
    {
     "data": {
      "text/plain": [
       "61348"
      ]
     },
     "execution_count": 64,
     "metadata": {},
     "output_type": "execute_result"
    }
   ],
   "source": [
    "train_df.filename.nunique()"
   ]
  },
  {
   "cell_type": "code",
   "execution_count": 65,
   "id": "04cc4d1e-020e-4655-85b5-3b0f71d67628",
   "metadata": {},
   "outputs": [
    {
     "data": {
      "text/plain": [
       "((81219, 4), (4275, 4))"
      ]
     },
     "execution_count": 65,
     "metadata": {},
     "output_type": "execute_result"
    }
   ],
   "source": [
    "sss = StratifiedShuffleSplit(n_splits=1, test_size=1-CFG.split_fraction, random_state=CFG.random_seed)\n",
    "train_idx, val_idx = next(sss.split(train_df.filename, train_df.condition))\n",
    "\n",
    "t_df = train_df.iloc[train_idx]\n",
    "v_df = train_df.iloc[val_idx]\n",
    "\n",
    "t_df.shape, v_df.shape"
   ]
  },
  {
   "cell_type": "code",
   "execution_count": 66,
   "id": "c8bece56-9bb2-4c2c-9794-57c8f3537134",
   "metadata": {
    "scrolled": true
   },
   "outputs": [
    {
     "data": {
      "text/plain": [
       "True"
      ]
     },
     "execution_count": 66,
     "metadata": {},
     "output_type": "execute_result"
    }
   ],
   "source": [
    "bool(set(t_df.instance_id.tolist()) & set(v_df.instance_id.tolist()))"
   ]
  },
  {
   "cell_type": "code",
   "execution_count": 67,
   "id": "8261dbf2-85cc-487d-a262-6b00289725c1",
   "metadata": {},
   "outputs": [
    {
     "data": {
      "text/plain": [
       "1764"
      ]
     },
     "execution_count": 67,
     "metadata": {},
     "output_type": "execute_result"
    }
   ],
   "source": [
    "intersection = list(set(t_df.instance_id.tolist()) & set(v_df.instance_id.tolist()))\n",
    "len(intersection)"
   ]
  },
  {
   "cell_type": "code",
   "execution_count": 68,
   "id": "56cf97ab-9fcc-481b-b1fc-09397a6a2d6a",
   "metadata": {},
   "outputs": [
    {
     "data": {
      "text/plain": [
       "'706497544_1649968039_15'"
      ]
     },
     "execution_count": 68,
     "metadata": {},
     "output_type": "execute_result"
    }
   ],
   "source": [
    "intersection[0]"
   ]
  },
  {
   "cell_type": "code",
   "execution_count": 69,
   "id": "fd60d1d6-2cb2-4310-87d5-9d3e5ef373da",
   "metadata": {},
   "outputs": [
    {
     "data": {
      "text/html": [
       "<div>\n",
       "<style scoped>\n",
       "    .dataframe tbody tr th:only-of-type {\n",
       "        vertical-align: middle;\n",
       "    }\n",
       "\n",
       "    .dataframe tbody tr th {\n",
       "        vertical-align: top;\n",
       "    }\n",
       "\n",
       "    .dataframe thead th {\n",
       "        text-align: right;\n",
       "    }\n",
       "</style>\n",
       "<table border=\"1\" class=\"dataframe\">\n",
       "  <thead>\n",
       "    <tr style=\"text-align: right;\">\n",
       "      <th></th>\n",
       "      <th>study_id</th>\n",
       "      <th>series_id</th>\n",
       "      <th>instance</th>\n",
       "      <th>condition</th>\n",
       "      <th>level</th>\n",
       "      <th>x</th>\n",
       "      <th>y</th>\n",
       "      <th>ss_id</th>\n",
       "      <th>instance_id</th>\n",
       "      <th>cl</th>\n",
       "      <th>series_description</th>\n",
       "      <th>rows</th>\n",
       "      <th>columns</th>\n",
       "      <th>filename</th>\n",
       "      <th>patientposition</th>\n",
       "      <th>x_perc</th>\n",
       "      <th>y_perc</th>\n",
       "      <th>inst_perc</th>\n",
       "    </tr>\n",
       "  </thead>\n",
       "  <tbody>\n",
       "    <tr>\n",
       "      <th>44588</th>\n",
       "      <td>3922074884</td>\n",
       "      <td>1280331258</td>\n",
       "      <td>30</td>\n",
       "      <td>LSS</td>\n",
       "      <td>L1L2</td>\n",
       "      <td>272.459644</td>\n",
       "      <td>303.978112</td>\n",
       "      <td>3922074884_1280331258</td>\n",
       "      <td>3922074884_1280331258_30</td>\n",
       "      <td>LSSL1L2</td>\n",
       "      <td>Axial T2</td>\n",
       "      <td>512</td>\n",
       "      <td>512</td>\n",
       "      <td>E:\\data\\RSNA2024\\pngs_256\\3922074884_128033125...</td>\n",
       "      <td>FFS</td>\n",
       "      <td>0.532148</td>\n",
       "      <td>0.593707</td>\n",
       "      <td>0.763158</td>\n",
       "    </tr>\n",
       "    <tr>\n",
       "      <th>44589</th>\n",
       "      <td>3922074884</td>\n",
       "      <td>1280331258</td>\n",
       "      <td>30</td>\n",
       "      <td>RSS</td>\n",
       "      <td>L1L2</td>\n",
       "      <td>215.735714</td>\n",
       "      <td>294.400000</td>\n",
       "      <td>3922074884_1280331258</td>\n",
       "      <td>3922074884_1280331258_30</td>\n",
       "      <td>RSSL1L2</td>\n",
       "      <td>Axial T2</td>\n",
       "      <td>512</td>\n",
       "      <td>512</td>\n",
       "      <td>E:\\data\\RSNA2024\\pngs_256\\3922074884_128033125...</td>\n",
       "      <td>FFS</td>\n",
       "      <td>0.421359</td>\n",
       "      <td>0.575000</td>\n",
       "      <td>0.763158</td>\n",
       "    </tr>\n",
       "  </tbody>\n",
       "</table>\n",
       "</div>"
      ],
      "text/plain": [
       "         study_id   series_id  instance condition level           x  \\\n",
       "44588  3922074884  1280331258        30       LSS  L1L2  272.459644   \n",
       "44589  3922074884  1280331258        30       RSS  L1L2  215.735714   \n",
       "\n",
       "                y                  ss_id               instance_id       cl  \\\n",
       "44588  303.978112  3922074884_1280331258  3922074884_1280331258_30  LSSL1L2   \n",
       "44589  294.400000  3922074884_1280331258  3922074884_1280331258_30  RSSL1L2   \n",
       "\n",
       "      series_description  rows  columns  \\\n",
       "44588           Axial T2   512      512   \n",
       "44589           Axial T2   512      512   \n",
       "\n",
       "                                                filename patientposition  \\\n",
       "44588  E:\\data\\RSNA2024\\pngs_256\\3922074884_128033125...             FFS   \n",
       "44589  E:\\data\\RSNA2024\\pngs_256\\3922074884_128033125...             FFS   \n",
       "\n",
       "         x_perc    y_perc  inst_perc  \n",
       "44588  0.532148  0.593707   0.763158  \n",
       "44589  0.421359  0.575000   0.763158  "
      ]
     },
     "execution_count": 69,
     "metadata": {},
     "output_type": "execute_result"
    }
   ],
   "source": [
    "coords_df[coords_df.instance_id == '3922074884_1280331258_30']"
   ]
  },
  {
   "cell_type": "code",
   "execution_count": 70,
   "id": "08eaec5a-3f07-46ba-9b65-a951c6247a20",
   "metadata": {},
   "outputs": [
    {
     "data": {
      "text/html": [
       "<div>\n",
       "<style scoped>\n",
       "    .dataframe tbody tr th:only-of-type {\n",
       "        vertical-align: middle;\n",
       "    }\n",
       "\n",
       "    .dataframe tbody tr th {\n",
       "        vertical-align: top;\n",
       "    }\n",
       "\n",
       "    .dataframe thead th {\n",
       "        text-align: right;\n",
       "    }\n",
       "</style>\n",
       "<table border=\"1\" class=\"dataframe\">\n",
       "  <thead>\n",
       "    <tr style=\"text-align: right;\">\n",
       "      <th></th>\n",
       "      <th>filename</th>\n",
       "      <th>instance_id</th>\n",
       "      <th>series_description</th>\n",
       "      <th>condition</th>\n",
       "    </tr>\n",
       "  </thead>\n",
       "  <tbody>\n",
       "  </tbody>\n",
       "</table>\n",
       "</div>"
      ],
      "text/plain": [
       "Empty DataFrame\n",
       "Columns: [filename, instance_id, series_description, condition]\n",
       "Index: []"
      ]
     },
     "execution_count": 70,
     "metadata": {},
     "output_type": "execute_result"
    }
   ],
   "source": [
    "v_df[v_df.instance_id == '3922074884_1280331258_30']"
   ]
  },
  {
   "cell_type": "code",
   "execution_count": null,
   "id": "c3cd99e9-30f7-40d2-82c2-1541f42a7140",
   "metadata": {},
   "outputs": [],
   "source": []
  },
  {
   "cell_type": "markdown",
   "id": "2a91473b-3c2c-46b6-a202-c63729f24576",
   "metadata": {},
   "source": [
    "#### Filter classes"
   ]
  },
  {
   "cell_type": "code",
   "execution_count": 71,
   "id": "3bd49a3c-6f56-46f5-a5eb-0ead3e3dd14d",
   "metadata": {},
   "outputs": [
    {
     "data": {
      "text/plain": [
       "['SCS', 'RNFN', 'LNFN', 'LSS', 'RSS', 'H']"
      ]
     },
     "execution_count": 71,
     "metadata": {},
     "output_type": "execute_result"
    }
   ],
   "source": [
    "CFG.classes"
   ]
  },
  {
   "cell_type": "code",
   "execution_count": 72,
   "id": "fb0cb2c8-93ae-42a7-a39b-272b06100ffc",
   "metadata": {
    "scrolled": true
   },
   "outputs": [
    {
     "data": {
      "text/plain": [
       "((81219, 4), (4275, 4))"
      ]
     },
     "execution_count": 72,
     "metadata": {},
     "output_type": "execute_result"
    }
   ],
   "source": [
    "t_df[t_df['condition'].isin(CFG.classes)].shape, v_df[v_df['condition'].isin(CFG.classes)].shape"
   ]
  },
  {
   "cell_type": "code",
   "execution_count": 73,
   "id": "ee2dd792-aa5e-4aaf-a149-815fe5f54013",
   "metadata": {},
   "outputs": [],
   "source": [
    "t_df = t_df[t_df['condition'].isin(CFG.classes)]\n",
    "v_df = v_df[v_df['condition'].isin(CFG.classes)]"
   ]
  },
  {
   "cell_type": "code",
   "execution_count": 74,
   "id": "d7182bc5-7ed9-443d-8936-4868427d16a8",
   "metadata": {},
   "outputs": [
    {
     "data": {
      "text/plain": [
       "((81219, 4), (4275, 4))"
      ]
     },
     "execution_count": 74,
     "metadata": {},
     "output_type": "execute_result"
    }
   ],
   "source": [
    "t_df.shape, v_df.shape"
   ]
  },
  {
   "cell_type": "code",
   "execution_count": 75,
   "id": "eaa40fad-f83f-4a61-8f6c-21a9882303af",
   "metadata": {},
   "outputs": [
    {
     "data": {
      "text/plain": [
       "(543.5625, 28.609375)"
      ]
     },
     "execution_count": 75,
     "metadata": {},
     "output_type": "execute_result"
    }
   ],
   "source": [
    "69576/128, 3662/128"
   ]
  },
  {
   "cell_type": "markdown",
   "id": "6bea37bc-b020-4644-8bf6-1a34263313c9",
   "metadata": {},
   "source": [
    "### Train"
   ]
  },
  {
   "cell_type": "code",
   "execution_count": 76,
   "id": "48701efd-e716-4cc0-8e07-fe355f1ccfb4",
   "metadata": {},
   "outputs": [
    {
     "data": {
      "text/plain": [
       "(32, 'cuda')"
      ]
     },
     "execution_count": 76,
     "metadata": {},
     "output_type": "execute_result"
    }
   ],
   "source": [
    "CFG.BATCH_SIZE, CFG.device"
   ]
  },
  {
   "cell_type": "code",
   "execution_count": 77,
   "id": "d267fcb8-eb47-49e3-ac11-79ccc6d6e21c",
   "metadata": {},
   "outputs": [
    {
     "data": {
      "text/plain": [
       "(1842, 131)"
      ]
     },
     "execution_count": 77,
     "metadata": {},
     "output_type": "execute_result"
    }
   ],
   "source": [
    "dm = rsna_datamodule(t_df, v_df, coords_df, cfg=CFG, train_tfs=train_tfs, val_tfs=val_tfs)\n",
    "len(dm.train_dataloader()), len(dm.val_dataloader())"
   ]
  },
  {
   "cell_type": "code",
   "execution_count": 78,
   "id": "b3106f02-db30-4b01-8700-47910eddcf0d",
   "metadata": {},
   "outputs": [
    {
     "data": {
      "text/plain": [
       "'eca_nfnet_l0 5e-05 10 eps 128neck'"
      ]
     },
     "execution_count": 78,
     "metadata": {},
     "output_type": "execute_result"
    }
   ],
   "source": [
    "run_name = f'{CFG.model_name} {CFG.LEARNING_RATE} {CFG.N_EPOCHS} eps {CFG.comment}'\n",
    "run_name"
   ]
  },
  {
   "cell_type": "code",
   "execution_count": 79,
   "id": "2bc9e108-61e0-4190-9e6c-3c14dede8bb2",
   "metadata": {},
   "outputs": [],
   "source": [
    "wandb_logger = WandbLogger(\n",
    "    name=run_name,\n",
    "    project=CFG.project,\n",
    "    job_type='train',\n",
    "    save_dir=CFG.RESULTS_DIR,\n",
    "    # config=cfg,\n",
    ")\n",
    "\n",
    "loss_ckpt = pl.callbacks.ModelCheckpoint(\n",
    "    monitor='val/loss',\n",
    "    auto_insert_metric_name=False,\n",
    "    dirpath=CFG.CKPT_DIR / run_name,\n",
    "    filename='ep_{epoch:02d}_loss_{val/loss:.5f}',\n",
    "    save_top_k=2,\n",
    "    mode='min',\n",
    ")\n",
    "\n",
    "# acc_ckpt = pl.callbacks.ModelCheckpoint(\n",
    "#     monitor='val/acc',\n",
    "#     auto_insert_metric_name=False,\n",
    "#     dirpath=CFG.CKPT_DIR / run_name,\n",
    "#     filename='ep_{epoch:02d}_acc_{val/acc:.5f}',\n",
    "#     save_top_k=2,\n",
    "#     mode='max',\n",
    "# )\n",
    "\n",
    "lr_monitor = LearningRateMonitor(logging_interval='step')"
   ]
  },
  {
   "cell_type": "code",
   "execution_count": 80,
   "id": "1577b0bd-ecee-4e5c-b6e8-1884eb1ed5f3",
   "metadata": {},
   "outputs": [
    {
     "name": "stderr",
     "output_type": "stream",
     "text": [
      "GPU available: True (cuda), used: True\n",
      "TPU available: False, using: 0 TPU cores\n",
      "HPU available: False, using: 0 HPUs\n"
     ]
    }
   ],
   "source": [
    "trainer = pl.Trainer(\n",
    "    max_epochs=CFG.N_EPOCHS,\n",
    "    deterministic=True,\n",
    "    accelerator=CFG.device,\n",
    "    default_root_dir=CFG.RESULTS_DIR,\n",
    "    gradient_clip_val=0.5, \n",
    "    # gradient_clip_algorithm=\"value\",\n",
    "    logger=wandb_logger,\n",
    "    callbacks=[loss_ckpt, lr_monitor],\n",
    ")"
   ]
  },
  {
   "cell_type": "code",
   "execution_count": 81,
   "id": "4614df21-2ee5-45d3-9e24-68a2a3ff0a67",
   "metadata": {},
   "outputs": [
    {
     "name": "stdout",
     "output_type": "stream",
     "text": [
      "eca_nfnet_l0\n"
     ]
    }
   ],
   "source": [
    "model = GeMModel(CFG)"
   ]
  },
  {
   "cell_type": "markdown",
   "id": "9bafa397-0dd0-4684-be98-c9c98f8c509f",
   "metadata": {},
   "source": [
    "#### Fit"
   ]
  },
  {
   "cell_type": "code",
   "execution_count": 82,
   "id": "4d122160-f689-4fd6-891c-23dee54719df",
   "metadata": {
    "scrolled": true
   },
   "outputs": [
    {
     "name": "stderr",
     "output_type": "stream",
     "text": [
      "You are using a CUDA device ('NVIDIA GeForce RTX 4090 Laptop GPU') that has Tensor Cores. To properly utilize them, you should set `torch.set_float32_matmul_precision('medium' | 'high')` which will trade-off precision for performance. For more details, read https://pytorch.org/docs/stable/generated/torch.set_float32_matmul_precision.html#torch.set_float32_matmul_precision\n"
     ]
    },
    {
     "data": {
      "text/html": [
       "wandb version 0.18.3 is available!  To upgrade, please run:\n",
       " $ pip install wandb --upgrade"
      ],
      "text/plain": [
       "<IPython.core.display.HTML object>"
      ]
     },
     "metadata": {},
     "output_type": "display_data"
    },
    {
     "data": {
      "text/html": [
       "Tracking run with wandb version 0.16.6"
      ],
      "text/plain": [
       "<IPython.core.display.HTML object>"
      ]
     },
     "metadata": {},
     "output_type": "display_data"
    },
    {
     "data": {
      "text/html": [
       "Run data is saved locally in <code>E:\\data\\RSNA2024\\results\\wandb\\run-20241002_201718-zvyfcpv0</code>"
      ],
      "text/plain": [
       "<IPython.core.display.HTML object>"
      ]
     },
     "metadata": {},
     "output_type": "display_data"
    },
    {
     "data": {
      "text/html": [
       "Syncing run <strong><a href='https://wandb.ai/rosu-lucian/rsna-2/runs/zvyfcpv0' target=\"_blank\">eca_nfnet_l0 5e-05 10 eps 128neck</a></strong> to <a href='https://wandb.ai/rosu-lucian/rsna-2' target=\"_blank\">Weights & Biases</a> (<a href='https://wandb.me/run' target=\"_blank\">docs</a>)<br/>"
      ],
      "text/plain": [
       "<IPython.core.display.HTML object>"
      ]
     },
     "metadata": {},
     "output_type": "display_data"
    },
    {
     "data": {
      "text/html": [
       " View project at <a href='https://wandb.ai/rosu-lucian/rsna-2' target=\"_blank\">https://wandb.ai/rosu-lucian/rsna-2</a>"
      ],
      "text/plain": [
       "<IPython.core.display.HTML object>"
      ]
     },
     "metadata": {},
     "output_type": "display_data"
    },
    {
     "data": {
      "text/html": [
       " View run at <a href='https://wandb.ai/rosu-lucian/rsna-2/runs/zvyfcpv0' target=\"_blank\">https://wandb.ai/rosu-lucian/rsna-2/runs/zvyfcpv0</a>"
      ],
      "text/plain": [
       "<IPython.core.display.HTML object>"
      ]
     },
     "metadata": {},
     "output_type": "display_data"
    },
    {
     "name": "stderr",
     "output_type": "stream",
     "text": [
      "C:\\ProgramData\\anaconda3\\envs\\rsna\\lib\\site-packages\\pytorch_lightning\\callbacks\\model_checkpoint.py:654: Checkpoint directory E:\\data\\RSNA2024\\results\\ckpt\\eca_nfnet_l0 5e-05 10 eps 128neck exists and is not empty.\n",
      "LOCAL_RANK: 0 - CUDA_VISIBLE_DEVICES: [0]\n",
      "\n",
      "  | Name          | Type             | Params | Mode \n",
      "-----------------------------------------------------------\n",
      "0 | criterion     | FocalLossBCE     | 0      | train\n",
      "1 | train_metrics | MetricCollection | 0      | train\n",
      "2 | valid_metrics | MetricCollection | 0      | train\n",
      "3 | backbone      | FeatureListNet   | 21.8 M | train\n",
      "4 | global_pools  | ModuleList       | 2      | train\n",
      "5 | neck          | BatchNorm1d      | 7.7 K  | train\n",
      "6 | bottleneck    | Linear           | 491 K  | train\n",
      "7 | bottleneck_bn | BatchNorm1d      | 256    | train\n",
      "8 | head          | Linear           | 774    | train\n",
      "-----------------------------------------------------------\n",
      "22.3 M    Trainable params\n",
      "0         Non-trainable params\n",
      "22.3 M    Total params\n",
      "89.357    Total estimated model params size (MB)\n",
      "206       Modules in train mode\n",
      "0         Modules in eval mode\n"
     ]
    },
    {
     "data": {
      "application/vnd.jupyter.widget-view+json": {
       "model_id": "",
       "version_major": 2,
       "version_minor": 0
      },
      "text/plain": [
       "Sanity Checking: |                                                                        | 0/? [00:00<?, ?it/…"
      ]
     },
     "metadata": {},
     "output_type": "display_data"
    },
    {
     "data": {
      "application/vnd.jupyter.widget-view+json": {
       "model_id": "f6e5535ab9ec4c6f9d683647a2a55a75",
       "version_major": 2,
       "version_minor": 0
      },
      "text/plain": [
       "Training: |                                                                               | 0/? [00:00<?, ?it/…"
      ]
     },
     "metadata": {},
     "output_type": "display_data"
    },
    {
     "data": {
      "application/vnd.jupyter.widget-view+json": {
       "model_id": "",
       "version_major": 2,
       "version_minor": 0
      },
      "text/plain": [
       "Validation: |                                                                             | 0/? [00:00<?, ?it/…"
      ]
     },
     "metadata": {},
     "output_type": "display_data"
    },
    {
     "name": "stderr",
     "output_type": "stream",
     "text": [
      "C:\\ProgramData\\anaconda3\\envs\\rsna\\lib\\site-packages\\torchmetrics\\utilities\\prints.py:43: UserWarning: The ``compute`` method of metric MultilabelAccuracy was called before the ``update`` method which may lead to errors, as metric states have not yet been updated.\n",
      "  warnings.warn(*args, **kwargs)  # noqa: B028\n",
      "C:\\ProgramData\\anaconda3\\envs\\rsna\\lib\\site-packages\\torchmetrics\\utilities\\prints.py:43: UserWarning: The ``compute`` method of metric MultilabelF1Score was called before the ``update`` method which may lead to errors, as metric states have not yet been updated.\n",
      "  warnings.warn(*args, **kwargs)  # noqa: B028\n"
     ]
    },
    {
     "data": {
      "application/vnd.jupyter.widget-view+json": {
       "model_id": "",
       "version_major": 2,
       "version_minor": 0
      },
      "text/plain": [
       "Validation: |                                                                             | 0/? [00:00<?, ?it/…"
      ]
     },
     "metadata": {},
     "output_type": "display_data"
    },
    {
     "data": {
      "application/vnd.jupyter.widget-view+json": {
       "model_id": "",
       "version_major": 2,
       "version_minor": 0
      },
      "text/plain": [
       "Validation: |                                                                             | 0/? [00:00<?, ?it/…"
      ]
     },
     "metadata": {},
     "output_type": "display_data"
    },
    {
     "data": {
      "application/vnd.jupyter.widget-view+json": {
       "model_id": "",
       "version_major": 2,
       "version_minor": 0
      },
      "text/plain": [
       "Validation: |                                                                             | 0/? [00:00<?, ?it/…"
      ]
     },
     "metadata": {},
     "output_type": "display_data"
    },
    {
     "data": {
      "application/vnd.jupyter.widget-view+json": {
       "model_id": "",
       "version_major": 2,
       "version_minor": 0
      },
      "text/plain": [
       "Validation: |                                                                             | 0/? [00:00<?, ?it/…"
      ]
     },
     "metadata": {},
     "output_type": "display_data"
    },
    {
     "data": {
      "application/vnd.jupyter.widget-view+json": {
       "model_id": "",
       "version_major": 2,
       "version_minor": 0
      },
      "text/plain": [
       "Validation: |                                                                             | 0/? [00:00<?, ?it/…"
      ]
     },
     "metadata": {},
     "output_type": "display_data"
    },
    {
     "data": {
      "application/vnd.jupyter.widget-view+json": {
       "model_id": "",
       "version_major": 2,
       "version_minor": 0
      },
      "text/plain": [
       "Validation: |                                                                             | 0/? [00:00<?, ?it/…"
      ]
     },
     "metadata": {},
     "output_type": "display_data"
    },
    {
     "data": {
      "application/vnd.jupyter.widget-view+json": {
       "model_id": "",
       "version_major": 2,
       "version_minor": 0
      },
      "text/plain": [
       "Validation: |                                                                             | 0/? [00:00<?, ?it/…"
      ]
     },
     "metadata": {},
     "output_type": "display_data"
    },
    {
     "data": {
      "application/vnd.jupyter.widget-view+json": {
       "model_id": "",
       "version_major": 2,
       "version_minor": 0
      },
      "text/plain": [
       "Validation: |                                                                             | 0/? [00:00<?, ?it/…"
      ]
     },
     "metadata": {},
     "output_type": "display_data"
    },
    {
     "data": {
      "application/vnd.jupyter.widget-view+json": {
       "model_id": "",
       "version_major": 2,
       "version_minor": 0
      },
      "text/plain": [
       "Validation: |                                                                             | 0/? [00:00<?, ?it/…"
      ]
     },
     "metadata": {},
     "output_type": "display_data"
    },
    {
     "name": "stderr",
     "output_type": "stream",
     "text": [
      "`Trainer.fit` stopped: `max_epochs=10` reached.\n"
     ]
    }
   ],
   "source": [
    "trainer.fit(model, dm)"
   ]
  },
  {
   "cell_type": "code",
   "execution_count": 83,
   "id": "ee2213bc-db43-4e24-b2e9-2c2b933c6e38",
   "metadata": {},
   "outputs": [],
   "source": [
    "# np.array([0.0625, 0.9375, 0.8125, 0.0000, 1.0000, 1.0000, 0.0938, 0.8125, 0.7500,\n",
    "#         0.8750, 0.2500, 0.0625, 0.9688, 0.9062, 0.9688, 0.1875, 1.0000, 0.6562,\n",
    "#         0.7500, 0.7812, 0.6875, 0.8438, 0.8750, 0.9688, 0.4062, 0.2188]).mean()"
   ]
  },
  {
   "cell_type": "code",
   "execution_count": 84,
   "id": "348c123f-7cdd-4687-a64d-5737e2d95f1b",
   "metadata": {},
   "outputs": [
    {
     "data": {
      "application/vnd.jupyter.widget-view+json": {
       "model_id": "",
       "version_major": 2,
       "version_minor": 0
      },
      "text/plain": [
       "VBox(children=(Label(value='0.001 MB of 0.001 MB uploaded\\r'), FloatProgress(value=1.0, max=1.0)))"
      ]
     },
     "metadata": {},
     "output_type": "display_data"
    },
    {
     "data": {
      "text/html": [
       "W&B sync reduced upload amount by 19.5%             "
      ],
      "text/plain": [
       "<IPython.core.display.HTML object>"
      ]
     },
     "metadata": {},
     "output_type": "display_data"
    },
    {
     "data": {
      "text/html": [
       "<style>\n",
       "    table.wandb td:nth-child(1) { padding: 0 10px; text-align: left ; width: auto;} td:nth-child(2) {text-align: left ; width: 100%}\n",
       "    .wandb-row { display: flex; flex-direction: row; flex-wrap: wrap; justify-content: flex-start; width: 100% }\n",
       "    .wandb-col { display: flex; flex-direction: column; flex-basis: 100%; flex: 1; padding: 10px; }\n",
       "    </style>\n",
       "<div class=\"wandb-row\"><div class=\"wandb-col\"><h3>Run history:</h3><br/><table class=\"wandb\"><tr><td>epoch</td><td>▁▁▁▁▂▂▂▂▃▃▃▃▃▃▃▃▄▄▄▄▅▅▅▅▆▆▆▆▆▆▆▆▇▇▇▇████</td></tr><tr><td>lr-Adam</td><td>▁▁▁▁▁▁▁▁▁▁▁▁▁▁▁▁▁▁▁▁▁▁▁▁▁▁▁▁▁▁▁▁▁▁▁▁▁▁▁▁</td></tr><tr><td>train/f1</td><td>▂▂▄▇▅▅▃▄▇▆▂▄▆▆▅▁▇▇█▇▅▇▆▄██▆▄▅▅▆▆▃█▂█▅█▇█</td></tr><tr><td>train/loss_epoch</td><td>█▄▃▂▂▂▁▁▁▁</td></tr><tr><td>train/loss_step</td><td>██▆▄▄▄▄▃▂▃▂▃▂▃▁▂▂▂▁▂▃▁▂▂▂▁▂▂▃▂▂▁▂▁▂▁▁▁▁▁</td></tr><tr><td>train/mpr</td><td>▁▂▄▆▅▄▃▅▇▆▂▄▇▅▆▁▇▇█▆▅▇▆▄▇▇█▄▅▅▇▆▃▇▂█▅█▇█</td></tr><tr><td>train/mrec</td><td>█▅▇█▅▅▄▃▆▆▂▄▆▇▅▁▇▇▇█▄▆▇▆██▅▄▄▆▆▆▃█▃▇▄█▆▇</td></tr><tr><td>train/multiacc/H</td><td>▁▂▂▆▆▅▃▅▅▁▆▂▆▂▇▅▆▆█▇▆▇▆▃▇▇▃▃▅▇▆█▇█▇████▅</td></tr><tr><td>train/multiacc/LNFN</td><td>▁▃███▇▇▇██▇██▆█████▇▇█▇▇██▇███████████▇█</td></tr><tr><td>train/multiacc/LSS</td><td>▃▅▅▄▅▅▆▁▅▅▅▇▅▄█▄▅▆▇▆▇▆▅▅▆▆▇▅▃▅▅▇▅▆▄▇▅▆▅█</td></tr><tr><td>train/multiacc/RNFN</td><td>▁▃▃█▇▇████▇▇▇▇███▇██▇█▇███▇█████████████</td></tr><tr><td>train/multiacc/RSS</td><td>▃▁▅▃▆▅▅▃▇▃▁▆▆▆▇▆▅█▇▅▇▅▆▁▆▆▅▅▆▇▃█▂▅▆▇▃▆▆▇</td></tr><tr><td>train/multiacc/SCS</td><td>▁▃▆███▇█▇▆█▇██▇██▇█████████▇██▇█████████</td></tr><tr><td>train/multif1/H</td><td>▂▃▃▆▆▅▄▅▅▁▆▄▆▂▇▆▆▆█▇▆▇▆▄▇▇▃▄▅▇▆█▇█▇████▅</td></tr><tr><td>train/multif1/LNFN</td><td>▄▅███▇▁▇██▁▁█▆▁▁███▇▁█▇▁██▇▁███▁▁█▁███▆█</td></tr><tr><td>train/multif1/LSS</td><td>▄▆▆▅▆▅▆▁▅▅▆▇▃▄█▅▅▅▇▆▆▅▅▅▆▆▇▄▃▅▅▇▅▆▁▆▄▇▅█</td></tr><tr><td>train/multif1/RNFN</td><td>▂▁▃█▇▁█▁██▆▆▇▇█▁█▇██▆█▇███▇█▁███▁█▁█████</td></tr><tr><td>train/multif1/RSS</td><td>▆▃▆▅▇▅▆▅▇▅▄▅▅▆▇▇▆█▇▆▇▄▆▁▇▆▄▅▆▇▄█▄▆▆▆▄▇▇▅</td></tr><tr><td>train/multif1/SCS</td><td>▃▃▅█▁█▁█▆▆▁▆██▆▁█▇█████████▆█▁▆█████▁███</td></tr><tr><td>trainer/global_step</td><td>▁▂▁▁▂▁▁▁▂▃▁▁▃▁▁▁▄▅▁▁▅▅▁▁▅▆▁▁▆▇▁▁▇▁▁▁██▁▁</td></tr><tr><td>val/f1</td><td>▅▅▅▁▆▅█▇██</td></tr><tr><td>val/loss_epoch</td><td>█▃▂▁▁▁▁▁▂▂</td></tr><tr><td>val/loss_step</td><td>█▇█▆▃▃▆▃▄▃▇▆▃▃▄▄▃▃▂▂▄▄▄▂▅▃▃▃▁▃▃▂▃▅▂▂▁▃▂▂</td></tr><tr><td>val/mpr</td><td>▁▃▄█▇▅▅▆▅▅</td></tr><tr><td>val/mrec</td><td>▇▆▅▁▅▅█▇██</td></tr><tr><td>val/multiacc/H</td><td>▁▃▅▆▇▇▇▇██</td></tr><tr><td>val/multiacc/LNFN</td><td>▁▁▆▃▇▃█▇██</td></tr><tr><td>val/multiacc/LSS</td><td>▁▄▁▂▁▅▇▇█▇</td></tr><tr><td>val/multiacc/RNFN</td><td>▂▂▆▆█▁█▇██</td></tr><tr><td>val/multiacc/RSS</td><td>▆▇▇▁▆▆████</td></tr><tr><td>val/multiacc/SCS</td><td>▄▆▁▄█▇▆███</td></tr><tr><td>val/multif1/H</td><td>▁▃▅▆▇▇▇▇▇█</td></tr><tr><td>val/multif1/LNFN</td><td>▂▁▆▃▇▃█▇██</td></tr><tr><td>val/multif1/LSS</td><td>▆▇▃▁▁▆█▇██</td></tr><tr><td>val/multif1/RNFN</td><td>▂▃▆▆█▁█▇██</td></tr><tr><td>val/multif1/RSS</td><td>▇▇▇▁▆▆████</td></tr><tr><td>val/multif1/SCS</td><td>▄▆▁▄██▇███</td></tr></table><br/></div><div class=\"wandb-col\"><h3>Run summary:</h3><br/><table class=\"wandb\"><tr><td>epoch</td><td>9</td></tr><tr><td>lr-Adam</td><td>5e-05</td></tr><tr><td>train/f1</td><td>0.93162</td></tr><tr><td>train/loss_epoch</td><td>0.0739</td></tr><tr><td>train/loss_step</td><td>0.06509</td></tr><tr><td>train/mpr</td><td>1.0</td></tr><tr><td>train/mrec</td><td>0.89286</td></tr><tr><td>train/multiacc/H</td><td>0.90625</td></tr><tr><td>train/multiacc/LNFN</td><td>1.0</td></tr><tr><td>train/multiacc/LSS</td><td>1.0</td></tr><tr><td>train/multiacc/RNFN</td><td>1.0</td></tr><tr><td>train/multiacc/RSS</td><td>0.96875</td></tr><tr><td>train/multiacc/SCS</td><td>1.0</td></tr><tr><td>train/multif1/H</td><td>0.92308</td></tr><tr><td>train/multif1/LNFN</td><td>1.0</td></tr><tr><td>train/multif1/LSS</td><td>1.0</td></tr><tr><td>train/multif1/RNFN</td><td>1.0</td></tr><tr><td>train/multif1/RSS</td><td>0.66667</td></tr><tr><td>train/multif1/SCS</td><td>1.0</td></tr><tr><td>trainer/global_step</td><td>18419</td></tr><tr><td>val/f1</td><td>0.90973</td></tr><tr><td>val/loss_epoch</td><td>0.14491</td></tr><tr><td>val/loss_step</td><td>0.03628</td></tr><tr><td>val/mpr</td><td>0.90196</td></tr><tr><td>val/mrec</td><td>0.91872</td></tr><tr><td>val/multiacc/H</td><td>0.93188</td></tr><tr><td>val/multiacc/LNFN</td><td>0.99235</td></tr><tr><td>val/multiacc/LSS</td><td>0.92997</td></tr><tr><td>val/multiacc/RNFN</td><td>0.99092</td></tr><tr><td>val/multiacc/RSS</td><td>0.93356</td></tr><tr><td>val/multiacc/SCS</td><td>0.99546</td></tr><tr><td>val/multif1/H</td><td>0.92037</td></tr><tr><td>val/multif1/LNFN</td><td>0.96617</td></tr><tr><td>val/multif1/LSS</td><td>0.80837</td></tr><tr><td>val/multif1/RNFN</td><td>0.96025</td></tr><tr><td>val/multif1/RSS</td><td>0.82427</td></tr><tr><td>val/multif1/SCS</td><td>0.97891</td></tr></table><br/></div></div>"
      ],
      "text/plain": [
       "<IPython.core.display.HTML object>"
      ]
     },
     "metadata": {},
     "output_type": "display_data"
    },
    {
     "data": {
      "text/html": [
       " View run <strong style=\"color:#cdcd00\">eca_nfnet_l0 5e-05 10 eps 128neck</strong> at: <a href='https://wandb.ai/rosu-lucian/rsna-2/runs/zvyfcpv0' target=\"_blank\">https://wandb.ai/rosu-lucian/rsna-2/runs/zvyfcpv0</a><br/> View project at: <a href='https://wandb.ai/rosu-lucian/rsna-2' target=\"_blank\">https://wandb.ai/rosu-lucian/rsna-2</a><br/>Synced 5 W&B file(s), 0 media file(s), 2 artifact file(s) and 0 other file(s)"
      ],
      "text/plain": [
       "<IPython.core.display.HTML object>"
      ]
     },
     "metadata": {},
     "output_type": "display_data"
    },
    {
     "data": {
      "text/html": [
       "Find logs at: <code>E:\\data\\RSNA2024\\results\\wandb\\run-20241002_201718-zvyfcpv0\\logs</code>"
      ],
      "text/plain": [
       "<IPython.core.display.HTML object>"
      ]
     },
     "metadata": {},
     "output_type": "display_data"
    }
   ],
   "source": [
    "wandb.finish()"
   ]
  },
  {
   "cell_type": "markdown",
   "id": "f0282dd1-79b8-4d0f-9b24-4356304a4944",
   "metadata": {},
   "source": [
    "### Predict"
   ]
  },
  {
   "cell_type": "code",
   "execution_count": 85,
   "id": "d4ab4ff0-8f17-40ae-9e1d-8589fa8d9286",
   "metadata": {},
   "outputs": [],
   "source": [
    "x, y = next(iter(dm.train_dataloader()))"
   ]
  },
  {
   "cell_type": "code",
   "execution_count": 86,
   "id": "5d46ec1f-ae88-4c3c-af95-96e6e53cfd30",
   "metadata": {},
   "outputs": [
    {
     "data": {
      "text/plain": [
       "torch.Size([32, 6])"
      ]
     },
     "execution_count": 86,
     "metadata": {},
     "output_type": "execute_result"
    }
   ],
   "source": [
    "foo = model(x)\n",
    "# foo = model(x.to(CFG.device)).detach().cpu()\n",
    "foo.shape"
   ]
  },
  {
   "cell_type": "code",
   "execution_count": 87,
   "id": "28b1c02e-03a1-4a86-b63a-dd42f828db31",
   "metadata": {},
   "outputs": [
    {
     "data": {
      "text/plain": [
       "tensor([-7.7421, -7.6577, -6.6064, -4.5188, -5.3812,  4.6799],\n",
       "       grad_fn=<SelectBackward0>)"
      ]
     },
     "execution_count": 87,
     "metadata": {},
     "output_type": "execute_result"
    }
   ],
   "source": [
    "foo[0]"
   ]
  },
  {
   "cell_type": "code",
   "execution_count": 88,
   "id": "b246fd4b-4146-43da-a7f5-8af0f7f9753b",
   "metadata": {},
   "outputs": [
    {
     "data": {
      "text/plain": [
       "tensor([4.3395e-04, 4.7215e-04, 1.3499e-03, 1.0785e-02, 4.5812e-03, 9.9081e-01],\n",
       "       grad_fn=<SigmoidBackward0>)"
      ]
     },
     "execution_count": 88,
     "metadata": {},
     "output_type": "execute_result"
    }
   ],
   "source": [
    "foo[0].sigmoid()"
   ]
  },
  {
   "cell_type": "code",
   "execution_count": 89,
   "id": "bd8cd979-93bb-4c20-9f41-e7a348a0d9d3",
   "metadata": {},
   "outputs": [],
   "source": [
    "macc = tm.classification.MultilabelAccuracy(num_labels=26)\n",
    "mapp = tm.classification.MultilabelPrecision(num_labels=26)\n",
    "marr = tm.classification.MultilabelRecall(num_labels=26)\n",
    "maff = tm.classification.MultilabelF1Score(num_labels=26)"
   ]
  },
  {
   "cell_type": "code",
   "execution_count": 90,
   "id": "c9341a36-5c7b-4a5b-bc4e-49dd1fbc18ca",
   "metadata": {
    "scrolled": true
   },
   "outputs": [
    {
     "ename": "ValueError",
     "evalue": "Expected both `target.shape[1]` and `preds.shape[1]` to be equal to the number of labels but got 6 and expected 26",
     "output_type": "error",
     "traceback": [
      "\u001b[1;31m---------------------------------------------------------------------------\u001b[0m",
      "\u001b[1;31mValueError\u001b[0m                                Traceback (most recent call last)",
      "Cell \u001b[1;32mIn[90], line 1\u001b[0m\n\u001b[1;32m----> 1\u001b[0m \u001b[43mmacc\u001b[49m\u001b[43m(\u001b[49m\u001b[43mfoo\u001b[49m\u001b[43m,\u001b[49m\u001b[43m \u001b[49m\u001b[43my\u001b[49m\u001b[43m)\u001b[49m, mapp(foo, y), marr(foo, y), maff(foo, y)\n",
      "File \u001b[1;32mC:\\ProgramData\\anaconda3\\envs\\rsna\\lib\\site-packages\\torch\\nn\\modules\\module.py:1532\u001b[0m, in \u001b[0;36mModule._wrapped_call_impl\u001b[1;34m(self, *args, **kwargs)\u001b[0m\n\u001b[0;32m   1530\u001b[0m     \u001b[38;5;28;01mreturn\u001b[39;00m \u001b[38;5;28mself\u001b[39m\u001b[38;5;241m.\u001b[39m_compiled_call_impl(\u001b[38;5;241m*\u001b[39margs, \u001b[38;5;241m*\u001b[39m\u001b[38;5;241m*\u001b[39mkwargs)  \u001b[38;5;66;03m# type: ignore[misc]\u001b[39;00m\n\u001b[0;32m   1531\u001b[0m \u001b[38;5;28;01melse\u001b[39;00m:\n\u001b[1;32m-> 1532\u001b[0m     \u001b[38;5;28;01mreturn\u001b[39;00m \u001b[38;5;28mself\u001b[39m\u001b[38;5;241m.\u001b[39m_call_impl(\u001b[38;5;241m*\u001b[39margs, \u001b[38;5;241m*\u001b[39m\u001b[38;5;241m*\u001b[39mkwargs)\n",
      "File \u001b[1;32mC:\\ProgramData\\anaconda3\\envs\\rsna\\lib\\site-packages\\torch\\nn\\modules\\module.py:1541\u001b[0m, in \u001b[0;36mModule._call_impl\u001b[1;34m(self, *args, **kwargs)\u001b[0m\n\u001b[0;32m   1536\u001b[0m \u001b[38;5;66;03m# If we don't have any hooks, we want to skip the rest of the logic in\u001b[39;00m\n\u001b[0;32m   1537\u001b[0m \u001b[38;5;66;03m# this function, and just call forward.\u001b[39;00m\n\u001b[0;32m   1538\u001b[0m \u001b[38;5;28;01mif\u001b[39;00m \u001b[38;5;129;01mnot\u001b[39;00m (\u001b[38;5;28mself\u001b[39m\u001b[38;5;241m.\u001b[39m_backward_hooks \u001b[38;5;129;01mor\u001b[39;00m \u001b[38;5;28mself\u001b[39m\u001b[38;5;241m.\u001b[39m_backward_pre_hooks \u001b[38;5;129;01mor\u001b[39;00m \u001b[38;5;28mself\u001b[39m\u001b[38;5;241m.\u001b[39m_forward_hooks \u001b[38;5;129;01mor\u001b[39;00m \u001b[38;5;28mself\u001b[39m\u001b[38;5;241m.\u001b[39m_forward_pre_hooks\n\u001b[0;32m   1539\u001b[0m         \u001b[38;5;129;01mor\u001b[39;00m _global_backward_pre_hooks \u001b[38;5;129;01mor\u001b[39;00m _global_backward_hooks\n\u001b[0;32m   1540\u001b[0m         \u001b[38;5;129;01mor\u001b[39;00m _global_forward_hooks \u001b[38;5;129;01mor\u001b[39;00m _global_forward_pre_hooks):\n\u001b[1;32m-> 1541\u001b[0m     \u001b[38;5;28;01mreturn\u001b[39;00m forward_call(\u001b[38;5;241m*\u001b[39margs, \u001b[38;5;241m*\u001b[39m\u001b[38;5;241m*\u001b[39mkwargs)\n\u001b[0;32m   1543\u001b[0m \u001b[38;5;28;01mtry\u001b[39;00m:\n\u001b[0;32m   1544\u001b[0m     result \u001b[38;5;241m=\u001b[39m \u001b[38;5;28;01mNone\u001b[39;00m\n",
      "File \u001b[1;32mC:\\ProgramData\\anaconda3\\envs\\rsna\\lib\\site-packages\\torchmetrics\\metric.py:311\u001b[0m, in \u001b[0;36mMetric.forward\u001b[1;34m(self, *args, **kwargs)\u001b[0m\n\u001b[0;32m    309\u001b[0m     \u001b[38;5;28mself\u001b[39m\u001b[38;5;241m.\u001b[39m_forward_cache \u001b[38;5;241m=\u001b[39m \u001b[38;5;28mself\u001b[39m\u001b[38;5;241m.\u001b[39m_forward_full_state_update(\u001b[38;5;241m*\u001b[39margs, \u001b[38;5;241m*\u001b[39m\u001b[38;5;241m*\u001b[39mkwargs)\n\u001b[0;32m    310\u001b[0m \u001b[38;5;28;01melse\u001b[39;00m:\n\u001b[1;32m--> 311\u001b[0m     \u001b[38;5;28mself\u001b[39m\u001b[38;5;241m.\u001b[39m_forward_cache \u001b[38;5;241m=\u001b[39m \u001b[38;5;28mself\u001b[39m\u001b[38;5;241m.\u001b[39m_forward_reduce_state_update(\u001b[38;5;241m*\u001b[39margs, \u001b[38;5;241m*\u001b[39m\u001b[38;5;241m*\u001b[39mkwargs)\n\u001b[0;32m    313\u001b[0m \u001b[38;5;28;01mreturn\u001b[39;00m \u001b[38;5;28mself\u001b[39m\u001b[38;5;241m.\u001b[39m_forward_cache\n",
      "File \u001b[1;32mC:\\ProgramData\\anaconda3\\envs\\rsna\\lib\\site-packages\\torchmetrics\\metric.py:380\u001b[0m, in \u001b[0;36mMetric._forward_reduce_state_update\u001b[1;34m(self, *args, **kwargs)\u001b[0m\n\u001b[0;32m    377\u001b[0m \u001b[38;5;28mself\u001b[39m\u001b[38;5;241m.\u001b[39m_enable_grad \u001b[38;5;241m=\u001b[39m \u001b[38;5;28;01mTrue\u001b[39;00m  \u001b[38;5;66;03m# allow grads for batch computation\u001b[39;00m\n\u001b[0;32m    379\u001b[0m \u001b[38;5;66;03m# calculate batch state and compute batch value\u001b[39;00m\n\u001b[1;32m--> 380\u001b[0m \u001b[38;5;28mself\u001b[39m\u001b[38;5;241m.\u001b[39mupdate(\u001b[38;5;241m*\u001b[39margs, \u001b[38;5;241m*\u001b[39m\u001b[38;5;241m*\u001b[39mkwargs)\n\u001b[0;32m    381\u001b[0m batch_val \u001b[38;5;241m=\u001b[39m \u001b[38;5;28mself\u001b[39m\u001b[38;5;241m.\u001b[39mcompute()\n\u001b[0;32m    383\u001b[0m \u001b[38;5;66;03m# reduce batch and global state\u001b[39;00m\n",
      "File \u001b[1;32mC:\\ProgramData\\anaconda3\\envs\\rsna\\lib\\site-packages\\torchmetrics\\metric.py:482\u001b[0m, in \u001b[0;36mMetric._wrap_update.<locals>.wrapped_func\u001b[1;34m(*args, **kwargs)\u001b[0m\n\u001b[0;32m    480\u001b[0m \u001b[38;5;28;01mwith\u001b[39;00m torch\u001b[38;5;241m.\u001b[39mset_grad_enabled(\u001b[38;5;28mself\u001b[39m\u001b[38;5;241m.\u001b[39m_enable_grad):\n\u001b[0;32m    481\u001b[0m     \u001b[38;5;28;01mtry\u001b[39;00m:\n\u001b[1;32m--> 482\u001b[0m         update(\u001b[38;5;241m*\u001b[39margs, \u001b[38;5;241m*\u001b[39m\u001b[38;5;241m*\u001b[39mkwargs)\n\u001b[0;32m    483\u001b[0m     \u001b[38;5;28;01mexcept\u001b[39;00m \u001b[38;5;167;01mRuntimeError\u001b[39;00m \u001b[38;5;28;01mas\u001b[39;00m err:\n\u001b[0;32m    484\u001b[0m         \u001b[38;5;28;01mif\u001b[39;00m \u001b[38;5;124m\"\u001b[39m\u001b[38;5;124mExpected all tensors to be on\u001b[39m\u001b[38;5;124m\"\u001b[39m \u001b[38;5;129;01min\u001b[39;00m \u001b[38;5;28mstr\u001b[39m(err):\n",
      "File \u001b[1;32mC:\\ProgramData\\anaconda3\\envs\\rsna\\lib\\site-packages\\torchmetrics\\classification\\stat_scores.py:489\u001b[0m, in \u001b[0;36mMultilabelStatScores.update\u001b[1;34m(self, preds, target)\u001b[0m\n\u001b[0;32m    487\u001b[0m \u001b[38;5;250m\u001b[39m\u001b[38;5;124;03m\"\"\"Update state with predictions and targets.\"\"\"\u001b[39;00m\n\u001b[0;32m    488\u001b[0m \u001b[38;5;28;01mif\u001b[39;00m \u001b[38;5;28mself\u001b[39m\u001b[38;5;241m.\u001b[39mvalidate_args:\n\u001b[1;32m--> 489\u001b[0m     \u001b[43m_multilabel_stat_scores_tensor_validation\u001b[49m\u001b[43m(\u001b[49m\n\u001b[0;32m    490\u001b[0m \u001b[43m        \u001b[49m\u001b[43mpreds\u001b[49m\u001b[43m,\u001b[49m\u001b[43m \u001b[49m\u001b[43mtarget\u001b[49m\u001b[43m,\u001b[49m\u001b[43m \u001b[49m\u001b[38;5;28;43mself\u001b[39;49m\u001b[38;5;241;43m.\u001b[39;49m\u001b[43mnum_labels\u001b[49m\u001b[43m,\u001b[49m\u001b[43m \u001b[49m\u001b[38;5;28;43mself\u001b[39;49m\u001b[38;5;241;43m.\u001b[39;49m\u001b[43mmultidim_average\u001b[49m\u001b[43m,\u001b[49m\u001b[43m \u001b[49m\u001b[38;5;28;43mself\u001b[39;49m\u001b[38;5;241;43m.\u001b[39;49m\u001b[43mignore_index\u001b[49m\n\u001b[0;32m    491\u001b[0m \u001b[43m    \u001b[49m\u001b[43m)\u001b[49m\n\u001b[0;32m    492\u001b[0m preds, target \u001b[38;5;241m=\u001b[39m _multilabel_stat_scores_format(\n\u001b[0;32m    493\u001b[0m     preds, target, \u001b[38;5;28mself\u001b[39m\u001b[38;5;241m.\u001b[39mnum_labels, \u001b[38;5;28mself\u001b[39m\u001b[38;5;241m.\u001b[39mthreshold, \u001b[38;5;28mself\u001b[39m\u001b[38;5;241m.\u001b[39mignore_index\n\u001b[0;32m    494\u001b[0m )\n\u001b[0;32m    495\u001b[0m tp, fp, tn, fn \u001b[38;5;241m=\u001b[39m _multilabel_stat_scores_update(preds, target, \u001b[38;5;28mself\u001b[39m\u001b[38;5;241m.\u001b[39mmultidim_average)\n",
      "File \u001b[1;32mC:\\ProgramData\\anaconda3\\envs\\rsna\\lib\\site-packages\\torchmetrics\\functional\\classification\\stat_scores.py:621\u001b[0m, in \u001b[0;36m_multilabel_stat_scores_tensor_validation\u001b[1;34m(preds, target, num_labels, multidim_average, ignore_index)\u001b[0m\n\u001b[0;32m    618\u001b[0m _check_same_shape(preds, target)\n\u001b[0;32m    620\u001b[0m \u001b[38;5;28;01mif\u001b[39;00m preds\u001b[38;5;241m.\u001b[39mshape[\u001b[38;5;241m1\u001b[39m] \u001b[38;5;241m!=\u001b[39m num_labels:\n\u001b[1;32m--> 621\u001b[0m     \u001b[38;5;28;01mraise\u001b[39;00m \u001b[38;5;167;01mValueError\u001b[39;00m(\n\u001b[0;32m    622\u001b[0m         \u001b[38;5;124m\"\u001b[39m\u001b[38;5;124mExpected both `target.shape[1]` and `preds.shape[1]` to be equal to the number of labels\u001b[39m\u001b[38;5;124m\"\u001b[39m\n\u001b[0;32m    623\u001b[0m         \u001b[38;5;124mf\u001b[39m\u001b[38;5;124m\"\u001b[39m\u001b[38;5;124m but got \u001b[39m\u001b[38;5;132;01m{\u001b[39;00mpreds\u001b[38;5;241m.\u001b[39mshape[\u001b[38;5;241m1\u001b[39m]\u001b[38;5;132;01m}\u001b[39;00m\u001b[38;5;124m and expected \u001b[39m\u001b[38;5;132;01m{\u001b[39;00mnum_labels\u001b[38;5;132;01m}\u001b[39;00m\u001b[38;5;124m\"\u001b[39m\n\u001b[0;32m    624\u001b[0m     )\n\u001b[0;32m    626\u001b[0m \u001b[38;5;66;03m# Check that target only contains [0,1] values or value in ignore_index\u001b[39;00m\n\u001b[0;32m    627\u001b[0m unique_values \u001b[38;5;241m=\u001b[39m torch\u001b[38;5;241m.\u001b[39munique(target)\n",
      "\u001b[1;31mValueError\u001b[0m: Expected both `target.shape[1]` and `preds.shape[1]` to be equal to the number of labels but got 6 and expected 26"
     ]
    }
   ],
   "source": [
    "macc(foo, y), mapp(foo, y), marr(foo, y), maff(foo, y)"
   ]
  },
  {
   "cell_type": "code",
   "execution_count": null,
   "id": "c5a64a87-8d44-44e1-8c02-baa4023fd986",
   "metadata": {
    "scrolled": true
   },
   "outputs": [],
   "source": [
    "((foo.sigmoid() > 0.5) == y).sum()/16/26"
   ]
  },
  {
   "cell_type": "code",
   "execution_count": null,
   "id": "1ab97af0-ba85-439c-9843-d68dce0a089c",
   "metadata": {},
   "outputs": [],
   "source": [
    "((foo.sigmoid() > 0.5) != y).sum()"
   ]
  },
  {
   "cell_type": "code",
   "execution_count": null,
   "id": "6c2efe46-e544-48aa-a4c9-218b150d7afc",
   "metadata": {},
   "outputs": [],
   "source": [
    "(1037.3 - 1026)/1026 * 100"
   ]
  },
  {
   "cell_type": "code",
   "execution_count": null,
   "id": "2e14670e-9069-4d1e-8b38-b7dfc39c298e",
   "metadata": {},
   "outputs": [],
   "source": [
    "torch.argwhere(y > 0).T"
   ]
  },
  {
   "cell_type": "code",
   "execution_count": null,
   "id": "8f0863ed-73e3-44d4-b4ab-82c4864f3c31",
   "metadata": {},
   "outputs": [],
   "source": [
    "bar = foo.sigmoid().numpy()\n",
    "np.argwhere(bar > 0.5).T"
   ]
  },
  {
   "cell_type": "code",
   "execution_count": null,
   "id": "26221d15-942b-4590-a572-43e6157824fe",
   "metadata": {},
   "outputs": [],
   "source": [
    "bar[12]"
   ]
  },
  {
   "cell_type": "markdown",
   "id": "1b0521ef-0cc2-4c2d-a22d-9e63bd7e1cba",
   "metadata": {},
   "source": [
    "# "
   ]
  },
  {
   "cell_type": "code",
   "execution_count": null,
   "id": "f987478d-c147-4447-8c09-895bead15e6b",
   "metadata": {},
   "outputs": [],
   "source": [
    "torch.nn.functional.sigmoid(foo[0])"
   ]
  },
  {
   "cell_type": "code",
   "execution_count": null,
   "id": "a4d25529-b3d7-4f3c-aa5b-70743e67d356",
   "metadata": {},
   "outputs": [],
   "source": [
    "# foo.sigmoid().topk(1, dim=-1)"
   ]
  },
  {
   "cell_type": "code",
   "execution_count": null,
   "id": "3d96fcc3-c853-4abd-a926-9e211598749c",
   "metadata": {},
   "outputs": [],
   "source": []
  }
 ],
 "metadata": {
  "kernelspec": {
   "display_name": "Python 3 (ipykernel)",
   "language": "python",
   "name": "python3"
  },
  "language_info": {
   "codemirror_mode": {
    "name": "ipython",
    "version": 3
   },
   "file_extension": ".py",
   "mimetype": "text/x-python",
   "name": "python",
   "nbconvert_exporter": "python",
   "pygments_lexer": "ipython3",
   "version": "3.10.14"
  }
 },
 "nbformat": 4,
 "nbformat_minor": 5
}
