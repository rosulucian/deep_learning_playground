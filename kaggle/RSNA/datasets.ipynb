{
 "cells": [
  {
   "cell_type": "code",
   "execution_count": 1,
   "id": "6b2a815c-2a6f-4ebf-92bf-8333b5b9144a",
   "metadata": {},
   "outputs": [],
   "source": [
    "%load_ext autoreload\n",
    "%autoreload 2"
   ]
  },
  {
   "cell_type": "code",
   "execution_count": 2,
   "id": "c73e4b1e-69d1-49af-85e3-591418aac8d8",
   "metadata": {},
   "outputs": [],
   "source": [
    "import numpy as np \n",
    "import pandas as pd\n",
    "\n",
    "from pathlib import Path"
   ]
  },
  {
   "cell_type": "code",
   "execution_count": 3,
   "id": "fd643bac-8d82-4a92-97d9-5d5586ee2cfb",
   "metadata": {},
   "outputs": [],
   "source": [
    "train_dir = Path('E:\\data\\RSNA2024')"
   ]
  },
  {
   "cell_type": "code",
   "execution_count": 4,
   "id": "db816614-20d7-4064-a271-1b98f9e32686",
   "metadata": {},
   "outputs": [],
   "source": [
    "class CFG:\n",
    "    random_seed = 42\n",
    "\n",
    "    image_size = 256\n",
    "    \n",
    "    ROOT_FOLDER = train_dir / 'original'\n",
    "    DEST_FOLDER = train_dir\n",
    "    PNG_DIR = DEST_FOLDER / f'pngs_{image_size}'\n",
    "    IMAGES_DIR = ROOT_FOLDER / 'train_images'\n",
    "    TRAIN_CSV = ROOT_FOLDER / 'train.csv'\n",
    "    FILES_CSV = ROOT_FOLDER / 'train_files.csv'\n",
    "    TRAIN_DESC_CSV = ROOT_FOLDER / 'train_series_descriptions.csv'\n",
    "    COORDS_CSV = ROOT_FOLDER / 'train_label_coordinates.csv'"
   ]
  },
  {
   "cell_type": "markdown",
   "id": "c267b198-b8b4-4386-a9bf-2319c9f0f315",
   "metadata": {},
   "source": [
    "### Train_df"
   ]
  },
  {
   "cell_type": "code",
   "execution_count": 5,
   "id": "26087c78-6355-42fa-86ac-a2189756023a",
   "metadata": {},
   "outputs": [
    {
     "data": {
      "text/plain": [
       "((1975, 26), (6294, 3))"
      ]
     },
     "execution_count": 5,
     "metadata": {},
     "output_type": "execute_result"
    }
   ],
   "source": [
    "train_df = pd.read_csv(CFG.TRAIN_CSV)\n",
    "train_desc_df = pd.read_csv(CFG.TRAIN_DESC_CSV)\n",
    "\n",
    "train_df.shape, train_desc_df.shape"
   ]
  },
  {
   "cell_type": "code",
   "execution_count": 6,
   "id": "b443601f-1ace-4924-ac69-5c4f42fcc522",
   "metadata": {},
   "outputs": [],
   "source": [
    "train_desc_df['ss_id'] = train_desc_df.apply(lambda row: f'{str(row[\"study_id\"])}_{str(row[\"series_id\"])}', axis=1)"
   ]
  },
  {
   "cell_type": "code",
   "execution_count": 7,
   "id": "fd06eb0e-7155-49f7-9f3f-6b22724aa457",
   "metadata": {},
   "outputs": [
    {
     "data": {
      "text/html": [
       "<div>\n",
       "<style scoped>\n",
       "    .dataframe tbody tr th:only-of-type {\n",
       "        vertical-align: middle;\n",
       "    }\n",
       "\n",
       "    .dataframe tbody tr th {\n",
       "        vertical-align: top;\n",
       "    }\n",
       "\n",
       "    .dataframe thead th {\n",
       "        text-align: right;\n",
       "    }\n",
       "</style>\n",
       "<table border=\"1\" class=\"dataframe\">\n",
       "  <thead>\n",
       "    <tr style=\"text-align: right;\">\n",
       "      <th></th>\n",
       "      <th>study_id</th>\n",
       "      <th>spinal_canal_stenosis_l1_l2</th>\n",
       "      <th>spinal_canal_stenosis_l2_l3</th>\n",
       "      <th>spinal_canal_stenosis_l3_l4</th>\n",
       "      <th>spinal_canal_stenosis_l4_l5</th>\n",
       "      <th>spinal_canal_stenosis_l5_s1</th>\n",
       "      <th>left_neural_foraminal_narrowing_l1_l2</th>\n",
       "      <th>left_neural_foraminal_narrowing_l2_l3</th>\n",
       "      <th>left_neural_foraminal_narrowing_l3_l4</th>\n",
       "      <th>left_neural_foraminal_narrowing_l4_l5</th>\n",
       "      <th>...</th>\n",
       "      <th>left_subarticular_stenosis_l1_l2</th>\n",
       "      <th>left_subarticular_stenosis_l2_l3</th>\n",
       "      <th>left_subarticular_stenosis_l3_l4</th>\n",
       "      <th>left_subarticular_stenosis_l4_l5</th>\n",
       "      <th>left_subarticular_stenosis_l5_s1</th>\n",
       "      <th>right_subarticular_stenosis_l1_l2</th>\n",
       "      <th>right_subarticular_stenosis_l2_l3</th>\n",
       "      <th>right_subarticular_stenosis_l3_l4</th>\n",
       "      <th>right_subarticular_stenosis_l4_l5</th>\n",
       "      <th>right_subarticular_stenosis_l5_s1</th>\n",
       "    </tr>\n",
       "  </thead>\n",
       "  <tbody>\n",
       "    <tr>\n",
       "      <th>0</th>\n",
       "      <td>4003253</td>\n",
       "      <td>Normal/Mild</td>\n",
       "      <td>Normal/Mild</td>\n",
       "      <td>Normal/Mild</td>\n",
       "      <td>Normal/Mild</td>\n",
       "      <td>Normal/Mild</td>\n",
       "      <td>Normal/Mild</td>\n",
       "      <td>Normal/Mild</td>\n",
       "      <td>Normal/Mild</td>\n",
       "      <td>Moderate</td>\n",
       "      <td>...</td>\n",
       "      <td>Normal/Mild</td>\n",
       "      <td>Normal/Mild</td>\n",
       "      <td>Normal/Mild</td>\n",
       "      <td>Moderate</td>\n",
       "      <td>Normal/Mild</td>\n",
       "      <td>Normal/Mild</td>\n",
       "      <td>Normal/Mild</td>\n",
       "      <td>Normal/Mild</td>\n",
       "      <td>Normal/Mild</td>\n",
       "      <td>Normal/Mild</td>\n",
       "    </tr>\n",
       "    <tr>\n",
       "      <th>1</th>\n",
       "      <td>4646740</td>\n",
       "      <td>Normal/Mild</td>\n",
       "      <td>Normal/Mild</td>\n",
       "      <td>Moderate</td>\n",
       "      <td>Severe</td>\n",
       "      <td>Normal/Mild</td>\n",
       "      <td>Normal/Mild</td>\n",
       "      <td>Normal/Mild</td>\n",
       "      <td>Normal/Mild</td>\n",
       "      <td>Moderate</td>\n",
       "      <td>...</td>\n",
       "      <td>Normal/Mild</td>\n",
       "      <td>Normal/Mild</td>\n",
       "      <td>Normal/Mild</td>\n",
       "      <td>Severe</td>\n",
       "      <td>Normal/Mild</td>\n",
       "      <td>Normal/Mild</td>\n",
       "      <td>Moderate</td>\n",
       "      <td>Moderate</td>\n",
       "      <td>Moderate</td>\n",
       "      <td>Normal/Mild</td>\n",
       "    </tr>\n",
       "    <tr>\n",
       "      <th>2</th>\n",
       "      <td>7143189</td>\n",
       "      <td>Normal/Mild</td>\n",
       "      <td>Normal/Mild</td>\n",
       "      <td>Normal/Mild</td>\n",
       "      <td>Normal/Mild</td>\n",
       "      <td>Normal/Mild</td>\n",
       "      <td>Normal/Mild</td>\n",
       "      <td>Normal/Mild</td>\n",
       "      <td>Normal/Mild</td>\n",
       "      <td>Normal/Mild</td>\n",
       "      <td>...</td>\n",
       "      <td>Normal/Mild</td>\n",
       "      <td>Normal/Mild</td>\n",
       "      <td>Normal/Mild</td>\n",
       "      <td>Normal/Mild</td>\n",
       "      <td>Normal/Mild</td>\n",
       "      <td>Normal/Mild</td>\n",
       "      <td>Normal/Mild</td>\n",
       "      <td>Normal/Mild</td>\n",
       "      <td>Normal/Mild</td>\n",
       "      <td>Normal/Mild</td>\n",
       "    </tr>\n",
       "    <tr>\n",
       "      <th>3</th>\n",
       "      <td>8785691</td>\n",
       "      <td>Normal/Mild</td>\n",
       "      <td>Normal/Mild</td>\n",
       "      <td>Normal/Mild</td>\n",
       "      <td>Normal/Mild</td>\n",
       "      <td>Normal/Mild</td>\n",
       "      <td>Normal/Mild</td>\n",
       "      <td>Normal/Mild</td>\n",
       "      <td>Normal/Mild</td>\n",
       "      <td>Moderate</td>\n",
       "      <td>...</td>\n",
       "      <td>Normal/Mild</td>\n",
       "      <td>Normal/Mild</td>\n",
       "      <td>Normal/Mild</td>\n",
       "      <td>Normal/Mild</td>\n",
       "      <td>Normal/Mild</td>\n",
       "      <td>Normal/Mild</td>\n",
       "      <td>Normal/Mild</td>\n",
       "      <td>Normal/Mild</td>\n",
       "      <td>Normal/Mild</td>\n",
       "      <td>Normal/Mild</td>\n",
       "    </tr>\n",
       "    <tr>\n",
       "      <th>4</th>\n",
       "      <td>10728036</td>\n",
       "      <td>Normal/Mild</td>\n",
       "      <td>Normal/Mild</td>\n",
       "      <td>Normal/Mild</td>\n",
       "      <td>Normal/Mild</td>\n",
       "      <td>Normal/Mild</td>\n",
       "      <td>Normal/Mild</td>\n",
       "      <td>Normal/Mild</td>\n",
       "      <td>Normal/Mild</td>\n",
       "      <td>Normal/Mild</td>\n",
       "      <td>...</td>\n",
       "      <td>Normal/Mild</td>\n",
       "      <td>Normal/Mild</td>\n",
       "      <td>Normal/Mild</td>\n",
       "      <td>Normal/Mild</td>\n",
       "      <td>Normal/Mild</td>\n",
       "      <td>Normal/Mild</td>\n",
       "      <td>Normal/Mild</td>\n",
       "      <td>Normal/Mild</td>\n",
       "      <td>Moderate</td>\n",
       "      <td>Normal/Mild</td>\n",
       "    </tr>\n",
       "  </tbody>\n",
       "</table>\n",
       "<p>5 rows × 26 columns</p>\n",
       "</div>"
      ],
      "text/plain": [
       "   study_id spinal_canal_stenosis_l1_l2 spinal_canal_stenosis_l2_l3  \\\n",
       "0   4003253                 Normal/Mild                 Normal/Mild   \n",
       "1   4646740                 Normal/Mild                 Normal/Mild   \n",
       "2   7143189                 Normal/Mild                 Normal/Mild   \n",
       "3   8785691                 Normal/Mild                 Normal/Mild   \n",
       "4  10728036                 Normal/Mild                 Normal/Mild   \n",
       "\n",
       "  spinal_canal_stenosis_l3_l4 spinal_canal_stenosis_l4_l5  \\\n",
       "0                 Normal/Mild                 Normal/Mild   \n",
       "1                    Moderate                      Severe   \n",
       "2                 Normal/Mild                 Normal/Mild   \n",
       "3                 Normal/Mild                 Normal/Mild   \n",
       "4                 Normal/Mild                 Normal/Mild   \n",
       "\n",
       "  spinal_canal_stenosis_l5_s1 left_neural_foraminal_narrowing_l1_l2  \\\n",
       "0                 Normal/Mild                           Normal/Mild   \n",
       "1                 Normal/Mild                           Normal/Mild   \n",
       "2                 Normal/Mild                           Normal/Mild   \n",
       "3                 Normal/Mild                           Normal/Mild   \n",
       "4                 Normal/Mild                           Normal/Mild   \n",
       "\n",
       "  left_neural_foraminal_narrowing_l2_l3 left_neural_foraminal_narrowing_l3_l4  \\\n",
       "0                           Normal/Mild                           Normal/Mild   \n",
       "1                           Normal/Mild                           Normal/Mild   \n",
       "2                           Normal/Mild                           Normal/Mild   \n",
       "3                           Normal/Mild                           Normal/Mild   \n",
       "4                           Normal/Mild                           Normal/Mild   \n",
       "\n",
       "  left_neural_foraminal_narrowing_l4_l5  ... left_subarticular_stenosis_l1_l2  \\\n",
       "0                              Moderate  ...                      Normal/Mild   \n",
       "1                              Moderate  ...                      Normal/Mild   \n",
       "2                           Normal/Mild  ...                      Normal/Mild   \n",
       "3                              Moderate  ...                      Normal/Mild   \n",
       "4                           Normal/Mild  ...                      Normal/Mild   \n",
       "\n",
       "  left_subarticular_stenosis_l2_l3 left_subarticular_stenosis_l3_l4  \\\n",
       "0                      Normal/Mild                      Normal/Mild   \n",
       "1                      Normal/Mild                      Normal/Mild   \n",
       "2                      Normal/Mild                      Normal/Mild   \n",
       "3                      Normal/Mild                      Normal/Mild   \n",
       "4                      Normal/Mild                      Normal/Mild   \n",
       "\n",
       "  left_subarticular_stenosis_l4_l5 left_subarticular_stenosis_l5_s1  \\\n",
       "0                         Moderate                      Normal/Mild   \n",
       "1                           Severe                      Normal/Mild   \n",
       "2                      Normal/Mild                      Normal/Mild   \n",
       "3                      Normal/Mild                      Normal/Mild   \n",
       "4                      Normal/Mild                      Normal/Mild   \n",
       "\n",
       "  right_subarticular_stenosis_l1_l2 right_subarticular_stenosis_l2_l3  \\\n",
       "0                       Normal/Mild                       Normal/Mild   \n",
       "1                       Normal/Mild                          Moderate   \n",
       "2                       Normal/Mild                       Normal/Mild   \n",
       "3                       Normal/Mild                       Normal/Mild   \n",
       "4                       Normal/Mild                       Normal/Mild   \n",
       "\n",
       "  right_subarticular_stenosis_l3_l4 right_subarticular_stenosis_l4_l5  \\\n",
       "0                       Normal/Mild                       Normal/Mild   \n",
       "1                          Moderate                          Moderate   \n",
       "2                       Normal/Mild                       Normal/Mild   \n",
       "3                       Normal/Mild                       Normal/Mild   \n",
       "4                       Normal/Mild                          Moderate   \n",
       "\n",
       "  right_subarticular_stenosis_l5_s1  \n",
       "0                       Normal/Mild  \n",
       "1                       Normal/Mild  \n",
       "2                       Normal/Mild  \n",
       "3                       Normal/Mild  \n",
       "4                       Normal/Mild  \n",
       "\n",
       "[5 rows x 26 columns]"
      ]
     },
     "execution_count": 7,
     "metadata": {},
     "output_type": "execute_result"
    }
   ],
   "source": [
    "train_df.head()"
   ]
  },
  {
   "cell_type": "code",
   "execution_count": 11,
   "id": "9bf25e1b-864f-4fbc-854b-b30781f059cf",
   "metadata": {},
   "outputs": [
    {
     "data": {
      "text/plain": [
       "572"
      ]
     },
     "execution_count": 11,
     "metadata": {},
     "output_type": "execute_result"
    }
   ],
   "source": [
    "train_df.isna().sum(axis=1).sum()"
   ]
  },
  {
   "cell_type": "code",
   "execution_count": 8,
   "id": "36b5f0f5-1790-423f-b7ca-6a335e355585",
   "metadata": {},
   "outputs": [
    {
     "data": {
      "text/plain": [
       "['study_id', 'SCSL1L2', 'SCSL2L3', 'SCSL3L4', 'SCSL4L5']"
      ]
     },
     "execution_count": 8,
     "metadata": {},
     "output_type": "execute_result"
    }
   ],
   "source": [
    "cols = train_df.columns[1:]\n",
    "# first = [c.split('_')[:-2] for c in cols]\n",
    "# last = [c.split('_')[-2:] for c in cols]\n",
    "\n",
    "cols = [c.split('_') for c in cols]\n",
    "cols = [''.join([i[0] if len(i) > 2 else i for i in c]).upper() for c in cols]\n",
    "\n",
    "cols = ['study_id'] + cols\n",
    "\n",
    "cols[:5]"
   ]
  },
  {
   "cell_type": "code",
   "execution_count": 9,
   "id": "a89b5ef9-8c90-4a87-9dbc-66f8eca9c1f6",
   "metadata": {},
   "outputs": [
    {
     "data": {
      "text/plain": [
       "{'study_id': 'study_id',\n",
       " 'spinal_canal_stenosis_l1_l2': 'SCSL1L2',\n",
       " 'spinal_canal_stenosis_l2_l3': 'SCSL2L3',\n",
       " 'spinal_canal_stenosis_l3_l4': 'SCSL3L4',\n",
       " 'spinal_canal_stenosis_l4_l5': 'SCSL4L5',\n",
       " 'spinal_canal_stenosis_l5_s1': 'SCSL5S1',\n",
       " 'left_neural_foraminal_narrowing_l1_l2': 'LNFNL1L2',\n",
       " 'left_neural_foraminal_narrowing_l2_l3': 'LNFNL2L3',\n",
       " 'left_neural_foraminal_narrowing_l3_l4': 'LNFNL3L4',\n",
       " 'left_neural_foraminal_narrowing_l4_l5': 'LNFNL4L5',\n",
       " 'left_neural_foraminal_narrowing_l5_s1': 'LNFNL5S1',\n",
       " 'right_neural_foraminal_narrowing_l1_l2': 'RNFNL1L2',\n",
       " 'right_neural_foraminal_narrowing_l2_l3': 'RNFNL2L3',\n",
       " 'right_neural_foraminal_narrowing_l3_l4': 'RNFNL3L4',\n",
       " 'right_neural_foraminal_narrowing_l4_l5': 'RNFNL4L5',\n",
       " 'right_neural_foraminal_narrowing_l5_s1': 'RNFNL5S1',\n",
       " 'left_subarticular_stenosis_l1_l2': 'LSSL1L2',\n",
       " 'left_subarticular_stenosis_l2_l3': 'LSSL2L3',\n",
       " 'left_subarticular_stenosis_l3_l4': 'LSSL3L4',\n",
       " 'left_subarticular_stenosis_l4_l5': 'LSSL4L5',\n",
       " 'left_subarticular_stenosis_l5_s1': 'LSSL5S1',\n",
       " 'right_subarticular_stenosis_l1_l2': 'RSSL1L2',\n",
       " 'right_subarticular_stenosis_l2_l3': 'RSSL2L3',\n",
       " 'right_subarticular_stenosis_l3_l4': 'RSSL3L4',\n",
       " 'right_subarticular_stenosis_l4_l5': 'RSSL4L5',\n",
       " 'right_subarticular_stenosis_l5_s1': 'RSSL5S1'}"
      ]
     },
     "execution_count": 9,
     "metadata": {},
     "output_type": "execute_result"
    }
   ],
   "source": [
    "dict(zip(train_df.columns, cols))"
   ]
  },
  {
   "cell_type": "code",
   "execution_count": 10,
   "id": "9ccdad27-1d50-494f-851f-9ab2e24a9261",
   "metadata": {},
   "outputs": [
    {
     "data": {
      "text/plain": [
       "(1975, 26)"
      ]
     },
     "execution_count": 10,
     "metadata": {},
     "output_type": "execute_result"
    }
   ],
   "source": [
    "train_df.rename(columns=dict(zip(train_df.columns, cols)), inplace=True)\n",
    "train_df.shape"
   ]
  },
  {
   "cell_type": "code",
   "execution_count": 11,
   "id": "3e3f14e0-abf1-4023-913b-f600f94d61ee",
   "metadata": {},
   "outputs": [
    {
     "data": {
      "text/plain": [
       "study_id        4003253\n",
       "SCSL1L2     Normal/Mild\n",
       "SCSL2L3     Normal/Mild\n",
       "SCSL3L4     Normal/Mild\n",
       "SCSL4L5     Normal/Mild\n",
       "SCSL5S1     Normal/Mild\n",
       "LNFNL1L2    Normal/Mild\n",
       "LNFNL2L3    Normal/Mild\n",
       "LNFNL3L4    Normal/Mild\n",
       "LNFNL4L5       Moderate\n",
       "LNFNL5S1    Normal/Mild\n",
       "RNFNL1L2    Normal/Mild\n",
       "RNFNL2L3    Normal/Mild\n",
       "RNFNL3L4       Moderate\n",
       "RNFNL4L5       Moderate\n",
       "RNFNL5S1    Normal/Mild\n",
       "LSSL1L2     Normal/Mild\n",
       "LSSL2L3     Normal/Mild\n",
       "LSSL3L4     Normal/Mild\n",
       "LSSL4L5        Moderate\n",
       "LSSL5S1     Normal/Mild\n",
       "RSSL1L2     Normal/Mild\n",
       "RSSL2L3     Normal/Mild\n",
       "RSSL3L4     Normal/Mild\n",
       "RSSL4L5     Normal/Mild\n",
       "RSSL5S1     Normal/Mild\n",
       "Name: 0, dtype: object"
      ]
     },
     "execution_count": 11,
     "metadata": {},
     "output_type": "execute_result"
    }
   ],
   "source": [
    "train_df.iloc[0]"
   ]
  },
  {
   "cell_type": "code",
   "execution_count": 12,
   "id": "693453d8-d032-4721-814a-9790e163f700",
   "metadata": {},
   "outputs": [
    {
     "data": {
      "text/plain": [
       "1975"
      ]
     },
     "execution_count": 12,
     "metadata": {},
     "output_type": "execute_result"
    }
   ],
   "source": [
    "train_df.study_id.nunique()"
   ]
  },
  {
   "cell_type": "code",
   "execution_count": 13,
   "id": "b09da4ba-538c-4325-b18b-4a51fc4bd22b",
   "metadata": {},
   "outputs": [
    {
     "data": {
      "text/plain": [
       "{'Normal/Mild': 'N', 'Moderate': 'M', 'Severe': 'S'}"
      ]
     },
     "execution_count": 13,
     "metadata": {},
     "output_type": "execute_result"
    }
   ],
   "source": [
    "vals = {'Normal/Mild': 'N', 'Moderate': 'M', 'Severe': 'S'}\n",
    "vals"
   ]
  },
  {
   "cell_type": "code",
   "execution_count": 14,
   "id": "16bb69ef-e301-4bb5-8a2c-b5ac278c208f",
   "metadata": {},
   "outputs": [],
   "source": [
    "train_df[cols[1:]] = train_df[cols[1:]].replace(vals)"
   ]
  },
  {
   "cell_type": "code",
   "execution_count": 15,
   "id": "e8dff196-c660-4d2c-8d18-f9a5f459435d",
   "metadata": {},
   "outputs": [
    {
     "data": {
      "text/html": [
       "<div>\n",
       "<style scoped>\n",
       "    .dataframe tbody tr th:only-of-type {\n",
       "        vertical-align: middle;\n",
       "    }\n",
       "\n",
       "    .dataframe tbody tr th {\n",
       "        vertical-align: top;\n",
       "    }\n",
       "\n",
       "    .dataframe thead th {\n",
       "        text-align: right;\n",
       "    }\n",
       "</style>\n",
       "<table border=\"1\" class=\"dataframe\">\n",
       "  <thead>\n",
       "    <tr style=\"text-align: right;\">\n",
       "      <th></th>\n",
       "      <th>study_id</th>\n",
       "      <th>SCSL1L2</th>\n",
       "      <th>SCSL2L3</th>\n",
       "      <th>SCSL3L4</th>\n",
       "      <th>SCSL4L5</th>\n",
       "      <th>SCSL5S1</th>\n",
       "      <th>LNFNL1L2</th>\n",
       "      <th>LNFNL2L3</th>\n",
       "      <th>LNFNL3L4</th>\n",
       "      <th>LNFNL4L5</th>\n",
       "      <th>...</th>\n",
       "      <th>LSSL1L2</th>\n",
       "      <th>LSSL2L3</th>\n",
       "      <th>LSSL3L4</th>\n",
       "      <th>LSSL4L5</th>\n",
       "      <th>LSSL5S1</th>\n",
       "      <th>RSSL1L2</th>\n",
       "      <th>RSSL2L3</th>\n",
       "      <th>RSSL3L4</th>\n",
       "      <th>RSSL4L5</th>\n",
       "      <th>RSSL5S1</th>\n",
       "    </tr>\n",
       "  </thead>\n",
       "  <tbody>\n",
       "    <tr>\n",
       "      <th>764</th>\n",
       "      <td>1690291272</td>\n",
       "      <td>N</td>\n",
       "      <td>N</td>\n",
       "      <td>N</td>\n",
       "      <td>N</td>\n",
       "      <td>N</td>\n",
       "      <td>N</td>\n",
       "      <td>M</td>\n",
       "      <td>M</td>\n",
       "      <td>M</td>\n",
       "      <td>...</td>\n",
       "      <td>N</td>\n",
       "      <td>N</td>\n",
       "      <td>N</td>\n",
       "      <td>N</td>\n",
       "      <td>N</td>\n",
       "      <td>N</td>\n",
       "      <td>N</td>\n",
       "      <td>N</td>\n",
       "      <td>N</td>\n",
       "      <td>N</td>\n",
       "    </tr>\n",
       "    <tr>\n",
       "      <th>825</th>\n",
       "      <td>1827151112</td>\n",
       "      <td>N</td>\n",
       "      <td>N</td>\n",
       "      <td>N</td>\n",
       "      <td>N</td>\n",
       "      <td>N</td>\n",
       "      <td>N</td>\n",
       "      <td>N</td>\n",
       "      <td>M</td>\n",
       "      <td>M</td>\n",
       "      <td>...</td>\n",
       "      <td>N</td>\n",
       "      <td>N</td>\n",
       "      <td>N</td>\n",
       "      <td>N</td>\n",
       "      <td>N</td>\n",
       "      <td>N</td>\n",
       "      <td>N</td>\n",
       "      <td>N</td>\n",
       "      <td>N</td>\n",
       "      <td>N</td>\n",
       "    </tr>\n",
       "  </tbody>\n",
       "</table>\n",
       "<p>2 rows × 26 columns</p>\n",
       "</div>"
      ],
      "text/plain": [
       "       study_id SCSL1L2 SCSL2L3 SCSL3L4 SCSL4L5 SCSL5S1 LNFNL1L2 LNFNL2L3  \\\n",
       "764  1690291272       N       N       N       N       N        N        M   \n",
       "825  1827151112       N       N       N       N       N        N        N   \n",
       "\n",
       "    LNFNL3L4 LNFNL4L5  ... LSSL1L2 LSSL2L3 LSSL3L4 LSSL4L5 LSSL5S1 RSSL1L2  \\\n",
       "764        M        M  ...       N       N       N       N       N       N   \n",
       "825        M        M  ...       N       N       N       N       N       N   \n",
       "\n",
       "    RSSL2L3 RSSL3L4 RSSL4L5 RSSL5S1  \n",
       "764       N       N       N       N  \n",
       "825       N       N       N       N  \n",
       "\n",
       "[2 rows x 26 columns]"
      ]
     },
     "execution_count": 15,
     "metadata": {},
     "output_type": "execute_result"
    }
   ],
   "source": [
    "train_df.sample(2)"
   ]
  },
  {
   "cell_type": "markdown",
   "id": "3b7a96f1-631b-4cab-a0f3-e86a1e791c95",
   "metadata": {},
   "source": [
    "### Coordinates_df"
   ]
  },
  {
   "cell_type": "code",
   "execution_count": 16,
   "id": "caf88225-2aea-4e23-b6ff-e91c0b8e842d",
   "metadata": {},
   "outputs": [
    {
     "data": {
      "text/plain": [
       "((48692, 7), (147218, 11))"
      ]
     },
     "execution_count": 16,
     "metadata": {},
     "output_type": "execute_result"
    }
   ],
   "source": [
    "coords_df = pd.read_csv(CFG.COORDS_CSV)\n",
    "files_df = pd.read_csv(CFG.FILES_CSV)\n",
    "\n",
    "coords_df.shape, files_df.shape"
   ]
  },
  {
   "cell_type": "code",
   "execution_count": 17,
   "id": "0a0be7b5-f17b-4adb-9870-227ac12215ef",
   "metadata": {},
   "outputs": [],
   "source": [
    "coords_df.rename(columns={'instance_number': 'instance'}, inplace=True)"
   ]
  },
  {
   "cell_type": "code",
   "execution_count": 18,
   "id": "65b8de8e-f0da-46cc-9316-ec134b67751a",
   "metadata": {},
   "outputs": [
    {
     "data": {
      "text/plain": [
       "(1974, 5, 5)"
      ]
     },
     "execution_count": 18,
     "metadata": {},
     "output_type": "execute_result"
    }
   ],
   "source": [
    "coords_df.study_id.nunique(), coords_df.condition.nunique(), coords_df.level.nunique()"
   ]
  },
  {
   "cell_type": "code",
   "execution_count": 19,
   "id": "8903243d-adb4-4c46-bf32-3482cc7a051e",
   "metadata": {},
   "outputs": [
    {
     "data": {
      "text/plain": [
       "(array(['Spinal Canal Stenosis', 'Right Neural Foraminal Narrowing',\n",
       "        'Left Neural Foraminal Narrowing', 'Left Subarticular Stenosis',\n",
       "        'Right Subarticular Stenosis'], dtype=object),\n",
       " array(['L1/L2', 'L2/L3', 'L3/L4', 'L4/L5', 'L5/S1'], dtype=object))"
      ]
     },
     "execution_count": 19,
     "metadata": {},
     "output_type": "execute_result"
    }
   ],
   "source": [
    "coords_df.condition.unique(), coords_df.level.unique()"
   ]
  },
  {
   "cell_type": "code",
   "execution_count": 20,
   "id": "6c7cf0d6-5c81-425f-9187-fd2068a6a57c",
   "metadata": {},
   "outputs": [
    {
     "data": {
      "text/plain": [
       "6291"
      ]
     },
     "execution_count": 20,
     "metadata": {},
     "output_type": "execute_result"
    }
   ],
   "source": [
    "coords_df.series_id.nunique()"
   ]
  },
  {
   "cell_type": "code",
   "execution_count": 21,
   "id": "2e83f2cd-45b7-4208-9fae-65ece413fa2a",
   "metadata": {},
   "outputs": [],
   "source": [
    "coords_df['ss_id'] = coords_df.apply(lambda row: f'{str(row[\"study_id\"])}_{str(row[\"series_id\"])}', axis=1)\n",
    "coords_df['instance_id'] = coords_df.apply(lambda row: f'{str(row[\"study_id\"])}_{str(row[\"series_id\"])}_{str(row[\"instance\"])}', axis=1)"
   ]
  },
  {
   "cell_type": "code",
   "execution_count": 22,
   "id": "72755af9-3bcd-42e3-983b-48b833a76cab",
   "metadata": {},
   "outputs": [
    {
     "data": {
      "text/html": [
       "<div>\n",
       "<style scoped>\n",
       "    .dataframe tbody tr th:only-of-type {\n",
       "        vertical-align: middle;\n",
       "    }\n",
       "\n",
       "    .dataframe tbody tr th {\n",
       "        vertical-align: top;\n",
       "    }\n",
       "\n",
       "    .dataframe thead th {\n",
       "        text-align: right;\n",
       "    }\n",
       "</style>\n",
       "<table border=\"1\" class=\"dataframe\">\n",
       "  <thead>\n",
       "    <tr style=\"text-align: right;\">\n",
       "      <th></th>\n",
       "      <th>study_id</th>\n",
       "      <th>series_id</th>\n",
       "      <th>series_description</th>\n",
       "      <th>ss_id</th>\n",
       "    </tr>\n",
       "  </thead>\n",
       "  <tbody>\n",
       "    <tr>\n",
       "      <th>4061</th>\n",
       "      <td>2780669808</td>\n",
       "      <td>1449964301</td>\n",
       "      <td>Axial T2</td>\n",
       "      <td>2780669808_1449964301</td>\n",
       "    </tr>\n",
       "  </tbody>\n",
       "</table>\n",
       "</div>"
      ],
      "text/plain": [
       "        study_id   series_id series_description                  ss_id\n",
       "4061  2780669808  1449964301           Axial T2  2780669808_1449964301"
      ]
     },
     "execution_count": 22,
     "metadata": {},
     "output_type": "execute_result"
    }
   ],
   "source": [
    "train_desc_df.sample()"
   ]
  },
  {
   "cell_type": "code",
   "execution_count": 23,
   "id": "593fbb6e-2485-4bd4-ae0f-c19a494085f2",
   "metadata": {},
   "outputs": [
    {
     "data": {
      "text/html": [
       "<div>\n",
       "<style scoped>\n",
       "    .dataframe tbody tr th:only-of-type {\n",
       "        vertical-align: middle;\n",
       "    }\n",
       "\n",
       "    .dataframe tbody tr th {\n",
       "        vertical-align: top;\n",
       "    }\n",
       "\n",
       "    .dataframe thead th {\n",
       "        text-align: right;\n",
       "    }\n",
       "</style>\n",
       "<table border=\"1\" class=\"dataframe\">\n",
       "  <thead>\n",
       "    <tr style=\"text-align: right;\">\n",
       "      <th></th>\n",
       "      <th>study_id</th>\n",
       "      <th>series_id</th>\n",
       "      <th>instance</th>\n",
       "      <th>condition</th>\n",
       "      <th>level</th>\n",
       "      <th>x</th>\n",
       "      <th>y</th>\n",
       "      <th>ss_id</th>\n",
       "      <th>instance_id</th>\n",
       "    </tr>\n",
       "  </thead>\n",
       "  <tbody>\n",
       "    <tr>\n",
       "      <th>16824</th>\n",
       "      <td>1505795551</td>\n",
       "      <td>2733545907</td>\n",
       "      <td>11</td>\n",
       "      <td>Left Neural Foraminal Narrowing</td>\n",
       "      <td>L3/L4</td>\n",
       "      <td>262.687023</td>\n",
       "      <td>192.366412</td>\n",
       "      <td>1505795551_2733545907</td>\n",
       "      <td>1505795551_2733545907_11</td>\n",
       "    </tr>\n",
       "    <tr>\n",
       "      <th>19444</th>\n",
       "      <td>1745732011</td>\n",
       "      <td>1893182379</td>\n",
       "      <td>5</td>\n",
       "      <td>Right Neural Foraminal Narrowing</td>\n",
       "      <td>L2/L3</td>\n",
       "      <td>471.899461</td>\n",
       "      <td>216.420108</td>\n",
       "      <td>1745732011_1893182379</td>\n",
       "      <td>1745732011_1893182379_5</td>\n",
       "    </tr>\n",
       "  </tbody>\n",
       "</table>\n",
       "</div>"
      ],
      "text/plain": [
       "         study_id   series_id  instance                         condition  \\\n",
       "16824  1505795551  2733545907        11   Left Neural Foraminal Narrowing   \n",
       "19444  1745732011  1893182379         5  Right Neural Foraminal Narrowing   \n",
       "\n",
       "       level           x           y                  ss_id  \\\n",
       "16824  L3/L4  262.687023  192.366412  1505795551_2733545907   \n",
       "19444  L2/L3  471.899461  216.420108  1745732011_1893182379   \n",
       "\n",
       "                    instance_id  \n",
       "16824  1505795551_2733545907_11  \n",
       "19444   1745732011_1893182379_5  "
      ]
     },
     "execution_count": 23,
     "metadata": {},
     "output_type": "execute_result"
    }
   ],
   "source": [
    "coords_df.sample(2)"
   ]
  },
  {
   "cell_type": "code",
   "execution_count": 24,
   "id": "3ce3f7f2-1551-4fc7-a4d4-081f4dcc1331",
   "metadata": {},
   "outputs": [],
   "source": [
    "# rename condition\n",
    "coords_df['condition'] = coords_df.apply(lambda row: ''.join([w[0] for w in row['condition'].split(' ')]), axis=1)"
   ]
  },
  {
   "cell_type": "code",
   "execution_count": 25,
   "id": "1a983c02-f7c1-4016-be0d-e6a561227f19",
   "metadata": {},
   "outputs": [],
   "source": [
    "# rename level\n",
    "coords_df['level'] = coords_df.level.apply(lambda l: ''.join(l.split('/')))"
   ]
  },
  {
   "cell_type": "code",
   "execution_count": 26,
   "id": "2506fe53-da37-4ada-943c-06c733e02388",
   "metadata": {},
   "outputs": [],
   "source": [
    "coords_df['cl'] = coords_df['condition'] + coords_df['level']"
   ]
  },
  {
   "cell_type": "code",
   "execution_count": 27,
   "id": "5a4ecfe8-4e6c-4044-a745-f19446a550ed",
   "metadata": {},
   "outputs": [
    {
     "data": {
      "text/plain": [
       "5"
      ]
     },
     "execution_count": 27,
     "metadata": {},
     "output_type": "execute_result"
    }
   ],
   "source": [
    "coords_df.condition.nunique()"
   ]
  },
  {
   "cell_type": "code",
   "execution_count": 28,
   "id": "a5bfc916-5e63-465e-aded-8a391a1d0e08",
   "metadata": {},
   "outputs": [
    {
     "data": {
      "text/html": [
       "<div>\n",
       "<style scoped>\n",
       "    .dataframe tbody tr th:only-of-type {\n",
       "        vertical-align: middle;\n",
       "    }\n",
       "\n",
       "    .dataframe tbody tr th {\n",
       "        vertical-align: top;\n",
       "    }\n",
       "\n",
       "    .dataframe thead th {\n",
       "        text-align: right;\n",
       "    }\n",
       "</style>\n",
       "<table border=\"1\" class=\"dataframe\">\n",
       "  <thead>\n",
       "    <tr style=\"text-align: right;\">\n",
       "      <th></th>\n",
       "      <th>study_id</th>\n",
       "      <th>series_id</th>\n",
       "      <th>instance</th>\n",
       "      <th>condition</th>\n",
       "      <th>level</th>\n",
       "      <th>x</th>\n",
       "      <th>y</th>\n",
       "      <th>ss_id</th>\n",
       "      <th>instance_id</th>\n",
       "      <th>cl</th>\n",
       "    </tr>\n",
       "  </thead>\n",
       "  <tbody>\n",
       "    <tr>\n",
       "      <th>0</th>\n",
       "      <td>4003253</td>\n",
       "      <td>702807833</td>\n",
       "      <td>8</td>\n",
       "      <td>SCS</td>\n",
       "      <td>L1L2</td>\n",
       "      <td>322.831858</td>\n",
       "      <td>227.964602</td>\n",
       "      <td>4003253_702807833</td>\n",
       "      <td>4003253_702807833_8</td>\n",
       "      <td>SCSL1L2</td>\n",
       "    </tr>\n",
       "    <tr>\n",
       "      <th>1</th>\n",
       "      <td>4003253</td>\n",
       "      <td>702807833</td>\n",
       "      <td>8</td>\n",
       "      <td>SCS</td>\n",
       "      <td>L2L3</td>\n",
       "      <td>320.571429</td>\n",
       "      <td>295.714286</td>\n",
       "      <td>4003253_702807833</td>\n",
       "      <td>4003253_702807833_8</td>\n",
       "      <td>SCSL2L3</td>\n",
       "    </tr>\n",
       "    <tr>\n",
       "      <th>2</th>\n",
       "      <td>4003253</td>\n",
       "      <td>702807833</td>\n",
       "      <td>8</td>\n",
       "      <td>SCS</td>\n",
       "      <td>L3L4</td>\n",
       "      <td>323.030303</td>\n",
       "      <td>371.818182</td>\n",
       "      <td>4003253_702807833</td>\n",
       "      <td>4003253_702807833_8</td>\n",
       "      <td>SCSL3L4</td>\n",
       "    </tr>\n",
       "    <tr>\n",
       "      <th>3</th>\n",
       "      <td>4003253</td>\n",
       "      <td>702807833</td>\n",
       "      <td>8</td>\n",
       "      <td>SCS</td>\n",
       "      <td>L4L5</td>\n",
       "      <td>335.292035</td>\n",
       "      <td>427.327434</td>\n",
       "      <td>4003253_702807833</td>\n",
       "      <td>4003253_702807833_8</td>\n",
       "      <td>SCSL4L5</td>\n",
       "    </tr>\n",
       "    <tr>\n",
       "      <th>4</th>\n",
       "      <td>4003253</td>\n",
       "      <td>702807833</td>\n",
       "      <td>8</td>\n",
       "      <td>SCS</td>\n",
       "      <td>L5S1</td>\n",
       "      <td>353.415929</td>\n",
       "      <td>483.964602</td>\n",
       "      <td>4003253_702807833</td>\n",
       "      <td>4003253_702807833_8</td>\n",
       "      <td>SCSL5S1</td>\n",
       "    </tr>\n",
       "    <tr>\n",
       "      <th>5</th>\n",
       "      <td>4003253</td>\n",
       "      <td>1054713880</td>\n",
       "      <td>4</td>\n",
       "      <td>RNFN</td>\n",
       "      <td>L4L5</td>\n",
       "      <td>187.961759</td>\n",
       "      <td>251.839388</td>\n",
       "      <td>4003253_1054713880</td>\n",
       "      <td>4003253_1054713880_4</td>\n",
       "      <td>RNFNL4L5</td>\n",
       "    </tr>\n",
       "    <tr>\n",
       "      <th>6</th>\n",
       "      <td>4003253</td>\n",
       "      <td>1054713880</td>\n",
       "      <td>4</td>\n",
       "      <td>RNFN</td>\n",
       "      <td>L5S1</td>\n",
       "      <td>198.240918</td>\n",
       "      <td>285.613767</td>\n",
       "      <td>4003253_1054713880</td>\n",
       "      <td>4003253_1054713880_4</td>\n",
       "      <td>RNFNL5S1</td>\n",
       "    </tr>\n",
       "    <tr>\n",
       "      <th>7</th>\n",
       "      <td>4003253</td>\n",
       "      <td>1054713880</td>\n",
       "      <td>5</td>\n",
       "      <td>RNFN</td>\n",
       "      <td>L3L4</td>\n",
       "      <td>187.227533</td>\n",
       "      <td>210.722753</td>\n",
       "      <td>4003253_1054713880</td>\n",
       "      <td>4003253_1054713880_5</td>\n",
       "      <td>RNFNL3L4</td>\n",
       "    </tr>\n",
       "    <tr>\n",
       "      <th>8</th>\n",
       "      <td>4003253</td>\n",
       "      <td>1054713880</td>\n",
       "      <td>6</td>\n",
       "      <td>RNFN</td>\n",
       "      <td>L1L2</td>\n",
       "      <td>194.569790</td>\n",
       "      <td>127.755258</td>\n",
       "      <td>4003253_1054713880</td>\n",
       "      <td>4003253_1054713880_6</td>\n",
       "      <td>RNFNL1L2</td>\n",
       "    </tr>\n",
       "    <tr>\n",
       "      <th>9</th>\n",
       "      <td>4003253</td>\n",
       "      <td>1054713880</td>\n",
       "      <td>6</td>\n",
       "      <td>RNFN</td>\n",
       "      <td>L2L3</td>\n",
       "      <td>191.632887</td>\n",
       "      <td>165.934990</td>\n",
       "      <td>4003253_1054713880</td>\n",
       "      <td>4003253_1054713880_6</td>\n",
       "      <td>RNFNL2L3</td>\n",
       "    </tr>\n",
       "  </tbody>\n",
       "</table>\n",
       "</div>"
      ],
      "text/plain": [
       "   study_id   series_id  instance condition level           x           y  \\\n",
       "0   4003253   702807833         8       SCS  L1L2  322.831858  227.964602   \n",
       "1   4003253   702807833         8       SCS  L2L3  320.571429  295.714286   \n",
       "2   4003253   702807833         8       SCS  L3L4  323.030303  371.818182   \n",
       "3   4003253   702807833         8       SCS  L4L5  335.292035  427.327434   \n",
       "4   4003253   702807833         8       SCS  L5S1  353.415929  483.964602   \n",
       "5   4003253  1054713880         4      RNFN  L4L5  187.961759  251.839388   \n",
       "6   4003253  1054713880         4      RNFN  L5S1  198.240918  285.613767   \n",
       "7   4003253  1054713880         5      RNFN  L3L4  187.227533  210.722753   \n",
       "8   4003253  1054713880         6      RNFN  L1L2  194.569790  127.755258   \n",
       "9   4003253  1054713880         6      RNFN  L2L3  191.632887  165.934990   \n",
       "\n",
       "                ss_id           instance_id        cl  \n",
       "0   4003253_702807833   4003253_702807833_8   SCSL1L2  \n",
       "1   4003253_702807833   4003253_702807833_8   SCSL2L3  \n",
       "2   4003253_702807833   4003253_702807833_8   SCSL3L4  \n",
       "3   4003253_702807833   4003253_702807833_8   SCSL4L5  \n",
       "4   4003253_702807833   4003253_702807833_8   SCSL5S1  \n",
       "5  4003253_1054713880  4003253_1054713880_4  RNFNL4L5  \n",
       "6  4003253_1054713880  4003253_1054713880_4  RNFNL5S1  \n",
       "7  4003253_1054713880  4003253_1054713880_5  RNFNL3L4  \n",
       "8  4003253_1054713880  4003253_1054713880_6  RNFNL1L2  \n",
       "9  4003253_1054713880  4003253_1054713880_6  RNFNL2L3  "
      ]
     },
     "execution_count": 28,
     "metadata": {},
     "output_type": "execute_result"
    }
   ],
   "source": [
    "coords_df.head(10)"
   ]
  },
  {
   "cell_type": "code",
   "execution_count": 29,
   "id": "b40a7c1e-53e8-4daf-97e2-171e42979169",
   "metadata": {},
   "outputs": [
    {
     "data": {
      "text/plain": [
       "array(['Sagittal T2/STIR', 'Sagittal T1', 'Axial T2'], dtype=object)"
      ]
     },
     "execution_count": 29,
     "metadata": {},
     "output_type": "execute_result"
    }
   ],
   "source": [
    "train_desc_df.series_description.unique()"
   ]
  },
  {
   "cell_type": "code",
   "execution_count": 30,
   "id": "cfd75ff1-cb2b-42bd-b738-cea730f9acc4",
   "metadata": {},
   "outputs": [
    {
     "data": {
      "text/plain": [
       "0"
      ]
     },
     "execution_count": 30,
     "metadata": {},
     "output_type": "execute_result"
    }
   ],
   "source": [
    "train_desc_df.series_description.isna().sum()"
   ]
  },
  {
   "cell_type": "code",
   "execution_count": 31,
   "id": "832025c9-eadb-4796-a9d5-8dd6834efdab",
   "metadata": {},
   "outputs": [
    {
     "data": {
      "text/plain": [
       "(48692, 10)"
      ]
     },
     "execution_count": 31,
     "metadata": {},
     "output_type": "execute_result"
    }
   ],
   "source": [
    "coords_df.shape"
   ]
  },
  {
   "cell_type": "code",
   "execution_count": 32,
   "id": "3856720b-abc1-4129-84f7-a344461d2cf2",
   "metadata": {},
   "outputs": [
    {
     "data": {
      "text/html": [
       "<div>\n",
       "<style scoped>\n",
       "    .dataframe tbody tr th:only-of-type {\n",
       "        vertical-align: middle;\n",
       "    }\n",
       "\n",
       "    .dataframe tbody tr th {\n",
       "        vertical-align: top;\n",
       "    }\n",
       "\n",
       "    .dataframe thead th {\n",
       "        text-align: right;\n",
       "    }\n",
       "</style>\n",
       "<table border=\"1\" class=\"dataframe\">\n",
       "  <thead>\n",
       "    <tr style=\"text-align: right;\">\n",
       "      <th></th>\n",
       "      <th>study_id</th>\n",
       "      <th>series_id</th>\n",
       "      <th>instance</th>\n",
       "      <th>condition</th>\n",
       "      <th>level</th>\n",
       "      <th>x</th>\n",
       "      <th>y</th>\n",
       "      <th>ss_id</th>\n",
       "      <th>instance_id</th>\n",
       "      <th>cl</th>\n",
       "      <th>series_description</th>\n",
       "    </tr>\n",
       "  </thead>\n",
       "  <tbody>\n",
       "    <tr>\n",
       "      <th>14244</th>\n",
       "      <td>1271819130</td>\n",
       "      <td>396937199</td>\n",
       "      <td>17</td>\n",
       "      <td>LSS</td>\n",
       "      <td>L2L3</td>\n",
       "      <td>356.814159</td>\n",
       "      <td>382.584071</td>\n",
       "      <td>1271819130_396937199</td>\n",
       "      <td>1271819130_396937199_17</td>\n",
       "      <td>LSSL2L3</td>\n",
       "      <td>Axial T2</td>\n",
       "    </tr>\n",
       "    <tr>\n",
       "      <th>10327</th>\n",
       "      <td>934012015</td>\n",
       "      <td>1947133002</td>\n",
       "      <td>6</td>\n",
       "      <td>RNFN</td>\n",
       "      <td>L1L2</td>\n",
       "      <td>182.789331</td>\n",
       "      <td>97.070524</td>\n",
       "      <td>934012015_1947133002</td>\n",
       "      <td>934012015_1947133002_6</td>\n",
       "      <td>RNFNL1L2</td>\n",
       "      <td>Sagittal T1</td>\n",
       "    </tr>\n",
       "  </tbody>\n",
       "</table>\n",
       "</div>"
      ],
      "text/plain": [
       "         study_id   series_id  instance condition level           x  \\\n",
       "14244  1271819130   396937199        17       LSS  L2L3  356.814159   \n",
       "10327   934012015  1947133002         6      RNFN  L1L2  182.789331   \n",
       "\n",
       "                y                 ss_id              instance_id        cl  \\\n",
       "14244  382.584071  1271819130_396937199  1271819130_396937199_17   LSSL2L3   \n",
       "10327   97.070524  934012015_1947133002   934012015_1947133002_6  RNFNL1L2   \n",
       "\n",
       "      series_description  \n",
       "14244           Axial T2  \n",
       "10327        Sagittal T1  "
      ]
     },
     "execution_count": 32,
     "metadata": {},
     "output_type": "execute_result"
    }
   ],
   "source": [
    "coords_df = pd.merge(coords_df, train_desc_df.loc[:, ['ss_id', 'series_description']],  how='inner', left_on=['ss_id'], right_on=['ss_id'])\n",
    "\n",
    "coords_df.sample(2)"
   ]
  },
  {
   "cell_type": "code",
   "execution_count": 33,
   "id": "c3f04299-13f5-4309-846e-e92aa0a8483c",
   "metadata": {},
   "outputs": [
    {
     "data": {
      "text/plain": [
       "(48692, 11)"
      ]
     },
     "execution_count": 33,
     "metadata": {},
     "output_type": "execute_result"
    }
   ],
   "source": [
    "coords_df.shape"
   ]
  },
  {
   "cell_type": "code",
   "execution_count": 34,
   "id": "be1643f7-621f-4983-860d-b3dc073e7621",
   "metadata": {},
   "outputs": [
    {
     "data": {
      "text/html": [
       "<div>\n",
       "<style scoped>\n",
       "    .dataframe tbody tr th:only-of-type {\n",
       "        vertical-align: middle;\n",
       "    }\n",
       "\n",
       "    .dataframe tbody tr th {\n",
       "        vertical-align: top;\n",
       "    }\n",
       "\n",
       "    .dataframe thead th {\n",
       "        text-align: right;\n",
       "    }\n",
       "</style>\n",
       "<table border=\"1\" class=\"dataframe\">\n",
       "  <thead>\n",
       "    <tr style=\"text-align: right;\">\n",
       "      <th></th>\n",
       "      <th>study_id</th>\n",
       "      <th>series_id</th>\n",
       "      <th>image</th>\n",
       "      <th>proj</th>\n",
       "      <th>instancenumber</th>\n",
       "      <th>rows</th>\n",
       "      <th>columns</th>\n",
       "      <th>slicethickness</th>\n",
       "      <th>spacingbetweenslices</th>\n",
       "      <th>patientposition</th>\n",
       "      <th>seriesdescription</th>\n",
       "    </tr>\n",
       "  </thead>\n",
       "  <tbody>\n",
       "    <tr>\n",
       "      <th>29246</th>\n",
       "      <td>1780646606</td>\n",
       "      <td>3098929855</td>\n",
       "      <td>23</td>\n",
       "      <td>128</td>\n",
       "      <td>23</td>\n",
       "      <td>512</td>\n",
       "      <td>512</td>\n",
       "      <td>4.0</td>\n",
       "      <td>5.0</td>\n",
       "      <td>FFS</td>\n",
       "      <td>T2</td>\n",
       "    </tr>\n",
       "  </tbody>\n",
       "</table>\n",
       "</div>"
      ],
      "text/plain": [
       "         study_id   series_id  image  proj  instancenumber  rows  columns  \\\n",
       "29246  1780646606  3098929855     23   128              23   512      512   \n",
       "\n",
       "       slicethickness  spacingbetweenslices patientposition seriesdescription  \n",
       "29246             4.0                   5.0             FFS                T2  "
      ]
     },
     "execution_count": 34,
     "metadata": {},
     "output_type": "execute_result"
    }
   ],
   "source": [
    "files_df.sample()"
   ]
  },
  {
   "cell_type": "code",
   "execution_count": 35,
   "id": "18ca9c41-4083-42a2-9c38-f039ca29c25f",
   "metadata": {
    "scrolled": true
   },
   "outputs": [],
   "source": [
    "# coords_df['plane'] = coords_df.apply(lambda row: train_desc_df[train_desc_df['ss_id'] == row['ss_id']].series_description.values[0], axis=1)"
   ]
  },
  {
   "cell_type": "code",
   "execution_count": 36,
   "id": "3b828606-6bf3-4981-8980-2b52d505418b",
   "metadata": {},
   "outputs": [],
   "source": [
    "# coords_df.sample(5)"
   ]
  },
  {
   "cell_type": "code",
   "execution_count": 37,
   "id": "4020bdac-0fb0-4b25-a876-1eda49846b3f",
   "metadata": {},
   "outputs": [
    {
     "data": {
      "text/html": [
       "<div>\n",
       "<style scoped>\n",
       "    .dataframe tbody tr th:only-of-type {\n",
       "        vertical-align: middle;\n",
       "    }\n",
       "\n",
       "    .dataframe tbody tr th {\n",
       "        vertical-align: top;\n",
       "    }\n",
       "\n",
       "    .dataframe thead th {\n",
       "        text-align: right;\n",
       "    }\n",
       "</style>\n",
       "<table border=\"1\" class=\"dataframe\">\n",
       "  <thead>\n",
       "    <tr style=\"text-align: right;\">\n",
       "      <th></th>\n",
       "      <th>study_id</th>\n",
       "      <th>series_id</th>\n",
       "      <th>instance</th>\n",
       "      <th>condition</th>\n",
       "      <th>level</th>\n",
       "      <th>x</th>\n",
       "      <th>y</th>\n",
       "      <th>ss_id</th>\n",
       "      <th>instance_id</th>\n",
       "      <th>cl</th>\n",
       "      <th>series_description</th>\n",
       "    </tr>\n",
       "  </thead>\n",
       "  <tbody>\n",
       "    <tr>\n",
       "      <th>45316</th>\n",
       "      <td>3985825195</td>\n",
       "      <td>2186866211</td>\n",
       "      <td>6</td>\n",
       "      <td>SCS</td>\n",
       "      <td>L3L4</td>\n",
       "      <td>320.0</td>\n",
       "      <td>268.707581</td>\n",
       "      <td>3985825195_2186866211</td>\n",
       "      <td>3985825195_2186866211_6</td>\n",
       "      <td>SCSL3L4</td>\n",
       "      <td>Sagittal T2/STIR</td>\n",
       "    </tr>\n",
       "  </tbody>\n",
       "</table>\n",
       "</div>"
      ],
      "text/plain": [
       "         study_id   series_id  instance condition level      x           y  \\\n",
       "45316  3985825195  2186866211         6       SCS  L3L4  320.0  268.707581   \n",
       "\n",
       "                       ss_id              instance_id       cl  \\\n",
       "45316  3985825195_2186866211  3985825195_2186866211_6  SCSL3L4   \n",
       "\n",
       "      series_description  \n",
       "45316   Sagittal T2/STIR  "
      ]
     },
     "execution_count": 37,
     "metadata": {},
     "output_type": "execute_result"
    }
   ],
   "source": [
    "# check canal stenosis is noy only in axial plane\n",
    "coords_df[(coords_df.condition == 'SCS') & (coords_df.series_description != 'Axial T2')].sample()"
   ]
  },
  {
   "cell_type": "code",
   "execution_count": 38,
   "id": "4adb87c7-4850-4c6e-b5f8-f30fcc7ebc9b",
   "metadata": {},
   "outputs": [
    {
     "data": {
      "text/plain": [
       "study_id    series_id \n",
       "4003253     702807833                              [8]\n",
       "            1054713880               [4, 5, 6, 11, 12]\n",
       "            2448190387          [3, 4, 11, 19, 28, 35]\n",
       "4646740     3201256954    [15, 16, 22, 28, 29, 34, 40]\n",
       "            3486248476           [5, 6, 7, 15, 16, 17]\n",
       "                                      ...             \n",
       "4287160193  1507070277                             [8]\n",
       "            1820446240          [4, 9, 10, 16, 22, 28]\n",
       "4290709089  3274612423                             [9]\n",
       "            3390218084    [2, 3, 5, 6, 10, 15, 20, 21]\n",
       "            4237840455                  [4, 5, 11, 12]\n",
       "Name: instance, Length: 6291, dtype: object"
      ]
     },
     "execution_count": 38,
     "metadata": {},
     "output_type": "execute_result"
    }
   ],
   "source": [
    "# get the positive slices\n",
    "coords_df.groupby(['study_id','series_id']).instance.unique()"
   ]
  },
  {
   "cell_type": "code",
   "execution_count": 39,
   "id": "e013be8a-51a4-4e63-ae89-dade163f069a",
   "metadata": {},
   "outputs": [
    {
     "data": {
      "text/plain": [
       "(6291, 24546)"
      ]
     },
     "execution_count": 39,
     "metadata": {},
     "output_type": "execute_result"
    }
   ],
   "source": [
    "coords_df.ss_id.nunique(), coords_df.instance_id.nunique()"
   ]
  },
  {
   "cell_type": "markdown",
   "id": "240f8715-d61d-41c8-9fda-fd5a1dbfc5d7",
   "metadata": {},
   "source": [
    "### Files_df"
   ]
  },
  {
   "cell_type": "code",
   "execution_count": 40,
   "id": "a5b74143-da36-46f5-8ebb-4a62242045fc",
   "metadata": {},
   "outputs": [],
   "source": [
    "files_df = pd.read_csv(CFG.FILES_CSV)"
   ]
  },
  {
   "cell_type": "code",
   "execution_count": 41,
   "id": "f0faf615-ff07-4748-b340-095936b6c15c",
   "metadata": {},
   "outputs": [
    {
     "data": {
      "text/html": [
       "<div>\n",
       "<style scoped>\n",
       "    .dataframe tbody tr th:only-of-type {\n",
       "        vertical-align: middle;\n",
       "    }\n",
       "\n",
       "    .dataframe tbody tr th {\n",
       "        vertical-align: top;\n",
       "    }\n",
       "\n",
       "    .dataframe thead th {\n",
       "        text-align: right;\n",
       "    }\n",
       "</style>\n",
       "<table border=\"1\" class=\"dataframe\">\n",
       "  <thead>\n",
       "    <tr style=\"text-align: right;\">\n",
       "      <th></th>\n",
       "      <th>study_id</th>\n",
       "      <th>series_id</th>\n",
       "      <th>image</th>\n",
       "      <th>proj</th>\n",
       "      <th>instancenumber</th>\n",
       "      <th>rows</th>\n",
       "      <th>columns</th>\n",
       "      <th>slicethickness</th>\n",
       "      <th>spacingbetweenslices</th>\n",
       "      <th>patientposition</th>\n",
       "      <th>seriesdescription</th>\n",
       "    </tr>\n",
       "  </thead>\n",
       "  <tbody>\n",
       "    <tr>\n",
       "      <th>136622</th>\n",
       "      <td>734370379</td>\n",
       "      <td>1655908293</td>\n",
       "      <td>10</td>\n",
       "      <td>1</td>\n",
       "      <td>10</td>\n",
       "      <td>512</td>\n",
       "      <td>512</td>\n",
       "      <td>5.0</td>\n",
       "      <td>6.0</td>\n",
       "      <td>HFS</td>\n",
       "      <td>T2</td>\n",
       "    </tr>\n",
       "    <tr>\n",
       "      <th>114580</th>\n",
       "      <td>3985825195</td>\n",
       "      <td>3514821988</td>\n",
       "      <td>8</td>\n",
       "      <td>1</td>\n",
       "      <td>8</td>\n",
       "      <td>512</td>\n",
       "      <td>512</td>\n",
       "      <td>4.0</td>\n",
       "      <td>5.0</td>\n",
       "      <td>HFS</td>\n",
       "      <td>T1</td>\n",
       "    </tr>\n",
       "    <tr>\n",
       "      <th>119746</th>\n",
       "      <td>4136088296</td>\n",
       "      <td>2455515522</td>\n",
       "      <td>43</td>\n",
       "      <td>-433</td>\n",
       "      <td>43</td>\n",
       "      <td>320</td>\n",
       "      <td>320</td>\n",
       "      <td>4.0</td>\n",
       "      <td>4.4</td>\n",
       "      <td>HFS</td>\n",
       "      <td>T2</td>\n",
       "    </tr>\n",
       "    <tr>\n",
       "      <th>21199</th>\n",
       "      <td>1557820205</td>\n",
       "      <td>1079852660</td>\n",
       "      <td>10</td>\n",
       "      <td>-2</td>\n",
       "      <td>10</td>\n",
       "      <td>384</td>\n",
       "      <td>384</td>\n",
       "      <td>4.0</td>\n",
       "      <td>4.4</td>\n",
       "      <td>HFS</td>\n",
       "      <td>T2</td>\n",
       "    </tr>\n",
       "    <tr>\n",
       "      <th>73240</th>\n",
       "      <td>2920127450</td>\n",
       "      <td>1211652526</td>\n",
       "      <td>2</td>\n",
       "      <td>91</td>\n",
       "      <td>2</td>\n",
       "      <td>384</td>\n",
       "      <td>384</td>\n",
       "      <td>4.0</td>\n",
       "      <td>4.4</td>\n",
       "      <td>HFS</td>\n",
       "      <td>NaN</td>\n",
       "    </tr>\n",
       "  </tbody>\n",
       "</table>\n",
       "</div>"
      ],
      "text/plain": [
       "          study_id   series_id  image  proj  instancenumber  rows  columns  \\\n",
       "136622   734370379  1655908293     10     1              10   512      512   \n",
       "114580  3985825195  3514821988      8     1               8   512      512   \n",
       "119746  4136088296  2455515522     43  -433              43   320      320   \n",
       "21199   1557820205  1079852660     10    -2              10   384      384   \n",
       "73240   2920127450  1211652526      2    91               2   384      384   \n",
       "\n",
       "        slicethickness  spacingbetweenslices patientposition seriesdescription  \n",
       "136622             5.0                   6.0             HFS                T2  \n",
       "114580             4.0                   5.0             HFS                T1  \n",
       "119746             4.0                   4.4             HFS                T2  \n",
       "21199              4.0                   4.4             HFS                T2  \n",
       "73240              4.0                   4.4             HFS               NaN  "
      ]
     },
     "execution_count": 41,
     "metadata": {},
     "output_type": "execute_result"
    }
   ],
   "source": [
    "files_df.sample(5)"
   ]
  },
  {
   "cell_type": "code",
   "execution_count": 42,
   "id": "8fbd918c-d178-4f16-9a9e-d7de6ab07557",
   "metadata": {},
   "outputs": [],
   "source": [
    "# files_df.rename(columns={'patient': 'study_id', 'series': 'series_id', 'image': 'instance'}, inplace=True)"
   ]
  },
  {
   "cell_type": "code",
   "execution_count": 43,
   "id": "884ea53c-c23f-49c9-b2b7-e505f96b1e47",
   "metadata": {},
   "outputs": [
    {
     "data": {
      "text/plain": [
       "(patientposition\n",
       " HFS    118249\n",
       " FFS     28969\n",
       " Name: count, dtype: int64,\n",
       " 0)"
      ]
     },
     "execution_count": 43,
     "metadata": {},
     "output_type": "execute_result"
    }
   ],
   "source": [
    "files_df.patientposition.value_counts(), files_df.patientposition.isna().sum()"
   ]
  },
  {
   "cell_type": "code",
   "execution_count": 44,
   "id": "3e3c201a-ca29-44dd-a835-0244a051017d",
   "metadata": {},
   "outputs": [
    {
     "data": {
      "text/plain": [
       "patientposition\n",
       "[HFS]    1585\n",
       "[FFS]     390\n",
       "Name: count, dtype: int64"
      ]
     },
     "execution_count": 44,
     "metadata": {},
     "output_type": "execute_result"
    }
   ],
   "source": [
    "files_df.groupby(['study_id']).patientposition.unique().value_counts()"
   ]
  },
  {
   "cell_type": "code",
   "execution_count": 45,
   "id": "36b59b51-1198-4df5-83fa-bacf0c5dadbc",
   "metadata": {},
   "outputs": [],
   "source": [
    "files_df['ss_id'] = files_df.apply(lambda row: f'{str(row[\"study_id\"])}_{str(row[\"series_id\"])}', axis=1)\n",
    "files_df['instance_id'] = files_df.apply(lambda row: f'{str(row[\"study_id\"])}_{str(row[\"series_id\"])}_{str(row[\"instancenumber\"])}', axis=1)"
   ]
  },
  {
   "cell_type": "code",
   "execution_count": 46,
   "id": "748fd5fb-4cc5-4715-ad45-d44192d2c517",
   "metadata": {},
   "outputs": [],
   "source": [
    "source_dir = CFG.PNG_DIR\n",
    "files_df['filename'] = files_df.apply(lambda row: f'{source_dir}\\\\{row.study_id}_{row.series_id}_{row.image}.png', axis=1)"
   ]
  },
  {
   "cell_type": "code",
   "execution_count": 47,
   "id": "de91b521-485d-4d05-b829-7cf2508558e8",
   "metadata": {},
   "outputs": [
    {
     "data": {
      "text/html": [
       "<div>\n",
       "<style scoped>\n",
       "    .dataframe tbody tr th:only-of-type {\n",
       "        vertical-align: middle;\n",
       "    }\n",
       "\n",
       "    .dataframe tbody tr th {\n",
       "        vertical-align: top;\n",
       "    }\n",
       "\n",
       "    .dataframe thead th {\n",
       "        text-align: right;\n",
       "    }\n",
       "</style>\n",
       "<table border=\"1\" class=\"dataframe\">\n",
       "  <thead>\n",
       "    <tr style=\"text-align: right;\">\n",
       "      <th></th>\n",
       "      <th>study_id</th>\n",
       "      <th>series_id</th>\n",
       "      <th>image</th>\n",
       "      <th>proj</th>\n",
       "      <th>instancenumber</th>\n",
       "      <th>rows</th>\n",
       "      <th>columns</th>\n",
       "      <th>slicethickness</th>\n",
       "      <th>spacingbetweenslices</th>\n",
       "      <th>patientposition</th>\n",
       "      <th>seriesdescription</th>\n",
       "      <th>ss_id</th>\n",
       "      <th>instance_id</th>\n",
       "      <th>filename</th>\n",
       "    </tr>\n",
       "  </thead>\n",
       "  <tbody>\n",
       "    <tr>\n",
       "      <th>44541</th>\n",
       "      <td>2192457937</td>\n",
       "      <td>3771109646</td>\n",
       "      <td>14</td>\n",
       "      <td>0</td>\n",
       "      <td>14</td>\n",
       "      <td>320</td>\n",
       "      <td>320</td>\n",
       "      <td>4.0</td>\n",
       "      <td>5.6</td>\n",
       "      <td>HFS</td>\n",
       "      <td>T2</td>\n",
       "      <td>2192457937_3771109646</td>\n",
       "      <td>2192457937_3771109646_14</td>\n",
       "      <td>E:\\data\\RSNA2024\\pngs_256\\2192457937_377110964...</td>\n",
       "    </tr>\n",
       "  </tbody>\n",
       "</table>\n",
       "</div>"
      ],
      "text/plain": [
       "         study_id   series_id  image  proj  instancenumber  rows  columns  \\\n",
       "44541  2192457937  3771109646     14     0              14   320      320   \n",
       "\n",
       "       slicethickness  spacingbetweenslices patientposition seriesdescription  \\\n",
       "44541             4.0                   5.6             HFS                T2   \n",
       "\n",
       "                       ss_id               instance_id  \\\n",
       "44541  2192457937_3771109646  2192457937_3771109646_14   \n",
       "\n",
       "                                                filename  \n",
       "44541  E:\\data\\RSNA2024\\pngs_256\\2192457937_377110964...  "
      ]
     },
     "execution_count": 47,
     "metadata": {},
     "output_type": "execute_result"
    }
   ],
   "source": [
    "files_df.sample()"
   ]
  },
  {
   "cell_type": "code",
   "execution_count": 48,
   "id": "4cdf7b4a-92bf-489e-a5e9-6e09f0c986f5",
   "metadata": {},
   "outputs": [
    {
     "data": {
      "text/html": [
       "<div>\n",
       "<style scoped>\n",
       "    .dataframe tbody tr th:only-of-type {\n",
       "        vertical-align: middle;\n",
       "    }\n",
       "\n",
       "    .dataframe tbody tr th {\n",
       "        vertical-align: top;\n",
       "    }\n",
       "\n",
       "    .dataframe thead th {\n",
       "        text-align: right;\n",
       "    }\n",
       "</style>\n",
       "<table border=\"1\" class=\"dataframe\">\n",
       "  <thead>\n",
       "    <tr style=\"text-align: right;\">\n",
       "      <th></th>\n",
       "      <th>study_id</th>\n",
       "      <th>series_id</th>\n",
       "      <th>series_description</th>\n",
       "      <th>ss_id</th>\n",
       "    </tr>\n",
       "  </thead>\n",
       "  <tbody>\n",
       "    <tr>\n",
       "      <th>2210</th>\n",
       "      <td>1529405332</td>\n",
       "      <td>4218128326</td>\n",
       "      <td>Axial T2</td>\n",
       "      <td>1529405332_4218128326</td>\n",
       "    </tr>\n",
       "  </tbody>\n",
       "</table>\n",
       "</div>"
      ],
      "text/plain": [
       "        study_id   series_id series_description                  ss_id\n",
       "2210  1529405332  4218128326           Axial T2  1529405332_4218128326"
      ]
     },
     "execution_count": 48,
     "metadata": {},
     "output_type": "execute_result"
    }
   ],
   "source": [
    "train_desc_df.sample()"
   ]
  },
  {
   "cell_type": "code",
   "execution_count": 49,
   "id": "c0d9500a-a3c2-4c82-a194-c7f03b3e7f57",
   "metadata": {},
   "outputs": [],
   "source": [
    "coords_df = pd.merge(coords_df, files_df[['instance_id', 'rows', 'columns', 'filename','patientposition']], left_on='instance_id', right_on='instance_id')"
   ]
  },
  {
   "cell_type": "code",
   "execution_count": 50,
   "id": "dbfc4c9b-9723-4fca-9f8b-b6b29a26801d",
   "metadata": {},
   "outputs": [
    {
     "data": {
      "text/plain": [
       "(48692, 15)"
      ]
     },
     "execution_count": 50,
     "metadata": {},
     "output_type": "execute_result"
    }
   ],
   "source": [
    "coords_df.shape"
   ]
  },
  {
   "cell_type": "code",
   "execution_count": 51,
   "id": "666d78d7-6f82-4228-b622-e06464101ee2",
   "metadata": {},
   "outputs": [
    {
     "data": {
      "text/html": [
       "<div>\n",
       "<style scoped>\n",
       "    .dataframe tbody tr th:only-of-type {\n",
       "        vertical-align: middle;\n",
       "    }\n",
       "\n",
       "    .dataframe tbody tr th {\n",
       "        vertical-align: top;\n",
       "    }\n",
       "\n",
       "    .dataframe thead th {\n",
       "        text-align: right;\n",
       "    }\n",
       "</style>\n",
       "<table border=\"1\" class=\"dataframe\">\n",
       "  <thead>\n",
       "    <tr style=\"text-align: right;\">\n",
       "      <th></th>\n",
       "      <th>study_id</th>\n",
       "      <th>series_id</th>\n",
       "      <th>instance</th>\n",
       "      <th>condition</th>\n",
       "      <th>level</th>\n",
       "      <th>x</th>\n",
       "      <th>y</th>\n",
       "      <th>ss_id</th>\n",
       "      <th>instance_id</th>\n",
       "      <th>cl</th>\n",
       "      <th>series_description</th>\n",
       "      <th>rows</th>\n",
       "      <th>columns</th>\n",
       "      <th>filename</th>\n",
       "      <th>patientposition</th>\n",
       "    </tr>\n",
       "  </thead>\n",
       "  <tbody>\n",
       "    <tr>\n",
       "      <th>34386</th>\n",
       "      <td>3039901962</td>\n",
       "      <td>938004175</td>\n",
       "      <td>8</td>\n",
       "      <td>SCS</td>\n",
       "      <td>L2L3</td>\n",
       "      <td>384.685714</td>\n",
       "      <td>356.228571</td>\n",
       "      <td>3039901962_938004175</td>\n",
       "      <td>3039901962_938004175_8</td>\n",
       "      <td>SCSL2L3</td>\n",
       "      <td>Sagittal T2/STIR</td>\n",
       "      <td>768</td>\n",
       "      <td>768</td>\n",
       "      <td>E:\\data\\RSNA2024\\pngs_256\\3039901962_938004175...</td>\n",
       "      <td>FFS</td>\n",
       "    </tr>\n",
       "  </tbody>\n",
       "</table>\n",
       "</div>"
      ],
      "text/plain": [
       "         study_id  series_id  instance condition level           x  \\\n",
       "34386  3039901962  938004175         8       SCS  L2L3  384.685714   \n",
       "\n",
       "                y                 ss_id             instance_id       cl  \\\n",
       "34386  356.228571  3039901962_938004175  3039901962_938004175_8  SCSL2L3   \n",
       "\n",
       "      series_description  rows  columns  \\\n",
       "34386   Sagittal T2/STIR   768      768   \n",
       "\n",
       "                                                filename patientposition  \n",
       "34386  E:\\data\\RSNA2024\\pngs_256\\3039901962_938004175...             FFS  "
      ]
     },
     "execution_count": 51,
     "metadata": {},
     "output_type": "execute_result"
    }
   ],
   "source": [
    "coords_df.sample()"
   ]
  },
  {
   "cell_type": "code",
   "execution_count": 52,
   "id": "74989581-6bf1-4051-b7bd-7bc6a03597ca",
   "metadata": {},
   "outputs": [],
   "source": [
    "# TODO: make sure we match coords corectly\n",
    "coords_df['x_perc'] = coords_df['x'] / coords_df['columns']\n",
    "coords_df['y_perc'] = coords_df['y'] / coords_df['rows']"
   ]
  },
  {
   "cell_type": "code",
   "execution_count": 53,
   "id": "3eb49fa3-a95a-4f6f-9693-b3743e300817",
   "metadata": {},
   "outputs": [
    {
     "data": {
      "text/plain": [
       "((19220, 17), (29472, 17), (48692, 17))"
      ]
     },
     "execution_count": 53,
     "metadata": {},
     "output_type": "execute_result"
    }
   ],
   "source": [
    "ax, non_ax = coords_df[coords_df['series_description'] == 'Axial T2'], coords_df[coords_df['series_description'] != 'Axial T2']\n",
    "ax.shape, non_ax.shape, coords_df.shape"
   ]
  },
  {
   "cell_type": "code",
   "execution_count": 54,
   "id": "7a119eb4-36f0-48ee-b8ac-fbcfc53fea04",
   "metadata": {},
   "outputs": [
    {
     "data": {
      "text/plain": [
       "2.063097514340344"
      ]
     },
     "execution_count": 54,
     "metadata": {},
     "output_type": "execute_result"
    }
   ],
   "source": [
    "coords_df.y.min()"
   ]
  },
  {
   "cell_type": "code",
   "execution_count": 55,
   "id": "f48536a0-c34a-45de-804b-fd0ca3c28005",
   "metadata": {
    "scrolled": true
   },
   "outputs": [
    {
     "name": "stdout",
     "output_type": "stream",
     "text": [
      "0.2849557522123894 0.3092621664050236\n",
      "0.6631964653474212 0.8078096961632665\n",
      "/////////////\n",
      "0.0048828125 0.0040294873326959845\n",
      "0.7684669901065448 0.9117647058823529\n",
      "/////////////\n"
     ]
    }
   ],
   "source": [
    "for c in [ax, non_ax]:\n",
    "    print(c['x_perc'].min(), c['y_perc'].min())\n",
    "    print(c['x_perc'].max(), c['y_perc'].max())\n",
    "    print('/////////////')\n",
    "    # print(c['x_perc'].mean(), c['y_perc'].mean())"
   ]
  },
  {
   "cell_type": "code",
   "execution_count": 56,
   "id": "4fa71521-aec2-41ad-a752-e49b1870d3ea",
   "metadata": {},
   "outputs": [
    {
     "data": {
      "text/plain": [
       "(147218, 14)"
      ]
     },
     "execution_count": 56,
     "metadata": {},
     "output_type": "execute_result"
    }
   ],
   "source": [
    "files_df.shape"
   ]
  },
  {
   "cell_type": "code",
   "execution_count": 57,
   "id": "f7cbe9eb-bc54-429d-ad72-fde6578d9360",
   "metadata": {
    "scrolled": true
   },
   "outputs": [
    {
     "data": {
      "text/html": [
       "<div>\n",
       "<style scoped>\n",
       "    .dataframe tbody tr th:only-of-type {\n",
       "        vertical-align: middle;\n",
       "    }\n",
       "\n",
       "    .dataframe tbody tr th {\n",
       "        vertical-align: top;\n",
       "    }\n",
       "\n",
       "    .dataframe thead th {\n",
       "        text-align: right;\n",
       "    }\n",
       "</style>\n",
       "<table border=\"1\" class=\"dataframe\">\n",
       "  <thead>\n",
       "    <tr style=\"text-align: right;\">\n",
       "      <th></th>\n",
       "      <th>study_id</th>\n",
       "      <th>series_id</th>\n",
       "      <th>image</th>\n",
       "      <th>proj</th>\n",
       "      <th>instancenumber</th>\n",
       "      <th>rows</th>\n",
       "      <th>columns</th>\n",
       "      <th>slicethickness</th>\n",
       "      <th>spacingbetweenslices</th>\n",
       "      <th>patientposition</th>\n",
       "      <th>seriesdescription</th>\n",
       "      <th>ss_id</th>\n",
       "      <th>instance_id</th>\n",
       "      <th>filename</th>\n",
       "      <th>series_description</th>\n",
       "    </tr>\n",
       "  </thead>\n",
       "  <tbody>\n",
       "    <tr>\n",
       "      <th>25304</th>\n",
       "      <td>1676531728</td>\n",
       "      <td>3775504232</td>\n",
       "      <td>2</td>\n",
       "      <td>30</td>\n",
       "      <td>2</td>\n",
       "      <td>448</td>\n",
       "      <td>448</td>\n",
       "      <td>4.0</td>\n",
       "      <td>4.48</td>\n",
       "      <td>HFS</td>\n",
       "      <td>T2</td>\n",
       "      <td>1676531728_3775504232</td>\n",
       "      <td>1676531728_3775504232_2</td>\n",
       "      <td>E:\\data\\RSNA2024\\pngs_256\\1676531728_377550423...</td>\n",
       "      <td>Sagittal T2/STIR</td>\n",
       "    </tr>\n",
       "    <tr>\n",
       "      <th>115971</th>\n",
       "      <td>4031357862</td>\n",
       "      <td>271011448</td>\n",
       "      <td>4</td>\n",
       "      <td>63</td>\n",
       "      <td>4</td>\n",
       "      <td>384</td>\n",
       "      <td>384</td>\n",
       "      <td>4.0</td>\n",
       "      <td>5.20</td>\n",
       "      <td>HFS</td>\n",
       "      <td>NaN</td>\n",
       "      <td>4031357862_271011448</td>\n",
       "      <td>4031357862_271011448_4</td>\n",
       "      <td>E:\\data\\RSNA2024\\pngs_256\\4031357862_271011448...</td>\n",
       "      <td>Axial T2</td>\n",
       "    </tr>\n",
       "  </tbody>\n",
       "</table>\n",
       "</div>"
      ],
      "text/plain": [
       "          study_id   series_id  image  proj  instancenumber  rows  columns  \\\n",
       "25304   1676531728  3775504232      2    30               2   448      448   \n",
       "115971  4031357862   271011448      4    63               4   384      384   \n",
       "\n",
       "        slicethickness  spacingbetweenslices patientposition  \\\n",
       "25304              4.0                  4.48             HFS   \n",
       "115971             4.0                  5.20             HFS   \n",
       "\n",
       "       seriesdescription                  ss_id              instance_id  \\\n",
       "25304                 T2  1676531728_3775504232  1676531728_3775504232_2   \n",
       "115971               NaN   4031357862_271011448   4031357862_271011448_4   \n",
       "\n",
       "                                                 filename series_description  \n",
       "25304   E:\\data\\RSNA2024\\pngs_256\\1676531728_377550423...   Sagittal T2/STIR  \n",
       "115971  E:\\data\\RSNA2024\\pngs_256\\4031357862_271011448...           Axial T2  "
      ]
     },
     "execution_count": 57,
     "metadata": {},
     "output_type": "execute_result"
    }
   ],
   "source": [
    "files_df = pd.merge(files_df, train_desc_df.loc[:, ['ss_id', 'series_description']],  how='inner', left_on=['ss_id'], right_on=['ss_id'])\n",
    "\n",
    "files_df.sample(2)"
   ]
  },
  {
   "cell_type": "code",
   "execution_count": 58,
   "id": "03f1ba49-b1fb-489a-8b95-e44176ac1f4d",
   "metadata": {},
   "outputs": [
    {
     "data": {
      "text/plain": [
       "(147218, 15)"
      ]
     },
     "execution_count": 58,
     "metadata": {},
     "output_type": "execute_result"
    }
   ],
   "source": [
    "files_df.shape"
   ]
  },
  {
   "cell_type": "code",
   "execution_count": 59,
   "id": "6e8dfe4c-af3d-4d58-958b-2415591b49bd",
   "metadata": {},
   "outputs": [],
   "source": [
    "files_df['cl'] = 'H'\n",
    "files_df['condition'] = 'H'"
   ]
  },
  {
   "cell_type": "code",
   "execution_count": 60,
   "id": "abe4b46f-dbb4-4671-9d00-910f417bab80",
   "metadata": {},
   "outputs": [
    {
     "data": {
      "text/html": [
       "<div>\n",
       "<style scoped>\n",
       "    .dataframe tbody tr th:only-of-type {\n",
       "        vertical-align: middle;\n",
       "    }\n",
       "\n",
       "    .dataframe tbody tr th {\n",
       "        vertical-align: top;\n",
       "    }\n",
       "\n",
       "    .dataframe thead th {\n",
       "        text-align: right;\n",
       "    }\n",
       "</style>\n",
       "<table border=\"1\" class=\"dataframe\">\n",
       "  <thead>\n",
       "    <tr style=\"text-align: right;\">\n",
       "      <th></th>\n",
       "      <th>study_id</th>\n",
       "      <th>series_id</th>\n",
       "      <th>image</th>\n",
       "      <th>proj</th>\n",
       "      <th>instancenumber</th>\n",
       "      <th>rows</th>\n",
       "      <th>columns</th>\n",
       "      <th>slicethickness</th>\n",
       "      <th>spacingbetweenslices</th>\n",
       "      <th>patientposition</th>\n",
       "      <th>seriesdescription</th>\n",
       "      <th>ss_id</th>\n",
       "      <th>instance_id</th>\n",
       "      <th>filename</th>\n",
       "      <th>series_description</th>\n",
       "      <th>cl</th>\n",
       "      <th>condition</th>\n",
       "    </tr>\n",
       "  </thead>\n",
       "  <tbody>\n",
       "    <tr>\n",
       "      <th>102685</th>\n",
       "      <td>3701224868</td>\n",
       "      <td>527018024</td>\n",
       "      <td>47</td>\n",
       "      <td>-545</td>\n",
       "      <td>47</td>\n",
       "      <td>640</td>\n",
       "      <td>640</td>\n",
       "      <td>3.5</td>\n",
       "      <td>3.5</td>\n",
       "      <td>HFS</td>\n",
       "      <td>T2</td>\n",
       "      <td>3701224868_527018024</td>\n",
       "      <td>3701224868_527018024_47</td>\n",
       "      <td>E:\\data\\RSNA2024\\pngs_256\\3701224868_527018024...</td>\n",
       "      <td>Axial T2</td>\n",
       "      <td>H</td>\n",
       "      <td>H</td>\n",
       "    </tr>\n",
       "    <tr>\n",
       "      <th>21797</th>\n",
       "      <td>1576224571</td>\n",
       "      <td>1449782109</td>\n",
       "      <td>29</td>\n",
       "      <td>-585</td>\n",
       "      <td>29</td>\n",
       "      <td>320</td>\n",
       "      <td>320</td>\n",
       "      <td>3.5</td>\n",
       "      <td>3.5</td>\n",
       "      <td>HFS</td>\n",
       "      <td>T2</td>\n",
       "      <td>1576224571_1449782109</td>\n",
       "      <td>1576224571_1449782109_29</td>\n",
       "      <td>E:\\data\\RSNA2024\\pngs_256\\1576224571_144978210...</td>\n",
       "      <td>Axial T2</td>\n",
       "      <td>H</td>\n",
       "      <td>H</td>\n",
       "    </tr>\n",
       "    <tr>\n",
       "      <th>81133</th>\n",
       "      <td>314041963</td>\n",
       "      <td>277371578</td>\n",
       "      <td>4</td>\n",
       "      <td>25</td>\n",
       "      <td>4</td>\n",
       "      <td>576</td>\n",
       "      <td>576</td>\n",
       "      <td>3.0</td>\n",
       "      <td>3.6</td>\n",
       "      <td>HFS</td>\n",
       "      <td>T2</td>\n",
       "      <td>314041963_277371578</td>\n",
       "      <td>314041963_277371578_4</td>\n",
       "      <td>E:\\data\\RSNA2024\\pngs_256\\314041963_277371578_...</td>\n",
       "      <td>Sagittal T2/STIR</td>\n",
       "      <td>H</td>\n",
       "      <td>H</td>\n",
       "    </tr>\n",
       "    <tr>\n",
       "      <th>34448</th>\n",
       "      <td>1906657742</td>\n",
       "      <td>4211307612</td>\n",
       "      <td>4</td>\n",
       "      <td>127</td>\n",
       "      <td>4</td>\n",
       "      <td>640</td>\n",
       "      <td>640</td>\n",
       "      <td>4.0</td>\n",
       "      <td>4.4</td>\n",
       "      <td>FFS</td>\n",
       "      <td>T2</td>\n",
       "      <td>1906657742_4211307612</td>\n",
       "      <td>1906657742_4211307612_4</td>\n",
       "      <td>E:\\data\\RSNA2024\\pngs_256\\1906657742_421130761...</td>\n",
       "      <td>Axial T2</td>\n",
       "      <td>H</td>\n",
       "      <td>H</td>\n",
       "    </tr>\n",
       "    <tr>\n",
       "      <th>129781</th>\n",
       "      <td>532925408</td>\n",
       "      <td>996418962</td>\n",
       "      <td>6</td>\n",
       "      <td>-74</td>\n",
       "      <td>6</td>\n",
       "      <td>640</td>\n",
       "      <td>640</td>\n",
       "      <td>4.0</td>\n",
       "      <td>4.8</td>\n",
       "      <td>HFS</td>\n",
       "      <td>T2</td>\n",
       "      <td>532925408_996418962</td>\n",
       "      <td>532925408_996418962_6</td>\n",
       "      <td>E:\\data\\RSNA2024\\pngs_256\\532925408_996418962_...</td>\n",
       "      <td>Axial T2</td>\n",
       "      <td>H</td>\n",
       "      <td>H</td>\n",
       "    </tr>\n",
       "  </tbody>\n",
       "</table>\n",
       "</div>"
      ],
      "text/plain": [
       "          study_id   series_id  image  proj  instancenumber  rows  columns  \\\n",
       "102685  3701224868   527018024     47  -545              47   640      640   \n",
       "21797   1576224571  1449782109     29  -585              29   320      320   \n",
       "81133    314041963   277371578      4    25               4   576      576   \n",
       "34448   1906657742  4211307612      4   127               4   640      640   \n",
       "129781   532925408   996418962      6   -74               6   640      640   \n",
       "\n",
       "        slicethickness  spacingbetweenslices patientposition  \\\n",
       "102685             3.5                   3.5             HFS   \n",
       "21797              3.5                   3.5             HFS   \n",
       "81133              3.0                   3.6             HFS   \n",
       "34448              4.0                   4.4             FFS   \n",
       "129781             4.0                   4.8             HFS   \n",
       "\n",
       "       seriesdescription                  ss_id               instance_id  \\\n",
       "102685                T2   3701224868_527018024   3701224868_527018024_47   \n",
       "21797                 T2  1576224571_1449782109  1576224571_1449782109_29   \n",
       "81133                 T2    314041963_277371578     314041963_277371578_4   \n",
       "34448                 T2  1906657742_4211307612   1906657742_4211307612_4   \n",
       "129781                T2    532925408_996418962     532925408_996418962_6   \n",
       "\n",
       "                                                 filename series_description  \\\n",
       "102685  E:\\data\\RSNA2024\\pngs_256\\3701224868_527018024...           Axial T2   \n",
       "21797   E:\\data\\RSNA2024\\pngs_256\\1576224571_144978210...           Axial T2   \n",
       "81133   E:\\data\\RSNA2024\\pngs_256\\314041963_277371578_...   Sagittal T2/STIR   \n",
       "34448   E:\\data\\RSNA2024\\pngs_256\\1906657742_421130761...           Axial T2   \n",
       "129781  E:\\data\\RSNA2024\\pngs_256\\532925408_996418962_...           Axial T2   \n",
       "\n",
       "       cl condition  \n",
       "102685  H         H  \n",
       "21797   H         H  \n",
       "81133   H         H  \n",
       "34448   H         H  \n",
       "129781  H         H  "
      ]
     },
     "execution_count": 60,
     "metadata": {},
     "output_type": "execute_result"
    }
   ],
   "source": [
    "files_df.sample(5)"
   ]
  },
  {
   "cell_type": "code",
   "execution_count": 61,
   "id": "592d04ec-c07c-4815-bfbe-f3cf36428f53",
   "metadata": {},
   "outputs": [
    {
     "data": {
      "text/html": [
       "<div>\n",
       "<style scoped>\n",
       "    .dataframe tbody tr th:only-of-type {\n",
       "        vertical-align: middle;\n",
       "    }\n",
       "\n",
       "    .dataframe tbody tr th {\n",
       "        vertical-align: top;\n",
       "    }\n",
       "\n",
       "    .dataframe thead th {\n",
       "        text-align: right;\n",
       "    }\n",
       "</style>\n",
       "<table border=\"1\" class=\"dataframe\">\n",
       "  <thead>\n",
       "    <tr style=\"text-align: right;\">\n",
       "      <th></th>\n",
       "      <th>study_id</th>\n",
       "      <th>series_id</th>\n",
       "      <th>image</th>\n",
       "      <th>proj</th>\n",
       "      <th>instancenumber</th>\n",
       "      <th>rows</th>\n",
       "      <th>columns</th>\n",
       "      <th>slicethickness</th>\n",
       "      <th>spacingbetweenslices</th>\n",
       "      <th>patientposition</th>\n",
       "      <th>...</th>\n",
       "      <th>ss_id</th>\n",
       "      <th>instance_id</th>\n",
       "      <th>filename</th>\n",
       "      <th>series_description</th>\n",
       "      <th>cl</th>\n",
       "      <th>condition</th>\n",
       "      <th>inst_min</th>\n",
       "      <th>inst_max</th>\n",
       "      <th>inst</th>\n",
       "      <th>inst_perc</th>\n",
       "    </tr>\n",
       "  </thead>\n",
       "  <tbody>\n",
       "    <tr>\n",
       "      <th>0</th>\n",
       "      <td>100206310</td>\n",
       "      <td>1012284084</td>\n",
       "      <td>1</td>\n",
       "      <td>-394</td>\n",
       "      <td>1</td>\n",
       "      <td>320</td>\n",
       "      <td>320</td>\n",
       "      <td>3.5</td>\n",
       "      <td>3.5</td>\n",
       "      <td>HFS</td>\n",
       "      <td>...</td>\n",
       "      <td>100206310_1012284084</td>\n",
       "      <td>100206310_1012284084_1</td>\n",
       "      <td>E:\\data\\RSNA2024\\pngs_256\\100206310_1012284084...</td>\n",
       "      <td>Axial T2</td>\n",
       "      <td>H</td>\n",
       "      <td>H</td>\n",
       "      <td>1</td>\n",
       "      <td>60</td>\n",
       "      <td>0</td>\n",
       "      <td>0.00</td>\n",
       "    </tr>\n",
       "    <tr>\n",
       "      <th>1</th>\n",
       "      <td>100206310</td>\n",
       "      <td>1012284084</td>\n",
       "      <td>10</td>\n",
       "      <td>-427</td>\n",
       "      <td>10</td>\n",
       "      <td>320</td>\n",
       "      <td>320</td>\n",
       "      <td>3.5</td>\n",
       "      <td>3.5</td>\n",
       "      <td>HFS</td>\n",
       "      <td>...</td>\n",
       "      <td>100206310_1012284084</td>\n",
       "      <td>100206310_1012284084_10</td>\n",
       "      <td>E:\\data\\RSNA2024\\pngs_256\\100206310_1012284084...</td>\n",
       "      <td>Axial T2</td>\n",
       "      <td>H</td>\n",
       "      <td>H</td>\n",
       "      <td>1</td>\n",
       "      <td>60</td>\n",
       "      <td>9</td>\n",
       "      <td>0.15</td>\n",
       "    </tr>\n",
       "  </tbody>\n",
       "</table>\n",
       "<p>2 rows × 21 columns</p>\n",
       "</div>"
      ],
      "text/plain": [
       "    study_id   series_id  image  proj  instancenumber  rows  columns  \\\n",
       "0  100206310  1012284084      1  -394               1   320      320   \n",
       "1  100206310  1012284084     10  -427              10   320      320   \n",
       "\n",
       "   slicethickness  spacingbetweenslices patientposition  ...  \\\n",
       "0             3.5                   3.5             HFS  ...   \n",
       "1             3.5                   3.5             HFS  ...   \n",
       "\n",
       "                  ss_id              instance_id  \\\n",
       "0  100206310_1012284084   100206310_1012284084_1   \n",
       "1  100206310_1012284084  100206310_1012284084_10   \n",
       "\n",
       "                                            filename series_description cl  \\\n",
       "0  E:\\data\\RSNA2024\\pngs_256\\100206310_1012284084...           Axial T2  H   \n",
       "1  E:\\data\\RSNA2024\\pngs_256\\100206310_1012284084...           Axial T2  H   \n",
       "\n",
       "  condition inst_min  inst_max  inst  inst_perc  \n",
       "0         H        1        60     0       0.00  \n",
       "1         H        1        60     9       0.15  \n",
       "\n",
       "[2 rows x 21 columns]"
      ]
     },
     "execution_count": 61,
     "metadata": {},
     "output_type": "execute_result"
    }
   ],
   "source": [
    "files_df['inst_min'] = files_df.groupby('ss_id')['instancenumber'].transform('min')\n",
    "files_df['inst_max'] = files_df.groupby('ss_id')['instancenumber'].transform('max')\n",
    "\n",
    "files_df['inst'] = files_df['instancenumber'] - files_df['inst_min']\n",
    "files_df['inst_perc'] = files_df['inst'] / files_df['inst_max']\n",
    "\n",
    "files_df.head(2)"
   ]
  },
  {
   "cell_type": "code",
   "execution_count": 66,
   "id": "be4a1182-5997-4a81-b97c-71f918d2a69a",
   "metadata": {},
   "outputs": [
    {
     "data": {
      "text/html": [
       "<div>\n",
       "<style scoped>\n",
       "    .dataframe tbody tr th:only-of-type {\n",
       "        vertical-align: middle;\n",
       "    }\n",
       "\n",
       "    .dataframe tbody tr th {\n",
       "        vertical-align: top;\n",
       "    }\n",
       "\n",
       "    .dataframe thead th {\n",
       "        text-align: right;\n",
       "    }\n",
       "</style>\n",
       "<table border=\"1\" class=\"dataframe\">\n",
       "  <thead>\n",
       "    <tr style=\"text-align: right;\">\n",
       "      <th></th>\n",
       "      <th>study_id</th>\n",
       "      <th>series_id</th>\n",
       "      <th>instance</th>\n",
       "      <th>condition</th>\n",
       "      <th>level</th>\n",
       "      <th>x</th>\n",
       "      <th>y</th>\n",
       "      <th>ss_id</th>\n",
       "      <th>instance_id</th>\n",
       "      <th>cl</th>\n",
       "      <th>series_description</th>\n",
       "      <th>rows</th>\n",
       "      <th>columns</th>\n",
       "      <th>filename</th>\n",
       "      <th>patientposition</th>\n",
       "      <th>x_perc</th>\n",
       "      <th>y_perc</th>\n",
       "      <th>inst_perc</th>\n",
       "    </tr>\n",
       "  </thead>\n",
       "  <tbody>\n",
       "    <tr>\n",
       "      <th>21850</th>\n",
       "      <td>1972129014</td>\n",
       "      <td>3203550406</td>\n",
       "      <td>5</td>\n",
       "      <td>RNFN</td>\n",
       "      <td>L4L5</td>\n",
       "      <td>120.689564</td>\n",
       "      <td>156.237781</td>\n",
       "      <td>1972129014_3203550406</td>\n",
       "      <td>1972129014_3203550406_5</td>\n",
       "      <td>RNFNL4L5</td>\n",
       "      <td>Sagittal T1</td>\n",
       "      <td>256</td>\n",
       "      <td>256</td>\n",
       "      <td>E:\\data\\RSNA2024\\pngs_256\\1972129014_320355040...</td>\n",
       "      <td>HFS</td>\n",
       "      <td>0.471444</td>\n",
       "      <td>0.610304</td>\n",
       "      <td>0.222222</td>\n",
       "    </tr>\n",
       "    <tr>\n",
       "      <th>42428</th>\n",
       "      <td>3736664503</td>\n",
       "      <td>91239887</td>\n",
       "      <td>10</td>\n",
       "      <td>SCS</td>\n",
       "      <td>L3L4</td>\n",
       "      <td>243.961538</td>\n",
       "      <td>241.934066</td>\n",
       "      <td>3736664503_91239887</td>\n",
       "      <td>3736664503_91239887_10</td>\n",
       "      <td>SCSL3L4</td>\n",
       "      <td>Sagittal T2/STIR</td>\n",
       "      <td>448</td>\n",
       "      <td>448</td>\n",
       "      <td>E:\\data\\RSNA2024\\pngs_256\\3736664503_91239887_...</td>\n",
       "      <td>HFS</td>\n",
       "      <td>0.544557</td>\n",
       "      <td>0.540031</td>\n",
       "      <td>0.500000</td>\n",
       "    </tr>\n",
       "  </tbody>\n",
       "</table>\n",
       "</div>"
      ],
      "text/plain": [
       "         study_id   series_id  instance condition level           x  \\\n",
       "21850  1972129014  3203550406         5      RNFN  L4L5  120.689564   \n",
       "42428  3736664503    91239887        10       SCS  L3L4  243.961538   \n",
       "\n",
       "                y                  ss_id              instance_id        cl  \\\n",
       "21850  156.237781  1972129014_3203550406  1972129014_3203550406_5  RNFNL4L5   \n",
       "42428  241.934066    3736664503_91239887   3736664503_91239887_10   SCSL3L4   \n",
       "\n",
       "      series_description  rows  columns  \\\n",
       "21850        Sagittal T1   256      256   \n",
       "42428   Sagittal T2/STIR   448      448   \n",
       "\n",
       "                                                filename patientposition  \\\n",
       "21850  E:\\data\\RSNA2024\\pngs_256\\1972129014_320355040...             HFS   \n",
       "42428  E:\\data\\RSNA2024\\pngs_256\\3736664503_91239887_...             HFS   \n",
       "\n",
       "         x_perc    y_perc  inst_perc  \n",
       "21850  0.471444  0.610304   0.222222  \n",
       "42428  0.544557  0.540031   0.500000  "
      ]
     },
     "execution_count": 66,
     "metadata": {},
     "output_type": "execute_result"
    }
   ],
   "source": [
    "coords_df = pd.merge(coords_df, files_df[['instance_id','inst_perc']], left_on='instance_id', right_on='instance_id')\n",
    "\n",
    "coords_df.sample(2)"
   ]
  },
  {
   "cell_type": "code",
   "execution_count": null,
   "id": "ebd36ac5-293b-4700-9014-71bdbcb6a760",
   "metadata": {},
   "outputs": [],
   "source": []
  },
  {
   "cell_type": "code",
   "execution_count": null,
   "id": "ba2fcae1-55e5-46c9-bacc-89cebf775747",
   "metadata": {},
   "outputs": [],
   "source": []
  },
  {
   "cell_type": "markdown",
   "id": "d2c3bacf-9e1e-439e-ad1a-8e7ebc2f538a",
   "metadata": {},
   "source": [
    "### Save results"
   ]
  },
  {
   "cell_type": "code",
   "execution_count": 67,
   "id": "23150446-04b1-4c7d-a440-df023735ea3c",
   "metadata": {},
   "outputs": [],
   "source": [
    "train_df.to_csv(CFG.DEST_FOLDER / 'train.csv', index=False)"
   ]
  },
  {
   "cell_type": "code",
   "execution_count": 68,
   "id": "bc960a50-34f0-4c26-9c60-0336a8a71977",
   "metadata": {},
   "outputs": [],
   "source": [
    "coords_df.to_csv(CFG.DEST_FOLDER / 'train_label_coordinates.csv', index=False)"
   ]
  },
  {
   "cell_type": "code",
   "execution_count": 69,
   "id": "b66d6904-6d02-4de7-9b68-a1b5a577be5c",
   "metadata": {},
   "outputs": [],
   "source": [
    "files_df.to_csv(CFG.DEST_FOLDER / 'train_files.csv', index=False)"
   ]
  },
  {
   "cell_type": "code",
   "execution_count": null,
   "id": "24f6c5e7-8761-4d7e-8db9-f94ee089d41c",
   "metadata": {},
   "outputs": [],
   "source": []
  }
 ],
 "metadata": {
  "kernelspec": {
   "display_name": "Python 3 (ipykernel)",
   "language": "python",
   "name": "python3"
  },
  "language_info": {
   "codemirror_mode": {
    "name": "ipython",
    "version": 3
   },
   "file_extension": ".py",
   "mimetype": "text/x-python",
   "name": "python",
   "nbconvert_exporter": "python",
   "pygments_lexer": "ipython3",
   "version": "3.10.14"
  }
 },
 "nbformat": 4,
 "nbformat_minor": 5
}
