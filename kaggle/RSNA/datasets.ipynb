{
 "cells": [
  {
   "cell_type": "code",
   "execution_count": 1,
   "id": "6b2a815c-2a6f-4ebf-92bf-8333b5b9144a",
   "metadata": {},
   "outputs": [],
   "source": [
    "%load_ext autoreload\n",
    "%autoreload 2"
   ]
  },
  {
   "cell_type": "code",
   "execution_count": 2,
   "id": "c73e4b1e-69d1-49af-85e3-591418aac8d8",
   "metadata": {},
   "outputs": [],
   "source": [
    "import numpy as np \n",
    "import pandas as pd\n",
    "\n",
    "from pathlib import Path"
   ]
  },
  {
   "cell_type": "code",
   "execution_count": 3,
   "id": "fd643bac-8d82-4a92-97d9-5d5586ee2cfb",
   "metadata": {},
   "outputs": [],
   "source": [
    "train_dir = Path('E:\\data\\RSNA2024')"
   ]
  },
  {
   "cell_type": "code",
   "execution_count": 4,
   "id": "db816614-20d7-4064-a271-1b98f9e32686",
   "metadata": {},
   "outputs": [],
   "source": [
    "class CFG:\n",
    "    random_seed = 42\n",
    "\n",
    "    image_size = 256\n",
    "    \n",
    "    ROOT_FOLDER = train_dir / 'original'\n",
    "    DEST_FOLDER = train_dir\n",
    "    PNG_DIR = DEST_FOLDER / f'pngs_{image_size}'\n",
    "    IMAGES_DIR = ROOT_FOLDER / 'train_images'\n",
    "    TRAIN_CSV = ROOT_FOLDER / 'train.csv'\n",
    "    FILES_CSV = ROOT_FOLDER / 'train_files.csv'\n",
    "    TRAIN_DESC_CSV = ROOT_FOLDER / 'train_series_descriptions.csv'\n",
    "    COORDS_CSV = ROOT_FOLDER / 'train_label_coordinates.csv'"
   ]
  },
  {
   "cell_type": "markdown",
   "id": "c267b198-b8b4-4386-a9bf-2319c9f0f315",
   "metadata": {},
   "source": [
    "### Train_df"
   ]
  },
  {
   "cell_type": "code",
   "execution_count": 5,
   "id": "26087c78-6355-42fa-86ac-a2189756023a",
   "metadata": {},
   "outputs": [
    {
     "data": {
      "text/plain": [
       "((1975, 26), (6294, 3))"
      ]
     },
     "execution_count": 5,
     "metadata": {},
     "output_type": "execute_result"
    }
   ],
   "source": [
    "train_df = pd.read_csv(CFG.TRAIN_CSV)\n",
    "train_desc_df = pd.read_csv(CFG.TRAIN_DESC_CSV)\n",
    "\n",
    "train_df.shape, train_desc_df.shape"
   ]
  },
  {
   "cell_type": "code",
   "execution_count": 6,
   "id": "b443601f-1ace-4924-ac69-5c4f42fcc522",
   "metadata": {},
   "outputs": [],
   "source": [
    "train_desc_df['ss_id'] = train_desc_df.apply(lambda row: f'{str(row[\"study_id\"])}_{str(row[\"series_id\"])}', axis=1)"
   ]
  },
  {
   "cell_type": "code",
   "execution_count": 7,
   "id": "fd06eb0e-7155-49f7-9f3f-6b22724aa457",
   "metadata": {},
   "outputs": [
    {
     "data": {
      "text/html": [
       "<div>\n",
       "<style scoped>\n",
       "    .dataframe tbody tr th:only-of-type {\n",
       "        vertical-align: middle;\n",
       "    }\n",
       "\n",
       "    .dataframe tbody tr th {\n",
       "        vertical-align: top;\n",
       "    }\n",
       "\n",
       "    .dataframe thead th {\n",
       "        text-align: right;\n",
       "    }\n",
       "</style>\n",
       "<table border=\"1\" class=\"dataframe\">\n",
       "  <thead>\n",
       "    <tr style=\"text-align: right;\">\n",
       "      <th></th>\n",
       "      <th>study_id</th>\n",
       "      <th>spinal_canal_stenosis_l1_l2</th>\n",
       "      <th>spinal_canal_stenosis_l2_l3</th>\n",
       "      <th>spinal_canal_stenosis_l3_l4</th>\n",
       "      <th>spinal_canal_stenosis_l4_l5</th>\n",
       "      <th>spinal_canal_stenosis_l5_s1</th>\n",
       "      <th>left_neural_foraminal_narrowing_l1_l2</th>\n",
       "      <th>left_neural_foraminal_narrowing_l2_l3</th>\n",
       "      <th>left_neural_foraminal_narrowing_l3_l4</th>\n",
       "      <th>left_neural_foraminal_narrowing_l4_l5</th>\n",
       "      <th>...</th>\n",
       "      <th>left_subarticular_stenosis_l1_l2</th>\n",
       "      <th>left_subarticular_stenosis_l2_l3</th>\n",
       "      <th>left_subarticular_stenosis_l3_l4</th>\n",
       "      <th>left_subarticular_stenosis_l4_l5</th>\n",
       "      <th>left_subarticular_stenosis_l5_s1</th>\n",
       "      <th>right_subarticular_stenosis_l1_l2</th>\n",
       "      <th>right_subarticular_stenosis_l2_l3</th>\n",
       "      <th>right_subarticular_stenosis_l3_l4</th>\n",
       "      <th>right_subarticular_stenosis_l4_l5</th>\n",
       "      <th>right_subarticular_stenosis_l5_s1</th>\n",
       "    </tr>\n",
       "  </thead>\n",
       "  <tbody>\n",
       "    <tr>\n",
       "      <th>0</th>\n",
       "      <td>4003253</td>\n",
       "      <td>Normal/Mild</td>\n",
       "      <td>Normal/Mild</td>\n",
       "      <td>Normal/Mild</td>\n",
       "      <td>Normal/Mild</td>\n",
       "      <td>Normal/Mild</td>\n",
       "      <td>Normal/Mild</td>\n",
       "      <td>Normal/Mild</td>\n",
       "      <td>Normal/Mild</td>\n",
       "      <td>Moderate</td>\n",
       "      <td>...</td>\n",
       "      <td>Normal/Mild</td>\n",
       "      <td>Normal/Mild</td>\n",
       "      <td>Normal/Mild</td>\n",
       "      <td>Moderate</td>\n",
       "      <td>Normal/Mild</td>\n",
       "      <td>Normal/Mild</td>\n",
       "      <td>Normal/Mild</td>\n",
       "      <td>Normal/Mild</td>\n",
       "      <td>Normal/Mild</td>\n",
       "      <td>Normal/Mild</td>\n",
       "    </tr>\n",
       "    <tr>\n",
       "      <th>1</th>\n",
       "      <td>4646740</td>\n",
       "      <td>Normal/Mild</td>\n",
       "      <td>Normal/Mild</td>\n",
       "      <td>Moderate</td>\n",
       "      <td>Severe</td>\n",
       "      <td>Normal/Mild</td>\n",
       "      <td>Normal/Mild</td>\n",
       "      <td>Normal/Mild</td>\n",
       "      <td>Normal/Mild</td>\n",
       "      <td>Moderate</td>\n",
       "      <td>...</td>\n",
       "      <td>Normal/Mild</td>\n",
       "      <td>Normal/Mild</td>\n",
       "      <td>Normal/Mild</td>\n",
       "      <td>Severe</td>\n",
       "      <td>Normal/Mild</td>\n",
       "      <td>Normal/Mild</td>\n",
       "      <td>Moderate</td>\n",
       "      <td>Moderate</td>\n",
       "      <td>Moderate</td>\n",
       "      <td>Normal/Mild</td>\n",
       "    </tr>\n",
       "    <tr>\n",
       "      <th>2</th>\n",
       "      <td>7143189</td>\n",
       "      <td>Normal/Mild</td>\n",
       "      <td>Normal/Mild</td>\n",
       "      <td>Normal/Mild</td>\n",
       "      <td>Normal/Mild</td>\n",
       "      <td>Normal/Mild</td>\n",
       "      <td>Normal/Mild</td>\n",
       "      <td>Normal/Mild</td>\n",
       "      <td>Normal/Mild</td>\n",
       "      <td>Normal/Mild</td>\n",
       "      <td>...</td>\n",
       "      <td>Normal/Mild</td>\n",
       "      <td>Normal/Mild</td>\n",
       "      <td>Normal/Mild</td>\n",
       "      <td>Normal/Mild</td>\n",
       "      <td>Normal/Mild</td>\n",
       "      <td>Normal/Mild</td>\n",
       "      <td>Normal/Mild</td>\n",
       "      <td>Normal/Mild</td>\n",
       "      <td>Normal/Mild</td>\n",
       "      <td>Normal/Mild</td>\n",
       "    </tr>\n",
       "    <tr>\n",
       "      <th>3</th>\n",
       "      <td>8785691</td>\n",
       "      <td>Normal/Mild</td>\n",
       "      <td>Normal/Mild</td>\n",
       "      <td>Normal/Mild</td>\n",
       "      <td>Normal/Mild</td>\n",
       "      <td>Normal/Mild</td>\n",
       "      <td>Normal/Mild</td>\n",
       "      <td>Normal/Mild</td>\n",
       "      <td>Normal/Mild</td>\n",
       "      <td>Moderate</td>\n",
       "      <td>...</td>\n",
       "      <td>Normal/Mild</td>\n",
       "      <td>Normal/Mild</td>\n",
       "      <td>Normal/Mild</td>\n",
       "      <td>Normal/Mild</td>\n",
       "      <td>Normal/Mild</td>\n",
       "      <td>Normal/Mild</td>\n",
       "      <td>Normal/Mild</td>\n",
       "      <td>Normal/Mild</td>\n",
       "      <td>Normal/Mild</td>\n",
       "      <td>Normal/Mild</td>\n",
       "    </tr>\n",
       "    <tr>\n",
       "      <th>4</th>\n",
       "      <td>10728036</td>\n",
       "      <td>Normal/Mild</td>\n",
       "      <td>Normal/Mild</td>\n",
       "      <td>Normal/Mild</td>\n",
       "      <td>Normal/Mild</td>\n",
       "      <td>Normal/Mild</td>\n",
       "      <td>Normal/Mild</td>\n",
       "      <td>Normal/Mild</td>\n",
       "      <td>Normal/Mild</td>\n",
       "      <td>Normal/Mild</td>\n",
       "      <td>...</td>\n",
       "      <td>Normal/Mild</td>\n",
       "      <td>Normal/Mild</td>\n",
       "      <td>Normal/Mild</td>\n",
       "      <td>Normal/Mild</td>\n",
       "      <td>Normal/Mild</td>\n",
       "      <td>Normal/Mild</td>\n",
       "      <td>Normal/Mild</td>\n",
       "      <td>Normal/Mild</td>\n",
       "      <td>Moderate</td>\n",
       "      <td>Normal/Mild</td>\n",
       "    </tr>\n",
       "  </tbody>\n",
       "</table>\n",
       "<p>5 rows × 26 columns</p>\n",
       "</div>"
      ],
      "text/plain": [
       "   study_id spinal_canal_stenosis_l1_l2 spinal_canal_stenosis_l2_l3  \\\n",
       "0   4003253                 Normal/Mild                 Normal/Mild   \n",
       "1   4646740                 Normal/Mild                 Normal/Mild   \n",
       "2   7143189                 Normal/Mild                 Normal/Mild   \n",
       "3   8785691                 Normal/Mild                 Normal/Mild   \n",
       "4  10728036                 Normal/Mild                 Normal/Mild   \n",
       "\n",
       "  spinal_canal_stenosis_l3_l4 spinal_canal_stenosis_l4_l5  \\\n",
       "0                 Normal/Mild                 Normal/Mild   \n",
       "1                    Moderate                      Severe   \n",
       "2                 Normal/Mild                 Normal/Mild   \n",
       "3                 Normal/Mild                 Normal/Mild   \n",
       "4                 Normal/Mild                 Normal/Mild   \n",
       "\n",
       "  spinal_canal_stenosis_l5_s1 left_neural_foraminal_narrowing_l1_l2  \\\n",
       "0                 Normal/Mild                           Normal/Mild   \n",
       "1                 Normal/Mild                           Normal/Mild   \n",
       "2                 Normal/Mild                           Normal/Mild   \n",
       "3                 Normal/Mild                           Normal/Mild   \n",
       "4                 Normal/Mild                           Normal/Mild   \n",
       "\n",
       "  left_neural_foraminal_narrowing_l2_l3 left_neural_foraminal_narrowing_l3_l4  \\\n",
       "0                           Normal/Mild                           Normal/Mild   \n",
       "1                           Normal/Mild                           Normal/Mild   \n",
       "2                           Normal/Mild                           Normal/Mild   \n",
       "3                           Normal/Mild                           Normal/Mild   \n",
       "4                           Normal/Mild                           Normal/Mild   \n",
       "\n",
       "  left_neural_foraminal_narrowing_l4_l5  ... left_subarticular_stenosis_l1_l2  \\\n",
       "0                              Moderate  ...                      Normal/Mild   \n",
       "1                              Moderate  ...                      Normal/Mild   \n",
       "2                           Normal/Mild  ...                      Normal/Mild   \n",
       "3                              Moderate  ...                      Normal/Mild   \n",
       "4                           Normal/Mild  ...                      Normal/Mild   \n",
       "\n",
       "  left_subarticular_stenosis_l2_l3 left_subarticular_stenosis_l3_l4  \\\n",
       "0                      Normal/Mild                      Normal/Mild   \n",
       "1                      Normal/Mild                      Normal/Mild   \n",
       "2                      Normal/Mild                      Normal/Mild   \n",
       "3                      Normal/Mild                      Normal/Mild   \n",
       "4                      Normal/Mild                      Normal/Mild   \n",
       "\n",
       "  left_subarticular_stenosis_l4_l5 left_subarticular_stenosis_l5_s1  \\\n",
       "0                         Moderate                      Normal/Mild   \n",
       "1                           Severe                      Normal/Mild   \n",
       "2                      Normal/Mild                      Normal/Mild   \n",
       "3                      Normal/Mild                      Normal/Mild   \n",
       "4                      Normal/Mild                      Normal/Mild   \n",
       "\n",
       "  right_subarticular_stenosis_l1_l2 right_subarticular_stenosis_l2_l3  \\\n",
       "0                       Normal/Mild                       Normal/Mild   \n",
       "1                       Normal/Mild                          Moderate   \n",
       "2                       Normal/Mild                       Normal/Mild   \n",
       "3                       Normal/Mild                       Normal/Mild   \n",
       "4                       Normal/Mild                       Normal/Mild   \n",
       "\n",
       "  right_subarticular_stenosis_l3_l4 right_subarticular_stenosis_l4_l5  \\\n",
       "0                       Normal/Mild                       Normal/Mild   \n",
       "1                          Moderate                          Moderate   \n",
       "2                       Normal/Mild                       Normal/Mild   \n",
       "3                       Normal/Mild                       Normal/Mild   \n",
       "4                       Normal/Mild                          Moderate   \n",
       "\n",
       "  right_subarticular_stenosis_l5_s1  \n",
       "0                       Normal/Mild  \n",
       "1                       Normal/Mild  \n",
       "2                       Normal/Mild  \n",
       "3                       Normal/Mild  \n",
       "4                       Normal/Mild  \n",
       "\n",
       "[5 rows x 26 columns]"
      ]
     },
     "execution_count": 7,
     "metadata": {},
     "output_type": "execute_result"
    }
   ],
   "source": [
    "train_df.head()"
   ]
  },
  {
   "cell_type": "code",
   "execution_count": 8,
   "id": "9bf25e1b-864f-4fbc-854b-b30781f059cf",
   "metadata": {},
   "outputs": [
    {
     "data": {
      "text/plain": [
       "572"
      ]
     },
     "execution_count": 8,
     "metadata": {},
     "output_type": "execute_result"
    }
   ],
   "source": [
    "train_df.isna().sum(axis=1).sum()"
   ]
  },
  {
   "cell_type": "code",
   "execution_count": 9,
   "id": "36b5f0f5-1790-423f-b7ca-6a335e355585",
   "metadata": {},
   "outputs": [
    {
     "data": {
      "text/plain": [
       "['study_id', 'SCSL1L2', 'SCSL2L3', 'SCSL3L4', 'SCSL4L5']"
      ]
     },
     "execution_count": 9,
     "metadata": {},
     "output_type": "execute_result"
    }
   ],
   "source": [
    "cols = train_df.columns[1:]\n",
    "# first = [c.split('_')[:-2] for c in cols]\n",
    "# last = [c.split('_')[-2:] for c in cols]\n",
    "\n",
    "cols = [c.split('_') for c in cols]\n",
    "cols = [''.join([i[0] if len(i) > 2 else i for i in c]).upper() for c in cols]\n",
    "\n",
    "cols = ['study_id'] + cols\n",
    "\n",
    "cols[:5]"
   ]
  },
  {
   "cell_type": "code",
   "execution_count": 10,
   "id": "a89b5ef9-8c90-4a87-9dbc-66f8eca9c1f6",
   "metadata": {},
   "outputs": [
    {
     "data": {
      "text/plain": [
       "{'study_id': 'study_id',\n",
       " 'spinal_canal_stenosis_l1_l2': 'SCSL1L2',\n",
       " 'spinal_canal_stenosis_l2_l3': 'SCSL2L3',\n",
       " 'spinal_canal_stenosis_l3_l4': 'SCSL3L4',\n",
       " 'spinal_canal_stenosis_l4_l5': 'SCSL4L5',\n",
       " 'spinal_canal_stenosis_l5_s1': 'SCSL5S1',\n",
       " 'left_neural_foraminal_narrowing_l1_l2': 'LNFNL1L2',\n",
       " 'left_neural_foraminal_narrowing_l2_l3': 'LNFNL2L3',\n",
       " 'left_neural_foraminal_narrowing_l3_l4': 'LNFNL3L4',\n",
       " 'left_neural_foraminal_narrowing_l4_l5': 'LNFNL4L5',\n",
       " 'left_neural_foraminal_narrowing_l5_s1': 'LNFNL5S1',\n",
       " 'right_neural_foraminal_narrowing_l1_l2': 'RNFNL1L2',\n",
       " 'right_neural_foraminal_narrowing_l2_l3': 'RNFNL2L3',\n",
       " 'right_neural_foraminal_narrowing_l3_l4': 'RNFNL3L4',\n",
       " 'right_neural_foraminal_narrowing_l4_l5': 'RNFNL4L5',\n",
       " 'right_neural_foraminal_narrowing_l5_s1': 'RNFNL5S1',\n",
       " 'left_subarticular_stenosis_l1_l2': 'LSSL1L2',\n",
       " 'left_subarticular_stenosis_l2_l3': 'LSSL2L3',\n",
       " 'left_subarticular_stenosis_l3_l4': 'LSSL3L4',\n",
       " 'left_subarticular_stenosis_l4_l5': 'LSSL4L5',\n",
       " 'left_subarticular_stenosis_l5_s1': 'LSSL5S1',\n",
       " 'right_subarticular_stenosis_l1_l2': 'RSSL1L2',\n",
       " 'right_subarticular_stenosis_l2_l3': 'RSSL2L3',\n",
       " 'right_subarticular_stenosis_l3_l4': 'RSSL3L4',\n",
       " 'right_subarticular_stenosis_l4_l5': 'RSSL4L5',\n",
       " 'right_subarticular_stenosis_l5_s1': 'RSSL5S1'}"
      ]
     },
     "execution_count": 10,
     "metadata": {},
     "output_type": "execute_result"
    }
   ],
   "source": [
    "dict(zip(train_df.columns, cols))"
   ]
  },
  {
   "cell_type": "code",
   "execution_count": 11,
   "id": "9ccdad27-1d50-494f-851f-9ab2e24a9261",
   "metadata": {},
   "outputs": [
    {
     "data": {
      "text/plain": [
       "(1975, 26)"
      ]
     },
     "execution_count": 11,
     "metadata": {},
     "output_type": "execute_result"
    }
   ],
   "source": [
    "train_df.rename(columns=dict(zip(train_df.columns, cols)), inplace=True)\n",
    "train_df.shape"
   ]
  },
  {
   "cell_type": "code",
   "execution_count": 12,
   "id": "3e3f14e0-abf1-4023-913b-f600f94d61ee",
   "metadata": {},
   "outputs": [
    {
     "data": {
      "text/plain": [
       "study_id        4003253\n",
       "SCSL1L2     Normal/Mild\n",
       "SCSL2L3     Normal/Mild\n",
       "SCSL3L4     Normal/Mild\n",
       "SCSL4L5     Normal/Mild\n",
       "SCSL5S1     Normal/Mild\n",
       "LNFNL1L2    Normal/Mild\n",
       "LNFNL2L3    Normal/Mild\n",
       "LNFNL3L4    Normal/Mild\n",
       "LNFNL4L5       Moderate\n",
       "LNFNL5S1    Normal/Mild\n",
       "RNFNL1L2    Normal/Mild\n",
       "RNFNL2L3    Normal/Mild\n",
       "RNFNL3L4       Moderate\n",
       "RNFNL4L5       Moderate\n",
       "RNFNL5S1    Normal/Mild\n",
       "LSSL1L2     Normal/Mild\n",
       "LSSL2L3     Normal/Mild\n",
       "LSSL3L4     Normal/Mild\n",
       "LSSL4L5        Moderate\n",
       "LSSL5S1     Normal/Mild\n",
       "RSSL1L2     Normal/Mild\n",
       "RSSL2L3     Normal/Mild\n",
       "RSSL3L4     Normal/Mild\n",
       "RSSL4L5     Normal/Mild\n",
       "RSSL5S1     Normal/Mild\n",
       "Name: 0, dtype: object"
      ]
     },
     "execution_count": 12,
     "metadata": {},
     "output_type": "execute_result"
    }
   ],
   "source": [
    "train_df.iloc[0]"
   ]
  },
  {
   "cell_type": "code",
   "execution_count": 13,
   "id": "693453d8-d032-4721-814a-9790e163f700",
   "metadata": {},
   "outputs": [
    {
     "data": {
      "text/plain": [
       "1975"
      ]
     },
     "execution_count": 13,
     "metadata": {},
     "output_type": "execute_result"
    }
   ],
   "source": [
    "train_df.study_id.nunique()"
   ]
  },
  {
   "cell_type": "code",
   "execution_count": 14,
   "id": "b09da4ba-538c-4325-b18b-4a51fc4bd22b",
   "metadata": {},
   "outputs": [
    {
     "data": {
      "text/plain": [
       "{'Normal/Mild': 'N', 'Moderate': 'M', 'Severe': 'S'}"
      ]
     },
     "execution_count": 14,
     "metadata": {},
     "output_type": "execute_result"
    }
   ],
   "source": [
    "vals = {'Normal/Mild': 'N', 'Moderate': 'M', 'Severe': 'S'}\n",
    "vals"
   ]
  },
  {
   "cell_type": "code",
   "execution_count": 15,
   "id": "16bb69ef-e301-4bb5-8a2c-b5ac278c208f",
   "metadata": {},
   "outputs": [],
   "source": [
    "train_df[cols[1:]] = train_df[cols[1:]].replace(vals)"
   ]
  },
  {
   "cell_type": "code",
   "execution_count": 16,
   "id": "e8dff196-c660-4d2c-8d18-f9a5f459435d",
   "metadata": {},
   "outputs": [
    {
     "data": {
      "text/html": [
       "<div>\n",
       "<style scoped>\n",
       "    .dataframe tbody tr th:only-of-type {\n",
       "        vertical-align: middle;\n",
       "    }\n",
       "\n",
       "    .dataframe tbody tr th {\n",
       "        vertical-align: top;\n",
       "    }\n",
       "\n",
       "    .dataframe thead th {\n",
       "        text-align: right;\n",
       "    }\n",
       "</style>\n",
       "<table border=\"1\" class=\"dataframe\">\n",
       "  <thead>\n",
       "    <tr style=\"text-align: right;\">\n",
       "      <th></th>\n",
       "      <th>study_id</th>\n",
       "      <th>SCSL1L2</th>\n",
       "      <th>SCSL2L3</th>\n",
       "      <th>SCSL3L4</th>\n",
       "      <th>SCSL4L5</th>\n",
       "      <th>SCSL5S1</th>\n",
       "      <th>LNFNL1L2</th>\n",
       "      <th>LNFNL2L3</th>\n",
       "      <th>LNFNL3L4</th>\n",
       "      <th>LNFNL4L5</th>\n",
       "      <th>...</th>\n",
       "      <th>LSSL1L2</th>\n",
       "      <th>LSSL2L3</th>\n",
       "      <th>LSSL3L4</th>\n",
       "      <th>LSSL4L5</th>\n",
       "      <th>LSSL5S1</th>\n",
       "      <th>RSSL1L2</th>\n",
       "      <th>RSSL2L3</th>\n",
       "      <th>RSSL3L4</th>\n",
       "      <th>RSSL4L5</th>\n",
       "      <th>RSSL5S1</th>\n",
       "    </tr>\n",
       "  </thead>\n",
       "  <tbody>\n",
       "    <tr>\n",
       "      <th>1247</th>\n",
       "      <td>2734689910</td>\n",
       "      <td>N</td>\n",
       "      <td>N</td>\n",
       "      <td>N</td>\n",
       "      <td>N</td>\n",
       "      <td>N</td>\n",
       "      <td>N</td>\n",
       "      <td>N</td>\n",
       "      <td>N</td>\n",
       "      <td>N</td>\n",
       "      <td>...</td>\n",
       "      <td>N</td>\n",
       "      <td>N</td>\n",
       "      <td>N</td>\n",
       "      <td>N</td>\n",
       "      <td>N</td>\n",
       "      <td>N</td>\n",
       "      <td>N</td>\n",
       "      <td>N</td>\n",
       "      <td>N</td>\n",
       "      <td>N</td>\n",
       "    </tr>\n",
       "    <tr>\n",
       "      <th>978</th>\n",
       "      <td>2178420447</td>\n",
       "      <td>N</td>\n",
       "      <td>N</td>\n",
       "      <td>N</td>\n",
       "      <td>N</td>\n",
       "      <td>N</td>\n",
       "      <td>N</td>\n",
       "      <td>N</td>\n",
       "      <td>N</td>\n",
       "      <td>N</td>\n",
       "      <td>...</td>\n",
       "      <td>N</td>\n",
       "      <td>N</td>\n",
       "      <td>N</td>\n",
       "      <td>N</td>\n",
       "      <td>N</td>\n",
       "      <td>N</td>\n",
       "      <td>N</td>\n",
       "      <td>M</td>\n",
       "      <td>M</td>\n",
       "      <td>N</td>\n",
       "    </tr>\n",
       "  </tbody>\n",
       "</table>\n",
       "<p>2 rows × 26 columns</p>\n",
       "</div>"
      ],
      "text/plain": [
       "        study_id SCSL1L2 SCSL2L3 SCSL3L4 SCSL4L5 SCSL5S1 LNFNL1L2 LNFNL2L3  \\\n",
       "1247  2734689910       N       N       N       N       N        N        N   \n",
       "978   2178420447       N       N       N       N       N        N        N   \n",
       "\n",
       "     LNFNL3L4 LNFNL4L5  ... LSSL1L2 LSSL2L3 LSSL3L4 LSSL4L5 LSSL5S1 RSSL1L2  \\\n",
       "1247        N        N  ...       N       N       N       N       N       N   \n",
       "978         N        N  ...       N       N       N       N       N       N   \n",
       "\n",
       "     RSSL2L3 RSSL3L4 RSSL4L5 RSSL5S1  \n",
       "1247       N       N       N       N  \n",
       "978        N       M       M       N  \n",
       "\n",
       "[2 rows x 26 columns]"
      ]
     },
     "execution_count": 16,
     "metadata": {},
     "output_type": "execute_result"
    }
   ],
   "source": [
    "train_df.sample(2)"
   ]
  },
  {
   "cell_type": "markdown",
   "id": "3b7a96f1-631b-4cab-a0f3-e86a1e791c95",
   "metadata": {},
   "source": [
    "### Coordinates_df"
   ]
  },
  {
   "cell_type": "code",
   "execution_count": 17,
   "id": "caf88225-2aea-4e23-b6ff-e91c0b8e842d",
   "metadata": {},
   "outputs": [
    {
     "data": {
      "text/plain": [
       "((48692, 7), (147218, 11))"
      ]
     },
     "execution_count": 17,
     "metadata": {},
     "output_type": "execute_result"
    }
   ],
   "source": [
    "coords_df = pd.read_csv(CFG.COORDS_CSV)\n",
    "files_df = pd.read_csv(CFG.FILES_CSV)\n",
    "\n",
    "coords_df.shape, files_df.shape"
   ]
  },
  {
   "cell_type": "code",
   "execution_count": 18,
   "id": "0a0be7b5-f17b-4adb-9870-227ac12215ef",
   "metadata": {},
   "outputs": [],
   "source": [
    "coords_df.rename(columns={'instance_number': 'instance'}, inplace=True)"
   ]
  },
  {
   "cell_type": "code",
   "execution_count": 19,
   "id": "65b8de8e-f0da-46cc-9316-ec134b67751a",
   "metadata": {},
   "outputs": [
    {
     "data": {
      "text/plain": [
       "(1974, 5, 5)"
      ]
     },
     "execution_count": 19,
     "metadata": {},
     "output_type": "execute_result"
    }
   ],
   "source": [
    "coords_df.study_id.nunique(), coords_df.condition.nunique(), coords_df.level.nunique()"
   ]
  },
  {
   "cell_type": "code",
   "execution_count": 20,
   "id": "8903243d-adb4-4c46-bf32-3482cc7a051e",
   "metadata": {},
   "outputs": [
    {
     "data": {
      "text/plain": [
       "(array(['Spinal Canal Stenosis', 'Right Neural Foraminal Narrowing',\n",
       "        'Left Neural Foraminal Narrowing', 'Left Subarticular Stenosis',\n",
       "        'Right Subarticular Stenosis'], dtype=object),\n",
       " array(['L1/L2', 'L2/L3', 'L3/L4', 'L4/L5', 'L5/S1'], dtype=object))"
      ]
     },
     "execution_count": 20,
     "metadata": {},
     "output_type": "execute_result"
    }
   ],
   "source": [
    "coords_df.condition.unique(), coords_df.level.unique()"
   ]
  },
  {
   "cell_type": "code",
   "execution_count": 21,
   "id": "6c7cf0d6-5c81-425f-9187-fd2068a6a57c",
   "metadata": {},
   "outputs": [
    {
     "data": {
      "text/plain": [
       "6291"
      ]
     },
     "execution_count": 21,
     "metadata": {},
     "output_type": "execute_result"
    }
   ],
   "source": [
    "coords_df.series_id.nunique()"
   ]
  },
  {
   "cell_type": "code",
   "execution_count": 22,
   "id": "2e83f2cd-45b7-4208-9fae-65ece413fa2a",
   "metadata": {},
   "outputs": [],
   "source": [
    "coords_df['ss_id'] = coords_df.apply(lambda row: f'{str(row[\"study_id\"])}_{str(row[\"series_id\"])}', axis=1)\n",
    "coords_df['instance_id'] = coords_df.apply(lambda row: f'{str(row[\"study_id\"])}_{str(row[\"series_id\"])}_{str(row[\"instance\"])}', axis=1)"
   ]
  },
  {
   "cell_type": "code",
   "execution_count": 23,
   "id": "72755af9-3bcd-42e3-983b-48b833a76cab",
   "metadata": {},
   "outputs": [
    {
     "data": {
      "text/html": [
       "<div>\n",
       "<style scoped>\n",
       "    .dataframe tbody tr th:only-of-type {\n",
       "        vertical-align: middle;\n",
       "    }\n",
       "\n",
       "    .dataframe tbody tr th {\n",
       "        vertical-align: top;\n",
       "    }\n",
       "\n",
       "    .dataframe thead th {\n",
       "        text-align: right;\n",
       "    }\n",
       "</style>\n",
       "<table border=\"1\" class=\"dataframe\">\n",
       "  <thead>\n",
       "    <tr style=\"text-align: right;\">\n",
       "      <th></th>\n",
       "      <th>study_id</th>\n",
       "      <th>series_id</th>\n",
       "      <th>series_description</th>\n",
       "      <th>ss_id</th>\n",
       "    </tr>\n",
       "  </thead>\n",
       "  <tbody>\n",
       "    <tr>\n",
       "      <th>1856</th>\n",
       "      <td>1278694021</td>\n",
       "      <td>896910489</td>\n",
       "      <td>Sagittal T1</td>\n",
       "      <td>1278694021_896910489</td>\n",
       "    </tr>\n",
       "  </tbody>\n",
       "</table>\n",
       "</div>"
      ],
      "text/plain": [
       "        study_id  series_id series_description                 ss_id\n",
       "1856  1278694021  896910489        Sagittal T1  1278694021_896910489"
      ]
     },
     "execution_count": 23,
     "metadata": {},
     "output_type": "execute_result"
    }
   ],
   "source": [
    "train_desc_df.sample()"
   ]
  },
  {
   "cell_type": "code",
   "execution_count": 24,
   "id": "593fbb6e-2485-4bd4-ae0f-c19a494085f2",
   "metadata": {},
   "outputs": [
    {
     "data": {
      "text/html": [
       "<div>\n",
       "<style scoped>\n",
       "    .dataframe tbody tr th:only-of-type {\n",
       "        vertical-align: middle;\n",
       "    }\n",
       "\n",
       "    .dataframe tbody tr th {\n",
       "        vertical-align: top;\n",
       "    }\n",
       "\n",
       "    .dataframe thead th {\n",
       "        text-align: right;\n",
       "    }\n",
       "</style>\n",
       "<table border=\"1\" class=\"dataframe\">\n",
       "  <thead>\n",
       "    <tr style=\"text-align: right;\">\n",
       "      <th></th>\n",
       "      <th>study_id</th>\n",
       "      <th>series_id</th>\n",
       "      <th>instance</th>\n",
       "      <th>condition</th>\n",
       "      <th>level</th>\n",
       "      <th>x</th>\n",
       "      <th>y</th>\n",
       "      <th>ss_id</th>\n",
       "      <th>instance_id</th>\n",
       "    </tr>\n",
       "  </thead>\n",
       "  <tbody>\n",
       "    <tr>\n",
       "      <th>11904</th>\n",
       "      <td>1075351916</td>\n",
       "      <td>3008943156</td>\n",
       "      <td>14</td>\n",
       "      <td>Left Neural Foraminal Narrowing</td>\n",
       "      <td>L4/L5</td>\n",
       "      <td>256.366355</td>\n",
       "      <td>265.809346</td>\n",
       "      <td>1075351916_3008943156</td>\n",
       "      <td>1075351916_3008943156_14</td>\n",
       "    </tr>\n",
       "    <tr>\n",
       "      <th>13620</th>\n",
       "      <td>1217004843</td>\n",
       "      <td>799439424</td>\n",
       "      <td>6</td>\n",
       "      <td>Right Neural Foraminal Narrowing</td>\n",
       "      <td>L2/L3</td>\n",
       "      <td>155.105882</td>\n",
       "      <td>138.729412</td>\n",
       "      <td>1217004843_799439424</td>\n",
       "      <td>1217004843_799439424_6</td>\n",
       "    </tr>\n",
       "  </tbody>\n",
       "</table>\n",
       "</div>"
      ],
      "text/plain": [
       "         study_id   series_id  instance                         condition  \\\n",
       "11904  1075351916  3008943156        14   Left Neural Foraminal Narrowing   \n",
       "13620  1217004843   799439424         6  Right Neural Foraminal Narrowing   \n",
       "\n",
       "       level           x           y                  ss_id  \\\n",
       "11904  L4/L5  256.366355  265.809346  1075351916_3008943156   \n",
       "13620  L2/L3  155.105882  138.729412   1217004843_799439424   \n",
       "\n",
       "                    instance_id  \n",
       "11904  1075351916_3008943156_14  \n",
       "13620    1217004843_799439424_6  "
      ]
     },
     "execution_count": 24,
     "metadata": {},
     "output_type": "execute_result"
    }
   ],
   "source": [
    "coords_df.sample(2)"
   ]
  },
  {
   "cell_type": "code",
   "execution_count": 25,
   "id": "3ce3f7f2-1551-4fc7-a4d4-081f4dcc1331",
   "metadata": {},
   "outputs": [],
   "source": [
    "# rename condition\n",
    "coords_df['condition'] = coords_df.apply(lambda row: ''.join([w[0] for w in row['condition'].split(' ')]), axis=1)"
   ]
  },
  {
   "cell_type": "code",
   "execution_count": 26,
   "id": "1a983c02-f7c1-4016-be0d-e6a561227f19",
   "metadata": {},
   "outputs": [],
   "source": [
    "# rename level\n",
    "coords_df['level'] = coords_df.level.apply(lambda l: ''.join(l.split('/')))"
   ]
  },
  {
   "cell_type": "code",
   "execution_count": 27,
   "id": "2506fe53-da37-4ada-943c-06c733e02388",
   "metadata": {},
   "outputs": [],
   "source": [
    "coords_df['cl'] = coords_df['condition'] + coords_df['level']"
   ]
  },
  {
   "cell_type": "code",
   "execution_count": 28,
   "id": "5a4ecfe8-4e6c-4044-a745-f19446a550ed",
   "metadata": {},
   "outputs": [
    {
     "data": {
      "text/plain": [
       "5"
      ]
     },
     "execution_count": 28,
     "metadata": {},
     "output_type": "execute_result"
    }
   ],
   "source": [
    "coords_df.condition.nunique()"
   ]
  },
  {
   "cell_type": "code",
   "execution_count": 29,
   "id": "a5bfc916-5e63-465e-aded-8a391a1d0e08",
   "metadata": {},
   "outputs": [
    {
     "data": {
      "text/html": [
       "<div>\n",
       "<style scoped>\n",
       "    .dataframe tbody tr th:only-of-type {\n",
       "        vertical-align: middle;\n",
       "    }\n",
       "\n",
       "    .dataframe tbody tr th {\n",
       "        vertical-align: top;\n",
       "    }\n",
       "\n",
       "    .dataframe thead th {\n",
       "        text-align: right;\n",
       "    }\n",
       "</style>\n",
       "<table border=\"1\" class=\"dataframe\">\n",
       "  <thead>\n",
       "    <tr style=\"text-align: right;\">\n",
       "      <th></th>\n",
       "      <th>study_id</th>\n",
       "      <th>series_id</th>\n",
       "      <th>instance</th>\n",
       "      <th>condition</th>\n",
       "      <th>level</th>\n",
       "      <th>x</th>\n",
       "      <th>y</th>\n",
       "      <th>ss_id</th>\n",
       "      <th>instance_id</th>\n",
       "      <th>cl</th>\n",
       "    </tr>\n",
       "  </thead>\n",
       "  <tbody>\n",
       "    <tr>\n",
       "      <th>0</th>\n",
       "      <td>4003253</td>\n",
       "      <td>702807833</td>\n",
       "      <td>8</td>\n",
       "      <td>SCS</td>\n",
       "      <td>L1L2</td>\n",
       "      <td>322.831858</td>\n",
       "      <td>227.964602</td>\n",
       "      <td>4003253_702807833</td>\n",
       "      <td>4003253_702807833_8</td>\n",
       "      <td>SCSL1L2</td>\n",
       "    </tr>\n",
       "    <tr>\n",
       "      <th>1</th>\n",
       "      <td>4003253</td>\n",
       "      <td>702807833</td>\n",
       "      <td>8</td>\n",
       "      <td>SCS</td>\n",
       "      <td>L2L3</td>\n",
       "      <td>320.571429</td>\n",
       "      <td>295.714286</td>\n",
       "      <td>4003253_702807833</td>\n",
       "      <td>4003253_702807833_8</td>\n",
       "      <td>SCSL2L3</td>\n",
       "    </tr>\n",
       "    <tr>\n",
       "      <th>2</th>\n",
       "      <td>4003253</td>\n",
       "      <td>702807833</td>\n",
       "      <td>8</td>\n",
       "      <td>SCS</td>\n",
       "      <td>L3L4</td>\n",
       "      <td>323.030303</td>\n",
       "      <td>371.818182</td>\n",
       "      <td>4003253_702807833</td>\n",
       "      <td>4003253_702807833_8</td>\n",
       "      <td>SCSL3L4</td>\n",
       "    </tr>\n",
       "    <tr>\n",
       "      <th>3</th>\n",
       "      <td>4003253</td>\n",
       "      <td>702807833</td>\n",
       "      <td>8</td>\n",
       "      <td>SCS</td>\n",
       "      <td>L4L5</td>\n",
       "      <td>335.292035</td>\n",
       "      <td>427.327434</td>\n",
       "      <td>4003253_702807833</td>\n",
       "      <td>4003253_702807833_8</td>\n",
       "      <td>SCSL4L5</td>\n",
       "    </tr>\n",
       "    <tr>\n",
       "      <th>4</th>\n",
       "      <td>4003253</td>\n",
       "      <td>702807833</td>\n",
       "      <td>8</td>\n",
       "      <td>SCS</td>\n",
       "      <td>L5S1</td>\n",
       "      <td>353.415929</td>\n",
       "      <td>483.964602</td>\n",
       "      <td>4003253_702807833</td>\n",
       "      <td>4003253_702807833_8</td>\n",
       "      <td>SCSL5S1</td>\n",
       "    </tr>\n",
       "    <tr>\n",
       "      <th>5</th>\n",
       "      <td>4003253</td>\n",
       "      <td>1054713880</td>\n",
       "      <td>4</td>\n",
       "      <td>RNFN</td>\n",
       "      <td>L4L5</td>\n",
       "      <td>187.961759</td>\n",
       "      <td>251.839388</td>\n",
       "      <td>4003253_1054713880</td>\n",
       "      <td>4003253_1054713880_4</td>\n",
       "      <td>RNFNL4L5</td>\n",
       "    </tr>\n",
       "    <tr>\n",
       "      <th>6</th>\n",
       "      <td>4003253</td>\n",
       "      <td>1054713880</td>\n",
       "      <td>4</td>\n",
       "      <td>RNFN</td>\n",
       "      <td>L5S1</td>\n",
       "      <td>198.240918</td>\n",
       "      <td>285.613767</td>\n",
       "      <td>4003253_1054713880</td>\n",
       "      <td>4003253_1054713880_4</td>\n",
       "      <td>RNFNL5S1</td>\n",
       "    </tr>\n",
       "    <tr>\n",
       "      <th>7</th>\n",
       "      <td>4003253</td>\n",
       "      <td>1054713880</td>\n",
       "      <td>5</td>\n",
       "      <td>RNFN</td>\n",
       "      <td>L3L4</td>\n",
       "      <td>187.227533</td>\n",
       "      <td>210.722753</td>\n",
       "      <td>4003253_1054713880</td>\n",
       "      <td>4003253_1054713880_5</td>\n",
       "      <td>RNFNL3L4</td>\n",
       "    </tr>\n",
       "    <tr>\n",
       "      <th>8</th>\n",
       "      <td>4003253</td>\n",
       "      <td>1054713880</td>\n",
       "      <td>6</td>\n",
       "      <td>RNFN</td>\n",
       "      <td>L1L2</td>\n",
       "      <td>194.569790</td>\n",
       "      <td>127.755258</td>\n",
       "      <td>4003253_1054713880</td>\n",
       "      <td>4003253_1054713880_6</td>\n",
       "      <td>RNFNL1L2</td>\n",
       "    </tr>\n",
       "    <tr>\n",
       "      <th>9</th>\n",
       "      <td>4003253</td>\n",
       "      <td>1054713880</td>\n",
       "      <td>6</td>\n",
       "      <td>RNFN</td>\n",
       "      <td>L2L3</td>\n",
       "      <td>191.632887</td>\n",
       "      <td>165.934990</td>\n",
       "      <td>4003253_1054713880</td>\n",
       "      <td>4003253_1054713880_6</td>\n",
       "      <td>RNFNL2L3</td>\n",
       "    </tr>\n",
       "  </tbody>\n",
       "</table>\n",
       "</div>"
      ],
      "text/plain": [
       "   study_id   series_id  instance condition level           x           y  \\\n",
       "0   4003253   702807833         8       SCS  L1L2  322.831858  227.964602   \n",
       "1   4003253   702807833         8       SCS  L2L3  320.571429  295.714286   \n",
       "2   4003253   702807833         8       SCS  L3L4  323.030303  371.818182   \n",
       "3   4003253   702807833         8       SCS  L4L5  335.292035  427.327434   \n",
       "4   4003253   702807833         8       SCS  L5S1  353.415929  483.964602   \n",
       "5   4003253  1054713880         4      RNFN  L4L5  187.961759  251.839388   \n",
       "6   4003253  1054713880         4      RNFN  L5S1  198.240918  285.613767   \n",
       "7   4003253  1054713880         5      RNFN  L3L4  187.227533  210.722753   \n",
       "8   4003253  1054713880         6      RNFN  L1L2  194.569790  127.755258   \n",
       "9   4003253  1054713880         6      RNFN  L2L3  191.632887  165.934990   \n",
       "\n",
       "                ss_id           instance_id        cl  \n",
       "0   4003253_702807833   4003253_702807833_8   SCSL1L2  \n",
       "1   4003253_702807833   4003253_702807833_8   SCSL2L3  \n",
       "2   4003253_702807833   4003253_702807833_8   SCSL3L4  \n",
       "3   4003253_702807833   4003253_702807833_8   SCSL4L5  \n",
       "4   4003253_702807833   4003253_702807833_8   SCSL5S1  \n",
       "5  4003253_1054713880  4003253_1054713880_4  RNFNL4L5  \n",
       "6  4003253_1054713880  4003253_1054713880_4  RNFNL5S1  \n",
       "7  4003253_1054713880  4003253_1054713880_5  RNFNL3L4  \n",
       "8  4003253_1054713880  4003253_1054713880_6  RNFNL1L2  \n",
       "9  4003253_1054713880  4003253_1054713880_6  RNFNL2L3  "
      ]
     },
     "execution_count": 29,
     "metadata": {},
     "output_type": "execute_result"
    }
   ],
   "source": [
    "coords_df.head(10)"
   ]
  },
  {
   "cell_type": "code",
   "execution_count": 30,
   "id": "b40a7c1e-53e8-4daf-97e2-171e42979169",
   "metadata": {},
   "outputs": [
    {
     "data": {
      "text/plain": [
       "array(['Sagittal T2/STIR', 'Sagittal T1', 'Axial T2'], dtype=object)"
      ]
     },
     "execution_count": 30,
     "metadata": {},
     "output_type": "execute_result"
    }
   ],
   "source": [
    "train_desc_df.series_description.unique()"
   ]
  },
  {
   "cell_type": "code",
   "execution_count": 31,
   "id": "cfd75ff1-cb2b-42bd-b738-cea730f9acc4",
   "metadata": {},
   "outputs": [
    {
     "data": {
      "text/plain": [
       "0"
      ]
     },
     "execution_count": 31,
     "metadata": {},
     "output_type": "execute_result"
    }
   ],
   "source": [
    "train_desc_df.series_description.isna().sum()"
   ]
  },
  {
   "cell_type": "code",
   "execution_count": 32,
   "id": "832025c9-eadb-4796-a9d5-8dd6834efdab",
   "metadata": {},
   "outputs": [
    {
     "data": {
      "text/plain": [
       "(48692, 10)"
      ]
     },
     "execution_count": 32,
     "metadata": {},
     "output_type": "execute_result"
    }
   ],
   "source": [
    "coords_df.shape"
   ]
  },
  {
   "cell_type": "code",
   "execution_count": 33,
   "id": "3856720b-abc1-4129-84f7-a344461d2cf2",
   "metadata": {},
   "outputs": [
    {
     "data": {
      "text/html": [
       "<div>\n",
       "<style scoped>\n",
       "    .dataframe tbody tr th:only-of-type {\n",
       "        vertical-align: middle;\n",
       "    }\n",
       "\n",
       "    .dataframe tbody tr th {\n",
       "        vertical-align: top;\n",
       "    }\n",
       "\n",
       "    .dataframe thead th {\n",
       "        text-align: right;\n",
       "    }\n",
       "</style>\n",
       "<table border=\"1\" class=\"dataframe\">\n",
       "  <thead>\n",
       "    <tr style=\"text-align: right;\">\n",
       "      <th></th>\n",
       "      <th>study_id</th>\n",
       "      <th>series_id</th>\n",
       "      <th>instance</th>\n",
       "      <th>condition</th>\n",
       "      <th>level</th>\n",
       "      <th>x</th>\n",
       "      <th>y</th>\n",
       "      <th>ss_id</th>\n",
       "      <th>instance_id</th>\n",
       "      <th>cl</th>\n",
       "      <th>series_description</th>\n",
       "    </tr>\n",
       "  </thead>\n",
       "  <tbody>\n",
       "    <tr>\n",
       "      <th>36907</th>\n",
       "      <td>3258126294</td>\n",
       "      <td>918902957</td>\n",
       "      <td>12</td>\n",
       "      <td>LNFN</td>\n",
       "      <td>L2L3</td>\n",
       "      <td>256.193124</td>\n",
       "      <td>186.189146</td>\n",
       "      <td>3258126294_918902957</td>\n",
       "      <td>3258126294_918902957_12</td>\n",
       "      <td>LNFNL2L3</td>\n",
       "      <td>Sagittal T1</td>\n",
       "    </tr>\n",
       "    <tr>\n",
       "      <th>42501</th>\n",
       "      <td>3742728457</td>\n",
       "      <td>2064757886</td>\n",
       "      <td>6</td>\n",
       "      <td>LNFN</td>\n",
       "      <td>L1L2</td>\n",
       "      <td>181.705775</td>\n",
       "      <td>99.893909</td>\n",
       "      <td>3742728457_2064757886</td>\n",
       "      <td>3742728457_2064757886_6</td>\n",
       "      <td>LNFNL1L2</td>\n",
       "      <td>Sagittal T1</td>\n",
       "    </tr>\n",
       "  </tbody>\n",
       "</table>\n",
       "</div>"
      ],
      "text/plain": [
       "         study_id   series_id  instance condition level           x  \\\n",
       "36907  3258126294   918902957        12      LNFN  L2L3  256.193124   \n",
       "42501  3742728457  2064757886         6      LNFN  L1L2  181.705775   \n",
       "\n",
       "                y                  ss_id              instance_id        cl  \\\n",
       "36907  186.189146   3258126294_918902957  3258126294_918902957_12  LNFNL2L3   \n",
       "42501   99.893909  3742728457_2064757886  3742728457_2064757886_6  LNFNL1L2   \n",
       "\n",
       "      series_description  \n",
       "36907        Sagittal T1  \n",
       "42501        Sagittal T1  "
      ]
     },
     "execution_count": 33,
     "metadata": {},
     "output_type": "execute_result"
    }
   ],
   "source": [
    "coords_df = pd.merge(coords_df, train_desc_df.loc[:, ['ss_id', 'series_description']],  how='inner', left_on=['ss_id'], right_on=['ss_id'])\n",
    "\n",
    "coords_df.sample(2)"
   ]
  },
  {
   "cell_type": "code",
   "execution_count": 34,
   "id": "c3f04299-13f5-4309-846e-e92aa0a8483c",
   "metadata": {},
   "outputs": [
    {
     "data": {
      "text/plain": [
       "(48692, 11)"
      ]
     },
     "execution_count": 34,
     "metadata": {},
     "output_type": "execute_result"
    }
   ],
   "source": [
    "coords_df.shape"
   ]
  },
  {
   "cell_type": "code",
   "execution_count": 35,
   "id": "be1643f7-621f-4983-860d-b3dc073e7621",
   "metadata": {},
   "outputs": [
    {
     "data": {
      "text/html": [
       "<div>\n",
       "<style scoped>\n",
       "    .dataframe tbody tr th:only-of-type {\n",
       "        vertical-align: middle;\n",
       "    }\n",
       "\n",
       "    .dataframe tbody tr th {\n",
       "        vertical-align: top;\n",
       "    }\n",
       "\n",
       "    .dataframe thead th {\n",
       "        text-align: right;\n",
       "    }\n",
       "</style>\n",
       "<table border=\"1\" class=\"dataframe\">\n",
       "  <thead>\n",
       "    <tr style=\"text-align: right;\">\n",
       "      <th></th>\n",
       "      <th>study_id</th>\n",
       "      <th>series_id</th>\n",
       "      <th>image</th>\n",
       "      <th>proj</th>\n",
       "      <th>instancenumber</th>\n",
       "      <th>rows</th>\n",
       "      <th>columns</th>\n",
       "      <th>slicethickness</th>\n",
       "      <th>spacingbetweenslices</th>\n",
       "      <th>patientposition</th>\n",
       "      <th>seriesdescription</th>\n",
       "    </tr>\n",
       "  </thead>\n",
       "  <tbody>\n",
       "    <tr>\n",
       "      <th>48133</th>\n",
       "      <td>2283923187</td>\n",
       "      <td>2721038351</td>\n",
       "      <td>13</td>\n",
       "      <td>37</td>\n",
       "      <td>13</td>\n",
       "      <td>320</td>\n",
       "      <td>320</td>\n",
       "      <td>5.0</td>\n",
       "      <td>6.0</td>\n",
       "      <td>FFS</td>\n",
       "      <td>T2</td>\n",
       "    </tr>\n",
       "  </tbody>\n",
       "</table>\n",
       "</div>"
      ],
      "text/plain": [
       "         study_id   series_id  image  proj  instancenumber  rows  columns  \\\n",
       "48133  2283923187  2721038351     13    37              13   320      320   \n",
       "\n",
       "       slicethickness  spacingbetweenslices patientposition seriesdescription  \n",
       "48133             5.0                   6.0             FFS                T2  "
      ]
     },
     "execution_count": 35,
     "metadata": {},
     "output_type": "execute_result"
    }
   ],
   "source": [
    "files_df.sample()"
   ]
  },
  {
   "cell_type": "code",
   "execution_count": 36,
   "id": "18ca9c41-4083-42a2-9c38-f039ca29c25f",
   "metadata": {
    "scrolled": true
   },
   "outputs": [],
   "source": [
    "# coords_df['plane'] = coords_df.apply(lambda row: train_desc_df[train_desc_df['ss_id'] == row['ss_id']].series_description.values[0], axis=1)"
   ]
  },
  {
   "cell_type": "code",
   "execution_count": 37,
   "id": "3b828606-6bf3-4981-8980-2b52d505418b",
   "metadata": {},
   "outputs": [],
   "source": [
    "# coords_df.sample(5)"
   ]
  },
  {
   "cell_type": "code",
   "execution_count": 38,
   "id": "4020bdac-0fb0-4b25-a876-1eda49846b3f",
   "metadata": {},
   "outputs": [
    {
     "data": {
      "text/html": [
       "<div>\n",
       "<style scoped>\n",
       "    .dataframe tbody tr th:only-of-type {\n",
       "        vertical-align: middle;\n",
       "    }\n",
       "\n",
       "    .dataframe tbody tr th {\n",
       "        vertical-align: top;\n",
       "    }\n",
       "\n",
       "    .dataframe thead th {\n",
       "        text-align: right;\n",
       "    }\n",
       "</style>\n",
       "<table border=\"1\" class=\"dataframe\">\n",
       "  <thead>\n",
       "    <tr style=\"text-align: right;\">\n",
       "      <th></th>\n",
       "      <th>study_id</th>\n",
       "      <th>series_id</th>\n",
       "      <th>instance</th>\n",
       "      <th>condition</th>\n",
       "      <th>level</th>\n",
       "      <th>x</th>\n",
       "      <th>y</th>\n",
       "      <th>ss_id</th>\n",
       "      <th>instance_id</th>\n",
       "      <th>cl</th>\n",
       "      <th>series_description</th>\n",
       "    </tr>\n",
       "  </thead>\n",
       "  <tbody>\n",
       "    <tr>\n",
       "      <th>17320</th>\n",
       "      <td>1545079332</td>\n",
       "      <td>2817567169</td>\n",
       "      <td>9</td>\n",
       "      <td>SCS</td>\n",
       "      <td>L3L4</td>\n",
       "      <td>216.217207</td>\n",
       "      <td>274.920454</td>\n",
       "      <td>1545079332_2817567169</td>\n",
       "      <td>1545079332_2817567169_9</td>\n",
       "      <td>SCSL3L4</td>\n",
       "      <td>Sagittal T2/STIR</td>\n",
       "    </tr>\n",
       "  </tbody>\n",
       "</table>\n",
       "</div>"
      ],
      "text/plain": [
       "         study_id   series_id  instance condition level           x  \\\n",
       "17320  1545079332  2817567169         9       SCS  L3L4  216.217207   \n",
       "\n",
       "                y                  ss_id              instance_id       cl  \\\n",
       "17320  274.920454  1545079332_2817567169  1545079332_2817567169_9  SCSL3L4   \n",
       "\n",
       "      series_description  \n",
       "17320   Sagittal T2/STIR  "
      ]
     },
     "execution_count": 38,
     "metadata": {},
     "output_type": "execute_result"
    }
   ],
   "source": [
    "# check canal stenosis is noy only in axial plane\n",
    "coords_df[(coords_df.condition == 'SCS') & (coords_df.series_description != 'Axial T2')].sample()"
   ]
  },
  {
   "cell_type": "code",
   "execution_count": 39,
   "id": "4adb87c7-4850-4c6e-b5f8-f30fcc7ebc9b",
   "metadata": {},
   "outputs": [
    {
     "data": {
      "text/plain": [
       "study_id    series_id \n",
       "4003253     702807833                              [8]\n",
       "            1054713880               [4, 5, 6, 11, 12]\n",
       "            2448190387          [3, 4, 11, 19, 28, 35]\n",
       "4646740     3201256954    [15, 16, 22, 28, 29, 34, 40]\n",
       "            3486248476           [5, 6, 7, 15, 16, 17]\n",
       "                                      ...             \n",
       "4287160193  1507070277                             [8]\n",
       "            1820446240          [4, 9, 10, 16, 22, 28]\n",
       "4290709089  3274612423                             [9]\n",
       "            3390218084    [2, 3, 5, 6, 10, 15, 20, 21]\n",
       "            4237840455                  [4, 5, 11, 12]\n",
       "Name: instance, Length: 6291, dtype: object"
      ]
     },
     "execution_count": 39,
     "metadata": {},
     "output_type": "execute_result"
    }
   ],
   "source": [
    "# get the positive slices\n",
    "coords_df.groupby(['study_id','series_id']).instance.unique()"
   ]
  },
  {
   "cell_type": "code",
   "execution_count": 40,
   "id": "e013be8a-51a4-4e63-ae89-dade163f069a",
   "metadata": {},
   "outputs": [
    {
     "data": {
      "text/plain": [
       "(6291, 24546)"
      ]
     },
     "execution_count": 40,
     "metadata": {},
     "output_type": "execute_result"
    }
   ],
   "source": [
    "coords_df.ss_id.nunique(), coords_df.instance_id.nunique()"
   ]
  },
  {
   "cell_type": "markdown",
   "id": "240f8715-d61d-41c8-9fda-fd5a1dbfc5d7",
   "metadata": {},
   "source": [
    "### Files_df"
   ]
  },
  {
   "cell_type": "code",
   "execution_count": 41,
   "id": "a5b74143-da36-46f5-8ebb-4a62242045fc",
   "metadata": {},
   "outputs": [],
   "source": [
    "files_df = pd.read_csv(CFG.FILES_CSV)"
   ]
  },
  {
   "cell_type": "code",
   "execution_count": 42,
   "id": "f0faf615-ff07-4748-b340-095936b6c15c",
   "metadata": {},
   "outputs": [
    {
     "data": {
      "text/html": [
       "<div>\n",
       "<style scoped>\n",
       "    .dataframe tbody tr th:only-of-type {\n",
       "        vertical-align: middle;\n",
       "    }\n",
       "\n",
       "    .dataframe tbody tr th {\n",
       "        vertical-align: top;\n",
       "    }\n",
       "\n",
       "    .dataframe thead th {\n",
       "        text-align: right;\n",
       "    }\n",
       "</style>\n",
       "<table border=\"1\" class=\"dataframe\">\n",
       "  <thead>\n",
       "    <tr style=\"text-align: right;\">\n",
       "      <th></th>\n",
       "      <th>study_id</th>\n",
       "      <th>series_id</th>\n",
       "      <th>image</th>\n",
       "      <th>proj</th>\n",
       "      <th>instancenumber</th>\n",
       "      <th>rows</th>\n",
       "      <th>columns</th>\n",
       "      <th>slicethickness</th>\n",
       "      <th>spacingbetweenslices</th>\n",
       "      <th>patientposition</th>\n",
       "      <th>seriesdescription</th>\n",
       "    </tr>\n",
       "  </thead>\n",
       "  <tbody>\n",
       "    <tr>\n",
       "      <th>112055</th>\n",
       "      <td>3919334786</td>\n",
       "      <td>59089913</td>\n",
       "      <td>41</td>\n",
       "      <td>-39</td>\n",
       "      <td>41</td>\n",
       "      <td>512</td>\n",
       "      <td>512</td>\n",
       "      <td>2.8</td>\n",
       "      <td>1.4</td>\n",
       "      <td>FFS</td>\n",
       "      <td>T2</td>\n",
       "    </tr>\n",
       "    <tr>\n",
       "      <th>32001</th>\n",
       "      <td>1850731145</td>\n",
       "      <td>2746683404</td>\n",
       "      <td>3</td>\n",
       "      <td>29</td>\n",
       "      <td>3</td>\n",
       "      <td>448</td>\n",
       "      <td>448</td>\n",
       "      <td>4.0</td>\n",
       "      <td>4.8</td>\n",
       "      <td>FFS</td>\n",
       "      <td>T2</td>\n",
       "    </tr>\n",
       "    <tr>\n",
       "      <th>123378</th>\n",
       "      <td>4227587668</td>\n",
       "      <td>3708432591</td>\n",
       "      <td>19</td>\n",
       "      <td>97</td>\n",
       "      <td>19</td>\n",
       "      <td>240</td>\n",
       "      <td>256</td>\n",
       "      <td>4.0</td>\n",
       "      <td>4.4</td>\n",
       "      <td>FFS</td>\n",
       "      <td>T2</td>\n",
       "    </tr>\n",
       "    <tr>\n",
       "      <th>91677</th>\n",
       "      <td>3397219212</td>\n",
       "      <td>1284046345</td>\n",
       "      <td>1</td>\n",
       "      <td>-37</td>\n",
       "      <td>1</td>\n",
       "      <td>512</td>\n",
       "      <td>512</td>\n",
       "      <td>4.0</td>\n",
       "      <td>5.0</td>\n",
       "      <td>HFS</td>\n",
       "      <td>T2</td>\n",
       "    </tr>\n",
       "    <tr>\n",
       "      <th>143197</th>\n",
       "      <td>904367529</td>\n",
       "      <td>2221011236</td>\n",
       "      <td>12</td>\n",
       "      <td>-355</td>\n",
       "      <td>12</td>\n",
       "      <td>640</td>\n",
       "      <td>640</td>\n",
       "      <td>4.0</td>\n",
       "      <td>4.4</td>\n",
       "      <td>HFS</td>\n",
       "      <td>T2</td>\n",
       "    </tr>\n",
       "  </tbody>\n",
       "</table>\n",
       "</div>"
      ],
      "text/plain": [
       "          study_id   series_id  image  proj  instancenumber  rows  columns  \\\n",
       "112055  3919334786    59089913     41   -39              41   512      512   \n",
       "32001   1850731145  2746683404      3    29               3   448      448   \n",
       "123378  4227587668  3708432591     19    97              19   240      256   \n",
       "91677   3397219212  1284046345      1   -37               1   512      512   \n",
       "143197   904367529  2221011236     12  -355              12   640      640   \n",
       "\n",
       "        slicethickness  spacingbetweenslices patientposition seriesdescription  \n",
       "112055             2.8                   1.4             FFS                T2  \n",
       "32001              4.0                   4.8             FFS                T2  \n",
       "123378             4.0                   4.4             FFS                T2  \n",
       "91677              4.0                   5.0             HFS                T2  \n",
       "143197             4.0                   4.4             HFS                T2  "
      ]
     },
     "execution_count": 42,
     "metadata": {},
     "output_type": "execute_result"
    }
   ],
   "source": [
    "files_df.sample(5)"
   ]
  },
  {
   "cell_type": "code",
   "execution_count": 43,
   "id": "8fbd918c-d178-4f16-9a9e-d7de6ab07557",
   "metadata": {},
   "outputs": [],
   "source": [
    "# files_df.rename(columns={'patient': 'study_id', 'series': 'series_id', 'image': 'instance'}, inplace=True)"
   ]
  },
  {
   "cell_type": "code",
   "execution_count": 44,
   "id": "884ea53c-c23f-49c9-b2b7-e505f96b1e47",
   "metadata": {},
   "outputs": [
    {
     "data": {
      "text/plain": [
       "(patientposition\n",
       " HFS    118249\n",
       " FFS     28969\n",
       " Name: count, dtype: int64,\n",
       " 0)"
      ]
     },
     "execution_count": 44,
     "metadata": {},
     "output_type": "execute_result"
    }
   ],
   "source": [
    "files_df.patientposition.value_counts(), files_df.patientposition.isna().sum()"
   ]
  },
  {
   "cell_type": "code",
   "execution_count": 45,
   "id": "3e3c201a-ca29-44dd-a835-0244a051017d",
   "metadata": {},
   "outputs": [
    {
     "data": {
      "text/plain": [
       "patientposition\n",
       "[HFS]    1585\n",
       "[FFS]     390\n",
       "Name: count, dtype: int64"
      ]
     },
     "execution_count": 45,
     "metadata": {},
     "output_type": "execute_result"
    }
   ],
   "source": [
    "files_df.groupby(['study_id']).patientposition.unique().value_counts()"
   ]
  },
  {
   "cell_type": "code",
   "execution_count": 46,
   "id": "36b59b51-1198-4df5-83fa-bacf0c5dadbc",
   "metadata": {},
   "outputs": [],
   "source": [
    "files_df['ss_id'] = files_df.apply(lambda row: f'{str(row[\"study_id\"])}_{str(row[\"series_id\"])}', axis=1)\n",
    "files_df['instance_id'] = files_df.apply(lambda row: f'{str(row[\"study_id\"])}_{str(row[\"series_id\"])}_{str(row[\"instancenumber\"])}', axis=1)"
   ]
  },
  {
   "cell_type": "code",
   "execution_count": 47,
   "id": "748fd5fb-4cc5-4715-ad45-d44192d2c517",
   "metadata": {},
   "outputs": [],
   "source": [
    "source_dir = CFG.PNG_DIR\n",
    "files_df['filename'] = files_df.apply(lambda row: f'{source_dir}\\\\{row.study_id}_{row.series_id}_{row.image}.png', axis=1)"
   ]
  },
  {
   "cell_type": "code",
   "execution_count": 48,
   "id": "de91b521-485d-4d05-b829-7cf2508558e8",
   "metadata": {},
   "outputs": [
    {
     "data": {
      "text/html": [
       "<div>\n",
       "<style scoped>\n",
       "    .dataframe tbody tr th:only-of-type {\n",
       "        vertical-align: middle;\n",
       "    }\n",
       "\n",
       "    .dataframe tbody tr th {\n",
       "        vertical-align: top;\n",
       "    }\n",
       "\n",
       "    .dataframe thead th {\n",
       "        text-align: right;\n",
       "    }\n",
       "</style>\n",
       "<table border=\"1\" class=\"dataframe\">\n",
       "  <thead>\n",
       "    <tr style=\"text-align: right;\">\n",
       "      <th></th>\n",
       "      <th>study_id</th>\n",
       "      <th>series_id</th>\n",
       "      <th>image</th>\n",
       "      <th>proj</th>\n",
       "      <th>instancenumber</th>\n",
       "      <th>rows</th>\n",
       "      <th>columns</th>\n",
       "      <th>slicethickness</th>\n",
       "      <th>spacingbetweenslices</th>\n",
       "      <th>patientposition</th>\n",
       "      <th>seriesdescription</th>\n",
       "      <th>ss_id</th>\n",
       "      <th>instance_id</th>\n",
       "      <th>filename</th>\n",
       "    </tr>\n",
       "  </thead>\n",
       "  <tbody>\n",
       "    <tr>\n",
       "      <th>55657</th>\n",
       "      <td>2484590654</td>\n",
       "      <td>3051646442</td>\n",
       "      <td>25</td>\n",
       "      <td>-126</td>\n",
       "      <td>25</td>\n",
       "      <td>640</td>\n",
       "      <td>640</td>\n",
       "      <td>4.0</td>\n",
       "      <td>4.8</td>\n",
       "      <td>HFS</td>\n",
       "      <td>NaN</td>\n",
       "      <td>2484590654_3051646442</td>\n",
       "      <td>2484590654_3051646442_25</td>\n",
       "      <td>E:\\data\\RSNA2024\\pngs_256\\2484590654_305164644...</td>\n",
       "    </tr>\n",
       "  </tbody>\n",
       "</table>\n",
       "</div>"
      ],
      "text/plain": [
       "         study_id   series_id  image  proj  instancenumber  rows  columns  \\\n",
       "55657  2484590654  3051646442     25  -126              25   640      640   \n",
       "\n",
       "       slicethickness  spacingbetweenslices patientposition seriesdescription  \\\n",
       "55657             4.0                   4.8             HFS               NaN   \n",
       "\n",
       "                       ss_id               instance_id  \\\n",
       "55657  2484590654_3051646442  2484590654_3051646442_25   \n",
       "\n",
       "                                                filename  \n",
       "55657  E:\\data\\RSNA2024\\pngs_256\\2484590654_305164644...  "
      ]
     },
     "execution_count": 48,
     "metadata": {},
     "output_type": "execute_result"
    }
   ],
   "source": [
    "files_df.sample()"
   ]
  },
  {
   "cell_type": "code",
   "execution_count": 49,
   "id": "4cdf7b4a-92bf-489e-a5e9-6e09f0c986f5",
   "metadata": {},
   "outputs": [
    {
     "data": {
      "text/html": [
       "<div>\n",
       "<style scoped>\n",
       "    .dataframe tbody tr th:only-of-type {\n",
       "        vertical-align: middle;\n",
       "    }\n",
       "\n",
       "    .dataframe tbody tr th {\n",
       "        vertical-align: top;\n",
       "    }\n",
       "\n",
       "    .dataframe thead th {\n",
       "        text-align: right;\n",
       "    }\n",
       "</style>\n",
       "<table border=\"1\" class=\"dataframe\">\n",
       "  <thead>\n",
       "    <tr style=\"text-align: right;\">\n",
       "      <th></th>\n",
       "      <th>study_id</th>\n",
       "      <th>series_id</th>\n",
       "      <th>series_description</th>\n",
       "      <th>ss_id</th>\n",
       "    </tr>\n",
       "  </thead>\n",
       "  <tbody>\n",
       "    <tr>\n",
       "      <th>272</th>\n",
       "      <td>181779472</td>\n",
       "      <td>2269463694</td>\n",
       "      <td>Sagittal T1</td>\n",
       "      <td>181779472_2269463694</td>\n",
       "    </tr>\n",
       "  </tbody>\n",
       "</table>\n",
       "</div>"
      ],
      "text/plain": [
       "      study_id   series_id series_description                 ss_id\n",
       "272  181779472  2269463694        Sagittal T1  181779472_2269463694"
      ]
     },
     "execution_count": 49,
     "metadata": {},
     "output_type": "execute_result"
    }
   ],
   "source": [
    "train_desc_df.sample()"
   ]
  },
  {
   "cell_type": "code",
   "execution_count": 50,
   "id": "c0d9500a-a3c2-4c82-a194-c7f03b3e7f57",
   "metadata": {},
   "outputs": [],
   "source": [
    "coords_df = pd.merge(coords_df, files_df[['instance_id', 'rows', 'columns', 'filename','patientposition']], left_on='instance_id', right_on='instance_id')"
   ]
  },
  {
   "cell_type": "code",
   "execution_count": 51,
   "id": "dbfc4c9b-9723-4fca-9f8b-b6b29a26801d",
   "metadata": {},
   "outputs": [
    {
     "data": {
      "text/plain": [
       "(48692, 15)"
      ]
     },
     "execution_count": 51,
     "metadata": {},
     "output_type": "execute_result"
    }
   ],
   "source": [
    "coords_df.shape"
   ]
  },
  {
   "cell_type": "code",
   "execution_count": 52,
   "id": "666d78d7-6f82-4228-b622-e06464101ee2",
   "metadata": {},
   "outputs": [
    {
     "data": {
      "text/html": [
       "<div>\n",
       "<style scoped>\n",
       "    .dataframe tbody tr th:only-of-type {\n",
       "        vertical-align: middle;\n",
       "    }\n",
       "\n",
       "    .dataframe tbody tr th {\n",
       "        vertical-align: top;\n",
       "    }\n",
       "\n",
       "    .dataframe thead th {\n",
       "        text-align: right;\n",
       "    }\n",
       "</style>\n",
       "<table border=\"1\" class=\"dataframe\">\n",
       "  <thead>\n",
       "    <tr style=\"text-align: right;\">\n",
       "      <th></th>\n",
       "      <th>study_id</th>\n",
       "      <th>series_id</th>\n",
       "      <th>instance</th>\n",
       "      <th>condition</th>\n",
       "      <th>level</th>\n",
       "      <th>x</th>\n",
       "      <th>y</th>\n",
       "      <th>ss_id</th>\n",
       "      <th>instance_id</th>\n",
       "      <th>cl</th>\n",
       "      <th>series_description</th>\n",
       "      <th>rows</th>\n",
       "      <th>columns</th>\n",
       "      <th>filename</th>\n",
       "      <th>patientposition</th>\n",
       "    </tr>\n",
       "  </thead>\n",
       "  <tbody>\n",
       "    <tr>\n",
       "      <th>43069</th>\n",
       "      <td>3817394595</td>\n",
       "      <td>4179349626</td>\n",
       "      <td>8</td>\n",
       "      <td>LSS</td>\n",
       "      <td>L1L2</td>\n",
       "      <td>359.079646</td>\n",
       "      <td>345.20354</td>\n",
       "      <td>3817394595_4179349626</td>\n",
       "      <td>3817394595_4179349626_8</td>\n",
       "      <td>LSSL1L2</td>\n",
       "      <td>Axial T2</td>\n",
       "      <td>640</td>\n",
       "      <td>640</td>\n",
       "      <td>E:\\data\\RSNA2024\\pngs_256\\3817394595_417934962...</td>\n",
       "      <td>HFS</td>\n",
       "    </tr>\n",
       "  </tbody>\n",
       "</table>\n",
       "</div>"
      ],
      "text/plain": [
       "         study_id   series_id  instance condition level           x  \\\n",
       "43069  3817394595  4179349626         8       LSS  L1L2  359.079646   \n",
       "\n",
       "               y                  ss_id              instance_id       cl  \\\n",
       "43069  345.20354  3817394595_4179349626  3817394595_4179349626_8  LSSL1L2   \n",
       "\n",
       "      series_description  rows  columns  \\\n",
       "43069           Axial T2   640      640   \n",
       "\n",
       "                                                filename patientposition  \n",
       "43069  E:\\data\\RSNA2024\\pngs_256\\3817394595_417934962...             HFS  "
      ]
     },
     "execution_count": 52,
     "metadata": {},
     "output_type": "execute_result"
    }
   ],
   "source": [
    "coords_df.sample()"
   ]
  },
  {
   "cell_type": "code",
   "execution_count": 53,
   "id": "74989581-6bf1-4051-b7bd-7bc6a03597ca",
   "metadata": {},
   "outputs": [],
   "source": [
    "# TODO: make sure we match coords corectly\n",
    "coords_df['x_perc'] = coords_df['x'] / coords_df['columns']\n",
    "coords_df['y_perc'] = coords_df['y'] / coords_df['rows']"
   ]
  },
  {
   "cell_type": "code",
   "execution_count": 54,
   "id": "3eb49fa3-a95a-4f6f-9693-b3743e300817",
   "metadata": {},
   "outputs": [
    {
     "data": {
      "text/plain": [
       "((19220, 17), (29472, 17), (48692, 17))"
      ]
     },
     "execution_count": 54,
     "metadata": {},
     "output_type": "execute_result"
    }
   ],
   "source": [
    "ax, non_ax = coords_df[coords_df['series_description'] == 'Axial T2'], coords_df[coords_df['series_description'] != 'Axial T2']\n",
    "ax.shape, non_ax.shape, coords_df.shape"
   ]
  },
  {
   "cell_type": "code",
   "execution_count": 55,
   "id": "7a119eb4-36f0-48ee-b8ac-fbcfc53fea04",
   "metadata": {},
   "outputs": [
    {
     "data": {
      "text/plain": [
       "2.063097514340344"
      ]
     },
     "execution_count": 55,
     "metadata": {},
     "output_type": "execute_result"
    }
   ],
   "source": [
    "coords_df.y.min()"
   ]
  },
  {
   "cell_type": "code",
   "execution_count": 56,
   "id": "f48536a0-c34a-45de-804b-fd0ca3c28005",
   "metadata": {
    "scrolled": true
   },
   "outputs": [
    {
     "name": "stdout",
     "output_type": "stream",
     "text": [
      "0.2849557522123894 0.3092621664050236\n",
      "0.6631964653474212 0.8078096961632665\n",
      "/////////////\n",
      "0.0048828125 0.0040294873326959845\n",
      "0.7684669901065448 0.9117647058823529\n",
      "/////////////\n"
     ]
    }
   ],
   "source": [
    "for c in [ax, non_ax]:\n",
    "    print(c['x_perc'].min(), c['y_perc'].min())\n",
    "    print(c['x_perc'].max(), c['y_perc'].max())\n",
    "    print('/////////////')\n",
    "    # print(c['x_perc'].mean(), c['y_perc'].mean())"
   ]
  },
  {
   "cell_type": "code",
   "execution_count": 57,
   "id": "4fa71521-aec2-41ad-a752-e49b1870d3ea",
   "metadata": {},
   "outputs": [
    {
     "data": {
      "text/plain": [
       "(147218, 14)"
      ]
     },
     "execution_count": 57,
     "metadata": {},
     "output_type": "execute_result"
    }
   ],
   "source": [
    "files_df.shape"
   ]
  },
  {
   "cell_type": "code",
   "execution_count": 58,
   "id": "f7cbe9eb-bc54-429d-ad72-fde6578d9360",
   "metadata": {
    "scrolled": true
   },
   "outputs": [
    {
     "data": {
      "text/html": [
       "<div>\n",
       "<style scoped>\n",
       "    .dataframe tbody tr th:only-of-type {\n",
       "        vertical-align: middle;\n",
       "    }\n",
       "\n",
       "    .dataframe tbody tr th {\n",
       "        vertical-align: top;\n",
       "    }\n",
       "\n",
       "    .dataframe thead th {\n",
       "        text-align: right;\n",
       "    }\n",
       "</style>\n",
       "<table border=\"1\" class=\"dataframe\">\n",
       "  <thead>\n",
       "    <tr style=\"text-align: right;\">\n",
       "      <th></th>\n",
       "      <th>study_id</th>\n",
       "      <th>series_id</th>\n",
       "      <th>image</th>\n",
       "      <th>proj</th>\n",
       "      <th>instancenumber</th>\n",
       "      <th>rows</th>\n",
       "      <th>columns</th>\n",
       "      <th>slicethickness</th>\n",
       "      <th>spacingbetweenslices</th>\n",
       "      <th>patientposition</th>\n",
       "      <th>seriesdescription</th>\n",
       "      <th>ss_id</th>\n",
       "      <th>instance_id</th>\n",
       "      <th>filename</th>\n",
       "      <th>series_description</th>\n",
       "    </tr>\n",
       "  </thead>\n",
       "  <tbody>\n",
       "    <tr>\n",
       "      <th>128844</th>\n",
       "      <td>513538670</td>\n",
       "      <td>3328881488</td>\n",
       "      <td>15</td>\n",
       "      <td>-12</td>\n",
       "      <td>15</td>\n",
       "      <td>320</td>\n",
       "      <td>320</td>\n",
       "      <td>4.0</td>\n",
       "      <td>4.8</td>\n",
       "      <td>HFS</td>\n",
       "      <td>NaN</td>\n",
       "      <td>513538670_3328881488</td>\n",
       "      <td>513538670_3328881488_15</td>\n",
       "      <td>E:\\data\\RSNA2024\\pngs_256\\513538670_3328881488...</td>\n",
       "      <td>Sagittal T2/STIR</td>\n",
       "    </tr>\n",
       "    <tr>\n",
       "      <th>134815</th>\n",
       "      <td>690849662</td>\n",
       "      <td>454779683</td>\n",
       "      <td>42</td>\n",
       "      <td>-625</td>\n",
       "      <td>42</td>\n",
       "      <td>640</td>\n",
       "      <td>640</td>\n",
       "      <td>3.5</td>\n",
       "      <td>3.5</td>\n",
       "      <td>HFS</td>\n",
       "      <td>T2</td>\n",
       "      <td>690849662_454779683</td>\n",
       "      <td>690849662_454779683_42</td>\n",
       "      <td>E:\\data\\RSNA2024\\pngs_256\\690849662_454779683_...</td>\n",
       "      <td>Axial T2</td>\n",
       "    </tr>\n",
       "  </tbody>\n",
       "</table>\n",
       "</div>"
      ],
      "text/plain": [
       "         study_id   series_id  image  proj  instancenumber  rows  columns  \\\n",
       "128844  513538670  3328881488     15   -12              15   320      320   \n",
       "134815  690849662   454779683     42  -625              42   640      640   \n",
       "\n",
       "        slicethickness  spacingbetweenslices patientposition  \\\n",
       "128844             4.0                   4.8             HFS   \n",
       "134815             3.5                   3.5             HFS   \n",
       "\n",
       "       seriesdescription                 ss_id              instance_id  \\\n",
       "128844               NaN  513538670_3328881488  513538670_3328881488_15   \n",
       "134815                T2   690849662_454779683   690849662_454779683_42   \n",
       "\n",
       "                                                 filename series_description  \n",
       "128844  E:\\data\\RSNA2024\\pngs_256\\513538670_3328881488...   Sagittal T2/STIR  \n",
       "134815  E:\\data\\RSNA2024\\pngs_256\\690849662_454779683_...           Axial T2  "
      ]
     },
     "execution_count": 58,
     "metadata": {},
     "output_type": "execute_result"
    }
   ],
   "source": [
    "files_df = pd.merge(files_df, train_desc_df.loc[:, ['ss_id', 'series_description']],  how='inner', left_on=['ss_id'], right_on=['ss_id'])\n",
    "\n",
    "files_df.sample(2)"
   ]
  },
  {
   "cell_type": "code",
   "execution_count": 59,
   "id": "03f1ba49-b1fb-489a-8b95-e44176ac1f4d",
   "metadata": {},
   "outputs": [
    {
     "data": {
      "text/plain": [
       "(147218, 15)"
      ]
     },
     "execution_count": 59,
     "metadata": {},
     "output_type": "execute_result"
    }
   ],
   "source": [
    "files_df.shape"
   ]
  },
  {
   "cell_type": "code",
   "execution_count": 60,
   "id": "882322ff-b5c6-40b9-8c6a-11856f33cefa",
   "metadata": {},
   "outputs": [
    {
     "data": {
      "text/plain": [
       "(0, 0)"
      ]
     },
     "execution_count": 60,
     "metadata": {},
     "output_type": "execute_result"
    }
   ],
   "source": [
    "train_desc_df.series_description.isna().sum(), files_df.series_description.isna().sum()"
   ]
  },
  {
   "cell_type": "code",
   "execution_count": 61,
   "id": "6e8dfe4c-af3d-4d58-958b-2415591b49bd",
   "metadata": {},
   "outputs": [],
   "source": [
    "# # TODO: set correct values for condition and cl\n",
    "# # WTF??? what happened here\n",
    "\n",
    "# files_df['cl'] = 'H'\n",
    "# files_df['condition'] = 'H'"
   ]
  },
  {
   "cell_type": "code",
   "execution_count": 62,
   "id": "d9d8fae8-689b-4c5c-bc23-bd561ef2ac20",
   "metadata": {},
   "outputs": [
    {
     "data": {
      "text/plain": [
       "(48692, 24546)"
      ]
     },
     "execution_count": 62,
     "metadata": {},
     "output_type": "execute_result"
    }
   ],
   "source": [
    "coords_df.instance_id.count(), coords_df.drop_duplicates(subset=['instance_id']).instance_id.count()"
   ]
  },
  {
   "cell_type": "code",
   "execution_count": 63,
   "id": "81d06d1b-b87f-41c4-9e53-cb03e98f9b54",
   "metadata": {},
   "outputs": [
    {
     "data": {
      "text/plain": [
       "24546"
      ]
     },
     "execution_count": 63,
     "metadata": {},
     "output_type": "execute_result"
    }
   ],
   "source": [
    "duplicates = coords_df.instance_id.unique().tolist()\n",
    "\n",
    "len(duplicates)"
   ]
  },
  {
   "cell_type": "code",
   "execution_count": 64,
   "id": "739a3aeb-d485-434c-9ec8-7e566cc185b7",
   "metadata": {},
   "outputs": [],
   "source": [
    "files_df['healthy'] = True\n",
    "files_df.loc[files_df.instance_id.isin(duplicates), 'healthy'] = False"
   ]
  },
  {
   "cell_type": "code",
   "execution_count": 65,
   "id": "c6a1ce53-1df0-4232-95fc-243761bb5b49",
   "metadata": {},
   "outputs": [
    {
     "data": {
      "text/plain": [
       "healthy\n",
       "True     122672\n",
       "False     24546\n",
       "Name: count, dtype: int64"
      ]
     },
     "execution_count": 65,
     "metadata": {},
     "output_type": "execute_result"
    }
   ],
   "source": [
    "files_df.healthy.value_counts()"
   ]
  },
  {
   "cell_type": "code",
   "execution_count": 66,
   "id": "d03472ce-f5e0-4d64-b09b-a5bbe4e66763",
   "metadata": {},
   "outputs": [
    {
     "data": {
      "text/plain": [
       "((147218, 16), 0)"
      ]
     },
     "execution_count": 66,
     "metadata": {},
     "output_type": "execute_result"
    }
   ],
   "source": [
    "files_df.shape, files_df.healthy.isna().sum()"
   ]
  },
  {
   "cell_type": "code",
   "execution_count": 67,
   "id": "3c009baa-0d2d-465e-ae22-54167cf4d586",
   "metadata": {},
   "outputs": [
    {
     "data": {
      "text/html": [
       "<div>\n",
       "<style scoped>\n",
       "    .dataframe tbody tr th:only-of-type {\n",
       "        vertical-align: middle;\n",
       "    }\n",
       "\n",
       "    .dataframe tbody tr th {\n",
       "        vertical-align: top;\n",
       "    }\n",
       "\n",
       "    .dataframe thead th {\n",
       "        text-align: right;\n",
       "    }\n",
       "</style>\n",
       "<table border=\"1\" class=\"dataframe\">\n",
       "  <thead>\n",
       "    <tr style=\"text-align: right;\">\n",
       "      <th></th>\n",
       "      <th>study_id</th>\n",
       "      <th>series_id</th>\n",
       "      <th>image</th>\n",
       "      <th>proj</th>\n",
       "      <th>instancenumber</th>\n",
       "      <th>rows</th>\n",
       "      <th>columns</th>\n",
       "      <th>slicethickness</th>\n",
       "      <th>spacingbetweenslices</th>\n",
       "      <th>patientposition</th>\n",
       "      <th>seriesdescription</th>\n",
       "      <th>ss_id</th>\n",
       "      <th>instance_id</th>\n",
       "      <th>filename</th>\n",
       "      <th>series_description</th>\n",
       "      <th>healthy</th>\n",
       "    </tr>\n",
       "  </thead>\n",
       "  <tbody>\n",
       "    <tr>\n",
       "      <th>14748</th>\n",
       "      <td>1387631768</td>\n",
       "      <td>1355036926</td>\n",
       "      <td>11</td>\n",
       "      <td>3</td>\n",
       "      <td>11</td>\n",
       "      <td>760</td>\n",
       "      <td>640</td>\n",
       "      <td>3.0</td>\n",
       "      <td>3.6</td>\n",
       "      <td>HFS</td>\n",
       "      <td>T1</td>\n",
       "      <td>1387631768_1355036926</td>\n",
       "      <td>1387631768_1355036926_11</td>\n",
       "      <td>E:\\data\\RSNA2024\\pngs_256\\1387631768_135503692...</td>\n",
       "      <td>Sagittal T1</td>\n",
       "      <td>True</td>\n",
       "    </tr>\n",
       "  </tbody>\n",
       "</table>\n",
       "</div>"
      ],
      "text/plain": [
       "         study_id   series_id  image  proj  instancenumber  rows  columns  \\\n",
       "14748  1387631768  1355036926     11     3              11   760      640   \n",
       "\n",
       "       slicethickness  spacingbetweenslices patientposition seriesdescription  \\\n",
       "14748             3.0                   3.6             HFS                T1   \n",
       "\n",
       "                       ss_id               instance_id  \\\n",
       "14748  1387631768_1355036926  1387631768_1355036926_11   \n",
       "\n",
       "                                                filename series_description  \\\n",
       "14748  E:\\data\\RSNA2024\\pngs_256\\1387631768_135503692...        Sagittal T1   \n",
       "\n",
       "       healthy  \n",
       "14748     True  "
      ]
     },
     "execution_count": 67,
     "metadata": {},
     "output_type": "execute_result"
    }
   ],
   "source": [
    "files_df.sample()"
   ]
  },
  {
   "cell_type": "code",
   "execution_count": 68,
   "id": "592d04ec-c07c-4815-bfbe-f3cf36428f53",
   "metadata": {},
   "outputs": [
    {
     "data": {
      "text/html": [
       "<div>\n",
       "<style scoped>\n",
       "    .dataframe tbody tr th:only-of-type {\n",
       "        vertical-align: middle;\n",
       "    }\n",
       "\n",
       "    .dataframe tbody tr th {\n",
       "        vertical-align: top;\n",
       "    }\n",
       "\n",
       "    .dataframe thead th {\n",
       "        text-align: right;\n",
       "    }\n",
       "</style>\n",
       "<table border=\"1\" class=\"dataframe\">\n",
       "  <thead>\n",
       "    <tr style=\"text-align: right;\">\n",
       "      <th></th>\n",
       "      <th>study_id</th>\n",
       "      <th>series_id</th>\n",
       "      <th>image</th>\n",
       "      <th>proj</th>\n",
       "      <th>instancenumber</th>\n",
       "      <th>rows</th>\n",
       "      <th>columns</th>\n",
       "      <th>slicethickness</th>\n",
       "      <th>spacingbetweenslices</th>\n",
       "      <th>patientposition</th>\n",
       "      <th>seriesdescription</th>\n",
       "      <th>ss_id</th>\n",
       "      <th>instance_id</th>\n",
       "      <th>filename</th>\n",
       "      <th>series_description</th>\n",
       "      <th>healthy</th>\n",
       "      <th>inst_min</th>\n",
       "      <th>inst_max</th>\n",
       "      <th>inst</th>\n",
       "      <th>inst_perc</th>\n",
       "    </tr>\n",
       "  </thead>\n",
       "  <tbody>\n",
       "    <tr>\n",
       "      <th>0</th>\n",
       "      <td>100206310</td>\n",
       "      <td>1012284084</td>\n",
       "      <td>1</td>\n",
       "      <td>-394</td>\n",
       "      <td>1</td>\n",
       "      <td>320</td>\n",
       "      <td>320</td>\n",
       "      <td>3.5</td>\n",
       "      <td>3.5</td>\n",
       "      <td>HFS</td>\n",
       "      <td>T2</td>\n",
       "      <td>100206310_1012284084</td>\n",
       "      <td>100206310_1012284084_1</td>\n",
       "      <td>E:\\data\\RSNA2024\\pngs_256\\100206310_1012284084...</td>\n",
       "      <td>Axial T2</td>\n",
       "      <td>True</td>\n",
       "      <td>1</td>\n",
       "      <td>60</td>\n",
       "      <td>0</td>\n",
       "      <td>0.00</td>\n",
       "    </tr>\n",
       "    <tr>\n",
       "      <th>1</th>\n",
       "      <td>100206310</td>\n",
       "      <td>1012284084</td>\n",
       "      <td>10</td>\n",
       "      <td>-427</td>\n",
       "      <td>10</td>\n",
       "      <td>320</td>\n",
       "      <td>320</td>\n",
       "      <td>3.5</td>\n",
       "      <td>3.5</td>\n",
       "      <td>HFS</td>\n",
       "      <td>T2</td>\n",
       "      <td>100206310_1012284084</td>\n",
       "      <td>100206310_1012284084_10</td>\n",
       "      <td>E:\\data\\RSNA2024\\pngs_256\\100206310_1012284084...</td>\n",
       "      <td>Axial T2</td>\n",
       "      <td>True</td>\n",
       "      <td>1</td>\n",
       "      <td>60</td>\n",
       "      <td>9</td>\n",
       "      <td>0.15</td>\n",
       "    </tr>\n",
       "  </tbody>\n",
       "</table>\n",
       "</div>"
      ],
      "text/plain": [
       "    study_id   series_id  image  proj  instancenumber  rows  columns  \\\n",
       "0  100206310  1012284084      1  -394               1   320      320   \n",
       "1  100206310  1012284084     10  -427              10   320      320   \n",
       "\n",
       "   slicethickness  spacingbetweenslices patientposition seriesdescription  \\\n",
       "0             3.5                   3.5             HFS                T2   \n",
       "1             3.5                   3.5             HFS                T2   \n",
       "\n",
       "                  ss_id              instance_id  \\\n",
       "0  100206310_1012284084   100206310_1012284084_1   \n",
       "1  100206310_1012284084  100206310_1012284084_10   \n",
       "\n",
       "                                            filename series_description  \\\n",
       "0  E:\\data\\RSNA2024\\pngs_256\\100206310_1012284084...           Axial T2   \n",
       "1  E:\\data\\RSNA2024\\pngs_256\\100206310_1012284084...           Axial T2   \n",
       "\n",
       "   healthy  inst_min  inst_max  inst  inst_perc  \n",
       "0     True         1        60     0       0.00  \n",
       "1     True         1        60     9       0.15  "
      ]
     },
     "execution_count": 68,
     "metadata": {},
     "output_type": "execute_result"
    }
   ],
   "source": [
    "files_df['inst_min'] = files_df.groupby('ss_id')['instancenumber'].transform('min')\n",
    "files_df['inst_max'] = files_df.groupby('ss_id')['instancenumber'].transform('max')\n",
    "\n",
    "files_df['inst'] = files_df['instancenumber'] - files_df['inst_min']\n",
    "files_df['inst_perc'] = files_df['inst'] / files_df['inst_max']\n",
    "\n",
    "files_df.head(2)"
   ]
  },
  {
   "cell_type": "code",
   "execution_count": 69,
   "id": "be4a1182-5997-4a81-b97c-71f918d2a69a",
   "metadata": {},
   "outputs": [
    {
     "data": {
      "text/html": [
       "<div>\n",
       "<style scoped>\n",
       "    .dataframe tbody tr th:only-of-type {\n",
       "        vertical-align: middle;\n",
       "    }\n",
       "\n",
       "    .dataframe tbody tr th {\n",
       "        vertical-align: top;\n",
       "    }\n",
       "\n",
       "    .dataframe thead th {\n",
       "        text-align: right;\n",
       "    }\n",
       "</style>\n",
       "<table border=\"1\" class=\"dataframe\">\n",
       "  <thead>\n",
       "    <tr style=\"text-align: right;\">\n",
       "      <th></th>\n",
       "      <th>study_id</th>\n",
       "      <th>series_id</th>\n",
       "      <th>instance</th>\n",
       "      <th>condition</th>\n",
       "      <th>level</th>\n",
       "      <th>x</th>\n",
       "      <th>y</th>\n",
       "      <th>ss_id</th>\n",
       "      <th>instance_id</th>\n",
       "      <th>cl</th>\n",
       "      <th>series_description</th>\n",
       "      <th>rows</th>\n",
       "      <th>columns</th>\n",
       "      <th>filename</th>\n",
       "      <th>patientposition</th>\n",
       "      <th>x_perc</th>\n",
       "      <th>y_perc</th>\n",
       "      <th>inst_perc</th>\n",
       "    </tr>\n",
       "  </thead>\n",
       "  <tbody>\n",
       "    <tr>\n",
       "      <th>12819</th>\n",
       "      <td>1140449293</td>\n",
       "      <td>2651120449</td>\n",
       "      <td>37</td>\n",
       "      <td>LSS</td>\n",
       "      <td>L5S1</td>\n",
       "      <td>168.958850</td>\n",
       "      <td>173.317192</td>\n",
       "      <td>1140449293_2651120449</td>\n",
       "      <td>1140449293_2651120449_37</td>\n",
       "      <td>LSSL5S1</td>\n",
       "      <td>Axial T2</td>\n",
       "      <td>320</td>\n",
       "      <td>320</td>\n",
       "      <td>E:\\data\\RSNA2024\\pngs_256\\1140449293_265112044...</td>\n",
       "      <td>HFS</td>\n",
       "      <td>0.527996</td>\n",
       "      <td>0.541616</td>\n",
       "      <td>0.818182</td>\n",
       "    </tr>\n",
       "    <tr>\n",
       "      <th>6012</th>\n",
       "      <td>525034566</td>\n",
       "      <td>2558329102</td>\n",
       "      <td>4</td>\n",
       "      <td>LNFN</td>\n",
       "      <td>L4L5</td>\n",
       "      <td>126.980213</td>\n",
       "      <td>161.315068</td>\n",
       "      <td>525034566_2558329102</td>\n",
       "      <td>525034566_2558329102_4</td>\n",
       "      <td>LNFNL4L5</td>\n",
       "      <td>Sagittal T1</td>\n",
       "      <td>256</td>\n",
       "      <td>256</td>\n",
       "      <td>E:\\data\\RSNA2024\\pngs_256\\525034566_2558329102...</td>\n",
       "      <td>HFS</td>\n",
       "      <td>0.496016</td>\n",
       "      <td>0.630137</td>\n",
       "      <td>0.200000</td>\n",
       "    </tr>\n",
       "  </tbody>\n",
       "</table>\n",
       "</div>"
      ],
      "text/plain": [
       "         study_id   series_id  instance condition level           x  \\\n",
       "12819  1140449293  2651120449        37       LSS  L5S1  168.958850   \n",
       "6012    525034566  2558329102         4      LNFN  L4L5  126.980213   \n",
       "\n",
       "                y                  ss_id               instance_id        cl  \\\n",
       "12819  173.317192  1140449293_2651120449  1140449293_2651120449_37   LSSL5S1   \n",
       "6012   161.315068   525034566_2558329102    525034566_2558329102_4  LNFNL4L5   \n",
       "\n",
       "      series_description  rows  columns  \\\n",
       "12819           Axial T2   320      320   \n",
       "6012         Sagittal T1   256      256   \n",
       "\n",
       "                                                filename patientposition  \\\n",
       "12819  E:\\data\\RSNA2024\\pngs_256\\1140449293_265112044...             HFS   \n",
       "6012   E:\\data\\RSNA2024\\pngs_256\\525034566_2558329102...             HFS   \n",
       "\n",
       "         x_perc    y_perc  inst_perc  \n",
       "12819  0.527996  0.541616   0.818182  \n",
       "6012   0.496016  0.630137   0.200000  "
      ]
     },
     "execution_count": 69,
     "metadata": {},
     "output_type": "execute_result"
    }
   ],
   "source": [
    "coords_df = pd.merge(coords_df, files_df[['instance_id','inst_perc']], left_on='instance_id', right_on='instance_id')\n",
    "\n",
    "coords_df.sample(2)"
   ]
  },
  {
   "cell_type": "code",
   "execution_count": 70,
   "id": "45eb3f26-3de9-436b-bfe6-152b6198cf19",
   "metadata": {},
   "outputs": [],
   "source": [
    "# sort files according to immage\n",
    "files_df.sort_values(['study_id', 'series_id', 'image'], ascending=[False, False, True], inplace=True)"
   ]
  },
  {
   "cell_type": "code",
   "execution_count": 71,
   "id": "ba2fcae1-55e5-46c9-bacc-89cebf775747",
   "metadata": {},
   "outputs": [
    {
     "data": {
      "text/html": [
       "<div>\n",
       "<style scoped>\n",
       "    .dataframe tbody tr th:only-of-type {\n",
       "        vertical-align: middle;\n",
       "    }\n",
       "\n",
       "    .dataframe tbody tr th {\n",
       "        vertical-align: top;\n",
       "    }\n",
       "\n",
       "    .dataframe thead th {\n",
       "        text-align: right;\n",
       "    }\n",
       "</style>\n",
       "<table border=\"1\" class=\"dataframe\">\n",
       "  <thead>\n",
       "    <tr style=\"text-align: right;\">\n",
       "      <th></th>\n",
       "      <th>study_id</th>\n",
       "      <th>series_id</th>\n",
       "      <th>image</th>\n",
       "      <th>proj</th>\n",
       "      <th>instancenumber</th>\n",
       "      <th>rows</th>\n",
       "      <th>columns</th>\n",
       "      <th>slicethickness</th>\n",
       "      <th>spacingbetweenslices</th>\n",
       "      <th>patientposition</th>\n",
       "      <th>seriesdescription</th>\n",
       "      <th>ss_id</th>\n",
       "      <th>instance_id</th>\n",
       "      <th>filename</th>\n",
       "      <th>series_description</th>\n",
       "      <th>healthy</th>\n",
       "      <th>inst_min</th>\n",
       "      <th>inst_max</th>\n",
       "      <th>inst</th>\n",
       "      <th>inst_perc</th>\n",
       "    </tr>\n",
       "  </thead>\n",
       "  <tbody>\n",
       "    <tr>\n",
       "      <th>125671</th>\n",
       "      <td>4290709089</td>\n",
       "      <td>4237840455</td>\n",
       "      <td>1</td>\n",
       "      <td>19</td>\n",
       "      <td>1</td>\n",
       "      <td>384</td>\n",
       "      <td>384</td>\n",
       "      <td>4.0</td>\n",
       "      <td>4.6</td>\n",
       "      <td>HFS</td>\n",
       "      <td>NaN</td>\n",
       "      <td>4290709089_4237840455</td>\n",
       "      <td>4290709089_4237840455_1</td>\n",
       "      <td>E:\\data\\RSNA2024\\pngs_256\\4290709089_423784045...</td>\n",
       "      <td>Sagittal T1</td>\n",
       "      <td>True</td>\n",
       "      <td>1</td>\n",
       "      <td>15</td>\n",
       "      <td>0</td>\n",
       "      <td>0.000000</td>\n",
       "    </tr>\n",
       "    <tr>\n",
       "      <th>125678</th>\n",
       "      <td>4290709089</td>\n",
       "      <td>4237840455</td>\n",
       "      <td>2</td>\n",
       "      <td>14</td>\n",
       "      <td>2</td>\n",
       "      <td>384</td>\n",
       "      <td>384</td>\n",
       "      <td>4.0</td>\n",
       "      <td>4.6</td>\n",
       "      <td>HFS</td>\n",
       "      <td>NaN</td>\n",
       "      <td>4290709089_4237840455</td>\n",
       "      <td>4290709089_4237840455_2</td>\n",
       "      <td>E:\\data\\RSNA2024\\pngs_256\\4290709089_423784045...</td>\n",
       "      <td>Sagittal T1</td>\n",
       "      <td>True</td>\n",
       "      <td>1</td>\n",
       "      <td>15</td>\n",
       "      <td>1</td>\n",
       "      <td>0.066667</td>\n",
       "    </tr>\n",
       "    <tr>\n",
       "      <th>125679</th>\n",
       "      <td>4290709089</td>\n",
       "      <td>4237840455</td>\n",
       "      <td>3</td>\n",
       "      <td>10</td>\n",
       "      <td>3</td>\n",
       "      <td>384</td>\n",
       "      <td>384</td>\n",
       "      <td>4.0</td>\n",
       "      <td>4.6</td>\n",
       "      <td>HFS</td>\n",
       "      <td>NaN</td>\n",
       "      <td>4290709089_4237840455</td>\n",
       "      <td>4290709089_4237840455_3</td>\n",
       "      <td>E:\\data\\RSNA2024\\pngs_256\\4290709089_423784045...</td>\n",
       "      <td>Sagittal T1</td>\n",
       "      <td>True</td>\n",
       "      <td>1</td>\n",
       "      <td>15</td>\n",
       "      <td>2</td>\n",
       "      <td>0.133333</td>\n",
       "    </tr>\n",
       "    <tr>\n",
       "      <th>125680</th>\n",
       "      <td>4290709089</td>\n",
       "      <td>4237840455</td>\n",
       "      <td>4</td>\n",
       "      <td>5</td>\n",
       "      <td>4</td>\n",
       "      <td>384</td>\n",
       "      <td>384</td>\n",
       "      <td>4.0</td>\n",
       "      <td>4.6</td>\n",
       "      <td>HFS</td>\n",
       "      <td>NaN</td>\n",
       "      <td>4290709089_4237840455</td>\n",
       "      <td>4290709089_4237840455_4</td>\n",
       "      <td>E:\\data\\RSNA2024\\pngs_256\\4290709089_423784045...</td>\n",
       "      <td>Sagittal T1</td>\n",
       "      <td>False</td>\n",
       "      <td>1</td>\n",
       "      <td>15</td>\n",
       "      <td>3</td>\n",
       "      <td>0.200000</td>\n",
       "    </tr>\n",
       "    <tr>\n",
       "      <th>125681</th>\n",
       "      <td>4290709089</td>\n",
       "      <td>4237840455</td>\n",
       "      <td>5</td>\n",
       "      <td>0</td>\n",
       "      <td>5</td>\n",
       "      <td>384</td>\n",
       "      <td>384</td>\n",
       "      <td>4.0</td>\n",
       "      <td>4.6</td>\n",
       "      <td>HFS</td>\n",
       "      <td>NaN</td>\n",
       "      <td>4290709089_4237840455</td>\n",
       "      <td>4290709089_4237840455_5</td>\n",
       "      <td>E:\\data\\RSNA2024\\pngs_256\\4290709089_423784045...</td>\n",
       "      <td>Sagittal T1</td>\n",
       "      <td>False</td>\n",
       "      <td>1</td>\n",
       "      <td>15</td>\n",
       "      <td>4</td>\n",
       "      <td>0.266667</td>\n",
       "    </tr>\n",
       "    <tr>\n",
       "      <th>125682</th>\n",
       "      <td>4290709089</td>\n",
       "      <td>4237840455</td>\n",
       "      <td>6</td>\n",
       "      <td>-3</td>\n",
       "      <td>6</td>\n",
       "      <td>384</td>\n",
       "      <td>384</td>\n",
       "      <td>4.0</td>\n",
       "      <td>4.6</td>\n",
       "      <td>HFS</td>\n",
       "      <td>NaN</td>\n",
       "      <td>4290709089_4237840455</td>\n",
       "      <td>4290709089_4237840455_6</td>\n",
       "      <td>E:\\data\\RSNA2024\\pngs_256\\4290709089_423784045...</td>\n",
       "      <td>Sagittal T1</td>\n",
       "      <td>True</td>\n",
       "      <td>1</td>\n",
       "      <td>15</td>\n",
       "      <td>5</td>\n",
       "      <td>0.333333</td>\n",
       "    </tr>\n",
       "    <tr>\n",
       "      <th>125683</th>\n",
       "      <td>4290709089</td>\n",
       "      <td>4237840455</td>\n",
       "      <td>7</td>\n",
       "      <td>-8</td>\n",
       "      <td>7</td>\n",
       "      <td>384</td>\n",
       "      <td>384</td>\n",
       "      <td>4.0</td>\n",
       "      <td>4.6</td>\n",
       "      <td>HFS</td>\n",
       "      <td>NaN</td>\n",
       "      <td>4290709089_4237840455</td>\n",
       "      <td>4290709089_4237840455_7</td>\n",
       "      <td>E:\\data\\RSNA2024\\pngs_256\\4290709089_423784045...</td>\n",
       "      <td>Sagittal T1</td>\n",
       "      <td>True</td>\n",
       "      <td>1</td>\n",
       "      <td>15</td>\n",
       "      <td>6</td>\n",
       "      <td>0.400000</td>\n",
       "    </tr>\n",
       "    <tr>\n",
       "      <th>125684</th>\n",
       "      <td>4290709089</td>\n",
       "      <td>4237840455</td>\n",
       "      <td>8</td>\n",
       "      <td>-12</td>\n",
       "      <td>8</td>\n",
       "      <td>384</td>\n",
       "      <td>384</td>\n",
       "      <td>4.0</td>\n",
       "      <td>4.6</td>\n",
       "      <td>HFS</td>\n",
       "      <td>NaN</td>\n",
       "      <td>4290709089_4237840455</td>\n",
       "      <td>4290709089_4237840455_8</td>\n",
       "      <td>E:\\data\\RSNA2024\\pngs_256\\4290709089_423784045...</td>\n",
       "      <td>Sagittal T1</td>\n",
       "      <td>True</td>\n",
       "      <td>1</td>\n",
       "      <td>15</td>\n",
       "      <td>7</td>\n",
       "      <td>0.466667</td>\n",
       "    </tr>\n",
       "    <tr>\n",
       "      <th>125685</th>\n",
       "      <td>4290709089</td>\n",
       "      <td>4237840455</td>\n",
       "      <td>9</td>\n",
       "      <td>-17</td>\n",
       "      <td>9</td>\n",
       "      <td>384</td>\n",
       "      <td>384</td>\n",
       "      <td>4.0</td>\n",
       "      <td>4.6</td>\n",
       "      <td>HFS</td>\n",
       "      <td>NaN</td>\n",
       "      <td>4290709089_4237840455</td>\n",
       "      <td>4290709089_4237840455_9</td>\n",
       "      <td>E:\\data\\RSNA2024\\pngs_256\\4290709089_423784045...</td>\n",
       "      <td>Sagittal T1</td>\n",
       "      <td>True</td>\n",
       "      <td>1</td>\n",
       "      <td>15</td>\n",
       "      <td>8</td>\n",
       "      <td>0.533333</td>\n",
       "    </tr>\n",
       "    <tr>\n",
       "      <th>125672</th>\n",
       "      <td>4290709089</td>\n",
       "      <td>4237840455</td>\n",
       "      <td>10</td>\n",
       "      <td>-22</td>\n",
       "      <td>10</td>\n",
       "      <td>384</td>\n",
       "      <td>384</td>\n",
       "      <td>4.0</td>\n",
       "      <td>4.6</td>\n",
       "      <td>HFS</td>\n",
       "      <td>NaN</td>\n",
       "      <td>4290709089_4237840455</td>\n",
       "      <td>4290709089_4237840455_10</td>\n",
       "      <td>E:\\data\\RSNA2024\\pngs_256\\4290709089_423784045...</td>\n",
       "      <td>Sagittal T1</td>\n",
       "      <td>True</td>\n",
       "      <td>1</td>\n",
       "      <td>15</td>\n",
       "      <td>9</td>\n",
       "      <td>0.600000</td>\n",
       "    </tr>\n",
       "  </tbody>\n",
       "</table>\n",
       "</div>"
      ],
      "text/plain": [
       "          study_id   series_id  image  proj  instancenumber  rows  columns  \\\n",
       "125671  4290709089  4237840455      1    19               1   384      384   \n",
       "125678  4290709089  4237840455      2    14               2   384      384   \n",
       "125679  4290709089  4237840455      3    10               3   384      384   \n",
       "125680  4290709089  4237840455      4     5               4   384      384   \n",
       "125681  4290709089  4237840455      5     0               5   384      384   \n",
       "125682  4290709089  4237840455      6    -3               6   384      384   \n",
       "125683  4290709089  4237840455      7    -8               7   384      384   \n",
       "125684  4290709089  4237840455      8   -12               8   384      384   \n",
       "125685  4290709089  4237840455      9   -17               9   384      384   \n",
       "125672  4290709089  4237840455     10   -22              10   384      384   \n",
       "\n",
       "        slicethickness  spacingbetweenslices patientposition  \\\n",
       "125671             4.0                   4.6             HFS   \n",
       "125678             4.0                   4.6             HFS   \n",
       "125679             4.0                   4.6             HFS   \n",
       "125680             4.0                   4.6             HFS   \n",
       "125681             4.0                   4.6             HFS   \n",
       "125682             4.0                   4.6             HFS   \n",
       "125683             4.0                   4.6             HFS   \n",
       "125684             4.0                   4.6             HFS   \n",
       "125685             4.0                   4.6             HFS   \n",
       "125672             4.0                   4.6             HFS   \n",
       "\n",
       "       seriesdescription                  ss_id               instance_id  \\\n",
       "125671               NaN  4290709089_4237840455   4290709089_4237840455_1   \n",
       "125678               NaN  4290709089_4237840455   4290709089_4237840455_2   \n",
       "125679               NaN  4290709089_4237840455   4290709089_4237840455_3   \n",
       "125680               NaN  4290709089_4237840455   4290709089_4237840455_4   \n",
       "125681               NaN  4290709089_4237840455   4290709089_4237840455_5   \n",
       "125682               NaN  4290709089_4237840455   4290709089_4237840455_6   \n",
       "125683               NaN  4290709089_4237840455   4290709089_4237840455_7   \n",
       "125684               NaN  4290709089_4237840455   4290709089_4237840455_8   \n",
       "125685               NaN  4290709089_4237840455   4290709089_4237840455_9   \n",
       "125672               NaN  4290709089_4237840455  4290709089_4237840455_10   \n",
       "\n",
       "                                                 filename series_description  \\\n",
       "125671  E:\\data\\RSNA2024\\pngs_256\\4290709089_423784045...        Sagittal T1   \n",
       "125678  E:\\data\\RSNA2024\\pngs_256\\4290709089_423784045...        Sagittal T1   \n",
       "125679  E:\\data\\RSNA2024\\pngs_256\\4290709089_423784045...        Sagittal T1   \n",
       "125680  E:\\data\\RSNA2024\\pngs_256\\4290709089_423784045...        Sagittal T1   \n",
       "125681  E:\\data\\RSNA2024\\pngs_256\\4290709089_423784045...        Sagittal T1   \n",
       "125682  E:\\data\\RSNA2024\\pngs_256\\4290709089_423784045...        Sagittal T1   \n",
       "125683  E:\\data\\RSNA2024\\pngs_256\\4290709089_423784045...        Sagittal T1   \n",
       "125684  E:\\data\\RSNA2024\\pngs_256\\4290709089_423784045...        Sagittal T1   \n",
       "125685  E:\\data\\RSNA2024\\pngs_256\\4290709089_423784045...        Sagittal T1   \n",
       "125672  E:\\data\\RSNA2024\\pngs_256\\4290709089_423784045...        Sagittal T1   \n",
       "\n",
       "        healthy  inst_min  inst_max  inst  inst_perc  \n",
       "125671     True         1        15     0   0.000000  \n",
       "125678     True         1        15     1   0.066667  \n",
       "125679     True         1        15     2   0.133333  \n",
       "125680    False         1        15     3   0.200000  \n",
       "125681    False         1        15     4   0.266667  \n",
       "125682     True         1        15     5   0.333333  \n",
       "125683     True         1        15     6   0.400000  \n",
       "125684     True         1        15     7   0.466667  \n",
       "125685     True         1        15     8   0.533333  \n",
       "125672     True         1        15     9   0.600000  "
      ]
     },
     "execution_count": 71,
     "metadata": {},
     "output_type": "execute_result"
    }
   ],
   "source": [
    "files_df.head(10)"
   ]
  },
  {
   "cell_type": "code",
   "execution_count": 78,
   "id": "fbc13521-26ed-4212-bbd8-1cba6ccfd12a",
   "metadata": {},
   "outputs": [
    {
     "data": {
      "text/plain": [
       "False"
      ]
     },
     "execution_count": 78,
     "metadata": {},
     "output_type": "execute_result"
    }
   ],
   "source": [
    "idx1 = files_df.sort_values(['study_id', 'series_id', 'image'], ascending=[False, False, True]).index\n",
    "idx2 = files_df.sort_values(['study_id', 'series_id', 'proj'], ascending=[False, False, True]).index\n",
    "\n",
    "idx1.equals(idx2)"
   ]
  },
  {
   "cell_type": "markdown",
   "id": "d2c3bacf-9e1e-439e-ad1a-8e7ebc2f538a",
   "metadata": {},
   "source": [
    "### Save results"
   ]
  },
  {
   "cell_type": "code",
   "execution_count": 73,
   "id": "23150446-04b1-4c7d-a440-df023735ea3c",
   "metadata": {},
   "outputs": [],
   "source": [
    "train_df.to_csv(CFG.DEST_FOLDER / 'train.csv', index=False)"
   ]
  },
  {
   "cell_type": "code",
   "execution_count": 74,
   "id": "bc960a50-34f0-4c26-9c60-0336a8a71977",
   "metadata": {},
   "outputs": [],
   "source": [
    "coords_df.to_csv(CFG.DEST_FOLDER / 'train_label_coordinates.csv', index=False)"
   ]
  },
  {
   "cell_type": "code",
   "execution_count": 75,
   "id": "b66d6904-6d02-4de7-9b68-a1b5a577be5c",
   "metadata": {},
   "outputs": [],
   "source": [
    "files_df.to_csv(CFG.DEST_FOLDER / 'train_files.csv', index=False)"
   ]
  },
  {
   "cell_type": "code",
   "execution_count": 77,
   "id": "24f6c5e7-8761-4d7e-8db9-f94ee089d41c",
   "metadata": {},
   "outputs": [
    {
     "data": {
      "text/html": [
       "<div>\n",
       "<style scoped>\n",
       "    .dataframe tbody tr th:only-of-type {\n",
       "        vertical-align: middle;\n",
       "    }\n",
       "\n",
       "    .dataframe tbody tr th {\n",
       "        vertical-align: top;\n",
       "    }\n",
       "\n",
       "    .dataframe thead th {\n",
       "        text-align: right;\n",
       "    }\n",
       "</style>\n",
       "<table border=\"1\" class=\"dataframe\">\n",
       "  <thead>\n",
       "    <tr style=\"text-align: right;\">\n",
       "      <th></th>\n",
       "      <th>study_id</th>\n",
       "      <th>series_id</th>\n",
       "      <th>image</th>\n",
       "      <th>proj</th>\n",
       "      <th>instancenumber</th>\n",
       "      <th>rows</th>\n",
       "      <th>columns</th>\n",
       "      <th>slicethickness</th>\n",
       "      <th>spacingbetweenslices</th>\n",
       "      <th>patientposition</th>\n",
       "      <th>seriesdescription</th>\n",
       "      <th>ss_id</th>\n",
       "      <th>instance_id</th>\n",
       "      <th>filename</th>\n",
       "      <th>series_description</th>\n",
       "      <th>healthy</th>\n",
       "      <th>inst_min</th>\n",
       "      <th>inst_max</th>\n",
       "      <th>inst</th>\n",
       "      <th>inst_perc</th>\n",
       "    </tr>\n",
       "  </thead>\n",
       "  <tbody>\n",
       "    <tr>\n",
       "      <th>125671</th>\n",
       "      <td>4290709089</td>\n",
       "      <td>4237840455</td>\n",
       "      <td>1</td>\n",
       "      <td>19</td>\n",
       "      <td>1</td>\n",
       "      <td>384</td>\n",
       "      <td>384</td>\n",
       "      <td>4.0</td>\n",
       "      <td>4.6</td>\n",
       "      <td>HFS</td>\n",
       "      <td>NaN</td>\n",
       "      <td>4290709089_4237840455</td>\n",
       "      <td>4290709089_4237840455_1</td>\n",
       "      <td>E:\\data\\RSNA2024\\pngs_256\\4290709089_423784045...</td>\n",
       "      <td>Sagittal T1</td>\n",
       "      <td>True</td>\n",
       "      <td>1</td>\n",
       "      <td>15</td>\n",
       "      <td>0</td>\n",
       "      <td>0.000000</td>\n",
       "    </tr>\n",
       "    <tr>\n",
       "      <th>125678</th>\n",
       "      <td>4290709089</td>\n",
       "      <td>4237840455</td>\n",
       "      <td>2</td>\n",
       "      <td>14</td>\n",
       "      <td>2</td>\n",
       "      <td>384</td>\n",
       "      <td>384</td>\n",
       "      <td>4.0</td>\n",
       "      <td>4.6</td>\n",
       "      <td>HFS</td>\n",
       "      <td>NaN</td>\n",
       "      <td>4290709089_4237840455</td>\n",
       "      <td>4290709089_4237840455_2</td>\n",
       "      <td>E:\\data\\RSNA2024\\pngs_256\\4290709089_423784045...</td>\n",
       "      <td>Sagittal T1</td>\n",
       "      <td>True</td>\n",
       "      <td>1</td>\n",
       "      <td>15</td>\n",
       "      <td>1</td>\n",
       "      <td>0.066667</td>\n",
       "    </tr>\n",
       "    <tr>\n",
       "      <th>125679</th>\n",
       "      <td>4290709089</td>\n",
       "      <td>4237840455</td>\n",
       "      <td>3</td>\n",
       "      <td>10</td>\n",
       "      <td>3</td>\n",
       "      <td>384</td>\n",
       "      <td>384</td>\n",
       "      <td>4.0</td>\n",
       "      <td>4.6</td>\n",
       "      <td>HFS</td>\n",
       "      <td>NaN</td>\n",
       "      <td>4290709089_4237840455</td>\n",
       "      <td>4290709089_4237840455_3</td>\n",
       "      <td>E:\\data\\RSNA2024\\pngs_256\\4290709089_423784045...</td>\n",
       "      <td>Sagittal T1</td>\n",
       "      <td>True</td>\n",
       "      <td>1</td>\n",
       "      <td>15</td>\n",
       "      <td>2</td>\n",
       "      <td>0.133333</td>\n",
       "    </tr>\n",
       "    <tr>\n",
       "      <th>125680</th>\n",
       "      <td>4290709089</td>\n",
       "      <td>4237840455</td>\n",
       "      <td>4</td>\n",
       "      <td>5</td>\n",
       "      <td>4</td>\n",
       "      <td>384</td>\n",
       "      <td>384</td>\n",
       "      <td>4.0</td>\n",
       "      <td>4.6</td>\n",
       "      <td>HFS</td>\n",
       "      <td>NaN</td>\n",
       "      <td>4290709089_4237840455</td>\n",
       "      <td>4290709089_4237840455_4</td>\n",
       "      <td>E:\\data\\RSNA2024\\pngs_256\\4290709089_423784045...</td>\n",
       "      <td>Sagittal T1</td>\n",
       "      <td>False</td>\n",
       "      <td>1</td>\n",
       "      <td>15</td>\n",
       "      <td>3</td>\n",
       "      <td>0.200000</td>\n",
       "    </tr>\n",
       "    <tr>\n",
       "      <th>125681</th>\n",
       "      <td>4290709089</td>\n",
       "      <td>4237840455</td>\n",
       "      <td>5</td>\n",
       "      <td>0</td>\n",
       "      <td>5</td>\n",
       "      <td>384</td>\n",
       "      <td>384</td>\n",
       "      <td>4.0</td>\n",
       "      <td>4.6</td>\n",
       "      <td>HFS</td>\n",
       "      <td>NaN</td>\n",
       "      <td>4290709089_4237840455</td>\n",
       "      <td>4290709089_4237840455_5</td>\n",
       "      <td>E:\\data\\RSNA2024\\pngs_256\\4290709089_423784045...</td>\n",
       "      <td>Sagittal T1</td>\n",
       "      <td>False</td>\n",
       "      <td>1</td>\n",
       "      <td>15</td>\n",
       "      <td>4</td>\n",
       "      <td>0.266667</td>\n",
       "    </tr>\n",
       "    <tr>\n",
       "      <th>125682</th>\n",
       "      <td>4290709089</td>\n",
       "      <td>4237840455</td>\n",
       "      <td>6</td>\n",
       "      <td>-3</td>\n",
       "      <td>6</td>\n",
       "      <td>384</td>\n",
       "      <td>384</td>\n",
       "      <td>4.0</td>\n",
       "      <td>4.6</td>\n",
       "      <td>HFS</td>\n",
       "      <td>NaN</td>\n",
       "      <td>4290709089_4237840455</td>\n",
       "      <td>4290709089_4237840455_6</td>\n",
       "      <td>E:\\data\\RSNA2024\\pngs_256\\4290709089_423784045...</td>\n",
       "      <td>Sagittal T1</td>\n",
       "      <td>True</td>\n",
       "      <td>1</td>\n",
       "      <td>15</td>\n",
       "      <td>5</td>\n",
       "      <td>0.333333</td>\n",
       "    </tr>\n",
       "    <tr>\n",
       "      <th>125683</th>\n",
       "      <td>4290709089</td>\n",
       "      <td>4237840455</td>\n",
       "      <td>7</td>\n",
       "      <td>-8</td>\n",
       "      <td>7</td>\n",
       "      <td>384</td>\n",
       "      <td>384</td>\n",
       "      <td>4.0</td>\n",
       "      <td>4.6</td>\n",
       "      <td>HFS</td>\n",
       "      <td>NaN</td>\n",
       "      <td>4290709089_4237840455</td>\n",
       "      <td>4290709089_4237840455_7</td>\n",
       "      <td>E:\\data\\RSNA2024\\pngs_256\\4290709089_423784045...</td>\n",
       "      <td>Sagittal T1</td>\n",
       "      <td>True</td>\n",
       "      <td>1</td>\n",
       "      <td>15</td>\n",
       "      <td>6</td>\n",
       "      <td>0.400000</td>\n",
       "    </tr>\n",
       "    <tr>\n",
       "      <th>125684</th>\n",
       "      <td>4290709089</td>\n",
       "      <td>4237840455</td>\n",
       "      <td>8</td>\n",
       "      <td>-12</td>\n",
       "      <td>8</td>\n",
       "      <td>384</td>\n",
       "      <td>384</td>\n",
       "      <td>4.0</td>\n",
       "      <td>4.6</td>\n",
       "      <td>HFS</td>\n",
       "      <td>NaN</td>\n",
       "      <td>4290709089_4237840455</td>\n",
       "      <td>4290709089_4237840455_8</td>\n",
       "      <td>E:\\data\\RSNA2024\\pngs_256\\4290709089_423784045...</td>\n",
       "      <td>Sagittal T1</td>\n",
       "      <td>True</td>\n",
       "      <td>1</td>\n",
       "      <td>15</td>\n",
       "      <td>7</td>\n",
       "      <td>0.466667</td>\n",
       "    </tr>\n",
       "    <tr>\n",
       "      <th>125685</th>\n",
       "      <td>4290709089</td>\n",
       "      <td>4237840455</td>\n",
       "      <td>9</td>\n",
       "      <td>-17</td>\n",
       "      <td>9</td>\n",
       "      <td>384</td>\n",
       "      <td>384</td>\n",
       "      <td>4.0</td>\n",
       "      <td>4.6</td>\n",
       "      <td>HFS</td>\n",
       "      <td>NaN</td>\n",
       "      <td>4290709089_4237840455</td>\n",
       "      <td>4290709089_4237840455_9</td>\n",
       "      <td>E:\\data\\RSNA2024\\pngs_256\\4290709089_423784045...</td>\n",
       "      <td>Sagittal T1</td>\n",
       "      <td>True</td>\n",
       "      <td>1</td>\n",
       "      <td>15</td>\n",
       "      <td>8</td>\n",
       "      <td>0.533333</td>\n",
       "    </tr>\n",
       "    <tr>\n",
       "      <th>125672</th>\n",
       "      <td>4290709089</td>\n",
       "      <td>4237840455</td>\n",
       "      <td>10</td>\n",
       "      <td>-22</td>\n",
       "      <td>10</td>\n",
       "      <td>384</td>\n",
       "      <td>384</td>\n",
       "      <td>4.0</td>\n",
       "      <td>4.6</td>\n",
       "      <td>HFS</td>\n",
       "      <td>NaN</td>\n",
       "      <td>4290709089_4237840455</td>\n",
       "      <td>4290709089_4237840455_10</td>\n",
       "      <td>E:\\data\\RSNA2024\\pngs_256\\4290709089_423784045...</td>\n",
       "      <td>Sagittal T1</td>\n",
       "      <td>True</td>\n",
       "      <td>1</td>\n",
       "      <td>15</td>\n",
       "      <td>9</td>\n",
       "      <td>0.600000</td>\n",
       "    </tr>\n",
       "  </tbody>\n",
       "</table>\n",
       "</div>"
      ],
      "text/plain": [
       "          study_id   series_id  image  proj  instancenumber  rows  columns  \\\n",
       "125671  4290709089  4237840455      1    19               1   384      384   \n",
       "125678  4290709089  4237840455      2    14               2   384      384   \n",
       "125679  4290709089  4237840455      3    10               3   384      384   \n",
       "125680  4290709089  4237840455      4     5               4   384      384   \n",
       "125681  4290709089  4237840455      5     0               5   384      384   \n",
       "125682  4290709089  4237840455      6    -3               6   384      384   \n",
       "125683  4290709089  4237840455      7    -8               7   384      384   \n",
       "125684  4290709089  4237840455      8   -12               8   384      384   \n",
       "125685  4290709089  4237840455      9   -17               9   384      384   \n",
       "125672  4290709089  4237840455     10   -22              10   384      384   \n",
       "\n",
       "        slicethickness  spacingbetweenslices patientposition  \\\n",
       "125671             4.0                   4.6             HFS   \n",
       "125678             4.0                   4.6             HFS   \n",
       "125679             4.0                   4.6             HFS   \n",
       "125680             4.0                   4.6             HFS   \n",
       "125681             4.0                   4.6             HFS   \n",
       "125682             4.0                   4.6             HFS   \n",
       "125683             4.0                   4.6             HFS   \n",
       "125684             4.0                   4.6             HFS   \n",
       "125685             4.0                   4.6             HFS   \n",
       "125672             4.0                   4.6             HFS   \n",
       "\n",
       "       seriesdescription                  ss_id               instance_id  \\\n",
       "125671               NaN  4290709089_4237840455   4290709089_4237840455_1   \n",
       "125678               NaN  4290709089_4237840455   4290709089_4237840455_2   \n",
       "125679               NaN  4290709089_4237840455   4290709089_4237840455_3   \n",
       "125680               NaN  4290709089_4237840455   4290709089_4237840455_4   \n",
       "125681               NaN  4290709089_4237840455   4290709089_4237840455_5   \n",
       "125682               NaN  4290709089_4237840455   4290709089_4237840455_6   \n",
       "125683               NaN  4290709089_4237840455   4290709089_4237840455_7   \n",
       "125684               NaN  4290709089_4237840455   4290709089_4237840455_8   \n",
       "125685               NaN  4290709089_4237840455   4290709089_4237840455_9   \n",
       "125672               NaN  4290709089_4237840455  4290709089_4237840455_10   \n",
       "\n",
       "                                                 filename series_description  \\\n",
       "125671  E:\\data\\RSNA2024\\pngs_256\\4290709089_423784045...        Sagittal T1   \n",
       "125678  E:\\data\\RSNA2024\\pngs_256\\4290709089_423784045...        Sagittal T1   \n",
       "125679  E:\\data\\RSNA2024\\pngs_256\\4290709089_423784045...        Sagittal T1   \n",
       "125680  E:\\data\\RSNA2024\\pngs_256\\4290709089_423784045...        Sagittal T1   \n",
       "125681  E:\\data\\RSNA2024\\pngs_256\\4290709089_423784045...        Sagittal T1   \n",
       "125682  E:\\data\\RSNA2024\\pngs_256\\4290709089_423784045...        Sagittal T1   \n",
       "125683  E:\\data\\RSNA2024\\pngs_256\\4290709089_423784045...        Sagittal T1   \n",
       "125684  E:\\data\\RSNA2024\\pngs_256\\4290709089_423784045...        Sagittal T1   \n",
       "125685  E:\\data\\RSNA2024\\pngs_256\\4290709089_423784045...        Sagittal T1   \n",
       "125672  E:\\data\\RSNA2024\\pngs_256\\4290709089_423784045...        Sagittal T1   \n",
       "\n",
       "        healthy  inst_min  inst_max  inst  inst_perc  \n",
       "125671     True         1        15     0   0.000000  \n",
       "125678     True         1        15     1   0.066667  \n",
       "125679     True         1        15     2   0.133333  \n",
       "125680    False         1        15     3   0.200000  \n",
       "125681    False         1        15     4   0.266667  \n",
       "125682     True         1        15     5   0.333333  \n",
       "125683     True         1        15     6   0.400000  \n",
       "125684     True         1        15     7   0.466667  \n",
       "125685     True         1        15     8   0.533333  \n",
       "125672     True         1        15     9   0.600000  "
      ]
     },
     "execution_count": 77,
     "metadata": {},
     "output_type": "execute_result"
    }
   ],
   "source": [
    "files_df.head(10)"
   ]
  },
  {
   "cell_type": "code",
   "execution_count": null,
   "id": "6c34a3ab-02e1-4b4c-8317-487239824fb6",
   "metadata": {},
   "outputs": [],
   "source": []
  }
 ],
 "metadata": {
  "kernelspec": {
   "display_name": "Python 3 (ipykernel)",
   "language": "python",
   "name": "python3"
  },
  "language_info": {
   "codemirror_mode": {
    "name": "ipython",
    "version": 3
   },
   "file_extension": ".py",
   "mimetype": "text/x-python",
   "name": "python",
   "nbconvert_exporter": "python",
   "pygments_lexer": "ipython3",
   "version": "3.10.14"
  }
 },
 "nbformat": 4,
 "nbformat_minor": 5
}
