{
 "cells": [
  {
   "cell_type": "code",
   "execution_count": 1,
   "id": "6b2a815c-2a6f-4ebf-92bf-8333b5b9144a",
   "metadata": {},
   "outputs": [],
   "source": [
    "%load_ext autoreload\n",
    "%autoreload 2"
   ]
  },
  {
   "cell_type": "code",
   "execution_count": 2,
   "id": "c73e4b1e-69d1-49af-85e3-591418aac8d8",
   "metadata": {},
   "outputs": [],
   "source": [
    "import numpy as np \n",
    "import pandas as pd\n",
    "\n",
    "from pathlib import Path"
   ]
  },
  {
   "cell_type": "code",
   "execution_count": 3,
   "id": "fd643bac-8d82-4a92-97d9-5d5586ee2cfb",
   "metadata": {},
   "outputs": [],
   "source": [
    "train_dir = Path('E:\\data\\RSNA2024')"
   ]
  },
  {
   "cell_type": "code",
   "execution_count": 4,
   "id": "db816614-20d7-4064-a271-1b98f9e32686",
   "metadata": {},
   "outputs": [],
   "source": [
    "class CFG:\n",
    "    random_seed = 42\n",
    "\n",
    "    image_size = 256\n",
    "    \n",
    "    ROOT_FOLDER = train_dir / 'original'\n",
    "    DEST_FOLDER = train_dir\n",
    "    PNG_DIR = ROOT_FOLDER / f'pngs_{image_size}'\n",
    "    IMAGES_DIR = ROOT_FOLDER / 'train_images'\n",
    "    TRAIN_CSV = ROOT_FOLDER / 'train.csv'\n",
    "    FILES_CSV = ROOT_FOLDER / 'train_files.csv'\n",
    "    TRAIN_DESC_CSV = ROOT_FOLDER / 'train_series_descriptions.csv'\n",
    "    COORDS_CSV = ROOT_FOLDER / 'train_label_coordinates.csv'"
   ]
  },
  {
   "cell_type": "markdown",
   "id": "c267b198-b8b4-4386-a9bf-2319c9f0f315",
   "metadata": {},
   "source": [
    "### train_df"
   ]
  },
  {
   "cell_type": "code",
   "execution_count": 5,
   "id": "26087c78-6355-42fa-86ac-a2189756023a",
   "metadata": {},
   "outputs": [
    {
     "data": {
      "text/plain": [
       "((1975, 26), (6294, 3))"
      ]
     },
     "execution_count": 5,
     "metadata": {},
     "output_type": "execute_result"
    }
   ],
   "source": [
    "train_df = pd.read_csv(CFG.TRAIN_CSV)\n",
    "train_desc_df = pd.read_csv(CFG.TRAIN_DESC_CSV)\n",
    "\n",
    "train_df.shape, train_desc_df.shape"
   ]
  },
  {
   "cell_type": "code",
   "execution_count": 6,
   "id": "fd06eb0e-7155-49f7-9f3f-6b22724aa457",
   "metadata": {},
   "outputs": [
    {
     "data": {
      "text/html": [
       "<div>\n",
       "<style scoped>\n",
       "    .dataframe tbody tr th:only-of-type {\n",
       "        vertical-align: middle;\n",
       "    }\n",
       "\n",
       "    .dataframe tbody tr th {\n",
       "        vertical-align: top;\n",
       "    }\n",
       "\n",
       "    .dataframe thead th {\n",
       "        text-align: right;\n",
       "    }\n",
       "</style>\n",
       "<table border=\"1\" class=\"dataframe\">\n",
       "  <thead>\n",
       "    <tr style=\"text-align: right;\">\n",
       "      <th></th>\n",
       "      <th>study_id</th>\n",
       "      <th>spinal_canal_stenosis_l1_l2</th>\n",
       "      <th>spinal_canal_stenosis_l2_l3</th>\n",
       "      <th>spinal_canal_stenosis_l3_l4</th>\n",
       "      <th>spinal_canal_stenosis_l4_l5</th>\n",
       "      <th>spinal_canal_stenosis_l5_s1</th>\n",
       "      <th>left_neural_foraminal_narrowing_l1_l2</th>\n",
       "      <th>left_neural_foraminal_narrowing_l2_l3</th>\n",
       "      <th>left_neural_foraminal_narrowing_l3_l4</th>\n",
       "      <th>left_neural_foraminal_narrowing_l4_l5</th>\n",
       "      <th>...</th>\n",
       "      <th>left_subarticular_stenosis_l1_l2</th>\n",
       "      <th>left_subarticular_stenosis_l2_l3</th>\n",
       "      <th>left_subarticular_stenosis_l3_l4</th>\n",
       "      <th>left_subarticular_stenosis_l4_l5</th>\n",
       "      <th>left_subarticular_stenosis_l5_s1</th>\n",
       "      <th>right_subarticular_stenosis_l1_l2</th>\n",
       "      <th>right_subarticular_stenosis_l2_l3</th>\n",
       "      <th>right_subarticular_stenosis_l3_l4</th>\n",
       "      <th>right_subarticular_stenosis_l4_l5</th>\n",
       "      <th>right_subarticular_stenosis_l5_s1</th>\n",
       "    </tr>\n",
       "  </thead>\n",
       "  <tbody>\n",
       "    <tr>\n",
       "      <th>0</th>\n",
       "      <td>4003253</td>\n",
       "      <td>Normal/Mild</td>\n",
       "      <td>Normal/Mild</td>\n",
       "      <td>Normal/Mild</td>\n",
       "      <td>Normal/Mild</td>\n",
       "      <td>Normal/Mild</td>\n",
       "      <td>Normal/Mild</td>\n",
       "      <td>Normal/Mild</td>\n",
       "      <td>Normal/Mild</td>\n",
       "      <td>Moderate</td>\n",
       "      <td>...</td>\n",
       "      <td>Normal/Mild</td>\n",
       "      <td>Normal/Mild</td>\n",
       "      <td>Normal/Mild</td>\n",
       "      <td>Moderate</td>\n",
       "      <td>Normal/Mild</td>\n",
       "      <td>Normal/Mild</td>\n",
       "      <td>Normal/Mild</td>\n",
       "      <td>Normal/Mild</td>\n",
       "      <td>Normal/Mild</td>\n",
       "      <td>Normal/Mild</td>\n",
       "    </tr>\n",
       "    <tr>\n",
       "      <th>1</th>\n",
       "      <td>4646740</td>\n",
       "      <td>Normal/Mild</td>\n",
       "      <td>Normal/Mild</td>\n",
       "      <td>Moderate</td>\n",
       "      <td>Severe</td>\n",
       "      <td>Normal/Mild</td>\n",
       "      <td>Normal/Mild</td>\n",
       "      <td>Normal/Mild</td>\n",
       "      <td>Normal/Mild</td>\n",
       "      <td>Moderate</td>\n",
       "      <td>...</td>\n",
       "      <td>Normal/Mild</td>\n",
       "      <td>Normal/Mild</td>\n",
       "      <td>Normal/Mild</td>\n",
       "      <td>Severe</td>\n",
       "      <td>Normal/Mild</td>\n",
       "      <td>Normal/Mild</td>\n",
       "      <td>Moderate</td>\n",
       "      <td>Moderate</td>\n",
       "      <td>Moderate</td>\n",
       "      <td>Normal/Mild</td>\n",
       "    </tr>\n",
       "    <tr>\n",
       "      <th>2</th>\n",
       "      <td>7143189</td>\n",
       "      <td>Normal/Mild</td>\n",
       "      <td>Normal/Mild</td>\n",
       "      <td>Normal/Mild</td>\n",
       "      <td>Normal/Mild</td>\n",
       "      <td>Normal/Mild</td>\n",
       "      <td>Normal/Mild</td>\n",
       "      <td>Normal/Mild</td>\n",
       "      <td>Normal/Mild</td>\n",
       "      <td>Normal/Mild</td>\n",
       "      <td>...</td>\n",
       "      <td>Normal/Mild</td>\n",
       "      <td>Normal/Mild</td>\n",
       "      <td>Normal/Mild</td>\n",
       "      <td>Normal/Mild</td>\n",
       "      <td>Normal/Mild</td>\n",
       "      <td>Normal/Mild</td>\n",
       "      <td>Normal/Mild</td>\n",
       "      <td>Normal/Mild</td>\n",
       "      <td>Normal/Mild</td>\n",
       "      <td>Normal/Mild</td>\n",
       "    </tr>\n",
       "    <tr>\n",
       "      <th>3</th>\n",
       "      <td>8785691</td>\n",
       "      <td>Normal/Mild</td>\n",
       "      <td>Normal/Mild</td>\n",
       "      <td>Normal/Mild</td>\n",
       "      <td>Normal/Mild</td>\n",
       "      <td>Normal/Mild</td>\n",
       "      <td>Normal/Mild</td>\n",
       "      <td>Normal/Mild</td>\n",
       "      <td>Normal/Mild</td>\n",
       "      <td>Moderate</td>\n",
       "      <td>...</td>\n",
       "      <td>Normal/Mild</td>\n",
       "      <td>Normal/Mild</td>\n",
       "      <td>Normal/Mild</td>\n",
       "      <td>Normal/Mild</td>\n",
       "      <td>Normal/Mild</td>\n",
       "      <td>Normal/Mild</td>\n",
       "      <td>Normal/Mild</td>\n",
       "      <td>Normal/Mild</td>\n",
       "      <td>Normal/Mild</td>\n",
       "      <td>Normal/Mild</td>\n",
       "    </tr>\n",
       "    <tr>\n",
       "      <th>4</th>\n",
       "      <td>10728036</td>\n",
       "      <td>Normal/Mild</td>\n",
       "      <td>Normal/Mild</td>\n",
       "      <td>Normal/Mild</td>\n",
       "      <td>Normal/Mild</td>\n",
       "      <td>Normal/Mild</td>\n",
       "      <td>Normal/Mild</td>\n",
       "      <td>Normal/Mild</td>\n",
       "      <td>Normal/Mild</td>\n",
       "      <td>Normal/Mild</td>\n",
       "      <td>...</td>\n",
       "      <td>Normal/Mild</td>\n",
       "      <td>Normal/Mild</td>\n",
       "      <td>Normal/Mild</td>\n",
       "      <td>Normal/Mild</td>\n",
       "      <td>Normal/Mild</td>\n",
       "      <td>Normal/Mild</td>\n",
       "      <td>Normal/Mild</td>\n",
       "      <td>Normal/Mild</td>\n",
       "      <td>Moderate</td>\n",
       "      <td>Normal/Mild</td>\n",
       "    </tr>\n",
       "  </tbody>\n",
       "</table>\n",
       "<p>5 rows × 26 columns</p>\n",
       "</div>"
      ],
      "text/plain": [
       "   study_id spinal_canal_stenosis_l1_l2 spinal_canal_stenosis_l2_l3  \\\n",
       "0   4003253                 Normal/Mild                 Normal/Mild   \n",
       "1   4646740                 Normal/Mild                 Normal/Mild   \n",
       "2   7143189                 Normal/Mild                 Normal/Mild   \n",
       "3   8785691                 Normal/Mild                 Normal/Mild   \n",
       "4  10728036                 Normal/Mild                 Normal/Mild   \n",
       "\n",
       "  spinal_canal_stenosis_l3_l4 spinal_canal_stenosis_l4_l5  \\\n",
       "0                 Normal/Mild                 Normal/Mild   \n",
       "1                    Moderate                      Severe   \n",
       "2                 Normal/Mild                 Normal/Mild   \n",
       "3                 Normal/Mild                 Normal/Mild   \n",
       "4                 Normal/Mild                 Normal/Mild   \n",
       "\n",
       "  spinal_canal_stenosis_l5_s1 left_neural_foraminal_narrowing_l1_l2  \\\n",
       "0                 Normal/Mild                           Normal/Mild   \n",
       "1                 Normal/Mild                           Normal/Mild   \n",
       "2                 Normal/Mild                           Normal/Mild   \n",
       "3                 Normal/Mild                           Normal/Mild   \n",
       "4                 Normal/Mild                           Normal/Mild   \n",
       "\n",
       "  left_neural_foraminal_narrowing_l2_l3 left_neural_foraminal_narrowing_l3_l4  \\\n",
       "0                           Normal/Mild                           Normal/Mild   \n",
       "1                           Normal/Mild                           Normal/Mild   \n",
       "2                           Normal/Mild                           Normal/Mild   \n",
       "3                           Normal/Mild                           Normal/Mild   \n",
       "4                           Normal/Mild                           Normal/Mild   \n",
       "\n",
       "  left_neural_foraminal_narrowing_l4_l5  ... left_subarticular_stenosis_l1_l2  \\\n",
       "0                              Moderate  ...                      Normal/Mild   \n",
       "1                              Moderate  ...                      Normal/Mild   \n",
       "2                           Normal/Mild  ...                      Normal/Mild   \n",
       "3                              Moderate  ...                      Normal/Mild   \n",
       "4                           Normal/Mild  ...                      Normal/Mild   \n",
       "\n",
       "  left_subarticular_stenosis_l2_l3 left_subarticular_stenosis_l3_l4  \\\n",
       "0                      Normal/Mild                      Normal/Mild   \n",
       "1                      Normal/Mild                      Normal/Mild   \n",
       "2                      Normal/Mild                      Normal/Mild   \n",
       "3                      Normal/Mild                      Normal/Mild   \n",
       "4                      Normal/Mild                      Normal/Mild   \n",
       "\n",
       "  left_subarticular_stenosis_l4_l5 left_subarticular_stenosis_l5_s1  \\\n",
       "0                         Moderate                      Normal/Mild   \n",
       "1                           Severe                      Normal/Mild   \n",
       "2                      Normal/Mild                      Normal/Mild   \n",
       "3                      Normal/Mild                      Normal/Mild   \n",
       "4                      Normal/Mild                      Normal/Mild   \n",
       "\n",
       "  right_subarticular_stenosis_l1_l2 right_subarticular_stenosis_l2_l3  \\\n",
       "0                       Normal/Mild                       Normal/Mild   \n",
       "1                       Normal/Mild                          Moderate   \n",
       "2                       Normal/Mild                       Normal/Mild   \n",
       "3                       Normal/Mild                       Normal/Mild   \n",
       "4                       Normal/Mild                       Normal/Mild   \n",
       "\n",
       "  right_subarticular_stenosis_l3_l4 right_subarticular_stenosis_l4_l5  \\\n",
       "0                       Normal/Mild                       Normal/Mild   \n",
       "1                          Moderate                          Moderate   \n",
       "2                       Normal/Mild                       Normal/Mild   \n",
       "3                       Normal/Mild                       Normal/Mild   \n",
       "4                       Normal/Mild                          Moderate   \n",
       "\n",
       "  right_subarticular_stenosis_l5_s1  \n",
       "0                       Normal/Mild  \n",
       "1                       Normal/Mild  \n",
       "2                       Normal/Mild  \n",
       "3                       Normal/Mild  \n",
       "4                       Normal/Mild  \n",
       "\n",
       "[5 rows x 26 columns]"
      ]
     },
     "execution_count": 6,
     "metadata": {},
     "output_type": "execute_result"
    }
   ],
   "source": [
    "train_df.head()"
   ]
  },
  {
   "cell_type": "code",
   "execution_count": 7,
   "id": "36b5f0f5-1790-423f-b7ca-6a335e355585",
   "metadata": {},
   "outputs": [
    {
     "data": {
      "text/plain": [
       "['study_id', 'SCSL1L2', 'SCSL2L3', 'SCSL3L4', 'SCSL4L5']"
      ]
     },
     "execution_count": 7,
     "metadata": {},
     "output_type": "execute_result"
    }
   ],
   "source": [
    "cols = train_df.columns[1:]\n",
    "# first = [c.split('_')[:-2] for c in cols]\n",
    "# last = [c.split('_')[-2:] for c in cols]\n",
    "\n",
    "cols = [c.split('_') for c in cols]\n",
    "cols = [''.join([i[0] if len(i) > 2 else i for i in c]).upper() for c in cols]\n",
    "\n",
    "cols = ['study_id'] + cols\n",
    "\n",
    "cols[:5]"
   ]
  },
  {
   "cell_type": "code",
   "execution_count": 8,
   "id": "a89b5ef9-8c90-4a87-9dbc-66f8eca9c1f6",
   "metadata": {},
   "outputs": [
    {
     "data": {
      "text/plain": [
       "{'study_id': 'study_id',\n",
       " 'spinal_canal_stenosis_l1_l2': 'SCSL1L2',\n",
       " 'spinal_canal_stenosis_l2_l3': 'SCSL2L3',\n",
       " 'spinal_canal_stenosis_l3_l4': 'SCSL3L4',\n",
       " 'spinal_canal_stenosis_l4_l5': 'SCSL4L5',\n",
       " 'spinal_canal_stenosis_l5_s1': 'SCSL5S1',\n",
       " 'left_neural_foraminal_narrowing_l1_l2': 'LNFNL1L2',\n",
       " 'left_neural_foraminal_narrowing_l2_l3': 'LNFNL2L3',\n",
       " 'left_neural_foraminal_narrowing_l3_l4': 'LNFNL3L4',\n",
       " 'left_neural_foraminal_narrowing_l4_l5': 'LNFNL4L5',\n",
       " 'left_neural_foraminal_narrowing_l5_s1': 'LNFNL5S1',\n",
       " 'right_neural_foraminal_narrowing_l1_l2': 'RNFNL1L2',\n",
       " 'right_neural_foraminal_narrowing_l2_l3': 'RNFNL2L3',\n",
       " 'right_neural_foraminal_narrowing_l3_l4': 'RNFNL3L4',\n",
       " 'right_neural_foraminal_narrowing_l4_l5': 'RNFNL4L5',\n",
       " 'right_neural_foraminal_narrowing_l5_s1': 'RNFNL5S1',\n",
       " 'left_subarticular_stenosis_l1_l2': 'LSSL1L2',\n",
       " 'left_subarticular_stenosis_l2_l3': 'LSSL2L3',\n",
       " 'left_subarticular_stenosis_l3_l4': 'LSSL3L4',\n",
       " 'left_subarticular_stenosis_l4_l5': 'LSSL4L5',\n",
       " 'left_subarticular_stenosis_l5_s1': 'LSSL5S1',\n",
       " 'right_subarticular_stenosis_l1_l2': 'RSSL1L2',\n",
       " 'right_subarticular_stenosis_l2_l3': 'RSSL2L3',\n",
       " 'right_subarticular_stenosis_l3_l4': 'RSSL3L4',\n",
       " 'right_subarticular_stenosis_l4_l5': 'RSSL4L5',\n",
       " 'right_subarticular_stenosis_l5_s1': 'RSSL5S1'}"
      ]
     },
     "execution_count": 8,
     "metadata": {},
     "output_type": "execute_result"
    }
   ],
   "source": [
    "dict(zip(train_df.columns, cols))"
   ]
  },
  {
   "cell_type": "code",
   "execution_count": 9,
   "id": "9ccdad27-1d50-494f-851f-9ab2e24a9261",
   "metadata": {},
   "outputs": [
    {
     "data": {
      "text/plain": [
       "(1975, 26)"
      ]
     },
     "execution_count": 9,
     "metadata": {},
     "output_type": "execute_result"
    }
   ],
   "source": [
    "train_df.rename(columns=dict(zip(train_df.columns, cols)), inplace=True)\n",
    "train_df.shape"
   ]
  },
  {
   "cell_type": "code",
   "execution_count": 10,
   "id": "3e3f14e0-abf1-4023-913b-f600f94d61ee",
   "metadata": {},
   "outputs": [
    {
     "data": {
      "text/plain": [
       "study_id        4003253\n",
       "SCSL1L2     Normal/Mild\n",
       "SCSL2L3     Normal/Mild\n",
       "SCSL3L4     Normal/Mild\n",
       "SCSL4L5     Normal/Mild\n",
       "SCSL5S1     Normal/Mild\n",
       "LNFNL1L2    Normal/Mild\n",
       "LNFNL2L3    Normal/Mild\n",
       "LNFNL3L4    Normal/Mild\n",
       "LNFNL4L5       Moderate\n",
       "LNFNL5S1    Normal/Mild\n",
       "RNFNL1L2    Normal/Mild\n",
       "RNFNL2L3    Normal/Mild\n",
       "RNFNL3L4       Moderate\n",
       "RNFNL4L5       Moderate\n",
       "RNFNL5S1    Normal/Mild\n",
       "LSSL1L2     Normal/Mild\n",
       "LSSL2L3     Normal/Mild\n",
       "LSSL3L4     Normal/Mild\n",
       "LSSL4L5        Moderate\n",
       "LSSL5S1     Normal/Mild\n",
       "RSSL1L2     Normal/Mild\n",
       "RSSL2L3     Normal/Mild\n",
       "RSSL3L4     Normal/Mild\n",
       "RSSL4L5     Normal/Mild\n",
       "RSSL5S1     Normal/Mild\n",
       "Name: 0, dtype: object"
      ]
     },
     "execution_count": 10,
     "metadata": {},
     "output_type": "execute_result"
    }
   ],
   "source": [
    "train_df.iloc[0]"
   ]
  },
  {
   "cell_type": "code",
   "execution_count": 11,
   "id": "693453d8-d032-4721-814a-9790e163f700",
   "metadata": {},
   "outputs": [
    {
     "data": {
      "text/plain": [
       "1975"
      ]
     },
     "execution_count": 11,
     "metadata": {},
     "output_type": "execute_result"
    }
   ],
   "source": [
    "train_df.study_id.nunique()"
   ]
  },
  {
   "cell_type": "code",
   "execution_count": 12,
   "id": "b09da4ba-538c-4325-b18b-4a51fc4bd22b",
   "metadata": {},
   "outputs": [
    {
     "data": {
      "text/plain": [
       "{'Normal/Mild': 'N', 'Moderate': 'M', 'Severe': 'S'}"
      ]
     },
     "execution_count": 12,
     "metadata": {},
     "output_type": "execute_result"
    }
   ],
   "source": [
    "vals = {'Normal/Mild': 'N', 'Moderate': 'M', 'Severe': 'S'}\n",
    "vals"
   ]
  },
  {
   "cell_type": "code",
   "execution_count": 13,
   "id": "16bb69ef-e301-4bb5-8a2c-b5ac278c208f",
   "metadata": {},
   "outputs": [],
   "source": [
    "train_df[cols[1:]] = train_df[cols[1:]].replace(vals)"
   ]
  },
  {
   "cell_type": "code",
   "execution_count": 14,
   "id": "e8dff196-c660-4d2c-8d18-f9a5f459435d",
   "metadata": {},
   "outputs": [
    {
     "data": {
      "text/html": [
       "<div>\n",
       "<style scoped>\n",
       "    .dataframe tbody tr th:only-of-type {\n",
       "        vertical-align: middle;\n",
       "    }\n",
       "\n",
       "    .dataframe tbody tr th {\n",
       "        vertical-align: top;\n",
       "    }\n",
       "\n",
       "    .dataframe thead th {\n",
       "        text-align: right;\n",
       "    }\n",
       "</style>\n",
       "<table border=\"1\" class=\"dataframe\">\n",
       "  <thead>\n",
       "    <tr style=\"text-align: right;\">\n",
       "      <th></th>\n",
       "      <th>study_id</th>\n",
       "      <th>SCSL1L2</th>\n",
       "      <th>SCSL2L3</th>\n",
       "      <th>SCSL3L4</th>\n",
       "      <th>SCSL4L5</th>\n",
       "      <th>SCSL5S1</th>\n",
       "      <th>LNFNL1L2</th>\n",
       "      <th>LNFNL2L3</th>\n",
       "      <th>LNFNL3L4</th>\n",
       "      <th>LNFNL4L5</th>\n",
       "      <th>...</th>\n",
       "      <th>LSSL1L2</th>\n",
       "      <th>LSSL2L3</th>\n",
       "      <th>LSSL3L4</th>\n",
       "      <th>LSSL4L5</th>\n",
       "      <th>LSSL5S1</th>\n",
       "      <th>RSSL1L2</th>\n",
       "      <th>RSSL2L3</th>\n",
       "      <th>RSSL3L4</th>\n",
       "      <th>RSSL4L5</th>\n",
       "      <th>RSSL5S1</th>\n",
       "    </tr>\n",
       "  </thead>\n",
       "  <tbody>\n",
       "    <tr>\n",
       "      <th>1271</th>\n",
       "      <td>2780118855</td>\n",
       "      <td>N</td>\n",
       "      <td>N</td>\n",
       "      <td>N</td>\n",
       "      <td>N</td>\n",
       "      <td>N</td>\n",
       "      <td>N</td>\n",
       "      <td>N</td>\n",
       "      <td>N</td>\n",
       "      <td>N</td>\n",
       "      <td>...</td>\n",
       "      <td>N</td>\n",
       "      <td>N</td>\n",
       "      <td>N</td>\n",
       "      <td>N</td>\n",
       "      <td>N</td>\n",
       "      <td>N</td>\n",
       "      <td>N</td>\n",
       "      <td>N</td>\n",
       "      <td>M</td>\n",
       "      <td>N</td>\n",
       "    </tr>\n",
       "    <tr>\n",
       "      <th>155</th>\n",
       "      <td>330993169</td>\n",
       "      <td>N</td>\n",
       "      <td>N</td>\n",
       "      <td>N</td>\n",
       "      <td>N</td>\n",
       "      <td>N</td>\n",
       "      <td>N</td>\n",
       "      <td>N</td>\n",
       "      <td>N</td>\n",
       "      <td>N</td>\n",
       "      <td>...</td>\n",
       "      <td>N</td>\n",
       "      <td>N</td>\n",
       "      <td>N</td>\n",
       "      <td>M</td>\n",
       "      <td>N</td>\n",
       "      <td>N</td>\n",
       "      <td>N</td>\n",
       "      <td>N</td>\n",
       "      <td>M</td>\n",
       "      <td>N</td>\n",
       "    </tr>\n",
       "  </tbody>\n",
       "</table>\n",
       "<p>2 rows × 26 columns</p>\n",
       "</div>"
      ],
      "text/plain": [
       "        study_id SCSL1L2 SCSL2L3 SCSL3L4 SCSL4L5 SCSL5S1 LNFNL1L2 LNFNL2L3  \\\n",
       "1271  2780118855       N       N       N       N       N        N        N   \n",
       "155    330993169       N       N       N       N       N        N        N   \n",
       "\n",
       "     LNFNL3L4 LNFNL4L5  ... LSSL1L2 LSSL2L3 LSSL3L4 LSSL4L5 LSSL5S1 RSSL1L2  \\\n",
       "1271        N        N  ...       N       N       N       N       N       N   \n",
       "155         N        N  ...       N       N       N       M       N       N   \n",
       "\n",
       "     RSSL2L3 RSSL3L4 RSSL4L5 RSSL5S1  \n",
       "1271       N       N       M       N  \n",
       "155        N       N       M       N  \n",
       "\n",
       "[2 rows x 26 columns]"
      ]
     },
     "execution_count": 14,
     "metadata": {},
     "output_type": "execute_result"
    }
   ],
   "source": [
    "train_df.sample(2)"
   ]
  },
  {
   "cell_type": "markdown",
   "id": "3b7a96f1-631b-4cab-a0f3-e86a1e791c95",
   "metadata": {},
   "source": [
    "### coordinates_df"
   ]
  },
  {
   "cell_type": "code",
   "execution_count": 15,
   "id": "caf88225-2aea-4e23-b6ff-e91c0b8e842d",
   "metadata": {},
   "outputs": [
    {
     "data": {
      "text/plain": [
       "((48692, 7), (147218, 10))"
      ]
     },
     "execution_count": 15,
     "metadata": {},
     "output_type": "execute_result"
    }
   ],
   "source": [
    "coords_df = pd.read_csv(CFG.COORDS_CSV)\n",
    "files_df = pd.read_csv(CFG.FILES_CSV)\n",
    "\n",
    "coords_df.shape, files_df.shape"
   ]
  },
  {
   "cell_type": "code",
   "execution_count": 16,
   "id": "0a0be7b5-f17b-4adb-9870-227ac12215ef",
   "metadata": {},
   "outputs": [],
   "source": [
    "coords_df.rename(columns={'instance_number': 'instance'}, inplace=True)"
   ]
  },
  {
   "cell_type": "code",
   "execution_count": 17,
   "id": "65b8de8e-f0da-46cc-9316-ec134b67751a",
   "metadata": {},
   "outputs": [
    {
     "data": {
      "text/plain": [
       "(1974, 5, 5)"
      ]
     },
     "execution_count": 17,
     "metadata": {},
     "output_type": "execute_result"
    }
   ],
   "source": [
    "coords_df.study_id.nunique(), coords_df.condition.nunique(), coords_df.level.nunique()"
   ]
  },
  {
   "cell_type": "code",
   "execution_count": 18,
   "id": "8903243d-adb4-4c46-bf32-3482cc7a051e",
   "metadata": {},
   "outputs": [
    {
     "data": {
      "text/plain": [
       "(array(['Spinal Canal Stenosis', 'Right Neural Foraminal Narrowing',\n",
       "        'Left Neural Foraminal Narrowing', 'Left Subarticular Stenosis',\n",
       "        'Right Subarticular Stenosis'], dtype=object),\n",
       " array(['L1/L2', 'L2/L3', 'L3/L4', 'L4/L5', 'L5/S1'], dtype=object))"
      ]
     },
     "execution_count": 18,
     "metadata": {},
     "output_type": "execute_result"
    }
   ],
   "source": [
    "coords_df.condition.unique(), coords_df.level.unique()"
   ]
  },
  {
   "cell_type": "code",
   "execution_count": 19,
   "id": "6c7cf0d6-5c81-425f-9187-fd2068a6a57c",
   "metadata": {},
   "outputs": [
    {
     "data": {
      "text/plain": [
       "6291"
      ]
     },
     "execution_count": 19,
     "metadata": {},
     "output_type": "execute_result"
    }
   ],
   "source": [
    "coords_df.series_id.nunique()"
   ]
  },
  {
   "cell_type": "code",
   "execution_count": 20,
   "id": "2e83f2cd-45b7-4208-9fae-65ece413fa2a",
   "metadata": {},
   "outputs": [],
   "source": [
    "coords_df['ss_id'] = coords_df.apply(lambda row: f'{str(row[\"study_id\"])}_{str(row[\"series_id\"])}', axis=1)\n",
    "coords_df['instance_id'] = coords_df.apply(lambda row: f'{str(row[\"study_id\"])}_{str(row[\"series_id\"])}_{str(row[\"instance\"])}', axis=1)\n",
    "\n",
    "train_desc_df['ss_id'] = train_desc_df.apply(lambda row: f'{str(row[\"study_id\"])}_{str(row[\"series_id\"])}', axis=1)"
   ]
  },
  {
   "cell_type": "code",
   "execution_count": 21,
   "id": "72755af9-3bcd-42e3-983b-48b833a76cab",
   "metadata": {},
   "outputs": [
    {
     "data": {
      "text/html": [
       "<div>\n",
       "<style scoped>\n",
       "    .dataframe tbody tr th:only-of-type {\n",
       "        vertical-align: middle;\n",
       "    }\n",
       "\n",
       "    .dataframe tbody tr th {\n",
       "        vertical-align: top;\n",
       "    }\n",
       "\n",
       "    .dataframe thead th {\n",
       "        text-align: right;\n",
       "    }\n",
       "</style>\n",
       "<table border=\"1\" class=\"dataframe\">\n",
       "  <thead>\n",
       "    <tr style=\"text-align: right;\">\n",
       "      <th></th>\n",
       "      <th>study_id</th>\n",
       "      <th>series_id</th>\n",
       "      <th>series_description</th>\n",
       "      <th>ss_id</th>\n",
       "    </tr>\n",
       "  </thead>\n",
       "  <tbody>\n",
       "    <tr>\n",
       "      <th>4545</th>\n",
       "      <td>3110826149</td>\n",
       "      <td>3762854585</td>\n",
       "      <td>Sagittal T1</td>\n",
       "      <td>3110826149_3762854585</td>\n",
       "    </tr>\n",
       "  </tbody>\n",
       "</table>\n",
       "</div>"
      ],
      "text/plain": [
       "        study_id   series_id series_description                  ss_id\n",
       "4545  3110826149  3762854585        Sagittal T1  3110826149_3762854585"
      ]
     },
     "execution_count": 21,
     "metadata": {},
     "output_type": "execute_result"
    }
   ],
   "source": [
    "train_desc_df.sample()"
   ]
  },
  {
   "cell_type": "code",
   "execution_count": 22,
   "id": "593fbb6e-2485-4bd4-ae0f-c19a494085f2",
   "metadata": {},
   "outputs": [
    {
     "data": {
      "text/html": [
       "<div>\n",
       "<style scoped>\n",
       "    .dataframe tbody tr th:only-of-type {\n",
       "        vertical-align: middle;\n",
       "    }\n",
       "\n",
       "    .dataframe tbody tr th {\n",
       "        vertical-align: top;\n",
       "    }\n",
       "\n",
       "    .dataframe thead th {\n",
       "        text-align: right;\n",
       "    }\n",
       "</style>\n",
       "<table border=\"1\" class=\"dataframe\">\n",
       "  <thead>\n",
       "    <tr style=\"text-align: right;\">\n",
       "      <th></th>\n",
       "      <th>study_id</th>\n",
       "      <th>series_id</th>\n",
       "      <th>instance</th>\n",
       "      <th>condition</th>\n",
       "      <th>level</th>\n",
       "      <th>x</th>\n",
       "      <th>y</th>\n",
       "      <th>ss_id</th>\n",
       "      <th>instance_id</th>\n",
       "    </tr>\n",
       "  </thead>\n",
       "  <tbody>\n",
       "    <tr>\n",
       "      <th>31505</th>\n",
       "      <td>2793936300</td>\n",
       "      <td>1334281856</td>\n",
       "      <td>2</td>\n",
       "      <td>Right Subarticular Stenosis</td>\n",
       "      <td>L1/L2</td>\n",
       "      <td>271.818182</td>\n",
       "      <td>348.636364</td>\n",
       "      <td>2793936300_1334281856</td>\n",
       "      <td>2793936300_1334281856_2</td>\n",
       "    </tr>\n",
       "    <tr>\n",
       "      <th>12520</th>\n",
       "      <td>1117361192</td>\n",
       "      <td>2041546893</td>\n",
       "      <td>13</td>\n",
       "      <td>Right Subarticular Stenosis</td>\n",
       "      <td>L3/L4</td>\n",
       "      <td>143.577763</td>\n",
       "      <td>172.660300</td>\n",
       "      <td>1117361192_2041546893</td>\n",
       "      <td>1117361192_2041546893_13</td>\n",
       "    </tr>\n",
       "  </tbody>\n",
       "</table>\n",
       "</div>"
      ],
      "text/plain": [
       "         study_id   series_id  instance                    condition  level  \\\n",
       "31505  2793936300  1334281856         2  Right Subarticular Stenosis  L1/L2   \n",
       "12520  1117361192  2041546893        13  Right Subarticular Stenosis  L3/L4   \n",
       "\n",
       "                x           y                  ss_id               instance_id  \n",
       "31505  271.818182  348.636364  2793936300_1334281856   2793936300_1334281856_2  \n",
       "12520  143.577763  172.660300  1117361192_2041546893  1117361192_2041546893_13  "
      ]
     },
     "execution_count": 22,
     "metadata": {},
     "output_type": "execute_result"
    }
   ],
   "source": [
    "coords_df.sample(2)"
   ]
  },
  {
   "cell_type": "code",
   "execution_count": 23,
   "id": "3ce3f7f2-1551-4fc7-a4d4-081f4dcc1331",
   "metadata": {},
   "outputs": [],
   "source": [
    "# rename condition\n",
    "coords_df['condition'] = coords_df.apply(lambda row: ''.join([w[0] for w in row['condition'].split(' ')]), axis=1)"
   ]
  },
  {
   "cell_type": "code",
   "execution_count": 24,
   "id": "1a983c02-f7c1-4016-be0d-e6a561227f19",
   "metadata": {},
   "outputs": [],
   "source": [
    "# rename level\n",
    "coords_df['level'] = coords_df.level.apply(lambda l: ''.join(l.split('/')))"
   ]
  },
  {
   "cell_type": "code",
   "execution_count": 25,
   "id": "2506fe53-da37-4ada-943c-06c733e02388",
   "metadata": {},
   "outputs": [],
   "source": [
    "coords_df['cl'] = coords_df['condition'] + coords_df['level']"
   ]
  },
  {
   "cell_type": "code",
   "execution_count": 26,
   "id": "5a4ecfe8-4e6c-4044-a745-f19446a550ed",
   "metadata": {},
   "outputs": [
    {
     "data": {
      "text/plain": [
       "5"
      ]
     },
     "execution_count": 26,
     "metadata": {},
     "output_type": "execute_result"
    }
   ],
   "source": [
    "coords_df.condition.nunique()"
   ]
  },
  {
   "cell_type": "code",
   "execution_count": 27,
   "id": "a5bfc916-5e63-465e-aded-8a391a1d0e08",
   "metadata": {},
   "outputs": [
    {
     "data": {
      "text/html": [
       "<div>\n",
       "<style scoped>\n",
       "    .dataframe tbody tr th:only-of-type {\n",
       "        vertical-align: middle;\n",
       "    }\n",
       "\n",
       "    .dataframe tbody tr th {\n",
       "        vertical-align: top;\n",
       "    }\n",
       "\n",
       "    .dataframe thead th {\n",
       "        text-align: right;\n",
       "    }\n",
       "</style>\n",
       "<table border=\"1\" class=\"dataframe\">\n",
       "  <thead>\n",
       "    <tr style=\"text-align: right;\">\n",
       "      <th></th>\n",
       "      <th>study_id</th>\n",
       "      <th>series_id</th>\n",
       "      <th>instance</th>\n",
       "      <th>condition</th>\n",
       "      <th>level</th>\n",
       "      <th>x</th>\n",
       "      <th>y</th>\n",
       "      <th>ss_id</th>\n",
       "      <th>instance_id</th>\n",
       "      <th>cl</th>\n",
       "    </tr>\n",
       "  </thead>\n",
       "  <tbody>\n",
       "    <tr>\n",
       "      <th>0</th>\n",
       "      <td>4003253</td>\n",
       "      <td>702807833</td>\n",
       "      <td>8</td>\n",
       "      <td>SCS</td>\n",
       "      <td>L1L2</td>\n",
       "      <td>322.831858</td>\n",
       "      <td>227.964602</td>\n",
       "      <td>4003253_702807833</td>\n",
       "      <td>4003253_702807833_8</td>\n",
       "      <td>SCSL1L2</td>\n",
       "    </tr>\n",
       "    <tr>\n",
       "      <th>1</th>\n",
       "      <td>4003253</td>\n",
       "      <td>702807833</td>\n",
       "      <td>8</td>\n",
       "      <td>SCS</td>\n",
       "      <td>L2L3</td>\n",
       "      <td>320.571429</td>\n",
       "      <td>295.714286</td>\n",
       "      <td>4003253_702807833</td>\n",
       "      <td>4003253_702807833_8</td>\n",
       "      <td>SCSL2L3</td>\n",
       "    </tr>\n",
       "    <tr>\n",
       "      <th>2</th>\n",
       "      <td>4003253</td>\n",
       "      <td>702807833</td>\n",
       "      <td>8</td>\n",
       "      <td>SCS</td>\n",
       "      <td>L3L4</td>\n",
       "      <td>323.030303</td>\n",
       "      <td>371.818182</td>\n",
       "      <td>4003253_702807833</td>\n",
       "      <td>4003253_702807833_8</td>\n",
       "      <td>SCSL3L4</td>\n",
       "    </tr>\n",
       "    <tr>\n",
       "      <th>3</th>\n",
       "      <td>4003253</td>\n",
       "      <td>702807833</td>\n",
       "      <td>8</td>\n",
       "      <td>SCS</td>\n",
       "      <td>L4L5</td>\n",
       "      <td>335.292035</td>\n",
       "      <td>427.327434</td>\n",
       "      <td>4003253_702807833</td>\n",
       "      <td>4003253_702807833_8</td>\n",
       "      <td>SCSL4L5</td>\n",
       "    </tr>\n",
       "    <tr>\n",
       "      <th>4</th>\n",
       "      <td>4003253</td>\n",
       "      <td>702807833</td>\n",
       "      <td>8</td>\n",
       "      <td>SCS</td>\n",
       "      <td>L5S1</td>\n",
       "      <td>353.415929</td>\n",
       "      <td>483.964602</td>\n",
       "      <td>4003253_702807833</td>\n",
       "      <td>4003253_702807833_8</td>\n",
       "      <td>SCSL5S1</td>\n",
       "    </tr>\n",
       "    <tr>\n",
       "      <th>5</th>\n",
       "      <td>4003253</td>\n",
       "      <td>1054713880</td>\n",
       "      <td>4</td>\n",
       "      <td>RNFN</td>\n",
       "      <td>L4L5</td>\n",
       "      <td>187.961759</td>\n",
       "      <td>251.839388</td>\n",
       "      <td>4003253_1054713880</td>\n",
       "      <td>4003253_1054713880_4</td>\n",
       "      <td>RNFNL4L5</td>\n",
       "    </tr>\n",
       "    <tr>\n",
       "      <th>6</th>\n",
       "      <td>4003253</td>\n",
       "      <td>1054713880</td>\n",
       "      <td>4</td>\n",
       "      <td>RNFN</td>\n",
       "      <td>L5S1</td>\n",
       "      <td>198.240918</td>\n",
       "      <td>285.613767</td>\n",
       "      <td>4003253_1054713880</td>\n",
       "      <td>4003253_1054713880_4</td>\n",
       "      <td>RNFNL5S1</td>\n",
       "    </tr>\n",
       "    <tr>\n",
       "      <th>7</th>\n",
       "      <td>4003253</td>\n",
       "      <td>1054713880</td>\n",
       "      <td>5</td>\n",
       "      <td>RNFN</td>\n",
       "      <td>L3L4</td>\n",
       "      <td>187.227533</td>\n",
       "      <td>210.722753</td>\n",
       "      <td>4003253_1054713880</td>\n",
       "      <td>4003253_1054713880_5</td>\n",
       "      <td>RNFNL3L4</td>\n",
       "    </tr>\n",
       "    <tr>\n",
       "      <th>8</th>\n",
       "      <td>4003253</td>\n",
       "      <td>1054713880</td>\n",
       "      <td>6</td>\n",
       "      <td>RNFN</td>\n",
       "      <td>L1L2</td>\n",
       "      <td>194.569790</td>\n",
       "      <td>127.755258</td>\n",
       "      <td>4003253_1054713880</td>\n",
       "      <td>4003253_1054713880_6</td>\n",
       "      <td>RNFNL1L2</td>\n",
       "    </tr>\n",
       "    <tr>\n",
       "      <th>9</th>\n",
       "      <td>4003253</td>\n",
       "      <td>1054713880</td>\n",
       "      <td>6</td>\n",
       "      <td>RNFN</td>\n",
       "      <td>L2L3</td>\n",
       "      <td>191.632887</td>\n",
       "      <td>165.934990</td>\n",
       "      <td>4003253_1054713880</td>\n",
       "      <td>4003253_1054713880_6</td>\n",
       "      <td>RNFNL2L3</td>\n",
       "    </tr>\n",
       "  </tbody>\n",
       "</table>\n",
       "</div>"
      ],
      "text/plain": [
       "   study_id   series_id  instance condition level           x           y  \\\n",
       "0   4003253   702807833         8       SCS  L1L2  322.831858  227.964602   \n",
       "1   4003253   702807833         8       SCS  L2L3  320.571429  295.714286   \n",
       "2   4003253   702807833         8       SCS  L3L4  323.030303  371.818182   \n",
       "3   4003253   702807833         8       SCS  L4L5  335.292035  427.327434   \n",
       "4   4003253   702807833         8       SCS  L5S1  353.415929  483.964602   \n",
       "5   4003253  1054713880         4      RNFN  L4L5  187.961759  251.839388   \n",
       "6   4003253  1054713880         4      RNFN  L5S1  198.240918  285.613767   \n",
       "7   4003253  1054713880         5      RNFN  L3L4  187.227533  210.722753   \n",
       "8   4003253  1054713880         6      RNFN  L1L2  194.569790  127.755258   \n",
       "9   4003253  1054713880         6      RNFN  L2L3  191.632887  165.934990   \n",
       "\n",
       "                ss_id           instance_id        cl  \n",
       "0   4003253_702807833   4003253_702807833_8   SCSL1L2  \n",
       "1   4003253_702807833   4003253_702807833_8   SCSL2L3  \n",
       "2   4003253_702807833   4003253_702807833_8   SCSL3L4  \n",
       "3   4003253_702807833   4003253_702807833_8   SCSL4L5  \n",
       "4   4003253_702807833   4003253_702807833_8   SCSL5S1  \n",
       "5  4003253_1054713880  4003253_1054713880_4  RNFNL4L5  \n",
       "6  4003253_1054713880  4003253_1054713880_4  RNFNL5S1  \n",
       "7  4003253_1054713880  4003253_1054713880_5  RNFNL3L4  \n",
       "8  4003253_1054713880  4003253_1054713880_6  RNFNL1L2  \n",
       "9  4003253_1054713880  4003253_1054713880_6  RNFNL2L3  "
      ]
     },
     "execution_count": 27,
     "metadata": {},
     "output_type": "execute_result"
    }
   ],
   "source": [
    "coords_df.head(10)"
   ]
  },
  {
   "cell_type": "code",
   "execution_count": 28,
   "id": "b40a7c1e-53e8-4daf-97e2-171e42979169",
   "metadata": {},
   "outputs": [
    {
     "data": {
      "text/plain": [
       "array(['Sagittal T2/STIR', 'Sagittal T1', 'Axial T2'], dtype=object)"
      ]
     },
     "execution_count": 28,
     "metadata": {},
     "output_type": "execute_result"
    }
   ],
   "source": [
    "train_desc_df.series_description.unique()"
   ]
  },
  {
   "cell_type": "code",
   "execution_count": 29,
   "id": "f09a0a40-16c6-4e2d-aab6-5db9ef466d3f",
   "metadata": {},
   "outputs": [],
   "source": [
    "# train_desc_df[train_desc_df['ss_id'] == '4003253702807833'].series_description.values[0]"
   ]
  },
  {
   "cell_type": "code",
   "execution_count": 30,
   "id": "18ca9c41-4083-42a2-9c38-f039ca29c25f",
   "metadata": {},
   "outputs": [],
   "source": [
    "coords_df['plane'] = coords_df.apply(lambda row: train_desc_df[train_desc_df['ss_id'] == row['ss_id']].series_description.values[0], axis=1)"
   ]
  },
  {
   "cell_type": "code",
   "execution_count": 31,
   "id": "3b828606-6bf3-4981-8980-2b52d505418b",
   "metadata": {},
   "outputs": [
    {
     "data": {
      "text/html": [
       "<div>\n",
       "<style scoped>\n",
       "    .dataframe tbody tr th:only-of-type {\n",
       "        vertical-align: middle;\n",
       "    }\n",
       "\n",
       "    .dataframe tbody tr th {\n",
       "        vertical-align: top;\n",
       "    }\n",
       "\n",
       "    .dataframe thead th {\n",
       "        text-align: right;\n",
       "    }\n",
       "</style>\n",
       "<table border=\"1\" class=\"dataframe\">\n",
       "  <thead>\n",
       "    <tr style=\"text-align: right;\">\n",
       "      <th></th>\n",
       "      <th>study_id</th>\n",
       "      <th>series_id</th>\n",
       "      <th>instance</th>\n",
       "      <th>condition</th>\n",
       "      <th>level</th>\n",
       "      <th>x</th>\n",
       "      <th>y</th>\n",
       "      <th>ss_id</th>\n",
       "      <th>instance_id</th>\n",
       "      <th>cl</th>\n",
       "      <th>plane</th>\n",
       "    </tr>\n",
       "  </thead>\n",
       "  <tbody>\n",
       "    <tr>\n",
       "      <th>45044</th>\n",
       "      <td>3966348292</td>\n",
       "      <td>1948287748</td>\n",
       "      <td>3</td>\n",
       "      <td>LNFN</td>\n",
       "      <td>L1L2</td>\n",
       "      <td>336.083736</td>\n",
       "      <td>148.405797</td>\n",
       "      <td>3966348292_1948287748</td>\n",
       "      <td>3966348292_1948287748_3</td>\n",
       "      <td>LNFNL1L2</td>\n",
       "      <td>Sagittal T1</td>\n",
       "    </tr>\n",
       "    <tr>\n",
       "      <th>5107</th>\n",
       "      <td>436916913</td>\n",
       "      <td>3871363998</td>\n",
       "      <td>11</td>\n",
       "      <td>LNFN</td>\n",
       "      <td>L5S1</td>\n",
       "      <td>224.954338</td>\n",
       "      <td>272.365297</td>\n",
       "      <td>436916913_3871363998</td>\n",
       "      <td>436916913_3871363998_11</td>\n",
       "      <td>LNFNL5S1</td>\n",
       "      <td>Sagittal T1</td>\n",
       "    </tr>\n",
       "    <tr>\n",
       "      <th>14050</th>\n",
       "      <td>1261271580</td>\n",
       "      <td>1688147738</td>\n",
       "      <td>16</td>\n",
       "      <td>LSS</td>\n",
       "      <td>L2L3</td>\n",
       "      <td>131.863971</td>\n",
       "      <td>137.411765</td>\n",
       "      <td>1261271580_1688147738</td>\n",
       "      <td>1261271580_1688147738_16</td>\n",
       "      <td>LSSL2L3</td>\n",
       "      <td>Axial T2</td>\n",
       "    </tr>\n",
       "    <tr>\n",
       "      <th>22018</th>\n",
       "      <td>1979480595</td>\n",
       "      <td>192414264</td>\n",
       "      <td>20</td>\n",
       "      <td>RSS</td>\n",
       "      <td>L1L2</td>\n",
       "      <td>285.451327</td>\n",
       "      <td>358.796460</td>\n",
       "      <td>1979480595_192414264</td>\n",
       "      <td>1979480595_192414264_20</td>\n",
       "      <td>RSSL1L2</td>\n",
       "      <td>Axial T2</td>\n",
       "    </tr>\n",
       "    <tr>\n",
       "      <th>43926</th>\n",
       "      <td>3873246148</td>\n",
       "      <td>1849086411</td>\n",
       "      <td>45</td>\n",
       "      <td>LSS</td>\n",
       "      <td>L5S1</td>\n",
       "      <td>364.363484</td>\n",
       "      <td>321.608040</td>\n",
       "      <td>3873246148_1849086411</td>\n",
       "      <td>3873246148_1849086411_45</td>\n",
       "      <td>LSSL5S1</td>\n",
       "      <td>Axial T2</td>\n",
       "    </tr>\n",
       "  </tbody>\n",
       "</table>\n",
       "</div>"
      ],
      "text/plain": [
       "         study_id   series_id  instance condition level           x  \\\n",
       "45044  3966348292  1948287748         3      LNFN  L1L2  336.083736   \n",
       "5107    436916913  3871363998        11      LNFN  L5S1  224.954338   \n",
       "14050  1261271580  1688147738        16       LSS  L2L3  131.863971   \n",
       "22018  1979480595   192414264        20       RSS  L1L2  285.451327   \n",
       "43926  3873246148  1849086411        45       LSS  L5S1  364.363484   \n",
       "\n",
       "                y                  ss_id               instance_id        cl  \\\n",
       "45044  148.405797  3966348292_1948287748   3966348292_1948287748_3  LNFNL1L2   \n",
       "5107   272.365297   436916913_3871363998   436916913_3871363998_11  LNFNL5S1   \n",
       "14050  137.411765  1261271580_1688147738  1261271580_1688147738_16   LSSL2L3   \n",
       "22018  358.796460   1979480595_192414264   1979480595_192414264_20   RSSL1L2   \n",
       "43926  321.608040  3873246148_1849086411  3873246148_1849086411_45   LSSL5S1   \n",
       "\n",
       "             plane  \n",
       "45044  Sagittal T1  \n",
       "5107   Sagittal T1  \n",
       "14050     Axial T2  \n",
       "22018     Axial T2  \n",
       "43926     Axial T2  "
      ]
     },
     "execution_count": 31,
     "metadata": {},
     "output_type": "execute_result"
    }
   ],
   "source": [
    "coords_df.sample(5)"
   ]
  },
  {
   "cell_type": "code",
   "execution_count": 32,
   "id": "4020bdac-0fb0-4b25-a876-1eda49846b3f",
   "metadata": {},
   "outputs": [
    {
     "data": {
      "text/html": [
       "<div>\n",
       "<style scoped>\n",
       "    .dataframe tbody tr th:only-of-type {\n",
       "        vertical-align: middle;\n",
       "    }\n",
       "\n",
       "    .dataframe tbody tr th {\n",
       "        vertical-align: top;\n",
       "    }\n",
       "\n",
       "    .dataframe thead th {\n",
       "        text-align: right;\n",
       "    }\n",
       "</style>\n",
       "<table border=\"1\" class=\"dataframe\">\n",
       "  <thead>\n",
       "    <tr style=\"text-align: right;\">\n",
       "      <th></th>\n",
       "      <th>study_id</th>\n",
       "      <th>series_id</th>\n",
       "      <th>instance</th>\n",
       "      <th>condition</th>\n",
       "      <th>level</th>\n",
       "      <th>x</th>\n",
       "      <th>y</th>\n",
       "      <th>ss_id</th>\n",
       "      <th>instance_id</th>\n",
       "      <th>cl</th>\n",
       "      <th>plane</th>\n",
       "    </tr>\n",
       "  </thead>\n",
       "  <tbody>\n",
       "    <tr>\n",
       "      <th>31474</th>\n",
       "      <td>2782244888</td>\n",
       "      <td>3788734728</td>\n",
       "      <td>8</td>\n",
       "      <td>SCS</td>\n",
       "      <td>L1L2</td>\n",
       "      <td>181.007625</td>\n",
       "      <td>90.283224</td>\n",
       "      <td>2782244888_3788734728</td>\n",
       "      <td>2782244888_3788734728_8</td>\n",
       "      <td>SCSL1L2</td>\n",
       "      <td>Sagittal T2/STIR</td>\n",
       "    </tr>\n",
       "  </tbody>\n",
       "</table>\n",
       "</div>"
      ],
      "text/plain": [
       "         study_id   series_id  instance condition level           x  \\\n",
       "31474  2782244888  3788734728         8       SCS  L1L2  181.007625   \n",
       "\n",
       "               y                  ss_id              instance_id       cl  \\\n",
       "31474  90.283224  2782244888_3788734728  2782244888_3788734728_8  SCSL1L2   \n",
       "\n",
       "                  plane  \n",
       "31474  Sagittal T2/STIR  "
      ]
     },
     "execution_count": 32,
     "metadata": {},
     "output_type": "execute_result"
    }
   ],
   "source": [
    "# check canal stenosis is noy only in axial plane\n",
    "coords_df[(coords_df.condition == 'SCS') & (coords_df.plane != 'Axial T2')].sample()"
   ]
  },
  {
   "cell_type": "code",
   "execution_count": 33,
   "id": "4adb87c7-4850-4c6e-b5f8-f30fcc7ebc9b",
   "metadata": {},
   "outputs": [
    {
     "data": {
      "text/plain": [
       "study_id    series_id \n",
       "4003253     702807833                              [8]\n",
       "            1054713880               [4, 5, 6, 11, 12]\n",
       "            2448190387          [3, 4, 11, 19, 28, 35]\n",
       "4646740     3201256954    [15, 16, 22, 28, 29, 34, 40]\n",
       "            3486248476           [5, 6, 7, 15, 16, 17]\n",
       "                                      ...             \n",
       "4287160193  1507070277                             [8]\n",
       "            1820446240          [4, 9, 10, 16, 22, 28]\n",
       "4290709089  3274612423                             [9]\n",
       "            3390218084    [2, 3, 5, 6, 10, 15, 20, 21]\n",
       "            4237840455                  [4, 5, 11, 12]\n",
       "Name: instance, Length: 6291, dtype: object"
      ]
     },
     "execution_count": 33,
     "metadata": {},
     "output_type": "execute_result"
    }
   ],
   "source": [
    "# get the positive slices\n",
    "coords_df.groupby(['study_id','series_id']).instance.unique()"
   ]
  },
  {
   "cell_type": "code",
   "execution_count": 34,
   "id": "e013be8a-51a4-4e63-ae89-dade163f069a",
   "metadata": {},
   "outputs": [
    {
     "data": {
      "text/plain": [
       "(6291, 24546)"
      ]
     },
     "execution_count": 34,
     "metadata": {},
     "output_type": "execute_result"
    }
   ],
   "source": [
    "coords_df.ss_id.nunique(), coords_df.instance_id.nunique()"
   ]
  },
  {
   "cell_type": "markdown",
   "id": "240f8715-d61d-41c8-9fda-fd5a1dbfc5d7",
   "metadata": {},
   "source": [
    "### files_df"
   ]
  },
  {
   "cell_type": "code",
   "execution_count": 35,
   "id": "a5b74143-da36-46f5-8ebb-4a62242045fc",
   "metadata": {},
   "outputs": [],
   "source": [
    "files_df = pd.read_csv(CFG.FILES_CSV)"
   ]
  },
  {
   "cell_type": "code",
   "execution_count": 36,
   "id": "f0faf615-ff07-4748-b340-095936b6c15c",
   "metadata": {},
   "outputs": [
    {
     "data": {
      "text/html": [
       "<div>\n",
       "<style scoped>\n",
       "    .dataframe tbody tr th:only-of-type {\n",
       "        vertical-align: middle;\n",
       "    }\n",
       "\n",
       "    .dataframe tbody tr th {\n",
       "        vertical-align: top;\n",
       "    }\n",
       "\n",
       "    .dataframe thead th {\n",
       "        text-align: right;\n",
       "    }\n",
       "</style>\n",
       "<table border=\"1\" class=\"dataframe\">\n",
       "  <thead>\n",
       "    <tr style=\"text-align: right;\">\n",
       "      <th></th>\n",
       "      <th>study_id</th>\n",
       "      <th>series_id</th>\n",
       "      <th>image</th>\n",
       "      <th>instancenumber</th>\n",
       "      <th>rows</th>\n",
       "      <th>columns</th>\n",
       "      <th>slicethickness</th>\n",
       "      <th>spacingbetweenslices</th>\n",
       "      <th>patientposition</th>\n",
       "      <th>seriesdescription</th>\n",
       "    </tr>\n",
       "  </thead>\n",
       "  <tbody>\n",
       "    <tr>\n",
       "      <th>28625</th>\n",
       "      <td>176605889</td>\n",
       "      <td>562357601</td>\n",
       "      <td>15</td>\n",
       "      <td>15</td>\n",
       "      <td>320</td>\n",
       "      <td>320</td>\n",
       "      <td>4.0</td>\n",
       "      <td>4.40</td>\n",
       "      <td>HFS</td>\n",
       "      <td>T1</td>\n",
       "    </tr>\n",
       "    <tr>\n",
       "      <th>144085</th>\n",
       "      <td>933831851</td>\n",
       "      <td>394729551</td>\n",
       "      <td>16</td>\n",
       "      <td>16</td>\n",
       "      <td>576</td>\n",
       "      <td>576</td>\n",
       "      <td>4.0</td>\n",
       "      <td>4.40</td>\n",
       "      <td>HFS</td>\n",
       "      <td>NaN</td>\n",
       "    </tr>\n",
       "    <tr>\n",
       "      <th>23443</th>\n",
       "      <td>1644309505</td>\n",
       "      <td>1627302771</td>\n",
       "      <td>16</td>\n",
       "      <td>16</td>\n",
       "      <td>384</td>\n",
       "      <td>384</td>\n",
       "      <td>4.0</td>\n",
       "      <td>4.40</td>\n",
       "      <td>HFS</td>\n",
       "      <td>NaN</td>\n",
       "    </tr>\n",
       "    <tr>\n",
       "      <th>118560</th>\n",
       "      <td>4105233324</td>\n",
       "      <td>1005903160</td>\n",
       "      <td>9</td>\n",
       "      <td>9</td>\n",
       "      <td>384</td>\n",
       "      <td>384</td>\n",
       "      <td>4.0</td>\n",
       "      <td>4.40</td>\n",
       "      <td>HFS</td>\n",
       "      <td>T2</td>\n",
       "    </tr>\n",
       "    <tr>\n",
       "      <th>62140</th>\n",
       "      <td>26342422</td>\n",
       "      <td>2528347280</td>\n",
       "      <td>9</td>\n",
       "      <td>9</td>\n",
       "      <td>384</td>\n",
       "      <td>384</td>\n",
       "      <td>4.0</td>\n",
       "      <td>4.52</td>\n",
       "      <td>FFS</td>\n",
       "      <td>T2</td>\n",
       "    </tr>\n",
       "  </tbody>\n",
       "</table>\n",
       "</div>"
      ],
      "text/plain": [
       "          study_id   series_id  image  instancenumber  rows  columns  \\\n",
       "28625    176605889   562357601     15              15   320      320   \n",
       "144085   933831851   394729551     16              16   576      576   \n",
       "23443   1644309505  1627302771     16              16   384      384   \n",
       "118560  4105233324  1005903160      9               9   384      384   \n",
       "62140     26342422  2528347280      9               9   384      384   \n",
       "\n",
       "        slicethickness  spacingbetweenslices patientposition seriesdescription  \n",
       "28625              4.0                  4.40             HFS                T1  \n",
       "144085             4.0                  4.40             HFS               NaN  \n",
       "23443              4.0                  4.40             HFS               NaN  \n",
       "118560             4.0                  4.40             HFS                T2  \n",
       "62140              4.0                  4.52             FFS                T2  "
      ]
     },
     "execution_count": 36,
     "metadata": {},
     "output_type": "execute_result"
    }
   ],
   "source": [
    "files_df.sample(5)"
   ]
  },
  {
   "cell_type": "code",
   "execution_count": 37,
   "id": "8fbd918c-d178-4f16-9a9e-d7de6ab07557",
   "metadata": {},
   "outputs": [],
   "source": [
    "# files_df.rename(columns={'patient': 'study_id', 'series': 'series_id', 'image': 'instance'}, inplace=True)"
   ]
  },
  {
   "cell_type": "code",
   "execution_count": 38,
   "id": "36b59b51-1198-4df5-83fa-bacf0c5dadbc",
   "metadata": {},
   "outputs": [],
   "source": [
    "files_df['ss_id'] = files_df.apply(lambda row: f'{str(row[\"study_id\"])}_{str(row[\"series_id\"])}', axis=1)\n",
    "files_df['instance_id'] = files_df.apply(lambda row: f'{str(row[\"study_id\"])}_{str(row[\"series_id\"])}_{str(row[\"instancenumber\"])}', axis=1)"
   ]
  },
  {
   "cell_type": "code",
   "execution_count": 39,
   "id": "748fd5fb-4cc5-4715-ad45-d44192d2c517",
   "metadata": {},
   "outputs": [],
   "source": [
    "source_dir = CFG.PNG_DIR\n",
    "files_df['filename'] = files_df.apply(lambda row: f'{source_dir}\\\\{row.study_id}_{row.series_id}_{row.image}.png', axis=1)"
   ]
  },
  {
   "cell_type": "code",
   "execution_count": 40,
   "id": "de91b521-485d-4d05-b829-7cf2508558e8",
   "metadata": {},
   "outputs": [
    {
     "data": {
      "text/html": [
       "<div>\n",
       "<style scoped>\n",
       "    .dataframe tbody tr th:only-of-type {\n",
       "        vertical-align: middle;\n",
       "    }\n",
       "\n",
       "    .dataframe tbody tr th {\n",
       "        vertical-align: top;\n",
       "    }\n",
       "\n",
       "    .dataframe thead th {\n",
       "        text-align: right;\n",
       "    }\n",
       "</style>\n",
       "<table border=\"1\" class=\"dataframe\">\n",
       "  <thead>\n",
       "    <tr style=\"text-align: right;\">\n",
       "      <th></th>\n",
       "      <th>study_id</th>\n",
       "      <th>series_id</th>\n",
       "      <th>image</th>\n",
       "      <th>instancenumber</th>\n",
       "      <th>rows</th>\n",
       "      <th>columns</th>\n",
       "      <th>slicethickness</th>\n",
       "      <th>spacingbetweenslices</th>\n",
       "      <th>patientposition</th>\n",
       "      <th>seriesdescription</th>\n",
       "      <th>ss_id</th>\n",
       "      <th>instance_id</th>\n",
       "      <th>filename</th>\n",
       "    </tr>\n",
       "  </thead>\n",
       "  <tbody>\n",
       "    <tr>\n",
       "      <th>85085</th>\n",
       "      <td>3237383375</td>\n",
       "      <td>3153859504</td>\n",
       "      <td>8</td>\n",
       "      <td>8</td>\n",
       "      <td>512</td>\n",
       "      <td>512</td>\n",
       "      <td>4.0</td>\n",
       "      <td>5.0</td>\n",
       "      <td>HFS</td>\n",
       "      <td>T2</td>\n",
       "      <td>3237383375_3153859504</td>\n",
       "      <td>3237383375_3153859504_8</td>\n",
       "      <td>E:\\data\\RSNA2024\\original\\pngs_256\\3237383375_...</td>\n",
       "    </tr>\n",
       "  </tbody>\n",
       "</table>\n",
       "</div>"
      ],
      "text/plain": [
       "         study_id   series_id  image  instancenumber  rows  columns  \\\n",
       "85085  3237383375  3153859504      8               8   512      512   \n",
       "\n",
       "       slicethickness  spacingbetweenslices patientposition seriesdescription  \\\n",
       "85085             4.0                   5.0             HFS                T2   \n",
       "\n",
       "                       ss_id              instance_id  \\\n",
       "85085  3237383375_3153859504  3237383375_3153859504_8   \n",
       "\n",
       "                                                filename  \n",
       "85085  E:\\data\\RSNA2024\\original\\pngs_256\\3237383375_...  "
      ]
     },
     "execution_count": 40,
     "metadata": {},
     "output_type": "execute_result"
    }
   ],
   "source": [
    "files_df.sample()"
   ]
  },
  {
   "cell_type": "code",
   "execution_count": 41,
   "id": "4cdf7b4a-92bf-489e-a5e9-6e09f0c986f5",
   "metadata": {},
   "outputs": [
    {
     "data": {
      "text/html": [
       "<div>\n",
       "<style scoped>\n",
       "    .dataframe tbody tr th:only-of-type {\n",
       "        vertical-align: middle;\n",
       "    }\n",
       "\n",
       "    .dataframe tbody tr th {\n",
       "        vertical-align: top;\n",
       "    }\n",
       "\n",
       "    .dataframe thead th {\n",
       "        text-align: right;\n",
       "    }\n",
       "</style>\n",
       "<table border=\"1\" class=\"dataframe\">\n",
       "  <thead>\n",
       "    <tr style=\"text-align: right;\">\n",
       "      <th></th>\n",
       "      <th>study_id</th>\n",
       "      <th>series_id</th>\n",
       "      <th>series_description</th>\n",
       "      <th>ss_id</th>\n",
       "    </tr>\n",
       "  </thead>\n",
       "  <tbody>\n",
       "    <tr>\n",
       "      <th>5050</th>\n",
       "      <td>3451042269</td>\n",
       "      <td>397282761</td>\n",
       "      <td>Sagittal T1</td>\n",
       "      <td>3451042269_397282761</td>\n",
       "    </tr>\n",
       "  </tbody>\n",
       "</table>\n",
       "</div>"
      ],
      "text/plain": [
       "        study_id  series_id series_description                 ss_id\n",
       "5050  3451042269  397282761        Sagittal T1  3451042269_397282761"
      ]
     },
     "execution_count": 41,
     "metadata": {},
     "output_type": "execute_result"
    }
   ],
   "source": [
    "train_desc_df.sample()"
   ]
  },
  {
   "cell_type": "code",
   "execution_count": 42,
   "id": "c0d9500a-a3c2-4c82-a194-c7f03b3e7f57",
   "metadata": {},
   "outputs": [],
   "source": [
    "coords_df = pd.merge(coords_df, files_df[['instance_id', 'rows', 'columns', 'filename']], left_on='instance_id', right_on='instance_id')"
   ]
  },
  {
   "cell_type": "code",
   "execution_count": 43,
   "id": "666d78d7-6f82-4228-b622-e06464101ee2",
   "metadata": {},
   "outputs": [
    {
     "data": {
      "text/html": [
       "<div>\n",
       "<style scoped>\n",
       "    .dataframe tbody tr th:only-of-type {\n",
       "        vertical-align: middle;\n",
       "    }\n",
       "\n",
       "    .dataframe tbody tr th {\n",
       "        vertical-align: top;\n",
       "    }\n",
       "\n",
       "    .dataframe thead th {\n",
       "        text-align: right;\n",
       "    }\n",
       "</style>\n",
       "<table border=\"1\" class=\"dataframe\">\n",
       "  <thead>\n",
       "    <tr style=\"text-align: right;\">\n",
       "      <th></th>\n",
       "      <th>study_id</th>\n",
       "      <th>series_id</th>\n",
       "      <th>instance</th>\n",
       "      <th>condition</th>\n",
       "      <th>level</th>\n",
       "      <th>x</th>\n",
       "      <th>y</th>\n",
       "      <th>ss_id</th>\n",
       "      <th>instance_id</th>\n",
       "      <th>cl</th>\n",
       "      <th>plane</th>\n",
       "      <th>rows</th>\n",
       "      <th>columns</th>\n",
       "      <th>filename</th>\n",
       "    </tr>\n",
       "  </thead>\n",
       "  <tbody>\n",
       "    <tr>\n",
       "      <th>26724</th>\n",
       "      <td>2397650165</td>\n",
       "      <td>1258166411</td>\n",
       "      <td>20</td>\n",
       "      <td>LSS</td>\n",
       "      <td>L5S1</td>\n",
       "      <td>282.732743</td>\n",
       "      <td>270.725664</td>\n",
       "      <td>2397650165_1258166411</td>\n",
       "      <td>2397650165_1258166411_20</td>\n",
       "      <td>LSSL5S1</td>\n",
       "      <td>Axial T2</td>\n",
       "      <td>512</td>\n",
       "      <td>512</td>\n",
       "      <td>E:\\data\\RSNA2024\\original\\pngs_256\\2397650165_...</td>\n",
       "    </tr>\n",
       "  </tbody>\n",
       "</table>\n",
       "</div>"
      ],
      "text/plain": [
       "         study_id   series_id  instance condition level           x  \\\n",
       "26724  2397650165  1258166411        20       LSS  L5S1  282.732743   \n",
       "\n",
       "                y                  ss_id               instance_id       cl  \\\n",
       "26724  270.725664  2397650165_1258166411  2397650165_1258166411_20  LSSL5S1   \n",
       "\n",
       "          plane  rows  columns  \\\n",
       "26724  Axial T2   512      512   \n",
       "\n",
       "                                                filename  \n",
       "26724  E:\\data\\RSNA2024\\original\\pngs_256\\2397650165_...  "
      ]
     },
     "execution_count": 43,
     "metadata": {},
     "output_type": "execute_result"
    }
   ],
   "source": [
    "coords_df.sample()"
   ]
  },
  {
   "cell_type": "code",
   "execution_count": 43,
   "id": "74989581-6bf1-4051-b7bd-7bc6a03597ca",
   "metadata": {},
   "outputs": [],
   "source": [
    "# TODO: make sure we match coords corectly\n",
    "coords_df['x_perc'] = coords_df['x'] / coords_df['columns']\n",
    "coords_df['y_perc'] = coords_df['y'] / coords_df['rows']"
   ]
  },
  {
   "cell_type": "code",
   "execution_count": 44,
   "id": "3eb49fa3-a95a-4f6f-9693-b3743e300817",
   "metadata": {},
   "outputs": [
    {
     "data": {
      "text/plain": [
       "((19220, 16), (29472, 16), (48692, 16))"
      ]
     },
     "execution_count": 44,
     "metadata": {},
     "output_type": "execute_result"
    }
   ],
   "source": [
    "ax, non_ax = coords_df[coords_df['plane'] == 'Axial T2'], coords_df[coords_df['plane'] != 'Axial T2']\n",
    "ax.shape, non_ax.shape, coords_df.shape"
   ]
  },
  {
   "cell_type": "code",
   "execution_count": 45,
   "id": "7a119eb4-36f0-48ee-b8ac-fbcfc53fea04",
   "metadata": {},
   "outputs": [
    {
     "data": {
      "text/plain": [
       "2.063097514340344"
      ]
     },
     "execution_count": 45,
     "metadata": {},
     "output_type": "execute_result"
    }
   ],
   "source": [
    "coords_df.y.min()"
   ]
  },
  {
   "cell_type": "code",
   "execution_count": 46,
   "id": "f48536a0-c34a-45de-804b-fd0ca3c28005",
   "metadata": {
    "scrolled": true
   },
   "outputs": [
    {
     "name": "stdout",
     "output_type": "stream",
     "text": [
      "0.2849557522123894 0.3092621664050236\n",
      "0.6631964653474212 0.8078096961632665\n",
      "/////////////\n",
      "0.0048828125 0.0040294873326959845\n",
      "0.7684669901065448 0.9117647058823529\n",
      "/////////////\n"
     ]
    }
   ],
   "source": [
    "for c in [ax, non_ax]:\n",
    "    print(c['x_perc'].min(), c['y_perc'].min())\n",
    "    print(c['x_perc'].max(), c['y_perc'].max())\n",
    "    print('/////////////')\n",
    "    # print(c['x_perc'].mean(), c['y_perc'].mean())"
   ]
  },
  {
   "cell_type": "code",
   "execution_count": 47,
   "id": "4fa71521-aec2-41ad-a752-e49b1870d3ea",
   "metadata": {},
   "outputs": [
    {
     "data": {
      "text/plain": [
       "(48692, 16)"
      ]
     },
     "execution_count": 47,
     "metadata": {},
     "output_type": "execute_result"
    }
   ],
   "source": [
    "coords_df.shape"
   ]
  },
  {
   "cell_type": "code",
   "execution_count": null,
   "id": "965f36cf-136d-436d-89c5-0e90e0a7642e",
   "metadata": {},
   "outputs": [],
   "source": []
  },
  {
   "cell_type": "code",
   "execution_count": 48,
   "id": "abe4b46f-dbb4-4671-9d00-910f417bab80",
   "metadata": {},
   "outputs": [
    {
     "data": {
      "text/html": [
       "<div>\n",
       "<style scoped>\n",
       "    .dataframe tbody tr th:only-of-type {\n",
       "        vertical-align: middle;\n",
       "    }\n",
       "\n",
       "    .dataframe tbody tr th {\n",
       "        vertical-align: top;\n",
       "    }\n",
       "\n",
       "    .dataframe thead th {\n",
       "        text-align: right;\n",
       "    }\n",
       "</style>\n",
       "<table border=\"1\" class=\"dataframe\">\n",
       "  <thead>\n",
       "    <tr style=\"text-align: right;\">\n",
       "      <th></th>\n",
       "      <th>study_id</th>\n",
       "      <th>series_id</th>\n",
       "      <th>instance</th>\n",
       "      <th>rows</th>\n",
       "      <th>columns</th>\n",
       "      <th>ss_id</th>\n",
       "      <th>instance_id</th>\n",
       "      <th>filename</th>\n",
       "    </tr>\n",
       "  </thead>\n",
       "  <tbody>\n",
       "    <tr>\n",
       "      <th>102774</th>\n",
       "      <td>3703663905</td>\n",
       "      <td>1617588779</td>\n",
       "      <td>2</td>\n",
       "      <td>320</td>\n",
       "      <td>320</td>\n",
       "      <td>3703663905_1617588779</td>\n",
       "      <td>3703663905_1617588779_2</td>\n",
       "      <td>E:\\data\\RSNA2024\\original\\pngs_256\\3703663905_...</td>\n",
       "    </tr>\n",
       "    <tr>\n",
       "      <th>15964</th>\n",
       "      <td>1425509806</td>\n",
       "      <td>57120628</td>\n",
       "      <td>34</td>\n",
       "      <td>640</td>\n",
       "      <td>640</td>\n",
       "      <td>1425509806_57120628</td>\n",
       "      <td>1425509806_57120628_34</td>\n",
       "      <td>E:\\data\\RSNA2024\\original\\pngs_256\\1425509806_...</td>\n",
       "    </tr>\n",
       "    <tr>\n",
       "      <th>95601</th>\n",
       "      <td>3489581041</td>\n",
       "      <td>3869083782</td>\n",
       "      <td>15</td>\n",
       "      <td>320</td>\n",
       "      <td>320</td>\n",
       "      <td>3489581041_3869083782</td>\n",
       "      <td>3489581041_3869083782_15</td>\n",
       "      <td>E:\\data\\RSNA2024\\original\\pngs_256\\3489581041_...</td>\n",
       "    </tr>\n",
       "    <tr>\n",
       "      <th>36201</th>\n",
       "      <td>1972541574</td>\n",
       "      <td>1065990522</td>\n",
       "      <td>30</td>\n",
       "      <td>640</td>\n",
       "      <td>640</td>\n",
       "      <td>1972541574_1065990522</td>\n",
       "      <td>1972541574_1065990522_30</td>\n",
       "      <td>E:\\data\\RSNA2024\\original\\pngs_256\\1972541574_...</td>\n",
       "    </tr>\n",
       "    <tr>\n",
       "      <th>13026</th>\n",
       "      <td>1336127283</td>\n",
       "      <td>1679037242</td>\n",
       "      <td>15</td>\n",
       "      <td>320</td>\n",
       "      <td>320</td>\n",
       "      <td>1336127283_1679037242</td>\n",
       "      <td>1336127283_1679037242_15</td>\n",
       "      <td>E:\\data\\RSNA2024\\original\\pngs_256\\1336127283_...</td>\n",
       "    </tr>\n",
       "  </tbody>\n",
       "</table>\n",
       "</div>"
      ],
      "text/plain": [
       "          study_id   series_id  instance  rows  columns  \\\n",
       "102774  3703663905  1617588779         2   320      320   \n",
       "15964   1425509806    57120628        34   640      640   \n",
       "95601   3489581041  3869083782        15   320      320   \n",
       "36201   1972541574  1065990522        30   640      640   \n",
       "13026   1336127283  1679037242        15   320      320   \n",
       "\n",
       "                        ss_id               instance_id  \\\n",
       "102774  3703663905_1617588779   3703663905_1617588779_2   \n",
       "15964     1425509806_57120628    1425509806_57120628_34   \n",
       "95601   3489581041_3869083782  3489581041_3869083782_15   \n",
       "36201   1972541574_1065990522  1972541574_1065990522_30   \n",
       "13026   1336127283_1679037242  1336127283_1679037242_15   \n",
       "\n",
       "                                                 filename  \n",
       "102774  E:\\data\\RSNA2024\\original\\pngs_256\\3703663905_...  \n",
       "15964   E:\\data\\RSNA2024\\original\\pngs_256\\1425509806_...  \n",
       "95601   E:\\data\\RSNA2024\\original\\pngs_256\\3489581041_...  \n",
       "36201   E:\\data\\RSNA2024\\original\\pngs_256\\1972541574_...  \n",
       "13026   E:\\data\\RSNA2024\\original\\pngs_256\\1336127283_...  "
      ]
     },
     "execution_count": 48,
     "metadata": {},
     "output_type": "execute_result"
    }
   ],
   "source": [
    "files_df.sample(5)"
   ]
  },
  {
   "cell_type": "markdown",
   "id": "d2c3bacf-9e1e-439e-ad1a-8e7ebc2f538a",
   "metadata": {},
   "source": [
    "### Save results"
   ]
  },
  {
   "cell_type": "code",
   "execution_count": 98,
   "id": "23150446-04b1-4c7d-a440-df023735ea3c",
   "metadata": {},
   "outputs": [],
   "source": [
    "train_df.to_csv(CFG.DEST_FOLDER / 'train.csv', index=False)"
   ]
  },
  {
   "cell_type": "code",
   "execution_count": 51,
   "id": "bc960a50-34f0-4c26-9c60-0336a8a71977",
   "metadata": {},
   "outputs": [],
   "source": [
    "coords_df.to_csv(CFG.DEST_FOLDER / 'train_label_coordinates.csv', index=False)"
   ]
  },
  {
   "cell_type": "code",
   "execution_count": 133,
   "id": "b66d6904-6d02-4de7-9b68-a1b5a577be5c",
   "metadata": {},
   "outputs": [],
   "source": [
    "files_df.to_csv(CFG.DEST_FOLDER / 'train_files.csv', index=False)"
   ]
  },
  {
   "cell_type": "code",
   "execution_count": null,
   "id": "24f6c5e7-8761-4d7e-8db9-f94ee089d41c",
   "metadata": {},
   "outputs": [],
   "source": []
  }
 ],
 "metadata": {
  "kernelspec": {
   "display_name": "Python 3 (ipykernel)",
   "language": "python",
   "name": "python3"
  },
  "language_info": {
   "codemirror_mode": {
    "name": "ipython",
    "version": 3
   },
   "file_extension": ".py",
   "mimetype": "text/x-python",
   "name": "python",
   "nbconvert_exporter": "python",
   "pygments_lexer": "ipython3",
   "version": "3.10.14"
  }
 },
 "nbformat": 4,
 "nbformat_minor": 5
}
