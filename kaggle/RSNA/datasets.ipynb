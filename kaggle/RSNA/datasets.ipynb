{
 "cells": [
  {
   "cell_type": "code",
   "execution_count": 1,
   "id": "6b2a815c-2a6f-4ebf-92bf-8333b5b9144a",
   "metadata": {},
   "outputs": [],
   "source": [
    "%load_ext autoreload\n",
    "%autoreload 2"
   ]
  },
  {
   "cell_type": "code",
   "execution_count": 2,
   "id": "c73e4b1e-69d1-49af-85e3-591418aac8d8",
   "metadata": {},
   "outputs": [],
   "source": [
    "import numpy as np \n",
    "import pandas as pd\n",
    "\n",
    "from pathlib import Path"
   ]
  },
  {
   "cell_type": "code",
   "execution_count": 3,
   "id": "fd643bac-8d82-4a92-97d9-5d5586ee2cfb",
   "metadata": {},
   "outputs": [],
   "source": [
    "train_dir = Path('E:\\data\\RSNA2024')"
   ]
  },
  {
   "cell_type": "code",
   "execution_count": 4,
   "id": "db816614-20d7-4064-a271-1b98f9e32686",
   "metadata": {},
   "outputs": [],
   "source": [
    "class CFG:\n",
    "    random_seed = 42\n",
    "    \n",
    "    ROOT_FOLDER = train_dir / 'original'\n",
    "    DEST_FOLDER = train_dir\n",
    "    IMAGES_DIR = ROOT_FOLDER / 'train_images'\n",
    "    TRAIN_CSV = ROOT_FOLDER / 'train.csv'\n",
    "    FILES_CSV = ROOT_FOLDER / 'train_files.csv'\n",
    "    TRAIN_DESC_CSV = ROOT_FOLDER / 'train_series_descriptions.csv'\n",
    "    COORDS_CSV = ROOT_FOLDER / 'train_label_coordinates.csv'"
   ]
  },
  {
   "cell_type": "markdown",
   "id": "c267b198-b8b4-4386-a9bf-2319c9f0f315",
   "metadata": {},
   "source": [
    "### Rename train_df columns and values"
   ]
  },
  {
   "cell_type": "code",
   "execution_count": 5,
   "id": "26087c78-6355-42fa-86ac-a2189756023a",
   "metadata": {},
   "outputs": [
    {
     "data": {
      "text/plain": [
       "((1975, 26), (6294, 3))"
      ]
     },
     "execution_count": 5,
     "metadata": {},
     "output_type": "execute_result"
    }
   ],
   "source": [
    "train_df = pd.read_csv(CFG.TRAIN_CSV)\n",
    "train_desc_df = pd.read_csv(CFG.TRAIN_DESC_CSV)\n",
    "\n",
    "train_df.shape, train_desc_df.shape"
   ]
  },
  {
   "cell_type": "code",
   "execution_count": 36,
   "id": "fd06eb0e-7155-49f7-9f3f-6b22724aa457",
   "metadata": {},
   "outputs": [
    {
     "data": {
      "text/html": [
       "<div>\n",
       "<style scoped>\n",
       "    .dataframe tbody tr th:only-of-type {\n",
       "        vertical-align: middle;\n",
       "    }\n",
       "\n",
       "    .dataframe tbody tr th {\n",
       "        vertical-align: top;\n",
       "    }\n",
       "\n",
       "    .dataframe thead th {\n",
       "        text-align: right;\n",
       "    }\n",
       "</style>\n",
       "<table border=\"1\" class=\"dataframe\">\n",
       "  <thead>\n",
       "    <tr style=\"text-align: right;\">\n",
       "      <th></th>\n",
       "      <th>study_id</th>\n",
       "      <th>SCSL1L2</th>\n",
       "      <th>SCSL2L3</th>\n",
       "      <th>SCSL3L4</th>\n",
       "      <th>SCSL4L5</th>\n",
       "      <th>SCSL5S1</th>\n",
       "      <th>LNFNL1L2</th>\n",
       "      <th>LNFNL2L3</th>\n",
       "      <th>LNFNL3L4</th>\n",
       "      <th>LNFNL4L5</th>\n",
       "      <th>...</th>\n",
       "      <th>LSSL1L2</th>\n",
       "      <th>LSSL2L3</th>\n",
       "      <th>LSSL3L4</th>\n",
       "      <th>LSSL4L5</th>\n",
       "      <th>LSSL5S1</th>\n",
       "      <th>RSSL1L2</th>\n",
       "      <th>RSSL2L3</th>\n",
       "      <th>RSSL3L4</th>\n",
       "      <th>RSSL4L5</th>\n",
       "      <th>RSSL5S1</th>\n",
       "    </tr>\n",
       "  </thead>\n",
       "  <tbody>\n",
       "    <tr>\n",
       "      <th>0</th>\n",
       "      <td>4003253</td>\n",
       "      <td>Normal/Mild</td>\n",
       "      <td>Normal/Mild</td>\n",
       "      <td>Normal/Mild</td>\n",
       "      <td>Normal/Mild</td>\n",
       "      <td>Normal/Mild</td>\n",
       "      <td>Normal/Mild</td>\n",
       "      <td>Normal/Mild</td>\n",
       "      <td>Normal/Mild</td>\n",
       "      <td>Moderate</td>\n",
       "      <td>...</td>\n",
       "      <td>Normal/Mild</td>\n",
       "      <td>Normal/Mild</td>\n",
       "      <td>Normal/Mild</td>\n",
       "      <td>Moderate</td>\n",
       "      <td>Normal/Mild</td>\n",
       "      <td>Normal/Mild</td>\n",
       "      <td>Normal/Mild</td>\n",
       "      <td>Normal/Mild</td>\n",
       "      <td>Normal/Mild</td>\n",
       "      <td>Normal/Mild</td>\n",
       "    </tr>\n",
       "    <tr>\n",
       "      <th>1</th>\n",
       "      <td>4646740</td>\n",
       "      <td>Normal/Mild</td>\n",
       "      <td>Normal/Mild</td>\n",
       "      <td>Moderate</td>\n",
       "      <td>Severe</td>\n",
       "      <td>Normal/Mild</td>\n",
       "      <td>Normal/Mild</td>\n",
       "      <td>Normal/Mild</td>\n",
       "      <td>Normal/Mild</td>\n",
       "      <td>Moderate</td>\n",
       "      <td>...</td>\n",
       "      <td>Normal/Mild</td>\n",
       "      <td>Normal/Mild</td>\n",
       "      <td>Normal/Mild</td>\n",
       "      <td>Severe</td>\n",
       "      <td>Normal/Mild</td>\n",
       "      <td>Normal/Mild</td>\n",
       "      <td>Moderate</td>\n",
       "      <td>Moderate</td>\n",
       "      <td>Moderate</td>\n",
       "      <td>Normal/Mild</td>\n",
       "    </tr>\n",
       "    <tr>\n",
       "      <th>2</th>\n",
       "      <td>7143189</td>\n",
       "      <td>Normal/Mild</td>\n",
       "      <td>Normal/Mild</td>\n",
       "      <td>Normal/Mild</td>\n",
       "      <td>Normal/Mild</td>\n",
       "      <td>Normal/Mild</td>\n",
       "      <td>Normal/Mild</td>\n",
       "      <td>Normal/Mild</td>\n",
       "      <td>Normal/Mild</td>\n",
       "      <td>Normal/Mild</td>\n",
       "      <td>...</td>\n",
       "      <td>Normal/Mild</td>\n",
       "      <td>Normal/Mild</td>\n",
       "      <td>Normal/Mild</td>\n",
       "      <td>Normal/Mild</td>\n",
       "      <td>Normal/Mild</td>\n",
       "      <td>Normal/Mild</td>\n",
       "      <td>Normal/Mild</td>\n",
       "      <td>Normal/Mild</td>\n",
       "      <td>Normal/Mild</td>\n",
       "      <td>Normal/Mild</td>\n",
       "    </tr>\n",
       "    <tr>\n",
       "      <th>3</th>\n",
       "      <td>8785691</td>\n",
       "      <td>Normal/Mild</td>\n",
       "      <td>Normal/Mild</td>\n",
       "      <td>Normal/Mild</td>\n",
       "      <td>Normal/Mild</td>\n",
       "      <td>Normal/Mild</td>\n",
       "      <td>Normal/Mild</td>\n",
       "      <td>Normal/Mild</td>\n",
       "      <td>Normal/Mild</td>\n",
       "      <td>Moderate</td>\n",
       "      <td>...</td>\n",
       "      <td>Normal/Mild</td>\n",
       "      <td>Normal/Mild</td>\n",
       "      <td>Normal/Mild</td>\n",
       "      <td>Normal/Mild</td>\n",
       "      <td>Normal/Mild</td>\n",
       "      <td>Normal/Mild</td>\n",
       "      <td>Normal/Mild</td>\n",
       "      <td>Normal/Mild</td>\n",
       "      <td>Normal/Mild</td>\n",
       "      <td>Normal/Mild</td>\n",
       "    </tr>\n",
       "    <tr>\n",
       "      <th>4</th>\n",
       "      <td>10728036</td>\n",
       "      <td>Normal/Mild</td>\n",
       "      <td>Normal/Mild</td>\n",
       "      <td>Normal/Mild</td>\n",
       "      <td>Normal/Mild</td>\n",
       "      <td>Normal/Mild</td>\n",
       "      <td>Normal/Mild</td>\n",
       "      <td>Normal/Mild</td>\n",
       "      <td>Normal/Mild</td>\n",
       "      <td>Normal/Mild</td>\n",
       "      <td>...</td>\n",
       "      <td>Normal/Mild</td>\n",
       "      <td>Normal/Mild</td>\n",
       "      <td>Normal/Mild</td>\n",
       "      <td>Normal/Mild</td>\n",
       "      <td>Normal/Mild</td>\n",
       "      <td>Normal/Mild</td>\n",
       "      <td>Normal/Mild</td>\n",
       "      <td>Normal/Mild</td>\n",
       "      <td>Moderate</td>\n",
       "      <td>Normal/Mild</td>\n",
       "    </tr>\n",
       "  </tbody>\n",
       "</table>\n",
       "<p>5 rows × 26 columns</p>\n",
       "</div>"
      ],
      "text/plain": [
       "   study_id      SCSL1L2      SCSL2L3      SCSL3L4      SCSL4L5      SCSL5S1  \\\n",
       "0   4003253  Normal/Mild  Normal/Mild  Normal/Mild  Normal/Mild  Normal/Mild   \n",
       "1   4646740  Normal/Mild  Normal/Mild     Moderate       Severe  Normal/Mild   \n",
       "2   7143189  Normal/Mild  Normal/Mild  Normal/Mild  Normal/Mild  Normal/Mild   \n",
       "3   8785691  Normal/Mild  Normal/Mild  Normal/Mild  Normal/Mild  Normal/Mild   \n",
       "4  10728036  Normal/Mild  Normal/Mild  Normal/Mild  Normal/Mild  Normal/Mild   \n",
       "\n",
       "      LNFNL1L2     LNFNL2L3     LNFNL3L4     LNFNL4L5  ...      LSSL1L2  \\\n",
       "0  Normal/Mild  Normal/Mild  Normal/Mild     Moderate  ...  Normal/Mild   \n",
       "1  Normal/Mild  Normal/Mild  Normal/Mild     Moderate  ...  Normal/Mild   \n",
       "2  Normal/Mild  Normal/Mild  Normal/Mild  Normal/Mild  ...  Normal/Mild   \n",
       "3  Normal/Mild  Normal/Mild  Normal/Mild     Moderate  ...  Normal/Mild   \n",
       "4  Normal/Mild  Normal/Mild  Normal/Mild  Normal/Mild  ...  Normal/Mild   \n",
       "\n",
       "       LSSL2L3      LSSL3L4      LSSL4L5      LSSL5S1      RSSL1L2  \\\n",
       "0  Normal/Mild  Normal/Mild     Moderate  Normal/Mild  Normal/Mild   \n",
       "1  Normal/Mild  Normal/Mild       Severe  Normal/Mild  Normal/Mild   \n",
       "2  Normal/Mild  Normal/Mild  Normal/Mild  Normal/Mild  Normal/Mild   \n",
       "3  Normal/Mild  Normal/Mild  Normal/Mild  Normal/Mild  Normal/Mild   \n",
       "4  Normal/Mild  Normal/Mild  Normal/Mild  Normal/Mild  Normal/Mild   \n",
       "\n",
       "       RSSL2L3      RSSL3L4      RSSL4L5      RSSL5S1  \n",
       "0  Normal/Mild  Normal/Mild  Normal/Mild  Normal/Mild  \n",
       "1     Moderate     Moderate     Moderate  Normal/Mild  \n",
       "2  Normal/Mild  Normal/Mild  Normal/Mild  Normal/Mild  \n",
       "3  Normal/Mild  Normal/Mild  Normal/Mild  Normal/Mild  \n",
       "4  Normal/Mild  Normal/Mild     Moderate  Normal/Mild  \n",
       "\n",
       "[5 rows x 26 columns]"
      ]
     },
     "execution_count": 36,
     "metadata": {},
     "output_type": "execute_result"
    }
   ],
   "source": [
    "train_df.head()"
   ]
  },
  {
   "cell_type": "code",
   "execution_count": 26,
   "id": "36b5f0f5-1790-423f-b7ca-6a335e355585",
   "metadata": {},
   "outputs": [
    {
     "data": {
      "text/plain": [
       "['study_id', 'SCSL1L2', 'SCSL2L3', 'SCSL3L4', 'SCSL4L5']"
      ]
     },
     "execution_count": 26,
     "metadata": {},
     "output_type": "execute_result"
    }
   ],
   "source": [
    "cols = train_df.columns[1:]\n",
    "# first = [c.split('_')[:-2] for c in cols]\n",
    "# last = [c.split('_')[-2:] for c in cols]\n",
    "\n",
    "cols = [c.split('_') for c in cols]\n",
    "cols = [''.join([i[0] if len(i) > 2 else i for i in c]).upper() for c in cols]\n",
    "\n",
    "cols = ['study_id'] + cols\n",
    "\n",
    "cols[:5]"
   ]
  },
  {
   "cell_type": "code",
   "execution_count": 29,
   "id": "a89b5ef9-8c90-4a87-9dbc-66f8eca9c1f6",
   "metadata": {},
   "outputs": [
    {
     "data": {
      "text/plain": [
       "{'study_id': 'study_id',\n",
       " 'spinal_canal_stenosis_l1_l2': 'SCSL1L2',\n",
       " 'spinal_canal_stenosis_l2_l3': 'SCSL2L3',\n",
       " 'spinal_canal_stenosis_l3_l4': 'SCSL3L4',\n",
       " 'spinal_canal_stenosis_l4_l5': 'SCSL4L5',\n",
       " 'spinal_canal_stenosis_l5_s1': 'SCSL5S1',\n",
       " 'left_neural_foraminal_narrowing_l1_l2': 'LNFNL1L2',\n",
       " 'left_neural_foraminal_narrowing_l2_l3': 'LNFNL2L3',\n",
       " 'left_neural_foraminal_narrowing_l3_l4': 'LNFNL3L4',\n",
       " 'left_neural_foraminal_narrowing_l4_l5': 'LNFNL4L5',\n",
       " 'left_neural_foraminal_narrowing_l5_s1': 'LNFNL5S1',\n",
       " 'right_neural_foraminal_narrowing_l1_l2': 'RNFNL1L2',\n",
       " 'right_neural_foraminal_narrowing_l2_l3': 'RNFNL2L3',\n",
       " 'right_neural_foraminal_narrowing_l3_l4': 'RNFNL3L4',\n",
       " 'right_neural_foraminal_narrowing_l4_l5': 'RNFNL4L5',\n",
       " 'right_neural_foraminal_narrowing_l5_s1': 'RNFNL5S1',\n",
       " 'left_subarticular_stenosis_l1_l2': 'LSSL1L2',\n",
       " 'left_subarticular_stenosis_l2_l3': 'LSSL2L3',\n",
       " 'left_subarticular_stenosis_l3_l4': 'LSSL3L4',\n",
       " 'left_subarticular_stenosis_l4_l5': 'LSSL4L5',\n",
       " 'left_subarticular_stenosis_l5_s1': 'LSSL5S1',\n",
       " 'right_subarticular_stenosis_l1_l2': 'RSSL1L2',\n",
       " 'right_subarticular_stenosis_l2_l3': 'RSSL2L3',\n",
       " 'right_subarticular_stenosis_l3_l4': 'RSSL3L4',\n",
       " 'right_subarticular_stenosis_l4_l5': 'RSSL4L5',\n",
       " 'right_subarticular_stenosis_l5_s1': 'RSSL5S1'}"
      ]
     },
     "execution_count": 29,
     "metadata": {},
     "output_type": "execute_result"
    }
   ],
   "source": [
    "dict(zip(train_df.columns, cols))"
   ]
  },
  {
   "cell_type": "code",
   "execution_count": 34,
   "id": "9ccdad27-1d50-494f-851f-9ab2e24a9261",
   "metadata": {},
   "outputs": [
    {
     "data": {
      "text/plain": [
       "(1975, 26)"
      ]
     },
     "execution_count": 34,
     "metadata": {},
     "output_type": "execute_result"
    }
   ],
   "source": [
    "train_df.rename(columns=dict(zip(train_df.columns, cols)), inplace=True)\n",
    "train_df.shape"
   ]
  },
  {
   "cell_type": "code",
   "execution_count": 35,
   "id": "3e3f14e0-abf1-4023-913b-f600f94d61ee",
   "metadata": {},
   "outputs": [
    {
     "data": {
      "text/plain": [
       "study_id        4646740\n",
       "SCSL1L2     Normal/Mild\n",
       "SCSL2L3     Normal/Mild\n",
       "SCSL3L4        Moderate\n",
       "SCSL4L5          Severe\n",
       "SCSL5S1     Normal/Mild\n",
       "LNFNL1L2    Normal/Mild\n",
       "LNFNL2L3    Normal/Mild\n",
       "LNFNL3L4    Normal/Mild\n",
       "LNFNL4L5       Moderate\n",
       "LNFNL5S1       Moderate\n",
       "RNFNL1L2    Normal/Mild\n",
       "RNFNL2L3    Normal/Mild\n",
       "RNFNL3L4       Moderate\n",
       "RNFNL4L5       Moderate\n",
       "RNFNL5S1    Normal/Mild\n",
       "LSSL1L2     Normal/Mild\n",
       "LSSL2L3     Normal/Mild\n",
       "LSSL3L4     Normal/Mild\n",
       "LSSL4L5          Severe\n",
       "LSSL5S1     Normal/Mild\n",
       "RSSL1L2     Normal/Mild\n",
       "RSSL2L3        Moderate\n",
       "RSSL3L4        Moderate\n",
       "RSSL4L5        Moderate\n",
       "RSSL5S1     Normal/Mild\n",
       "Name: 1, dtype: object"
      ]
     },
     "execution_count": 35,
     "metadata": {},
     "output_type": "execute_result"
    }
   ],
   "source": [
    "train_df.iloc[1]"
   ]
  },
  {
   "cell_type": "code",
   "execution_count": 8,
   "id": "693453d8-d032-4721-814a-9790e163f700",
   "metadata": {},
   "outputs": [
    {
     "data": {
      "text/plain": [
       "1975"
      ]
     },
     "execution_count": 8,
     "metadata": {},
     "output_type": "execute_result"
    }
   ],
   "source": [
    "train_df.study_id.nunique()"
   ]
  },
  {
   "cell_type": "code",
   "execution_count": 38,
   "id": "b09da4ba-538c-4325-b18b-4a51fc4bd22b",
   "metadata": {},
   "outputs": [
    {
     "data": {
      "text/plain": [
       "{'Normal/Mild': 'N', 'Moderate': 'M', 'Severe': 'S'}"
      ]
     },
     "execution_count": 38,
     "metadata": {},
     "output_type": "execute_result"
    }
   ],
   "source": [
    "vals = {'Normal/Mild': 'N', 'Moderate': 'M', 'Severe': 'S'}\n",
    "vals"
   ]
  },
  {
   "cell_type": "code",
   "execution_count": 44,
   "id": "16bb69ef-e301-4bb5-8a2c-b5ac278c208f",
   "metadata": {},
   "outputs": [],
   "source": [
    "train_df[cols[1:]] = train_df[cols[1:]].replace(vals)"
   ]
  },
  {
   "cell_type": "code",
   "execution_count": 45,
   "id": "e8dff196-c660-4d2c-8d18-f9a5f459435d",
   "metadata": {},
   "outputs": [
    {
     "data": {
      "text/html": [
       "<div>\n",
       "<style scoped>\n",
       "    .dataframe tbody tr th:only-of-type {\n",
       "        vertical-align: middle;\n",
       "    }\n",
       "\n",
       "    .dataframe tbody tr th {\n",
       "        vertical-align: top;\n",
       "    }\n",
       "\n",
       "    .dataframe thead th {\n",
       "        text-align: right;\n",
       "    }\n",
       "</style>\n",
       "<table border=\"1\" class=\"dataframe\">\n",
       "  <thead>\n",
       "    <tr style=\"text-align: right;\">\n",
       "      <th></th>\n",
       "      <th>study_id</th>\n",
       "      <th>SCSL1L2</th>\n",
       "      <th>SCSL2L3</th>\n",
       "      <th>SCSL3L4</th>\n",
       "      <th>SCSL4L5</th>\n",
       "      <th>SCSL5S1</th>\n",
       "      <th>LNFNL1L2</th>\n",
       "      <th>LNFNL2L3</th>\n",
       "      <th>LNFNL3L4</th>\n",
       "      <th>LNFNL4L5</th>\n",
       "      <th>...</th>\n",
       "      <th>LSSL1L2</th>\n",
       "      <th>LSSL2L3</th>\n",
       "      <th>LSSL3L4</th>\n",
       "      <th>LSSL4L5</th>\n",
       "      <th>LSSL5S1</th>\n",
       "      <th>RSSL1L2</th>\n",
       "      <th>RSSL2L3</th>\n",
       "      <th>RSSL3L4</th>\n",
       "      <th>RSSL4L5</th>\n",
       "      <th>RSSL5S1</th>\n",
       "    </tr>\n",
       "  </thead>\n",
       "  <tbody>\n",
       "    <tr>\n",
       "      <th>1327</th>\n",
       "      <td>2885881158</td>\n",
       "      <td>N</td>\n",
       "      <td>M</td>\n",
       "      <td>M</td>\n",
       "      <td>S</td>\n",
       "      <td>N</td>\n",
       "      <td>N</td>\n",
       "      <td>N</td>\n",
       "      <td>N</td>\n",
       "      <td>N</td>\n",
       "      <td>...</td>\n",
       "      <td>N</td>\n",
       "      <td>M</td>\n",
       "      <td>M</td>\n",
       "      <td>S</td>\n",
       "      <td>M</td>\n",
       "      <td>N</td>\n",
       "      <td>N</td>\n",
       "      <td>N</td>\n",
       "      <td>M</td>\n",
       "      <td>N</td>\n",
       "    </tr>\n",
       "    <tr>\n",
       "      <th>1189</th>\n",
       "      <td>2607713777</td>\n",
       "      <td>N</td>\n",
       "      <td>N</td>\n",
       "      <td>N</td>\n",
       "      <td>N</td>\n",
       "      <td>N</td>\n",
       "      <td>N</td>\n",
       "      <td>N</td>\n",
       "      <td>N</td>\n",
       "      <td>N</td>\n",
       "      <td>...</td>\n",
       "      <td>N</td>\n",
       "      <td>N</td>\n",
       "      <td>N</td>\n",
       "      <td>M</td>\n",
       "      <td>M</td>\n",
       "      <td>N</td>\n",
       "      <td>N</td>\n",
       "      <td>N</td>\n",
       "      <td>N</td>\n",
       "      <td>N</td>\n",
       "    </tr>\n",
       "  </tbody>\n",
       "</table>\n",
       "<p>2 rows × 26 columns</p>\n",
       "</div>"
      ],
      "text/plain": [
       "        study_id SCSL1L2 SCSL2L3 SCSL3L4 SCSL4L5 SCSL5S1 LNFNL1L2 LNFNL2L3  \\\n",
       "1327  2885881158       N       M       M       S       N        N        N   \n",
       "1189  2607713777       N       N       N       N       N        N        N   \n",
       "\n",
       "     LNFNL3L4 LNFNL4L5  ... LSSL1L2 LSSL2L3 LSSL3L4 LSSL4L5 LSSL5S1 RSSL1L2  \\\n",
       "1327        N        N  ...       N       M       M       S       M       N   \n",
       "1189        N        N  ...       N       N       N       M       M       N   \n",
       "\n",
       "     RSSL2L3 RSSL3L4 RSSL4L5 RSSL5S1  \n",
       "1327       N       N       M       N  \n",
       "1189       N       N       N       N  \n",
       "\n",
       "[2 rows x 26 columns]"
      ]
     },
     "execution_count": 45,
     "metadata": {},
     "output_type": "execute_result"
    }
   ],
   "source": [
    "train_df.sample(2)"
   ]
  },
  {
   "cell_type": "markdown",
   "id": "3b7a96f1-631b-4cab-a0f3-e86a1e791c95",
   "metadata": {},
   "source": [
    "### Coordinates"
   ]
  },
  {
   "cell_type": "code",
   "execution_count": 58,
   "id": "caf88225-2aea-4e23-b6ff-e91c0b8e842d",
   "metadata": {},
   "outputs": [
    {
     "data": {
      "text/plain": [
       "((48692, 7), (147218, 5))"
      ]
     },
     "execution_count": 58,
     "metadata": {},
     "output_type": "execute_result"
    }
   ],
   "source": [
    "coords_df = pd.read_csv(CFG.COORDS_CSV)\n",
    "files_df = pd.read_csv(CFG.FILES_CSV)\n",
    "\n",
    "coords_df.shape, files_df.shape"
   ]
  },
  {
   "cell_type": "code",
   "execution_count": 69,
   "id": "0a0be7b5-f17b-4adb-9870-227ac12215ef",
   "metadata": {},
   "outputs": [],
   "source": [
    "coords_df.rename(columns={'instance_number': 'instance'}, inplace=True)"
   ]
  },
  {
   "cell_type": "code",
   "execution_count": 59,
   "id": "65b8de8e-f0da-46cc-9316-ec134b67751a",
   "metadata": {},
   "outputs": [
    {
     "data": {
      "text/plain": [
       "(1974, 5, 5)"
      ]
     },
     "execution_count": 59,
     "metadata": {},
     "output_type": "execute_result"
    }
   ],
   "source": [
    "coords_df.study_id.nunique(), coords_df.condition.nunique(), coords_df.level.nunique()"
   ]
  },
  {
   "cell_type": "code",
   "execution_count": 60,
   "id": "8903243d-adb4-4c46-bf32-3482cc7a051e",
   "metadata": {},
   "outputs": [
    {
     "data": {
      "text/plain": [
       "(array(['Spinal Canal Stenosis', 'Right Neural Foraminal Narrowing',\n",
       "        'Left Neural Foraminal Narrowing', 'Left Subarticular Stenosis',\n",
       "        'Right Subarticular Stenosis'], dtype=object),\n",
       " array(['L1/L2', 'L2/L3', 'L3/L4', 'L4/L5', 'L5/S1'], dtype=object))"
      ]
     },
     "execution_count": 60,
     "metadata": {},
     "output_type": "execute_result"
    }
   ],
   "source": [
    "coords_df.condition.unique(), coords_df.level.unique()"
   ]
  },
  {
   "cell_type": "code",
   "execution_count": 61,
   "id": "6c7cf0d6-5c81-425f-9187-fd2068a6a57c",
   "metadata": {},
   "outputs": [
    {
     "data": {
      "text/plain": [
       "6291"
      ]
     },
     "execution_count": 61,
     "metadata": {},
     "output_type": "execute_result"
    }
   ],
   "source": [
    "coords_df.series_id.nunique()"
   ]
  },
  {
   "cell_type": "code",
   "execution_count": 62,
   "id": "2e83f2cd-45b7-4208-9fae-65ece413fa2a",
   "metadata": {},
   "outputs": [],
   "source": [
    "coords_df['id'] = coords_df.apply(lambda row: str(row['study_id']) + str(row['series_id']), axis=1)\n",
    "train_desc_df['id'] = train_desc_df.apply(lambda row: str(row['study_id']) + str(row['series_id']), axis=1)"
   ]
  },
  {
   "cell_type": "code",
   "execution_count": 63,
   "id": "593fbb6e-2485-4bd4-ae0f-c19a494085f2",
   "metadata": {},
   "outputs": [
    {
     "data": {
      "text/html": [
       "<div>\n",
       "<style scoped>\n",
       "    .dataframe tbody tr th:only-of-type {\n",
       "        vertical-align: middle;\n",
       "    }\n",
       "\n",
       "    .dataframe tbody tr th {\n",
       "        vertical-align: top;\n",
       "    }\n",
       "\n",
       "    .dataframe thead th {\n",
       "        text-align: right;\n",
       "    }\n",
       "</style>\n",
       "<table border=\"1\" class=\"dataframe\">\n",
       "  <thead>\n",
       "    <tr style=\"text-align: right;\">\n",
       "      <th></th>\n",
       "      <th>study_id</th>\n",
       "      <th>series_id</th>\n",
       "      <th>instance_number</th>\n",
       "      <th>condition</th>\n",
       "      <th>level</th>\n",
       "      <th>x</th>\n",
       "      <th>y</th>\n",
       "      <th>id</th>\n",
       "    </tr>\n",
       "  </thead>\n",
       "  <tbody>\n",
       "    <tr>\n",
       "      <th>34952</th>\n",
       "      <td>3102387934</td>\n",
       "      <td>2871543177</td>\n",
       "      <td>7</td>\n",
       "      <td>Right Neural Foraminal Narrowing</td>\n",
       "      <td>L1/L2</td>\n",
       "      <td>223.154717</td>\n",
       "      <td>78.188679</td>\n",
       "      <td>31023879342871543177</td>\n",
       "    </tr>\n",
       "    <tr>\n",
       "      <th>40606</th>\n",
       "      <td>3560499468</td>\n",
       "      <td>3880800850</td>\n",
       "      <td>6</td>\n",
       "      <td>Left Neural Foraminal Narrowing</td>\n",
       "      <td>L1/L2</td>\n",
       "      <td>308.436155</td>\n",
       "      <td>133.325681</td>\n",
       "      <td>35604994683880800850</td>\n",
       "    </tr>\n",
       "  </tbody>\n",
       "</table>\n",
       "</div>"
      ],
      "text/plain": [
       "         study_id   series_id  instance_number  \\\n",
       "34952  3102387934  2871543177                7   \n",
       "40606  3560499468  3880800850                6   \n",
       "\n",
       "                              condition  level           x           y  \\\n",
       "34952  Right Neural Foraminal Narrowing  L1/L2  223.154717   78.188679   \n",
       "40606   Left Neural Foraminal Narrowing  L1/L2  308.436155  133.325681   \n",
       "\n",
       "                         id  \n",
       "34952  31023879342871543177  \n",
       "40606  35604994683880800850  "
      ]
     },
     "execution_count": 63,
     "metadata": {},
     "output_type": "execute_result"
    }
   ],
   "source": [
    "coords_df.sample(2)"
   ]
  },
  {
   "cell_type": "code",
   "execution_count": 65,
   "id": "3ce3f7f2-1551-4fc7-a4d4-081f4dcc1331",
   "metadata": {},
   "outputs": [],
   "source": [
    "# rename condition\n",
    "coords_df['condition'] = coords_df.apply(lambda row: ''.join([w[0] for w in row['condition'].split(' ')]), axis=1)"
   ]
  },
  {
   "cell_type": "code",
   "execution_count": 83,
   "id": "1a983c02-f7c1-4016-be0d-e6a561227f19",
   "metadata": {},
   "outputs": [],
   "source": [
    "# rename level\n",
    "coords_df['level'] = coords_df.level.apply(lambda l: ''.join(l.split('/')))"
   ]
  },
  {
   "cell_type": "code",
   "execution_count": 84,
   "id": "5a4ecfe8-4e6c-4044-a745-f19446a550ed",
   "metadata": {},
   "outputs": [
    {
     "data": {
      "text/plain": [
       "5"
      ]
     },
     "execution_count": 84,
     "metadata": {},
     "output_type": "execute_result"
    }
   ],
   "source": [
    "coords_df.condition.nunique()"
   ]
  },
  {
   "cell_type": "code",
   "execution_count": 85,
   "id": "a5bfc916-5e63-465e-aded-8a391a1d0e08",
   "metadata": {},
   "outputs": [
    {
     "data": {
      "text/html": [
       "<div>\n",
       "<style scoped>\n",
       "    .dataframe tbody tr th:only-of-type {\n",
       "        vertical-align: middle;\n",
       "    }\n",
       "\n",
       "    .dataframe tbody tr th {\n",
       "        vertical-align: top;\n",
       "    }\n",
       "\n",
       "    .dataframe thead th {\n",
       "        text-align: right;\n",
       "    }\n",
       "</style>\n",
       "<table border=\"1\" class=\"dataframe\">\n",
       "  <thead>\n",
       "    <tr style=\"text-align: right;\">\n",
       "      <th></th>\n",
       "      <th>study_id</th>\n",
       "      <th>series_id</th>\n",
       "      <th>instance</th>\n",
       "      <th>condition</th>\n",
       "      <th>level</th>\n",
       "      <th>x</th>\n",
       "      <th>y</th>\n",
       "      <th>id</th>\n",
       "      <th>plane</th>\n",
       "    </tr>\n",
       "  </thead>\n",
       "  <tbody>\n",
       "    <tr>\n",
       "      <th>0</th>\n",
       "      <td>4003253</td>\n",
       "      <td>702807833</td>\n",
       "      <td>8</td>\n",
       "      <td>SCS</td>\n",
       "      <td>L1L2</td>\n",
       "      <td>322.831858</td>\n",
       "      <td>227.964602</td>\n",
       "      <td>4003253702807833</td>\n",
       "      <td>Sagittal T2/STIR</td>\n",
       "    </tr>\n",
       "    <tr>\n",
       "      <th>1</th>\n",
       "      <td>4003253</td>\n",
       "      <td>702807833</td>\n",
       "      <td>8</td>\n",
       "      <td>SCS</td>\n",
       "      <td>L2L3</td>\n",
       "      <td>320.571429</td>\n",
       "      <td>295.714286</td>\n",
       "      <td>4003253702807833</td>\n",
       "      <td>Sagittal T2/STIR</td>\n",
       "    </tr>\n",
       "    <tr>\n",
       "      <th>2</th>\n",
       "      <td>4003253</td>\n",
       "      <td>702807833</td>\n",
       "      <td>8</td>\n",
       "      <td>SCS</td>\n",
       "      <td>L3L4</td>\n",
       "      <td>323.030303</td>\n",
       "      <td>371.818182</td>\n",
       "      <td>4003253702807833</td>\n",
       "      <td>Sagittal T2/STIR</td>\n",
       "    </tr>\n",
       "    <tr>\n",
       "      <th>3</th>\n",
       "      <td>4003253</td>\n",
       "      <td>702807833</td>\n",
       "      <td>8</td>\n",
       "      <td>SCS</td>\n",
       "      <td>L4L5</td>\n",
       "      <td>335.292035</td>\n",
       "      <td>427.327434</td>\n",
       "      <td>4003253702807833</td>\n",
       "      <td>Sagittal T2/STIR</td>\n",
       "    </tr>\n",
       "    <tr>\n",
       "      <th>4</th>\n",
       "      <td>4003253</td>\n",
       "      <td>702807833</td>\n",
       "      <td>8</td>\n",
       "      <td>SCS</td>\n",
       "      <td>L5S1</td>\n",
       "      <td>353.415929</td>\n",
       "      <td>483.964602</td>\n",
       "      <td>4003253702807833</td>\n",
       "      <td>Sagittal T2/STIR</td>\n",
       "    </tr>\n",
       "    <tr>\n",
       "      <th>5</th>\n",
       "      <td>4003253</td>\n",
       "      <td>1054713880</td>\n",
       "      <td>4</td>\n",
       "      <td>RNFN</td>\n",
       "      <td>L4L5</td>\n",
       "      <td>187.961759</td>\n",
       "      <td>251.839388</td>\n",
       "      <td>40032531054713880</td>\n",
       "      <td>Sagittal T1</td>\n",
       "    </tr>\n",
       "    <tr>\n",
       "      <th>6</th>\n",
       "      <td>4003253</td>\n",
       "      <td>1054713880</td>\n",
       "      <td>4</td>\n",
       "      <td>RNFN</td>\n",
       "      <td>L5S1</td>\n",
       "      <td>198.240918</td>\n",
       "      <td>285.613767</td>\n",
       "      <td>40032531054713880</td>\n",
       "      <td>Sagittal T1</td>\n",
       "    </tr>\n",
       "    <tr>\n",
       "      <th>7</th>\n",
       "      <td>4003253</td>\n",
       "      <td>1054713880</td>\n",
       "      <td>5</td>\n",
       "      <td>RNFN</td>\n",
       "      <td>L3L4</td>\n",
       "      <td>187.227533</td>\n",
       "      <td>210.722753</td>\n",
       "      <td>40032531054713880</td>\n",
       "      <td>Sagittal T1</td>\n",
       "    </tr>\n",
       "    <tr>\n",
       "      <th>8</th>\n",
       "      <td>4003253</td>\n",
       "      <td>1054713880</td>\n",
       "      <td>6</td>\n",
       "      <td>RNFN</td>\n",
       "      <td>L1L2</td>\n",
       "      <td>194.569790</td>\n",
       "      <td>127.755258</td>\n",
       "      <td>40032531054713880</td>\n",
       "      <td>Sagittal T1</td>\n",
       "    </tr>\n",
       "    <tr>\n",
       "      <th>9</th>\n",
       "      <td>4003253</td>\n",
       "      <td>1054713880</td>\n",
       "      <td>6</td>\n",
       "      <td>RNFN</td>\n",
       "      <td>L2L3</td>\n",
       "      <td>191.632887</td>\n",
       "      <td>165.934990</td>\n",
       "      <td>40032531054713880</td>\n",
       "      <td>Sagittal T1</td>\n",
       "    </tr>\n",
       "  </tbody>\n",
       "</table>\n",
       "</div>"
      ],
      "text/plain": [
       "   study_id   series_id  instance condition level           x           y  \\\n",
       "0   4003253   702807833         8       SCS  L1L2  322.831858  227.964602   \n",
       "1   4003253   702807833         8       SCS  L2L3  320.571429  295.714286   \n",
       "2   4003253   702807833         8       SCS  L3L4  323.030303  371.818182   \n",
       "3   4003253   702807833         8       SCS  L4L5  335.292035  427.327434   \n",
       "4   4003253   702807833         8       SCS  L5S1  353.415929  483.964602   \n",
       "5   4003253  1054713880         4      RNFN  L4L5  187.961759  251.839388   \n",
       "6   4003253  1054713880         4      RNFN  L5S1  198.240918  285.613767   \n",
       "7   4003253  1054713880         5      RNFN  L3L4  187.227533  210.722753   \n",
       "8   4003253  1054713880         6      RNFN  L1L2  194.569790  127.755258   \n",
       "9   4003253  1054713880         6      RNFN  L2L3  191.632887  165.934990   \n",
       "\n",
       "                  id             plane  \n",
       "0   4003253702807833  Sagittal T2/STIR  \n",
       "1   4003253702807833  Sagittal T2/STIR  \n",
       "2   4003253702807833  Sagittal T2/STIR  \n",
       "3   4003253702807833  Sagittal T2/STIR  \n",
       "4   4003253702807833  Sagittal T2/STIR  \n",
       "5  40032531054713880       Sagittal T1  \n",
       "6  40032531054713880       Sagittal T1  \n",
       "7  40032531054713880       Sagittal T1  \n",
       "8  40032531054713880       Sagittal T1  \n",
       "9  40032531054713880       Sagittal T1  "
      ]
     },
     "execution_count": 85,
     "metadata": {},
     "output_type": "execute_result"
    }
   ],
   "source": [
    "coords_df.head(10)"
   ]
  },
  {
   "cell_type": "code",
   "execution_count": 86,
   "id": "f09a0a40-16c6-4e2d-aab6-5db9ef466d3f",
   "metadata": {},
   "outputs": [
    {
     "data": {
      "text/plain": [
       "'Sagittal T2/STIR'"
      ]
     },
     "execution_count": 86,
     "metadata": {},
     "output_type": "execute_result"
    }
   ],
   "source": [
    "train_desc_df[train_desc_df['id'] == '4003253702807833'].series_description.values[0]"
   ]
  },
  {
   "cell_type": "code",
   "execution_count": null,
   "id": "18ca9c41-4083-42a2-9c38-f039ca29c25f",
   "metadata": {},
   "outputs": [],
   "source": [
    "coords_df['plane'] = coords_df.apply(lambda row: train_desc_df[train_desc_df['id'] == row['id']].series_description.values[0], axis=1)"
   ]
  },
  {
   "cell_type": "code",
   "execution_count": null,
   "id": "3b828606-6bf3-4981-8980-2b52d505418b",
   "metadata": {},
   "outputs": [],
   "source": [
    "coords_df.sample(5)"
   ]
  },
  {
   "cell_type": "code",
   "execution_count": null,
   "id": "4020bdac-0fb0-4b25-a876-1eda49846b3f",
   "metadata": {},
   "outputs": [],
   "source": [
    "# check canal stenosis is noy only in axial plane\n",
    "coords_df[(coords_df.condition == 'SCS') & (coords_df.plane != 'Axial T2')].sample()"
   ]
  },
  {
   "cell_type": "code",
   "execution_count": 75,
   "id": "4adb87c7-4850-4c6e-b5f8-f30fcc7ebc9b",
   "metadata": {},
   "outputs": [
    {
     "data": {
      "text/plain": [
       "study_id    series_id \n",
       "4003253     702807833                              [8]\n",
       "            1054713880               [4, 5, 6, 11, 12]\n",
       "            2448190387          [3, 4, 11, 19, 28, 35]\n",
       "4646740     3201256954    [15, 16, 22, 28, 29, 34, 40]\n",
       "            3486248476           [5, 6, 7, 15, 16, 17]\n",
       "                                      ...             \n",
       "4287160193  1507070277                             [8]\n",
       "            1820446240          [4, 9, 10, 16, 22, 28]\n",
       "4290709089  3274612423                             [9]\n",
       "            3390218084    [2, 3, 5, 6, 10, 15, 20, 21]\n",
       "            4237840455                  [4, 5, 11, 12]\n",
       "Name: instance, Length: 6291, dtype: object"
      ]
     },
     "execution_count": 75,
     "metadata": {},
     "output_type": "execute_result"
    }
   ],
   "source": [
    "# get the positive slices\n",
    "coords_df.groupby(['study_id','series_id']).instance.unique()"
   ]
  },
  {
   "cell_type": "code",
   "execution_count": 76,
   "id": "e013be8a-51a4-4e63-ae89-dade163f069a",
   "metadata": {},
   "outputs": [
    {
     "data": {
      "text/plain": [
       "6291"
      ]
     },
     "execution_count": 76,
     "metadata": {},
     "output_type": "execute_result"
    }
   ],
   "source": [
    "coords_df.id.nunique()"
   ]
  },
  {
   "cell_type": "code",
   "execution_count": null,
   "id": "e618ea17-5196-405c-b0e7-f67b2c7a1ce5",
   "metadata": {},
   "outputs": [],
   "source": []
  },
  {
   "cell_type": "code",
   "execution_count": null,
   "id": "23150446-04b1-4c7d-a440-df023735ea3c",
   "metadata": {},
   "outputs": [],
   "source": []
  },
  {
   "cell_type": "code",
   "execution_count": null,
   "id": "bc960a50-34f0-4c26-9c60-0336a8a71977",
   "metadata": {},
   "outputs": [],
   "source": []
  }
 ],
 "metadata": {
  "kernelspec": {
   "display_name": "Python 3 (ipykernel)",
   "language": "python",
   "name": "python3"
  },
  "language_info": {
   "codemirror_mode": {
    "name": "ipython",
    "version": 3
   },
   "file_extension": ".py",
   "mimetype": "text/x-python",
   "name": "python",
   "nbconvert_exporter": "python",
   "pygments_lexer": "ipython3",
   "version": "3.10.14"
  }
 },
 "nbformat": 4,
 "nbformat_minor": 5
}
