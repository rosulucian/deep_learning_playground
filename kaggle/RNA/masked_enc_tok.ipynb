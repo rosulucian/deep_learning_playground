{
 "cells": [
  {
   "cell_type": "code",
   "execution_count": 1,
   "id": "d2a93b7e-7682-495c-8491-5c496ac4e0be",
   "metadata": {
    "tags": []
   },
   "outputs": [],
   "source": [
    "%load_ext autoreload\n",
    "%autoreload 2"
   ]
  },
  {
   "cell_type": "code",
   "execution_count": 2,
   "id": "b8e738eb-1482-425a-970f-4a2e6edf72c5",
   "metadata": {
    "tags": []
   },
   "outputs": [],
   "source": [
    "# %reload_ext tensorboard\n",
    "# %tensorboard --logdir=lightning_logs/"
   ]
  },
  {
   "cell_type": "code",
   "execution_count": 3,
   "id": "94f04531-8849-4c91-9761-151a84f54914",
   "metadata": {
    "tags": []
   },
   "outputs": [],
   "source": [
    "import numpy as np\n",
    "import pandas as pd\n",
    "import random\n",
    "import math\n",
    "\n",
    "import os\n",
    "import torch\n",
    "import torch.nn as nn\n",
    "import torch.nn.functional as F \n",
    "from torch.optim import Adam \n",
    "\n",
    "# import lightning as L\n",
    "from torch.utils.data import Dataset, DataLoader # these are needed for the training data\n",
    "import pytorch_lightning as pl"
   ]
  },
  {
   "cell_type": "code",
   "execution_count": 4,
   "id": "fdd0b742-500a-4dc6-a5c2-bf7278668295",
   "metadata": {
    "tags": []
   },
   "outputs": [],
   "source": [
    "seed = 42\n",
    "\n",
    "def seed_everything(seed):\n",
    "    random.seed(seed)\n",
    "    os.environ['PYTHONHASHSEED'] = str(seed)\n",
    "    np.random.seed(seed)\n",
    "    torch.manual_seed(seed)\n",
    "    torch.cuda.manual_seed(seed)\n",
    "    torch.backends.cudnn.deterministic = True\n",
    "    torch.backends.cudnn.benchmark = True\n",
    "\n",
    "seed_everything(seed)"
   ]
  },
  {
   "cell_type": "code",
   "execution_count": 5,
   "id": "aff124a0-2c34-4005-90cb-7d5128e8c9e3",
   "metadata": {
    "tags": []
   },
   "outputs": [
    {
     "data": {
      "text/plain": [
       "'cuda'"
      ]
     },
     "execution_count": 5,
     "metadata": {},
     "output_type": "execute_result"
    }
   ],
   "source": [
    "Lmax=407\n",
    "Lmax=50\n",
    "\n",
    "bs = 256\n",
    "num_workers = 4\n",
    "learning_rate = 5e-4\n",
    "nfolds = 4\n",
    "device = 'cuda' if torch.cuda.is_available() else 'cpu'\n",
    "\n",
    "device"
   ]
  },
  {
   "cell_type": "code",
   "execution_count": 6,
   "id": "1cf2f5f7-4f15-43aa-9b82-cf95ef15d294",
   "metadata": {
    "tags": []
   },
   "outputs": [],
   "source": [
    "input_dir = '../input/stanford-ribonanza-rna-folding'\n",
    "\n",
    "tok_file='tokenizer.json'\n",
    "\n",
    "train_file = 'train_data.parquet'\n",
    "sequence_file = 'train_sequences.parquet'"
   ]
  },
  {
   "cell_type": "code",
   "execution_count": 7,
   "id": "3ea16ac0-62be-473a-b635-38400d73d404",
   "metadata": {
    "tags": []
   },
   "outputs": [],
   "source": [
    "# train_df = pd.read_csv(train_csv)\n",
    "\n",
    "train_df = pd.read_parquet(train_file)\n",
    "sequences_df = pd.read_parquet(sequence_file)"
   ]
  },
  {
   "cell_type": "code",
   "execution_count": 8,
   "id": "4971f133-4121-4e08-93c1-7a95aacbddd0",
   "metadata": {
    "tags": []
   },
   "outputs": [
    {
     "data": {
      "text/plain": [
       "((1643680, 419), (806573, 2))"
      ]
     },
     "execution_count": 8,
     "metadata": {},
     "output_type": "execute_result"
    }
   ],
   "source": [
    "train_df.shape, sequences_df.shape"
   ]
  },
  {
   "cell_type": "code",
   "execution_count": 9,
   "id": "e5e4c208-c764-41aa-9c69-9201faf5030f",
   "metadata": {
    "tags": []
   },
   "outputs": [
    {
     "data": {
      "text/html": [
       "<div>\n",
       "<style scoped>\n",
       "    .dataframe tbody tr th:only-of-type {\n",
       "        vertical-align: middle;\n",
       "    }\n",
       "\n",
       "    .dataframe tbody tr th {\n",
       "        vertical-align: top;\n",
       "    }\n",
       "\n",
       "    .dataframe thead th {\n",
       "        text-align: right;\n",
       "    }\n",
       "</style>\n",
       "<table border=\"1\" class=\"dataframe\">\n",
       "  <thead>\n",
       "    <tr style=\"text-align: right;\">\n",
       "      <th></th>\n",
       "      <th>sequence_id</th>\n",
       "      <th>sequence</th>\n",
       "      <th>experiment_type</th>\n",
       "      <th>dataset_name</th>\n",
       "      <th>reads</th>\n",
       "      <th>signal_to_noise</th>\n",
       "      <th>SN_filter</th>\n",
       "      <th>reactivity_0001</th>\n",
       "      <th>reactivity_0002</th>\n",
       "      <th>reactivity_0003</th>\n",
       "      <th>...</th>\n",
       "      <th>reactivity_error_0197</th>\n",
       "      <th>reactivity_error_0198</th>\n",
       "      <th>reactivity_error_0199</th>\n",
       "      <th>reactivity_error_0200</th>\n",
       "      <th>reactivity_error_0201</th>\n",
       "      <th>reactivity_error_0202</th>\n",
       "      <th>reactivity_error_0203</th>\n",
       "      <th>reactivity_error_0204</th>\n",
       "      <th>reactivity_error_0205</th>\n",
       "      <th>reactivity_error_0206</th>\n",
       "    </tr>\n",
       "  </thead>\n",
       "  <tbody>\n",
       "    <tr>\n",
       "      <th>0</th>\n",
       "      <td>8cdfeef009ea</td>\n",
       "      <td>GGGAACGACUCGAGUAGAGUCGAAAAACGUUGAUAUGGAUUUACUC...</td>\n",
       "      <td>2A3_MaP</td>\n",
       "      <td>15k_2A3</td>\n",
       "      <td>2343</td>\n",
       "      <td>0.944</td>\n",
       "      <td>0</td>\n",
       "      <td>NaN</td>\n",
       "      <td>NaN</td>\n",
       "      <td>NaN</td>\n",
       "      <td>...</td>\n",
       "      <td>NaN</td>\n",
       "      <td>NaN</td>\n",
       "      <td>NaN</td>\n",
       "      <td>NaN</td>\n",
       "      <td>NaN</td>\n",
       "      <td>NaN</td>\n",
       "      <td>NaN</td>\n",
       "      <td>NaN</td>\n",
       "      <td>NaN</td>\n",
       "      <td>NaN</td>\n",
       "    </tr>\n",
       "    <tr>\n",
       "      <th>1</th>\n",
       "      <td>51e61fbde94d</td>\n",
       "      <td>GGGAACGACUCGAGUAGAGUCGAAAAACAUUGAUAUGGAUUUACUC...</td>\n",
       "      <td>2A3_MaP</td>\n",
       "      <td>15k_2A3</td>\n",
       "      <td>5326</td>\n",
       "      <td>1.933</td>\n",
       "      <td>1</td>\n",
       "      <td>NaN</td>\n",
       "      <td>NaN</td>\n",
       "      <td>NaN</td>\n",
       "      <td>...</td>\n",
       "      <td>NaN</td>\n",
       "      <td>NaN</td>\n",
       "      <td>NaN</td>\n",
       "      <td>NaN</td>\n",
       "      <td>NaN</td>\n",
       "      <td>NaN</td>\n",
       "      <td>NaN</td>\n",
       "      <td>NaN</td>\n",
       "      <td>NaN</td>\n",
       "      <td>NaN</td>\n",
       "    </tr>\n",
       "  </tbody>\n",
       "</table>\n",
       "<p>2 rows × 419 columns</p>\n",
       "</div>"
      ],
      "text/plain": [
       "    sequence_id                                           sequence  \\\n",
       "0  8cdfeef009ea  GGGAACGACUCGAGUAGAGUCGAAAAACGUUGAUAUGGAUUUACUC...   \n",
       "1  51e61fbde94d  GGGAACGACUCGAGUAGAGUCGAAAAACAUUGAUAUGGAUUUACUC...   \n",
       "\n",
       "  experiment_type dataset_name  reads  signal_to_noise  SN_filter  \\\n",
       "0         2A3_MaP      15k_2A3   2343            0.944          0   \n",
       "1         2A3_MaP      15k_2A3   5326            1.933          1   \n",
       "\n",
       "   reactivity_0001  reactivity_0002  reactivity_0003  ...  \\\n",
       "0              NaN              NaN              NaN  ...   \n",
       "1              NaN              NaN              NaN  ...   \n",
       "\n",
       "   reactivity_error_0197  reactivity_error_0198  reactivity_error_0199  \\\n",
       "0                    NaN                    NaN                    NaN   \n",
       "1                    NaN                    NaN                    NaN   \n",
       "\n",
       "   reactivity_error_0200  reactivity_error_0201  reactivity_error_0202  \\\n",
       "0                    NaN                    NaN                    NaN   \n",
       "1                    NaN                    NaN                    NaN   \n",
       "\n",
       "   reactivity_error_0203  reactivity_error_0204  reactivity_error_0205  \\\n",
       "0                    NaN                    NaN                    NaN   \n",
       "1                    NaN                    NaN                    NaN   \n",
       "\n",
       "   reactivity_error_0206  \n",
       "0                    NaN  \n",
       "1                    NaN  \n",
       "\n",
       "[2 rows x 419 columns]"
      ]
     },
     "execution_count": 9,
     "metadata": {},
     "output_type": "execute_result"
    }
   ],
   "source": [
    "train_df.head(2)"
   ]
  },
  {
   "cell_type": "code",
   "execution_count": 10,
   "id": "bd9c919f-4e98-4735-ba28-78856f8c442e",
   "metadata": {
    "tags": []
   },
   "outputs": [
    {
     "data": {
      "text/html": [
       "<div>\n",
       "<style scoped>\n",
       "    .dataframe tbody tr th:only-of-type {\n",
       "        vertical-align: middle;\n",
       "    }\n",
       "\n",
       "    .dataframe tbody tr th {\n",
       "        vertical-align: top;\n",
       "    }\n",
       "\n",
       "    .dataframe thead th {\n",
       "        text-align: right;\n",
       "    }\n",
       "</style>\n",
       "<table border=\"1\" class=\"dataframe\">\n",
       "  <thead>\n",
       "    <tr style=\"text-align: right;\">\n",
       "      <th></th>\n",
       "      <th>sequence_id</th>\n",
       "      <th>sequence</th>\n",
       "    </tr>\n",
       "  </thead>\n",
       "  <tbody>\n",
       "    <tr>\n",
       "      <th>0</th>\n",
       "      <td>8cdfeef009ea</td>\n",
       "      <td>GGGAACGACUCGAGUAGAGUCGAAAAACGUUGAUAUGGAUUUACUC...</td>\n",
       "    </tr>\n",
       "    <tr>\n",
       "      <th>1</th>\n",
       "      <td>51e61fbde94d</td>\n",
       "      <td>GGGAACGACUCGAGUAGAGUCGAAAAACAUUGAUAUGGAUUUACUC...</td>\n",
       "    </tr>\n",
       "  </tbody>\n",
       "</table>\n",
       "</div>"
      ],
      "text/plain": [
       "    sequence_id                                           sequence\n",
       "0  8cdfeef009ea  GGGAACGACUCGAGUAGAGUCGAAAAACGUUGAUAUGGAUUUACUC...\n",
       "1  51e61fbde94d  GGGAACGACUCGAGUAGAGUCGAAAAACAUUGAUAUGGAUUUACUC..."
      ]
     },
     "execution_count": 10,
     "metadata": {},
     "output_type": "execute_result"
    }
   ],
   "source": [
    "sequences_df.head(2)"
   ]
  },
  {
   "cell_type": "code",
   "execution_count": 11,
   "id": "4e4c9fbb-425f-485b-b001-aed07ae2eb24",
   "metadata": {
    "tags": []
   },
   "outputs": [],
   "source": [
    "sequences_df['L'] = sequences_df.sequence.apply(len)"
   ]
  },
  {
   "cell_type": "code",
   "execution_count": 12,
   "id": "7f9c5948-88c7-4170-90aa-19c69220f458",
   "metadata": {
    "tags": []
   },
   "outputs": [
    {
     "data": {
      "text/html": [
       "<div>\n",
       "<style scoped>\n",
       "    .dataframe tbody tr th:only-of-type {\n",
       "        vertical-align: middle;\n",
       "    }\n",
       "\n",
       "    .dataframe tbody tr th {\n",
       "        vertical-align: top;\n",
       "    }\n",
       "\n",
       "    .dataframe thead th {\n",
       "        text-align: right;\n",
       "    }\n",
       "</style>\n",
       "<table border=\"1\" class=\"dataframe\">\n",
       "  <thead>\n",
       "    <tr style=\"text-align: right;\">\n",
       "      <th></th>\n",
       "      <th>sequence_id</th>\n",
       "      <th>sequence</th>\n",
       "      <th>L</th>\n",
       "    </tr>\n",
       "  </thead>\n",
       "  <tbody>\n",
       "    <tr>\n",
       "      <th>0</th>\n",
       "      <td>8cdfeef009ea</td>\n",
       "      <td>GGGAACGACUCGAGUAGAGUCGAAAAACGUUGAUAUGGAUUUACUC...</td>\n",
       "      <td>170</td>\n",
       "    </tr>\n",
       "    <tr>\n",
       "      <th>1</th>\n",
       "      <td>51e61fbde94d</td>\n",
       "      <td>GGGAACGACUCGAGUAGAGUCGAAAAACAUUGAUAUGGAUUUACUC...</td>\n",
       "      <td>170</td>\n",
       "    </tr>\n",
       "  </tbody>\n",
       "</table>\n",
       "</div>"
      ],
      "text/plain": [
       "    sequence_id                                           sequence    L\n",
       "0  8cdfeef009ea  GGGAACGACUCGAGUAGAGUCGAAAAACGUUGAUAUGGAUUUACUC...  170\n",
       "1  51e61fbde94d  GGGAACGACUCGAGUAGAGUCGAAAAACAUUGAUAUGGAUUUACUC...  170"
      ]
     },
     "execution_count": 12,
     "metadata": {},
     "output_type": "execute_result"
    }
   ],
   "source": [
    "sequences_df.head(2)"
   ]
  },
  {
   "cell_type": "markdown",
   "id": "0b5fc044-b102-4a94-91bd-26c041071396",
   "metadata": {},
   "source": [
    "### Dataset"
   ]
  },
  {
   "cell_type": "code",
   "execution_count": 13,
   "id": "5a3a027c-565b-4339-95ab-93be72fe670e",
   "metadata": {
    "tags": []
   },
   "outputs": [],
   "source": [
    "from tokenizers import (\n",
    "    decoders,\n",
    "    models,\n",
    "    normalizers,\n",
    "    pre_tokenizers,\n",
    "    processors,\n",
    "    trainers,\n",
    "    Tokenizer,\n",
    ")"
   ]
  },
  {
   "cell_type": "code",
   "execution_count": 14,
   "id": "b791c6bd-ad66-4d88-9660-f2719371dd84",
   "metadata": {
    "tags": []
   },
   "outputs": [],
   "source": [
    "from dataloader import RNA_Token_Dataset"
   ]
  },
  {
   "cell_type": "code",
   "execution_count": 15,
   "id": "6541f893-19e9-44aa-bb2e-bb065f6208e2",
   "metadata": {
    "tags": []
   },
   "outputs": [],
   "source": [
    "tokenizer = Tokenizer.from_file(tok_file)"
   ]
  },
  {
   "cell_type": "code",
   "execution_count": 16,
   "id": "9fd52358-988f-4ebd-8123-8208f353fb81",
   "metadata": {
    "tags": []
   },
   "outputs": [],
   "source": [
    "# ds_train = RNA_Token_Dataset(sequences_df, Lmax, tokenizer)\n",
    "ds_train = RNA_Token_Dataset(sequences_df, Lmax)\n",
    "dl_train = torch.utils.data.DataLoader(ds_train, batch_size=2, num_workers=0, persistent_workers=False, drop_last=True)"
   ]
  },
  {
   "cell_type": "code",
   "execution_count": 17,
   "id": "7dc16ded-9caa-4d70-a7a3-4e2c318c736c",
   "metadata": {
    "tags": []
   },
   "outputs": [
    {
     "data": {
      "text/plain": [
       "(torch.Size([51]), torch.Size([51]), torch.int32, torch.bool)"
      ]
     },
     "execution_count": 17,
     "metadata": {},
     "output_type": "execute_result"
    }
   ],
   "source": [
    "inputs, targets = ds_train.__getitem__(0)\n",
    "\n",
    "# print(ds_train.__len__())\n",
    "\n",
    "inputs['seq'].shape, inputs['att_mask'].shape, inputs['seq'].dtype, inputs['att_mask'].dtype"
   ]
  },
  {
   "cell_type": "code",
   "execution_count": 18,
   "id": "fe7ab032-f049-4cee-9715-94257bb27d92",
   "metadata": {
    "tags": []
   },
   "outputs": [
    {
     "data": {
      "text/plain": [
       "tensor([ 40,  45,  29,  87,  42,  43, 129, 206, 218,   3, 100,   8,  41,  33,\n",
       "        203,  43,  49,  26, 232, 129,  78,  45,  10,  56,   3,  86,  20,  45,\n",
       "        103,   3, 121,   3,  49,  58,   0,   0,   0,   0,   0,   0,   0,   0,\n",
       "          0,   0,   0,   0,   0,   0,   0,   0,   0], dtype=torch.int32)"
      ]
     },
     "execution_count": 18,
     "metadata": {},
     "output_type": "execute_result"
    }
   ],
   "source": [
    "inputs['seq']"
   ]
  },
  {
   "cell_type": "code",
   "execution_count": 19,
   "id": "9f7bc764-ed59-44f2-b037-c50ea98f7214",
   "metadata": {
    "tags": []
   },
   "outputs": [
    {
     "data": {
      "text/plain": [
       "tensor([ 40,  45,  29,  87,  42,  43, 129, 206, 218,  98, 100,   8,  41,  33,\n",
       "        203,  43,  49,  26, 232, 129,  78,  45,  10,  56, 199,  86,  20,  45,\n",
       "        103,  69, 121,  14,  49,  58,   0,   0,   0,   0,   0,   0,   0,   0,\n",
       "          0,   0,   0,   0,   0,   0,   0,   0,   0], dtype=torch.int32)"
      ]
     },
     "execution_count": 19,
     "metadata": {},
     "output_type": "execute_result"
    }
   ],
   "source": [
    "targets['labels']"
   ]
  },
  {
   "cell_type": "code",
   "execution_count": 20,
   "id": "318e1a07-2754-4838-b275-57464684c490",
   "metadata": {
    "tags": []
   },
   "outputs": [
    {
     "data": {
      "text/plain": [
       "tensor([  0,   0,   0,   0,   0,   0,   0,   0,   0,  98,   0,   0,   0,   0,\n",
       "          0,   0,   0,   0,   0,   0,   0,   0,   0,   0, 199,   0,   0,   0,\n",
       "          0,  69,   0,  14,   0,   0,   0,   0,   0,   0,   0,   0,   0,   0,\n",
       "          0,   0,   0,   0,   0,   0,   0,   0,   0])"
      ]
     },
     "execution_count": 20,
     "metadata": {},
     "output_type": "execute_result"
    }
   ],
   "source": [
    "targets['mlm_target']"
   ]
  },
  {
   "cell_type": "code",
   "execution_count": 21,
   "id": "cf1ae912-82f7-4b0a-a6bb-225914373619",
   "metadata": {
    "tags": []
   },
   "outputs": [
    {
     "data": {
      "text/plain": [
       "tensor([False, False, False, False, False, False, False, False, False,  True,\n",
       "        False, False, False, False, False, False, False, False, False, False,\n",
       "        False, False, False, False,  True, False, False, False, False,  True,\n",
       "        False,  True, False, False, False, False, False, False, False, False,\n",
       "        False, False, False, False, False, False, False, False, False, False,\n",
       "        False])"
      ]
     },
     "execution_count": 21,
     "metadata": {},
     "output_type": "execute_result"
    }
   ],
   "source": [
    "targets['token_mask']"
   ]
  },
  {
   "cell_type": "code",
   "execution_count": 22,
   "id": "5c60d950-fa11-4e50-a76a-7e8445f095db",
   "metadata": {
    "tags": []
   },
   "outputs": [
    {
     "data": {
      "text/plain": [
       "tensor(51)"
      ]
     },
     "execution_count": 22,
     "metadata": {},
     "output_type": "execute_result"
    }
   ],
   "source": [
    "((inputs['seq'] == 3) == targets['token_mask']).sum()"
   ]
  },
  {
   "cell_type": "code",
   "execution_count": 23,
   "id": "60afd229-0d3d-47bf-afce-6b5a9dd23bf8",
   "metadata": {
    "tags": []
   },
   "outputs": [
    {
     "data": {
      "text/plain": [
       "(tensor(47), tensor(47))"
      ]
     },
     "execution_count": 23,
     "metadata": {},
     "output_type": "execute_result"
    }
   ],
   "source": [
    "(inputs['seq'] != 3).sum(), (~targets['token_mask']).sum()"
   ]
  },
  {
   "cell_type": "code",
   "execution_count": 24,
   "id": "de632cd8-286b-41c1-892f-f3106c64e7b6",
   "metadata": {
    "tags": []
   },
   "outputs": [
    {
     "data": {
      "text/plain": [
       "tensor(True)"
      ]
     },
     "execution_count": 24,
     "metadata": {},
     "output_type": "execute_result"
    }
   ],
   "source": [
    "# check mask indeces mark masked tokens\n",
    "((inputs['seq'] == 3) == targets['token_mask']).sum() == len(targets['mlm_target'])"
   ]
  },
  {
   "cell_type": "code",
   "execution_count": 25,
   "id": "d92f524a-b73a-44b7-8932-d596e9c37e98",
   "metadata": {
    "tags": []
   },
   "outputs": [
    {
     "data": {
      "text/plain": [
       "tensor(34)"
      ]
     },
     "execution_count": 25,
     "metadata": {},
     "output_type": "execute_result"
    }
   ],
   "source": [
    "inputs['att_mask'].sum()"
   ]
  },
  {
   "cell_type": "code",
   "execution_count": 26,
   "id": "82fefe67-8acc-4fc7-a892-2e6650507d73",
   "metadata": {
    "tags": []
   },
   "outputs": [],
   "source": [
    "# inputs['seq'] == ds_train.seq_map['M']"
   ]
  },
  {
   "cell_type": "code",
   "execution_count": 27,
   "id": "338df7a9-6213-4ce6-9347-c96b5069331b",
   "metadata": {
    "tags": []
   },
   "outputs": [],
   "source": [
    "# targets['labels']"
   ]
  },
  {
   "cell_type": "code",
   "execution_count": 28,
   "id": "5ec76626-4c46-444f-87ff-617450319078",
   "metadata": {
    "tags": []
   },
   "outputs": [],
   "source": [
    "# inputs['att_mask']"
   ]
  },
  {
   "cell_type": "code",
   "execution_count": 29,
   "id": "8aaae46f-3770-4585-87dd-8566fb3aba4b",
   "metadata": {
    "tags": []
   },
   "outputs": [],
   "source": [
    "# inputs['att_mask']"
   ]
  },
  {
   "cell_type": "code",
   "execution_count": 30,
   "id": "3d849129-50be-4b6c-917f-ba3de3c80cd8",
   "metadata": {
    "tags": []
   },
   "outputs": [
    {
     "data": {
      "text/plain": [
       "tensor(0.0851)"
      ]
     },
     "execution_count": 30,
     "metadata": {},
     "output_type": "execute_result"
    }
   ],
   "source": [
    "sum(targets['labels'] != inputs['seq'])/sum(targets['labels'] == inputs['seq'])"
   ]
  },
  {
   "cell_type": "code",
   "execution_count": 31,
   "id": "0bbcb0d1-6b31-42b5-9bfc-ae42275b09a3",
   "metadata": {
    "tags": []
   },
   "outputs": [
    {
     "data": {
      "text/plain": [
       "(torch.Size([2, 51]), torch.Size([2, 51]))"
      ]
     },
     "execution_count": 31,
     "metadata": {},
     "output_type": "execute_result"
    }
   ],
   "source": [
    "inputs, targets = next(iter(dl_train))\n",
    "inputs['seq'].shape, targets['labels'].shape"
   ]
  },
  {
   "cell_type": "code",
   "execution_count": 32,
   "id": "598d99de-fe91-40b0-82ad-ea623c699dfb",
   "metadata": {
    "tags": []
   },
   "outputs": [],
   "source": [
    "# targets['mlm_target'][0]"
   ]
  },
  {
   "cell_type": "markdown",
   "id": "93ad34f2-bd91-4994-97cd-693ffe9c4c17",
   "metadata": {},
   "source": [
    "#### DataModule"
   ]
  },
  {
   "cell_type": "code",
   "execution_count": 33,
   "id": "57b533dd-366e-4514-aea7-ec423e92c5cb",
   "metadata": {
    "tags": []
   },
   "outputs": [],
   "source": [
    "from dataloader import create_dataloader, DataloaderWrapper"
   ]
  },
  {
   "cell_type": "code",
   "execution_count": 34,
   "id": "316581d5-f04a-4616-94c0-852ed91b1974",
   "metadata": {
    "tags": []
   },
   "outputs": [],
   "source": [
    "class rna_datamodule(pl.LightningDataModule):\n",
    "    def __init__(self, train_df, val_df, bs=bs, num_workers=0):\n",
    "        super().__init__()\n",
    "        \n",
    "        self.train_df = train_df\n",
    "        self.val_df = val_df\n",
    "        self.bs = bs\n",
    "        self.num_workers = num_workers\n",
    "        self.pw = True if num_workers>0 else False\n",
    "        \n",
    "    def train_dataloader(self):\n",
    "        train_ds = RNA_Token_Dataset(self.train_df, Lmax)\n",
    "        \n",
    "        return torch.utils.data.DataLoader(\n",
    "            train_ds, \n",
    "            batch_size=self.bs,\n",
    "            shuffle=True,\n",
    "            num_workers=self.num_workers, \n",
    "            persistent_workers=self.pw, \n",
    "            drop_last=True\n",
    "        )\n",
    "\n",
    "    def val_dataloader(self):\n",
    "        val_ds = RNA_Token_Dataset(self.val_df, Lmax)\n",
    "        \n",
    "        return torch.utils.data.DataLoader(\n",
    "            val_ds, \n",
    "            batch_size=self.bs, \n",
    "            num_workers=self.num_workers, \n",
    "            persistent_workers=self.pw, \n",
    "            drop_last=True\n",
    "        )"
   ]
  },
  {
   "cell_type": "markdown",
   "id": "e58e10ec-e7a9-483b-a93f-9147e83d6d01",
   "metadata": {},
   "source": [
    "### Model"
   ]
  },
  {
   "cell_type": "code",
   "execution_count": 35,
   "id": "89a2e465-236d-477a-9461-28b7eed6857d",
   "metadata": {
    "tags": []
   },
   "outputs": [],
   "source": [
    "emb = nn.Embedding(tokenizer.get_vocab_size(), 192)"
   ]
  },
  {
   "cell_type": "code",
   "execution_count": 36,
   "id": "699d668d-cc7e-476c-b96a-ccc84e3b7c92",
   "metadata": {
    "tags": []
   },
   "outputs": [],
   "source": [
    "# tokenizer.get_vocab_size()"
   ]
  },
  {
   "cell_type": "code",
   "execution_count": 37,
   "id": "e61f9e74-e72a-4d4c-8785-764acbb6e950",
   "metadata": {
    "tags": []
   },
   "outputs": [
    {
     "data": {
      "text/plain": [
       "torch.Size([2, 51, 192])"
      ]
     },
     "execution_count": 37,
     "metadata": {},
     "output_type": "execute_result"
    }
   ],
   "source": [
    "emb(targets['labels']).shape"
   ]
  },
  {
   "cell_type": "code",
   "execution_count": 38,
   "id": "9ae95b4b-345c-4362-beb9-86a6f8ef7bc9",
   "metadata": {
    "tags": []
   },
   "outputs": [
    {
     "data": {
      "text/plain": [
       "tensor(34)"
      ]
     },
     "execution_count": 38,
     "metadata": {},
     "output_type": "execute_result"
    }
   ],
   "source": [
    "inputs['att_mask'].sum(-1).max()"
   ]
  },
  {
   "cell_type": "code",
   "execution_count": 39,
   "id": "fbf8e111-f5b6-41ea-b476-89a11ef18469",
   "metadata": {
    "tags": []
   },
   "outputs": [],
   "source": [
    "class SinusoidalPosEmb(nn.Module):\n",
    "    def __init__(self, dim=16, M=10000):\n",
    "        super().__init__()\n",
    "        self.dim = dim\n",
    "        self.M = M\n",
    "\n",
    "    def forward(self, x):\n",
    "        # device = x.device\n",
    "        \n",
    "        half_dim = self.dim // 2\n",
    "        emb = math.log(self.M) / half_dim\n",
    "        emb = torch.exp(torch.arange(half_dim) * (-emb))\n",
    "        emb = x[...,None] * emb[None,...]\n",
    "        emb = torch.cat((emb.sin(), emb.cos()), dim=-1)\n",
    "        \n",
    "        # print(x.shape)\n",
    "        # print(emb.shape)\n",
    "        \n",
    "        return x + emb"
   ]
  },
  {
   "cell_type": "code",
   "execution_count": 40,
   "id": "5e323c6a-63db-464d-ba3f-10e56c5e184b",
   "metadata": {
    "tags": []
   },
   "outputs": [],
   "source": [
    "class PositionalEncoding(nn.Module):\n",
    "\n",
    "    def __init__(self, d_model, dropout=0.1, max_len=5000):\n",
    "        super(PositionalEncoding, self).__init__()\n",
    "        self.dropout = nn.Dropout(p=dropout)\n",
    "\n",
    "        pe = torch.zeros(max_len, d_model)\n",
    "        position = torch.arange(0, max_len, dtype=torch.float).unsqueeze(1)\n",
    "        div_term = torch.exp(torch.arange(0, d_model, 2).float() * (-math.log(10000.0) / d_model))\n",
    "        pe[:, 0::2] = torch.sin(position * div_term)\n",
    "        pe[:, 1::2] = torch.cos(position * div_term)\n",
    "        pe = pe.unsqueeze(0).transpose(0, 1)\n",
    "        \n",
    "        self.register_buffer('pe', pe)\n",
    "\n",
    "    def forward(self, x):\n",
    "        x = x + self.pe[:x.size(0), :]\n",
    "        return self.dropout(x)"
   ]
  },
  {
   "cell_type": "code",
   "execution_count": 41,
   "id": "8ff68aa9-5d70-463d-9367-9b33dbc29999",
   "metadata": {
    "tags": []
   },
   "outputs": [],
   "source": [
    "dim = 256\n",
    "head_size=32\n",
    "num_embeddings = tokenizer.get_vocab_size()\n",
    "\n",
    "class bert_config:\n",
    "    num_embeddings=num_embeddings\n",
    "    dim=dim\n",
    "    head_size=head_size\n",
    "    nhead=dim//head_size\n",
    "    dim_feedforward=4*dim\n",
    "    num_layers=2\n",
    "    dropout=0.1"
   ]
  },
  {
   "cell_type": "code",
   "execution_count": 42,
   "id": "03198df1-7437-4ae8-9a59-9dd8d93f3d0f",
   "metadata": {
    "tags": []
   },
   "outputs": [
    {
     "name": "stdout",
     "output_type": "stream",
     "text": [
      "num_embeddings 256\n",
      "dim 256\n",
      "head_size 32\n",
      "nhead 8\n",
      "dim_feedforward 1024\n",
      "num_layers 2\n",
      "dropout 0.1\n"
     ]
    }
   ],
   "source": [
    "for k, v in bert_config.__dict__.items():\n",
    "    if '__' not in k:\n",
    "        print(k, v)"
   ]
  },
  {
   "cell_type": "code",
   "execution_count": 43,
   "id": "b9ed70e6-598c-4b54-9ca9-a3a9018826ca",
   "metadata": {
    "tags": []
   },
   "outputs": [],
   "source": [
    "class bert_rna(nn.Module):\n",
    "    def __init__(self, config=bert_config, **kwargs):\n",
    "        super().__init__()\n",
    "        \n",
    "        self.config = config\n",
    "        \n",
    "        dim = config.dim\n",
    "        \n",
    "        self.emb = nn.Embedding(config.num_embeddings, dim)\n",
    "        \n",
    "        self.pos_enc = SinusoidalPosEmb(dim)\n",
    "        self.pos_enc = PositionalEncoding(dim)\n",
    "        \n",
    "        self.transformer = nn.TransformerEncoder(\n",
    "            nn.TransformerEncoderLayer(\n",
    "                d_model=dim, \n",
    "                nhead=dim//config.head_size, \n",
    "                dim_feedforward=4*dim,\n",
    "                dropout=config.dropout, \n",
    "                activation=nn.GELU(), \n",
    "                batch_first=True, \n",
    "                norm_first=True), \n",
    "            config.num_layers)\n",
    "    \n",
    "    def forward(self, seq, mask):\n",
    "        \n",
    "        x = self.emb(seq)\n",
    "        x = self.pos_enc(x)\n",
    "        \n",
    "        output = self.transformer(x, src_key_padding_mask=~mask)\n",
    "\n",
    "        return output"
   ]
  },
  {
   "cell_type": "code",
   "execution_count": 44,
   "id": "78574e25-e561-4e89-b748-6a125ede9640",
   "metadata": {
    "tags": []
   },
   "outputs": [],
   "source": [
    "class bert_mlm(nn.Module):\n",
    "    def __init__(self, bert):\n",
    "        super().__init__()\n",
    "        \n",
    "        self.bert = bert\n",
    "        self.config = bert.config\n",
    "        \n",
    "        self.decoder = nn.Linear(self.config.dim, self.config.num_embeddings)\n",
    "        self.softmax = nn.LogSoftmax(dim=-1)\n",
    "        \n",
    "    def forward(self, seq, mask):\n",
    "        # [bs, seq_len, dim]\n",
    "        embeds = self.bert(seq, mask)\n",
    "    \n",
    "        # [bs, seq_len, vocab_size]\n",
    "        token_predictions = self.decoder(embeds)\n",
    "        \n",
    "        # [bs, seq_len, vocab_size]\n",
    "        return self.softmax(token_predictions)"
   ]
  },
  {
   "cell_type": "code",
   "execution_count": 45,
   "id": "922d45ab-90b9-4df5-9563-1a57c768fac2",
   "metadata": {
    "tags": []
   },
   "outputs": [],
   "source": [
    "class pl_model(pl.LightningModule):\n",
    "    def __init__(self, model):\n",
    "        super().__init__()\n",
    "        \n",
    "        self.model = model\n",
    "        \n",
    "        # maybe use reduction='sum'?\n",
    "        self.ml_criterion = nn.NLLLoss()\n",
    "        # self.ml_criterion = nn.NLLLoss(ignore_index=0)\n",
    "        # self.ml_criterion = nn.NLLLoss(ignore_index=0, reduction='sum')\n",
    "        \n",
    "    def configure_optimizers(self):\n",
    "        return torch.optim.Adam(model.parameters(), lr=learning_rate, weight_decay=0.015)\n",
    "        \n",
    "    def forward(self, seq, mask):\n",
    "        return self.model(seq, mask)\n",
    "    \n",
    "    def get_data(self, batch, batch_idx):\n",
    "        inputs, targets = batch\n",
    "        \n",
    "        # slice out extra padding starting from max length in batch\n",
    "        Lmax = inputs['att_mask'].sum(-1).max()\n",
    "        \n",
    "        mask = inputs['att_mask'][:,:Lmax]\n",
    "        seq = inputs['seq'][:,:Lmax]\n",
    "        token_targets = targets['mlm_target'][:,:Lmax]\n",
    "        token_mask = targets['token_mask'][:,:Lmax]\n",
    "        \n",
    "        return seq, mask, token_targets, token_mask\n",
    "    \n",
    "    def compute_acc(self, result, target, token_mask):\n",
    "        r = result.argmax(-1).masked_select(token_mask)\n",
    "        t = target.masked_select(token_mask)  \n",
    "        s = (r == t).sum()  \n",
    "        \n",
    "        return round(float(s / token_mask.sum()), 2)\n",
    "    \n",
    "    def training_step(self, batch, batch_idx):\n",
    "        \n",
    "        seq, mask, token_targets, token_mask = self.get_data(batch, batch_idx)\n",
    "        \n",
    "        # [bs, seq_len, dim]\n",
    "        tokens = self(seq, mask)\n",
    "        \n",
    "        tm = token_mask.unsqueeze(-1).expand_as(tokens)\n",
    "        tokens = tokens.masked_fill(~tm, 0)\n",
    "        \n",
    "        loss = self.ml_criterion(tokens.transpose(1, 2), token_targets)\n",
    "        \n",
    "        self.log(\"train_mlm_loss\", loss, on_step=True, on_epoch=True, prog_bar=True, logger=True)\n",
    "        self.log(\"train_loss\", loss, on_step=True, on_epoch=True, prog_bar=False, logger=True)\n",
    "        \n",
    "        acc = self.compute_acc(tokens, token_targets, token_mask)\n",
    "        self.log(\"train_acc\", acc, on_step=True, on_epoch=True, prog_bar=False, logger=True)\n",
    "        \n",
    "        return loss\n",
    "    \n",
    "    def validation_step(self, batch, batch_idx):\n",
    "        seq, mask, token_targets, token_mask = self.get_data(batch, batch_idx)\n",
    "\n",
    "        # [bs, seq_len, dim]\n",
    "        tokens = self(seq, mask)\n",
    "\n",
    "        tm = token_mask.unsqueeze(-1).expand_as(tokens)\n",
    "        tokens = tokens.masked_fill(~tm, 0)\n",
    "\n",
    "        loss = self.ml_criterion(tokens.transpose(1, 2), token_targets)\n",
    "        \n",
    "        self.log(\"val_mlm_loss\", loss, on_step=True, on_epoch=True, prog_bar=False, logger=True)\n",
    "        self.log(\"val_loss\", loss, on_step=True, on_epoch=True, prog_bar=False, logger=True)\n",
    "        \n",
    "        acc = self.compute_acc(tokens, token_targets, token_mask)\n",
    "        self.log(\"val_acc\", acc, on_step=True, on_epoch=True, prog_bar=False, logger=True)\n",
    "\n",
    "        return loss"
   ]
  },
  {
   "cell_type": "markdown",
   "id": "8e3b3905-316e-4e2d-8e5e-793b3fcf6fb1",
   "metadata": {},
   "source": [
    "### Test model"
   ]
  },
  {
   "cell_type": "code",
   "execution_count": 46,
   "id": "cdeb0196-987a-456a-90fc-4e00ab64942a",
   "metadata": {
    "tags": []
   },
   "outputs": [
    {
     "name": "stderr",
     "output_type": "stream",
     "text": [
      "C:\\Users\\rosul\\anaconda3\\envs\\pytorch\\lib\\site-packages\\torch\\nn\\modules\\transformer.py:282: UserWarning: enable_nested_tensor is True, but self.use_nested_tensor is False because encoder_layer.norm_first was True\n",
      "  warnings.warn(f\"enable_nested_tensor is True, but self.use_nested_tensor is False because {why_not_sparsity_fast_path}\")\n"
     ]
    }
   ],
   "source": [
    "# model = bert_rna()\n",
    "mlm_model = bert_mlm(bert_rna())\n",
    "model = pl_model(mlm_model)"
   ]
  },
  {
   "cell_type": "code",
   "execution_count": 47,
   "id": "7cfd63b4-2fd0-4952-be27-8abc12561aa8",
   "metadata": {
    "tags": []
   },
   "outputs": [],
   "source": [
    "# foo = model(inputs['seq'], inputs['att_mask'])\n",
    "# foo.shape"
   ]
  },
  {
   "cell_type": "code",
   "execution_count": 48,
   "id": "ea70ab7c-95f4-48f5-91e4-6c92126348e0",
   "metadata": {
    "tags": []
   },
   "outputs": [
    {
     "data": {
      "text/plain": [
       "torch.Size([2, 51, 256])"
      ]
     },
     "execution_count": 48,
     "metadata": {},
     "output_type": "execute_result"
    }
   ],
   "source": [
    "foo = mlm_model(inputs['seq'], inputs['att_mask'])\n",
    "foo.shape"
   ]
  },
  {
   "cell_type": "code",
   "execution_count": 49,
   "id": "2f49dc81-0ccc-4490-b2c3-51ac46e3df65",
   "metadata": {
    "tags": []
   },
   "outputs": [
    {
     "name": "stderr",
     "output_type": "stream",
     "text": [
      "C:\\Users\\rosul\\anaconda3\\envs\\pytorch\\lib\\site-packages\\pytorch_lightning\\core\\module.py:407: UserWarning: You are trying to `self.log()` but the `self.trainer` reference is not registered on the model yet. This is most likely because the model hasn't been passed to the `Trainer`\n",
      "  rank_zero_warn(\n"
     ]
    },
    {
     "data": {
      "text/plain": [
       "tensor(0.8220, grad_fn=<NllLoss2DBackward0>)"
      ]
     },
     "execution_count": 49,
     "metadata": {},
     "output_type": "execute_result"
    }
   ],
   "source": [
    "model.training_step((inputs, targets), 0)"
   ]
  },
  {
   "cell_type": "code",
   "execution_count": null,
   "id": "06e46578-7c42-4a7b-aa97-2544f301a0cd",
   "metadata": {},
   "outputs": [],
   "source": []
  },
  {
   "cell_type": "markdown",
   "id": "4069f39b-3439-4219-8b27-a19e1acd3777",
   "metadata": {},
   "source": [
    "### Split"
   ]
  },
  {
   "cell_type": "code",
   "execution_count": 50,
   "id": "12ff71fd-a386-4bba-96d8-2b2bd4086ec8",
   "metadata": {
    "tags": []
   },
   "outputs": [],
   "source": [
    "from sklearn.model_selection import ShuffleSplit, StratifiedShuffleSplit"
   ]
  },
  {
   "cell_type": "code",
   "execution_count": 51,
   "id": "8bb4262f-d8c2-4369-b681-a3ee3cf84ee5",
   "metadata": {
    "tags": []
   },
   "outputs": [],
   "source": [
    "rs = ShuffleSplit(n_splits=5, test_size=.1, random_state=seed)\n",
    "train_idx, val_idx = next(rs.split(sequences_df))"
   ]
  },
  {
   "cell_type": "code",
   "execution_count": 52,
   "id": "b5f289ca-d272-4d8a-9795-bb358b0896f4",
   "metadata": {
    "tags": []
   },
   "outputs": [
    {
     "data": {
      "text/plain": [
       "(725915, 80658)"
      ]
     },
     "execution_count": 52,
     "metadata": {},
     "output_type": "execute_result"
    }
   ],
   "source": [
    "len(train_idx), len(val_idx)"
   ]
  },
  {
   "cell_type": "markdown",
   "id": "abb78d8f-340f-4bb8-8229-e2d63bd5df63",
   "metadata": {
    "tags": []
   },
   "source": [
    "### Train"
   ]
  },
  {
   "cell_type": "code",
   "execution_count": 53,
   "id": "c07028c9-2ea5-4f66-b9b3-a8de232192cf",
   "metadata": {
    "tags": []
   },
   "outputs": [],
   "source": [
    "t_df = sequences_df.iloc[train_idx]\n",
    "v_df = sequences_df.iloc[val_idx]"
   ]
  },
  {
   "cell_type": "code",
   "execution_count": 54,
   "id": "83b0b675-e56f-4bb1-abc1-9e46b70bc139",
   "metadata": {
    "tags": []
   },
   "outputs": [],
   "source": [
    "dm = rna_datamodule(t_df, v_df, num_workers=12)"
   ]
  },
  {
   "cell_type": "code",
   "execution_count": 55,
   "id": "584e0991-81a3-4c80-bed2-d93152f55c9d",
   "metadata": {
    "tags": []
   },
   "outputs": [
    {
     "name": "stderr",
     "output_type": "stream",
     "text": [
      "C:\\Users\\rosul\\anaconda3\\envs\\pytorch\\lib\\site-packages\\torch\\nn\\modules\\transformer.py:282: UserWarning: enable_nested_tensor is True, but self.use_nested_tensor is False because encoder_layer.norm_first was True\n",
      "  warnings.warn(f\"enable_nested_tensor is True, but self.use_nested_tensor is False because {why_not_sparsity_fast_path}\")\n"
     ]
    }
   ],
   "source": [
    "# model = bert_rna()\n",
    "mlm_model = bert_mlm(bert_rna())\n",
    "model = pl_model(mlm_model)"
   ]
  },
  {
   "cell_type": "code",
   "execution_count": 56,
   "id": "a96fe653-219f-4a85-8efd-2dc982dbdd7d",
   "metadata": {
    "tags": []
   },
   "outputs": [
    {
     "name": "stderr",
     "output_type": "stream",
     "text": [
      "GPU available: True (cuda), used: True\n",
      "TPU available: False, using: 0 TPU cores\n",
      "IPU available: False, using: 0 IPUs\n",
      "HPU available: False, using: 0 HPUs\n"
     ]
    }
   ],
   "source": [
    "trainer = pl.Trainer(\n",
    "    accelerator=\"gpu\",\n",
    "    max_epochs=20,\n",
    "    accumulate_grad_batches=4,\n",
    ")"
   ]
  },
  {
   "cell_type": "code",
   "execution_count": 57,
   "id": "13e66639-760f-4b38-b50f-ee2da9196f94",
   "metadata": {
    "tags": []
   },
   "outputs": [],
   "source": [
    "# next(iter(dm.val_dataloader()))"
   ]
  },
  {
   "cell_type": "code",
   "execution_count": 58,
   "id": "d4cd513e-604b-4770-ba72-2b55f29d4864",
   "metadata": {
    "tags": []
   },
   "outputs": [
    {
     "data": {
      "text/plain": [
       "device(type='cpu')"
      ]
     },
     "execution_count": 58,
     "metadata": {},
     "output_type": "execute_result"
    }
   ],
   "source": [
    "model.device"
   ]
  },
  {
   "cell_type": "code",
   "execution_count": 59,
   "id": "11e1c8a7-6d60-43cb-a2e5-969931026fde",
   "metadata": {
    "tags": []
   },
   "outputs": [
    {
     "name": "stderr",
     "output_type": "stream",
     "text": [
      "You are using a CUDA device ('NVIDIA GeForce RTX 4090 Laptop GPU') that has Tensor Cores. To properly utilize them, you should set `torch.set_float32_matmul_precision('medium' | 'high')` which will trade-off precision for performance. For more details, read https://pytorch.org/docs/stable/generated/torch.set_float32_matmul_precision.html#torch.set_float32_matmul_precision\n",
      "LOCAL_RANK: 0 - CUDA_VISIBLE_DEVICES: [0]\n",
      "\n",
      "  | Name         | Type     | Params\n",
      "------------------------------------------\n",
      "0 | model        | bert_mlm | 1.7 M \n",
      "1 | ml_criterion | NLLLoss  | 0     \n",
      "------------------------------------------\n",
      "1.7 M     Trainable params\n",
      "0         Non-trainable params\n",
      "1.7 M     Total params\n",
      "6.843     Total estimated model params size (MB)\n"
     ]
    },
    {
     "data": {
      "application/vnd.jupyter.widget-view+json": {
       "model_id": "",
       "version_major": 2,
       "version_minor": 0
      },
      "text/plain": [
       "Sanity Checking: 0it [00:00, ?it/s]"
      ]
     },
     "metadata": {},
     "output_type": "display_data"
    },
    {
     "data": {
      "application/vnd.jupyter.widget-view+json": {
       "model_id": "1ddb674d3e964a059475d13bebe8ceb8",
       "version_major": 2,
       "version_minor": 0
      },
      "text/plain": [
       "Training: 0it [00:00, ?it/s]"
      ]
     },
     "metadata": {},
     "output_type": "display_data"
    },
    {
     "data": {
      "application/vnd.jupyter.widget-view+json": {
       "model_id": "",
       "version_major": 2,
       "version_minor": 0
      },
      "text/plain": [
       "Validation: 0it [00:00, ?it/s]"
      ]
     },
     "metadata": {},
     "output_type": "display_data"
    },
    {
     "data": {
      "application/vnd.jupyter.widget-view+json": {
       "model_id": "",
       "version_major": 2,
       "version_minor": 0
      },
      "text/plain": [
       "Validation: 0it [00:00, ?it/s]"
      ]
     },
     "metadata": {},
     "output_type": "display_data"
    },
    {
     "data": {
      "application/vnd.jupyter.widget-view+json": {
       "model_id": "",
       "version_major": 2,
       "version_minor": 0
      },
      "text/plain": [
       "Validation: 0it [00:00, ?it/s]"
      ]
     },
     "metadata": {},
     "output_type": "display_data"
    },
    {
     "data": {
      "application/vnd.jupyter.widget-view+json": {
       "model_id": "",
       "version_major": 2,
       "version_minor": 0
      },
      "text/plain": [
       "Validation: 0it [00:00, ?it/s]"
      ]
     },
     "metadata": {},
     "output_type": "display_data"
    },
    {
     "data": {
      "application/vnd.jupyter.widget-view+json": {
       "model_id": "",
       "version_major": 2,
       "version_minor": 0
      },
      "text/plain": [
       "Validation: 0it [00:00, ?it/s]"
      ]
     },
     "metadata": {},
     "output_type": "display_data"
    },
    {
     "data": {
      "application/vnd.jupyter.widget-view+json": {
       "model_id": "",
       "version_major": 2,
       "version_minor": 0
      },
      "text/plain": [
       "Validation: 0it [00:00, ?it/s]"
      ]
     },
     "metadata": {},
     "output_type": "display_data"
    },
    {
     "data": {
      "application/vnd.jupyter.widget-view+json": {
       "model_id": "",
       "version_major": 2,
       "version_minor": 0
      },
      "text/plain": [
       "Validation: 0it [00:00, ?it/s]"
      ]
     },
     "metadata": {},
     "output_type": "display_data"
    },
    {
     "data": {
      "application/vnd.jupyter.widget-view+json": {
       "model_id": "",
       "version_major": 2,
       "version_minor": 0
      },
      "text/plain": [
       "Validation: 0it [00:00, ?it/s]"
      ]
     },
     "metadata": {},
     "output_type": "display_data"
    },
    {
     "data": {
      "application/vnd.jupyter.widget-view+json": {
       "model_id": "",
       "version_major": 2,
       "version_minor": 0
      },
      "text/plain": [
       "Validation: 0it [00:00, ?it/s]"
      ]
     },
     "metadata": {},
     "output_type": "display_data"
    },
    {
     "data": {
      "application/vnd.jupyter.widget-view+json": {
       "model_id": "",
       "version_major": 2,
       "version_minor": 0
      },
      "text/plain": [
       "Validation: 0it [00:00, ?it/s]"
      ]
     },
     "metadata": {},
     "output_type": "display_data"
    },
    {
     "data": {
      "application/vnd.jupyter.widget-view+json": {
       "model_id": "",
       "version_major": 2,
       "version_minor": 0
      },
      "text/plain": [
       "Validation: 0it [00:00, ?it/s]"
      ]
     },
     "metadata": {},
     "output_type": "display_data"
    },
    {
     "data": {
      "application/vnd.jupyter.widget-view+json": {
       "model_id": "",
       "version_major": 2,
       "version_minor": 0
      },
      "text/plain": [
       "Validation: 0it [00:00, ?it/s]"
      ]
     },
     "metadata": {},
     "output_type": "display_data"
    },
    {
     "data": {
      "application/vnd.jupyter.widget-view+json": {
       "model_id": "",
       "version_major": 2,
       "version_minor": 0
      },
      "text/plain": [
       "Validation: 0it [00:00, ?it/s]"
      ]
     },
     "metadata": {},
     "output_type": "display_data"
    },
    {
     "data": {
      "application/vnd.jupyter.widget-view+json": {
       "model_id": "",
       "version_major": 2,
       "version_minor": 0
      },
      "text/plain": [
       "Validation: 0it [00:00, ?it/s]"
      ]
     },
     "metadata": {},
     "output_type": "display_data"
    },
    {
     "data": {
      "application/vnd.jupyter.widget-view+json": {
       "model_id": "",
       "version_major": 2,
       "version_minor": 0
      },
      "text/plain": [
       "Validation: 0it [00:00, ?it/s]"
      ]
     },
     "metadata": {},
     "output_type": "display_data"
    },
    {
     "data": {
      "application/vnd.jupyter.widget-view+json": {
       "model_id": "",
       "version_major": 2,
       "version_minor": 0
      },
      "text/plain": [
       "Validation: 0it [00:00, ?it/s]"
      ]
     },
     "metadata": {},
     "output_type": "display_data"
    },
    {
     "data": {
      "application/vnd.jupyter.widget-view+json": {
       "model_id": "",
       "version_major": 2,
       "version_minor": 0
      },
      "text/plain": [
       "Validation: 0it [00:00, ?it/s]"
      ]
     },
     "metadata": {},
     "output_type": "display_data"
    },
    {
     "data": {
      "application/vnd.jupyter.widget-view+json": {
       "model_id": "",
       "version_major": 2,
       "version_minor": 0
      },
      "text/plain": [
       "Validation: 0it [00:00, ?it/s]"
      ]
     },
     "metadata": {},
     "output_type": "display_data"
    },
    {
     "data": {
      "application/vnd.jupyter.widget-view+json": {
       "model_id": "",
       "version_major": 2,
       "version_minor": 0
      },
      "text/plain": [
       "Validation: 0it [00:00, ?it/s]"
      ]
     },
     "metadata": {},
     "output_type": "display_data"
    },
    {
     "data": {
      "application/vnd.jupyter.widget-view+json": {
       "model_id": "",
       "version_major": 2,
       "version_minor": 0
      },
      "text/plain": [
       "Validation: 0it [00:00, ?it/s]"
      ]
     },
     "metadata": {},
     "output_type": "display_data"
    },
    {
     "name": "stderr",
     "output_type": "stream",
     "text": [
      "`Trainer.fit` stopped: `max_epochs=20` reached.\n"
     ]
    }
   ],
   "source": [
    "trainer.fit(model, dm)"
   ]
  },
  {
   "cell_type": "markdown",
   "id": "8aac02ff-c9e3-4476-a984-0533356b598d",
   "metadata": {
    "tags": []
   },
   "source": [
    "### Test"
   ]
  },
  {
   "cell_type": "code",
   "execution_count": 60,
   "id": "436c5be1-dd8f-4010-a012-e530925e41ea",
   "metadata": {
    "tags": []
   },
   "outputs": [],
   "source": [
    "inputs, targets = next(iter(dl_train))"
   ]
  },
  {
   "cell_type": "code",
   "execution_count": 61,
   "id": "878c0b81-6c5c-4e4a-83db-64b15d626bbf",
   "metadata": {
    "tags": []
   },
   "outputs": [
    {
     "data": {
      "text/plain": [
       "(device(type='cpu'), 'cuda')"
      ]
     },
     "execution_count": 61,
     "metadata": {},
     "output_type": "execute_result"
    }
   ],
   "source": [
    "model.device, device"
   ]
  },
  {
   "cell_type": "code",
   "execution_count": 62,
   "id": "dff85f77-508e-47e4-bbf6-65bf195cb2ba",
   "metadata": {
    "tags": []
   },
   "outputs": [],
   "source": [
    "foo = model.to(device)"
   ]
  },
  {
   "cell_type": "code",
   "execution_count": 63,
   "id": "09fe183b-f8f8-47c4-84b2-2b3de77a5caa",
   "metadata": {
    "tags": []
   },
   "outputs": [
    {
     "data": {
      "text/plain": [
       "(device(type='cuda', index=0), device(type='cuda', index=0))"
      ]
     },
     "execution_count": 63,
     "metadata": {},
     "output_type": "execute_result"
    }
   ],
   "source": [
    "inputs['seq'].to(device).device, inputs['att_mask'].to(device).device"
   ]
  },
  {
   "cell_type": "code",
   "execution_count": 64,
   "id": "0344fb0a-3199-4b4d-ade8-b5c14e5e2da1",
   "metadata": {
    "tags": []
   },
   "outputs": [],
   "source": [
    "# model.to(device)"
   ]
  },
  {
   "cell_type": "code",
   "execution_count": 65,
   "id": "697b8110-e49e-4f20-bd89-1e4b3efdc5ed",
   "metadata": {
    "tags": []
   },
   "outputs": [
    {
     "data": {
      "text/plain": [
       "torch.Size([2, 51, 256])"
      ]
     },
     "execution_count": 65,
     "metadata": {},
     "output_type": "execute_result"
    }
   ],
   "source": [
    "preds = model(inputs['seq'].to(device), inputs['att_mask'].to(device))\n",
    "preds.shape"
   ]
  },
  {
   "cell_type": "code",
   "execution_count": 66,
   "id": "6ccca06f-12a7-41db-95a4-154b1b270aa3",
   "metadata": {
    "tags": []
   },
   "outputs": [
    {
     "data": {
      "text/plain": [
       "torch.Size([2, 51, 256])"
      ]
     },
     "execution_count": 66,
     "metadata": {},
     "output_type": "execute_result"
    }
   ],
   "source": [
    "tm = targets['token_mask'].unsqueeze(-1).expand_as(preds).to(device)\n",
    "preds = preds.masked_fill(~tm, 0)\n",
    "\n",
    "preds.shape"
   ]
  },
  {
   "cell_type": "code",
   "execution_count": 67,
   "id": "7271887d-bcf6-4777-8979-bc00663e3d2c",
   "metadata": {
    "tags": []
   },
   "outputs": [
    {
     "data": {
      "text/plain": [
       "'CAG'"
      ]
     },
     "execution_count": 67,
     "metadata": {},
     "output_type": "execute_result"
    }
   ],
   "source": [
    "tokenizer.decode([41])"
   ]
  },
  {
   "cell_type": "code",
   "execution_count": 68,
   "id": "58320a2d-1653-44f4-96ee-176e96338a8d",
   "metadata": {
    "tags": []
   },
   "outputs": [
    {
     "data": {
      "text/plain": [
       "tensor([ 0, 12,  0,  0,  0,  0,  0,  0,  0,  0,  0, 12, 12,  0,  0,  0, 12,  0,\n",
       "         0,  0,  0,  0,  0,  0,  0,  0, 12,  0,  0,  0,  0,  0,  0,  0,  0,  0,\n",
       "         0,  0,  0,  0,  0,  0,  0,  0,  0,  0,  0,  0,  0,  0,  0],\n",
       "       device='cuda:0')"
      ]
     },
     "execution_count": 68,
     "metadata": {},
     "output_type": "execute_result"
    }
   ],
   "source": [
    "preds[0].topk(1).indices.view(-1)"
   ]
  },
  {
   "cell_type": "code",
   "execution_count": 69,
   "id": "e7938ceb-a435-4050-9aaf-c5d0eafcc331",
   "metadata": {
    "tags": []
   },
   "outputs": [
    {
     "data": {
      "text/plain": [
       "torch.Size([2, 51, 256])"
      ]
     },
     "execution_count": 69,
     "metadata": {},
     "output_type": "execute_result"
    }
   ],
   "source": [
    "preds.shape"
   ]
  },
  {
   "cell_type": "code",
   "execution_count": 70,
   "id": "e361189a-5d8b-4f7a-8463-9e5f2304c952",
   "metadata": {
    "tags": []
   },
   "outputs": [],
   "source": [
    "# preds[0,1]"
   ]
  },
  {
   "cell_type": "code",
   "execution_count": 71,
   "id": "2bcbeb40-803f-40bd-be67-03621dd69ca7",
   "metadata": {
    "tags": []
   },
   "outputs": [
    {
     "data": {
      "text/plain": [
       "tensor([1., 1., 1., 1., 1., 1., 1., 1., 1., 1., 1., 1., 1., 1., 1., 1., 1., 1.,\n",
       "        1., 1., 1., 1., 1., 1., 1., 1., 1., 1., 1., 1., 1., 1., 1., 1., 1., 1.,\n",
       "        1., 1., 1., 1., 1., 1., 1., 1., 1., 1., 1., 1., 1., 1., 1., 1., 1., 1.,\n",
       "        1., 1., 1., 1., 1., 1., 1., 1., 1., 1., 1., 1., 1., 1., 1., 1., 1., 1.,\n",
       "        1., 1., 1., 1., 1., 1., 1., 1., 1., 1., 1., 1., 1., 1., 1., 1., 1., 1.,\n",
       "        1., 1., 1., 1., 1., 1., 1., 1., 1., 1., 1., 1., 1., 1., 1., 1., 1., 1.,\n",
       "        1., 1., 1., 1., 1., 1., 1., 1., 1., 1., 1., 1., 1., 1., 1., 1., 1., 1.,\n",
       "        1., 1., 1., 1., 1., 1., 1., 1., 1., 1., 1., 1., 1., 1., 1., 1., 1., 1.,\n",
       "        1., 1., 1., 1., 1., 1., 1., 1., 1., 1., 1., 1., 1., 1., 1., 1., 1., 1.,\n",
       "        1., 1., 1., 1., 1., 1., 1., 1., 1., 1., 1., 1., 1., 1., 1., 1., 1., 1.,\n",
       "        1., 1., 1., 1., 1., 1., 1., 1., 1., 1., 1., 1., 1., 1., 1., 1., 1., 1.,\n",
       "        1., 1., 1., 1., 1., 1., 1., 1., 1., 1., 1., 1., 1., 1., 1., 1., 1., 1.,\n",
       "        1., 1., 1., 1., 1., 1., 1., 1., 1., 1., 1., 1., 1., 1., 1., 1., 1., 1.,\n",
       "        1., 1., 1., 1., 1., 1., 1., 1., 1., 1., 1., 1., 1., 1., 1., 1., 1., 1.,\n",
       "        1., 1., 1., 1.], device='cuda:0', grad_fn=<ExpBackward0>)"
      ]
     },
     "execution_count": 71,
     "metadata": {},
     "output_type": "execute_result"
    }
   ],
   "source": [
    "torch.exp(preds[0,8])"
   ]
  },
  {
   "cell_type": "code",
   "execution_count": 72,
   "id": "d08c1299-7593-4f06-a87d-fa0a3121f3d8",
   "metadata": {
    "tags": []
   },
   "outputs": [],
   "source": [
    "# preds[1].topk(2).indices"
   ]
  },
  {
   "cell_type": "code",
   "execution_count": 73,
   "id": "fd6189ea-15fe-46d5-99d8-3ba824e23562",
   "metadata": {
    "tags": []
   },
   "outputs": [
    {
     "data": {
      "text/plain": [
       "tensor([ 40,  45,  29,  87,  42,  43, 129, 206, 218,  98, 100,   8,  41,  33,\n",
       "        203,  43,  49,  26, 232, 129,  78,  45,  10,  56, 199,  86,  20,  45,\n",
       "        103,  69, 121,  14,  49,  58,   0,   0,   0,   0,   0,   0,   0,   0,\n",
       "          0,   0,   0,   0,   0,   0,   0,   0,   0], dtype=torch.int32)"
      ]
     },
     "execution_count": 73,
     "metadata": {},
     "output_type": "execute_result"
    }
   ],
   "source": [
    "targets['labels'][0]"
   ]
  },
  {
   "cell_type": "code",
   "execution_count": 74,
   "id": "0f0761d0-3f3e-4af6-ab75-c34b465a0f4a",
   "metadata": {
    "tags": []
   },
   "outputs": [
    {
     "data": {
      "text/plain": [
       "tensor([ 0, 45,  0,  0,  0,  0,  0,  0,  0,  0,  0,  8, 41,  0,  0,  0, 49,  0,\n",
       "         0,  0,  0,  0,  0,  0,  0,  0, 20,  0,  0,  0,  0,  0,  0,  0,  0,  0,\n",
       "         0,  0,  0,  0,  0,  0,  0,  0,  0,  0,  0,  0,  0,  0,  0])"
      ]
     },
     "execution_count": 74,
     "metadata": {},
     "output_type": "execute_result"
    }
   ],
   "source": [
    "targets['mlm_target'][0]"
   ]
  },
  {
   "cell_type": "code",
   "execution_count": 75,
   "id": "0a6e40af-c6bc-4063-b78e-1c7e6eb7102e",
   "metadata": {
    "tags": []
   },
   "outputs": [],
   "source": [
    "# (preds[0].topk(1).indices.view(-1) == targets['labels'][0].to(device))"
   ]
  },
  {
   "cell_type": "code",
   "execution_count": 76,
   "id": "a373e8ed-670a-4c37-873f-948faa012e24",
   "metadata": {
    "tags": []
   },
   "outputs": [
    {
     "data": {
      "text/plain": [
       "0.62"
      ]
     },
     "execution_count": 76,
     "metadata": {},
     "output_type": "execute_result"
    }
   ],
   "source": [
    "acc = model.compute_acc(preds[0], targets['mlm_target'][0].to(device), targets['token_mask'].to(device))\n",
    "acc"
   ]
  },
  {
   "cell_type": "code",
   "execution_count": 77,
   "id": "826a922d-042b-4e6f-b83f-a561f95384c0",
   "metadata": {
    "tags": []
   },
   "outputs": [
    {
     "data": {
      "text/plain": [
       "tensor([ 0, 12,  0,  0,  0,  0,  0,  0,  0,  0,  0, 12, 12,  0,  0,  0, 12,  0,\n",
       "         0,  0,  0,  0,  0,  0,  0,  0, 12,  0,  0,  0,  0,  0,  0,  0,  0,  0,\n",
       "         0,  0,  0,  0,  0,  0,  0,  0,  0,  0,  0,  0,  0,  0,  0],\n",
       "       device='cuda:0')"
      ]
     },
     "execution_count": 77,
     "metadata": {},
     "output_type": "execute_result"
    }
   ],
   "source": [
    "preds[0].argmax(-1)"
   ]
  },
  {
   "cell_type": "code",
   "execution_count": 78,
   "id": "4a7f93b9-5ca8-4faf-bd32-94335cc0d986",
   "metadata": {
    "tags": []
   },
   "outputs": [
    {
     "data": {
      "text/plain": [
       "tensor([12, 12, 12, 12, 12, 12, 12, 12], device='cuda:0')"
      ]
     },
     "execution_count": 78,
     "metadata": {},
     "output_type": "execute_result"
    }
   ],
   "source": [
    "i=1\n",
    "r = preds[i].argmax(-1).masked_select(targets['token_mask'][i].to(device))\n",
    "r"
   ]
  },
  {
   "cell_type": "code",
   "execution_count": 79,
   "id": "4d29c7a7-4c72-4c5b-8d6e-55bd3bc2905b",
   "metadata": {
    "tags": []
   },
   "outputs": [
    {
     "data": {
      "text/plain": [
       "tensor([ 99,  87,  43, 129, 100,  43, 217,  58], device='cuda:0')"
      ]
     },
     "execution_count": 79,
     "metadata": {},
     "output_type": "execute_result"
    }
   ],
   "source": [
    "t = targets['mlm_target'][i].to(device).masked_select(targets['token_mask'][i].to(device))\n",
    "t"
   ]
  },
  {
   "cell_type": "code",
   "execution_count": 80,
   "id": "8bc601af-6984-4d75-81b1-71c1dcaf92f5",
   "metadata": {
    "tags": []
   },
   "outputs": [
    {
     "data": {
      "text/plain": [
       "tensor(13)"
      ]
     },
     "execution_count": 80,
     "metadata": {},
     "output_type": "execute_result"
    }
   ],
   "source": [
    "targets['token_mask'].sum()"
   ]
  },
  {
   "cell_type": "code",
   "execution_count": 81,
   "id": "0868704c-c636-461c-a8fd-acb87ec42300",
   "metadata": {
    "tags": []
   },
   "outputs": [
    {
     "data": {
      "text/plain": [
       "tensor(0., device='cuda:0')"
      ]
     },
     "execution_count": 81,
     "metadata": {},
     "output_type": "execute_result"
    }
   ],
   "source": [
    "(r == t).sum() / targets['token_mask'].sum()"
   ]
  },
  {
   "cell_type": "markdown",
   "id": "1cab5f49-c1de-4279-8181-6cbfbed0d931",
   "metadata": {
    "tags": []
   },
   "source": [
    "### Measure"
   ]
  },
  {
   "cell_type": "code",
   "execution_count": null,
   "id": "a21a1526-c04a-4fbd-a8c1-5873d74bf330",
   "metadata": {},
   "outputs": [],
   "source": []
  },
  {
   "cell_type": "code",
   "execution_count": null,
   "id": "83c0234a-cd2b-4935-90f8-2e3afd361fbb",
   "metadata": {},
   "outputs": [],
   "source": []
  },
  {
   "cell_type": "code",
   "execution_count": null,
   "id": "8a09944c-75f8-4921-93d0-0497742e43c5",
   "metadata": {},
   "outputs": [],
   "source": []
  }
 ],
 "metadata": {
  "kernelspec": {
   "display_name": "Python 3 (ipykernel)",
   "language": "python",
   "name": "python3"
  },
  "language_info": {
   "codemirror_mode": {
    "name": "ipython",
    "version": 3
   },
   "file_extension": ".py",
   "mimetype": "text/x-python",
   "name": "python",
   "nbconvert_exporter": "python",
   "pygments_lexer": "ipython3",
   "version": "3.10.13"
  }
 },
 "nbformat": 4,
 "nbformat_minor": 5
}
