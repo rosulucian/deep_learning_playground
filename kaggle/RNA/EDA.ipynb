{
 "cells": [
  {
   "cell_type": "code",
   "execution_count": 1,
   "id": "dde4d179-ba14-47b3-884d-ff425fe9ef7c",
   "metadata": {
    "tags": []
   },
   "outputs": [],
   "source": [
    "import pandas as pd\n",
    "import numpy as np"
   ]
  },
  {
   "cell_type": "code",
   "execution_count": 3,
   "id": "fca62746-982f-4c74-a378-3e8d39a53edc",
   "metadata": {
    "tags": []
   },
   "outputs": [],
   "source": [
    "train_csv = 'train_data.csv'"
   ]
  },
  {
   "cell_type": "code",
   "execution_count": 5,
   "id": "236a4029-1a61-4d90-a0a0-fcdeb85e8239",
   "metadata": {
    "tags": []
   },
   "outputs": [],
   "source": [
    "train_df = pd.read_csv(train_csv)"
   ]
  },
  {
   "cell_type": "code",
   "execution_count": 7,
   "id": "7bd9ceb6-bd34-45ac-8b98-c85a17c5ceed",
   "metadata": {
    "tags": []
   },
   "outputs": [
    {
     "data": {
      "text/plain": [
       "(1643680, 419)"
      ]
     },
     "execution_count": 7,
     "metadata": {},
     "output_type": "execute_result"
    }
   ],
   "source": [
    "train_df.shape"
   ]
  },
  {
   "cell_type": "code",
   "execution_count": 6,
   "id": "99698b4d-c633-4a2a-a7c2-78caade7bc3f",
   "metadata": {
    "tags": []
   },
   "outputs": [
    {
     "data": {
      "text/html": [
       "<div>\n",
       "<style scoped>\n",
       "    .dataframe tbody tr th:only-of-type {\n",
       "        vertical-align: middle;\n",
       "    }\n",
       "\n",
       "    .dataframe tbody tr th {\n",
       "        vertical-align: top;\n",
       "    }\n",
       "\n",
       "    .dataframe thead th {\n",
       "        text-align: right;\n",
       "    }\n",
       "</style>\n",
       "<table border=\"1\" class=\"dataframe\">\n",
       "  <thead>\n",
       "    <tr style=\"text-align: right;\">\n",
       "      <th></th>\n",
       "      <th>sequence_id</th>\n",
       "      <th>sequence</th>\n",
       "      <th>experiment_type</th>\n",
       "      <th>dataset_name</th>\n",
       "      <th>reads</th>\n",
       "      <th>signal_to_noise</th>\n",
       "      <th>SN_filter</th>\n",
       "      <th>reactivity_0001</th>\n",
       "      <th>reactivity_0002</th>\n",
       "      <th>reactivity_0003</th>\n",
       "      <th>...</th>\n",
       "      <th>reactivity_error_0197</th>\n",
       "      <th>reactivity_error_0198</th>\n",
       "      <th>reactivity_error_0199</th>\n",
       "      <th>reactivity_error_0200</th>\n",
       "      <th>reactivity_error_0201</th>\n",
       "      <th>reactivity_error_0202</th>\n",
       "      <th>reactivity_error_0203</th>\n",
       "      <th>reactivity_error_0204</th>\n",
       "      <th>reactivity_error_0205</th>\n",
       "      <th>reactivity_error_0206</th>\n",
       "    </tr>\n",
       "  </thead>\n",
       "  <tbody>\n",
       "    <tr>\n",
       "      <th>0</th>\n",
       "      <td>8cdfeef009ea</td>\n",
       "      <td>GGGAACGACUCGAGUAGAGUCGAAAAACGUUGAUAUGGAUUUACUC...</td>\n",
       "      <td>2A3_MaP</td>\n",
       "      <td>15k_2A3</td>\n",
       "      <td>2343</td>\n",
       "      <td>0.944</td>\n",
       "      <td>0</td>\n",
       "      <td>NaN</td>\n",
       "      <td>NaN</td>\n",
       "      <td>NaN</td>\n",
       "      <td>...</td>\n",
       "      <td>NaN</td>\n",
       "      <td>NaN</td>\n",
       "      <td>NaN</td>\n",
       "      <td>NaN</td>\n",
       "      <td>NaN</td>\n",
       "      <td>NaN</td>\n",
       "      <td>NaN</td>\n",
       "      <td>NaN</td>\n",
       "      <td>NaN</td>\n",
       "      <td>NaN</td>\n",
       "    </tr>\n",
       "    <tr>\n",
       "      <th>1</th>\n",
       "      <td>51e61fbde94d</td>\n",
       "      <td>GGGAACGACUCGAGUAGAGUCGAAAAACAUUGAUAUGGAUUUACUC...</td>\n",
       "      <td>2A3_MaP</td>\n",
       "      <td>15k_2A3</td>\n",
       "      <td>5326</td>\n",
       "      <td>1.933</td>\n",
       "      <td>1</td>\n",
       "      <td>NaN</td>\n",
       "      <td>NaN</td>\n",
       "      <td>NaN</td>\n",
       "      <td>...</td>\n",
       "      <td>NaN</td>\n",
       "      <td>NaN</td>\n",
       "      <td>NaN</td>\n",
       "      <td>NaN</td>\n",
       "      <td>NaN</td>\n",
       "      <td>NaN</td>\n",
       "      <td>NaN</td>\n",
       "      <td>NaN</td>\n",
       "      <td>NaN</td>\n",
       "      <td>NaN</td>\n",
       "    </tr>\n",
       "    <tr>\n",
       "      <th>2</th>\n",
       "      <td>25ce8d5109cd</td>\n",
       "      <td>GGGAACGACUCGAGUAGAGUCGAAAAACCUUGAUAUGGAUUUACUC...</td>\n",
       "      <td>2A3_MaP</td>\n",
       "      <td>15k_2A3</td>\n",
       "      <td>4647</td>\n",
       "      <td>2.347</td>\n",
       "      <td>1</td>\n",
       "      <td>NaN</td>\n",
       "      <td>NaN</td>\n",
       "      <td>NaN</td>\n",
       "      <td>...</td>\n",
       "      <td>NaN</td>\n",
       "      <td>NaN</td>\n",
       "      <td>NaN</td>\n",
       "      <td>NaN</td>\n",
       "      <td>NaN</td>\n",
       "      <td>NaN</td>\n",
       "      <td>NaN</td>\n",
       "      <td>NaN</td>\n",
       "      <td>NaN</td>\n",
       "      <td>NaN</td>\n",
       "    </tr>\n",
       "    <tr>\n",
       "      <th>3</th>\n",
       "      <td>07dcfb6d1965</td>\n",
       "      <td>GGGAACGACUCGAGUAGAGUCGAAAAACUUUGAUAUGGAUUUACUC...</td>\n",
       "      <td>2A3_MaP</td>\n",
       "      <td>15k_2A3</td>\n",
       "      <td>102843</td>\n",
       "      <td>11.824</td>\n",
       "      <td>1</td>\n",
       "      <td>NaN</td>\n",
       "      <td>NaN</td>\n",
       "      <td>NaN</td>\n",
       "      <td>...</td>\n",
       "      <td>NaN</td>\n",
       "      <td>NaN</td>\n",
       "      <td>NaN</td>\n",
       "      <td>NaN</td>\n",
       "      <td>NaN</td>\n",
       "      <td>NaN</td>\n",
       "      <td>NaN</td>\n",
       "      <td>NaN</td>\n",
       "      <td>NaN</td>\n",
       "      <td>NaN</td>\n",
       "    </tr>\n",
       "    <tr>\n",
       "      <th>4</th>\n",
       "      <td>e561cc042a4c</td>\n",
       "      <td>GGGAACGACUCGAGUAGAGUCGAAAAACGAUGAUAUGGAUUUACUC...</td>\n",
       "      <td>2A3_MaP</td>\n",
       "      <td>15k_2A3</td>\n",
       "      <td>7665</td>\n",
       "      <td>3.519</td>\n",
       "      <td>1</td>\n",
       "      <td>NaN</td>\n",
       "      <td>NaN</td>\n",
       "      <td>NaN</td>\n",
       "      <td>...</td>\n",
       "      <td>NaN</td>\n",
       "      <td>NaN</td>\n",
       "      <td>NaN</td>\n",
       "      <td>NaN</td>\n",
       "      <td>NaN</td>\n",
       "      <td>NaN</td>\n",
       "      <td>NaN</td>\n",
       "      <td>NaN</td>\n",
       "      <td>NaN</td>\n",
       "      <td>NaN</td>\n",
       "    </tr>\n",
       "  </tbody>\n",
       "</table>\n",
       "<p>5 rows × 419 columns</p>\n",
       "</div>"
      ],
      "text/plain": [
       "    sequence_id                                           sequence  \\\n",
       "0  8cdfeef009ea  GGGAACGACUCGAGUAGAGUCGAAAAACGUUGAUAUGGAUUUACUC...   \n",
       "1  51e61fbde94d  GGGAACGACUCGAGUAGAGUCGAAAAACAUUGAUAUGGAUUUACUC...   \n",
       "2  25ce8d5109cd  GGGAACGACUCGAGUAGAGUCGAAAAACCUUGAUAUGGAUUUACUC...   \n",
       "3  07dcfb6d1965  GGGAACGACUCGAGUAGAGUCGAAAAACUUUGAUAUGGAUUUACUC...   \n",
       "4  e561cc042a4c  GGGAACGACUCGAGUAGAGUCGAAAAACGAUGAUAUGGAUUUACUC...   \n",
       "\n",
       "  experiment_type dataset_name   reads  signal_to_noise  SN_filter  \\\n",
       "0         2A3_MaP      15k_2A3    2343            0.944          0   \n",
       "1         2A3_MaP      15k_2A3    5326            1.933          1   \n",
       "2         2A3_MaP      15k_2A3    4647            2.347          1   \n",
       "3         2A3_MaP      15k_2A3  102843           11.824          1   \n",
       "4         2A3_MaP      15k_2A3    7665            3.519          1   \n",
       "\n",
       "   reactivity_0001  reactivity_0002  reactivity_0003  ...  \\\n",
       "0              NaN              NaN              NaN  ...   \n",
       "1              NaN              NaN              NaN  ...   \n",
       "2              NaN              NaN              NaN  ...   \n",
       "3              NaN              NaN              NaN  ...   \n",
       "4              NaN              NaN              NaN  ...   \n",
       "\n",
       "   reactivity_error_0197  reactivity_error_0198  reactivity_error_0199  \\\n",
       "0                    NaN                    NaN                    NaN   \n",
       "1                    NaN                    NaN                    NaN   \n",
       "2                    NaN                    NaN                    NaN   \n",
       "3                    NaN                    NaN                    NaN   \n",
       "4                    NaN                    NaN                    NaN   \n",
       "\n",
       "   reactivity_error_0200  reactivity_error_0201  reactivity_error_0202  \\\n",
       "0                    NaN                    NaN                    NaN   \n",
       "1                    NaN                    NaN                    NaN   \n",
       "2                    NaN                    NaN                    NaN   \n",
       "3                    NaN                    NaN                    NaN   \n",
       "4                    NaN                    NaN                    NaN   \n",
       "\n",
       "   reactivity_error_0203  reactivity_error_0204  reactivity_error_0205  \\\n",
       "0                    NaN                    NaN                    NaN   \n",
       "1                    NaN                    NaN                    NaN   \n",
       "2                    NaN                    NaN                    NaN   \n",
       "3                    NaN                    NaN                    NaN   \n",
       "4                    NaN                    NaN                    NaN   \n",
       "\n",
       "   reactivity_error_0206  \n",
       "0                    NaN  \n",
       "1                    NaN  \n",
       "2                    NaN  \n",
       "3                    NaN  \n",
       "4                    NaN  \n",
       "\n",
       "[5 rows x 419 columns]"
      ]
     },
     "execution_count": 6,
     "metadata": {},
     "output_type": "execute_result"
    }
   ],
   "source": [
    "train_df.head()"
   ]
  },
  {
   "cell_type": "code",
   "execution_count": 8,
   "id": "b06f55ed-5f8a-449e-b649-b1a545372f7e",
   "metadata": {
    "tags": []
   },
   "outputs": [
    {
     "data": {
      "text/plain": [
       "array(['2A3_MaP', 'DMS_MaP'], dtype=object)"
      ]
     },
     "execution_count": 8,
     "metadata": {},
     "output_type": "execute_result"
    }
   ],
   "source": [
    "train_df['experiment_type'].unique()"
   ]
  },
  {
   "cell_type": "code",
   "execution_count": 10,
   "id": "6692cf8e-03b6-42c0-8e99-fd16a5705e65",
   "metadata": {
    "tags": []
   },
   "outputs": [
    {
     "data": {
      "text/plain": [
       "experiment_type\n",
       "2A3_MaP    821840\n",
       "DMS_MaP    821840\n",
       "Name: count, dtype: int64"
      ]
     },
     "execution_count": 10,
     "metadata": {},
     "output_type": "execute_result"
    }
   ],
   "source": [
    "train_df['experiment_type'].value_counts()"
   ]
  },
  {
   "cell_type": "code",
   "execution_count": 13,
   "id": "49a8ef16-ea72-4400-9a30-55be5d5a4b12",
   "metadata": {
    "tags": []
   },
   "outputs": [
    {
     "data": {
      "text/plain": [
       "806573"
      ]
     },
     "execution_count": 13,
     "metadata": {},
     "output_type": "execute_result"
    }
   ],
   "source": [
    "train_df['sequence_id'].nunique()"
   ]
  },
  {
   "cell_type": "code",
   "execution_count": 12,
   "id": "52ccbb8d-5bf2-4748-9dbd-a146350ff818",
   "metadata": {
    "tags": []
   },
   "outputs": [
    {
     "data": {
      "text/html": [
       "<div>\n",
       "<style scoped>\n",
       "    .dataframe tbody tr th:only-of-type {\n",
       "        vertical-align: middle;\n",
       "    }\n",
       "\n",
       "    .dataframe tbody tr th {\n",
       "        vertical-align: top;\n",
       "    }\n",
       "\n",
       "    .dataframe thead th {\n",
       "        text-align: right;\n",
       "    }\n",
       "</style>\n",
       "<table border=\"1\" class=\"dataframe\">\n",
       "  <thead>\n",
       "    <tr style=\"text-align: right;\">\n",
       "      <th></th>\n",
       "      <th>sequence_id</th>\n",
       "      <th>sequence</th>\n",
       "      <th>experiment_type</th>\n",
       "      <th>dataset_name</th>\n",
       "      <th>reads</th>\n",
       "      <th>signal_to_noise</th>\n",
       "      <th>SN_filter</th>\n",
       "      <th>reactivity_0001</th>\n",
       "      <th>reactivity_0002</th>\n",
       "      <th>reactivity_0003</th>\n",
       "      <th>...</th>\n",
       "      <th>reactivity_error_0197</th>\n",
       "      <th>reactivity_error_0198</th>\n",
       "      <th>reactivity_error_0199</th>\n",
       "      <th>reactivity_error_0200</th>\n",
       "      <th>reactivity_error_0201</th>\n",
       "      <th>reactivity_error_0202</th>\n",
       "      <th>reactivity_error_0203</th>\n",
       "      <th>reactivity_error_0204</th>\n",
       "      <th>reactivity_error_0205</th>\n",
       "      <th>reactivity_error_0206</th>\n",
       "    </tr>\n",
       "  </thead>\n",
       "  <tbody>\n",
       "    <tr>\n",
       "      <th>1606423</th>\n",
       "      <td>ebe90364da34</td>\n",
       "      <td>GGGAACGACUCGAGUAGAGUCGAAAAACUUUUCGACUCUGAUACCA...</td>\n",
       "      <td>2A3_MaP</td>\n",
       "      <td>PK50_CustomArray_2A3</td>\n",
       "      <td>2520920</td>\n",
       "      <td>107.483</td>\n",
       "      <td>1</td>\n",
       "      <td>NaN</td>\n",
       "      <td>NaN</td>\n",
       "      <td>NaN</td>\n",
       "      <td>...</td>\n",
       "      <td>NaN</td>\n",
       "      <td>NaN</td>\n",
       "      <td>NaN</td>\n",
       "      <td>NaN</td>\n",
       "      <td>NaN</td>\n",
       "      <td>NaN</td>\n",
       "      <td>NaN</td>\n",
       "      <td>NaN</td>\n",
       "      <td>NaN</td>\n",
       "      <td>NaN</td>\n",
       "    </tr>\n",
       "    <tr>\n",
       "      <th>1611881</th>\n",
       "      <td>ebe90364da34</td>\n",
       "      <td>GGGAACGACUCGAGUAGAGUCGAAAAACUUUUCGACUCUGAUACCA...</td>\n",
       "      <td>2A3_MaP</td>\n",
       "      <td>PK50_Twist_2A3</td>\n",
       "      <td>2624714</td>\n",
       "      <td>109.161</td>\n",
       "      <td>1</td>\n",
       "      <td>NaN</td>\n",
       "      <td>NaN</td>\n",
       "      <td>NaN</td>\n",
       "      <td>...</td>\n",
       "      <td>NaN</td>\n",
       "      <td>NaN</td>\n",
       "      <td>NaN</td>\n",
       "      <td>NaN</td>\n",
       "      <td>NaN</td>\n",
       "      <td>NaN</td>\n",
       "      <td>NaN</td>\n",
       "      <td>NaN</td>\n",
       "      <td>NaN</td>\n",
       "      <td>NaN</td>\n",
       "    </tr>\n",
       "    <tr>\n",
       "      <th>1614610</th>\n",
       "      <td>ebe90364da34</td>\n",
       "      <td>GGGAACGACUCGAGUAGAGUCGAAAAACUUUUCGACUCUGAUACCA...</td>\n",
       "      <td>DMS_MaP</td>\n",
       "      <td>PK50_Twist_DMS</td>\n",
       "      <td>3366351</td>\n",
       "      <td>115.017</td>\n",
       "      <td>1</td>\n",
       "      <td>NaN</td>\n",
       "      <td>NaN</td>\n",
       "      <td>NaN</td>\n",
       "      <td>...</td>\n",
       "      <td>NaN</td>\n",
       "      <td>NaN</td>\n",
       "      <td>NaN</td>\n",
       "      <td>NaN</td>\n",
       "      <td>NaN</td>\n",
       "      <td>NaN</td>\n",
       "      <td>NaN</td>\n",
       "      <td>NaN</td>\n",
       "      <td>NaN</td>\n",
       "      <td>NaN</td>\n",
       "    </tr>\n",
       "    <tr>\n",
       "      <th>1617339</th>\n",
       "      <td>ebe90364da34</td>\n",
       "      <td>GGGAACGACUCGAGUAGAGUCGAAAAACUUUUCGACUCUGAUACCA...</td>\n",
       "      <td>2A3_MaP</td>\n",
       "      <td>PK50_Twist_epPCR_2A3</td>\n",
       "      <td>5283160</td>\n",
       "      <td>146.537</td>\n",
       "      <td>1</td>\n",
       "      <td>NaN</td>\n",
       "      <td>NaN</td>\n",
       "      <td>NaN</td>\n",
       "      <td>...</td>\n",
       "      <td>NaN</td>\n",
       "      <td>NaN</td>\n",
       "      <td>NaN</td>\n",
       "      <td>NaN</td>\n",
       "      <td>NaN</td>\n",
       "      <td>NaN</td>\n",
       "      <td>NaN</td>\n",
       "      <td>NaN</td>\n",
       "      <td>NaN</td>\n",
       "      <td>NaN</td>\n",
       "    </tr>\n",
       "    <tr>\n",
       "      <th>1620068</th>\n",
       "      <td>ebe90364da34</td>\n",
       "      <td>GGGAACGACUCGAGUAGAGUCGAAAAACUUUUCGACUCUGAUACCA...</td>\n",
       "      <td>DMS_MaP</td>\n",
       "      <td>PK50_Twist_epPCR_DMS</td>\n",
       "      <td>6861697</td>\n",
       "      <td>101.303</td>\n",
       "      <td>1</td>\n",
       "      <td>NaN</td>\n",
       "      <td>NaN</td>\n",
       "      <td>NaN</td>\n",
       "      <td>...</td>\n",
       "      <td>NaN</td>\n",
       "      <td>NaN</td>\n",
       "      <td>NaN</td>\n",
       "      <td>NaN</td>\n",
       "      <td>NaN</td>\n",
       "      <td>NaN</td>\n",
       "      <td>NaN</td>\n",
       "      <td>NaN</td>\n",
       "      <td>NaN</td>\n",
       "      <td>NaN</td>\n",
       "    </tr>\n",
       "  </tbody>\n",
       "</table>\n",
       "<p>5 rows × 419 columns</p>\n",
       "</div>"
      ],
      "text/plain": [
       "          sequence_id                                           sequence  \\\n",
       "1606423  ebe90364da34  GGGAACGACUCGAGUAGAGUCGAAAAACUUUUCGACUCUGAUACCA...   \n",
       "1611881  ebe90364da34  GGGAACGACUCGAGUAGAGUCGAAAAACUUUUCGACUCUGAUACCA...   \n",
       "1614610  ebe90364da34  GGGAACGACUCGAGUAGAGUCGAAAAACUUUUCGACUCUGAUACCA...   \n",
       "1617339  ebe90364da34  GGGAACGACUCGAGUAGAGUCGAAAAACUUUUCGACUCUGAUACCA...   \n",
       "1620068  ebe90364da34  GGGAACGACUCGAGUAGAGUCGAAAAACUUUUCGACUCUGAUACCA...   \n",
       "\n",
       "        experiment_type          dataset_name    reads  signal_to_noise  \\\n",
       "1606423         2A3_MaP  PK50_CustomArray_2A3  2520920          107.483   \n",
       "1611881         2A3_MaP        PK50_Twist_2A3  2624714          109.161   \n",
       "1614610         DMS_MaP        PK50_Twist_DMS  3366351          115.017   \n",
       "1617339         2A3_MaP  PK50_Twist_epPCR_2A3  5283160          146.537   \n",
       "1620068         DMS_MaP  PK50_Twist_epPCR_DMS  6861697          101.303   \n",
       "\n",
       "         SN_filter  reactivity_0001  reactivity_0002  reactivity_0003  ...  \\\n",
       "1606423          1              NaN              NaN              NaN  ...   \n",
       "1611881          1              NaN              NaN              NaN  ...   \n",
       "1614610          1              NaN              NaN              NaN  ...   \n",
       "1617339          1              NaN              NaN              NaN  ...   \n",
       "1620068          1              NaN              NaN              NaN  ...   \n",
       "\n",
       "         reactivity_error_0197  reactivity_error_0198  reactivity_error_0199  \\\n",
       "1606423                    NaN                    NaN                    NaN   \n",
       "1611881                    NaN                    NaN                    NaN   \n",
       "1614610                    NaN                    NaN                    NaN   \n",
       "1617339                    NaN                    NaN                    NaN   \n",
       "1620068                    NaN                    NaN                    NaN   \n",
       "\n",
       "         reactivity_error_0200  reactivity_error_0201  reactivity_error_0202  \\\n",
       "1606423                    NaN                    NaN                    NaN   \n",
       "1611881                    NaN                    NaN                    NaN   \n",
       "1614610                    NaN                    NaN                    NaN   \n",
       "1617339                    NaN                    NaN                    NaN   \n",
       "1620068                    NaN                    NaN                    NaN   \n",
       "\n",
       "         reactivity_error_0203  reactivity_error_0204  reactivity_error_0205  \\\n",
       "1606423                    NaN                    NaN                    NaN   \n",
       "1611881                    NaN                    NaN                    NaN   \n",
       "1614610                    NaN                    NaN                    NaN   \n",
       "1617339                    NaN                    NaN                    NaN   \n",
       "1620068                    NaN                    NaN                    NaN   \n",
       "\n",
       "         reactivity_error_0206  \n",
       "1606423                    NaN  \n",
       "1611881                    NaN  \n",
       "1614610                    NaN  \n",
       "1617339                    NaN  \n",
       "1620068                    NaN  \n",
       "\n",
       "[5 rows x 419 columns]"
      ]
     },
     "execution_count": 12,
     "metadata": {},
     "output_type": "execute_result"
    }
   ],
   "source": [
    "train_df[train_df['signal_to_noise'] > 100].head()"
   ]
  },
  {
   "cell_type": "code",
   "execution_count": 16,
   "id": "c01773ec-8d54-4ff1-a1f1-15538772f28a",
   "metadata": {
    "tags": []
   },
   "outputs": [
    {
     "data": {
      "text/plain": [
       "SN_filter\n",
       "0    1205441\n",
       "1     438239\n",
       "Name: count, dtype: int64"
      ]
     },
     "execution_count": 16,
     "metadata": {},
     "output_type": "execute_result"
    }
   ],
   "source": [
    "train_df['SN_filter'].value_counts()"
   ]
  },
  {
   "cell_type": "code",
   "execution_count": 22,
   "id": "e0d98b87-0a2b-4930-ac82-4253656699fa",
   "metadata": {
    "tags": []
   },
   "outputs": [
    {
     "data": {
      "text/plain": [
       "count    49182.000000\n",
       "mean        33.420357\n",
       "std        385.240130\n",
       "min          1.000000\n",
       "25%          1.000000\n",
       "50%          2.000000\n",
       "75%          4.000000\n",
       "max      37867.000000\n",
       "Name: count, dtype: float64"
      ]
     },
     "execution_count": 22,
     "metadata": {},
     "output_type": "execute_result"
    }
   ],
   "source": [
    "train_df['reads'].value_counts().describe()"
   ]
  },
  {
   "cell_type": "code",
   "execution_count": 29,
   "id": "ce813ef6-d9a3-4322-a95e-5e16aa35a1cc",
   "metadata": {
    "tags": []
   },
   "outputs": [
    {
     "data": {
      "text/plain": [
       "<Axes: >"
      ]
     },
     "execution_count": 29,
     "metadata": {},
     "output_type": "execute_result"
    },
    {
     "data": {
      "image/png": "[encoded data removed]",
      "text/plain": [
       "<Figure size 640x480 with 1 Axes>"
      ]
     },
     "metadata": {},
     "output_type": "display_data"
    }
   ],
   "source": [
    "train_df.loc[train_df['reads'] < 1000]['reads'].value_counts().hist(bins = 20)"
   ]
  },
  {
   "cell_type": "code",
   "execution_count": 32,
   "id": "892b5600-50aa-483e-97d7-03b2955e2175",
   "metadata": {
    "tags": []
   },
   "outputs": [
    {
     "data": {
      "text/plain": [
       "reads\n",
       "1      17595\n",
       "2      15396\n",
       "3      13863\n",
       "4      13010\n",
       "5      12301\n",
       "       ...  \n",
       "991      151\n",
       "999      149\n",
       "990      149\n",
       "980      146\n",
       "985      145\n",
       "Name: count, Length: 999, dtype: int64"
      ]
     },
     "execution_count": 32,
     "metadata": {},
     "output_type": "execute_result"
    }
   ],
   "source": [
    "train_df[(train_df['reads'] < 1000) & (train_df['reads'] >0)]['reads'].value_counts()"
   ]
  },
  {
   "cell_type": "code",
   "execution_count": 48,
   "id": "2eebeb4d-d8cf-4272-ac6c-378309714b36",
   "metadata": {
    "tags": []
   },
   "outputs": [],
   "source": [
    "# train_df[(train_df['reads'] < 1000) & (train_df['reads'] >0)]['reads'].value_counts().hist(bins=20)"
   ]
  },
  {
   "cell_type": "code",
   "execution_count": null,
   "id": "9d9dcc3a-6691-4a66-9955-27d051246494",
   "metadata": {},
   "outputs": [],
   "source": []
  },
  {
   "cell_type": "code",
   "execution_count": 35,
   "id": "b2c6babe-f977-483e-b013-944befc7bef2",
   "metadata": {
    "tags": []
   },
   "outputs": [],
   "source": [
    "sequences_df = train_df[['sequence_id', 'sequence']]"
   ]
  },
  {
   "cell_type": "code",
   "execution_count": 36,
   "id": "efae859b-51dd-4cc6-8cf5-b02a7a3d708c",
   "metadata": {
    "tags": []
   },
   "outputs": [
    {
     "data": {
      "text/plain": [
       "(1643680, 2)"
      ]
     },
     "execution_count": 36,
     "metadata": {},
     "output_type": "execute_result"
    }
   ],
   "source": [
    "sequences_df.shape"
   ]
  },
  {
   "cell_type": "code",
   "execution_count": 37,
   "id": "b0b5674a-2774-4e93-b95c-878f7ea19714",
   "metadata": {
    "tags": []
   },
   "outputs": [
    {
     "data": {
      "text/plain": [
       "(806573, 2)"
      ]
     },
     "execution_count": 37,
     "metadata": {},
     "output_type": "execute_result"
    }
   ],
   "source": [
    "sequences_df.drop_duplicates(keep='first').shape"
   ]
  },
  {
   "cell_type": "code",
   "execution_count": 38,
   "id": "71179969-d320-4cd3-894c-6e223fe39516",
   "metadata": {
    "tags": []
   },
   "outputs": [
    {
     "data": {
      "text/html": [
       "<div>\n",
       "<style scoped>\n",
       "    .dataframe tbody tr th:only-of-type {\n",
       "        vertical-align: middle;\n",
       "    }\n",
       "\n",
       "    .dataframe tbody tr th {\n",
       "        vertical-align: top;\n",
       "    }\n",
       "\n",
       "    .dataframe thead th {\n",
       "        text-align: right;\n",
       "    }\n",
       "</style>\n",
       "<table border=\"1\" class=\"dataframe\">\n",
       "  <thead>\n",
       "    <tr style=\"text-align: right;\">\n",
       "      <th></th>\n",
       "      <th>sequence_id</th>\n",
       "      <th>sequence</th>\n",
       "    </tr>\n",
       "  </thead>\n",
       "  <tbody>\n",
       "    <tr>\n",
       "      <th>0</th>\n",
       "      <td>8cdfeef009ea</td>\n",
       "      <td>GGGAACGACUCGAGUAGAGUCGAAAAACGUUGAUAUGGAUUUACUC...</td>\n",
       "    </tr>\n",
       "    <tr>\n",
       "      <th>1</th>\n",
       "      <td>51e61fbde94d</td>\n",
       "      <td>GGGAACGACUCGAGUAGAGUCGAAAAACAUUGAUAUGGAUUUACUC...</td>\n",
       "    </tr>\n",
       "    <tr>\n",
       "      <th>2</th>\n",
       "      <td>25ce8d5109cd</td>\n",
       "      <td>GGGAACGACUCGAGUAGAGUCGAAAAACCUUGAUAUGGAUUUACUC...</td>\n",
       "    </tr>\n",
       "    <tr>\n",
       "      <th>3</th>\n",
       "      <td>07dcfb6d1965</td>\n",
       "      <td>GGGAACGACUCGAGUAGAGUCGAAAAACUUUGAUAUGGAUUUACUC...</td>\n",
       "    </tr>\n",
       "    <tr>\n",
       "      <th>4</th>\n",
       "      <td>e561cc042a4c</td>\n",
       "      <td>GGGAACGACUCGAGUAGAGUCGAAAAACGAUGAUAUGGAUUUACUC...</td>\n",
       "    </tr>\n",
       "  </tbody>\n",
       "</table>\n",
       "</div>"
      ],
      "text/plain": [
       "    sequence_id                                           sequence\n",
       "0  8cdfeef009ea  GGGAACGACUCGAGUAGAGUCGAAAAACGUUGAUAUGGAUUUACUC...\n",
       "1  51e61fbde94d  GGGAACGACUCGAGUAGAGUCGAAAAACAUUGAUAUGGAUUUACUC...\n",
       "2  25ce8d5109cd  GGGAACGACUCGAGUAGAGUCGAAAAACCUUGAUAUGGAUUUACUC...\n",
       "3  07dcfb6d1965  GGGAACGACUCGAGUAGAGUCGAAAAACUUUGAUAUGGAUUUACUC...\n",
       "4  e561cc042a4c  GGGAACGACUCGAGUAGAGUCGAAAAACGAUGAUAUGGAUUUACUC..."
      ]
     },
     "execution_count": 38,
     "metadata": {},
     "output_type": "execute_result"
    }
   ],
   "source": [
    "sequences_df.head()"
   ]
  },
  {
   "cell_type": "markdown",
   "id": "d80429eb-020e-429b-9c6d-91768077a4dc",
   "metadata": {},
   "source": [
    "### Duplicates"
   ]
  },
  {
   "cell_type": "code",
   "execution_count": 58,
   "id": "77de70b1-d6e2-4e6e-ae35-400f9f7e7a38",
   "metadata": {
    "tags": []
   },
   "outputs": [
    {
     "data": {
      "text/plain": [
       "sequence_id\n",
       "00005a0b365f    2\n",
       "00006c296445    2\n",
       "0000c9fe9c6f    2\n",
       "0000d87cab97    2\n",
       "0000dadc9e14    2\n",
       "               ..\n",
       "ffffde700333    2\n",
       "ffffe6075b10    2\n",
       "ffffea5adcdc    2\n",
       "fffff1a0b9c7    2\n",
       "fffff856246f    2\n",
       "Length: 806573, dtype: int64"
      ]
     },
     "execution_count": 58,
     "metadata": {},
     "output_type": "execute_result"
    }
   ],
   "source": [
    "result = train_df.groupby(['sequence_id']).size()\n",
    "result"
   ]
  },
  {
   "cell_type": "code",
   "execution_count": 88,
   "id": "6b501a35-08c3-400f-b10d-590ff463e943",
   "metadata": {
    "tags": []
   },
   "outputs": [],
   "source": [
    "# result.sort_values()"
   ]
  },
  {
   "cell_type": "code",
   "execution_count": 90,
   "id": "5616f8e0-a6a9-486a-a49a-f434a64abbe3",
   "metadata": {
    "tags": []
   },
   "outputs": [
    {
     "data": {
      "text/plain": [
       "sequence_id\n",
       "242ba13c8e66     4\n",
       "638a29aa8e7e     4\n",
       "3dd0d92ccf42     4\n",
       "216407a3e9ce     4\n",
       "cc7d74ed7f03     4\n",
       "                ..\n",
       "6c41847f95fe    10\n",
       "6c4b6478e286    10\n",
       "6c62fb788490    10\n",
       "6b8c06a1a580    10\n",
       "fffe796da890    10\n",
       "Length: 4907, dtype: int64"
      ]
     },
     "execution_count": 90,
     "metadata": {},
     "output_type": "execute_result"
    }
   ],
   "source": [
    "# more than duplicated\n",
    "result[result != 2].sort_values()"
   ]
  },
  {
   "cell_type": "markdown",
   "id": "48ddff83-feb1-4ff3-b259-5d77a7e78787",
   "metadata": {},
   "source": [
    "### Reactivity"
   ]
  },
  {
   "cell_type": "code",
   "execution_count": 49,
   "id": "f88a4669-b2fa-43e6-95c9-c80136a7ef1b",
   "metadata": {
    "tags": []
   },
   "outputs": [],
   "source": [
    "reactivity_columns = train_df.columns[train_df.columns.str.startswith('reactivity_0')]"
   ]
  },
  {
   "cell_type": "code",
   "execution_count": 60,
   "id": "516017b2-a8d9-4dcd-b795-8feb742c9533",
   "metadata": {
    "tags": []
   },
   "outputs": [],
   "source": [
    "# reactivity_columns.to_list()"
   ]
  },
  {
   "cell_type": "code",
   "execution_count": 104,
   "id": "7bbd8ec0-eefe-4546-97d4-e1249ae96d4a",
   "metadata": {
    "tags": []
   },
   "outputs": [],
   "source": [
    "# train_df.iloc[0]\n",
    "# train_df.iloc[0][train_df.iloc[0].notna()]"
   ]
  },
  {
   "cell_type": "code",
   "execution_count": 71,
   "id": "1cc4f4fc-4af2-40c6-bf38-b27945219d52",
   "metadata": {
    "tags": []
   },
   "outputs": [],
   "source": [
    "react_df = train_df[['sequence_id'] + reactivity_columns.tolist()].fillna(0.0)"
   ]
  },
  {
   "cell_type": "code",
   "execution_count": 72,
   "id": "716137f6-38ff-40bc-8a25-b5a7b16d3d7f",
   "metadata": {
    "tags": []
   },
   "outputs": [
    {
     "data": {
      "text/html": [
       "<div>\n",
       "<style scoped>\n",
       "    .dataframe tbody tr th:only-of-type {\n",
       "        vertical-align: middle;\n",
       "    }\n",
       "\n",
       "    .dataframe tbody tr th {\n",
       "        vertical-align: top;\n",
       "    }\n",
       "\n",
       "    .dataframe thead th {\n",
       "        text-align: right;\n",
       "    }\n",
       "</style>\n",
       "<table border=\"1\" class=\"dataframe\">\n",
       "  <thead>\n",
       "    <tr style=\"text-align: right;\">\n",
       "      <th></th>\n",
       "      <th>sequence_id</th>\n",
       "      <th>reactivity_0001</th>\n",
       "      <th>reactivity_0002</th>\n",
       "      <th>reactivity_0003</th>\n",
       "      <th>reactivity_0004</th>\n",
       "      <th>reactivity_0005</th>\n",
       "      <th>reactivity_0006</th>\n",
       "      <th>reactivity_0007</th>\n",
       "      <th>reactivity_0008</th>\n",
       "      <th>reactivity_0009</th>\n",
       "      <th>...</th>\n",
       "      <th>reactivity_0197</th>\n",
       "      <th>reactivity_0198</th>\n",
       "      <th>reactivity_0199</th>\n",
       "      <th>reactivity_0200</th>\n",
       "      <th>reactivity_0201</th>\n",
       "      <th>reactivity_0202</th>\n",
       "      <th>reactivity_0203</th>\n",
       "      <th>reactivity_0204</th>\n",
       "      <th>reactivity_0205</th>\n",
       "      <th>reactivity_0206</th>\n",
       "    </tr>\n",
       "  </thead>\n",
       "  <tbody>\n",
       "    <tr>\n",
       "      <th>0</th>\n",
       "      <td>8cdfeef009ea</td>\n",
       "      <td>0.0</td>\n",
       "      <td>0.0</td>\n",
       "      <td>0.0</td>\n",
       "      <td>0.0</td>\n",
       "      <td>0.0</td>\n",
       "      <td>0.0</td>\n",
       "      <td>0.0</td>\n",
       "      <td>0.0</td>\n",
       "      <td>0.0</td>\n",
       "      <td>...</td>\n",
       "      <td>0.0</td>\n",
       "      <td>0.0</td>\n",
       "      <td>0.0</td>\n",
       "      <td>0.0</td>\n",
       "      <td>0.0</td>\n",
       "      <td>0.0</td>\n",
       "      <td>0.0</td>\n",
       "      <td>0.0</td>\n",
       "      <td>0.0</td>\n",
       "      <td>0.0</td>\n",
       "    </tr>\n",
       "    <tr>\n",
       "      <th>1</th>\n",
       "      <td>51e61fbde94d</td>\n",
       "      <td>0.0</td>\n",
       "      <td>0.0</td>\n",
       "      <td>0.0</td>\n",
       "      <td>0.0</td>\n",
       "      <td>0.0</td>\n",
       "      <td>0.0</td>\n",
       "      <td>0.0</td>\n",
       "      <td>0.0</td>\n",
       "      <td>0.0</td>\n",
       "      <td>...</td>\n",
       "      <td>0.0</td>\n",
       "      <td>0.0</td>\n",
       "      <td>0.0</td>\n",
       "      <td>0.0</td>\n",
       "      <td>0.0</td>\n",
       "      <td>0.0</td>\n",
       "      <td>0.0</td>\n",
       "      <td>0.0</td>\n",
       "      <td>0.0</td>\n",
       "      <td>0.0</td>\n",
       "    </tr>\n",
       "    <tr>\n",
       "      <th>2</th>\n",
       "      <td>25ce8d5109cd</td>\n",
       "      <td>0.0</td>\n",
       "      <td>0.0</td>\n",
       "      <td>0.0</td>\n",
       "      <td>0.0</td>\n",
       "      <td>0.0</td>\n",
       "      <td>0.0</td>\n",
       "      <td>0.0</td>\n",
       "      <td>0.0</td>\n",
       "      <td>0.0</td>\n",
       "      <td>...</td>\n",
       "      <td>0.0</td>\n",
       "      <td>0.0</td>\n",
       "      <td>0.0</td>\n",
       "      <td>0.0</td>\n",
       "      <td>0.0</td>\n",
       "      <td>0.0</td>\n",
       "      <td>0.0</td>\n",
       "      <td>0.0</td>\n",
       "      <td>0.0</td>\n",
       "      <td>0.0</td>\n",
       "    </tr>\n",
       "    <tr>\n",
       "      <th>3</th>\n",
       "      <td>07dcfb6d1965</td>\n",
       "      <td>0.0</td>\n",
       "      <td>0.0</td>\n",
       "      <td>0.0</td>\n",
       "      <td>0.0</td>\n",
       "      <td>0.0</td>\n",
       "      <td>0.0</td>\n",
       "      <td>0.0</td>\n",
       "      <td>0.0</td>\n",
       "      <td>0.0</td>\n",
       "      <td>...</td>\n",
       "      <td>0.0</td>\n",
       "      <td>0.0</td>\n",
       "      <td>0.0</td>\n",
       "      <td>0.0</td>\n",
       "      <td>0.0</td>\n",
       "      <td>0.0</td>\n",
       "      <td>0.0</td>\n",
       "      <td>0.0</td>\n",
       "      <td>0.0</td>\n",
       "      <td>0.0</td>\n",
       "    </tr>\n",
       "    <tr>\n",
       "      <th>4</th>\n",
       "      <td>e561cc042a4c</td>\n",
       "      <td>0.0</td>\n",
       "      <td>0.0</td>\n",
       "      <td>0.0</td>\n",
       "      <td>0.0</td>\n",
       "      <td>0.0</td>\n",
       "      <td>0.0</td>\n",
       "      <td>0.0</td>\n",
       "      <td>0.0</td>\n",
       "      <td>0.0</td>\n",
       "      <td>...</td>\n",
       "      <td>0.0</td>\n",
       "      <td>0.0</td>\n",
       "      <td>0.0</td>\n",
       "      <td>0.0</td>\n",
       "      <td>0.0</td>\n",
       "      <td>0.0</td>\n",
       "      <td>0.0</td>\n",
       "      <td>0.0</td>\n",
       "      <td>0.0</td>\n",
       "      <td>0.0</td>\n",
       "    </tr>\n",
       "  </tbody>\n",
       "</table>\n",
       "<p>5 rows × 207 columns</p>\n",
       "</div>"
      ],
      "text/plain": [
       "    sequence_id  reactivity_0001  reactivity_0002  reactivity_0003  \\\n",
       "0  8cdfeef009ea              0.0              0.0              0.0   \n",
       "1  51e61fbde94d              0.0              0.0              0.0   \n",
       "2  25ce8d5109cd              0.0              0.0              0.0   \n",
       "3  07dcfb6d1965              0.0              0.0              0.0   \n",
       "4  e561cc042a4c              0.0              0.0              0.0   \n",
       "\n",
       "   reactivity_0004  reactivity_0005  reactivity_0006  reactivity_0007  \\\n",
       "0              0.0              0.0              0.0              0.0   \n",
       "1              0.0              0.0              0.0              0.0   \n",
       "2              0.0              0.0              0.0              0.0   \n",
       "3              0.0              0.0              0.0              0.0   \n",
       "4              0.0              0.0              0.0              0.0   \n",
       "\n",
       "   reactivity_0008  reactivity_0009  ...  reactivity_0197  reactivity_0198  \\\n",
       "0              0.0              0.0  ...              0.0              0.0   \n",
       "1              0.0              0.0  ...              0.0              0.0   \n",
       "2              0.0              0.0  ...              0.0              0.0   \n",
       "3              0.0              0.0  ...              0.0              0.0   \n",
       "4              0.0              0.0  ...              0.0              0.0   \n",
       "\n",
       "   reactivity_0199  reactivity_0200  reactivity_0201  reactivity_0202  \\\n",
       "0              0.0              0.0              0.0              0.0   \n",
       "1              0.0              0.0              0.0              0.0   \n",
       "2              0.0              0.0              0.0              0.0   \n",
       "3              0.0              0.0              0.0              0.0   \n",
       "4              0.0              0.0              0.0              0.0   \n",
       "\n",
       "   reactivity_0203  reactivity_0204  reactivity_0205  reactivity_0206  \n",
       "0              0.0              0.0              0.0              0.0  \n",
       "1              0.0              0.0              0.0              0.0  \n",
       "2              0.0              0.0              0.0              0.0  \n",
       "3              0.0              0.0              0.0              0.0  \n",
       "4              0.0              0.0              0.0              0.0  \n",
       "\n",
       "[5 rows x 207 columns]"
      ]
     },
     "execution_count": 72,
     "metadata": {},
     "output_type": "execute_result"
    }
   ],
   "source": [
    "react_df.head()"
   ]
  },
  {
   "cell_type": "code",
   "execution_count": 93,
   "id": "0110b249-b574-4800-b8e6-7cebbcdbb235",
   "metadata": {
    "tags": []
   },
   "outputs": [],
   "source": [
    "# react_df.iloc[0].tolist()"
   ]
  },
  {
   "cell_type": "code",
   "execution_count": 81,
   "id": "81409b75-07bf-4a9b-9042-a1850236b0e2",
   "metadata": {
    "tags": []
   },
   "outputs": [
    {
     "data": {
      "text/html": [
       "<div>\n",
       "<style scoped>\n",
       "    .dataframe tbody tr th:only-of-type {\n",
       "        vertical-align: middle;\n",
       "    }\n",
       "\n",
       "    .dataframe tbody tr th {\n",
       "        vertical-align: top;\n",
       "    }\n",
       "\n",
       "    .dataframe thead th {\n",
       "        text-align: right;\n",
       "    }\n",
       "</style>\n",
       "<table border=\"1\" class=\"dataframe\">\n",
       "  <thead>\n",
       "    <tr style=\"text-align: right;\">\n",
       "      <th></th>\n",
       "      <th>sequence_id</th>\n",
       "      <th>sequence</th>\n",
       "      <th>experiment_type</th>\n",
       "      <th>dataset_name</th>\n",
       "      <th>reads</th>\n",
       "      <th>signal_to_noise</th>\n",
       "      <th>SN_filter</th>\n",
       "      <th>reactivity_0001</th>\n",
       "      <th>reactivity_0002</th>\n",
       "      <th>reactivity_0003</th>\n",
       "      <th>...</th>\n",
       "      <th>reactivity_error_0197</th>\n",
       "      <th>reactivity_error_0198</th>\n",
       "      <th>reactivity_error_0199</th>\n",
       "      <th>reactivity_error_0200</th>\n",
       "      <th>reactivity_error_0201</th>\n",
       "      <th>reactivity_error_0202</th>\n",
       "      <th>reactivity_error_0203</th>\n",
       "      <th>reactivity_error_0204</th>\n",
       "      <th>reactivity_error_0205</th>\n",
       "      <th>reactivity_error_0206</th>\n",
       "    </tr>\n",
       "  </thead>\n",
       "  <tbody>\n",
       "    <tr>\n",
       "      <th>1599823</th>\n",
       "      <td>000d960a19ca</td>\n",
       "      <td>GGGAACGACUCGAGUAGAGUCGAAAAUAAAAGCCAUGCACCACCAA...</td>\n",
       "      <td>2A3_MaP</td>\n",
       "      <td>PK50_AltChemMap_NovaSeq_2A3</td>\n",
       "      <td>53462</td>\n",
       "      <td>17.650</td>\n",
       "      <td>1</td>\n",
       "      <td>NaN</td>\n",
       "      <td>NaN</td>\n",
       "      <td>NaN</td>\n",
       "      <td>...</td>\n",
       "      <td>NaN</td>\n",
       "      <td>NaN</td>\n",
       "      <td>NaN</td>\n",
       "      <td>NaN</td>\n",
       "      <td>NaN</td>\n",
       "      <td>NaN</td>\n",
       "      <td>NaN</td>\n",
       "      <td>NaN</td>\n",
       "      <td>NaN</td>\n",
       "      <td>NaN</td>\n",
       "    </tr>\n",
       "    <tr>\n",
       "      <th>1602552</th>\n",
       "      <td>000d960a19ca</td>\n",
       "      <td>GGGAACGACUCGAGUAGAGUCGAAAAUAAAAGCCAUGCACCACCAA...</td>\n",
       "      <td>DMS_MaP</td>\n",
       "      <td>PK50_AltChemMap_NovaSeq_DMS</td>\n",
       "      <td>61071</td>\n",
       "      <td>22.555</td>\n",
       "      <td>1</td>\n",
       "      <td>NaN</td>\n",
       "      <td>NaN</td>\n",
       "      <td>NaN</td>\n",
       "      <td>...</td>\n",
       "      <td>NaN</td>\n",
       "      <td>NaN</td>\n",
       "      <td>NaN</td>\n",
       "      <td>NaN</td>\n",
       "      <td>NaN</td>\n",
       "      <td>NaN</td>\n",
       "      <td>NaN</td>\n",
       "      <td>NaN</td>\n",
       "      <td>NaN</td>\n",
       "      <td>NaN</td>\n",
       "    </tr>\n",
       "    <tr>\n",
       "      <th>1605281</th>\n",
       "      <td>000d960a19ca</td>\n",
       "      <td>GGGAACGACUCGAGUAGAGUCGAAAAUAAAAGCCAUGCACCACCAA...</td>\n",
       "      <td>2A3_MaP</td>\n",
       "      <td>PK50_CustomArray_2A3</td>\n",
       "      <td>11065</td>\n",
       "      <td>5.974</td>\n",
       "      <td>1</td>\n",
       "      <td>NaN</td>\n",
       "      <td>NaN</td>\n",
       "      <td>NaN</td>\n",
       "      <td>...</td>\n",
       "      <td>NaN</td>\n",
       "      <td>NaN</td>\n",
       "      <td>NaN</td>\n",
       "      <td>NaN</td>\n",
       "      <td>NaN</td>\n",
       "      <td>NaN</td>\n",
       "      <td>NaN</td>\n",
       "      <td>NaN</td>\n",
       "      <td>NaN</td>\n",
       "      <td>NaN</td>\n",
       "    </tr>\n",
       "    <tr>\n",
       "      <th>1608010</th>\n",
       "      <td>000d960a19ca</td>\n",
       "      <td>GGGAACGACUCGAGUAGAGUCGAAAAUAAAAGCCAUGCACCACCAA...</td>\n",
       "      <td>DMS_MaP</td>\n",
       "      <td>PK50_CustomArray_DMS</td>\n",
       "      <td>15543</td>\n",
       "      <td>6.575</td>\n",
       "      <td>1</td>\n",
       "      <td>NaN</td>\n",
       "      <td>NaN</td>\n",
       "      <td>NaN</td>\n",
       "      <td>...</td>\n",
       "      <td>NaN</td>\n",
       "      <td>NaN</td>\n",
       "      <td>NaN</td>\n",
       "      <td>NaN</td>\n",
       "      <td>NaN</td>\n",
       "      <td>NaN</td>\n",
       "      <td>NaN</td>\n",
       "      <td>NaN</td>\n",
       "      <td>NaN</td>\n",
       "      <td>NaN</td>\n",
       "    </tr>\n",
       "    <tr>\n",
       "      <th>1610739</th>\n",
       "      <td>000d960a19ca</td>\n",
       "      <td>GGGAACGACUCGAGUAGAGUCGAAAAUAAAAGCCAUGCACCACCAA...</td>\n",
       "      <td>2A3_MaP</td>\n",
       "      <td>PK50_Twist_2A3</td>\n",
       "      <td>10994</td>\n",
       "      <td>7.678</td>\n",
       "      <td>1</td>\n",
       "      <td>NaN</td>\n",
       "      <td>NaN</td>\n",
       "      <td>NaN</td>\n",
       "      <td>...</td>\n",
       "      <td>NaN</td>\n",
       "      <td>NaN</td>\n",
       "      <td>NaN</td>\n",
       "      <td>NaN</td>\n",
       "      <td>NaN</td>\n",
       "      <td>NaN</td>\n",
       "      <td>NaN</td>\n",
       "      <td>NaN</td>\n",
       "      <td>NaN</td>\n",
       "      <td>NaN</td>\n",
       "    </tr>\n",
       "    <tr>\n",
       "      <th>1613468</th>\n",
       "      <td>000d960a19ca</td>\n",
       "      <td>GGGAACGACUCGAGUAGAGUCGAAAAUAAAAGCCAUGCACCACCAA...</td>\n",
       "      <td>DMS_MaP</td>\n",
       "      <td>PK50_Twist_DMS</td>\n",
       "      <td>11210</td>\n",
       "      <td>7.567</td>\n",
       "      <td>1</td>\n",
       "      <td>NaN</td>\n",
       "      <td>NaN</td>\n",
       "      <td>NaN</td>\n",
       "      <td>...</td>\n",
       "      <td>NaN</td>\n",
       "      <td>NaN</td>\n",
       "      <td>NaN</td>\n",
       "      <td>NaN</td>\n",
       "      <td>NaN</td>\n",
       "      <td>NaN</td>\n",
       "      <td>NaN</td>\n",
       "      <td>NaN</td>\n",
       "      <td>NaN</td>\n",
       "      <td>NaN</td>\n",
       "    </tr>\n",
       "    <tr>\n",
       "      <th>1616197</th>\n",
       "      <td>000d960a19ca</td>\n",
       "      <td>GGGAACGACUCGAGUAGAGUCGAAAAUAAAAGCCAUGCACCACCAA...</td>\n",
       "      <td>2A3_MaP</td>\n",
       "      <td>PK50_Twist_epPCR_2A3</td>\n",
       "      <td>14291</td>\n",
       "      <td>8.453</td>\n",
       "      <td>1</td>\n",
       "      <td>NaN</td>\n",
       "      <td>NaN</td>\n",
       "      <td>NaN</td>\n",
       "      <td>...</td>\n",
       "      <td>NaN</td>\n",
       "      <td>NaN</td>\n",
       "      <td>NaN</td>\n",
       "      <td>NaN</td>\n",
       "      <td>NaN</td>\n",
       "      <td>NaN</td>\n",
       "      <td>NaN</td>\n",
       "      <td>NaN</td>\n",
       "      <td>NaN</td>\n",
       "      <td>NaN</td>\n",
       "    </tr>\n",
       "    <tr>\n",
       "      <th>1618926</th>\n",
       "      <td>000d960a19ca</td>\n",
       "      <td>GGGAACGACUCGAGUAGAGUCGAAAAUAAAAGCCAUGCACCACCAA...</td>\n",
       "      <td>DMS_MaP</td>\n",
       "      <td>PK50_Twist_epPCR_DMS</td>\n",
       "      <td>15387</td>\n",
       "      <td>7.066</td>\n",
       "      <td>1</td>\n",
       "      <td>NaN</td>\n",
       "      <td>NaN</td>\n",
       "      <td>NaN</td>\n",
       "      <td>...</td>\n",
       "      <td>NaN</td>\n",
       "      <td>NaN</td>\n",
       "      <td>NaN</td>\n",
       "      <td>NaN</td>\n",
       "      <td>NaN</td>\n",
       "      <td>NaN</td>\n",
       "      <td>NaN</td>\n",
       "      <td>NaN</td>\n",
       "      <td>NaN</td>\n",
       "      <td>NaN</td>\n",
       "    </tr>\n",
       "    <tr>\n",
       "      <th>1621655</th>\n",
       "      <td>000d960a19ca</td>\n",
       "      <td>GGGAACGACUCGAGUAGAGUCGAAAAUAAAAGCCAUGCACCACCAA...</td>\n",
       "      <td>2A3_MaP</td>\n",
       "      <td>PK50_Wu_Twist_2A3</td>\n",
       "      <td>35402</td>\n",
       "      <td>13.128</td>\n",
       "      <td>1</td>\n",
       "      <td>NaN</td>\n",
       "      <td>NaN</td>\n",
       "      <td>NaN</td>\n",
       "      <td>...</td>\n",
       "      <td>NaN</td>\n",
       "      <td>NaN</td>\n",
       "      <td>NaN</td>\n",
       "      <td>NaN</td>\n",
       "      <td>NaN</td>\n",
       "      <td>NaN</td>\n",
       "      <td>NaN</td>\n",
       "      <td>NaN</td>\n",
       "      <td>NaN</td>\n",
       "      <td>NaN</td>\n",
       "    </tr>\n",
       "    <tr>\n",
       "      <th>1624384</th>\n",
       "      <td>000d960a19ca</td>\n",
       "      <td>GGGAACGACUCGAGUAGAGUCGAAAAUAAAAGCCAUGCACCACCAA...</td>\n",
       "      <td>DMS_MaP</td>\n",
       "      <td>PK50_Wu_Twist_DMS</td>\n",
       "      <td>23915</td>\n",
       "      <td>11.296</td>\n",
       "      <td>1</td>\n",
       "      <td>NaN</td>\n",
       "      <td>NaN</td>\n",
       "      <td>NaN</td>\n",
       "      <td>...</td>\n",
       "      <td>NaN</td>\n",
       "      <td>NaN</td>\n",
       "      <td>NaN</td>\n",
       "      <td>NaN</td>\n",
       "      <td>NaN</td>\n",
       "      <td>NaN</td>\n",
       "      <td>NaN</td>\n",
       "      <td>NaN</td>\n",
       "      <td>NaN</td>\n",
       "      <td>NaN</td>\n",
       "    </tr>\n",
       "  </tbody>\n",
       "</table>\n",
       "<p>10 rows × 419 columns</p>\n",
       "</div>"
      ],
      "text/plain": [
       "          sequence_id                                           sequence  \\\n",
       "1599823  000d960a19ca  GGGAACGACUCGAGUAGAGUCGAAAAUAAAAGCCAUGCACCACCAA...   \n",
       "1602552  000d960a19ca  GGGAACGACUCGAGUAGAGUCGAAAAUAAAAGCCAUGCACCACCAA...   \n",
       "1605281  000d960a19ca  GGGAACGACUCGAGUAGAGUCGAAAAUAAAAGCCAUGCACCACCAA...   \n",
       "1608010  000d960a19ca  GGGAACGACUCGAGUAGAGUCGAAAAUAAAAGCCAUGCACCACCAA...   \n",
       "1610739  000d960a19ca  GGGAACGACUCGAGUAGAGUCGAAAAUAAAAGCCAUGCACCACCAA...   \n",
       "1613468  000d960a19ca  GGGAACGACUCGAGUAGAGUCGAAAAUAAAAGCCAUGCACCACCAA...   \n",
       "1616197  000d960a19ca  GGGAACGACUCGAGUAGAGUCGAAAAUAAAAGCCAUGCACCACCAA...   \n",
       "1618926  000d960a19ca  GGGAACGACUCGAGUAGAGUCGAAAAUAAAAGCCAUGCACCACCAA...   \n",
       "1621655  000d960a19ca  GGGAACGACUCGAGUAGAGUCGAAAAUAAAAGCCAUGCACCACCAA...   \n",
       "1624384  000d960a19ca  GGGAACGACUCGAGUAGAGUCGAAAAUAAAAGCCAUGCACCACCAA...   \n",
       "\n",
       "        experiment_type                 dataset_name  reads  signal_to_noise  \\\n",
       "1599823         2A3_MaP  PK50_AltChemMap_NovaSeq_2A3  53462           17.650   \n",
       "1602552         DMS_MaP  PK50_AltChemMap_NovaSeq_DMS  61071           22.555   \n",
       "1605281         2A3_MaP         PK50_CustomArray_2A3  11065            5.974   \n",
       "1608010         DMS_MaP         PK50_CustomArray_DMS  15543            6.575   \n",
       "1610739         2A3_MaP               PK50_Twist_2A3  10994            7.678   \n",
       "1613468         DMS_MaP               PK50_Twist_DMS  11210            7.567   \n",
       "1616197         2A3_MaP         PK50_Twist_epPCR_2A3  14291            8.453   \n",
       "1618926         DMS_MaP         PK50_Twist_epPCR_DMS  15387            7.066   \n",
       "1621655         2A3_MaP            PK50_Wu_Twist_2A3  35402           13.128   \n",
       "1624384         DMS_MaP            PK50_Wu_Twist_DMS  23915           11.296   \n",
       "\n",
       "         SN_filter  reactivity_0001  reactivity_0002  reactivity_0003  ...  \\\n",
       "1599823          1              NaN              NaN              NaN  ...   \n",
       "1602552          1              NaN              NaN              NaN  ...   \n",
       "1605281          1              NaN              NaN              NaN  ...   \n",
       "1608010          1              NaN              NaN              NaN  ...   \n",
       "1610739          1              NaN              NaN              NaN  ...   \n",
       "1613468          1              NaN              NaN              NaN  ...   \n",
       "1616197          1              NaN              NaN              NaN  ...   \n",
       "1618926          1              NaN              NaN              NaN  ...   \n",
       "1621655          1              NaN              NaN              NaN  ...   \n",
       "1624384          1              NaN              NaN              NaN  ...   \n",
       "\n",
       "         reactivity_error_0197  reactivity_error_0198  reactivity_error_0199  \\\n",
       "1599823                    NaN                    NaN                    NaN   \n",
       "1602552                    NaN                    NaN                    NaN   \n",
       "1605281                    NaN                    NaN                    NaN   \n",
       "1608010                    NaN                    NaN                    NaN   \n",
       "1610739                    NaN                    NaN                    NaN   \n",
       "1613468                    NaN                    NaN                    NaN   \n",
       "1616197                    NaN                    NaN                    NaN   \n",
       "1618926                    NaN                    NaN                    NaN   \n",
       "1621655                    NaN                    NaN                    NaN   \n",
       "1624384                    NaN                    NaN                    NaN   \n",
       "\n",
       "         reactivity_error_0200  reactivity_error_0201  reactivity_error_0202  \\\n",
       "1599823                    NaN                    NaN                    NaN   \n",
       "1602552                    NaN                    NaN                    NaN   \n",
       "1605281                    NaN                    NaN                    NaN   \n",
       "1608010                    NaN                    NaN                    NaN   \n",
       "1610739                    NaN                    NaN                    NaN   \n",
       "1613468                    NaN                    NaN                    NaN   \n",
       "1616197                    NaN                    NaN                    NaN   \n",
       "1618926                    NaN                    NaN                    NaN   \n",
       "1621655                    NaN                    NaN                    NaN   \n",
       "1624384                    NaN                    NaN                    NaN   \n",
       "\n",
       "         reactivity_error_0203  reactivity_error_0204  reactivity_error_0205  \\\n",
       "1599823                    NaN                    NaN                    NaN   \n",
       "1602552                    NaN                    NaN                    NaN   \n",
       "1605281                    NaN                    NaN                    NaN   \n",
       "1608010                    NaN                    NaN                    NaN   \n",
       "1610739                    NaN                    NaN                    NaN   \n",
       "1613468                    NaN                    NaN                    NaN   \n",
       "1616197                    NaN                    NaN                    NaN   \n",
       "1618926                    NaN                    NaN                    NaN   \n",
       "1621655                    NaN                    NaN                    NaN   \n",
       "1624384                    NaN                    NaN                    NaN   \n",
       "\n",
       "         reactivity_error_0206  \n",
       "1599823                    NaN  \n",
       "1602552                    NaN  \n",
       "1605281                    NaN  \n",
       "1608010                    NaN  \n",
       "1610739                    NaN  \n",
       "1613468                    NaN  \n",
       "1616197                    NaN  \n",
       "1618926                    NaN  \n",
       "1621655                    NaN  \n",
       "1624384                    NaN  \n",
       "\n",
       "[10 rows x 419 columns]"
      ]
     },
     "execution_count": 81,
     "metadata": {},
     "output_type": "execute_result"
    }
   ],
   "source": [
    "train_df[train_df['sequence_id'] == '000d960a19ca']"
   ]
  },
  {
   "cell_type": "code",
   "execution_count": 80,
   "id": "e70b3a93-b653-490c-89ba-99794274e14c",
   "metadata": {
    "tags": []
   },
   "outputs": [],
   "source": [
    "# train_df.goupby(['sequence_id']).count()"
   ]
  },
  {
   "cell_type": "code",
   "execution_count": null,
   "id": "4f635f0c-2fde-443d-b1ab-be0ab0b5ce1d",
   "metadata": {},
   "outputs": [],
   "source": []
  }
 ],
 "metadata": {
  "kernelspec": {
   "display_name": "Python 3 (ipykernel)",
   "language": "python",
   "name": "python3"
  },
  "language_info": {
   "codemirror_mode": {
    "name": "ipython",
    "version": 3
   },
   "file_extension": ".py",
   "mimetype": "text/x-python",
   "name": "python",
   "nbconvert_exporter": "python",
   "pygments_lexer": "ipython3",
   "version": "3.10.13"
  }
 },
 "nbformat": 4,
 "nbformat_minor": 5
}
