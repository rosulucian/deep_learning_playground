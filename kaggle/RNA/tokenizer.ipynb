{
 "cells": [
  {
   "cell_type": "code",
   "execution_count": 48,
   "id": "424d7a1c-fcb5-4310-bd2a-2f42c4d5c2ff",
   "metadata": {
    "tags": []
   },
   "outputs": [
    {
     "name": "stdout",
     "output_type": "stream",
     "text": [
      "Pretty printing has been turned OFF\n"
     ]
    }
   ],
   "source": [
    "%pprint"
   ]
  },
  {
   "cell_type": "code",
   "execution_count": 1,
   "id": "9082105d-1d6c-4aaf-849e-b5622d1fd109",
   "metadata": {},
   "outputs": [],
   "source": [
    "from tokenizers import (\n",
    "    decoders,\n",
    "    models,\n",
    "    normalizers,\n",
    "    pre_tokenizers,\n",
    "    processors,\n",
    "    trainers,\n",
    "    Tokenizer,\n",
    ")"
   ]
  },
  {
   "cell_type": "code",
   "execution_count": 60,
   "id": "e281339f-54a2-4d19-b24f-ad676b86d086",
   "metadata": {},
   "outputs": [],
   "source": [
    "import numpy as np\n",
    "import pandas as pd\n",
    "import random\n",
    "import math\n",
    "import torch as torch\n"
   ]
  },
  {
   "cell_type": "code",
   "execution_count": 3,
   "id": "98b43a95-bee9-4fe4-bd1e-6bacdb6d51e8",
   "metadata": {
    "tags": []
   },
   "outputs": [],
   "source": [
    "sequence_file = 'train_sequences.parquet'"
   ]
  },
  {
   "cell_type": "code",
   "execution_count": 4,
   "id": "40b9212c-2e37-4868-9f71-66c7a1a3091f",
   "metadata": {},
   "outputs": [],
   "source": [
    "sequences_df = pd.read_parquet(sequence_file)"
   ]
  },
  {
   "cell_type": "code",
   "execution_count": 5,
   "id": "506a7ba1-fe56-4d30-83e6-2bce10031acf",
   "metadata": {},
   "outputs": [
    {
     "data": {
      "text/plain": [
       "(806573, 2)"
      ]
     },
     "execution_count": 5,
     "metadata": {},
     "output_type": "execute_result"
    }
   ],
   "source": [
    "sequences_df.shape"
   ]
  },
  {
   "cell_type": "code",
   "execution_count": 6,
   "id": "087d1953-0d4b-491f-8fa4-6a9fd2223962",
   "metadata": {},
   "outputs": [
    {
     "data": {
      "text/html": [
       "<div>\n",
       "<style scoped>\n",
       "    .dataframe tbody tr th:only-of-type {\n",
       "        vertical-align: middle;\n",
       "    }\n",
       "\n",
       "    .dataframe tbody tr th {\n",
       "        vertical-align: top;\n",
       "    }\n",
       "\n",
       "    .dataframe thead th {\n",
       "        text-align: right;\n",
       "    }\n",
       "</style>\n",
       "<table border=\"1\" class=\"dataframe\">\n",
       "  <thead>\n",
       "    <tr style=\"text-align: right;\">\n",
       "      <th></th>\n",
       "      <th>sequence_id</th>\n",
       "      <th>sequence</th>\n",
       "    </tr>\n",
       "  </thead>\n",
       "  <tbody>\n",
       "    <tr>\n",
       "      <th>0</th>\n",
       "      <td>8cdfeef009ea</td>\n",
       "      <td>GGGAACGACUCGAGUAGAGUCGAAAAACGUUGAUAUGGAUUUACUC...</td>\n",
       "    </tr>\n",
       "    <tr>\n",
       "      <th>1</th>\n",
       "      <td>51e61fbde94d</td>\n",
       "      <td>GGGAACGACUCGAGUAGAGUCGAAAAACAUUGAUAUGGAUUUACUC...</td>\n",
       "    </tr>\n",
       "  </tbody>\n",
       "</table>\n",
       "</div>"
      ],
      "text/plain": [
       "    sequence_id                                           sequence\n",
       "0  8cdfeef009ea  GGGAACGACUCGAGUAGAGUCGAAAAACGUUGAUAUGGAUUUACUC...\n",
       "1  51e61fbde94d  GGGAACGACUCGAGUAGAGUCGAAAAACAUUGAUAUGGAUUUACUC..."
      ]
     },
     "execution_count": 6,
     "metadata": {},
     "output_type": "execute_result"
    }
   ],
   "source": [
    "sequences_df.head(2)"
   ]
  },
  {
   "cell_type": "code",
   "execution_count": 7,
   "id": "63488f54-de4a-4665-a7d4-7c8af7e5105e",
   "metadata": {
    "tags": []
   },
   "outputs": [],
   "source": [
    "# sequences_df.sample(10)['sequence'].tolist()"
   ]
  },
  {
   "cell_type": "markdown",
   "id": "ea5b3683-8836-47f2-896c-f665e308131c",
   "metadata": {},
   "source": [
    "### BPE tokenizer"
   ]
  },
  {
   "cell_type": "code",
   "execution_count": 181,
   "id": "63365d45-5eba-4a13-888a-a3c753c4e202",
   "metadata": {},
   "outputs": [],
   "source": [
    "tokenizer = Tokenizer(models.BPE())"
   ]
  },
  {
   "cell_type": "code",
   "execution_count": 182,
   "id": "6529d16b-cd5c-415e-9184-8c4e37a9c820",
   "metadata": {},
   "outputs": [],
   "source": [
    "tokenizer.pre_tokenizer = pre_tokenizers.ByteLevel(add_prefix_space=False)"
   ]
  },
  {
   "cell_type": "code",
   "execution_count": 183,
   "id": "774c14a7-ce76-44d3-9d00-4ca8189d674a",
   "metadata": {
    "tags": []
   },
   "outputs": [],
   "source": [
    "def get_training_corpus():\n",
    "    for i in range(100):\n",
    "        yield sequences_df.sample(1000)['sequence'].tolist()"
   ]
  },
  {
   "cell_type": "code",
   "execution_count": 184,
   "id": "b9a40a46-1cd8-4c7b-b719-ad1479b99e65",
   "metadata": {
    "tags": []
   },
   "outputs": [],
   "source": [
    "# next(iter(get_training_corpus))"
   ]
  },
  {
   "cell_type": "code",
   "execution_count": 185,
   "id": "4afc020f-c3bc-4a24-b564-334f87fdbebe",
   "metadata": {
    "tags": []
   },
   "outputs": [],
   "source": [
    "special_tokens = [\"[PAD]\", \"[CLS]\", \"[SEP]\", \"[MASK]\"]"
   ]
  },
  {
   "cell_type": "code",
   "execution_count": 186,
   "id": "cb0ec993-9adb-4261-aea3-6995f27d5328",
   "metadata": {},
   "outputs": [],
   "source": [
    "# trainer = trainers.BpeTrainer(vocab_size=1000, special_tokens=[\"<|endoftext|>\"])\n",
    "\n",
    "trainer = trainers.BpeTrainer(vocab_size=256, max_token_length=10, special_tokens=special_tokens, show_preogress=True)\n",
    "\n",
    "# trainer = trainers.BpeTrainer(max_token_length=10, special_tokens=special_tokens, show_preogress=True)"
   ]
  },
  {
   "cell_type": "code",
   "execution_count": 187,
   "id": "a8c131e4-7a14-4234-8f7a-c1e1c7dbf02e",
   "metadata": {
    "tags": []
   },
   "outputs": [],
   "source": [
    "tokenizer.train_from_iterator(get_training_corpus(), trainer=trainer)"
   ]
  },
  {
   "cell_type": "code",
   "execution_count": 188,
   "id": "19e57376-a747-43dc-99cc-2e368e5b6759",
   "metadata": {
    "tags": []
   },
   "outputs": [],
   "source": [
    "tokenizer.save('tokenizer.json')"
   ]
  },
  {
   "cell_type": "code",
   "execution_count": 189,
   "id": "bb3a27ec-1cd7-4f9b-a31f-b2dab9506df6",
   "metadata": {
    "tags": []
   },
   "outputs": [
    {
     "data": {
      "text/plain": [
       "[0, 1, 2, 3]"
      ]
     },
     "execution_count": 189,
     "metadata": {},
     "output_type": "execute_result"
    }
   ],
   "source": [
    "tokenizer.encode(\"[PAD][CLS][SEP][MASK]\").ids"
   ]
  },
  {
   "cell_type": "code",
   "execution_count": 190,
   "id": "1476ccc1-af79-496b-bd35-e78d95bc28d2",
   "metadata": {
    "tags": []
   },
   "outputs": [
    {
     "data": {
      "text/plain": [
       "3"
      ]
     },
     "execution_count": 190,
     "metadata": {},
     "output_type": "execute_result"
    }
   ],
   "source": [
    "tokenizer.token_to_id(\"[MASK]\")"
   ]
  },
  {
   "cell_type": "code",
   "execution_count": 191,
   "id": "425e90d7-be7b-454c-a285-045f0c1c2bdb",
   "metadata": {
    "tags": []
   },
   "outputs": [],
   "source": [
    "seq = 'GGGAACGACUCGAGUAGAGUCGAAAAUUGUGUUAACAUCGCACUCGGUAGCUAAUUUAAGUGCUCCUACGCUUGUCCCGCAGGAGAAUUAUAGUAGCAUUAGAUUUGCUAGUGUUUAUAGUGUGCUGAUAGCGAGUGACUUCGGUCACUCGCUAUCAAAAGAAACAACAACAACAAC'"
   ]
  },
  {
   "cell_type": "code",
   "execution_count": 192,
   "id": "9d0d945d-d29b-403c-9cdd-f9996f13e8b9",
   "metadata": {
    "tags": []
   },
   "outputs": [
    {
     "name": "stdout",
     "output_type": "stream",
     "text": [
      "['GGGAACGACUCGAGUAGAGUCGAAAA', 'UUG', 'UGUU', 'AA', 'CAUCG', 'CAC', 'UCGG', 'UAG', 'CUAA', 'UU', 'UAAG', 'UG', 'CUC', 'CUA', 'CG', 'CUUG', 'UC', 'CCG', 'CAGG', 'AGAA', 'UU', 'AUAG', 'UAG', 'CAUU', 'AG', 'AUU', 'UG', 'CUAG', 'UGUU', 'UAUAG', 'UGUG', 'CUG', 'AUAG', 'CGAG', 'UGAC', 'UUCGG', 'UCAC', 'UCG', 'CUA', 'UCAAAAGAAACAACAACAACAAC']\n"
     ]
    }
   ],
   "source": [
    "encoding = tokenizer.encode(seq)\n",
    "print(encoding.tokens)"
   ]
  },
  {
   "cell_type": "code",
   "execution_count": 193,
   "id": "b1c6952a-a87c-4826-b2c5-96725d53ad66",
   "metadata": {
    "tags": []
   },
   "outputs": [
    {
     "data": {
      "text/plain": [
       "40"
      ]
     },
     "execution_count": 193,
     "metadata": {},
     "output_type": "execute_result"
    }
   ],
   "source": [
    "len(encoding.tokens)"
   ]
  },
  {
   "cell_type": "code",
   "execution_count": 194,
   "id": "10e3586c-9b7c-4653-b137-8376f6d3ebdb",
   "metadata": {
    "tags": []
   },
   "outputs": [
    {
     "data": {
      "text/plain": [
       "256"
      ]
     },
     "execution_count": 194,
     "metadata": {},
     "output_type": "execute_result"
    }
   ],
   "source": [
    "tokenizer.get_vocab_size()"
   ]
  },
  {
   "cell_type": "code",
   "execution_count": 180,
   "id": "09674a0b-a689-41f2-95c3-28cc47928c5b",
   "metadata": {
    "tags": []
   },
   "outputs": [
    {
     "data": {
      "text/plain": [
       "28"
      ]
     },
     "execution_count": 180,
     "metadata": {},
     "output_type": "execute_result"
    }
   ],
   "source": [
    "len('GGGAACGACUCGAGUAGAGUCGAAAAAA')"
   ]
  },
  {
   "cell_type": "code",
   "execution_count": 195,
   "id": "164572dd-f0ba-413a-a76f-bb45e3201331",
   "metadata": {
    "tags": []
   },
   "outputs": [
    {
     "data": {
      "text/plain": [
       "{'CAAAAGAAACAACAACAACAAC': 58, 'CUUG': 109, 'AUG': 30, 'UGGUG': 202, 'UAUAC': 252, 'CGCG': 113, 'UAAAA': 90, 'UGAAG': 223, 'UUCG': 25, 'AGG': 50, 'UAUC': 148, 'AUC': 48, 'UUAC': 104, 'CCAAAAGAAACAACAACAACAAC': 175, 'UAGGG': 249, '[PAD]': 0, 'CACG': 100, '[MASK]': 3, 'CUUUU': 248, 'UGUUG': 170, 'AUGG': 72, 'CUAC': 98, 'UAUAA': 182, 'CUUCG': 155, 'CAACAA': 18, 'CUUGG': 185, 'CGUC': 232, 'GAAACAACAACAACAAC': 44, 'UUUU': 67, 'CCUUCGGG': 213, 'CAUA': 172, 'CCUG': 108, 'CCAAG': 243, 'AG': 10, 'GAAACG': 201, 'UUAG': 136, 'UCCUAAGUCAA': 199, 'GGGAACGACUCGAGUAGAGUCGAAAAAAAA': 169, 'ACGAA': 218, 'GAAG': 115, 'ACGG': 120, 'UAUU': 118, 'CGGG': 103, 'CUAA': 101, 'UUUG': 78, 'CAUC': 119, 'AGAAACAACAACAACAAC': 131, 'ACAAAAGAAACAACAACAACAAC': 196, 'CAACAACAACAAC': 39, 'CUUAA': 227, 'UCAC': 102, 'AGGAG': 206, 'UCC': 69, 'CAGCC': 229, 'AAAAGAAACAACAACAACAAC': 62, 'UGUUCG': 189, 'CUU': 47, 'UGAC': 126, 'CUCG': 77, 'CGG': 55, 'UUUUG': 220, 'UAAAAGAAACAACAACAACAAC': 132, 'UCUUCGG': 173, 'AGAA': 64, 'CAGGG': 167, 'UAGAG': 32, 'CAGCG': 217, 'GGG': 63, 'CCCC': 188, 'UGG': 26, 'CUUCGG': 89, 'AGCG': 144, 'UG': 12, 'UGGAG': 181, 'CGCC': 230, 'AGUUCG': 255, 'CA': 61, 'AAAAG': 205, 'CUGG': 83, 'CCGAA': 209, 'CGAC': 27, 'UCGGAAA': 122, 'AUGGG': 224, 'UCUG': 112, 'CUA': 66, 'CCUU': 140, 'UUGG': 84, 'UAA': 24, 'AGUG': 145, 'UUCGG': 59, 'AUAUG': 146, 'CGAG': 95, 'GGAA': 162, 'UCGGAAACGAC': 183, 'ACUUCGG': 221, 'AUGUUG': 238, 'AA': 8, 'AUUG': 99, 'CAAAA': 51, 'UUCGGG': 121, 'AGUU': 165, 'AC': 14, '[CLS]': 1, 'UCGG': 123, 'UA': 23, 'CAUUG': 187, 'AUAUGG': 87, 'CAUGG': 210, 'GGGAACGACUCGAGUAGAGUCGAAAAG': 65, 'AUAG': 105, 'CGACUCGAG': 36, 'UCGAG': 31, 'UACAA': 190, 'ACUC': 203, 'UAAGG': 235, 'CAG': 41, 'UAGG': 82, 'CAUCG': 216, 'UUGUU': 251, 'CAACAAC': 35, 'CAGAA': 191, 'UCAAAA': 139, 'UACGG': 253, 'AUUGG': 212, 'CCUC': 142, 'ACAAG': 226, 'UCAAAAGAAACAACAACAACAAC': 143, 'GG': 15, 'UUCGCC': 152, 'AUUUU': 234, 'CAGG': 92, 'AGUC': 242, 'AUCAA': 214, 'GGGAA': 33, 'CUCAA': 204, 'UUAA': 74, 'AUAC': 117, 'A': 4, 'UAG': 21, 'UGUC': 168, 'UGUGG': 246, 'CUAG': 110, 'GGGAACGACUCGAGUAGAGUCGAAAAGG': 225, 'UUG': 29, 'CAGAG': 186, 'GAA': 19, 'AUAA': 85, 'CAAG': 68, 'UCUC': 158, 'AGAAA': 128, 'ACAC': 111, 'UC': 16, '[SEP]': 2, 'CUUCGGG': 198, 'UGGG': 91, 'CUAAG': 137, 'AGCC': 149, 'ACCG': 157, 'UUUCG': 208, 'UACG': 130, 'GGGAACGACUCGAGUAGAGUCGAAAAAA': 193, 'UAAAG': 231, 'UCGAA': 241, 'UUUC': 177, 'UGUU': 70, 'GAAAA': 88, 'CCAG': 106, 'CAUU': 94, 'UAGAA': 207, 'CAC': 52, 'UGAA': 93, 'ACUG': 161, 'CAAGG': 174, 'UUAUG': 200, 'AUUAA': 215, 'CAAAG': 228, 'GGGAACGACUCGAGUAGAGUCGAAAAGAUAUGG': 124, 'UCGAAAA': 34, 'AUGAA': 153, 'AAG': 60, 'CACAA': 240, 'UAAG': 56, 'U': 7, 'CUCGG': 250, 'ACAG': 135, 'UAUA': 159, 'UU': 11, 'AUUCG': 154, 'AUU': 42, 'CCG': 49, 'C': 5, 'UCCC': 164, 'UCCG': 129, 'UUCGCG': 138, 'AUA': 54, 'AUAAAA': 211, 'UGCUG': 222, 'AUAUGGAA': 245, 'UAUAG': 239, 'CCCG': 134, 'UCAG': 96, 'UGCG': 141, 'UGCC': 151, 'CGAA': 76, 'UAUUG': 195, 'CAA': 13, 'UGUG': 71, 'UCG': 17, 'ACCC': 180, 'UGAUG': 166, 'UACAG': 237, 'UAUG': 73, 'ACAUG': 184, 'UAUGG': 219, 'AUCG': 79, 'UUCC': 150, 'ACUU': 163, 'CGUU': 171, 'AUGAG': 233, 'CUGAA': 197, 'CGUG': 178, 'UAGAGUCGAAAA': 37, 'CCAA': 107, 'UGAG': 125, 'ACAA': 81, 'CUGGG': 194, 'UAC': 43, 'AGAG': 80, 'CGUUCGCG': 247, 'G': 6, 'UCGGAAACG': 176, 'GGAG': 160, 'CUC': 53, 'CGACUCGAGUAGAGUCGAAAA': 38, 'AAAAAGAAACAACAACAACAAC': 192, 'CUUUG': 254, 'CCAC': 97, 'AAAA': 22, 'GAAAAGAAACAACAACAACAAC': 133, 'CC': 20, 'CCGGG': 236, 'UCAA': 57, 'CCUUG': 244, 'CG': 9, 'UCUU': 114, 'AGAC': 147, 'CCGG': 116, 'CUG': 46, 'AUAAG': 179, 'AGGG': 75, 'GAAA': 28, 'ACG': 45, 'GGGAACGACUCGAGUAGAGUCGAAAA': 40, 'UCAAG': 156, 'CAUG': 86, 'UCCUAAG': 127}"
      ]
     },
     "execution_count": 195,
     "metadata": {},
     "output_type": "execute_result"
    }
   ],
   "source": [
    "tokenizer.get_vocab()"
   ]
  },
  {
   "cell_type": "code",
   "execution_count": 31,
   "id": "f9be4baa-ae74-451d-a0fa-e4068485a016",
   "metadata": {
    "tags": []
   },
   "outputs": [],
   "source": [
    "# encoding.attention_mask"
   ]
  },
  {
   "cell_type": "code",
   "execution_count": 49,
   "id": "912fd2a9-f766-497c-87ab-59339afe60ca",
   "metadata": {
    "tags": []
   },
   "outputs": [
    {
     "data": {
      "text/plain": [
       "[621, 318, 219, 52, 123, 21, 100, 10, 56, 366, 280, 108, 399, 92, 64, 10, 104, 21, 94, 11, 505, 111, 70, 241, 73, 46, 104, 98, 127, 59, 102, 17, 67, 142]"
      ]
     },
     "execution_count": 49,
     "metadata": {},
     "output_type": "execute_result"
    }
   ],
   "source": [
    "encoding.ids"
   ]
  },
  {
   "cell_type": "code",
   "execution_count": 50,
   "id": "38de8fed-f5d0-477f-8bcc-97cd7a15fa56",
   "metadata": {},
   "outputs": [],
   "source": [
    "from transformers import DataCollatorForLanguageModeling"
   ]
  },
  {
   "cell_type": "code",
   "execution_count": 85,
   "id": "62f7dbab-a463-4858-a3ae-21102c8efd66",
   "metadata": {},
   "outputs": [],
   "source": [
    "tokenizer.enable_padding()\n",
    "tokenizer.mask_token = 3"
   ]
  },
  {
   "cell_type": "code",
   "execution_count": 57,
   "id": "8bae6277-7f15-462e-a641-292b02285d7b",
   "metadata": {},
   "outputs": [],
   "source": [
    "# tokenizer.pad_token"
   ]
  },
  {
   "cell_type": "code",
   "execution_count": 59,
   "id": "ef278b9b-ae78-4200-8e72-a8e60faf8038",
   "metadata": {
    "tags": []
   },
   "outputs": [],
   "source": [
    "# data_collator = DataCollatorForLanguageModeling(tokenizer=tokenizer, mlm_probability=0.15)"
   ]
  },
  {
   "cell_type": "code",
   "execution_count": 66,
   "id": "f692dd56-838a-4ede-ab17-ced75b51d2eb",
   "metadata": {
    "tags": []
   },
   "outputs": [],
   "source": [
    "mask = torch.zeros(100, dtype=torch.bool)\n",
    "mask[:len(encoding.ids)] = True"
   ]
  },
  {
   "cell_type": "code",
   "execution_count": 69,
   "id": "17862d90-3fb0-4477-aa76-fb0cf18c1cf1",
   "metadata": {
    "tags": []
   },
   "outputs": [
    {
     "data": {
      "text/plain": [
       "[621, 318, 219, 52, 123, 21, 100, 10, 56, 366, 280, 108, 399, 92, 64, 10, 104, 21, 94, 11, 505, 111, 70, 241, 73, 46, 104, 98, 127, 59, 102, 17, 67, 142]"
      ]
     },
     "execution_count": 69,
     "metadata": {},
     "output_type": "execute_result"
    }
   ],
   "source": [
    "encoding.ids"
   ]
  },
  {
   "cell_type": "code",
   "execution_count": 70,
   "id": "7956fb05-8fe8-4dd2-96de-74159268ad6e",
   "metadata": {
    "tags": []
   },
   "outputs": [
    {
     "data": {
      "text/plain": [
       "[621, 318, 219, 52, 123, 21, 100, 10, 56, 366, 280, 108, 399, 92, 64, 10, 104, 21, 94, 11, 505, 111, 70, 241, 73, 46, 104, 98, 127, 59, 102, 17, 67, 142, 0, 0, 0, 0, 0, 0, 0, 0, 0, 0, 0, 0, 0, 0, 0, 0, 0, 0, 0, 0, 0, 0, 0, 0, 0, 0, 0, 0, 0, 0, 0, 0, 0, 0, 0, 0, 0, 0, 0, 0, 0, 0, 0, 0, 0, 0, 0, 0, 0, 0, 0, 0, 0, 0, 0, 0, 0, 0, 0, 0, 0, 0, 0, 0, 0, 0]"
      ]
     },
     "execution_count": 70,
     "metadata": {},
     "output_type": "execute_result"
    }
   ],
   "source": [
    "encoding.pad(length=100)\n",
    "encoding.ids"
   ]
  },
  {
   "cell_type": "code",
   "execution_count": 71,
   "id": "fdf39fd1-e0cb-433e-a21e-ecc4ca6d4bae",
   "metadata": {
    "tags": []
   },
   "outputs": [
    {
     "data": {
      "text/plain": [
       "['GGGAACGACUCGAGUAGAGUCGAAAAUUG', 'UGUUAA', 'CAUCG', 'CAC', 'UCGG', 'UAG', 'CUAA', 'UU', 'UAAG', 'UGCUC', 'CUACG', 'CUUG', 'UCCCG', 'CAGG', 'AGAA', 'UU', 'AUAG', 'UAG', 'CAUU', 'AG', 'AUUUG', 'CUAG', 'UGUU', 'UAUAG', 'UGUG', 'CUG', 'AUAG', 'CGAG', 'UGAC', 'UUCGG', 'UCAC', 'UCG', 'CUA', 'UCAAAAGAAACAACAACAACAAC', '[PAD]', '[PAD]', '[PAD]', '[PAD]', '[PAD]', '[PAD]', '[PAD]', '[PAD]', '[PAD]', '[PAD]', '[PAD]', '[PAD]', '[PAD]', '[PAD]', '[PAD]', '[PAD]', '[PAD]', '[PAD]', '[PAD]', '[PAD]', '[PAD]', '[PAD]', '[PAD]', '[PAD]', '[PAD]', '[PAD]', '[PAD]', '[PAD]', '[PAD]', '[PAD]', '[PAD]', '[PAD]', '[PAD]', '[PAD]', '[PAD]', '[PAD]', '[PAD]', '[PAD]', '[PAD]', '[PAD]', '[PAD]', '[PAD]', '[PAD]', '[PAD]', '[PAD]', '[PAD]', '[PAD]', '[PAD]', '[PAD]', '[PAD]', '[PAD]', '[PAD]', '[PAD]', '[PAD]', '[PAD]', '[PAD]', '[PAD]', '[PAD]', '[PAD]', '[PAD]', '[PAD]', '[PAD]', '[PAD]', '[PAD]', '[PAD]', '[PAD]']"
      ]
     },
     "execution_count": 71,
     "metadata": {},
     "output_type": "execute_result"
    }
   ],
   "source": [
    "encoding.tokens"
   ]
  },
  {
   "cell_type": "code",
   "execution_count": 67,
   "id": "9ade22a2-925c-47bd-a85a-c376e0388e26",
   "metadata": {
    "tags": []
   },
   "outputs": [
    {
     "data": {
      "text/plain": [
       "tensor([ True,  True,  True,  True,  True,  True,  True,  True,  True,  True,\n",
       "         True,  True,  True,  True,  True,  True,  True,  True,  True,  True,\n",
       "         True,  True,  True,  True,  True,  True,  True,  True,  True,  True,\n",
       "         True,  True,  True,  True, False, False, False, False, False, False,\n",
       "        False, False, False, False, False, False, False, False, False, False,\n",
       "        False, False, False, False, False, False, False, False, False, False,\n",
       "        False, False, False, False, False, False, False, False, False, False,\n",
       "        False, False, False, False, False, False, False, False, False, False,\n",
       "        False, False, False, False, False, False, False, False, False, False,\n",
       "        False, False, False, False, False, False, False, False, False, False])"
      ]
     },
     "execution_count": 67,
     "metadata": {},
     "output_type": "execute_result"
    }
   ],
   "source": [
    "mask"
   ]
  },
  {
   "cell_type": "code",
   "execution_count": 74,
   "id": "233ab7b5-32d8-4662-83b6-36e49f93c1f7",
   "metadata": {
    "tags": []
   },
   "outputs": [],
   "source": [
    "rand = torch.rand(mask.sum())\n",
    "mask_arr = rand < 0.15"
   ]
  },
  {
   "cell_type": "code",
   "execution_count": 75,
   "id": "29e2cf3b-60a1-4ddf-965c-85ea572a0e3c",
   "metadata": {
    "tags": []
   },
   "outputs": [
    {
     "data": {
      "text/plain": [
       "(tensor([0.1014, 0.1817, 0.6547, 0.0950, 0.5827, 0.3525, 0.3917, 0.4392, 0.8931,\n",
       "        0.0124, 0.0474, 0.5720, 0.7494, 0.6528, 0.8663, 0.2906, 0.6303, 0.6690,\n",
       "        0.9298, 0.0560, 0.8750, 0.4932, 0.6929, 0.9576, 0.1168, 0.3224, 0.6660,\n",
       "        0.1057, 0.7689, 0.5415, 0.1716, 0.3628, 0.0567, 0.9902]), tensor([ True, False, False,  True, False, False, False, False, False,  True,\n",
       "         True, False, False, False, False, False, False, False, False,  True,\n",
       "        False, False, False, False,  True, False, False,  True, False, False,\n",
       "        False, False,  True, False]))"
      ]
     },
     "execution_count": 75,
     "metadata": {},
     "output_type": "execute_result"
    }
   ],
   "source": [
    "rand, mask_arr"
   ]
  },
  {
   "cell_type": "code",
   "execution_count": 79,
   "id": "1b82f544-9f3a-4d5e-8bce-658ae867a9b5",
   "metadata": {
    "tags": []
   },
   "outputs": [
    {
     "data": {
      "text/plain": [
       "[0, 3, 9, 10, 19, 24, 27, 32]"
      ]
     },
     "execution_count": 79,
     "metadata": {},
     "output_type": "execute_result"
    }
   ],
   "source": [
    "selection = torch.flatten((mask_arr).nonzero()).tolist()\n",
    "selection"
   ]
  },
  {
   "cell_type": "code",
   "execution_count": 107,
   "id": "91a11ca5-4c1b-4d86-827f-3a577e0f02cb",
   "metadata": {
    "tags": []
   },
   "outputs": [
    {
     "data": {
      "text/plain": [
       "tensor([621, 318, 219,  52, 123,  21, 100,  10,  56, 366, 280, 108, 399,  92,\n",
       "         64,  10, 104,  21,  94,  11, 505, 111,  70, 241,  73,  46, 104,  98,\n",
       "        127,  59, 102,  17,  67, 142,   0,   0,   0,   0,   0,   0,   0,   0,\n",
       "          0,   0,   0,   0,   0,   0,   0,   0,   0,   0,   0,   0,   0,   0,\n",
       "          0,   0,   0,   0,   0,   0,   0,   0,   0,   0,   0,   0,   0,   0,\n",
       "          0,   0,   0,   0,   0,   0,   0,   0,   0,   0,   0,   0,   0,   0,\n",
       "          0,   0,   0,   0,   0,   0,   0,   0,   0,   0,   0,   0,   0,   0,\n",
       "          0,   0], dtype=torch.int32)"
      ]
     },
     "execution_count": 107,
     "metadata": {},
     "output_type": "execute_result"
    }
   ],
   "source": [
    "tok_seq = torch.IntTensor(encoding.ids)\n",
    "tok_seq"
   ]
  },
  {
   "cell_type": "code",
   "execution_count": 108,
   "id": "7a7ccee6-be0b-43d2-90de-94d641f84e0e",
   "metadata": {
    "tags": []
   },
   "outputs": [],
   "source": [
    "mlm = tok_seq.detach().clone()\n",
    "mlm[selection] = tokenizer.mask_token"
   ]
  },
  {
   "cell_type": "code",
   "execution_count": 109,
   "id": "324c421f-9411-4748-94ae-5bdf0929b465",
   "metadata": {
    "tags": []
   },
   "outputs": [
    {
     "data": {
      "text/plain": [
       "tensor([  3, 318, 219,   3, 123,  21, 100,  10,  56,   3,   3, 108, 399,  92,\n",
       "         64,  10, 104,  21,  94,   3, 505, 111,  70, 241,   3,  46, 104,   3,\n",
       "        127,  59, 102,  17,   3, 142,   0,   0,   0,   0,   0,   0,   0,   0,\n",
       "          0,   0,   0,   0,   0,   0,   0,   0,   0,   0,   0,   0,   0,   0,\n",
       "          0,   0,   0,   0,   0,   0,   0,   0,   0,   0,   0,   0,   0,   0,\n",
       "          0,   0,   0,   0,   0,   0,   0,   0,   0,   0,   0,   0,   0,   0,\n",
       "          0,   0,   0,   0,   0,   0,   0,   0,   0,   0,   0,   0,   0,   0,\n",
       "          0,   0], dtype=torch.int32)"
      ]
     },
     "execution_count": 109,
     "metadata": {},
     "output_type": "execute_result"
    }
   ],
   "source": [
    "mlm"
   ]
  },
  {
   "cell_type": "code",
   "execution_count": 110,
   "id": "b73144e2-51f0-44cf-a61c-193c8d8e1f78",
   "metadata": {
    "tags": []
   },
   "outputs": [],
   "source": [
    "mlm_target = tok_seq.masked_fill(~(mlm == tokenizer.mask_token), 0)"
   ]
  },
  {
   "cell_type": "code",
   "execution_count": 111,
   "id": "ca44c52c-d130-469c-9b1b-19ba5734dfe6",
   "metadata": {
    "tags": []
   },
   "outputs": [
    {
     "data": {
      "text/plain": [
       "tensor([621,   0,   0,  52,   0,   0,   0,   0,   0, 366, 280,   0,   0,   0,\n",
       "          0,   0,   0,   0,   0,  11,   0,   0,   0,   0,  73,   0,   0,  98,\n",
       "          0,   0,   0,   0,  67,   0,   0,   0,   0,   0,   0,   0,   0,   0,\n",
       "          0,   0,   0,   0,   0,   0,   0,   0,   0,   0,   0,   0,   0,   0,\n",
       "          0,   0,   0,   0,   0,   0,   0,   0,   0,   0,   0,   0,   0,   0,\n",
       "          0,   0,   0,   0,   0,   0,   0,   0,   0,   0,   0,   0,   0,   0,\n",
       "          0,   0,   0,   0,   0,   0,   0,   0,   0,   0,   0,   0,   0,   0,\n",
       "          0,   0], dtype=torch.int32)"
      ]
     },
     "execution_count": 111,
     "metadata": {},
     "output_type": "execute_result"
    }
   ],
   "source": [
    "mlm_target"
   ]
  },
  {
   "cell_type": "code",
   "execution_count": null,
   "id": "8072cfa8-2455-4b1a-8afa-62031c981354",
   "metadata": {},
   "outputs": [],
   "source": []
  }
 ],
 "metadata": {
  "kernelspec": {
   "display_name": "Python 3 (ipykernel)",
   "language": "python",
   "name": "python3"
  },
  "language_info": {
   "codemirror_mode": {
    "name": "ipython",
    "version": 3
   },
   "file_extension": ".py",
   "mimetype": "text/x-python",
   "name": "python",
   "nbconvert_exporter": "python",
   "pygments_lexer": "ipython3",
   "version": "3.10.13"
  }
 },
 "nbformat": 4,
 "nbformat_minor": 5
}
