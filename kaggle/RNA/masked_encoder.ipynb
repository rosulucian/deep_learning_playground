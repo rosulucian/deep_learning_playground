{
 "cells": [
  {
   "cell_type": "code",
   "execution_count": 71,
   "id": "d2a93b7e-7682-495c-8491-5c496ac4e0be",
   "metadata": {
    "tags": []
   },
   "outputs": [],
   "source": [
    "%load_ext autoreload\n",
    "%autoreload 2"
   ]
  },
  {
   "cell_type": "code",
   "execution_count": 77,
   "id": "94f04531-8849-4c91-9761-151a84f54914",
   "metadata": {
    "tags": []
   },
   "outputs": [],
   "source": [
    "import numpy as np\n",
    "import pandas as pd\n",
    "import random\n",
    "import math\n",
    "\n",
    "import os\n",
    "import torch\n",
    "import torch.nn as nn\n",
    "import torch.nn.functional as F \n",
    "from torch.optim import Adam \n",
    "\n",
    "# import lightning as L\n",
    "from torch.utils.data import Dataset, DataLoader # these are needed for the training data\n",
    "import pytorch_lightning as pl"
   ]
  },
  {
   "cell_type": "code",
   "execution_count": 2,
   "id": "fdd0b742-500a-4dc6-a5c2-bf7278668295",
   "metadata": {
    "tags": []
   },
   "outputs": [],
   "source": [
    "def seed_everything(seed):\n",
    "    random.seed(seed)\n",
    "    os.environ['PYTHONHASHSEED'] = str(seed)\n",
    "    np.random.seed(seed)\n",
    "    torch.manual_seed(seed)\n",
    "    torch.cuda.manual_seed(seed)\n",
    "    torch.backends.cudnn.deterministic = True\n",
    "    torch.backends.cudnn.benchmark = True"
   ]
  },
  {
   "cell_type": "code",
   "execution_count": 3,
   "id": "aff124a0-2c34-4005-90cb-7d5128e8c9e3",
   "metadata": {
    "tags": []
   },
   "outputs": [
    {
     "data": {
      "text/plain": [
       "'cuda'"
      ]
     },
     "execution_count": 3,
     "metadata": {},
     "output_type": "execute_result"
    }
   ],
   "source": [
    "Lmax=407\n",
    "Lmax=206\n",
    "\n",
    "bs = 32\n",
    "num_workers = 4\n",
    "nfolds = 4\n",
    "device = 'cuda' if torch.cuda.is_available() else 'cpu'\n",
    "\n",
    "device"
   ]
  },
  {
   "cell_type": "code",
   "execution_count": 4,
   "id": "b81cb7fd-b85d-496b-9dbd-0eaaa63a31f3",
   "metadata": {
    "tags": []
   },
   "outputs": [],
   "source": [
    "seed = 42\n",
    "\n",
    "seed_everything(seed)"
   ]
  },
  {
   "cell_type": "code",
   "execution_count": 5,
   "id": "67611908-2b57-4331-8569-13f8a3bd9dd5",
   "metadata": {
    "tags": []
   },
   "outputs": [],
   "source": [
    "vocab = {'A':0,'C':1,'G':2,'U':3,'M':4}"
   ]
  },
  {
   "cell_type": "code",
   "execution_count": 6,
   "id": "1cf2f5f7-4f15-43aa-9b82-cf95ef15d294",
   "metadata": {
    "tags": []
   },
   "outputs": [],
   "source": [
    "input_dir = '../input/stanford-ribonanza-rna-folding'\n",
    "train_dir = f'{input_dir}/train'\n",
    "test_dir = f'{input_dir}/test'\n",
    "train_csv = f'{input_dir}/train_data.csv'\n",
    "\n",
    "train_file = 'train_data.parquet'\n",
    "sequence_file = 'train_sequences.parquet'"
   ]
  },
  {
   "cell_type": "code",
   "execution_count": 7,
   "id": "3ea16ac0-62be-473a-b635-38400d73d404",
   "metadata": {
    "tags": []
   },
   "outputs": [],
   "source": [
    "# train_df = pd.read_csv(train_csv)\n",
    "\n",
    "train_df = pd.read_parquet(train_file)\n",
    "sequences_df = pd.read_parquet(sequence_file)"
   ]
  },
  {
   "cell_type": "code",
   "execution_count": 8,
   "id": "4971f133-4121-4e08-93c1-7a95aacbddd0",
   "metadata": {
    "tags": []
   },
   "outputs": [
    {
     "data": {
      "text/plain": [
       "((1643680, 419), (806573, 2))"
      ]
     },
     "execution_count": 8,
     "metadata": {},
     "output_type": "execute_result"
    }
   ],
   "source": [
    "train_df.shape, sequences_df.shape"
   ]
  },
  {
   "cell_type": "code",
   "execution_count": 9,
   "id": "e5e4c208-c764-41aa-9c69-9201faf5030f",
   "metadata": {
    "tags": []
   },
   "outputs": [
    {
     "data": {
      "text/html": [
       "<div>\n",
       "<style scoped>\n",
       "    .dataframe tbody tr th:only-of-type {\n",
       "        vertical-align: middle;\n",
       "    }\n",
       "\n",
       "    .dataframe tbody tr th {\n",
       "        vertical-align: top;\n",
       "    }\n",
       "\n",
       "    .dataframe thead th {\n",
       "        text-align: right;\n",
       "    }\n",
       "</style>\n",
       "<table border=\"1\" class=\"dataframe\">\n",
       "  <thead>\n",
       "    <tr style=\"text-align: right;\">\n",
       "      <th></th>\n",
       "      <th>sequence_id</th>\n",
       "      <th>sequence</th>\n",
       "      <th>experiment_type</th>\n",
       "      <th>dataset_name</th>\n",
       "      <th>reads</th>\n",
       "      <th>signal_to_noise</th>\n",
       "      <th>SN_filter</th>\n",
       "      <th>reactivity_0001</th>\n",
       "      <th>reactivity_0002</th>\n",
       "      <th>reactivity_0003</th>\n",
       "      <th>...</th>\n",
       "      <th>reactivity_error_0197</th>\n",
       "      <th>reactivity_error_0198</th>\n",
       "      <th>reactivity_error_0199</th>\n",
       "      <th>reactivity_error_0200</th>\n",
       "      <th>reactivity_error_0201</th>\n",
       "      <th>reactivity_error_0202</th>\n",
       "      <th>reactivity_error_0203</th>\n",
       "      <th>reactivity_error_0204</th>\n",
       "      <th>reactivity_error_0205</th>\n",
       "      <th>reactivity_error_0206</th>\n",
       "    </tr>\n",
       "  </thead>\n",
       "  <tbody>\n",
       "    <tr>\n",
       "      <th>0</th>\n",
       "      <td>8cdfeef009ea</td>\n",
       "      <td>GGGAACGACUCGAGUAGAGUCGAAAAACGUUGAUAUGGAUUUACUC...</td>\n",
       "      <td>2A3_MaP</td>\n",
       "      <td>15k_2A3</td>\n",
       "      <td>2343</td>\n",
       "      <td>0.944</td>\n",
       "      <td>0</td>\n",
       "      <td>NaN</td>\n",
       "      <td>NaN</td>\n",
       "      <td>NaN</td>\n",
       "      <td>...</td>\n",
       "      <td>NaN</td>\n",
       "      <td>NaN</td>\n",
       "      <td>NaN</td>\n",
       "      <td>NaN</td>\n",
       "      <td>NaN</td>\n",
       "      <td>NaN</td>\n",
       "      <td>NaN</td>\n",
       "      <td>NaN</td>\n",
       "      <td>NaN</td>\n",
       "      <td>NaN</td>\n",
       "    </tr>\n",
       "    <tr>\n",
       "      <th>1</th>\n",
       "      <td>51e61fbde94d</td>\n",
       "      <td>GGGAACGACUCGAGUAGAGUCGAAAAACAUUGAUAUGGAUUUACUC...</td>\n",
       "      <td>2A3_MaP</td>\n",
       "      <td>15k_2A3</td>\n",
       "      <td>5326</td>\n",
       "      <td>1.933</td>\n",
       "      <td>1</td>\n",
       "      <td>NaN</td>\n",
       "      <td>NaN</td>\n",
       "      <td>NaN</td>\n",
       "      <td>...</td>\n",
       "      <td>NaN</td>\n",
       "      <td>NaN</td>\n",
       "      <td>NaN</td>\n",
       "      <td>NaN</td>\n",
       "      <td>NaN</td>\n",
       "      <td>NaN</td>\n",
       "      <td>NaN</td>\n",
       "      <td>NaN</td>\n",
       "      <td>NaN</td>\n",
       "      <td>NaN</td>\n",
       "    </tr>\n",
       "  </tbody>\n",
       "</table>\n",
       "<p>2 rows × 419 columns</p>\n",
       "</div>"
      ],
      "text/plain": [
       "    sequence_id                                           sequence  \\\n",
       "0  8cdfeef009ea  GGGAACGACUCGAGUAGAGUCGAAAAACGUUGAUAUGGAUUUACUC...   \n",
       "1  51e61fbde94d  GGGAACGACUCGAGUAGAGUCGAAAAACAUUGAUAUGGAUUUACUC...   \n",
       "\n",
       "  experiment_type dataset_name  reads  signal_to_noise  SN_filter  \\\n",
       "0         2A3_MaP      15k_2A3   2343            0.944          0   \n",
       "1         2A3_MaP      15k_2A3   5326            1.933          1   \n",
       "\n",
       "   reactivity_0001  reactivity_0002  reactivity_0003  ...  \\\n",
       "0              NaN              NaN              NaN  ...   \n",
       "1              NaN              NaN              NaN  ...   \n",
       "\n",
       "   reactivity_error_0197  reactivity_error_0198  reactivity_error_0199  \\\n",
       "0                    NaN                    NaN                    NaN   \n",
       "1                    NaN                    NaN                    NaN   \n",
       "\n",
       "   reactivity_error_0200  reactivity_error_0201  reactivity_error_0202  \\\n",
       "0                    NaN                    NaN                    NaN   \n",
       "1                    NaN                    NaN                    NaN   \n",
       "\n",
       "   reactivity_error_0203  reactivity_error_0204  reactivity_error_0205  \\\n",
       "0                    NaN                    NaN                    NaN   \n",
       "1                    NaN                    NaN                    NaN   \n",
       "\n",
       "   reactivity_error_0206  \n",
       "0                    NaN  \n",
       "1                    NaN  \n",
       "\n",
       "[2 rows x 419 columns]"
      ]
     },
     "execution_count": 9,
     "metadata": {},
     "output_type": "execute_result"
    }
   ],
   "source": [
    "train_df.head(2)"
   ]
  },
  {
   "cell_type": "code",
   "execution_count": 10,
   "id": "bd9c919f-4e98-4735-ba28-78856f8c442e",
   "metadata": {
    "tags": []
   },
   "outputs": [
    {
     "data": {
      "text/html": [
       "<div>\n",
       "<style scoped>\n",
       "    .dataframe tbody tr th:only-of-type {\n",
       "        vertical-align: middle;\n",
       "    }\n",
       "\n",
       "    .dataframe tbody tr th {\n",
       "        vertical-align: top;\n",
       "    }\n",
       "\n",
       "    .dataframe thead th {\n",
       "        text-align: right;\n",
       "    }\n",
       "</style>\n",
       "<table border=\"1\" class=\"dataframe\">\n",
       "  <thead>\n",
       "    <tr style=\"text-align: right;\">\n",
       "      <th></th>\n",
       "      <th>sequence_id</th>\n",
       "      <th>sequence</th>\n",
       "    </tr>\n",
       "  </thead>\n",
       "  <tbody>\n",
       "    <tr>\n",
       "      <th>0</th>\n",
       "      <td>8cdfeef009ea</td>\n",
       "      <td>GGGAACGACUCGAGUAGAGUCGAAAAACGUUGAUAUGGAUUUACUC...</td>\n",
       "    </tr>\n",
       "    <tr>\n",
       "      <th>1</th>\n",
       "      <td>51e61fbde94d</td>\n",
       "      <td>GGGAACGACUCGAGUAGAGUCGAAAAACAUUGAUAUGGAUUUACUC...</td>\n",
       "    </tr>\n",
       "  </tbody>\n",
       "</table>\n",
       "</div>"
      ],
      "text/plain": [
       "    sequence_id                                           sequence\n",
       "0  8cdfeef009ea  GGGAACGACUCGAGUAGAGUCGAAAAACGUUGAUAUGGAUUUACUC...\n",
       "1  51e61fbde94d  GGGAACGACUCGAGUAGAGUCGAAAAACAUUGAUAUGGAUUUACUC..."
      ]
     },
     "execution_count": 10,
     "metadata": {},
     "output_type": "execute_result"
    }
   ],
   "source": [
    "sequences_df.head(2)"
   ]
  },
  {
   "cell_type": "code",
   "execution_count": 11,
   "id": "4e4c9fbb-425f-485b-b001-aed07ae2eb24",
   "metadata": {
    "tags": []
   },
   "outputs": [],
   "source": [
    "sequences_df['L'] = sequences_df.sequence.apply(len)"
   ]
  },
  {
   "cell_type": "code",
   "execution_count": 12,
   "id": "7f9c5948-88c7-4170-90aa-19c69220f458",
   "metadata": {},
   "outputs": [
    {
     "data": {
      "text/html": [
       "<div>\n",
       "<style scoped>\n",
       "    .dataframe tbody tr th:only-of-type {\n",
       "        vertical-align: middle;\n",
       "    }\n",
       "\n",
       "    .dataframe tbody tr th {\n",
       "        vertical-align: top;\n",
       "    }\n",
       "\n",
       "    .dataframe thead th {\n",
       "        text-align: right;\n",
       "    }\n",
       "</style>\n",
       "<table border=\"1\" class=\"dataframe\">\n",
       "  <thead>\n",
       "    <tr style=\"text-align: right;\">\n",
       "      <th></th>\n",
       "      <th>sequence_id</th>\n",
       "      <th>sequence</th>\n",
       "      <th>L</th>\n",
       "    </tr>\n",
       "  </thead>\n",
       "  <tbody>\n",
       "    <tr>\n",
       "      <th>0</th>\n",
       "      <td>8cdfeef009ea</td>\n",
       "      <td>GGGAACGACUCGAGUAGAGUCGAAAAACGUUGAUAUGGAUUUACUC...</td>\n",
       "      <td>170</td>\n",
       "    </tr>\n",
       "    <tr>\n",
       "      <th>1</th>\n",
       "      <td>51e61fbde94d</td>\n",
       "      <td>GGGAACGACUCGAGUAGAGUCGAAAAACAUUGAUAUGGAUUUACUC...</td>\n",
       "      <td>170</td>\n",
       "    </tr>\n",
       "  </tbody>\n",
       "</table>\n",
       "</div>"
      ],
      "text/plain": [
       "    sequence_id                                           sequence    L\n",
       "0  8cdfeef009ea  GGGAACGACUCGAGUAGAGUCGAAAAACGUUGAUAUGGAUUUACUC...  170\n",
       "1  51e61fbde94d  GGGAACGACUCGAGUAGAGUCGAAAAACAUUGAUAUGGAUUUACUC...  170"
      ]
     },
     "execution_count": 12,
     "metadata": {},
     "output_type": "execute_result"
    }
   ],
   "source": [
    "sequences_df.head(2)"
   ]
  },
  {
   "cell_type": "markdown",
   "id": "0b5fc044-b102-4a94-91bd-26c041071396",
   "metadata": {},
   "source": [
    "### Dataset"
   ]
  },
  {
   "cell_type": "code",
   "execution_count": 13,
   "id": "5ca32649-d27b-4016-ad06-b1029ec2b093",
   "metadata": {
    "tags": []
   },
   "outputs": [],
   "source": [
    "foo = sequences_df['sequence'].values"
   ]
  },
  {
   "cell_type": "code",
   "execution_count": 14,
   "id": "0b11be3a-d089-402e-a163-cacbbb2e1e4a",
   "metadata": {
    "tags": []
   },
   "outputs": [
    {
     "data": {
      "text/plain": [
       "806573"
      ]
     },
     "execution_count": 14,
     "metadata": {},
     "output_type": "execute_result"
    }
   ],
   "source": [
    "len(foo)"
   ]
  },
  {
   "cell_type": "code",
   "execution_count": 15,
   "id": "202e1088-0945-42de-a577-18a71d0ae861",
   "metadata": {
    "tags": []
   },
   "outputs": [
    {
     "data": {
      "text/plain": [
       "(806573,)"
      ]
     },
     "execution_count": 15,
     "metadata": {},
     "output_type": "execute_result"
    }
   ],
   "source": [
    "foo.shape"
   ]
  },
  {
   "cell_type": "code",
   "execution_count": 74,
   "id": "7dd83ecf-9390-40d8-adaf-c9dcb9bb24fc",
   "metadata": {
    "tags": []
   },
   "outputs": [],
   "source": [
    "class RNA_Dataset(torch.utils.data.Dataset):\n",
    "    def __init__(self, df, mode='train', seed=seed, v=vocab,\n",
    "                 mask_only=False, Lmax=Lmax, **kwargs):\n",
    "        \n",
    "        self.seq_map = v\n",
    "        self.Lmax = Lmax\n",
    "        \n",
    "        self.seq = df['sequence'].values\n",
    "        self.L = df['L'].values\n",
    "        \n",
    "        self.mask_only = mask_only\n",
    "        \n",
    "    def __len__(self):\n",
    "        return len(self.seq)  \n",
    "    \n",
    "    def __getitem__(self, idx):\n",
    "        seq = self.seq[idx]\n",
    "        \n",
    "        mask = torch.zeros(self.Lmax, dtype=torch.bool)\n",
    "        mask[:len(seq)] = True\n",
    "        \n",
    "        if self.mask_only:\n",
    "            return {'mask':mask}\n",
    "        \n",
    "        seq = [self.seq_map[s] for s in seq]\n",
    "        seq = np.array(seq)        \n",
    "        seq = np.pad(seq, (0, self.Lmax - len(seq)))\n",
    "        seq = torch.from_numpy(seq)     \n",
    "        \n",
    "        rand = torch.rand(mask.nonzero().shape)\n",
    "        mask_arr = rand < 0.15\n",
    "        \n",
    "        selection = torch.flatten((mask_arr).nonzero()).tolist()\n",
    "        \n",
    "        mlm = seq.detach().clone()\n",
    "        mlm[selection] = self.seq_map['M']\n",
    "        \n",
    "        # true when token is masked\n",
    "        mask_idx = mlm == self.seq_map['M']\n",
    "        \n",
    "        return {'seq': mlm, 'att_mask': mask}, {'labels': seq, 'mask_idx': mask_idx}"
   ]
  },
  {
   "cell_type": "markdown",
   "id": "2cff08ac-b416-4f38-8327-7a0e616db73a",
   "metadata": {},
   "source": [
    "### Test dataset"
   ]
  },
  {
   "cell_type": "code",
   "execution_count": 56,
   "id": "9fd52358-988f-4ebd-8123-8208f353fb81",
   "metadata": {
    "tags": []
   },
   "outputs": [],
   "source": [
    "ds_train = RNA_Dataset(sequences_df, mode='train')\n",
    "dl_train = torch.utils.data.DataLoader(ds_train, batch_size=2, num_workers=0, persistent_workers=False, drop_last=True)"
   ]
  },
  {
   "cell_type": "code",
   "execution_count": 57,
   "id": "7dc16ded-9caa-4d70-a7a3-4e2c318c736c",
   "metadata": {
    "tags": []
   },
   "outputs": [
    {
     "name": "stdout",
     "output_type": "stream",
     "text": [
      "806573\n"
     ]
    },
    {
     "data": {
      "text/plain": [
       "(torch.Size([206]), torch.Size([206]), torch.int32, torch.bool)"
      ]
     },
     "execution_count": 57,
     "metadata": {},
     "output_type": "execute_result"
    }
   ],
   "source": [
    "inputs, targets = ds_train.__getitem__(0)\n",
    "\n",
    "print(ds_train.__len__())\n",
    "\n",
    "inputs['seq'].shape, inputs['att_mask'].shape, inputs['seq'].dtype, inputs['att_mask'].dtype"
   ]
  },
  {
   "cell_type": "code",
   "execution_count": 58,
   "id": "82fefe67-8acc-4fc7-a892-2e6650507d73",
   "metadata": {
    "tags": []
   },
   "outputs": [],
   "source": [
    "# inputs['seq'] == ds_train.seq_map['M']"
   ]
  },
  {
   "cell_type": "code",
   "execution_count": 60,
   "id": "41f4e240-dad0-4d29-9a65-85f8cae121b2",
   "metadata": {
    "tags": []
   },
   "outputs": [],
   "source": [
    "# targets['mask_idx']"
   ]
  },
  {
   "cell_type": "code",
   "execution_count": 49,
   "id": "5ec76626-4c46-444f-87ff-617450319078",
   "metadata": {
    "tags": []
   },
   "outputs": [],
   "source": [
    "# inputs['att_mask']"
   ]
  },
  {
   "cell_type": "code",
   "execution_count": 37,
   "id": "8aaae46f-3770-4585-87dd-8566fb3aba4b",
   "metadata": {
    "tags": []
   },
   "outputs": [],
   "source": [
    "# ~inputs['att_mask']"
   ]
  },
  {
   "cell_type": "code",
   "execution_count": 61,
   "id": "3d849129-50be-4b6c-917f-ba3de3c80cd8",
   "metadata": {
    "tags": []
   },
   "outputs": [
    {
     "data": {
      "text/plain": [
       "tensor(0.1977)"
      ]
     },
     "execution_count": 61,
     "metadata": {},
     "output_type": "execute_result"
    }
   ],
   "source": [
    "sum(targets['labels'] != inputs['seq'])/sum(targets['labels'] == inputs['seq'])"
   ]
  },
  {
   "cell_type": "code",
   "execution_count": 62,
   "id": "0bbcb0d1-6b31-42b5-9bfc-ae42275b09a3",
   "metadata": {
    "tags": []
   },
   "outputs": [
    {
     "data": {
      "text/plain": [
       "(torch.Size([2, 206]), torch.Size([2, 206]))"
      ]
     },
     "execution_count": 62,
     "metadata": {},
     "output_type": "execute_result"
    }
   ],
   "source": [
    "inputs, targets = next(iter(dl_train))\n",
    "inputs['seq'].shape, targets['labels'].shape"
   ]
  },
  {
   "cell_type": "code",
   "execution_count": 65,
   "id": "598d99de-fe91-40b0-82ad-ea623c699dfb",
   "metadata": {
    "tags": []
   },
   "outputs": [],
   "source": [
    "# targets['mask_idx'][0]"
   ]
  },
  {
   "cell_type": "markdown",
   "id": "93ad34f2-bd91-4994-97cd-693ffe9c4c17",
   "metadata": {},
   "source": [
    "#### DataModule"
   ]
  },
  {
   "cell_type": "code",
   "execution_count": 68,
   "id": "316581d5-f04a-4616-94c0-852ed91b1974",
   "metadata": {
    "tags": []
   },
   "outputs": [],
   "source": [
    "class rna_datamodule(pl.LightningDataModule):\n",
    "    def __init__(self, train_df, val_df=None, train_bs=bs, val_bs=bs):\n",
    "        super().__init__()\n",
    "        \n",
    "        self.train_df = train_df\n",
    "        self.val_df = val_df\n",
    "        self.train_bs = train_bs\n",
    "        self.val_bs = val_bs\n",
    "        \n",
    "    def train_dataloader(self):\n",
    "        train_ds = RNA_Dataset(self.train_df, mode='train')\n",
    "        train_dl = torch.utils.data.DataLoader(ds_train, batch_size=train_bs, num_workers=0, persistent_workers=False, drop_last=True)\n",
    "        \n",
    "        return train_dl"
   ]
  },
  {
   "cell_type": "code",
   "execution_count": null,
   "id": "db5b5b1e-35ed-4a77-9937-7a44a8b9bcf4",
   "metadata": {},
   "outputs": [],
   "source": []
  },
  {
   "cell_type": "markdown",
   "id": "e58e10ec-e7a9-483b-a93f-9147e83d6d01",
   "metadata": {},
   "source": [
    "### Model"
   ]
  },
  {
   "cell_type": "code",
   "execution_count": 22,
   "id": "89a2e465-236d-477a-9461-28b7eed6857d",
   "metadata": {
    "tags": []
   },
   "outputs": [],
   "source": [
    "emb = nn.Embedding(len(vocab),192)"
   ]
  },
  {
   "cell_type": "code",
   "execution_count": 23,
   "id": "e61f9e74-e72a-4d4c-8785-764acbb6e950",
   "metadata": {
    "tags": []
   },
   "outputs": [
    {
     "data": {
      "text/plain": [
       "torch.Size([2, 206, 192])"
      ]
     },
     "execution_count": 23,
     "metadata": {},
     "output_type": "execute_result"
    }
   ],
   "source": [
    "emb(targets['labels']).shape"
   ]
  },
  {
   "cell_type": "code",
   "execution_count": 24,
   "id": "9ae95b4b-345c-4362-beb9-86a6f8ef7bc9",
   "metadata": {
    "tags": []
   },
   "outputs": [
    {
     "data": {
      "text/plain": [
       "tensor(170)"
      ]
     },
     "execution_count": 24,
     "metadata": {},
     "output_type": "execute_result"
    }
   ],
   "source": [
    "inputs['att_mask'].sum(-1).max()"
   ]
  },
  {
   "cell_type": "code",
   "execution_count": 91,
   "id": "fbf8e111-f5b6-41ea-b476-89a11ef18469",
   "metadata": {
    "jupyter": {
     "source_hidden": true
    },
    "tags": []
   },
   "outputs": [],
   "source": [
    "class SinusoidalPosEmb(nn.Module):\n",
    "    def __init__(self, dim=16, M=10000):\n",
    "        super().__init__()\n",
    "        self.dim = dim\n",
    "        self.M = M\n",
    "\n",
    "    def forward(self, x):\n",
    "        device = x.device\n",
    "        \n",
    "        half_dim = self.dim // 2\n",
    "        emb = math.log(self.M) / half_dim\n",
    "        emb = torch.exp(torch.arange(half_dim, device=device) * (-emb))\n",
    "        emb = x[...,None] * emb[None,...]\n",
    "        emb = torch.cat((emb.sin(), emb.cos()), dim=-1)\n",
    "        \n",
    "        print(x.shape)\n",
    "        print(emb.shape)\n",
    "        \n",
    "        return x + emb"
   ]
  },
  {
   "cell_type": "code",
   "execution_count": 92,
   "id": "5e323c6a-63db-464d-ba3f-10e56c5e184b",
   "metadata": {
    "jupyter": {
     "source_hidden": true
    },
    "tags": []
   },
   "outputs": [],
   "source": [
    "class PositionalEncoding(nn.Module):\n",
    "\n",
    "    def __init__(self, d_model, dropout=0.1, max_len=5000):\n",
    "        super(PositionalEncoding, self).__init__()\n",
    "        self.dropout = nn.Dropout(p=dropout)\n",
    "\n",
    "        pe = torch.zeros(max_len, d_model)\n",
    "        position = torch.arange(0, max_len, dtype=torch.float).unsqueeze(1)\n",
    "        div_term = torch.exp(torch.arange(0, d_model, 2).float() * (-math.log(10000.0) / d_model))\n",
    "        pe[:, 0::2] = torch.sin(position * div_term)\n",
    "        pe[:, 1::2] = torch.cos(position * div_term)\n",
    "        pe = pe.unsqueeze(0).transpose(0, 1)\n",
    "        \n",
    "        self.register_buffer('pe', pe)\n",
    "\n",
    "    def forward(self, x):\n",
    "        x = x + self.pe[:x.size(0), :]\n",
    "        return self.dropout(x)"
   ]
  },
  {
   "cell_type": "code",
   "execution_count": 103,
   "id": "8ff68aa9-5d70-463d-9367-9b33dbc29999",
   "metadata": {
    "tags": []
   },
   "outputs": [],
   "source": [
    "class bert_config:\n",
    "    num_embeddings=len(vocab)\n",
    "    dim=192\n",
    "    num_layers=12\n",
    "    head_size=32\n",
    "    dropout=0.1"
   ]
  },
  {
   "cell_type": "code",
   "execution_count": 98,
   "id": "b9ed70e6-598c-4b54-9ca9-a3a9018826ca",
   "metadata": {
    "tags": []
   },
   "outputs": [],
   "source": [
    "class RNA_Model(nn.Module):\n",
    "    def __init__(self, config=bert_config, **kwargs):\n",
    "        super().__init__()\n",
    "        \n",
    "        self.config = config\n",
    "        \n",
    "        dim = config.dim\n",
    "        \n",
    "        self.emb = nn.Embedding(config.num_embeddings, dim)\n",
    "        \n",
    "        self.pos_enc = SinusoidalPosEmb(dim)\n",
    "        self.pos_enc = PositionalEncoding(dim)\n",
    "        \n",
    "        self.transformer = nn.TransformerEncoder(\n",
    "            nn.TransformerEncoderLayer(d_model=dim, nhead=dim//head_size, dim_feedforward=4*dim,\n",
    "                dropout=config.dropout, activation=nn.GELU(), batch_first=True, norm_first=True), num_layers)\n",
    "        \n",
    "#         self.decoder = nn.Linear(dim, num_embeddings)\n",
    "        \n",
    "#         self.softmax = nn.LogSoftmax(dim=-1) \n",
    "    \n",
    "    def forward(self, x0):\n",
    "        # slice out extra padding starting from max length in batch\n",
    "        Lmax = x0['att_mask'].sum(-1).max()\n",
    "        \n",
    "        mask = x0['att_mask'][:,:Lmax]\n",
    "        x = x0['seq'][:,:Lmax]\n",
    "\n",
    "        x = self.emb(x)\n",
    "        x = self.pos_enc(x)\n",
    "        \n",
    "        output = self.transformer(x, src_key_padding_mask=~mask)\n",
    "        \n",
    "#         token_predictions = self.decoder(output)\n",
    "        \n",
    "#         return self.softmax(token_predictions)\n",
    "\n",
    "        return output"
   ]
  },
  {
   "cell_type": "code",
   "execution_count": 99,
   "id": "922d45ab-90b9-4df5-9563-1a57c768fac2",
   "metadata": {
    "tags": []
   },
   "outputs": [],
   "source": [
    "class mlm_model(pl.LightningModule):\n",
    "    def __init__(self, model):\n",
    "        super().__init__()\n",
    "        \n",
    "        self.bert = model\n",
    "        self.decoder = nn.Linear(dim, num_embeddings)\n",
    "        self.softmax = nn.LogSoftmax(dim=-1) \n",
    "        \n",
    "        self.ml_criterion = nn.NLLLoss(ignore_index=0).to(device)\n",
    "        \n",
    "    def forward(self, x):\n",
    "        embeds = self.bert(x)\n",
    "    \n",
    "        token_predictions = self.decoder(embeds)\n",
    "        \n",
    "        return self.softmax(token_predictions)\n",
    "    \n",
    "    def training_step(self, batch, batch_idx):\n",
    "        inputs, target = batch\n",
    "        \n",
    "        tokens = self(inputs)\n",
    "        \n",
    "        loss_token = self.ml_criterion(tokens.transpose(1, 2), token_target)\n",
    "        \n",
    "        return loss_token"
   ]
  },
  {
   "cell_type": "markdown",
   "id": "abb78d8f-340f-4bb8-8229-e2d63bd5df63",
   "metadata": {},
   "source": [
    "### Train"
   ]
  },
  {
   "cell_type": "code",
   "execution_count": 100,
   "id": "cdeb0196-987a-456a-90fc-4e00ab64942a",
   "metadata": {},
   "outputs": [],
   "source": [
    "model = RNA_Model()"
   ]
  },
  {
   "cell_type": "code",
   "execution_count": 101,
   "id": "7cfd63b4-2fd0-4952-be27-8abc12561aa8",
   "metadata": {
    "tags": []
   },
   "outputs": [],
   "source": [
    "foo = model(inputs)"
   ]
  },
  {
   "cell_type": "code",
   "execution_count": 102,
   "id": "ea70ab7c-95f4-48f5-91e4-6c92126348e0",
   "metadata": {
    "tags": []
   },
   "outputs": [
    {
     "data": {
      "text/plain": [
       "torch.Size([2, 170, 5])"
      ]
     },
     "execution_count": 102,
     "metadata": {},
     "output_type": "execute_result"
    }
   ],
   "source": [
    "foo.shape"
   ]
  },
  {
   "cell_type": "code",
   "execution_count": 69,
   "id": "83b0b675-e56f-4bb1-abc1-9e46b70bc139",
   "metadata": {
    "tags": []
   },
   "outputs": [],
   "source": [
    "dm = rna_datamodule(sequences_df)"
   ]
  },
  {
   "cell_type": "code",
   "execution_count": 72,
   "id": "a96fe653-219f-4a85-8efd-2dc982dbdd7d",
   "metadata": {
    "tags": []
   },
   "outputs": [
    {
     "name": "stderr",
     "output_type": "stream",
     "text": [
      "GPU available: True (cuda), used: True\n",
      "TPU available: False, using: 0 TPU cores\n",
      "IPU available: False, using: 0 IPUs\n",
      "HPU available: False, using: 0 HPUs\n"
     ]
    }
   ],
   "source": [
    "trainer = pl.Trainer(limit_train_batches=100, max_epochs=1)"
   ]
  },
  {
   "cell_type": "code",
   "execution_count": null,
   "id": "11e1c8a7-6d60-43cb-a2e5-969931026fde",
   "metadata": {
    "tags": []
   },
   "outputs": [],
   "source": [
    "# trainer.fit(model=model, train_dataloaders=train_loader)"
   ]
  },
  {
   "cell_type": "code",
   "execution_count": 86,
   "id": "f7101f71-1397-44b6-9911-d2c686546716",
   "metadata": {
    "tags": []
   },
   "outputs": [
    {
     "data": {
      "text/plain": [
       "tensor(170)"
      ]
     },
     "execution_count": 86,
     "metadata": {},
     "output_type": "execute_result"
    }
   ],
   "source": [
    "inputs['att_mask'].sum(-1).max()"
   ]
  },
  {
   "cell_type": "code",
   "execution_count": 85,
   "id": "ae440636-ca33-4f78-94fd-2010ccd44182",
   "metadata": {},
   "outputs": [
    {
     "data": {
      "text/plain": [
       "torch.Size([2, 206])"
      ]
     },
     "execution_count": 85,
     "metadata": {},
     "output_type": "execute_result"
    }
   ],
   "source": [
    "inputs['seq'].shape"
   ]
  },
  {
   "cell_type": "code",
   "execution_count": null,
   "id": "0f68d18f-af23-4b2a-8db8-d4590dd3eb4c",
   "metadata": {},
   "outputs": [],
   "source": []
  },
  {
   "cell_type": "code",
   "execution_count": null,
   "id": "93883b3a-4beb-43aa-96f0-33390a123984",
   "metadata": {},
   "outputs": [],
   "source": []
  },
  {
   "cell_type": "code",
   "execution_count": null,
   "id": "b8e738eb-1482-425a-970f-4a2e6edf72c5",
   "metadata": {},
   "outputs": [],
   "source": []
  },
  {
   "cell_type": "code",
   "execution_count": null,
   "id": "83c0234a-cd2b-4935-90f8-2e3afd361fbb",
   "metadata": {},
   "outputs": [],
   "source": []
  },
  {
   "cell_type": "code",
   "execution_count": null,
   "id": "8a09944c-75f8-4921-93d0-0497742e43c5",
   "metadata": {},
   "outputs": [],
   "source": []
  }
 ],
 "metadata": {
  "kernelspec": {
   "display_name": "Python 3 (ipykernel)",
   "language": "python",
   "name": "python3"
  },
  "language_info": {
   "codemirror_mode": {
    "name": "ipython",
    "version": 3
   },
   "file_extension": ".py",
   "mimetype": "text/x-python",
   "name": "python",
   "nbconvert_exporter": "python",
   "pygments_lexer": "ipython3",
   "version": "3.10.13"
  }
 },
 "nbformat": 4,
 "nbformat_minor": 5
}
