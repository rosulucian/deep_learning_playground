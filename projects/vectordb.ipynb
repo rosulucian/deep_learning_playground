{
 "cells": [
  {
   "cell_type": "markdown",
   "id": "46f0ffbf-67ad-45cd-b6b5-1ca43b93cebe",
   "metadata": {},
   "source": [
    "based on https://learn.deeplearning.ai/courses/building-applications-vector-databases"
   ]
  },
  {
   "cell_type": "code",
   "execution_count": 2,
   "id": "7c199869-b272-490d-b972-dc737bd48756",
   "metadata": {},
   "outputs": [
    {
     "name": "stdout",
     "output_type": "stream",
     "text": [
      "The autoreload extension is already loaded. To reload it, use:\n",
      "  %reload_ext autoreload\n"
     ]
    }
   ],
   "source": [
    "%load_ext autoreload\n",
    "%autoreload 2"
   ]
  },
  {
   "cell_type": "code",
   "execution_count": 3,
   "id": "72329bd2-37ec-4092-908c-af1037e0db5f",
   "metadata": {},
   "outputs": [],
   "source": [
    "import warnings\n",
    "warnings.filterwarnings('ignore')"
   ]
  },
  {
   "cell_type": "code",
   "execution_count": 4,
   "id": "1d00a9d1-08c5-4083-8e5b-c8e2ed6235ec",
   "metadata": {},
   "outputs": [
    {
     "name": "stdout",
     "output_type": "stream",
     "text": [
      "# packages in environment at C:\\Users\\Asus\\.conda\\envs\\llms:\n",
      "#\n",
      "# Name                    Version                   Build  Channel\n",
      "sentence-transformers     2.7.0              pyhd8ed1ab_0    conda-forge\n",
      "sentencepiece             0.1.96          py310h476a331_1    conda-forge\n"
     ]
    }
   ],
   "source": [
    "!conda list sentence"
   ]
  },
  {
   "cell_type": "code",
   "execution_count": 4,
   "id": "0a3c4cb8-2dad-49d9-b57e-6ff15d1946f2",
   "metadata": {},
   "outputs": [],
   "source": [
    "from datasets import load_dataset\n",
    "from sentence_transformers import SentenceTransformer\n",
    "from pinecone import Pinecone, ServerlessSpec\n",
    "from tqdm.auto import tqdm\n",
    "from DLAIUtils import Utils\n",
    "import DLAIUtils\n",
    "\n",
    "import os\n",
    "import time\n",
    "import torch\n",
    "import json"
   ]
  },
  {
   "cell_type": "code",
   "execution_count": 5,
   "id": "276dca55-b98f-4c99-be9b-816e0f68c2a9",
   "metadata": {},
   "outputs": [],
   "source": [
    "device = 'cuda' if torch.cuda.is_available() else 'cpu'\n",
    "if device != 'cuda':\n",
    "    print('Sorry no cuda.')"
   ]
  },
  {
   "cell_type": "markdown",
   "id": "ccd9f319-036a-41da-9f2b-7ecc9b33a8ff",
   "metadata": {},
   "source": [
    "### Load dataset"
   ]
  },
  {
   "cell_type": "code",
   "execution_count": 6,
   "id": "6711fbe9-0a9f-4aa8-b1af-fd36a92c18a1",
   "metadata": {},
   "outputs": [],
   "source": [
    "dataset = load_dataset('quora', split='train[240000:290000]')"
   ]
  },
  {
   "cell_type": "code",
   "execution_count": 7,
   "id": "29a4c340-54c0-400f-b401-bc504f12e328",
   "metadata": {},
   "outputs": [
    {
     "data": {
      "text/plain": [
       "(50000, 2)"
      ]
     },
     "execution_count": 7,
     "metadata": {},
     "output_type": "execute_result"
    }
   ],
   "source": [
    "dataset.shape"
   ]
  },
  {
   "cell_type": "code",
   "execution_count": 10,
   "id": "d4c20c6a-36f5-4d7b-af77-0562cf5a2682",
   "metadata": {},
   "outputs": [
    {
     "data": {
      "text/plain": [
       "{'questions': [{'id': [351735, 91369],\n",
       "   'text': ['What is the purpose of yawning?',\n",
       "    'Why do mammals yawn and stretch?']},\n",
       "  {'id': [351736, 339786],\n",
       "   'text': ['Can anyone help me solve this math riddle?',\n",
       "    'Mathematics and Physics: Can anyone help me solve this?']},\n",
       "  {'id': [351737, 351738],\n",
       "   'text': ['What SAT/ACT scores are average for the University of Michigan?',\n",
       "    'What is considered a low SAT/ACT score to get into Stanford?']},\n",
       "  {'id': [351739, 351740],\n",
       "   'text': ['What is the business can I do now that Modi is trying to change India to a cashless economy?',\n",
       "    'What is the business I can do now that Modi is trying to change India to a cashless economy?']},\n",
       "  {'id': [351741, 199625],\n",
       "   'text': [\"Do Christians really still believe in Noah's Ark, Santa Claus, and Jonah living inside the whale?\",\n",
       "    \"Why do rational people believe in Noah's Ark?\"]}],\n",
       " 'is_duplicate': [False, False, False, True, False]}"
      ]
     },
     "execution_count": 10,
     "metadata": {},
     "output_type": "execute_result"
    }
   ],
   "source": [
    "dataset[5:10]"
   ]
  },
  {
   "cell_type": "code",
   "execution_count": 11,
   "id": "ff3a49ce-a184-41ab-9bea-b551b4331263",
   "metadata": {},
   "outputs": [],
   "source": [
    "questions = [y for x in dataset['questions'] for y in x['text']]"
   ]
  },
  {
   "cell_type": "code",
   "execution_count": 12,
   "id": "6c74206a-34ea-460c-a39d-710dbd4b4e91",
   "metadata": {},
   "outputs": [
    {
     "data": {
      "text/plain": [
       "['What is the truth of life?',\n",
       " \"What's the evil truth of life?\",\n",
       " 'Which is the best smartphone under 20K in India?',\n",
       " 'Which is the best smartphone with in 20k in India?',\n",
       " 'Steps taken by Canadian government to improve literacy rate?']"
      ]
     },
     "execution_count": 12,
     "metadata": {},
     "output_type": "execute_result"
    }
   ],
   "source": [
    "questions[:5]"
   ]
  },
  {
   "cell_type": "code",
   "execution_count": 13,
   "id": "0961f572-b801-4b02-9c2d-e4109c1c96a8",
   "metadata": {},
   "outputs": [
    {
     "data": {
      "text/plain": [
       "100000"
      ]
     },
     "execution_count": 13,
     "metadata": {},
     "output_type": "execute_result"
    }
   ],
   "source": [
    "len(questions)"
   ]
  },
  {
   "cell_type": "markdown",
   "id": "11c1bd86-f9e4-4543-a170-19e24601524e",
   "metadata": {},
   "source": [
    "### Load model"
   ]
  },
  {
   "cell_type": "code",
   "execution_count": 14,
   "id": "e1dd403e-be90-43b0-8e98-75a5078db106",
   "metadata": {},
   "outputs": [],
   "source": [
    "model = SentenceTransformer('all-MiniLM-L6-v2', device=device)"
   ]
  },
  {
   "cell_type": "code",
   "execution_count": 15,
   "id": "2d4565a8-3506-4f20-98d5-56494a120a24",
   "metadata": {},
   "outputs": [
    {
     "data": {
      "text/plain": [
       "(384,)"
      ]
     },
     "execution_count": 15,
     "metadata": {},
     "output_type": "execute_result"
    }
   ],
   "source": [
    "query = 'which city is the most populated in the world?'\n",
    "xq = model.encode(query)\n",
    "xq.shape"
   ]
  },
  {
   "cell_type": "code",
   "execution_count": 19,
   "id": "7f3eaa39-0dff-4f16-b996-a7ead199a434",
   "metadata": {},
   "outputs": [
    {
     "data": {
      "text/plain": [
       "384"
      ]
     },
     "execution_count": 19,
     "metadata": {},
     "output_type": "execute_result"
    }
   ],
   "source": [
    "model.get_sentence_embedding_dimension()"
   ]
  },
  {
   "cell_type": "markdown",
   "id": "a15a7a9d-ac4a-485f-bcb1-e2a86855bfbd",
   "metadata": {},
   "source": [
    "### Setup Pinecone"
   ]
  },
  {
   "cell_type": "code",
   "execution_count": 16,
   "id": "22f64556-0ef1-467b-ba80-d3d27ebf48bb",
   "metadata": {},
   "outputs": [],
   "source": [
    "utils = Utils()"
   ]
  },
  {
   "cell_type": "code",
   "execution_count": 17,
   "id": "7919dc40-1568-41b3-aa5b-9eb26c2c59ff",
   "metadata": {},
   "outputs": [],
   "source": [
    "PINECONE_API_KEY = utils.get_pinecone_api_key()\n",
    "pinecone = Pinecone(api_key=PINECONE_API_KEY)"
   ]
  },
  {
   "cell_type": "code",
   "execution_count": 18,
   "id": "f1465b5c-7a62-4869-a543-04eee8dfdbbb",
   "metadata": {},
   "outputs": [
    {
     "name": "stdout",
     "output_type": "stream",
     "text": [
      "dl-ai-j532omwwt3blbkfjv9hy1uwtzo8q3errx4vh\n"
     ]
    }
   ],
   "source": [
    "INDEX_NAME = utils.create_dlai_index_name('dl-ai')\n",
    "\n",
    "if INDEX_NAME in [index.name for index in pinecone.list_indexes()]:\n",
    "    pinecone.delete_index(INDEX_NAME)\n",
    "print(INDEX_NAME)"
   ]
  },
  {
   "cell_type": "code",
   "execution_count": 19,
   "id": "6860f6a2-b158-42b2-952d-fecad3a01653",
   "metadata": {},
   "outputs": [
    {
     "name": "stdout",
     "output_type": "stream",
     "text": [
      "<pinecone.data.index.Index object at 0x0000023D69ECEAA0>\n"
     ]
    }
   ],
   "source": [
    "pinecone.create_index(name=INDEX_NAME, \n",
    "    dimension=model.get_sentence_embedding_dimension(), \n",
    "    metric='cosine',\n",
    "    spec=ServerlessSpec(cloud='aws', region=\"us-east-1\"))\n",
    "\n",
    "index = pinecone.Index(INDEX_NAME)\n",
    "print(index)"
   ]
  },
  {
   "cell_type": "markdown",
   "id": "214b5ef1-acba-4bab-ba81-09c2344e5cf9",
   "metadata": {},
   "source": [
    "### Embeddings"
   ]
  },
  {
   "cell_type": "code",
   "execution_count": 20,
   "id": "f1ccfc28-e877-453d-9467-ed11f5c02343",
   "metadata": {},
   "outputs": [],
   "source": [
    "batch_size=200\n",
    "vector_limit=10000\n",
    "\n",
    "questions = questions[:vector_limit]"
   ]
  },
  {
   "cell_type": "code",
   "execution_count": 21,
   "id": "d37ffc7b-3a3a-4b41-82f0-ecda7c0a63a9",
   "metadata": {},
   "outputs": [
    {
     "name": "stderr",
     "output_type": "stream",
     "text": [
      "100%|███████████████████████████████████████████████████████████████████████████| 50/50 [00:54<00:00,  1.09s/it]\n"
     ]
    }
   ],
   "source": [
    "for i in tqdm(range(0, len(questions), batch_size)):\n",
    "    # find end of batch\n",
    "    i_end = min(i+batch_size, len(questions))\n",
    "    # create IDs batch\n",
    "    ids = [str(x) for x in range(i, i_end)]\n",
    "    # create metadata batch\n",
    "    metadatas = [{'text': text} for text in questions[i:i_end]]\n",
    "    # create embeddings\n",
    "    xc = model.encode(questions[i:i_end])\n",
    "    # create records list for upsert\n",
    "    records = zip(ids, xc, metadatas)\n",
    "    # upsert to Pinecone\n",
    "    index.upsert(vectors=records)"
   ]
  },
  {
   "cell_type": "code",
   "execution_count": 22,
   "id": "9bf661a3-9c8c-4930-8550-c1d6dd9042c8",
   "metadata": {},
   "outputs": [
    {
     "data": {
      "text/plain": [
       "{'dimension': 384,\n",
       " 'index_fullness': 0.0,\n",
       " 'namespaces': {'': {'vector_count': 10200}},\n",
       " 'total_vector_count': 10200}"
      ]
     },
     "execution_count": 22,
     "metadata": {},
     "output_type": "execute_result"
    }
   ],
   "source": [
    "index.describe_index_stats()"
   ]
  },
  {
   "cell_type": "markdown",
   "id": "e3363dd1-8962-45e4-b94b-b67d8002dc3e",
   "metadata": {},
   "source": [
    "### Query"
   ]
  },
  {
   "cell_type": "code",
   "execution_count": 23,
   "id": "135cfe01-5105-43dd-bece-ed55154a6123",
   "metadata": {},
   "outputs": [],
   "source": [
    "# small helper function so we can repeat queries later\n",
    "def run_query(query):\n",
    "  embedding = model.encode(query).tolist()\n",
    "  results = index.query(top_k=10, vector=embedding, include_metadata=True, include_values=False)\n",
    "  for result in results['matches']:\n",
    "    print(f\"{round(result['score'], 2)}: {result['metadata']['text']}\")"
   ]
  },
  {
   "cell_type": "code",
   "execution_count": 24,
   "id": "64fd28c7-7c57-4374-b8d2-7403df64c44a",
   "metadata": {},
   "outputs": [
    {
     "name": "stdout",
     "output_type": "stream",
     "text": [
      "0.57: What is the conflict between Israel and Palestine?\n",
      "0.53: Is Judaism polytheistic?\n",
      "0.49: When did the conflict between Israel and Palestine start?\n",
      "0.49: Was early Judaism polytheist?\n",
      "0.47: What individuals and events in history are a source of pride for Israel?\n",
      "0.46: What are some common misconceptions about Israel?\n",
      "0.46: What is the definition of \"Nation\"?\n",
      "0.46: What is demonitization?\n",
      "0.45: What is the definition of a nation?\n",
      "0.43: What are the contributions of Islamism to the world?\n"
     ]
    }
   ],
   "source": [
    "query = 'what is zionism?'\n",
    "run_query(query)"
   ]
  },
  {
   "cell_type": "code",
   "execution_count": null,
   "id": "7951bfa3-81ca-47d2-a561-2b06ca860db9",
   "metadata": {},
   "outputs": [],
   "source": []
  },
  {
   "cell_type": "code",
   "execution_count": null,
   "id": "fbdc8b2f-8866-4bbf-8d23-10cd4f0e8a94",
   "metadata": {},
   "outputs": [],
   "source": []
  },
  {
   "cell_type": "code",
   "execution_count": null,
   "id": "60777f31-531b-427b-824a-ea4e0160b034",
   "metadata": {},
   "outputs": [],
   "source": []
  },
  {
   "cell_type": "code",
   "execution_count": null,
   "id": "5845a475-12ad-4b68-8108-93f4d6a6a149",
   "metadata": {},
   "outputs": [],
   "source": []
  }
 ],
 "metadata": {
  "kernelspec": {
   "display_name": "Python 3 (ipykernel)",
   "language": "python",
   "name": "python3"
  },
  "language_info": {
   "codemirror_mode": {
    "name": "ipython",
    "version": 3
   },
   "file_extension": ".py",
   "mimetype": "text/x-python",
   "name": "python",
   "nbconvert_exporter": "python",
   "pygments_lexer": "ipython3",
   "version": "3.10.14"
  }
 },
 "nbformat": 4,
 "nbformat_minor": 5
}
