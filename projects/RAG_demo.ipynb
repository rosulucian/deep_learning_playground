{
 "cells": [
  {
   "cell_type": "code",
   "execution_count": 77,
   "id": "8b164fac-9f5f-4012-9078-2285b33611e5",
   "metadata": {},
   "outputs": [
    {
     "name": "stdout",
     "output_type": "stream",
     "text": [
      "The autoreload extension is already loaded. To reload it, use:\n",
      "  %reload_ext autoreload\n"
     ]
    }
   ],
   "source": [
    "%load_ext autoreload\n",
    "%autoreload 2"
   ]
  },
  {
   "cell_type": "code",
   "execution_count": 78,
   "id": "d18b5d5b-7c66-4bbe-8ba1-66ab1dd04b47",
   "metadata": {},
   "outputs": [],
   "source": [
    "import warnings\n",
    "warnings.filterwarnings('ignore')"
   ]
  },
  {
   "cell_type": "code",
   "execution_count": 79,
   "id": "fb2cf845-61ab-4f74-a17c-627ee92b2ab6",
   "metadata": {},
   "outputs": [],
   "source": [
    "from datasets import load_dataset\n",
    "from openai import OpenAI\n",
    "from pinecone import Pinecone, ServerlessSpec\n",
    "from tqdm.auto import tqdm\n",
    "from DLAIUtils import Utils\n",
    "\n",
    "import ast\n",
    "import os\n",
    "import pandas as pd"
   ]
  },
  {
   "cell_type": "markdown",
   "id": "1e2678e5-a241-4f5b-864f-e1f309635984",
   "metadata": {},
   "source": [
    "### Setup pinecone"
   ]
  },
  {
   "cell_type": "code",
   "execution_count": 80,
   "id": "40543ac5-09f1-4db5-bc69-e04525be2fee",
   "metadata": {},
   "outputs": [],
   "source": [
    "# get api key\n",
    "utils = Utils()\n",
    "PINECONE_API_KEY = utils.get_pinecone_api_key()\n",
    "\n",
    "pinecone = Pinecone(api_key=PINECONE_API_KEY)"
   ]
  },
  {
   "cell_type": "code",
   "execution_count": 81,
   "id": "ecd944ef-6190-4979-a112-3f99848b4be2",
   "metadata": {},
   "outputs": [],
   "source": [
    "utils = Utils()\n",
    "INDEX_NAME = utils.create_dlai_index_name('dl-ai')\n",
    "if INDEX_NAME in [index.name for index in pinecone.list_indexes()]:\n",
    "  pinecone.delete_index(INDEX_NAME)"
   ]
  },
  {
   "cell_type": "code",
   "execution_count": 82,
   "id": "f1676989-fe61-4788-9420-fc51f6084bcb",
   "metadata": {},
   "outputs": [],
   "source": [
    "pinecone.create_index(name=INDEX_NAME, dimension=1536, metric='cosine',\n",
    "  spec=ServerlessSpec(cloud='aws', region='us-east-1'))\n",
    "\n",
    "index = pinecone.Index(INDEX_NAME)"
   ]
  },
  {
   "cell_type": "code",
   "execution_count": 83,
   "id": "4c3acf6b-d081-4471-8ae7-3361f91fb667",
   "metadata": {},
   "outputs": [
    {
     "data": {
      "text/plain": [
       "'dl-ai-j532omwwt3blbkfjv9hy1uwtzo8q3errx4vh'"
      ]
     },
     "execution_count": 83,
     "metadata": {},
     "output_type": "execute_result"
    }
   ],
   "source": [
    "INDEX_NAME"
   ]
  },
  {
   "cell_type": "markdown",
   "id": "a1387d6f-47b7-49da-a73d-05012bf2e37f",
   "metadata": {},
   "source": [
    "### Store embeddings"
   ]
  },
  {
   "cell_type": "code",
   "execution_count": 90,
   "id": "64568beb-b5c7-4350-b89a-c562bcb9e70b",
   "metadata": {},
   "outputs": [],
   "source": [
    "data_csv = \"E:\\data\\wiki.csv\""
   ]
  },
  {
   "cell_type": "code",
   "execution_count": 91,
   "id": "997f03c2-c010-48e4-989f-7aa5e0cd8e52",
   "metadata": {},
   "outputs": [
    {
     "data": {
      "text/html": [
       "<div>\n",
       "<style scoped>\n",
       "    .dataframe tbody tr th:only-of-type {\n",
       "        vertical-align: middle;\n",
       "    }\n",
       "\n",
       "    .dataframe tbody tr th {\n",
       "        vertical-align: top;\n",
       "    }\n",
       "\n",
       "    .dataframe thead th {\n",
       "        text-align: right;\n",
       "    }\n",
       "</style>\n",
       "<table border=\"1\" class=\"dataframe\">\n",
       "  <thead>\n",
       "    <tr style=\"text-align: right;\">\n",
       "      <th></th>\n",
       "      <th>id</th>\n",
       "      <th>metadata</th>\n",
       "      <th>values</th>\n",
       "    </tr>\n",
       "  </thead>\n",
       "  <tbody>\n",
       "    <tr>\n",
       "      <th>1</th>\n",
       "      <td>1-0</td>\n",
       "      <td>{'chunk': 0, 'source': 'https://simple.wikiped...</td>\n",
       "      <td>[-0.011254455894231796, -0.01698738895356655, ...</td>\n",
       "    </tr>\n",
       "    <tr>\n",
       "      <th>2</th>\n",
       "      <td>1-1</td>\n",
       "      <td>{'chunk': 1, 'source': 'https://simple.wikiped...</td>\n",
       "      <td>[-0.0015197008615359664, -0.007858820259571075...</td>\n",
       "    </tr>\n",
       "    <tr>\n",
       "      <th>3</th>\n",
       "      <td>1-2</td>\n",
       "      <td>{'chunk': 2, 'source': 'https://simple.wikiped...</td>\n",
       "      <td>[-0.009930099360644817, -0.012211072258651257,...</td>\n",
       "    </tr>\n",
       "    <tr>\n",
       "      <th>4</th>\n",
       "      <td>1-3</td>\n",
       "      <td>{'chunk': 3, 'source': 'https://simple.wikiped...</td>\n",
       "      <td>[-0.011600767262279987, -0.012608098797500134,...</td>\n",
       "    </tr>\n",
       "    <tr>\n",
       "      <th>5</th>\n",
       "      <td>1-4</td>\n",
       "      <td>{'chunk': 4, 'source': 'https://simple.wikiped...</td>\n",
       "      <td>[-0.026462381705641747, -0.016362832859158516,...</td>\n",
       "    </tr>\n",
       "  </tbody>\n",
       "</table>\n",
       "</div>"
      ],
      "text/plain": [
       "    id                                           metadata  \\\n",
       "1  1-0  {'chunk': 0, 'source': 'https://simple.wikiped...   \n",
       "2  1-1  {'chunk': 1, 'source': 'https://simple.wikiped...   \n",
       "3  1-2  {'chunk': 2, 'source': 'https://simple.wikiped...   \n",
       "4  1-3  {'chunk': 3, 'source': 'https://simple.wikiped...   \n",
       "5  1-4  {'chunk': 4, 'source': 'https://simple.wikiped...   \n",
       "\n",
       "                                              values  \n",
       "1  [-0.011254455894231796, -0.01698738895356655, ...  \n",
       "2  [-0.0015197008615359664, -0.007858820259571075...  \n",
       "3  [-0.009930099360644817, -0.012211072258651257,...  \n",
       "4  [-0.011600767262279987, -0.012608098797500134,...  \n",
       "5  [-0.026462381705641747, -0.016362832859158516,...  "
      ]
     },
     "execution_count": 91,
     "metadata": {},
     "output_type": "execute_result"
    }
   ],
   "source": [
    "max_articles_num = 2000\n",
    "df = pd.read_csv(data_csv, nrows=max_articles_num)\n",
    "df.head()"
   ]
  },
  {
   "cell_type": "code",
   "execution_count": 92,
   "id": "1a5fa970-93b3-467a-9c37-17f6e8eba0ef",
   "metadata": {},
   "outputs": [
    {
     "data": {
      "text/plain": [
       "{'chunk': 0,\n",
       " 'source': 'https://simple.wikipedia.org/wiki/April',\n",
       " 'text': \"April is the fourth month of the year in the Julian and Gregorian calendars, and comes between March and May. It is one of four months to have 30 days.\\n\\nApril always begins on the same day of week as July, and additionally, January in leap years. April always ends on the same day of the week as December.\\n\\nApril's flowers are the Sweet Pea and Daisy. Its birthstone is the diamond. The meaning of the diamond is innocence.\\n\\nThe Month \\n\\nApril comes between March and May, making it the fourth month of the year. It also comes first in the year out of the four months that have 30 days, as June, September and November are later in the year.\\n\\nApril begins on the same day of the week as July every year and on the same day of the week as January in leap years. April ends on the same day of the week as December every year, as each other's last days are exactly 35 weeks (245 days) apart.\\n\\nIn common years, April starts on the same day of the week as October of the previous year, and in leap years, May of the previous year. In common years, April finishes on the same day of the week as July of the previous year, and in leap years, February and October of the previous year. In common years immediately after other common years, April starts on the same day of the week as January of the previous year, and in leap years and years immediately after that, April finishes on the same day of the week as January of the previous year.\",\n",
       " 'title': 'April',\n",
       " 'wiki-id': '1'}"
      ]
     },
     "execution_count": 92,
     "metadata": {},
     "output_type": "execute_result"
    }
   ],
   "source": [
    "ast.literal_eval(df.iloc[0].metadata)"
   ]
  },
  {
   "cell_type": "code",
   "execution_count": 93,
   "id": "bd7e1e93-0712-4f1d-b157-688b9b273a65",
   "metadata": {},
   "outputs": [
    {
     "data": {
      "text/plain": [
       "1546"
      ]
     },
     "execution_count": 93,
     "metadata": {},
     "output_type": "execute_result"
    }
   ],
   "source": [
    "len(ast.literal_eval(df.iloc[1].metadata)['text'])"
   ]
  },
  {
   "cell_type": "code",
   "execution_count": 94,
   "id": "6c775eb6-f53e-4f69-baa9-c28a874bc739",
   "metadata": {},
   "outputs": [
    {
     "data": {
      "text/plain": [
       "1536"
      ]
     },
     "execution_count": 94,
     "metadata": {},
     "output_type": "execute_result"
    }
   ],
   "source": [
    "len(ast.literal_eval(df.iloc[0]['values']))"
   ]
  },
  {
   "cell_type": "code",
   "execution_count": 95,
   "id": "0fc4f7f3-8141-496c-92f1-a3c2804df3de",
   "metadata": {},
   "outputs": [
    {
     "data": {
      "text/plain": [
       "(Index(['id', 'metadata', 'values'], dtype='object'), (2000, 3))"
      ]
     },
     "execution_count": 95,
     "metadata": {},
     "output_type": "execute_result"
    }
   ],
   "source": [
    "df.columns, df.shape"
   ]
  },
  {
   "cell_type": "code",
   "execution_count": 96,
   "id": "b4edd7b1-0380-4d40-b357-9126fe88ef5c",
   "metadata": {},
   "outputs": [
    {
     "name": "stderr",
     "output_type": "stream",
     "text": [
      "100%|███████████████████████████████████████████████████████████████████████| 2000/2000 [00:47<00:00, 42.17it/s]\n"
     ]
    }
   ],
   "source": [
    "prepped = []\n",
    "\n",
    "for i, row in tqdm(df.iterrows(), total=df.shape[0]):\n",
    "    meta = ast.literal_eval(row['metadata'])\n",
    "    values = ast.literal_eval(row['values'])\n",
    "    \n",
    "    prepped.append({'id':row['id'], \n",
    "                    'values':values, \n",
    "                    'metadata':meta})\n",
    "    if len(prepped) >= 250:\n",
    "        index.upsert(prepped)\n",
    "        prepped = []\n"
   ]
  },
  {
   "cell_type": "code",
   "execution_count": 32,
   "id": "3860ba88-f031-4fb8-a2aa-c5dfbc1d201c",
   "metadata": {},
   "outputs": [
    {
     "data": {
      "text/plain": [
       "{'dimension': 1536,\n",
       " 'index_fullness': 0.0,\n",
       " 'namespaces': {'': {'vector_count': 2000}},\n",
       " 'total_vector_count': 2000}"
      ]
     },
     "execution_count": 32,
     "metadata": {},
     "output_type": "execute_result"
    }
   ],
   "source": [
    "index.describe_index_stats()"
   ]
  },
  {
   "cell_type": "markdown",
   "id": "97f50446-be4a-4e1f-91fd-e72c7d1d80a5",
   "metadata": {},
   "source": [
    "### Connect to OpenAI"
   ]
  },
  {
   "cell_type": "code",
   "execution_count": 44,
   "id": "aaf69ef5-e1f2-4a75-8c74-a5b6e50c49af",
   "metadata": {},
   "outputs": [],
   "source": [
    "OPENAI_API_KEY = utils.get_openai_api_key()\n",
    "openai_client = OpenAI(api_key=OPENAI_API_KEY)"
   ]
  },
  {
   "cell_type": "code",
   "execution_count": 46,
   "id": "924c6fe4-2512-47c7-8dc4-e481a274cd62",
   "metadata": {},
   "outputs": [],
   "source": [
    "def get_embeddings(articles, model=\"text-embedding-ada-002\"):\n",
    "   return openai_client.embeddings.create(input = articles, model=model)"
   ]
  },
  {
   "cell_type": "markdown",
   "id": "baf91101-ea2e-46c3-bd74-3748693b7f59",
   "metadata": {},
   "source": [
    "### Embedd query"
   ]
  },
  {
   "cell_type": "code",
   "execution_count": 47,
   "id": "31ee9a76-42a2-4096-a3eb-ea657fa7eba1",
   "metadata": {
    "scrolled": true
   },
   "outputs": [
    {
     "name": "stdout",
     "output_type": "stream",
     "text": [
      "After World War II \n",
      "\n",
      "After World War II, Germany was left in ruins. The victorious Allies that occupied it split it into four parts. in the western half of Germany, one part was given to the United States, one to the United Kingdom, and one to France. The eastern half was occupied by the USSR. The city of Berlin was also split among the four countries even though it was entirely within the eastern half.\n",
      "\n",
      "The Federal Republic of Germany (Bundesrepublik Deutschland or BRD), or West Germany, was recognized by the Western Allies in June 1949 and was a capitalist democracy. West Berlin was considered a part of the country. The Soviets named their section of Germany the German Democratic Republic (Deutsche Demokratische Republik or DDR), or East Germany, later in 1949; it was a communist dictatorship.\n",
      "\n",
      "From April 1948 to May 1949, the Soviets blockaded West Berlin to prevent the city from using West Germany's currency. The United States and its allies supplied the city by airplanes until September 1949 in what became known as the Berlin Airlift. Many East Germans wanted to live in West Germany for having greater quality of life and political freedom. In 1961, the East German government built the Berlin Wall, dividing the two halves of the city, and heavily guarded it to prevent more people from escaping to the west. The wall was considered a symbol of the Cold War and the Iron Curtain that divided Europe.\n",
      "\n",
      "1950s \n",
      "\n",
      "Espionage, or \"spying,\" has been around for a long time and was very important during the Cold War. After its successful nuclear espionage in the Manhattan Project, the Soviets created their spy organs, especially the KGB. The CIA led Americans efforts abroad, and the FBI led counterespionage. Catching foreign spies and fighting domestic subversion  were KGB functions.\n",
      "Berlin (; ) is the capital city of Germany. It is the largest city in the European Union by population, with around 3.7 million people in 2020. Berlin residents come from about 190 different countries.\n",
      "\n",
      "The city is in the eastern part of Germany in Central Europe and is surrounded by many forests and lakes. Berlin has an area of . The rivers Havel, Dahme and Spree run through Berlin. It has a temperate climate.\n",
      "\n",
      "Berlin is home to many famous buildings and monuments, like the Siegessäule, the Brandenburger Tor, the Reichstag and the boulevard Unter den Linden. On the boulevard is the Humboldt University. The city has many nightlife options.\n",
      "\n",
      "Berlin is an important city for the history of Germany. The King of Prussia and the Emperor of Germany lived in Berlin. The government of Germany was in Berlin for many years. Bombs destroyed many buildings in the city in World War Two. The city was split into West Berlin and East Berlin after World War Two. After the Berlin Wall was built in 1961 very few people were allowed to cross from East Berlin into West Berlin. The wall divided the city until 1989 when the East German government decided to allow anyone to cross, and people decided to tear down the wall.\n",
      "\n",
      "Berlin is a world city of culture, start ups, politics, media and science. There are a lot of technology companies in the city. They are important for the city's economy. Many planes and trains travel to and from Berlin because the city is an important place for tourism and business.\n",
      "History \n",
      " 1244 The first writings about a place called Berlin.\n",
      " 1451 The Hohenzollern family moved to Berlin as the place to rule their country\n",
      " 1618 – 48 After the Thirty Years' War in Germany, the number of people that lived in Berlin dropped to only 6000.\n",
      " 1701 Berlin became capital of Prussia.\n",
      " 1709 Berlin and its neighbor city Cölln (not Köln/Cologne) are combined to form the new Berlin.\n",
      " 1806 The army of Napoleon Bonaparte moved into Berlin.\n",
      " 1871 Berlin became capital of the German Empire.\n",
      " 1920 The Old Berlin and some neighbour towns are combined into \"Greater Berlin\" (Groß-Berlin).\n",
      " 1945 The town is divided into four sectors, used by the allies of World War II. There is a Soviet Sector, an American Sector, a British Sector and a French Sector.\n",
      " 1949 After foundation of the two Germanies, the town is still divided. There is now West Berlin and East Berlin.\n",
      " 1961 The Berlin Wall was built by the communist government of East Germany between the two halves of Berlin.\n",
      " 1990 After German reunification, the Berlin Wall is torn down, and there is only one Berlin again. The new Berlin becomes the capital of one Germany.\n",
      " 2001 23 boroughs of Berlin were changed into 12\n",
      " 2006 FIFA World Cup Final held at Olympiastadion\n",
      "\n",
      "People \n",
      "\n",
      "In 2018, Berlin had 3.75 million registered inhabitants in an area of . The city's population density was 4,206 inhabitants per km2. Berlin is the most populous city in Germany an the European Union. The entire Berlin-Brandenburg capital region has a population of more than 6 million in an area of . More than 2.0 million households were counted in the city. Around 60 percent of them were single-person households.\n"
     ]
    }
   ],
   "source": [
    "query = \"what is the berlin wall?\"\n",
    "\n",
    "embed = get_embeddings([query])\n",
    "res = index.query(vector=embed.data[0].embedding, top_k=3, include_metadata=True)\n",
    "text = [r['metadata']['text'] for r in res['matches']]\n",
    "print('\\n'.join(text))"
   ]
  },
  {
   "cell_type": "code",
   "execution_count": 74,
   "id": "dc7f0c4c-cf25-4543-bc45-dbb7fb56b78e",
   "metadata": {
    "scrolled": true
   },
   "outputs": [
    {
     "data": {
      "text/plain": [
       "3"
      ]
     },
     "execution_count": 74,
     "metadata": {},
     "output_type": "execute_result"
    }
   ],
   "source": [
    "len(res.matches)"
   ]
  },
  {
   "cell_type": "code",
   "execution_count": 75,
   "id": "f6ed515b-bb35-4f13-8625-977162f15215",
   "metadata": {
    "scrolled": true
   },
   "outputs": [
    {
     "data": {
      "text/plain": [
       "{'id': '1949-2',\n",
       " 'metadata': {'chunk': 2.0,\n",
       "              'source': 'https://simple.wikipedia.org/wiki/Cold%20War',\n",
       "              'text': 'After World War II \\n'\n",
       "                      '\\n'\n",
       "                      'After World War II, Germany was left in ruins. The '\n",
       "                      'victorious Allies that occupied it split it into four '\n",
       "                      'parts. in the western half of Germany, one part was '\n",
       "                      'given to the United States, one to the United Kingdom, '\n",
       "                      'and one to France. The eastern half was occupied by the '\n",
       "                      'USSR. The city of Berlin was also split among the four '\n",
       "                      'countries even though it was entirely within the '\n",
       "                      'eastern half.\\n'\n",
       "                      '\\n'\n",
       "                      'The Federal Republic of Germany (Bundesrepublik '\n",
       "                      'Deutschland or BRD), or West Germany, was recognized by '\n",
       "                      'the Western Allies in June 1949 and was a capitalist '\n",
       "                      'democracy. West Berlin was considered a part of the '\n",
       "                      'country. The Soviets named their section of Germany the '\n",
       "                      'German Democratic Republic (Deutsche Demokratische '\n",
       "                      'Republik or DDR), or East Germany, later in 1949; it '\n",
       "                      'was a communist dictatorship.\\n'\n",
       "                      '\\n'\n",
       "                      'From April 1948 to May 1949, the Soviets blockaded West '\n",
       "                      \"Berlin to prevent the city from using West Germany's \"\n",
       "                      'currency. The United States and its allies supplied the '\n",
       "                      'city by airplanes until September 1949 in what became '\n",
       "                      'known as the Berlin Airlift. Many East Germans wanted '\n",
       "                      'to live in West Germany for having greater quality of '\n",
       "                      'life and political freedom. In 1961, the East German '\n",
       "                      'government built the Berlin Wall, dividing the two '\n",
       "                      'halves of the city, and heavily guarded it to prevent '\n",
       "                      'more people from escaping to the west. The wall was '\n",
       "                      'considered a symbol of the Cold War and the Iron '\n",
       "                      'Curtain that divided Europe.\\n'\n",
       "                      '\\n'\n",
       "                      '1950s \\n'\n",
       "                      '\\n'\n",
       "                      'Espionage, or \"spying,\" has been around for a long time '\n",
       "                      'and was very important during the Cold War. After its '\n",
       "                      'successful nuclear espionage in the Manhattan Project, '\n",
       "                      'the Soviets created their spy organs, especially the '\n",
       "                      'KGB. The CIA led Americans efforts abroad, and the FBI '\n",
       "                      'led counterespionage. Catching foreign spies and '\n",
       "                      'fighting domestic subversion  were KGB functions.',\n",
       "              'title': 'Cold War',\n",
       "              'wiki-id': '1949'},\n",
       " 'score': 0.837289035,\n",
       " 'values': []}"
      ]
     },
     "execution_count": 75,
     "metadata": {},
     "output_type": "execute_result"
    }
   ],
   "source": [
    "res.matches[0]"
   ]
  },
  {
   "cell_type": "markdown",
   "id": "6dc27f52-6143-4e78-a75e-413f7c3f7add",
   "metadata": {},
   "source": [
    "### Build prompt"
   ]
  },
  {
   "cell_type": "code",
   "execution_count": 97,
   "id": "09e5e225-23e3-4b41-92b6-8b0538251d3e",
   "metadata": {
    "scrolled": true
   },
   "outputs": [
    {
     "name": "stdout",
     "output_type": "stream",
     "text": [
      "Answer the question based on the context below.\n",
      "\n",
      "Context:\n",
      "After World War II \n",
      "\n",
      "After World War II, Germany was left in ruins. The victorious Allies that occupied it split it into four parts. in the western half of Germany, one part was given to the United States, one to the United Kingdom, and one to France. The eastern half was occupied by the USSR. The city of Berlin was also split among the four countries even though it was entirely within the eastern half.\n",
      "\n",
      "The Federal Republic of Germany (Bundesrepublik Deutschland or BRD), or West Germany, was recognized by the Western Allies in June 1949 and was a capitalist democracy. West Berlin was considered a part of the country. The Soviets named their section of Germany the German Democratic Republic (Deutsche Demokratische Republik or DDR), or East Germany, later in 1949; it was a communist dictatorship.\n",
      "\n",
      "From April 1948 to May 1949, the Soviets blockaded West Berlin to prevent the city from using West Germany's currency. The United States and its allies supplied the city by airplanes until September 1949 in what became known as the Berlin Airlift. Many East Germans wanted to live in West Germany for having greater quality of life and political freedom. In 1961, the East German government built the Berlin Wall, dividing the two halves of the city, and heavily guarded it to prevent more people from escaping to the west. The wall was considered a symbol of the Cold War and the Iron Curtain that divided Europe.\n",
      "\n",
      "1950s \n",
      "\n",
      "Espionage, or \"spying,\" has been around for a long time and was very important during the Cold War. After its successful nuclear espionage in the Manhattan Project, the Soviets created their spy organs, especially the KGB. The CIA led Americans efforts abroad, and the FBI led counterespionage. Catching foreign spies and fighting domestic subversion  were KGB functions.\n",
      "\n",
      "---\n",
      "\n",
      "Berlin (; ) is the capital city of Germany. It is the largest city in the European Union by population, with around 3.7 million people in 2020. Berlin residents come from about 190 different countries.\n",
      "\n",
      "The city is in the eastern part of Germany in Central Europe and is surrounded by many forests and lakes. Berlin has an area of . The rivers Havel, Dahme and Spree run through Berlin. It has a temperate climate.\n",
      "\n",
      "Berlin is home to many famous buildings and monuments, like the Siegessäule, the Brandenburger Tor, the Reichstag and the boulevard Unter den Linden. On the boulevard is the Humboldt University. The city has many nightlife options.\n",
      "\n",
      "Berlin is an important city for the history of Germany. The King of Prussia and the Emperor of Germany lived in Berlin. The government of Germany was in Berlin for many years. Bombs destroyed many buildings in the city in World War Two. The city was split into West Berlin and East Berlin after World War Two. After the Berlin Wall was built in 1961 very few people were allowed to cross from East Berlin into West Berlin. The wall divided the city until 1989 when the East German government decided to allow anyone to cross, and people decided to tear down the wall.\n",
      "\n",
      "Berlin is a world city of culture, start ups, politics, media and science. There are a lot of technology companies in the city. They are important for the city's economy. Many planes and trains travel to and from Berlin because the city is an important place for tourism and business.\n",
      "\n",
      "---\n",
      "\n",
      "History \n",
      " 1244 The first writings about a place called Berlin.\n",
      " 1451 The Hohenzollern family moved to Berlin as the place to rule their country\n",
      " 1618 – 48 After the Thirty Years' War in Germany, the number of people that lived in Berlin dropped to only 6000.\n",
      " 1701 Berlin became capital of Prussia.\n",
      " 1709 Berlin and its neighbor city Cölln (not Köln/Cologne) are combined to form the new Berlin.\n",
      " 1806 The army of Napoleon Bonaparte moved into Berlin.\n",
      " 1871 Berlin became capital of the German Empire.\n",
      " 1920 The Old Berlin and some neighbour towns are combined into \"Greater Berlin\" (Groß-Berlin).\n",
      " 1945 The town is divided into four sectors, used by the allies of World War II. There is a Soviet Sector, an American Sector, a British Sector and a French Sector.\n",
      " 1949 After foundation of the two Germanies, the town is still divided. There is now West Berlin and East Berlin.\n",
      " 1961 The Berlin Wall was built by the communist government of East Germany between the two halves of Berlin.\n",
      " 1990 After German reunification, the Berlin Wall is torn down, and there is only one Berlin again. The new Berlin becomes the capital of one Germany.\n",
      " 2001 23 boroughs of Berlin were changed into 12\n",
      " 2006 FIFA World Cup Final held at Olympiastadion\n",
      "\n",
      "People \n",
      "\n",
      "In 2018, Berlin had 3.75 million registered inhabitants in an area of . The city's population density was 4,206 inhabitants per km2. Berlin is the most populous city in Germany an the European Union. The entire Berlin-Brandenburg capital region has a population of more than 6 million in an area of . More than 2.0 million households were counted in the city. Around 60 percent of them were single-person households.\n",
      "\n",
      "Question: write an article titled: what is the berlin wall?\n",
      "Answer:\n"
     ]
    }
   ],
   "source": [
    "query = \"write an article titled: what is the berlin wall?\"\n",
    "embed = get_embeddings([query])\n",
    "res = index.query(vector=embed.data[0].embedding, top_k=3, include_metadata=True)\n",
    "\n",
    "contexts = [\n",
    "    x['metadata']['text'] for x in res['matches']\n",
    "]\n",
    "\n",
    "prompt_start = (\n",
    "    \"Answer the question based on the context below.\\n\\n\"+\n",
    "    \"Context:\\n\"\n",
    ")\n",
    "\n",
    "prompt_end = (\n",
    "    f\"\\n\\nQuestion: {query}\\nAnswer:\"\n",
    ")\n",
    "\n",
    "prompt = (\n",
    "    prompt_start + \"\\n\\n---\\n\\n\".join(contexts) + \n",
    "    prompt_end\n",
    ")\n",
    "\n",
    "print(prompt)"
   ]
  },
  {
   "cell_type": "markdown",
   "id": "b1299b0e-8f31-4202-8b33-208c37dbd552",
   "metadata": {},
   "source": [
    "### RAG"
   ]
  },
  {
   "cell_type": "code",
   "execution_count": 98,
   "id": "1b280da4-43a2-4f60-846f-dbf1848a8776",
   "metadata": {},
   "outputs": [
    {
     "name": "stdout",
     "output_type": "stream",
     "text": [
      "--------------------------------------------------------------------------------\n",
      "\n",
      "The Berlin Wall, also known as the \"Iron Curtain,\" was a physical barrier that divided the city of Berlin from 1961 to 1989. It was built by the communist government of East Germany to prevent its citizens from fleeing to the democratic West Germany. The wall was a symbol of the Cold War and the division between the Western and Eastern powers.\n",
      "\n",
      "The construction of the Berlin Wall began on August 13, 1961, and it consisted of a concrete wall, barbed wire, and guard towers. The wall was 96 miles long and 12 feet high, with a \"death strip\" in between the two sides. This strip was heavily guarded and contained mines, dogs, and other obstacles to prevent people from crossing.\n",
      "\n",
      "The Berlin Wall was a result of the tensions between the Soviet Union and the Western Allies after World War II. Germany was divided into four parts, with the Western Allies occupying the western half and the Soviet Union occupying the eastern half. The city of Berlin, located in the eastern half, was also divided into four sectors, with the Western Allies controlling West Berlin and the Soviet Union controlling East Berlin.\n",
      "\n",
      "The wall was built to stop the mass emigration of East Germans to the West, as the economic and political conditions were better there. The East German government claimed that the wall was built to protect its citizens from Western imperialism and fascism. However, it was clear that the wall was built to prevent its citizens from leaving and to maintain control over them.\n",
      "\n",
      "The Berlin Wall was a symbol of the Cold War and the division between the Western and Eastern powers. It was also a symbol of the oppression and lack of freedom in the communist regime. Many people risked their lives to escape from East Germany to the West, and over 5,000 people were successful in doing so. However, over 100 people lost their lives while trying to cross the wall.\n",
      "\n",
      "In 1989, with the fall of the Soviet Union and the weakening of the communist regime, the Berlin Wall was torn down. This event marked the end of the Cold War and the beginning of German reunification. Today, the Berlin Wall is a popular tourist attraction, and its remnants serve as a reminder of the division and struggle that the city and its people endured for almost three decades.\n",
      "\n",
      "In conclusion, the Berlin Wall was a physical and ideological barrier that divided the city of Berlin and symbolized the division between the Western and Eastern powers during the Cold War. Its construction and eventual fall had a significant impact on the history of Germany and the world. The Berlin Wall will always be remembered as a symbol of oppression and the fight for freedom.\n"
     ]
    }
   ],
   "source": [
    "res = openai_client.completions.create(\n",
    "    model=\"gpt-3.5-turbo-instruct\",\n",
    "    prompt=prompt,\n",
    "    temperature=0,\n",
    "    max_tokens=636,\n",
    "    top_p=1,\n",
    "    frequency_penalty=0,\n",
    "    presence_penalty=0,\n",
    "    stop=None\n",
    ")\n",
    "print('-' * 80)\n",
    "print(res.choices[0].text)"
   ]
  },
  {
   "cell_type": "code",
   "execution_count": null,
   "id": "81f4bc6d-23ae-490b-8b2e-e5c1ede160a7",
   "metadata": {},
   "outputs": [],
   "source": []
  },
  {
   "cell_type": "code",
   "execution_count": null,
   "id": "6f263757-6d02-44ad-a804-39f090f6339f",
   "metadata": {},
   "outputs": [],
   "source": []
  },
  {
   "cell_type": "code",
   "execution_count": null,
   "id": "208d2f2a-07b8-4465-a4ff-716669bef23a",
   "metadata": {},
   "outputs": [],
   "source": []
  }
 ],
 "metadata": {
  "kernelspec": {
   "display_name": "Python 3 (ipykernel)",
   "language": "python",
   "name": "python3"
  },
  "language_info": {
   "codemirror_mode": {
    "name": "ipython",
    "version": 3
   },
   "file_extension": ".py",
   "mimetype": "text/x-python",
   "name": "python",
   "nbconvert_exporter": "python",
   "pygments_lexer": "ipython3",
   "version": "3.10.14"
  }
 },
 "nbformat": 4,
 "nbformat_minor": 5
}
