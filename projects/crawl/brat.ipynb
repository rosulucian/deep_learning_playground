{
 "cells": [
  {
   "cell_type": "code",
   "execution_count": 1,
   "id": "23b29da1-94d9-43ae-867c-dc5ac32e88c6",
   "metadata": {},
   "outputs": [],
   "source": [
    "import io\n",
    "import time\n",
    "\n",
    "import pandas as pd\n",
    "\n",
    "from urllib.parse import urlparse\n",
    "from datetime import datetime, date, UTC\n",
    "from dateutil.parser import parse\n",
    "from pymongo import MongoClient, UpdateOne"
   ]
  },
  {
   "cell_type": "code",
   "execution_count": 2,
   "id": "b5220b40-d7c9-4160-ac89-268680c97957",
   "metadata": {},
   "outputs": [],
   "source": [
    "url = \"https://hotnews.ro/sitemap.xml?yyyy=2001&mm=09&dd=21\""
   ]
  },
  {
   "cell_type": "code",
   "execution_count": 3,
   "id": "67e7aab0-277f-4b85-89a0-e743ac62aef4",
   "metadata": {},
   "outputs": [
    {
     "data": {
      "text/plain": [
       "ParseResult(scheme='https', netloc='hotnews.ro', path='/sitemap.xml', params='', query='yyyy=2001&mm=09&dd=21', fragment='')"
      ]
     },
     "execution_count": 3,
     "metadata": {},
     "output_type": "execute_result"
    }
   ],
   "source": [
    "parsed = urlparse(url)\n",
    "\n",
    "parsed"
   ]
  },
  {
   "cell_type": "code",
   "execution_count": 4,
   "id": "e33cda59-7871-4206-b642-bb485d1a8e75",
   "metadata": {},
   "outputs": [
    {
     "data": {
      "text/plain": [
       "'yyyy=2001&mm=09&dd=21'"
      ]
     },
     "execution_count": 4,
     "metadata": {},
     "output_type": "execute_result"
    }
   ],
   "source": [
    "parsed.query"
   ]
  },
  {
   "cell_type": "code",
   "execution_count": 5,
   "id": "230689c6-3eec-4016-846a-2609d40d862e",
   "metadata": {},
   "outputs": [
    {
     "data": {
      "text/plain": [
       "datetime.datetime(2001, 9, 21, 0, 0)"
      ]
     },
     "execution_count": 5,
     "metadata": {},
     "output_type": "execute_result"
    }
   ],
   "source": [
    "# Extract the date part (remove labels)\n",
    "formatted_date_str = parsed.query.replace(\"yyyy=\", \"\").replace(\"&mm=\", \"-\").replace(\"&dd=\", \"-\")\n",
    "\n",
    "# Parse the date using datetime.strptime\n",
    "date_object = datetime.strptime(formatted_date_str, \"%Y-%m-%d\")\n",
    "\n",
    "date_object"
   ]
  },
  {
   "cell_type": "code",
   "execution_count": null,
   "id": "134cc188-0999-42c2-b77b-45fa4a7b9848",
   "metadata": {},
   "outputs": [],
   "source": []
  },
  {
   "cell_type": "code",
   "execution_count": 6,
   "id": "0546ab7b-1752-456a-904b-572487b892d2",
   "metadata": {},
   "outputs": [
    {
     "data": {
      "text/plain": [
       "datetime.datetime(2024, 11, 5, 5, 22, 14, tzinfo=tzutc())"
      ]
     },
     "execution_count": 6,
     "metadata": {},
     "output_type": "execute_result"
    }
   ],
   "source": [
    "date_str = '2024-11-05T05:22:14+00:00'\n",
    "parse(date_str)"
   ]
  },
  {
   "cell_type": "code",
   "execution_count": 7,
   "id": "ef8accbd-cfcc-4d58-b0d2-d81ea7f71f0c",
   "metadata": {},
   "outputs": [
    {
     "data": {
      "text/plain": [
       "'2024-12-16T18:15:32.314510'"
      ]
     },
     "execution_count": 7,
     "metadata": {},
     "output_type": "execute_result"
    }
   ],
   "source": [
    "datetime.now().isoformat()"
   ]
  },
  {
   "cell_type": "markdown",
   "id": "86b967f0-a05e-433a-90ef-7ab59110ae05",
   "metadata": {},
   "source": [
    "### Mongo queries"
   ]
  },
  {
   "cell_type": "code",
   "execution_count": 8,
   "id": "664474d2-b5b0-410e-9ee1-c6dc83da00ac",
   "metadata": {},
   "outputs": [],
   "source": [
    "# Connect to the MongoDB server\n",
    "client = MongoClient(\"mongodb://localhost:27017/\")  # Replace with your MongoDB connection string\n",
    "db = client['crawler']  # Replace with your database name\n",
    "batches_coll = db['batches']  # Replace with your collection name\n",
    "cache_coll = db['httpcache']\n",
    "urls_coll = db['urls_db'] \n",
    "content_coll = db['content'] "
   ]
  },
  {
   "cell_type": "code",
   "execution_count": 9,
   "id": "d7925b2f-a0a6-4342-9533-53df046dbb59",
   "metadata": {},
   "outputs": [],
   "source": [
    "# db.getCollectionInfos({'name': content_coll})[0].options.validator"
   ]
  },
  {
   "cell_type": "code",
   "execution_count": 10,
   "id": "f2642c09-9e3a-4d0f-9c80-3940b535f0a9",
   "metadata": {},
   "outputs": [
    {
     "name": "stdout",
     "output_type": "stream",
     "text": [
      "{'_id': ObjectId('67487b007fd61c234579f51f'), 'batch_id': 1732803311, 'scraped': False}\n",
      "{'_id': ObjectId('674e06757fd61c234579f59a'), 'batch_id': 1733166703, 'scraped': False}\n",
      "{'_id': ObjectId('674ecc657fd61c234579f5cf'), 'batch_id': 1733217371, 'scraped': False}\n",
      "{'_id': ObjectId('67506c027fd61c234579f5d7'), 'batch_id': 1733323766, 'scraped': False}\n",
      "{'_id': ObjectId('67506c407fd61c234579f629'), 'batch_id': 1733323806, 'scraped': False}\n",
      "{'_id': ObjectId('6752d1377fd61c23457a0175'), 'batch_id': 1733480735, 'scraped': False}\n",
      "{'_id': ObjectId('6752d2627fd61c23457a0b1e'), 'batch_id': 1733481043, 'scraped': False}\n",
      "{'_id': ObjectId('6752d4f87fd61c23457a0b1f'), 'batch_id': 1733481706, 'scraped': False}\n",
      "{'_id': ObjectId('6752d5db7fd61c23457a0b20'), 'batch_id': 1733481848, 'scraped': False}\n",
      "{'_id': ObjectId('675af479647c8c085d4f520c'), 'batch_id': 1734014034, 'scraped': False}\n"
     ]
    },
    {
     "data": {
      "text/plain": [
       "[1732803311,\n",
       " 1733166703,\n",
       " 1733217371,\n",
       " 1733323766,\n",
       " 1733323806,\n",
       " 1733480735,\n",
       " 1733481043,\n",
       " 1733481706,\n",
       " 1733481848,\n",
       " 1734014034]"
      ]
     },
     "execution_count": 10,
     "metadata": {},
     "output_type": "execute_result"
    }
   ],
   "source": [
    "# Query for all documents where 'batch_id' is True\n",
    "query = {\"scraped\": False}\n",
    "documents = list(batches_coll.find(query))\n",
    "\n",
    "# Iterate and print the documents\n",
    "for doc in documents:\n",
    "    print(doc)\n",
    "\n",
    "ids = [doc['batch_id'] for doc in documents]\n",
    "ids"
   ]
  },
  {
   "cell_type": "code",
   "execution_count": 11,
   "id": "fdb16ff2-d660-4118-86e8-2932f9b70c6f",
   "metadata": {},
   "outputs": [
    {
     "data": {
      "text/plain": [
       "6051"
      ]
     },
     "execution_count": 11,
     "metadata": {},
     "output_type": "execute_result"
    }
   ],
   "source": [
    "\n",
    "query = {'batch_id': {'$in': ids}}\n",
    "projection = {'url': 1, '_id': 0}\n",
    "# query = {\"scraped\": False}\n",
    "documents = list(urls_coll.find(query, projection))\n",
    "documents =[doc['url'] for doc in documents]\n",
    "len(documents)"
   ]
  },
  {
   "cell_type": "code",
   "execution_count": 12,
   "id": "806c1b1b-5801-4748-b0e6-61f8663d28b0",
   "metadata": {},
   "outputs": [
    {
     "data": {
      "text/plain": [
       "['https://hotnews.ro/cat-de-periculoasa-ar-fi-victoria-lui-georgescu-si-cat-ar-dura-iesirea-romaniei-din-ue-daca-independentul-ar-ajunge-la-cotroceni-explicatiile-unui-vicepresedinte-al-parlamentului-european-1847441',\n",
       " 'https://hotnews.ro/cristian-tudor-popescu-indica-o-catastrofa-si-mai-mare-decat-procentul-obtinut-la-alegeri-de-calin-georgescu-cat-a-costat-operatiunea-speciala-de-propagare-pe-tiktok-1847445',\n",
       " 'https://hotnews.ro/actele-de-sabotaj-ale-rusiei-ar-putea-duce-nato-la-invocarea-articolului-5-spune-seful-serviciului-german-de-spionaj-extern-armata-kremlinului-va-fi-probabil-capabila-sa-atace-nato-pana-la-sfarsitu-1847463',\n",
       " 'https://hotnews.ro/video-viscolul-secolului-loveste-rusia-autoritatile-au-instituit-stare-de-urgenta-dupa-ce-stratul-de-zapada-a-atins-un-nivel-record-in-regiunea-amur-1847472']"
      ]
     },
     "execution_count": 12,
     "metadata": {},
     "output_type": "execute_result"
    }
   ],
   "source": [
    "documents[:4]"
   ]
  },
  {
   "cell_type": "markdown",
   "id": "40ac3450-d9d4-4c76-a4e5-7519ef581f6e",
   "metadata": {},
   "source": [
    "### BRAT"
   ]
  },
  {
   "cell_type": "code",
   "execution_count": 13,
   "id": "e2afbf74-423d-43ae-b3bc-75a05d47323b",
   "metadata": {},
   "outputs": [
    {
     "data": {
      "text/plain": [
       "1"
      ]
     },
     "execution_count": 13,
     "metadata": {},
     "output_type": "execute_result"
    }
   ],
   "source": [
    "query = {\"url\": 'https://www.brat.ro/sati/export-rezultate/export/xls/type/site/c/all/period_type/day/category/all/editor/all/regie/all/period_filter/2024-12-3/order_by/name/order/asc/'}\n",
    "projection = {'url': 1, 'body': 1, '_id': 0}\n",
    "documents = list(cache_coll.find(query, projection))\n",
    "\n",
    "len(documents)"
   ]
  },
  {
   "cell_type": "code",
   "execution_count": 14,
   "id": "bb9871b1-9e83-4094-a46b-92be8d28b9cb",
   "metadata": {
    "scrolled": true
   },
   "outputs": [
    {
     "data": {
      "text/plain": [
       "(776, 12)"
      ]
     },
     "execution_count": 14,
     "metadata": {},
     "output_type": "execute_result"
    }
   ],
   "source": [
    "data = documents[0]['body']\n",
    "\n",
    "df = pd.read_excel(io.BytesIO(data))\n",
    "df.columns = map(str.lower, df.columns)\n",
    "df['tip trafic'] = df['tip trafic'].fillna('total')\n",
    "df['cat'] = df['categorie'].apply(lambda x: ''.join(i[0:3] for i in x.lower().split()))\n",
    "\n",
    "df.shape"
   ]
  },
  {
   "cell_type": "code",
   "execution_count": 15,
   "id": "33e454c9-af47-4eff-9904-9ed4681f71d4",
   "metadata": {},
   "outputs": [
    {
     "data": {
      "text/html": [
       "<div>\n",
       "<style scoped>\n",
       "    .dataframe tbody tr th:only-of-type {\n",
       "        vertical-align: middle;\n",
       "    }\n",
       "\n",
       "    .dataframe tbody tr th {\n",
       "        vertical-align: top;\n",
       "    }\n",
       "\n",
       "    .dataframe thead th {\n",
       "        text-align: right;\n",
       "    }\n",
       "</style>\n",
       "<table border=\"1\" class=\"dataframe\">\n",
       "  <thead>\n",
       "    <tr style=\"text-align: right;\">\n",
       "      <th></th>\n",
       "      <th>nr.</th>\n",
       "      <th>categorie</th>\n",
       "      <th>site</th>\n",
       "      <th>sitecode</th>\n",
       "      <th>tip trafic</th>\n",
       "      <th>editor site</th>\n",
       "      <th>contractor sati</th>\n",
       "      <th>regie de publicitate</th>\n",
       "      <th>afisari</th>\n",
       "      <th>vizite</th>\n",
       "      <th>clienti unici</th>\n",
       "      <th>cat</th>\n",
       "    </tr>\n",
       "  </thead>\n",
       "  <tbody>\n",
       "    <tr>\n",
       "      <th>0</th>\n",
       "      <td>1.0</td>\n",
       "      <td>Auto &amp; moto</td>\n",
       "      <td>www.4tuning.ro</td>\n",
       "      <td>4tuningro</td>\n",
       "      <td>total</td>\n",
       "      <td>Active Soft</td>\n",
       "      <td>Thinkdigital Internet &amp; Advertising SA</td>\n",
       "      <td>Thinkdigital Internet &amp; Advertising SA</td>\n",
       "      <td>28507</td>\n",
       "      <td>12967</td>\n",
       "      <td>11911</td>\n",
       "      <td>aut&amp;mot</td>\n",
       "    </tr>\n",
       "    <tr>\n",
       "      <th>1</th>\n",
       "      <td>NaN</td>\n",
       "      <td>Auto &amp; moto</td>\n",
       "      <td>www.4tuning.ro</td>\n",
       "      <td>4tuningro</td>\n",
       "      <td>trafic desktop / laptop</td>\n",
       "      <td>Active Soft</td>\n",
       "      <td>Thinkdigital Internet &amp; Advertising SA</td>\n",
       "      <td>Thinkdigital Internet &amp; Advertising SA</td>\n",
       "      <td>8032</td>\n",
       "      <td>2178</td>\n",
       "      <td>1951</td>\n",
       "      <td>aut&amp;mot</td>\n",
       "    </tr>\n",
       "    <tr>\n",
       "      <th>2</th>\n",
       "      <td>NaN</td>\n",
       "      <td>Auto &amp; moto</td>\n",
       "      <td>www.4tuning.ro</td>\n",
       "      <td>4tuningro</td>\n",
       "      <td>trafic mobile (tableta / smartphone)</td>\n",
       "      <td>Active Soft</td>\n",
       "      <td>Thinkdigital Internet &amp; Advertising SA</td>\n",
       "      <td>Thinkdigital Internet &amp; Advertising SA</td>\n",
       "      <td>20473</td>\n",
       "      <td>10787</td>\n",
       "      <td>9964</td>\n",
       "      <td>aut&amp;mot</td>\n",
       "    </tr>\n",
       "    <tr>\n",
       "      <th>3</th>\n",
       "      <td>NaN</td>\n",
       "      <td>Auto &amp; moto</td>\n",
       "      <td>www.4tuning.ro</td>\n",
       "      <td>4tuningro</td>\n",
       "      <td>aplicatii mobile</td>\n",
       "      <td>Active Soft</td>\n",
       "      <td>Thinkdigital Internet &amp; Advertising SA</td>\n",
       "      <td>Thinkdigital Internet &amp; Advertising SA</td>\n",
       "      <td>0</td>\n",
       "      <td>0</td>\n",
       "      <td>0</td>\n",
       "      <td>aut&amp;mot</td>\n",
       "    </tr>\n",
       "    <tr>\n",
       "      <th>4</th>\n",
       "      <td>2.0</td>\n",
       "      <td>Satira &amp; Umor</td>\n",
       "      <td>www.7lucruri.ro</td>\n",
       "      <td>7lucruriro</td>\n",
       "      <td>total</td>\n",
       "      <td>Times New Roman Media SRL</td>\n",
       "      <td>Times New Roman Media SRL</td>\n",
       "      <td>Internet Corp SRL</td>\n",
       "      <td>371</td>\n",
       "      <td>229</td>\n",
       "      <td>210</td>\n",
       "      <td>sat&amp;umo</td>\n",
       "    </tr>\n",
       "  </tbody>\n",
       "</table>\n",
       "</div>"
      ],
      "text/plain": [
       "   nr.      categorie             site    sitecode  \\\n",
       "0  1.0    Auto & moto   www.4tuning.ro   4tuningro   \n",
       "1  NaN    Auto & moto   www.4tuning.ro   4tuningro   \n",
       "2  NaN    Auto & moto   www.4tuning.ro   4tuningro   \n",
       "3  NaN    Auto & moto   www.4tuning.ro   4tuningro   \n",
       "4  2.0  Satira & Umor  www.7lucruri.ro  7lucruriro   \n",
       "\n",
       "                             tip trafic                editor site  \\\n",
       "0                                 total                Active Soft   \n",
       "1               trafic desktop / laptop                Active Soft   \n",
       "2  trafic mobile (tableta / smartphone)                Active Soft   \n",
       "3                      aplicatii mobile                Active Soft   \n",
       "4                                 total  Times New Roman Media SRL   \n",
       "\n",
       "                          contractor sati  \\\n",
       "0  Thinkdigital Internet & Advertising SA   \n",
       "1  Thinkdigital Internet & Advertising SA   \n",
       "2  Thinkdigital Internet & Advertising SA   \n",
       "3  Thinkdigital Internet & Advertising SA   \n",
       "4               Times New Roman Media SRL   \n",
       "\n",
       "                     regie de publicitate  afisari  vizite  clienti unici  \\\n",
       "0  Thinkdigital Internet & Advertising SA    28507   12967          11911   \n",
       "1  Thinkdigital Internet & Advertising SA     8032    2178           1951   \n",
       "2  Thinkdigital Internet & Advertising SA    20473   10787           9964   \n",
       "3  Thinkdigital Internet & Advertising SA        0       0              0   \n",
       "4                       Internet Corp SRL      371     229            210   \n",
       "\n",
       "       cat  \n",
       "0  aut&mot  \n",
       "1  aut&mot  \n",
       "2  aut&mot  \n",
       "3  aut&mot  \n",
       "4  sat&umo  "
      ]
     },
     "execution_count": 15,
     "metadata": {},
     "output_type": "execute_result"
    }
   ],
   "source": [
    "df.head()"
   ]
  },
  {
   "cell_type": "code",
   "execution_count": 16,
   "id": "03608b92-e979-412e-bbe1-5a9348178466",
   "metadata": {},
   "outputs": [
    {
     "data": {
      "text/plain": [
       "(28, 28)"
      ]
     },
     "execution_count": 16,
     "metadata": {},
     "output_type": "execute_result"
    }
   ],
   "source": [
    "df['categorie'].nunique(), df['cat'].nunique()"
   ]
  },
  {
   "cell_type": "code",
   "execution_count": 17,
   "id": "4ee5560a-ca22-491e-9af9-79704315faec",
   "metadata": {},
   "outputs": [
    {
     "data": {
      "text/plain": [
       "(194, 12)"
      ]
     },
     "execution_count": 17,
     "metadata": {},
     "output_type": "execute_result"
    }
   ],
   "source": [
    "df_total = df[df['tip trafic'] == 'total']\n",
    "df_total = df_total.sort_values(by=['afisari'], ascending=False)\n",
    "\n",
    "df_total.shape"
   ]
  },
  {
   "cell_type": "code",
   "execution_count": 18,
   "id": "039be038-3188-47ce-90ed-7ba3acd2589a",
   "metadata": {},
   "outputs": [
    {
     "data": {
      "text/plain": [
       "categorie\n",
       "Stiri generale                          23\n",
       "Stiri si analize                        20\n",
       "Economic & financiar                    19\n",
       "Lifestyle feminin                       18\n",
       "Stiri si analize locale                 18\n",
       "Muzica & Audio                          15\n",
       "Sanatate & ingrijire personala          11\n",
       "Sport                                    9\n",
       "Familie & copii                          8\n",
       "Culinar                                  8\n",
       "Auto & moto                              5\n",
       "Divertisment                             5\n",
       "Cultura & Arta & Istorie                 4\n",
       "Stiinta & tehnologie                     4\n",
       "Filme & cinema                           4\n",
       "Celebritati si stiri de divertisment     3\n",
       "IT&C                                     3\n",
       "Video & TV online                        3\n",
       "Satira & Umor                            3\n",
       "Imobiliare                               2\n",
       "Recomandari de timp liber                2\n",
       "Comunitati online                        1\n",
       "Home & deco                              1\n",
       "Spiritualitate                           1\n",
       "Portaluri & motoare de cautare           1\n",
       "Educatie                                 1\n",
       "Hobby                                    1\n",
       "Altele                                   1\n",
       "Name: count, dtype: int64"
      ]
     },
     "execution_count": 18,
     "metadata": {},
     "output_type": "execute_result"
    }
   ],
   "source": [
    "df_total['categorie'].value_counts()"
   ]
  },
  {
   "cell_type": "code",
   "execution_count": 19,
   "id": "78254f77-c776-43d3-908f-d5a67cd6f230",
   "metadata": {},
   "outputs": [
    {
     "data": {
      "text/html": [
       "<div>\n",
       "<style scoped>\n",
       "    .dataframe tbody tr th:only-of-type {\n",
       "        vertical-align: middle;\n",
       "    }\n",
       "\n",
       "    .dataframe tbody tr th {\n",
       "        vertical-align: top;\n",
       "    }\n",
       "\n",
       "    .dataframe thead th {\n",
       "        text-align: right;\n",
       "    }\n",
       "</style>\n",
       "<table border=\"1\" class=\"dataframe\">\n",
       "  <thead>\n",
       "    <tr style=\"text-align: right;\">\n",
       "      <th></th>\n",
       "      <th>nr.</th>\n",
       "      <th>categorie</th>\n",
       "      <th>site</th>\n",
       "      <th>sitecode</th>\n",
       "      <th>tip trafic</th>\n",
       "      <th>editor site</th>\n",
       "      <th>contractor sati</th>\n",
       "      <th>regie de publicitate</th>\n",
       "      <th>afisari</th>\n",
       "      <th>vizite</th>\n",
       "      <th>clienti unici</th>\n",
       "      <th>cat</th>\n",
       "    </tr>\n",
       "  </thead>\n",
       "  <tbody>\n",
       "    <tr>\n",
       "      <th>196</th>\n",
       "      <td>50.0</td>\n",
       "      <td>Stiri si analize</td>\n",
       "      <td>www.digi24.ro</td>\n",
       "      <td>digi24ro</td>\n",
       "      <td>total</td>\n",
       "      <td>Digi Romania SA</td>\n",
       "      <td>Digi Romania SA</td>\n",
       "      <td>Digi Romania SA</td>\n",
       "      <td>3897698</td>\n",
       "      <td>1980986</td>\n",
       "      <td>1280842</td>\n",
       "      <td>stisiana</td>\n",
       "    </tr>\n",
       "    <tr>\n",
       "      <th>328</th>\n",
       "      <td>83.0</td>\n",
       "      <td>Sport</td>\n",
       "      <td>www.gsp.ro</td>\n",
       "      <td>gspro</td>\n",
       "      <td>total</td>\n",
       "      <td>Ringier Romania SRL</td>\n",
       "      <td>Ringier Romania SRL</td>\n",
       "      <td>Ringier Romania SRL</td>\n",
       "      <td>3676095</td>\n",
       "      <td>830336</td>\n",
       "      <td>541548</td>\n",
       "      <td>spo</td>\n",
       "    </tr>\n",
       "    <tr>\n",
       "      <th>204</th>\n",
       "      <td>52.0</td>\n",
       "      <td>Sport</td>\n",
       "      <td>www.digisport.ro</td>\n",
       "      <td>digisportro</td>\n",
       "      <td>total</td>\n",
       "      <td>Digi Romania SA</td>\n",
       "      <td>Digi Romania SA</td>\n",
       "      <td>Digi Romania SA</td>\n",
       "      <td>3546190</td>\n",
       "      <td>1050002</td>\n",
       "      <td>672084</td>\n",
       "      <td>spo</td>\n",
       "    </tr>\n",
       "    <tr>\n",
       "      <th>660</th>\n",
       "      <td>166.0</td>\n",
       "      <td>Stiri generale</td>\n",
       "      <td>www.stiripesurse.ro</td>\n",
       "      <td>stiripesursero</td>\n",
       "      <td>total</td>\n",
       "      <td>European Business Environment SRL</td>\n",
       "      <td>European Business Environment SRL</td>\n",
       "      <td>NaN</td>\n",
       "      <td>2439457</td>\n",
       "      <td>621747</td>\n",
       "      <td>396607</td>\n",
       "      <td>stigen</td>\n",
       "    </tr>\n",
       "    <tr>\n",
       "      <th>348</th>\n",
       "      <td>88.0</td>\n",
       "      <td>Stiri si analize</td>\n",
       "      <td>www.hotnews.ro</td>\n",
       "      <td>hotnewsro</td>\n",
       "      <td>total</td>\n",
       "      <td>Media Bit Software SRL</td>\n",
       "      <td>ZYX Publishing Group SRL</td>\n",
       "      <td>ZYX Publishing Group SRL</td>\n",
       "      <td>2159301</td>\n",
       "      <td>1155904</td>\n",
       "      <td>765724</td>\n",
       "      <td>stisiana</td>\n",
       "    </tr>\n",
       "    <tr>\n",
       "      <th>392</th>\n",
       "      <td>99.0</td>\n",
       "      <td>Stiri generale</td>\n",
       "      <td>www.libertatea.ro</td>\n",
       "      <td>libertatearo</td>\n",
       "      <td>total</td>\n",
       "      <td>Ringier Romania SRL</td>\n",
       "      <td>Ringier Romania SRL</td>\n",
       "      <td>Ringier Romania SRL</td>\n",
       "      <td>2099779</td>\n",
       "      <td>946266</td>\n",
       "      <td>757711</td>\n",
       "      <td>stigen</td>\n",
       "    </tr>\n",
       "    <tr>\n",
       "      <th>304</th>\n",
       "      <td>77.0</td>\n",
       "      <td>Stiri si analize</td>\n",
       "      <td>www.g4media.ro</td>\n",
       "      <td>NaN</td>\n",
       "      <td>total</td>\n",
       "      <td>NaN</td>\n",
       "      <td>Thematic Digital SRL</td>\n",
       "      <td>Thematic Digital SRL</td>\n",
       "      <td>1709187</td>\n",
       "      <td>1012691</td>\n",
       "      <td>686254</td>\n",
       "      <td>stisiana</td>\n",
       "    </tr>\n",
       "    <tr>\n",
       "      <th>588</th>\n",
       "      <td>148.0</td>\n",
       "      <td>Stiri si analize</td>\n",
       "      <td>www.romaniatv.net</td>\n",
       "      <td>romaniatvnet</td>\n",
       "      <td>total</td>\n",
       "      <td>RTV Properties Management SRL</td>\n",
       "      <td>RTV Properties Management SRL</td>\n",
       "      <td>Thematic Digital SRL</td>\n",
       "      <td>1541003</td>\n",
       "      <td>863248</td>\n",
       "      <td>631065</td>\n",
       "      <td>stisiana</td>\n",
       "    </tr>\n",
       "    <tr>\n",
       "      <th>504</th>\n",
       "      <td>127.0</td>\n",
       "      <td>Sport</td>\n",
       "      <td>www.prosport.ro</td>\n",
       "      <td>prosportro</td>\n",
       "      <td>total</td>\n",
       "      <td>Gandul Media Network SRL</td>\n",
       "      <td>Gandul Media Network SRL</td>\n",
       "      <td>Thematic Digital SRL</td>\n",
       "      <td>1419307</td>\n",
       "      <td>744370</td>\n",
       "      <td>545628</td>\n",
       "      <td>spo</td>\n",
       "    </tr>\n",
       "    <tr>\n",
       "      <th>656</th>\n",
       "      <td>165.0</td>\n",
       "      <td>Stiri generale</td>\n",
       "      <td>www.stirileprotv.ro</td>\n",
       "      <td>stirileprotvro</td>\n",
       "      <td>total</td>\n",
       "      <td>Pro TV SRL</td>\n",
       "      <td>Pro TV SRL</td>\n",
       "      <td>Pro TV SRL</td>\n",
       "      <td>1333341</td>\n",
       "      <td>858699</td>\n",
       "      <td>673422</td>\n",
       "      <td>stigen</td>\n",
       "    </tr>\n",
       "    <tr>\n",
       "      <th>12</th>\n",
       "      <td>4.0</td>\n",
       "      <td>Stiri generale</td>\n",
       "      <td>www.adevarul.ro</td>\n",
       "      <td>adevarulro</td>\n",
       "      <td>total</td>\n",
       "      <td>Adevarul Holding SRL</td>\n",
       "      <td>Adevarul Holding SRL</td>\n",
       "      <td>eAd.ro Interactive SRL</td>\n",
       "      <td>1299832</td>\n",
       "      <td>746404</td>\n",
       "      <td>585453</td>\n",
       "      <td>stigen</td>\n",
       "    </tr>\n",
       "    <tr>\n",
       "      <th>628</th>\n",
       "      <td>158.0</td>\n",
       "      <td>Sport</td>\n",
       "      <td>www.sport.ro</td>\n",
       "      <td>sportro</td>\n",
       "      <td>total</td>\n",
       "      <td>Pro TV SRL</td>\n",
       "      <td>Pro TV SRL</td>\n",
       "      <td>Pro TV SRL</td>\n",
       "      <td>1065778</td>\n",
       "      <td>517330</td>\n",
       "      <td>363371</td>\n",
       "      <td>spo</td>\n",
       "    </tr>\n",
       "    <tr>\n",
       "      <th>756</th>\n",
       "      <td>190.0</td>\n",
       "      <td>Stiri si analize</td>\n",
       "      <td>www.ziare.com</td>\n",
       "      <td>ziarecom</td>\n",
       "      <td>total</td>\n",
       "      <td>NaN</td>\n",
       "      <td>Thematic Digital SRL</td>\n",
       "      <td>Thematic Digital SRL</td>\n",
       "      <td>1059024</td>\n",
       "      <td>365814</td>\n",
       "      <td>269606</td>\n",
       "      <td>stisiana</td>\n",
       "    </tr>\n",
       "    <tr>\n",
       "      <th>736</th>\n",
       "      <td>185.0</td>\n",
       "      <td>Lifestyle feminin</td>\n",
       "      <td>www.viva.ro</td>\n",
       "      <td>vivaro</td>\n",
       "      <td>total</td>\n",
       "      <td>Ringier Romania SRL</td>\n",
       "      <td>Ringier Romania SRL</td>\n",
       "      <td>Ringier Romania SRL</td>\n",
       "      <td>989635</td>\n",
       "      <td>193997</td>\n",
       "      <td>178026</td>\n",
       "      <td>liffem</td>\n",
       "    </tr>\n",
       "    <tr>\n",
       "      <th>96</th>\n",
       "      <td>25.0</td>\n",
       "      <td>Stiri generale</td>\n",
       "      <td>www.cancan.ro</td>\n",
       "      <td>cancanro</td>\n",
       "      <td>total</td>\n",
       "      <td>NaN</td>\n",
       "      <td>Gandul Media Network SRL</td>\n",
       "      <td>Thematic Digital SRL</td>\n",
       "      <td>840779</td>\n",
       "      <td>443682</td>\n",
       "      <td>378008</td>\n",
       "      <td>stigen</td>\n",
       "    </tr>\n",
       "    <tr>\n",
       "      <th>272</th>\n",
       "      <td>69.0</td>\n",
       "      <td>Stiri si analize</td>\n",
       "      <td>www.evz.ro</td>\n",
       "      <td>evzro</td>\n",
       "      <td>total</td>\n",
       "      <td>Editura Evenimentul si Capital</td>\n",
       "      <td>Editura Evenimentul si Capital SRL</td>\n",
       "      <td>Internet Corp SRL</td>\n",
       "      <td>833418</td>\n",
       "      <td>519793</td>\n",
       "      <td>413988</td>\n",
       "      <td>stisiana</td>\n",
       "    </tr>\n",
       "    <tr>\n",
       "      <th>280</th>\n",
       "      <td>71.0</td>\n",
       "      <td>Stiri generale</td>\n",
       "      <td>www.fanatik.ro</td>\n",
       "      <td>fanatikro</td>\n",
       "      <td>total</td>\n",
       "      <td>Fanatik Online SRL</td>\n",
       "      <td>Fanatik Online SRL</td>\n",
       "      <td>Thematic Digital SRL</td>\n",
       "      <td>709316</td>\n",
       "      <td>507171</td>\n",
       "      <td>408139</td>\n",
       "      <td>stigen</td>\n",
       "    </tr>\n",
       "    <tr>\n",
       "      <th>56</th>\n",
       "      <td>15.0</td>\n",
       "      <td>Auto &amp; moto</td>\n",
       "      <td>www.autovit.ro</td>\n",
       "      <td>autovitro</td>\n",
       "      <td>total</td>\n",
       "      <td>OLX Online Services SRL</td>\n",
       "      <td>OLX Online Services SRL</td>\n",
       "      <td>OLX Online Services SRL</td>\n",
       "      <td>645876</td>\n",
       "      <td>143374</td>\n",
       "      <td>106108</td>\n",
       "      <td>aut&amp;mot</td>\n",
       "    </tr>\n",
       "    <tr>\n",
       "      <th>36</th>\n",
       "      <td>10.0</td>\n",
       "      <td>Stiri si analize</td>\n",
       "      <td>www.antena3.ro</td>\n",
       "      <td>antena3ro</td>\n",
       "      <td>total</td>\n",
       "      <td>Antena 3 SA</td>\n",
       "      <td>Antena TV Group SA</td>\n",
       "      <td>Intact Media</td>\n",
       "      <td>548603</td>\n",
       "      <td>279899</td>\n",
       "      <td>198431</td>\n",
       "      <td>stisiana</td>\n",
       "    </tr>\n",
       "    <tr>\n",
       "      <th>416</th>\n",
       "      <td>105.0</td>\n",
       "      <td>Stiri si analize</td>\n",
       "      <td>www.mediafax.ro</td>\n",
       "      <td>mediafaxro</td>\n",
       "      <td>total</td>\n",
       "      <td>Mediamex Investment SRL</td>\n",
       "      <td>Mediamex Investment SRL</td>\n",
       "      <td>Outsmart Media SRL</td>\n",
       "      <td>453442</td>\n",
       "      <td>281734</td>\n",
       "      <td>224931</td>\n",
       "      <td>stisiana</td>\n",
       "    </tr>\n",
       "  </tbody>\n",
       "</table>\n",
       "</div>"
      ],
      "text/plain": [
       "       nr.          categorie                 site        sitecode tip trafic  \\\n",
       "196   50.0   Stiri si analize        www.digi24.ro        digi24ro      total   \n",
       "328   83.0              Sport           www.gsp.ro           gspro      total   \n",
       "204   52.0              Sport     www.digisport.ro     digisportro      total   \n",
       "660  166.0     Stiri generale  www.stiripesurse.ro  stiripesursero      total   \n",
       "348   88.0   Stiri si analize       www.hotnews.ro       hotnewsro      total   \n",
       "392   99.0     Stiri generale    www.libertatea.ro    libertatearo      total   \n",
       "304   77.0   Stiri si analize       www.g4media.ro             NaN      total   \n",
       "588  148.0   Stiri si analize    www.romaniatv.net    romaniatvnet      total   \n",
       "504  127.0              Sport      www.prosport.ro      prosportro      total   \n",
       "656  165.0     Stiri generale  www.stirileprotv.ro  stirileprotvro      total   \n",
       "12     4.0     Stiri generale      www.adevarul.ro      adevarulro      total   \n",
       "628  158.0              Sport         www.sport.ro         sportro      total   \n",
       "756  190.0   Stiri si analize        www.ziare.com        ziarecom      total   \n",
       "736  185.0  Lifestyle feminin          www.viva.ro          vivaro      total   \n",
       "96    25.0     Stiri generale        www.cancan.ro        cancanro      total   \n",
       "272   69.0   Stiri si analize           www.evz.ro           evzro      total   \n",
       "280   71.0     Stiri generale       www.fanatik.ro       fanatikro      total   \n",
       "56    15.0        Auto & moto       www.autovit.ro       autovitro      total   \n",
       "36    10.0   Stiri si analize       www.antena3.ro       antena3ro      total   \n",
       "416  105.0   Stiri si analize      www.mediafax.ro      mediafaxro      total   \n",
       "\n",
       "                           editor site                     contractor sati  \\\n",
       "196                    Digi Romania SA                     Digi Romania SA   \n",
       "328                Ringier Romania SRL                 Ringier Romania SRL   \n",
       "204                    Digi Romania SA                     Digi Romania SA   \n",
       "660  European Business Environment SRL   European Business Environment SRL   \n",
       "348             Media Bit Software SRL            ZYX Publishing Group SRL   \n",
       "392                Ringier Romania SRL                 Ringier Romania SRL   \n",
       "304                                NaN                Thematic Digital SRL   \n",
       "588      RTV Properties Management SRL       RTV Properties Management SRL   \n",
       "504           Gandul Media Network SRL            Gandul Media Network SRL   \n",
       "656                         Pro TV SRL                          Pro TV SRL   \n",
       "12                Adevarul Holding SRL                Adevarul Holding SRL   \n",
       "628                         Pro TV SRL                          Pro TV SRL   \n",
       "756                                NaN                Thematic Digital SRL   \n",
       "736                Ringier Romania SRL                 Ringier Romania SRL   \n",
       "96                                 NaN            Gandul Media Network SRL   \n",
       "272     Editura Evenimentul si Capital  Editura Evenimentul si Capital SRL   \n",
       "280                 Fanatik Online SRL                  Fanatik Online SRL   \n",
       "56             OLX Online Services SRL             OLX Online Services SRL   \n",
       "36                         Antena 3 SA                  Antena TV Group SA   \n",
       "416            Mediamex Investment SRL             Mediamex Investment SRL   \n",
       "\n",
       "         regie de publicitate  afisari   vizite  clienti unici       cat  \n",
       "196           Digi Romania SA  3897698  1980986        1280842  stisiana  \n",
       "328       Ringier Romania SRL  3676095   830336         541548       spo  \n",
       "204           Digi Romania SA  3546190  1050002         672084       spo  \n",
       "660                       NaN  2439457   621747         396607    stigen  \n",
       "348  ZYX Publishing Group SRL  2159301  1155904         765724  stisiana  \n",
       "392       Ringier Romania SRL  2099779   946266         757711    stigen  \n",
       "304      Thematic Digital SRL  1709187  1012691         686254  stisiana  \n",
       "588      Thematic Digital SRL  1541003   863248         631065  stisiana  \n",
       "504      Thematic Digital SRL  1419307   744370         545628       spo  \n",
       "656                Pro TV SRL  1333341   858699         673422    stigen  \n",
       "12     eAd.ro Interactive SRL  1299832   746404         585453    stigen  \n",
       "628                Pro TV SRL  1065778   517330         363371       spo  \n",
       "756      Thematic Digital SRL  1059024   365814         269606  stisiana  \n",
       "736       Ringier Romania SRL   989635   193997         178026    liffem  \n",
       "96       Thematic Digital SRL   840779   443682         378008    stigen  \n",
       "272         Internet Corp SRL   833418   519793         413988  stisiana  \n",
       "280      Thematic Digital SRL   709316   507171         408139    stigen  \n",
       "56    OLX Online Services SRL   645876   143374         106108   aut&mot  \n",
       "36               Intact Media   548603   279899         198431  stisiana  \n",
       "416        Outsmart Media SRL   453442   281734         224931  stisiana  "
      ]
     },
     "execution_count": 19,
     "metadata": {},
     "output_type": "execute_result"
    }
   ],
   "source": [
    "df_total[:20]"
   ]
  },
  {
   "cell_type": "code",
   "execution_count": 29,
   "id": "d6f51579-0a69-49db-9826-0303277d0e3e",
   "metadata": {},
   "outputs": [
    {
     "data": {
      "text/html": [
       "<div>\n",
       "<style scoped>\n",
       "    .dataframe tbody tr th:only-of-type {\n",
       "        vertical-align: middle;\n",
       "    }\n",
       "\n",
       "    .dataframe tbody tr th {\n",
       "        vertical-align: top;\n",
       "    }\n",
       "\n",
       "    .dataframe thead th {\n",
       "        text-align: right;\n",
       "    }\n",
       "</style>\n",
       "<table border=\"1\" class=\"dataframe\">\n",
       "  <thead>\n",
       "    <tr style=\"text-align: right;\">\n",
       "      <th></th>\n",
       "      <th>site</th>\n",
       "      <th>sitecode</th>\n",
       "      <th>cat</th>\n",
       "      <th>categorie</th>\n",
       "      <th>afisari</th>\n",
       "      <th>vizite</th>\n",
       "      <th>clienti unici</th>\n",
       "    </tr>\n",
       "  </thead>\n",
       "  <tbody>\n",
       "    <tr>\n",
       "      <th>196</th>\n",
       "      <td>www.digi24.ro</td>\n",
       "      <td>digi24ro</td>\n",
       "      <td>stisiana</td>\n",
       "      <td>Stiri si analize</td>\n",
       "      <td>3897698</td>\n",
       "      <td>1980986</td>\n",
       "      <td>1280842</td>\n",
       "    </tr>\n",
       "    <tr>\n",
       "      <th>328</th>\n",
       "      <td>www.gsp.ro</td>\n",
       "      <td>gspro</td>\n",
       "      <td>spo</td>\n",
       "      <td>Sport</td>\n",
       "      <td>3676095</td>\n",
       "      <td>830336</td>\n",
       "      <td>541548</td>\n",
       "    </tr>\n",
       "    <tr>\n",
       "      <th>204</th>\n",
       "      <td>www.digisport.ro</td>\n",
       "      <td>digisportro</td>\n",
       "      <td>spo</td>\n",
       "      <td>Sport</td>\n",
       "      <td>3546190</td>\n",
       "      <td>1050002</td>\n",
       "      <td>672084</td>\n",
       "    </tr>\n",
       "    <tr>\n",
       "      <th>660</th>\n",
       "      <td>www.stiripesurse.ro</td>\n",
       "      <td>stiripesursero</td>\n",
       "      <td>stigen</td>\n",
       "      <td>Stiri generale</td>\n",
       "      <td>2439457</td>\n",
       "      <td>621747</td>\n",
       "      <td>396607</td>\n",
       "    </tr>\n",
       "    <tr>\n",
       "      <th>348</th>\n",
       "      <td>www.hotnews.ro</td>\n",
       "      <td>hotnewsro</td>\n",
       "      <td>stisiana</td>\n",
       "      <td>Stiri si analize</td>\n",
       "      <td>2159301</td>\n",
       "      <td>1155904</td>\n",
       "      <td>765724</td>\n",
       "    </tr>\n",
       "  </tbody>\n",
       "</table>\n",
       "</div>"
      ],
      "text/plain": [
       "                    site        sitecode       cat         categorie  afisari  \\\n",
       "196        www.digi24.ro        digi24ro  stisiana  Stiri si analize  3897698   \n",
       "328           www.gsp.ro           gspro       spo             Sport  3676095   \n",
       "204     www.digisport.ro     digisportro       spo             Sport  3546190   \n",
       "660  www.stiripesurse.ro  stiripesursero    stigen    Stiri generale  2439457   \n",
       "348       www.hotnews.ro       hotnewsro  stisiana  Stiri si analize  2159301   \n",
       "\n",
       "      vizite  clienti unici  \n",
       "196  1980986        1280842  \n",
       "328   830336         541548  \n",
       "204  1050002         672084  \n",
       "660   621747         396607  \n",
       "348  1155904         765724  "
      ]
     },
     "execution_count": 29,
     "metadata": {},
     "output_type": "execute_result"
    }
   ],
   "source": [
    "columns = ['site', 'sitecode', 'cat', 'categorie', 'afisari', 'vizite', 'clienti unici']\n",
    "\n",
    "df_total[columns].head()"
   ]
  },
  {
   "cell_type": "code",
   "execution_count": null,
   "id": "24c35878-6971-41f2-8f87-9fde3605c7ac",
   "metadata": {},
   "outputs": [],
   "source": []
  },
  {
   "cell_type": "code",
   "execution_count": 21,
   "id": "a9840e78-389b-42b4-b756-8fabb6c763fd",
   "metadata": {
    "scrolled": true
   },
   "outputs": [
    {
     "data": {
      "text/plain": [
       "array(['www.digi24.ro', 'www.gsp.ro', 'www.digisport.ro',\n",
       "       'www.stiripesurse.ro', 'www.hotnews.ro', 'www.libertatea.ro',\n",
       "       'www.g4media.ro', 'www.romaniatv.net', 'www.prosport.ro',\n",
       "       'www.stirileprotv.ro', 'www.adevarul.ro', 'www.sport.ro',\n",
       "       'www.ziare.com', 'www.viva.ro', 'www.cancan.ro', 'www.evz.ro',\n",
       "       'www.fanatik.ro', 'www.autovit.ro', 'www.antena3.ro',\n",
       "       'www.mediafax.ro', 'www.pieseauto.ro', 'www.gandul.ro',\n",
       "       'www.protv.ro', 'www.bugetul.ro', 'www.imobiliare.ro', 'www.zf.ro',\n",
       "       'www.storia.ro', 'www.sfatulmedicului.ro', 'www.observatornews.ro',\n",
       "       'www.dcnews.ro', 'www.doctorulzilei.ro', 'www.bucataras.ro',\n",
       "       'www.unica.ro', 'www.spotmedia.ro', 'www.iamsport.ro',\n",
       "       'www.click.ro', 'www.newsweek.ro', 'www.capital.ro', 'www.a1.ro',\n",
       "       'www.economica.net', 'www.libertateapentrufemei.ro', 'www.tpu.ro',\n",
       "       'www.csid.ro', 'www.profit.ro', 'www.edupedu.ro',\n",
       "       'www.cotidianul.ro', 'www.ebihoreanul.ro', 'www.kanald.ro',\n",
       "       'www.economedia.ro', 'www.spynews.ro', 'www.b1tv.ro',\n",
       "       'www.b365.ro', 'www.avocatnet.ro', 'www.bizbrasov.ro',\n",
       "       'www.promotor.ro', 'www.ziaruldeiasi.ro', 'www.descopera.ro',\n",
       "       'www.avantaje.ro', 'www.news.ro', 'www.euronews.ro',\n",
       "       'www.divahair.ro', 'www.profm.ro', 'www.cinemagia.ro', 'www.as.ro',\n",
       "       'www.observatorulph.ro', 'www.okmagazine.ro', 'www.wowbiz.ro',\n",
       "       'www.orangesport.ro', 'www.agrointel.ro', 'www.elle.ro',\n",
       "       'www.idevice.ro', 'www.peroz.ro', 'www.europafm.ro',\n",
       "       'www.sfatulparintilor.ro', 'www.defapt.ro', 'www.doc.ro',\n",
       "       'www.businessmagazin.ro', 'www.startupcafe.ro', 'www.kudika.ro',\n",
       "       'www.radiozu.ro', 'www.alba24.ro', 'www.oradesibiu.ro',\n",
       "       'www.timesnewroman.ro', 'www.ciao.ro', 'www.ziaristii.com',\n",
       "       'www.lovedeco.ro', 'www.g4food.ro', 'www.historia.ro',\n",
       "       'www.tvmania.ro', 'www.hellotaste.ro', 'www.greatnews.ro',\n",
       "       'www.filmnow.ro', 'www.digifm.ro', 'www.gustos.ro',\n",
       "       'www.viata-libera.ro', 'www.stirilekanald.ro', 'www.4tuning.ro',\n",
       "       'www.wall-street.ro', 'www.automarket.ro',\n",
       "       'www.cursdeguvernare.ro', 'www.magicfm.ro', 'www.alephnews.ro',\n",
       "       'www.monitorulcj.ro', 'www.romania-actualitati.ro', 'www.qbebe.ro',\n",
       "       'www.manager.ro', 'www.go4it.ro', 'www.totuldespremame.ro',\n",
       "       'www.sportbull.ro', 'www.utv.ro', 'www.raziculacrimi.ro',\n",
       "       'www.eva.ro', 'www.rfi.fr/ro', 'www.catine.ro', 'www.kissfm.ro',\n",
       "       'www.ziarullumina.ro', 'www.desprecopii.com',\n",
       "       'www.romania-insider.com', 'www.kfetele.ro', 'www.zi-de-zi.ro',\n",
       "       'www.clickpentrufemei.ro', 'www.radioimpuls.ro', 'www.tvrinfo.ro',\n",
       "       'www.tvr.ro', 'www.garbo.ro', 'www.crisana.ro',\n",
       "       'www.paginiaurii.ro', 'www.panorama.ro', 'www.smartliving.ro',\n",
       "       'www.rockfm.ro', 'www.conso.ro', 'www.catchy.ro',\n",
       "       'www.dailybusiness.ro', 'www.clicksanatate.ro',\n",
       "       'www.guerrillaradio.ro', 'www.ecopolitic.ro',\n",
       "       'www.radioromaniacultural.ro', 'www.canal33.ro',\n",
       "       'www.reteteculinare.ro', 'www.medicool.ro', 'www.digi-world.tv',\n",
       "       'www.tvhappy.ro', 'www.educatieprivata.ro', 'www.dilemaveche.ro',\n",
       "       'www.retetefeldefel.ro', 'www.evenimentulistoric.ro',\n",
       "       'www.life.ro', 'www.farmaciata.ro', 'www.virginradio.ro',\n",
       "       'www.finzoom.ro', 'www.rri.ro', 'www.radioresita.ro',\n",
       "       'www.culinar.ro', 'www.urban.ro', 'www.radiocluj.ro',\n",
       "       'www.digi-animalworld.tv', 'www.money.ro', 'www.infofinanciar.ro',\n",
       "       'www.clubulbebelusilor.ro', 'www.romanticfm.ro',\n",
       "       'www.kolozsvariradio.ro', 'www.euractiv.ro', 'www.useit.ro',\n",
       "       'www.radiotimisoara.ro', 'www.smartradio.ro',\n",
       "       'www.radiobrasovfm.ro', 'www.clickpoftabuna.ro',\n",
       "       'www.slabsaugras.ro', 'www.expertulbanilor.ro',\n",
       "       'www.suntmamica.ro', 'www.gadgetreport.ro', 'www.radioromania.ro',\n",
       "       'www.newsbucuresti.ro', 'www.radiovacanta.ro',\n",
       "       'www.orademedias.ro', 'www.transilvaniabusiness.ro',\n",
       "       'www.antenastars.ro', 'www.antenasatelor.ro', 'www.zutv.ro',\n",
       "       'www.onefm.ro', 'www.alephbusiness.ro', 'www.infoactual.ro',\n",
       "       'www.feminis.ro', 'www.deparinti.ro', 'www.7lucruri.ro',\n",
       "       'www.superbebe.ro', 'www.obiectiv.info', 'www.smartv.media',\n",
       "       'www.sanatatea.tv', 'www.srr.ro', 'www.radioromaniasport.ro',\n",
       "       'www.ambasadoriistiintei.ro', 'www.rohealthreview.ro',\n",
       "       'www.tabu.ro'], dtype=object)"
      ]
     },
     "execution_count": 21,
     "metadata": {},
     "output_type": "execute_result"
    }
   ],
   "source": [
    "df_total.site.unique()"
   ]
  },
  {
   "cell_type": "code",
   "execution_count": 30,
   "id": "fe9ac84b-a639-4640-92e9-5b17230b8f4b",
   "metadata": {},
   "outputs": [
    {
     "data": {
      "text/plain": [
       "array(['Stiri si analize', 'Sport', 'Stiri generale', 'Lifestyle feminin',\n",
       "       'Auto & moto', 'Divertisment', 'Economic & financiar',\n",
       "       'Imobiliare', 'Sanatate & ingrijire personala', 'Culinar',\n",
       "       'Comunitati online', 'Stiri si analize locale',\n",
       "       'Celebritati si stiri de divertisment', 'Stiinta & tehnologie',\n",
       "       'Muzica & Audio', 'Filme & cinema', 'Familie & copii',\n",
       "       'Satira & Umor', 'Home & deco', 'Cultura & Arta & Istorie',\n",
       "       'Video & TV online', 'IT&C', 'Spiritualitate',\n",
       "       'Portaluri & motoare de cautare', 'Educatie',\n",
       "       'Recomandari de timp liber', 'Hobby', 'Altele'], dtype=object)"
      ]
     },
     "execution_count": 30,
     "metadata": {},
     "output_type": "execute_result"
    }
   ],
   "source": [
    "df_total.categorie.unique()"
   ]
  },
  {
   "cell_type": "code",
   "execution_count": 41,
   "id": "0ed52d2c-c6a1-4545-95c6-9de443b8ab01",
   "metadata": {},
   "outputs": [
    {
     "data": {
      "text/html": [
       "<div>\n",
       "<style scoped>\n",
       "    .dataframe tbody tr th:only-of-type {\n",
       "        vertical-align: middle;\n",
       "    }\n",
       "\n",
       "    .dataframe tbody tr th {\n",
       "        vertical-align: top;\n",
       "    }\n",
       "\n",
       "    .dataframe thead th {\n",
       "        text-align: right;\n",
       "    }\n",
       "</style>\n",
       "<table border=\"1\" class=\"dataframe\">\n",
       "  <thead>\n",
       "    <tr style=\"text-align: right;\">\n",
       "      <th></th>\n",
       "      <th>nr.</th>\n",
       "      <th>categorie</th>\n",
       "      <th>site</th>\n",
       "      <th>sitecode</th>\n",
       "      <th>tip trafic</th>\n",
       "      <th>editor site</th>\n",
       "      <th>contractor sati</th>\n",
       "      <th>regie de publicitate</th>\n",
       "      <th>afisari</th>\n",
       "      <th>vizite</th>\n",
       "      <th>clienti unici</th>\n",
       "      <th>cat</th>\n",
       "    </tr>\n",
       "  </thead>\n",
       "  <tbody>\n",
       "    <tr>\n",
       "      <th>28</th>\n",
       "      <td>8.0</td>\n",
       "      <td>Video &amp; TV online</td>\n",
       "      <td>www.alephnews.ro</td>\n",
       "      <td>alephnewsro</td>\n",
       "      <td>total</td>\n",
       "      <td>Aleph Media SRL</td>\n",
       "      <td>Outsmart Media SRL</td>\n",
       "      <td>Outsmart Media SRL</td>\n",
       "      <td>24246</td>\n",
       "      <td>18502</td>\n",
       "      <td>17202</td>\n",
       "      <td>vid&amp;tvonl</td>\n",
       "    </tr>\n",
       "    <tr>\n",
       "      <th>24</th>\n",
       "      <td>7.0</td>\n",
       "      <td>Video &amp; TV online</td>\n",
       "      <td>www.alephbusiness.ro</td>\n",
       "      <td>alephbusiness.ro</td>\n",
       "      <td>total</td>\n",
       "      <td>Aleph Media SRL</td>\n",
       "      <td>Outsmart Media SRL</td>\n",
       "      <td>Outsmart Media SRL</td>\n",
       "      <td>593</td>\n",
       "      <td>300</td>\n",
       "      <td>245</td>\n",
       "      <td>vid&amp;tvonl</td>\n",
       "    </tr>\n",
       "    <tr>\n",
       "      <th>624</th>\n",
       "      <td>157.0</td>\n",
       "      <td>Video &amp; TV online</td>\n",
       "      <td>www.smartv.media</td>\n",
       "      <td>smartvmedia</td>\n",
       "      <td>total</td>\n",
       "      <td>Aleph Media SRL</td>\n",
       "      <td>Outsmart Media SRL</td>\n",
       "      <td>Outsmart Media SRL</td>\n",
       "      <td>179</td>\n",
       "      <td>155</td>\n",
       "      <td>151</td>\n",
       "      <td>vid&amp;tvonl</td>\n",
       "    </tr>\n",
       "  </tbody>\n",
       "</table>\n",
       "</div>"
      ],
      "text/plain": [
       "       nr.          categorie                  site          sitecode  \\\n",
       "28     8.0  Video & TV online      www.alephnews.ro       alephnewsro   \n",
       "24     7.0  Video & TV online  www.alephbusiness.ro  alephbusiness.ro   \n",
       "624  157.0  Video & TV online      www.smartv.media       smartvmedia   \n",
       "\n",
       "    tip trafic      editor site     contractor sati regie de publicitate  \\\n",
       "28       total  Aleph Media SRL  Outsmart Media SRL   Outsmart Media SRL   \n",
       "24       total  Aleph Media SRL  Outsmart Media SRL   Outsmart Media SRL   \n",
       "624      total  Aleph Media SRL  Outsmart Media SRL   Outsmart Media SRL   \n",
       "\n",
       "     afisari  vizite  clienti unici        cat  \n",
       "28     24246   18502          17202  vid&tvonl  \n",
       "24       593     300            245  vid&tvonl  \n",
       "624      179     155            151  vid&tvonl  "
      ]
     },
     "execution_count": 41,
     "metadata": {},
     "output_type": "execute_result"
    }
   ],
   "source": [
    "df_total[df_total['categorie'] == 'Video & TV online']"
   ]
  },
  {
   "cell_type": "code",
   "execution_count": 42,
   "id": "0bc81723-72eb-4844-9923-c70da6011f63",
   "metadata": {},
   "outputs": [],
   "source": [
    "exclude_list = ['Comunitati online', 'Imobiliare', 'Portaluri & motoare de cautare', 'Altele', 'Filme & cinema']"
   ]
  },
  {
   "cell_type": "code",
   "execution_count": null,
   "id": "19e48137-ba41-4ed6-82fe-d151b6593795",
   "metadata": {},
   "outputs": [],
   "source": []
  },
  {
   "cell_type": "code",
   "execution_count": null,
   "id": "6e2c4de6-e089-4c2c-b63b-abb064c54cae",
   "metadata": {},
   "outputs": [],
   "source": []
  },
  {
   "cell_type": "markdown",
   "id": "472471bd-cfa7-41a1-a48b-e9762f9a7aba",
   "metadata": {},
   "source": [
    "### Create collection to store websites"
   ]
  },
  {
   "cell_type": "code",
   "execution_count": 22,
   "id": "b86dfac2-b320-4b1b-add7-1be5c33a1e86",
   "metadata": {},
   "outputs": [
    {
     "data": {
      "text/plain": [
       "Index(['nr.', 'categorie', 'site', 'sitecode', 'tip trafic', 'editor site',\n",
       "       'contractor sati', 'regie de publicitate', 'afisari', 'vizite',\n",
       "       'clienti unici', 'cat'],\n",
       "      dtype='object')"
      ]
     },
     "execution_count": 22,
     "metadata": {},
     "output_type": "execute_result"
    }
   ],
   "source": [
    "df_total.columns"
   ]
  },
  {
   "cell_type": "code",
   "execution_count": 23,
   "id": "d09990d8-8651-4cf0-a04b-606327dfd089",
   "metadata": {},
   "outputs": [
    {
     "name": "stdout",
     "output_type": "stream",
     "text": [
      "(194, 8)\n"
     ]
    },
    {
     "data": {
      "text/html": [
       "<div>\n",
       "<style scoped>\n",
       "    .dataframe tbody tr th:only-of-type {\n",
       "        vertical-align: middle;\n",
       "    }\n",
       "\n",
       "    .dataframe tbody tr th {\n",
       "        vertical-align: top;\n",
       "    }\n",
       "\n",
       "    .dataframe thead th {\n",
       "        text-align: right;\n",
       "    }\n",
       "</style>\n",
       "<table border=\"1\" class=\"dataframe\">\n",
       "  <thead>\n",
       "    <tr style=\"text-align: right;\">\n",
       "      <th></th>\n",
       "      <th>categorie</th>\n",
       "      <th>site</th>\n",
       "      <th>sitecode</th>\n",
       "      <th>editor site</th>\n",
       "      <th>contractor sati</th>\n",
       "      <th>regie de publicitate</th>\n",
       "      <th>afisari</th>\n",
       "      <th>cat</th>\n",
       "    </tr>\n",
       "  </thead>\n",
       "  <tbody>\n",
       "    <tr>\n",
       "      <th>196</th>\n",
       "      <td>Stiri si analize</td>\n",
       "      <td>www.digi24.ro</td>\n",
       "      <td>digi24ro</td>\n",
       "      <td>Digi Romania SA</td>\n",
       "      <td>Digi Romania SA</td>\n",
       "      <td>Digi Romania SA</td>\n",
       "      <td>3897698</td>\n",
       "      <td>stisiana</td>\n",
       "    </tr>\n",
       "    <tr>\n",
       "      <th>328</th>\n",
       "      <td>Sport</td>\n",
       "      <td>www.gsp.ro</td>\n",
       "      <td>gspro</td>\n",
       "      <td>Ringier Romania SRL</td>\n",
       "      <td>Ringier Romania SRL</td>\n",
       "      <td>Ringier Romania SRL</td>\n",
       "      <td>3676095</td>\n",
       "      <td>spo</td>\n",
       "    </tr>\n",
       "  </tbody>\n",
       "</table>\n",
       "</div>"
      ],
      "text/plain": [
       "            categorie           site  sitecode          editor site  \\\n",
       "196  Stiri si analize  www.digi24.ro  digi24ro      Digi Romania SA   \n",
       "328             Sport     www.gsp.ro     gspro  Ringier Romania SRL   \n",
       "\n",
       "         contractor sati regie de publicitate  afisari       cat  \n",
       "196      Digi Romania SA      Digi Romania SA  3897698  stisiana  \n",
       "328  Ringier Romania SRL  Ringier Romania SRL  3676095       spo  "
      ]
     },
     "execution_count": 23,
     "metadata": {},
     "output_type": "execute_result"
    }
   ],
   "source": [
    "exclude = ['nr.', 'tip trafic', 'afisari', 'vizite', 'clienti unici', ]\n",
    "\n",
    "exclude = ['nr.', 'tip trafic', 'vizite', 'clienti unici', ]\n",
    "websites = df_total[df_total.columns[~df_total.columns.isin(exclude)]]\n",
    "\n",
    "print(websites.shape)\n",
    "websites.head(2)"
   ]
  },
  {
   "cell_type": "code",
   "execution_count": 24,
   "id": "dfe65859-d99d-4ff8-bd0a-bb2acdbe6d26",
   "metadata": {},
   "outputs": [
    {
     "data": {
      "text/plain": [
       "195"
      ]
     },
     "execution_count": 24,
     "metadata": {},
     "output_type": "execute_result"
    }
   ],
   "source": [
    "unique_sites = db['brat'].distinct(\"site\")\n",
    "\n",
    "len(unique_sites)"
   ]
  },
  {
   "cell_type": "code",
   "execution_count": 25,
   "id": "fdf76661-d28c-4e7c-b513-c90f8e425e00",
   "metadata": {
    "scrolled": true
   },
   "outputs": [
    {
     "data": {
      "text/plain": [
       "['www.4tuning.ro',\n",
       " 'www.7lucruri.ro',\n",
       " 'www.a1.ro',\n",
       " 'www.adevarul.ro',\n",
       " 'www.agrointel.ro',\n",
       " 'www.alba24.ro',\n",
       " 'www.alephbusiness.ro',\n",
       " 'www.alephnews.ro',\n",
       " 'www.ambasadoriistiintei.ro',\n",
       " 'www.antena3.ro',\n",
       " 'www.antenasatelor.ro',\n",
       " 'www.antenastars.ro',\n",
       " 'www.as.ro',\n",
       " 'www.automarket.ro',\n",
       " 'www.autovit.ro',\n",
       " 'www.avantaje.ro',\n",
       " 'www.avocatnet.ro',\n",
       " 'www.b1tv.ro',\n",
       " 'www.b365.ro',\n",
       " 'www.bizbrasov.ro',\n",
       " 'www.bucataras.ro',\n",
       " 'www.bugetul.ro',\n",
       " 'www.businessmagazin.ro',\n",
       " 'www.canal33.ro',\n",
       " 'www.cancan.ro',\n",
       " 'www.capital.ro',\n",
       " 'www.catchy.ro',\n",
       " 'www.catine.ro',\n",
       " 'www.ciao.ro',\n",
       " 'www.cinemagia.ro',\n",
       " 'www.click.ro',\n",
       " 'www.clickpentrufemei.ro',\n",
       " 'www.clickpoftabuna.ro',\n",
       " 'www.clicksanatate.ro',\n",
       " 'www.clubulbebelusilor.ro',\n",
       " 'www.conso.ro',\n",
       " 'www.cotidianul.ro',\n",
       " 'www.crisana.ro',\n",
       " 'www.csid.ro',\n",
       " 'www.culinar.ro',\n",
       " 'www.cursdeguvernare.ro',\n",
       " 'www.dailybusiness.ro',\n",
       " 'www.dcnews.ro',\n",
       " 'www.defapt.ro',\n",
       " 'www.deparinti.ro',\n",
       " 'www.descopera.ro',\n",
       " 'www.desprecopii.com',\n",
       " 'www.digi-animalworld.tv',\n",
       " 'www.digi-world.tv',\n",
       " 'www.digi24.ro',\n",
       " 'www.digifm.ro',\n",
       " 'www.digisport.ro',\n",
       " 'www.dilemaveche.ro',\n",
       " 'www.divahair.ro',\n",
       " 'www.doc.ro',\n",
       " 'www.doctorulzilei.ro',\n",
       " 'www.ebihoreanul.ro',\n",
       " 'www.economedia.ro',\n",
       " 'www.economica.net',\n",
       " 'www.ecopolitic.ro',\n",
       " 'www.educatieprivata.ro',\n",
       " 'www.edupedu.ro',\n",
       " 'www.elle.ro',\n",
       " 'www.euractiv.ro',\n",
       " 'www.euronews.ro',\n",
       " 'www.europafm.ro',\n",
       " 'www.eva.ro',\n",
       " 'www.evenimentulistoric.ro',\n",
       " 'www.evz.ro',\n",
       " 'www.expertulbanilor.ro',\n",
       " 'www.fanatik.ro',\n",
       " 'www.farmaciata.ro',\n",
       " 'www.feminis.ro',\n",
       " 'www.filmnow.ro',\n",
       " 'www.finzoom.ro',\n",
       " 'www.g4food.ro',\n",
       " 'www.g4media.ro',\n",
       " 'www.gadgetreport.ro',\n",
       " 'www.gandul.ro',\n",
       " 'www.garbo.ro',\n",
       " 'www.go4it.ro',\n",
       " 'www.greatnews.ro',\n",
       " 'www.gsp.ro',\n",
       " 'www.guerrillaradio.ro',\n",
       " 'www.gustos.ro',\n",
       " 'www.hellotaste.ro',\n",
       " 'www.historia.ro',\n",
       " 'www.hotnews.ro',\n",
       " 'www.iamsport.ro',\n",
       " 'www.idevice.ro',\n",
       " 'www.imobiliare.ro',\n",
       " 'www.infoactual.ro',\n",
       " 'www.infofinanciar.ro',\n",
       " 'www.kanald.ro',\n",
       " 'www.kfetele.ro',\n",
       " 'www.kissfm.ro',\n",
       " 'www.kolozsvariradio.ro',\n",
       " 'www.kudika.ro',\n",
       " 'www.libertatea.ro',\n",
       " 'www.libertateapentrufemei.ro',\n",
       " 'www.life.ro',\n",
       " 'www.lovedeco.ro',\n",
       " 'www.magicfm.ro',\n",
       " 'www.manager.ro',\n",
       " 'www.mediafax.ro',\n",
       " 'www.medicool.ro',\n",
       " 'www.money.ro',\n",
       " 'www.monitorulcj.ro',\n",
       " 'www.news.ro',\n",
       " 'www.newsbucuresti.ro',\n",
       " 'www.newsweek.ro',\n",
       " 'www.obiectiv.info',\n",
       " 'www.observatornews.ro',\n",
       " 'www.observatorulph.ro',\n",
       " 'www.okmagazine.ro',\n",
       " 'www.olx.ro',\n",
       " 'www.onefm.ro',\n",
       " 'www.orademedias.ro',\n",
       " 'www.oradesibiu.ro',\n",
       " 'www.orangesport.ro',\n",
       " 'www.paginiaurii.ro',\n",
       " 'www.panorama.ro',\n",
       " 'www.peroz.ro',\n",
       " 'www.pieseauto.ro',\n",
       " 'www.profit.ro',\n",
       " 'www.profm.ro',\n",
       " 'www.promotor.ro',\n",
       " 'www.prosport.ro',\n",
       " 'www.protv.ro',\n",
       " 'www.qbebe.ro',\n",
       " 'www.radiobrasovfm.ro',\n",
       " 'www.radiocluj.ro',\n",
       " 'www.radioimpuls.ro',\n",
       " 'www.radioresita.ro',\n",
       " 'www.radioromania.ro',\n",
       " 'www.radioromaniacultural.ro',\n",
       " 'www.radioromaniasport.ro',\n",
       " 'www.radiotimisoara.ro',\n",
       " 'www.radiovacanta.ro',\n",
       " 'www.radiozu.ro',\n",
       " 'www.raziculacrimi.ro',\n",
       " 'www.reteteculinare.ro',\n",
       " 'www.retetefeldefel.ro',\n",
       " 'www.rfi.fr/ro',\n",
       " 'www.rockfm.ro',\n",
       " 'www.rohealthreview.ro',\n",
       " 'www.romania-actualitati.ro',\n",
       " 'www.romania-insider.com',\n",
       " 'www.romaniatv.net',\n",
       " 'www.romanticfm.ro',\n",
       " 'www.rri.ro',\n",
       " 'www.sanatatea.tv',\n",
       " 'www.sfatulmedicului.ro',\n",
       " 'www.sfatulparintilor.ro',\n",
       " 'www.slabsaugras.ro',\n",
       " 'www.smartliving.ro',\n",
       " 'www.smartradio.ro',\n",
       " 'www.smartv.media',\n",
       " 'www.sport.ro',\n",
       " 'www.sportbull.ro',\n",
       " 'www.spotmedia.ro',\n",
       " 'www.spynews.ro',\n",
       " 'www.srr.ro',\n",
       " 'www.startupcafe.ro',\n",
       " 'www.stirilekanald.ro',\n",
       " 'www.stirileprotv.ro',\n",
       " 'www.stiripesurse.ro',\n",
       " 'www.storia.ro',\n",
       " 'www.suntmamica.ro',\n",
       " 'www.superbebe.ro',\n",
       " 'www.tabu.ro',\n",
       " 'www.timesnewroman.ro',\n",
       " 'www.totuldespremame.ro',\n",
       " 'www.tpu.ro',\n",
       " 'www.transilvaniabusiness.ro',\n",
       " 'www.tvhappy.ro',\n",
       " 'www.tvmania.ro',\n",
       " 'www.tvr.ro',\n",
       " 'www.tvrinfo.ro',\n",
       " 'www.unica.ro',\n",
       " 'www.urban.ro',\n",
       " 'www.useit.ro',\n",
       " 'www.utv.ro',\n",
       " 'www.viata-libera.ro',\n",
       " 'www.virginradio.ro',\n",
       " 'www.viva.ro',\n",
       " 'www.wall-street.ro',\n",
       " 'www.wowbiz.ro',\n",
       " 'www.zf.ro',\n",
       " 'www.zi-de-zi.ro',\n",
       " 'www.ziare.com',\n",
       " 'www.ziaristii.com',\n",
       " 'www.ziaruldeiasi.ro',\n",
       " 'www.ziarullumina.ro',\n",
       " 'www.zutv.ro']"
      ]
     },
     "execution_count": 25,
     "metadata": {},
     "output_type": "execute_result"
    }
   ],
   "source": [
    "unique_sites"
   ]
  },
  {
   "cell_type": "code",
   "execution_count": 26,
   "id": "141afded-c493-42a9-b7e1-b77200691579",
   "metadata": {
    "scrolled": true
   },
   "outputs": [
    {
     "name": "stdout",
     "output_type": "stream",
     "text": [
      "194\n"
     ]
    }
   ],
   "source": [
    "ops = []\n",
    "\n",
    "for idx, row in websites.iterrows():\n",
    "    row = row.to_dict()\n",
    "    \n",
    "    ops.append(UpdateOne({'site': row.pop('site', None)}, {'$set': row}, upsert=True))\n",
    "\n",
    "print(len(ops))\n",
    "    \n",
    "result = db['websites'].bulk_write(ops)"
   ]
  },
  {
   "cell_type": "code",
   "execution_count": 27,
   "id": "5d04b015-8e25-4728-9ce8-5da2e0d4f2b7",
   "metadata": {
    "scrolled": true
   },
   "outputs": [],
   "source": [
    "# result"
   ]
  },
  {
   "cell_type": "code",
   "execution_count": 28,
   "id": "6bf8a182-2037-4f04-99ba-ae2b81b0ec2f",
   "metadata": {},
   "outputs": [
    {
     "data": {
      "text/plain": [
       "UpdateOne({'site': 'www.digi24.ro'}, {'$set': {'categorie': 'Stiri si analize', 'sitecode': 'digi24ro', 'editor site': 'Digi Romania SA', 'contractor sati': 'Digi Romania SA', 'regie de publicitate': 'Digi Romania SA', 'afisari': 3897698, 'cat': 'stisiana'}}, True, None, None, None)"
      ]
     },
     "execution_count": 28,
     "metadata": {},
     "output_type": "execute_result"
    }
   ],
   "source": [
    "ops[0]"
   ]
  },
  {
   "cell_type": "code",
   "execution_count": null,
   "id": "eea7440e-1f32-46cd-8618-a5bc305e36ca",
   "metadata": {},
   "outputs": [],
   "source": []
  },
  {
   "cell_type": "code",
   "execution_count": null,
   "id": "f9ef8ba6-0568-407b-8e97-1de5cdb1dd38",
   "metadata": {},
   "outputs": [],
   "source": []
  },
  {
   "cell_type": "code",
   "execution_count": null,
   "id": "a08d4b87-6a9b-4aab-a795-47b6d513359d",
   "metadata": {},
   "outputs": [],
   "source": []
  },
  {
   "cell_type": "code",
   "execution_count": 35,
   "id": "9c225d37-0664-4546-8fa7-7a44fde15492",
   "metadata": {},
   "outputs": [
    {
     "data": {
      "text/plain": [
       "['www.digi24.ro',\n",
       " 'www.gsp.ro',\n",
       " 'www.digisport.ro',\n",
       " 'www.stiripesurse.ro',\n",
       " 'www.hotnews.ro',\n",
       " 'www.libertatea.ro',\n",
       " 'www.g4media.ro',\n",
       " 'www.romaniatv.net',\n",
       " 'www.prosport.ro',\n",
       " 'www.stirileprotv.ro',\n",
       " 'www.adevarul.ro',\n",
       " 'www.sport.ro',\n",
       " 'www.ziare.com',\n",
       " 'www.viva.ro',\n",
       " 'www.cancan.ro',\n",
       " 'www.evz.ro',\n",
       " 'www.fanatik.ro',\n",
       " 'www.autovit.ro',\n",
       " 'www.antena3.ro',\n",
       " 'www.mediafax.ro']"
      ]
     },
     "execution_count": 35,
     "metadata": {},
     "output_type": "execute_result"
    }
   ],
   "source": [
    "df_total[:20].site.tolist()"
   ]
  },
  {
   "cell_type": "code",
   "execution_count": null,
   "id": "d6445030-835f-4854-8b01-96a9c1361c4f",
   "metadata": {},
   "outputs": [],
   "source": []
  },
  {
   "cell_type": "code",
   "execution_count": null,
   "id": "2bfcad30-0dcd-4479-84e2-e070e21cd757",
   "metadata": {},
   "outputs": [],
   "source": []
  },
  {
   "cell_type": "code",
   "execution_count": null,
   "id": "328696d4-98c7-4066-b9c8-94592f479f85",
   "metadata": {},
   "outputs": [],
   "source": []
  },
  {
   "cell_type": "code",
   "execution_count": null,
   "id": "5f619a05-303a-40d4-8566-3d113058cb3a",
   "metadata": {},
   "outputs": [],
   "source": []
  },
  {
   "cell_type": "code",
   "execution_count": null,
   "id": "ecde90ea-065c-48cd-89f5-cdcc6d131e61",
   "metadata": {},
   "outputs": [],
   "source": []
  },
  {
   "cell_type": "code",
   "execution_count": null,
   "id": "9c7031a3-494a-432a-aba1-d8d53bb0ccb6",
   "metadata": {},
   "outputs": [],
   "source": []
  },
  {
   "cell_type": "code",
   "execution_count": null,
   "id": "df5f1f50-fc3f-4f8d-b93e-15192960f5c7",
   "metadata": {},
   "outputs": [],
   "source": []
  },
  {
   "cell_type": "code",
   "execution_count": null,
   "id": "ece659ad-b1fb-4bd5-a136-cae374e9e4eb",
   "metadata": {},
   "outputs": [],
   "source": []
  },
  {
   "cell_type": "code",
   "execution_count": null,
   "id": "fb566c92-4e21-41ca-9092-0584cdd8dad7",
   "metadata": {},
   "outputs": [],
   "source": []
  },
  {
   "cell_type": "code",
   "execution_count": null,
   "id": "6961bf34-7468-4115-8509-00b8f85c481f",
   "metadata": {},
   "outputs": [],
   "source": []
  },
  {
   "cell_type": "code",
   "execution_count": null,
   "id": "36ab4e43-ce3c-4dd2-a247-bd742607d23d",
   "metadata": {},
   "outputs": [],
   "source": []
  }
 ],
 "metadata": {
  "kernelspec": {
   "display_name": "Python 3 (ipykernel)",
   "language": "python",
   "name": "python3"
  },
  "language_info": {
   "codemirror_mode": {
    "name": "ipython",
    "version": 3
   },
   "file_extension": ".py",
   "mimetype": "text/x-python",
   "name": "python",
   "nbconvert_exporter": "python",
   "pygments_lexer": "ipython3",
   "version": "3.12.7"
  }
 },
 "nbformat": 4,
 "nbformat_minor": 5
}
