{
 "cells": [
  {
   "cell_type": "code",
   "execution_count": 1,
   "id": "a4745021-6d95-4bf4-9fde-37c299b9f629",
   "metadata": {},
   "outputs": [],
   "source": [
    "%load_ext autoreload\n",
    "%autoreload 2"
   ]
  },
  {
   "cell_type": "code",
   "execution_count": 2,
   "id": "52c554c8-18c4-4002-b402-1395ceb56d05",
   "metadata": {},
   "outputs": [],
   "source": [
    "import warnings\n",
    "warnings.filterwarnings('ignore')"
   ]
  },
  {
   "cell_type": "code",
   "execution_count": 3,
   "id": "7765391b-7ef3-4698-94d8-a1986ab6ee97",
   "metadata": {},
   "outputs": [],
   "source": [
    "from langchain.text_splitter import RecursiveCharacterTextSplitter\n",
    "from openai import OpenAI\n",
    "from pinecone import Pinecone, ServerlessSpec\n",
    "from tqdm.auto import tqdm, trange\n",
    "from DLAIUtils import Utils\n",
    "\n",
    "import pandas as pd\n",
    "import time\n",
    "import os"
   ]
  },
  {
   "cell_type": "markdown",
   "id": "558f517e-d5d6-4fc7-9e69-663904d420dc",
   "metadata": {},
   "source": [
    "### Setup APIs"
   ]
  },
  {
   "cell_type": "code",
   "execution_count": 50,
   "id": "81fd90e2-cbe6-4956-a802-85a5264fcbfc",
   "metadata": {},
   "outputs": [],
   "source": [
    "utils = Utils()\n",
    "PINECONE_API_KEY = utils.get_pinecone_api_key()\n",
    "OPENAI_API_KEY = utils.get_openai_api_key()\n",
    "openai_client = OpenAI(api_key=OPENAI_API_KEY)"
   ]
  },
  {
   "cell_type": "code",
   "execution_count": 51,
   "id": "8f0c268a-22d1-481b-b1eb-2113432c08d1",
   "metadata": {},
   "outputs": [],
   "source": [
    "# INDEX_NAME = utils.create_dlai_index_name('dl-ai')\n",
    "# pinecone = Pinecone(api_key=PINECONE_API_KEY)\n",
    "\n",
    "# if INDEX_NAME in [index.name for index in pinecone.list_indexes()]:\n",
    "#   pinecone.delete_index(INDEX_NAME)\n",
    "\n",
    "# pinecone.create_index(name=INDEX_NAME, dimension=1536, metric='cosine',\n",
    "#   spec=ServerlessSpec(cloud='aws', region='us-east-1'))\n",
    "\n",
    "# index = pinecone.Index(INDEX_NAME)"
   ]
  },
  {
   "cell_type": "code",
   "execution_count": 52,
   "id": "ee483b8b-5e8c-4443-a13f-2ad0b700f89e",
   "metadata": {},
   "outputs": [],
   "source": [
    "# pinecone.list_indexes()"
   ]
  },
  {
   "cell_type": "code",
   "execution_count": 54,
   "id": "8a0e56b0-0447-4c1f-ab03-b998d3cec18b",
   "metadata": {},
   "outputs": [],
   "source": [
    "pinecone = Pinecone(api_key=PINECONE_API_KEY)\n",
    "INDEX_NAME = utils.create_dlai_index_name('dl-ai')\n",
    "\n",
    "index = utils.get_pinecone_index(INDEX_NAME, pinecone)"
   ]
  },
  {
   "cell_type": "markdown",
   "id": "4b585cca-7e1c-482b-abd5-fb5336531061",
   "metadata": {},
   "source": [
    "### Load data"
   ]
  },
  {
   "cell_type": "code",
   "execution_count": 55,
   "id": "11075c81-1ea5-4255-83a9-01206810766e",
   "metadata": {},
   "outputs": [],
   "source": [
    "data_csv = \"E:\\data\\dl_ai_data\\\\all-the-news-3.csv\""
   ]
  },
  {
   "cell_type": "code",
   "execution_count": 56,
   "id": "a63a343b-8325-4e28-83e8-4a28f6109758",
   "metadata": {},
   "outputs": [
    {
     "name": "stdout",
     "output_type": "stream",
     "text": [
      "date,year,month,day,author,title,article,url,section,publication\n",
      "\n"
     ]
    }
   ],
   "source": [
    "with open(data_csv, 'r') as f:\n",
    "    header = f.readline()\n",
    "    print(header)"
   ]
  },
  {
   "cell_type": "code",
   "execution_count": 57,
   "id": "b1b6a527-91ed-46b2-8ae6-4d6b6c0161e2",
   "metadata": {},
   "outputs": [
    {
     "data": {
      "text/html": [
       "<div>\n",
       "<style scoped>\n",
       "    .dataframe tbody tr th:only-of-type {\n",
       "        vertical-align: middle;\n",
       "    }\n",
       "\n",
       "    .dataframe tbody tr th {\n",
       "        vertical-align: top;\n",
       "    }\n",
       "\n",
       "    .dataframe thead th {\n",
       "        text-align: right;\n",
       "    }\n",
       "</style>\n",
       "<table border=\"1\" class=\"dataframe\">\n",
       "  <thead>\n",
       "    <tr style=\"text-align: right;\">\n",
       "      <th></th>\n",
       "      <th>date</th>\n",
       "      <th>year</th>\n",
       "      <th>month</th>\n",
       "      <th>day</th>\n",
       "      <th>author</th>\n",
       "      <th>title</th>\n",
       "      <th>article</th>\n",
       "      <th>url</th>\n",
       "      <th>section</th>\n",
       "      <th>publication</th>\n",
       "    </tr>\n",
       "  </thead>\n",
       "  <tbody>\n",
       "    <tr>\n",
       "      <th>0</th>\n",
       "      <td>2016-12-09 18:31:00</td>\n",
       "      <td>2016</td>\n",
       "      <td>12.0</td>\n",
       "      <td>9</td>\n",
       "      <td>Lee Drutman</td>\n",
       "      <td>We should take concerns about the health of li...</td>\n",
       "      <td>This post is part of Polyarchy, an independent...</td>\n",
       "      <td>https://www.vox.com/polyarchy/2016/12/9/138983...</td>\n",
       "      <td>NaN</td>\n",
       "      <td>Vox</td>\n",
       "    </tr>\n",
       "    <tr>\n",
       "      <th>1</th>\n",
       "      <td>2016-10-07 21:26:46</td>\n",
       "      <td>2016</td>\n",
       "      <td>10.0</td>\n",
       "      <td>7</td>\n",
       "      <td>Scott Davis</td>\n",
       "      <td>Colts GM Ryan Grigson says Andrew Luck's contr...</td>\n",
       "      <td>The Indianapolis Colts made Andrew Luck the h...</td>\n",
       "      <td>https://www.businessinsider.com/colts-gm-ryan-...</td>\n",
       "      <td>NaN</td>\n",
       "      <td>Business Insider</td>\n",
       "    </tr>\n",
       "    <tr>\n",
       "      <th>2</th>\n",
       "      <td>2018-01-26 00:00:00</td>\n",
       "      <td>2018</td>\n",
       "      <td>1.0</td>\n",
       "      <td>26</td>\n",
       "      <td>NaN</td>\n",
       "      <td>Trump denies report he ordered Mueller fired</td>\n",
       "      <td>DAVOS, Switzerland (Reuters) - U.S. President ...</td>\n",
       "      <td>https://www.reuters.com/article/us-davos-meeti...</td>\n",
       "      <td>Davos</td>\n",
       "      <td>Reuters</td>\n",
       "    </tr>\n",
       "    <tr>\n",
       "      <th>3</th>\n",
       "      <td>2019-06-27 00:00:00</td>\n",
       "      <td>2019</td>\n",
       "      <td>6.0</td>\n",
       "      <td>27</td>\n",
       "      <td>NaN</td>\n",
       "      <td>France's Sarkozy reveals his 'Passions' but in...</td>\n",
       "      <td>PARIS (Reuters) - Former French president Nico...</td>\n",
       "      <td>https://www.reuters.com/article/france-politic...</td>\n",
       "      <td>World News</td>\n",
       "      <td>Reuters</td>\n",
       "    </tr>\n",
       "    <tr>\n",
       "      <th>4</th>\n",
       "      <td>2016-01-27 00:00:00</td>\n",
       "      <td>2016</td>\n",
       "      <td>1.0</td>\n",
       "      <td>27</td>\n",
       "      <td>NaN</td>\n",
       "      <td>Paris Hilton: Woman In Black For Uncle Monty's...</td>\n",
       "      <td>Paris Hilton arrived at LAX Wednesday dressed ...</td>\n",
       "      <td>https://www.tmz.com/2016/01/27/paris-hilton-mo...</td>\n",
       "      <td>NaN</td>\n",
       "      <td>TMZ</td>\n",
       "    </tr>\n",
       "  </tbody>\n",
       "</table>\n",
       "</div>"
      ],
      "text/plain": [
       "                  date  year  month  day       author  \\\n",
       "0  2016-12-09 18:31:00  2016   12.0    9  Lee Drutman   \n",
       "1  2016-10-07 21:26:46  2016   10.0    7  Scott Davis   \n",
       "2  2018-01-26 00:00:00  2018    1.0   26          NaN   \n",
       "3  2019-06-27 00:00:00  2019    6.0   27          NaN   \n",
       "4  2016-01-27 00:00:00  2016    1.0   27          NaN   \n",
       "\n",
       "                                               title  \\\n",
       "0  We should take concerns about the health of li...   \n",
       "1  Colts GM Ryan Grigson says Andrew Luck's contr...   \n",
       "2       Trump denies report he ordered Mueller fired   \n",
       "3  France's Sarkozy reveals his 'Passions' but in...   \n",
       "4  Paris Hilton: Woman In Black For Uncle Monty's...   \n",
       "\n",
       "                                             article  \\\n",
       "0  This post is part of Polyarchy, an independent...   \n",
       "1   The Indianapolis Colts made Andrew Luck the h...   \n",
       "2  DAVOS, Switzerland (Reuters) - U.S. President ...   \n",
       "3  PARIS (Reuters) - Former French president Nico...   \n",
       "4  Paris Hilton arrived at LAX Wednesday dressed ...   \n",
       "\n",
       "                                                 url     section  \\\n",
       "0  https://www.vox.com/polyarchy/2016/12/9/138983...         NaN   \n",
       "1  https://www.businessinsider.com/colts-gm-ryan-...         NaN   \n",
       "2  https://www.reuters.com/article/us-davos-meeti...       Davos   \n",
       "3  https://www.reuters.com/article/france-politic...  World News   \n",
       "4  https://www.tmz.com/2016/01/27/paris-hilton-mo...         NaN   \n",
       "\n",
       "        publication  \n",
       "0               Vox  \n",
       "1  Business Insider  \n",
       "2           Reuters  \n",
       "3           Reuters  \n",
       "4               TMZ  "
      ]
     },
     "execution_count": 57,
     "metadata": {},
     "output_type": "execute_result"
    }
   ],
   "source": [
    "df = pd.read_csv(data_csv, nrows=99)\n",
    "df.head()"
   ]
  },
  {
   "cell_type": "code",
   "execution_count": 58,
   "id": "c2b83c56-dd6b-410f-9eb9-98aab7b575a6",
   "metadata": {},
   "outputs": [
    {
     "data": {
      "text/plain": [
       "date                                         2016-12-09 18:31:00\n",
       "year                                                        2016\n",
       "month                                                       12.0\n",
       "day                                                            9\n",
       "author                                               Lee Drutman\n",
       "title          We should take concerns about the health of li...\n",
       "article        This post is part of Polyarchy, an independent...\n",
       "url            https://www.vox.com/polyarchy/2016/12/9/138983...\n",
       "section                                                      NaN\n",
       "publication                                                  Vox\n",
       "Name: 0, dtype: object"
      ]
     },
     "execution_count": 58,
     "metadata": {},
     "output_type": "execute_result"
    }
   ],
   "source": [
    "df.iloc[0]"
   ]
  },
  {
   "cell_type": "markdown",
   "id": "e0485c51-27fd-41f3-b1fa-04d9e7e2cf14",
   "metadata": {},
   "source": [
    "### Embedd titles"
   ]
  },
  {
   "cell_type": "code",
   "execution_count": 59,
   "id": "033cb0c5-0114-44e0-a623-d4e2fe2c12c3",
   "metadata": {},
   "outputs": [],
   "source": [
    "def get_embeddings(text, model=\"text-embedding-ada-002\"):\n",
    "   return openai_client.embeddings.create(input = text, model=model)"
   ]
  },
  {
   "cell_type": "code",
   "execution_count": 60,
   "id": "18995742-7391-4753-af99-38e384343f83",
   "metadata": {},
   "outputs": [
    {
     "name": "stderr",
     "output_type": "stream",
     "text": [
      "100%|█████████████████████████████████████████████████████████████████████| 10000/10000 [02:33<00:00, 69.85it/s]"
     ]
    }
   ],
   "source": [
    "CHUNK_SIZE=400\n",
    "TOTAL_ROWS=10000\n",
    "\n",
    "progress_bar = tqdm(total=TOTAL_ROWS)\n",
    "\n",
    "chunks = pd.read_csv(data_csv, chunksize=CHUNK_SIZE, \n",
    "                     nrows=TOTAL_ROWS)\n",
    "chunk_num = 0\n",
    "\n",
    "for chunk in chunks:\n",
    "    titles = chunk['title'].tolist()\n",
    "    embeddings = get_embeddings(titles)\n",
    "    \n",
    "    prepped = [\n",
    "        {\n",
    "            'id':str(chunk_num*CHUNK_SIZE+i),\n",
    "            'values':embeddings.data[i].embedding,\n",
    "            'metadata': {\n",
    "                'title':titles[i]\n",
    "            },\n",
    "            } for i in range(0,len(titles))\n",
    "    ]\n",
    "    \n",
    "    chunk_num = chunk_num + 1\n",
    "    \n",
    "    if len(prepped) >= 200:\n",
    "      index.upsert(prepped)\n",
    "      prepped = []\n",
    "    \n",
    "    progress_bar.update(len(chunk))"
   ]
  },
  {
   "cell_type": "code",
   "execution_count": 61,
   "id": "9ebc2988-c5d3-4556-a544-b0c408373c91",
   "metadata": {},
   "outputs": [
    {
     "data": {
      "text/plain": [
       "{'dimension': 1536,\n",
       " 'index_fullness': 0.0,\n",
       " 'namespaces': {'': {'vector_count': 10000}},\n",
       " 'total_vector_count': 10000}"
      ]
     },
     "execution_count": 61,
     "metadata": {},
     "output_type": "execute_result"
    }
   ],
   "source": [
    "index.describe_index_stats()"
   ]
  },
  {
   "cell_type": "markdown",
   "id": "18e3508e-72dc-4784-beed-5795c49f754d",
   "metadata": {},
   "source": [
    "### Recommender"
   ]
  },
  {
   "cell_type": "code",
   "execution_count": 62,
   "id": "fe685409-0634-45d4-8915-a14c22e64d68",
   "metadata": {},
   "outputs": [],
   "source": [
    "def get_recommendations(pinecone_index, search_term, top_k=10):\n",
    "  embed = get_embeddings([search_term]).data[0].embedding\n",
    "  res = pinecone_index.query(vector=embed, top_k=top_k, include_metadata=True)\n",
    "  return res"
   ]
  },
  {
   "cell_type": "code",
   "execution_count": 63,
   "id": "8c385b50-bd7b-438c-bdd9-7d84dc0bdddc",
   "metadata": {},
   "outputs": [
    {
     "name": "stdout",
     "output_type": "stream",
     "text": [
      "0.810361087 : 'Lucy's Crush,' Today's Comic by Akvile Magicdust\n",
      "0.793873727 : A disciple of Brazil's dictatorship moves closer to the presidency\n",
      "0.789339423 : Blaise Cendrars: A Poet for the Twenty-First Century\n",
      "0.788513303 : The Incredible Prescience of Leonardo da Vinci\n",
      "0.784133732 : Liliana Porter Shows How Everything Familiar Must Be Magnified or Forgotten\n",
      "0.782182634 : Arto Lindsay Explores the Brazilian Avant-Garde at the Whitney Museum\n",
      "0.782138944 : The Halcyon Days of Postcolonial Mali Through the Lens of Malick Sidibé\n",
      "0.78121978 : Ricotta Pansotti \n",
      "0.781023145 : Larry Fink Illuminates the Drama of Boxing\n",
      "0.780783474 : Sun Ra Had It Right\n"
     ]
    },
    {
     "name": "stderr",
     "output_type": "stream",
     "text": [
      "100%|█████████████████████████████████████████████████████████████████████| 10000/10000 [02:50<00:00, 69.85it/s]"
     ]
    }
   ],
   "source": [
    "reco = get_recommendations(index, 'lucian')\n",
    "for r in reco.matches:\n",
    "    print(f'{r.score} : {r.metadata[\"title\"]}')"
   ]
  },
  {
   "cell_type": "markdown",
   "id": "2ac531bf-176b-44d6-b00a-96d5f27350d5",
   "metadata": {},
   "source": [
    "### Embedd articles"
   ]
  },
  {
   "cell_type": "code",
   "execution_count": 64,
   "id": "c7165d9f-8a1d-4b97-bfdd-17a50931e039",
   "metadata": {},
   "outputs": [],
   "source": [
    "# reset index and embedd articles\n",
    "index = utils.get_pinecone_index(INDEX_NAME, pinecone)"
   ]
  },
  {
   "cell_type": "code",
   "execution_count": 69,
   "id": "4f661de5-e48b-466e-9a1f-82f244d0754f",
   "metadata": {},
   "outputs": [],
   "source": [
    "def embed_articles(embeddings, title, prepped, embed_num):\n",
    "    for embedding in embeddings.data:\n",
    "        prepped.append(\n",
    "            {\n",
    "                'id':str(embed_num), \n",
    "                'values':embedding.embedding, \n",
    "                'metadata':{'title':title}\n",
    "            }\n",
    "        )\n",
    "        embed_num += 1\n",
    "        \n",
    "        if len(prepped) >= 100:\n",
    "            index.upsert(prepped)\n",
    "            prepped.clear()\n",
    "\n",
    "    return embed_num"
   ]
  },
  {
   "cell_type": "code",
   "execution_count": 67,
   "id": "81231f45-10bf-4192-b06c-56021dae5d68",
   "metadata": {},
   "outputs": [],
   "source": [
    "news_data_rows_num = 100\n",
    "\n",
    "text_splitter = RecursiveCharacterTextSplitter(\n",
    "    chunk_size=400, \n",
    "    chunk_overlap=20\n",
    ") # how to chunk each article\n",
    "\n",
    "df = pd.read_csv(data_csv, nrows=news_data_rows_num)\n",
    "articles_list = df['article'].tolist()\n",
    "titles_list = df['title'].tolist()"
   ]
  },
  {
   "cell_type": "code",
   "execution_count": 70,
   "id": "36160ce2-18b3-40db-b2da-3c10641e0596",
   "metadata": {},
   "outputs": [
    {
     "name": "stdout",
     "output_type": "stream",
     "text": [
      "...................................................................................................."
     ]
    }
   ],
   "source": [
    "prepped = []\n",
    "embed_num = 0 #keep track of embedding number for 'id'\n",
    "\n",
    "for i in range(0, len(articles_list)):\n",
    "    print(\".\",end=\"\")\n",
    "    art = articles_list[i]\n",
    "    title = titles_list[i]\n",
    "    \n",
    "    if art is not None and isinstance(art, str):\n",
    "      texts = text_splitter.split_text(art)\n",
    "      embeddings = get_embeddings(texts)\n",
    "      embed_num = embed_articles(embeddings, title, prepped, embed_num)"
   ]
  },
  {
   "cell_type": "code",
   "execution_count": null,
   "id": "6aca981a-f160-4818-b482-1c6fa503f5f1",
   "metadata": {},
   "outputs": [],
   "source": [
    "reco = get_recommendations(articles_index, 'obama', top_k=100)\n",
    "seen = {}\n",
    "for r in reco.matches:\n",
    "    title = r.metadata['title']\n",
    "    if title not in seen:\n",
    "        print(f'{r.score} : {title}')\n",
    "        seen[title] = '.'"
   ]
  },
  {
   "cell_type": "code",
   "execution_count": null,
   "id": "3dff9b55-5cea-4cbf-9386-d49cc578ad1e",
   "metadata": {},
   "outputs": [],
   "source": []
  }
 ],
 "metadata": {
  "kernelspec": {
   "display_name": "Python 3 (ipykernel)",
   "language": "python",
   "name": "python3"
  },
  "language_info": {
   "codemirror_mode": {
    "name": "ipython",
    "version": 3
   },
   "file_extension": ".py",
   "mimetype": "text/x-python",
   "name": "python",
   "nbconvert_exporter": "python",
   "pygments_lexer": "ipython3",
   "version": "3.10.14"
  }
 },
 "nbformat": 4,
 "nbformat_minor": 5
}
